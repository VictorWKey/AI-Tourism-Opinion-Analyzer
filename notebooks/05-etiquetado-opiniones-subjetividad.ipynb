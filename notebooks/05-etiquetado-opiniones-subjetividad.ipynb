{
 "cells": [
  {
   "cell_type": "markdown",
   "id": "46853b81",
   "metadata": {},
   "source": [
    "# Etiquetado de Opiniones por Subjetividad\n",
    "\n",
    "Este notebook implementa un sistema de clasificación automática de reseñas turísticas en tres categorías:\n",
    "- **Objetiva**: contiene únicamente hechos verificables\n",
    "- **Subjetiva**: contiene opiniones, juicios personales o sentimientos \n",
    "- **Mixta**: combina hechos verificables con opiniones\n",
    "\n",
    "Utiliza LangChain con GPT-4o-mini para realizar la clasificación con structured output."
   ]
  },
  {
   "cell_type": "code",
   "execution_count": 1,
   "id": "5f6d51f8",
   "metadata": {},
   "outputs": [
    {
     "data": {
      "text/plain": [
       "True"
      ]
     },
     "execution_count": 1,
     "metadata": {},
     "output_type": "execute_result"
    }
   ],
   "source": [
    "# Importaciones necesarias\n",
    "import sys\n",
    "import os\n",
    "\n",
    "# Añadir el directorio scripts al path\n",
    "sys.path.append('../scripts')\n",
    "\n",
    "# Importar módulo de etiquetado personalizado\n",
    "from etiquetado import (\n",
    "    configurar_entorno, validar_dependencias, verificar_api_key,\n",
    "    cargar_datasets, configurar_clasificador, proceso_completo_clasificacion,\n",
    "    mostrar_opiniones_por_categoria, mostrar_ejemplos_detallados, analisis_avanzado_frases\n",
    ")\n",
    "\n",
    "# Configurar entorno\n",
    "configurar_entorno()\n",
    "validar_dependencias()"
   ]
  },
  {
   "cell_type": "code",
   "execution_count": 2,
   "id": "648d7fe5",
   "metadata": {},
   "outputs": [
    {
     "data": {
      "text/plain": [
       "True"
      ]
     },
     "execution_count": 2,
     "metadata": {},
     "output_type": "execute_result"
    }
   ],
   "source": [
    "# Verificar configuración de API\n",
    "verificar_api_key()"
   ]
  },
  {
   "cell_type": "code",
   "execution_count": 3,
   "id": "748a7cec",
   "metadata": {},
   "outputs": [
    {
     "name": "stdout",
     "output_type": "stream",
     "text": [
      "✅ Dataset de análisis cargado desde: ../data/processed/dataset_opiniones_analisis.csv\n",
      "📊 Total de registros: 2464\n",
      "🔄 Dataset listo para enriquecer con clasificación LLM\n"
     ]
    }
   ],
   "source": [
    "# Cargar datasets y verificar estado\n",
    "resultado_carga = cargar_datasets(verificar_existentes=True)\n",
    "df_reviews, df_existente, necesita_clasificacion = resultado_carga"
   ]
  },
  {
   "cell_type": "code",
   "execution_count": 4,
   "id": "9fcd409f",
   "metadata": {},
   "outputs": [],
   "source": [
    "# Configurar clasificador\n",
    "clasificador = configurar_clasificador()"
   ]
  },
  {
   "cell_type": "code",
   "execution_count": 5,
   "id": "ec1d0402",
   "metadata": {},
   "outputs": [
    {
     "name": "stdout",
     "output_type": "stream",
     "text": [
      "🚀 Iniciando clasificación desde índice 0\n",
      "📊 Total a procesar: 2464 reseñas restantes\n",
      "📝 Cada reseña se procesa de manera independiente (sin historial)\n",
      "💾 Guardado automático cada 50 reseñas\n"
     ]
    },
    {
     "name": "stderr",
     "output_type": "stream",
     "text": [
      "Clasificando reseñas:   0%|          | 10/2464 [00:09<37:38,  1.09it/s]"
     ]
    },
    {
     "name": "stdout",
     "output_type": "stream",
     "text": [
      "   ✅ Procesadas 10/2464 reseñas\n"
     ]
    },
    {
     "name": "stderr",
     "output_type": "stream",
     "text": [
      "Clasificando reseñas:   1%|          | 20/2464 [00:16<26:44,  1.52it/s]"
     ]
    },
    {
     "name": "stdout",
     "output_type": "stream",
     "text": [
      "   ✅ Procesadas 20/2464 reseñas\n"
     ]
    },
    {
     "name": "stderr",
     "output_type": "stream",
     "text": [
      "Clasificando reseñas:   1%|          | 30/2464 [00:21<21:42,  1.87it/s]"
     ]
    },
    {
     "name": "stdout",
     "output_type": "stream",
     "text": [
      "   ✅ Procesadas 30/2464 reseñas\n"
     ]
    },
    {
     "name": "stderr",
     "output_type": "stream",
     "text": [
      "Clasificando reseñas:   2%|▏         | 40/2464 [00:27<25:29,  1.58it/s]"
     ]
    },
    {
     "name": "stdout",
     "output_type": "stream",
     "text": [
      "   ✅ Procesadas 40/2464 reseñas\n"
     ]
    },
    {
     "name": "stderr",
     "output_type": "stream",
     "text": [
      "Clasificando reseñas:   2%|▏         | 50/2464 [00:33<25:38,  1.57it/s]"
     ]
    },
    {
     "name": "stdout",
     "output_type": "stream",
     "text": [
      "   ✅ Procesadas 50/2464 reseñas\n",
      "   💾 Checkpoint guardado en índice 49\n"
     ]
    },
    {
     "name": "stderr",
     "output_type": "stream",
     "text": [
      "Clasificando reseñas:   2%|▏         | 60/2464 [00:39<22:24,  1.79it/s]"
     ]
    },
    {
     "name": "stdout",
     "output_type": "stream",
     "text": [
      "   ✅ Procesadas 60/2464 reseñas\n"
     ]
    },
    {
     "name": "stderr",
     "output_type": "stream",
     "text": [
      "Clasificando reseñas:   3%|▎         | 70/2464 [00:46<23:59,  1.66it/s]"
     ]
    },
    {
     "name": "stdout",
     "output_type": "stream",
     "text": [
      "   ✅ Procesadas 70/2464 reseñas\n"
     ]
    },
    {
     "name": "stderr",
     "output_type": "stream",
     "text": [
      "Clasificando reseñas:   3%|▎         | 80/2464 [00:50<19:25,  2.05it/s]"
     ]
    },
    {
     "name": "stdout",
     "output_type": "stream",
     "text": [
      "   ✅ Procesadas 80/2464 reseñas\n"
     ]
    },
    {
     "name": "stderr",
     "output_type": "stream",
     "text": [
      "Clasificando reseñas:   4%|▎         | 90/2464 [00:56<23:56,  1.65it/s]"
     ]
    },
    {
     "name": "stdout",
     "output_type": "stream",
     "text": [
      "   ✅ Procesadas 90/2464 reseñas\n"
     ]
    },
    {
     "name": "stderr",
     "output_type": "stream",
     "text": [
      "Clasificando reseñas:   4%|▍         | 100/2464 [01:02<23:45,  1.66it/s]"
     ]
    },
    {
     "name": "stdout",
     "output_type": "stream",
     "text": [
      "   ✅ Procesadas 100/2464 reseñas\n",
      "   💾 Checkpoint guardado en índice 99\n"
     ]
    },
    {
     "name": "stderr",
     "output_type": "stream",
     "text": [
      "Clasificando reseñas:   4%|▍         | 110/2464 [01:08<23:21,  1.68it/s]"
     ]
    },
    {
     "name": "stdout",
     "output_type": "stream",
     "text": [
      "   ✅ Procesadas 110/2464 reseñas\n"
     ]
    },
    {
     "name": "stderr",
     "output_type": "stream",
     "text": [
      "Clasificando reseñas:   5%|▍         | 120/2464 [01:14<22:13,  1.76it/s]"
     ]
    },
    {
     "name": "stdout",
     "output_type": "stream",
     "text": [
      "   ✅ Procesadas 120/2464 reseñas\n"
     ]
    },
    {
     "name": "stderr",
     "output_type": "stream",
     "text": [
      "Clasificando reseñas:   5%|▌         | 128/2464 [01:19<24:40,  1.58it/s]"
     ]
    },
    {
     "name": "stdout",
     "output_type": "stream",
     "text": [
      "   ✅ Procesadas 130/2464 reseñas\n"
     ]
    },
    {
     "name": "stderr",
     "output_type": "stream",
     "text": [
      "Clasificando reseñas:   6%|▌         | 140/2464 [01:28<30:49,  1.26it/s]"
     ]
    },
    {
     "name": "stdout",
     "output_type": "stream",
     "text": [
      "   ✅ Procesadas 140/2464 reseñas\n"
     ]
    },
    {
     "name": "stderr",
     "output_type": "stream",
     "text": [
      "Clasificando reseñas:   6%|▌         | 150/2464 [01:34<23:34,  1.64it/s]"
     ]
    },
    {
     "name": "stdout",
     "output_type": "stream",
     "text": [
      "   ✅ Procesadas 150/2464 reseñas\n",
      "   💾 Checkpoint guardado en índice 149\n"
     ]
    },
    {
     "name": "stderr",
     "output_type": "stream",
     "text": [
      "Clasificando reseñas:   6%|▋         | 160/2464 [01:41<23:20,  1.65it/s]"
     ]
    },
    {
     "name": "stdout",
     "output_type": "stream",
     "text": [
      "   ✅ Procesadas 160/2464 reseñas\n"
     ]
    },
    {
     "name": "stderr",
     "output_type": "stream",
     "text": [
      "Clasificando reseñas:   7%|▋         | 170/2464 [01:47<22:26,  1.70it/s]"
     ]
    },
    {
     "name": "stdout",
     "output_type": "stream",
     "text": [
      "   ✅ Procesadas 170/2464 reseñas\n"
     ]
    },
    {
     "name": "stderr",
     "output_type": "stream",
     "text": [
      "Clasificando reseñas:   7%|▋         | 180/2464 [01:51<15:08,  2.51it/s]"
     ]
    },
    {
     "name": "stdout",
     "output_type": "stream",
     "text": [
      "   ✅ Procesadas 180/2464 reseñas\n"
     ]
    },
    {
     "name": "stderr",
     "output_type": "stream",
     "text": [
      "Clasificando reseñas:   8%|▊         | 190/2464 [01:57<19:55,  1.90it/s]"
     ]
    },
    {
     "name": "stdout",
     "output_type": "stream",
     "text": [
      "   ✅ Procesadas 190/2464 reseñas\n"
     ]
    },
    {
     "name": "stderr",
     "output_type": "stream",
     "text": [
      "Clasificando reseñas:   8%|▊         | 200/2464 [02:03<21:15,  1.77it/s]"
     ]
    },
    {
     "name": "stdout",
     "output_type": "stream",
     "text": [
      "   ✅ Procesadas 200/2464 reseñas\n",
      "   💾 Checkpoint guardado en índice 199\n"
     ]
    },
    {
     "name": "stderr",
     "output_type": "stream",
     "text": [
      "Clasificando reseñas:   9%|▊         | 210/2464 [02:08<21:29,  1.75it/s]"
     ]
    },
    {
     "name": "stdout",
     "output_type": "stream",
     "text": [
      "   ✅ Procesadas 210/2464 reseñas\n"
     ]
    },
    {
     "name": "stderr",
     "output_type": "stream",
     "text": [
      "Clasificando reseñas:   9%|▉         | 220/2464 [02:15<23:03,  1.62it/s]"
     ]
    },
    {
     "name": "stdout",
     "output_type": "stream",
     "text": [
      "   ✅ Procesadas 220/2464 reseñas\n"
     ]
    },
    {
     "name": "stderr",
     "output_type": "stream",
     "text": [
      "Clasificando reseñas:   9%|▉         | 230/2464 [02:21<22:09,  1.68it/s]"
     ]
    },
    {
     "name": "stdout",
     "output_type": "stream",
     "text": [
      "   ✅ Procesadas 230/2464 reseñas\n"
     ]
    },
    {
     "name": "stderr",
     "output_type": "stream",
     "text": [
      "Clasificando reseñas:  10%|▉         | 240/2464 [02:27<23:58,  1.55it/s]"
     ]
    },
    {
     "name": "stdout",
     "output_type": "stream",
     "text": [
      "   ✅ Procesadas 240/2464 reseñas\n"
     ]
    },
    {
     "name": "stderr",
     "output_type": "stream",
     "text": [
      "Clasificando reseñas:  10%|█         | 250/2464 [02:32<22:07,  1.67it/s]"
     ]
    },
    {
     "name": "stdout",
     "output_type": "stream",
     "text": [
      "   ✅ Procesadas 250/2464 reseñas\n",
      "   💾 Checkpoint guardado en índice 249\n"
     ]
    },
    {
     "name": "stderr",
     "output_type": "stream",
     "text": [
      "Clasificando reseñas:  11%|█         | 260/2464 [02:38<21:11,  1.73it/s]"
     ]
    },
    {
     "name": "stdout",
     "output_type": "stream",
     "text": [
      "   ✅ Procesadas 260/2464 reseñas\n"
     ]
    },
    {
     "name": "stderr",
     "output_type": "stream",
     "text": [
      "Clasificando reseñas:  11%|█         | 270/2464 [02:44<22:04,  1.66it/s]"
     ]
    },
    {
     "name": "stdout",
     "output_type": "stream",
     "text": [
      "   ✅ Procesadas 270/2464 reseñas\n"
     ]
    },
    {
     "name": "stderr",
     "output_type": "stream",
     "text": [
      "Clasificando reseñas:  11%|█▏        | 280/2464 [02:50<21:34,  1.69it/s]"
     ]
    },
    {
     "name": "stdout",
     "output_type": "stream",
     "text": [
      "   ✅ Procesadas 280/2464 reseñas\n"
     ]
    },
    {
     "name": "stderr",
     "output_type": "stream",
     "text": [
      "Clasificando reseñas:  12%|█▏        | 290/2464 [02:56<21:45,  1.66it/s]"
     ]
    },
    {
     "name": "stdout",
     "output_type": "stream",
     "text": [
      "   ✅ Procesadas 290/2464 reseñas\n"
     ]
    },
    {
     "name": "stderr",
     "output_type": "stream",
     "text": [
      "Clasificando reseñas:  12%|█▏        | 300/2464 [03:02<22:26,  1.61it/s]"
     ]
    },
    {
     "name": "stdout",
     "output_type": "stream",
     "text": [
      "   ✅ Procesadas 300/2464 reseñas\n",
      "   💾 Checkpoint guardado en índice 299\n"
     ]
    },
    {
     "name": "stderr",
     "output_type": "stream",
     "text": [
      "Clasificando reseñas:  13%|█▎        | 310/2464 [03:08<21:33,  1.66it/s]"
     ]
    },
    {
     "name": "stdout",
     "output_type": "stream",
     "text": [
      "   ✅ Procesadas 310/2464 reseñas\n"
     ]
    },
    {
     "name": "stderr",
     "output_type": "stream",
     "text": [
      "Clasificando reseñas:  13%|█▎        | 320/2464 [03:14<22:35,  1.58it/s]"
     ]
    },
    {
     "name": "stdout",
     "output_type": "stream",
     "text": [
      "   ✅ Procesadas 320/2464 reseñas\n"
     ]
    },
    {
     "name": "stderr",
     "output_type": "stream",
     "text": [
      "Clasificando reseñas:  13%|█▎        | 330/2464 [03:21<22:59,  1.55it/s]"
     ]
    },
    {
     "name": "stdout",
     "output_type": "stream",
     "text": [
      "   ✅ Procesadas 330/2464 reseñas\n"
     ]
    },
    {
     "name": "stderr",
     "output_type": "stream",
     "text": [
      "Clasificando reseñas:  14%|█▍        | 340/2464 [03:27<25:34,  1.38it/s]"
     ]
    },
    {
     "name": "stdout",
     "output_type": "stream",
     "text": [
      "   ✅ Procesadas 340/2464 reseñas\n"
     ]
    },
    {
     "name": "stderr",
     "output_type": "stream",
     "text": [
      "Clasificando reseñas:  14%|█▍        | 350/2464 [03:33<20:58,  1.68it/s]"
     ]
    },
    {
     "name": "stdout",
     "output_type": "stream",
     "text": [
      "   ✅ Procesadas 350/2464 reseñas\n",
      "   💾 Checkpoint guardado en índice 349\n"
     ]
    },
    {
     "name": "stderr",
     "output_type": "stream",
     "text": [
      "Clasificando reseñas:  15%|█▍        | 360/2464 [03:39<18:47,  1.87it/s]"
     ]
    },
    {
     "name": "stdout",
     "output_type": "stream",
     "text": [
      "   ✅ Procesadas 360/2464 reseñas\n"
     ]
    },
    {
     "name": "stderr",
     "output_type": "stream",
     "text": [
      "Clasificando reseñas:  15%|█▌        | 370/2464 [03:46<24:40,  1.41it/s]"
     ]
    },
    {
     "name": "stdout",
     "output_type": "stream",
     "text": [
      "   ✅ Procesadas 370/2464 reseñas\n"
     ]
    },
    {
     "name": "stderr",
     "output_type": "stream",
     "text": [
      "Clasificando reseñas:  15%|█▌        | 380/2464 [03:52<24:10,  1.44it/s]"
     ]
    },
    {
     "name": "stdout",
     "output_type": "stream",
     "text": [
      "   ✅ Procesadas 380/2464 reseñas\n"
     ]
    },
    {
     "name": "stderr",
     "output_type": "stream",
     "text": [
      "Clasificando reseñas:  16%|█▌        | 390/2464 [03:57<16:45,  2.06it/s]"
     ]
    },
    {
     "name": "stdout",
     "output_type": "stream",
     "text": [
      "   ✅ Procesadas 390/2464 reseñas\n"
     ]
    },
    {
     "name": "stderr",
     "output_type": "stream",
     "text": [
      "Clasificando reseñas:  16%|█▌        | 400/2464 [04:02<18:07,  1.90it/s]"
     ]
    },
    {
     "name": "stdout",
     "output_type": "stream",
     "text": [
      "   ✅ Procesadas 400/2464 reseñas\n",
      "   💾 Checkpoint guardado en índice 399\n"
     ]
    },
    {
     "name": "stderr",
     "output_type": "stream",
     "text": [
      "Clasificando reseñas:  17%|█▋        | 410/2464 [04:08<18:58,  1.80it/s]"
     ]
    },
    {
     "name": "stdout",
     "output_type": "stream",
     "text": [
      "   ✅ Procesadas 410/2464 reseñas\n"
     ]
    },
    {
     "name": "stderr",
     "output_type": "stream",
     "text": [
      "Clasificando reseñas:  17%|█▋        | 420/2464 [04:14<18:29,  1.84it/s]"
     ]
    },
    {
     "name": "stdout",
     "output_type": "stream",
     "text": [
      "   ✅ Procesadas 420/2464 reseñas\n"
     ]
    },
    {
     "name": "stderr",
     "output_type": "stream",
     "text": [
      "Clasificando reseñas:  17%|█▋        | 430/2464 [04:20<18:17,  1.85it/s]"
     ]
    },
    {
     "name": "stdout",
     "output_type": "stream",
     "text": [
      "   ✅ Procesadas 430/2464 reseñas\n"
     ]
    },
    {
     "name": "stderr",
     "output_type": "stream",
     "text": [
      "Clasificando reseñas:  18%|█▊        | 440/2464 [04:25<18:10,  1.86it/s]"
     ]
    },
    {
     "name": "stdout",
     "output_type": "stream",
     "text": [
      "   ✅ Procesadas 440/2464 reseñas\n"
     ]
    },
    {
     "name": "stderr",
     "output_type": "stream",
     "text": [
      "Clasificando reseñas:  18%|█▊        | 450/2464 [04:30<18:38,  1.80it/s]"
     ]
    },
    {
     "name": "stdout",
     "output_type": "stream",
     "text": [
      "   ✅ Procesadas 450/2464 reseñas\n",
      "   💾 Checkpoint guardado en índice 449\n"
     ]
    },
    {
     "name": "stderr",
     "output_type": "stream",
     "text": [
      "Clasificando reseñas:  19%|█▊        | 460/2464 [04:36<19:11,  1.74it/s]"
     ]
    },
    {
     "name": "stdout",
     "output_type": "stream",
     "text": [
      "   ✅ Procesadas 460/2464 reseñas\n"
     ]
    },
    {
     "name": "stderr",
     "output_type": "stream",
     "text": [
      "Clasificando reseñas:  19%|█▉        | 470/2464 [04:42<20:17,  1.64it/s]"
     ]
    },
    {
     "name": "stdout",
     "output_type": "stream",
     "text": [
      "   ✅ Procesadas 470/2464 reseñas\n"
     ]
    },
    {
     "name": "stderr",
     "output_type": "stream",
     "text": [
      "Clasificando reseñas:  19%|█▉        | 480/2464 [04:48<21:40,  1.53it/s]"
     ]
    },
    {
     "name": "stdout",
     "output_type": "stream",
     "text": [
      "   ✅ Procesadas 480/2464 reseñas\n"
     ]
    },
    {
     "name": "stderr",
     "output_type": "stream",
     "text": [
      "Clasificando reseñas:  20%|█▉        | 490/2464 [04:55<21:53,  1.50it/s]"
     ]
    },
    {
     "name": "stdout",
     "output_type": "stream",
     "text": [
      "   ✅ Procesadas 490/2464 reseñas\n"
     ]
    },
    {
     "name": "stderr",
     "output_type": "stream",
     "text": [
      "Clasificando reseñas:  20%|██        | 500/2464 [04:59<16:25,  1.99it/s]"
     ]
    },
    {
     "name": "stdout",
     "output_type": "stream",
     "text": [
      "   ✅ Procesadas 500/2464 reseñas\n",
      "   💾 Checkpoint guardado en índice 499\n"
     ]
    },
    {
     "name": "stderr",
     "output_type": "stream",
     "text": [
      "Clasificando reseñas:  21%|██        | 510/2464 [05:06<21:29,  1.51it/s]"
     ]
    },
    {
     "name": "stdout",
     "output_type": "stream",
     "text": [
      "   ✅ Procesadas 510/2464 reseñas\n"
     ]
    },
    {
     "name": "stderr",
     "output_type": "stream",
     "text": [
      "Clasificando reseñas:  21%|██        | 520/2464 [05:12<17:24,  1.86it/s]"
     ]
    },
    {
     "name": "stdout",
     "output_type": "stream",
     "text": [
      "   ✅ Procesadas 520/2464 reseñas\n"
     ]
    },
    {
     "name": "stderr",
     "output_type": "stream",
     "text": [
      "Clasificando reseñas:  22%|██▏       | 530/2464 [05:18<20:03,  1.61it/s]"
     ]
    },
    {
     "name": "stdout",
     "output_type": "stream",
     "text": [
      "   ✅ Procesadas 530/2464 reseñas\n"
     ]
    },
    {
     "name": "stderr",
     "output_type": "stream",
     "text": [
      "Clasificando reseñas:  22%|██▏       | 540/2464 [05:24<18:31,  1.73it/s]"
     ]
    },
    {
     "name": "stdout",
     "output_type": "stream",
     "text": [
      "   ✅ Procesadas 540/2464 reseñas\n"
     ]
    },
    {
     "name": "stderr",
     "output_type": "stream",
     "text": [
      "Clasificando reseñas:  22%|██▏       | 550/2464 [05:28<11:09,  2.86it/s]"
     ]
    },
    {
     "name": "stdout",
     "output_type": "stream",
     "text": [
      "   ✅ Procesadas 550/2464 reseñas\n",
      "   💾 Checkpoint guardado en índice 549\n"
     ]
    },
    {
     "name": "stderr",
     "output_type": "stream",
     "text": [
      "Clasificando reseñas:  23%|██▎       | 560/2464 [05:34<17:50,  1.78it/s]"
     ]
    },
    {
     "name": "stdout",
     "output_type": "stream",
     "text": [
      "   ✅ Procesadas 560/2464 reseñas\n"
     ]
    },
    {
     "name": "stderr",
     "output_type": "stream",
     "text": [
      "Clasificando reseñas:  23%|██▎       | 570/2464 [05:40<17:55,  1.76it/s]"
     ]
    },
    {
     "name": "stdout",
     "output_type": "stream",
     "text": [
      "   ✅ Procesadas 570/2464 reseñas\n"
     ]
    },
    {
     "name": "stderr",
     "output_type": "stream",
     "text": [
      "Clasificando reseñas:  24%|██▎       | 580/2464 [05:45<17:07,  1.83it/s]"
     ]
    },
    {
     "name": "stdout",
     "output_type": "stream",
     "text": [
      "   ✅ Procesadas 580/2464 reseñas\n"
     ]
    },
    {
     "name": "stderr",
     "output_type": "stream",
     "text": [
      "Clasificando reseñas:  24%|██▍       | 590/2464 [05:51<21:07,  1.48it/s]"
     ]
    },
    {
     "name": "stdout",
     "output_type": "stream",
     "text": [
      "   ✅ Procesadas 590/2464 reseñas\n"
     ]
    },
    {
     "name": "stderr",
     "output_type": "stream",
     "text": [
      "Clasificando reseñas:  24%|██▍       | 600/2464 [05:57<21:10,  1.47it/s]"
     ]
    },
    {
     "name": "stdout",
     "output_type": "stream",
     "text": [
      "   ✅ Procesadas 600/2464 reseñas\n",
      "   💾 Checkpoint guardado en índice 599\n"
     ]
    },
    {
     "name": "stderr",
     "output_type": "stream",
     "text": [
      "Clasificando reseñas:  25%|██▍       | 610/2464 [06:03<16:59,  1.82it/s]"
     ]
    },
    {
     "name": "stdout",
     "output_type": "stream",
     "text": [
      "   ✅ Procesadas 610/2464 reseñas\n"
     ]
    },
    {
     "name": "stderr",
     "output_type": "stream",
     "text": [
      "Clasificando reseñas:  25%|██▌       | 620/2464 [06:09<21:57,  1.40it/s]"
     ]
    },
    {
     "name": "stdout",
     "output_type": "stream",
     "text": [
      "   ✅ Procesadas 620/2464 reseñas\n"
     ]
    },
    {
     "name": "stderr",
     "output_type": "stream",
     "text": [
      "Clasificando reseñas:  26%|██▌       | 630/2464 [06:15<20:14,  1.51it/s]"
     ]
    },
    {
     "name": "stdout",
     "output_type": "stream",
     "text": [
      "   ✅ Procesadas 630/2464 reseñas\n"
     ]
    },
    {
     "name": "stderr",
     "output_type": "stream",
     "text": [
      "Clasificando reseñas:  26%|██▌       | 640/2464 [06:21<17:38,  1.72it/s]"
     ]
    },
    {
     "name": "stdout",
     "output_type": "stream",
     "text": [
      "   ✅ Procesadas 640/2464 reseñas\n"
     ]
    },
    {
     "name": "stderr",
     "output_type": "stream",
     "text": [
      "Clasificando reseñas:  26%|██▋       | 650/2464 [06:27<19:54,  1.52it/s]"
     ]
    },
    {
     "name": "stdout",
     "output_type": "stream",
     "text": [
      "   ✅ Procesadas 650/2464 reseñas\n",
      "   💾 Checkpoint guardado en índice 649\n"
     ]
    },
    {
     "name": "stderr",
     "output_type": "stream",
     "text": [
      "Clasificando reseñas:  27%|██▋       | 660/2464 [06:32<15:29,  1.94it/s]"
     ]
    },
    {
     "name": "stdout",
     "output_type": "stream",
     "text": [
      "   ✅ Procesadas 660/2464 reseñas\n"
     ]
    },
    {
     "name": "stderr",
     "output_type": "stream",
     "text": [
      "Clasificando reseñas:  27%|██▋       | 670/2464 [06:39<21:58,  1.36it/s]"
     ]
    },
    {
     "name": "stdout",
     "output_type": "stream",
     "text": [
      "   ✅ Procesadas 670/2464 reseñas\n"
     ]
    },
    {
     "name": "stderr",
     "output_type": "stream",
     "text": [
      "Clasificando reseñas:  28%|██▊       | 680/2464 [06:46<16:53,  1.76it/s]"
     ]
    },
    {
     "name": "stdout",
     "output_type": "stream",
     "text": [
      "   ✅ Procesadas 680/2464 reseñas\n"
     ]
    },
    {
     "name": "stderr",
     "output_type": "stream",
     "text": [
      "Clasificando reseñas:  28%|██▊       | 690/2464 [06:52<19:07,  1.55it/s]"
     ]
    },
    {
     "name": "stdout",
     "output_type": "stream",
     "text": [
      "   ✅ Procesadas 690/2464 reseñas\n"
     ]
    },
    {
     "name": "stderr",
     "output_type": "stream",
     "text": [
      "Clasificando reseñas:  28%|██▊       | 700/2464 [06:58<15:19,  1.92it/s]"
     ]
    },
    {
     "name": "stdout",
     "output_type": "stream",
     "text": [
      "   ✅ Procesadas 700/2464 reseñas\n",
      "   💾 Checkpoint guardado en índice 699\n"
     ]
    },
    {
     "name": "stderr",
     "output_type": "stream",
     "text": [
      "Clasificando reseñas:  29%|██▉       | 710/2464 [07:02<14:21,  2.04it/s]"
     ]
    },
    {
     "name": "stdout",
     "output_type": "stream",
     "text": [
      "   ✅ Procesadas 710/2464 reseñas\n"
     ]
    },
    {
     "name": "stderr",
     "output_type": "stream",
     "text": [
      "Clasificando reseñas:  29%|██▉       | 720/2464 [07:09<16:41,  1.74it/s]"
     ]
    },
    {
     "name": "stdout",
     "output_type": "stream",
     "text": [
      "   ✅ Procesadas 720/2464 reseñas\n"
     ]
    },
    {
     "name": "stderr",
     "output_type": "stream",
     "text": [
      "Clasificando reseñas:  30%|██▉       | 730/2464 [07:15<17:13,  1.68it/s]"
     ]
    },
    {
     "name": "stdout",
     "output_type": "stream",
     "text": [
      "   ✅ Procesadas 730/2464 reseñas\n"
     ]
    },
    {
     "name": "stderr",
     "output_type": "stream",
     "text": [
      "Clasificando reseñas:  30%|███       | 740/2464 [07:22<17:48,  1.61it/s]"
     ]
    },
    {
     "name": "stdout",
     "output_type": "stream",
     "text": [
      "   ✅ Procesadas 740/2464 reseñas\n"
     ]
    },
    {
     "name": "stderr",
     "output_type": "stream",
     "text": [
      "Clasificando reseñas:  30%|███       | 750/2464 [07:28<17:10,  1.66it/s]"
     ]
    },
    {
     "name": "stdout",
     "output_type": "stream",
     "text": [
      "   ✅ Procesadas 750/2464 reseñas\n",
      "   💾 Checkpoint guardado en índice 749\n"
     ]
    },
    {
     "name": "stderr",
     "output_type": "stream",
     "text": [
      "Clasificando reseñas:  31%|███       | 760/2464 [07:33<14:56,  1.90it/s]"
     ]
    },
    {
     "name": "stdout",
     "output_type": "stream",
     "text": [
      "   ✅ Procesadas 760/2464 reseñas\n"
     ]
    },
    {
     "name": "stderr",
     "output_type": "stream",
     "text": [
      "Clasificando reseñas:  31%|███▏      | 770/2464 [07:40<18:50,  1.50it/s]"
     ]
    },
    {
     "name": "stdout",
     "output_type": "stream",
     "text": [
      "   ✅ Procesadas 770/2464 reseñas\n"
     ]
    },
    {
     "name": "stderr",
     "output_type": "stream",
     "text": [
      "Clasificando reseñas:  32%|███▏      | 780/2464 [07:45<15:14,  1.84it/s]"
     ]
    },
    {
     "name": "stdout",
     "output_type": "stream",
     "text": [
      "   ✅ Procesadas 780/2464 reseñas\n"
     ]
    },
    {
     "name": "stderr",
     "output_type": "stream",
     "text": [
      "Clasificando reseñas:  32%|███▏      | 790/2464 [07:52<16:15,  1.72it/s]"
     ]
    },
    {
     "name": "stdout",
     "output_type": "stream",
     "text": [
      "   ✅ Procesadas 790/2464 reseñas\n"
     ]
    },
    {
     "name": "stderr",
     "output_type": "stream",
     "text": [
      "Clasificando reseñas:  32%|███▏      | 800/2464 [07:58<17:20,  1.60it/s]"
     ]
    },
    {
     "name": "stdout",
     "output_type": "stream",
     "text": [
      "   ✅ Procesadas 800/2464 reseñas\n",
      "   💾 Checkpoint guardado en índice 799\n"
     ]
    },
    {
     "name": "stderr",
     "output_type": "stream",
     "text": [
      "Clasificando reseñas:  33%|███▎      | 810/2464 [08:03<11:29,  2.40it/s]"
     ]
    },
    {
     "name": "stdout",
     "output_type": "stream",
     "text": [
      "   ✅ Procesadas 810/2464 reseñas\n"
     ]
    },
    {
     "name": "stderr",
     "output_type": "stream",
     "text": [
      "Clasificando reseñas:  33%|███▎      | 820/2464 [08:09<15:49,  1.73it/s]"
     ]
    },
    {
     "name": "stdout",
     "output_type": "stream",
     "text": [
      "   ✅ Procesadas 820/2464 reseñas\n"
     ]
    },
    {
     "name": "stderr",
     "output_type": "stream",
     "text": [
      "Clasificando reseñas:  34%|███▎      | 830/2464 [08:15<16:21,  1.66it/s]"
     ]
    },
    {
     "name": "stdout",
     "output_type": "stream",
     "text": [
      "   ✅ Procesadas 830/2464 reseñas\n"
     ]
    },
    {
     "name": "stderr",
     "output_type": "stream",
     "text": [
      "Clasificando reseñas:  34%|███▍      | 840/2464 [08:22<18:17,  1.48it/s]"
     ]
    },
    {
     "name": "stdout",
     "output_type": "stream",
     "text": [
      "   ✅ Procesadas 840/2464 reseñas\n"
     ]
    },
    {
     "name": "stderr",
     "output_type": "stream",
     "text": [
      "Clasificando reseñas:  34%|███▍      | 850/2464 [08:29<15:34,  1.73it/s]"
     ]
    },
    {
     "name": "stdout",
     "output_type": "stream",
     "text": [
      "   ✅ Procesadas 850/2464 reseñas\n",
      "   💾 Checkpoint guardado en índice 849\n"
     ]
    },
    {
     "name": "stderr",
     "output_type": "stream",
     "text": [
      "Clasificando reseñas:  35%|███▍      | 860/2464 [08:34<14:15,  1.87it/s]"
     ]
    },
    {
     "name": "stdout",
     "output_type": "stream",
     "text": [
      "   ✅ Procesadas 860/2464 reseñas\n"
     ]
    },
    {
     "name": "stderr",
     "output_type": "stream",
     "text": [
      "Clasificando reseñas:  35%|███▌      | 870/2464 [08:42<17:11,  1.55it/s]"
     ]
    },
    {
     "name": "stdout",
     "output_type": "stream",
     "text": [
      "   ✅ Procesadas 870/2464 reseñas\n"
     ]
    },
    {
     "name": "stderr",
     "output_type": "stream",
     "text": [
      "Clasificando reseñas:  36%|███▌      | 880/2464 [08:50<24:29,  1.08it/s]"
     ]
    },
    {
     "name": "stdout",
     "output_type": "stream",
     "text": [
      "   ✅ Procesadas 880/2464 reseñas\n"
     ]
    },
    {
     "name": "stderr",
     "output_type": "stream",
     "text": [
      "Clasificando reseñas:  36%|███▌      | 890/2464 [08:58<19:14,  1.36it/s]"
     ]
    },
    {
     "name": "stdout",
     "output_type": "stream",
     "text": [
      "   ✅ Procesadas 890/2464 reseñas\n"
     ]
    },
    {
     "name": "stderr",
     "output_type": "stream",
     "text": [
      "Clasificando reseñas:  37%|███▋      | 900/2464 [09:04<18:41,  1.40it/s]"
     ]
    },
    {
     "name": "stdout",
     "output_type": "stream",
     "text": [
      "   ✅ Procesadas 900/2464 reseñas\n",
      "   💾 Checkpoint guardado en índice 899\n"
     ]
    },
    {
     "name": "stderr",
     "output_type": "stream",
     "text": [
      "Clasificando reseñas:  37%|███▋      | 910/2464 [09:09<14:13,  1.82it/s]"
     ]
    },
    {
     "name": "stdout",
     "output_type": "stream",
     "text": [
      "   ✅ Procesadas 910/2464 reseñas\n"
     ]
    },
    {
     "name": "stderr",
     "output_type": "stream",
     "text": [
      "Clasificando reseñas:  37%|███▋      | 920/2464 [09:15<14:10,  1.82it/s]"
     ]
    },
    {
     "name": "stdout",
     "output_type": "stream",
     "text": [
      "   ✅ Procesadas 920/2464 reseñas\n"
     ]
    },
    {
     "name": "stderr",
     "output_type": "stream",
     "text": [
      "Clasificando reseñas:  38%|███▊      | 930/2464 [09:23<24:14,  1.05it/s]"
     ]
    },
    {
     "name": "stdout",
     "output_type": "stream",
     "text": [
      "   ✅ Procesadas 930/2464 reseñas\n"
     ]
    },
    {
     "name": "stderr",
     "output_type": "stream",
     "text": [
      "Clasificando reseñas:  38%|███▊      | 940/2464 [09:31<13:54,  1.83it/s]"
     ]
    },
    {
     "name": "stdout",
     "output_type": "stream",
     "text": [
      "   ✅ Procesadas 940/2464 reseñas\n"
     ]
    },
    {
     "name": "stderr",
     "output_type": "stream",
     "text": [
      "Clasificando reseñas:  39%|███▊      | 950/2464 [09:36<09:38,  2.62it/s]"
     ]
    },
    {
     "name": "stdout",
     "output_type": "stream",
     "text": [
      "   ✅ Procesadas 950/2464 reseñas\n",
      "   💾 Checkpoint guardado en índice 949\n"
     ]
    },
    {
     "name": "stderr",
     "output_type": "stream",
     "text": [
      "Clasificando reseñas:  39%|███▉      | 960/2464 [09:42<16:03,  1.56it/s]"
     ]
    },
    {
     "name": "stdout",
     "output_type": "stream",
     "text": [
      "   ✅ Procesadas 960/2464 reseñas\n"
     ]
    },
    {
     "name": "stderr",
     "output_type": "stream",
     "text": [
      "Clasificando reseñas:  39%|███▉      | 970/2464 [09:51<21:00,  1.19it/s]"
     ]
    },
    {
     "name": "stdout",
     "output_type": "stream",
     "text": [
      "   ✅ Procesadas 970/2464 reseñas\n"
     ]
    },
    {
     "name": "stderr",
     "output_type": "stream",
     "text": [
      "Clasificando reseñas:  40%|███▉      | 980/2464 [09:57<22:39,  1.09it/s]"
     ]
    },
    {
     "name": "stdout",
     "output_type": "stream",
     "text": [
      "   ✅ Procesadas 980/2464 reseñas\n"
     ]
    },
    {
     "name": "stderr",
     "output_type": "stream",
     "text": [
      "Clasificando reseñas:  40%|████      | 990/2464 [10:05<22:24,  1.10it/s]"
     ]
    },
    {
     "name": "stdout",
     "output_type": "stream",
     "text": [
      "   ✅ Procesadas 990/2464 reseñas\n"
     ]
    },
    {
     "name": "stderr",
     "output_type": "stream",
     "text": [
      "Clasificando reseñas:  41%|████      | 1000/2464 [10:09<13:29,  1.81it/s]"
     ]
    },
    {
     "name": "stdout",
     "output_type": "stream",
     "text": [
      "   ✅ Procesadas 1000/2464 reseñas\n",
      "   💾 Checkpoint guardado en índice 999\n"
     ]
    },
    {
     "name": "stderr",
     "output_type": "stream",
     "text": [
      "Clasificando reseñas:  41%|████      | 1010/2464 [10:15<16:06,  1.50it/s]"
     ]
    },
    {
     "name": "stdout",
     "output_type": "stream",
     "text": [
      "   ✅ Procesadas 1010/2464 reseñas\n"
     ]
    },
    {
     "name": "stderr",
     "output_type": "stream",
     "text": [
      "Clasificando reseñas:  41%|████▏     | 1020/2464 [10:21<13:19,  1.81it/s]"
     ]
    },
    {
     "name": "stdout",
     "output_type": "stream",
     "text": [
      "   ✅ Procesadas 1020/2464 reseñas\n"
     ]
    },
    {
     "name": "stderr",
     "output_type": "stream",
     "text": [
      "Clasificando reseñas:  42%|████▏     | 1030/2464 [10:27<13:29,  1.77it/s]"
     ]
    },
    {
     "name": "stdout",
     "output_type": "stream",
     "text": [
      "   ✅ Procesadas 1030/2464 reseñas\n"
     ]
    },
    {
     "name": "stderr",
     "output_type": "stream",
     "text": [
      "Clasificando reseñas:  42%|████▏     | 1040/2464 [10:33<14:57,  1.59it/s]"
     ]
    },
    {
     "name": "stdout",
     "output_type": "stream",
     "text": [
      "   ✅ Procesadas 1040/2464 reseñas\n"
     ]
    },
    {
     "name": "stderr",
     "output_type": "stream",
     "text": [
      "Clasificando reseñas:  43%|████▎     | 1050/2464 [10:38<12:26,  1.89it/s]"
     ]
    },
    {
     "name": "stdout",
     "output_type": "stream",
     "text": [
      "   ✅ Procesadas 1050/2464 reseñas\n",
      "   💾 Checkpoint guardado en índice 1049\n"
     ]
    },
    {
     "name": "stderr",
     "output_type": "stream",
     "text": [
      "Clasificando reseñas:  43%|████▎     | 1060/2464 [10:45<16:18,  1.43it/s]"
     ]
    },
    {
     "name": "stdout",
     "output_type": "stream",
     "text": [
      "   ✅ Procesadas 1060/2464 reseñas\n"
     ]
    },
    {
     "name": "stderr",
     "output_type": "stream",
     "text": [
      "Clasificando reseñas:  43%|████▎     | 1070/2464 [10:52<13:36,  1.71it/s]"
     ]
    },
    {
     "name": "stdout",
     "output_type": "stream",
     "text": [
      "   ✅ Procesadas 1070/2464 reseñas\n"
     ]
    },
    {
     "name": "stderr",
     "output_type": "stream",
     "text": [
      "Clasificando reseñas:  44%|████▍     | 1080/2464 [10:57<13:29,  1.71it/s]"
     ]
    },
    {
     "name": "stdout",
     "output_type": "stream",
     "text": [
      "   ✅ Procesadas 1080/2464 reseñas\n"
     ]
    },
    {
     "name": "stderr",
     "output_type": "stream",
     "text": [
      "Clasificando reseñas:  44%|████▍     | 1090/2464 [11:03<13:41,  1.67it/s]"
     ]
    },
    {
     "name": "stdout",
     "output_type": "stream",
     "text": [
      "   ✅ Procesadas 1090/2464 reseñas\n"
     ]
    },
    {
     "name": "stderr",
     "output_type": "stream",
     "text": [
      "Clasificando reseñas:  45%|████▍     | 1100/2464 [11:12<19:31,  1.16it/s]"
     ]
    },
    {
     "name": "stdout",
     "output_type": "stream",
     "text": [
      "   ✅ Procesadas 1100/2464 reseñas\n",
      "   💾 Checkpoint guardado en índice 1099\n"
     ]
    },
    {
     "name": "stderr",
     "output_type": "stream",
     "text": [
      "Clasificando reseñas:  45%|████▌     | 1110/2464 [11:19<18:17,  1.23it/s]"
     ]
    },
    {
     "name": "stdout",
     "output_type": "stream",
     "text": [
      "   ✅ Procesadas 1110/2464 reseñas\n"
     ]
    },
    {
     "name": "stderr",
     "output_type": "stream",
     "text": [
      "Clasificando reseñas:  45%|████▌     | 1120/2464 [11:26<22:05,  1.01it/s]"
     ]
    },
    {
     "name": "stdout",
     "output_type": "stream",
     "text": [
      "   ✅ Procesadas 1120/2464 reseñas\n"
     ]
    },
    {
     "name": "stderr",
     "output_type": "stream",
     "text": [
      "Clasificando reseñas:  46%|████▌     | 1130/2464 [11:33<14:02,  1.58it/s]"
     ]
    },
    {
     "name": "stdout",
     "output_type": "stream",
     "text": [
      "   ✅ Procesadas 1130/2464 reseñas\n"
     ]
    },
    {
     "name": "stderr",
     "output_type": "stream",
     "text": [
      "Clasificando reseñas:  46%|████▋     | 1140/2464 [11:40<13:32,  1.63it/s]"
     ]
    },
    {
     "name": "stdout",
     "output_type": "stream",
     "text": [
      "   ✅ Procesadas 1140/2464 reseñas\n"
     ]
    },
    {
     "name": "stderr",
     "output_type": "stream",
     "text": [
      "Clasificando reseñas:  47%|████▋     | 1150/2464 [11:48<18:23,  1.19it/s]"
     ]
    },
    {
     "name": "stdout",
     "output_type": "stream",
     "text": [
      "   ✅ Procesadas 1150/2464 reseñas\n",
      "   💾 Checkpoint guardado en índice 1149\n"
     ]
    },
    {
     "name": "stderr",
     "output_type": "stream",
     "text": [
      "Clasificando reseñas:  47%|████▋     | 1160/2464 [11:56<15:26,  1.41it/s]"
     ]
    },
    {
     "name": "stdout",
     "output_type": "stream",
     "text": [
      "   ✅ Procesadas 1160/2464 reseñas\n"
     ]
    },
    {
     "name": "stderr",
     "output_type": "stream",
     "text": [
      "Clasificando reseñas:  47%|████▋     | 1170/2464 [12:02<13:02,  1.65it/s]"
     ]
    },
    {
     "name": "stdout",
     "output_type": "stream",
     "text": [
      "   ✅ Procesadas 1170/2464 reseñas\n"
     ]
    },
    {
     "name": "stderr",
     "output_type": "stream",
     "text": [
      "Clasificando reseñas:  48%|████▊     | 1180/2464 [12:10<20:08,  1.06it/s]"
     ]
    },
    {
     "name": "stdout",
     "output_type": "stream",
     "text": [
      "   ✅ Procesadas 1180/2464 reseñas\n"
     ]
    },
    {
     "name": "stderr",
     "output_type": "stream",
     "text": [
      "Clasificando reseñas:  48%|████▊     | 1190/2464 [12:19<29:36,  1.39s/it]"
     ]
    },
    {
     "name": "stdout",
     "output_type": "stream",
     "text": [
      "   ✅ Procesadas 1190/2464 reseñas\n"
     ]
    },
    {
     "name": "stderr",
     "output_type": "stream",
     "text": [
      "Clasificando reseñas:  49%|████▊     | 1200/2464 [12:30<26:08,  1.24s/it]"
     ]
    },
    {
     "name": "stdout",
     "output_type": "stream",
     "text": [
      "   ✅ Procesadas 1200/2464 reseñas\n",
      "   💾 Checkpoint guardado en índice 1199\n"
     ]
    },
    {
     "name": "stderr",
     "output_type": "stream",
     "text": [
      "Clasificando reseñas:  49%|████▉     | 1210/2464 [12:37<12:59,  1.61it/s]"
     ]
    },
    {
     "name": "stdout",
     "output_type": "stream",
     "text": [
      "   ✅ Procesadas 1210/2464 reseñas\n"
     ]
    },
    {
     "name": "stderr",
     "output_type": "stream",
     "text": [
      "Clasificando reseñas:  50%|████▉     | 1220/2464 [12:42<07:56,  2.61it/s]"
     ]
    },
    {
     "name": "stdout",
     "output_type": "stream",
     "text": [
      "   ✅ Procesadas 1220/2464 reseñas\n"
     ]
    },
    {
     "name": "stderr",
     "output_type": "stream",
     "text": [
      "Clasificando reseñas:  50%|████▉     | 1230/2464 [12:50<20:02,  1.03it/s]"
     ]
    },
    {
     "name": "stdout",
     "output_type": "stream",
     "text": [
      "   ✅ Procesadas 1230/2464 reseñas\n"
     ]
    },
    {
     "name": "stderr",
     "output_type": "stream",
     "text": [
      "Clasificando reseñas:  50%|█████     | 1240/2464 [13:01<29:53,  1.47s/it]"
     ]
    },
    {
     "name": "stdout",
     "output_type": "stream",
     "text": [
      "   ✅ Procesadas 1240/2464 reseñas\n"
     ]
    },
    {
     "name": "stderr",
     "output_type": "stream",
     "text": [
      "Clasificando reseñas:  51%|█████     | 1250/2464 [13:07<13:59,  1.45it/s]"
     ]
    },
    {
     "name": "stdout",
     "output_type": "stream",
     "text": [
      "   ✅ Procesadas 1250/2464 reseñas\n",
      "   💾 Checkpoint guardado en índice 1249\n"
     ]
    },
    {
     "name": "stderr",
     "output_type": "stream",
     "text": [
      "Clasificando reseñas:  51%|█████     | 1258/2464 [13:12<12:59,  1.55it/s]"
     ]
    },
    {
     "name": "stdout",
     "output_type": "stream",
     "text": [
      "   ✅ Procesadas 1260/2464 reseñas\n"
     ]
    },
    {
     "name": "stderr",
     "output_type": "stream",
     "text": [
      "Clasificando reseñas:  52%|█████▏    | 1270/2464 [13:22<13:23,  1.49it/s]"
     ]
    },
    {
     "name": "stdout",
     "output_type": "stream",
     "text": [
      "   ✅ Procesadas 1270/2464 reseñas\n"
     ]
    },
    {
     "name": "stderr",
     "output_type": "stream",
     "text": [
      "Clasificando reseñas:  52%|█████▏    | 1280/2464 [13:30<12:58,  1.52it/s]"
     ]
    },
    {
     "name": "stdout",
     "output_type": "stream",
     "text": [
      "   ✅ Procesadas 1280/2464 reseñas\n"
     ]
    },
    {
     "name": "stderr",
     "output_type": "stream",
     "text": [
      "Clasificando reseñas:  52%|█████▏    | 1290/2464 [13:36<13:44,  1.42it/s]"
     ]
    },
    {
     "name": "stdout",
     "output_type": "stream",
     "text": [
      "   ✅ Procesadas 1290/2464 reseñas\n"
     ]
    },
    {
     "name": "stderr",
     "output_type": "stream",
     "text": [
      "Clasificando reseñas:  53%|█████▎    | 1300/2464 [13:43<16:38,  1.17it/s]"
     ]
    },
    {
     "name": "stdout",
     "output_type": "stream",
     "text": [
      "   ✅ Procesadas 1300/2464 reseñas\n",
      "   💾 Checkpoint guardado en índice 1299\n"
     ]
    },
    {
     "name": "stderr",
     "output_type": "stream",
     "text": [
      "Clasificando reseñas:  53%|█████▎    | 1310/2464 [13:48<11:28,  1.68it/s]"
     ]
    },
    {
     "name": "stdout",
     "output_type": "stream",
     "text": [
      "   ✅ Procesadas 1310/2464 reseñas\n"
     ]
    },
    {
     "name": "stderr",
     "output_type": "stream",
     "text": [
      "Clasificando reseñas:  54%|█████▎    | 1320/2464 [13:54<12:08,  1.57it/s]"
     ]
    },
    {
     "name": "stdout",
     "output_type": "stream",
     "text": [
      "   ✅ Procesadas 1320/2464 reseñas\n"
     ]
    },
    {
     "name": "stderr",
     "output_type": "stream",
     "text": [
      "Clasificando reseñas:  54%|█████▍    | 1330/2464 [14:01<12:43,  1.49it/s]"
     ]
    },
    {
     "name": "stdout",
     "output_type": "stream",
     "text": [
      "   ✅ Procesadas 1330/2464 reseñas\n"
     ]
    },
    {
     "name": "stderr",
     "output_type": "stream",
     "text": [
      "Clasificando reseñas:  54%|█████▍    | 1340/2464 [14:08<12:54,  1.45it/s]"
     ]
    },
    {
     "name": "stdout",
     "output_type": "stream",
     "text": [
      "   ✅ Procesadas 1340/2464 reseñas\n"
     ]
    },
    {
     "name": "stderr",
     "output_type": "stream",
     "text": [
      "Clasificando reseñas:  55%|█████▍    | 1350/2464 [14:18<16:25,  1.13it/s]"
     ]
    },
    {
     "name": "stdout",
     "output_type": "stream",
     "text": [
      "   ✅ Procesadas 1350/2464 reseñas\n",
      "   💾 Checkpoint guardado en índice 1349\n"
     ]
    },
    {
     "name": "stderr",
     "output_type": "stream",
     "text": [
      "Clasificando reseñas:  55%|█████▌    | 1360/2464 [14:31<20:25,  1.11s/it]"
     ]
    },
    {
     "name": "stdout",
     "output_type": "stream",
     "text": [
      "   ✅ Procesadas 1360/2464 reseñas\n"
     ]
    },
    {
     "name": "stderr",
     "output_type": "stream",
     "text": [
      "Clasificando reseñas:  56%|█████▌    | 1370/2464 [14:38<11:22,  1.60it/s]"
     ]
    },
    {
     "name": "stdout",
     "output_type": "stream",
     "text": [
      "   ✅ Procesadas 1370/2464 reseñas\n"
     ]
    },
    {
     "name": "stderr",
     "output_type": "stream",
     "text": [
      "Clasificando reseñas:  56%|█████▌    | 1380/2464 [14:44<11:06,  1.63it/s]"
     ]
    },
    {
     "name": "stdout",
     "output_type": "stream",
     "text": [
      "   ✅ Procesadas 1380/2464 reseñas\n"
     ]
    },
    {
     "name": "stderr",
     "output_type": "stream",
     "text": [
      "Clasificando reseñas:  56%|█████▋    | 1390/2464 [14:49<09:03,  1.98it/s]"
     ]
    },
    {
     "name": "stdout",
     "output_type": "stream",
     "text": [
      "   ✅ Procesadas 1390/2464 reseñas\n"
     ]
    },
    {
     "name": "stderr",
     "output_type": "stream",
     "text": [
      "Clasificando reseñas:  57%|█████▋    | 1400/2464 [14:55<12:14,  1.45it/s]"
     ]
    },
    {
     "name": "stdout",
     "output_type": "stream",
     "text": [
      "   ✅ Procesadas 1400/2464 reseñas\n",
      "   💾 Checkpoint guardado en índice 1399\n"
     ]
    },
    {
     "name": "stderr",
     "output_type": "stream",
     "text": [
      "Clasificando reseñas:  57%|█████▋    | 1410/2464 [15:03<12:59,  1.35it/s]"
     ]
    },
    {
     "name": "stdout",
     "output_type": "stream",
     "text": [
      "   ✅ Procesadas 1410/2464 reseñas\n"
     ]
    },
    {
     "name": "stderr",
     "output_type": "stream",
     "text": [
      "Clasificando reseñas:  58%|█████▊    | 1420/2464 [15:08<10:25,  1.67it/s]"
     ]
    },
    {
     "name": "stdout",
     "output_type": "stream",
     "text": [
      "   ✅ Procesadas 1420/2464 reseñas\n"
     ]
    },
    {
     "name": "stderr",
     "output_type": "stream",
     "text": [
      "Clasificando reseñas:  58%|█████▊    | 1430/2464 [15:18<10:26,  1.65it/s]"
     ]
    },
    {
     "name": "stdout",
     "output_type": "stream",
     "text": [
      "   ✅ Procesadas 1430/2464 reseñas\n"
     ]
    },
    {
     "name": "stderr",
     "output_type": "stream",
     "text": [
      "Clasificando reseñas:  58%|█████▊    | 1440/2464 [15:24<11:15,  1.52it/s]"
     ]
    },
    {
     "name": "stdout",
     "output_type": "stream",
     "text": [
      "   ✅ Procesadas 1440/2464 reseñas\n"
     ]
    },
    {
     "name": "stderr",
     "output_type": "stream",
     "text": [
      "Clasificando reseñas:  59%|█████▉    | 1450/2464 [15:30<10:00,  1.69it/s]"
     ]
    },
    {
     "name": "stdout",
     "output_type": "stream",
     "text": [
      "   ✅ Procesadas 1450/2464 reseñas\n",
      "   💾 Checkpoint guardado en índice 1449\n"
     ]
    },
    {
     "name": "stderr",
     "output_type": "stream",
     "text": [
      "Clasificando reseñas:  59%|█████▉    | 1460/2464 [15:37<10:40,  1.57it/s]"
     ]
    },
    {
     "name": "stdout",
     "output_type": "stream",
     "text": [
      "   ✅ Procesadas 1460/2464 reseñas\n"
     ]
    },
    {
     "name": "stderr",
     "output_type": "stream",
     "text": [
      "Clasificando reseñas:  60%|█████▉    | 1470/2464 [15:43<11:15,  1.47it/s]"
     ]
    },
    {
     "name": "stdout",
     "output_type": "stream",
     "text": [
      "   ✅ Procesadas 1470/2464 reseñas\n"
     ]
    },
    {
     "name": "stderr",
     "output_type": "stream",
     "text": [
      "Clasificando reseñas:  60%|██████    | 1480/2464 [15:49<08:30,  1.93it/s]"
     ]
    },
    {
     "name": "stdout",
     "output_type": "stream",
     "text": [
      "   ✅ Procesadas 1480/2464 reseñas\n"
     ]
    },
    {
     "name": "stderr",
     "output_type": "stream",
     "text": [
      "Clasificando reseñas:  60%|██████    | 1490/2464 [15:55<10:16,  1.58it/s]"
     ]
    },
    {
     "name": "stdout",
     "output_type": "stream",
     "text": [
      "   ✅ Procesadas 1490/2464 reseñas\n"
     ]
    },
    {
     "name": "stderr",
     "output_type": "stream",
     "text": [
      "Clasificando reseñas:  61%|██████    | 1500/2464 [16:02<09:56,  1.62it/s]"
     ]
    },
    {
     "name": "stdout",
     "output_type": "stream",
     "text": [
      "   ✅ Procesadas 1500/2464 reseñas\n",
      "   💾 Checkpoint guardado en índice 1499\n"
     ]
    },
    {
     "name": "stderr",
     "output_type": "stream",
     "text": [
      "Clasificando reseñas:  61%|██████▏   | 1510/2464 [16:08<10:06,  1.57it/s]"
     ]
    },
    {
     "name": "stdout",
     "output_type": "stream",
     "text": [
      "   ✅ Procesadas 1510/2464 reseñas\n"
     ]
    },
    {
     "name": "stderr",
     "output_type": "stream",
     "text": [
      "Clasificando reseñas:  62%|██████▏   | 1520/2464 [16:13<08:24,  1.87it/s]"
     ]
    },
    {
     "name": "stdout",
     "output_type": "stream",
     "text": [
      "   ✅ Procesadas 1520/2464 reseñas\n"
     ]
    },
    {
     "name": "stderr",
     "output_type": "stream",
     "text": [
      "Clasificando reseñas:  62%|██████▏   | 1529/2464 [16:18<08:55,  1.75it/s]"
     ]
    },
    {
     "name": "stdout",
     "output_type": "stream",
     "text": [
      "   ✅ Procesadas 1530/2464 reseñas\n"
     ]
    },
    {
     "name": "stderr",
     "output_type": "stream",
     "text": [
      "Clasificando reseñas:  62%|██████▎   | 1540/2464 [16:24<09:00,  1.71it/s]"
     ]
    },
    {
     "name": "stdout",
     "output_type": "stream",
     "text": [
      "   ✅ Procesadas 1540/2464 reseñas\n"
     ]
    },
    {
     "name": "stderr",
     "output_type": "stream",
     "text": [
      "Clasificando reseñas:  63%|██████▎   | 1550/2464 [16:29<08:06,  1.88it/s]"
     ]
    },
    {
     "name": "stdout",
     "output_type": "stream",
     "text": [
      "   ✅ Procesadas 1550/2464 reseñas\n",
      "   💾 Checkpoint guardado en índice 1549\n"
     ]
    },
    {
     "name": "stderr",
     "output_type": "stream",
     "text": [
      "Clasificando reseñas:  63%|██████▎   | 1560/2464 [16:35<08:27,  1.78it/s]"
     ]
    },
    {
     "name": "stdout",
     "output_type": "stream",
     "text": [
      "   ✅ Procesadas 1560/2464 reseñas\n"
     ]
    },
    {
     "name": "stderr",
     "output_type": "stream",
     "text": [
      "Clasificando reseñas:  64%|██████▎   | 1570/2464 [16:42<10:48,  1.38it/s]"
     ]
    },
    {
     "name": "stdout",
     "output_type": "stream",
     "text": [
      "   ✅ Procesadas 1570/2464 reseñas\n"
     ]
    },
    {
     "name": "stderr",
     "output_type": "stream",
     "text": [
      "Clasificando reseñas:  64%|██████▍   | 1580/2464 [16:47<07:20,  2.01it/s]"
     ]
    },
    {
     "name": "stdout",
     "output_type": "stream",
     "text": [
      "   ✅ Procesadas 1580/2464 reseñas\n"
     ]
    },
    {
     "name": "stderr",
     "output_type": "stream",
     "text": [
      "Clasificando reseñas:  65%|██████▍   | 1590/2464 [16:55<12:50,  1.13it/s]"
     ]
    },
    {
     "name": "stdout",
     "output_type": "stream",
     "text": [
      "   ✅ Procesadas 1590/2464 reseñas\n"
     ]
    },
    {
     "name": "stderr",
     "output_type": "stream",
     "text": [
      "Clasificando reseñas:  65%|██████▍   | 1600/2464 [17:03<11:21,  1.27it/s]"
     ]
    },
    {
     "name": "stdout",
     "output_type": "stream",
     "text": [
      "   ✅ Procesadas 1600/2464 reseñas\n",
      "   💾 Checkpoint guardado en índice 1599\n"
     ]
    },
    {
     "name": "stderr",
     "output_type": "stream",
     "text": [
      "Clasificando reseñas:  65%|██████▌   | 1610/2464 [17:09<08:58,  1.59it/s]"
     ]
    },
    {
     "name": "stdout",
     "output_type": "stream",
     "text": [
      "   ✅ Procesadas 1610/2464 reseñas\n"
     ]
    },
    {
     "name": "stderr",
     "output_type": "stream",
     "text": [
      "Clasificando reseñas:  66%|██████▌   | 1620/2464 [17:15<08:28,  1.66it/s]"
     ]
    },
    {
     "name": "stdout",
     "output_type": "stream",
     "text": [
      "   ✅ Procesadas 1620/2464 reseñas\n"
     ]
    },
    {
     "name": "stderr",
     "output_type": "stream",
     "text": [
      "Clasificando reseñas:  66%|██████▌   | 1628/2464 [17:20<07:47,  1.79it/s]"
     ]
    },
    {
     "name": "stdout",
     "output_type": "stream",
     "text": [
      "   ✅ Procesadas 1630/2464 reseñas\n"
     ]
    },
    {
     "name": "stderr",
     "output_type": "stream",
     "text": [
      "Clasificando reseñas:  67%|██████▋   | 1640/2464 [17:26<12:20,  1.11it/s]"
     ]
    },
    {
     "name": "stdout",
     "output_type": "stream",
     "text": [
      "   ✅ Procesadas 1640/2464 reseñas\n"
     ]
    },
    {
     "name": "stderr",
     "output_type": "stream",
     "text": [
      "Clasificando reseñas:  67%|██████▋   | 1650/2464 [17:33<08:15,  1.64it/s]"
     ]
    },
    {
     "name": "stdout",
     "output_type": "stream",
     "text": [
      "   ✅ Procesadas 1650/2464 reseñas\n",
      "   💾 Checkpoint guardado en índice 1649\n"
     ]
    },
    {
     "name": "stderr",
     "output_type": "stream",
     "text": [
      "Clasificando reseñas:  67%|██████▋   | 1660/2464 [17:39<08:12,  1.63it/s]"
     ]
    },
    {
     "name": "stdout",
     "output_type": "stream",
     "text": [
      "   ✅ Procesadas 1660/2464 reseñas\n"
     ]
    },
    {
     "name": "stderr",
     "output_type": "stream",
     "text": [
      "Clasificando reseñas:  68%|██████▊   | 1670/2464 [17:45<07:41,  1.72it/s]"
     ]
    },
    {
     "name": "stdout",
     "output_type": "stream",
     "text": [
      "   ✅ Procesadas 1670/2464 reseñas\n"
     ]
    },
    {
     "name": "stderr",
     "output_type": "stream",
     "text": [
      "Clasificando reseñas:  68%|██████▊   | 1679/2464 [17:51<07:45,  1.69it/s]"
     ]
    },
    {
     "name": "stdout",
     "output_type": "stream",
     "text": [
      "   ✅ Procesadas 1680/2464 reseñas\n"
     ]
    },
    {
     "name": "stderr",
     "output_type": "stream",
     "text": [
      "Clasificando reseñas:  69%|██████▊   | 1690/2464 [17:56<07:04,  1.82it/s]"
     ]
    },
    {
     "name": "stdout",
     "output_type": "stream",
     "text": [
      "   ✅ Procesadas 1690/2464 reseñas\n"
     ]
    },
    {
     "name": "stderr",
     "output_type": "stream",
     "text": [
      "Clasificando reseñas:  69%|██████▉   | 1700/2464 [18:02<07:40,  1.66it/s]"
     ]
    },
    {
     "name": "stdout",
     "output_type": "stream",
     "text": [
      "   ✅ Procesadas 1700/2464 reseñas\n",
      "   💾 Checkpoint guardado en índice 1699\n"
     ]
    },
    {
     "name": "stderr",
     "output_type": "stream",
     "text": [
      "Clasificando reseñas:  69%|██████▉   | 1710/2464 [18:08<07:02,  1.78it/s]"
     ]
    },
    {
     "name": "stdout",
     "output_type": "stream",
     "text": [
      "   ✅ Procesadas 1710/2464 reseñas\n"
     ]
    },
    {
     "name": "stderr",
     "output_type": "stream",
     "text": [
      "Clasificando reseñas:  70%|██████▉   | 1720/2464 [18:15<08:50,  1.40it/s]"
     ]
    },
    {
     "name": "stdout",
     "output_type": "stream",
     "text": [
      "   ✅ Procesadas 1720/2464 reseñas\n"
     ]
    },
    {
     "name": "stderr",
     "output_type": "stream",
     "text": [
      "Clasificando reseñas:  70%|███████   | 1730/2464 [18:21<07:18,  1.67it/s]"
     ]
    },
    {
     "name": "stdout",
     "output_type": "stream",
     "text": [
      "   ✅ Procesadas 1730/2464 reseñas\n"
     ]
    },
    {
     "name": "stderr",
     "output_type": "stream",
     "text": [
      "Clasificando reseñas:  71%|███████   | 1740/2464 [18:26<07:03,  1.71it/s]"
     ]
    },
    {
     "name": "stdout",
     "output_type": "stream",
     "text": [
      "   ✅ Procesadas 1740/2464 reseñas\n"
     ]
    },
    {
     "name": "stderr",
     "output_type": "stream",
     "text": [
      "Clasificando reseñas:  71%|███████   | 1750/2464 [18:32<07:07,  1.67it/s]"
     ]
    },
    {
     "name": "stdout",
     "output_type": "stream",
     "text": [
      "   ✅ Procesadas 1750/2464 reseñas\n",
      "   💾 Checkpoint guardado en índice 1749\n"
     ]
    },
    {
     "name": "stderr",
     "output_type": "stream",
     "text": [
      "Clasificando reseñas:  71%|███████▏  | 1760/2464 [18:40<08:19,  1.41it/s]"
     ]
    },
    {
     "name": "stdout",
     "output_type": "stream",
     "text": [
      "   ✅ Procesadas 1760/2464 reseñas\n"
     ]
    },
    {
     "name": "stderr",
     "output_type": "stream",
     "text": [
      "Clasificando reseñas:  72%|███████▏  | 1770/2464 [18:46<07:28,  1.55it/s]"
     ]
    },
    {
     "name": "stdout",
     "output_type": "stream",
     "text": [
      "   ✅ Procesadas 1770/2464 reseñas\n"
     ]
    },
    {
     "name": "stderr",
     "output_type": "stream",
     "text": [
      "Clasificando reseñas:  72%|███████▏  | 1780/2464 [18:52<06:34,  1.73it/s]"
     ]
    },
    {
     "name": "stdout",
     "output_type": "stream",
     "text": [
      "   ✅ Procesadas 1780/2464 reseñas\n"
     ]
    },
    {
     "name": "stderr",
     "output_type": "stream",
     "text": [
      "Clasificando reseñas:  73%|███████▎  | 1790/2464 [18:56<06:06,  1.84it/s]"
     ]
    },
    {
     "name": "stdout",
     "output_type": "stream",
     "text": [
      "   ✅ Procesadas 1790/2464 reseñas\n"
     ]
    },
    {
     "name": "stderr",
     "output_type": "stream",
     "text": [
      "Clasificando reseñas:  73%|███████▎  | 1800/2464 [19:04<07:46,  1.42it/s]"
     ]
    },
    {
     "name": "stdout",
     "output_type": "stream",
     "text": [
      "   ✅ Procesadas 1800/2464 reseñas\n",
      "   💾 Checkpoint guardado en índice 1799\n"
     ]
    },
    {
     "name": "stderr",
     "output_type": "stream",
     "text": [
      "Clasificando reseñas:  73%|███████▎  | 1810/2464 [19:11<06:03,  1.80it/s]"
     ]
    },
    {
     "name": "stdout",
     "output_type": "stream",
     "text": [
      "   ✅ Procesadas 1810/2464 reseñas\n"
     ]
    },
    {
     "name": "stderr",
     "output_type": "stream",
     "text": [
      "Clasificando reseñas:  74%|███████▍  | 1820/2464 [19:17<06:39,  1.61it/s]"
     ]
    },
    {
     "name": "stdout",
     "output_type": "stream",
     "text": [
      "   ✅ Procesadas 1820/2464 reseñas\n"
     ]
    },
    {
     "name": "stderr",
     "output_type": "stream",
     "text": [
      "Clasificando reseñas:  74%|███████▍  | 1830/2464 [19:26<08:54,  1.19it/s]"
     ]
    },
    {
     "name": "stdout",
     "output_type": "stream",
     "text": [
      "   ✅ Procesadas 1830/2464 reseñas\n"
     ]
    },
    {
     "name": "stderr",
     "output_type": "stream",
     "text": [
      "Clasificando reseñas:  75%|███████▍  | 1840/2464 [19:35<08:44,  1.19it/s]"
     ]
    },
    {
     "name": "stdout",
     "output_type": "stream",
     "text": [
      "   ✅ Procesadas 1840/2464 reseñas\n"
     ]
    },
    {
     "name": "stderr",
     "output_type": "stream",
     "text": [
      "Clasificando reseñas:  75%|███████▌  | 1850/2464 [19:45<09:23,  1.09it/s]"
     ]
    },
    {
     "name": "stdout",
     "output_type": "stream",
     "text": [
      "   ✅ Procesadas 1850/2464 reseñas\n",
      "   💾 Checkpoint guardado en índice 1849\n"
     ]
    },
    {
     "name": "stderr",
     "output_type": "stream",
     "text": [
      "Clasificando reseñas:  75%|███████▌  | 1860/2464 [19:53<08:09,  1.23it/s]"
     ]
    },
    {
     "name": "stdout",
     "output_type": "stream",
     "text": [
      "   ✅ Procesadas 1860/2464 reseñas\n"
     ]
    },
    {
     "name": "stderr",
     "output_type": "stream",
     "text": [
      "Clasificando reseñas:  76%|███████▌  | 1870/2464 [20:00<06:41,  1.48it/s]"
     ]
    },
    {
     "name": "stdout",
     "output_type": "stream",
     "text": [
      "   ✅ Procesadas 1870/2464 reseñas\n"
     ]
    },
    {
     "name": "stderr",
     "output_type": "stream",
     "text": [
      "Clasificando reseñas:  76%|███████▋  | 1880/2464 [20:06<05:58,  1.63it/s]"
     ]
    },
    {
     "name": "stdout",
     "output_type": "stream",
     "text": [
      "   ✅ Procesadas 1880/2464 reseñas\n"
     ]
    },
    {
     "name": "stderr",
     "output_type": "stream",
     "text": [
      "Clasificando reseñas:  77%|███████▋  | 1890/2464 [20:12<05:38,  1.70it/s]"
     ]
    },
    {
     "name": "stdout",
     "output_type": "stream",
     "text": [
      "   ✅ Procesadas 1890/2464 reseñas\n"
     ]
    },
    {
     "name": "stderr",
     "output_type": "stream",
     "text": [
      "Clasificando reseñas:  77%|███████▋  | 1900/2464 [20:22<08:22,  1.12it/s]"
     ]
    },
    {
     "name": "stdout",
     "output_type": "stream",
     "text": [
      "   ✅ Procesadas 1900/2464 reseñas\n",
      "   💾 Checkpoint guardado en índice 1899\n"
     ]
    },
    {
     "name": "stderr",
     "output_type": "stream",
     "text": [
      "Clasificando reseñas:  78%|███████▊  | 1910/2464 [20:26<03:26,  2.68it/s]"
     ]
    },
    {
     "name": "stdout",
     "output_type": "stream",
     "text": [
      "   ✅ Procesadas 1910/2464 reseñas\n"
     ]
    },
    {
     "name": "stderr",
     "output_type": "stream",
     "text": [
      "Clasificando reseñas:  78%|███████▊  | 1920/2464 [20:35<05:38,  1.61it/s]"
     ]
    },
    {
     "name": "stdout",
     "output_type": "stream",
     "text": [
      "   ✅ Procesadas 1920/2464 reseñas\n"
     ]
    },
    {
     "name": "stderr",
     "output_type": "stream",
     "text": [
      "Clasificando reseñas:  78%|███████▊  | 1930/2464 [20:42<06:41,  1.33it/s]"
     ]
    },
    {
     "name": "stdout",
     "output_type": "stream",
     "text": [
      "   ✅ Procesadas 1930/2464 reseñas\n"
     ]
    },
    {
     "name": "stderr",
     "output_type": "stream",
     "text": [
      "Clasificando reseñas:  79%|███████▊  | 1940/2464 [20:48<06:20,  1.38it/s]"
     ]
    },
    {
     "name": "stdout",
     "output_type": "stream",
     "text": [
      "   ✅ Procesadas 1940/2464 reseñas\n"
     ]
    },
    {
     "name": "stderr",
     "output_type": "stream",
     "text": [
      "Clasificando reseñas:  79%|███████▉  | 1950/2464 [20:56<06:47,  1.26it/s]"
     ]
    },
    {
     "name": "stdout",
     "output_type": "stream",
     "text": [
      "   ✅ Procesadas 1950/2464 reseñas\n",
      "   💾 Checkpoint guardado en índice 1949\n"
     ]
    },
    {
     "name": "stderr",
     "output_type": "stream",
     "text": [
      "Clasificando reseñas:  80%|███████▉  | 1960/2464 [21:01<04:48,  1.74it/s]"
     ]
    },
    {
     "name": "stdout",
     "output_type": "stream",
     "text": [
      "   ✅ Procesadas 1960/2464 reseñas\n"
     ]
    },
    {
     "name": "stderr",
     "output_type": "stream",
     "text": [
      "Clasificando reseñas:  80%|███████▉  | 1970/2464 [21:07<05:12,  1.58it/s]"
     ]
    },
    {
     "name": "stdout",
     "output_type": "stream",
     "text": [
      "   ✅ Procesadas 1970/2464 reseñas\n"
     ]
    },
    {
     "name": "stderr",
     "output_type": "stream",
     "text": [
      "Clasificando reseñas:  80%|████████  | 1980/2464 [21:13<04:33,  1.77it/s]"
     ]
    },
    {
     "name": "stdout",
     "output_type": "stream",
     "text": [
      "   ✅ Procesadas 1980/2464 reseñas\n"
     ]
    },
    {
     "name": "stderr",
     "output_type": "stream",
     "text": [
      "Clasificando reseñas:  81%|████████  | 1990/2464 [21:19<04:37,  1.71it/s]"
     ]
    },
    {
     "name": "stdout",
     "output_type": "stream",
     "text": [
      "   ✅ Procesadas 1990/2464 reseñas\n"
     ]
    },
    {
     "name": "stderr",
     "output_type": "stream",
     "text": [
      "Clasificando reseñas:  81%|████████  | 2000/2464 [21:26<05:26,  1.42it/s]"
     ]
    },
    {
     "name": "stdout",
     "output_type": "stream",
     "text": [
      "   ✅ Procesadas 2000/2464 reseñas\n",
      "   💾 Checkpoint guardado en índice 1999\n"
     ]
    },
    {
     "name": "stderr",
     "output_type": "stream",
     "text": [
      "Clasificando reseñas:  82%|████████▏ | 2010/2464 [21:31<04:22,  1.73it/s]"
     ]
    },
    {
     "name": "stdout",
     "output_type": "stream",
     "text": [
      "   ✅ Procesadas 2010/2464 reseñas\n"
     ]
    },
    {
     "name": "stderr",
     "output_type": "stream",
     "text": [
      "Clasificando reseñas:  82%|████████▏ | 2020/2464 [21:40<06:58,  1.06it/s]"
     ]
    },
    {
     "name": "stdout",
     "output_type": "stream",
     "text": [
      "   ✅ Procesadas 2020/2464 reseñas\n"
     ]
    },
    {
     "name": "stderr",
     "output_type": "stream",
     "text": [
      "Clasificando reseñas:  82%|████████▏ | 2030/2464 [21:46<04:46,  1.51it/s]"
     ]
    },
    {
     "name": "stdout",
     "output_type": "stream",
     "text": [
      "   ✅ Procesadas 2030/2464 reseñas\n"
     ]
    },
    {
     "name": "stderr",
     "output_type": "stream",
     "text": [
      "Clasificando reseñas:  83%|████████▎ | 2040/2464 [21:54<05:09,  1.37it/s]"
     ]
    },
    {
     "name": "stdout",
     "output_type": "stream",
     "text": [
      "   ✅ Procesadas 2040/2464 reseñas\n"
     ]
    },
    {
     "name": "stderr",
     "output_type": "stream",
     "text": [
      "Clasificando reseñas:  83%|████████▎ | 2050/2464 [21:59<02:41,  2.56it/s]"
     ]
    },
    {
     "name": "stdout",
     "output_type": "stream",
     "text": [
      "   ✅ Procesadas 2050/2464 reseñas\n",
      "   💾 Checkpoint guardado en índice 2049\n"
     ]
    },
    {
     "name": "stderr",
     "output_type": "stream",
     "text": [
      "Clasificando reseñas:  84%|████████▎ | 2060/2464 [22:06<05:09,  1.31it/s]"
     ]
    },
    {
     "name": "stdout",
     "output_type": "stream",
     "text": [
      "   ✅ Procesadas 2060/2464 reseñas\n"
     ]
    },
    {
     "name": "stderr",
     "output_type": "stream",
     "text": [
      "Clasificando reseñas:  84%|████████▍ | 2070/2464 [22:14<04:42,  1.39it/s]"
     ]
    },
    {
     "name": "stdout",
     "output_type": "stream",
     "text": [
      "   ✅ Procesadas 2070/2464 reseñas\n"
     ]
    },
    {
     "name": "stderr",
     "output_type": "stream",
     "text": [
      "Clasificando reseñas:  84%|████████▍ | 2080/2464 [22:20<04:20,  1.48it/s]"
     ]
    },
    {
     "name": "stdout",
     "output_type": "stream",
     "text": [
      "   ✅ Procesadas 2080/2464 reseñas\n"
     ]
    },
    {
     "name": "stderr",
     "output_type": "stream",
     "text": [
      "Clasificando reseñas:  85%|████████▍ | 2090/2464 [22:27<05:22,  1.16it/s]"
     ]
    },
    {
     "name": "stdout",
     "output_type": "stream",
     "text": [
      "   ✅ Procesadas 2090/2464 reseñas\n"
     ]
    },
    {
     "name": "stderr",
     "output_type": "stream",
     "text": [
      "Clasificando reseñas:  85%|████████▌ | 2100/2464 [22:32<03:08,  1.93it/s]"
     ]
    },
    {
     "name": "stdout",
     "output_type": "stream",
     "text": [
      "   ✅ Procesadas 2100/2464 reseñas\n",
      "   💾 Checkpoint guardado en índice 2099\n"
     ]
    },
    {
     "name": "stderr",
     "output_type": "stream",
     "text": [
      "Clasificando reseñas:  86%|████████▌ | 2110/2464 [22:38<03:19,  1.77it/s]"
     ]
    },
    {
     "name": "stdout",
     "output_type": "stream",
     "text": [
      "   ✅ Procesadas 2110/2464 reseñas\n"
     ]
    },
    {
     "name": "stderr",
     "output_type": "stream",
     "text": [
      "Clasificando reseñas:  86%|████████▌ | 2120/2464 [22:44<03:38,  1.57it/s]"
     ]
    },
    {
     "name": "stdout",
     "output_type": "stream",
     "text": [
      "   ✅ Procesadas 2120/2464 reseñas\n"
     ]
    },
    {
     "name": "stderr",
     "output_type": "stream",
     "text": [
      "Clasificando reseñas:  86%|████████▋ | 2130/2464 [22:51<03:54,  1.43it/s]"
     ]
    },
    {
     "name": "stdout",
     "output_type": "stream",
     "text": [
      "   ✅ Procesadas 2130/2464 reseñas\n"
     ]
    },
    {
     "name": "stderr",
     "output_type": "stream",
     "text": [
      "Clasificando reseñas:  87%|████████▋ | 2140/2464 [22:57<03:21,  1.61it/s]"
     ]
    },
    {
     "name": "stdout",
     "output_type": "stream",
     "text": [
      "   ✅ Procesadas 2140/2464 reseñas\n"
     ]
    },
    {
     "name": "stderr",
     "output_type": "stream",
     "text": [
      "Clasificando reseñas:  87%|████████▋ | 2150/2464 [23:02<01:59,  2.64it/s]"
     ]
    },
    {
     "name": "stdout",
     "output_type": "stream",
     "text": [
      "   ✅ Procesadas 2150/2464 reseñas\n",
      "   💾 Checkpoint guardado en índice 2149\n"
     ]
    },
    {
     "name": "stderr",
     "output_type": "stream",
     "text": [
      "Clasificando reseñas:  88%|████████▊ | 2160/2464 [23:07<03:03,  1.66it/s]"
     ]
    },
    {
     "name": "stdout",
     "output_type": "stream",
     "text": [
      "   ✅ Procesadas 2160/2464 reseñas\n"
     ]
    },
    {
     "name": "stderr",
     "output_type": "stream",
     "text": [
      "Clasificando reseñas:  88%|████████▊ | 2170/2464 [23:15<03:56,  1.25it/s]"
     ]
    },
    {
     "name": "stdout",
     "output_type": "stream",
     "text": [
      "   ✅ Procesadas 2170/2464 reseñas\n"
     ]
    },
    {
     "name": "stderr",
     "output_type": "stream",
     "text": [
      "Clasificando reseñas:  88%|████████▊ | 2180/2464 [23:22<03:00,  1.57it/s]"
     ]
    },
    {
     "name": "stdout",
     "output_type": "stream",
     "text": [
      "   ✅ Procesadas 2180/2464 reseñas\n"
     ]
    },
    {
     "name": "stderr",
     "output_type": "stream",
     "text": [
      "Clasificando reseñas:  89%|████████▉ | 2190/2464 [23:28<02:52,  1.59it/s]"
     ]
    },
    {
     "name": "stdout",
     "output_type": "stream",
     "text": [
      "   ✅ Procesadas 2190/2464 reseñas\n"
     ]
    },
    {
     "name": "stderr",
     "output_type": "stream",
     "text": [
      "Clasificando reseñas:  89%|████████▉ | 2200/2464 [23:33<02:13,  1.98it/s]"
     ]
    },
    {
     "name": "stdout",
     "output_type": "stream",
     "text": [
      "   ✅ Procesadas 2200/2464 reseñas\n",
      "   💾 Checkpoint guardado en índice 2199\n"
     ]
    },
    {
     "name": "stderr",
     "output_type": "stream",
     "text": [
      "Clasificando reseñas:  90%|████████▉ | 2210/2464 [23:41<02:42,  1.56it/s]"
     ]
    },
    {
     "name": "stdout",
     "output_type": "stream",
     "text": [
      "   ✅ Procesadas 2210/2464 reseñas\n"
     ]
    },
    {
     "name": "stderr",
     "output_type": "stream",
     "text": [
      "Clasificando reseñas:  90%|█████████ | 2220/2464 [23:48<02:47,  1.45it/s]"
     ]
    },
    {
     "name": "stdout",
     "output_type": "stream",
     "text": [
      "   ✅ Procesadas 2220/2464 reseñas\n"
     ]
    },
    {
     "name": "stderr",
     "output_type": "stream",
     "text": [
      "Clasificando reseñas:  91%|█████████ | 2230/2464 [23:55<02:33,  1.52it/s]"
     ]
    },
    {
     "name": "stdout",
     "output_type": "stream",
     "text": [
      "   ✅ Procesadas 2230/2464 reseñas\n"
     ]
    },
    {
     "name": "stderr",
     "output_type": "stream",
     "text": [
      "Clasificando reseñas:  91%|█████████ | 2240/2464 [24:01<02:22,  1.58it/s]"
     ]
    },
    {
     "name": "stdout",
     "output_type": "stream",
     "text": [
      "   ✅ Procesadas 2240/2464 reseñas\n"
     ]
    },
    {
     "name": "stderr",
     "output_type": "stream",
     "text": [
      "Clasificando reseñas:  91%|█████████▏| 2250/2464 [24:07<02:16,  1.57it/s]"
     ]
    },
    {
     "name": "stdout",
     "output_type": "stream",
     "text": [
      "   ✅ Procesadas 2250/2464 reseñas\n",
      "   💾 Checkpoint guardado en índice 2249\n"
     ]
    },
    {
     "name": "stderr",
     "output_type": "stream",
     "text": [
      "Clasificando reseñas:  92%|█████████▏| 2260/2464 [24:13<02:03,  1.65it/s]"
     ]
    },
    {
     "name": "stdout",
     "output_type": "stream",
     "text": [
      "   ✅ Procesadas 2260/2464 reseñas\n"
     ]
    },
    {
     "name": "stderr",
     "output_type": "stream",
     "text": [
      "Clasificando reseñas:  92%|█████████▏| 2270/2464 [24:20<01:59,  1.62it/s]"
     ]
    },
    {
     "name": "stdout",
     "output_type": "stream",
     "text": [
      "   ✅ Procesadas 2270/2464 reseñas\n"
     ]
    },
    {
     "name": "stderr",
     "output_type": "stream",
     "text": [
      "Clasificando reseñas:  93%|█████████▎| 2280/2464 [24:27<01:59,  1.54it/s]"
     ]
    },
    {
     "name": "stdout",
     "output_type": "stream",
     "text": [
      "   ✅ Procesadas 2280/2464 reseñas\n"
     ]
    },
    {
     "name": "stderr",
     "output_type": "stream",
     "text": [
      "Clasificando reseñas:  93%|█████████▎| 2290/2464 [24:33<01:54,  1.52it/s]"
     ]
    },
    {
     "name": "stdout",
     "output_type": "stream",
     "text": [
      "   ✅ Procesadas 2290/2464 reseñas\n"
     ]
    },
    {
     "name": "stderr",
     "output_type": "stream",
     "text": [
      "Clasificando reseñas:  93%|█████████▎| 2300/2464 [24:44<02:51,  1.05s/it]"
     ]
    },
    {
     "name": "stdout",
     "output_type": "stream",
     "text": [
      "   ✅ Procesadas 2300/2464 reseñas\n",
      "   💾 Checkpoint guardado en índice 2299\n"
     ]
    },
    {
     "name": "stderr",
     "output_type": "stream",
     "text": [
      "Clasificando reseñas:  94%|█████████▍| 2310/2464 [24:51<01:46,  1.45it/s]"
     ]
    },
    {
     "name": "stdout",
     "output_type": "stream",
     "text": [
      "   ✅ Procesadas 2310/2464 reseñas\n"
     ]
    },
    {
     "name": "stderr",
     "output_type": "stream",
     "text": [
      "Clasificando reseñas:  94%|█████████▍| 2320/2464 [24:58<01:45,  1.36it/s]"
     ]
    },
    {
     "name": "stdout",
     "output_type": "stream",
     "text": [
      "   ✅ Procesadas 2320/2464 reseñas\n"
     ]
    },
    {
     "name": "stderr",
     "output_type": "stream",
     "text": [
      "Clasificando reseñas:  95%|█████████▍| 2330/2464 [25:04<01:31,  1.47it/s]"
     ]
    },
    {
     "name": "stdout",
     "output_type": "stream",
     "text": [
      "   ✅ Procesadas 2330/2464 reseñas\n"
     ]
    },
    {
     "name": "stderr",
     "output_type": "stream",
     "text": [
      "Clasificando reseñas:  95%|█████████▍| 2340/2464 [25:10<01:13,  1.68it/s]"
     ]
    },
    {
     "name": "stdout",
     "output_type": "stream",
     "text": [
      "   ✅ Procesadas 2340/2464 reseñas\n"
     ]
    },
    {
     "name": "stderr",
     "output_type": "stream",
     "text": [
      "Clasificando reseñas:  95%|█████████▌| 2350/2464 [25:19<01:34,  1.21it/s]"
     ]
    },
    {
     "name": "stdout",
     "output_type": "stream",
     "text": [
      "   ✅ Procesadas 2350/2464 reseñas\n",
      "   💾 Checkpoint guardado en índice 2349\n"
     ]
    },
    {
     "name": "stderr",
     "output_type": "stream",
     "text": [
      "Clasificando reseñas:  96%|█████████▌| 2360/2464 [25:27<01:08,  1.53it/s]"
     ]
    },
    {
     "name": "stdout",
     "output_type": "stream",
     "text": [
      "   ✅ Procesadas 2360/2464 reseñas\n"
     ]
    },
    {
     "name": "stderr",
     "output_type": "stream",
     "text": [
      "Clasificando reseñas:  96%|█████████▌| 2370/2464 [25:34<00:58,  1.59it/s]"
     ]
    },
    {
     "name": "stdout",
     "output_type": "stream",
     "text": [
      "   ✅ Procesadas 2370/2464 reseñas\n"
     ]
    },
    {
     "name": "stderr",
     "output_type": "stream",
     "text": [
      "Clasificando reseñas:  97%|█████████▋| 2380/2464 [25:39<00:45,  1.85it/s]"
     ]
    },
    {
     "name": "stdout",
     "output_type": "stream",
     "text": [
      "   ✅ Procesadas 2380/2464 reseñas\n"
     ]
    },
    {
     "name": "stderr",
     "output_type": "stream",
     "text": [
      "Clasificando reseñas:  97%|█████████▋| 2390/2464 [25:45<00:53,  1.37it/s]"
     ]
    },
    {
     "name": "stdout",
     "output_type": "stream",
     "text": [
      "   ✅ Procesadas 2390/2464 reseñas\n"
     ]
    },
    {
     "name": "stderr",
     "output_type": "stream",
     "text": [
      "Clasificando reseñas:  97%|█████████▋| 2400/2464 [25:55<01:21,  1.28s/it]"
     ]
    },
    {
     "name": "stdout",
     "output_type": "stream",
     "text": [
      "   ✅ Procesadas 2400/2464 reseñas\n",
      "   💾 Checkpoint guardado en índice 2399\n"
     ]
    },
    {
     "name": "stderr",
     "output_type": "stream",
     "text": [
      "Clasificando reseñas:  98%|█████████▊| 2410/2464 [26:04<00:40,  1.33it/s]"
     ]
    },
    {
     "name": "stdout",
     "output_type": "stream",
     "text": [
      "   ✅ Procesadas 2410/2464 reseñas\n"
     ]
    },
    {
     "name": "stderr",
     "output_type": "stream",
     "text": [
      "Clasificando reseñas:  98%|█████████▊| 2420/2464 [26:12<00:51,  1.17s/it]"
     ]
    },
    {
     "name": "stdout",
     "output_type": "stream",
     "text": [
      "   ✅ Procesadas 2420/2464 reseñas\n"
     ]
    },
    {
     "name": "stderr",
     "output_type": "stream",
     "text": [
      "Clasificando reseñas:  99%|█████████▊| 2430/2464 [26:19<00:25,  1.35it/s]"
     ]
    },
    {
     "name": "stdout",
     "output_type": "stream",
     "text": [
      "   ✅ Procesadas 2430/2464 reseñas\n"
     ]
    },
    {
     "name": "stderr",
     "output_type": "stream",
     "text": [
      "Clasificando reseñas:  99%|█████████▉| 2440/2464 [26:31<00:30,  1.26s/it]"
     ]
    },
    {
     "name": "stdout",
     "output_type": "stream",
     "text": [
      "   ✅ Procesadas 2440/2464 reseñas\n"
     ]
    },
    {
     "name": "stderr",
     "output_type": "stream",
     "text": [
      "Clasificando reseñas:  99%|█████████▉| 2449/2464 [26:37<00:10,  1.42it/s]"
     ]
    },
    {
     "name": "stdout",
     "output_type": "stream",
     "text": [
      "   ✅ Procesadas 2450/2464 reseñas\n",
      "   💾 Checkpoint guardado en índice 2449\n"
     ]
    },
    {
     "name": "stderr",
     "output_type": "stream",
     "text": [
      "Clasificando reseñas: 100%|█████████▉| 2460/2464 [26:48<00:03,  1.08it/s]"
     ]
    },
    {
     "name": "stdout",
     "output_type": "stream",
     "text": [
      "   ✅ Procesadas 2460/2464 reseñas\n"
     ]
    },
    {
     "name": "stderr",
     "output_type": "stream",
     "text": [
      "Clasificando reseñas: 100%|██████████| 2464/2464 [26:50<00:00,  1.53it/s]\n"
     ]
    },
    {
     "name": "stdout",
     "output_type": "stream",
     "text": [
      "   💾 Checkpoint guardado en índice 2463\n",
      "\n",
      "🎉 Clasificación completada!\n",
      "📊 Total procesado: 2464 reseñas\n",
      "❌ Errores: 0 reseñas\n",
      "🗑️ Checkpoint eliminado (proceso completado)\n",
      "\n",
      "🎯 Clasificación completada exitosamente\n",
      "💾 Procediendo a guardar en el dataset final...\n",
      "💾 GUARDANDO DATASET FINAL...\n",
      "📁 Ruta: ../data/processed/dataset_opiniones_analisis.csv\n",
      "📊 Registros: 2464\n",
      "✅ Dataset actualizado y guardado exitosamente\n",
      "📊 Total de registros: 2464\n",
      "🎯 Tipos de análisis disponibles: HuggingFace, Análisis por frases, LLM\n",
      "\n",
      "� Análisis de 2464 reseñas clasificadas\n",
      "\n",
      "🏷️ DISTRIBUCIÓN GENERAL:\n",
      "   Objetiva: 20 reseñas (0.8%)\n",
      "   Subjetiva: 619 reseñas (25.1%)\n",
      "   Mixta: 1825 reseñas (74.1%)\n",
      "\n",
      "🌎 POR CIUDAD:\n",
      "\n",
      "  📍 Mazatlan:\n",
      "     Objetiva: 1 reseñas (0.2%)\n",
      "     Subjetiva: 106 reseñas (21.2%)\n",
      "     Mixta: 393 reseñas (78.6%)\n",
      "\n",
      "  📍 Cancun:\n",
      "     Objetiva: 6 reseñas (1.2%)\n",
      "     Subjetiva: 131 reseñas (27.1%)\n",
      "     Mixta: 346 reseñas (71.6%)\n",
      "\n",
      "  📍 Puebla:\n",
      "     Objetiva: 3 reseñas (0.6%)\n",
      "     Subjetiva: 171 reseñas (34.2%)\n",
      "     Mixta: 326 reseñas (65.2%)\n",
      "\n",
      "  📍 Puerto_vallarta:\n",
      "     Objetiva: 7 reseñas (1.4%)\n",
      "     Subjetiva: 111 reseñas (22.6%)\n",
      "     Mixta: 373 reseñas (76.0%)\n",
      "\n",
      "  📍 Cdmx:\n",
      "     Objetiva: 3 reseñas (0.6%)\n",
      "     Subjetiva: 100 reseñas (20.4%)\n",
      "     Mixta: 387 reseñas (79.0%)\n"
     ]
    },
    {
     "data": {
      "image/png": "[encoded data removed]",
      "text/plain": [
       "<Figure size 1500x1200 with 4 Axes>"
      ]
     },
     "metadata": {},
     "output_type": "display_data"
    },
    {
     "data": {
      "image/png": "[encoded data removed]",
      "text/plain": [
       "<Figure size 1200x800 with 1 Axes>"
      ]
     },
     "metadata": {},
     "output_type": "display_data"
    },
    {
     "name": "stdout",
     "output_type": "stream",
     "text": [
      "\n",
      "🎯 RESUMEN FINAL\n",
      "========================================\n",
      "\n",
      "🏷️ RESULTADOS:\n",
      "   Objetiva: 20 reseñas (0.8%)\n",
      "   Subjetiva: 619 reseñas (25.1%)\n",
      "   Mixta: 1825 reseñas (74.1%)\n",
      "\n",
      "🌎 POR CIUDAD:\n",
      "   Mazatlan: Mixta (78.6%)\n",
      "   Cancun: Mixta (71.6%)\n",
      "   Puebla: Mixta (65.2%)\n",
      "   Puerto_vallarta: Mixta (76.0%)\n",
      "   Cdmx: Mixta (79.0%)\n",
      "\n",
      "✅ Clasificación completada\n"
     ]
    }
   ],
   "source": [
    "# Ejecutar clasificación completa\n",
    "df_clasificado, df_analizado, guardado_exitoso = proceso_completo_clasificacion(\n",
    "    df_reviews, clasificador, df_existente\n",
    ")"
   ]
  },
  {
   "cell_type": "code",
   "execution_count": 6,
   "id": "7341fa21",
   "metadata": {},
   "outputs": [
    {
     "data": {
      "text/html": [
       "<div>\n",
       "<style scoped>\n",
       "    .dataframe tbody tr th:only-of-type {\n",
       "        vertical-align: middle;\n",
       "    }\n",
       "\n",
       "    .dataframe tbody tr th {\n",
       "        vertical-align: top;\n",
       "    }\n",
       "\n",
       "    .dataframe thead th {\n",
       "        text-align: right;\n",
       "    }\n",
       "</style>\n",
       "<table border=\"1\" class=\"dataframe\">\n",
       "  <thead>\n",
       "    <tr style=\"text-align: right;\">\n",
       "      <th></th>\n",
       "      <th>Titulo</th>\n",
       "      <th>Review</th>\n",
       "      <th>Calificacion</th>\n",
       "      <th>FechaEstadia</th>\n",
       "      <th>Ciudad</th>\n",
       "      <th>Atraccion</th>\n",
       "      <th>TituloReview</th>\n",
       "      <th>SentimientoPorCalificacion</th>\n",
       "      <th>SentimientoPorHF</th>\n",
       "      <th>SentimientoPorCardiff</th>\n",
       "      <th>SubjetividadConHF</th>\n",
       "      <th>SubjetividadConFrases</th>\n",
       "      <th>SubjetividadConLLM</th>\n",
       "    </tr>\n",
       "  </thead>\n",
       "  <tbody>\n",
       "    <tr>\n",
       "      <th>0</th>\n",
       "      <td>¡Divertido y seguro!</td>\n",
       "      <td>Estoy muy impresionado con Mazatlán, Mx. . La ...</td>\n",
       "      <td>5</td>\n",
       "      <td>2025-08-01</td>\n",
       "      <td>Mazatlan</td>\n",
       "      <td>Malecon De Mazatlan</td>\n",
       "      <td>¡Divertido y seguro!. Estoy muy impresionado c...</td>\n",
       "      <td>Positivo</td>\n",
       "      <td>Positivo</td>\n",
       "      <td>Positivo</td>\n",
       "      <td>Subjetivo</td>\n",
       "      <td>Mixta</td>\n",
       "      <td>Mixta</td>\n",
       "    </tr>\n",
       "    <tr>\n",
       "      <th>1</th>\n",
       "      <td>Un mes en Mazatlán</td>\n",
       "      <td>Acabamos de pasar un mes en Mazatlán. No estoy...</td>\n",
       "      <td>3</td>\n",
       "      <td>2025-01-01</td>\n",
       "      <td>Mazatlan</td>\n",
       "      <td>Malecon De Mazatlan</td>\n",
       "      <td>Un mes en Mazatlán. Acabamos de pasar un mes e...</td>\n",
       "      <td>Neutro</td>\n",
       "      <td>Negativo</td>\n",
       "      <td>Negativo</td>\n",
       "      <td>Subjetivo</td>\n",
       "      <td>Mixta</td>\n",
       "      <td>Mixta</td>\n",
       "    </tr>\n",
       "    <tr>\n",
       "      <th>2</th>\n",
       "      <td>Maravilloso</td>\n",
       "      <td>Ubicado en la zona más turística de Mazatlán, ...</td>\n",
       "      <td>5</td>\n",
       "      <td>2025-01-01</td>\n",
       "      <td>Mazatlan</td>\n",
       "      <td>Malecon De Mazatlan</td>\n",
       "      <td>Maravilloso. Ubicado en la zona más turística ...</td>\n",
       "      <td>Positivo</td>\n",
       "      <td>Positivo</td>\n",
       "      <td>Positivo</td>\n",
       "      <td>Subjetivo</td>\n",
       "      <td>Mixta</td>\n",
       "      <td>Mixta</td>\n",
       "    </tr>\n",
       "    <tr>\n",
       "      <th>3</th>\n",
       "      <td>Caminando por el Malecón</td>\n",
       "      <td>Hermoso El Malecón de Mazatlán he caminado en ...</td>\n",
       "      <td>5</td>\n",
       "      <td>2024-12-01</td>\n",
       "      <td>Mazatlan</td>\n",
       "      <td>Malecon De Mazatlan</td>\n",
       "      <td>Caminando por el Malecón. Hermoso El Malecón d...</td>\n",
       "      <td>Positivo</td>\n",
       "      <td>Positivo</td>\n",
       "      <td>Positivo</td>\n",
       "      <td>Subjetivo</td>\n",
       "      <td>Mixta</td>\n",
       "      <td>Mixta</td>\n",
       "    </tr>\n",
       "    <tr>\n",
       "      <th>4</th>\n",
       "      <td>Nunca más, por desgracia</td>\n",
       "      <td>Mazatlán no es seguro. Lamento escribir esto, ...</td>\n",
       "      <td>1</td>\n",
       "      <td>2024-12-01</td>\n",
       "      <td>Mazatlan</td>\n",
       "      <td>Malecon De Mazatlan</td>\n",
       "      <td>Nunca más, por desgracia. Mazatlán no es segur...</td>\n",
       "      <td>Negativo</td>\n",
       "      <td>Negativo</td>\n",
       "      <td>Negativo</td>\n",
       "      <td>Subjetivo</td>\n",
       "      <td>Mixta</td>\n",
       "      <td>Mixta</td>\n",
       "    </tr>\n",
       "  </tbody>\n",
       "</table>\n",
       "</div>"
      ],
      "text/plain": [
       "                     Titulo  \\\n",
       "0      ¡Divertido y seguro!   \n",
       "1        Un mes en Mazatlán   \n",
       "2               Maravilloso   \n",
       "3  Caminando por el Malecón   \n",
       "4  Nunca más, por desgracia   \n",
       "\n",
       "                                              Review  Calificacion  \\\n",
       "0  Estoy muy impresionado con Mazatlán, Mx. . La ...             5   \n",
       "1  Acabamos de pasar un mes en Mazatlán. No estoy...             3   \n",
       "2  Ubicado en la zona más turística de Mazatlán, ...             5   \n",
       "3  Hermoso El Malecón de Mazatlán he caminado en ...             5   \n",
       "4  Mazatlán no es seguro. Lamento escribir esto, ...             1   \n",
       "\n",
       "  FechaEstadia    Ciudad            Atraccion  \\\n",
       "0   2025-08-01  Mazatlan  Malecon De Mazatlan   \n",
       "1   2025-01-01  Mazatlan  Malecon De Mazatlan   \n",
       "2   2025-01-01  Mazatlan  Malecon De Mazatlan   \n",
       "3   2024-12-01  Mazatlan  Malecon De Mazatlan   \n",
       "4   2024-12-01  Mazatlan  Malecon De Mazatlan   \n",
       "\n",
       "                                        TituloReview  \\\n",
       "0  ¡Divertido y seguro!. Estoy muy impresionado c...   \n",
       "1  Un mes en Mazatlán. Acabamos de pasar un mes e...   \n",
       "2  Maravilloso. Ubicado en la zona más turística ...   \n",
       "3  Caminando por el Malecón. Hermoso El Malecón d...   \n",
       "4  Nunca más, por desgracia. Mazatlán no es segur...   \n",
       "\n",
       "  SentimientoPorCalificacion SentimientoPorHF SentimientoPorCardiff  \\\n",
       "0                   Positivo         Positivo              Positivo   \n",
       "1                     Neutro         Negativo              Negativo   \n",
       "2                   Positivo         Positivo              Positivo   \n",
       "3                   Positivo         Positivo              Positivo   \n",
       "4                   Negativo         Negativo              Negativo   \n",
       "\n",
       "  SubjetividadConHF SubjetividadConFrases SubjetividadConLLM  \n",
       "0         Subjetivo                 Mixta              Mixta  \n",
       "1         Subjetivo                 Mixta              Mixta  \n",
       "2         Subjetivo                 Mixta              Mixta  \n",
       "3         Subjetivo                 Mixta              Mixta  \n",
       "4         Subjetivo                 Mixta              Mixta  "
      ]
     },
     "execution_count": 6,
     "metadata": {},
     "output_type": "execute_result"
    }
   ],
   "source": [
    "# Mostrar resumen del análisis\n",
    "df_analizado.head()"
   ]
  },
  {
   "cell_type": "code",
   "execution_count": 7,
   "id": "592b2e94",
   "metadata": {},
   "outputs": [
    {
     "name": "stdout",
     "output_type": "stream",
     "text": [
      "\n",
      "📋 Ejemplos por categoría:\n",
      "==============================\n",
      "\n",
      "🏷️ Objetiva:\n",
      "   1. Paseo por la ciudad. Construida hace 100 años, gran Romería. A pocas cuadras del malecón principal, rodeado de una plaza mexicana de estilo antiguo.\n",
      "   2. Great location. Convenient location. Main road, easy access to local bus routes, tourist places, shopping centers, restaurants, activities and hotels.\n",
      "   3. Un símbolo de la zona hotelera y de todo Cancún. La avenida Kukulcán a lo largo de sus 26 kms. une todos los hoteles de la zona hotelera de norte a sur, inicia saliendo de Cancún y termina cerca del acceso al aeropuerto. Las numerosas líneas de \"camiones\" (ómnibus) trasladan a los turistas de los hoteles más distantes a la zona más céntrica y viceversa.\n",
      "   ... y 17 más\n",
      "\n",
      "🏷️ Subjetiva:\n",
      "   1. Espectacular. Todo me Encanto. Las comidas el acuario, Las compa en el mercado el ambiente en la playa incredible si quieres divertirte este es el lugar. Lo mejor de todo el faro y el malecon fabulosas vistas para fotos.\n",
      "   2. Muy bonito muy entretenido y muy cuidado. Muy bonito muy entretenido y muy cuidado, esperemos que siga en las mismas condiciones, toda la parte que se puede caminar está iluminada.\n",
      "   3. Me enamore de Mazatlán 😍. Me encanto la playa, el clima, el atardecer, el ambiente nocturno es muy bueno. Tiene muchos lugares para visitar, se come delicioso, toda una experiencia subirte a una pulmonía. Sin duda voy a regresar.\n",
      "   ... y 616 más\n",
      "\n",
      "🏷️ Mixta:\n",
      "   1. ¡Divertido y seguro!. Estoy muy impresionado con Mazatlán, Mx. . La gente aquí es amable. . nos alojamos en El Cid resort el Moro. . Me encantó el complejo, las piscinas eran divertidas y el personal de los restaurantes nos cuidó mucho. . . Mis hijos también se alojaron en el club infantil, Leti y Susan cuidaron mucho de mis dos hijos mientras disfrutaba de mi tiempo en la piscina. También dimos un paseo hasta el Malecón, NO hay problemas durante mi paseo, la vibra era divertida y segura . . . todos conduciendo y caminando nos lo estamos pasando genial . . . Gracias Mazatlán este es ahora mi nuevo lugar de vacaciones. . . Volveré en mis próximas vacaciones!.\n",
      "   2. Un mes en Mazatlán. Acabamos de pasar un mes en Mazatlán. No estoy de acuerdo con algunas críticas. La infantería de marina, la patrulla fronteriza y la policía están allí para mostrar a todos una presencia. Una sensación de seguridad. Mientras estuvimos allí por treinta días oímos de solo 2 cosas. Un accidente de tráfico en la carretera principal y un pequeño problema de cartel fuera de la ciudad. Todo allí es bastante pacífico. En todas las zonas turísticas. Centro, Zona Dorada y Cerrito. No estábamos asustados ni un poco. Salimos día y noche. Hasta las 11 pm. Espero permanecer callado con la excepción del carnaval. Les encantan sus carnavales. Encontré que toda la zona era senior ex pats y locales / mexicanos. Una buena mezcla. No es un lugar para los jóvenes ni para nadadores. El agua siempre está agitada. Mis 2 quejas más grandes fueron 1) el ruido... Estéreos, buggys de dunas off road y coches y bicicletas sin silenciadores. 2 ) es bastante humeante. . Cada noche. Sentí que tenía unos cigarrillos. Also. Los conductores distraídos tienen el derecho de inmediato. Sobre peatones. Haha. Tan loco como eso. No nos arrepentimos de haber ido. Diciendo eso. No creo que volvamos.\n",
      "   3. Maravilloso. Ubicado en la zona más turística de Mazatlán, su recorrido es inmenso y lleno de alegría, cuenta con esculturas, puestos de vendimia, restaurantes y atracciones turísticas como zona de clavados y piscina natural. Es el segundo más grande del mundo solo superado por el del Rio de Brasil, sin embargo los locales cuentan sobre una posible ampliación para tomar el primer lugar, esperemos que sea cierto ya que el ambiente y la gente lo amerita.\n",
      "   ... y 1822 más\n"
     ]
    }
   ],
   "source": [
    "# Mostrar ejemplos de opiniones por categoría\n",
    "mostrar_opiniones_por_categoria(df_clasificado)"
   ]
  },
  {
   "cell_type": "code",
   "execution_count": 8,
   "id": "76210c25",
   "metadata": {},
   "outputs": [
    {
     "name": "stdout",
     "output_type": "stream",
     "text": [
      "🔍 EJEMPLOS DE OPINIONES CON DESGLOSE DETALLADO\n",
      "============================================================\n",
      "\n",
      "🎯 EJEMPLOS DE OPINIONES OBJETIVAS\n",
      "----------------------------------------\n",
      "\n",
      "📌 Ejemplo 1:\n",
      "🏛️ Catedral Mazatlan Basilica De La Inmaculada Concepcion - Mazatlan\n",
      "⭐ Calificación: 5/5\n",
      "💬 \"Paseo por la ciudad. Construida hace 100 años, gran Romería. A pocas cuadras del malecón principal, rodeado de una plaza mexicana de estilo antiguo.\"\n",
      "🤖 Clasificaciones:\n",
      "   • HuggingFace: Objetivo\n",
      "   • Por frases: Objetivo\n",
      "   • LLM (GPT): Objetiva\n",
      "\n",
      "📌 Ejemplo 2:\n",
      "🏛️ Palacio De Bellas Artes - Cdmx\n",
      "⭐ Calificación: 5/5\n",
      "💬 \"Palacio de Bellas Artes. El Palacio de Bellas Artes es un recinto arquitectónico de estilo Art Deco realizado por Adamo Boari en la primera mitad del  Siglo XX, en su interior hallarás una serie de Murales de los mejores artistas tales como David Alfaro Sequeiros, Jose Clemente Orozco y Diego Rivera (entre otros).\"\n",
      "🤖 Clasificaciones:\n",
      "   • HuggingFace: Objetivo\n",
      "   • Por frases: Objetivo\n",
      "   • LLM (GPT): Objetiva\n",
      "\n",
      "🎯 EJEMPLOS DE OPINIONES SUBJETIVAS\n",
      "----------------------------------------\n",
      "\n",
      "📌 Ejemplo 1:\n",
      "🏛️ Viejo Mazatlan - Mazatlan\n",
      "⭐ Calificación: 5/5\n",
      "💬 \"El recorrido personal es lo mejor. Esta es una visita obligada y experiencia. Es una experiencia completamente diferente a la del área de su hotel/motel.Me sentí totalmente seguro, bienvenido y amado cada minuto de mi caminata/caminata. Cualquier tipo de taxi al aire libre que vea le brindará, por una tarifa, un recorrido íntimo y personal. Eso es lo que elegí hacer. Le pregunté a mi servidor en el desayuno cuál era la mejor manera de completar el día. Compartió que su hermano estaría feliz de traer su taxi y mostrarme los aspectos más destacados.Que día. Solo hazlo.\"\n",
      "🤖 Clasificaciones:\n",
      "   • HuggingFace: Subjetivo\n",
      "   • Por frases: Mixta\n",
      "   • LLM (GPT): Subjetiva\n",
      "\n",
      "📌 Ejemplo 2:\n",
      "🏛️ Coyoacan - Cdmx\n",
      "⭐ Calificación: 2/5\n",
      "💬 \"Ya no es tan bueno. Pienso que Coyoacán ya está sobrevalorado, hay demasiada gente, mucha contaminación por lo mismo, siempre ver pasar a unas ratotas y es por lo mismo de la higiene y la gentrificación. Antes era agradable, pero ya no tanto, todo caro, siempre lleno, sucio :(.\"\n",
      "🤖 Clasificaciones:\n",
      "   • HuggingFace: Subjetivo\n",
      "   • Por frases: Subjetivo\n",
      "   • LLM (GPT): Subjetiva\n",
      "\n",
      "🎯 EJEMPLOS DE OPINIONES MIXTAS\n",
      "----------------------------------------\n",
      "\n",
      "📌 Ejemplo 1:\n",
      "🏛️ Playa Delfines - Cancun\n",
      "⭐ Calificación: 5/5\n",
      "💬 \"Arena blanca, mar turquesa, opciones de comida y bebida a la orilla de la playa. Es una playa muy bonita, familiar y con opciones para todos. Arena blanca, mar turquesa, opciones de comida y bebida a la orilla de la playa. Es una playa muy bonita, familiar y con opciones para todos.\"\n",
      "🤖 Clasificaciones:\n",
      "   • HuggingFace: Subjetivo\n",
      "   • Por frases: Mixta\n",
      "   • LLM (GPT): Mixta\n",
      "\n",
      "📌 Ejemplo 2:\n",
      "🏛️ Zocalo De La Ciudad De Mexico - Cdmx\n",
      "⭐ Calificación: 4/5\n",
      "💬 \"Informe Zocolo actualizado. El área alrededor del Zócolo es segura. Un montón de policías por todas partes y mucha gente en las calles. Nos alojamos en el hotel NH a una cuadra de distancia durante una semana y nos aventuramos a visitar los lugares de interés, restaurantes y tiendas locales durante el día y temprano en la noche. Me sentí perfectamente seguro en todo momento. Hay mucho que ver aquí. Templo Mayor y su museo. La Catedral. Gran Hotel y Ayuntamiento. Lamentablemente el Palacio Nacional está cerrado por lo que no se puede ver el mural de Diego Rivera que se encuentra allí. Palacio de las Bellas Artes, Casa de los Azulejos y mucho más para ver.\"\n",
      "🤖 Clasificaciones:\n",
      "   • HuggingFace: Subjetivo\n",
      "   • Por frases: Mixta\n",
      "   • LLM (GPT): Mixta\n"
     ]
    }
   ],
   "source": [
    "# Mostrar ejemplos con desglose detallado\n",
    "mostrar_ejemplos_detallados(df_clasificado)"
   ]
  },
  {
   "cell_type": "code",
   "execution_count": 9,
   "id": "8a69cb9a",
   "metadata": {},
   "outputs": [
    {
     "name": "stdout",
     "output_type": "stream",
     "text": [
      "\n",
      "🔬 ANÁLISIS AVANZADO DE FRASES\n",
      "==================================================\n"
     ]
    },
    {
     "name": "stderr",
     "output_type": "stream",
     "text": [
      "<frozen importlib._bootstrap>:241: DeprecationWarning: builtin type SwigPyPacked has no __module__ attribute\n",
      "<frozen importlib._bootstrap>:241: DeprecationWarning: builtin type SwigPyObject has no __module__ attribute\n",
      "Device set to use cuda:0\n"
     ]
    },
    {
     "name": "stdout",
     "output_type": "stream",
     "text": [
      "\n",
      "🎯 OPINIÓN 1:\n",
      "💬 \"Fraude en compra de lote frente a la playa. El lugar es hermos, por esa razón disidimos adquirir un lote frente a la playa. Lote No 4, dimos 10,000 dólares de anticipo. Resulta que después nos cobraran hasta parte de la playa, que pertenece a la federación, quedaron de regresarnos el anticipo porque no estábamos de acuerdo con las modificaciones de la superficie (por la razón antes señalada) esto fue en abril del 2012 y aún no nos regresan nuestro dinero.Fraude total Hemos dado vueltas y hablado en oficinas en Guadalajara y nomás se turnan la bolita, pero nada de dinero.\"\n",
      "🏛️ Vallarta Bahia De Banderas - Puerto_vallarta\n",
      "\n",
      "📊 DESGLOSE:\n",
      "   • Total: 6 frases\n",
      "   • Subjetivas: 5 (83.3%)\n",
      "   • Objetivas: 1 (16.7%)\n",
      "   • Clasificación: Mixta\n",
      "\n",
      "📝 FRASES:\n",
      "   💭 1. [Subjetivo] \"Fraude en compra de lote frente a la playa.\"\n",
      "   💭 2. [Subjetivo] \"El lugar es hermos, por esa razón disidimos adquirir un lote frente a la playa.\"\n",
      "   📊 3. [Objetivo] \"Lote No 4, dimos 10,000 dólares de anticipo.\"\n",
      "   💭 4. [Subjetivo] \"Resulta que después nos cobraran hasta parte de la playa, que pertenece a la fed...\"\n",
      "   💭 5. [Subjetivo] \"Fraude total\"\n",
      "   💭 6. [Subjetivo] \"Hemos dado vueltas y hablado en oficinas en Guadalajara y nomás se turnan la bol...\"\n",
      "\n",
      "🎯 OPINIÓN 2:\n",
      "💬 \"Magnifico. Tiene unas vistas maravillosas, ideal para hacer ejercicio, vale la pena la subid para llegar ahi, lleva ua toalla para secar el sudor.\"\n",
      "🏛️ Mirador De La Cruz - Puerto_vallarta\n",
      "\n",
      "📊 DESGLOSE:\n",
      "   • Total: 3 frases\n",
      "   • Subjetivas: 2 (66.7%)\n",
      "   • Objetivas: 1 (33.3%)\n",
      "   • Clasificación: Mixta\n",
      "\n",
      "📝 FRASES:\n",
      "   💭 1. [Subjetivo] \"Magnifico.\"\n",
      "   💭 2. [Subjetivo] \"Tiene unas vistas maravillosas, ideal para hacer ejercicio, vale la pena la subi...\"\n",
      "   📊 3. [Objetivo] \"ahi, lleva ua toalla para secar el sudor.\"\n"
     ]
    }
   ],
   "source": [
    "# Análisis avanzado de frases usando subjetividad\n",
    "analisis_avanzado_frases(df_clasificado)"
   ]
  }
 ],
 "metadata": {
  "kernelspec": {
   "display_name": "analisis-automatizado-de-opiniones-turisticas",
   "language": "python",
   "name": "python3"
  },
  "language_info": {
   "codemirror_mode": {
    "name": "ipython",
    "version": 3
   },
   "file_extension": ".py",
   "mimetype": "text/x-python",
   "name": "python",
   "nbconvert_exporter": "python",
   "pygments_lexer": "ipython3",
   "version": "3.10.18"
  }
 },
 "nbformat": 4,
 "nbformat_minor": 5
}
