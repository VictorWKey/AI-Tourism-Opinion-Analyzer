{
 "cells": [
  {
   "cell_type": "code",
   "execution_count": 1,
   "id": "7a328700",
   "metadata": {},
   "outputs": [],
   "source": [
    "%load_ext autoreload\n",
    "%autoreload 2"
   ]
  },
  {
   "cell_type": "code",
   "execution_count": 2,
   "id": "0b114faf",
   "metadata": {},
   "outputs": [
    {
     "name": "stdout",
     "output_type": "stream",
     "text": [
      "✓ TOKENIZERS_PARALLELISM configurado a 'false' para evitar warnings\n",
      "✓ Configuración de warnings completada - BERT warnings suprimidos\n"
     ]
    }
   ],
   "source": [
    "import os\n",
    "import warnings\n",
    "\n",
    "# Configuraciones para reducir warnings\n",
    "os.environ[\"TOKENIZERS_PARALLELISM\"] = \"false\"\n",
    "print(\"✓ TOKENIZERS_PARALLELISM configurado a 'false' para evitar warnings\")\n",
    "\n",
    "# Filtros específicos para warnings conocidos\n",
    "warnings.filterwarnings(\"ignore\", category=FutureWarning)\n",
    "warnings.filterwarnings(\"ignore\", category=UserWarning, module=\"transformers\")\n",
    "warnings.filterwarnings(\"ignore\", message=\".*bert.pooler.*\")\n",
    "warnings.filterwarnings(\"ignore\", message=\".*Asking to truncate.*\")\n",
    "warnings.filterwarnings(\"ignore\", message=\".*Some weights of the model.*\")\n",
    "\n",
    "print(\"✓ Configuración de warnings completada - BERT warnings suprimidos\")"
   ]
  },
  {
   "cell_type": "markdown",
   "id": "8d25143e",
   "metadata": {},
   "source": [
    "# Modelado de Tópicos con FASTopic\n",
    "\n",
    "Este notebook implementa un análisis de tópicos usando FASTopic sobre las opiniones turísticas clasificadas. Utiliza LangChain con GPT-4o-mini para asignar nombres semánticamente coherentes a los tópicos identificados y compara resultados con BERTopic."
   ]
  },
  {
   "cell_type": "code",
   "execution_count": 3,
   "id": "3030ec8f",
   "metadata": {},
   "outputs": [
    {
     "name": "stderr",
     "output_type": "stream",
     "text": [
      "Device set to use cuda:0\n",
      "[nltk_data] Downloading package wordnet to\n",
      "[nltk_data]     /home/victorwkey/nltk_data...\n",
      "[nltk_data]   Package wordnet is already up-to-date!\n",
      "[nltk_data] Downloading package wordnet to\n",
      "[nltk_data]     /home/victorwkey/nltk_data...\n",
      "[nltk_data]   Package wordnet is already up-to-date!\n"
     ]
    }
   ],
   "source": [
    "import pandas as pd\n",
    "import numpy as np\n",
    "import matplotlib.pyplot as plt\n",
    "import seaborn as sns\n",
    "import time\n",
    "import os\n",
    "import sys\n",
    "from dotenv import load_dotenv\n",
    "\n",
    "sys.path.append('../scripts')\n",
    "\n",
    "from topicos import (\n",
    "    configurar_clasificador_topicos, \n",
    "    configurar_fastopic_inteligente,\n",
    "    LimpiadorTextoMejorado, \n",
    "    mostrar_ejemplos_limpieza,\n",
    "    evaluar_modelo_topicos,\n",
    "    extraer_palabras_fastopic,\n",
    "    mostrar_metricas\n",
    ")\n",
    "\n",
    "from topicos.utils_topicos import (\n",
    "    procesar_topicos_fastopic,\n",
    "    obtener_asignaciones_topicos_fastopic,\n",
    "    visualizar_distribucion_topicos_fastopic,\n",
    "    mostrar_ejemplos_por_topico_fastopic,\n",
    "    generar_reporte_fastopic\n",
    ")\n",
    "\n",
    "load_dotenv()\n",
    "\n",
    "plt.style.use('seaborn-v0_8')\n",
    "sns.set_palette(\"husl\")"
   ]
  },
  {
   "cell_type": "code",
   "execution_count": 4,
   "id": "244d4041",
   "metadata": {},
   "outputs": [],
   "source": [
    "clasificador_topicos = configurar_clasificador_topicos()"
   ]
  },
  {
   "cell_type": "code",
   "execution_count": 5,
   "id": "c4025566",
   "metadata": {},
   "outputs": [
    {
     "name": "stdout",
     "output_type": "stream",
     "text": [
      "Dataset cargado: 2457 opiniones\n",
      "Distribución total por ciudad:\n",
      "Ciudad\n",
      "Mazatlan           499\n",
      "Puebla             497\n",
      "Puerto_vallarta    489\n",
      "Cdmx               489\n",
      "Cancun             483\n",
      "Name: count, dtype: int64\n"
     ]
    }
   ],
   "source": [
    "CIUDAD_ANALIZAR = \"Cdmx\"\n",
    "df = pd.read_csv('../data/processed/dataset_opiniones_analisis.csv')\n",
    "\n",
    "if 'TopicoConFASTopic' not in df.columns:\n",
    "    df['TopicoConFASTopic'] = np.nan\n",
    "\n",
    "print(f\"Dataset cargado: {df.shape[0]} opiniones\")\n",
    "print(f\"Distribución total por ciudad:\")\n",
    "print(df['Ciudad'].value_counts())\n",
    "\n",
    "df_ciudad = df[df['Ciudad'] == CIUDAD_ANALIZAR].copy()\n",
    "\n",
    "columna_texto = 'TituloReviewLimpio'\n",
    "\n",
    "texts = df_ciudad[columna_texto].dropna().tolist()"
   ]
  },
  {
   "cell_type": "code",
   "execution_count": 6,
   "id": "9f207354",
   "metadata": {},
   "outputs": [
    {
     "name": "stdout",
     "output_type": "stream",
     "text": [
      "\n",
      "🎯 RESUMEN FINAL PARA Cdmx:\n",
      "   📝 Textos disponibles: 489\n",
      "   📊 Promedio palabras: 54.9\n",
      "   📏 Rango: 13 - 310 palabras\n",
      "   🎲 Muestra: 'de simplemente no él él perder el ballet folkloric...'\n"
     ]
    }
   ],
   "source": [
    "columna_limpia = \"TituloReviewLimpio\"\n",
    "\n",
    "limpiar_de_nuevo = False\n",
    "\n",
    "if columna_limpia not in df.columns or limpiar_de_nuevo:\n",
    "    \n",
    "    limpiador = LimpiadorTextoMejorado(idiomas=['spanish', 'english'])\n",
    "    \n",
    "    print(f\"🔍 Iniciando limpieza para {CIUDAD_ANALIZAR}...\")\n",
    "    \n",
    "    df = limpiador.limpiar_dataframe(\n",
    "        df,\n",
    "        columna_texto='TituloReview',\n",
    "        nombre_columna_limpia=columna_limpia,\n",
    "        aplicar_traduccion=True,\n",
    "        filtrar_adjetivos=True,  # Nueva opción para filtrar adjetivos\n",
    "        filtrar_solo_espanol=True,  # Nueva opción para filtrar solo textos en español\n",
    "        aplicar_lematizacion=True,\n",
    "        min_longitud_palabra=2,\n",
    "        max_palabras=None,\n",
    "        mostrar_estadisticas=True  # Mostrar estadísticas detalladas\n",
    "    )\n",
    "    \n",
    "    print(f\"\\n💾 Guardando dataset procesado...\")\n",
    "    df.to_csv('../data/processed/dataset_opiniones_analisis.csv', index=False)\n",
    "    print(f\"✅ Dataset guardado exitosamente\")\n",
    "\n",
    "df_ciudad = df[df['Ciudad'] == CIUDAD_ANALIZAR].copy()\n",
    "texts = df_ciudad[columna_texto].dropna().tolist()\n",
    "\n",
    "print(f\"\\n🎯 RESUMEN FINAL PARA {CIUDAD_ANALIZAR}:\")\n",
    "print(f\"   📝 Textos disponibles: {len(texts):,}\")\n",
    "if texts:\n",
    "    promedio = sum(len(t.split()) for t in texts) / len(texts)\n",
    "    print(f\"   📊 Promedio palabras: {promedio:.1f}\")\n",
    "    print(f\"   📏 Rango: {min(len(t.split()) for t in texts)} - {max(len(t.split()) for t in texts)} palabras\")\n",
    "    print(f\"   🎲 Muestra: '{texts[0][:50]}...'\" if texts else \"\")"
   ]
  },
  {
   "cell_type": "code",
   "execution_count": 7,
   "id": "0d39a4e0",
   "metadata": {},
   "outputs": [
    {
     "name": "stderr",
     "output_type": "stream",
     "text": [
      "loading train texts: 100%|██████████| 489/489 [00:07<00:00, 66.61it/s]      \n",
      "loading train texts: 100%|██████████| 489/489 [00:07<00:00, 66.61it/s]  \n",
      "parsing texts: 100%|██████████| 489/489 [00:07<00:00, 61.72it/s]       \n",
      "2025-09-27 09:51:13,316 - TopMost - Real vocab size: 506\n",
      "parsing texts: 100%|██████████| 489/489 [00:07<00:00, 61.72it/s]      \n",
      "2025-09-27 09:51:13,316 - TopMost - Real vocab size: 506\n",
      "2025-09-27 09:51:13,317 - TopMost - Real training size: 489 \t avg length: 15.074\n",
      "2025-09-27 09:51:13,317 - TopMost - Real training size: 489 \t avg length: 15.074\n",
      "Training FASTopic: 100%|██████████| 200/200 [00:20<00:00,  9.93it/s]        \n",
      "\n",
      "loading train texts: 100%|██████████| 489/489 [00:06<00:00, 72.63it/s]      \n",
      "loading train texts: 100%|██████████| 489/489 [00:06<00:00, 72.63it/s]      \n",
      "parsing texts: 100%|██████████| 489/489 [00:07<00:00, 66.12it/s]       \n",
      "2025-09-27 09:51:52,301 - TopMost - Real vocab size: 506\n",
      "2025-09-27 09:51:52,302 - TopMost - Real training size: 489 \t avg length: 15.072\n",
      "parsing texts: 100%|██████████| 489/489 [00:07<00:00, 66.12it/s]    \n",
      "2025-09-27 09:51:52,301 - TopMost - Real vocab size: 506\n",
      "2025-09-27 09:51:52,302 - TopMost - Real training size: 489 \t avg length: 15.072\n",
      "Training FASTopic: 100%|██████████| 200/200 [00:21<00:00,  9.11it/s]       \n",
      "\n",
      "loading train texts: 100%|██████████| 489/489 [00:06<00:00, 73.78it/s]      \n",
      "loading train texts: 100%|██████████| 489/489 [00:06<00:00, 73.78it/s]  \n",
      "parsing texts: 100%|██████████| 489/489 [00:07<00:00, 65.51it/s]       \n",
      "2025-09-27 09:52:33,246 - TopMost - Real vocab size: 506\n",
      "2025-09-27 09:52:33,247 - TopMost - Real training size: 489 \t avg length: 15.076\n",
      "parsing texts: 100%|██████████| 489/489 [00:07<00:00, 65.51it/s]      \n",
      "2025-09-27 09:52:33,246 - TopMost - Real vocab size: 506\n",
      "2025-09-27 09:52:33,247 - TopMost - Real training size: 489 \t avg length: 15.076\n",
      "Training FASTopic: 100%|██████████| 200/200 [00:18<00:00, 10.74it/s]      \n",
      "\n",
      "loading train texts: 100%|██████████| 489/489 [00:07<00:00, 68.19it/s]       \n",
      "loading train texts: 100%|██████████| 489/489 [00:07<00:00, 68.19it/s]       \n",
      "parsing texts: 100%|██████████| 489/489 [00:07<00:00, 66.44it/s]      \n",
      "2025-09-27 09:53:11,555 - TopMost - Real vocab size: 506\n",
      "2025-09-27 09:53:11,557 - TopMost - Real training size: 489 \t avg length: 15.076\n",
      "parsing texts: 100%|██████████| 489/489 [00:07<00:00, 66.44it/s]  \n",
      "2025-09-27 09:53:11,555 - TopMost - Real vocab size: 506\n",
      "2025-09-27 09:53:11,557 - TopMost - Real training size: 489 \t avg length: 15.076\n",
      "Training FASTopic: 100%|██████████| 200/200 [00:18<00:00, 10.63it/s]       \n",
      "\n"
     ]
    },
    {
     "name": "stdout",
     "output_type": "stream",
     "text": [
      "🤖 Configuración automática de FASTopic completada\n",
      "\n",
      "📊 CONFIGURACIÓN Y OPTIMIZACIÓN AUTOMÁTICA DE FASTOPIC\n",
      "============================================================\n",
      "\n",
      "📈 Análisis del Corpus:\n",
      "  📄 Documentos: 489\n",
      "  📝 Palabras promedio: 54.9\n",
      "  🔤 Vocabulario único: 2,990\n",
      "\n",
      "🎯 Optimización de Tópicos:\n",
      "  🔍 Modelos evaluados: 4\n",
      "  🏷️ K óptimo encontrado: 9\n",
      "  📈 Coherencia CV: 0.4742\n",
      "  🔄 Diversidad: 1.0000\n",
      "  ✅ Criterio diversidad (≥0.98): Cumplido\n",
      "\n",
      "🔧 Configuración Final:\n",
      "  🌍 Modelo embeddings: paraphrase-multilingual-MiniLM-L12-v2\n",
      "  🔧 Tokenizer: Multiidioma (ES, EN, PT, FR, IT)\n",
      "  🚀 Épocas entrenamiento: 200 (para todos los candidatos)\n",
      "  ⏱️ Tiempo total optimización: 163.58s\n",
      "\n"
     ]
    }
   ],
   "source": [
    "model, top_words, doc_topic_dist, reporte_optimizacion, tiempo_entrenamiento = configurar_fastopic_inteligente(texts)\n",
    "    \n",
    "print(\"🤖 Configuración automática de FASTopic completada\")\n",
    "print(reporte_optimizacion)"
   ]
  },
  {
   "cell_type": "code",
   "execution_count": 8,
   "id": "c866e8a6",
   "metadata": {},
   "outputs": [
    {
     "name": "stdout",
     "output_type": "stream",
     "text": [
      "✅ Modelo FASTopic optimizado y entrenado automáticamente\n"
     ]
    }
   ],
   "source": [
    "# La optimización y entrenamiento ya se realizó en la celda anterior\n",
    "topic_model = model\n",
    "print(\"✅ Modelo FASTopic optimizado y entrenado automáticamente\")"
   ]
  },
  {
   "cell_type": "code",
   "execution_count": 22,
   "id": "48b58ea5",
   "metadata": {},
   "outputs": [
    {
     "name": "stdout",
     "output_type": "stream",
     "text": [
      "Documento 1: [0.08 | 0.03 | 0.01 | 0.02 | 0.42 | 0.11 | 0.06 | 0.07 | 0.18] -> Tópicos: [4] (Solo uno)\n",
      "Documento 2: [0.08 | 0.13 | 0.02 | 0.06 | 0.20 | 0.13 | 0.08 | 0.19 | 0.11] -> Tópicos: [4, 7] (Diff: 0.011)\n",
      "Documento 3: [0.02 | 0.07 | 0.15 | 0.13 | 0.01 | 0.27 | 0.23 | 0.07 | 0.04] -> Tópicos: [5, 6] (Diff: 0.043)\n",
      "Documento 4: [0.04 | 0.06 | 0.09 | 0.32 | 0.03 | 0.05 | 0.20 | 0.03 | 0.19] -> Tópicos: [3] (Solo uno)\n",
      "Documento 5: [0.12 | 0.05 | 0.09 | 0.04 | 0.04 | 0.21 | 0.25 | 0.16 | 0.03] -> Tópicos: [6, 5] (Diff: 0.042)\n",
      "Documento 6: [0.11 | 0.07 | 0.01 | 0.03 | 0.38 | 0.09 | 0.15 | 0.06 | 0.08] -> Tópicos: [4] (Solo uno)\n",
      "Documento 7: [0.22 | 0.03 | 0.04 | 0.02 | 0.03 | 0.40 | 0.15 | 0.03 | 0.08] -> Tópicos: [5] (Solo uno)\n",
      "Documento 8: [0.08 | 0.42 | 0.01 | 0.03 | 0.27 | 0.04 | 0.02 | 0.01 | 0.12] -> Tópicos: [1] (Solo uno)\n",
      "Documento 9: [0.08 | 0.18 | 0.04 | 0.07 | 0.06 | 0.26 | 0.15 | 0.10 | 0.05] -> Tópicos: [5, 1] (Diff: 0.080)\n",
      "Documento 10: [0.03 | 0.04 | 0.01 | 0.83 | 0.00 | 0.03 | 0.03 | 0.01 | 0.01] -> Tópicos: [3] (Solo uno)\n",
      "Documento 11: [0.22 | 0.03 | 0.11 | 0.03 | 0.13 | 0.14 | 0.05 | 0.02 | 0.25] -> Tópicos: [8, 0] (Diff: 0.031)\n",
      "Documento 12: [0.04 | 0.02 | 0.01 | 0.01 | 0.66 | 0.04 | 0.05 | 0.11 | 0.05] -> Tópicos: [4] (Solo uno)\n",
      "Documento 13: [0.04 | 0.22 | 0.03 | 0.50 | 0.00 | 0.04 | 0.13 | 0.01 | 0.02] -> Tópicos: [3] (Solo uno)\n",
      "Documento 14: [0.09 | 0.12 | 0.05 | 0.08 | 0.14 | 0.12 | 0.25 | 0.08 | 0.09] -> Tópicos: [6] (Solo uno)\n",
      "Documento 15: [0.24 | 0.35 | 0.03 | 0.08 | 0.04 | 0.10 | 0.07 | 0.02 | 0.06] -> Tópicos: [1] (Solo uno)\n",
      "Documento 16: [0.00 | 0.00 | 0.00 | 0.51 | 0.00 | 0.01 | 0.47 | 0.00 | 0.01] -> Tópicos: [3, 6] (Diff: 0.034)\n",
      "Documento 17: [0.14 | 0.06 | 0.07 | 0.04 | 0.02 | 0.09 | 0.48 | 0.04 | 0.06] -> Tópicos: [6] (Solo uno)\n",
      "Documento 18: [0.02 | 0.01 | 0.07 | 0.14 | 0.00 | 0.11 | 0.62 | 0.01 | 0.01] -> Tópicos: [6] (Solo uno)\n",
      "Documento 19: [0.03 | 0.08 | 0.02 | 0.62 | 0.02 | 0.03 | 0.08 | 0.02 | 0.10] -> Tópicos: [3] (Solo uno)\n",
      "Documento 20: [0.02 | 0.04 | 0.05 | 0.04 | 0.02 | 0.08 | 0.66 | 0.03 | 0.05] -> Tópicos: [6] (Solo uno)\n",
      "Documento 21: [0.19 | 0.18 | 0.02 | 0.04 | 0.16 | 0.02 | 0.18 | 0.03 | 0.17] -> Tópicos: [0, 1] (Diff: 0.003)\n",
      "Documento 22: [0.04 | 0.18 | 0.05 | 0.25 | 0.07 | 0.21 | 0.07 | 0.09 | 0.04] -> Tópicos: [3, 5] (Diff: 0.046)\n",
      "Documento 23: [0.13 | 0.03 | 0.05 | 0.22 | 0.02 | 0.13 | 0.27 | 0.03 | 0.12] -> Tópicos: [6, 3] (Diff: 0.052)\n",
      "Documento 24: [0.01 | 0.04 | 0.04 | 0.28 | 0.01 | 0.05 | 0.50 | 0.05 | 0.03] -> Tópicos: [6] (Solo uno)\n",
      "Documento 25: [0.04 | 0.09 | 0.03 | 0.45 | 0.04 | 0.09 | 0.11 | 0.04 | 0.11] -> Tópicos: [3] (Solo uno)\n",
      "Documento 26: [0.31 | 0.03 | 0.02 | 0.01 | 0.16 | 0.39 | 0.02 | 0.01 | 0.06] -> Tópicos: [5, 0] (Diff: 0.080)\n",
      "Documento 27: [0.12 | 0.05 | 0.07 | 0.05 | 0.05 | 0.22 | 0.11 | 0.10 | 0.22] -> Tópicos: [5, 8] (Diff: 0.009)\n",
      "Documento 28: [0.04 | 0.07 | 0.07 | 0.13 | 0.01 | 0.20 | 0.38 | 0.03 | 0.06] -> Tópicos: [6] (Solo uno)\n",
      "Documento 29: [0.15 | 0.10 | 0.04 | 0.10 | 0.05 | 0.12 | 0.11 | 0.04 | 0.30] -> Tópicos: [8] (Solo uno)\n",
      "Documento 30: [0.42 | 0.10 | 0.02 | 0.03 | 0.17 | 0.05 | 0.01 | 0.02 | 0.18] -> Tópicos: [0] (Solo uno)\n",
      "Documento 31: [0.05 | 0.22 | 0.03 | 0.46 | 0.01 | 0.04 | 0.10 | 0.02 | 0.07] -> Tópicos: [3] (Solo uno)\n",
      "Documento 32: [0.27 | 0.04 | 0.03 | 0.02 | 0.43 | 0.04 | 0.05 | 0.03 | 0.08] -> Tópicos: [4] (Solo uno)\n",
      "Documento 33: [0.19 | 0.04 | 0.06 | 0.13 | 0.05 | 0.10 | 0.30 | 0.03 | 0.11] -> Tópicos: [6] (Solo uno)\n",
      "Documento 34: [0.24 | 0.10 | 0.15 | 0.07 | 0.09 | 0.29 | 0.03 | 0.03 | 0.02] -> Tópicos: [5, 0] (Diff: 0.047)\n",
      "Documento 35: [0.01 | 0.04 | 0.01 | 0.01 | 0.00 | 0.03 | 0.01 | 0.89 | 0.00] -> Tópicos: [7] (Solo uno)\n",
      "Documento 36: [0.14 | 0.01 | 0.11 | 0.02 | 0.03 | 0.59 | 0.04 | 0.03 | 0.02] -> Tópicos: [5] (Solo uno)\n",
      "Documento 37: [0.06 | 0.03 | 0.02 | 0.06 | 0.10 | 0.06 | 0.02 | 0.50 | 0.14] -> Tópicos: [7] (Solo uno)\n",
      "Documento 38: [0.05 | 0.03 | 0.01 | 0.08 | 0.01 | 0.03 | 0.01 | 0.76 | 0.02] -> Tópicos: [7] (Solo uno)\n",
      "Documento 39: [0.01 | 0.19 | 0.03 | 0.01 | 0.05 | 0.01 | 0.01 | 0.67 | 0.01] -> Tópicos: [7] (Solo uno)\n",
      "Documento 40: [0.05 | 0.06 | 0.33 | 0.03 | 0.04 | 0.20 | 0.20 | 0.08 | 0.02] -> Tópicos: [2] (Solo uno)\n",
      "Documento 41: [0.02 | 0.07 | 0.05 | 0.02 | 0.18 | 0.08 | 0.03 | 0.50 | 0.06] -> Tópicos: [7] (Solo uno)\n",
      "Documento 42: [0.01 | 0.04 | 0.01 | 0.01 | 0.01 | 0.03 | 0.03 | 0.86 | 0.00] -> Tópicos: [7] (Solo uno)\n",
      "Documento 43: [0.01 | 0.09 | 0.02 | 0.03 | 0.03 | 0.01 | 0.02 | 0.77 | 0.01] -> Tópicos: [7] (Solo uno)\n",
      "Documento 44: [0.01 | 0.04 | 0.02 | 0.05 | 0.00 | 0.01 | 0.01 | 0.86 | 0.00] -> Tópicos: [7] (Solo uno)\n",
      "Documento 45: [0.01 | 0.16 | 0.01 | 0.15 | 0.00 | 0.02 | 0.01 | 0.64 | 0.00] -> Tópicos: [7] (Solo uno)\n",
      "Documento 46: [0.12 | 0.26 | 0.08 | 0.11 | 0.11 | 0.07 | 0.04 | 0.09 | 0.11] -> Tópicos: [1] (Solo uno)\n",
      "Documento 47: [0.11 | 0.12 | 0.03 | 0.14 | 0.01 | 0.24 | 0.01 | 0.30 | 0.04] -> Tópicos: [7, 5] (Diff: 0.069)\n",
      "Documento 48: [0.00 | 0.02 | 0.00 | 0.01 | 0.00 | 0.01 | 0.02 | 0.94 | 0.00] -> Tópicos: [7] (Solo uno)\n",
      "Documento 49: [0.14 | 0.10 | 0.03 | 0.02 | 0.06 | 0.09 | 0.01 | 0.52 | 0.03] -> Tópicos: [7] (Solo uno)\n",
      "Documento 50: [0.01 | 0.05 | 0.00 | 0.00 | 0.00 | 0.00 | 0.00 | 0.93 | 0.00] -> Tópicos: [7] (Solo uno)\n",
      "Documento 51: [0.01 | 0.01 | 0.00 | 0.00 | 0.00 | 0.00 | 0.00 | 0.97 | 0.00] -> Tópicos: [7] (Solo uno)\n",
      "Documento 52: [0.01 | 0.05 | 0.03 | 0.19 | 0.01 | 0.09 | 0.06 | 0.55 | 0.02] -> Tópicos: [7] (Solo uno)\n",
      "Documento 53: [0.02 | 0.06 | 0.00 | 0.00 | 0.02 | 0.01 | 0.00 | 0.88 | 0.00] -> Tópicos: [7] (Solo uno)\n",
      "Documento 54: [0.06 | 0.21 | 0.02 | 0.01 | 0.10 | 0.02 | 0.01 | 0.52 | 0.06] -> Tópicos: [7] (Solo uno)\n",
      "Documento 55: [0.09 | 0.20 | 0.07 | 0.05 | 0.04 | 0.34 | 0.01 | 0.15 | 0.04] -> Tópicos: [5] (Solo uno)\n",
      "Documento 56: [0.00 | 0.05 | 0.01 | 0.00 | 0.00 | 0.02 | 0.00 | 0.91 | 0.00] -> Tópicos: [7] (Solo uno)\n",
      "Documento 57: [0.81 | 0.01 | 0.01 | 0.02 | 0.02 | 0.09 | 0.01 | 0.01 | 0.03] -> Tópicos: [0] (Solo uno)\n",
      "Documento 58: [0.02 | 0.06 | 0.02 | 0.12 | 0.01 | 0.10 | 0.03 | 0.63 | 0.01] -> Tópicos: [7] (Solo uno)\n",
      "Documento 59: [0.03 | 0.02 | 0.01 | 0.01 | 0.02 | 0.02 | 0.01 | 0.86 | 0.02] -> Tópicos: [7] (Solo uno)\n",
      "Documento 60: [0.01 | 0.04 | 0.01 | 0.03 | 0.01 | 0.02 | 0.01 | 0.86 | 0.01] -> Tópicos: [7] (Solo uno)\n",
      "Documento 61: [0.74 | 0.03 | 0.01 | 0.03 | 0.05 | 0.05 | 0.02 | 0.02 | 0.05] -> Tópicos: [0] (Solo uno)\n",
      "Documento 62: [0.00 | 0.02 | 0.01 | 0.02 | 0.00 | 0.01 | 0.04 | 0.88 | 0.00] -> Tópicos: [7] (Solo uno)\n",
      "Documento 63: [0.04 | 0.13 | 0.03 | 0.02 | 0.04 | 0.14 | 0.02 | 0.55 | 0.03] -> Tópicos: [7] (Solo uno)\n",
      "Documento 64: [0.03 | 0.14 | 0.03 | 0.02 | 0.06 | 0.03 | 0.02 | 0.65 | 0.02] -> Tópicos: [7] (Solo uno)\n",
      "Documento 65: [0.02 | 0.13 | 0.01 | 0.02 | 0.02 | 0.05 | 0.02 | 0.72 | 0.01] -> Tópicos: [7] (Solo uno)\n",
      "Documento 66: [0.02 | 0.33 | 0.03 | 0.02 | 0.13 | 0.01 | 0.03 | 0.43 | 0.01] -> Tópicos: [7, 1] (Diff: 0.095)\n",
      "Documento 67: [0.05 | 0.03 | 0.01 | 0.00 | 0.02 | 0.04 | 0.00 | 0.82 | 0.01] -> Tópicos: [7] (Solo uno)\n",
      "Documento 68: [0.34 | 0.12 | 0.12 | 0.03 | 0.04 | 0.22 | 0.08 | 0.02 | 0.03] -> Tópicos: [0] (Solo uno)\n",
      "Documento 69: [0.16 | 0.08 | 0.18 | 0.06 | 0.14 | 0.15 | 0.04 | 0.03 | 0.15] -> Tópicos: [2, 0] (Diff: 0.022)\n",
      "Documento 70: [0.22 | 0.04 | 0.03 | 0.24 | 0.02 | 0.31 | 0.06 | 0.03 | 0.05] -> Tópicos: [5, 3] (Diff: 0.069)\n",
      "Documento 71: [0.01 | 0.02 | 0.08 | 0.69 | 0.00 | 0.10 | 0.08 | 0.01 | 0.01] -> Tópicos: [3] (Solo uno)\n",
      "Documento 72: [0.13 | 0.07 | 0.13 | 0.27 | 0.04 | 0.25 | 0.06 | 0.01 | 0.04] -> Tópicos: [3, 5] (Diff: 0.024)\n",
      "Documento 73: [0.09 | 0.02 | 0.03 | 0.03 | 0.01 | 0.72 | 0.01 | 0.04 | 0.06] -> Tópicos: [5] (Solo uno)\n",
      "Documento 74: [0.12 | 0.05 | 0.15 | 0.27 | 0.11 | 0.15 | 0.05 | 0.03 | 0.08] -> Tópicos: [3] (Solo uno)\n",
      "Documento 75: [0.05 | 0.02 | 0.63 | 0.03 | 0.04 | 0.16 | 0.04 | 0.01 | 0.02] -> Tópicos: [2] (Solo uno)\n",
      "Documento 76: [0.03 | 0.02 | 0.24 | 0.12 | 0.01 | 0.49 | 0.05 | 0.03 | 0.01] -> Tópicos: [5] (Solo uno)\n",
      "Documento 77: [0.01 | 0.01 | 0.26 | 0.06 | 0.00 | 0.54 | 0.09 | 0.02 | 0.01] -> Tópicos: [5] (Solo uno)\n",
      "Documento 78: [0.07 | 0.03 | 0.21 | 0.29 | 0.07 | 0.16 | 0.12 | 0.04 | 0.02] -> Tópicos: [3, 2] (Diff: 0.075)\n",
      "Documento 79: [0.05 | 0.01 | 0.19 | 0.08 | 0.01 | 0.51 | 0.09 | 0.04 | 0.02] -> Tópicos: [5] (Solo uno)\n",
      "Documento 80: [0.04 | 0.07 | 0.17 | 0.29 | 0.01 | 0.36 | 0.04 | 0.01 | 0.02] -> Tópicos: [5, 3] (Diff: 0.072)\n",
      "Documento 81: [0.22 | 0.20 | 0.11 | 0.07 | 0.08 | 0.18 | 0.03 | 0.03 | 0.08] -> Tópicos: [0, 1] (Diff: 0.018)\n",
      "Documento 82: [0.02 | 0.03 | 0.37 | 0.32 | 0.02 | 0.07 | 0.13 | 0.03 | 0.03] -> Tópicos: [2, 3] (Diff: 0.051)\n",
      "Documento 83: [0.21 | 0.12 | 0.09 | 0.09 | 0.09 | 0.26 | 0.02 | 0.04 | 0.08] -> Tópicos: [5, 0] (Diff: 0.045)\n",
      "Documento 84: [0.41 | 0.04 | 0.10 | 0.12 | 0.10 | 0.06 | 0.09 | 0.03 | 0.05] -> Tópicos: [0] (Solo uno)\n",
      "Documento 85: [0.09 | 0.03 | 0.41 | 0.03 | 0.03 | 0.25 | 0.05 | 0.01 | 0.11] -> Tópicos: [2] (Solo uno)\n",
      "Documento 86: [0.11 | 0.02 | 0.13 | 0.02 | 0.12 | 0.46 | 0.03 | 0.02 | 0.10] -> Tópicos: [5] (Solo uno)\n",
      "Documento 87: [0.03 | 0.04 | 0.16 | 0.38 | 0.01 | 0.11 | 0.22 | 0.01 | 0.05] -> Tópicos: [3] (Solo uno)\n",
      "Documento 88: [0.07 | 0.03 | 0.23 | 0.06 | 0.02 | 0.47 | 0.07 | 0.02 | 0.02] -> Tópicos: [5] (Solo uno)\n",
      "Documento 89: [0.04 | 0.03 | 0.11 | 0.51 | 0.00 | 0.22 | 0.08 | 0.01 | 0.01] -> Tópicos: [3] (Solo uno)\n",
      "Documento 90: [0.12 | 0.02 | 0.28 | 0.01 | 0.19 | 0.13 | 0.04 | 0.01 | 0.20] -> Tópicos: [2, 8] (Diff: 0.080)\n",
      "Documento 91: [0.11 | 0.06 | 0.01 | 0.03 | 0.66 | 0.04 | 0.02 | 0.01 | 0.07] -> Tópicos: [4] (Solo uno)\n",
      "Documento 92: [0.18 | 0.05 | 0.01 | 0.01 | 0.43 | 0.05 | 0.01 | 0.03 | 0.23] -> Tópicos: [4] (Solo uno)\n",
      "Documento 93: [0.08 | 0.05 | 0.11 | 0.05 | 0.21 | 0.33 | 0.05 | 0.03 | 0.10] -> Tópicos: [5] (Solo uno)\n",
      "Documento 94: [0.03 | 0.07 | 0.13 | 0.07 | 0.02 | 0.42 | 0.10 | 0.09 | 0.07] -> Tópicos: [5] (Solo uno)\n",
      "Documento 95: [0.01 | 0.02 | 0.07 | 0.79 | 0.00 | 0.06 | 0.04 | 0.00 | 0.00] -> Tópicos: [3] (Solo uno)\n",
      "Documento 96: [0.03 | 0.12 | 0.12 | 0.05 | 0.20 | 0.29 | 0.04 | 0.06 | 0.08] -> Tópicos: [5, 4] (Diff: 0.089)\n",
      "Documento 97: [0.02 | 0.02 | 0.32 | 0.03 | 0.01 | 0.52 | 0.04 | 0.01 | 0.02] -> Tópicos: [5] (Solo uno)\n",
      "Documento 98: [0.04 | 0.02 | 0.18 | 0.03 | 0.00 | 0.68 | 0.03 | 0.01 | 0.01] -> Tópicos: [5] (Solo uno)\n",
      "Documento 99: [0.01 | 0.01 | 0.03 | 0.82 | 0.00 | 0.08 | 0.04 | 0.01 | 0.01] -> Tópicos: [3] (Solo uno)\n",
      "Documento 100: [0.03 | 0.01 | 0.22 | 0.02 | 0.10 | 0.50 | 0.03 | 0.01 | 0.08] -> Tópicos: [5] (Solo uno)\n",
      "Documento 101: [0.89 | 0.01 | 0.00 | 0.00 | 0.07 | 0.01 | 0.00 | 0.01 | 0.01] -> Tópicos: [0] (Solo uno)\n",
      "Documento 102: [0.35 | 0.09 | 0.01 | 0.00 | 0.47 | 0.01 | 0.01 | 0.01 | 0.07] -> Tópicos: [4] (Solo uno)\n",
      "Documento 103: [0.85 | 0.01 | 0.00 | 0.01 | 0.09 | 0.01 | 0.00 | 0.01 | 0.01] -> Tópicos: [0] (Solo uno)\n",
      "Documento 104: [0.67 | 0.07 | 0.01 | 0.03 | 0.08 | 0.03 | 0.01 | 0.01 | 0.07] -> Tópicos: [0] (Solo uno)\n",
      "Documento 105: [0.87 | 0.01 | 0.00 | 0.01 | 0.06 | 0.02 | 0.00 | 0.02 | 0.02] -> Tópicos: [0] (Solo uno)\n",
      "Documento 106: [0.84 | 0.02 | 0.00 | 0.01 | 0.07 | 0.03 | 0.00 | 0.01 | 0.01] -> Tópicos: [0] (Solo uno)\n",
      "Documento 107: [0.94 | 0.00 | 0.00 | 0.00 | 0.02 | 0.02 | 0.00 | 0.01 | 0.00] -> Tópicos: [0] (Solo uno)\n",
      "Documento 108: [0.75 | 0.03 | 0.00 | 0.01 | 0.13 | 0.03 | 0.00 | 0.01 | 0.04] -> Tópicos: [0] (Solo uno)\n",
      "Documento 109: [0.48 | 0.05 | 0.01 | 0.01 | 0.35 | 0.03 | 0.01 | 0.01 | 0.03] -> Tópicos: [0] (Solo uno)\n",
      "Documento 110: [0.43 | 0.02 | 0.01 | 0.01 | 0.44 | 0.07 | 0.00 | 0.01 | 0.01] -> Tópicos: [4, 0] (Diff: 0.012)\n",
      "Documento 111: [0.05 | 0.02 | 0.00 | 0.00 | 0.85 | 0.00 | 0.00 | 0.00 | 0.07] -> Tópicos: [4] (Solo uno)\n",
      "Documento 112: [0.09 | 0.02 | 0.00 | 0.00 | 0.78 | 0.02 | 0.00 | 0.00 | 0.07] -> Tópicos: [4] (Solo uno)\n",
      "Documento 113: [0.18 | 0.03 | 0.01 | 0.01 | 0.63 | 0.02 | 0.02 | 0.02 | 0.07] -> Tópicos: [4] (Solo uno)\n",
      "Documento 114: [0.73 | 0.02 | 0.01 | 0.01 | 0.14 | 0.04 | 0.00 | 0.02 | 0.04] -> Tópicos: [0] (Solo uno)\n",
      "Documento 115: [0.18 | 0.08 | 0.01 | 0.02 | 0.61 | 0.03 | 0.00 | 0.02 | 0.05] -> Tópicos: [4] (Solo uno)\n",
      "Documento 116: [0.34 | 0.06 | 0.01 | 0.01 | 0.44 | 0.03 | 0.01 | 0.01 | 0.11] -> Tópicos: [4] (Solo uno)\n",
      "Documento 117: [0.64 | 0.01 | 0.01 | 0.00 | 0.29 | 0.03 | 0.00 | 0.01 | 0.00] -> Tópicos: [0] (Solo uno)\n",
      "Documento 118: [0.16 | 0.50 | 0.01 | 0.01 | 0.25 | 0.01 | 0.01 | 0.01 | 0.05] -> Tópicos: [1] (Solo uno)\n",
      "Documento 119: [0.72 | 0.01 | 0.01 | 0.00 | 0.21 | 0.01 | 0.01 | 0.01 | 0.02] -> Tópicos: [0] (Solo uno)\n",
      "Documento 120: [0.26 | 0.06 | 0.01 | 0.02 | 0.40 | 0.05 | 0.01 | 0.10 | 0.09] -> Tópicos: [4] (Solo uno)\n",
      "Documento 121: [0.12 | 0.03 | 0.00 | 0.00 | 0.82 | 0.00 | 0.00 | 0.00 | 0.02] -> Tópicos: [4] (Solo uno)\n",
      "Documento 122: [0.09 | 0.02 | 0.00 | 0.00 | 0.86 | 0.00 | 0.00 | 0.01 | 0.02] -> Tópicos: [4] (Solo uno)\n",
      "Documento 123: [0.13 | 0.02 | 0.01 | 0.01 | 0.77 | 0.02 | 0.00 | 0.01 | 0.04] -> Tópicos: [4] (Solo uno)\n",
      "Documento 124: [0.52 | 0.02 | 0.00 | 0.00 | 0.44 | 0.00 | 0.00 | 0.01 | 0.01] -> Tópicos: [0, 4] (Diff: 0.079)\n",
      "Documento 125: [0.23 | 0.03 | 0.01 | 0.01 | 0.63 | 0.02 | 0.00 | 0.03 | 0.03] -> Tópicos: [4] (Solo uno)\n",
      "Documento 126: [0.49 | 0.01 | 0.01 | 0.01 | 0.37 | 0.02 | 0.01 | 0.04 | 0.03] -> Tópicos: [0] (Solo uno)\n",
      "Documento 127: [0.09 | 0.01 | 0.00 | 0.00 | 0.86 | 0.01 | 0.00 | 0.00 | 0.01] -> Tópicos: [4] (Solo uno)\n",
      "Documento 128: [0.13 | 0.02 | 0.00 | 0.01 | 0.74 | 0.02 | 0.00 | 0.02 | 0.05] -> Tópicos: [4] (Solo uno)\n",
      "Documento 129: [0.64 | 0.01 | 0.01 | 0.00 | 0.27 | 0.01 | 0.01 | 0.01 | 0.04] -> Tópicos: [0] (Solo uno)\n",
      "Documento 130: [0.35 | 0.05 | 0.01 | 0.01 | 0.47 | 0.03 | 0.01 | 0.03 | 0.05] -> Tópicos: [4] (Solo uno)\n",
      "Documento 131: [0.38 | 0.02 | 0.01 | 0.01 | 0.53 | 0.01 | 0.02 | 0.00 | 0.02] -> Tópicos: [4] (Solo uno)\n",
      "Documento 132: [0.42 | 0.04 | 0.01 | 0.00 | 0.44 | 0.00 | 0.00 | 0.01 | 0.07] -> Tópicos: [4, 0] (Diff: 0.022)\n",
      "Documento 133: [0.23 | 0.03 | 0.01 | 0.01 | 0.61 | 0.02 | 0.01 | 0.02 | 0.06] -> Tópicos: [4] (Solo uno)\n",
      "Documento 134: [0.78 | 0.02 | 0.00 | 0.01 | 0.13 | 0.01 | 0.00 | 0.01 | 0.04] -> Tópicos: [0] (Solo uno)\n",
      "Documento 135: [0.39 | 0.06 | 0.01 | 0.01 | 0.46 | 0.01 | 0.00 | 0.01 | 0.04] -> Tópicos: [4, 0] (Diff: 0.069)\n",
      "Documento 136: [0.81 | 0.02 | 0.01 | 0.01 | 0.06 | 0.04 | 0.00 | 0.03 | 0.01] -> Tópicos: [0] (Solo uno)\n",
      "Documento 137: [0.60 | 0.02 | 0.00 | 0.00 | 0.35 | 0.01 | 0.00 | 0.00 | 0.01] -> Tópicos: [0] (Solo uno)\n",
      "Documento 138: [0.25 | 0.04 | 0.02 | 0.01 | 0.56 | 0.04 | 0.01 | 0.01 | 0.06] -> Tópicos: [4] (Solo uno)\n",
      "Documento 139: [0.53 | 0.02 | 0.00 | 0.00 | 0.36 | 0.03 | 0.00 | 0.01 | 0.04] -> Tópicos: [0] (Solo uno)\n",
      "Documento 140: [0.23 | 0.04 | 0.00 | 0.00 | 0.69 | 0.01 | 0.00 | 0.01 | 0.02] -> Tópicos: [4] (Solo uno)\n",
      "Documento 141: [0.14 | 0.09 | 0.00 | 0.02 | 0.68 | 0.02 | 0.00 | 0.01 | 0.04] -> Tópicos: [4] (Solo uno)\n",
      "Documento 142: [0.75 | 0.02 | 0.00 | 0.01 | 0.17 | 0.01 | 0.00 | 0.00 | 0.03] -> Tópicos: [0] (Solo uno)\n",
      "Documento 143: [0.26 | 0.03 | 0.01 | 0.00 | 0.61 | 0.01 | 0.01 | 0.01 | 0.05] -> Tópicos: [4] (Solo uno)\n",
      "Documento 144: [0.12 | 0.06 | 0.00 | 0.00 | 0.76 | 0.01 | 0.00 | 0.01 | 0.03] -> Tópicos: [4] (Solo uno)\n",
      "Documento 145: [0.30 | 0.02 | 0.00 | 0.00 | 0.61 | 0.02 | 0.01 | 0.01 | 0.02] -> Tópicos: [4] (Solo uno)\n",
      "Documento 146: [0.38 | 0.03 | 0.01 | 0.01 | 0.42 | 0.02 | 0.01 | 0.02 | 0.09] -> Tópicos: [4, 0] (Diff: 0.041)\n",
      "Documento 147: [0.83 | 0.01 | 0.00 | 0.00 | 0.09 | 0.01 | 0.01 | 0.02 | 0.01] -> Tópicos: [0] (Solo uno)\n",
      "Documento 148: [0.07 | 0.01 | 0.00 | 0.00 | 0.87 | 0.01 | 0.00 | 0.00 | 0.02] -> Tópicos: [4] (Solo uno)\n",
      "Documento 149: [0.19 | 0.05 | 0.00 | 0.00 | 0.61 | 0.01 | 0.01 | 0.01 | 0.12] -> Tópicos: [4] (Solo uno)\n",
      "Documento 150: [0.56 | 0.07 | 0.01 | 0.00 | 0.24 | 0.01 | 0.01 | 0.01 | 0.09] -> Tópicos: [0] (Solo uno)\n",
      "Documento 151: [0.19 | 0.14 | 0.05 | 0.11 | 0.09 | 0.23 | 0.03 | 0.03 | 0.13] -> Tópicos: [5, 0] (Diff: 0.035)\n",
      "Documento 152: [0.13 | 0.04 | 0.04 | 0.01 | 0.22 | 0.21 | 0.01 | 0.03 | 0.30] -> Tópicos: [8, 4] (Diff: 0.075)\n",
      "Documento 153: [0.05 | 0.72 | 0.01 | 0.03 | 0.10 | 0.02 | 0.01 | 0.02 | 0.04] -> Tópicos: [1] (Solo uno)\n",
      "Documento 154: [0.66 | 0.03 | 0.01 | 0.03 | 0.13 | 0.04 | 0.01 | 0.05 | 0.03] -> Tópicos: [0] (Solo uno)\n",
      "Documento 155: [0.23 | 0.21 | 0.03 | 0.28 | 0.04 | 0.08 | 0.03 | 0.02 | 0.08] -> Tópicos: [3, 0] (Diff: 0.049)\n",
      "Documento 156: [0.03 | 0.52 | 0.01 | 0.12 | 0.02 | 0.02 | 0.07 | 0.20 | 0.01] -> Tópicos: [1] (Solo uno)\n",
      "Documento 157: [0.03 | 0.47 | 0.02 | 0.34 | 0.05 | 0.01 | 0.01 | 0.01 | 0.06] -> Tópicos: [1] (Solo uno)\n",
      "Documento 158: [0.17 | 0.48 | 0.01 | 0.09 | 0.05 | 0.04 | 0.02 | 0.01 | 0.14] -> Tópicos: [1] (Solo uno)\n",
      "Documento 159: [0.03 | 0.52 | 0.03 | 0.11 | 0.02 | 0.10 | 0.05 | 0.10 | 0.06] -> Tópicos: [1] (Solo uno)\n",
      "Documento 160: [0.02 | 0.16 | 0.03 | 0.38 | 0.01 | 0.06 | 0.03 | 0.30 | 0.02] -> Tópicos: [3, 7] (Diff: 0.082)\n",
      "Documento 161: [0.44 | 0.35 | 0.00 | 0.01 | 0.13 | 0.01 | 0.00 | 0.01 | 0.05] -> Tópicos: [0, 1] (Diff: 0.090)\n",
      "Documento 162: [0.05 | 0.16 | 0.08 | 0.05 | 0.54 | 0.02 | 0.02 | 0.01 | 0.07] -> Tópicos: [4] (Solo uno)\n",
      "Documento 163: [0.05 | 0.22 | 0.01 | 0.54 | 0.01 | 0.03 | 0.03 | 0.01 | 0.08] -> Tópicos: [3] (Solo uno)\n",
      "Documento 164: [0.26 | 0.30 | 0.01 | 0.20 | 0.03 | 0.06 | 0.03 | 0.02 | 0.10] -> Tópicos: [1, 0] (Diff: 0.043)\n",
      "Documento 165: [0.28 | 0.35 | 0.04 | 0.08 | 0.07 | 0.07 | 0.02 | 0.04 | 0.05] -> Tópicos: [1, 0] (Diff: 0.064)\n",
      "Documento 166: [0.33 | 0.25 | 0.00 | 0.02 | 0.31 | 0.01 | 0.00 | 0.03 | 0.05] -> Tópicos: [0, 4] (Diff: 0.017)\n",
      "Documento 167: [0.12 | 0.63 | 0.01 | 0.04 | 0.07 | 0.03 | 0.02 | 0.00 | 0.09] -> Tópicos: [1] (Solo uno)\n",
      "Documento 168: [0.07 | 0.39 | 0.02 | 0.05 | 0.23 | 0.04 | 0.01 | 0.02 | 0.16] -> Tópicos: [1] (Solo uno)\n",
      "Documento 169: [0.01 | 0.92 | 0.00 | 0.01 | 0.01 | 0.01 | 0.01 | 0.02 | 0.00] -> Tópicos: [1] (Solo uno)\n",
      "Documento 170: [0.27 | 0.14 | 0.01 | 0.04 | 0.12 | 0.04 | 0.02 | 0.03 | 0.32] -> Tópicos: [8, 0] (Diff: 0.049)\n",
      "Documento 171: [0.08 | 0.70 | 0.00 | 0.06 | 0.05 | 0.02 | 0.01 | 0.01 | 0.09] -> Tópicos: [1] (Solo uno)\n",
      "Documento 172: [0.12 | 0.26 | 0.02 | 0.07 | 0.24 | 0.03 | 0.02 | 0.01 | 0.24] -> Tópicos: [1, 4] (Diff: 0.019)\n",
      "Documento 173: [0.01 | 0.36 | 0.02 | 0.52 | 0.01 | 0.03 | 0.01 | 0.01 | 0.03] -> Tópicos: [3] (Solo uno)\n",
      "Documento 174: [0.01 | 0.72 | 0.01 | 0.02 | 0.01 | 0.01 | 0.02 | 0.19 | 0.01] -> Tópicos: [1] (Solo uno)\n",
      "Documento 175: [0.13 | 0.62 | 0.00 | 0.08 | 0.02 | 0.02 | 0.01 | 0.01 | 0.10] -> Tópicos: [1] (Solo uno)\n",
      "Documento 176: [0.27 | 0.22 | 0.01 | 0.10 | 0.10 | 0.08 | 0.02 | 0.10 | 0.10] -> Tópicos: [0, 1] (Diff: 0.051)\n",
      "Documento 177: [0.32 | 0.33 | 0.01 | 0.03 | 0.16 | 0.04 | 0.01 | 0.02 | 0.09] -> Tópicos: [1, 0] (Diff: 0.009)\n",
      "Documento 178: [0.13 | 0.65 | 0.00 | 0.06 | 0.09 | 0.01 | 0.00 | 0.01 | 0.04] -> Tópicos: [1] (Solo uno)\n",
      "Documento 179: [0.07 | 0.33 | 0.01 | 0.45 | 0.03 | 0.03 | 0.01 | 0.02 | 0.06] -> Tópicos: [3] (Solo uno)\n",
      "Documento 180: [0.02 | 0.92 | 0.00 | 0.01 | 0.01 | 0.00 | 0.00 | 0.02 | 0.01] -> Tópicos: [1] (Solo uno)\n",
      "Documento 181: [0.14 | 0.54 | 0.00 | 0.13 | 0.07 | 0.02 | 0.01 | 0.02 | 0.07] -> Tópicos: [1] (Solo uno)\n",
      "Documento 182: [0.10 | 0.05 | 0.12 | 0.04 | 0.09 | 0.06 | 0.05 | 0.03 | 0.46] -> Tópicos: [8] (Solo uno)\n",
      "Documento 183: [0.39 | 0.22 | 0.01 | 0.01 | 0.25 | 0.01 | 0.00 | 0.02 | 0.08] -> Tópicos: [0] (Solo uno)\n",
      "Documento 184: [0.16 | 0.63 | 0.01 | 0.04 | 0.10 | 0.01 | 0.01 | 0.01 | 0.03] -> Tópicos: [1] (Solo uno)\n",
      "Documento 185: [0.29 | 0.58 | 0.00 | 0.05 | 0.01 | 0.02 | 0.01 | 0.01 | 0.05] -> Tópicos: [1] (Solo uno)\n",
      "Documento 186: [0.58 | 0.20 | 0.00 | 0.02 | 0.04 | 0.04 | 0.01 | 0.04 | 0.07] -> Tópicos: [0] (Solo uno)\n",
      "Documento 187: [0.13 | 0.59 | 0.01 | 0.03 | 0.12 | 0.02 | 0.01 | 0.00 | 0.08] -> Tópicos: [1] (Solo uno)\n",
      "Documento 188: [0.19 | 0.58 | 0.01 | 0.09 | 0.06 | 0.01 | 0.02 | 0.01 | 0.03] -> Tópicos: [1] (Solo uno)\n",
      "Documento 189: [0.44 | 0.23 | 0.01 | 0.03 | 0.17 | 0.03 | 0.01 | 0.02 | 0.07] -> Tópicos: [0] (Solo uno)\n",
      "Documento 190: [0.16 | 0.51 | 0.03 | 0.05 | 0.09 | 0.05 | 0.01 | 0.03 | 0.08] -> Tópicos: [1] (Solo uno)\n",
      "Documento 191: [0.16 | 0.06 | 0.01 | 0.02 | 0.46 | 0.04 | 0.01 | 0.01 | 0.22] -> Tópicos: [4] (Solo uno)\n",
      "Documento 192: [0.33 | 0.32 | 0.02 | 0.12 | 0.01 | 0.05 | 0.05 | 0.01 | 0.10] -> Tópicos: [0, 1] (Diff: 0.016)\n",
      "Documento 193: [0.04 | 0.83 | 0.00 | 0.07 | 0.01 | 0.01 | 0.02 | 0.00 | 0.02] -> Tópicos: [1] (Solo uno)\n",
      "Documento 194: [0.35 | 0.07 | 0.05 | 0.05 | 0.03 | 0.20 | 0.13 | 0.04 | 0.08] -> Tópicos: [0] (Solo uno)\n",
      "Documento 195: [0.33 | 0.03 | 0.05 | 0.06 | 0.13 | 0.08 | 0.15 | 0.01 | 0.16] -> Tópicos: [0] (Solo uno)\n",
      "Documento 196: [0.13 | 0.02 | 0.25 | 0.03 | 0.02 | 0.09 | 0.43 | 0.02 | 0.02] -> Tópicos: [6] (Solo uno)\n",
      "Documento 197: [0.05 | 0.05 | 0.20 | 0.36 | 0.01 | 0.05 | 0.26 | 0.01 | 0.02] -> Tópicos: [3, 6] (Diff: 0.095)\n",
      "Documento 198: [0.13 | 0.04 | 0.20 | 0.05 | 0.02 | 0.25 | 0.23 | 0.05 | 0.03] -> Tópicos: [5, 6] (Diff: 0.028)\n",
      "Documento 199: [0.14 | 0.02 | 0.08 | 0.04 | 0.13 | 0.07 | 0.26 | 0.02 | 0.24] -> Tópicos: [6, 8] (Diff: 0.023)\n",
      "Documento 200: [0.11 | 0.02 | 0.19 | 0.02 | 0.36 | 0.10 | 0.08 | 0.02 | 0.10] -> Tópicos: [4] (Solo uno)\n",
      "Documento 201: [0.04 | 0.05 | 0.11 | 0.14 | 0.08 | 0.12 | 0.26 | 0.02 | 0.18] -> Tópicos: [6, 8] (Diff: 0.074)\n",
      "Documento 202: [0.08 | 0.14 | 0.05 | 0.01 | 0.45 | 0.05 | 0.10 | 0.03 | 0.08] -> Tópicos: [4] (Solo uno)\n",
      "Documento 203: [0.07 | 0.09 | 0.09 | 0.04 | 0.06 | 0.04 | 0.53 | 0.03 | 0.06] -> Tópicos: [6] (Solo uno)\n",
      "Documento 204: [0.02 | 0.02 | 0.11 | 0.17 | 0.02 | 0.05 | 0.55 | 0.03 | 0.04] -> Tópicos: [6] (Solo uno)\n",
      "Documento 205: [0.09 | 0.04 | 0.35 | 0.04 | 0.16 | 0.17 | 0.05 | 0.03 | 0.08] -> Tópicos: [2] (Solo uno)\n",
      "Documento 206: [0.25 | 0.04 | 0.12 | 0.02 | 0.34 | 0.04 | 0.10 | 0.01 | 0.08] -> Tópicos: [4, 0] (Diff: 0.081)\n",
      "Documento 207: [0.08 | 0.02 | 0.43 | 0.03 | 0.03 | 0.15 | 0.24 | 0.01 | 0.02] -> Tópicos: [2] (Solo uno)\n",
      "Documento 208: [0.06 | 0.05 | 0.12 | 0.04 | 0.02 | 0.10 | 0.50 | 0.02 | 0.10] -> Tópicos: [6] (Solo uno)\n",
      "Documento 209: [0.09 | 0.04 | 0.12 | 0.08 | 0.06 | 0.36 | 0.14 | 0.02 | 0.08] -> Tópicos: [5] (Solo uno)\n",
      "Documento 210: [0.18 | 0.03 | 0.16 | 0.02 | 0.09 | 0.20 | 0.24 | 0.02 | 0.06] -> Tópicos: [6, 5] (Diff: 0.034)\n",
      "Documento 211: [0.18 | 0.04 | 0.21 | 0.02 | 0.27 | 0.10 | 0.12 | 0.02 | 0.04] -> Tópicos: [4, 2] (Diff: 0.062)\n",
      "Documento 212: [0.10 | 0.02 | 0.06 | 0.01 | 0.04 | 0.03 | 0.67 | 0.01 | 0.05] -> Tópicos: [6] (Solo uno)\n",
      "Documento 213: [0.03 | 0.01 | 0.19 | 0.05 | 0.01 | 0.08 | 0.56 | 0.02 | 0.04] -> Tópicos: [6] (Solo uno)\n",
      "Documento 214: [0.10 | 0.10 | 0.09 | 0.04 | 0.07 | 0.09 | 0.40 | 0.07 | 0.03] -> Tópicos: [6] (Solo uno)\n",
      "Documento 215: [0.06 | 0.06 | 0.16 | 0.28 | 0.02 | 0.08 | 0.26 | 0.03 | 0.03] -> Tópicos: [3, 6] (Diff: 0.016)\n",
      "Documento 216: [0.10 | 0.03 | 0.28 | 0.02 | 0.11 | 0.13 | 0.20 | 0.02 | 0.11] -> Tópicos: [2, 6] (Diff: 0.081)\n",
      "Documento 217: [0.06 | 0.07 | 0.21 | 0.08 | 0.08 | 0.07 | 0.26 | 0.10 | 0.07] -> Tópicos: [6, 2] (Diff: 0.052)\n",
      "Documento 218: [0.03 | 0.14 | 0.11 | 0.23 | 0.03 | 0.04 | 0.34 | 0.02 | 0.05] -> Tópicos: [6] (Solo uno)\n",
      "Documento 219: [0.05 | 0.04 | 0.25 | 0.04 | 0.08 | 0.13 | 0.27 | 0.02 | 0.11] -> Tópicos: [6, 2] (Diff: 0.023)\n",
      "Documento 220: [0.18 | 0.01 | 0.01 | 0.00 | 0.75 | 0.00 | 0.00 | 0.00 | 0.03] -> Tópicos: [4] (Solo uno)\n",
      "Documento 221: [0.07 | 0.04 | 0.15 | 0.17 | 0.02 | 0.11 | 0.34 | 0.03 | 0.06] -> Tópicos: [6] (Solo uno)\n",
      "Documento 222: [0.08 | 0.03 | 0.21 | 0.02 | 0.05 | 0.06 | 0.45 | 0.03 | 0.07] -> Tópicos: [6] (Solo uno)\n",
      "Documento 223: [0.24 | 0.04 | 0.17 | 0.05 | 0.09 | 0.08 | 0.18 | 0.02 | 0.13] -> Tópicos: [0, 6] (Diff: 0.053)\n",
      "Documento 224: [0.04 | 0.04 | 0.24 | 0.06 | 0.09 | 0.08 | 0.36 | 0.01 | 0.07] -> Tópicos: [6] (Solo uno)\n",
      "Documento 225: [0.07 | 0.09 | 0.03 | 0.48 | 0.01 | 0.08 | 0.18 | 0.02 | 0.05] -> Tópicos: [3] (Solo uno)\n",
      "Documento 226: [0.09 | 0.11 | 0.26 | 0.05 | 0.12 | 0.19 | 0.09 | 0.03 | 0.05] -> Tópicos: [2, 5] (Diff: 0.072)\n",
      "Documento 227: [0.14 | 0.17 | 0.01 | 0.01 | 0.57 | 0.01 | 0.04 | 0.01 | 0.04] -> Tópicos: [4] (Solo uno)\n",
      "Documento 228: [0.04 | 0.05 | 0.10 | 0.58 | 0.04 | 0.07 | 0.07 | 0.01 | 0.04] -> Tópicos: [3] (Solo uno)\n",
      "Documento 229: [0.13 | 0.05 | 0.13 | 0.02 | 0.07 | 0.10 | 0.29 | 0.02 | 0.19] -> Tópicos: [6, 8] (Diff: 0.098)\n",
      "Documento 230: [0.10 | 0.02 | 0.27 | 0.04 | 0.01 | 0.14 | 0.39 | 0.02 | 0.02] -> Tópicos: [6] (Solo uno)\n",
      "Documento 231: [0.16 | 0.09 | 0.16 | 0.05 | 0.04 | 0.12 | 0.24 | 0.03 | 0.12] -> Tópicos: [6, 2] (Diff: 0.074)\n",
      "Documento 232: [0.27 | 0.07 | 0.02 | 0.20 | 0.04 | 0.16 | 0.16 | 0.02 | 0.07] -> Tópicos: [0, 3] (Diff: 0.072)\n",
      "Documento 233: [0.10 | 0.03 | 0.09 | 0.06 | 0.00 | 0.06 | 0.64 | 0.00 | 0.02] -> Tópicos: [6] (Solo uno)\n",
      "Documento 234: [0.31 | 0.02 | 0.03 | 0.01 | 0.50 | 0.02 | 0.04 | 0.01 | 0.06] -> Tópicos: [4] (Solo uno)\n",
      "Documento 235: [0.14 | 0.02 | 0.13 | 0.03 | 0.08 | 0.10 | 0.29 | 0.04 | 0.17] -> Tópicos: [6] (Solo uno)\n",
      "Documento 236: [0.10 | 0.08 | 0.26 | 0.04 | 0.10 | 0.19 | 0.09 | 0.04 | 0.10] -> Tópicos: [2, 5] (Diff: 0.074)\n",
      "Documento 237: [0.06 | 0.03 | 0.31 | 0.04 | 0.02 | 0.18 | 0.26 | 0.03 | 0.06] -> Tópicos: [2, 6] (Diff: 0.052)\n",
      "Documento 238: [0.15 | 0.04 | 0.07 | 0.01 | 0.31 | 0.02 | 0.35 | 0.01 | 0.05] -> Tópicos: [6, 4] (Diff: 0.044)\n",
      "Documento 239: [0.26 | 0.23 | 0.03 | 0.03 | 0.19 | 0.05 | 0.07 | 0.04 | 0.12] -> Tópicos: [0, 1] (Diff: 0.032)\n",
      "Documento 240: [0.01 | 0.29 | 0.03 | 0.09 | 0.02 | 0.11 | 0.08 | 0.36 | 0.01] -> Tópicos: [7, 1] (Diff: 0.070)\n",
      "Documento 241: [0.03 | 0.04 | 0.02 | 0.30 | 0.01 | 0.52 | 0.01 | 0.03 | 0.04] -> Tópicos: [5] (Solo uno)\n",
      "Documento 242: [0.03 | 0.21 | 0.02 | 0.41 | 0.06 | 0.06 | 0.03 | 0.16 | 0.03] -> Tópicos: [3] (Solo uno)\n",
      "Documento 243: [0.15 | 0.05 | 0.16 | 0.14 | 0.37 | 0.04 | 0.04 | 0.01 | 0.04] -> Tópicos: [4] (Solo uno)\n",
      "Documento 244: [0.04 | 0.03 | 0.60 | 0.04 | 0.03 | 0.09 | 0.08 | 0.03 | 0.07] -> Tópicos: [2] (Solo uno)\n",
      "Documento 245: [0.00 | 0.31 | 0.02 | 0.57 | 0.00 | 0.04 | 0.03 | 0.01 | 0.01] -> Tópicos: [3] (Solo uno)\n",
      "Documento 246: [0.06 | 0.07 | 0.52 | 0.10 | 0.03 | 0.11 | 0.07 | 0.01 | 0.04] -> Tópicos: [2] (Solo uno)\n",
      "Documento 247: [0.05 | 0.15 | 0.30 | 0.06 | 0.06 | 0.13 | 0.05 | 0.16 | 0.05] -> Tópicos: [2] (Solo uno)\n",
      "Documento 248: [0.01 | 0.05 | 0.27 | 0.36 | 0.01 | 0.17 | 0.09 | 0.03 | 0.01] -> Tópicos: [3, 2] (Diff: 0.087)\n",
      "Documento 249: [0.03 | 0.04 | 0.27 | 0.08 | 0.02 | 0.14 | 0.12 | 0.28 | 0.01] -> Tópicos: [7, 2] (Diff: 0.019)\n",
      "Documento 250: [0.16 | 0.13 | 0.06 | 0.18 | 0.03 | 0.27 | 0.01 | 0.06 | 0.09] -> Tópicos: [5, 3] (Diff: 0.091)\n",
      "Documento 251: [0.13 | 0.04 | 0.43 | 0.04 | 0.05 | 0.13 | 0.14 | 0.01 | 0.02] -> Tópicos: [2] (Solo uno)\n",
      "Documento 252: [0.03 | 0.06 | 0.29 | 0.06 | 0.09 | 0.16 | 0.09 | 0.15 | 0.06] -> Tópicos: [2] (Solo uno)\n",
      "Documento 253: [0.09 | 0.04 | 0.40 | 0.04 | 0.08 | 0.15 | 0.13 | 0.01 | 0.06] -> Tópicos: [2] (Solo uno)\n",
      "Documento 254: [0.05 | 0.07 | 0.38 | 0.03 | 0.19 | 0.10 | 0.11 | 0.04 | 0.03] -> Tópicos: [2] (Solo uno)\n",
      "Documento 255: [0.19 | 0.10 | 0.06 | 0.08 | 0.30 | 0.08 | 0.03 | 0.03 | 0.13] -> Tópicos: [4] (Solo uno)\n",
      "Documento 256: [0.02 | 0.14 | 0.11 | 0.20 | 0.01 | 0.38 | 0.02 | 0.04 | 0.07] -> Tópicos: [5] (Solo uno)\n",
      "Documento 257: [0.05 | 0.12 | 0.18 | 0.14 | 0.01 | 0.44 | 0.03 | 0.02 | 0.01] -> Tópicos: [5] (Solo uno)\n",
      "Documento 258: [0.02 | 0.10 | 0.06 | 0.51 | 0.01 | 0.13 | 0.02 | 0.13 | 0.01] -> Tópicos: [3] (Solo uno)\n",
      "Documento 259: [0.02 | 0.05 | 0.34 | 0.10 | 0.03 | 0.09 | 0.22 | 0.13 | 0.01] -> Tópicos: [2] (Solo uno)\n",
      "Documento 260: [0.00 | 0.05 | 0.13 | 0.62 | 0.00 | 0.11 | 0.05 | 0.03 | 0.00] -> Tópicos: [3] (Solo uno)\n",
      "Documento 261: [0.21 | 0.11 | 0.01 | 0.01 | 0.47 | 0.01 | 0.01 | 0.02 | 0.14] -> Tópicos: [4] (Solo uno)\n",
      "Documento 262: [0.02 | 0.40 | 0.01 | 0.51 | 0.00 | 0.04 | 0.01 | 0.01 | 0.01] -> Tópicos: [3] (Solo uno)\n",
      "Documento 263: [0.08 | 0.14 | 0.03 | 0.01 | 0.40 | 0.07 | 0.02 | 0.05 | 0.20] -> Tópicos: [4] (Solo uno)\n",
      "Documento 264: [0.37 | 0.16 | 0.01 | 0.22 | 0.03 | 0.03 | 0.11 | 0.00 | 0.06] -> Tópicos: [0] (Solo uno)\n",
      "Documento 265: [0.03 | 0.43 | 0.02 | 0.01 | 0.11 | 0.01 | 0.01 | 0.36 | 0.01] -> Tópicos: [1, 7] (Diff: 0.072)\n",
      "Documento 266: [0.04 | 0.24 | 0.02 | 0.02 | 0.57 | 0.01 | 0.01 | 0.01 | 0.09] -> Tópicos: [4] (Solo uno)\n",
      "Documento 267: [0.02 | 0.35 | 0.02 | 0.43 | 0.01 | 0.06 | 0.05 | 0.05 | 0.02] -> Tópicos: [3, 1] (Diff: 0.081)\n",
      "Documento 268: [0.76 | 0.05 | 0.00 | 0.03 | 0.06 | 0.05 | 0.01 | 0.02 | 0.01] -> Tópicos: [0] (Solo uno)\n",
      "Documento 269: [0.02 | 0.12 | 0.01 | 0.79 | 0.01 | 0.02 | 0.01 | 0.00 | 0.01] -> Tópicos: [3] (Solo uno)\n",
      "Documento 270: [0.05 | 0.28 | 0.02 | 0.04 | 0.05 | 0.07 | 0.10 | 0.32 | 0.05] -> Tópicos: [7, 1] (Diff: 0.041)\n",
      "Documento 271: [0.13 | 0.09 | 0.03 | 0.29 | 0.01 | 0.22 | 0.05 | 0.05 | 0.12] -> Tópicos: [3, 5] (Diff: 0.078)\n",
      "Documento 272: [0.05 | 0.47 | 0.02 | 0.38 | 0.01 | 0.02 | 0.02 | 0.01 | 0.02] -> Tópicos: [1, 3] (Diff: 0.090)\n",
      "Documento 273: [0.02 | 0.47 | 0.02 | 0.17 | 0.04 | 0.07 | 0.05 | 0.12 | 0.04] -> Tópicos: [1] (Solo uno)\n",
      "Documento 274: [0.00 | 0.08 | 0.01 | 0.87 | 0.00 | 0.01 | 0.02 | 0.00 | 0.00] -> Tópicos: [3] (Solo uno)\n",
      "Documento 275: [0.04 | 0.65 | 0.02 | 0.08 | 0.03 | 0.06 | 0.04 | 0.05 | 0.02] -> Tópicos: [1] (Solo uno)\n",
      "Documento 276: [0.01 | 0.93 | 0.00 | 0.01 | 0.02 | 0.00 | 0.01 | 0.01 | 0.00] -> Tópicos: [1] (Solo uno)\n",
      "Documento 277: [0.10 | 0.42 | 0.01 | 0.01 | 0.25 | 0.03 | 0.01 | 0.08 | 0.08] -> Tópicos: [1] (Solo uno)\n",
      "Documento 278: [0.02 | 0.24 | 0.00 | 0.67 | 0.00 | 0.02 | 0.01 | 0.02 | 0.01] -> Tópicos: [3] (Solo uno)\n",
      "Documento 279: [0.00 | 0.35 | 0.02 | 0.45 | 0.00 | 0.03 | 0.04 | 0.10 | 0.00] -> Tópicos: [3] (Solo uno)\n",
      "Documento 280: [0.02 | 0.60 | 0.03 | 0.24 | 0.02 | 0.03 | 0.04 | 0.00 | 0.03] -> Tópicos: [1] (Solo uno)\n",
      "Documento 281: [0.35 | 0.41 | 0.01 | 0.03 | 0.12 | 0.02 | 0.03 | 0.00 | 0.04] -> Tópicos: [1, 0] (Diff: 0.057)\n",
      "Documento 282: [0.01 | 0.33 | 0.14 | 0.04 | 0.03 | 0.09 | 0.09 | 0.24 | 0.03] -> Tópicos: [1, 7] (Diff: 0.091)\n",
      "Documento 283: [0.04 | 0.51 | 0.03 | 0.16 | 0.06 | 0.06 | 0.03 | 0.06 | 0.05] -> Tópicos: [1] (Solo uno)\n",
      "Documento 284: [0.02 | 0.39 | 0.08 | 0.07 | 0.04 | 0.12 | 0.06 | 0.20 | 0.02] -> Tópicos: [1] (Solo uno)\n",
      "Documento 285: [0.18 | 0.45 | 0.02 | 0.07 | 0.07 | 0.06 | 0.02 | 0.02 | 0.10] -> Tópicos: [1] (Solo uno)\n",
      "Documento 286: [0.05 | 0.54 | 0.06 | 0.08 | 0.02 | 0.05 | 0.07 | 0.07 | 0.05] -> Tópicos: [1] (Solo uno)\n",
      "Documento 287: [0.01 | 0.41 | 0.10 | 0.22 | 0.02 | 0.09 | 0.11 | 0.05 | 0.01] -> Tópicos: [1] (Solo uno)\n",
      "Documento 288: [0.07 | 0.45 | 0.05 | 0.07 | 0.02 | 0.07 | 0.17 | 0.05 | 0.05] -> Tópicos: [1] (Solo uno)\n",
      "Documento 289: [0.04 | 0.48 | 0.05 | 0.09 | 0.12 | 0.03 | 0.11 | 0.02 | 0.04] -> Tópicos: [1] (Solo uno)\n",
      "Documento 290: [0.05 | 0.33 | 0.01 | 0.55 | 0.02 | 0.01 | 0.01 | 0.00 | 0.02] -> Tópicos: [3] (Solo uno)\n",
      "Documento 291: [0.04 | 0.24 | 0.04 | 0.37 | 0.08 | 0.03 | 0.07 | 0.02 | 0.11] -> Tópicos: [3] (Solo uno)\n",
      "Documento 292: [0.14 | 0.45 | 0.05 | 0.15 | 0.03 | 0.05 | 0.03 | 0.02 | 0.09] -> Tópicos: [1] (Solo uno)\n",
      "Documento 293: [0.04 | 0.65 | 0.03 | 0.04 | 0.03 | 0.07 | 0.03 | 0.06 | 0.04] -> Tópicos: [1] (Solo uno)\n",
      "Documento 294: [0.20 | 0.60 | 0.00 | 0.06 | 0.02 | 0.04 | 0.01 | 0.01 | 0.06] -> Tópicos: [1] (Solo uno)\n",
      "Documento 295: [0.05 | 0.28 | 0.04 | 0.38 | 0.05 | 0.05 | 0.06 | 0.02 | 0.07] -> Tópicos: [3, 1] (Diff: 0.093)\n",
      "Documento 296: [0.02 | 0.24 | 0.06 | 0.07 | 0.03 | 0.08 | 0.05 | 0.42 | 0.04] -> Tópicos: [7] (Solo uno)\n",
      "Documento 297: [0.11 | 0.46 | 0.00 | 0.06 | 0.14 | 0.07 | 0.01 | 0.03 | 0.13] -> Tópicos: [1] (Solo uno)\n",
      "Documento 298: [0.06 | 0.35 | 0.02 | 0.40 | 0.02 | 0.04 | 0.03 | 0.02 | 0.07] -> Tópicos: [3, 1] (Diff: 0.054)\n",
      "Documento 299: [0.02 | 0.32 | 0.09 | 0.15 | 0.04 | 0.09 | 0.15 | 0.08 | 0.07] -> Tópicos: [1] (Solo uno)\n",
      "Documento 300: [0.06 | 0.23 | 0.13 | 0.04 | 0.06 | 0.21 | 0.08 | 0.13 | 0.07] -> Tópicos: [1, 5] (Diff: 0.023)\n",
      "Documento 301: [0.16 | 0.17 | 0.12 | 0.03 | 0.03 | 0.17 | 0.07 | 0.22 | 0.02] -> Tópicos: [7, 5] (Diff: 0.047)\n",
      "Documento 302: [0.02 | 0.24 | 0.03 | 0.05 | 0.02 | 0.26 | 0.03 | 0.34 | 0.01] -> Tópicos: [7, 5] (Diff: 0.089)\n",
      "Documento 303: [0.20 | 0.27 | 0.02 | 0.06 | 0.23 | 0.08 | 0.02 | 0.04 | 0.09] -> Tópicos: [1, 4] (Diff: 0.041)\n",
      "Documento 304: [0.01 | 0.22 | 0.01 | 0.62 | 0.00 | 0.04 | 0.04 | 0.03 | 0.01] -> Tópicos: [3] (Solo uno)\n",
      "Documento 305: [0.02 | 0.69 | 0.02 | 0.07 | 0.02 | 0.03 | 0.08 | 0.05 | 0.02] -> Tópicos: [1] (Solo uno)\n",
      "Documento 306: [0.14 | 0.34 | 0.01 | 0.14 | 0.07 | 0.07 | 0.06 | 0.04 | 0.13] -> Tópicos: [1] (Solo uno)\n",
      "Documento 307: [0.24 | 0.09 | 0.13 | 0.05 | 0.22 | 0.19 | 0.03 | 0.01 | 0.05] -> Tópicos: [0, 4] (Diff: 0.027)\n",
      "Documento 308: [0.01 | 0.93 | 0.00 | 0.05 | 0.01 | 0.00 | 0.01 | 0.00 | 0.00] -> Tópicos: [1] (Solo uno)\n",
      "Documento 309: [0.04 | 0.43 | 0.06 | 0.18 | 0.01 | 0.09 | 0.12 | 0.07 | 0.01] -> Tópicos: [1] (Solo uno)\n",
      "Documento 310: [0.06 | 0.16 | 0.05 | 0.42 | 0.13 | 0.08 | 0.02 | 0.05 | 0.03] -> Tópicos: [3] (Solo uno)\n",
      "Documento 311: [0.03 | 0.09 | 0.03 | 0.21 | 0.01 | 0.37 | 0.10 | 0.07 | 0.09] -> Tópicos: [5] (Solo uno)\n",
      "Documento 312: [0.23 | 0.12 | 0.02 | 0.06 | 0.11 | 0.27 | 0.02 | 0.08 | 0.07] -> Tópicos: [5, 0] (Diff: 0.035)\n",
      "Documento 313: [0.03 | 0.11 | 0.06 | 0.08 | 0.01 | 0.57 | 0.02 | 0.09 | 0.03] -> Tópicos: [5] (Solo uno)\n",
      "Documento 314: [0.00 | 0.07 | 0.01 | 0.83 | 0.00 | 0.06 | 0.01 | 0.01 | 0.01] -> Tópicos: [3] (Solo uno)\n",
      "Documento 315: [0.02 | 0.08 | 0.03 | 0.68 | 0.00 | 0.12 | 0.03 | 0.01 | 0.02] -> Tópicos: [3] (Solo uno)\n",
      "Documento 316: [0.08 | 0.13 | 0.05 | 0.14 | 0.03 | 0.32 | 0.05 | 0.15 | 0.05] -> Tópicos: [5] (Solo uno)\n",
      "Documento 317: [0.04 | 0.13 | 0.02 | 0.65 | 0.01 | 0.04 | 0.06 | 0.01 | 0.05] -> Tópicos: [3] (Solo uno)\n",
      "Documento 318: [0.11 | 0.01 | 0.00 | 0.00 | 0.82 | 0.01 | 0.01 | 0.00 | 0.03] -> Tópicos: [4] (Solo uno)\n",
      "Documento 319: [0.04 | 0.06 | 0.01 | 0.05 | 0.02 | 0.52 | 0.06 | 0.16 | 0.08] -> Tópicos: [5] (Solo uno)\n",
      "Documento 320: [0.27 | 0.10 | 0.02 | 0.02 | 0.32 | 0.13 | 0.03 | 0.03 | 0.08] -> Tópicos: [4, 0] (Diff: 0.057)\n",
      "Documento 321: [0.11 | 0.02 | 0.11 | 0.01 | 0.46 | 0.13 | 0.04 | 0.02 | 0.11] -> Tópicos: [4] (Solo uno)\n",
      "Documento 322: [0.04 | 0.03 | 0.06 | 0.06 | 0.01 | 0.50 | 0.18 | 0.10 | 0.04] -> Tópicos: [5] (Solo uno)\n",
      "Documento 323: [0.08 | 0.08 | 0.02 | 0.46 | 0.09 | 0.13 | 0.03 | 0.03 | 0.07] -> Tópicos: [3] (Solo uno)\n",
      "Documento 324: [0.01 | 0.20 | 0.04 | 0.20 | 0.00 | 0.44 | 0.05 | 0.05 | 0.01] -> Tópicos: [5] (Solo uno)\n",
      "Documento 325: [0.11 | 0.24 | 0.02 | 0.38 | 0.02 | 0.13 | 0.03 | 0.02 | 0.05] -> Tópicos: [3] (Solo uno)\n",
      "Documento 326: [0.01 | 0.08 | 0.02 | 0.70 | 0.00 | 0.09 | 0.03 | 0.02 | 0.05] -> Tópicos: [3] (Solo uno)\n",
      "Documento 327: [0.10 | 0.26 | 0.03 | 0.04 | 0.06 | 0.44 | 0.02 | 0.01 | 0.05] -> Tópicos: [5] (Solo uno)\n",
      "Documento 328: [0.07 | 0.08 | 0.01 | 0.06 | 0.18 | 0.13 | 0.02 | 0.01 | 0.44] -> Tópicos: [8] (Solo uno)\n",
      "Documento 329: [0.01 | 0.12 | 0.01 | 0.79 | 0.01 | 0.03 | 0.02 | 0.01 | 0.01] -> Tópicos: [3] (Solo uno)\n",
      "Documento 330: [0.07 | 0.16 | 0.04 | 0.10 | 0.09 | 0.18 | 0.07 | 0.07 | 0.23] -> Tópicos: [8, 5] (Diff: 0.050)\n",
      "Documento 331: [0.02 | 0.06 | 0.03 | 0.70 | 0.00 | 0.11 | 0.02 | 0.02 | 0.03] -> Tópicos: [3] (Solo uno)\n",
      "Documento 332: [0.09 | 0.06 | 0.05 | 0.11 | 0.01 | 0.36 | 0.15 | 0.09 | 0.09] -> Tópicos: [5] (Solo uno)\n",
      "Documento 333: [0.10 | 0.03 | 0.08 | 0.06 | 0.12 | 0.26 | 0.05 | 0.03 | 0.27] -> Tópicos: [8, 5] (Diff: 0.003)\n",
      "Documento 334: [0.01 | 0.14 | 0.07 | 0.06 | 0.01 | 0.38 | 0.22 | 0.09 | 0.02] -> Tópicos: [5] (Solo uno)\n",
      "Documento 335: [0.01 | 0.06 | 0.08 | 0.23 | 0.00 | 0.40 | 0.15 | 0.04 | 0.03] -> Tópicos: [5] (Solo uno)\n",
      "Documento 336: [0.04 | 0.11 | 0.13 | 0.06 | 0.24 | 0.18 | 0.02 | 0.04 | 0.18] -> Tópicos: [4, 8] (Diff: 0.061)\n",
      "Documento 337: [0.00 | 0.07 | 0.03 | 0.61 | 0.00 | 0.03 | 0.20 | 0.03 | 0.01] -> Tópicos: [3] (Solo uno)\n",
      "Documento 338: [0.01 | 0.03 | 0.15 | 0.08 | 0.01 | 0.60 | 0.02 | 0.07 | 0.03] -> Tópicos: [5] (Solo uno)\n",
      "Documento 339: [0.00 | 0.06 | 0.07 | 0.60 | 0.00 | 0.11 | 0.13 | 0.02 | 0.01] -> Tópicos: [3] (Solo uno)\n",
      "Documento 340: [0.02 | 0.08 | 0.13 | 0.05 | 0.04 | 0.42 | 0.11 | 0.12 | 0.04] -> Tópicos: [5] (Solo uno)\n",
      "Documento 341: [0.02 | 0.16 | 0.09 | 0.23 | 0.02 | 0.27 | 0.06 | 0.09 | 0.06] -> Tópicos: [5, 3] (Diff: 0.033)\n",
      "Documento 342: [0.03 | 0.10 | 0.13 | 0.09 | 0.05 | 0.35 | 0.08 | 0.10 | 0.07] -> Tópicos: [5] (Solo uno)\n",
      "Documento 343: [0.01 | 0.04 | 0.02 | 0.55 | 0.00 | 0.33 | 0.01 | 0.02 | 0.01] -> Tópicos: [3] (Solo uno)\n",
      "Documento 344: [0.04 | 0.08 | 0.07 | 0.02 | 0.60 | 0.04 | 0.04 | 0.03 | 0.07] -> Tópicos: [4] (Solo uno)\n",
      "Documento 345: [0.01 | 0.11 | 0.21 | 0.35 | 0.01 | 0.18 | 0.07 | 0.04 | 0.01] -> Tópicos: [3] (Solo uno)\n",
      "Documento 346: [0.02 | 0.05 | 0.22 | 0.03 | 0.02 | 0.36 | 0.12 | 0.13 | 0.03] -> Tópicos: [5] (Solo uno)\n",
      "Documento 347: [0.36 | 0.07 | 0.02 | 0.03 | 0.09 | 0.12 | 0.02 | 0.04 | 0.25] -> Tópicos: [0] (Solo uno)\n",
      "Documento 348: [0.06 | 0.22 | 0.02 | 0.53 | 0.02 | 0.06 | 0.01 | 0.01 | 0.06] -> Tópicos: [3] (Solo uno)\n",
      "Documento 349: [0.07 | 0.06 | 0.06 | 0.05 | 0.07 | 0.07 | 0.18 | 0.02 | 0.41] -> Tópicos: [8] (Solo uno)\n",
      "Documento 350: [0.28 | 0.14 | 0.02 | 0.07 | 0.08 | 0.11 | 0.04 | 0.03 | 0.23] -> Tópicos: [0, 8] (Diff: 0.051)\n",
      "Documento 351: [0.10 | 0.07 | 0.05 | 0.10 | 0.03 | 0.09 | 0.08 | 0.04 | 0.43] -> Tópicos: [8] (Solo uno)\n",
      "Documento 352: [0.08 | 0.05 | 0.09 | 0.37 | 0.01 | 0.05 | 0.22 | 0.02 | 0.11] -> Tópicos: [3] (Solo uno)\n",
      "Documento 353: [0.06 | 0.04 | 0.12 | 0.08 | 0.06 | 0.08 | 0.24 | 0.02 | 0.31] -> Tópicos: [8, 6] (Diff: 0.076)\n",
      "Documento 354: [0.03 | 0.11 | 0.09 | 0.49 | 0.03 | 0.07 | 0.07 | 0.02 | 0.08] -> Tópicos: [3] (Solo uno)\n",
      "Documento 355: [0.08 | 0.03 | 0.04 | 0.05 | 0.03 | 0.18 | 0.16 | 0.01 | 0.41] -> Tópicos: [8] (Solo uno)\n",
      "Documento 356: [0.17 | 0.03 | 0.16 | 0.05 | 0.04 | 0.35 | 0.04 | 0.03 | 0.12] -> Tópicos: [5] (Solo uno)\n",
      "Documento 357: [0.05 | 0.02 | 0.21 | 0.06 | 0.01 | 0.31 | 0.29 | 0.02 | 0.03] -> Tópicos: [5, 6] (Diff: 0.020)\n",
      "Documento 358: [0.23 | 0.03 | 0.21 | 0.04 | 0.02 | 0.27 | 0.15 | 0.02 | 0.02] -> Tópicos: [5, 0] (Diff: 0.044)\n",
      "Documento 359: [0.36 | 0.03 | 0.24 | 0.02 | 0.05 | 0.09 | 0.13 | 0.02 | 0.06] -> Tópicos: [0] (Solo uno)\n",
      "Documento 360: [0.27 | 0.08 | 0.18 | 0.08 | 0.02 | 0.21 | 0.11 | 0.02 | 0.04] -> Tópicos: [0, 5] (Diff: 0.065)\n",
      "Documento 361: [0.13 | 0.02 | 0.21 | 0.06 | 0.03 | 0.27 | 0.16 | 0.02 | 0.10] -> Tópicos: [5, 2] (Diff: 0.057)\n",
      "Documento 362: [0.47 | 0.08 | 0.04 | 0.02 | 0.18 | 0.03 | 0.01 | 0.02 | 0.16] -> Tópicos: [0] (Solo uno)\n",
      "Documento 363: [0.08 | 0.04 | 0.15 | 0.32 | 0.04 | 0.22 | 0.07 | 0.01 | 0.07] -> Tópicos: [3, 5] (Diff: 0.093)\n",
      "Documento 364: [0.06 | 0.01 | 0.04 | 0.05 | 0.06 | 0.17 | 0.12 | 0.02 | 0.46] -> Tópicos: [8] (Solo uno)\n",
      "Documento 365: [0.29 | 0.13 | 0.01 | 0.03 | 0.18 | 0.08 | 0.03 | 0.04 | 0.21] -> Tópicos: [0, 8] (Diff: 0.080)\n",
      "Documento 366: [0.16 | 0.03 | 0.09 | 0.01 | 0.51 | 0.04 | 0.02 | 0.01 | 0.13] -> Tópicos: [4] (Solo uno)\n",
      "Documento 367: [0.24 | 0.04 | 0.09 | 0.07 | 0.02 | 0.28 | 0.10 | 0.04 | 0.13] -> Tópicos: [5, 0] (Diff: 0.047)\n",
      "Documento 368: [0.23 | 0.03 | 0.03 | 0.04 | 0.03 | 0.10 | 0.43 | 0.05 | 0.07] -> Tópicos: [6] (Solo uno)\n",
      "Documento 369: [0.69 | 0.04 | 0.01 | 0.03 | 0.13 | 0.03 | 0.01 | 0.03 | 0.05] -> Tópicos: [0] (Solo uno)\n",
      "Documento 370: [0.09 | 0.06 | 0.06 | 0.05 | 0.05 | 0.03 | 0.54 | 0.07 | 0.04] -> Tópicos: [6] (Solo uno)\n",
      "Documento 371: [0.06 | 0.11 | 0.03 | 0.19 | 0.05 | 0.16 | 0.14 | 0.11 | 0.15] -> Tópicos: [3, 5] (Diff: 0.033)\n",
      "Documento 372: [0.06 | 0.37 | 0.03 | 0.07 | 0.01 | 0.08 | 0.27 | 0.09 | 0.01] -> Tópicos: [1] (Solo uno)\n",
      "Documento 373: [0.11 | 0.02 | 0.03 | 0.04 | 0.01 | 0.04 | 0.63 | 0.02 | 0.09] -> Tópicos: [6] (Solo uno)\n",
      "Documento 374: [0.03 | 0.21 | 0.08 | 0.12 | 0.05 | 0.04 | 0.35 | 0.07 | 0.06] -> Tópicos: [6] (Solo uno)\n",
      "Documento 375: [0.04 | 0.24 | 0.15 | 0.06 | 0.05 | 0.08 | 0.19 | 0.13 | 0.05] -> Tópicos: [1, 6] (Diff: 0.048)\n",
      "Documento 376: [0.43 | 0.06 | 0.02 | 0.03 | 0.20 | 0.11 | 0.06 | 0.02 | 0.08] -> Tópicos: [0] (Solo uno)\n",
      "Documento 377: [0.00 | 0.52 | 0.01 | 0.43 | 0.00 | 0.01 | 0.02 | 0.00 | 0.00] -> Tópicos: [1, 3] (Diff: 0.092)\n",
      "Documento 378: [0.03 | 0.05 | 0.02 | 0.52 | 0.01 | 0.04 | 0.26 | 0.01 | 0.07] -> Tópicos: [3] (Solo uno)\n",
      "Documento 379: [0.07 | 0.11 | 0.06 | 0.17 | 0.04 | 0.11 | 0.28 | 0.09 | 0.08] -> Tópicos: [6] (Solo uno)\n",
      "Documento 380: [0.19 | 0.03 | 0.06 | 0.03 | 0.03 | 0.21 | 0.30 | 0.05 | 0.08] -> Tópicos: [6, 5] (Diff: 0.091)\n",
      "Documento 381: [0.12 | 0.03 | 0.15 | 0.05 | 0.05 | 0.06 | 0.43 | 0.03 | 0.08] -> Tópicos: [6] (Solo uno)\n",
      "Documento 382: [0.14 | 0.06 | 0.06 | 0.02 | 0.15 | 0.03 | 0.29 | 0.05 | 0.20] -> Tópicos: [6, 8] (Diff: 0.091)\n",
      "Documento 383: [0.03 | 0.04 | 0.06 | 0.12 | 0.01 | 0.04 | 0.61 | 0.04 | 0.04] -> Tópicos: [6] (Solo uno)\n",
      "Documento 384: [0.07 | 0.02 | 0.06 | 0.02 | 0.03 | 0.03 | 0.69 | 0.02 | 0.08] -> Tópicos: [6] (Solo uno)\n",
      "Documento 385: [0.07 | 0.02 | 0.00 | 0.01 | 0.01 | 0.01 | 0.00 | 0.86 | 0.01] -> Tópicos: [7] (Solo uno)\n",
      "Documento 386: [0.04 | 0.57 | 0.01 | 0.01 | 0.13 | 0.02 | 0.01 | 0.21 | 0.01] -> Tópicos: [1] (Solo uno)\n",
      "Documento 387: [0.01 | 0.06 | 0.01 | 0.00 | 0.02 | 0.01 | 0.01 | 0.88 | 0.01] -> Tópicos: [7] (Solo uno)\n",
      "Documento 388: [0.03 | 0.30 | 0.07 | 0.03 | 0.01 | 0.04 | 0.07 | 0.43 | 0.01] -> Tópicos: [7] (Solo uno)\n",
      "Documento 389: [0.06 | 0.16 | 0.11 | 0.06 | 0.29 | 0.08 | 0.06 | 0.12 | 0.05] -> Tópicos: [4] (Solo uno)\n",
      "Documento 390: [0.00 | 0.04 | 0.02 | 0.00 | 0.01 | 0.00 | 0.01 | 0.92 | 0.00] -> Tópicos: [7] (Solo uno)\n",
      "Documento 391: [0.02 | 0.13 | 0.06 | 0.03 | 0.03 | 0.08 | 0.03 | 0.58 | 0.04] -> Tópicos: [7] (Solo uno)\n",
      "Documento 392: [0.01 | 0.12 | 0.01 | 0.01 | 0.03 | 0.02 | 0.00 | 0.79 | 0.01] -> Tópicos: [7] (Solo uno)\n",
      "Documento 393: [0.01 | 0.14 | 0.01 | 0.32 | 0.01 | 0.03 | 0.01 | 0.46 | 0.01] -> Tópicos: [7] (Solo uno)\n",
      "Documento 394: [0.01 | 0.09 | 0.01 | 0.01 | 0.01 | 0.04 | 0.01 | 0.82 | 0.00] -> Tópicos: [7] (Solo uno)\n",
      "Documento 395: [0.00 | 0.29 | 0.01 | 0.10 | 0.01 | 0.01 | 0.01 | 0.57 | 0.01] -> Tópicos: [7] (Solo uno)\n",
      "Documento 396: [0.07 | 0.08 | 0.03 | 0.02 | 0.14 | 0.04 | 0.03 | 0.53 | 0.06] -> Tópicos: [7] (Solo uno)\n",
      "Documento 397: [0.01 | 0.04 | 0.01 | 0.00 | 0.01 | 0.03 | 0.00 | 0.88 | 0.01] -> Tópicos: [7] (Solo uno)\n",
      "Documento 398: [0.04 | 0.09 | 0.02 | 0.01 | 0.07 | 0.02 | 0.03 | 0.71 | 0.02] -> Tópicos: [7] (Solo uno)\n",
      "Documento 399: [0.01 | 0.10 | 0.05 | 0.02 | 0.02 | 0.02 | 0.02 | 0.75 | 0.01] -> Tópicos: [7] (Solo uno)\n",
      "Documento 400: [0.01 | 0.08 | 0.01 | 0.01 | 0.01 | 0.01 | 0.01 | 0.85 | 0.01] -> Tópicos: [7] (Solo uno)\n",
      "Documento 401: [0.23 | 0.06 | 0.16 | 0.03 | 0.11 | 0.23 | 0.12 | 0.01 | 0.06] -> Tópicos: [0, 5] (Diff: 0.004)\n",
      "Documento 402: [0.02 | 0.04 | 0.23 | 0.40 | 0.02 | 0.17 | 0.08 | 0.01 | 0.03] -> Tópicos: [3] (Solo uno)\n",
      "Documento 403: [0.07 | 0.04 | 0.24 | 0.02 | 0.16 | 0.19 | 0.09 | 0.03 | 0.16] -> Tópicos: [2, 5] (Diff: 0.051)\n",
      "Documento 404: [0.10 | 0.01 | 0.29 | 0.06 | 0.02 | 0.38 | 0.09 | 0.02 | 0.03] -> Tópicos: [5, 2] (Diff: 0.092)\n",
      "Documento 405: [0.06 | 0.05 | 0.32 | 0.18 | 0.05 | 0.14 | 0.13 | 0.03 | 0.04] -> Tópicos: [2] (Solo uno)\n",
      "Documento 406: [0.17 | 0.03 | 0.27 | 0.02 | 0.17 | 0.19 | 0.07 | 0.01 | 0.07] -> Tópicos: [2, 5] (Diff: 0.081)\n",
      "Documento 407: [0.12 | 0.04 | 0.14 | 0.01 | 0.46 | 0.03 | 0.05 | 0.03 | 0.12] -> Tópicos: [4] (Solo uno)\n",
      "Documento 408: [0.09 | 0.04 | 0.40 | 0.05 | 0.07 | 0.10 | 0.18 | 0.04 | 0.03] -> Tópicos: [2] (Solo uno)\n",
      "Documento 409: [0.10 | 0.03 | 0.10 | 0.02 | 0.54 | 0.05 | 0.05 | 0.02 | 0.11] -> Tópicos: [4] (Solo uno)\n",
      "Documento 410: [0.01 | 0.02 | 0.19 | 0.48 | 0.01 | 0.21 | 0.05 | 0.01 | 0.02] -> Tópicos: [3] (Solo uno)\n",
      "Documento 411: [0.05 | 0.07 | 0.42 | 0.08 | 0.11 | 0.10 | 0.09 | 0.02 | 0.06] -> Tópicos: [2] (Solo uno)\n",
      "Documento 412: [0.09 | 0.03 | 0.18 | 0.04 | 0.03 | 0.53 | 0.05 | 0.02 | 0.04] -> Tópicos: [5] (Solo uno)\n",
      "Documento 413: [0.06 | 0.04 | 0.50 | 0.02 | 0.07 | 0.22 | 0.05 | 0.01 | 0.03] -> Tópicos: [2] (Solo uno)\n",
      "Documento 414: [0.08 | 0.07 | 0.15 | 0.20 | 0.02 | 0.36 | 0.03 | 0.02 | 0.08] -> Tópicos: [5] (Solo uno)\n",
      "Documento 415: [0.02 | 0.02 | 0.28 | 0.42 | 0.01 | 0.16 | 0.08 | 0.02 | 0.01] -> Tópicos: [3] (Solo uno)\n",
      "Documento 416: [0.02 | 0.01 | 0.34 | 0.06 | 0.01 | 0.48 | 0.05 | 0.02 | 0.01] -> Tópicos: [5] (Solo uno)\n",
      "Documento 417: [0.04 | 0.08 | 0.35 | 0.20 | 0.06 | 0.10 | 0.09 | 0.02 | 0.07] -> Tópicos: [2] (Solo uno)\n",
      "Documento 418: [0.02 | 0.40 | 0.01 | 0.46 | 0.02 | 0.03 | 0.01 | 0.01 | 0.04] -> Tópicos: [3, 1] (Diff: 0.052)\n",
      "Documento 419: [0.05 | 0.27 | 0.02 | 0.09 | 0.10 | 0.08 | 0.02 | 0.03 | 0.34] -> Tópicos: [8, 1] (Diff: 0.065)\n",
      "Documento 420: [0.02 | 0.77 | 0.01 | 0.02 | 0.06 | 0.02 | 0.01 | 0.04 | 0.05] -> Tópicos: [1] (Solo uno)\n",
      "Documento 421: [0.07 | 0.31 | 0.03 | 0.03 | 0.14 | 0.03 | 0.01 | 0.02 | 0.37] -> Tópicos: [8, 1] (Diff: 0.055)\n",
      "Documento 422: [0.17 | 0.24 | 0.03 | 0.02 | 0.27 | 0.03 | 0.01 | 0.03 | 0.19] -> Tópicos: [4, 1] (Diff: 0.029)\n",
      "Documento 423: [0.04 | 0.26 | 0.01 | 0.04 | 0.05 | 0.07 | 0.01 | 0.40 | 0.12] -> Tópicos: [7] (Solo uno)\n",
      "Documento 424: [0.15 | 0.50 | 0.01 | 0.19 | 0.04 | 0.01 | 0.01 | 0.01 | 0.08] -> Tópicos: [1] (Solo uno)\n",
      "Documento 425: [0.19 | 0.01 | 0.16 | 0.02 | 0.02 | 0.07 | 0.47 | 0.04 | 0.04] -> Tópicos: [6] (Solo uno)\n",
      "Documento 426: [0.06 | 0.06 | 0.26 | 0.04 | 0.09 | 0.15 | 0.28 | 0.01 | 0.05] -> Tópicos: [6, 2] (Diff: 0.015)\n",
      "Documento 427: [0.18 | 0.02 | 0.03 | 0.02 | 0.15 | 0.07 | 0.13 | 0.02 | 0.38] -> Tópicos: [8] (Solo uno)\n",
      "Documento 428: [0.04 | 0.08 | 0.26 | 0.16 | 0.03 | 0.08 | 0.26 | 0.03 | 0.06] -> Tópicos: [2, 6] (Diff: 0.005)\n",
      "Documento 429: [0.02 | 0.25 | 0.07 | 0.06 | 0.03 | 0.15 | 0.03 | 0.37 | 0.03] -> Tópicos: [7] (Solo uno)\n",
      "Documento 430: [0.14 | 0.11 | 0.17 | 0.10 | 0.07 | 0.14 | 0.05 | 0.11 | 0.10] -> Tópicos: [2, 5] (Diff: 0.028)\n",
      "Documento 431: [0.10 | 0.09 | 0.25 | 0.11 | 0.12 | 0.17 | 0.05 | 0.01 | 0.09] -> Tópicos: [2, 5] (Diff: 0.086)\n",
      "Documento 432: [0.01 | 0.09 | 0.26 | 0.30 | 0.01 | 0.13 | 0.12 | 0.06 | 0.01] -> Tópicos: [3, 2] (Diff: 0.038)\n",
      "Documento 433: [0.10 | 0.16 | 0.03 | 0.04 | 0.20 | 0.10 | 0.03 | 0.07 | 0.27] -> Tópicos: [8, 4] (Diff: 0.065)\n",
      "Documento 434: [0.09 | 0.07 | 0.30 | 0.03 | 0.22 | 0.08 | 0.07 | 0.04 | 0.09] -> Tópicos: [2, 4] (Diff: 0.076)\n",
      "Documento 435: [0.00 | 0.10 | 0.09 | 0.61 | 0.00 | 0.05 | 0.09 | 0.03 | 0.01] -> Tópicos: [3] (Solo uno)\n",
      "Documento 436: [0.02 | 0.11 | 0.20 | 0.30 | 0.14 | 0.07 | 0.05 | 0.01 | 0.10] -> Tópicos: [3, 2] (Diff: 0.097)\n",
      "Documento 437: [0.03 | 0.10 | 0.37 | 0.10 | 0.03 | 0.17 | 0.08 | 0.09 | 0.02] -> Tópicos: [2] (Solo uno)\n",
      "Documento 438: [0.01 | 0.05 | 0.17 | 0.53 | 0.01 | 0.15 | 0.04 | 0.03 | 0.02] -> Tópicos: [3] (Solo uno)\n",
      "Documento 439: [0.01 | 0.03 | 0.28 | 0.52 | 0.01 | 0.06 | 0.07 | 0.01 | 0.01] -> Tópicos: [3] (Solo uno)\n",
      "Documento 440: [0.08 | 0.03 | 0.42 | 0.01 | 0.14 | 0.05 | 0.22 | 0.01 | 0.04] -> Tópicos: [2] (Solo uno)\n",
      "Documento 441: [0.02 | 0.03 | 0.56 | 0.04 | 0.03 | 0.22 | 0.05 | 0.03 | 0.03] -> Tópicos: [2] (Solo uno)\n",
      "Documento 442: [0.05 | 0.03 | 0.55 | 0.03 | 0.04 | 0.12 | 0.11 | 0.03 | 0.05] -> Tópicos: [2] (Solo uno)\n",
      "Documento 443: [0.02 | 0.03 | 0.52 | 0.18 | 0.02 | 0.08 | 0.09 | 0.03 | 0.03] -> Tópicos: [2] (Solo uno)\n",
      "Documento 444: [0.01 | 0.04 | 0.30 | 0.41 | 0.01 | 0.14 | 0.04 | 0.03 | 0.01] -> Tópicos: [3] (Solo uno)\n",
      "Documento 445: [0.04 | 0.07 | 0.37 | 0.03 | 0.03 | 0.21 | 0.05 | 0.15 | 0.06] -> Tópicos: [2] (Solo uno)\n",
      "Documento 446: [0.03 | 0.01 | 0.67 | 0.03 | 0.04 | 0.18 | 0.03 | 0.01 | 0.01] -> Tópicos: [2] (Solo uno)\n",
      "Documento 447: [0.36 | 0.04 | 0.04 | 0.02 | 0.13 | 0.27 | 0.02 | 0.03 | 0.10] -> Tópicos: [0, 5] (Diff: 0.094)\n",
      "Documento 448: [0.01 | 0.10 | 0.21 | 0.36 | 0.02 | 0.08 | 0.12 | 0.08 | 0.02] -> Tópicos: [3] (Solo uno)\n",
      "Documento 449: [0.03 | 0.07 | 0.36 | 0.02 | 0.23 | 0.11 | 0.05 | 0.05 | 0.08] -> Tópicos: [2] (Solo uno)\n",
      "Documento 450: [0.05 | 0.03 | 0.22 | 0.03 | 0.02 | 0.57 | 0.02 | 0.01 | 0.03] -> Tópicos: [5] (Solo uno)\n",
      "Documento 451: [0.03 | 0.01 | 0.27 | 0.03 | 0.02 | 0.07 | 0.52 | 0.02 | 0.02] -> Tópicos: [6] (Solo uno)\n",
      "Documento 452: [0.01 | 0.12 | 0.02 | 0.78 | 0.00 | 0.03 | 0.02 | 0.01 | 0.01] -> Tópicos: [3] (Solo uno)\n",
      "Documento 453: [0.05 | 0.06 | 0.28 | 0.07 | 0.03 | 0.30 | 0.12 | 0.02 | 0.07] -> Tópicos: [5, 2] (Diff: 0.021)\n",
      "Documento 454: [0.04 | 0.09 | 0.22 | 0.10 | 0.02 | 0.12 | 0.36 | 0.01 | 0.03] -> Tópicos: [6] (Solo uno)\n",
      "Documento 455: [0.01 | 0.06 | 0.03 | 0.78 | 0.00 | 0.07 | 0.03 | 0.02 | 0.00] -> Tópicos: [3] (Solo uno)\n",
      "Documento 456: [0.07 | 0.06 | 0.29 | 0.12 | 0.12 | 0.09 | 0.10 | 0.05 | 0.09] -> Tópicos: [2] (Solo uno)\n",
      "Documento 457: [0.01 | 0.03 | 0.53 | 0.03 | 0.06 | 0.12 | 0.03 | 0.11 | 0.09] -> Tópicos: [2] (Solo uno)\n",
      "Documento 458: [0.01 | 0.05 | 0.09 | 0.21 | 0.01 | 0.44 | 0.14 | 0.02 | 0.02] -> Tópicos: [5] (Solo uno)\n",
      "Documento 459: [0.11 | 0.08 | 0.12 | 0.04 | 0.05 | 0.45 | 0.04 | 0.03 | 0.08] -> Tópicos: [5] (Solo uno)\n",
      "Documento 460: [0.03 | 0.06 | 0.17 | 0.10 | 0.01 | 0.36 | 0.15 | 0.08 | 0.02] -> Tópicos: [5] (Solo uno)\n",
      "Documento 461: [0.10 | 0.10 | 0.13 | 0.06 | 0.21 | 0.11 | 0.04 | 0.05 | 0.20] -> Tópicos: [4, 8] (Diff: 0.005)\n",
      "Documento 462: [0.22 | 0.02 | 0.01 | 0.01 | 0.16 | 0.02 | 0.10 | 0.02 | 0.45] -> Tópicos: [8] (Solo uno)\n",
      "Documento 463: [0.01 | 0.01 | 0.35 | 0.44 | 0.01 | 0.12 | 0.05 | 0.00 | 0.01] -> Tópicos: [3, 2] (Diff: 0.095)\n",
      "Documento 464: [0.21 | 0.17 | 0.01 | 0.03 | 0.10 | 0.05 | 0.02 | 0.02 | 0.39] -> Tópicos: [8] (Solo uno)\n",
      "Documento 465: [0.07 | 0.06 | 0.08 | 0.02 | 0.41 | 0.04 | 0.05 | 0.03 | 0.24] -> Tópicos: [4] (Solo uno)\n",
      "Documento 466: [0.15 | 0.16 | 0.06 | 0.06 | 0.03 | 0.05 | 0.12 | 0.02 | 0.36] -> Tópicos: [8] (Solo uno)\n",
      "Documento 467: [0.05 | 0.03 | 0.09 | 0.21 | 0.04 | 0.07 | 0.21 | 0.02 | 0.28] -> Tópicos: [8, 6] (Diff: 0.065)\n",
      "Documento 468: [0.13 | 0.05 | 0.10 | 0.02 | 0.27 | 0.07 | 0.05 | 0.05 | 0.25] -> Tópicos: [4, 8] (Diff: 0.026)\n",
      "Documento 469: [0.17 | 0.01 | 0.01 | 0.04 | 0.02 | 0.04 | 0.21 | 0.02 | 0.49] -> Tópicos: [8] (Solo uno)\n",
      "Documento 470: [0.12 | 0.17 | 0.02 | 0.25 | 0.12 | 0.07 | 0.02 | 0.03 | 0.20] -> Tópicos: [3, 8] (Diff: 0.046)\n",
      "Documento 471: [0.14 | 0.09 | 0.03 | 0.04 | 0.07 | 0.05 | 0.07 | 0.06 | 0.44] -> Tópicos: [8] (Solo uno)\n",
      "Documento 472: [0.16 | 0.10 | 0.04 | 0.08 | 0.04 | 0.09 | 0.03 | 0.04 | 0.42] -> Tópicos: [8] (Solo uno)\n",
      "Documento 473: [0.29 | 0.15 | 0.02 | 0.02 | 0.26 | 0.02 | 0.05 | 0.01 | 0.19] -> Tópicos: [0, 4] (Diff: 0.030)\n",
      "Documento 474: [0.08 | 0.05 | 0.01 | 0.03 | 0.05 | 0.04 | 0.02 | 0.02 | 0.71] -> Tópicos: [8] (Solo uno)\n",
      "Documento 475: [0.09 | 0.21 | 0.09 | 0.11 | 0.02 | 0.20 | 0.08 | 0.02 | 0.16] -> Tópicos: [1, 5] (Diff: 0.005)\n",
      "Documento 476: [0.12 | 0.36 | 0.01 | 0.08 | 0.09 | 0.02 | 0.03 | 0.01 | 0.28] -> Tópicos: [1, 8] (Diff: 0.079)\n",
      "Documento 477: [0.25 | 0.05 | 0.06 | 0.02 | 0.09 | 0.06 | 0.11 | 0.03 | 0.33] -> Tópicos: [8, 0] (Diff: 0.080)\n",
      "Documento 478: [0.14 | 0.04 | 0.01 | 0.01 | 0.39 | 0.05 | 0.04 | 0.04 | 0.28] -> Tópicos: [4] (Solo uno)\n",
      "Documento 479: [0.07 | 0.06 | 0.13 | 0.36 | 0.01 | 0.10 | 0.13 | 0.04 | 0.11] -> Tópicos: [3] (Solo uno)\n",
      "Documento 480: [0.11 | 0.10 | 0.02 | 0.06 | 0.09 | 0.08 | 0.02 | 0.01 | 0.51] -> Tópicos: [8] (Solo uno)\n",
      "Documento 481: [0.05 | 0.22 | 0.10 | 0.14 | 0.12 | 0.04 | 0.07 | 0.04 | 0.22] -> Tópicos: [8, 1] (Diff: 0.008)\n",
      "Documento 482: [0.12 | 0.06 | 0.15 | 0.03 | 0.09 | 0.09 | 0.14 | 0.03 | 0.29] -> Tópicos: [8] (Solo uno)\n",
      "Documento 483: [0.08 | 0.02 | 0.10 | 0.04 | 0.14 | 0.09 | 0.25 | 0.03 | 0.26] -> Tópicos: [8, 6] (Diff: 0.004)\n",
      "Documento 484: [0.13 | 0.04 | 0.02 | 0.03 | 0.03 | 0.21 | 0.05 | 0.06 | 0.44] -> Tópicos: [8] (Solo uno)\n",
      "Documento 485: [0.05 | 0.03 | 0.01 | 0.27 | 0.01 | 0.04 | 0.24 | 0.05 | 0.30] -> Tópicos: [8, 3] (Diff: 0.034)\n",
      "Documento 486: [0.44 | 0.04 | 0.02 | 0.03 | 0.02 | 0.06 | 0.07 | 0.01 | 0.32] -> Tópicos: [0] (Solo uno)\n",
      "Documento 487: [0.16 | 0.19 | 0.13 | 0.03 | 0.11 | 0.05 | 0.04 | 0.02 | 0.27] -> Tópicos: [8, 1] (Diff: 0.078)\n",
      "Documento 488: [0.13 | 0.05 | 0.02 | 0.01 | 0.68 | 0.02 | 0.02 | 0.02 | 0.06] -> Tópicos: [4] (Solo uno)\n",
      "Documento 489: [0.08 | 0.25 | 0.03 | 0.40 | 0.01 | 0.05 | 0.03 | 0.03 | 0.12] -> Tópicos: [3] (Solo uno)\n"
     ]
    }
   ],
   "source": [
    "import numpy as np\n",
    "\n",
    "def select_topics_simple(doc_vec, max_topics=2, diff_threshold=0.10):\n",
    "    \"\"\"\n",
    "    Selecciona tópicos de manera simple:\n",
    "    - Siempre selecciona el tópico con mayor probabilidad\n",
    "    - Si la diferencia entre el primero y segundo es <= 10%, selecciona también el segundo\n",
    "    - Máximo 2 tópicos seleccionados por documento\n",
    "    \"\"\"\n",
    "    doc_vec = np.array(doc_vec)\n",
    "    order = np.argsort(doc_vec)[::-1]  # Ordenar de mayor a menor probabilidad\n",
    "    \n",
    "    selected = []\n",
    "    \n",
    "    if len(order) > 0:\n",
    "        # Siempre seleccionar el primero (mayor probabilidad)\n",
    "        selected.append(order[0])\n",
    "        \n",
    "        # Si hay un segundo tópico, verificar la diferencia\n",
    "        if len(order) > 1 and len(selected) < max_topics:\n",
    "            first_prob = doc_vec[order[0]]\n",
    "            second_prob = doc_vec[order[1]]\n",
    "            \n",
    "            # Si la diferencia es <= 10%, seleccionar también el segundo\n",
    "            if (first_prob - second_prob) <= diff_threshold:\n",
    "                selected.append(order[1])\n",
    "    \n",
    "    return selected\n",
    "\n",
    "# Aplicar la nueva lógica simple a todos los documentos\n",
    "for i, doc in enumerate(doc_topic_dist, 1):\n",
    "    selected = select_topics_simple(doc)\n",
    "    probs_str = \" | \".join(f\"{p:.2f}\" for p in doc)\n",
    "    \n",
    "    # Mostrar información más clara\n",
    "    if len(selected) >= 2:\n",
    "        first_prob = doc[selected[0]]\n",
    "        second_prob = doc[selected[1]]\n",
    "        diff = first_prob - second_prob\n",
    "        print(f\"Documento {i}: [{probs_str}] -> Tópicos: {selected} (Diff: {diff:.3f})\")\n",
    "    else:\n",
    "        print(f\"Documento {i}: [{probs_str}] -> Tópicos: {selected} (Solo uno)\")\n"
   ]
  },
  {
   "cell_type": "code",
   "execution_count": 10,
   "id": "0c7c2465",
   "metadata": {},
   "outputs": [],
   "source": [
    "topic_info = procesar_topicos_fastopic(topic_model, doc_topic_dist, top_words)\n",
    "\n",
    "# Preparar información de todos los tópicos para procesamiento en lote\n",
    "topics_info_text = \"\"\n",
    "for _, row in topic_info.iterrows():\n",
    "    topic_id = row['Topic']\n",
    "    keywords = row['Keywords']\n",
    "    if keywords and keywords not in [\"Sin palabras\", \"Error en procesamiento\"]:\n",
    "        topics_info_text += f\"Tópico {topic_id}: {keywords}\\n\"\n",
    "\n",
    "resultado = clasificador_topicos.invoke({\"topics_info\": topics_info_text})\n",
    "\n",
    "topic_names = {}\n",
    "for topic_label in resultado.topics:\n",
    "    topic_names[topic_label.topic_id] = topic_label.label\n",
    "\n",
    "topic_info['Name'] = topic_info['Topic'].map(topic_names)"
   ]
  },
  {
   "cell_type": "code",
   "execution_count": 11,
   "id": "8f86ee20",
   "metadata": {},
   "outputs": [
    {
     "name": "stdout",
     "output_type": "stream",
     "text": [
      "Tópico 0: acuario, actividad, servicio, gusto, tocar, instalación, atracción, deberiar, experiencia, gustar\n",
      "Tópico 1: plaza, mercado, zocalo, catedral, barrio, restaurante, tienda, calle, comida, cdmx\n",
      "Tópico 2: museo, informacion, hora, encontrar, templo, excavacion, ruina, pieza, deber, sitio\n",
      "Tópico 3: mexico, ciudad, descubrir, fascinante, mantenido, accesible, mexicano, must, pueblo, historio\n",
      "Tópico 4: animal, grupo, pagar, cuidado, horario, ingresar, line, area, falta, boleto\n",
      "Tópico 5: chapultepec, castillo, guia, recorrer, bosque, ocasion, divertido, experimentar, nacional, epoca\n",
      "Tópico 6: arte, mural, obra, artista, coleccion, piso, escultura, art, interior, soumaya\n",
      "Tópico 7: basilica, guadalupe, misa, virgen, iglesia, imagen, juan, capilla, fe, catolico\n",
      "Tópico 8: frida, casa, kahlo, vida, antelacion, fan, frido, accidente, polio, dedicar\n",
      "\n"
     ]
    }
   ],
   "source": [
    "print(topics_info_text)"
   ]
  },
  {
   "cell_type": "code",
   "execution_count": 12,
   "id": "66c45ab3",
   "metadata": {},
   "outputs": [
    {
     "name": "stdout",
     "output_type": "stream",
     "text": [
      "topics=[TopicLabel(topic_id=0, label='Vida marina y actividades interactivas'), TopicLabel(topic_id=1, label='Plazas, mercados y gastronomía'), TopicLabel(topic_id=2, label='Museos y sitios arqueológicos'), TopicLabel(topic_id=3, label='Ciudades y patrimonio cultural'), TopicLabel(topic_id=4, label='Animales y acceso a atracciones'), TopicLabel(topic_id=5, label='Parques y paseos en la naturaleza'), TopicLabel(topic_id=6, label='Arte, museos y colecciones'), TopicLabel(topic_id=7, label='Religión y sitios religiosos'), TopicLabel(topic_id=8, label='Vida y obra de artistas famosos')]\n"
     ]
    }
   ],
   "source": [
    "print(resultado)"
   ]
  },
  {
   "cell_type": "code",
   "execution_count": 13,
   "id": "dfb93d62",
   "metadata": {},
   "outputs": [
    {
     "name": "stdout",
     "output_type": "stream",
     "text": [
      "🔄 SOBRESCRIBIENDO resultados previos para Cdmx:\n",
      "   📝 Opiniones con tópicos previos: 489\n",
      "   🆕 Nuevas asignaciones de tópicos: 489\n",
      "\n",
      "✅ Actualización completada para Cdmx\n",
      "Distribución de tópicos en Cdmx:\n",
      "Topico_Nombre\n",
      "Ciudades y patrimonio cultural            78\n",
      "Animales y acceso a atracciones           64\n",
      "Plazas, mercados y gastronomía            63\n",
      "Parques y paseos en la naturaleza         60\n",
      "Vida marina y actividades interactivas    56\n",
      "Religión y sitios religiosos              49\n",
      "Arte, museos y colecciones                45\n",
      "Museos y sitios arqueológicos             41\n",
      "Vida y obra de artistas famosos           33\n",
      "Name: count, dtype: int64\n",
      "\n",
      "Porcentaje de opiniones por tópico en Cdmx:\n",
      "Ciudades y patrimonio cultural: 15.95%\n",
      "Animales y acceso a atracciones: 13.09%\n",
      "Plazas, mercados y gastronomía: 12.88%\n",
      "Parques y paseos en la naturaleza: 12.27%\n",
      "Vida marina y actividades interactivas: 11.45%\n",
      "Religión y sitios religiosos: 10.02%\n",
      "Arte, museos y colecciones: 9.2%\n",
      "Museos y sitios arqueológicos: 8.38%\n",
      "Vida y obra de artistas famosos: 6.75%\n",
      "\n",
      "Estado actualización dataset completo:\n",
      "Total opiniones: 2457\n",
      "Opiniones con tópico FASTopic asignado: 1471\n",
      "Opiniones pendientes: 986\n"
     ]
    }
   ],
   "source": [
    "# Obtener asignaciones de tópicos para documentos\n",
    "topic_assignments, topic_names_assigned, topic_probabilities = obtener_asignaciones_topicos_fastopic(\n",
    "    doc_topic_dist, \n",
    "    topic_names, \n",
    "    threshold=0.1\n",
    ")\n",
    "\n",
    "# Procesar solo datos de la ciudad seleccionada\n",
    "df_con_topicos = df_ciudad.dropna(subset=[columna_texto]).copy()\n",
    "df_con_topicos['Topico'] = topic_assignments\n",
    "df_con_topicos['Topico_Nombre'] = topic_names_assigned\n",
    "df_con_topicos['Probabilidad_Topico'] = topic_probabilities\n",
    "\n",
    "# Verificar si la ciudad ya tenía resultados previos\n",
    "indices_ciudad = df_con_topicos.index\n",
    "opiniones_previas = df.loc[indices_ciudad, 'TopicoConFASTopic'].notna().sum()\n",
    "\n",
    "if opiniones_previas > 0:\n",
    "    print(f\"🔄 SOBRESCRIBIENDO resultados previos para {CIUDAD_ANALIZAR}:\")\n",
    "    print(f\"   📝 Opiniones con tópicos previos: {opiniones_previas}\")\n",
    "    print(f\"   🆕 Nuevas asignaciones de tópicos: {len(df_con_topicos)}\")\n",
    "else:\n",
    "    print(f\"🆕 PRIMERA VEZ procesando {CIUDAD_ANALIZAR}:\")\n",
    "    print(f\"   📝 Nuevas asignaciones de tópicos: {len(df_con_topicos)}\")\n",
    "\n",
    "# Actualizar el dataset original con los tópicos de la ciudad analizada\n",
    "df.loc[indices_ciudad, 'TopicoConFASTopic'] = df_con_topicos['Topico_Nombre']\n",
    "\n",
    "print(f\"\\n✅ Actualización completada para {CIUDAD_ANALIZAR}\")\n",
    "print(f\"Distribución de tópicos en {CIUDAD_ANALIZAR}:\")\n",
    "topico_counts = df_con_topicos['Topico_Nombre'].value_counts()\n",
    "print(topico_counts)\n",
    "\n",
    "print(f\"\\nPorcentaje de opiniones por tópico en {CIUDAD_ANALIZAR}:\")\n",
    "topico_pct = (topico_counts / len(df_con_topicos) * 100).round(2)\n",
    "for topico, pct in topico_pct.items():\n",
    "    print(f\"{topico}: {pct}%\")\n",
    "\n",
    "print(f\"\\nEstado actualización dataset completo:\")\n",
    "print(f\"Total opiniones: {len(df)}\")\n",
    "print(f\"Opiniones con tópico FASTopic asignado: {df['TopicoConFASTopic'].notna().sum()}\")\n",
    "print(f\"Opiniones pendientes: {df['TopicoConFASTopic'].isna().sum()}\")"
   ]
  },
  {
   "cell_type": "code",
   "execution_count": 14,
   "id": "84a05bd0",
   "metadata": {},
   "outputs": [],
   "source": [
    "# Obtener asignaciones de tópicos para documentos\n",
    "topic_assignments, topic_names_assigned, topic_probabilities = obtener_asignaciones_topicos_fastopic(\n",
    "    doc_topic_dist, \n",
    "    topic_names, \n",
    "    threshold=0.1\n",
    ")\n",
    "\n",
    "# Procesar solo datos de la ciudad seleccionada\n",
    "df_con_topicos = df_ciudad.dropna(subset=[columna_texto]).copy()\n",
    "df_con_topicos['Topico'] = topic_assignments\n",
    "df_con_topicos['Topico_Nombre'] = topic_names_assigned\n",
    "df_con_topicos['Probabilidad_Topico'] = topic_probabilities\n",
    "\n",
    "# Actualizar el dataset original con los tópicos de la ciudad analizada\n",
    "indices_ciudad = df_con_topicos.index\n",
    "df.loc[indices_ciudad, 'TopicoConFASTopic'] = df_con_topicos['Topico_Nombre']"
   ]
  },
  {
   "cell_type": "code",
   "execution_count": 15,
   "id": "bc786cf1",
   "metadata": {},
   "outputs": [
    {
     "name": "stdout",
     "output_type": "stream",
     "text": [
      "📚 EJEMPLOS DE OPINIONES POR TÓPICO\n",
      "======================================================================\n",
      "\n",
      "🏷️ 1. Ciudades y patrimonio cultural\n",
      "📊 Total de opiniones: 78\n",
      "📝 Ejemplos:\n",
      "   1. Un edificio que data de unos 100 años aproximadamente si es lo que entendí quisa más, el lugar se siente como un viaje en el tiempo , quisa lo han remodelado claro pero mantiene esa esencia,grandes artistas han pasado por esas puertas , increíble exposiciones artistas mexicanos e internacionales una parada obligada si te encuentras en la ciudad de Mexico. Un edificio que data de unos 100 años aproximadamente si es lo que entendí quisa más, el lugar se siente como un viaje en el tiempo , quisa lo han remodelado claro pero mantiene esa esencia,grandes artistas han pasado por esas puertas , increíble exposiciones artistas mexicanos e internacionales una parada obligada si te encuentras en la ciudad de Mexico.\n",
      "   2. Muy bonito. “Es una visita obligatoria si estás en la Ciudad de México, ya que destaca por su belleza en cada rincón. Cada detalle, desde su arquitectura hasta sus alrededores, ofrece una experiencia visual impresionante que no te puedes perder.”.\n",
      "   3. Visita obligada si vas a CDMX. Un imperdible en la Ciudad de México. Desde la arquitectura, los detalles de la iluminación, los techos, columnas, todo el edificio en si mismo hasta los murales expuestos. Una maravilla!.\n",
      "----------------------------------------------------------------------\n",
      "\n",
      "🏷️ 2. Animales y acceso a atracciones\n",
      "📊 Total de opiniones: 64\n",
      "📝 Ejemplos:\n",
      "   1. 10 de 10. Simplemente espectacular! No se lo pierdan el ballet folklórico. Tienen mucho talento esos chicos y chicas ………………!!!.\n",
      "   2. Ballet Folklórico de México de Amalia Hernández. excelente producción, que te llena los sentidos y te transporta hacia los lugares que están en el programa, excelente el duelo de arpas correspondiente a la fiesta de Tlacotalpan, así mismo el charro haciendo el floreo de reata , todo espectacular; El prietito en el arroz fue que en su programa no incluyeran un capitulo  sobre la música norteña, que se llenara el recinto con el sonido del acordeón, bajosesto y  tololoche, de ahí pal real vale la pena cada centavo que pagaste por la entrada.\n",
      "   3. Palacio de Bellas artes-Ballet Amalia Hernández. Ballet de Amalia Hernández en domingo, concurrido. Llega con tiempo ya que es puntual la función. El metro bellas artes o metrobus son la opción en transporte.\n",
      "----------------------------------------------------------------------\n",
      "\n",
      "🏷️ 3. Plazas, mercados y gastronomía\n",
      "📊 Total de opiniones: 63\n",
      "📝 Ejemplos:\n",
      "   1. Hermoso. Se ve hermoso de noche, y ese parque es una fiesta en cada esquina, sonideros y al gente bailando, recomiendo no saltarse esa actividad.\n",
      "   2. De visita por CDMX. Una arquitectura llamativa en especial de noche donde se aprecia cada línea, céntrica y un buen ambiente animador, excelente.\n",
      "   3. Sitio obligado de visita. Lugar obligado para visitar, muy organizada, muy bien preservada, dan misa cada hora, tienen tienda propia para comprar recuerdos, a la salida tienen un sitio para bendecir lo que compraste.\n",
      "----------------------------------------------------------------------\n",
      "\n",
      "🏷️ 4. Parques y paseos en la naturaleza\n",
      "📊 Total de opiniones: 60\n",
      "📝 Ejemplos:\n",
      "   1. Siempre agradable. En esta ocasión fui al museo, que albergaba la exposición “La Revolución Impresionista”, pero aproveché para conocer la de Jorge González Camarena “La utopía inacabada” y los murales de Siqueiros, Rivera, Orozco, Camarena y más. Visitar el Palacio es siempre un deleite visual.\n",
      "   2. Sensacional. El hecho de que haya guías y te expliquen los murales, lo hace sorpréndete te ya que nos ayuda a entender o interpretarlas de una manera más fácil.\n",
      "   3. Sitio histórico. Es un lugar lleno de historia, tanto en las afueras como en su interior. Los domingos la entrada es gratuita y hacen recorridos guiados muy interesantes donde hablan de la historia de los murales. También se presenta el ballet folklórico, un evento para conocer más de la música, danza y cultura mexicana.\n",
      "----------------------------------------------------------------------\n",
      "\n",
      "🏷️ 5. Vida marina y actividades interactivas\n",
      "📊 Total de opiniones: 56\n",
      "📝 Ejemplos:\n",
      "   1. Cruza la calle dentro de dentro. Ahorre sus pesos y pasar a sears - hay una cafetería en el nivel 8 que tiene una gran vista. El edificio en sí es hermoso y el piso de la fragata de arte es murales - es agradable. Cuanto más alto te golpean por otros 65 pesos cada uno y son solo fotos de instalaciones artísticas en otras partes del mundo. El tercer piso no vale tu tiempo.\n",
      "   2. Recomiendo. Bellísimo, es un lugar bonito, las actividades culturales son muy bien organizadas Vale la pena verlo varias veces en un año.\n",
      "   3. Una experiencia súper buena recomendada. Exelente servicio y muy buena atención El tours fue súper me encantó la vista y su cultura volvería de nuevo dichosa mente.\n",
      "----------------------------------------------------------------------\n"
     ]
    }
   ],
   "source": [
    "# Mostrar ejemplos de opiniones por tópico\n",
    "mostrar_ejemplos_por_topico_fastopic(\n",
    "    df_con_topicos, \n",
    "    topico_col='Topico_Nombre',\n",
    "    texto_col='TituloReview',\n",
    "    n_ejemplos=3,\n",
    "    top_n_topicos=5\n",
    ")"
   ]
  },
  {
   "cell_type": "code",
   "execution_count": 16,
   "id": "a639901d",
   "metadata": {},
   "outputs": [
    {
     "name": "stdout",
     "output_type": "stream",
     "text": [
      "🔍 Comparación de ejemplos - Original vs Limpio (Cdmx):\n",
      "================================================================================\n",
      "\n",
      "📄 EJEMPLO 1 - Tópico: Vida marina y actividades interactivas\n",
      "🔸 Original: Mi zona favorita de CDMX. La verdad es que nos gustó mucho visitar Coyoacán, la experiencia y la vida que se siente en sus calles es muy impresionante. Me parece un buen centro para la cultura y el arte, porque hay muchos lugares para ver. Sus mercaditos son muy coloridos, algunos llenos de actividades incluso. Quiero volver a visitarlo.\n",
      "🔹 Limpio:   mi zona de cdmx el verdad ser que yo gusto mucho visitar coyoacar el experiencia y el vida que él sentir en su calle ser mucho impresionante yo parecer uno buen centro para el cultura y el arte porque haber mucho lugar para ver su mercadito ser mucho colorido alguno lleno de actividad incluso querer volver a visitar él\n",
      "📊 Probabilidad: 0.332\n",
      "📉 Reducción: 339 → 320 caracteres (5.6%)\n",
      "--------------------------------------------------------------------------------\n",
      "\n",
      "📄 EJEMPLO 2 - Tópico: Museos y sitios arqueológicos\n",
      "🔸 Original: Must see museum in CDMX. And outstanding cultural and historical experience in a beautifully curated and designed museum. In the several hours we were there, I am sure we did not see even half of the exhibits.\n",
      "🔹 Limpio:   deber ver el museo en cdmx y el experiencia e en uno museo bellamente comisariado y en el varios hora que estuvir alli estar de que no ver ni el mitad de el exposición\n",
      "📊 Probabilidad: 0.268\n",
      "📉 Reducción: 209 → 167 caracteres (20.1%)\n",
      "--------------------------------------------------------------------------------\n",
      "\n",
      "📄 EJEMPLO 3 - Tópico: Vida marina y actividades interactivas\n",
      "🔸 Original: Gran museo. Me encantó visitar el Museo Frida Kahlo, la verdad, he de decir, que el precio me pareció algo elevado, pero el museo en sí me gustó bastante.\n",
      "🔹 Limpio:   museo yo encantar visitar el museo kahlo el verdad haber de decir que el precio yo parecio algo pero el museo en si yo gustar bastante\n",
      "📊 Probabilidad: 0.363\n",
      "📉 Reducción: 154 → 134 caracteres (13.0%)\n",
      "--------------------------------------------------------------------------------\n",
      "\n",
      "📄 EJEMPLO 4 - Tópico: Arte, museos y colecciones\n",
      "🔸 Original: Palacio de Bellas Artes. El Palacio de Bellas Artes es un recinto arquitectónico de estilo Art Deco realizado por Adamo Boari en la primera mitad del  Siglo XX, en su interior hallarás una serie de Murales de los mejores artistas tales como David Alfaro Sequeiros, Jose Clemente Orozco y Diego Rivera (entre otros).\n",
      "🔹 Limpio:   palacio de art el palacio de artes ser uno recinto de estilo deco por adamo en el mitad del siglo xx en su interior hallara uno serie de mural de el artista tal como david jo él clemente orocer y diego rivera entre otro\n",
      "📊 Probabilidad: 0.655\n",
      "📉 Reducción: 315 → 219 caracteres (30.5%)\n",
      "--------------------------------------------------------------------------------\n",
      "\n",
      "📄 EJEMPLO 5 - Tópico: Animales y acceso a atracciones\n",
      "🔸 Original: Salida en familia. El túnel está padrisimo pero todo cobran independiente de la entrada los chicos de la comida muy groseros pero las de los piso muy amables.\n",
      "🔹 Limpio:   salido en familia el tunel este pero todo cobrar de el entrada el chico de el comida mucho pero el de el piso mucho\n",
      "📊 Probabilidad: 0.759\n",
      "📉 Reducción: 158 → 115 caracteres (27.2%)\n",
      "--------------------------------------------------------------------------------\n",
      "\n",
      "📄 EJEMPLO 6 - Tópico: Parques y paseos en la naturaleza\n",
      "🔸 Original: Chapultepec es hermoso!. Visite por primera vez el Castillo de Chapultepec, me encantó, las obras de arte, las exposiciones, cada pasillo y lo imponente que es el bosque desde ahí, es maravilloso, la entrada está en $100 pesos y vale totalmente la pena.\n",
      "🔹 Limpio:   chapultepec ser hermoso visite por primero vez el castillo de chapultepec yo encantar el obra de arte el exposición cada pasillo y él imponente que ser el bosque desde ahi ser maravilloso el entrada este en peso y valer totalmente el pena\n",
      "📊 Probabilidad: 0.497\n",
      "📉 Reducción: 253 → 238 caracteres (5.9%)\n",
      "--------------------------------------------------------------------------------\n",
      "\n",
      "📄 EJEMPLO 7 - Tópico: Parques y paseos en la naturaleza\n",
      "🔸 Original: Solo nos quedamos unas horas y luego nos agobió, sin duda volveremos con un guía turístico y comenzaremos en la apertura. Absolutamente increíble museo con tantas habitaciones, necesitaría dos días para verlo todo. Ojalá hubiera ido con un guía turístico para sumergirme en la historia y la cultura.\n",
      "🔹 Limpio:   yo quedar uno hora y luego yo agobio sin duda volver con uno guia y comenzaremo en el apertura absolutamente museo con tanto habitación necesitario dos dia para ver él todo ojala haber ir con uno guia para sumergir yo en el historia y el cultura\n",
      "📊 Probabilidad: 0.462\n",
      "📉 Reducción: 299 → 245 caracteres (18.1%)\n",
      "--------------------------------------------------------------------------------\n",
      "\n",
      "📄 EJEMPLO 8 - Tópico: Arte, museos y colecciones\n",
      "🔸 Original: Hermoso edificio. Esto es justo al lado del Jumex. Tome el ascensor a 5 y suba. Allí encontrarás más esculturas de Rodin que en casi cualquier otro lugar. Luego baja, examina los pisos que desees. Felizmente, la entrada es gratuita. Fuimos en Uber pero creo que Metro está cerca.\n",
      "🔹 Limpio:   edificio este ser al lado del jumex tomar el ascensor a y subir alli encontrara ma escultura de rodin que en casi cualquiera otro lugar luego examinar el piso que desees felizmente el entrada ser ir en uber pero creer que metrir este cerca\n",
      "📊 Probabilidad: 0.402\n",
      "📉 Reducción: 279 → 239 caracteres (14.3%)\n",
      "--------------------------------------------------------------------------------\n",
      "\n",
      "📄 EJEMPLO 9 - Tópico: Vida marina y actividades interactivas\n",
      "🔸 Original: Cruza la calle dentro de dentro. Ahorre sus pesos y pasar a sears - hay una cafetería en el nivel 8 que tiene una gran vista. El edificio en sí es hermoso y el piso de la fragata de arte es murales - es agradable. Cuanto más alto te golpean por otros 65 pesos cada uno y son solo fotos de instalaciones artísticas en otras partes del mundo. El tercer piso no vale tu tiempo.\n",
      "🔹 Limpio:   cruzar el calle dentro de dentro ahorre su peso y pasar a sears haber uno cafeteria en el nivel que tener uno vista el edificio en si ser y el piso de el fragata de arte ser ser cuanto mas tú golpear por otro peso cada uno y ser foto de instalación en otro parte del mundo el piso no valer tu tiempo\n",
      "📊 Probabilidad: 0.187\n",
      "📉 Reducción: 374 → 299 caracteres (20.1%)\n",
      "--------------------------------------------------------------------------------\n",
      "\n",
      "📄 EJEMPLO 10 - Tópico: Ciudades y patrimonio cultural\n",
      "🔸 Original: Visita obligada en el centro de la ciudad. El zócalo siempre se mantiene actualizado con lo más representativo de cada mes. Por ejemplo,en diciembre lo puedes encontrar lleno de decoraciones navideñas o en octubre/noviembre con decoración representativa al día de muertos, también es muy común que se hagan ferias y presentaciones de todo tiempo en este lugar. Es una visita obligada si vas a la Ciudad de México.\n",
      "🔹 Limpio:   visita en el centro de el ciudad el zocalo siempre él mantener actualizado con él mas de cada mes por ejemplo en diciembre él poder encontrar de decoración o en octubre noviembre con decoracion al dia de muerto tambien ser mucho que él hacer feria y presentación de todo tiempo en este lugar ser uno visita si ir a el ciudad de mexico\n",
      "📊 Probabilidad: 0.375\n",
      "📉 Reducción: 413 → 334 caracteres (19.1%)\n",
      "--------------------------------------------------------------------------------\n",
      "\n",
      "📄 EJEMPLO 11 - Tópico: Ciudades y patrimonio cultural\n",
      "🔸 Original: Imperdible. Excelente museo, ofrece una experiencia increíble al contar con todo lo importante para aprender sobre la rica cultura de México. Además, cuenta con instalaciones modernas, bien cuidadas y espacios que hacen muy amena la visita.\n",
      "🔹 Limpio:   excelente museo ofrecer uno experiencia increible al contar con todo él importante para aprender sobre el rico cultura de mexico adema contar con instalación moderno bien cuidado y espacio que hacer mucho amenar el visita\n",
      "📊 Probabilidad: 0.507\n",
      "📉 Reducción: 240 → 221 caracteres (7.9%)\n",
      "--------------------------------------------------------------------------------\n",
      "\n",
      "📄 EJEMPLO 12 - Tópico: Religión y sitios religiosos\n",
      "🔸 Original: \"Iglesia monumental\". La Basílica  dedicada a la Virgen de Guadalupe,impresiona por su arquitectura circular,posee un estilo moderno.Es el recinto mariano más visitado del mundo.En su interior hay paredes llenas de obras artísticas.¡¡Es un recinto católico que impresiona!!.\n",
      "🔹 Limpio:   iglesiar el basilica dedicado a el virgen de guadalupe impresionar por su arquitectura circular poseer uno estilo moderno ser el recinto mariano mas visitado del mundo en su interior haber pared lleno de obra artistica ser uno recinto catolico que impresionar\n",
      "📊 Probabilidad: 0.935\n",
      "📉 Reducción: 274 → 259 caracteres (5.5%)\n",
      "--------------------------------------------------------------------------------\n",
      "\n",
      "📄 EJEMPLO 13 - Tópico: Ciudades y patrimonio cultural\n",
      "🔸 Original: Súper. Templo mayor en el centro de la Ciudad de México. Excelente años de no haber venido y está increíble la zona arqueológica, súper cuidado.\n",
      "🔹 Limpio:   templo en el centro de el ciudad de mexico ano de no haber venir y este el zona super cuidado\n",
      "📊 Probabilidad: 0.405\n",
      "📉 Reducción: 144 → 93 caracteres (35.4%)\n",
      "--------------------------------------------------------------------------------\n",
      "\n",
      "📄 EJEMPLO 14 - Tópico: Plazas, mercados y gastronomía\n",
      "🔸 Original: Agradables plazas en zona exclusiva. Dos áreas de plaza central bordeadas por una gran iglesia, antiguas oficinas gubernamentales de la época colonial, lugares artísticos y un mercado cubierto artesanal (turístico). Heladerías, churros, café, chocolate, comida, bebida. bastante arriba del mercado. Se puede llegar fácilmente en metro. Buen lugar para pasar medio día observando a la gente.\n",
      "🔹 Limpio:   plaza en zona dos area de plaza bordeado por uno iglesia oficina de el epoco lugar y uno mercado turistico heladeria churro cafar chocolate comida bebido bastante arriba del mercado él poder llegar facilmente en metro buen lugar para pasar medio dia observar a el gente\n",
      "📊 Probabilidad: 0.920\n",
      "📉 Reducción: 390 → 269 caracteres (31.0%)\n",
      "--------------------------------------------------------------------------------\n",
      "\n",
      "📄 EJEMPLO 15 - Tópico: Parques y paseos en la naturaleza\n",
      "🔸 Original: Increíble. Nuestro guía turístico era extremadamente bien informado y servicial! El museo es increíble y hay mucho que ver y experimentar, así que sin duda recomiendo un guía cuando visite.\n",
      "🔹 Limpio:   nuestro guia ser extremadamente bien y el museo ser y haber mucho que ver y experimentar asi que sin duda recomeir uno guia cuando visitar\n",
      "📊 Probabilidad: 0.594\n",
      "📉 Reducción: 189 → 138 caracteres (27.0%)\n",
      "--------------------------------------------------------------------------------\n",
      "\n",
      "📄 EJEMPLO 16 - Tópico: Ciudades y patrimonio cultural\n",
      "🔸 Original: Uno de los museos imprescindibles del mundo. Increíbles exposiciones muy bien diseñadas para cubrir la evolución de las civilizaciones en el México precolonial. Grite al departamento de seguridad. Mi esposa olvidó su riñonera (con objetos de valor) en el baño. Descubrimos esto unas horas después. La seguridad era accesible y manejaba la situación de forma rápida y profesional y pudimos recuperarlo al día siguiente (intacto). -Muchas gracias.\n",
      "🔹 Limpio:   uno de el museo del mundo exposición mucho bien para cubrir el evolucion de el civilización en el mexico grite al departamento de seguridad mi esposa olvido su rinonera con objeto de valor en el bano descubrir este uno hora despues el seguridad ser accesible y manejar el situacion de forma rapido y profesional y pudir recuperar él al dia siguiente intacto mucho gracia\n",
      "📊 Probabilidad: 0.269\n",
      "📉 Reducción: 445 → 370 caracteres (16.9%)\n",
      "--------------------------------------------------------------------------------\n",
      "\n",
      "📄 EJEMPLO 17 - Tópico: Religión y sitios religiosos\n",
      "🔸 Original: Beautiful and Uplifting Experience. We were nine family members, visiting the Basilica, including young children, teens and grandparents.  We all loved it.  Parking was easy in the garage.  As soon as we arrived Mass was being celebrated so we took the opportunity to participate (Mass is celebrated every half hour).  It was so very moving to celebrate Mass in front of the image of Our Lady of Guadalupe.  Once Mass ended we went and rode the moving platform underneath the image that allows one to see the image closer.  We then spent too much time in the gift shop that’s in the lower rear of the Basilica.  The shop is very crowed.  You are better off going to one of the other official stores located on the grounds of the Basilica because there will be less crowded.  Finally we, without the grandparents, climbed to the top of the hill where one of the original churches that housed the image of Our Lady is located.  The view was beautiful as are the gardens and statues on the way up and down.  Don’t miss them!  Seeing Our Lady of Guadalupe in person is a beautiful, moving and uplifting experience.\n",
      "🔹 Limpio:   erar nueve miembro de el familia visitar el basilica incluir nino adolescente y abuelo a todo yo encantar el estacionamiento ser en el garaje en cuanto llegar él celebrar el misa asi que aprovechar el oportunidad de participar el misa él celebrar cada medio hora ser mucho celebrar el misa delante de el imagen de nuestro senora de guadalupe uno vez terminar el misa fuimo y montamos el plataforma en movimiento debajo de el imagen que permitir ver el imagen mas cerca luego pasar demasiado tiempo en el tienda de regalo que él encontrar en el parte de el basilica el tienda este mucho aclamado ser que vayas a uno de el otro tienda ubicado en el terreno de el basilica porque habrar menos gente finalmente sin el abuelo subir a el cima de el colina donde él encontrar uno de el iglesia que albergar el imagen de nuestro senora el vista ser como el jardín y estatua en el camino hacia arriba y hacia abajo no el pierda ver a nuestro senora de guadalupe en persona ser uno experiencia y\n",
      "📊 Probabilidad: 0.708\n",
      "📉 Reducción: 1110 → 985 caracteres (11.3%)\n",
      "--------------------------------------------------------------------------------\n",
      "\n",
      "📄 EJEMPLO 18 - Tópico: Religión y sitios religiosos\n",
      "🔸 Original: Beautiful. One of the most beautiful churches to visit.very impresive,beautiful to see.when you are in mexico city this is a must.\n",
      "🔹 Limpio:   uno de el iglesia mas para visitar mucho hermoso para ver cuando usted este en el ciudad de mexico este ser uno necesidad\n",
      "📊 Probabilidad: 0.457\n",
      "📉 Reducción: 130 → 121 caracteres (6.9%)\n",
      "--------------------------------------------------------------------------------\n",
      "\n",
      "📄 EJEMPLO 19 - Tópico: Plazas, mercados y gastronomía\n",
      "🔸 Original: Es una plaza pública gigante; los sitios emocionantes están a su alrededor. No hay mucho en el Zócalo en sí, es solo una plaza masiva. Pero visita para ver el tamaño de la misma, y la bandera mexicana que ondea en el medio. Fui durante el Día de los Muertos, y tuvieron un montón de ofrendas, una Villa Pancho gigante, y otras cosas relacionadas en la plaza. Además de gente posando para admiradores con sus mejores trajes. Definitivamente esta es una visita obligada, ya que hay muchas atracciones alrededor del Zócalo como la catedral, Palacio Nacional y ruinas del Templo Mayor.\n",
      "🔹 Limpio:   ser uno plaza gigante el sitio estar a su alrededor no haber mucho en el zocalo en si ser uno plaza pero visita para ver el tamano de el mismo y el bandera que ondear en el medio ir durante el dia de el muerto y tener uno monton de ofrenda uno villa y otro cosa en el plaza adema de gente posar para admirador con su traje definitivamente este ser uno visita ya que haber mucho atracción alrededor del zocalo como el catedral palacio y ruina del templo\n",
      "📊 Probabilidad: 0.387\n",
      "📉 Reducción: 581 → 452 caracteres (22.2%)\n",
      "--------------------------------------------------------------------------------\n",
      "\n",
      "📄 EJEMPLO 20 - Tópico: Vida y obra de artistas famosos\n",
      "🔸 Original: Vale la pena darse la oportunidad de caminar por el centro de está delegación,. La historia que se respira en esta delegación es muy basta, creo que vale dedicarle por lo menos dos días si se está de visita en la CDMX.\n",
      "🔹 Limpio:   valer el pena dar él el oportunidad de caminar por el centro de este delegacion el historia que él respirar en este delegacion ser mucho creer que valer dedicar él por él menos dos dia si él este de visita en el cdmx\n",
      "📊 Probabilidad: 0.300\n",
      "📉 Reducción: 218 → 216 caracteres (0.9%)\n",
      "--------------------------------------------------------------------------------\n"
     ]
    }
   ],
   "source": [
    "# ===== COMPARACIÓN TEXTO ORIGINAL VS TEXTO LIMPIO =====\n",
    "if 'TituloReviewLimpio' in df_con_topicos.columns:\n",
    "    print(f\"🔍 Comparación de ejemplos - Original vs Limpio ({CIUDAD_ANALIZAR}):\")\n",
    "    print(\"=\" * 80)\n",
    "    \n",
    "    # Seleccionar algunos ejemplos para mostrar la diferencia\n",
    "    ejemplos_muestra = df_con_topicos.sample(n=min(20, len(df_con_topicos)))\n",
    "    \n",
    "    for i, (_, row) in enumerate(ejemplos_muestra.iterrows(), 1):\n",
    "        print(f\"\\n📄 EJEMPLO {i} - Tópico: {row['Topico_Nombre']}\")\n",
    "        print(f\"🔸 Original: {row['TituloReview']}\")\n",
    "        print(f\"🔹 Limpio:   {row['TituloReviewLimpio']}\")\n",
    "        print(f\"📊 Probabilidad: {row['Probabilidad_Topico']:.3f}\")\n",
    "        \n",
    "        # Calcular estadísticas del ejemplo\n",
    "        len_orig = len(str(row['TituloReview']))\n",
    "        len_limpio = len(str(row['TituloReviewLimpio']))\n",
    "        reduccion = ((len_orig-len_limpio)/len_orig*100) if len_orig > 0 else 0\n",
    "        print(f\"📉 Reducción: {len_orig} → {len_limpio} caracteres ({reduccion:.1f}%)\")\n",
    "        print(\"-\" * 80)"
   ]
  },
  {
   "cell_type": "code",
   "execution_count": 17,
   "id": "a58f52cf",
   "metadata": {},
   "outputs": [
    {
     "data": {
      "application/vnd.plotly.v1+json": {
       "config": {
        "plotlyServerURL": "https://plot.ly"
       },
       "data": [
        {
         "marker": {
          "color": "#D55E00"
         },
         "orientation": "h",
         "type": "bar",
         "x": {
          "bdata": "v/xhPDRScDyFQoA8+eiBPKwR6zw=",
          "dtype": "f4"
         },
         "xaxis": "x",
         "y": [
          "templo",
          "encontrar",
          "hora",
          "informacion",
          "museo"
         ],
         "yaxis": "y"
        },
        {
         "marker": {
          "color": "#0072B2"
         },
         "orientation": "h",
         "type": "bar",
         "x": {
          "bdata": "RSupPCwvqjwHvqs8fp3EPKG73Dw=",
          "dtype": "f4"
         },
         "xaxis": "x2",
         "y": [
          "barrio",
          "catedral",
          "zocalo",
          "mercado",
          "plaza"
         ],
         "yaxis": "y2"
        },
        {
         "marker": {
          "color": "#CC79A7"
         },
         "orientation": "h",
         "type": "bar",
         "x": {
          "bdata": "rhFQPNzbUDzl2Gk8G46dPE7Fzjw=",
          "dtype": "f4"
         },
         "xaxis": "x3",
         "y": [
          "mantenido",
          "fascinante",
          "descubrir",
          "ciudad",
          "mexico"
         ],
         "yaxis": "y3"
        },
        {
         "marker": {
          "color": "#E69F00"
         },
         "orientation": "h",
         "type": "bar",
         "x": {
          "bdata": "iuerPFTVsDz0pLU8d1G6PBrCuzw=",
          "dtype": "f4"
         },
         "xaxis": "x4",
         "y": [
          "coleccion",
          "artista",
          "obra",
          "mural",
          "arte"
         ],
         "yaxis": "y4"
        },
        {
         "marker": {
          "color": "#56B4E9"
         },
         "orientation": "h",
         "type": "bar",
         "x": {
          "bdata": "JcRvPFL4cDyN46Y8V6rCPIYpzDw=",
          "dtype": "f4"
         },
         "xaxis": "x5",
         "y": [
          "antelacion",
          "vida",
          "kahlo",
          "casa",
          "frida"
         ],
         "yaxis": "y5"
        },
        {
         "marker": {
          "color": "#009E73"
         },
         "orientation": "h",
         "type": "bar",
         "x": {
          "bdata": "sEqBPMrEjTw0uY48Q0CsPJDoujw=",
          "dtype": "f4"
         },
         "xaxis": "x6",
         "y": [
          "horario",
          "cuidado",
          "pagar",
          "grupo",
          "animal"
         ],
         "yaxis": "y6"
        },
        {
         "marker": {
          "color": "#F0E442"
         },
         "orientation": "h",
         "type": "bar",
         "x": {
          "bdata": "n4+HPCOjnDytB788A5LCPCAW3jw=",
          "dtype": "f4"
         },
         "xaxis": "x7",
         "y": [
          "tocar",
          "gusto",
          "servicio",
          "actividad",
          "acuario"
         ],
         "yaxis": "y7"
        },
        {
         "marker": {
          "color": "#D55E00"
         },
         "orientation": "h",
         "type": "bar",
         "x": {
          "bdata": "KZ+iPF0/sjzGCtA8WcLTPCZO+Tw=",
          "dtype": "f4"
         },
         "xaxis": "x8",
         "y": [
          "iglesia",
          "virgen",
          "misa",
          "guadalupe",
          "basilica"
         ],
         "yaxis": "y8"
        }
       ],
       "layout": {
        "annotations": [
         {
          "font": {
           "size": 16
          },
          "showarrow": false,
          "text": "Topic 2",
          "x": 0.0875,
          "xanchor": "center",
          "xref": "paper",
          "y": 1,
          "yanchor": "bottom",
          "yref": "paper"
         },
         {
          "font": {
           "size": 16
          },
          "showarrow": false,
          "text": "Topic 1",
          "x": 0.36250000000000004,
          "xanchor": "center",
          "xref": "paper",
          "y": 1,
          "yanchor": "bottom",
          "yref": "paper"
         },
         {
          "font": {
           "size": 16
          },
          "showarrow": false,
          "text": "Topic 3",
          "x": 0.6375000000000001,
          "xanchor": "center",
          "xref": "paper",
          "y": 1,
          "yanchor": "bottom",
          "yref": "paper"
         },
         {
          "font": {
           "size": 16
          },
          "showarrow": false,
          "text": "Topic 6",
          "x": 0.9125,
          "xanchor": "center",
          "xref": "paper",
          "y": 1,
          "yanchor": "bottom",
          "yref": "paper"
         },
         {
          "font": {
           "size": 16
          },
          "showarrow": false,
          "text": "Topic 8",
          "x": 0.0875,
          "xanchor": "center",
          "xref": "paper",
          "y": 0.375,
          "yanchor": "bottom",
          "yref": "paper"
         },
         {
          "font": {
           "size": 16
          },
          "showarrow": false,
          "text": "Topic 4",
          "x": 0.36250000000000004,
          "xanchor": "center",
          "xref": "paper",
          "y": 0.375,
          "yanchor": "bottom",
          "yref": "paper"
         },
         {
          "font": {
           "size": 16
          },
          "showarrow": false,
          "text": "Topic 0",
          "x": 0.6375000000000001,
          "xanchor": "center",
          "xref": "paper",
          "y": 0.375,
          "yanchor": "bottom",
          "yref": "paper"
         },
         {
          "font": {
           "size": 16
          },
          "showarrow": false,
          "text": "Topic 7",
          "x": 0.9125,
          "xanchor": "center",
          "xref": "paper",
          "y": 0.375,
          "yanchor": "bottom",
          "yref": "paper"
         }
        ],
        "height": 500,
        "hoverlabel": {
         "bgcolor": "white",
         "font": {
          "family": "Rockwell",
          "size": 16
         }
        },
        "showlegend": false,
        "template": {
         "data": {
          "bar": [
           {
            "error_x": {
             "color": "#2a3f5f"
            },
            "error_y": {
             "color": "#2a3f5f"
            },
            "marker": {
             "line": {
              "color": "white",
              "width": 0.5
             },
             "pattern": {
              "fillmode": "overlay",
              "size": 10,
              "solidity": 0.2
             }
            },
            "type": "bar"
           }
          ],
          "barpolar": [
           {
            "marker": {
             "line": {
              "color": "white",
              "width": 0.5
             },
             "pattern": {
              "fillmode": "overlay",
              "size": 10,
              "solidity": 0.2
             }
            },
            "type": "barpolar"
           }
          ],
          "carpet": [
           {
            "aaxis": {
             "endlinecolor": "#2a3f5f",
             "gridcolor": "#C8D4E3",
             "linecolor": "#C8D4E3",
             "minorgridcolor": "#C8D4E3",
             "startlinecolor": "#2a3f5f"
            },
            "baxis": {
             "endlinecolor": "#2a3f5f",
             "gridcolor": "#C8D4E3",
             "linecolor": "#C8D4E3",
             "minorgridcolor": "#C8D4E3",
             "startlinecolor": "#2a3f5f"
            },
            "type": "carpet"
           }
          ],
          "choropleth": [
           {
            "colorbar": {
             "outlinewidth": 0,
             "ticks": ""
            },
            "type": "choropleth"
           }
          ],
          "contour": [
           {
            "colorbar": {
             "outlinewidth": 0,
             "ticks": ""
            },
            "colorscale": [
             [
              0,
              "#0d0887"
             ],
             [
              0.1111111111111111,
              "#46039f"
             ],
             [
              0.2222222222222222,
              "#7201a8"
             ],
             [
              0.3333333333333333,
              "#9c179e"
             ],
             [
              0.4444444444444444,
              "#bd3786"
             ],
             [
              0.5555555555555556,
              "#d8576b"
             ],
             [
              0.6666666666666666,
              "#ed7953"
             ],
             [
              0.7777777777777778,
              "#fb9f3a"
             ],
             [
              0.8888888888888888,
              "#fdca26"
             ],
             [
              1,
              "#f0f921"
             ]
            ],
            "type": "contour"
           }
          ],
          "contourcarpet": [
           {
            "colorbar": {
             "outlinewidth": 0,
             "ticks": ""
            },
            "type": "contourcarpet"
           }
          ],
          "heatmap": [
           {
            "colorbar": {
             "outlinewidth": 0,
             "ticks": ""
            },
            "colorscale": [
             [
              0,
              "#0d0887"
             ],
             [
              0.1111111111111111,
              "#46039f"
             ],
             [
              0.2222222222222222,
              "#7201a8"
             ],
             [
              0.3333333333333333,
              "#9c179e"
             ],
             [
              0.4444444444444444,
              "#bd3786"
             ],
             [
              0.5555555555555556,
              "#d8576b"
             ],
             [
              0.6666666666666666,
              "#ed7953"
             ],
             [
              0.7777777777777778,
              "#fb9f3a"
             ],
             [
              0.8888888888888888,
              "#fdca26"
             ],
             [
              1,
              "#f0f921"
             ]
            ],
            "type": "heatmap"
           }
          ],
          "histogram": [
           {
            "marker": {
             "pattern": {
              "fillmode": "overlay",
              "size": 10,
              "solidity": 0.2
             }
            },
            "type": "histogram"
           }
          ],
          "histogram2d": [
           {
            "colorbar": {
             "outlinewidth": 0,
             "ticks": ""
            },
            "colorscale": [
             [
              0,
              "#0d0887"
             ],
             [
              0.1111111111111111,
              "#46039f"
             ],
             [
              0.2222222222222222,
              "#7201a8"
             ],
             [
              0.3333333333333333,
              "#9c179e"
             ],
             [
              0.4444444444444444,
              "#bd3786"
             ],
             [
              0.5555555555555556,
              "#d8576b"
             ],
             [
              0.6666666666666666,
              "#ed7953"
             ],
             [
              0.7777777777777778,
              "#fb9f3a"
             ],
             [
              0.8888888888888888,
              "#fdca26"
             ],
             [
              1,
              "#f0f921"
             ]
            ],
            "type": "histogram2d"
           }
          ],
          "histogram2dcontour": [
           {
            "colorbar": {
             "outlinewidth": 0,
             "ticks": ""
            },
            "colorscale": [
             [
              0,
              "#0d0887"
             ],
             [
              0.1111111111111111,
              "#46039f"
             ],
             [
              0.2222222222222222,
              "#7201a8"
             ],
             [
              0.3333333333333333,
              "#9c179e"
             ],
             [
              0.4444444444444444,
              "#bd3786"
             ],
             [
              0.5555555555555556,
              "#d8576b"
             ],
             [
              0.6666666666666666,
              "#ed7953"
             ],
             [
              0.7777777777777778,
              "#fb9f3a"
             ],
             [
              0.8888888888888888,
              "#fdca26"
             ],
             [
              1,
              "#f0f921"
             ]
            ],
            "type": "histogram2dcontour"
           }
          ],
          "mesh3d": [
           {
            "colorbar": {
             "outlinewidth": 0,
             "ticks": ""
            },
            "type": "mesh3d"
           }
          ],
          "parcoords": [
           {
            "line": {
             "colorbar": {
              "outlinewidth": 0,
              "ticks": ""
             }
            },
            "type": "parcoords"
           }
          ],
          "pie": [
           {
            "automargin": true,
            "type": "pie"
           }
          ],
          "scatter": [
           {
            "fillpattern": {
             "fillmode": "overlay",
             "size": 10,
             "solidity": 0.2
            },
            "type": "scatter"
           }
          ],
          "scatter3d": [
           {
            "line": {
             "colorbar": {
              "outlinewidth": 0,
              "ticks": ""
             }
            },
            "marker": {
             "colorbar": {
              "outlinewidth": 0,
              "ticks": ""
             }
            },
            "type": "scatter3d"
           }
          ],
          "scattercarpet": [
           {
            "marker": {
             "colorbar": {
              "outlinewidth": 0,
              "ticks": ""
             }
            },
            "type": "scattercarpet"
           }
          ],
          "scattergeo": [
           {
            "marker": {
             "colorbar": {
              "outlinewidth": 0,
              "ticks": ""
             }
            },
            "type": "scattergeo"
           }
          ],
          "scattergl": [
           {
            "marker": {
             "colorbar": {
              "outlinewidth": 0,
              "ticks": ""
             }
            },
            "type": "scattergl"
           }
          ],
          "scattermap": [
           {
            "marker": {
             "colorbar": {
              "outlinewidth": 0,
              "ticks": ""
             }
            },
            "type": "scattermap"
           }
          ],
          "scattermapbox": [
           {
            "marker": {
             "colorbar": {
              "outlinewidth": 0,
              "ticks": ""
             }
            },
            "type": "scattermapbox"
           }
          ],
          "scatterpolar": [
           {
            "marker": {
             "colorbar": {
              "outlinewidth": 0,
              "ticks": ""
             }
            },
            "type": "scatterpolar"
           }
          ],
          "scatterpolargl": [
           {
            "marker": {
             "colorbar": {
              "outlinewidth": 0,
              "ticks": ""
             }
            },
            "type": "scatterpolargl"
           }
          ],
          "scatterternary": [
           {
            "marker": {
             "colorbar": {
              "outlinewidth": 0,
              "ticks": ""
             }
            },
            "type": "scatterternary"
           }
          ],
          "surface": [
           {
            "colorbar": {
             "outlinewidth": 0,
             "ticks": ""
            },
            "colorscale": [
             [
              0,
              "#0d0887"
             ],
             [
              0.1111111111111111,
              "#46039f"
             ],
             [
              0.2222222222222222,
              "#7201a8"
             ],
             [
              0.3333333333333333,
              "#9c179e"
             ],
             [
              0.4444444444444444,
              "#bd3786"
             ],
             [
              0.5555555555555556,
              "#d8576b"
             ],
             [
              0.6666666666666666,
              "#ed7953"
             ],
             [
              0.7777777777777778,
              "#fb9f3a"
             ],
             [
              0.8888888888888888,
              "#fdca26"
             ],
             [
              1,
              "#f0f921"
             ]
            ],
            "type": "surface"
           }
          ],
          "table": [
           {
            "cells": {
             "fill": {
              "color": "#EBF0F8"
             },
             "line": {
              "color": "white"
             }
            },
            "header": {
             "fill": {
              "color": "#C8D4E3"
             },
             "line": {
              "color": "white"
             }
            },
            "type": "table"
           }
          ]
         },
         "layout": {
          "annotationdefaults": {
           "arrowcolor": "#2a3f5f",
           "arrowhead": 0,
           "arrowwidth": 1
          },
          "autotypenumbers": "strict",
          "coloraxis": {
           "colorbar": {
            "outlinewidth": 0,
            "ticks": ""
           }
          },
          "colorscale": {
           "diverging": [
            [
             0,
             "#8e0152"
            ],
            [
             0.1,
             "#c51b7d"
            ],
            [
             0.2,
             "#de77ae"
            ],
            [
             0.3,
             "#f1b6da"
            ],
            [
             0.4,
             "#fde0ef"
            ],
            [
             0.5,
             "#f7f7f7"
            ],
            [
             0.6,
             "#e6f5d0"
            ],
            [
             0.7,
             "#b8e186"
            ],
            [
             0.8,
             "#7fbc41"
            ],
            [
             0.9,
             "#4d9221"
            ],
            [
             1,
             "#276419"
            ]
           ],
           "sequential": [
            [
             0,
             "#0d0887"
            ],
            [
             0.1111111111111111,
             "#46039f"
            ],
            [
             0.2222222222222222,
             "#7201a8"
            ],
            [
             0.3333333333333333,
             "#9c179e"
            ],
            [
             0.4444444444444444,
             "#bd3786"
            ],
            [
             0.5555555555555556,
             "#d8576b"
            ],
            [
             0.6666666666666666,
             "#ed7953"
            ],
            [
             0.7777777777777778,
             "#fb9f3a"
            ],
            [
             0.8888888888888888,
             "#fdca26"
            ],
            [
             1,
             "#f0f921"
            ]
           ],
           "sequentialminus": [
            [
             0,
             "#0d0887"
            ],
            [
             0.1111111111111111,
             "#46039f"
            ],
            [
             0.2222222222222222,
             "#7201a8"
            ],
            [
             0.3333333333333333,
             "#9c179e"
            ],
            [
             0.4444444444444444,
             "#bd3786"
            ],
            [
             0.5555555555555556,
             "#d8576b"
            ],
            [
             0.6666666666666666,
             "#ed7953"
            ],
            [
             0.7777777777777778,
             "#fb9f3a"
            ],
            [
             0.8888888888888888,
             "#fdca26"
            ],
            [
             1,
             "#f0f921"
            ]
           ]
          },
          "colorway": [
           "#636efa",
           "#EF553B",
           "#00cc96",
           "#ab63fa",
           "#FFA15A",
           "#19d3f3",
           "#FF6692",
           "#B6E880",
           "#FF97FF",
           "#FECB52"
          ],
          "font": {
           "color": "#2a3f5f"
          },
          "geo": {
           "bgcolor": "white",
           "lakecolor": "white",
           "landcolor": "white",
           "showlakes": true,
           "showland": true,
           "subunitcolor": "#C8D4E3"
          },
          "hoverlabel": {
           "align": "left"
          },
          "hovermode": "closest",
          "mapbox": {
           "style": "light"
          },
          "paper_bgcolor": "white",
          "plot_bgcolor": "white",
          "polar": {
           "angularaxis": {
            "gridcolor": "#EBF0F8",
            "linecolor": "#EBF0F8",
            "ticks": ""
           },
           "bgcolor": "white",
           "radialaxis": {
            "gridcolor": "#EBF0F8",
            "linecolor": "#EBF0F8",
            "ticks": ""
           }
          },
          "scene": {
           "xaxis": {
            "backgroundcolor": "white",
            "gridcolor": "#DFE8F3",
            "gridwidth": 2,
            "linecolor": "#EBF0F8",
            "showbackground": true,
            "ticks": "",
            "zerolinecolor": "#EBF0F8"
           },
           "yaxis": {
            "backgroundcolor": "white",
            "gridcolor": "#DFE8F3",
            "gridwidth": 2,
            "linecolor": "#EBF0F8",
            "showbackground": true,
            "ticks": "",
            "zerolinecolor": "#EBF0F8"
           },
           "zaxis": {
            "backgroundcolor": "white",
            "gridcolor": "#DFE8F3",
            "gridwidth": 2,
            "linecolor": "#EBF0F8",
            "showbackground": true,
            "ticks": "",
            "zerolinecolor": "#EBF0F8"
           }
          },
          "shapedefaults": {
           "line": {
            "color": "#2a3f5f"
           }
          },
          "ternary": {
           "aaxis": {
            "gridcolor": "#DFE8F3",
            "linecolor": "#A2B1C6",
            "ticks": ""
           },
           "baxis": {
            "gridcolor": "#DFE8F3",
            "linecolor": "#A2B1C6",
            "ticks": ""
           },
           "bgcolor": "white",
           "caxis": {
            "gridcolor": "#DFE8F3",
            "linecolor": "#A2B1C6",
            "ticks": ""
           }
          },
          "title": {
           "x": 0.05
          },
          "xaxis": {
           "automargin": true,
           "gridcolor": "#EBF0F8",
           "linecolor": "#EBF0F8",
           "ticks": "",
           "title": {
            "standoff": 15
           },
           "zerolinecolor": "#EBF0F8",
           "zerolinewidth": 2
          },
          "yaxis": {
           "automargin": true,
           "gridcolor": "#EBF0F8",
           "linecolor": "#EBF0F8",
           "ticks": "",
           "title": {
            "standoff": 15
           },
           "zerolinecolor": "#EBF0F8",
           "zerolinewidth": 2
          }
         }
        },
        "title": {
         "text": "Palabras Principales por Tópico - Cdmx"
        },
        "width": 1000,
        "xaxis": {
         "anchor": "y",
         "domain": [
          0,
          0.175
         ],
         "showgrid": true
        },
        "xaxis2": {
         "anchor": "y2",
         "domain": [
          0.275,
          0.45
         ],
         "showgrid": true
        },
        "xaxis3": {
         "anchor": "y3",
         "domain": [
          0.55,
          0.7250000000000001
         ],
         "showgrid": true
        },
        "xaxis4": {
         "anchor": "y4",
         "domain": [
          0.825,
          1
         ],
         "showgrid": true
        },
        "xaxis5": {
         "anchor": "y5",
         "domain": [
          0,
          0.175
         ],
         "showgrid": true
        },
        "xaxis6": {
         "anchor": "y6",
         "domain": [
          0.275,
          0.45
         ],
         "showgrid": true
        },
        "xaxis7": {
         "anchor": "y7",
         "domain": [
          0.55,
          0.7250000000000001
         ],
         "showgrid": true
        },
        "xaxis8": {
         "anchor": "y8",
         "domain": [
          0.825,
          1
         ],
         "showgrid": true
        },
        "yaxis": {
         "anchor": "x",
         "domain": [
          0.625,
          1
         ],
         "showgrid": true
        },
        "yaxis2": {
         "anchor": "x2",
         "domain": [
          0.625,
          1
         ],
         "showgrid": true
        },
        "yaxis3": {
         "anchor": "x3",
         "domain": [
          0.625,
          1
         ],
         "showgrid": true
        },
        "yaxis4": {
         "anchor": "x4",
         "domain": [
          0.625,
          1
         ],
         "showgrid": true
        },
        "yaxis5": {
         "anchor": "x5",
         "domain": [
          0,
          0.375
         ],
         "showgrid": true
        },
        "yaxis6": {
         "anchor": "x6",
         "domain": [
          0,
          0.375
         ],
         "showgrid": true
        },
        "yaxis7": {
         "anchor": "x7",
         "domain": [
          0,
          0.375
         ],
         "showgrid": true
        },
        "yaxis8": {
         "anchor": "x8",
         "domain": [
          0,
          0.375
         ],
         "showgrid": true
        }
       }
      }
     },
     "metadata": {},
     "output_type": "display_data"
    },
    {
     "data": {
      "application/vnd.plotly.v1+json": {
       "config": {
        "plotlyServerURL": "https://plot.ly"
       },
       "data": [
        {
         "marker": {
          "color": "#C8D2D7",
          "line": {
           "color": "#6E8484",
           "width": 1
          }
         },
         "orientation": "h",
         "type": "bar",
         "x": [
          0.07888024300336838,
          0.08113875240087509,
          0.08340992778539658,
          0.08817488700151443,
          0.09194248914718628,
          0.09756316989660263,
          0.1395031213760376,
          0.16284920275211334,
          0.17653830349445343
         ],
         "y": [
          "5_chapultepec_castillo_guia_recorrer_bosque",
          "7_basilica_guadalupe_misa_virgen_iglesia",
          "0_acuario_actividad_servicio_gusto_tocar",
          "4_animal_grupo_pagar_cuidado_horario",
          "8_frida_casa_kahlo_vida_antelacion",
          "6_arte_mural_obra_artista_coleccion",
          "3_mexico_ciudad_descubrir_fascinante_mantenido",
          "1_plaza_mercado_zocalo_catedral_barrio",
          "2_museo_informacion_hora_encontrar_templo"
         ]
        }
       ],
       "layout": {
        "height": 1000,
        "hoverlabel": {
         "bgcolor": "white",
         "font": {
          "family": "Rockwell",
          "size": 16
         }
        },
        "template": {
         "data": {
          "bar": [
           {
            "error_x": {
             "color": "rgb(36,36,36)"
            },
            "error_y": {
             "color": "rgb(36,36,36)"
            },
            "marker": {
             "line": {
              "color": "white",
              "width": 0.5
             },
             "pattern": {
              "fillmode": "overlay",
              "size": 10,
              "solidity": 0.2
             }
            },
            "type": "bar"
           }
          ],
          "barpolar": [
           {
            "marker": {
             "line": {
              "color": "white",
              "width": 0.5
             },
             "pattern": {
              "fillmode": "overlay",
              "size": 10,
              "solidity": 0.2
             }
            },
            "type": "barpolar"
           }
          ],
          "carpet": [
           {
            "aaxis": {
             "endlinecolor": "rgb(36,36,36)",
             "gridcolor": "white",
             "linecolor": "white",
             "minorgridcolor": "white",
             "startlinecolor": "rgb(36,36,36)"
            },
            "baxis": {
             "endlinecolor": "rgb(36,36,36)",
             "gridcolor": "white",
             "linecolor": "white",
             "minorgridcolor": "white",
             "startlinecolor": "rgb(36,36,36)"
            },
            "type": "carpet"
           }
          ],
          "choropleth": [
           {
            "colorbar": {
             "outlinewidth": 1,
             "tickcolor": "rgb(36,36,36)",
             "ticks": "outside"
            },
            "type": "choropleth"
           }
          ],
          "contour": [
           {
            "colorbar": {
             "outlinewidth": 1,
             "tickcolor": "rgb(36,36,36)",
             "ticks": "outside"
            },
            "colorscale": [
             [
              0,
              "#440154"
             ],
             [
              0.1111111111111111,
              "#482878"
             ],
             [
              0.2222222222222222,
              "#3e4989"
             ],
             [
              0.3333333333333333,
              "#31688e"
             ],
             [
              0.4444444444444444,
              "#26828e"
             ],
             [
              0.5555555555555556,
              "#1f9e89"
             ],
             [
              0.6666666666666666,
              "#35b779"
             ],
             [
              0.7777777777777778,
              "#6ece58"
             ],
             [
              0.8888888888888888,
              "#b5de2b"
             ],
             [
              1,
              "#fde725"
             ]
            ],
            "type": "contour"
           }
          ],
          "contourcarpet": [
           {
            "colorbar": {
             "outlinewidth": 1,
             "tickcolor": "rgb(36,36,36)",
             "ticks": "outside"
            },
            "type": "contourcarpet"
           }
          ],
          "heatmap": [
           {
            "colorbar": {
             "outlinewidth": 1,
             "tickcolor": "rgb(36,36,36)",
             "ticks": "outside"
            },
            "colorscale": [
             [
              0,
              "#440154"
             ],
             [
              0.1111111111111111,
              "#482878"
             ],
             [
              0.2222222222222222,
              "#3e4989"
             ],
             [
              0.3333333333333333,
              "#31688e"
             ],
             [
              0.4444444444444444,
              "#26828e"
             ],
             [
              0.5555555555555556,
              "#1f9e89"
             ],
             [
              0.6666666666666666,
              "#35b779"
             ],
             [
              0.7777777777777778,
              "#6ece58"
             ],
             [
              0.8888888888888888,
              "#b5de2b"
             ],
             [
              1,
              "#fde725"
             ]
            ],
            "type": "heatmap"
           }
          ],
          "histogram": [
           {
            "marker": {
             "line": {
              "color": "white",
              "width": 0.6
             }
            },
            "type": "histogram"
           }
          ],
          "histogram2d": [
           {
            "colorbar": {
             "outlinewidth": 1,
             "tickcolor": "rgb(36,36,36)",
             "ticks": "outside"
            },
            "colorscale": [
             [
              0,
              "#440154"
             ],
             [
              0.1111111111111111,
              "#482878"
             ],
             [
              0.2222222222222222,
              "#3e4989"
             ],
             [
              0.3333333333333333,
              "#31688e"
             ],
             [
              0.4444444444444444,
              "#26828e"
             ],
             [
              0.5555555555555556,
              "#1f9e89"
             ],
             [
              0.6666666666666666,
              "#35b779"
             ],
             [
              0.7777777777777778,
              "#6ece58"
             ],
             [
              0.8888888888888888,
              "#b5de2b"
             ],
             [
              1,
              "#fde725"
             ]
            ],
            "type": "histogram2d"
           }
          ],
          "histogram2dcontour": [
           {
            "colorbar": {
             "outlinewidth": 1,
             "tickcolor": "rgb(36,36,36)",
             "ticks": "outside"
            },
            "colorscale": [
             [
              0,
              "#440154"
             ],
             [
              0.1111111111111111,
              "#482878"
             ],
             [
              0.2222222222222222,
              "#3e4989"
             ],
             [
              0.3333333333333333,
              "#31688e"
             ],
             [
              0.4444444444444444,
              "#26828e"
             ],
             [
              0.5555555555555556,
              "#1f9e89"
             ],
             [
              0.6666666666666666,
              "#35b779"
             ],
             [
              0.7777777777777778,
              "#6ece58"
             ],
             [
              0.8888888888888888,
              "#b5de2b"
             ],
             [
              1,
              "#fde725"
             ]
            ],
            "type": "histogram2dcontour"
           }
          ],
          "mesh3d": [
           {
            "colorbar": {
             "outlinewidth": 1,
             "tickcolor": "rgb(36,36,36)",
             "ticks": "outside"
            },
            "type": "mesh3d"
           }
          ],
          "parcoords": [
           {
            "line": {
             "colorbar": {
              "outlinewidth": 1,
              "tickcolor": "rgb(36,36,36)",
              "ticks": "outside"
             }
            },
            "type": "parcoords"
           }
          ],
          "pie": [
           {
            "automargin": true,
            "type": "pie"
           }
          ],
          "scatter": [
           {
            "fillpattern": {
             "fillmode": "overlay",
             "size": 10,
             "solidity": 0.2
            },
            "type": "scatter"
           }
          ],
          "scatter3d": [
           {
            "line": {
             "colorbar": {
              "outlinewidth": 1,
              "tickcolor": "rgb(36,36,36)",
              "ticks": "outside"
             }
            },
            "marker": {
             "colorbar": {
              "outlinewidth": 1,
              "tickcolor": "rgb(36,36,36)",
              "ticks": "outside"
             }
            },
            "type": "scatter3d"
           }
          ],
          "scattercarpet": [
           {
            "marker": {
             "colorbar": {
              "outlinewidth": 1,
              "tickcolor": "rgb(36,36,36)",
              "ticks": "outside"
             }
            },
            "type": "scattercarpet"
           }
          ],
          "scattergeo": [
           {
            "marker": {
             "colorbar": {
              "outlinewidth": 1,
              "tickcolor": "rgb(36,36,36)",
              "ticks": "outside"
             }
            },
            "type": "scattergeo"
           }
          ],
          "scattergl": [
           {
            "marker": {
             "colorbar": {
              "outlinewidth": 1,
              "tickcolor": "rgb(36,36,36)",
              "ticks": "outside"
             }
            },
            "type": "scattergl"
           }
          ],
          "scattermap": [
           {
            "marker": {
             "colorbar": {
              "outlinewidth": 1,
              "tickcolor": "rgb(36,36,36)",
              "ticks": "outside"
             }
            },
            "type": "scattermap"
           }
          ],
          "scattermapbox": [
           {
            "marker": {
             "colorbar": {
              "outlinewidth": 1,
              "tickcolor": "rgb(36,36,36)",
              "ticks": "outside"
             }
            },
            "type": "scattermapbox"
           }
          ],
          "scatterpolar": [
           {
            "marker": {
             "colorbar": {
              "outlinewidth": 1,
              "tickcolor": "rgb(36,36,36)",
              "ticks": "outside"
             }
            },
            "type": "scatterpolar"
           }
          ],
          "scatterpolargl": [
           {
            "marker": {
             "colorbar": {
              "outlinewidth": 1,
              "tickcolor": "rgb(36,36,36)",
              "ticks": "outside"
             }
            },
            "type": "scatterpolargl"
           }
          ],
          "scatterternary": [
           {
            "marker": {
             "colorbar": {
              "outlinewidth": 1,
              "tickcolor": "rgb(36,36,36)",
              "ticks": "outside"
             }
            },
            "type": "scatterternary"
           }
          ],
          "surface": [
           {
            "colorbar": {
             "outlinewidth": 1,
             "tickcolor": "rgb(36,36,36)",
             "ticks": "outside"
            },
            "colorscale": [
             [
              0,
              "#440154"
             ],
             [
              0.1111111111111111,
              "#482878"
             ],
             [
              0.2222222222222222,
              "#3e4989"
             ],
             [
              0.3333333333333333,
              "#31688e"
             ],
             [
              0.4444444444444444,
              "#26828e"
             ],
             [
              0.5555555555555556,
              "#1f9e89"
             ],
             [
              0.6666666666666666,
              "#35b779"
             ],
             [
              0.7777777777777778,
              "#6ece58"
             ],
             [
              0.8888888888888888,
              "#b5de2b"
             ],
             [
              1,
              "#fde725"
             ]
            ],
            "type": "surface"
           }
          ],
          "table": [
           {
            "cells": {
             "fill": {
              "color": "rgb(237,237,237)"
             },
             "line": {
              "color": "white"
             }
            },
            "header": {
             "fill": {
              "color": "rgb(217,217,217)"
             },
             "line": {
              "color": "white"
             }
            },
            "type": "table"
           }
          ]
         },
         "layout": {
          "annotationdefaults": {
           "arrowhead": 0,
           "arrowwidth": 1
          },
          "autotypenumbers": "strict",
          "coloraxis": {
           "colorbar": {
            "outlinewidth": 1,
            "tickcolor": "rgb(36,36,36)",
            "ticks": "outside"
           }
          },
          "colorscale": {
           "diverging": [
            [
             0,
             "rgb(103,0,31)"
            ],
            [
             0.1,
             "rgb(178,24,43)"
            ],
            [
             0.2,
             "rgb(214,96,77)"
            ],
            [
             0.3,
             "rgb(244,165,130)"
            ],
            [
             0.4,
             "rgb(253,219,199)"
            ],
            [
             0.5,
             "rgb(247,247,247)"
            ],
            [
             0.6,
             "rgb(209,229,240)"
            ],
            [
             0.7,
             "rgb(146,197,222)"
            ],
            [
             0.8,
             "rgb(67,147,195)"
            ],
            [
             0.9,
             "rgb(33,102,172)"
            ],
            [
             1,
             "rgb(5,48,97)"
            ]
           ],
           "sequential": [
            [
             0,
             "#440154"
            ],
            [
             0.1111111111111111,
             "#482878"
            ],
            [
             0.2222222222222222,
             "#3e4989"
            ],
            [
             0.3333333333333333,
             "#31688e"
            ],
            [
             0.4444444444444444,
             "#26828e"
            ],
            [
             0.5555555555555556,
             "#1f9e89"
            ],
            [
             0.6666666666666666,
             "#35b779"
            ],
            [
             0.7777777777777778,
             "#6ece58"
            ],
            [
             0.8888888888888888,
             "#b5de2b"
            ],
            [
             1,
             "#fde725"
            ]
           ],
           "sequentialminus": [
            [
             0,
             "#440154"
            ],
            [
             0.1111111111111111,
             "#482878"
            ],
            [
             0.2222222222222222,
             "#3e4989"
            ],
            [
             0.3333333333333333,
             "#31688e"
            ],
            [
             0.4444444444444444,
             "#26828e"
            ],
            [
             0.5555555555555556,
             "#1f9e89"
            ],
            [
             0.6666666666666666,
             "#35b779"
            ],
            [
             0.7777777777777778,
             "#6ece58"
            ],
            [
             0.8888888888888888,
             "#b5de2b"
            ],
            [
             1,
             "#fde725"
            ]
           ]
          },
          "colorway": [
           "#1F77B4",
           "#FF7F0E",
           "#2CA02C",
           "#D62728",
           "#9467BD",
           "#8C564B",
           "#E377C2",
           "#7F7F7F",
           "#BCBD22",
           "#17BECF"
          ],
          "font": {
           "color": "rgb(36,36,36)"
          },
          "geo": {
           "bgcolor": "white",
           "lakecolor": "white",
           "landcolor": "white",
           "showlakes": true,
           "showland": true,
           "subunitcolor": "white"
          },
          "hoverlabel": {
           "align": "left"
          },
          "hovermode": "closest",
          "mapbox": {
           "style": "light"
          },
          "paper_bgcolor": "white",
          "plot_bgcolor": "white",
          "polar": {
           "angularaxis": {
            "gridcolor": "rgb(232,232,232)",
            "linecolor": "rgb(36,36,36)",
            "showgrid": false,
            "showline": true,
            "ticks": "outside"
           },
           "bgcolor": "white",
           "radialaxis": {
            "gridcolor": "rgb(232,232,232)",
            "linecolor": "rgb(36,36,36)",
            "showgrid": false,
            "showline": true,
            "ticks": "outside"
           }
          },
          "scene": {
           "xaxis": {
            "backgroundcolor": "white",
            "gridcolor": "rgb(232,232,232)",
            "gridwidth": 2,
            "linecolor": "rgb(36,36,36)",
            "showbackground": true,
            "showgrid": false,
            "showline": true,
            "ticks": "outside",
            "zeroline": false,
            "zerolinecolor": "rgb(36,36,36)"
           },
           "yaxis": {
            "backgroundcolor": "white",
            "gridcolor": "rgb(232,232,232)",
            "gridwidth": 2,
            "linecolor": "rgb(36,36,36)",
            "showbackground": true,
            "showgrid": false,
            "showline": true,
            "ticks": "outside",
            "zeroline": false,
            "zerolinecolor": "rgb(36,36,36)"
           },
           "zaxis": {
            "backgroundcolor": "white",
            "gridcolor": "rgb(232,232,232)",
            "gridwidth": 2,
            "linecolor": "rgb(36,36,36)",
            "showbackground": true,
            "showgrid": false,
            "showline": true,
            "ticks": "outside",
            "zeroline": false,
            "zerolinecolor": "rgb(36,36,36)"
           }
          },
          "shapedefaults": {
           "fillcolor": "black",
           "line": {
            "width": 0
           },
           "opacity": 0.3
          },
          "ternary": {
           "aaxis": {
            "gridcolor": "rgb(232,232,232)",
            "linecolor": "rgb(36,36,36)",
            "showgrid": false,
            "showline": true,
            "ticks": "outside"
           },
           "baxis": {
            "gridcolor": "rgb(232,232,232)",
            "linecolor": "rgb(36,36,36)",
            "showgrid": false,
            "showline": true,
            "ticks": "outside"
           },
           "bgcolor": "white",
           "caxis": {
            "gridcolor": "rgb(232,232,232)",
            "linecolor": "rgb(36,36,36)",
            "showgrid": false,
            "showline": true,
            "ticks": "outside"
           }
          },
          "title": {
           "x": 0.05
          },
          "xaxis": {
           "automargin": true,
           "gridcolor": "rgb(232,232,232)",
           "linecolor": "rgb(36,36,36)",
           "showgrid": false,
           "showline": true,
           "ticks": "outside",
           "title": {
            "standoff": 15
           },
           "zeroline": false,
           "zerolinecolor": "rgb(36,36,36)"
          },
          "yaxis": {
           "automargin": true,
           "gridcolor": "rgb(232,232,232)",
           "linecolor": "rgb(36,36,36)",
           "showgrid": false,
           "showline": true,
           "ticks": "outside",
           "title": {
            "standoff": 15
           },
           "zeroline": false,
           "zerolinecolor": "rgb(36,36,36)"
          }
         }
        },
        "title": {
         "text": "Distribución de Pesos de Tópicos - Cdmx"
        },
        "width": 1000,
        "xaxis": {
         "title": {
          "text": "Weight"
         }
        }
       }
      }
     },
     "metadata": {},
     "output_type": "display_data"
    },
    {
     "data": {
      "application/vnd.plotly.v1+json": {
       "config": {
        "plotlyServerURL": "https://plot.ly"
       },
       "data": [
        {
         "hoverinfo": "text",
         "marker": {
          "color": "rgb(61,153,112)"
         },
         "mode": "lines",
         "type": "scatter",
         "x": {
          "bdata": "AAAAAAAAAACNNh8wI58AQI02HzAjnwBAAAAAAAAAAAA=",
          "dtype": "f8"
         },
         "xaxis": "x",
         "y": {
          "bdata": "AAAAAAAAFMAAAAAAAAAUwAAAAAAAAC7AAAAAAAAALsA=",
          "dtype": "f8"
         },
         "yaxis": "y"
        },
        {
         "hoverinfo": "text",
         "marker": {
          "color": "rgb(255,65,54)"
         },
         "mode": "lines",
         "type": "scatter",
         "x": {
          "bdata": "AAAAAAAAAADogdc3CnX/P+iB1zcKdf8/AAAAAAAAAAA=",
          "dtype": "f8"
         },
         "xaxis": "x",
         "y": {
          "bdata": "AAAAAACAS8AAAAAAAIBLwAAAAAAAQFDAAAAAAABAUMA=",
          "dtype": "f8"
         },
         "yaxis": "y"
        },
        {
         "hoverinfo": "text",
         "marker": {
          "color": "rgb(0,116,217)"
         },
         "mode": "lines",
         "type": "scatter",
         "x": {
          "bdata": "AAAAAAAAAAAC5bK+SHsBQALlsr5IewFA6IHXNwp1/z8=",
          "dtype": "f8"
         },
         "xaxis": "x",
         "y": {
          "bdata": "AAAAAACARsAAAAAAAIBGwAAAAAAAAE7AAAAAAAAATsA=",
          "dtype": "f8"
         },
         "yaxis": "y"
        },
        {
         "hoverinfo": "text",
         "marker": {
          "color": "rgb(0,116,217)"
         },
         "mode": "lines",
         "type": "scatter",
         "x": {
          "bdata": "AuWyvkh7AUCJE8EwYoQCQIkTwTBihAJAAAAAAAAAAAA=",
          "dtype": "f8"
         },
         "xaxis": "x",
         "y": {
          "bdata": "AAAAAABASsAAAAAAAEBKwAAAAAAAwFLAAAAAAADAUsA=",
          "dtype": "f8"
         },
         "yaxis": "y"
        },
        {
         "hoverinfo": "text",
         "marker": {
          "color": "rgb(0,116,217)"
         },
         "mode": "lines",
         "type": "scatter",
         "x": {
          "bdata": "AAAAAAAAAADGfl061NwCQMZ+XTrU3AJAiRPBMGKEAkA=",
          "dtype": "f8"
         },
         "xaxis": "x",
         "y": {
          "bdata": "AAAAAACAQcAAAAAAAIBBwAAAAAAA4E/AAAAAAADgT8A=",
          "dtype": "f8"
         },
         "yaxis": "y"
        },
        {
         "hoverinfo": "text",
         "marker": {
          "color": "rgb(0,116,217)"
         },
         "mode": "lines",
         "type": "scatter",
         "x": {
          "bdata": "AAAAAAAAAAA+5MtEdX4DQD7ky0R1fgNAxn5dOtTcAkA=",
          "dtype": "f8"
         },
         "xaxis": "x",
         "y": {
          "bdata": "AAAAAAAAOcAAAAAAAAA5wAAAAAAAsEjAAAAAAACwSMA=",
          "dtype": "f8"
         },
         "yaxis": "y"
        },
        {
         "hoverinfo": "text",
         "marker": {
          "color": "rgb(0,116,217)"
         },
         "mode": "lines",
         "type": "scatter",
         "x": {
          "bdata": "PuTLRHV+A0DUE5DQlewEQNQTkNCV7ARAAAAAAAAAAAA=",
          "dtype": "f8"
         },
         "xaxis": "x",
         "y": {
          "bdata": "AAAAAACYQsAAAAAAAJhCwAAAAAAAQFXAAAAAAABAVcA=",
          "dtype": "f8"
         },
         "yaxis": "y"
        },
        {
         "hoverinfo": "text",
         "marker": {
          "color": "rgb(0,116,217)"
         },
         "mode": "lines",
         "type": "scatter",
         "x": {
          "bdata": "jTYfMCOfAEDu1K+ApWUIQO7Ur4ClZQhA1BOQ0JXsBEA=",
          "dtype": "f8"
         },
         "xaxis": "x",
         "y": {
          "bdata": "AAAAAAAAJMAAAAAAAAAkwAAAAAAAjE7AAAAAAACMTsA=",
          "dtype": "f8"
         },
         "yaxis": "y"
        }
       ],
       "layout": {
        "autosize": false,
        "height": 1000,
        "hovermode": "closest",
        "showlegend": false,
        "template": {
         "data": {
          "bar": [
           {
            "error_x": {
             "color": "#2a3f5f"
            },
            "error_y": {
             "color": "#2a3f5f"
            },
            "marker": {
             "line": {
              "color": "#E5ECF6",
              "width": 0.5
             },
             "pattern": {
              "fillmode": "overlay",
              "size": 10,
              "solidity": 0.2
             }
            },
            "type": "bar"
           }
          ],
          "barpolar": [
           {
            "marker": {
             "line": {
              "color": "#E5ECF6",
              "width": 0.5
             },
             "pattern": {
              "fillmode": "overlay",
              "size": 10,
              "solidity": 0.2
             }
            },
            "type": "barpolar"
           }
          ],
          "carpet": [
           {
            "aaxis": {
             "endlinecolor": "#2a3f5f",
             "gridcolor": "white",
             "linecolor": "white",
             "minorgridcolor": "white",
             "startlinecolor": "#2a3f5f"
            },
            "baxis": {
             "endlinecolor": "#2a3f5f",
             "gridcolor": "white",
             "linecolor": "white",
             "minorgridcolor": "white",
             "startlinecolor": "#2a3f5f"
            },
            "type": "carpet"
           }
          ],
          "choropleth": [
           {
            "colorbar": {
             "outlinewidth": 0,
             "ticks": ""
            },
            "type": "choropleth"
           }
          ],
          "contour": [
           {
            "colorbar": {
             "outlinewidth": 0,
             "ticks": ""
            },
            "colorscale": [
             [
              0,
              "#0d0887"
             ],
             [
              0.1111111111111111,
              "#46039f"
             ],
             [
              0.2222222222222222,
              "#7201a8"
             ],
             [
              0.3333333333333333,
              "#9c179e"
             ],
             [
              0.4444444444444444,
              "#bd3786"
             ],
             [
              0.5555555555555556,
              "#d8576b"
             ],
             [
              0.6666666666666666,
              "#ed7953"
             ],
             [
              0.7777777777777778,
              "#fb9f3a"
             ],
             [
              0.8888888888888888,
              "#fdca26"
             ],
             [
              1,
              "#f0f921"
             ]
            ],
            "type": "contour"
           }
          ],
          "contourcarpet": [
           {
            "colorbar": {
             "outlinewidth": 0,
             "ticks": ""
            },
            "type": "contourcarpet"
           }
          ],
          "heatmap": [
           {
            "colorbar": {
             "outlinewidth": 0,
             "ticks": ""
            },
            "colorscale": [
             [
              0,
              "#0d0887"
             ],
             [
              0.1111111111111111,
              "#46039f"
             ],
             [
              0.2222222222222222,
              "#7201a8"
             ],
             [
              0.3333333333333333,
              "#9c179e"
             ],
             [
              0.4444444444444444,
              "#bd3786"
             ],
             [
              0.5555555555555556,
              "#d8576b"
             ],
             [
              0.6666666666666666,
              "#ed7953"
             ],
             [
              0.7777777777777778,
              "#fb9f3a"
             ],
             [
              0.8888888888888888,
              "#fdca26"
             ],
             [
              1,
              "#f0f921"
             ]
            ],
            "type": "heatmap"
           }
          ],
          "histogram": [
           {
            "marker": {
             "pattern": {
              "fillmode": "overlay",
              "size": 10,
              "solidity": 0.2
             }
            },
            "type": "histogram"
           }
          ],
          "histogram2d": [
           {
            "colorbar": {
             "outlinewidth": 0,
             "ticks": ""
            },
            "colorscale": [
             [
              0,
              "#0d0887"
             ],
             [
              0.1111111111111111,
              "#46039f"
             ],
             [
              0.2222222222222222,
              "#7201a8"
             ],
             [
              0.3333333333333333,
              "#9c179e"
             ],
             [
              0.4444444444444444,
              "#bd3786"
             ],
             [
              0.5555555555555556,
              "#d8576b"
             ],
             [
              0.6666666666666666,
              "#ed7953"
             ],
             [
              0.7777777777777778,
              "#fb9f3a"
             ],
             [
              0.8888888888888888,
              "#fdca26"
             ],
             [
              1,
              "#f0f921"
             ]
            ],
            "type": "histogram2d"
           }
          ],
          "histogram2dcontour": [
           {
            "colorbar": {
             "outlinewidth": 0,
             "ticks": ""
            },
            "colorscale": [
             [
              0,
              "#0d0887"
             ],
             [
              0.1111111111111111,
              "#46039f"
             ],
             [
              0.2222222222222222,
              "#7201a8"
             ],
             [
              0.3333333333333333,
              "#9c179e"
             ],
             [
              0.4444444444444444,
              "#bd3786"
             ],
             [
              0.5555555555555556,
              "#d8576b"
             ],
             [
              0.6666666666666666,
              "#ed7953"
             ],
             [
              0.7777777777777778,
              "#fb9f3a"
             ],
             [
              0.8888888888888888,
              "#fdca26"
             ],
             [
              1,
              "#f0f921"
             ]
            ],
            "type": "histogram2dcontour"
           }
          ],
          "mesh3d": [
           {
            "colorbar": {
             "outlinewidth": 0,
             "ticks": ""
            },
            "type": "mesh3d"
           }
          ],
          "parcoords": [
           {
            "line": {
             "colorbar": {
              "outlinewidth": 0,
              "ticks": ""
             }
            },
            "type": "parcoords"
           }
          ],
          "pie": [
           {
            "automargin": true,
            "type": "pie"
           }
          ],
          "scatter": [
           {
            "fillpattern": {
             "fillmode": "overlay",
             "size": 10,
             "solidity": 0.2
            },
            "type": "scatter"
           }
          ],
          "scatter3d": [
           {
            "line": {
             "colorbar": {
              "outlinewidth": 0,
              "ticks": ""
             }
            },
            "marker": {
             "colorbar": {
              "outlinewidth": 0,
              "ticks": ""
             }
            },
            "type": "scatter3d"
           }
          ],
          "scattercarpet": [
           {
            "marker": {
             "colorbar": {
              "outlinewidth": 0,
              "ticks": ""
             }
            },
            "type": "scattercarpet"
           }
          ],
          "scattergeo": [
           {
            "marker": {
             "colorbar": {
              "outlinewidth": 0,
              "ticks": ""
             }
            },
            "type": "scattergeo"
           }
          ],
          "scattergl": [
           {
            "marker": {
             "colorbar": {
              "outlinewidth": 0,
              "ticks": ""
             }
            },
            "type": "scattergl"
           }
          ],
          "scattermap": [
           {
            "marker": {
             "colorbar": {
              "outlinewidth": 0,
              "ticks": ""
             }
            },
            "type": "scattermap"
           }
          ],
          "scattermapbox": [
           {
            "marker": {
             "colorbar": {
              "outlinewidth": 0,
              "ticks": ""
             }
            },
            "type": "scattermapbox"
           }
          ],
          "scatterpolar": [
           {
            "marker": {
             "colorbar": {
              "outlinewidth": 0,
              "ticks": ""
             }
            },
            "type": "scatterpolar"
           }
          ],
          "scatterpolargl": [
           {
            "marker": {
             "colorbar": {
              "outlinewidth": 0,
              "ticks": ""
             }
            },
            "type": "scatterpolargl"
           }
          ],
          "scatterternary": [
           {
            "marker": {
             "colorbar": {
              "outlinewidth": 0,
              "ticks": ""
             }
            },
            "type": "scatterternary"
           }
          ],
          "surface": [
           {
            "colorbar": {
             "outlinewidth": 0,
             "ticks": ""
            },
            "colorscale": [
             [
              0,
              "#0d0887"
             ],
             [
              0.1111111111111111,
              "#46039f"
             ],
             [
              0.2222222222222222,
              "#7201a8"
             ],
             [
              0.3333333333333333,
              "#9c179e"
             ],
             [
              0.4444444444444444,
              "#bd3786"
             ],
             [
              0.5555555555555556,
              "#d8576b"
             ],
             [
              0.6666666666666666,
              "#ed7953"
             ],
             [
              0.7777777777777778,
              "#fb9f3a"
             ],
             [
              0.8888888888888888,
              "#fdca26"
             ],
             [
              1,
              "#f0f921"
             ]
            ],
            "type": "surface"
           }
          ],
          "table": [
           {
            "cells": {
             "fill": {
              "color": "#EBF0F8"
             },
             "line": {
              "color": "white"
             }
            },
            "header": {
             "fill": {
              "color": "#C8D4E3"
             },
             "line": {
              "color": "white"
             }
            },
            "type": "table"
           }
          ]
         },
         "layout": {
          "annotationdefaults": {
           "arrowcolor": "#2a3f5f",
           "arrowhead": 0,
           "arrowwidth": 1
          },
          "autotypenumbers": "strict",
          "coloraxis": {
           "colorbar": {
            "outlinewidth": 0,
            "ticks": ""
           }
          },
          "colorscale": {
           "diverging": [
            [
             0,
             "#8e0152"
            ],
            [
             0.1,
             "#c51b7d"
            ],
            [
             0.2,
             "#de77ae"
            ],
            [
             0.3,
             "#f1b6da"
            ],
            [
             0.4,
             "#fde0ef"
            ],
            [
             0.5,
             "#f7f7f7"
            ],
            [
             0.6,
             "#e6f5d0"
            ],
            [
             0.7,
             "#b8e186"
            ],
            [
             0.8,
             "#7fbc41"
            ],
            [
             0.9,
             "#4d9221"
            ],
            [
             1,
             "#276419"
            ]
           ],
           "sequential": [
            [
             0,
             "#0d0887"
            ],
            [
             0.1111111111111111,
             "#46039f"
            ],
            [
             0.2222222222222222,
             "#7201a8"
            ],
            [
             0.3333333333333333,
             "#9c179e"
            ],
            [
             0.4444444444444444,
             "#bd3786"
            ],
            [
             0.5555555555555556,
             "#d8576b"
            ],
            [
             0.6666666666666666,
             "#ed7953"
            ],
            [
             0.7777777777777778,
             "#fb9f3a"
            ],
            [
             0.8888888888888888,
             "#fdca26"
            ],
            [
             1,
             "#f0f921"
            ]
           ],
           "sequentialminus": [
            [
             0,
             "#0d0887"
            ],
            [
             0.1111111111111111,
             "#46039f"
            ],
            [
             0.2222222222222222,
             "#7201a8"
            ],
            [
             0.3333333333333333,
             "#9c179e"
            ],
            [
             0.4444444444444444,
             "#bd3786"
            ],
            [
             0.5555555555555556,
             "#d8576b"
            ],
            [
             0.6666666666666666,
             "#ed7953"
            ],
            [
             0.7777777777777778,
             "#fb9f3a"
            ],
            [
             0.8888888888888888,
             "#fdca26"
            ],
            [
             1,
             "#f0f921"
            ]
           ]
          },
          "colorway": [
           "#636efa",
           "#EF553B",
           "#00cc96",
           "#ab63fa",
           "#FFA15A",
           "#19d3f3",
           "#FF6692",
           "#B6E880",
           "#FF97FF",
           "#FECB52"
          ],
          "font": {
           "color": "#2a3f5f"
          },
          "geo": {
           "bgcolor": "white",
           "lakecolor": "white",
           "landcolor": "#E5ECF6",
           "showlakes": true,
           "showland": true,
           "subunitcolor": "white"
          },
          "hoverlabel": {
           "align": "left"
          },
          "hovermode": "closest",
          "mapbox": {
           "style": "light"
          },
          "paper_bgcolor": "white",
          "plot_bgcolor": "#E5ECF6",
          "polar": {
           "angularaxis": {
            "gridcolor": "white",
            "linecolor": "white",
            "ticks": ""
           },
           "bgcolor": "#E5ECF6",
           "radialaxis": {
            "gridcolor": "white",
            "linecolor": "white",
            "ticks": ""
           }
          },
          "scene": {
           "xaxis": {
            "backgroundcolor": "#E5ECF6",
            "gridcolor": "white",
            "gridwidth": 2,
            "linecolor": "white",
            "showbackground": true,
            "ticks": "",
            "zerolinecolor": "white"
           },
           "yaxis": {
            "backgroundcolor": "#E5ECF6",
            "gridcolor": "white",
            "gridwidth": 2,
            "linecolor": "white",
            "showbackground": true,
            "ticks": "",
            "zerolinecolor": "white"
           },
           "zaxis": {
            "backgroundcolor": "#E5ECF6",
            "gridcolor": "white",
            "gridwidth": 2,
            "linecolor": "white",
            "showbackground": true,
            "ticks": "",
            "zerolinecolor": "white"
           }
          },
          "shapedefaults": {
           "line": {
            "color": "#2a3f5f"
           }
          },
          "ternary": {
           "aaxis": {
            "gridcolor": "white",
            "linecolor": "white",
            "ticks": ""
           },
           "baxis": {
            "gridcolor": "white",
            "linecolor": "white",
            "ticks": ""
           },
           "bgcolor": "#E5ECF6",
           "caxis": {
            "gridcolor": "white",
            "linecolor": "white",
            "ticks": ""
           }
          },
          "title": {
           "x": 0.05
          },
          "xaxis": {
           "automargin": true,
           "gridcolor": "white",
           "linecolor": "white",
           "ticks": "",
           "title": {
            "standoff": 15
           },
           "zerolinecolor": "white",
           "zerolinewidth": 2
          },
          "yaxis": {
           "automargin": true,
           "gridcolor": "white",
           "linecolor": "white",
           "ticks": "",
           "title": {
            "standoff": 15
           },
           "zerolinecolor": "white",
           "zerolinewidth": 2
          }
         }
        },
        "title": {
         "text": "Jerarquía de Tópicos - Cdmx"
        },
        "width": 1000,
        "xaxis": {
         "mirror": "allticks",
         "rangemode": "tozero",
         "showgrid": false,
         "showline": true,
         "showticklabels": true,
         "ticks": "outside",
         "type": "linear",
         "zeroline": false
        },
        "yaxis": {
         "mirror": "allticks",
         "rangemode": "tozero",
         "showgrid": false,
         "showline": true,
         "showticklabels": true,
         "tickmode": "array",
         "ticks": "outside",
         "ticktext": [
          "4_animal_grupo_pagar_cuidado_horario",
          "0_acuario_actividad_servicio_gusto_tocar",
          "6_arte_mural_obra_artista_coleccion",
          "8_frida_casa_kahlo_vida_antelacion",
          "1_plaza_mercado_zocalo_catedral_barrio",
          "3_mexico_ciudad_descubrir_fascinante_mantenido",
          "2_museo_informacion_hora_encontrar_templo",
          "5_chapultepec_castillo_guia_recorrer_bosque",
          "7_basilica_guadalupe_misa_virgen_iglesia"
         ],
         "tickvals": [
          -5,
          -15,
          -25,
          -35,
          -45,
          -55,
          -65,
          -75,
          -85
         ],
         "type": "linear",
         "zeroline": false
        }
       }
      }
     },
     "metadata": {},
     "output_type": "display_data"
    },
    {
     "name": "stdout",
     "output_type": "stream",
     "text": [
      "\n",
      "📋 Resumen del modelado FASTopic:\n",
      "✅ Textos analizados: 489\n",
      "🎯 Tópicos encontrados: 9\n",
      "⏱️ Tiempo de entrenamiento: 163.58s\n",
      "📊 Probabilidad promedio: 0.481\n",
      "📈 Distribución:\n",
      "   1. Ciudades y patrimonio cultural: 78 opiniones (16.0%)\n",
      "   2. Animales y acceso a atracciones: 64 opiniones (13.1%)\n",
      "   3. Plazas, mercados y gastronomía: 63 opiniones (12.9%)\n",
      "   4. Parques y paseos en la naturaleza: 60 opiniones (12.3%)\n",
      "   5. Vida marina y actividades interactivas: 56 opiniones (11.5%)\n"
     ]
    }
   ],
   "source": [
    "# ===== VISUALIZACIONES ESPECÍFICAS DE FASTOPIC =====\n",
    "\n",
    "# Generar visualización de tópicos\n",
    "fig_topics = topic_model.visualize_topic(top_n=min(8, len(topic_info)))\n",
    "fig_topics.update_layout(title=f\"Palabras Principales por Tópico - {CIUDAD_ANALIZAR}\")\n",
    "fig_topics.show()\n",
    "\n",
    "# Generar visualización de pesos de tópicos\n",
    "fig_weights = topic_model.visualize_topic_weights(top_n=min(10, len(topic_info)))\n",
    "fig_weights.update_layout(title=f\"Distribución de Pesos de Tópicos - {CIUDAD_ANALIZAR}\")\n",
    "fig_weights.show()\n",
    "\n",
    "# Generar jerarquía de tópicos si hay suficientes\n",
    "if len(topic_info) >= 3:\n",
    "    fig_hierarchy = topic_model.visualize_topic_hierarchy()\n",
    "    fig_hierarchy.update_layout(title=f\"Jerarquía de Tópicos - {CIUDAD_ANALIZAR}\")\n",
    "    fig_hierarchy.show()\n",
    "\n",
    "print(f\"\\n📋 Resumen del modelado FASTopic:\")\n",
    "print(f\"✅ Textos analizados: {len(texts)}\")\n",
    "print(f\"🎯 Tópicos encontrados: {len(topic_info)}\")\n",
    "print(f\"⏱️ Tiempo de entrenamiento: {tiempo_entrenamiento:.2f}s\")\n",
    "print(f\"📊 Probabilidad promedio: {df_con_topicos['Probabilidad_Topico'].mean():.3f}\")\n",
    "print(f\"📈 Distribución:\")\n",
    "for i, (topico, count) in enumerate(topico_counts.head(5).items()):\n",
    "    print(f\"   {i+1}. {topico}: {count} opiniones ({count/len(df_con_topicos)*100:.1f}%)\")"
   ]
  },
  {
   "cell_type": "code",
   "execution_count": 18,
   "id": "57459ce4",
   "metadata": {},
   "outputs": [
    {
     "name": "stdout",
     "output_type": "stream",
     "text": [
      "🔄 COMPARACIÓN FASTopic vs BERTopic en Cdmx\n",
      "============================================================\n",
      "📊 Opiniones con ambos análisis: 489\n",
      "\n",
      "🎯 NÚMERO DE TÓPICOS:\n",
      "   BERTopic: 6\n",
      "   FASTopic: 9\n"
     ]
    },
    {
     "data": {
      "image/png": "[encoded data removed]",
      "text/plain": [
       "<Figure size 2000x800 with 2 Axes>"
      ]
     },
     "metadata": {},
     "output_type": "display_data"
    },
    {
     "name": "stdout",
     "output_type": "stream",
     "text": [
      "\n",
      "📈 TOP 5 TÓPICOS POR MÉTODO:\n",
      "\n",
      "🔵 BERTopic:\n",
      "   1. Arte y Cultura: 135 (27.6%)\n",
      "   2. Vida Marina: 99 (20.2%)\n",
      "   3. Opiniones Diversas: 82 (16.8%)\n",
      "   4. Patrimonio Religioso: 77 (15.7%)\n",
      "   5. Sitios Históricos: 51 (10.4%)\n",
      "\n",
      "🔴 FASTopic:\n",
      "   1. Ciudades y patrimonio cultural: 78 (16.0%)\n",
      "   2. Animales y acceso a atracciones: 64 (13.1%)\n",
      "   3. Plazas, mercados y gastronomía: 63 (12.9%)\n",
      "   4. Parques y paseos en la naturaleza: 60 (12.3%)\n",
      "   5. Vida marina y actividades interactivas: 56 (11.5%)\n",
      "\n",
      "💡 OBSERVACIONES:\n",
      "   • FASTopic identificó 9 tópicos vs 6 de BERTopic\n",
      "   • FASTopic muestra mayor granularidad en la segmentación\n",
      "   • Tiempo FASTopic: 163.58s (más rápido que BERTopic)\n",
      "\n",
      "📊 RESUMEN ACTUAL FASTopic:\n",
      "   Total tópicos identificados: 9\n",
      "   Tópicos en datos actuales: 9\n",
      "   Documentos procesados: 489\n"
     ]
    }
   ],
   "source": [
    "# ===== COMPARACIÓN CON BERTOPIC =====\n",
    "\n",
    "if 'TopicoConBERTopic' in df.columns:\n",
    "    print(f\"🔄 COMPARACIÓN FASTopic vs BERTopic en {CIUDAD_ANALIZAR}\")\n",
    "    print(\"=\" * 60)\n",
    "    \n",
    "    # Usar datos actuales procesados en lugar de df_ciudad que puede tener datos previos\n",
    "    df_comparacion = df_con_topicos[\n",
    "        df_con_topicos.index.isin(df_ciudad[df_ciudad['TopicoConBERTopic'].notna()].index)\n",
    "    ].copy()\n",
    "    \n",
    "    # Agregar datos de BERTopic al dataframe de comparación\n",
    "    bertopic_data = df_ciudad[df_ciudad['TopicoConBERTopic'].notna()]['TopicoConBERTopic']\n",
    "    df_comparacion = df_comparacion[df_comparacion.index.isin(bertopic_data.index)].copy()\n",
    "    df_comparacion['TopicoConBERTopic'] = bertopic_data\n",
    "    \n",
    "    if len(df_comparacion) > 0:\n",
    "        print(f\"📊 Opiniones con ambos análisis: {len(df_comparacion)}\")\n",
    "        \n",
    "        # Comparar número de tópicos únicos usando datos actuales\n",
    "        topicos_bertopic = df_comparacion['TopicoConBERTopic'].nunique()\n",
    "        topicos_fastopic = df_comparacion['Topico_Nombre'].nunique()  # Usar datos actuales\n",
    "        \n",
    "        print(f\"\\n🎯 NÚMERO DE TÓPICOS:\")\n",
    "        print(f\"   BERTopic: {topicos_bertopic}\")\n",
    "        print(f\"   FASTopic: {topicos_fastopic}\")\n",
    "        \n",
    "        # Mostrar distribuciones lado a lado\n",
    "        fig, axes = plt.subplots(1, 2, figsize=(20, 8))\n",
    "        \n",
    "        # BERTopic\n",
    "        bertopic_counts = df_comparacion['TopicoConBERTopic'].value_counts().head(10)\n",
    "        bertopic_counts.plot(kind='bar', ax=axes[0], color='skyblue')\n",
    "        axes[0].set_title(f'Distribución BERTopic - {CIUDAD_ANALIZAR}', fontweight='bold')\n",
    "        axes[0].set_xlabel('Tópicos')\n",
    "        axes[0].set_ylabel('Número de Opiniones')\n",
    "        axes[0].tick_params(axis='x', rotation=45)\n",
    "        \n",
    "        # FASTopic - usar datos actuales\n",
    "        fastopic_counts = df_comparacion['Topico_Nombre'].value_counts().head(10)\n",
    "        fastopic_counts.plot(kind='bar', ax=axes[1], color='lightcoral')\n",
    "        axes[1].set_title(f'Distribución FASTopic - {CIUDAD_ANALIZAR}', fontweight='bold')\n",
    "        axes[1].set_xlabel('Tópicos')\n",
    "        axes[1].set_ylabel('Número de Opiniones')\n",
    "        axes[1].tick_params(axis='x', rotation=45)\n",
    "        \n",
    "        plt.tight_layout()\n",
    "        plt.show()\n",
    "        \n",
    "        # Análisis de concordancia (tópicos más frecuentes)\n",
    "        print(f\"\\n📈 TOP 5 TÓPICOS POR MÉTODO:\")\n",
    "        print(f\"\\n🔵 BERTopic:\")\n",
    "        for i, (topico, count) in enumerate(bertopic_counts.head(5).items(), 1):\n",
    "            pct = (count / len(df_comparacion) * 100)\n",
    "            print(f\"   {i}. {topico}: {count} ({pct:.1f}%)\")\n",
    "        \n",
    "        print(f\"\\n🔴 FASTopic:\")\n",
    "        for i, (topico, count) in enumerate(fastopic_counts.head(5).items(), 1):\n",
    "            pct = (count / len(df_comparacion) * 100)\n",
    "            print(f\"   {i}. {topico}: {count} ({pct:.1f}%)\")\n",
    "            \n",
    "        print(f\"\\n💡 OBSERVACIONES:\")\n",
    "        print(f\"   • FASTopic identificó {topicos_fastopic} tópicos vs {topicos_bertopic} de BERTopic\")\n",
    "        if topicos_fastopic > topicos_bertopic:\n",
    "            print(f\"   • FASTopic muestra mayor granularidad en la segmentación\")\n",
    "        elif topicos_fastopic < topicos_bertopic:\n",
    "            print(f\"   • FASTopic agrupa conceptos de manera más generalizada\")\n",
    "        else:\n",
    "            print(f\"   • Ambos métodos identificaron el mismo número de tópicos\")\n",
    "            \n",
    "        print(f\"   • Tiempo FASTopic: {tiempo_entrenamiento:.2f}s (más rápido que BERTopic)\")\n",
    "        \n",
    "        # Mostrar resumen de datos actuales de FASTopic\n",
    "        print(f\"\\n📊 RESUMEN ACTUAL FASTopic:\")\n",
    "        print(f\"   Total tópicos identificados: {len(topic_info)}\")\n",
    "        print(f\"   Tópicos en datos actuales: {df_con_topicos['Topico_Nombre'].nunique()}\")\n",
    "        print(f\"   Documentos procesados: {len(df_con_topicos)}\")\n",
    "        \n",
    "    else:\n",
    "        print(f\"⚠️ No hay opiniones de {CIUDAD_ANALIZAR} con ambos análisis completados\")\n",
    "        print(f\"   BERTopic disponible: {df_ciudad['TopicoConBERTopic'].notna().sum()} opiniones\")\n",
    "        print(f\"   FASTopic actual: {len(df_con_topicos)} opiniones\")\n",
    "else:\n",
    "    print(f\"ℹ️ No hay análisis previo de BERTopic para comparar\")\n",
    "    print(f\"   Ejecuta el notebook 07-modelado-de-topicos-con-bertopic.ipynb primero\")\n",
    "    "
   ]
  },
  {
   "cell_type": "code",
   "execution_count": 19,
   "id": "62506cf6",
   "metadata": {},
   "outputs": [
    {
     "name": "stdout",
     "output_type": "stream",
     "text": [
      "📋 REPORTE COMPLETO - ANÁLISIS CON FASTOPIC\n",
      "============================================================\n",
      "🎯 ANÁLISIS COMPLETADO:\n",
      "   📍 Ciudad: Cdmx\n",
      "   📄 Documentos analizados: 489\n",
      "   🏷️ Tópicos identificados: 9\n",
      "   ⏱️ Tiempo de entrenamiento: 163.58 segundos\n",
      "\n",
      "📊 ESTADÍSTICAS DE TÓPICOS:\n",
      "   🎯 Tópico más relevante: Plazas, mercados y gastronomía\n",
      "   📈 Peso máximo: 67.932\n",
      "   📉 Peso mínimo: 39.476\n",
      "   📊 Peso promedio: 54.333\n",
      "\n",
      "🏆 TOP 5 TÓPICOS POR RELEVANCIA:\n",
      "   1. Plazas, mercados y gastronomía\n",
      "      📊 Peso: 67.932 | 📄 Documentos: 180\n",
      "      🔑 Palabras clave: plaza, mercado, zocalo, catedral, barrio, restaura...\n",
      "   2. Vida marina y actividades interactivas\n",
      "      📊 Peso: 66.320 | 📄 Documentos: 200\n",
      "      🔑 Palabras clave: acuario, actividad, servicio, gusto, tocar, instal...\n",
      "   3. Ciudades y patrimonio cultural\n",
      "      📊 Peso: 63.217 | 📄 Documentos: 151\n",
      "      🔑 Palabras clave: mexico, ciudad, descubrir, fascinante, mantenido, ...\n",
      "   4. Animales y acceso a atracciones\n",
      "      📊 Peso: 60.356 | 📄 Documentos: 156\n",
      "      🔑 Palabras clave: animal, grupo, pagar, cuidado, horario, ingresar, ...\n",
      "   5. Parques y paseos en la naturaleza\n",
      "      📊 Peso: 55.582 | 📄 Documentos: 174\n",
      "      🔑 Palabras clave: chapultepec, castillo, guia, recorrer, bosque, oca...\n",
      "\n",
      "💎 CALIDAD DEL MODELADO:\n",
      "   ✅ Tópicos con documentos asignados: 9/9\n",
      "   ✅ Distribución balanceada de tópicos: 13.9% máx.\n",
      "\n",
      "🚀 PRÓXIMOS PASOS RECOMENDADOS:\n",
      "   1. Revisar ejemplos de cada tópico principal\n",
      "   2. Analizar relación con sentimientos y subjetividad\n",
      "   3. Comparar resultados con BERTopic si está disponible\n",
      "   4. Exportar resultados al dataset principal\n"
     ]
    }
   ],
   "source": [
    "generar_reporte_fastopic(\n",
    "    topic_info, \n",
    "    len(df_con_topicos), \n",
    "    CIUDAD_ANALIZAR, \n",
    "    tiempo_entrenamiento\n",
    ")\n",
    "\n",
    "df.to_csv('../data/processed/dataset_opiniones_analisis.csv', index=False)"
   ]
  },
  {
   "cell_type": "code",
   "execution_count": 20,
   "id": "6a801194",
   "metadata": {},
   "outputs": [
    {
     "name": "stdout",
     "output_type": "stream",
     "text": [
      "🔬 Evaluando modelo FASTopic para Cdmx...\n",
      "📊 Evaluación FASTopic - Cdmx:\n",
      "   🎯 Tópicos: 9\n",
      "   📈 Coherencia CV: 0.4742\n",
      "   🔄 Diversidad: 1.0000\n",
      "📊 Evaluación FASTopic - Cdmx:\n",
      "   🎯 Tópicos: 9\n",
      "   📈 Coherencia CV: 0.4742\n",
      "   🔄 Diversidad: 1.0000\n"
     ]
    }
   ],
   "source": [
    "# ===== EVALUACIÓN DE MÉTRICAS FASTOPIC =====\n",
    "\n",
    "print(f\"🔬 Evaluando modelo FASTopic para {CIUDAD_ANALIZAR}...\")\n",
    "\n",
    "topics_words_fastopic = extraer_palabras_fastopic(top_words, words_per_topic=10)\n",
    "metricas_fastopic = evaluar_modelo_topicos(texts, topics_words_fastopic, f\"FASTopic - {CIUDAD_ANALIZAR}\")\n",
    "\n",
    "mostrar_metricas(metricas_fastopic)"
   ]
  },
  {
   "cell_type": "code",
   "execution_count": 2,
   "id": "20512814",
   "metadata": {},
   "outputs": [
    {
     "ename": "NameError",
     "evalue": "name 'CIUDAD_ANALIZAR' is not defined",
     "output_type": "error",
     "traceback": [
      "\u001b[0;31m---------------------------------------------------------------------------\u001b[0m",
      "\u001b[0;31mNameError\u001b[0m                                 Traceback (most recent call last)",
      "Cell \u001b[0;32mIn[2], line 3\u001b[0m\n\u001b[1;32m      1\u001b[0m \u001b[38;5;66;03m# ===== ANÁLISIS DETALLADO DE ASIGNACIÓN DE TÓPICOS CON REGLA DEL 10% =====\u001b[39;00m\n\u001b[0;32m----> 3\u001b[0m \u001b[38;5;28mprint\u001b[39m(\u001b[38;5;124mf\u001b[39m\u001b[38;5;124m\"\u001b[39m\u001b[38;5;124m📋 ANÁLISIS DETALLADO DE TÓPICOS - \u001b[39m\u001b[38;5;132;01m{\u001b[39;00m\u001b[43mCIUDAD_ANALIZAR\u001b[49m\u001b[38;5;132;01m}\u001b[39;00m\u001b[38;5;124m\"\u001b[39m)\n\u001b[1;32m      4\u001b[0m \u001b[38;5;28mprint\u001b[39m(\u001b[38;5;124m\"\u001b[39m\u001b[38;5;124m=\u001b[39m\u001b[38;5;124m\"\u001b[39m \u001b[38;5;241m*\u001b[39m \u001b[38;5;241m100\u001b[39m)\n\u001b[1;32m      5\u001b[0m \u001b[38;5;28mprint\u001b[39m(\u001b[38;5;124mf\u001b[39m\u001b[38;5;124m\"\u001b[39m\u001b[38;5;124mOpiniones analizadas: \u001b[39m\u001b[38;5;132;01m{\u001b[39;00m\u001b[38;5;28mlen\u001b[39m(df_con_topicos)\u001b[38;5;132;01m}\u001b[39;00m\u001b[38;5;124m\"\u001b[39m)\n",
      "\u001b[0;31mNameError\u001b[0m: name 'CIUDAD_ANALIZAR' is not defined"
     ]
    }
   ],
   "source": [
    "# ===== ANÁLISIS DETALLADO DE ASIGNACIÓN DE TÓPICOS CON REGLA DEL 10% =====\n",
    "\n",
    "print(f\"📋 ANÁLISIS DETALLADO DE TÓPICOS - {CIUDAD_ANALIZAR}\")\n",
    "print(\"=\" * 100)\n",
    "print(f\"Opiniones analizadas: {len(df_con_topicos)}\")\n",
    "print(\"=\" * 100 + \"\\n\")\n",
    "\n",
    "def aplicar_criterio_diferencia_10_porciento(indice_doc, matriz_probabilidades, diccionario_nombres, umbral_diferencia=0.10):\n",
    "    \"\"\"\n",
    "    Aplica criterio de selección basado en diferencia del 10%:\n",
    "    - Tópico principal: siempre se incluye (mayor probabilidad)\n",
    "    - Tópico secundario: solo si diferencia <= 10%\n",
    "    \"\"\"\n",
    "    probabilidades_doc = matriz_probabilidades[indice_doc]\n",
    "    indices_ordenados = np.argsort(probabilidades_doc)[::-1]\n",
    "    \n",
    "    resultado_topicos = []\n",
    "    resultado_probabilidades = []\n",
    "    resultado_nombres = []\n",
    "    \n",
    "    if len(indices_ordenados) > 0:\n",
    "        # Procesar tópico principal (obligatorio)\n",
    "        id_principal = indices_ordenados[0]\n",
    "        prob_principal = probabilidades_doc[id_principal]\n",
    "        nombre_principal = diccionario_nombres.get(id_principal, f\"Tópico_{id_principal}\")\n",
    "        \n",
    "        resultado_topicos.append(id_principal)\n",
    "        resultado_probabilidades.append(prob_principal)\n",
    "        resultado_nombres.append(nombre_principal)\n",
    "        \n",
    "        # Evaluar tópico secundario (condicional)\n",
    "        if len(indices_ordenados) >= 2:\n",
    "            id_secundario = indices_ordenados[1]\n",
    "            prob_secundario = probabilidades_doc[id_secundario]\n",
    "            nombre_secundario = diccionario_nombres.get(id_secundario, f\"Tópico_{id_secundario}\")\n",
    "            \n",
    "            # Aplicar criterio del 10%\n",
    "            diferencia_probabilidades = prob_principal - prob_secundario\n",
    "            if diferencia_probabilidades <= umbral_diferencia:\n",
    "                resultado_topicos.append(id_secundario)\n",
    "                resultado_probabilidades.append(prob_secundario)\n",
    "                resultado_nombres.append(nombre_secundario)\n",
    "    \n",
    "    return resultado_topicos, resultado_probabilidades, resultado_nombres\n",
    "\n",
    "# Crear DataFrame expandido para análisis completo\n",
    "df_analisis = df_con_topicos.copy()\n",
    "\n",
    "# Generar mapeo entre índices del DataFrame y posiciones en matriz de probabilidades\n",
    "indices_df = df_analisis.index.tolist()\n",
    "datos_filtrados = df_ciudad[columna_texto].dropna()\n",
    "mapeo_posiciones = {indice_real: posicion for posicion, indice_real in enumerate(datos_filtrados.index)}\n",
    "\n",
    "# Inicializar contenedores para resultados\n",
    "lista_topicos_primarios = []\n",
    "lista_probabilidades_primarias = []\n",
    "lista_topicos_secundarios = []\n",
    "lista_probabilidades_secundarias = []\n",
    "lista_flags_segundo_topico = []\n",
    "\n",
    "# Procesar cada opinión con la lógica del 10%\n",
    "for indice_actual in indices_df:\n",
    "    if indice_actual in mapeo_posiciones:\n",
    "        posicion_matriz = mapeo_posiciones[indice_actual]\n",
    "        ids_topicos, probabilidades_topicos, nombres_topicos = aplicar_criterio_diferencia_10_porciento(\n",
    "            posicion_matriz, doc_topic_dist, topic_names\n",
    "        )\n",
    "        \n",
    "        # Asignar tópico primario (siempre presente)\n",
    "        lista_topicos_primarios.append(nombres_topicos[0])\n",
    "        lista_probabilidades_primarias.append(probabilidades_topicos[0])\n",
    "        \n",
    "        # Evaluar y asignar tópico secundario\n",
    "        if len(ids_topicos) == 2:  # Cumple criterio del 10%\n",
    "            lista_topicos_secundarios.append(nombres_topicos[1])\n",
    "            lista_probabilidades_secundarias.append(probabilidades_topicos[1])\n",
    "            lista_flags_segundo_topico.append(True)\n",
    "        else:  # No cumple criterio\n",
    "            lista_topicos_secundarios.append(\"N/A\")\n",
    "            lista_probabilidades_secundarias.append(0.0)\n",
    "            lista_flags_segundo_topico.append(False)\n",
    "    else:\n",
    "        # Manejar casos sin mapeo\n",
    "        lista_topicos_primarios.append(\"N/A\")\n",
    "        lista_probabilidades_primarias.append(0.0)\n",
    "        lista_topicos_secundarios.append(\"N/A\")\n",
    "        lista_probabilidades_secundarias.append(0.0)\n",
    "        lista_flags_segundo_topico.append(False)\n",
    "\n",
    "# Enriquecer DataFrame con nuevas columnas\n",
    "df_analisis['Topico_Primario'] = lista_topicos_primarios\n",
    "df_analisis['Prob_Primario'] = lista_probabilidades_primarias\n",
    "df_analisis['Topico_Secundario'] = lista_topicos_secundarios\n",
    "df_analisis['Prob_Secundario'] = lista_probabilidades_secundarias\n",
    "df_analisis['Cumple_Criterio_10_Porciento'] = lista_flags_segundo_topico\n",
    "\n",
    "# Obtener lista de tópicos únicos para iteración\n",
    "conjunto_topicos_unicos = df_analisis['Topico_Primario'].unique()\n",
    "topicos_ordenados = sorted([topico for topico in conjunto_topicos_unicos if topico != \"N/A\"])\n",
    "\n",
    "# Contadores para estadísticas globales\n",
    "contador_opiniones_procesadas = 0\n",
    "contador_opiniones_con_doble_topico = 0\n",
    "\n",
    "# Iterar por cada tópico único\n",
    "for numero_topico, nombre_topico in enumerate(topicos_ordenados, 1):\n",
    "    # Filtrar opiniones del tópico actual\n",
    "    subset_topico = df_analisis[df_analisis['Topico_Primario'] == nombre_topico].copy()\n",
    "    \n",
    "    # Ordenar por probabilidad primaria (descendente)\n",
    "    subset_ordenado = subset_topico.sort_values('Prob_Primario', ascending=False)\n",
    "    \n",
    "    # Calcular métricas del grupo\n",
    "    cantidad_con_segundo = subset_ordenado['Cumple_Criterio_10_Porciento'].sum()\n",
    "    \n",
    "    print(f\"🎯 TÓPICO {numero_topico}: {nombre_topico}\")\n",
    "    print(f\"📊 Cantidad total: {len(subset_ordenado)}\")\n",
    "    print(f\"📈 Probabilidad media: {subset_ordenado['Prob_Primario'].mean():.4f}\")\n",
    "    print(f\"📉 Rango probabilístico: {subset_ordenado['Prob_Primario'].min():.4f} - {subset_ordenado['Prob_Primario'].max():.4f}\")\n",
    "    print(f\"🎭 Con tópico secundario: {cantidad_con_segundo}/{len(subset_ordenado)} ({cantidad_con_segundo/len(subset_ordenado)*100:.1f}%)\")\n",
    "    print(\"-\" * 100)\n",
    "    \n",
    "    # Mostrar detalle de cada opinión\n",
    "    for numero_opinion, (_, fila_opinion) in enumerate(subset_ordenado.iterrows(), 1):\n",
    "        contador_opiniones_procesadas += 1\n",
    "        prob_primaria = fila_opinion['Prob_Primario']\n",
    "        texto_opinion = fila_opinion['TituloReview']\n",
    "        tiene_segundo_topico = fila_opinion['Cumple_Criterio_10_Porciento']\n",
    "        \n",
    "        print(f\"📝 Opinión {numero_opinion} (Secuencial #{contador_opiniones_procesadas})\")\n",
    "        print(f\"🥇 Tópico Primario: {nombre_topico} - Probabilidad: {prob_primaria:.4f}\")\n",
    "        \n",
    "        if tiene_segundo_topico:\n",
    "            topico_secundario = fila_opinion['Topico_Secundario']\n",
    "            prob_secundaria = fila_opinion['Prob_Secundario']\n",
    "            gap_probabilidades = prob_primaria - prob_secundaria\n",
    "            print(f\"🥈 Tópico Secundario: {topico_secundario} - Probabilidad: {prob_secundaria:.4f} (Gap: {gap_probabilidades:.3f})\")\n",
    "            contador_opiniones_con_doble_topico += 1\n",
    "        else:\n",
    "            print(f\"🚫 Tópico único (gap > 10%)\")\n",
    "        \n",
    "        print(f\"� Texto completo: {texto_opinion}\")\n",
    "        print(\"-\" * 80)\n",
    "    \n",
    "    print(f\"\\n{'='*100}\\n\")\n",
    "\n",
    "# Sección de resumen final\n",
    "print(f\"✅ SÍNTESIS GENERAL:\")\n",
    "print(f\"   🎯 Tópicos únicos identificados: {len(topicos_ordenados)}\")\n",
    "print(f\"   📝 Total opiniones procesadas: {contador_opiniones_procesadas}\")\n",
    "print(f\"   🎭 Opiniones con doble tópico (≤10%): {contador_opiniones_con_doble_topico}/{contador_opiniones_procesadas} ({contador_opiniones_con_doble_topico/contador_opiniones_procesadas*100:.1f}%)\")\n",
    "print(f\"   📊 Consistencia de datos: {contador_opiniones_procesadas == len(df_analisis)}\")\n",
    "print(\"=\" * 100)\n",
    "\n",
    "# Validación de ordenamiento correcto\n",
    "print(f\"\\n🔍 VALIDACIÓN DE ORDENAMIENTO:\")\n",
    "for topico_validacion in topicos_ordenados:\n",
    "    datos_topico = df_analisis[df_analisis['Topico_Primario'] == topico_validacion]\n",
    "    datos_ordenados = datos_topico.sort_values('Prob_Primario', ascending=False)\n",
    "    secuencia_probabilidades = datos_ordenados['Prob_Primario'].tolist()\n",
    "    \n",
    "    # Verificar orden descendente\n",
    "    ordenamiento_correcto = all(secuencia_probabilidades[i] >= secuencia_probabilidades[i+1] \n",
    "                               for i in range(len(secuencia_probabilidades)-1))\n",
    "    \n",
    "    print(f\"✅ {topico_validacion}: Orden correcto = {ordenamiento_correcto}\")\n",
    "    if len(secuencia_probabilidades) > 0:\n",
    "        print(f\"   📊 Máximo: {max(secuencia_probabilidades):.4f} | Mínimo: {min(secuencia_probabilidades):.4f}\")\n",
    "\n",
    "# Análisis estadístico de la regla del 10%\n",
    "print(f\"\\n📊 ANÁLISIS ESTADÍSTICO DEL CRITERIO 10%:\")\n",
    "opiniones_que_cumplen = df_analisis[df_analisis['Cumple_Criterio_10_Porciento'] == True]\n",
    "\n",
    "if len(opiniones_que_cumplen) > 0:\n",
    "    print(f\"   📝 Opiniones bajo criterio ≤10%: {len(opiniones_que_cumplen)}\")\n",
    "    print(f\"   📈 Probabilidad media del secundario: {opiniones_que_cumplen['Prob_Secundario'].mean():.4f}\")\n",
    "    print(f\"   📉 Diferencia media: {(opiniones_que_cumplen['Prob_Primario'] - opiniones_que_cumplen['Prob_Secundario']).mean():.4f}\")\n",
    "    \n",
    "    # Ranking de tópicos secundarios más frecuentes\n",
    "    print(f\"\\n🥈 TOP 5 TÓPICOS SECUNDARIOS MÁS COMUNES:\")\n",
    "    ranking_secundarios = opiniones_que_cumplen['Topico_Secundario'].value_counts().head(5)\n",
    "    for posicion, (topico_sec, frecuencia) in enumerate(ranking_secundarios.items(), 1):\n",
    "        porcentaje = (frecuencia / len(opiniones_que_cumplen) * 100)\n",
    "        print(f\"   {posicion}. {topico_sec}: {frecuencia} apariciones ({porcentaje:.1f}%)\")\n",
    "else:\n",
    "    print(f\"   ⚠️ Ninguna opinión satisface el criterio del 10%\")\n",
    "\n",
    "# Análisis de distribución de diferencias\n",
    "coleccion_diferencias = []\n",
    "for indice_fila in range(len(df_analisis)):\n",
    "    if df_analisis.iloc[indice_fila]['Cumple_Criterio_10_Porciento']:\n",
    "        diferencia_calculada = (df_analisis.iloc[indice_fila]['Prob_Primario'] - \n",
    "                              df_analisis.iloc[indice_fila]['Prob_Secundario'])\n",
    "        coleccion_diferencias.append(diferencia_calculada)\n",
    "\n",
    "if coleccion_diferencias:\n",
    "    print(f\"\\n📏 DISTRIBUCIÓN DE DIFERENCIAS (≤10%):\")\n",
    "    print(f\"   📊 Mínima diferencia: {min(coleccion_diferencias):.4f}\")\n",
    "    print(f\"   📊 Máxima diferencia: {max(coleccion_diferencias):.4f}\")\n",
    "    print(f\"   📊 Diferencia promedio: {np.mean(coleccion_diferencias):.4f}\")\n",
    "    \n",
    "    # Segmentación por rangos\n",
    "    diferencias_muy_pequenas = sum(1 for d in coleccion_diferencias if d <= 0.05)\n",
    "    diferencias_medianas = sum(1 for d in coleccion_diferencias if 0.05 < d <= 0.10)\n",
    "    total_diferencias = len(coleccion_diferencias)\n",
    "    \n",
    "    print(f\"   📊 Diferencias ≤ 5%: {diferencias_muy_pequenas} ({diferencias_muy_pequenas/total_diferencias*100:.1f}%)\")\n",
    "    print(f\"   📊 Diferencias 5-10%: {diferencias_medianas} ({diferencias_medianas/total_diferencias*100:.1f}%)\")"
   ]
  }
 ],
 "metadata": {
  "kernelspec": {
   "display_name": "analisis-automatizado-de-opiniones-turisticas",
   "language": "python",
   "name": "python3"
  },
  "language_info": {
   "codemirror_mode": {
    "name": "ipython",
    "version": 3
   },
   "file_extension": ".py",
   "mimetype": "text/x-python",
   "name": "python",
   "nbconvert_exporter": "python",
   "pygments_lexer": "ipython3",
   "version": "3.10.18"
  }
 },
 "nbformat": 4,
 "nbformat_minor": 5
}
