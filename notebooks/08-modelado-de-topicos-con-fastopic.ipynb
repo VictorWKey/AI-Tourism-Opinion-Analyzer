{
 "cells": [
  {
   "cell_type": "code",
   "execution_count": 1,
   "id": "0b114faf",
   "metadata": {},
   "outputs": [
    {
     "name": "stdout",
     "output_type": "stream",
     "text": [
      "✓ TOKENIZERS_PARALLELISM configurado a 'false' para evitar warnings\n",
      "✓ Configuración de warnings completada\n"
     ]
    }
   ],
   "source": [
    "import os\n",
    "import warnings\n",
    "\n",
    "os.environ[\"TOKENIZERS_PARALLELISM\"] = \"false\"\n",
    "print(\"✓ TOKENIZERS_PARALLELISM configurado a 'false' para evitar warnings\")\n",
    "\n",
    "warnings.filterwarnings(\"ignore\", category=FutureWarning)\n",
    "warnings.filterwarnings(\"ignore\", category=UserWarning, module=\"transformers\")\n",
    "\n",
    "print(\"✓ Configuración de warnings completada\")"
   ]
  },
  {
   "cell_type": "markdown",
   "id": "8d25143e",
   "metadata": {},
   "source": [
    "# Modelado de Tópicos con FASTopic\n",
    "\n",
    "Este notebook implementa un análisis de tópicos usando FASTopic sobre las opiniones turísticas clasificadas. Utiliza LangChain con GPT-4o-mini para asignar nombres semánticamente coherentes a los tópicos identificados y compara resultados con BERTopic."
   ]
  },
  {
   "cell_type": "code",
   "execution_count": 2,
   "id": "3030ec8f",
   "metadata": {},
   "outputs": [
    {
     "name": "stdout",
     "output_type": "stream",
     "text": [
      "✓ Modelo spaCy español cargado\n",
      "✓ Modelo spaCy inglés cargado\n",
      "✓ Modelo spaCy inglés cargado\n",
      "✓ Modelo spaCy portugués cargado\n",
      "✓ Modelo spaCy portugués cargado\n",
      "✓ Modelo spaCy francés cargado\n",
      "✓ Modelo spaCy francés cargado\n",
      "✓ Modelo spaCy italiano cargado\n",
      "Descargando wordnet...\n",
      "✓ Modelo spaCy italiano cargado\n",
      "Descargando wordnet...\n"
     ]
    },
    {
     "name": "stderr",
     "output_type": "stream",
     "text": [
      "[nltk_data] Downloading package wordnet to\n",
      "[nltk_data]     /home/victorwkey/nltk_data...\n",
      "[nltk_data]   Package wordnet is already up-to-date!\n"
     ]
    }
   ],
   "source": [
    "import pandas as pd\n",
    "import numpy as np\n",
    "import matplotlib.pyplot as plt\n",
    "import seaborn as sns\n",
    "import time\n",
    "import os\n",
    "import sys\n",
    "from dotenv import load_dotenv\n",
    "\n",
    "sys.path.append('../scripts')\n",
    "\n",
    "from topicos import (\n",
    "    configurar_clasificador_topicos, \n",
    "    configurar_fastopic_inteligente,\n",
    "    LimpiadorTextoMejorado, \n",
    "    mostrar_ejemplos_limpieza,\n",
    "    evaluar_modelo_topicos,\n",
    "    extraer_palabras_fastopic,\n",
    "    mostrar_metricas\n",
    ")\n",
    "\n",
    "from topicos.utils_topicos import (\n",
    "    procesar_topicos_fastopic,\n",
    "    obtener_asignaciones_topicos_fastopic,\n",
    "    visualizar_distribucion_topicos_fastopic,\n",
    "    mostrar_ejemplos_por_topico_fastopic,\n",
    "    generar_reporte_fastopic\n",
    ")\n",
    "\n",
    "load_dotenv()\n",
    "\n",
    "plt.style.use('seaborn-v0_8')\n",
    "sns.set_palette(\"husl\")"
   ]
  },
  {
   "cell_type": "code",
   "execution_count": 3,
   "id": "244d4041",
   "metadata": {},
   "outputs": [],
   "source": [
    "clasificador_topicos = configurar_clasificador_topicos()"
   ]
  },
  {
   "cell_type": "code",
   "execution_count": 4,
   "id": "c4025566",
   "metadata": {},
   "outputs": [
    {
     "name": "stdout",
     "output_type": "stream",
     "text": [
      "Dataset cargado: 2459 opiniones\n",
      "Distribución total por ciudad:\n",
      "Ciudad\n",
      "Mazatlan           499\n",
      "Puebla             499\n",
      "Puerto_vallarta    489\n",
      "Cdmx               489\n",
      "Cancun             483\n",
      "Name: count, dtype: int64\n"
     ]
    }
   ],
   "source": [
    "CIUDAD_ANALIZAR = \"Cdmx\"\n",
    "df = pd.read_csv('../data/processed/dataset_opiniones_analisis.csv')\n",
    "\n",
    "if 'TopicoConFASTopic' not in df.columns:\n",
    "    df['TopicoConFASTopic'] = np.nan\n",
    "\n",
    "print(f\"Dataset cargado: {df.shape[0]} opiniones\")\n",
    "print(f\"Distribución total por ciudad:\")\n",
    "print(df['Ciudad'].value_counts())\n",
    "\n",
    "df_ciudad = df[df['Ciudad'] == CIUDAD_ANALIZAR].copy()\n",
    "\n",
    "columna_texto = 'TituloReviewLimpio'\n",
    "\n",
    "texts = df_ciudad[columna_texto].dropna().tolist()"
   ]
  },
  {
   "cell_type": "code",
   "execution_count": null,
   "id": "9f207354",
   "metadata": {},
   "outputs": [
    {
     "name": "stdout",
     "output_type": "stream",
     "text": [
      "🌐 Aplicando traducción EN→ES...\n",
      "   Textos en inglés detectados: 297\n",
      "   Total textos: 2459\n",
      "   Textos en inglés detectados: 297\n",
      "   Total textos: 2459\n",
      "   📊 Textos detectados en inglés: 297 de 2459 total\n",
      "   📊 Textos detectados en inglés: 297 de 2459 total\n"
     ]
    },
    {
     "name": "stderr",
     "output_type": "stream",
     "text": [
      "🌐 Procesando traducciones:  26%|██▌       | 643/2459 [01:40<04:42,  6.43texto/s] \n",
      "\n"
     ]
    },
    {
     "ename": "KeyboardInterrupt",
     "evalue": "",
     "output_type": "error",
     "traceback": [
      "\u001b[0;31m---------------------------------------------------------------------------\u001b[0m",
      "\u001b[0;31mKeyboardInterrupt\u001b[0m                         Traceback (most recent call last)",
      "Cell \u001b[0;32mIn[5], line 8\u001b[0m\n\u001b[1;32m      5\u001b[0m \u001b[38;5;28;01mif\u001b[39;00m columna_limpia \u001b[38;5;129;01mnot\u001b[39;00m \u001b[38;5;129;01min\u001b[39;00m df\u001b[38;5;241m.\u001b[39mcolumns \u001b[38;5;129;01mor\u001b[39;00m limpiar_de_nuevo:\n\u001b[1;32m      6\u001b[0m     limpiador \u001b[38;5;241m=\u001b[39m LimpiadorTextoMejorado(idiomas\u001b[38;5;241m=\u001b[39m[\u001b[38;5;124m'\u001b[39m\u001b[38;5;124mspanish\u001b[39m\u001b[38;5;124m'\u001b[39m, \u001b[38;5;124m'\u001b[39m\u001b[38;5;124menglish\u001b[39m\u001b[38;5;124m'\u001b[39m])\n\u001b[0;32m----> 8\u001b[0m     df \u001b[38;5;241m=\u001b[39m \u001b[43mlimpiador\u001b[49m\u001b[38;5;241;43m.\u001b[39;49m\u001b[43mlimpiar_dataframe\u001b[49m\u001b[43m(\u001b[49m\n\u001b[1;32m      9\u001b[0m \u001b[43m        \u001b[49m\u001b[43mdf\u001b[49m\u001b[43m,\u001b[49m\n\u001b[1;32m     10\u001b[0m \u001b[43m        \u001b[49m\u001b[43mcolumna_texto\u001b[49m\u001b[38;5;241;43m=\u001b[39;49m\u001b[38;5;124;43m'\u001b[39;49m\u001b[38;5;124;43mTituloReview\u001b[39;49m\u001b[38;5;124;43m'\u001b[39;49m\u001b[43m,\u001b[49m\n\u001b[1;32m     11\u001b[0m \u001b[43m        \u001b[49m\u001b[43mnombre_columna_limpia\u001b[49m\u001b[38;5;241;43m=\u001b[39;49m\u001b[43mcolumna_limpia\u001b[49m\u001b[43m,\u001b[49m\n\u001b[1;32m     12\u001b[0m \u001b[43m        \u001b[49m\u001b[43maplicar_traduccion\u001b[49m\u001b[38;5;241;43m=\u001b[39;49m\u001b[38;5;28;43;01mTrue\u001b[39;49;00m\u001b[43m,\u001b[49m\n\u001b[1;32m     13\u001b[0m \u001b[43m        \u001b[49m\u001b[43mfiltrar_adjetivos\u001b[49m\u001b[38;5;241;43m=\u001b[39;49m\u001b[38;5;28;43;01mTrue\u001b[39;49;00m\u001b[43m,\u001b[49m\u001b[43m  \u001b[49m\u001b[38;5;66;43;03m# Nueva opción para filtrar adjetivos\u001b[39;49;00m\n\u001b[1;32m     14\u001b[0m \u001b[43m        \u001b[49m\u001b[43mfiltrar_solo_espanol\u001b[49m\u001b[38;5;241;43m=\u001b[39;49m\u001b[38;5;28;43;01mTrue\u001b[39;49;00m\u001b[43m,\u001b[49m\u001b[43m  \u001b[49m\u001b[38;5;66;43;03m# Nueva opción para filtrar solo textos en español\u001b[39;49;00m\n\u001b[1;32m     15\u001b[0m \u001b[43m        \u001b[49m\u001b[43maplicar_lematizacion\u001b[49m\u001b[38;5;241;43m=\u001b[39;49m\u001b[38;5;28;43;01mTrue\u001b[39;49;00m\u001b[43m,\u001b[49m\n\u001b[1;32m     16\u001b[0m \u001b[43m        \u001b[49m\u001b[43mmin_longitud_palabra\u001b[49m\u001b[38;5;241;43m=\u001b[39;49m\u001b[38;5;241;43m2\u001b[39;49m\u001b[43m,\u001b[49m\n\u001b[1;32m     17\u001b[0m \u001b[43m        \u001b[49m\u001b[43mmax_palabras\u001b[49m\u001b[38;5;241;43m=\u001b[39;49m\u001b[38;5;28;43;01mNone\u001b[39;49;00m\n\u001b[1;32m     18\u001b[0m \u001b[43m    \u001b[49m\u001b[43m)\u001b[49m\n\u001b[1;32m     20\u001b[0m     df\u001b[38;5;241m.\u001b[39mto_csv(\u001b[38;5;124m'\u001b[39m\u001b[38;5;124m../data/processed/dataset_opiniones_analisis.csv\u001b[39m\u001b[38;5;124m'\u001b[39m, index\u001b[38;5;241m=\u001b[39m\u001b[38;5;28;01mFalse\u001b[39;00m)\n\u001b[1;32m     22\u001b[0m df_ciudad \u001b[38;5;241m=\u001b[39m df[df[\u001b[38;5;124m'\u001b[39m\u001b[38;5;124mCiudad\u001b[39m\u001b[38;5;124m'\u001b[39m] \u001b[38;5;241m==\u001b[39m CIUDAD_ANALIZAR]\u001b[38;5;241m.\u001b[39mcopy()\n",
      "File \u001b[0;32m~/analisis-automatizado-de-opiniones-turisticas/notebooks/../scripts/topicos/limpieza_texto_mejorado.py:486\u001b[0m, in \u001b[0;36mLimpiadorTextoMejorado.limpiar_dataframe\u001b[0;34m(self, df, columna_texto, nombre_columna_limpia, aplicar_traduccion, filtrar_adjetivos, filtrar_solo_espanol, **kwargs)\u001b[0m\n\u001b[1;32m    484\u001b[0m     \u001b[38;5;28mprint\u001b[39m(\u001b[38;5;124mf\u001b[39m\u001b[38;5;124m\"\u001b[39m\u001b[38;5;124m   Total textos: \u001b[39m\u001b[38;5;132;01m{\u001b[39;00mestadisticas_idioma[\u001b[38;5;124m'\u001b[39m\u001b[38;5;124mtotal_textos\u001b[39m\u001b[38;5;124m'\u001b[39m]\u001b[38;5;132;01m}\u001b[39;00m\u001b[38;5;124m\"\u001b[39m)\n\u001b[1;32m    485\u001b[0m     \u001b[38;5;66;03m# Traducir solo los textos necesarios sin crear columnas adicionales\u001b[39;00m\n\u001b[0;32m--> 486\u001b[0m     textos_para_procesar \u001b[38;5;241m=\u001b[39m \u001b[38;5;28;43mself\u001b[39;49m\u001b[38;5;241;43m.\u001b[39;49m\u001b[43m_aplicar_traduccion_temporal\u001b[49m\u001b[43m(\u001b[49m\u001b[43mtextos_para_procesar\u001b[49m\u001b[43m)\u001b[49m\n\u001b[1;32m    487\u001b[0m     \u001b[38;5;28mprint\u001b[39m(\u001b[38;5;124mf\u001b[39m\u001b[38;5;124m\"\u001b[39m\u001b[38;5;124m✅ Traducción completada\u001b[39m\u001b[38;5;124m\"\u001b[39m)\n\u001b[1;32m    488\u001b[0m \u001b[38;5;28;01melse\u001b[39;00m:\n",
      "File \u001b[0;32m~/analisis-automatizado-de-opiniones-turisticas/notebooks/../scripts/topicos/limpieza_texto_mejorado.py:204\u001b[0m, in \u001b[0;36mLimpiadorTextoMejorado._aplicar_traduccion_temporal\u001b[0;34m(self, textos)\u001b[0m\n\u001b[1;32m    202\u001b[0m \u001b[38;5;66;03m# Traducir solo si es inglés\u001b[39;00m\n\u001b[1;32m    203\u001b[0m \u001b[38;5;28;01mif\u001b[39;00m idioma \u001b[38;5;241m==\u001b[39m \u001b[38;5;124m'\u001b[39m\u001b[38;5;124men\u001b[39m\u001b[38;5;124m'\u001b[39m:\n\u001b[0;32m--> 204\u001b[0m     texto_traducido \u001b[38;5;241m=\u001b[39m \u001b[38;5;28;43mself\u001b[39;49m\u001b[38;5;241;43m.\u001b[39;49m\u001b[43mtraductor\u001b[49m\u001b[38;5;241;43m.\u001b[39;49m\u001b[43mtraducir_texto\u001b[49m\u001b[43m(\u001b[49m\u001b[43mtexto\u001b[49m\u001b[43m)\u001b[49m\n\u001b[1;32m    205\u001b[0m     textos_procesados\u001b[38;5;241m.\u001b[39mappend(texto_traducido)\n\u001b[1;32m    206\u001b[0m \u001b[38;5;28;01melse\u001b[39;00m:\n",
      "File \u001b[0;32m~/analisis-automatizado-de-opiniones-turisticas/notebooks/../scripts/topicos/traductor_textos.py:71\u001b[0m, in \u001b[0;36mTraductorTextos.traducir_texto\u001b[0;34m(self, texto)\u001b[0m\n\u001b[1;32m     68\u001b[0m     \u001b[38;5;28;01mreturn\u001b[39;00m texto\n\u001b[1;32m     70\u001b[0m inputs \u001b[38;5;241m=\u001b[39m \u001b[38;5;28mself\u001b[39m\u001b[38;5;241m.\u001b[39mtokenizer(texto_str, return_tensors\u001b[38;5;241m=\u001b[39m\u001b[38;5;124m\"\u001b[39m\u001b[38;5;124mpt\u001b[39m\u001b[38;5;124m\"\u001b[39m, padding\u001b[38;5;241m=\u001b[39m\u001b[38;5;28;01mTrue\u001b[39;00m, truncation\u001b[38;5;241m=\u001b[39m\u001b[38;5;28;01mTrue\u001b[39;00m, max_length\u001b[38;5;241m=\u001b[39m\u001b[38;5;241m512\u001b[39m)\n\u001b[0;32m---> 71\u001b[0m outputs \u001b[38;5;241m=\u001b[39m \u001b[38;5;28;43mself\u001b[39;49m\u001b[38;5;241;43m.\u001b[39;49m\u001b[43mmodel\u001b[49m\u001b[38;5;241;43m.\u001b[39;49m\u001b[43mgenerate\u001b[49m\u001b[43m(\u001b[49m\u001b[38;5;241;43m*\u001b[39;49m\u001b[38;5;241;43m*\u001b[39;49m\u001b[43minputs\u001b[49m\u001b[43m,\u001b[49m\u001b[43m \u001b[49m\u001b[43mmax_length\u001b[49m\u001b[38;5;241;43m=\u001b[39;49m\u001b[38;5;241;43m512\u001b[39;49m\u001b[43m,\u001b[49m\u001b[43m \u001b[49m\u001b[43mnum_beams\u001b[49m\u001b[38;5;241;43m=\u001b[39;49m\u001b[38;5;241;43m4\u001b[39;49m\u001b[43m,\u001b[49m\u001b[43m \u001b[49m\u001b[43mearly_stopping\u001b[49m\u001b[38;5;241;43m=\u001b[39;49m\u001b[38;5;28;43;01mTrue\u001b[39;49;00m\u001b[43m)\u001b[49m\n\u001b[1;32m     72\u001b[0m traduccion \u001b[38;5;241m=\u001b[39m \u001b[38;5;28mself\u001b[39m\u001b[38;5;241m.\u001b[39mtokenizer\u001b[38;5;241m.\u001b[39mdecode(outputs[\u001b[38;5;241m0\u001b[39m], skip_special_tokens\u001b[38;5;241m=\u001b[39m\u001b[38;5;28;01mTrue\u001b[39;00m)\n\u001b[1;32m     74\u001b[0m \u001b[38;5;28;01mreturn\u001b[39;00m traduccion\n",
      "File \u001b[0;32m~/miniconda3/envs/analisis-automatizado-de-opiniones-turisticas/lib/python3.10/site-packages/torch/utils/_contextlib.py:120\u001b[0m, in \u001b[0;36mcontext_decorator.<locals>.decorate_context\u001b[0;34m(*args, **kwargs)\u001b[0m\n\u001b[1;32m    117\u001b[0m \u001b[38;5;129m@functools\u001b[39m\u001b[38;5;241m.\u001b[39mwraps(func)\n\u001b[1;32m    118\u001b[0m \u001b[38;5;28;01mdef\u001b[39;00m \u001b[38;5;21mdecorate_context\u001b[39m(\u001b[38;5;241m*\u001b[39margs, \u001b[38;5;241m*\u001b[39m\u001b[38;5;241m*\u001b[39mkwargs):\n\u001b[1;32m    119\u001b[0m     \u001b[38;5;28;01mwith\u001b[39;00m ctx_factory():\n\u001b[0;32m--> 120\u001b[0m         \u001b[38;5;28;01mreturn\u001b[39;00m \u001b[43mfunc\u001b[49m\u001b[43m(\u001b[49m\u001b[38;5;241;43m*\u001b[39;49m\u001b[43margs\u001b[49m\u001b[43m,\u001b[49m\u001b[43m \u001b[49m\u001b[38;5;241;43m*\u001b[39;49m\u001b[38;5;241;43m*\u001b[39;49m\u001b[43mkwargs\u001b[49m\u001b[43m)\u001b[49m\n",
      "File \u001b[0;32m~/miniconda3/envs/analisis-automatizado-de-opiniones-turisticas/lib/python3.10/site-packages/transformers/generation/utils.py:2484\u001b[0m, in \u001b[0;36mGenerationMixin.generate\u001b[0;34m(self, inputs, generation_config, logits_processor, stopping_criteria, prefix_allowed_tokens_fn, synced_gpus, assistant_model, streamer, negative_prompt_ids, negative_prompt_attention_mask, use_model_defaults, **kwargs)\u001b[0m\n\u001b[1;32m   2477\u001b[0m     input_ids, model_kwargs \u001b[38;5;241m=\u001b[39m \u001b[38;5;28mself\u001b[39m\u001b[38;5;241m.\u001b[39m_expand_inputs_for_generation(\n\u001b[1;32m   2478\u001b[0m         input_ids\u001b[38;5;241m=\u001b[39minput_ids,\n\u001b[1;32m   2479\u001b[0m         expand_size\u001b[38;5;241m=\u001b[39mgeneration_config\u001b[38;5;241m.\u001b[39mnum_beams,\n\u001b[1;32m   2480\u001b[0m         is_encoder_decoder\u001b[38;5;241m=\u001b[39m\u001b[38;5;28mself\u001b[39m\u001b[38;5;241m.\u001b[39mconfig\u001b[38;5;241m.\u001b[39mis_encoder_decoder,\n\u001b[1;32m   2481\u001b[0m         \u001b[38;5;241m*\u001b[39m\u001b[38;5;241m*\u001b[39mmodel_kwargs,\n\u001b[1;32m   2482\u001b[0m     )\n\u001b[1;32m   2483\u001b[0m     \u001b[38;5;66;03m# 12. run beam sample\u001b[39;00m\n\u001b[0;32m-> 2484\u001b[0m     result \u001b[38;5;241m=\u001b[39m \u001b[38;5;28;43mself\u001b[39;49m\u001b[38;5;241;43m.\u001b[39;49m\u001b[43m_beam_search\u001b[49m\u001b[43m(\u001b[49m\n\u001b[1;32m   2485\u001b[0m \u001b[43m        \u001b[49m\u001b[43minput_ids\u001b[49m\u001b[43m,\u001b[49m\n\u001b[1;32m   2486\u001b[0m \u001b[43m        \u001b[49m\u001b[43mlogits_processor\u001b[49m\u001b[38;5;241;43m=\u001b[39;49m\u001b[43mprepared_logits_processor\u001b[49m\u001b[43m,\u001b[49m\n\u001b[1;32m   2487\u001b[0m \u001b[43m        \u001b[49m\u001b[43mstopping_criteria\u001b[49m\u001b[38;5;241;43m=\u001b[39;49m\u001b[43mprepared_stopping_criteria\u001b[49m\u001b[43m,\u001b[49m\n\u001b[1;32m   2488\u001b[0m \u001b[43m        \u001b[49m\u001b[43mgeneration_config\u001b[49m\u001b[38;5;241;43m=\u001b[39;49m\u001b[43mgeneration_config\u001b[49m\u001b[43m,\u001b[49m\n\u001b[1;32m   2489\u001b[0m \u001b[43m        \u001b[49m\u001b[43msynced_gpus\u001b[49m\u001b[38;5;241;43m=\u001b[39;49m\u001b[43msynced_gpus\u001b[49m\u001b[43m,\u001b[49m\n\u001b[1;32m   2490\u001b[0m \u001b[43m        \u001b[49m\u001b[38;5;241;43m*\u001b[39;49m\u001b[38;5;241;43m*\u001b[39;49m\u001b[43mmodel_kwargs\u001b[49m\u001b[43m,\u001b[49m\n\u001b[1;32m   2491\u001b[0m \u001b[43m    \u001b[49m\u001b[43m)\u001b[49m\n\u001b[1;32m   2493\u001b[0m \u001b[38;5;28;01melif\u001b[39;00m generation_mode \u001b[38;5;241m==\u001b[39m GenerationMode\u001b[38;5;241m.\u001b[39mGROUP_BEAM_SEARCH:\n\u001b[1;32m   2494\u001b[0m     \u001b[38;5;66;03m# 11. prepare beam search scorer\u001b[39;00m\n\u001b[1;32m   2495\u001b[0m     beam_scorer \u001b[38;5;241m=\u001b[39m BeamSearchScorer(\n\u001b[1;32m   2496\u001b[0m         batch_size\u001b[38;5;241m=\u001b[39mbatch_size,\n\u001b[1;32m   2497\u001b[0m         num_beams\u001b[38;5;241m=\u001b[39mgeneration_config\u001b[38;5;241m.\u001b[39mnum_beams,\n\u001b[0;32m   (...)\u001b[0m\n\u001b[1;32m   2503\u001b[0m         max_length\u001b[38;5;241m=\u001b[39mgeneration_config\u001b[38;5;241m.\u001b[39mmax_length,\n\u001b[1;32m   2504\u001b[0m     )\n",
      "File \u001b[0;32m~/miniconda3/envs/analisis-automatizado-de-opiniones-turisticas/lib/python3.10/site-packages/transformers/generation/utils.py:3904\u001b[0m, in \u001b[0;36mGenerationMixin._beam_search\u001b[0;34m(self, input_ids, logits_processor, stopping_criteria, generation_config, synced_gpus, **model_kwargs)\u001b[0m\n\u001b[1;32m   3901\u001b[0m model_inputs\u001b[38;5;241m.\u001b[39mupdate({\u001b[38;5;124m\"\u001b[39m\u001b[38;5;124moutput_attentions\u001b[39m\u001b[38;5;124m\"\u001b[39m: output_attentions} \u001b[38;5;28;01mif\u001b[39;00m output_attentions \u001b[38;5;28;01melse\u001b[39;00m {})\n\u001b[1;32m   3902\u001b[0m model_inputs\u001b[38;5;241m.\u001b[39mupdate({\u001b[38;5;124m\"\u001b[39m\u001b[38;5;124moutput_hidden_states\u001b[39m\u001b[38;5;124m\"\u001b[39m: output_hidden_states} \u001b[38;5;28;01mif\u001b[39;00m output_hidden_states \u001b[38;5;28;01melse\u001b[39;00m {})\n\u001b[0;32m-> 3904\u001b[0m model_outputs \u001b[38;5;241m=\u001b[39m \u001b[38;5;28;43mself\u001b[39;49m\u001b[43m(\u001b[49m\u001b[38;5;241;43m*\u001b[39;49m\u001b[38;5;241;43m*\u001b[39;49m\u001b[43mmodel_inputs\u001b[49m\u001b[43m,\u001b[49m\u001b[43m \u001b[49m\u001b[43mreturn_dict\u001b[49m\u001b[38;5;241;43m=\u001b[39;49m\u001b[38;5;28;43;01mTrue\u001b[39;49;00m\u001b[43m)\u001b[49m\n\u001b[1;32m   3906\u001b[0m \u001b[38;5;66;03m# synced_gpus: don't waste resources running the code we don't need; kwargs must be updated before skipping\u001b[39;00m\n\u001b[1;32m   3907\u001b[0m model_kwargs \u001b[38;5;241m=\u001b[39m \u001b[38;5;28mself\u001b[39m\u001b[38;5;241m.\u001b[39m_update_model_kwargs_for_generation(\n\u001b[1;32m   3908\u001b[0m     model_outputs,\n\u001b[1;32m   3909\u001b[0m     model_kwargs,\n\u001b[1;32m   3910\u001b[0m     is_encoder_decoder\u001b[38;5;241m=\u001b[39m\u001b[38;5;28mself\u001b[39m\u001b[38;5;241m.\u001b[39mconfig\u001b[38;5;241m.\u001b[39mis_encoder_decoder,\n\u001b[1;32m   3911\u001b[0m )\n",
      "File \u001b[0;32m~/miniconda3/envs/analisis-automatizado-de-opiniones-turisticas/lib/python3.10/site-packages/torch/nn/modules/module.py:1773\u001b[0m, in \u001b[0;36mModule._wrapped_call_impl\u001b[0;34m(self, *args, **kwargs)\u001b[0m\n\u001b[1;32m   1771\u001b[0m     \u001b[38;5;28;01mreturn\u001b[39;00m \u001b[38;5;28mself\u001b[39m\u001b[38;5;241m.\u001b[39m_compiled_call_impl(\u001b[38;5;241m*\u001b[39margs, \u001b[38;5;241m*\u001b[39m\u001b[38;5;241m*\u001b[39mkwargs)  \u001b[38;5;66;03m# type: ignore[misc]\u001b[39;00m\n\u001b[1;32m   1772\u001b[0m \u001b[38;5;28;01melse\u001b[39;00m:\n\u001b[0;32m-> 1773\u001b[0m     \u001b[38;5;28;01mreturn\u001b[39;00m \u001b[38;5;28;43mself\u001b[39;49m\u001b[38;5;241;43m.\u001b[39;49m\u001b[43m_call_impl\u001b[49m\u001b[43m(\u001b[49m\u001b[38;5;241;43m*\u001b[39;49m\u001b[43margs\u001b[49m\u001b[43m,\u001b[49m\u001b[43m \u001b[49m\u001b[38;5;241;43m*\u001b[39;49m\u001b[38;5;241;43m*\u001b[39;49m\u001b[43mkwargs\u001b[49m\u001b[43m)\u001b[49m\n",
      "File \u001b[0;32m~/miniconda3/envs/analisis-automatizado-de-opiniones-turisticas/lib/python3.10/site-packages/torch/nn/modules/module.py:1784\u001b[0m, in \u001b[0;36mModule._call_impl\u001b[0;34m(self, *args, **kwargs)\u001b[0m\n\u001b[1;32m   1779\u001b[0m \u001b[38;5;66;03m# If we don't have any hooks, we want to skip the rest of the logic in\u001b[39;00m\n\u001b[1;32m   1780\u001b[0m \u001b[38;5;66;03m# this function, and just call forward.\u001b[39;00m\n\u001b[1;32m   1781\u001b[0m \u001b[38;5;28;01mif\u001b[39;00m \u001b[38;5;129;01mnot\u001b[39;00m (\u001b[38;5;28mself\u001b[39m\u001b[38;5;241m.\u001b[39m_backward_hooks \u001b[38;5;129;01mor\u001b[39;00m \u001b[38;5;28mself\u001b[39m\u001b[38;5;241m.\u001b[39m_backward_pre_hooks \u001b[38;5;129;01mor\u001b[39;00m \u001b[38;5;28mself\u001b[39m\u001b[38;5;241m.\u001b[39m_forward_hooks \u001b[38;5;129;01mor\u001b[39;00m \u001b[38;5;28mself\u001b[39m\u001b[38;5;241m.\u001b[39m_forward_pre_hooks\n\u001b[1;32m   1782\u001b[0m         \u001b[38;5;129;01mor\u001b[39;00m _global_backward_pre_hooks \u001b[38;5;129;01mor\u001b[39;00m _global_backward_hooks\n\u001b[1;32m   1783\u001b[0m         \u001b[38;5;129;01mor\u001b[39;00m _global_forward_hooks \u001b[38;5;129;01mor\u001b[39;00m _global_forward_pre_hooks):\n\u001b[0;32m-> 1784\u001b[0m     \u001b[38;5;28;01mreturn\u001b[39;00m \u001b[43mforward_call\u001b[49m\u001b[43m(\u001b[49m\u001b[38;5;241;43m*\u001b[39;49m\u001b[43margs\u001b[49m\u001b[43m,\u001b[49m\u001b[43m \u001b[49m\u001b[38;5;241;43m*\u001b[39;49m\u001b[38;5;241;43m*\u001b[39;49m\u001b[43mkwargs\u001b[49m\u001b[43m)\u001b[49m\n\u001b[1;32m   1786\u001b[0m result \u001b[38;5;241m=\u001b[39m \u001b[38;5;28;01mNone\u001b[39;00m\n\u001b[1;32m   1787\u001b[0m called_always_called_hooks \u001b[38;5;241m=\u001b[39m \u001b[38;5;28mset\u001b[39m()\n",
      "File \u001b[0;32m~/miniconda3/envs/analisis-automatizado-de-opiniones-turisticas/lib/python3.10/site-packages/transformers/models/marian/modeling_marian.py:1400\u001b[0m, in \u001b[0;36mMarianMTModel.forward\u001b[0;34m(self, input_ids, attention_mask, decoder_input_ids, decoder_attention_mask, head_mask, decoder_head_mask, cross_attn_head_mask, encoder_outputs, past_key_values, inputs_embeds, decoder_inputs_embeds, labels, use_cache, output_attentions, output_hidden_states, return_dict)\u001b[0m\n\u001b[1;32m   1395\u001b[0m     \u001b[38;5;28;01mif\u001b[39;00m decoder_input_ids \u001b[38;5;129;01mis\u001b[39;00m \u001b[38;5;28;01mNone\u001b[39;00m \u001b[38;5;129;01mand\u001b[39;00m decoder_inputs_embeds \u001b[38;5;129;01mis\u001b[39;00m \u001b[38;5;28;01mNone\u001b[39;00m:\n\u001b[1;32m   1396\u001b[0m         decoder_input_ids \u001b[38;5;241m=\u001b[39m shift_tokens_right(\n\u001b[1;32m   1397\u001b[0m             labels, \u001b[38;5;28mself\u001b[39m\u001b[38;5;241m.\u001b[39mconfig\u001b[38;5;241m.\u001b[39mpad_token_id, \u001b[38;5;28mself\u001b[39m\u001b[38;5;241m.\u001b[39mconfig\u001b[38;5;241m.\u001b[39mdecoder_start_token_id\n\u001b[1;32m   1398\u001b[0m         )\n\u001b[0;32m-> 1400\u001b[0m outputs \u001b[38;5;241m=\u001b[39m \u001b[38;5;28;43mself\u001b[39;49m\u001b[38;5;241;43m.\u001b[39;49m\u001b[43mmodel\u001b[49m\u001b[43m(\u001b[49m\n\u001b[1;32m   1401\u001b[0m \u001b[43m    \u001b[49m\u001b[43minput_ids\u001b[49m\u001b[43m,\u001b[49m\n\u001b[1;32m   1402\u001b[0m \u001b[43m    \u001b[49m\u001b[43mattention_mask\u001b[49m\u001b[38;5;241;43m=\u001b[39;49m\u001b[43mattention_mask\u001b[49m\u001b[43m,\u001b[49m\n\u001b[1;32m   1403\u001b[0m \u001b[43m    \u001b[49m\u001b[43mdecoder_input_ids\u001b[49m\u001b[38;5;241;43m=\u001b[39;49m\u001b[43mdecoder_input_ids\u001b[49m\u001b[43m,\u001b[49m\n\u001b[1;32m   1404\u001b[0m \u001b[43m    \u001b[49m\u001b[43mencoder_outputs\u001b[49m\u001b[38;5;241;43m=\u001b[39;49m\u001b[43mencoder_outputs\u001b[49m\u001b[43m,\u001b[49m\n\u001b[1;32m   1405\u001b[0m \u001b[43m    \u001b[49m\u001b[43mdecoder_attention_mask\u001b[49m\u001b[38;5;241;43m=\u001b[39;49m\u001b[43mdecoder_attention_mask\u001b[49m\u001b[43m,\u001b[49m\n\u001b[1;32m   1406\u001b[0m \u001b[43m    \u001b[49m\u001b[43mhead_mask\u001b[49m\u001b[38;5;241;43m=\u001b[39;49m\u001b[43mhead_mask\u001b[49m\u001b[43m,\u001b[49m\n\u001b[1;32m   1407\u001b[0m \u001b[43m    \u001b[49m\u001b[43mdecoder_head_mask\u001b[49m\u001b[38;5;241;43m=\u001b[39;49m\u001b[43mdecoder_head_mask\u001b[49m\u001b[43m,\u001b[49m\n\u001b[1;32m   1408\u001b[0m \u001b[43m    \u001b[49m\u001b[43mcross_attn_head_mask\u001b[49m\u001b[38;5;241;43m=\u001b[39;49m\u001b[43mcross_attn_head_mask\u001b[49m\u001b[43m,\u001b[49m\n\u001b[1;32m   1409\u001b[0m \u001b[43m    \u001b[49m\u001b[43mpast_key_values\u001b[49m\u001b[38;5;241;43m=\u001b[39;49m\u001b[43mpast_key_values\u001b[49m\u001b[43m,\u001b[49m\n\u001b[1;32m   1410\u001b[0m \u001b[43m    \u001b[49m\u001b[43minputs_embeds\u001b[49m\u001b[38;5;241;43m=\u001b[39;49m\u001b[43minputs_embeds\u001b[49m\u001b[43m,\u001b[49m\n\u001b[1;32m   1411\u001b[0m \u001b[43m    \u001b[49m\u001b[43mdecoder_inputs_embeds\u001b[49m\u001b[38;5;241;43m=\u001b[39;49m\u001b[43mdecoder_inputs_embeds\u001b[49m\u001b[43m,\u001b[49m\n\u001b[1;32m   1412\u001b[0m \u001b[43m    \u001b[49m\u001b[43muse_cache\u001b[49m\u001b[38;5;241;43m=\u001b[39;49m\u001b[43muse_cache\u001b[49m\u001b[43m,\u001b[49m\n\u001b[1;32m   1413\u001b[0m \u001b[43m    \u001b[49m\u001b[43moutput_attentions\u001b[49m\u001b[38;5;241;43m=\u001b[39;49m\u001b[43moutput_attentions\u001b[49m\u001b[43m,\u001b[49m\n\u001b[1;32m   1414\u001b[0m \u001b[43m    \u001b[49m\u001b[43moutput_hidden_states\u001b[49m\u001b[38;5;241;43m=\u001b[39;49m\u001b[43moutput_hidden_states\u001b[49m\u001b[43m,\u001b[49m\n\u001b[1;32m   1415\u001b[0m \u001b[43m    \u001b[49m\u001b[43mreturn_dict\u001b[49m\u001b[38;5;241;43m=\u001b[39;49m\u001b[43mreturn_dict\u001b[49m\u001b[43m,\u001b[49m\n\u001b[1;32m   1416\u001b[0m \u001b[43m\u001b[49m\u001b[43m)\u001b[49m\n\u001b[1;32m   1417\u001b[0m lm_logits \u001b[38;5;241m=\u001b[39m \u001b[38;5;28mself\u001b[39m\u001b[38;5;241m.\u001b[39mlm_head(outputs[\u001b[38;5;241m0\u001b[39m]) \u001b[38;5;241m+\u001b[39m \u001b[38;5;28mself\u001b[39m\u001b[38;5;241m.\u001b[39mfinal_logits_bias\n\u001b[1;32m   1419\u001b[0m masked_lm_loss \u001b[38;5;241m=\u001b[39m \u001b[38;5;28;01mNone\u001b[39;00m\n",
      "File \u001b[0;32m~/miniconda3/envs/analisis-automatizado-de-opiniones-turisticas/lib/python3.10/site-packages/torch/nn/modules/module.py:1773\u001b[0m, in \u001b[0;36mModule._wrapped_call_impl\u001b[0;34m(self, *args, **kwargs)\u001b[0m\n\u001b[1;32m   1771\u001b[0m     \u001b[38;5;28;01mreturn\u001b[39;00m \u001b[38;5;28mself\u001b[39m\u001b[38;5;241m.\u001b[39m_compiled_call_impl(\u001b[38;5;241m*\u001b[39margs, \u001b[38;5;241m*\u001b[39m\u001b[38;5;241m*\u001b[39mkwargs)  \u001b[38;5;66;03m# type: ignore[misc]\u001b[39;00m\n\u001b[1;32m   1772\u001b[0m \u001b[38;5;28;01melse\u001b[39;00m:\n\u001b[0;32m-> 1773\u001b[0m     \u001b[38;5;28;01mreturn\u001b[39;00m \u001b[38;5;28;43mself\u001b[39;49m\u001b[38;5;241;43m.\u001b[39;49m\u001b[43m_call_impl\u001b[49m\u001b[43m(\u001b[49m\u001b[38;5;241;43m*\u001b[39;49m\u001b[43margs\u001b[49m\u001b[43m,\u001b[49m\u001b[43m \u001b[49m\u001b[38;5;241;43m*\u001b[39;49m\u001b[38;5;241;43m*\u001b[39;49m\u001b[43mkwargs\u001b[49m\u001b[43m)\u001b[49m\n",
      "File \u001b[0;32m~/miniconda3/envs/analisis-automatizado-de-opiniones-turisticas/lib/python3.10/site-packages/torch/nn/modules/module.py:1784\u001b[0m, in \u001b[0;36mModule._call_impl\u001b[0;34m(self, *args, **kwargs)\u001b[0m\n\u001b[1;32m   1779\u001b[0m \u001b[38;5;66;03m# If we don't have any hooks, we want to skip the rest of the logic in\u001b[39;00m\n\u001b[1;32m   1780\u001b[0m \u001b[38;5;66;03m# this function, and just call forward.\u001b[39;00m\n\u001b[1;32m   1781\u001b[0m \u001b[38;5;28;01mif\u001b[39;00m \u001b[38;5;129;01mnot\u001b[39;00m (\u001b[38;5;28mself\u001b[39m\u001b[38;5;241m.\u001b[39m_backward_hooks \u001b[38;5;129;01mor\u001b[39;00m \u001b[38;5;28mself\u001b[39m\u001b[38;5;241m.\u001b[39m_backward_pre_hooks \u001b[38;5;129;01mor\u001b[39;00m \u001b[38;5;28mself\u001b[39m\u001b[38;5;241m.\u001b[39m_forward_hooks \u001b[38;5;129;01mor\u001b[39;00m \u001b[38;5;28mself\u001b[39m\u001b[38;5;241m.\u001b[39m_forward_pre_hooks\n\u001b[1;32m   1782\u001b[0m         \u001b[38;5;129;01mor\u001b[39;00m _global_backward_pre_hooks \u001b[38;5;129;01mor\u001b[39;00m _global_backward_hooks\n\u001b[1;32m   1783\u001b[0m         \u001b[38;5;129;01mor\u001b[39;00m _global_forward_hooks \u001b[38;5;129;01mor\u001b[39;00m _global_forward_pre_hooks):\n\u001b[0;32m-> 1784\u001b[0m     \u001b[38;5;28;01mreturn\u001b[39;00m \u001b[43mforward_call\u001b[49m\u001b[43m(\u001b[49m\u001b[38;5;241;43m*\u001b[39;49m\u001b[43margs\u001b[49m\u001b[43m,\u001b[49m\u001b[43m \u001b[49m\u001b[38;5;241;43m*\u001b[39;49m\u001b[38;5;241;43m*\u001b[39;49m\u001b[43mkwargs\u001b[49m\u001b[43m)\u001b[49m\n\u001b[1;32m   1786\u001b[0m result \u001b[38;5;241m=\u001b[39m \u001b[38;5;28;01mNone\u001b[39;00m\n\u001b[1;32m   1787\u001b[0m called_always_called_hooks \u001b[38;5;241m=\u001b[39m \u001b[38;5;28mset\u001b[39m()\n",
      "File \u001b[0;32m~/miniconda3/envs/analisis-automatizado-de-opiniones-turisticas/lib/python3.10/site-packages/transformers/models/marian/modeling_marian.py:1192\u001b[0m, in \u001b[0;36mMarianModel.forward\u001b[0;34m(self, input_ids, attention_mask, decoder_input_ids, decoder_attention_mask, head_mask, decoder_head_mask, cross_attn_head_mask, encoder_outputs, past_key_values, inputs_embeds, decoder_inputs_embeds, use_cache, output_attentions, output_hidden_states, return_dict)\u001b[0m\n\u001b[1;32m   1185\u001b[0m     encoder_outputs \u001b[38;5;241m=\u001b[39m BaseModelOutput(\n\u001b[1;32m   1186\u001b[0m         last_hidden_state\u001b[38;5;241m=\u001b[39mencoder_outputs[\u001b[38;5;241m0\u001b[39m],\n\u001b[1;32m   1187\u001b[0m         hidden_states\u001b[38;5;241m=\u001b[39mencoder_outputs[\u001b[38;5;241m1\u001b[39m] \u001b[38;5;28;01mif\u001b[39;00m \u001b[38;5;28mlen\u001b[39m(encoder_outputs) \u001b[38;5;241m>\u001b[39m \u001b[38;5;241m1\u001b[39m \u001b[38;5;28;01melse\u001b[39;00m \u001b[38;5;28;01mNone\u001b[39;00m,\n\u001b[1;32m   1188\u001b[0m         attentions\u001b[38;5;241m=\u001b[39mencoder_outputs[\u001b[38;5;241m2\u001b[39m] \u001b[38;5;28;01mif\u001b[39;00m \u001b[38;5;28mlen\u001b[39m(encoder_outputs) \u001b[38;5;241m>\u001b[39m \u001b[38;5;241m2\u001b[39m \u001b[38;5;28;01melse\u001b[39;00m \u001b[38;5;28;01mNone\u001b[39;00m,\n\u001b[1;32m   1189\u001b[0m     )\n\u001b[1;32m   1191\u001b[0m \u001b[38;5;66;03m# decoder outputs consists of (dec_features, past_key_value, dec_hidden, dec_attn)\u001b[39;00m\n\u001b[0;32m-> 1192\u001b[0m decoder_outputs \u001b[38;5;241m=\u001b[39m \u001b[38;5;28;43mself\u001b[39;49m\u001b[38;5;241;43m.\u001b[39;49m\u001b[43mdecoder\u001b[49m\u001b[43m(\u001b[49m\n\u001b[1;32m   1193\u001b[0m \u001b[43m    \u001b[49m\u001b[43minput_ids\u001b[49m\u001b[38;5;241;43m=\u001b[39;49m\u001b[43mdecoder_input_ids\u001b[49m\u001b[43m,\u001b[49m\n\u001b[1;32m   1194\u001b[0m \u001b[43m    \u001b[49m\u001b[43mattention_mask\u001b[49m\u001b[38;5;241;43m=\u001b[39;49m\u001b[43mdecoder_attention_mask\u001b[49m\u001b[43m,\u001b[49m\n\u001b[1;32m   1195\u001b[0m \u001b[43m    \u001b[49m\u001b[43mencoder_hidden_states\u001b[49m\u001b[38;5;241;43m=\u001b[39;49m\u001b[43mencoder_outputs\u001b[49m\u001b[43m[\u001b[49m\u001b[38;5;241;43m0\u001b[39;49m\u001b[43m]\u001b[49m\u001b[43m,\u001b[49m\n\u001b[1;32m   1196\u001b[0m \u001b[43m    \u001b[49m\u001b[43mencoder_attention_mask\u001b[49m\u001b[38;5;241;43m=\u001b[39;49m\u001b[43mattention_mask\u001b[49m\u001b[43m,\u001b[49m\n\u001b[1;32m   1197\u001b[0m \u001b[43m    \u001b[49m\u001b[43mhead_mask\u001b[49m\u001b[38;5;241;43m=\u001b[39;49m\u001b[43mdecoder_head_mask\u001b[49m\u001b[43m,\u001b[49m\n\u001b[1;32m   1198\u001b[0m \u001b[43m    \u001b[49m\u001b[43mcross_attn_head_mask\u001b[49m\u001b[38;5;241;43m=\u001b[39;49m\u001b[43mcross_attn_head_mask\u001b[49m\u001b[43m,\u001b[49m\n\u001b[1;32m   1199\u001b[0m \u001b[43m    \u001b[49m\u001b[43mpast_key_values\u001b[49m\u001b[38;5;241;43m=\u001b[39;49m\u001b[43mpast_key_values\u001b[49m\u001b[43m,\u001b[49m\n\u001b[1;32m   1200\u001b[0m \u001b[43m    \u001b[49m\u001b[43minputs_embeds\u001b[49m\u001b[38;5;241;43m=\u001b[39;49m\u001b[43mdecoder_inputs_embeds\u001b[49m\u001b[43m,\u001b[49m\n\u001b[1;32m   1201\u001b[0m \u001b[43m    \u001b[49m\u001b[43muse_cache\u001b[49m\u001b[38;5;241;43m=\u001b[39;49m\u001b[43muse_cache\u001b[49m\u001b[43m,\u001b[49m\n\u001b[1;32m   1202\u001b[0m \u001b[43m    \u001b[49m\u001b[43moutput_attentions\u001b[49m\u001b[38;5;241;43m=\u001b[39;49m\u001b[43moutput_attentions\u001b[49m\u001b[43m,\u001b[49m\n\u001b[1;32m   1203\u001b[0m \u001b[43m    \u001b[49m\u001b[43moutput_hidden_states\u001b[49m\u001b[38;5;241;43m=\u001b[39;49m\u001b[43moutput_hidden_states\u001b[49m\u001b[43m,\u001b[49m\n\u001b[1;32m   1204\u001b[0m \u001b[43m    \u001b[49m\u001b[43mreturn_dict\u001b[49m\u001b[38;5;241;43m=\u001b[39;49m\u001b[43mreturn_dict\u001b[49m\u001b[43m,\u001b[49m\n\u001b[1;32m   1205\u001b[0m \u001b[43m\u001b[49m\u001b[43m)\u001b[49m\n\u001b[1;32m   1207\u001b[0m \u001b[38;5;28;01mif\u001b[39;00m \u001b[38;5;129;01mnot\u001b[39;00m return_dict:\n\u001b[1;32m   1208\u001b[0m     \u001b[38;5;28;01mreturn\u001b[39;00m decoder_outputs \u001b[38;5;241m+\u001b[39m encoder_outputs\n",
      "File \u001b[0;32m~/miniconda3/envs/analisis-automatizado-de-opiniones-turisticas/lib/python3.10/site-packages/torch/nn/modules/module.py:1773\u001b[0m, in \u001b[0;36mModule._wrapped_call_impl\u001b[0;34m(self, *args, **kwargs)\u001b[0m\n\u001b[1;32m   1771\u001b[0m     \u001b[38;5;28;01mreturn\u001b[39;00m \u001b[38;5;28mself\u001b[39m\u001b[38;5;241m.\u001b[39m_compiled_call_impl(\u001b[38;5;241m*\u001b[39margs, \u001b[38;5;241m*\u001b[39m\u001b[38;5;241m*\u001b[39mkwargs)  \u001b[38;5;66;03m# type: ignore[misc]\u001b[39;00m\n\u001b[1;32m   1772\u001b[0m \u001b[38;5;28;01melse\u001b[39;00m:\n\u001b[0;32m-> 1773\u001b[0m     \u001b[38;5;28;01mreturn\u001b[39;00m \u001b[38;5;28;43mself\u001b[39;49m\u001b[38;5;241;43m.\u001b[39;49m\u001b[43m_call_impl\u001b[49m\u001b[43m(\u001b[49m\u001b[38;5;241;43m*\u001b[39;49m\u001b[43margs\u001b[49m\u001b[43m,\u001b[49m\u001b[43m \u001b[49m\u001b[38;5;241;43m*\u001b[39;49m\u001b[38;5;241;43m*\u001b[39;49m\u001b[43mkwargs\u001b[49m\u001b[43m)\u001b[49m\n",
      "File \u001b[0;32m~/miniconda3/envs/analisis-automatizado-de-opiniones-turisticas/lib/python3.10/site-packages/torch/nn/modules/module.py:1784\u001b[0m, in \u001b[0;36mModule._call_impl\u001b[0;34m(self, *args, **kwargs)\u001b[0m\n\u001b[1;32m   1779\u001b[0m \u001b[38;5;66;03m# If we don't have any hooks, we want to skip the rest of the logic in\u001b[39;00m\n\u001b[1;32m   1780\u001b[0m \u001b[38;5;66;03m# this function, and just call forward.\u001b[39;00m\n\u001b[1;32m   1781\u001b[0m \u001b[38;5;28;01mif\u001b[39;00m \u001b[38;5;129;01mnot\u001b[39;00m (\u001b[38;5;28mself\u001b[39m\u001b[38;5;241m.\u001b[39m_backward_hooks \u001b[38;5;129;01mor\u001b[39;00m \u001b[38;5;28mself\u001b[39m\u001b[38;5;241m.\u001b[39m_backward_pre_hooks \u001b[38;5;129;01mor\u001b[39;00m \u001b[38;5;28mself\u001b[39m\u001b[38;5;241m.\u001b[39m_forward_hooks \u001b[38;5;129;01mor\u001b[39;00m \u001b[38;5;28mself\u001b[39m\u001b[38;5;241m.\u001b[39m_forward_pre_hooks\n\u001b[1;32m   1782\u001b[0m         \u001b[38;5;129;01mor\u001b[39;00m _global_backward_pre_hooks \u001b[38;5;129;01mor\u001b[39;00m _global_backward_hooks\n\u001b[1;32m   1783\u001b[0m         \u001b[38;5;129;01mor\u001b[39;00m _global_forward_hooks \u001b[38;5;129;01mor\u001b[39;00m _global_forward_pre_hooks):\n\u001b[0;32m-> 1784\u001b[0m     \u001b[38;5;28;01mreturn\u001b[39;00m \u001b[43mforward_call\u001b[49m\u001b[43m(\u001b[49m\u001b[38;5;241;43m*\u001b[39;49m\u001b[43margs\u001b[49m\u001b[43m,\u001b[49m\u001b[43m \u001b[49m\u001b[38;5;241;43m*\u001b[39;49m\u001b[38;5;241;43m*\u001b[39;49m\u001b[43mkwargs\u001b[49m\u001b[43m)\u001b[49m\n\u001b[1;32m   1786\u001b[0m result \u001b[38;5;241m=\u001b[39m \u001b[38;5;28;01mNone\u001b[39;00m\n\u001b[1;32m   1787\u001b[0m called_always_called_hooks \u001b[38;5;241m=\u001b[39m \u001b[38;5;28mset\u001b[39m()\n",
      "File \u001b[0;32m~/miniconda3/envs/analisis-automatizado-de-opiniones-turisticas/lib/python3.10/site-packages/transformers/models/marian/modeling_marian.py:992\u001b[0m, in \u001b[0;36mMarianDecoder.forward\u001b[0;34m(self, input_ids, attention_mask, encoder_hidden_states, encoder_attention_mask, head_mask, cross_attn_head_mask, past_key_values, inputs_embeds, use_cache, output_attentions, output_hidden_states, return_dict)\u001b[0m\n\u001b[1;32m    979\u001b[0m     layer_outputs \u001b[38;5;241m=\u001b[39m \u001b[38;5;28mself\u001b[39m\u001b[38;5;241m.\u001b[39m_gradient_checkpointing_func(\n\u001b[1;32m    980\u001b[0m         decoder_layer\u001b[38;5;241m.\u001b[39m\u001b[38;5;21m__call__\u001b[39m,\n\u001b[1;32m    981\u001b[0m         hidden_states,\n\u001b[0;32m   (...)\u001b[0m\n\u001b[1;32m    989\u001b[0m         use_cache,\n\u001b[1;32m    990\u001b[0m     )\n\u001b[1;32m    991\u001b[0m \u001b[38;5;28;01melse\u001b[39;00m:\n\u001b[0;32m--> 992\u001b[0m     layer_outputs \u001b[38;5;241m=\u001b[39m \u001b[43mdecoder_layer\u001b[49m\u001b[43m(\u001b[49m\n\u001b[1;32m    993\u001b[0m \u001b[43m        \u001b[49m\u001b[43mhidden_states\u001b[49m\u001b[43m,\u001b[49m\n\u001b[1;32m    994\u001b[0m \u001b[43m        \u001b[49m\u001b[43mattention_mask\u001b[49m\u001b[38;5;241;43m=\u001b[39;49m\u001b[43mattention_mask\u001b[49m\u001b[43m,\u001b[49m\n\u001b[1;32m    995\u001b[0m \u001b[43m        \u001b[49m\u001b[43mencoder_hidden_states\u001b[49m\u001b[38;5;241;43m=\u001b[39;49m\u001b[43mencoder_hidden_states\u001b[49m\u001b[43m,\u001b[49m\n\u001b[1;32m    996\u001b[0m \u001b[43m        \u001b[49m\u001b[43mencoder_attention_mask\u001b[49m\u001b[38;5;241;43m=\u001b[39;49m\u001b[43mencoder_attention_mask\u001b[49m\u001b[43m,\u001b[49m\n\u001b[1;32m    997\u001b[0m \u001b[43m        \u001b[49m\u001b[43mlayer_head_mask\u001b[49m\u001b[38;5;241;43m=\u001b[39;49m\u001b[43m(\u001b[49m\u001b[43mhead_mask\u001b[49m\u001b[43m[\u001b[49m\u001b[43midx\u001b[49m\u001b[43m]\u001b[49m\u001b[43m \u001b[49m\u001b[38;5;28;43;01mif\u001b[39;49;00m\u001b[43m \u001b[49m\u001b[43mhead_mask\u001b[49m\u001b[43m \u001b[49m\u001b[38;5;129;43;01mis\u001b[39;49;00m\u001b[43m \u001b[49m\u001b[38;5;129;43;01mnot\u001b[39;49;00m\u001b[43m \u001b[49m\u001b[38;5;28;43;01mNone\u001b[39;49;00m\u001b[43m \u001b[49m\u001b[38;5;28;43;01melse\u001b[39;49;00m\u001b[43m \u001b[49m\u001b[38;5;28;43;01mNone\u001b[39;49;00m\u001b[43m)\u001b[49m\u001b[43m,\u001b[49m\n\u001b[1;32m    998\u001b[0m \u001b[43m        \u001b[49m\u001b[43mcross_attn_layer_head_mask\u001b[49m\u001b[38;5;241;43m=\u001b[39;49m\u001b[43m(\u001b[49m\n\u001b[1;32m    999\u001b[0m \u001b[43m            \u001b[49m\u001b[43mcross_attn_head_mask\u001b[49m\u001b[43m[\u001b[49m\u001b[43midx\u001b[49m\u001b[43m]\u001b[49m\u001b[43m \u001b[49m\u001b[38;5;28;43;01mif\u001b[39;49;00m\u001b[43m \u001b[49m\u001b[43mcross_attn_head_mask\u001b[49m\u001b[43m \u001b[49m\u001b[38;5;129;43;01mis\u001b[39;49;00m\u001b[43m \u001b[49m\u001b[38;5;129;43;01mnot\u001b[39;49;00m\u001b[43m \u001b[49m\u001b[38;5;28;43;01mNone\u001b[39;49;00m\u001b[43m \u001b[49m\u001b[38;5;28;43;01melse\u001b[39;49;00m\u001b[43m \u001b[49m\u001b[38;5;28;43;01mNone\u001b[39;49;00m\n\u001b[1;32m   1000\u001b[0m \u001b[43m        \u001b[49m\u001b[43m)\u001b[49m\u001b[43m,\u001b[49m\n\u001b[1;32m   1001\u001b[0m \u001b[43m        \u001b[49m\u001b[43mpast_key_value\u001b[49m\u001b[38;5;241;43m=\u001b[39;49m\u001b[43mpast_key_value\u001b[49m\u001b[43m,\u001b[49m\n\u001b[1;32m   1002\u001b[0m \u001b[43m        \u001b[49m\u001b[43moutput_attentions\u001b[49m\u001b[38;5;241;43m=\u001b[39;49m\u001b[43moutput_attentions\u001b[49m\u001b[43m,\u001b[49m\n\u001b[1;32m   1003\u001b[0m \u001b[43m        \u001b[49m\u001b[43muse_cache\u001b[49m\u001b[38;5;241;43m=\u001b[39;49m\u001b[43muse_cache\u001b[49m\u001b[43m,\u001b[49m\n\u001b[1;32m   1004\u001b[0m \u001b[43m    \u001b[49m\u001b[43m)\u001b[49m\n\u001b[1;32m   1005\u001b[0m hidden_states \u001b[38;5;241m=\u001b[39m layer_outputs[\u001b[38;5;241m0\u001b[39m]\n\u001b[1;32m   1007\u001b[0m \u001b[38;5;28;01mif\u001b[39;00m use_cache:\n",
      "File \u001b[0;32m~/miniconda3/envs/analisis-automatizado-de-opiniones-turisticas/lib/python3.10/site-packages/torch/nn/modules/module.py:1773\u001b[0m, in \u001b[0;36mModule._wrapped_call_impl\u001b[0;34m(self, *args, **kwargs)\u001b[0m\n\u001b[1;32m   1771\u001b[0m     \u001b[38;5;28;01mreturn\u001b[39;00m \u001b[38;5;28mself\u001b[39m\u001b[38;5;241m.\u001b[39m_compiled_call_impl(\u001b[38;5;241m*\u001b[39margs, \u001b[38;5;241m*\u001b[39m\u001b[38;5;241m*\u001b[39mkwargs)  \u001b[38;5;66;03m# type: ignore[misc]\u001b[39;00m\n\u001b[1;32m   1772\u001b[0m \u001b[38;5;28;01melse\u001b[39;00m:\n\u001b[0;32m-> 1773\u001b[0m     \u001b[38;5;28;01mreturn\u001b[39;00m \u001b[38;5;28;43mself\u001b[39;49m\u001b[38;5;241;43m.\u001b[39;49m\u001b[43m_call_impl\u001b[49m\u001b[43m(\u001b[49m\u001b[38;5;241;43m*\u001b[39;49m\u001b[43margs\u001b[49m\u001b[43m,\u001b[49m\u001b[43m \u001b[49m\u001b[38;5;241;43m*\u001b[39;49m\u001b[38;5;241;43m*\u001b[39;49m\u001b[43mkwargs\u001b[49m\u001b[43m)\u001b[49m\n",
      "File \u001b[0;32m~/miniconda3/envs/analisis-automatizado-de-opiniones-turisticas/lib/python3.10/site-packages/torch/nn/modules/module.py:1784\u001b[0m, in \u001b[0;36mModule._call_impl\u001b[0;34m(self, *args, **kwargs)\u001b[0m\n\u001b[1;32m   1779\u001b[0m \u001b[38;5;66;03m# If we don't have any hooks, we want to skip the rest of the logic in\u001b[39;00m\n\u001b[1;32m   1780\u001b[0m \u001b[38;5;66;03m# this function, and just call forward.\u001b[39;00m\n\u001b[1;32m   1781\u001b[0m \u001b[38;5;28;01mif\u001b[39;00m \u001b[38;5;129;01mnot\u001b[39;00m (\u001b[38;5;28mself\u001b[39m\u001b[38;5;241m.\u001b[39m_backward_hooks \u001b[38;5;129;01mor\u001b[39;00m \u001b[38;5;28mself\u001b[39m\u001b[38;5;241m.\u001b[39m_backward_pre_hooks \u001b[38;5;129;01mor\u001b[39;00m \u001b[38;5;28mself\u001b[39m\u001b[38;5;241m.\u001b[39m_forward_hooks \u001b[38;5;129;01mor\u001b[39;00m \u001b[38;5;28mself\u001b[39m\u001b[38;5;241m.\u001b[39m_forward_pre_hooks\n\u001b[1;32m   1782\u001b[0m         \u001b[38;5;129;01mor\u001b[39;00m _global_backward_pre_hooks \u001b[38;5;129;01mor\u001b[39;00m _global_backward_hooks\n\u001b[1;32m   1783\u001b[0m         \u001b[38;5;129;01mor\u001b[39;00m _global_forward_hooks \u001b[38;5;129;01mor\u001b[39;00m _global_forward_pre_hooks):\n\u001b[0;32m-> 1784\u001b[0m     \u001b[38;5;28;01mreturn\u001b[39;00m \u001b[43mforward_call\u001b[49m\u001b[43m(\u001b[49m\u001b[38;5;241;43m*\u001b[39;49m\u001b[43margs\u001b[49m\u001b[43m,\u001b[49m\u001b[43m \u001b[49m\u001b[38;5;241;43m*\u001b[39;49m\u001b[38;5;241;43m*\u001b[39;49m\u001b[43mkwargs\u001b[49m\u001b[43m)\u001b[49m\n\u001b[1;32m   1786\u001b[0m result \u001b[38;5;241m=\u001b[39m \u001b[38;5;28;01mNone\u001b[39;00m\n\u001b[1;32m   1787\u001b[0m called_always_called_hooks \u001b[38;5;241m=\u001b[39m \u001b[38;5;28mset\u001b[39m()\n",
      "File \u001b[0;32m~/miniconda3/envs/analisis-automatizado-de-opiniones-turisticas/lib/python3.10/site-packages/transformers/models/marian/modeling_marian.py:440\u001b[0m, in \u001b[0;36mMarianDecoderLayer.forward\u001b[0;34m(self, hidden_states, attention_mask, encoder_hidden_states, encoder_attention_mask, layer_head_mask, cross_attn_layer_head_mask, past_key_value, output_attentions, use_cache)\u001b[0m\n\u001b[1;32m    438\u001b[0m hidden_states \u001b[38;5;241m=\u001b[39m \u001b[38;5;28mself\u001b[39m\u001b[38;5;241m.\u001b[39mactivation_fn(\u001b[38;5;28mself\u001b[39m\u001b[38;5;241m.\u001b[39mfc1(hidden_states))\n\u001b[1;32m    439\u001b[0m hidden_states \u001b[38;5;241m=\u001b[39m nn\u001b[38;5;241m.\u001b[39mfunctional\u001b[38;5;241m.\u001b[39mdropout(hidden_states, p\u001b[38;5;241m=\u001b[39m\u001b[38;5;28mself\u001b[39m\u001b[38;5;241m.\u001b[39mactivation_dropout, training\u001b[38;5;241m=\u001b[39m\u001b[38;5;28mself\u001b[39m\u001b[38;5;241m.\u001b[39mtraining)\n\u001b[0;32m--> 440\u001b[0m hidden_states \u001b[38;5;241m=\u001b[39m \u001b[38;5;28;43mself\u001b[39;49m\u001b[38;5;241;43m.\u001b[39;49m\u001b[43mfc2\u001b[49m\u001b[43m(\u001b[49m\u001b[43mhidden_states\u001b[49m\u001b[43m)\u001b[49m\n\u001b[1;32m    441\u001b[0m hidden_states \u001b[38;5;241m=\u001b[39m nn\u001b[38;5;241m.\u001b[39mfunctional\u001b[38;5;241m.\u001b[39mdropout(hidden_states, p\u001b[38;5;241m=\u001b[39m\u001b[38;5;28mself\u001b[39m\u001b[38;5;241m.\u001b[39mdropout, training\u001b[38;5;241m=\u001b[39m\u001b[38;5;28mself\u001b[39m\u001b[38;5;241m.\u001b[39mtraining)\n\u001b[1;32m    442\u001b[0m hidden_states \u001b[38;5;241m=\u001b[39m residual \u001b[38;5;241m+\u001b[39m hidden_states\n",
      "File \u001b[0;32m~/miniconda3/envs/analisis-automatizado-de-opiniones-turisticas/lib/python3.10/site-packages/torch/nn/modules/module.py:1773\u001b[0m, in \u001b[0;36mModule._wrapped_call_impl\u001b[0;34m(self, *args, **kwargs)\u001b[0m\n\u001b[1;32m   1771\u001b[0m     \u001b[38;5;28;01mreturn\u001b[39;00m \u001b[38;5;28mself\u001b[39m\u001b[38;5;241m.\u001b[39m_compiled_call_impl(\u001b[38;5;241m*\u001b[39margs, \u001b[38;5;241m*\u001b[39m\u001b[38;5;241m*\u001b[39mkwargs)  \u001b[38;5;66;03m# type: ignore[misc]\u001b[39;00m\n\u001b[1;32m   1772\u001b[0m \u001b[38;5;28;01melse\u001b[39;00m:\n\u001b[0;32m-> 1773\u001b[0m     \u001b[38;5;28;01mreturn\u001b[39;00m \u001b[38;5;28;43mself\u001b[39;49m\u001b[38;5;241;43m.\u001b[39;49m\u001b[43m_call_impl\u001b[49m\u001b[43m(\u001b[49m\u001b[38;5;241;43m*\u001b[39;49m\u001b[43margs\u001b[49m\u001b[43m,\u001b[49m\u001b[43m \u001b[49m\u001b[38;5;241;43m*\u001b[39;49m\u001b[38;5;241;43m*\u001b[39;49m\u001b[43mkwargs\u001b[49m\u001b[43m)\u001b[49m\n",
      "File \u001b[0;32m~/miniconda3/envs/analisis-automatizado-de-opiniones-turisticas/lib/python3.10/site-packages/torch/nn/modules/module.py:1784\u001b[0m, in \u001b[0;36mModule._call_impl\u001b[0;34m(self, *args, **kwargs)\u001b[0m\n\u001b[1;32m   1779\u001b[0m \u001b[38;5;66;03m# If we don't have any hooks, we want to skip the rest of the logic in\u001b[39;00m\n\u001b[1;32m   1780\u001b[0m \u001b[38;5;66;03m# this function, and just call forward.\u001b[39;00m\n\u001b[1;32m   1781\u001b[0m \u001b[38;5;28;01mif\u001b[39;00m \u001b[38;5;129;01mnot\u001b[39;00m (\u001b[38;5;28mself\u001b[39m\u001b[38;5;241m.\u001b[39m_backward_hooks \u001b[38;5;129;01mor\u001b[39;00m \u001b[38;5;28mself\u001b[39m\u001b[38;5;241m.\u001b[39m_backward_pre_hooks \u001b[38;5;129;01mor\u001b[39;00m \u001b[38;5;28mself\u001b[39m\u001b[38;5;241m.\u001b[39m_forward_hooks \u001b[38;5;129;01mor\u001b[39;00m \u001b[38;5;28mself\u001b[39m\u001b[38;5;241m.\u001b[39m_forward_pre_hooks\n\u001b[1;32m   1782\u001b[0m         \u001b[38;5;129;01mor\u001b[39;00m _global_backward_pre_hooks \u001b[38;5;129;01mor\u001b[39;00m _global_backward_hooks\n\u001b[1;32m   1783\u001b[0m         \u001b[38;5;129;01mor\u001b[39;00m _global_forward_hooks \u001b[38;5;129;01mor\u001b[39;00m _global_forward_pre_hooks):\n\u001b[0;32m-> 1784\u001b[0m     \u001b[38;5;28;01mreturn\u001b[39;00m \u001b[43mforward_call\u001b[49m\u001b[43m(\u001b[49m\u001b[38;5;241;43m*\u001b[39;49m\u001b[43margs\u001b[49m\u001b[43m,\u001b[49m\u001b[43m \u001b[49m\u001b[38;5;241;43m*\u001b[39;49m\u001b[38;5;241;43m*\u001b[39;49m\u001b[43mkwargs\u001b[49m\u001b[43m)\u001b[49m\n\u001b[1;32m   1786\u001b[0m result \u001b[38;5;241m=\u001b[39m \u001b[38;5;28;01mNone\u001b[39;00m\n\u001b[1;32m   1787\u001b[0m called_always_called_hooks \u001b[38;5;241m=\u001b[39m \u001b[38;5;28mset\u001b[39m()\n",
      "File \u001b[0;32m~/miniconda3/envs/analisis-automatizado-de-opiniones-turisticas/lib/python3.10/site-packages/torch/nn/modules/linear.py:125\u001b[0m, in \u001b[0;36mLinear.forward\u001b[0;34m(self, input)\u001b[0m\n\u001b[1;32m    124\u001b[0m \u001b[38;5;28;01mdef\u001b[39;00m \u001b[38;5;21mforward\u001b[39m(\u001b[38;5;28mself\u001b[39m, \u001b[38;5;28minput\u001b[39m: Tensor) \u001b[38;5;241m-\u001b[39m\u001b[38;5;241m>\u001b[39m Tensor:\n\u001b[0;32m--> 125\u001b[0m     \u001b[38;5;28;01mreturn\u001b[39;00m \u001b[43mF\u001b[49m\u001b[38;5;241;43m.\u001b[39;49m\u001b[43mlinear\u001b[49m\u001b[43m(\u001b[49m\u001b[38;5;28;43minput\u001b[39;49m\u001b[43m,\u001b[49m\u001b[43m \u001b[49m\u001b[38;5;28;43mself\u001b[39;49m\u001b[38;5;241;43m.\u001b[39;49m\u001b[43mweight\u001b[49m\u001b[43m,\u001b[49m\u001b[43m \u001b[49m\u001b[38;5;28;43mself\u001b[39;49m\u001b[38;5;241;43m.\u001b[39;49m\u001b[43mbias\u001b[49m\u001b[43m)\u001b[49m\n",
      "\u001b[0;31mKeyboardInterrupt\u001b[0m: "
     ]
    }
   ],
   "source": [
    "columna_limpia = \"TituloReviewLimpio\"\n",
    "\n",
    "limpiar_de_nuevo = False\n",
    "\n",
    "if columna_limpia not in df.columns or limpiar_de_nuevo:\n",
    "    limpiador = LimpiadorTextoMejorado(idiomas=['spanish', 'english'])\n",
    "    \n",
    "    df = limpiador.limpiar_dataframe(\n",
    "        df,\n",
    "        columna_texto='TituloReview',\n",
    "        nombre_columna_limpia=columna_limpia,\n",
    "        aplicar_traduccion=True,\n",
    "        filtrar_adjetivos=True,  # Nueva opción para filtrar adjetivos\n",
    "        filtrar_solo_espanol=True,  # Nueva opción para filtrar solo textos en español\n",
    "        aplicar_lematizacion=True,\n",
    "        min_longitud_palabra=2,\n",
    "        max_palabras=None\n",
    "    )\n",
    "    \n",
    "    df.to_csv('../data/processed/dataset_opiniones_analisis.csv', index=False)\n",
    "\n",
    "df_ciudad = df[df['Ciudad'] == CIUDAD_ANALIZAR].copy()\n",
    "texts = df_ciudad[columna_texto].dropna().tolist()"
   ]
  },
  {
   "cell_type": "code",
   "execution_count": null,
   "id": "0d39a4e0",
   "metadata": {},
   "outputs": [
    {
     "name": "stderr",
     "output_type": "stream",
     "text": [
      "2025-09-22 22:16:53,235 - FASTopic - use device: cuda\n"
     ]
    },
    {
     "name": "stdout",
     "output_type": "stream",
     "text": [
      "🤖 Configuración automática de FASTopic completada\n",
      "\n",
      "📊 CONFIGURACIÓN AUTOMÁTICA DE FASTOPIC\n",
      "==================================================\n",
      "\n",
      "📈 Análisis del Corpus:\n",
      "  📄 Documentos: 489\n",
      "  📝 Palabras promedio por doc: 53.2\n",
      "  🔤 Vocabulario único: 2,413\n",
      "\n",
      "🎯 Configuración:\n",
      "  🏷️ Número de tópicos: 7\n",
      "  📚 Tamaño vocabulario: 2,413\n",
      "  🌍 Modelo embeddings: paraphrase-multilingual-MiniLM-L12-v2\n",
      "  🔧 Tokenizer: Multiidioma (ES, EN, PT, FR, IT)\n",
      "\n"
     ]
    }
   ],
   "source": [
    "topic_model, reporte_optimizacion = configurar_fastopic_inteligente(texts)\n",
    "    \n",
    "print(\"🤖 Configuración automática de FASTopic completada\")\n",
    "print(reporte_optimizacion)"
   ]
  },
  {
   "cell_type": "code",
   "execution_count": null,
   "id": "c866e8a6",
   "metadata": {},
   "outputs": [
    {
     "name": "stderr",
     "output_type": "stream",
     "text": [
      "2025-09-22 22:16:53,258 - FASTopic - First fit the model.\n"
     ]
    },
    {
     "name": "stdout",
     "output_type": "stream",
     "text": [
      "\n",
      "🚀 Entrenando modelo FASTopic...\n"
     ]
    },
    {
     "name": "stderr",
     "output_type": "stream",
     "text": [
      "loading train texts: 100%|██████████| 489/489 [00:07<00:00, 66.12it/s]\n",
      "loading train texts: 100%|██████████| 489/489 [00:07<00:00, 66.12it/s]\n",
      "parsing texts: 100%|██████████| 489/489 [00:06<00:00, 72.60it/s] \n",
      "2025-09-22 22:17:11,125 - TopMost - Real vocab size: 477\n",
      "2025-09-22 22:17:11,126 - TopMost - Real training size: 489 \t avg length: 14.969\n",
      "parsing texts: 100%|██████████| 489/489 [00:06<00:00, 72.60it/s]\n",
      "2025-09-22 22:17:11,125 - TopMost - Real vocab size: 477\n",
      "2025-09-22 22:17:11,126 - TopMost - Real training size: 489 \t avg length: 14.969\n"
     ]
    },
    {
     "data": {
      "application/vnd.jupyter.widget-view+json": {
       "model_id": "af6358eeb3d649b3918397e23832b5f5",
       "version_major": 2,
       "version_minor": 0
      },
      "text/plain": [
       "Batches:   0%|          | 0/16 [00:00<?, ?it/s]"
      ]
     },
     "metadata": {},
     "output_type": "display_data"
    },
    {
     "name": "stderr",
     "output_type": "stream",
     "text": [
      "Training FASTopic:   4%|▍         | 9/200 [00:01<00:27,  6.84it/s]2025-09-22 22:17:14,062 - FASTopic - Epoch: 010 loss: 102.815\n",
      "Training FASTopic:   5%|▌         | 10/200 [00:01<00:26,  7.10it/s]2025-09-22 22:17:14,062 - FASTopic - Epoch: 010 loss: 102.815\n",
      "Training FASTopic:   9%|▉         | 18/200 [00:02<00:23,  7.70it/s]2025-09-22 22:17:15,340 - FASTopic - Epoch: 020 loss: 99.062\n",
      "Training FASTopic:  10%|█         | 20/200 [00:02<00:21,  8.22it/s]2025-09-22 22:17:15,340 - FASTopic - Epoch: 020 loss: 99.062\n",
      "Training FASTopic:  14%|█▍        | 28/200 [00:03<00:17,  9.94it/s]2025-09-22 22:17:16,311 - FASTopic - Epoch: 030 loss: 96.685\n",
      "Training FASTopic:  15%|█▌        | 30/200 [00:03<00:16, 10.11it/s]2025-09-22 22:17:16,311 - FASTopic - Epoch: 030 loss: 96.685\n",
      "Training FASTopic:  19%|█▉        | 38/200 [00:04<00:17,  9.31it/s]2025-09-22 22:17:17,375 - FASTopic - Epoch: 040 loss: 95.094\n",
      "Training FASTopic:  20%|██        | 40/200 [00:04<00:16,  9.54it/s]2025-09-22 22:17:17,375 - FASTopic - Epoch: 040 loss: 95.094\n",
      "Training FASTopic:  24%|██▍       | 48/200 [00:05<00:18,  8.29it/s]2025-09-22 22:17:18,560 - FASTopic - Epoch: 050 loss: 93.935\n",
      "Training FASTopic:  25%|██▌       | 50/200 [00:06<00:16,  9.17it/s]2025-09-22 22:17:18,560 - FASTopic - Epoch: 050 loss: 93.935\n",
      "Training FASTopic:  30%|██▉       | 59/200 [00:06<00:15,  9.16it/s]2025-09-22 22:17:19,632 - FASTopic - Epoch: 060 loss: 93.029\n",
      "2025-09-22 22:17:19,632 - FASTopic - Epoch: 060 loss: 93.029\n",
      "Training FASTopic:  34%|███▍      | 69/200 [00:08<00:18,  7.11it/s]2025-09-22 22:17:20,971 - FASTopic - Epoch: 070 loss: 92.282\n",
      "Training FASTopic:  35%|███▌      | 70/200 [00:08<00:18,  7.13it/s]2025-09-22 22:17:20,971 - FASTopic - Epoch: 070 loss: 92.282\n",
      "Training FASTopic:  39%|███▉      | 78/200 [00:09<00:15,  7.80it/s]2025-09-22 22:17:22,146 - FASTopic - Epoch: 080 loss: 91.636\n",
      "Training FASTopic:  40%|████      | 80/200 [00:09<00:14,  8.23it/s]2025-09-22 22:17:22,146 - FASTopic - Epoch: 080 loss: 91.636\n",
      "Training FASTopic:  44%|████▍     | 89/200 [00:10<00:13,  8.07it/s]2025-09-22 22:17:23,552 - FASTopic - Epoch: 090 loss: 91.064\n",
      "Training FASTopic:  45%|████▌     | 90/200 [00:11<00:14,  7.78it/s]2025-09-22 22:17:23,552 - FASTopic - Epoch: 090 loss: 91.064\n",
      "Training FASTopic:  50%|████▉     | 99/200 [00:12<00:13,  7.64it/s]2025-09-22 22:17:24,853 - FASTopic - Epoch: 100 loss: 90.557\n",
      "Training FASTopic:  50%|█████     | 100/200 [00:12<00:13,  7.16it/s]2025-09-22 22:17:24,853 - FASTopic - Epoch: 100 loss: 90.557\n",
      "Training FASTopic:  55%|█████▍    | 109/200 [00:13<00:10,  8.97it/s]2025-09-22 22:17:25,898 - FASTopic - Epoch: 110 loss: 90.100\n",
      "2025-09-22 22:17:25,898 - FASTopic - Epoch: 110 loss: 90.100\n",
      "Training FASTopic:  60%|█████▉    | 119/200 [00:14<00:10,  7.64it/s]2025-09-22 22:17:27,277 - FASTopic - Epoch: 120 loss: 89.694\n",
      "Training FASTopic:  60%|██████    | 120/200 [00:14<00:11,  7.10it/s]2025-09-22 22:17:27,277 - FASTopic - Epoch: 120 loss: 89.694\n",
      "Training FASTopic:  64%|██████▍   | 129/200 [00:15<00:08,  8.21it/s]2025-09-22 22:17:28,491 - FASTopic - Epoch: 130 loss: 89.328\n",
      "Training FASTopic:  65%|██████▌   | 130/200 [00:15<00:09,  7.08it/s]2025-09-22 22:17:28,491 - FASTopic - Epoch: 130 loss: 89.328\n",
      "Training FASTopic:  70%|██████▉   | 139/200 [00:17<00:08,  6.96it/s]2025-09-22 22:17:29,979 - FASTopic - Epoch: 140 loss: 88.991\n",
      "Training FASTopic:  70%|███████   | 140/200 [00:17<00:08,  7.28it/s]2025-09-22 22:17:29,979 - FASTopic - Epoch: 140 loss: 88.991\n",
      "Training FASTopic:  74%|███████▍  | 149/200 [00:18<00:06,  7.52it/s]2025-09-22 22:17:31,451 - FASTopic - Epoch: 150 loss: 88.680\n",
      "Training FASTopic:  75%|███████▌  | 150/200 [00:18<00:06,  7.50it/s]2025-09-22 22:17:31,451 - FASTopic - Epoch: 150 loss: 88.680\n",
      "Training FASTopic:  80%|███████▉  | 159/200 [00:20<00:05,  8.11it/s]2025-09-22 22:17:32,758 - FASTopic - Epoch: 160 loss: 88.387\n",
      "Training FASTopic:  80%|████████  | 160/200 [00:20<00:05,  7.50it/s]2025-09-22 22:17:32,758 - FASTopic - Epoch: 160 loss: 88.387\n",
      "Training FASTopic:  84%|████████▍ | 169/200 [00:21<00:04,  6.88it/s]2025-09-22 22:17:34,235 - FASTopic - Epoch: 170 loss: 88.112\n",
      "Training FASTopic:  85%|████████▌ | 170/200 [00:21<00:05,  5.82it/s]2025-09-22 22:17:34,235 - FASTopic - Epoch: 170 loss: 88.112\n",
      "Training FASTopic:  90%|████████▉ | 179/200 [00:23<00:03,  6.02it/s]2025-09-22 22:17:35,751 - FASTopic - Epoch: 180 loss: 87.847\n",
      "Training FASTopic:  90%|█████████ | 180/200 [00:23<00:03,  6.13it/s]2025-09-22 22:17:35,751 - FASTopic - Epoch: 180 loss: 87.847\n",
      "Training FASTopic:  94%|█████████▍| 188/200 [00:24<00:01,  6.49it/s]2025-09-22 22:17:37,202 - FASTopic - Epoch: 190 loss: 87.596\n",
      "Training FASTopic:  95%|█████████▌| 190/200 [00:24<00:01,  7.13it/s]2025-09-22 22:17:37,202 - FASTopic - Epoch: 190 loss: 87.596\n",
      "Training FASTopic: 100%|█████████▉| 199/200 [00:25<00:00,  7.95it/s]2025-09-22 22:17:38,372 - FASTopic - Epoch: 200 loss: 87.361\n",
      "Training FASTopic: 100%|██████████| 200/200 [00:25<00:00,  7.75it/s]2025-09-22 22:17:38,372 - FASTopic - Epoch: 200 loss: 87.361\n",
      "Training FASTopic: 100%|██████████| 200/200 [00:25<00:00,  7.75it/s]"
     ]
    },
    {
     "name": "stdout",
     "output_type": "stream",
     "text": [
      "Topic 0: misa tour duda pareja fe bas milagro recomeir volverio importancia helado guadalupe sentir civilizacion recomendado\n",
      "Topic 1: mural castillo palacio chap rivera interior artes parque espectaculo ballet ocasion dec estilo pesos mueble\n",
      "Topic 2: iglesia mercado barrio virgen capilla aloj escalera bas top mujer oficina hogar jardin vendedor cola\n",
      "Topic 3: casa fri tiempo valer pena hora llegar visitar caminar 5 tomar sitio visita pasar antelacion\n",
      "Topic 4: museo coleccion piso arte pieza obra planta rod antrop re deber historia artefacto guia extremadamente\n",
      "Topic 5: animal acu grupo cuidado servicio nino actividad personal horario faltar chico promo exper fila edad\n",
      "Topic 6: ciudad plaza mexico templo centro catedral restaurante calle vida mexic constitucion mexicano az vis pueblo\n",
      "✅ Entrenamiento completado en 45.17 segundos\n"
     ]
    },
    {
     "name": "stderr",
     "output_type": "stream",
     "text": [
      "\n"
     ]
    }
   ],
   "source": [
    "print(\"\\n🚀 Entrenando modelo FASTopic...\")\n",
    "inicio_entrenamiento = time.time()\n",
    "\n",
    "top_words, doc_topic_dist = topic_model.fit_transform(texts, epochs=200)\n",
    "\n",
    "tiempo_entrenamiento = time.time() - inicio_entrenamiento\n",
    "print(f\"✅ Entrenamiento completado en {tiempo_entrenamiento:.2f} segundos\")"
   ]
  },
  {
   "cell_type": "code",
   "execution_count": null,
   "id": "48b58ea5",
   "metadata": {},
   "outputs": [
    {
     "name": "stdout",
     "output_type": "stream",
     "text": [
      "Documento 1: [0.10 | 0.15 | 0.06 | 0.05 | 0.03 | 0.47 | 0.15] -> Tópicos seleccionados: [5], Umbral: 0.174\n",
      "Documento 2: [0.05 | 0.57 | 0.09 | 0.05 | 0.07 | 0.09 | 0.08] -> Tópicos seleccionados: [1], Umbral: 0.174\n",
      "Documento 3: [0.13 | 0.18 | 0.13 | 0.09 | 0.02 | 0.35 | 0.09] -> Tópicos seleccionados: [5, 1], Umbral: 0.174\n",
      "Documento 4: [0.04 | 0.52 | 0.05 | 0.05 | 0.17 | 0.01 | 0.17] -> Tópicos seleccionados: [1], Umbral: 0.174\n",
      "Documento 5: [0.06 | 0.13 | 0.11 | 0.11 | 0.10 | 0.01 | 0.48] -> Tópicos seleccionados: [6], Umbral: 0.174\n",
      "Documento 6: [0.33 | 0.04 | 0.21 | 0.05 | 0.01 | 0.33 | 0.02] -> Tópicos seleccionados: [5, 0, 2], Umbral: 0.174\n",
      "Documento 7: [0.04 | 0.50 | 0.19 | 0.07 | 0.07 | 0.03 | 0.11] -> Tópicos seleccionados: [1, 2], Umbral: 0.174\n",
      "Documento 8: [0.12 | 0.49 | 0.12 | 0.04 | 0.14 | 0.03 | 0.05] -> Tópicos seleccionados: [1], Umbral: 0.174\n",
      "Documento 9: [0.24 | 0.39 | 0.04 | 0.03 | 0.03 | 0.05 | 0.24] -> Tópicos seleccionados: [1, 0, 6], Umbral: 0.174\n",
      "Documento 10: [0.09 | 0.56 | 0.06 | 0.07 | 0.03 | 0.09 | 0.11] -> Tópicos seleccionados: [1], Umbral: 0.174\n",
      "Documento 11: [0.01 | 0.84 | 0.06 | 0.01 | 0.02 | 0.00 | 0.06] -> Tópicos seleccionados: [1], Umbral: 0.174\n",
      "Documento 12: [0.05 | 0.56 | 0.11 | 0.08 | 0.09 | 0.02 | 0.08] -> Tópicos seleccionados: [1], Umbral: 0.174\n",
      "Documento 13: [0.03 | 0.47 | 0.19 | 0.10 | 0.05 | 0.02 | 0.15] -> Tópicos seleccionados: [1, 2], Umbral: 0.174\n",
      "Documento 14: [0.05 | 0.50 | 0.15 | 0.11 | 0.10 | 0.01 | 0.08] -> Tópicos seleccionados: [1], Umbral: 0.174\n",
      "Documento 15: [0.20 | 0.19 | 0.18 | 0.09 | 0.02 | 0.27 | 0.06] -> Tópicos seleccionados: [5, 0, 1], Umbral: 0.174\n",
      "Documento 16: [0.03 | 0.13 | 0.09 | 0.02 | 0.03 | 0.00 | 0.70] -> Tópicos seleccionados: [6], Umbral: 0.174\n",
      "Documento 17: [0.13 | 0.14 | 0.11 | 0.10 | 0.07 | 0.02 | 0.44] -> Tópicos seleccionados: [6], Umbral: 0.174\n",
      "Documento 18: [0.25 | 0.27 | 0.18 | 0.05 | 0.06 | 0.11 | 0.07] -> Tópicos seleccionados: [1, 0, 2], Umbral: 0.174\n",
      "Documento 19: [0.24 | 0.34 | 0.09 | 0.05 | 0.01 | 0.11 | 0.16] -> Tópicos seleccionados: [1, 0], Umbral: 0.174\n",
      "Documento 20: [0.19 | 0.45 | 0.04 | 0.05 | 0.05 | 0.02 | 0.20] -> Tópicos seleccionados: [1, 6, 0], Umbral: 0.174\n",
      "Documento 21: [0.06 | 0.26 | 0.34 | 0.07 | 0.08 | 0.04 | 0.15] -> Tópicos seleccionados: [2, 1], Umbral: 0.174\n",
      "Documento 22: [0.21 | 0.07 | 0.07 | 0.05 | 0.02 | 0.02 | 0.55] -> Tópicos seleccionados: [6, 0], Umbral: 0.174\n",
      "Documento 23: [0.35 | 0.06 | 0.09 | 0.12 | 0.10 | 0.23 | 0.06] -> Tópicos seleccionados: [0, 5], Umbral: 0.174\n",
      "Documento 24: [0.29 | 0.45 | 0.04 | 0.07 | 0.07 | 0.04 | 0.05] -> Tópicos seleccionados: [1, 0], Umbral: 0.174\n",
      "Documento 25: [0.05 | 0.24 | 0.09 | 0.16 | 0.34 | 0.07 | 0.06] -> Tópicos seleccionados: [4, 1], Umbral: 0.174\n",
      "Documento 26: [0.07 | 0.40 | 0.13 | 0.15 | 0.08 | 0.09 | 0.09] -> Tópicos seleccionados: [1], Umbral: 0.174\n",
      "Documento 27: [0.04 | 0.50 | 0.07 | 0.08 | 0.22 | 0.02 | 0.07] -> Tópicos seleccionados: [1, 4], Umbral: 0.174\n",
      "Documento 28: [0.02 | 0.55 | 0.11 | 0.05 | 0.18 | 0.03 | 0.06] -> Tópicos seleccionados: [1, 4], Umbral: 0.174\n",
      "Documento 29: [0.10 | 0.15 | 0.11 | 0.13 | 0.02 | 0.45 | 0.04] -> Tópicos seleccionados: [5], Umbral: 0.174\n",
      "Documento 30: [0.05 | 0.18 | 0.14 | 0.02 | 0.03 | 0.01 | 0.58] -> Tópicos seleccionados: [6, 1], Umbral: 0.174\n",
      "Documento 31: [0.09 | 0.24 | 0.31 | 0.07 | 0.07 | 0.08 | 0.15] -> Tópicos seleccionados: [2, 1], Umbral: 0.174\n",
      "Documento 32: [0.18 | 0.32 | 0.24 | 0.07 | 0.04 | 0.02 | 0.13] -> Tópicos seleccionados: [1, 2, 0], Umbral: 0.174\n",
      "Documento 33: [0.01 | 0.24 | 0.01 | 0.01 | 0.05 | 0.00 | 0.68] -> Tópicos seleccionados: [6, 1], Umbral: 0.174\n",
      "Documento 34: [0.10 | 0.48 | 0.10 | 0.07 | 0.14 | 0.02 | 0.09] -> Tópicos seleccionados: [1], Umbral: 0.174\n",
      "Documento 35: [0.06 | 0.44 | 0.03 | 0.03 | 0.26 | 0.00 | 0.18] -> Tópicos seleccionados: [1, 4, 6], Umbral: 0.174\n",
      "Documento 36: [0.05 | 0.05 | 0.22 | 0.10 | 0.03 | 0.04 | 0.49] -> Tópicos seleccionados: [6, 2], Umbral: 0.174\n",
      "Documento 37: [0.02 | 0.73 | 0.04 | 0.03 | 0.11 | 0.00 | 0.08] -> Tópicos seleccionados: [1], Umbral: 0.174\n",
      "Documento 38: [0.07 | 0.29 | 0.31 | 0.13 | 0.03 | 0.08 | 0.09] -> Tópicos seleccionados: [2, 1], Umbral: 0.174\n",
      "Documento 39: [0.05 | 0.28 | 0.26 | 0.05 | 0.03 | 0.22 | 0.10] -> Tópicos seleccionados: [1, 2, 5], Umbral: 0.174\n",
      "Documento 40: [0.24 | 0.21 | 0.12 | 0.07 | 0.12 | 0.03 | 0.21] -> Tópicos seleccionados: [0, 1, 6], Umbral: 0.174\n",
      "Documento 41: [0.03 | 0.58 | 0.05 | 0.02 | 0.08 | 0.01 | 0.23] -> Tópicos seleccionados: [1, 6], Umbral: 0.174\n",
      "Documento 42: [0.16 | 0.16 | 0.15 | 0.08 | 0.04 | 0.09 | 0.32] -> Tópicos seleccionados: [6], Umbral: 0.174\n",
      "Documento 43: [0.49 | 0.03 | 0.04 | 0.07 | 0.04 | 0.30 | 0.03] -> Tópicos seleccionados: [0, 5], Umbral: 0.174\n",
      "Documento 44: [0.14 | 0.28 | 0.11 | 0.26 | 0.07 | 0.08 | 0.06] -> Tópicos seleccionados: [1, 3], Umbral: 0.174\n",
      "Documento 45: [0.05 | 0.60 | 0.13 | 0.04 | 0.08 | 0.01 | 0.09] -> Tópicos seleccionados: [1], Umbral: 0.174\n",
      "Documento 46: [0.13 | 0.18 | 0.19 | 0.26 | 0.05 | 0.06 | 0.12] -> Tópicos seleccionados: [3, 2, 1], Umbral: 0.174\n",
      "Documento 47: [0.27 | 0.04 | 0.07 | 0.14 | 0.01 | 0.42 | 0.05] -> Tópicos seleccionados: [5, 0], Umbral: 0.174\n",
      "Documento 48: [0.06 | 0.05 | 0.12 | 0.05 | 0.04 | 0.03 | 0.64] -> Tópicos seleccionados: [6], Umbral: 0.174\n",
      "Documento 49: [0.07 | 0.12 | 0.34 | 0.15 | 0.06 | 0.22 | 0.04] -> Tópicos seleccionados: [2, 5], Umbral: 0.174\n",
      "Documento 50: [0.19 | 0.20 | 0.09 | 0.17 | 0.10 | 0.09 | 0.16] -> Tópicos seleccionados: [1, 0], Umbral: 0.174\n",
      "Documento 51: [0.50 | 0.06 | 0.10 | 0.13 | 0.08 | 0.08 | 0.06] -> Tópicos seleccionados: [0], Umbral: 0.174\n",
      "Documento 52: [0.59 | 0.11 | 0.07 | 0.10 | 0.02 | 0.05 | 0.06] -> Tópicos seleccionados: [0], Umbral: 0.174\n",
      "Documento 53: [0.47 | 0.08 | 0.10 | 0.06 | 0.20 | 0.07 | 0.02] -> Tópicos seleccionados: [0, 4], Umbral: 0.174\n",
      "Documento 54: [0.23 | 0.04 | 0.31 | 0.13 | 0.02 | 0.22 | 0.05] -> Tópicos seleccionados: [2, 0, 5], Umbral: 0.174\n",
      "Documento 55: [0.63 | 0.03 | 0.18 | 0.04 | 0.01 | 0.05 | 0.04] -> Tópicos seleccionados: [0, 2], Umbral: 0.174\n",
      "Documento 56: [0.10 | 0.05 | 0.36 | 0.13 | 0.02 | 0.24 | 0.10] -> Tópicos seleccionados: [2, 5], Umbral: 0.174\n",
      "Documento 57: [0.07 | 0.13 | 0.08 | 0.15 | 0.48 | 0.03 | 0.06] -> Tópicos seleccionados: [4], Umbral: 0.174\n",
      "Documento 58: [0.30 | 0.08 | 0.09 | 0.12 | 0.03 | 0.32 | 0.06] -> Tópicos seleccionados: [5, 0], Umbral: 0.174\n",
      "Documento 59: [0.08 | 0.28 | 0.35 | 0.07 | 0.09 | 0.05 | 0.07] -> Tópicos seleccionados: [2, 1], Umbral: 0.174\n",
      "Documento 60: [0.08 | 0.13 | 0.39 | 0.16 | 0.05 | 0.02 | 0.16] -> Tópicos seleccionados: [2], Umbral: 0.174\n",
      "Documento 61: [0.77 | 0.04 | 0.05 | 0.04 | 0.01 | 0.08 | 0.02] -> Tópicos seleccionados: [0], Umbral: 0.174\n",
      "Documento 62: [0.10 | 0.11 | 0.57 | 0.08 | 0.01 | 0.08 | 0.05] -> Tópicos seleccionados: [2], Umbral: 0.174\n",
      "Documento 63: [0.25 | 0.12 | 0.47 | 0.06 | 0.02 | 0.04 | 0.04] -> Tópicos seleccionados: [2, 0], Umbral: 0.174\n",
      "Documento 64: [0.32 | 0.05 | 0.15 | 0.15 | 0.02 | 0.13 | 0.17] -> Tópicos seleccionados: [0, 6], Umbral: 0.174\n",
      "Documento 65: [0.18 | 0.11 | 0.25 | 0.27 | 0.06 | 0.05 | 0.08] -> Tópicos seleccionados: [3, 2, 0], Umbral: 0.174\n",
      "Documento 66: [0.12 | 0.13 | 0.18 | 0.18 | 0.10 | 0.21 | 0.08] -> Tópicos seleccionados: [5, 3, 2], Umbral: 0.174\n",
      "Documento 67: [0.39 | 0.02 | 0.14 | 0.04 | 0.01 | 0.00 | 0.40] -> Tópicos seleccionados: [6, 0], Umbral: 0.174\n",
      "Documento 68: [0.06 | 0.22 | 0.48 | 0.06 | 0.04 | 0.05 | 0.10] -> Tópicos seleccionados: [2, 1], Umbral: 0.174\n",
      "Documento 69: [0.45 | 0.12 | 0.09 | 0.18 | 0.03 | 0.08 | 0.06] -> Tópicos seleccionados: [0, 3], Umbral: 0.174\n",
      "Documento 70: [0.26 | 0.04 | 0.15 | 0.36 | 0.04 | 0.10 | 0.05] -> Tópicos seleccionados: [3, 0], Umbral: 0.174\n",
      "Documento 71: [0.58 | 0.03 | 0.09 | 0.15 | 0.01 | 0.07 | 0.07] -> Tópicos seleccionados: [0], Umbral: 0.174\n",
      "Documento 72: [0.31 | 0.06 | 0.35 | 0.14 | 0.02 | 0.05 | 0.05] -> Tópicos seleccionados: [2, 0], Umbral: 0.174\n",
      "Documento 73: [0.23 | 0.02 | 0.35 | 0.07 | 0.01 | 0.06 | 0.26] -> Tópicos seleccionados: [2, 6, 0], Umbral: 0.174\n",
      "Documento 74: [0.10 | 0.28 | 0.38 | 0.05 | 0.05 | 0.01 | 0.14] -> Tópicos seleccionados: [2, 1], Umbral: 0.174\n",
      "Documento 75: [0.57 | 0.01 | 0.11 | 0.16 | 0.02 | 0.10 | 0.03] -> Tópicos seleccionados: [0], Umbral: 0.174\n",
      "Documento 76: [0.22 | 0.06 | 0.46 | 0.05 | 0.01 | 0.16 | 0.04] -> Tópicos seleccionados: [2, 0], Umbral: 0.174\n",
      "Documento 77: [0.35 | 0.05 | 0.42 | 0.05 | 0.01 | 0.09 | 0.03] -> Tópicos seleccionados: [2, 0], Umbral: 0.174\n",
      "Documento 78: [0.26 | 0.22 | 0.23 | 0.13 | 0.08 | 0.01 | 0.07] -> Tópicos seleccionados: [0, 2, 1], Umbral: 0.174\n",
      "Documento 79: [0.20 | 0.06 | 0.36 | 0.14 | 0.01 | 0.01 | 0.22] -> Tópicos seleccionados: [2, 6, 0], Umbral: 0.174\n",
      "Documento 80: [0.16 | 0.13 | 0.17 | 0.09 | 0.08 | 0.02 | 0.36] -> Tópicos seleccionados: [6], Umbral: 0.174\n",
      "Documento 81: [0.35 | 0.05 | 0.11 | 0.13 | 0.04 | 0.25 | 0.05] -> Tópicos seleccionados: [0, 5], Umbral: 0.174\n",
      "Documento 82: [0.55 | 0.02 | 0.13 | 0.14 | 0.02 | 0.12 | 0.03] -> Tópicos seleccionados: [0], Umbral: 0.174\n",
      "Documento 83: [0.49 | 0.02 | 0.21 | 0.04 | 0.01 | 0.19 | 0.04] -> Tópicos seleccionados: [0, 2, 5], Umbral: 0.174\n",
      "Documento 84: [0.32 | 0.11 | 0.12 | 0.10 | 0.03 | 0.28 | 0.05] -> Tópicos seleccionados: [0, 5], Umbral: 0.174\n",
      "Documento 85: [0.21 | 0.02 | 0.44 | 0.16 | 0.01 | 0.14 | 0.02] -> Tópicos seleccionados: [2, 0], Umbral: 0.174\n",
      "Documento 86: [0.18 | 0.08 | 0.35 | 0.23 | 0.03 | 0.05 | 0.07] -> Tópicos seleccionados: [2, 3, 0], Umbral: 0.174\n",
      "Documento 87: [0.59 | 0.04 | 0.10 | 0.10 | 0.03 | 0.04 | 0.11] -> Tópicos seleccionados: [0], Umbral: 0.174\n",
      "Documento 88: [0.28 | 0.12 | 0.20 | 0.16 | 0.03 | 0.05 | 0.17] -> Tópicos seleccionados: [0, 2], Umbral: 0.174\n",
      "Documento 89: [0.56 | 0.03 | 0.13 | 0.14 | 0.03 | 0.02 | 0.08] -> Tópicos seleccionados: [0], Umbral: 0.174\n",
      "Documento 90: [0.79 | 0.03 | 0.02 | 0.03 | 0.01 | 0.12 | 0.02] -> Tópicos seleccionados: [0], Umbral: 0.174\n",
      "Documento 91: [0.68 | 0.04 | 0.03 | 0.05 | 0.01 | 0.14 | 0.05] -> Tópicos seleccionados: [0], Umbral: 0.174\n",
      "Documento 92: [0.50 | 0.05 | 0.15 | 0.08 | 0.01 | 0.16 | 0.04] -> Tópicos seleccionados: [0], Umbral: 0.174\n",
      "Documento 93: [0.41 | 0.10 | 0.14 | 0.09 | 0.03 | 0.06 | 0.17] -> Tópicos seleccionados: [0], Umbral: 0.174\n",
      "Documento 94: [0.16 | 0.02 | 0.08 | 0.05 | 0.00 | 0.66 | 0.03] -> Tópicos seleccionados: [5], Umbral: 0.174\n",
      "Documento 95: [0.18 | 0.05 | 0.40 | 0.12 | 0.08 | 0.05 | 0.11] -> Tópicos seleccionados: [2, 0], Umbral: 0.174\n",
      "Documento 96: [0.37 | 0.07 | 0.16 | 0.10 | 0.01 | 0.25 | 0.04] -> Tópicos seleccionados: [0, 5], Umbral: 0.174\n",
      "Documento 97: [0.20 | 0.08 | 0.32 | 0.16 | 0.03 | 0.11 | 0.09] -> Tópicos seleccionados: [2, 0], Umbral: 0.174\n",
      "Documento 98: [0.13 | 0.07 | 0.56 | 0.07 | 0.01 | 0.10 | 0.05] -> Tópicos seleccionados: [2], Umbral: 0.174\n",
      "Documento 99: [0.02 | 0.19 | 0.56 | 0.07 | 0.03 | 0.04 | 0.09] -> Tópicos seleccionados: [2, 1], Umbral: 0.174\n",
      "Documento 100: [0.52 | 0.03 | 0.07 | 0.04 | 0.01 | 0.31 | 0.02] -> Tópicos seleccionados: [0, 5], Umbral: 0.174\n",
      "Documento 101: [0.06 | 0.13 | 0.07 | 0.15 | 0.47 | 0.05 | 0.07] -> Tópicos seleccionados: [4], Umbral: 0.174\n",
      "Documento 102: [0.11 | 0.04 | 0.06 | 0.13 | 0.44 | 0.03 | 0.19] -> Tópicos seleccionados: [4, 6], Umbral: 0.174\n",
      "Documento 103: [0.03 | 0.04 | 0.13 | 0.30 | 0.41 | 0.05 | 0.04] -> Tópicos seleccionados: [4, 3], Umbral: 0.174\n",
      "Documento 104: [0.17 | 0.11 | 0.11 | 0.09 | 0.40 | 0.04 | 0.08] -> Tópicos seleccionados: [4], Umbral: 0.174\n",
      "Documento 105: [0.10 | 0.06 | 0.05 | 0.10 | 0.40 | 0.07 | 0.22] -> Tópicos seleccionados: [4, 6], Umbral: 0.174\n",
      "Documento 106: [0.12 | 0.36 | 0.06 | 0.10 | 0.24 | 0.03 | 0.09] -> Tópicos seleccionados: [1, 4], Umbral: 0.174\n",
      "Documento 107: [0.05 | 0.09 | 0.05 | 0.16 | 0.54 | 0.09 | 0.03] -> Tópicos seleccionados: [4], Umbral: 0.174\n",
      "Documento 108: [0.10 | 0.08 | 0.21 | 0.20 | 0.23 | 0.11 | 0.09] -> Tópicos seleccionados: [4, 2, 3], Umbral: 0.174\n",
      "Documento 109: [0.06 | 0.07 | 0.14 | 0.21 | 0.24 | 0.27 | 0.02] -> Tópicos seleccionados: [5, 4, 3], Umbral: 0.174\n",
      "Documento 110: [0.32 | 0.07 | 0.11 | 0.04 | 0.06 | 0.16 | 0.24] -> Tópicos seleccionados: [0, 6], Umbral: 0.174\n",
      "Documento 111: [0.12 | 0.09 | 0.05 | 0.06 | 0.32 | 0.02 | 0.35] -> Tópicos seleccionados: [6, 4], Umbral: 0.174\n",
      "Documento 112: [0.21 | 0.05 | 0.12 | 0.09 | 0.21 | 0.12 | 0.21] -> Tópicos seleccionados: [4, 6, 0], Umbral: 0.174\n",
      "Documento 113: [0.67 | 0.03 | 0.07 | 0.10 | 0.04 | 0.05 | 0.04] -> Tópicos seleccionados: [0], Umbral: 0.174\n",
      "Documento 114: [0.10 | 0.10 | 0.15 | 0.12 | 0.24 | 0.16 | 0.13] -> Tópicos seleccionados: [4], Umbral: 0.174\n",
      "Documento 115: [0.09 | 0.13 | 0.06 | 0.08 | 0.51 | 0.07 | 0.06] -> Tópicos seleccionados: [4], Umbral: 0.174\n",
      "Documento 116: [0.21 | 0.14 | 0.06 | 0.12 | 0.38 | 0.02 | 0.06] -> Tópicos seleccionados: [4, 0], Umbral: 0.174\n",
      "Documento 117: [0.08 | 0.21 | 0.07 | 0.06 | 0.47 | 0.01 | 0.10] -> Tópicos seleccionados: [4, 1], Umbral: 0.174\n",
      "Documento 118: [0.04 | 0.15 | 0.14 | 0.09 | 0.29 | 0.16 | 0.12] -> Tópicos seleccionados: [4], Umbral: 0.174\n",
      "Documento 119: [0.17 | 0.09 | 0.07 | 0.07 | 0.47 | 0.07 | 0.06] -> Tópicos seleccionados: [4], Umbral: 0.174\n",
      "Documento 120: [0.15 | 0.09 | 0.08 | 0.06 | 0.23 | 0.03 | 0.36] -> Tópicos seleccionados: [6, 4], Umbral: 0.174\n",
      "Documento 121: [0.35 | 0.06 | 0.10 | 0.20 | 0.13 | 0.07 | 0.08] -> Tópicos seleccionados: [0, 3], Umbral: 0.174\n",
      "Documento 122: [0.06 | 0.10 | 0.07 | 0.12 | 0.34 | 0.03 | 0.29] -> Tópicos seleccionados: [4, 6], Umbral: 0.174\n",
      "Documento 123: [0.41 | 0.05 | 0.14 | 0.11 | 0.05 | 0.16 | 0.09] -> Tópicos seleccionados: [0], Umbral: 0.174\n",
      "Documento 124: [0.12 | 0.10 | 0.14 | 0.06 | 0.13 | 0.32 | 0.13] -> Tópicos seleccionados: [5], Umbral: 0.174\n",
      "Documento 125: [0.14 | 0.06 | 0.07 | 0.21 | 0.43 | 0.03 | 0.06] -> Tópicos seleccionados: [4, 3], Umbral: 0.174\n",
      "Documento 126: [0.14 | 0.07 | 0.18 | 0.18 | 0.34 | 0.06 | 0.03] -> Tópicos seleccionados: [4, 3, 2], Umbral: 0.174\n",
      "Documento 127: [0.11 | 0.09 | 0.06 | 0.09 | 0.24 | 0.01 | 0.41] -> Tópicos seleccionados: [6, 4], Umbral: 0.174\n",
      "Documento 128: [0.07 | 0.05 | 0.06 | 0.16 | 0.47 | 0.14 | 0.07] -> Tópicos seleccionados: [4], Umbral: 0.174\n",
      "Documento 129: [0.17 | 0.08 | 0.06 | 0.06 | 0.36 | 0.03 | 0.25] -> Tópicos seleccionados: [4, 6], Umbral: 0.174\n",
      "Documento 130: [0.04 | 0.04 | 0.04 | 0.31 | 0.42 | 0.13 | 0.02] -> Tópicos seleccionados: [4, 3], Umbral: 0.174\n",
      "Documento 131: [0.08 | 0.06 | 0.10 | 0.07 | 0.01 | 0.63 | 0.05] -> Tópicos seleccionados: [5], Umbral: 0.174\n",
      "Documento 132: [0.38 | 0.01 | 0.02 | 0.13 | 0.01 | 0.44 | 0.01] -> Tópicos seleccionados: [5, 0], Umbral: 0.174\n",
      "Documento 133: [0.11 | 0.13 | 0.11 | 0.09 | 0.39 | 0.08 | 0.09] -> Tópicos seleccionados: [4], Umbral: 0.174\n",
      "Documento 134: [0.07 | 0.06 | 0.16 | 0.18 | 0.23 | 0.22 | 0.08] -> Tópicos seleccionados: [4, 5, 3], Umbral: 0.174\n",
      "Documento 135: [0.05 | 0.09 | 0.16 | 0.13 | 0.12 | 0.41 | 0.04] -> Tópicos seleccionados: [5], Umbral: 0.174\n",
      "Documento 136: [0.09 | 0.04 | 0.07 | 0.09 | 0.45 | 0.01 | 0.25] -> Tópicos seleccionados: [4, 6], Umbral: 0.174\n",
      "Documento 137: [0.06 | 0.09 | 0.09 | 0.14 | 0.50 | 0.04 | 0.08] -> Tópicos seleccionados: [4], Umbral: 0.174\n",
      "Documento 138: [0.20 | 0.14 | 0.07 | 0.11 | 0.32 | 0.08 | 0.07] -> Tópicos seleccionados: [4, 0], Umbral: 0.174\n",
      "Documento 139: [0.08 | 0.24 | 0.10 | 0.11 | 0.26 | 0.01 | 0.20] -> Tópicos seleccionados: [4, 1, 6], Umbral: 0.174\n",
      "Documento 140: [0.03 | 0.04 | 0.06 | 0.25 | 0.54 | 0.05 | 0.03] -> Tópicos seleccionados: [4, 3], Umbral: 0.174\n",
      "Documento 141: [0.38 | 0.04 | 0.06 | 0.11 | 0.20 | 0.05 | 0.16] -> Tópicos seleccionados: [0, 4], Umbral: 0.174\n",
      "Documento 142: [0.09 | 0.06 | 0.05 | 0.09 | 0.36 | 0.06 | 0.29] -> Tópicos seleccionados: [4, 6], Umbral: 0.174\n",
      "Documento 143: [0.06 | 0.10 | 0.07 | 0.03 | 0.13 | 0.00 | 0.61] -> Tópicos seleccionados: [6], Umbral: 0.174\n",
      "Documento 144: [0.15 | 0.10 | 0.05 | 0.08 | 0.51 | 0.02 | 0.11] -> Tópicos seleccionados: [4], Umbral: 0.174\n",
      "Documento 145: [0.06 | 0.09 | 0.10 | 0.13 | 0.36 | 0.03 | 0.23] -> Tópicos seleccionados: [4, 6], Umbral: 0.174\n",
      "Documento 146: [0.10 | 0.29 | 0.13 | 0.16 | 0.13 | 0.07 | 0.11] -> Tópicos seleccionados: [1], Umbral: 0.174\n",
      "Documento 147: [0.05 | 0.06 | 0.06 | 0.13 | 0.65 | 0.01 | 0.05] -> Tópicos seleccionados: [4], Umbral: 0.174\n",
      "Documento 148: [0.17 | 0.09 | 0.03 | 0.04 | 0.55 | 0.01 | 0.10] -> Tópicos seleccionados: [4], Umbral: 0.174\n",
      "Documento 149: [0.23 | 0.07 | 0.03 | 0.04 | 0.11 | 0.00 | 0.52] -> Tópicos seleccionados: [6, 0], Umbral: 0.174\n",
      "Documento 150: [0.04 | 0.03 | 0.05 | 0.26 | 0.50 | 0.07 | 0.04] -> Tópicos seleccionados: [4, 3], Umbral: 0.174\n",
      "Documento 151: [0.18 | 0.00 | 0.01 | 0.02 | 0.00 | 0.78 | 0.00] -> Tópicos seleccionados: [5, 0], Umbral: 0.174\n",
      "Documento 152: [0.05 | 0.01 | 0.03 | 0.05 | 0.01 | 0.83 | 0.01] -> Tópicos seleccionados: [5], Umbral: 0.174\n",
      "Documento 153: [0.07 | 0.01 | 0.02 | 0.02 | 0.00 | 0.87 | 0.01] -> Tópicos seleccionados: [5], Umbral: 0.174\n",
      "Documento 154: [0.25 | 0.04 | 0.10 | 0.15 | 0.01 | 0.40 | 0.04] -> Tópicos seleccionados: [5, 0], Umbral: 0.174\n",
      "Documento 155: [0.09 | 0.00 | 0.02 | 0.01 | 0.00 | 0.87 | 0.01] -> Tópicos seleccionados: [5], Umbral: 0.174\n",
      "Documento 156: [0.21 | 0.02 | 0.05 | 0.04 | 0.01 | 0.64 | 0.04] -> Tópicos seleccionados: [5, 0], Umbral: 0.174\n",
      "Documento 157: [0.06 | 0.01 | 0.00 | 0.01 | 0.00 | 0.91 | 0.00] -> Tópicos seleccionados: [5], Umbral: 0.174\n",
      "Documento 158: [0.25 | 0.07 | 0.11 | 0.09 | 0.01 | 0.42 | 0.06] -> Tópicos seleccionados: [5, 0], Umbral: 0.174\n",
      "Documento 159: [0.09 | 0.02 | 0.03 | 0.04 | 0.01 | 0.79 | 0.01] -> Tópicos seleccionados: [5], Umbral: 0.174\n",
      "Documento 160: [0.03 | 0.00 | 0.03 | 0.01 | 0.00 | 0.92 | 0.01] -> Tópicos seleccionados: [5], Umbral: 0.174\n",
      "Documento 161: [0.04 | 0.01 | 0.03 | 0.14 | 0.00 | 0.77 | 0.01] -> Tópicos seleccionados: [5], Umbral: 0.174\n",
      "Documento 162: [0.04 | 0.01 | 0.03 | 0.10 | 0.01 | 0.80 | 0.01] -> Tópicos seleccionados: [5], Umbral: 0.174\n",
      "Documento 163: [0.03 | 0.02 | 0.08 | 0.07 | 0.01 | 0.78 | 0.01] -> Tópicos seleccionados: [5], Umbral: 0.174\n",
      "Documento 164: [0.14 | 0.00 | 0.01 | 0.02 | 0.00 | 0.80 | 0.01] -> Tópicos seleccionados: [5], Umbral: 0.174\n",
      "Documento 165: [0.10 | 0.02 | 0.08 | 0.11 | 0.00 | 0.67 | 0.02] -> Tópicos seleccionados: [5], Umbral: 0.174\n",
      "Documento 166: [0.09 | 0.03 | 0.05 | 0.02 | 0.00 | 0.78 | 0.02] -> Tópicos seleccionados: [5], Umbral: 0.174\n",
      "Documento 167: [0.05 | 0.00 | 0.00 | 0.01 | 0.00 | 0.93 | 0.00] -> Tópicos seleccionados: [5], Umbral: 0.174\n",
      "Documento 168: [0.17 | 0.05 | 0.31 | 0.08 | 0.01 | 0.32 | 0.06] -> Tópicos seleccionados: [5, 2], Umbral: 0.174\n",
      "Documento 169: [0.04 | 0.02 | 0.02 | 0.03 | 0.01 | 0.88 | 0.01] -> Tópicos seleccionados: [5], Umbral: 0.174\n",
      "Documento 170: [0.12 | 0.01 | 0.08 | 0.04 | 0.00 | 0.73 | 0.01] -> Tópicos seleccionados: [5], Umbral: 0.174\n",
      "Documento 171: [0.02 | 0.01 | 0.04 | 0.02 | 0.00 | 0.90 | 0.01] -> Tópicos seleccionados: [5], Umbral: 0.174\n",
      "Documento 172: [0.01 | 0.00 | 0.01 | 0.02 | 0.00 | 0.96 | 0.00] -> Tópicos seleccionados: [5], Umbral: 0.174\n",
      "Documento 173: [0.07 | 0.01 | 0.08 | 0.04 | 0.01 | 0.78 | 0.01] -> Tópicos seleccionados: [5], Umbral: 0.174\n",
      "Documento 174: [0.05 | 0.01 | 0.05 | 0.02 | 0.00 | 0.87 | 0.00] -> Tópicos seleccionados: [5], Umbral: 0.174\n",
      "Documento 175: [0.04 | 0.00 | 0.03 | 0.02 | 0.00 | 0.90 | 0.01] -> Tópicos seleccionados: [5], Umbral: 0.174\n",
      "Documento 176: [0.04 | 0.01 | 0.02 | 0.02 | 0.00 | 0.90 | 0.01] -> Tópicos seleccionados: [5], Umbral: 0.174\n",
      "Documento 177: [0.02 | 0.01 | 0.02 | 0.01 | 0.00 | 0.94 | 0.01] -> Tópicos seleccionados: [5], Umbral: 0.174\n",
      "Documento 178: [0.03 | 0.01 | 0.01 | 0.02 | 0.00 | 0.92 | 0.01] -> Tópicos seleccionados: [5], Umbral: 0.174\n",
      "Documento 179: [0.04 | 0.02 | 0.01 | 0.08 | 0.01 | 0.83 | 0.00] -> Tópicos seleccionados: [5], Umbral: 0.174\n",
      "Documento 180: [0.05 | 0.01 | 0.07 | 0.03 | 0.01 | 0.82 | 0.01] -> Tópicos seleccionados: [5], Umbral: 0.174\n",
      "Documento 181: [0.05 | 0.03 | 0.07 | 0.04 | 0.02 | 0.78 | 0.01] -> Tópicos seleccionados: [5], Umbral: 0.174\n",
      "Documento 182: [0.02 | 0.01 | 0.02 | 0.04 | 0.00 | 0.91 | 0.01] -> Tópicos seleccionados: [5], Umbral: 0.174\n",
      "Documento 183: [0.05 | 0.01 | 0.03 | 0.05 | 0.00 | 0.84 | 0.01] -> Tópicos seleccionados: [5], Umbral: 0.174\n",
      "Documento 184: [0.07 | 0.01 | 0.05 | 0.03 | 0.00 | 0.83 | 0.01] -> Tópicos seleccionados: [5], Umbral: 0.174\n",
      "Documento 185: [0.05 | 0.01 | 0.08 | 0.04 | 0.00 | 0.82 | 0.01] -> Tópicos seleccionados: [5], Umbral: 0.174\n",
      "Documento 186: [0.26 | 0.02 | 0.04 | 0.07 | 0.01 | 0.60 | 0.02] -> Tópicos seleccionados: [5, 0], Umbral: 0.174\n",
      "Documento 187: [0.02 | 0.00 | 0.01 | 0.01 | 0.00 | 0.95 | 0.00] -> Tópicos seleccionados: [5], Umbral: 0.174\n",
      "Documento 188: [0.05 | 0.02 | 0.09 | 0.04 | 0.02 | 0.76 | 0.02] -> Tópicos seleccionados: [5], Umbral: 0.174\n",
      "Documento 189: [0.06 | 0.03 | 0.05 | 0.06 | 0.01 | 0.75 | 0.03] -> Tópicos seleccionados: [5], Umbral: 0.174\n",
      "Documento 190: [0.05 | 0.00 | 0.03 | 0.01 | 0.00 | 0.89 | 0.00] -> Tópicos seleccionados: [5], Umbral: 0.174\n",
      "Documento 191: [0.09 | 0.01 | 0.07 | 0.04 | 0.00 | 0.76 | 0.02] -> Tópicos seleccionados: [5], Umbral: 0.174\n",
      "Documento 192: [0.09 | 0.01 | 0.03 | 0.02 | 0.00 | 0.84 | 0.01] -> Tópicos seleccionados: [5], Umbral: 0.174\n",
      "Documento 193: [0.03 | 0.01 | 0.03 | 0.02 | 0.01 | 0.90 | 0.01] -> Tópicos seleccionados: [5], Umbral: 0.174\n",
      "Documento 194: [0.04 | 0.01 | 0.21 | 0.05 | 0.01 | 0.67 | 0.01] -> Tópicos seleccionados: [5, 2], Umbral: 0.174\n",
      "Documento 195: [0.01 | 0.02 | 0.02 | 0.00 | 0.00 | 0.95 | 0.00] -> Tópicos seleccionados: [5], Umbral: 0.174\n",
      "Documento 196: [0.06 | 0.04 | 0.03 | 0.05 | 0.01 | 0.79 | 0.01] -> Tópicos seleccionados: [5], Umbral: 0.174\n",
      "Documento 197: [0.13 | 0.02 | 0.04 | 0.02 | 0.01 | 0.76 | 0.01] -> Tópicos seleccionados: [5], Umbral: 0.174\n",
      "Documento 198: [0.02 | 0.02 | 0.05 | 0.05 | 0.01 | 0.85 | 0.00] -> Tópicos seleccionados: [5], Umbral: 0.174\n",
      "Documento 199: [0.11 | 0.05 | 0.08 | 0.08 | 0.01 | 0.66 | 0.02] -> Tópicos seleccionados: [5], Umbral: 0.174\n",
      "Documento 200: [0.10 | 0.02 | 0.06 | 0.06 | 0.01 | 0.73 | 0.02] -> Tópicos seleccionados: [5], Umbral: 0.174\n",
      "Documento 201: [0.30 | 0.04 | 0.12 | 0.14 | 0.03 | 0.29 | 0.07] -> Tópicos seleccionados: [0, 5], Umbral: 0.174\n",
      "Documento 202: [0.18 | 0.04 | 0.12 | 0.11 | 0.01 | 0.04 | 0.51] -> Tópicos seleccionados: [6, 0], Umbral: 0.174\n",
      "Documento 203: [0.14 | 0.10 | 0.13 | 0.28 | 0.01 | 0.12 | 0.21] -> Tópicos seleccionados: [3, 6], Umbral: 0.174\n",
      "Documento 204: [0.06 | 0.07 | 0.63 | 0.07 | 0.01 | 0.02 | 0.15] -> Tópicos seleccionados: [2], Umbral: 0.174\n",
      "Documento 205: [0.11 | 0.03 | 0.24 | 0.35 | 0.01 | 0.18 | 0.08] -> Tópicos seleccionados: [3, 2, 5], Umbral: 0.174\n",
      "Documento 206: [0.13 | 0.06 | 0.13 | 0.24 | 0.02 | 0.30 | 0.12] -> Tópicos seleccionados: [5, 3], Umbral: 0.174\n",
      "Documento 207: [0.35 | 0.06 | 0.22 | 0.21 | 0.01 | 0.08 | 0.07] -> Tópicos seleccionados: [0, 2, 3], Umbral: 0.174\n",
      "Documento 208: [0.19 | 0.01 | 0.35 | 0.06 | 0.01 | 0.18 | 0.20] -> Tópicos seleccionados: [2, 6, 0], Umbral: 0.174\n",
      "Documento 209: [0.14 | 0.03 | 0.10 | 0.34 | 0.06 | 0.26 | 0.06] -> Tópicos seleccionados: [3, 5], Umbral: 0.174\n",
      "Documento 210: [0.14 | 0.09 | 0.33 | 0.11 | 0.01 | 0.11 | 0.21] -> Tópicos seleccionados: [2, 6], Umbral: 0.174\n",
      "Documento 211: [0.10 | 0.06 | 0.30 | 0.08 | 0.01 | 0.43 | 0.02] -> Tópicos seleccionados: [5, 2], Umbral: 0.174\n",
      "Documento 212: [0.32 | 0.13 | 0.14 | 0.07 | 0.02 | 0.08 | 0.23] -> Tópicos seleccionados: [0, 6], Umbral: 0.174\n",
      "Documento 213: [0.12 | 0.11 | 0.37 | 0.09 | 0.01 | 0.04 | 0.27] -> Tópicos seleccionados: [2, 6], Umbral: 0.174\n",
      "Documento 214: [0.08 | 0.04 | 0.26 | 0.22 | 0.02 | 0.10 | 0.29] -> Tópicos seleccionados: [6, 2, 3], Umbral: 0.174\n",
      "Documento 215: [0.34 | 0.04 | 0.19 | 0.12 | 0.01 | 0.08 | 0.23] -> Tópicos seleccionados: [0, 6, 2], Umbral: 0.174\n",
      "Documento 216: [0.07 | 0.24 | 0.26 | 0.10 | 0.02 | 0.01 | 0.29] -> Tópicos seleccionados: [6, 2, 1], Umbral: 0.174\n",
      "Documento 217: [0.32 | 0.04 | 0.12 | 0.08 | 0.02 | 0.03 | 0.40] -> Tópicos seleccionados: [6, 0], Umbral: 0.174\n",
      "Documento 218: [0.30 | 0.01 | 0.31 | 0.07 | 0.00 | 0.29 | 0.02] -> Tópicos seleccionados: [2, 0, 5], Umbral: 0.174\n",
      "Documento 219: [0.05 | 0.04 | 0.09 | 0.12 | 0.08 | 0.46 | 0.15] -> Tópicos seleccionados: [5], Umbral: 0.174\n",
      "Documento 220: [0.17 | 0.08 | 0.16 | 0.09 | 0.01 | 0.05 | 0.43] -> Tópicos seleccionados: [6], Umbral: 0.174\n",
      "Documento 221: [0.42 | 0.04 | 0.10 | 0.07 | 0.01 | 0.08 | 0.28] -> Tópicos seleccionados: [0, 6], Umbral: 0.174\n",
      "Documento 222: [0.23 | 0.09 | 0.18 | 0.18 | 0.02 | 0.18 | 0.13] -> Tópicos seleccionados: [0, 5, 3], Umbral: 0.174\n",
      "Documento 223: [0.46 | 0.01 | 0.10 | 0.07 | 0.00 | 0.32 | 0.02] -> Tópicos seleccionados: [0, 5], Umbral: 0.174\n",
      "Documento 224: [0.15 | 0.04 | 0.30 | 0.21 | 0.02 | 0.14 | 0.14] -> Tópicos seleccionados: [2, 3], Umbral: 0.174\n",
      "Documento 225: [0.13 | 0.04 | 0.15 | 0.29 | 0.01 | 0.26 | 0.13] -> Tópicos seleccionados: [3, 5], Umbral: 0.174\n",
      "Documento 226: [0.15 | 0.14 | 0.39 | 0.11 | 0.01 | 0.01 | 0.20] -> Tópicos seleccionados: [2, 6], Umbral: 0.174\n",
      "Documento 227: [0.32 | 0.09 | 0.29 | 0.12 | 0.01 | 0.12 | 0.04] -> Tópicos seleccionados: [0, 2], Umbral: 0.174\n",
      "Documento 228: [0.20 | 0.06 | 0.34 | 0.12 | 0.00 | 0.11 | 0.18] -> Tópicos seleccionados: [2, 0, 6], Umbral: 0.174\n",
      "Documento 229: [0.15 | 0.04 | 0.29 | 0.06 | 0.01 | 0.22 | 0.23] -> Tópicos seleccionados: [2, 6, 5], Umbral: 0.174\n",
      "Documento 230: [0.19 | 0.04 | 0.12 | 0.08 | 0.01 | 0.03 | 0.53] -> Tópicos seleccionados: [6, 0], Umbral: 0.174\n",
      "Documento 231: [0.08 | 0.25 | 0.44 | 0.06 | 0.01 | 0.01 | 0.15] -> Tópicos seleccionados: [2, 1], Umbral: 0.174\n",
      "Documento 232: [0.23 | 0.07 | 0.17 | 0.14 | 0.01 | 0.11 | 0.27] -> Tópicos seleccionados: [6, 0], Umbral: 0.174\n",
      "Documento 233: [0.69 | 0.07 | 0.07 | 0.03 | 0.00 | 0.08 | 0.05] -> Tópicos seleccionados: [0], Umbral: 0.174\n",
      "Documento 234: [0.66 | 0.03 | 0.07 | 0.09 | 0.00 | 0.12 | 0.03] -> Tópicos seleccionados: [0], Umbral: 0.174\n",
      "Documento 235: [0.45 | 0.03 | 0.15 | 0.10 | 0.00 | 0.17 | 0.10] -> Tópicos seleccionados: [0], Umbral: 0.174\n",
      "Documento 236: [0.39 | 0.02 | 0.17 | 0.07 | 0.00 | 0.08 | 0.25] -> Tópicos seleccionados: [0, 6, 2], Umbral: 0.174\n",
      "Documento 237: [0.12 | 0.06 | 0.54 | 0.11 | 0.01 | 0.03 | 0.12] -> Tópicos seleccionados: [2], Umbral: 0.174\n",
      "Documento 238: [0.33 | 0.05 | 0.09 | 0.05 | 0.01 | 0.29 | 0.18] -> Tópicos seleccionados: [0, 5, 6], Umbral: 0.174\n",
      "Documento 239: [0.09 | 0.14 | 0.26 | 0.21 | 0.16 | 0.07 | 0.07] -> Tópicos seleccionados: [2, 3], Umbral: 0.174\n",
      "Documento 240: [0.71 | 0.01 | 0.05 | 0.07 | 0.00 | 0.14 | 0.01] -> Tópicos seleccionados: [0], Umbral: 0.174\n",
      "Documento 241: [0.46 | 0.05 | 0.17 | 0.13 | 0.01 | 0.09 | 0.09] -> Tópicos seleccionados: [0], Umbral: 0.174\n",
      "Documento 242: [0.14 | 0.08 | 0.44 | 0.03 | 0.00 | 0.06 | 0.25] -> Tópicos seleccionados: [2, 6], Umbral: 0.174\n",
      "Documento 243: [0.62 | 0.02 | 0.06 | 0.08 | 0.00 | 0.19 | 0.02] -> Tópicos seleccionados: [0, 5], Umbral: 0.174\n",
      "Documento 244: [0.11 | 0.10 | 0.39 | 0.08 | 0.02 | 0.13 | 0.18] -> Tópicos seleccionados: [2, 6], Umbral: 0.174\n",
      "Documento 245: [0.37 | 0.09 | 0.22 | 0.12 | 0.01 | 0.05 | 0.14] -> Tópicos seleccionados: [0, 2], Umbral: 0.174\n",
      "Documento 246: [0.35 | 0.02 | 0.13 | 0.13 | 0.00 | 0.31 | 0.05] -> Tópicos seleccionados: [0, 5], Umbral: 0.174\n",
      "Documento 247: [0.74 | 0.01 | 0.03 | 0.16 | 0.01 | 0.02 | 0.04] -> Tópicos seleccionados: [0], Umbral: 0.174\n",
      "Documento 248: [0.07 | 0.00 | 0.09 | 0.05 | 0.00 | 0.77 | 0.02] -> Tópicos seleccionados: [5], Umbral: 0.174\n",
      "Documento 249: [0.27 | 0.11 | 0.11 | 0.12 | 0.03 | 0.07 | 0.29] -> Tópicos seleccionados: [6, 0], Umbral: 0.174\n",
      "Documento 250: [0.12 | 0.29 | 0.28 | 0.05 | 0.00 | 0.03 | 0.23] -> Tópicos seleccionados: [1, 2, 6], Umbral: 0.174\n",
      "Documento 251: [0.41 | 0.18 | 0.13 | 0.09 | 0.07 | 0.04 | 0.08] -> Tópicos seleccionados: [0, 1], Umbral: 0.174\n",
      "Documento 252: [0.07 | 0.21 | 0.11 | 0.06 | 0.47 | 0.03 | 0.04] -> Tópicos seleccionados: [4, 1], Umbral: 0.174\n",
      "Documento 253: [0.13 | 0.16 | 0.12 | 0.14 | 0.09 | 0.24 | 0.11] -> Tópicos seleccionados: [5], Umbral: 0.174\n",
      "Documento 254: [0.08 | 0.35 | 0.07 | 0.05 | 0.37 | 0.03 | 0.06] -> Tópicos seleccionados: [4, 1], Umbral: 0.174\n",
      "Documento 255: [0.04 | 0.11 | 0.15 | 0.10 | 0.49 | 0.02 | 0.08] -> Tópicos seleccionados: [4], Umbral: 0.174\n",
      "Documento 256: [0.10 | 0.10 | 0.16 | 0.26 | 0.07 | 0.26 | 0.05] -> Tópicos seleccionados: [5, 3], Umbral: 0.174\n",
      "Documento 257: [0.05 | 0.05 | 0.05 | 0.05 | 0.46 | 0.06 | 0.28] -> Tópicos seleccionados: [4, 6], Umbral: 0.174\n",
      "Documento 258: [0.09 | 0.39 | 0.04 | 0.07 | 0.36 | 0.01 | 0.04] -> Tópicos seleccionados: [1, 4], Umbral: 0.174\n",
      "Documento 259: [0.06 | 0.16 | 0.09 | 0.09 | 0.32 | 0.03 | 0.25] -> Tópicos seleccionados: [4, 6], Umbral: 0.174\n",
      "Documento 260: [0.05 | 0.07 | 0.10 | 0.40 | 0.25 | 0.09 | 0.05] -> Tópicos seleccionados: [3, 4], Umbral: 0.174\n",
      "Documento 261: [0.06 | 0.10 | 0.11 | 0.20 | 0.26 | 0.24 | 0.03] -> Tópicos seleccionados: [4, 5, 3], Umbral: 0.174\n",
      "Documento 262: [0.13 | 0.07 | 0.09 | 0.16 | 0.27 | 0.11 | 0.17] -> Tópicos seleccionados: [4], Umbral: 0.174\n",
      "Documento 263: [0.07 | 0.08 | 0.37 | 0.22 | 0.15 | 0.07 | 0.04] -> Tópicos seleccionados: [2, 3], Umbral: 0.174\n",
      "Documento 264: [0.02 | 0.43 | 0.23 | 0.04 | 0.14 | 0.02 | 0.10] -> Tópicos seleccionados: [1, 2], Umbral: 0.174\n",
      "Documento 265: [0.05 | 0.15 | 0.05 | 0.08 | 0.49 | 0.01 | 0.16] -> Tópicos seleccionados: [4], Umbral: 0.174\n",
      "Documento 266: [0.10 | 0.07 | 0.22 | 0.20 | 0.28 | 0.08 | 0.04] -> Tópicos seleccionados: [4, 2, 3], Umbral: 0.174\n",
      "Documento 267: [0.06 | 0.07 | 0.18 | 0.19 | 0.25 | 0.21 | 0.04] -> Tópicos seleccionados: [4, 5, 3], Umbral: 0.174\n",
      "Documento 268: [0.06 | 0.13 | 0.03 | 0.07 | 0.63 | 0.03 | 0.05] -> Tópicos seleccionados: [4], Umbral: 0.174\n",
      "Documento 269: [0.04 | 0.28 | 0.15 | 0.07 | 0.37 | 0.01 | 0.10] -> Tópicos seleccionados: [4, 1], Umbral: 0.174\n",
      "Documento 270: [0.29 | 0.14 | 0.05 | 0.10 | 0.26 | 0.12 | 0.04] -> Tópicos seleccionados: [0, 4], Umbral: 0.174\n",
      "Documento 271: [0.07 | 0.19 | 0.12 | 0.11 | 0.43 | 0.05 | 0.04] -> Tópicos seleccionados: [4, 1], Umbral: 0.174\n",
      "Documento 272: [0.07 | 0.10 | 0.19 | 0.11 | 0.31 | 0.18 | 0.04] -> Tópicos seleccionados: [4, 2, 5], Umbral: 0.174\n",
      "Documento 273: [0.07 | 0.36 | 0.16 | 0.07 | 0.26 | 0.04 | 0.05] -> Tópicos seleccionados: [1, 4], Umbral: 0.174\n",
      "Documento 274: [0.03 | 0.22 | 0.04 | 0.06 | 0.60 | 0.01 | 0.04] -> Tópicos seleccionados: [4, 1], Umbral: 0.174\n",
      "Documento 275: [0.06 | 0.30 | 0.25 | 0.08 | 0.17 | 0.02 | 0.11] -> Tópicos seleccionados: [1, 2], Umbral: 0.174\n",
      "Documento 276: [0.06 | 0.15 | 0.13 | 0.09 | 0.30 | 0.04 | 0.24] -> Tópicos seleccionados: [4, 6], Umbral: 0.174\n",
      "Documento 277: [0.06 | 0.07 | 0.14 | 0.18 | 0.43 | 0.09 | 0.04] -> Tópicos seleccionados: [4, 3], Umbral: 0.174\n",
      "Documento 278: [0.06 | 0.15 | 0.17 | 0.15 | 0.26 | 0.07 | 0.12] -> Tópicos seleccionados: [4], Umbral: 0.174\n",
      "Documento 279: [0.06 | 0.17 | 0.22 | 0.06 | 0.18 | 0.01 | 0.30] -> Tópicos seleccionados: [6, 2, 4], Umbral: 0.174\n",
      "Documento 280: [0.07 | 0.13 | 0.05 | 0.15 | 0.50 | 0.03 | 0.06] -> Tópicos seleccionados: [4], Umbral: 0.174\n",
      "Documento 281: [0.01 | 0.01 | 0.02 | 0.02 | 0.01 | 0.93 | 0.00] -> Tópicos seleccionados: [5], Umbral: 0.174\n",
      "Documento 282: [0.09 | 0.06 | 0.05 | 0.09 | 0.45 | 0.04 | 0.22] -> Tópicos seleccionados: [4, 6], Umbral: 0.174\n",
      "Documento 283: [0.04 | 0.16 | 0.08 | 0.12 | 0.50 | 0.06 | 0.04] -> Tópicos seleccionados: [4], Umbral: 0.174\n",
      "Documento 284: [0.04 | 0.18 | 0.13 | 0.13 | 0.36 | 0.07 | 0.09] -> Tópicos seleccionados: [4, 1], Umbral: 0.174\n",
      "Documento 285: [0.05 | 0.10 | 0.13 | 0.10 | 0.52 | 0.03 | 0.08] -> Tópicos seleccionados: [4], Umbral: 0.174\n",
      "Documento 286: [0.19 | 0.17 | 0.08 | 0.07 | 0.05 | 0.03 | 0.42] -> Tópicos seleccionados: [6, 0], Umbral: 0.174\n",
      "Documento 287: [0.06 | 0.11 | 0.14 | 0.24 | 0.30 | 0.06 | 0.08] -> Tópicos seleccionados: [4, 3], Umbral: 0.174\n",
      "Documento 288: [0.07 | 0.14 | 0.44 | 0.10 | 0.03 | 0.16 | 0.07] -> Tópicos seleccionados: [2], Umbral: 0.174\n",
      "Documento 289: [0.08 | 0.03 | 0.12 | 0.09 | 0.21 | 0.06 | 0.41] -> Tópicos seleccionados: [6, 4], Umbral: 0.174\n",
      "Documento 290: [0.08 | 0.14 | 0.05 | 0.29 | 0.32 | 0.07 | 0.06] -> Tópicos seleccionados: [4, 3], Umbral: 0.174\n",
      "Documento 291: [0.08 | 0.22 | 0.04 | 0.08 | 0.52 | 0.01 | 0.05] -> Tópicos seleccionados: [4, 1], Umbral: 0.174\n",
      "Documento 292: [0.15 | 0.12 | 0.10 | 0.17 | 0.35 | 0.05 | 0.06] -> Tópicos seleccionados: [4], Umbral: 0.174\n",
      "Documento 293: [0.18 | 0.15 | 0.10 | 0.07 | 0.04 | 0.12 | 0.34] -> Tópicos seleccionados: [6, 0], Umbral: 0.174\n",
      "Documento 294: [0.07 | 0.16 | 0.05 | 0.09 | 0.35 | 0.03 | 0.25] -> Tópicos seleccionados: [4, 6], Umbral: 0.174\n",
      "Documento 295: [0.04 | 0.05 | 0.16 | 0.07 | 0.07 | 0.60 | 0.02] -> Tópicos seleccionados: [5], Umbral: 0.174\n",
      "Documento 296: [0.06 | 0.14 | 0.07 | 0.12 | 0.52 | 0.04 | 0.05] -> Tópicos seleccionados: [4], Umbral: 0.174\n",
      "Documento 297: [0.07 | 0.07 | 0.18 | 0.22 | 0.31 | 0.07 | 0.07] -> Tópicos seleccionados: [4, 3, 2], Umbral: 0.174\n",
      "Documento 298: [0.10 | 0.14 | 0.05 | 0.11 | 0.47 | 0.03 | 0.09] -> Tópicos seleccionados: [4], Umbral: 0.174\n",
      "Documento 299: [0.04 | 0.11 | 0.17 | 0.14 | 0.32 | 0.19 | 0.04] -> Tópicos seleccionados: [4, 5], Umbral: 0.174\n",
      "Documento 300: [0.16 | 0.11 | 0.28 | 0.23 | 0.05 | 0.12 | 0.05] -> Tópicos seleccionados: [2, 3], Umbral: 0.174\n",
      "Documento 301: [0.31 | 0.16 | 0.10 | 0.13 | 0.04 | 0.03 | 0.24] -> Tópicos seleccionados: [0, 6], Umbral: 0.174\n",
      "Documento 302: [0.26 | 0.04 | 0.09 | 0.29 | 0.13 | 0.10 | 0.08] -> Tópicos seleccionados: [3, 0], Umbral: 0.174\n",
      "Documento 303: [0.09 | 0.06 | 0.20 | 0.24 | 0.19 | 0.09 | 0.13] -> Tópicos seleccionados: [3, 2, 4], Umbral: 0.174\n",
      "Documento 304: [0.08 | 0.08 | 0.09 | 0.06 | 0.29 | 0.01 | 0.40] -> Tópicos seleccionados: [6, 4], Umbral: 0.174\n",
      "Documento 305: [0.09 | 0.32 | 0.16 | 0.05 | 0.05 | 0.01 | 0.33] -> Tópicos seleccionados: [6, 1], Umbral: 0.174\n",
      "Documento 306: [0.46 | 0.07 | 0.05 | 0.08 | 0.03 | 0.23 | 0.07] -> Tópicos seleccionados: [0, 5], Umbral: 0.174\n",
      "Documento 307: [0.16 | 0.15 | 0.10 | 0.20 | 0.02 | 0.28 | 0.09] -> Tópicos seleccionados: [5, 3], Umbral: 0.174\n",
      "Documento 308: [0.05 | 0.07 | 0.15 | 0.25 | 0.29 | 0.13 | 0.06] -> Tópicos seleccionados: [4, 3], Umbral: 0.174\n",
      "Documento 309: [0.13 | 0.11 | 0.19 | 0.08 | 0.03 | 0.07 | 0.37] -> Tópicos seleccionados: [6, 2], Umbral: 0.174\n",
      "Documento 310: [0.03 | 0.16 | 0.08 | 0.03 | 0.09 | 0.00 | 0.60] -> Tópicos seleccionados: [6], Umbral: 0.174\n",
      "Documento 311: [0.05 | 0.06 | 0.14 | 0.22 | 0.24 | 0.04 | 0.24] -> Tópicos seleccionados: [6, 4, 3], Umbral: 0.174\n",
      "Documento 312: [0.09 | 0.09 | 0.11 | 0.10 | 0.28 | 0.03 | 0.29] -> Tópicos seleccionados: [6, 4], Umbral: 0.174\n",
      "Documento 313: [0.11 | 0.09 | 0.10 | 0.10 | 0.22 | 0.03 | 0.35] -> Tópicos seleccionados: [6, 4], Umbral: 0.174\n",
      "Documento 314: [0.04 | 0.02 | 0.13 | 0.07 | 0.18 | 0.47 | 0.09] -> Tópicos seleccionados: [5, 4], Umbral: 0.174\n",
      "Documento 315: [0.05 | 0.06 | 0.09 | 0.05 | 0.39 | 0.01 | 0.36] -> Tópicos seleccionados: [4, 6], Umbral: 0.174\n",
      "Documento 316: [0.03 | 0.13 | 0.06 | 0.09 | 0.61 | 0.05 | 0.03] -> Tópicos seleccionados: [4], Umbral: 0.174\n",
      "Documento 317: [0.15 | 0.14 | 0.07 | 0.10 | 0.39 | 0.04 | 0.11] -> Tópicos seleccionados: [4], Umbral: 0.174\n",
      "Documento 318: [0.09 | 0.11 | 0.16 | 0.19 | 0.31 | 0.10 | 0.05] -> Tópicos seleccionados: [4, 3], Umbral: 0.174\n",
      "Documento 319: [0.08 | 0.11 | 0.05 | 0.09 | 0.34 | 0.03 | 0.30] -> Tópicos seleccionados: [4, 6], Umbral: 0.174\n",
      "Documento 320: [0.06 | 0.14 | 0.07 | 0.26 | 0.35 | 0.06 | 0.06] -> Tópicos seleccionados: [4, 3], Umbral: 0.174\n",
      "Documento 321: [0.03 | 0.06 | 0.04 | 0.01 | 0.02 | 0.00 | 0.84] -> Tópicos seleccionados: [6], Umbral: 0.174\n",
      "Documento 322: [0.13 | 0.09 | 0.11 | 0.15 | 0.29 | 0.04 | 0.20] -> Tópicos seleccionados: [4, 6], Umbral: 0.174\n",
      "Documento 323: [0.13 | 0.10 | 0.10 | 0.32 | 0.22 | 0.04 | 0.09] -> Tópicos seleccionados: [3, 4], Umbral: 0.174\n",
      "Documento 324: [0.08 | 0.15 | 0.10 | 0.04 | 0.36 | 0.01 | 0.27] -> Tópicos seleccionados: [4, 6], Umbral: 0.174\n",
      "Documento 325: [0.08 | 0.31 | 0.08 | 0.15 | 0.26 | 0.04 | 0.07] -> Tópicos seleccionados: [1, 4], Umbral: 0.174\n",
      "Documento 326: [0.44 | 0.06 | 0.08 | 0.08 | 0.02 | 0.08 | 0.23] -> Tópicos seleccionados: [0, 6], Umbral: 0.174\n",
      "Documento 327: [0.04 | 0.07 | 0.09 | 0.11 | 0.60 | 0.04 | 0.04] -> Tópicos seleccionados: [4], Umbral: 0.174\n",
      "Documento 328: [0.08 | 0.16 | 0.17 | 0.16 | 0.27 | 0.04 | 0.12] -> Tópicos seleccionados: [4], Umbral: 0.174\n",
      "Documento 329: [0.03 | 0.07 | 0.10 | 0.13 | 0.55 | 0.06 | 0.07] -> Tópicos seleccionados: [4], Umbral: 0.174\n",
      "Documento 330: [0.05 | 0.11 | 0.16 | 0.11 | 0.43 | 0.05 | 0.08] -> Tópicos seleccionados: [4], Umbral: 0.174\n",
      "Documento 331: [0.14 | 0.06 | 0.21 | 0.09 | 0.03 | 0.39 | 0.09] -> Tópicos seleccionados: [5, 2], Umbral: 0.174\n",
      "Documento 332: [0.15 | 0.08 | 0.07 | 0.13 | 0.45 | 0.02 | 0.11] -> Tópicos seleccionados: [4], Umbral: 0.174\n",
      "Documento 333: [0.37 | 0.07 | 0.13 | 0.10 | 0.04 | 0.01 | 0.26] -> Tópicos seleccionados: [0, 6], Umbral: 0.174\n",
      "Documento 334: [0.15 | 0.10 | 0.08 | 0.27 | 0.26 | 0.07 | 0.08] -> Tópicos seleccionados: [3, 4], Umbral: 0.174\n",
      "Documento 335: [0.04 | 0.04 | 0.05 | 0.15 | 0.53 | 0.14 | 0.05] -> Tópicos seleccionados: [4], Umbral: 0.174\n",
      "Documento 336: [0.22 | 0.04 | 0.05 | 0.13 | 0.04 | 0.48 | 0.03] -> Tópicos seleccionados: [5, 0], Umbral: 0.174\n",
      "Documento 337: [0.08 | 0.11 | 0.09 | 0.04 | 0.12 | 0.01 | 0.55] -> Tópicos seleccionados: [6], Umbral: 0.174\n",
      "Documento 338: [0.07 | 0.09 | 0.14 | 0.19 | 0.32 | 0.09 | 0.10] -> Tópicos seleccionados: [4, 3], Umbral: 0.174\n",
      "Documento 339: [0.24 | 0.09 | 0.06 | 0.13 | 0.38 | 0.02 | 0.08] -> Tópicos seleccionados: [4, 0], Umbral: 0.174\n",
      "Documento 340: [0.02 | 0.13 | 0.05 | 0.06 | 0.69 | 0.02 | 0.04] -> Tópicos seleccionados: [4], Umbral: 0.174\n",
      "Documento 341: [0.25 | 0.08 | 0.09 | 0.09 | 0.20 | 0.02 | 0.27] -> Tópicos seleccionados: [6, 0, 4], Umbral: 0.174\n",
      "Documento 342: [0.42 | 0.02 | 0.05 | 0.06 | 0.04 | 0.02 | 0.38] -> Tópicos seleccionados: [0, 6], Umbral: 0.174\n",
      "Documento 343: [0.07 | 0.05 | 0.16 | 0.08 | 0.05 | 0.01 | 0.59] -> Tópicos seleccionados: [6], Umbral: 0.174\n",
      "Documento 344: [0.07 | 0.10 | 0.08 | 0.14 | 0.35 | 0.04 | 0.23] -> Tópicos seleccionados: [4, 6], Umbral: 0.174\n",
      "Documento 345: [0.07 | 0.34 | 0.07 | 0.09 | 0.30 | 0.03 | 0.11] -> Tópicos seleccionados: [1, 4], Umbral: 0.174\n",
      "Documento 346: [0.05 | 0.18 | 0.27 | 0.07 | 0.21 | 0.01 | 0.21] -> Tópicos seleccionados: [2, 4, 6], Umbral: 0.174\n",
      "Documento 347: [0.11 | 0.13 | 0.10 | 0.05 | 0.12 | 0.01 | 0.47] -> Tópicos seleccionados: [6], Umbral: 0.174\n",
      "Documento 348: [0.08 | 0.11 | 0.15 | 0.13 | 0.24 | 0.14 | 0.16] -> Tópicos seleccionados: [4], Umbral: 0.174\n",
      "Documento 349: [0.10 | 0.12 | 0.11 | 0.10 | 0.32 | 0.01 | 0.23] -> Tópicos seleccionados: [4, 6], Umbral: 0.174\n",
      "Documento 350: [0.07 | 0.11 | 0.09 | 0.19 | 0.40 | 0.04 | 0.10] -> Tópicos seleccionados: [4, 3], Umbral: 0.174\n",
      "Documento 351: [0.08 | 0.04 | 0.08 | 0.16 | 0.01 | 0.60 | 0.02] -> Tópicos seleccionados: [5], Umbral: 0.174\n",
      "Documento 352: [0.03 | 0.08 | 0.04 | 0.01 | 0.01 | 0.00 | 0.83] -> Tópicos seleccionados: [6], Umbral: 0.174\n",
      "Documento 353: [0.06 | 0.06 | 0.37 | 0.08 | 0.03 | 0.35 | 0.04] -> Tópicos seleccionados: [2, 5], Umbral: 0.174\n",
      "Documento 354: [0.18 | 0.12 | 0.15 | 0.05 | 0.03 | 0.08 | 0.38] -> Tópicos seleccionados: [6, 0], Umbral: 0.174\n",
      "Documento 355: [0.05 | 0.13 | 0.56 | 0.11 | 0.02 | 0.08 | 0.05] -> Tópicos seleccionados: [2], Umbral: 0.174\n",
      "Documento 356: [0.06 | 0.04 | 0.47 | 0.10 | 0.01 | 0.27 | 0.05] -> Tópicos seleccionados: [2, 5], Umbral: 0.174\n",
      "Documento 357: [0.08 | 0.12 | 0.07 | 0.02 | 0.02 | 0.02 | 0.68] -> Tópicos seleccionados: [6], Umbral: 0.174\n",
      "Documento 358: [0.34 | 0.02 | 0.08 | 0.02 | 0.01 | 0.51 | 0.02] -> Tópicos seleccionados: [5, 0], Umbral: 0.174\n",
      "Documento 359: [0.11 | 0.04 | 0.08 | 0.04 | 0.01 | 0.06 | 0.66] -> Tópicos seleccionados: [6], Umbral: 0.174\n",
      "Documento 360: [0.15 | 0.33 | 0.17 | 0.09 | 0.03 | 0.04 | 0.18] -> Tópicos seleccionados: [1, 6], Umbral: 0.174\n",
      "Documento 361: [0.51 | 0.12 | 0.06 | 0.07 | 0.02 | 0.03 | 0.18] -> Tópicos seleccionados: [0, 6], Umbral: 0.174\n",
      "Documento 362: [0.14 | 0.06 | 0.12 | 0.11 | 0.01 | 0.03 | 0.54] -> Tópicos seleccionados: [6], Umbral: 0.174\n",
      "Documento 363: [0.10 | 0.14 | 0.30 | 0.08 | 0.02 | 0.03 | 0.33] -> Tópicos seleccionados: [6, 2], Umbral: 0.174\n",
      "Documento 364: [0.03 | 0.06 | 0.06 | 0.02 | 0.01 | 0.00 | 0.83] -> Tópicos seleccionados: [6], Umbral: 0.174\n",
      "Documento 365: [0.05 | 0.29 | 0.10 | 0.05 | 0.02 | 0.03 | 0.46] -> Tópicos seleccionados: [6, 1], Umbral: 0.174\n",
      "Documento 366: [0.09 | 0.28 | 0.13 | 0.06 | 0.00 | 0.03 | 0.40] -> Tópicos seleccionados: [6, 1], Umbral: 0.174\n",
      "Documento 367: [0.16 | 0.12 | 0.21 | 0.18 | 0.02 | 0.21 | 0.10] -> Tópicos seleccionados: [2, 5, 3], Umbral: 0.174\n",
      "Documento 368: [0.14 | 0.05 | 0.06 | 0.04 | 0.01 | 0.02 | 0.68] -> Tópicos seleccionados: [6], Umbral: 0.174\n",
      "Documento 369: [0.03 | 0.13 | 0.11 | 0.02 | 0.02 | 0.00 | 0.70] -> Tópicos seleccionados: [6], Umbral: 0.174\n",
      "Documento 370: [0.04 | 0.05 | 0.21 | 0.05 | 0.03 | 0.01 | 0.61] -> Tópicos seleccionados: [6, 2], Umbral: 0.174\n",
      "Documento 371: [0.05 | 0.06 | 0.07 | 0.06 | 0.03 | 0.68 | 0.06] -> Tópicos seleccionados: [5], Umbral: 0.174\n",
      "Documento 372: [0.06 | 0.31 | 0.14 | 0.09 | 0.09 | 0.01 | 0.29] -> Tópicos seleccionados: [1, 6], Umbral: 0.174\n",
      "Documento 373: [0.08 | 0.08 | 0.36 | 0.10 | 0.03 | 0.08 | 0.26] -> Tópicos seleccionados: [2, 6], Umbral: 0.174\n",
      "Documento 374: [0.10 | 0.28 | 0.11 | 0.12 | 0.05 | 0.04 | 0.30] -> Tópicos seleccionados: [6, 1], Umbral: 0.174\n",
      "Documento 375: [0.24 | 0.06 | 0.22 | 0.13 | 0.02 | 0.12 | 0.21] -> Tópicos seleccionados: [0, 2, 6], Umbral: 0.174\n",
      "Documento 376: [0.16 | 0.37 | 0.12 | 0.10 | 0.04 | 0.02 | 0.19] -> Tópicos seleccionados: [1, 6], Umbral: 0.174\n",
      "Documento 377: [0.03 | 0.13 | 0.11 | 0.06 | 0.07 | 0.01 | 0.59] -> Tópicos seleccionados: [6], Umbral: 0.174\n",
      "Documento 378: [0.10 | 0.34 | 0.09 | 0.09 | 0.07 | 0.02 | 0.28] -> Tópicos seleccionados: [1, 6], Umbral: 0.174\n",
      "Documento 379: [0.04 | 0.20 | 0.14 | 0.14 | 0.03 | 0.12 | 0.32] -> Tópicos seleccionados: [6, 1], Umbral: 0.174\n",
      "Documento 380: [0.19 | 0.02 | 0.15 | 0.04 | 0.01 | 0.05 | 0.53] -> Tópicos seleccionados: [6, 0], Umbral: 0.174\n",
      "Documento 381: [0.08 | 0.06 | 0.10 | 0.11 | 0.03 | 0.09 | 0.54] -> Tópicos seleccionados: [6], Umbral: 0.174\n",
      "Documento 382: [0.10 | 0.18 | 0.16 | 0.09 | 0.03 | 0.04 | 0.40] -> Tópicos seleccionados: [6, 1], Umbral: 0.174\n",
      "Documento 383: [0.08 | 0.25 | 0.36 | 0.07 | 0.03 | 0.02 | 0.19] -> Tópicos seleccionados: [2, 1, 6], Umbral: 0.174\n",
      "Documento 384: [0.36 | 0.05 | 0.20 | 0.06 | 0.00 | 0.05 | 0.27] -> Tópicos seleccionados: [0, 6, 2], Umbral: 0.174\n",
      "Documento 385: [0.06 | 0.09 | 0.14 | 0.08 | 0.03 | 0.08 | 0.51] -> Tópicos seleccionados: [6], Umbral: 0.174\n",
      "Documento 386: [0.16 | 0.28 | 0.21 | 0.20 | 0.04 | 0.04 | 0.07] -> Tópicos seleccionados: [1, 2, 3], Umbral: 0.174\n",
      "Documento 387: [0.24 | 0.04 | 0.15 | 0.04 | 0.00 | 0.40 | 0.13] -> Tópicos seleccionados: [5, 0], Umbral: 0.174\n",
      "Documento 388: [0.08 | 0.06 | 0.07 | 0.07 | 0.02 | 0.03 | 0.67] -> Tópicos seleccionados: [6], Umbral: 0.174\n",
      "Documento 389: [0.05 | 0.34 | 0.20 | 0.07 | 0.05 | 0.03 | 0.27] -> Tópicos seleccionados: [1, 6, 2], Umbral: 0.174\n",
      "Documento 390: [0.12 | 0.18 | 0.20 | 0.15 | 0.12 | 0.07 | 0.15] -> Tópicos seleccionados: [2, 1], Umbral: 0.174\n",
      "Documento 391: [0.31 | 0.16 | 0.07 | 0.16 | 0.14 | 0.07 | 0.09] -> Tópicos seleccionados: [0], Umbral: 0.174\n",
      "Documento 392: [0.19 | 0.31 | 0.16 | 0.06 | 0.03 | 0.04 | 0.20] -> Tópicos seleccionados: [1, 6, 0], Umbral: 0.174\n",
      "Documento 393: [0.14 | 0.06 | 0.08 | 0.14 | 0.01 | 0.43 | 0.13] -> Tópicos seleccionados: [5], Umbral: 0.174\n",
      "Documento 394: [0.03 | 0.05 | 0.02 | 0.02 | 0.01 | 0.01 | 0.86] -> Tópicos seleccionados: [6], Umbral: 0.174\n",
      "Documento 395: [0.08 | 0.19 | 0.20 | 0.09 | 0.02 | 0.01 | 0.41] -> Tópicos seleccionados: [6, 2, 1], Umbral: 0.174\n",
      "Documento 396: [0.17 | 0.08 | 0.34 | 0.09 | 0.01 | 0.17 | 0.14] -> Tópicos seleccionados: [2], Umbral: 0.174\n",
      "Documento 397: [0.18 | 0.05 | 0.31 | 0.07 | 0.19 | 0.13 | 0.09] -> Tópicos seleccionados: [2, 4, 0], Umbral: 0.174\n",
      "Documento 398: [0.08 | 0.05 | 0.14 | 0.04 | 0.00 | 0.01 | 0.68] -> Tópicos seleccionados: [6], Umbral: 0.174\n",
      "Documento 399: [0.05 | 0.45 | 0.17 | 0.03 | 0.04 | 0.02 | 0.25] -> Tópicos seleccionados: [1, 6], Umbral: 0.174\n",
      "Documento 400: [0.07 | 0.08 | 0.17 | 0.08 | 0.02 | 0.43 | 0.14] -> Tópicos seleccionados: [5], Umbral: 0.174\n",
      "Documento 401: [0.10 | 0.29 | 0.20 | 0.13 | 0.06 | 0.03 | 0.19] -> Tópicos seleccionados: [1, 2, 6], Umbral: 0.174\n",
      "Documento 402: [0.27 | 0.21 | 0.16 | 0.09 | 0.02 | 0.17 | 0.07] -> Tópicos seleccionados: [0, 1], Umbral: 0.174\n",
      "Documento 403: [0.22 | 0.40 | 0.03 | 0.12 | 0.04 | 0.03 | 0.16] -> Tópicos seleccionados: [1, 0], Umbral: 0.174\n",
      "Documento 404: [0.08 | 0.08 | 0.10 | 0.02 | 0.02 | 0.01 | 0.69] -> Tópicos seleccionados: [6], Umbral: 0.174\n",
      "Documento 405: [0.11 | 0.19 | 0.10 | 0.05 | 0.04 | 0.02 | 0.50] -> Tópicos seleccionados: [6, 1], Umbral: 0.174\n",
      "Documento 406: [0.32 | 0.21 | 0.12 | 0.11 | 0.04 | 0.08 | 0.13] -> Tópicos seleccionados: [0, 1], Umbral: 0.174\n",
      "Documento 407: [0.09 | 0.08 | 0.09 | 0.15 | 0.07 | 0.05 | 0.47] -> Tópicos seleccionados: [6], Umbral: 0.174\n",
      "Documento 408: [0.01 | 0.01 | 0.06 | 0.02 | 0.00 | 0.90 | 0.00] -> Tópicos seleccionados: [5], Umbral: 0.174\n",
      "Documento 409: [0.08 | 0.61 | 0.20 | 0.04 | 0.02 | 0.02 | 0.04] -> Tópicos seleccionados: [1, 2], Umbral: 0.174\n",
      "Documento 410: [0.04 | 0.43 | 0.03 | 0.06 | 0.20 | 0.00 | 0.25] -> Tópicos seleccionados: [1, 6, 4], Umbral: 0.174\n",
      "Documento 411: [0.35 | 0.07 | 0.15 | 0.11 | 0.03 | 0.23 | 0.06] -> Tópicos seleccionados: [0, 5], Umbral: 0.174\n",
      "Documento 412: [0.04 | 0.04 | 0.05 | 0.31 | 0.13 | 0.41 | 0.02] -> Tópicos seleccionados: [5, 3], Umbral: 0.174\n",
      "Documento 413: [0.06 | 0.69 | 0.04 | 0.07 | 0.06 | 0.01 | 0.07] -> Tópicos seleccionados: [1], Umbral: 0.174\n",
      "Documento 414: [0.11 | 0.32 | 0.09 | 0.13 | 0.09 | 0.18 | 0.08] -> Tópicos seleccionados: [1, 5], Umbral: 0.174\n",
      "Documento 415: [0.22 | 0.07 | 0.10 | 0.08 | 0.03 | 0.06 | 0.44] -> Tópicos seleccionados: [6, 0], Umbral: 0.174\n",
      "Documento 416: [0.08 | 0.49 | 0.06 | 0.15 | 0.15 | 0.02 | 0.05] -> Tópicos seleccionados: [1], Umbral: 0.174\n",
      "Documento 417: [0.08 | 0.40 | 0.21 | 0.05 | 0.05 | 0.01 | 0.18] -> Tópicos seleccionados: [1, 2, 6], Umbral: 0.174\n",
      "Documento 418: [0.19 | 0.05 | 0.22 | 0.13 | 0.01 | 0.14 | 0.25] -> Tópicos seleccionados: [6, 2, 0], Umbral: 0.174\n",
      "Documento 419: [0.20 | 0.29 | 0.09 | 0.11 | 0.02 | 0.05 | 0.24] -> Tópicos seleccionados: [1, 6, 0], Umbral: 0.174\n",
      "Documento 420: [0.14 | 0.53 | 0.09 | 0.09 | 0.02 | 0.05 | 0.08] -> Tópicos seleccionados: [1], Umbral: 0.174\n",
      "Documento 421: [0.29 | 0.01 | 0.04 | 0.27 | 0.03 | 0.22 | 0.13] -> Tópicos seleccionados: [0, 3, 5], Umbral: 0.174\n",
      "Documento 422: [0.04 | 0.15 | 0.17 | 0.03 | 0.01 | 0.02 | 0.58] -> Tópicos seleccionados: [6], Umbral: 0.174\n",
      "Documento 423: [0.19 | 0.41 | 0.13 | 0.09 | 0.03 | 0.05 | 0.10] -> Tópicos seleccionados: [1, 0], Umbral: 0.174\n",
      "Documento 424: [0.38 | 0.05 | 0.07 | 0.11 | 0.03 | 0.05 | 0.32] -> Tópicos seleccionados: [0, 6], Umbral: 0.174\n",
      "Documento 425: [0.12 | 0.48 | 0.12 | 0.13 | 0.05 | 0.02 | 0.07] -> Tópicos seleccionados: [1], Umbral: 0.174\n",
      "Documento 426: [0.13 | 0.05 | 0.14 | 0.50 | 0.07 | 0.07 | 0.05] -> Tópicos seleccionados: [3], Umbral: 0.174\n",
      "Documento 427: [0.01 | 0.91 | 0.01 | 0.01 | 0.02 | 0.00 | 0.05] -> Tópicos seleccionados: [1], Umbral: 0.174\n",
      "Documento 428: [0.04 | 0.51 | 0.05 | 0.05 | 0.12 | 0.00 | 0.22] -> Tópicos seleccionados: [1, 6], Umbral: 0.174\n",
      "Documento 429: [0.08 | 0.05 | 0.16 | 0.42 | 0.05 | 0.19 | 0.06] -> Tópicos seleccionados: [3, 5], Umbral: 0.174\n",
      "Documento 430: [0.04 | 0.50 | 0.09 | 0.03 | 0.04 | 0.00 | 0.31] -> Tópicos seleccionados: [1, 6], Umbral: 0.174\n",
      "Documento 431: [0.09 | 0.46 | 0.06 | 0.14 | 0.13 | 0.04 | 0.07] -> Tópicos seleccionados: [1], Umbral: 0.174\n",
      "Documento 432: [0.05 | 0.38 | 0.05 | 0.03 | 0.14 | 0.00 | 0.34] -> Tópicos seleccionados: [1, 6], Umbral: 0.174\n",
      "Documento 433: [0.09 | 0.35 | 0.11 | 0.12 | 0.15 | 0.04 | 0.14] -> Tópicos seleccionados: [1], Umbral: 0.174\n",
      "Documento 434: [0.16 | 0.37 | 0.07 | 0.23 | 0.04 | 0.01 | 0.10] -> Tópicos seleccionados: [1, 3], Umbral: 0.174\n",
      "Documento 435: [0.04 | 0.70 | 0.07 | 0.07 | 0.05 | 0.04 | 0.04] -> Tópicos seleccionados: [1], Umbral: 0.174\n",
      "Documento 436: [0.13 | 0.39 | 0.11 | 0.13 | 0.04 | 0.06 | 0.14] -> Tópicos seleccionados: [1], Umbral: 0.174\n",
      "Documento 437: [0.05 | 0.31 | 0.18 | 0.22 | 0.09 | 0.10 | 0.06] -> Tópicos seleccionados: [1, 3, 2], Umbral: 0.174\n",
      "Documento 438: [0.05 | 0.36 | 0.08 | 0.06 | 0.15 | 0.01 | 0.29] -> Tópicos seleccionados: [1, 6], Umbral: 0.174\n",
      "Documento 439: [0.05 | 0.47 | 0.05 | 0.13 | 0.23 | 0.01 | 0.06] -> Tópicos seleccionados: [1, 4], Umbral: 0.174\n",
      "Documento 440: [0.08 | 0.08 | 0.12 | 0.25 | 0.14 | 0.25 | 0.08] -> Tópicos seleccionados: [3, 5], Umbral: 0.174\n",
      "Documento 441: [0.28 | 0.07 | 0.08 | 0.19 | 0.02 | 0.31 | 0.06] -> Tópicos seleccionados: [5, 0, 3], Umbral: 0.174\n",
      "Documento 442: [0.13 | 0.12 | 0.21 | 0.16 | 0.04 | 0.29 | 0.04] -> Tópicos seleccionados: [5, 2], Umbral: 0.174\n",
      "Documento 443: [0.03 | 0.03 | 0.03 | 0.05 | 0.64 | 0.01 | 0.21] -> Tópicos seleccionados: [4, 6], Umbral: 0.174\n",
      "Documento 444: [0.24 | 0.03 | 0.06 | 0.17 | 0.03 | 0.06 | 0.40] -> Tópicos seleccionados: [6, 0], Umbral: 0.174\n",
      "Documento 445: [0.29 | 0.05 | 0.06 | 0.41 | 0.01 | 0.13 | 0.04] -> Tópicos seleccionados: [3, 0], Umbral: 0.174\n",
      "Documento 446: [0.07 | 0.07 | 0.13 | 0.42 | 0.12 | 0.14 | 0.05] -> Tópicos seleccionados: [3], Umbral: 0.174\n",
      "Documento 447: [0.12 | 0.16 | 0.13 | 0.37 | 0.07 | 0.04 | 0.11] -> Tópicos seleccionados: [3], Umbral: 0.174\n",
      "Documento 448: [0.10 | 0.15 | 0.13 | 0.16 | 0.18 | 0.04 | 0.24] -> Tópicos seleccionados: [6, 4], Umbral: 0.174\n",
      "Documento 449: [0.09 | 0.10 | 0.10 | 0.31 | 0.18 | 0.18 | 0.04] -> Tópicos seleccionados: [3, 4, 5], Umbral: 0.174\n",
      "Documento 450: [0.15 | 0.22 | 0.17 | 0.13 | 0.03 | 0.26 | 0.04] -> Tópicos seleccionados: [5, 1], Umbral: 0.174\n",
      "Documento 451: [0.08 | 0.23 | 0.27 | 0.22 | 0.07 | 0.04 | 0.09] -> Tópicos seleccionados: [2, 1, 3], Umbral: 0.174\n",
      "Documento 452: [0.25 | 0.03 | 0.13 | 0.21 | 0.01 | 0.27 | 0.10] -> Tópicos seleccionados: [5, 0, 3], Umbral: 0.174\n",
      "Documento 453: [0.16 | 0.17 | 0.12 | 0.34 | 0.06 | 0.11 | 0.04] -> Tópicos seleccionados: [3], Umbral: 0.174\n",
      "Documento 454: [0.27 | 0.07 | 0.16 | 0.22 | 0.02 | 0.21 | 0.05] -> Tópicos seleccionados: [0, 3, 5], Umbral: 0.174\n",
      "Documento 455: [0.10 | 0.08 | 0.29 | 0.10 | 0.02 | 0.37 | 0.05] -> Tópicos seleccionados: [5, 2], Umbral: 0.174\n",
      "Documento 456: [0.16 | 0.05 | 0.38 | 0.14 | 0.03 | 0.19 | 0.05] -> Tópicos seleccionados: [2, 5], Umbral: 0.174\n",
      "Documento 457: [0.13 | 0.20 | 0.12 | 0.23 | 0.05 | 0.04 | 0.22] -> Tópicos seleccionados: [3, 6, 1], Umbral: 0.174\n",
      "Documento 458: [0.26 | 0.07 | 0.11 | 0.32 | 0.02 | 0.16 | 0.06] -> Tópicos seleccionados: [3, 0], Umbral: 0.174\n",
      "Documento 459: [0.10 | 0.09 | 0.35 | 0.13 | 0.10 | 0.05 | 0.18] -> Tópicos seleccionados: [2, 6], Umbral: 0.174\n",
      "Documento 460: [0.14 | 0.08 | 0.17 | 0.23 | 0.01 | 0.18 | 0.19] -> Tópicos seleccionados: [3, 6, 5], Umbral: 0.174\n",
      "Documento 461: [0.03 | 0.24 | 0.06 | 0.08 | 0.22 | 0.01 | 0.35] -> Tópicos seleccionados: [6, 1, 4], Umbral: 0.174\n",
      "Documento 462: [0.20 | 0.11 | 0.10 | 0.17 | 0.11 | 0.23 | 0.08] -> Tópicos seleccionados: [5, 0], Umbral: 0.174\n",
      "Documento 463: [0.05 | 0.03 | 0.07 | 0.13 | 0.02 | 0.67 | 0.02] -> Tópicos seleccionados: [5], Umbral: 0.174\n",
      "Documento 464: [0.07 | 0.22 | 0.17 | 0.16 | 0.14 | 0.02 | 0.21] -> Tópicos seleccionados: [1, 6], Umbral: 0.174\n",
      "Documento 465: [0.13 | 0.04 | 0.12 | 0.48 | 0.02 | 0.12 | 0.09] -> Tópicos seleccionados: [3], Umbral: 0.174\n",
      "Documento 466: [0.05 | 0.06 | 0.17 | 0.26 | 0.16 | 0.05 | 0.24] -> Tópicos seleccionados: [3, 6], Umbral: 0.174\n",
      "Documento 467: [0.08 | 0.12 | 0.14 | 0.31 | 0.21 | 0.08 | 0.06] -> Tópicos seleccionados: [3, 4], Umbral: 0.174\n",
      "Documento 468: [0.07 | 0.14 | 0.15 | 0.26 | 0.19 | 0.06 | 0.13] -> Tópicos seleccionados: [3, 4], Umbral: 0.174\n",
      "Documento 469: [0.13 | 0.09 | 0.15 | 0.21 | 0.10 | 0.03 | 0.29] -> Tópicos seleccionados: [6, 3], Umbral: 0.174\n",
      "Documento 470: [0.10 | 0.20 | 0.17 | 0.29 | 0.09 | 0.03 | 0.11] -> Tópicos seleccionados: [3, 1], Umbral: 0.174\n",
      "Documento 471: [0.35 | 0.07 | 0.12 | 0.07 | 0.32 | 0.04 | 0.03] -> Tópicos seleccionados: [0, 4], Umbral: 0.174\n",
      "Documento 472: [0.07 | 0.17 | 0.05 | 0.08 | 0.53 | 0.01 | 0.10] -> Tópicos seleccionados: [4], Umbral: 0.174\n",
      "Documento 473: [0.10 | 0.16 | 0.11 | 0.07 | 0.49 | 0.03 | 0.05] -> Tópicos seleccionados: [4], Umbral: 0.174\n",
      "Documento 474: [0.08 | 0.19 | 0.07 | 0.12 | 0.37 | 0.13 | 0.04] -> Tópicos seleccionados: [4, 1], Umbral: 0.174\n",
      "Documento 475: [0.22 | 0.20 | 0.08 | 0.14 | 0.16 | 0.04 | 0.14] -> Tópicos seleccionados: [0, 1], Umbral: 0.174\n",
      "Documento 476: [0.16 | 0.13 | 0.07 | 0.24 | 0.29 | 0.04 | 0.08] -> Tópicos seleccionados: [4, 3], Umbral: 0.174\n",
      "Documento 477: [0.17 | 0.02 | 0.07 | 0.21 | 0.01 | 0.49 | 0.02] -> Tópicos seleccionados: [5, 3], Umbral: 0.174\n",
      "Documento 478: [0.15 | 0.06 | 0.12 | 0.16 | 0.26 | 0.05 | 0.20] -> Tópicos seleccionados: [4, 6], Umbral: 0.174\n",
      "Documento 479: [0.09 | 0.19 | 0.12 | 0.16 | 0.07 | 0.14 | 0.22] -> Tópicos seleccionados: [6, 1], Umbral: 0.174\n",
      "Documento 480: [0.04 | 0.13 | 0.07 | 0.30 | 0.34 | 0.07 | 0.05] -> Tópicos seleccionados: [4, 3], Umbral: 0.174\n",
      "Documento 481: [0.25 | 0.06 | 0.28 | 0.12 | 0.01 | 0.23 | 0.05] -> Tópicos seleccionados: [2, 0, 5], Umbral: 0.174\n",
      "Documento 482: [0.04 | 0.03 | 0.06 | 0.54 | 0.14 | 0.16 | 0.02] -> Tópicos seleccionados: [3], Umbral: 0.174\n",
      "Documento 483: [0.21 | 0.13 | 0.18 | 0.29 | 0.03 | 0.08 | 0.07] -> Tópicos seleccionados: [3, 0, 2], Umbral: 0.174\n",
      "Documento 484: [0.07 | 0.14 | 0.05 | 0.11 | 0.05 | 0.03 | 0.54] -> Tópicos seleccionados: [6], Umbral: 0.174\n",
      "Documento 485: [0.22 | 0.18 | 0.22 | 0.16 | 0.03 | 0.16 | 0.04] -> Tópicos seleccionados: [0, 2, 1], Umbral: 0.174\n",
      "Documento 486: [0.14 | 0.09 | 0.42 | 0.12 | 0.14 | 0.02 | 0.08] -> Tópicos seleccionados: [2], Umbral: 0.174\n",
      "Documento 487: [0.10 | 0.04 | 0.17 | 0.44 | 0.02 | 0.18 | 0.05] -> Tópicos seleccionados: [3, 5], Umbral: 0.174\n",
      "Documento 488: [0.07 | 0.02 | 0.08 | 0.18 | 0.04 | 0.60 | 0.01] -> Tópicos seleccionados: [5, 3], Umbral: 0.174\n",
      "Documento 489: [0.30 | 0.07 | 0.14 | 0.17 | 0.03 | 0.03 | 0.26] -> Tópicos seleccionados: [0, 6], Umbral: 0.174\n"
     ]
    }
   ],
   "source": [
    "import numpy as np\n",
    "\n",
    "def select_topics_stat(doc_vec, threshold, max_topics=3):\n",
    "    \"\"\"\n",
    "    Selecciona tópicos estadísticamente mejores que azar (95% confianza).\n",
    "    - Usa un threshold ya calculado.\n",
    "    - Máximo max_topics tópicos seleccionados.\n",
    "    \"\"\"\n",
    "    doc_vec = np.array(doc_vec)\n",
    "    order = np.argsort(doc_vec)[::-1]\n",
    "\n",
    "    selected = []\n",
    "    for i in order:\n",
    "        if doc_vec[i] > threshold:\n",
    "            selected.append(i)\n",
    "        if len(selected) >= max_topics:\n",
    "            break\n",
    "\n",
    "    return selected\n",
    "\n",
    "# Calcular solo una vez\n",
    "N = len(doc_topic_dist)\n",
    "C = doc_topic_dist.shape[1]\n",
    "p = 1 / C\n",
    "sigma = np.sqrt(p * (1 - p) / N)\n",
    "threshold = p + 1.96 * sigma\n",
    "\n",
    "# Aplicar a todos los documentos\n",
    "for i, doc in enumerate(doc_topic_dist, 1):\n",
    "    selected = select_topics_stat(doc, threshold)\n",
    "    probs_str = \" | \".join(f\"{p:.2f}\" for p in doc)\n",
    "    print(f\"Documento {i}: [{probs_str}] -> Tópicos seleccionados: {selected}, Umbral: {threshold:.3f}\")\n"
   ]
  },
  {
   "cell_type": "code",
   "execution_count": null,
   "id": "0c7c2465",
   "metadata": {},
   "outputs": [],
   "source": [
    "topic_info = procesar_topicos_fastopic(topic_model, doc_topic_dist, top_words)\n",
    "\n",
    "# Preparar información de todos los tópicos para procesamiento en lote\n",
    "topics_info_text = \"\"\n",
    "for _, row in topic_info.iterrows():\n",
    "    topic_id = row['Topic']\n",
    "    keywords = row['Keywords']\n",
    "    if keywords and keywords not in [\"Sin palabras\", \"Error en procesamiento\"]:\n",
    "        topics_info_text += f\"Tópico {topic_id}: {keywords}\\n\"\n",
    "\n",
    "resultado = clasificador_topicos.invoke({\"topics_info\": topics_info_text})\n",
    "\n",
    "topic_names = {}\n",
    "for topic_label in resultado.topics:\n",
    "    topic_names[topic_label.topic_id] = topic_label.label\n",
    "\n",
    "topic_info['Name'] = topic_info['Topic'].map(topic_names)"
   ]
  },
  {
   "cell_type": "code",
   "execution_count": null,
   "id": "8f86ee20",
   "metadata": {},
   "outputs": [
    {
     "name": "stdout",
     "output_type": "stream",
     "text": [
      "Tópico 0: misa, tour, duda, pareja, fe, bas, milagro, recomeir, volverio, importancia\n",
      "Tópico 1: mural, castillo, palacio, chap, rivera, interior, artes, parque, espectaculo, ballet\n",
      "Tópico 2: iglesia, mercado, barrio, virgen, capilla, aloj, escalera, bas, top, mujer\n",
      "Tópico 3: casa, fri, tiempo, valer, pena, hora, llegar, visitar, caminar, 5\n",
      "Tópico 4: museo, coleccion, piso, arte, pieza, obra, planta, rod, antrop, re\n",
      "Tópico 5: animal, acu, grupo, cuidado, servicio, nino, actividad, personal, horario, faltar\n",
      "Tópico 6: ciudad, plaza, mexico, templo, centro, catedral, restaurante, calle, vida, mexic\n",
      "\n"
     ]
    }
   ],
   "source": [
    "print(topics_info_text)"
   ]
  },
  {
   "cell_type": "code",
   "execution_count": null,
   "id": "66c45ab3",
   "metadata": {},
   "outputs": [
    {
     "name": "stdout",
     "output_type": "stream",
     "text": [
      "topics=[TopicLabel(topic_id=0, label='Religioso'), TopicLabel(topic_id=1, label='Arte y Cultura'), TopicLabel(topic_id=2, label='Patrimonio Religioso'), TopicLabel(topic_id=3, label='Visitas Guiadas'), TopicLabel(topic_id=4, label='Museos'), TopicLabel(topic_id=5, label='Vida Marina'), TopicLabel(topic_id=6, label='Sitios Históricos')]\n"
     ]
    }
   ],
   "source": [
    "print(resultado)"
   ]
  },
  {
   "cell_type": "code",
   "execution_count": null,
   "id": "dfb93d62",
   "metadata": {},
   "outputs": [
    {
     "name": "stdout",
     "output_type": "stream",
     "text": [
      "🔄 SOBRESCRIBIENDO resultados previos para Cdmx:\n",
      "   📝 Opiniones con tópicos previos: 489\n",
      "   🆕 Nuevas asignaciones de tópicos: 489\n",
      "\n",
      "✅ Actualización completada para Cdmx\n",
      "Distribución de tópicos en Cdmx:\n",
      "Topico_Nombre\n",
      "Museos                  96\n",
      "Vida Marina             93\n",
      "Sitios Históricos       75\n",
      "Religioso               71\n",
      "Arte y Cultura          68\n",
      "Patrimonio Religioso    55\n",
      "Visitas Guiadas         31\n",
      "Name: count, dtype: int64\n",
      "\n",
      "Porcentaje de opiniones por tópico en Cdmx:\n",
      "Museos: 19.63%\n",
      "Vida Marina: 19.02%\n",
      "Sitios Históricos: 15.34%\n",
      "Religioso: 14.52%\n",
      "Arte y Cultura: 13.91%\n",
      "Patrimonio Religioso: 11.25%\n",
      "Visitas Guiadas: 6.34%\n",
      "\n",
      "Estado actualización dataset completo:\n",
      "Total opiniones: 2459\n",
      "Opiniones con tópico FASTopic asignado: 489\n",
      "Opiniones pendientes: 1970\n"
     ]
    }
   ],
   "source": [
    "# Obtener asignaciones de tópicos para documentos\n",
    "topic_assignments, topic_names_assigned, topic_probabilities = obtener_asignaciones_topicos_fastopic(\n",
    "    doc_topic_dist, \n",
    "    topic_names, \n",
    "    threshold=0.1\n",
    ")\n",
    "\n",
    "# Procesar solo datos de la ciudad seleccionada\n",
    "df_con_topicos = df_ciudad.dropna(subset=[columna_texto]).copy()\n",
    "df_con_topicos['Topico'] = topic_assignments\n",
    "df_con_topicos['Topico_Nombre'] = topic_names_assigned\n",
    "df_con_topicos['Probabilidad_Topico'] = topic_probabilities\n",
    "\n",
    "# Verificar si la ciudad ya tenía resultados previos\n",
    "indices_ciudad = df_con_topicos.index\n",
    "opiniones_previas = df.loc[indices_ciudad, 'TopicoConFASTopic'].notna().sum()\n",
    "\n",
    "if opiniones_previas > 0:\n",
    "    print(f\"🔄 SOBRESCRIBIENDO resultados previos para {CIUDAD_ANALIZAR}:\")\n",
    "    print(f\"   📝 Opiniones con tópicos previos: {opiniones_previas}\")\n",
    "    print(f\"   🆕 Nuevas asignaciones de tópicos: {len(df_con_topicos)}\")\n",
    "else:\n",
    "    print(f\"🆕 PRIMERA VEZ procesando {CIUDAD_ANALIZAR}:\")\n",
    "    print(f\"   📝 Nuevas asignaciones de tópicos: {len(df_con_topicos)}\")\n",
    "\n",
    "# Actualizar el dataset original con los tópicos de la ciudad analizada\n",
    "df.loc[indices_ciudad, 'TopicoConFASTopic'] = df_con_topicos['Topico_Nombre']\n",
    "\n",
    "print(f\"\\n✅ Actualización completada para {CIUDAD_ANALIZAR}\")\n",
    "print(f\"Distribución de tópicos en {CIUDAD_ANALIZAR}:\")\n",
    "topico_counts = df_con_topicos['Topico_Nombre'].value_counts()\n",
    "print(topico_counts)\n",
    "\n",
    "print(f\"\\nPorcentaje de opiniones por tópico en {CIUDAD_ANALIZAR}:\")\n",
    "topico_pct = (topico_counts / len(df_con_topicos) * 100).round(2)\n",
    "for topico, pct in topico_pct.items():\n",
    "    print(f\"{topico}: {pct}%\")\n",
    "\n",
    "print(f\"\\nEstado actualización dataset completo:\")\n",
    "print(f\"Total opiniones: {len(df)}\")\n",
    "print(f\"Opiniones con tópico FASTopic asignado: {df['TopicoConFASTopic'].notna().sum()}\")\n",
    "print(f\"Opiniones pendientes: {df['TopicoConFASTopic'].isna().sum()}\")"
   ]
  },
  {
   "cell_type": "code",
   "execution_count": null,
   "id": "84a05bd0",
   "metadata": {},
   "outputs": [],
   "source": [
    "# Obtener asignaciones de tópicos para documentos\n",
    "topic_assignments, topic_names_assigned, topic_probabilities = obtener_asignaciones_topicos_fastopic(\n",
    "    doc_topic_dist, \n",
    "    topic_names, \n",
    "    threshold=0.1\n",
    ")\n",
    "\n",
    "# Procesar solo datos de la ciudad seleccionada\n",
    "df_con_topicos = df_ciudad.dropna(subset=[columna_texto]).copy()\n",
    "df_con_topicos['Topico'] = topic_assignments\n",
    "df_con_topicos['Topico_Nombre'] = topic_names_assigned\n",
    "df_con_topicos['Probabilidad_Topico'] = topic_probabilities\n",
    "\n",
    "# Actualizar el dataset original con los tópicos de la ciudad analizada\n",
    "indices_ciudad = df_con_topicos.index\n",
    "df.loc[indices_ciudad, 'TopicoConFASTopic'] = df_con_topicos['Topico_Nombre']"
   ]
  },
  {
   "cell_type": "code",
   "execution_count": null,
   "id": "bc786cf1",
   "metadata": {},
   "outputs": [
    {
     "name": "stdout",
     "output_type": "stream",
     "text": [
      "📚 EJEMPLOS DE OPINIONES POR TÓPICO\n",
      "======================================================================\n",
      "\n",
      "🏷️ 1. Museos\n",
      "📊 Total de opiniones: 96\n",
      "📝 Ejemplos:\n",
      "   1. A waste of my time!. I'm glad ( as a senior citizen.) l didn't have to pay to get into this absolute...\n",
      "   2. un museo escondido. un gran museo dentro existe un gran museo que pocos conocen un rincón con maravi...\n",
      "   3. Best museum in CMDX!. Incredible museum and such a great way to spend a few hours in beautiful CMDX!...\n",
      "----------------------------------------------------------------------\n",
      "\n",
      "🏷️ 2. Vida Marina\n",
      "📊 Total de opiniones: 93\n",
      "📝 Ejemplos:\n",
      "   1. 10 de 10. Simplemente espectacular! No se lo pierdan el ballet folklórico. Tienen mucho talento esos...\n",
      "   2. Ballet Folklórico de México de Amalia Hernández. excelente producción, que te llena los sentidos y t...\n",
      "   3. Unique Place, Exceeded My Expectations. This place truly exceeded my expectations. It's unique, thou...\n",
      "----------------------------------------------------------------------\n",
      "\n",
      "🏷️ 3. Sitios Históricos\n",
      "📊 Total de opiniones: 75\n",
      "📝 Ejemplos:\n",
      "   1. Un edificio que data de unos 100 años aproximadamente si es lo que entendí quisa más, el lugar se si...\n",
      "   2. Amazing architecture. Gorgeous architecture with a beautiful nearby park! Also, plenty of street ven...\n",
      "   3. Mind blowing!. It’s a MUST stop for any art lover, when visiting Mexico City.Excellent collection of...\n",
      "----------------------------------------------------------------------\n",
      "\n",
      "🏷️ 4. Religioso\n",
      "📊 Total de opiniones: 71\n",
      "📝 Ejemplos:\n",
      "   1. Muy asequible. Lo recomiendo. Aunque no he viajado por Europa, África y Asia, sí he estado en alguno...\n",
      "   2. Arte y vistas hermosas. Conocer por fin este recinto de cultura sin duda fue de lo mejor en mi visit...\n",
      "   3. Lindo. Lindo y staff muy amable. Hay mucha historia que aprender. Recomiendo hacer al menos una part...\n",
      "----------------------------------------------------------------------\n",
      "\n",
      "🏷️ 5. Arte y Cultura\n",
      "📊 Total de opiniones: 68\n",
      "📝 Ejemplos:\n",
      "   1. Mexican muralism at its finest!. It was an outstanding example of Mexican muralism. A do not miss ac...\n",
      "   2. Siempre agradable. En esta ocasión fui al museo, que albergaba la exposición “La Revolución Impresio...\n",
      "   3. Views and more. Best exterior view of the Art Nouveau building is from the Sears building 8th floor ...\n",
      "----------------------------------------------------------------------\n"
     ]
    }
   ],
   "source": [
    "# Mostrar ejemplos de opiniones por tópico\n",
    "mostrar_ejemplos_por_topico_fastopic(\n",
    "    df_con_topicos, \n",
    "    topico_col='Topico_Nombre',\n",
    "    texto_col='TituloReview',\n",
    "    n_ejemplos=3,\n",
    "    top_n_topicos=5\n",
    ")"
   ]
  },
  {
   "cell_type": "code",
   "execution_count": null,
   "id": "a639901d",
   "metadata": {},
   "outputs": [
    {
     "name": "stdout",
     "output_type": "stream",
     "text": [
      "🔍 Comparación de ejemplos - Original vs Limpio (Cdmx):\n",
      "================================================================================\n",
      "\n",
      "📄 EJEMPLO 1 - Tópico: Vida Marina\n",
      "🔸 Original: Fue divertida, entretenida y adecuada a varias edades. Buena, personal amable y atracciones didácticas, es muy amplio y con muchas actividades a realizar, accesos y promociones adecuadas a las necesidades.\n",
      "🔹 Limpio:   ser y a varios edad personal y atracción ser mucho y con mucho actividad a realizar acceso y promo a el necesidad\n",
      "📊 Probabilidad: 0.844\n",
      "📉 Reducción: 205 → 113 caracteres (44.9%)\n",
      "--------------------------------------------------------------------------------\n",
      "\n",
      "📄 EJEMPLO 2 - Tópico: Religioso\n",
      "🔸 Original: Comodidad. El mejor lugar sin duda. Es bueno saber que hay castillos de verdad en nuestro continente. El único pero fue que era muy alto. Así que vayan muy cómodos por favor.\n",
      "🔹 Limpio:   como el lugar sin duda ser bueno saber que haber castillo de verdad en nuestro continente el pero ser que ser mucho asi que ir mucho por favor\n",
      "📊 Probabilidad: 0.324\n",
      "📉 Reducción: 174 → 142 caracteres (18.4%)\n",
      "--------------------------------------------------------------------------------\n",
      "\n",
      "📄 EJEMPLO 3 - Tópico: Sitios Históricos\n",
      "🔸 Original: El punto de partida central para visitar la Ciudad de México. Un lugar obligado para cualquier viaje a la Ciudad de México. Enorme plaza abierta con la bandera más grande que jamás verás. Siempre pasa algo aquí con un ambiente maravilloso.\n",
      "🔹 Limpio:   el punto de partida para visitar el ciudad de mexico uno lugar para cualquiera viaje a el ciudad de mexico plaza con el bandera mas que jama vera siempre pasar algo aqui con uno ambiente\n",
      "📊 Probabilidad: 0.657\n",
      "📉 Reducción: 239 → 186 caracteres (22.2%)\n",
      "--------------------------------------------------------------------------------\n",
      "\n",
      "📄 EJEMPLO 4 - Tópico: Arte y Cultura\n",
      "🔸 Original: Sitio histórico. Es un lugar lleno de historia, tanto en las afueras como en su interior. Los domingos la entrada es gratuita y hacen recorridos guiados muy interesantes donde hablan de la historia de los murales. También se presenta el ballet folklórico, un evento para conocer más de la música, danza y cultura mexicana.\n",
      "🔹 Limpio:   sitio ser uno lugar de historia tanto en el afuera como en su interior el domingo el entrada ser y hacer recorrido mucho donde hablar de el historia de el mural tambien él presentar el ballet uno evento para conocer mas de el musico danza y cultura\n",
      "📊 Probabilidad: 0.448\n",
      "📉 Reducción: 322 → 248 caracteres (23.0%)\n",
      "--------------------------------------------------------------------------------\n",
      "\n",
      "📄 EJEMPLO 5 - Tópico: Museos\n",
      "🔸 Original: This museum is great for anthropology and historical lovers. A myriad of collections from around the world. This is a great museum for anthropology enthusiasts and history buffs. If you do not read Spanish you will need an audio guide or language appropriate guide to fully appreciate the museum.\n",
      "🔹 Limpio:   este museo ser para el amante de el antrop y el historia uno mir de colección de todo el mundo este ser uno museo para el entusia de el antrop y el aficionado a el historia si no leer espanol necesitar uno audio o uno guia para apreciar plenamente el museo\n",
      "📊 Probabilidad: 0.511\n",
      "📉 Reducción: 296 → 256 caracteres (13.5%)\n",
      "--------------------------------------------------------------------------------\n",
      "\n",
      "📄 EJEMPLO 6 - Tópico: Museos\n",
      "🔸 Original: Visita recomendada, muy interesante. Este es un museo de sitio muy interesante y completo. La visita parte con la vista de una maqueta del complejo, luego un recorrido por la zona excavada, para terminar dentro del museo donde se resguardan las piezas encontradas. Fue una muy grata sorpresa, ya que no esperaba encontrar tanta historia y la oportunidad de recorrer un sitio arqueológico que se encuentra aún en excavación, literalmente en medio de la ciudad. Sinceramente, una de las experiencias que más me gustó en mi visita a esta ciudad.\n",
      "🔹 Limpio:   vis mucho este ser uno museo de sitio mucho y el visita parte con el vista de uno ma del complejo luego uno recorrido por el zona para terminar dentro del museo donde él resguar el pieza ser uno mucho sorpresa ya que no esperar encontrar tanto historia y el oportunidad de recorrer uno sitio que él encontrar aun en excav literalmente en medio de el ciudad sinceramente uno de el experiencia que mas yo gusto en mi visita a este ciudad\n",
      "📊 Probabilidad: 0.290\n",
      "📉 Reducción: 542 → 435 caracteres (19.7%)\n",
      "--------------------------------------------------------------------------------\n",
      "\n",
      "📄 EJEMPLO 7 - Tópico: Patrimonio Religioso\n",
      "🔸 Original: Sacred site worth visiting. I was raised Catholic but no longer practice.  Still you needn't be religious to find that this site is worth the trip and an hour or two of your time.  It's really a huge complex.  The new basilica houses the image of the virgin, which is located behind the altar.  Visit all of the churches/chapels to get the complete picture and to enjoy the views of the city.\n",
      "🔹 Limpio:   lugar que merecer el pena visitar ir criado pero ya no practic sin embargo no ser ser para encontrar que este sitio valer el pena el viaje y uno hora o dos de su tiempo ser realmente uno complejo el bas albergar el imagen de el virgen que él encontrar detras del altar vis todo el iglesia unk capilla para obtener el imagen y para disfrutar de el vista de el ciudad\n",
      "📊 Probabilidad: 0.350\n",
      "📉 Reducción: 392 → 365 caracteres (6.9%)\n",
      "--------------------------------------------------------------------------------\n",
      "\n",
      "📄 EJEMPLO 8 - Tópico: Sitios Históricos\n",
      "🔸 Original: Barrio genial para visitar. Este es un barrio pintoresco en la Ciudad de México con bonitas tiendas y restaurantes. El parque es bonito y el mercado parecía interesante (por desgracia no tuvimos tiempo para explorarlo). Es un buen lugar para visitar, especialmente si necesitas matar algún tiempo antes / después de ir a La Casa Azúl.\n",
      "🔹 Limpio:   barrio para visitar este ser uno barrio en el ciudad de mexico con tienda y restaurante el parque ser y el mercado pareciar por desgracia no tener tiempo para explorar ser uno lugar para visitar especialmente si necesitar matar algun tiempo antes unk despu de ir a el casa az\n",
      "📊 Probabilidad: 0.288\n",
      "📉 Reducción: 334 → 275 caracteres (17.7%)\n",
      "--------------------------------------------------------------------------------\n",
      "\n",
      "📄 EJEMPLO 9 - Tópico: Patrimonio Religioso\n",
      "🔸 Original: Incredibly beautiful facade. Designed by Adamo Boari in 1904 and completed after a hiatus in 1932 by Mexican architect Federico Mariscal this is one of the most beautiful buildings in Mexico. Small but elegant gardens lead the eye, the foot, and the person inevitably to a hugely impressive facade. A building to be proud of.\n",
      "🔹 Limpio:   fac increiblemente disar por adam en 1904 y completado despu de uno pausa en 1932 por el arquitecto mari este ser uno de el edificio mas de mexico pero jardines llevar el ojo el pie y el persona inevitable a uno fachada enormemente uno edificio de estar\n",
      "📊 Probabilidad: 0.341\n",
      "📉 Reducción: 325 → 253 caracteres (22.2%)\n",
      "--------------------------------------------------------------------------------\n",
      "\n",
      "📄 EJEMPLO 10 - Tópico: Museos\n",
      "🔸 Original: Una belleza. A mi novio y a mi nos gustó visitar este museo, hay tantas cosas que ver y aprender. Hay una gran variedad de pinturas, esculturas y más.\n",
      "🔹 Limpio:   uno belleza a mi novio y a mi yo gusto visitar este museo haber tanto cosa que ver y aprender haber uno variedad de pintura escultura y mas\n",
      "📊 Probabilidad: 0.519\n",
      "📉 Reducción: 150 → 139 caracteres (7.3%)\n",
      "--------------------------------------------------------------------------------\n"
     ]
    }
   ],
   "source": [
    "# ===== COMPARACIÓN TEXTO ORIGINAL VS TEXTO LIMPIO =====\n",
    "if 'TituloReviewLimpio' in df_con_topicos.columns:\n",
    "    print(f\"🔍 Comparación de ejemplos - Original vs Limpio ({CIUDAD_ANALIZAR}):\")\n",
    "    print(\"=\" * 80)\n",
    "    \n",
    "    # Seleccionar algunos ejemplos para mostrar la diferencia\n",
    "    ejemplos_muestra = df_con_topicos.sample(n=min(10, len(df_con_topicos)))\n",
    "    \n",
    "    for i, (_, row) in enumerate(ejemplos_muestra.iterrows(), 1):\n",
    "        print(f\"\\n📄 EJEMPLO {i} - Tópico: {row['Topico_Nombre']}\")\n",
    "        print(f\"🔸 Original: {row['TituloReview']}\")\n",
    "        print(f\"🔹 Limpio:   {row['TituloReviewLimpio']}\")\n",
    "        print(f\"📊 Probabilidad: {row['Probabilidad_Topico']:.3f}\")\n",
    "        \n",
    "        # Calcular estadísticas del ejemplo\n",
    "        len_orig = len(str(row['TituloReview']))\n",
    "        len_limpio = len(str(row['TituloReviewLimpio']))\n",
    "        reduccion = ((len_orig-len_limpio)/len_orig*100) if len_orig > 0 else 0\n",
    "        print(f\"📉 Reducción: {len_orig} → {len_limpio} caracteres ({reduccion:.1f}%)\")\n",
    "        print(\"-\" * 80)"
   ]
  },
  {
   "cell_type": "code",
   "execution_count": null,
   "id": "a58f52cf",
   "metadata": {},
   "outputs": [
    {
     "data": {
      "application/vnd.plotly.v1+json": {
       "config": {
        "plotlyServerURL": "https://plot.ly"
       },
       "data": [
        {
         "marker": {
          "color": "#D55E00"
         },
         "orientation": "h",
         "type": "bar",
         "x": {
          "bdata": "bm2cPEl0nzz3YrA8YgC0PEO7tzw=",
          "dtype": "f4"
         },
         "xaxis": "x",
         "y": [
          "pena",
          "valer",
          "tiempo",
          "fri",
          "casa"
         ],
         "yaxis": "y"
        },
        {
         "marker": {
          "color": "#0072B2"
         },
         "orientation": "h",
         "type": "bar",
         "x": {
          "bdata": "gUZqPLetbzwwqHg8WkK0PJAywTw=",
          "dtype": "f4"
         },
         "xaxis": "x2",
         "y": [
          "pieza",
          "arte",
          "piso",
          "coleccion",
          "museo"
         ],
         "yaxis": "y2"
        },
        {
         "marker": {
          "color": "#CC79A7"
         },
         "orientation": "h",
         "type": "bar",
         "x": {
          "bdata": "7ZJ0PLRpjDxej6k8wretPImuuDw=",
          "dtype": "f4"
         },
         "xaxis": "x3",
         "y": [
          "centro",
          "templo",
          "mexico",
          "plaza",
          "ciudad"
         ],
         "yaxis": "y3"
        },
        {
         "marker": {
          "color": "#E69F00"
         },
         "orientation": "h",
         "type": "bar",
         "x": {
          "bdata": "jqpvPBHugjwqgIM8uqmvPGEjwTw=",
          "dtype": "f4"
         },
         "xaxis": "x4",
         "y": [
          "servicio",
          "cuidado",
          "grupo",
          "acu",
          "animal"
         ],
         "yaxis": "y4"
        },
        {
         "marker": {
          "color": "#56B4E9"
         },
         "orientation": "h",
         "type": "bar",
         "x": {
          "bdata": "mBtRPMkYXzyWO4U8xaqOPMGNwDw=",
          "dtype": "f4"
         },
         "xaxis": "x5",
         "y": [
          "capilla",
          "virgen",
          "barrio",
          "mercado",
          "iglesia"
         ],
         "yaxis": "y5"
        },
        {
         "marker": {
          "color": "#009E73"
         },
         "orientation": "h",
         "type": "bar",
         "x": {
          "bdata": "T+VXPEJEXTzmoG88dqOjPEbwzDw=",
          "dtype": "f4"
         },
         "xaxis": "x6",
         "y": [
          "fe",
          "pareja",
          "duda",
          "tour",
          "misa"
         ],
         "yaxis": "y6"
        },
        {
         "marker": {
          "color": "#F0E442"
         },
         "orientation": "h",
         "type": "bar",
         "x": {
          "bdata": "6QR0PPGimDybua08oWa2PBtLyTw=",
          "dtype": "f4"
         },
         "xaxis": "x7",
         "y": [
          "rivera",
          "chap",
          "palacio",
          "castillo",
          "mural"
         ],
         "yaxis": "y7"
        }
       ],
       "layout": {
        "annotations": [
         {
          "font": {
           "size": 16
          },
          "showarrow": false,
          "text": "Topic 3",
          "x": 0.0875,
          "xanchor": "center",
          "xref": "paper",
          "y": 1,
          "yanchor": "bottom",
          "yref": "paper"
         },
         {
          "font": {
           "size": 16
          },
          "showarrow": false,
          "text": "Topic 4",
          "x": 0.36250000000000004,
          "xanchor": "center",
          "xref": "paper",
          "y": 1,
          "yanchor": "bottom",
          "yref": "paper"
         },
         {
          "font": {
           "size": 16
          },
          "showarrow": false,
          "text": "Topic 6",
          "x": 0.6375000000000001,
          "xanchor": "center",
          "xref": "paper",
          "y": 1,
          "yanchor": "bottom",
          "yref": "paper"
         },
         {
          "font": {
           "size": 16
          },
          "showarrow": false,
          "text": "Topic 5",
          "x": 0.9125,
          "xanchor": "center",
          "xref": "paper",
          "y": 1,
          "yanchor": "bottom",
          "yref": "paper"
         },
         {
          "font": {
           "size": 16
          },
          "showarrow": false,
          "text": "Topic 2",
          "x": 0.0875,
          "xanchor": "center",
          "xref": "paper",
          "y": 0.375,
          "yanchor": "bottom",
          "yref": "paper"
         },
         {
          "font": {
           "size": 16
          },
          "showarrow": false,
          "text": "Topic 0",
          "x": 0.36250000000000004,
          "xanchor": "center",
          "xref": "paper",
          "y": 0.375,
          "yanchor": "bottom",
          "yref": "paper"
         },
         {
          "font": {
           "size": 16
          },
          "showarrow": false,
          "text": "Topic 1",
          "x": 0.6375000000000001,
          "xanchor": "center",
          "xref": "paper",
          "y": 0.375,
          "yanchor": "bottom",
          "yref": "paper"
         }
        ],
        "height": 500,
        "hoverlabel": {
         "bgcolor": "white",
         "font": {
          "family": "Rockwell",
          "size": 16
         }
        },
        "showlegend": false,
        "template": {
         "data": {
          "bar": [
           {
            "error_x": {
             "color": "#2a3f5f"
            },
            "error_y": {
             "color": "#2a3f5f"
            },
            "marker": {
             "line": {
              "color": "white",
              "width": 0.5
             },
             "pattern": {
              "fillmode": "overlay",
              "size": 10,
              "solidity": 0.2
             }
            },
            "type": "bar"
           }
          ],
          "barpolar": [
           {
            "marker": {
             "line": {
              "color": "white",
              "width": 0.5
             },
             "pattern": {
              "fillmode": "overlay",
              "size": 10,
              "solidity": 0.2
             }
            },
            "type": "barpolar"
           }
          ],
          "carpet": [
           {
            "aaxis": {
             "endlinecolor": "#2a3f5f",
             "gridcolor": "#C8D4E3",
             "linecolor": "#C8D4E3",
             "minorgridcolor": "#C8D4E3",
             "startlinecolor": "#2a3f5f"
            },
            "baxis": {
             "endlinecolor": "#2a3f5f",
             "gridcolor": "#C8D4E3",
             "linecolor": "#C8D4E3",
             "minorgridcolor": "#C8D4E3",
             "startlinecolor": "#2a3f5f"
            },
            "type": "carpet"
           }
          ],
          "choropleth": [
           {
            "colorbar": {
             "outlinewidth": 0,
             "ticks": ""
            },
            "type": "choropleth"
           }
          ],
          "contour": [
           {
            "colorbar": {
             "outlinewidth": 0,
             "ticks": ""
            },
            "colorscale": [
             [
              0,
              "#0d0887"
             ],
             [
              0.1111111111111111,
              "#46039f"
             ],
             [
              0.2222222222222222,
              "#7201a8"
             ],
             [
              0.3333333333333333,
              "#9c179e"
             ],
             [
              0.4444444444444444,
              "#bd3786"
             ],
             [
              0.5555555555555556,
              "#d8576b"
             ],
             [
              0.6666666666666666,
              "#ed7953"
             ],
             [
              0.7777777777777778,
              "#fb9f3a"
             ],
             [
              0.8888888888888888,
              "#fdca26"
             ],
             [
              1,
              "#f0f921"
             ]
            ],
            "type": "contour"
           }
          ],
          "contourcarpet": [
           {
            "colorbar": {
             "outlinewidth": 0,
             "ticks": ""
            },
            "type": "contourcarpet"
           }
          ],
          "heatmap": [
           {
            "colorbar": {
             "outlinewidth": 0,
             "ticks": ""
            },
            "colorscale": [
             [
              0,
              "#0d0887"
             ],
             [
              0.1111111111111111,
              "#46039f"
             ],
             [
              0.2222222222222222,
              "#7201a8"
             ],
             [
              0.3333333333333333,
              "#9c179e"
             ],
             [
              0.4444444444444444,
              "#bd3786"
             ],
             [
              0.5555555555555556,
              "#d8576b"
             ],
             [
              0.6666666666666666,
              "#ed7953"
             ],
             [
              0.7777777777777778,
              "#fb9f3a"
             ],
             [
              0.8888888888888888,
              "#fdca26"
             ],
             [
              1,
              "#f0f921"
             ]
            ],
            "type": "heatmap"
           }
          ],
          "histogram": [
           {
            "marker": {
             "pattern": {
              "fillmode": "overlay",
              "size": 10,
              "solidity": 0.2
             }
            },
            "type": "histogram"
           }
          ],
          "histogram2d": [
           {
            "colorbar": {
             "outlinewidth": 0,
             "ticks": ""
            },
            "colorscale": [
             [
              0,
              "#0d0887"
             ],
             [
              0.1111111111111111,
              "#46039f"
             ],
             [
              0.2222222222222222,
              "#7201a8"
             ],
             [
              0.3333333333333333,
              "#9c179e"
             ],
             [
              0.4444444444444444,
              "#bd3786"
             ],
             [
              0.5555555555555556,
              "#d8576b"
             ],
             [
              0.6666666666666666,
              "#ed7953"
             ],
             [
              0.7777777777777778,
              "#fb9f3a"
             ],
             [
              0.8888888888888888,
              "#fdca26"
             ],
             [
              1,
              "#f0f921"
             ]
            ],
            "type": "histogram2d"
           }
          ],
          "histogram2dcontour": [
           {
            "colorbar": {
             "outlinewidth": 0,
             "ticks": ""
            },
            "colorscale": [
             [
              0,
              "#0d0887"
             ],
             [
              0.1111111111111111,
              "#46039f"
             ],
             [
              0.2222222222222222,
              "#7201a8"
             ],
             [
              0.3333333333333333,
              "#9c179e"
             ],
             [
              0.4444444444444444,
              "#bd3786"
             ],
             [
              0.5555555555555556,
              "#d8576b"
             ],
             [
              0.6666666666666666,
              "#ed7953"
             ],
             [
              0.7777777777777778,
              "#fb9f3a"
             ],
             [
              0.8888888888888888,
              "#fdca26"
             ],
             [
              1,
              "#f0f921"
             ]
            ],
            "type": "histogram2dcontour"
           }
          ],
          "mesh3d": [
           {
            "colorbar": {
             "outlinewidth": 0,
             "ticks": ""
            },
            "type": "mesh3d"
           }
          ],
          "parcoords": [
           {
            "line": {
             "colorbar": {
              "outlinewidth": 0,
              "ticks": ""
             }
            },
            "type": "parcoords"
           }
          ],
          "pie": [
           {
            "automargin": true,
            "type": "pie"
           }
          ],
          "scatter": [
           {
            "fillpattern": {
             "fillmode": "overlay",
             "size": 10,
             "solidity": 0.2
            },
            "type": "scatter"
           }
          ],
          "scatter3d": [
           {
            "line": {
             "colorbar": {
              "outlinewidth": 0,
              "ticks": ""
             }
            },
            "marker": {
             "colorbar": {
              "outlinewidth": 0,
              "ticks": ""
             }
            },
            "type": "scatter3d"
           }
          ],
          "scattercarpet": [
           {
            "marker": {
             "colorbar": {
              "outlinewidth": 0,
              "ticks": ""
             }
            },
            "type": "scattercarpet"
           }
          ],
          "scattergeo": [
           {
            "marker": {
             "colorbar": {
              "outlinewidth": 0,
              "ticks": ""
             }
            },
            "type": "scattergeo"
           }
          ],
          "scattergl": [
           {
            "marker": {
             "colorbar": {
              "outlinewidth": 0,
              "ticks": ""
             }
            },
            "type": "scattergl"
           }
          ],
          "scattermap": [
           {
            "marker": {
             "colorbar": {
              "outlinewidth": 0,
              "ticks": ""
             }
            },
            "type": "scattermap"
           }
          ],
          "scattermapbox": [
           {
            "marker": {
             "colorbar": {
              "outlinewidth": 0,
              "ticks": ""
             }
            },
            "type": "scattermapbox"
           }
          ],
          "scatterpolar": [
           {
            "marker": {
             "colorbar": {
              "outlinewidth": 0,
              "ticks": ""
             }
            },
            "type": "scatterpolar"
           }
          ],
          "scatterpolargl": [
           {
            "marker": {
             "colorbar": {
              "outlinewidth": 0,
              "ticks": ""
             }
            },
            "type": "scatterpolargl"
           }
          ],
          "scatterternary": [
           {
            "marker": {
             "colorbar": {
              "outlinewidth": 0,
              "ticks": ""
             }
            },
            "type": "scatterternary"
           }
          ],
          "surface": [
           {
            "colorbar": {
             "outlinewidth": 0,
             "ticks": ""
            },
            "colorscale": [
             [
              0,
              "#0d0887"
             ],
             [
              0.1111111111111111,
              "#46039f"
             ],
             [
              0.2222222222222222,
              "#7201a8"
             ],
             [
              0.3333333333333333,
              "#9c179e"
             ],
             [
              0.4444444444444444,
              "#bd3786"
             ],
             [
              0.5555555555555556,
              "#d8576b"
             ],
             [
              0.6666666666666666,
              "#ed7953"
             ],
             [
              0.7777777777777778,
              "#fb9f3a"
             ],
             [
              0.8888888888888888,
              "#fdca26"
             ],
             [
              1,
              "#f0f921"
             ]
            ],
            "type": "surface"
           }
          ],
          "table": [
           {
            "cells": {
             "fill": {
              "color": "#EBF0F8"
             },
             "line": {
              "color": "white"
             }
            },
            "header": {
             "fill": {
              "color": "#C8D4E3"
             },
             "line": {
              "color": "white"
             }
            },
            "type": "table"
           }
          ]
         },
         "layout": {
          "annotationdefaults": {
           "arrowcolor": "#2a3f5f",
           "arrowhead": 0,
           "arrowwidth": 1
          },
          "autotypenumbers": "strict",
          "coloraxis": {
           "colorbar": {
            "outlinewidth": 0,
            "ticks": ""
           }
          },
          "colorscale": {
           "diverging": [
            [
             0,
             "#8e0152"
            ],
            [
             0.1,
             "#c51b7d"
            ],
            [
             0.2,
             "#de77ae"
            ],
            [
             0.3,
             "#f1b6da"
            ],
            [
             0.4,
             "#fde0ef"
            ],
            [
             0.5,
             "#f7f7f7"
            ],
            [
             0.6,
             "#e6f5d0"
            ],
            [
             0.7,
             "#b8e186"
            ],
            [
             0.8,
             "#7fbc41"
            ],
            [
             0.9,
             "#4d9221"
            ],
            [
             1,
             "#276419"
            ]
           ],
           "sequential": [
            [
             0,
             "#0d0887"
            ],
            [
             0.1111111111111111,
             "#46039f"
            ],
            [
             0.2222222222222222,
             "#7201a8"
            ],
            [
             0.3333333333333333,
             "#9c179e"
            ],
            [
             0.4444444444444444,
             "#bd3786"
            ],
            [
             0.5555555555555556,
             "#d8576b"
            ],
            [
             0.6666666666666666,
             "#ed7953"
            ],
            [
             0.7777777777777778,
             "#fb9f3a"
            ],
            [
             0.8888888888888888,
             "#fdca26"
            ],
            [
             1,
             "#f0f921"
            ]
           ],
           "sequentialminus": [
            [
             0,
             "#0d0887"
            ],
            [
             0.1111111111111111,
             "#46039f"
            ],
            [
             0.2222222222222222,
             "#7201a8"
            ],
            [
             0.3333333333333333,
             "#9c179e"
            ],
            [
             0.4444444444444444,
             "#bd3786"
            ],
            [
             0.5555555555555556,
             "#d8576b"
            ],
            [
             0.6666666666666666,
             "#ed7953"
            ],
            [
             0.7777777777777778,
             "#fb9f3a"
            ],
            [
             0.8888888888888888,
             "#fdca26"
            ],
            [
             1,
             "#f0f921"
            ]
           ]
          },
          "colorway": [
           "#636efa",
           "#EF553B",
           "#00cc96",
           "#ab63fa",
           "#FFA15A",
           "#19d3f3",
           "#FF6692",
           "#B6E880",
           "#FF97FF",
           "#FECB52"
          ],
          "font": {
           "color": "#2a3f5f"
          },
          "geo": {
           "bgcolor": "white",
           "lakecolor": "white",
           "landcolor": "white",
           "showlakes": true,
           "showland": true,
           "subunitcolor": "#C8D4E3"
          },
          "hoverlabel": {
           "align": "left"
          },
          "hovermode": "closest",
          "mapbox": {
           "style": "light"
          },
          "paper_bgcolor": "white",
          "plot_bgcolor": "white",
          "polar": {
           "angularaxis": {
            "gridcolor": "#EBF0F8",
            "linecolor": "#EBF0F8",
            "ticks": ""
           },
           "bgcolor": "white",
           "radialaxis": {
            "gridcolor": "#EBF0F8",
            "linecolor": "#EBF0F8",
            "ticks": ""
           }
          },
          "scene": {
           "xaxis": {
            "backgroundcolor": "white",
            "gridcolor": "#DFE8F3",
            "gridwidth": 2,
            "linecolor": "#EBF0F8",
            "showbackground": true,
            "ticks": "",
            "zerolinecolor": "#EBF0F8"
           },
           "yaxis": {
            "backgroundcolor": "white",
            "gridcolor": "#DFE8F3",
            "gridwidth": 2,
            "linecolor": "#EBF0F8",
            "showbackground": true,
            "ticks": "",
            "zerolinecolor": "#EBF0F8"
           },
           "zaxis": {
            "backgroundcolor": "white",
            "gridcolor": "#DFE8F3",
            "gridwidth": 2,
            "linecolor": "#EBF0F8",
            "showbackground": true,
            "ticks": "",
            "zerolinecolor": "#EBF0F8"
           }
          },
          "shapedefaults": {
           "line": {
            "color": "#2a3f5f"
           }
          },
          "ternary": {
           "aaxis": {
            "gridcolor": "#DFE8F3",
            "linecolor": "#A2B1C6",
            "ticks": ""
           },
           "baxis": {
            "gridcolor": "#DFE8F3",
            "linecolor": "#A2B1C6",
            "ticks": ""
           },
           "bgcolor": "white",
           "caxis": {
            "gridcolor": "#DFE8F3",
            "linecolor": "#A2B1C6",
            "ticks": ""
           }
          },
          "title": {
           "x": 0.05
          },
          "xaxis": {
           "automargin": true,
           "gridcolor": "#EBF0F8",
           "linecolor": "#EBF0F8",
           "ticks": "",
           "title": {
            "standoff": 15
           },
           "zerolinecolor": "#EBF0F8",
           "zerolinewidth": 2
          },
          "yaxis": {
           "automargin": true,
           "gridcolor": "#EBF0F8",
           "linecolor": "#EBF0F8",
           "ticks": "",
           "title": {
            "standoff": 15
           },
           "zerolinecolor": "#EBF0F8",
           "zerolinewidth": 2
          }
         }
        },
        "title": {
         "text": "Palabras Principales por Tópico - Cdmx"
        },
        "width": 1000,
        "xaxis": {
         "anchor": "y",
         "domain": [
          0,
          0.175
         ],
         "showgrid": true
        },
        "xaxis2": {
         "anchor": "y2",
         "domain": [
          0.275,
          0.45
         ],
         "showgrid": true
        },
        "xaxis3": {
         "anchor": "y3",
         "domain": [
          0.55,
          0.7250000000000001
         ],
         "showgrid": true
        },
        "xaxis4": {
         "anchor": "y4",
         "domain": [
          0.825,
          1
         ],
         "showgrid": true
        },
        "xaxis5": {
         "anchor": "y5",
         "domain": [
          0,
          0.175
         ],
         "showgrid": true
        },
        "xaxis6": {
         "anchor": "y6",
         "domain": [
          0.275,
          0.45
         ],
         "showgrid": true
        },
        "xaxis7": {
         "anchor": "y7",
         "domain": [
          0.55,
          0.7250000000000001
         ],
         "showgrid": true
        },
        "xaxis8": {
         "anchor": "y8",
         "domain": [
          0.825,
          1
         ],
         "showgrid": true
        },
        "yaxis": {
         "anchor": "x",
         "domain": [
          0.625,
          1
         ],
         "showgrid": true
        },
        "yaxis2": {
         "anchor": "x2",
         "domain": [
          0.625,
          1
         ],
         "showgrid": true
        },
        "yaxis3": {
         "anchor": "x3",
         "domain": [
          0.625,
          1
         ],
         "showgrid": true
        },
        "yaxis4": {
         "anchor": "x4",
         "domain": [
          0.625,
          1
         ],
         "showgrid": true
        },
        "yaxis5": {
         "anchor": "x5",
         "domain": [
          0,
          0.375
         ],
         "showgrid": true
        },
        "yaxis6": {
         "anchor": "x6",
         "domain": [
          0,
          0.375
         ],
         "showgrid": true
        },
        "yaxis7": {
         "anchor": "x7",
         "domain": [
          0,
          0.375
         ],
         "showgrid": true
        },
        "yaxis8": {
         "anchor": "x8",
         "domain": [
          0,
          0.375
         ],
         "showgrid": true
        }
       }
      }
     },
     "metadata": {},
     "output_type": "display_data"
    },
    {
     "data": {
      "application/vnd.plotly.v1+json": {
       "config": {
        "plotlyServerURL": "https://plot.ly"
       },
       "data": [
        {
         "marker": {
          "color": "#C8D2D7",
          "line": {
           "color": "#6E8484",
           "width": 1
          }
         },
         "orientation": "h",
         "type": "bar",
         "x": [
          0.09009556472301483,
          0.09490060806274414,
          0.09516114741563797,
          0.11415725946426392,
          0.1878548264503479,
          0.20813775062561035,
          0.20969296991825104
         ],
         "y": [
          "1_mural_castillo_palacio_chap_rivera",
          "0_misa_tour_duda_pareja_fe",
          "2_iglesia_mercado_barrio_virgen_capilla",
          "5_animal_acu_grupo_cuidado_servicio",
          "6_ciudad_plaza_mexico_templo_centro",
          "4_museo_coleccion_piso_arte_pieza",
          "3_casa_fri_tiempo_valer_pena"
         ]
        }
       ],
       "layout": {
        "height": 1000,
        "hoverlabel": {
         "bgcolor": "white",
         "font": {
          "family": "Rockwell",
          "size": 16
         }
        },
        "template": {
         "data": {
          "bar": [
           {
            "error_x": {
             "color": "rgb(36,36,36)"
            },
            "error_y": {
             "color": "rgb(36,36,36)"
            },
            "marker": {
             "line": {
              "color": "white",
              "width": 0.5
             },
             "pattern": {
              "fillmode": "overlay",
              "size": 10,
              "solidity": 0.2
             }
            },
            "type": "bar"
           }
          ],
          "barpolar": [
           {
            "marker": {
             "line": {
              "color": "white",
              "width": 0.5
             },
             "pattern": {
              "fillmode": "overlay",
              "size": 10,
              "solidity": 0.2
             }
            },
            "type": "barpolar"
           }
          ],
          "carpet": [
           {
            "aaxis": {
             "endlinecolor": "rgb(36,36,36)",
             "gridcolor": "white",
             "linecolor": "white",
             "minorgridcolor": "white",
             "startlinecolor": "rgb(36,36,36)"
            },
            "baxis": {
             "endlinecolor": "rgb(36,36,36)",
             "gridcolor": "white",
             "linecolor": "white",
             "minorgridcolor": "white",
             "startlinecolor": "rgb(36,36,36)"
            },
            "type": "carpet"
           }
          ],
          "choropleth": [
           {
            "colorbar": {
             "outlinewidth": 1,
             "tickcolor": "rgb(36,36,36)",
             "ticks": "outside"
            },
            "type": "choropleth"
           }
          ],
          "contour": [
           {
            "colorbar": {
             "outlinewidth": 1,
             "tickcolor": "rgb(36,36,36)",
             "ticks": "outside"
            },
            "colorscale": [
             [
              0,
              "#440154"
             ],
             [
              0.1111111111111111,
              "#482878"
             ],
             [
              0.2222222222222222,
              "#3e4989"
             ],
             [
              0.3333333333333333,
              "#31688e"
             ],
             [
              0.4444444444444444,
              "#26828e"
             ],
             [
              0.5555555555555556,
              "#1f9e89"
             ],
             [
              0.6666666666666666,
              "#35b779"
             ],
             [
              0.7777777777777778,
              "#6ece58"
             ],
             [
              0.8888888888888888,
              "#b5de2b"
             ],
             [
              1,
              "#fde725"
             ]
            ],
            "type": "contour"
           }
          ],
          "contourcarpet": [
           {
            "colorbar": {
             "outlinewidth": 1,
             "tickcolor": "rgb(36,36,36)",
             "ticks": "outside"
            },
            "type": "contourcarpet"
           }
          ],
          "heatmap": [
           {
            "colorbar": {
             "outlinewidth": 1,
             "tickcolor": "rgb(36,36,36)",
             "ticks": "outside"
            },
            "colorscale": [
             [
              0,
              "#440154"
             ],
             [
              0.1111111111111111,
              "#482878"
             ],
             [
              0.2222222222222222,
              "#3e4989"
             ],
             [
              0.3333333333333333,
              "#31688e"
             ],
             [
              0.4444444444444444,
              "#26828e"
             ],
             [
              0.5555555555555556,
              "#1f9e89"
             ],
             [
              0.6666666666666666,
              "#35b779"
             ],
             [
              0.7777777777777778,
              "#6ece58"
             ],
             [
              0.8888888888888888,
              "#b5de2b"
             ],
             [
              1,
              "#fde725"
             ]
            ],
            "type": "heatmap"
           }
          ],
          "histogram": [
           {
            "marker": {
             "line": {
              "color": "white",
              "width": 0.6
             }
            },
            "type": "histogram"
           }
          ],
          "histogram2d": [
           {
            "colorbar": {
             "outlinewidth": 1,
             "tickcolor": "rgb(36,36,36)",
             "ticks": "outside"
            },
            "colorscale": [
             [
              0,
              "#440154"
             ],
             [
              0.1111111111111111,
              "#482878"
             ],
             [
              0.2222222222222222,
              "#3e4989"
             ],
             [
              0.3333333333333333,
              "#31688e"
             ],
             [
              0.4444444444444444,
              "#26828e"
             ],
             [
              0.5555555555555556,
              "#1f9e89"
             ],
             [
              0.6666666666666666,
              "#35b779"
             ],
             [
              0.7777777777777778,
              "#6ece58"
             ],
             [
              0.8888888888888888,
              "#b5de2b"
             ],
             [
              1,
              "#fde725"
             ]
            ],
            "type": "histogram2d"
           }
          ],
          "histogram2dcontour": [
           {
            "colorbar": {
             "outlinewidth": 1,
             "tickcolor": "rgb(36,36,36)",
             "ticks": "outside"
            },
            "colorscale": [
             [
              0,
              "#440154"
             ],
             [
              0.1111111111111111,
              "#482878"
             ],
             [
              0.2222222222222222,
              "#3e4989"
             ],
             [
              0.3333333333333333,
              "#31688e"
             ],
             [
              0.4444444444444444,
              "#26828e"
             ],
             [
              0.5555555555555556,
              "#1f9e89"
             ],
             [
              0.6666666666666666,
              "#35b779"
             ],
             [
              0.7777777777777778,
              "#6ece58"
             ],
             [
              0.8888888888888888,
              "#b5de2b"
             ],
             [
              1,
              "#fde725"
             ]
            ],
            "type": "histogram2dcontour"
           }
          ],
          "mesh3d": [
           {
            "colorbar": {
             "outlinewidth": 1,
             "tickcolor": "rgb(36,36,36)",
             "ticks": "outside"
            },
            "type": "mesh3d"
           }
          ],
          "parcoords": [
           {
            "line": {
             "colorbar": {
              "outlinewidth": 1,
              "tickcolor": "rgb(36,36,36)",
              "ticks": "outside"
             }
            },
            "type": "parcoords"
           }
          ],
          "pie": [
           {
            "automargin": true,
            "type": "pie"
           }
          ],
          "scatter": [
           {
            "fillpattern": {
             "fillmode": "overlay",
             "size": 10,
             "solidity": 0.2
            },
            "type": "scatter"
           }
          ],
          "scatter3d": [
           {
            "line": {
             "colorbar": {
              "outlinewidth": 1,
              "tickcolor": "rgb(36,36,36)",
              "ticks": "outside"
             }
            },
            "marker": {
             "colorbar": {
              "outlinewidth": 1,
              "tickcolor": "rgb(36,36,36)",
              "ticks": "outside"
             }
            },
            "type": "scatter3d"
           }
          ],
          "scattercarpet": [
           {
            "marker": {
             "colorbar": {
              "outlinewidth": 1,
              "tickcolor": "rgb(36,36,36)",
              "ticks": "outside"
             }
            },
            "type": "scattercarpet"
           }
          ],
          "scattergeo": [
           {
            "marker": {
             "colorbar": {
              "outlinewidth": 1,
              "tickcolor": "rgb(36,36,36)",
              "ticks": "outside"
             }
            },
            "type": "scattergeo"
           }
          ],
          "scattergl": [
           {
            "marker": {
             "colorbar": {
              "outlinewidth": 1,
              "tickcolor": "rgb(36,36,36)",
              "ticks": "outside"
             }
            },
            "type": "scattergl"
           }
          ],
          "scattermap": [
           {
            "marker": {
             "colorbar": {
              "outlinewidth": 1,
              "tickcolor": "rgb(36,36,36)",
              "ticks": "outside"
             }
            },
            "type": "scattermap"
           }
          ],
          "scattermapbox": [
           {
            "marker": {
             "colorbar": {
              "outlinewidth": 1,
              "tickcolor": "rgb(36,36,36)",
              "ticks": "outside"
             }
            },
            "type": "scattermapbox"
           }
          ],
          "scatterpolar": [
           {
            "marker": {
             "colorbar": {
              "outlinewidth": 1,
              "tickcolor": "rgb(36,36,36)",
              "ticks": "outside"
             }
            },
            "type": "scatterpolar"
           }
          ],
          "scatterpolargl": [
           {
            "marker": {
             "colorbar": {
              "outlinewidth": 1,
              "tickcolor": "rgb(36,36,36)",
              "ticks": "outside"
             }
            },
            "type": "scatterpolargl"
           }
          ],
          "scatterternary": [
           {
            "marker": {
             "colorbar": {
              "outlinewidth": 1,
              "tickcolor": "rgb(36,36,36)",
              "ticks": "outside"
             }
            },
            "type": "scatterternary"
           }
          ],
          "surface": [
           {
            "colorbar": {
             "outlinewidth": 1,
             "tickcolor": "rgb(36,36,36)",
             "ticks": "outside"
            },
            "colorscale": [
             [
              0,
              "#440154"
             ],
             [
              0.1111111111111111,
              "#482878"
             ],
             [
              0.2222222222222222,
              "#3e4989"
             ],
             [
              0.3333333333333333,
              "#31688e"
             ],
             [
              0.4444444444444444,
              "#26828e"
             ],
             [
              0.5555555555555556,
              "#1f9e89"
             ],
             [
              0.6666666666666666,
              "#35b779"
             ],
             [
              0.7777777777777778,
              "#6ece58"
             ],
             [
              0.8888888888888888,
              "#b5de2b"
             ],
             [
              1,
              "#fde725"
             ]
            ],
            "type": "surface"
           }
          ],
          "table": [
           {
            "cells": {
             "fill": {
              "color": "rgb(237,237,237)"
             },
             "line": {
              "color": "white"
             }
            },
            "header": {
             "fill": {
              "color": "rgb(217,217,217)"
             },
             "line": {
              "color": "white"
             }
            },
            "type": "table"
           }
          ]
         },
         "layout": {
          "annotationdefaults": {
           "arrowhead": 0,
           "arrowwidth": 1
          },
          "autotypenumbers": "strict",
          "coloraxis": {
           "colorbar": {
            "outlinewidth": 1,
            "tickcolor": "rgb(36,36,36)",
            "ticks": "outside"
           }
          },
          "colorscale": {
           "diverging": [
            [
             0,
             "rgb(103,0,31)"
            ],
            [
             0.1,
             "rgb(178,24,43)"
            ],
            [
             0.2,
             "rgb(214,96,77)"
            ],
            [
             0.3,
             "rgb(244,165,130)"
            ],
            [
             0.4,
             "rgb(253,219,199)"
            ],
            [
             0.5,
             "rgb(247,247,247)"
            ],
            [
             0.6,
             "rgb(209,229,240)"
            ],
            [
             0.7,
             "rgb(146,197,222)"
            ],
            [
             0.8,
             "rgb(67,147,195)"
            ],
            [
             0.9,
             "rgb(33,102,172)"
            ],
            [
             1,
             "rgb(5,48,97)"
            ]
           ],
           "sequential": [
            [
             0,
             "#440154"
            ],
            [
             0.1111111111111111,
             "#482878"
            ],
            [
             0.2222222222222222,
             "#3e4989"
            ],
            [
             0.3333333333333333,
             "#31688e"
            ],
            [
             0.4444444444444444,
             "#26828e"
            ],
            [
             0.5555555555555556,
             "#1f9e89"
            ],
            [
             0.6666666666666666,
             "#35b779"
            ],
            [
             0.7777777777777778,
             "#6ece58"
            ],
            [
             0.8888888888888888,
             "#b5de2b"
            ],
            [
             1,
             "#fde725"
            ]
           ],
           "sequentialminus": [
            [
             0,
             "#440154"
            ],
            [
             0.1111111111111111,
             "#482878"
            ],
            [
             0.2222222222222222,
             "#3e4989"
            ],
            [
             0.3333333333333333,
             "#31688e"
            ],
            [
             0.4444444444444444,
             "#26828e"
            ],
            [
             0.5555555555555556,
             "#1f9e89"
            ],
            [
             0.6666666666666666,
             "#35b779"
            ],
            [
             0.7777777777777778,
             "#6ece58"
            ],
            [
             0.8888888888888888,
             "#b5de2b"
            ],
            [
             1,
             "#fde725"
            ]
           ]
          },
          "colorway": [
           "#1F77B4",
           "#FF7F0E",
           "#2CA02C",
           "#D62728",
           "#9467BD",
           "#8C564B",
           "#E377C2",
           "#7F7F7F",
           "#BCBD22",
           "#17BECF"
          ],
          "font": {
           "color": "rgb(36,36,36)"
          },
          "geo": {
           "bgcolor": "white",
           "lakecolor": "white",
           "landcolor": "white",
           "showlakes": true,
           "showland": true,
           "subunitcolor": "white"
          },
          "hoverlabel": {
           "align": "left"
          },
          "hovermode": "closest",
          "mapbox": {
           "style": "light"
          },
          "paper_bgcolor": "white",
          "plot_bgcolor": "white",
          "polar": {
           "angularaxis": {
            "gridcolor": "rgb(232,232,232)",
            "linecolor": "rgb(36,36,36)",
            "showgrid": false,
            "showline": true,
            "ticks": "outside"
           },
           "bgcolor": "white",
           "radialaxis": {
            "gridcolor": "rgb(232,232,232)",
            "linecolor": "rgb(36,36,36)",
            "showgrid": false,
            "showline": true,
            "ticks": "outside"
           }
          },
          "scene": {
           "xaxis": {
            "backgroundcolor": "white",
            "gridcolor": "rgb(232,232,232)",
            "gridwidth": 2,
            "linecolor": "rgb(36,36,36)",
            "showbackground": true,
            "showgrid": false,
            "showline": true,
            "ticks": "outside",
            "zeroline": false,
            "zerolinecolor": "rgb(36,36,36)"
           },
           "yaxis": {
            "backgroundcolor": "white",
            "gridcolor": "rgb(232,232,232)",
            "gridwidth": 2,
            "linecolor": "rgb(36,36,36)",
            "showbackground": true,
            "showgrid": false,
            "showline": true,
            "ticks": "outside",
            "zeroline": false,
            "zerolinecolor": "rgb(36,36,36)"
           },
           "zaxis": {
            "backgroundcolor": "white",
            "gridcolor": "rgb(232,232,232)",
            "gridwidth": 2,
            "linecolor": "rgb(36,36,36)",
            "showbackground": true,
            "showgrid": false,
            "showline": true,
            "ticks": "outside",
            "zeroline": false,
            "zerolinecolor": "rgb(36,36,36)"
           }
          },
          "shapedefaults": {
           "fillcolor": "black",
           "line": {
            "width": 0
           },
           "opacity": 0.3
          },
          "ternary": {
           "aaxis": {
            "gridcolor": "rgb(232,232,232)",
            "linecolor": "rgb(36,36,36)",
            "showgrid": false,
            "showline": true,
            "ticks": "outside"
           },
           "baxis": {
            "gridcolor": "rgb(232,232,232)",
            "linecolor": "rgb(36,36,36)",
            "showgrid": false,
            "showline": true,
            "ticks": "outside"
           },
           "bgcolor": "white",
           "caxis": {
            "gridcolor": "rgb(232,232,232)",
            "linecolor": "rgb(36,36,36)",
            "showgrid": false,
            "showline": true,
            "ticks": "outside"
           }
          },
          "title": {
           "x": 0.05
          },
          "xaxis": {
           "automargin": true,
           "gridcolor": "rgb(232,232,232)",
           "linecolor": "rgb(36,36,36)",
           "showgrid": false,
           "showline": true,
           "ticks": "outside",
           "title": {
            "standoff": 15
           },
           "zeroline": false,
           "zerolinecolor": "rgb(36,36,36)"
          },
          "yaxis": {
           "automargin": true,
           "gridcolor": "rgb(232,232,232)",
           "linecolor": "rgb(36,36,36)",
           "showgrid": false,
           "showline": true,
           "ticks": "outside",
           "title": {
            "standoff": 15
           },
           "zeroline": false,
           "zerolinecolor": "rgb(36,36,36)"
          }
         }
        },
        "title": {
         "text": "Distribución de Pesos de Tópicos - Cdmx"
        },
        "width": 1000,
        "xaxis": {
         "title": {
          "text": "Weight"
         }
        }
       }
      }
     },
     "metadata": {},
     "output_type": "display_data"
    },
    {
     "data": {
      "application/vnd.plotly.v1+json": {
       "config": {
        "plotlyServerURL": "https://plot.ly"
       },
       "data": [
        {
         "hoverinfo": "text",
         "marker": {
          "color": "rgb(0,116,217)"
         },
         "mode": "lines",
         "type": "scatter",
         "x": {
          "bdata": "AAAAAAAAAADy7NbEaOYAQPLs1sRo5gBAAAAAAAAAAAA=",
          "dtype": "f8"
         },
         "xaxis": "x",
         "y": {
          "bdata": "AAAAAAAALsAAAAAAAAAuwAAAAAAAADnAAAAAAAAAOcA=",
          "dtype": "f8"
         },
         "yaxis": "y"
        },
        {
         "hoverinfo": "text",
         "marker": {
          "color": "rgb(0,116,217)"
         },
         "mode": "lines",
         "type": "scatter",
         "x": {
          "bdata": "AAAAAAAAAAA6Itl+uP79Pzoi2X64/v0/AAAAAAAAAAA=",
          "dtype": "f8"
         },
         "xaxis": "x",
         "y": {
          "bdata": "AAAAAACARsAAAAAAAIBGwAAAAAAAgEvAAAAAAACAS8A=",
          "dtype": "f8"
         },
         "yaxis": "y"
        },
        {
         "hoverinfo": "text",
         "marker": {
          "color": "rgb(0,116,217)"
         },
         "mode": "lines",
         "type": "scatter",
         "x": {
          "bdata": "AAAAAAAAAADD+pw63f7+P8P6nDrd/v4/OiLZfrj+/T8=",
          "dtype": "f8"
         },
         "xaxis": "x",
         "y": {
          "bdata": "AAAAAACAQcAAAAAAAIBBwAAAAAAAAEnAAAAAAAAAScA=",
          "dtype": "f8"
         },
         "yaxis": "y"
        },
        {
         "hoverinfo": "text",
         "marker": {
          "color": "rgb(0,116,217)"
         },
         "mode": "lines",
         "type": "scatter",
         "x": {
          "bdata": "w/qcOt3+/j8UvYQ/hX8BQBS9hD+FfwFAAAAAAAAAAAA=",
          "dtype": "f8"
         },
         "xaxis": "x",
         "y": {
          "bdata": "AAAAAABARcAAAAAAAEBFwAAAAAAAQFDAAAAAAABAUMA=",
          "dtype": "f8"
         },
         "yaxis": "y"
        },
        {
         "hoverinfo": "text",
         "marker": {
          "color": "rgb(0,116,217)"
         },
         "mode": "lines",
         "type": "scatter",
         "x": {
          "bdata": "8uzWxGjmAEDKZiZKd1YCQMpmJkp3VgJAFL2EP4V/AUA=",
          "dtype": "f8"
         },
         "xaxis": "x",
         "y": {
          "bdata": "AAAAAAAANMAAAAAAAAA0wAAAAAAA4ErAAAAAAADgSsA=",
          "dtype": "f8"
         },
         "yaxis": "y"
        },
        {
         "hoverinfo": "text",
         "marker": {
          "color": "rgb(0,116,217)"
         },
         "mode": "lines",
         "type": "scatter",
         "x": {
          "bdata": "AAAAAAAAAAAxLBx9CEMFQDEsHH0IQwVAymYmSndWAkA=",
          "dtype": "f8"
         },
         "xaxis": "x",
         "y": {
          "bdata": "AAAAAAAAFMAAAAAAAAAUwAAAAAAAcELAAAAAAABwQsA=",
          "dtype": "f8"
         },
         "yaxis": "y"
        }
       ],
       "layout": {
        "autosize": false,
        "height": 1000,
        "hovermode": "closest",
        "showlegend": false,
        "template": {
         "data": {
          "bar": [
           {
            "error_x": {
             "color": "#2a3f5f"
            },
            "error_y": {
             "color": "#2a3f5f"
            },
            "marker": {
             "line": {
              "color": "#E5ECF6",
              "width": 0.5
             },
             "pattern": {
              "fillmode": "overlay",
              "size": 10,
              "solidity": 0.2
             }
            },
            "type": "bar"
           }
          ],
          "barpolar": [
           {
            "marker": {
             "line": {
              "color": "#E5ECF6",
              "width": 0.5
             },
             "pattern": {
              "fillmode": "overlay",
              "size": 10,
              "solidity": 0.2
             }
            },
            "type": "barpolar"
           }
          ],
          "carpet": [
           {
            "aaxis": {
             "endlinecolor": "#2a3f5f",
             "gridcolor": "white",
             "linecolor": "white",
             "minorgridcolor": "white",
             "startlinecolor": "#2a3f5f"
            },
            "baxis": {
             "endlinecolor": "#2a3f5f",
             "gridcolor": "white",
             "linecolor": "white",
             "minorgridcolor": "white",
             "startlinecolor": "#2a3f5f"
            },
            "type": "carpet"
           }
          ],
          "choropleth": [
           {
            "colorbar": {
             "outlinewidth": 0,
             "ticks": ""
            },
            "type": "choropleth"
           }
          ],
          "contour": [
           {
            "colorbar": {
             "outlinewidth": 0,
             "ticks": ""
            },
            "colorscale": [
             [
              0,
              "#0d0887"
             ],
             [
              0.1111111111111111,
              "#46039f"
             ],
             [
              0.2222222222222222,
              "#7201a8"
             ],
             [
              0.3333333333333333,
              "#9c179e"
             ],
             [
              0.4444444444444444,
              "#bd3786"
             ],
             [
              0.5555555555555556,
              "#d8576b"
             ],
             [
              0.6666666666666666,
              "#ed7953"
             ],
             [
              0.7777777777777778,
              "#fb9f3a"
             ],
             [
              0.8888888888888888,
              "#fdca26"
             ],
             [
              1,
              "#f0f921"
             ]
            ],
            "type": "contour"
           }
          ],
          "contourcarpet": [
           {
            "colorbar": {
             "outlinewidth": 0,
             "ticks": ""
            },
            "type": "contourcarpet"
           }
          ],
          "heatmap": [
           {
            "colorbar": {
             "outlinewidth": 0,
             "ticks": ""
            },
            "colorscale": [
             [
              0,
              "#0d0887"
             ],
             [
              0.1111111111111111,
              "#46039f"
             ],
             [
              0.2222222222222222,
              "#7201a8"
             ],
             [
              0.3333333333333333,
              "#9c179e"
             ],
             [
              0.4444444444444444,
              "#bd3786"
             ],
             [
              0.5555555555555556,
              "#d8576b"
             ],
             [
              0.6666666666666666,
              "#ed7953"
             ],
             [
              0.7777777777777778,
              "#fb9f3a"
             ],
             [
              0.8888888888888888,
              "#fdca26"
             ],
             [
              1,
              "#f0f921"
             ]
            ],
            "type": "heatmap"
           }
          ],
          "histogram": [
           {
            "marker": {
             "pattern": {
              "fillmode": "overlay",
              "size": 10,
              "solidity": 0.2
             }
            },
            "type": "histogram"
           }
          ],
          "histogram2d": [
           {
            "colorbar": {
             "outlinewidth": 0,
             "ticks": ""
            },
            "colorscale": [
             [
              0,
              "#0d0887"
             ],
             [
              0.1111111111111111,
              "#46039f"
             ],
             [
              0.2222222222222222,
              "#7201a8"
             ],
             [
              0.3333333333333333,
              "#9c179e"
             ],
             [
              0.4444444444444444,
              "#bd3786"
             ],
             [
              0.5555555555555556,
              "#d8576b"
             ],
             [
              0.6666666666666666,
              "#ed7953"
             ],
             [
              0.7777777777777778,
              "#fb9f3a"
             ],
             [
              0.8888888888888888,
              "#fdca26"
             ],
             [
              1,
              "#f0f921"
             ]
            ],
            "type": "histogram2d"
           }
          ],
          "histogram2dcontour": [
           {
            "colorbar": {
             "outlinewidth": 0,
             "ticks": ""
            },
            "colorscale": [
             [
              0,
              "#0d0887"
             ],
             [
              0.1111111111111111,
              "#46039f"
             ],
             [
              0.2222222222222222,
              "#7201a8"
             ],
             [
              0.3333333333333333,
              "#9c179e"
             ],
             [
              0.4444444444444444,
              "#bd3786"
             ],
             [
              0.5555555555555556,
              "#d8576b"
             ],
             [
              0.6666666666666666,
              "#ed7953"
             ],
             [
              0.7777777777777778,
              "#fb9f3a"
             ],
             [
              0.8888888888888888,
              "#fdca26"
             ],
             [
              1,
              "#f0f921"
             ]
            ],
            "type": "histogram2dcontour"
           }
          ],
          "mesh3d": [
           {
            "colorbar": {
             "outlinewidth": 0,
             "ticks": ""
            },
            "type": "mesh3d"
           }
          ],
          "parcoords": [
           {
            "line": {
             "colorbar": {
              "outlinewidth": 0,
              "ticks": ""
             }
            },
            "type": "parcoords"
           }
          ],
          "pie": [
           {
            "automargin": true,
            "type": "pie"
           }
          ],
          "scatter": [
           {
            "fillpattern": {
             "fillmode": "overlay",
             "size": 10,
             "solidity": 0.2
            },
            "type": "scatter"
           }
          ],
          "scatter3d": [
           {
            "line": {
             "colorbar": {
              "outlinewidth": 0,
              "ticks": ""
             }
            },
            "marker": {
             "colorbar": {
              "outlinewidth": 0,
              "ticks": ""
             }
            },
            "type": "scatter3d"
           }
          ],
          "scattercarpet": [
           {
            "marker": {
             "colorbar": {
              "outlinewidth": 0,
              "ticks": ""
             }
            },
            "type": "scattercarpet"
           }
          ],
          "scattergeo": [
           {
            "marker": {
             "colorbar": {
              "outlinewidth": 0,
              "ticks": ""
             }
            },
            "type": "scattergeo"
           }
          ],
          "scattergl": [
           {
            "marker": {
             "colorbar": {
              "outlinewidth": 0,
              "ticks": ""
             }
            },
            "type": "scattergl"
           }
          ],
          "scattermap": [
           {
            "marker": {
             "colorbar": {
              "outlinewidth": 0,
              "ticks": ""
             }
            },
            "type": "scattermap"
           }
          ],
          "scattermapbox": [
           {
            "marker": {
             "colorbar": {
              "outlinewidth": 0,
              "ticks": ""
             }
            },
            "type": "scattermapbox"
           }
          ],
          "scatterpolar": [
           {
            "marker": {
             "colorbar": {
              "outlinewidth": 0,
              "ticks": ""
             }
            },
            "type": "scatterpolar"
           }
          ],
          "scatterpolargl": [
           {
            "marker": {
             "colorbar": {
              "outlinewidth": 0,
              "ticks": ""
             }
            },
            "type": "scatterpolargl"
           }
          ],
          "scatterternary": [
           {
            "marker": {
             "colorbar": {
              "outlinewidth": 0,
              "ticks": ""
             }
            },
            "type": "scatterternary"
           }
          ],
          "surface": [
           {
            "colorbar": {
             "outlinewidth": 0,
             "ticks": ""
            },
            "colorscale": [
             [
              0,
              "#0d0887"
             ],
             [
              0.1111111111111111,
              "#46039f"
             ],
             [
              0.2222222222222222,
              "#7201a8"
             ],
             [
              0.3333333333333333,
              "#9c179e"
             ],
             [
              0.4444444444444444,
              "#bd3786"
             ],
             [
              0.5555555555555556,
              "#d8576b"
             ],
             [
              0.6666666666666666,
              "#ed7953"
             ],
             [
              0.7777777777777778,
              "#fb9f3a"
             ],
             [
              0.8888888888888888,
              "#fdca26"
             ],
             [
              1,
              "#f0f921"
             ]
            ],
            "type": "surface"
           }
          ],
          "table": [
           {
            "cells": {
             "fill": {
              "color": "#EBF0F8"
             },
             "line": {
              "color": "white"
             }
            },
            "header": {
             "fill": {
              "color": "#C8D4E3"
             },
             "line": {
              "color": "white"
             }
            },
            "type": "table"
           }
          ]
         },
         "layout": {
          "annotationdefaults": {
           "arrowcolor": "#2a3f5f",
           "arrowhead": 0,
           "arrowwidth": 1
          },
          "autotypenumbers": "strict",
          "coloraxis": {
           "colorbar": {
            "outlinewidth": 0,
            "ticks": ""
           }
          },
          "colorscale": {
           "diverging": [
            [
             0,
             "#8e0152"
            ],
            [
             0.1,
             "#c51b7d"
            ],
            [
             0.2,
             "#de77ae"
            ],
            [
             0.3,
             "#f1b6da"
            ],
            [
             0.4,
             "#fde0ef"
            ],
            [
             0.5,
             "#f7f7f7"
            ],
            [
             0.6,
             "#e6f5d0"
            ],
            [
             0.7,
             "#b8e186"
            ],
            [
             0.8,
             "#7fbc41"
            ],
            [
             0.9,
             "#4d9221"
            ],
            [
             1,
             "#276419"
            ]
           ],
           "sequential": [
            [
             0,
             "#0d0887"
            ],
            [
             0.1111111111111111,
             "#46039f"
            ],
            [
             0.2222222222222222,
             "#7201a8"
            ],
            [
             0.3333333333333333,
             "#9c179e"
            ],
            [
             0.4444444444444444,
             "#bd3786"
            ],
            [
             0.5555555555555556,
             "#d8576b"
            ],
            [
             0.6666666666666666,
             "#ed7953"
            ],
            [
             0.7777777777777778,
             "#fb9f3a"
            ],
            [
             0.8888888888888888,
             "#fdca26"
            ],
            [
             1,
             "#f0f921"
            ]
           ],
           "sequentialminus": [
            [
             0,
             "#0d0887"
            ],
            [
             0.1111111111111111,
             "#46039f"
            ],
            [
             0.2222222222222222,
             "#7201a8"
            ],
            [
             0.3333333333333333,
             "#9c179e"
            ],
            [
             0.4444444444444444,
             "#bd3786"
            ],
            [
             0.5555555555555556,
             "#d8576b"
            ],
            [
             0.6666666666666666,
             "#ed7953"
            ],
            [
             0.7777777777777778,
             "#fb9f3a"
            ],
            [
             0.8888888888888888,
             "#fdca26"
            ],
            [
             1,
             "#f0f921"
            ]
           ]
          },
          "colorway": [
           "#636efa",
           "#EF553B",
           "#00cc96",
           "#ab63fa",
           "#FFA15A",
           "#19d3f3",
           "#FF6692",
           "#B6E880",
           "#FF97FF",
           "#FECB52"
          ],
          "font": {
           "color": "#2a3f5f"
          },
          "geo": {
           "bgcolor": "white",
           "lakecolor": "white",
           "landcolor": "#E5ECF6",
           "showlakes": true,
           "showland": true,
           "subunitcolor": "white"
          },
          "hoverlabel": {
           "align": "left"
          },
          "hovermode": "closest",
          "mapbox": {
           "style": "light"
          },
          "paper_bgcolor": "white",
          "plot_bgcolor": "#E5ECF6",
          "polar": {
           "angularaxis": {
            "gridcolor": "white",
            "linecolor": "white",
            "ticks": ""
           },
           "bgcolor": "#E5ECF6",
           "radialaxis": {
            "gridcolor": "white",
            "linecolor": "white",
            "ticks": ""
           }
          },
          "scene": {
           "xaxis": {
            "backgroundcolor": "#E5ECF6",
            "gridcolor": "white",
            "gridwidth": 2,
            "linecolor": "white",
            "showbackground": true,
            "ticks": "",
            "zerolinecolor": "white"
           },
           "yaxis": {
            "backgroundcolor": "#E5ECF6",
            "gridcolor": "white",
            "gridwidth": 2,
            "linecolor": "white",
            "showbackground": true,
            "ticks": "",
            "zerolinecolor": "white"
           },
           "zaxis": {
            "backgroundcolor": "#E5ECF6",
            "gridcolor": "white",
            "gridwidth": 2,
            "linecolor": "white",
            "showbackground": true,
            "ticks": "",
            "zerolinecolor": "white"
           }
          },
          "shapedefaults": {
           "line": {
            "color": "#2a3f5f"
           }
          },
          "ternary": {
           "aaxis": {
            "gridcolor": "white",
            "linecolor": "white",
            "ticks": ""
           },
           "baxis": {
            "gridcolor": "white",
            "linecolor": "white",
            "ticks": ""
           },
           "bgcolor": "#E5ECF6",
           "caxis": {
            "gridcolor": "white",
            "linecolor": "white",
            "ticks": ""
           }
          },
          "title": {
           "x": 0.05
          },
          "xaxis": {
           "automargin": true,
           "gridcolor": "white",
           "linecolor": "white",
           "ticks": "",
           "title": {
            "standoff": 15
           },
           "zerolinecolor": "white",
           "zerolinewidth": 2
          },
          "yaxis": {
           "automargin": true,
           "gridcolor": "white",
           "linecolor": "white",
           "ticks": "",
           "title": {
            "standoff": 15
           },
           "zerolinecolor": "white",
           "zerolinewidth": 2
          }
         }
        },
        "title": {
         "text": "Jerarquía de Tópicos - Cdmx"
        },
        "width": 1000,
        "xaxis": {
         "mirror": "allticks",
         "rangemode": "tozero",
         "showgrid": false,
         "showline": true,
         "showticklabels": true,
         "ticks": "outside",
         "type": "linear",
         "zeroline": false
        },
        "yaxis": {
         "mirror": "allticks",
         "rangemode": "tozero",
         "showgrid": false,
         "showline": true,
         "showticklabels": true,
         "tickmode": "array",
         "ticks": "outside",
         "ticktext": [
          "5_animal_acu_grupo_cuidado_servicio",
          "0_misa_tour_duda_pareja_fe",
          "2_iglesia_mercado_barrio_virgen_capilla",
          "6_ciudad_plaza_mexico_templo_centro",
          "3_casa_fri_tiempo_valer_pena",
          "4_museo_coleccion_piso_arte_pieza",
          "1_mural_castillo_palacio_chap_rivera"
         ],
         "tickvals": [
          -5,
          -15,
          -25,
          -35,
          -45,
          -55,
          -65
         ],
         "type": "linear",
         "zeroline": false
        }
       }
      }
     },
     "metadata": {},
     "output_type": "display_data"
    },
    {
     "name": "stdout",
     "output_type": "stream",
     "text": [
      "\n",
      "📋 Resumen del modelado FASTopic:\n",
      "✅ Textos analizados: 489\n",
      "🎯 Tópicos encontrados: 7\n",
      "⏱️ Tiempo de entrenamiento: 45.17s\n",
      "📊 Probabilidad promedio: 0.458\n",
      "📈 Distribución:\n",
      "   1. Museos: 96 opiniones (19.6%)\n",
      "   2. Vida Marina: 93 opiniones (19.0%)\n",
      "   3. Sitios Históricos: 75 opiniones (15.3%)\n",
      "   4. Religioso: 71 opiniones (14.5%)\n",
      "   5. Arte y Cultura: 68 opiniones (13.9%)\n"
     ]
    }
   ],
   "source": [
    "# ===== VISUALIZACIONES ESPECÍFICAS DE FASTOPIC =====\n",
    "\n",
    "# Generar visualización de tópicos\n",
    "fig_topics = topic_model.visualize_topic(top_n=min(8, len(topic_info)))\n",
    "fig_topics.update_layout(title=f\"Palabras Principales por Tópico - {CIUDAD_ANALIZAR}\")\n",
    "fig_topics.show()\n",
    "\n",
    "# Generar visualización de pesos de tópicos\n",
    "fig_weights = topic_model.visualize_topic_weights(top_n=min(10, len(topic_info)))\n",
    "fig_weights.update_layout(title=f\"Distribución de Pesos de Tópicos - {CIUDAD_ANALIZAR}\")\n",
    "fig_weights.show()\n",
    "\n",
    "# Generar jerarquía de tópicos si hay suficientes\n",
    "if len(topic_info) >= 3:\n",
    "    fig_hierarchy = topic_model.visualize_topic_hierarchy()\n",
    "    fig_hierarchy.update_layout(title=f\"Jerarquía de Tópicos - {CIUDAD_ANALIZAR}\")\n",
    "    fig_hierarchy.show()\n",
    "\n",
    "print(f\"\\n📋 Resumen del modelado FASTopic:\")\n",
    "print(f\"✅ Textos analizados: {len(texts)}\")\n",
    "print(f\"🎯 Tópicos encontrados: {len(topic_info)}\")\n",
    "print(f\"⏱️ Tiempo de entrenamiento: {tiempo_entrenamiento:.2f}s\")\n",
    "print(f\"📊 Probabilidad promedio: {df_con_topicos['Probabilidad_Topico'].mean():.3f}\")\n",
    "print(f\"📈 Distribución:\")\n",
    "for i, (topico, count) in enumerate(topico_counts.head(5).items()):\n",
    "    print(f\"   {i+1}. {topico}: {count} opiniones ({count/len(df_con_topicos)*100:.1f}%)\")"
   ]
  },
  {
   "cell_type": "code",
   "execution_count": null,
   "id": "57459ce4",
   "metadata": {},
   "outputs": [
    {
     "name": "stdout",
     "output_type": "stream",
     "text": [
      "🔄 COMPARACIÓN FASTopic vs BERTopic en Cdmx\n",
      "============================================================\n",
      "📊 Opiniones con ambos análisis: 489\n",
      "\n",
      "🎯 NÚMERO DE TÓPICOS:\n",
      "   BERTopic: 5\n",
      "   FASTopic: 7\n"
     ]
    },
    {
     "data": {
      "image/png": "[encoded data removed]",
      "text/plain": [
       "<Figure size 2000x800 with 2 Axes>"
      ]
     },
     "metadata": {},
     "output_type": "display_data"
    },
    {
     "name": "stdout",
     "output_type": "stream",
     "text": [
      "\n",
      "📈 TOP 5 TÓPICOS POR MÉTODO:\n",
      "\n",
      "🔵 BERTopic:\n",
      "   1. Opiniones Diversas: 208 (42.5%)\n",
      "   2. Patrimonio Cultural: 110 (22.5%)\n",
      "   3. Museos: 68 (13.9%)\n",
      "   4. Vida Marina: 60 (12.3%)\n",
      "   5. Sitios Religiosos: 43 (8.8%)\n",
      "\n",
      "🔴 FASTopic:\n",
      "   1. Museos: 96 (19.6%)\n",
      "   2. Vida Marina: 93 (19.0%)\n",
      "   3. Sitios Históricos: 75 (15.3%)\n",
      "   4. Religioso: 71 (14.5%)\n",
      "   5. Arte y Cultura: 68 (13.9%)\n",
      "\n",
      "💡 OBSERVACIONES:\n",
      "   • FASTopic identificó 7 tópicos vs 5 de BERTopic\n",
      "   • FASTopic muestra mayor granularidad en la segmentación\n",
      "   • Tiempo FASTopic: 45.17s (más rápido que BERTopic)\n",
      "\n",
      "📊 RESUMEN ACTUAL FASTopic:\n",
      "   Total tópicos identificados: 7\n",
      "   Tópicos en datos actuales: 7\n",
      "   Documentos procesados: 489\n"
     ]
    }
   ],
   "source": [
    "# ===== COMPARACIÓN CON BERTOPIC =====\n",
    "\n",
    "if 'TopicoConBERTopic' in df.columns:\n",
    "    print(f\"🔄 COMPARACIÓN FASTopic vs BERTopic en {CIUDAD_ANALIZAR}\")\n",
    "    print(\"=\" * 60)\n",
    "    \n",
    "    # Usar datos actuales procesados en lugar de df_ciudad que puede tener datos previos\n",
    "    df_comparacion = df_con_topicos[\n",
    "        df_con_topicos.index.isin(df_ciudad[df_ciudad['TopicoConBERTopic'].notna()].index)\n",
    "    ].copy()\n",
    "    \n",
    "    # Agregar datos de BERTopic al dataframe de comparación\n",
    "    bertopic_data = df_ciudad[df_ciudad['TopicoConBERTopic'].notna()]['TopicoConBERTopic']\n",
    "    df_comparacion = df_comparacion[df_comparacion.index.isin(bertopic_data.index)].copy()\n",
    "    df_comparacion['TopicoConBERTopic'] = bertopic_data\n",
    "    \n",
    "    if len(df_comparacion) > 0:\n",
    "        print(f\"📊 Opiniones con ambos análisis: {len(df_comparacion)}\")\n",
    "        \n",
    "        # Comparar número de tópicos únicos usando datos actuales\n",
    "        topicos_bertopic = df_comparacion['TopicoConBERTopic'].nunique()\n",
    "        topicos_fastopic = df_comparacion['Topico_Nombre'].nunique()  # Usar datos actuales\n",
    "        \n",
    "        print(f\"\\n🎯 NÚMERO DE TÓPICOS:\")\n",
    "        print(f\"   BERTopic: {topicos_bertopic}\")\n",
    "        print(f\"   FASTopic: {topicos_fastopic}\")\n",
    "        \n",
    "        # Mostrar distribuciones lado a lado\n",
    "        fig, axes = plt.subplots(1, 2, figsize=(20, 8))\n",
    "        \n",
    "        # BERTopic\n",
    "        bertopic_counts = df_comparacion['TopicoConBERTopic'].value_counts().head(10)\n",
    "        bertopic_counts.plot(kind='bar', ax=axes[0], color='skyblue')\n",
    "        axes[0].set_title(f'Distribución BERTopic - {CIUDAD_ANALIZAR}', fontweight='bold')\n",
    "        axes[0].set_xlabel('Tópicos')\n",
    "        axes[0].set_ylabel('Número de Opiniones')\n",
    "        axes[0].tick_params(axis='x', rotation=45)\n",
    "        \n",
    "        # FASTopic - usar datos actuales\n",
    "        fastopic_counts = df_comparacion['Topico_Nombre'].value_counts().head(10)\n",
    "        fastopic_counts.plot(kind='bar', ax=axes[1], color='lightcoral')\n",
    "        axes[1].set_title(f'Distribución FASTopic - {CIUDAD_ANALIZAR}', fontweight='bold')\n",
    "        axes[1].set_xlabel('Tópicos')\n",
    "        axes[1].set_ylabel('Número de Opiniones')\n",
    "        axes[1].tick_params(axis='x', rotation=45)\n",
    "        \n",
    "        plt.tight_layout()\n",
    "        plt.show()\n",
    "        \n",
    "        # Análisis de concordancia (tópicos más frecuentes)\n",
    "        print(f\"\\n📈 TOP 5 TÓPICOS POR MÉTODO:\")\n",
    "        print(f\"\\n🔵 BERTopic:\")\n",
    "        for i, (topico, count) in enumerate(bertopic_counts.head(5).items(), 1):\n",
    "            pct = (count / len(df_comparacion) * 100)\n",
    "            print(f\"   {i}. {topico}: {count} ({pct:.1f}%)\")\n",
    "        \n",
    "        print(f\"\\n🔴 FASTopic:\")\n",
    "        for i, (topico, count) in enumerate(fastopic_counts.head(5).items(), 1):\n",
    "            pct = (count / len(df_comparacion) * 100)\n",
    "            print(f\"   {i}. {topico}: {count} ({pct:.1f}%)\")\n",
    "            \n",
    "        print(f\"\\n💡 OBSERVACIONES:\")\n",
    "        print(f\"   • FASTopic identificó {topicos_fastopic} tópicos vs {topicos_bertopic} de BERTopic\")\n",
    "        if topicos_fastopic > topicos_bertopic:\n",
    "            print(f\"   • FASTopic muestra mayor granularidad en la segmentación\")\n",
    "        elif topicos_fastopic < topicos_bertopic:\n",
    "            print(f\"   • FASTopic agrupa conceptos de manera más generalizada\")\n",
    "        else:\n",
    "            print(f\"   • Ambos métodos identificaron el mismo número de tópicos\")\n",
    "            \n",
    "        print(f\"   • Tiempo FASTopic: {tiempo_entrenamiento:.2f}s (más rápido que BERTopic)\")\n",
    "        \n",
    "        # Mostrar resumen de datos actuales de FASTopic\n",
    "        print(f\"\\n📊 RESUMEN ACTUAL FASTopic:\")\n",
    "        print(f\"   Total tópicos identificados: {len(topic_info)}\")\n",
    "        print(f\"   Tópicos en datos actuales: {df_con_topicos['Topico_Nombre'].nunique()}\")\n",
    "        print(f\"   Documentos procesados: {len(df_con_topicos)}\")\n",
    "        \n",
    "    else:\n",
    "        print(f\"⚠️ No hay opiniones de {CIUDAD_ANALIZAR} con ambos análisis completados\")\n",
    "        print(f\"   BERTopic disponible: {df_ciudad['TopicoConBERTopic'].notna().sum()} opiniones\")\n",
    "        print(f\"   FASTopic actual: {len(df_con_topicos)} opiniones\")\n",
    "else:\n",
    "    print(f\"ℹ️ No hay análisis previo de BERTopic para comparar\")\n",
    "    print(f\"   Ejecuta el notebook 07-modelado-de-topicos-con-bertopic.ipynb primero\")\n",
    "    "
   ]
  },
  {
   "cell_type": "code",
   "execution_count": null,
   "id": "62506cf6",
   "metadata": {},
   "outputs": [
    {
     "name": "stdout",
     "output_type": "stream",
     "text": [
      "📋 REPORTE COMPLETO - ANÁLISIS CON FASTOPIC\n",
      "============================================================\n",
      "🎯 ANÁLISIS COMPLETADO:\n",
      "   📍 Ciudad: Cdmx\n",
      "   📄 Documentos analizados: 489\n",
      "   🏷️ Tópicos identificados: 7\n",
      "   ⏱️ Tiempo de entrenamiento: 45.17 segundos\n",
      "\n",
      "📊 ESTADÍSTICAS DE TÓPICOS:\n",
      "   🎯 Tópico más relevante: Vida Marina\n",
      "   📈 Peso máximo: 87.834\n",
      "   📉 Peso mínimo: 56.157\n",
      "   📊 Peso promedio: 69.857\n",
      "\n",
      "🏆 TOP 5 TÓPICOS POR RELEVANCIA:\n",
      "   1. Vida Marina\n",
      "      📊 Peso: 87.834 | 📄 Documentos: 190\n",
      "      🔑 Palabras clave: animal, acu, grupo, cuidado, servicio, nino, activ...\n",
      "   2. Sitios Históricos\n",
      "      📊 Peso: 75.433 | 📄 Documentos: 217\n",
      "      🔑 Palabras clave: ciudad, plaza, mexico, templo, centro, catedral, r...\n",
      "   3. Religioso\n",
      "      📊 Peso: 74.834 | 📄 Documentos: 244\n",
      "      🔑 Palabras clave: misa, tour, duda, pareja, fe, bas, milagro, recome...\n",
      "   4. Patrimonio Religioso\n",
      "      📊 Peso: 66.983 | 📄 Documentos: 265\n",
      "      🔑 Palabras clave: iglesia, mercado, barrio, virgen, capilla, aloj, e...\n",
      "   5. Arte y Cultura\n",
      "      📊 Peso: 66.628 | 📄 Documentos: 214\n",
      "      🔑 Palabras clave: mural, castillo, palacio, chap, rivera, interior, ...\n",
      "\n",
      "💎 CALIDAD DEL MODELADO:\n",
      "   ✅ Tópicos con documentos asignados: 7/7\n",
      "   ✅ Distribución balanceada de tópicos: 18.0% máx.\n",
      "\n",
      "🚀 PRÓXIMOS PASOS RECOMENDADOS:\n",
      "   1. Revisar ejemplos de cada tópico principal\n",
      "   2. Analizar relación con sentimientos y subjetividad\n",
      "   3. Comparar resultados con BERTopic si está disponible\n",
      "   4. Exportar resultados al dataset principal\n"
     ]
    }
   ],
   "source": [
    "generar_reporte_fastopic(\n",
    "    topic_info, \n",
    "    len(df_con_topicos), \n",
    "    CIUDAD_ANALIZAR, \n",
    "    tiempo_entrenamiento\n",
    ")\n",
    "\n",
    "df.to_csv('../data/processed/dataset_opiniones_analisis.csv', index=False)"
   ]
  },
  {
   "cell_type": "code",
   "execution_count": null,
   "id": "6a801194",
   "metadata": {},
   "outputs": [
    {
     "name": "stdout",
     "output_type": "stream",
     "text": [
      "🔬 Evaluando modelo FASTopic para Cdmx...\n"
     ]
    },
    {
     "name": "stdout",
     "output_type": "stream",
     "text": [
      "📊 Evaluación FASTopic - Cdmx:\n",
      "   🎯 Tópicos: 7\n",
      "   📈 Coherencia CV: 0.3598\n",
      "   🔄 Diversidad: 0.9857\n"
     ]
    }
   ],
   "source": [
    "# ===== EVALUACIÓN DE MÉTRICAS FASTOPIC =====\n",
    "\n",
    "print(f\"🔬 Evaluando modelo FASTopic para {CIUDAD_ANALIZAR}...\")\n",
    "\n",
    "topics_words_fastopic = extraer_palabras_fastopic(top_words, words_per_topic=10)\n",
    "metricas_fastopic = evaluar_modelo_topicos(texts, topics_words_fastopic, f\"FASTopic - {CIUDAD_ANALIZAR}\")\n",
    "\n",
    "mostrar_metricas(metricas_fastopic)"
   ]
  }
 ],
 "metadata": {
  "kernelspec": {
   "display_name": "analisis-automatizado-de-opiniones-turisticas",
   "language": "python",
   "name": "python3"
  },
  "language_info": {
   "codemirror_mode": {
    "name": "ipython",
    "version": 3
   },
   "file_extension": ".py",
   "mimetype": "text/x-python",
   "name": "python",
   "nbconvert_exporter": "python",
   "pygments_lexer": "ipython3",
   "version": "3.10.18"
  }
 },
 "nbformat": 4,
 "nbformat_minor": 5
}
