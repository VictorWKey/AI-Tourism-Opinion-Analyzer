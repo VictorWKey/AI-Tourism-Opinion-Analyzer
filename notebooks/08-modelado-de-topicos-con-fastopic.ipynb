{
 "cells": [
  {
   "cell_type": "code",
   "execution_count": 1,
   "id": "0b114faf",
   "metadata": {},
   "outputs": [
    {
     "name": "stdout",
     "output_type": "stream",
     "text": [
      "✓ TOKENIZERS_PARALLELISM configurado a 'false' para evitar warnings\n",
      "✓ Configuración de warnings completada - BERT warnings suprimidos\n"
     ]
    }
   ],
   "source": [
    "import os\n",
    "import warnings\n",
    "\n",
    "# Configuraciones para reducir warnings\n",
    "os.environ[\"TOKENIZERS_PARALLELISM\"] = \"false\"\n",
    "print(\"✓ TOKENIZERS_PARALLELISM configurado a 'false' para evitar warnings\")\n",
    "\n",
    "# Filtros específicos para warnings conocidos\n",
    "warnings.filterwarnings(\"ignore\", category=FutureWarning)\n",
    "warnings.filterwarnings(\"ignore\", category=UserWarning, module=\"transformers\")\n",
    "warnings.filterwarnings(\"ignore\", message=\".*bert.pooler.*\")\n",
    "warnings.filterwarnings(\"ignore\", message=\".*Asking to truncate.*\")\n",
    "warnings.filterwarnings(\"ignore\", message=\".*Some weights of the model.*\")\n",
    "\n",
    "print(\"✓ Configuración de warnings completada - BERT warnings suprimidos\")"
   ]
  },
  {
   "cell_type": "markdown",
   "id": "8d25143e",
   "metadata": {},
   "source": [
    "# Modelado de Tópicos con FASTopic\n",
    "\n",
    "Este notebook implementa un análisis de tópicos usando FASTopic sobre las opiniones turísticas clasificadas. Utiliza LangChain con GPT-4o-mini para asignar nombres semánticamente coherentes a los tópicos identificados y compara resultados con BERTopic."
   ]
  },
  {
   "cell_type": "code",
   "execution_count": 2,
   "id": "3030ec8f",
   "metadata": {},
   "outputs": [
    {
     "name": "stderr",
     "output_type": "stream",
     "text": [
      "Device set to use cuda:0\n",
      "[nltk_data] Downloading package wordnet to\n",
      "[nltk_data]     /home/victorwkey/nltk_data...\n",
      "[nltk_data]   Package wordnet is already up-to-date!\n",
      "[nltk_data] Downloading package wordnet to\n",
      "[nltk_data]     /home/victorwkey/nltk_data...\n",
      "[nltk_data]   Package wordnet is already up-to-date!\n"
     ]
    }
   ],
   "source": [
    "import pandas as pd\n",
    "import numpy as np\n",
    "import matplotlib.pyplot as plt\n",
    "import seaborn as sns\n",
    "import time\n",
    "import os\n",
    "import sys\n",
    "from dotenv import load_dotenv\n",
    "\n",
    "sys.path.append('../scripts')\n",
    "\n",
    "from topicos import (\n",
    "    configurar_clasificador_topicos, \n",
    "    configurar_fastopic_inteligente,\n",
    "    LimpiadorTextoMejorado, \n",
    "    mostrar_ejemplos_limpieza,\n",
    "    evaluar_modelo_topicos,\n",
    "    extraer_palabras_fastopic,\n",
    "    mostrar_metricas\n",
    ")\n",
    "\n",
    "from topicos.utils_topicos import (\n",
    "    procesar_topicos_fastopic,\n",
    "    obtener_asignaciones_topicos_fastopic,\n",
    "    visualizar_distribucion_topicos_fastopic,\n",
    "    mostrar_ejemplos_por_topico_fastopic,\n",
    "    generar_reporte_fastopic\n",
    ")\n",
    "\n",
    "load_dotenv()\n",
    "\n",
    "plt.style.use('seaborn-v0_8')\n",
    "sns.set_palette(\"husl\")"
   ]
  },
  {
   "cell_type": "code",
   "execution_count": 3,
   "id": "244d4041",
   "metadata": {},
   "outputs": [],
   "source": [
    "clasificador_topicos = configurar_clasificador_topicos()"
   ]
  },
  {
   "cell_type": "code",
   "execution_count": 4,
   "id": "c4025566",
   "metadata": {},
   "outputs": [
    {
     "name": "stdout",
     "output_type": "stream",
     "text": [
      "Dataset cargado: 2457 opiniones\n",
      "Distribución total por ciudad:\n",
      "Ciudad\n",
      "Mazatlan           499\n",
      "Puebla             497\n",
      "Puerto_vallarta    489\n",
      "Cdmx               489\n",
      "Cancun             483\n",
      "Name: count, dtype: int64\n"
     ]
    }
   ],
   "source": [
    "CIUDAD_ANALIZAR = \"Mazatlan\"\n",
    "df = pd.read_csv('../data/processed/dataset_opiniones_analisis.csv')\n",
    "\n",
    "if 'TopicoConFASTopic' not in df.columns:\n",
    "    df['TopicoConFASTopic'] = np.nan\n",
    "\n",
    "print(f\"Dataset cargado: {df.shape[0]} opiniones\")\n",
    "print(f\"Distribución total por ciudad:\")\n",
    "print(df['Ciudad'].value_counts())\n",
    "\n",
    "df_ciudad = df[df['Ciudad'] == CIUDAD_ANALIZAR].copy()\n",
    "\n",
    "columna_texto = 'TituloReviewLimpio'\n",
    "\n",
    "texts = df_ciudad[columna_texto].dropna().tolist()"
   ]
  },
  {
   "cell_type": "code",
   "execution_count": 5,
   "id": "9f207354",
   "metadata": {},
   "outputs": [
    {
     "name": "stdout",
     "output_type": "stream",
     "text": [
      "\n",
      "🎯 RESUMEN FINAL PARA Mazatlan:\n",
      "   📝 Textos disponibles: 499\n",
      "   📊 Promedio palabras: 56.3\n",
      "   📏 Rango: 12 - 476 palabras\n",
      "   🎲 Muestra: 'divertido y estar mucho con mazatlar mx el gente a...'\n"
     ]
    }
   ],
   "source": [
    "columna_limpia = \"TituloReviewLimpio\"\n",
    "\n",
    "limpiar_de_nuevo = False\n",
    "\n",
    "if columna_limpia not in df.columns or limpiar_de_nuevo:\n",
    "    \n",
    "    limpiador = LimpiadorTextoMejorado(idiomas=['spanish', 'english'])\n",
    "    \n",
    "    print(f\"🔍 Iniciando limpieza para {CIUDAD_ANALIZAR}...\")\n",
    "    \n",
    "    df = limpiador.limpiar_dataframe(\n",
    "        df,\n",
    "        columna_texto='TituloReview',\n",
    "        nombre_columna_limpia=columna_limpia,\n",
    "        aplicar_traduccion=True,\n",
    "        filtrar_adjetivos=True,  # Nueva opción para filtrar adjetivos\n",
    "        filtrar_solo_espanol=True,  # Nueva opción para filtrar solo textos en español\n",
    "        aplicar_lematizacion=True,\n",
    "        min_longitud_palabra=2,\n",
    "        max_palabras=None,\n",
    "        mostrar_estadisticas=True  # Mostrar estadísticas detalladas\n",
    "    )\n",
    "    \n",
    "    print(f\"\\n💾 Guardando dataset procesado...\")\n",
    "    df.to_csv('../data/processed/dataset_opiniones_analisis.csv', index=False)\n",
    "    print(f\"✅ Dataset guardado exitosamente\")\n",
    "\n",
    "df_ciudad = df[df['Ciudad'] == CIUDAD_ANALIZAR].copy()\n",
    "texts = df_ciudad[columna_texto].dropna().tolist()\n",
    "\n",
    "print(f\"\\n🎯 RESUMEN FINAL PARA {CIUDAD_ANALIZAR}:\")\n",
    "print(f\"   📝 Textos disponibles: {len(texts):,}\")\n",
    "if texts:\n",
    "    promedio = sum(len(t.split()) for t in texts) / len(texts)\n",
    "    print(f\"   📊 Promedio palabras: {promedio:.1f}\")\n",
    "    print(f\"   📏 Rango: {min(len(t.split()) for t in texts)} - {max(len(t.split()) for t in texts)} palabras\")\n",
    "    print(f\"   🎲 Muestra: '{texts[0][:50]}...'\" if texts else \"\")"
   ]
  },
  {
   "cell_type": "code",
   "execution_count": 6,
   "id": "0d39a4e0",
   "metadata": {},
   "outputs": [
    {
     "name": "stderr",
     "output_type": "stream",
     "text": [
      "loading train texts: 100%|██████████| 499/499 [00:07<00:00, 64.63it/s]\n",
      "loading train texts: 100%|██████████| 499/499 [00:07<00:00, 64.63it/s]\n",
      "parsing texts: 100%|██████████| 499/499 [00:08<00:00, 62.24it/s]\n",
      "2025-09-24 13:52:57,927 - TopMost - Real vocab size: 549\n",
      "2025-09-24 13:52:57,929 - TopMost - Real training size: 499 \t avg length: 16.126\n",
      "parsing texts: 100%|██████████| 499/499 [00:08<00:00, 62.24it/s]\n",
      "2025-09-24 13:52:57,927 - TopMost - Real vocab size: 549\n",
      "2025-09-24 13:52:57,929 - TopMost - Real training size: 499 \t avg length: 16.126\n",
      "Training FASTopic: 100%|██████████| 200/200 [00:18<00:00, 10.82it/s]\n",
      "\n",
      "loading train texts: 100%|██████████| 499/499 [00:07<00:00, 67.23it/s]\n",
      "loading train texts: 100%|██████████| 499/499 [00:07<00:00, 67.23it/s]\n",
      "parsing texts: 100%|██████████| 499/499 [00:05<00:00, 84.57it/s] \n",
      "2025-09-24 13:53:32,585 - TopMost - Real vocab size: 549\n",
      "2025-09-24 13:53:32,586 - TopMost - Real training size: 499 \t avg length: 16.128\n",
      "parsing texts: 100%|██████████| 499/499 [00:05<00:00, 84.57it/s]\n",
      "2025-09-24 13:53:32,585 - TopMost - Real vocab size: 549\n",
      "2025-09-24 13:53:32,586 - TopMost - Real training size: 499 \t avg length: 16.128\n",
      "Training FASTopic: 100%|██████████| 200/200 [00:25<00:00,  7.73it/s]\n",
      "\n",
      "loading train texts: 100%|██████████| 499/499 [00:07<00:00, 68.95it/s]\n",
      "loading train texts: 100%|██████████| 499/499 [00:07<00:00, 68.95it/s]\n",
      "parsing texts: 100%|██████████| 499/499 [00:08<00:00, 61.68it/s]\n",
      "2025-09-24 13:54:19,145 - TopMost - Real vocab size: 549\n",
      "2025-09-24 13:54:19,146 - TopMost - Real training size: 499 \t avg length: 16.124\n",
      "parsing texts: 100%|██████████| 499/499 [00:08<00:00, 61.68it/s]\n",
      "2025-09-24 13:54:19,145 - TopMost - Real vocab size: 549\n",
      "2025-09-24 13:54:19,146 - TopMost - Real training size: 499 \t avg length: 16.124\n",
      "Training FASTopic: 100%|██████████| 200/200 [00:16<00:00, 12.14it/s]\n",
      "\n",
      "loading train texts: 100%|██████████| 499/499 [00:07<00:00, 68.84it/s]\n",
      "loading train texts: 100%|██████████| 499/499 [00:07<00:00, 68.84it/s]\n",
      "parsing texts: 100%|██████████| 499/499 [00:08<00:00, 61.33it/s]\n",
      "2025-09-24 13:54:56,661 - TopMost - Real vocab size: 549\n",
      "2025-09-24 13:54:56,662 - TopMost - Real training size: 499 \t avg length: 16.128\n",
      "parsing texts: 100%|██████████| 499/499 [00:08<00:00, 61.33it/s]\n",
      "2025-09-24 13:54:56,661 - TopMost - Real vocab size: 549\n",
      "2025-09-24 13:54:56,662 - TopMost - Real training size: 499 \t avg length: 16.128\n",
      "Training FASTopic: 100%|██████████| 200/200 [00:18<00:00, 10.68it/s]\n",
      "\n",
      "loading train texts: 100%|██████████| 499/499 [00:07<00:00, 68.95it/s]\n",
      "loading train texts: 100%|██████████| 499/499 [00:07<00:00, 68.95it/s]\n",
      "parsing texts: 100%|██████████| 499/499 [00:05<00:00, 91.19it/s] \n",
      "2025-09-24 13:55:31,356 - TopMost - Real vocab size: 549\n",
      "2025-09-24 13:55:31,357 - TopMost - Real training size: 499 \t avg length: 16.126\n",
      "parsing texts: 100%|██████████| 499/499 [00:05<00:00, 91.19it/s]\n",
      "2025-09-24 13:55:31,356 - TopMost - Real vocab size: 549\n",
      "2025-09-24 13:55:31,357 - TopMost - Real training size: 499 \t avg length: 16.126\n",
      "Training FASTopic: 100%|██████████| 200/200 [00:19<00:00, 10.35it/s]\n",
      "\n",
      "loading train texts: 100%|██████████| 499/499 [00:04<00:00, 105.21it/s]\n",
      "loading train texts: 100%|██████████| 499/499 [00:04<00:00, 105.21it/s]\n",
      "parsing texts: 100%|██████████| 499/499 [00:08<00:00, 60.57it/s]\n",
      "2025-09-24 13:56:09,222 - TopMost - Real vocab size: 549\n",
      "2025-09-24 13:56:09,223 - TopMost - Real training size: 499 \t avg length: 16.128\n",
      "parsing texts: 100%|██████████| 499/499 [00:08<00:00, 60.57it/s]\n",
      "2025-09-24 13:56:09,222 - TopMost - Real vocab size: 549\n",
      "2025-09-24 13:56:09,223 - TopMost - Real training size: 499 \t avg length: 16.128\n",
      "Training FASTopic: 100%|██████████| 200/200 [00:16<00:00, 12.29it/s]\n",
      "\n"
     ]
    },
    {
     "name": "stdout",
     "output_type": "stream",
     "text": [
      "🤖 Configuración automática de FASTopic completada\n",
      "\n",
      "📊 CONFIGURACIÓN Y OPTIMIZACIÓN AUTOMÁTICA DE FASTOPIC\n",
      "============================================================\n",
      "\n",
      "📈 Análisis del Corpus:\n",
      "  📄 Documentos: 499\n",
      "  📝 Palabras promedio: 56.3\n",
      "  🔤 Vocabulario único: 3,154\n",
      "\n",
      "🎯 Optimización de Tópicos:\n",
      "  🔍 Modelos evaluados: 6\n",
      "  🏷️ K óptimo encontrado: 5\n",
      "  📈 Coherencia CV: 0.4852\n",
      "  🔄 Diversidad: 1.0000\n",
      "  ✅ Criterio diversidad (≥0.98): Cumplido\n",
      "\n",
      "🔧 Configuración Final:\n",
      "  🌍 Modelo embeddings: paraphrase-multilingual-MiniLM-L12-v2\n",
      "  🔧 Tokenizer: Multiidioma (ES, EN, PT, FR, IT)\n",
      "  🚀 Épocas entrenamiento: 200 (para todos los candidatos)\n",
      "  ⏱️ Tiempo total optimización: 248.48s\n",
      "\n"
     ]
    }
   ],
   "source": [
    "model, top_words, doc_topic_dist, reporte_optimizacion, tiempo_entrenamiento = configurar_fastopic_inteligente(texts)\n",
    "    \n",
    "print(\"🤖 Configuración automática de FASTopic completada\")\n",
    "print(reporte_optimizacion)"
   ]
  },
  {
   "cell_type": "code",
   "execution_count": 7,
   "id": "c866e8a6",
   "metadata": {},
   "outputs": [
    {
     "name": "stdout",
     "output_type": "stream",
     "text": [
      "✅ Modelo FASTopic optimizado y entrenado automáticamente\n"
     ]
    }
   ],
   "source": [
    "# La optimización y entrenamiento ya se realizó en la celda anterior\n",
    "topic_model = model\n",
    "print(\"✅ Modelo FASTopic optimizado y entrenado automáticamente\")"
   ]
  },
  {
   "cell_type": "code",
   "execution_count": 8,
   "id": "48b58ea5",
   "metadata": {},
   "outputs": [
    {
     "name": "stdout",
     "output_type": "stream",
     "text": [
      "Documento 1: [0.14 | 0.09 | 0.53 | 0.10 | 0.14] -> Tópicos seleccionados: [2], Umbral: 0.235\n",
      "Documento 2: [0.11 | 0.13 | 0.09 | 0.07 | 0.59] -> Tópicos seleccionados: [4], Umbral: 0.235\n",
      "Documento 3: [0.15 | 0.15 | 0.44 | 0.07 | 0.19] -> Tópicos seleccionados: [2], Umbral: 0.235\n",
      "Documento 4: [0.02 | 0.61 | 0.10 | 0.03 | 0.24] -> Tópicos seleccionados: [1, 4], Umbral: 0.235\n",
      "Documento 5: [0.14 | 0.10 | 0.07 | 0.11 | 0.58] -> Tópicos seleccionados: [4], Umbral: 0.235\n",
      "Documento 6: [0.03 | 0.26 | 0.48 | 0.02 | 0.21] -> Tópicos seleccionados: [2, 1], Umbral: 0.235\n",
      "Documento 7: [0.09 | 0.02 | 0.14 | 0.72 | 0.02] -> Tópicos seleccionados: [3], Umbral: 0.235\n",
      "Documento 8: [0.07 | 0.06 | 0.79 | 0.02 | 0.06] -> Tópicos seleccionados: [2], Umbral: 0.235\n",
      "Documento 9: [0.05 | 0.23 | 0.53 | 0.03 | 0.16] -> Tópicos seleccionados: [2], Umbral: 0.235\n",
      "Documento 10: [0.08 | 0.10 | 0.19 | 0.58 | 0.05] -> Tópicos seleccionados: [3], Umbral: 0.235\n",
      "Documento 11: [0.06 | 0.14 | 0.52 | 0.11 | 0.16] -> Tópicos seleccionados: [2], Umbral: 0.235\n",
      "Documento 12: [0.09 | 0.32 | 0.15 | 0.22 | 0.22] -> Tópicos seleccionados: [1], Umbral: 0.235\n",
      "Documento 13: [0.01 | 0.04 | 0.43 | 0.01 | 0.51] -> Tópicos seleccionados: [4, 2], Umbral: 0.235\n",
      "Documento 14: [0.03 | 0.04 | 0.16 | 0.73 | 0.05] -> Tópicos seleccionados: [3], Umbral: 0.235\n",
      "Documento 15: [0.06 | 0.10 | 0.70 | 0.03 | 0.11] -> Tópicos seleccionados: [2], Umbral: 0.235\n",
      "Documento 16: [0.23 | 0.34 | 0.10 | 0.25 | 0.09] -> Tópicos seleccionados: [1, 3], Umbral: 0.235\n",
      "Documento 17: [0.08 | 0.33 | 0.08 | 0.35 | 0.14] -> Tópicos seleccionados: [3, 1], Umbral: 0.235\n",
      "Documento 18: [0.15 | 0.22 | 0.19 | 0.08 | 0.36] -> Tópicos seleccionados: [4], Umbral: 0.235\n",
      "Documento 19: [0.02 | 0.28 | 0.51 | 0.02 | 0.17] -> Tópicos seleccionados: [2, 1], Umbral: 0.235\n",
      "Documento 20: [0.16 | 0.16 | 0.13 | 0.11 | 0.45] -> Tópicos seleccionados: [4], Umbral: 0.235\n",
      "Documento 21: [0.15 | 0.05 | 0.27 | 0.37 | 0.16] -> Tópicos seleccionados: [3, 2], Umbral: 0.235\n",
      "Documento 22: [0.03 | 0.82 | 0.04 | 0.02 | 0.10] -> Tópicos seleccionados: [1], Umbral: 0.235\n",
      "Documento 23: [0.09 | 0.39 | 0.24 | 0.08 | 0.20] -> Tópicos seleccionados: [1, 2], Umbral: 0.235\n",
      "Documento 24: [0.21 | 0.28 | 0.10 | 0.05 | 0.36] -> Tópicos seleccionados: [4, 1], Umbral: 0.235\n",
      "Documento 25: [0.23 | 0.10 | 0.25 | 0.25 | 0.17] -> Tópicos seleccionados: [2, 3], Umbral: 0.235\n",
      "Documento 26: [0.41 | 0.25 | 0.10 | 0.11 | 0.13] -> Tópicos seleccionados: [0, 1], Umbral: 0.235\n",
      "Documento 27: [0.10 | 0.06 | 0.23 | 0.55 | 0.07] -> Tópicos seleccionados: [3], Umbral: 0.235\n",
      "Documento 28: [0.05 | 0.07 | 0.38 | 0.02 | 0.49] -> Tópicos seleccionados: [4, 2], Umbral: 0.235\n",
      "Documento 29: [0.19 | 0.10 | 0.03 | 0.64 | 0.03] -> Tópicos seleccionados: [3], Umbral: 0.235\n",
      "Documento 30: [0.01 | 0.11 | 0.78 | 0.02 | 0.07] -> Tópicos seleccionados: [2], Umbral: 0.235\n",
      "Documento 31: [0.07 | 0.06 | 0.28 | 0.06 | 0.54] -> Tópicos seleccionados: [4, 2], Umbral: 0.235\n",
      "Documento 32: [0.19 | 0.34 | 0.07 | 0.31 | 0.09] -> Tópicos seleccionados: [1, 3], Umbral: 0.235\n",
      "Documento 33: [0.05 | 0.45 | 0.19 | 0.06 | 0.25] -> Tópicos seleccionados: [1, 4], Umbral: 0.235\n",
      "Documento 34: [0.03 | 0.03 | 0.87 | 0.01 | 0.06] -> Tópicos seleccionados: [2], Umbral: 0.235\n",
      "Documento 35: [0.13 | 0.46 | 0.14 | 0.03 | 0.24] -> Tópicos seleccionados: [1, 4], Umbral: 0.235\n",
      "Documento 36: [0.10 | 0.22 | 0.04 | 0.58 | 0.06] -> Tópicos seleccionados: [3], Umbral: 0.235\n",
      "Documento 37: [0.25 | 0.08 | 0.33 | 0.03 | 0.31] -> Tópicos seleccionados: [2, 4, 0], Umbral: 0.235\n",
      "Documento 38: [0.09 | 0.17 | 0.37 | 0.05 | 0.31] -> Tópicos seleccionados: [2, 4], Umbral: 0.235\n",
      "Documento 39: [0.10 | 0.36 | 0.06 | 0.45 | 0.03] -> Tópicos seleccionados: [3, 1], Umbral: 0.235\n",
      "Documento 40: [0.11 | 0.51 | 0.09 | 0.06 | 0.23] -> Tópicos seleccionados: [1], Umbral: 0.235\n",
      "Documento 41: [0.03 | 0.01 | 0.14 | 0.80 | 0.01] -> Tópicos seleccionados: [3], Umbral: 0.235\n",
      "Documento 42: [0.06 | 0.03 | 0.29 | 0.20 | 0.43] -> Tópicos seleccionados: [4, 2], Umbral: 0.235\n",
      "Documento 43: [0.14 | 0.28 | 0.23 | 0.29 | 0.06] -> Tópicos seleccionados: [3, 1], Umbral: 0.235\n",
      "Documento 44: [0.06 | 0.39 | 0.11 | 0.03 | 0.41] -> Tópicos seleccionados: [4, 1], Umbral: 0.235\n",
      "Documento 45: [0.05 | 0.05 | 0.70 | 0.05 | 0.16] -> Tópicos seleccionados: [2], Umbral: 0.235\n",
      "Documento 46: [0.11 | 0.18 | 0.29 | 0.06 | 0.36] -> Tópicos seleccionados: [4, 2], Umbral: 0.235\n",
      "Documento 47: [0.12 | 0.25 | 0.52 | 0.04 | 0.07] -> Tópicos seleccionados: [2, 1], Umbral: 0.235\n",
      "Documento 48: [0.12 | 0.34 | 0.13 | 0.10 | 0.32] -> Tópicos seleccionados: [1, 4], Umbral: 0.235\n",
      "Documento 49: [0.06 | 0.25 | 0.28 | 0.20 | 0.21] -> Tópicos seleccionados: [2, 1], Umbral: 0.235\n",
      "Documento 50: [0.22 | 0.21 | 0.02 | 0.52 | 0.04] -> Tópicos seleccionados: [3], Umbral: 0.235\n",
      "Documento 51: [0.13 | 0.09 | 0.43 | 0.22 | 0.13] -> Tópicos seleccionados: [2], Umbral: 0.235\n",
      "Documento 52: [0.06 | 0.05 | 0.03 | 0.80 | 0.06] -> Tópicos seleccionados: [3], Umbral: 0.235\n",
      "Documento 53: [0.02 | 0.05 | 0.02 | 0.89 | 0.02] -> Tópicos seleccionados: [3], Umbral: 0.235\n",
      "Documento 54: [0.09 | 0.03 | 0.02 | 0.85 | 0.01] -> Tópicos seleccionados: [3], Umbral: 0.235\n",
      "Documento 55: [0.06 | 0.04 | 0.05 | 0.83 | 0.02] -> Tópicos seleccionados: [3], Umbral: 0.235\n",
      "Documento 56: [0.18 | 0.07 | 0.02 | 0.72 | 0.01] -> Tópicos seleccionados: [3], Umbral: 0.235\n",
      "Documento 57: [0.10 | 0.03 | 0.01 | 0.84 | 0.02] -> Tópicos seleccionados: [3], Umbral: 0.235\n",
      "Documento 58: [0.20 | 0.20 | 0.22 | 0.29 | 0.09] -> Tópicos seleccionados: [3], Umbral: 0.235\n",
      "Documento 59: [0.20 | 0.13 | 0.19 | 0.32 | 0.16] -> Tópicos seleccionados: [3], Umbral: 0.235\n",
      "Documento 60: [0.08 | 0.19 | 0.01 | 0.70 | 0.02] -> Tópicos seleccionados: [3], Umbral: 0.235\n",
      "Documento 61: [0.19 | 0.03 | 0.02 | 0.75 | 0.02] -> Tópicos seleccionados: [3], Umbral: 0.235\n",
      "Documento 62: [0.02 | 0.01 | 0.01 | 0.96 | 0.00] -> Tópicos seleccionados: [3], Umbral: 0.235\n",
      "Documento 63: [0.09 | 0.07 | 0.03 | 0.77 | 0.04] -> Tópicos seleccionados: [3], Umbral: 0.235\n",
      "Documento 64: [0.10 | 0.10 | 0.32 | 0.35 | 0.13] -> Tópicos seleccionados: [3, 2], Umbral: 0.235\n",
      "Documento 65: [0.06 | 0.04 | 0.01 | 0.85 | 0.03] -> Tópicos seleccionados: [3], Umbral: 0.235\n",
      "Documento 66: [0.24 | 0.04 | 0.15 | 0.54 | 0.04] -> Tópicos seleccionados: [3, 0], Umbral: 0.235\n",
      "Documento 67: [0.16 | 0.02 | 0.01 | 0.80 | 0.01] -> Tópicos seleccionados: [3], Umbral: 0.235\n",
      "Documento 68: [0.19 | 0.14 | 0.04 | 0.58 | 0.06] -> Tópicos seleccionados: [3], Umbral: 0.235\n",
      "Documento 69: [0.20 | 0.09 | 0.57 | 0.04 | 0.11] -> Tópicos seleccionados: [2], Umbral: 0.235\n",
      "Documento 70: [0.11 | 0.05 | 0.01 | 0.81 | 0.02] -> Tópicos seleccionados: [3], Umbral: 0.235\n",
      "Documento 71: [0.03 | 0.06 | 0.80 | 0.02 | 0.09] -> Tópicos seleccionados: [2], Umbral: 0.235\n",
      "Documento 72: [0.05 | 0.04 | 0.06 | 0.82 | 0.03] -> Tópicos seleccionados: [3], Umbral: 0.235\n",
      "Documento 73: [0.11 | 0.08 | 0.11 | 0.60 | 0.10] -> Tópicos seleccionados: [3], Umbral: 0.235\n",
      "Documento 74: [0.04 | 0.02 | 0.07 | 0.87 | 0.01] -> Tópicos seleccionados: [3], Umbral: 0.235\n",
      "Documento 75: [0.09 | 0.01 | 0.00 | 0.88 | 0.01] -> Tópicos seleccionados: [3], Umbral: 0.235\n",
      "Documento 76: [0.11 | 0.24 | 0.03 | 0.52 | 0.10] -> Tópicos seleccionados: [3, 1], Umbral: 0.235\n",
      "Documento 77: [0.08 | 0.09 | 0.66 | 0.06 | 0.11] -> Tópicos seleccionados: [2], Umbral: 0.235\n",
      "Documento 78: [0.15 | 0.18 | 0.02 | 0.62 | 0.03] -> Tópicos seleccionados: [3], Umbral: 0.235\n",
      "Documento 79: [0.14 | 0.04 | 0.10 | 0.68 | 0.05] -> Tópicos seleccionados: [3], Umbral: 0.235\n",
      "Documento 80: [0.35 | 0.12 | 0.06 | 0.41 | 0.06] -> Tópicos seleccionados: [3, 0], Umbral: 0.235\n",
      "Documento 81: [0.11 | 0.07 | 0.06 | 0.71 | 0.05] -> Tópicos seleccionados: [3], Umbral: 0.235\n",
      "Documento 82: [0.09 | 0.07 | 0.04 | 0.77 | 0.04] -> Tópicos seleccionados: [3], Umbral: 0.235\n",
      "Documento 83: [0.05 | 0.03 | 0.00 | 0.91 | 0.00] -> Tópicos seleccionados: [3], Umbral: 0.235\n",
      "Documento 84: [0.08 | 0.02 | 0.03 | 0.85 | 0.02] -> Tópicos seleccionados: [3], Umbral: 0.235\n",
      "Documento 85: [0.09 | 0.21 | 0.07 | 0.53 | 0.09] -> Tópicos seleccionados: [3], Umbral: 0.235\n",
      "Documento 86: [0.03 | 0.03 | 0.00 | 0.92 | 0.01] -> Tópicos seleccionados: [3], Umbral: 0.235\n",
      "Documento 87: [0.14 | 0.02 | 0.04 | 0.78 | 0.02] -> Tópicos seleccionados: [3], Umbral: 0.235\n",
      "Documento 88: [0.08 | 0.16 | 0.27 | 0.45 | 0.04] -> Tópicos seleccionados: [3, 2], Umbral: 0.235\n",
      "Documento 89: [0.17 | 0.08 | 0.12 | 0.54 | 0.09] -> Tópicos seleccionados: [3], Umbral: 0.235\n",
      "Documento 90: [0.17 | 0.09 | 0.22 | 0.47 | 0.05] -> Tópicos seleccionados: [3], Umbral: 0.235\n",
      "Documento 91: [0.27 | 0.20 | 0.05 | 0.43 | 0.04] -> Tópicos seleccionados: [3, 0], Umbral: 0.235\n",
      "Documento 92: [0.09 | 0.46 | 0.09 | 0.29 | 0.07] -> Tópicos seleccionados: [1, 3], Umbral: 0.235\n",
      "Documento 93: [0.02 | 0.02 | 0.14 | 0.80 | 0.02] -> Tópicos seleccionados: [3], Umbral: 0.235\n",
      "Documento 94: [0.30 | 0.18 | 0.08 | 0.37 | 0.08] -> Tópicos seleccionados: [3, 0], Umbral: 0.235\n",
      "Documento 95: [0.29 | 0.10 | 0.13 | 0.44 | 0.04] -> Tópicos seleccionados: [3, 0], Umbral: 0.235\n",
      "Documento 96: [0.05 | 0.02 | 0.08 | 0.81 | 0.03] -> Tópicos seleccionados: [3], Umbral: 0.235\n",
      "Documento 97: [0.03 | 0.01 | 0.08 | 0.88 | 0.01] -> Tópicos seleccionados: [3], Umbral: 0.235\n",
      "Documento 98: [0.03 | 0.02 | 0.19 | 0.65 | 0.11] -> Tópicos seleccionados: [3], Umbral: 0.235\n",
      "Documento 99: [0.14 | 0.02 | 0.06 | 0.75 | 0.02] -> Tópicos seleccionados: [3], Umbral: 0.235\n",
      "Documento 100: [0.12 | 0.04 | 0.44 | 0.19 | 0.21] -> Tópicos seleccionados: [2], Umbral: 0.235\n",
      "Documento 101: [0.02 | 0.04 | 0.03 | 0.88 | 0.04] -> Tópicos seleccionados: [3], Umbral: 0.235\n",
      "Documento 102: [0.09 | 0.17 | 0.07 | 0.61 | 0.07] -> Tópicos seleccionados: [3], Umbral: 0.235\n",
      "Documento 103: [0.02 | 0.01 | 0.02 | 0.94 | 0.01] -> Tópicos seleccionados: [3], Umbral: 0.235\n",
      "Documento 104: [0.09 | 0.12 | 0.14 | 0.54 | 0.12] -> Tópicos seleccionados: [3], Umbral: 0.235\n",
      "Documento 105: [0.03 | 0.06 | 0.02 | 0.88 | 0.01] -> Tópicos seleccionados: [3], Umbral: 0.235\n",
      "Documento 106: [0.07 | 0.04 | 0.01 | 0.86 | 0.02] -> Tópicos seleccionados: [3], Umbral: 0.235\n",
      "Documento 107: [0.05 | 0.08 | 0.01 | 0.84 | 0.01] -> Tópicos seleccionados: [3], Umbral: 0.235\n",
      "Documento 108: [0.15 | 0.09 | 0.13 | 0.51 | 0.11] -> Tópicos seleccionados: [3], Umbral: 0.235\n",
      "Documento 109: [0.03 | 0.01 | 0.01 | 0.94 | 0.01] -> Tópicos seleccionados: [3], Umbral: 0.235\n",
      "Documento 110: [0.44 | 0.05 | 0.28 | 0.10 | 0.13] -> Tópicos seleccionados: [0, 2], Umbral: 0.235\n",
      "Documento 111: [0.16 | 0.03 | 0.02 | 0.78 | 0.01] -> Tópicos seleccionados: [3], Umbral: 0.235\n",
      "Documento 112: [0.11 | 0.06 | 0.05 | 0.72 | 0.06] -> Tópicos seleccionados: [3], Umbral: 0.235\n",
      "Documento 113: [0.12 | 0.08 | 0.02 | 0.76 | 0.02] -> Tópicos seleccionados: [3], Umbral: 0.235\n",
      "Documento 114: [0.33 | 0.09 | 0.35 | 0.13 | 0.10] -> Tópicos seleccionados: [2, 0], Umbral: 0.235\n",
      "Documento 115: [0.07 | 0.04 | 0.14 | 0.71 | 0.03] -> Tópicos seleccionados: [3], Umbral: 0.235\n",
      "Documento 116: [0.04 | 0.01 | 0.08 | 0.85 | 0.01] -> Tópicos seleccionados: [3], Umbral: 0.235\n",
      "Documento 117: [0.02 | 0.04 | 0.65 | 0.15 | 0.13] -> Tópicos seleccionados: [2], Umbral: 0.235\n",
      "Documento 118: [0.03 | 0.02 | 0.05 | 0.89 | 0.01] -> Tópicos seleccionados: [3], Umbral: 0.235\n",
      "Documento 119: [0.14 | 0.11 | 0.05 | 0.66 | 0.05] -> Tópicos seleccionados: [3], Umbral: 0.235\n",
      "Documento 120: [0.06 | 0.05 | 0.04 | 0.83 | 0.03] -> Tópicos seleccionados: [3], Umbral: 0.235\n",
      "Documento 121: [0.04 | 0.01 | 0.85 | 0.05 | 0.06] -> Tópicos seleccionados: [2], Umbral: 0.235\n",
      "Documento 122: [0.00 | 0.00 | 0.01 | 0.99 | 0.00] -> Tópicos seleccionados: [3], Umbral: 0.235\n",
      "Documento 123: [0.01 | 0.00 | 0.01 | 0.97 | 0.00] -> Tópicos seleccionados: [3], Umbral: 0.235\n",
      "Documento 124: [0.21 | 0.18 | 0.12 | 0.39 | 0.10] -> Tópicos seleccionados: [3], Umbral: 0.235\n",
      "Documento 125: [0.07 | 0.02 | 0.23 | 0.41 | 0.27] -> Tópicos seleccionados: [3, 4], Umbral: 0.235\n",
      "Documento 126: [0.04 | 0.01 | 0.20 | 0.73 | 0.02] -> Tópicos seleccionados: [3], Umbral: 0.235\n",
      "Documento 127: [0.06 | 0.13 | 0.05 | 0.72 | 0.04] -> Tópicos seleccionados: [3], Umbral: 0.235\n",
      "Documento 128: [0.03 | 0.01 | 0.81 | 0.10 | 0.04] -> Tópicos seleccionados: [2], Umbral: 0.235\n",
      "Documento 129: [0.28 | 0.03 | 0.04 | 0.64 | 0.01] -> Tópicos seleccionados: [3, 0], Umbral: 0.235\n",
      "Documento 130: [0.29 | 0.17 | 0.04 | 0.41 | 0.08] -> Tópicos seleccionados: [3, 0], Umbral: 0.235\n",
      "Documento 131: [0.03 | 0.03 | 0.02 | 0.90 | 0.01] -> Tópicos seleccionados: [3], Umbral: 0.235\n",
      "Documento 132: [0.12 | 0.06 | 0.14 | 0.60 | 0.07] -> Tópicos seleccionados: [3], Umbral: 0.235\n",
      "Documento 133: [0.01 | 0.01 | 0.00 | 0.98 | 0.00] -> Tópicos seleccionados: [3], Umbral: 0.235\n",
      "Documento 134: [0.12 | 0.03 | 0.11 | 0.65 | 0.09] -> Tópicos seleccionados: [3], Umbral: 0.235\n",
      "Documento 135: [0.06 | 0.02 | 0.01 | 0.90 | 0.01] -> Tópicos seleccionados: [3], Umbral: 0.235\n",
      "Documento 136: [0.03 | 0.03 | 0.06 | 0.87 | 0.02] -> Tópicos seleccionados: [3], Umbral: 0.235\n",
      "Documento 137: [0.16 | 0.07 | 0.05 | 0.71 | 0.01] -> Tópicos seleccionados: [3], Umbral: 0.235\n",
      "Documento 138: [0.07 | 0.04 | 0.11 | 0.77 | 0.02] -> Tópicos seleccionados: [3], Umbral: 0.235\n",
      "Documento 139: [0.09 | 0.03 | 0.02 | 0.86 | 0.01] -> Tópicos seleccionados: [3], Umbral: 0.235\n",
      "Documento 140: [0.44 | 0.06 | 0.20 | 0.25 | 0.05] -> Tópicos seleccionados: [0, 3], Umbral: 0.235\n",
      "Documento 141: [0.06 | 0.15 | 0.05 | 0.71 | 0.03] -> Tópicos seleccionados: [3], Umbral: 0.235\n",
      "Documento 142: [0.07 | 0.01 | 0.01 | 0.90 | 0.00] -> Tópicos seleccionados: [3], Umbral: 0.235\n",
      "Documento 143: [0.15 | 0.12 | 0.10 | 0.59 | 0.05] -> Tópicos seleccionados: [3], Umbral: 0.235\n",
      "Documento 144: [0.14 | 0.05 | 0.11 | 0.67 | 0.03] -> Tópicos seleccionados: [3], Umbral: 0.235\n",
      "Documento 145: [0.06 | 0.03 | 0.04 | 0.83 | 0.04] -> Tópicos seleccionados: [3], Umbral: 0.235\n",
      "Documento 146: [0.13 | 0.06 | 0.03 | 0.74 | 0.04] -> Tópicos seleccionados: [3], Umbral: 0.235\n",
      "Documento 147: [0.05 | 0.01 | 0.02 | 0.91 | 0.00] -> Tópicos seleccionados: [3], Umbral: 0.235\n",
      "Documento 148: [0.11 | 0.02 | 0.47 | 0.30 | 0.10] -> Tópicos seleccionados: [2, 3], Umbral: 0.235\n",
      "Documento 149: [0.04 | 0.01 | 0.01 | 0.94 | 0.00] -> Tópicos seleccionados: [3], Umbral: 0.235\n",
      "Documento 150: [0.19 | 0.33 | 0.19 | 0.07 | 0.22] -> Tópicos seleccionados: [1], Umbral: 0.235\n",
      "Documento 151: [0.71 | 0.07 | 0.08 | 0.04 | 0.10] -> Tópicos seleccionados: [0], Umbral: 0.235\n",
      "Documento 152: [0.33 | 0.14 | 0.21 | 0.14 | 0.18] -> Tópicos seleccionados: [0], Umbral: 0.235\n",
      "Documento 153: [0.36 | 0.43 | 0.08 | 0.02 | 0.10] -> Tópicos seleccionados: [1, 0], Umbral: 0.235\n",
      "Documento 154: [0.49 | 0.13 | 0.11 | 0.08 | 0.20] -> Tópicos seleccionados: [0], Umbral: 0.235\n",
      "Documento 155: [0.64 | 0.16 | 0.11 | 0.05 | 0.05] -> Tópicos seleccionados: [0], Umbral: 0.235\n",
      "Documento 156: [0.29 | 0.20 | 0.07 | 0.08 | 0.36] -> Tópicos seleccionados: [4, 0], Umbral: 0.235\n",
      "Documento 157: [0.45 | 0.20 | 0.18 | 0.02 | 0.16] -> Tópicos seleccionados: [0], Umbral: 0.235\n",
      "Documento 158: [0.77 | 0.12 | 0.03 | 0.06 | 0.02] -> Tópicos seleccionados: [0], Umbral: 0.235\n",
      "Documento 159: [0.18 | 0.48 | 0.06 | 0.18 | 0.10] -> Tópicos seleccionados: [1], Umbral: 0.235\n",
      "Documento 160: [0.52 | 0.06 | 0.19 | 0.10 | 0.12] -> Tópicos seleccionados: [0], Umbral: 0.235\n",
      "Documento 161: [0.20 | 0.18 | 0.14 | 0.10 | 0.39] -> Tópicos seleccionados: [4], Umbral: 0.235\n",
      "Documento 162: [0.40 | 0.18 | 0.16 | 0.11 | 0.16] -> Tópicos seleccionados: [0], Umbral: 0.235\n",
      "Documento 163: [0.73 | 0.11 | 0.09 | 0.04 | 0.02] -> Tópicos seleccionados: [0], Umbral: 0.235\n",
      "Documento 164: [0.59 | 0.14 | 0.10 | 0.06 | 0.11] -> Tópicos seleccionados: [0], Umbral: 0.235\n",
      "Documento 165: [0.39 | 0.08 | 0.18 | 0.20 | 0.15] -> Tópicos seleccionados: [0], Umbral: 0.235\n",
      "Documento 166: [0.27 | 0.26 | 0.08 | 0.03 | 0.36] -> Tópicos seleccionados: [4, 0, 1], Umbral: 0.235\n",
      "Documento 167: [0.59 | 0.16 | 0.16 | 0.02 | 0.08] -> Tópicos seleccionados: [0], Umbral: 0.235\n",
      "Documento 168: [0.81 | 0.08 | 0.03 | 0.05 | 0.03] -> Tópicos seleccionados: [0], Umbral: 0.235\n",
      "Documento 169: [0.27 | 0.09 | 0.29 | 0.05 | 0.30] -> Tópicos seleccionados: [4, 2, 0], Umbral: 0.235\n",
      "Documento 170: [0.42 | 0.20 | 0.20 | 0.02 | 0.16] -> Tópicos seleccionados: [0], Umbral: 0.235\n",
      "Documento 171: [0.49 | 0.06 | 0.10 | 0.15 | 0.20] -> Tópicos seleccionados: [0], Umbral: 0.235\n",
      "Documento 172: [0.46 | 0.27 | 0.07 | 0.11 | 0.09] -> Tópicos seleccionados: [0, 1], Umbral: 0.235\n",
      "Documento 173: [0.78 | 0.06 | 0.06 | 0.06 | 0.05] -> Tópicos seleccionados: [0], Umbral: 0.235\n",
      "Documento 174: [0.50 | 0.14 | 0.12 | 0.12 | 0.12] -> Tópicos seleccionados: [0], Umbral: 0.235\n",
      "Documento 175: [0.27 | 0.34 | 0.18 | 0.08 | 0.13] -> Tópicos seleccionados: [1, 0], Umbral: 0.235\n",
      "Documento 176: [0.46 | 0.29 | 0.05 | 0.07 | 0.12] -> Tópicos seleccionados: [0, 1], Umbral: 0.235\n",
      "Documento 177: [0.11 | 0.15 | 0.42 | 0.06 | 0.26] -> Tópicos seleccionados: [2, 4], Umbral: 0.235\n",
      "Documento 178: [0.59 | 0.14 | 0.02 | 0.18 | 0.07] -> Tópicos seleccionados: [0], Umbral: 0.235\n",
      "Documento 179: [0.07 | 0.17 | 0.35 | 0.07 | 0.34] -> Tópicos seleccionados: [2, 4], Umbral: 0.235\n",
      "Documento 180: [0.39 | 0.10 | 0.37 | 0.03 | 0.10] -> Tópicos seleccionados: [0, 2], Umbral: 0.235\n",
      "Documento 181: [0.57 | 0.25 | 0.04 | 0.08 | 0.07] -> Tópicos seleccionados: [0, 1], Umbral: 0.235\n",
      "Documento 182: [0.35 | 0.42 | 0.06 | 0.04 | 0.13] -> Tópicos seleccionados: [1, 0], Umbral: 0.235\n",
      "Documento 183: [0.12 | 0.18 | 0.40 | 0.02 | 0.28] -> Tópicos seleccionados: [2, 4], Umbral: 0.235\n",
      "Documento 184: [0.57 | 0.22 | 0.06 | 0.09 | 0.07] -> Tópicos seleccionados: [0], Umbral: 0.235\n",
      "Documento 185: [0.37 | 0.21 | 0.06 | 0.25 | 0.11] -> Tópicos seleccionados: [0, 3], Umbral: 0.235\n",
      "Documento 186: [0.16 | 0.49 | 0.14 | 0.03 | 0.18] -> Tópicos seleccionados: [1], Umbral: 0.235\n",
      "Documento 187: [0.75 | 0.11 | 0.01 | 0.08 | 0.05] -> Tópicos seleccionados: [0], Umbral: 0.235\n",
      "Documento 188: [0.47 | 0.26 | 0.07 | 0.17 | 0.04] -> Tópicos seleccionados: [0, 1], Umbral: 0.235\n",
      "Documento 189: [0.54 | 0.16 | 0.06 | 0.17 | 0.08] -> Tópicos seleccionados: [0], Umbral: 0.235\n",
      "Documento 190: [0.14 | 0.09 | 0.23 | 0.02 | 0.52] -> Tópicos seleccionados: [4], Umbral: 0.235\n",
      "Documento 191: [0.71 | 0.11 | 0.06 | 0.07 | 0.06] -> Tópicos seleccionados: [0], Umbral: 0.235\n",
      "Documento 192: [0.53 | 0.12 | 0.19 | 0.06 | 0.10] -> Tópicos seleccionados: [0], Umbral: 0.235\n",
      "Documento 193: [0.20 | 0.26 | 0.19 | 0.05 | 0.30] -> Tópicos seleccionados: [4, 1], Umbral: 0.235\n",
      "Documento 194: [0.11 | 0.08 | 0.26 | 0.02 | 0.53] -> Tópicos seleccionados: [4, 2], Umbral: 0.235\n",
      "Documento 195: [0.09 | 0.06 | 0.68 | 0.01 | 0.15] -> Tópicos seleccionados: [2], Umbral: 0.235\n",
      "Documento 196: [0.23 | 0.56 | 0.06 | 0.04 | 0.11] -> Tópicos seleccionados: [1], Umbral: 0.235\n",
      "Documento 197: [0.05 | 0.03 | 0.46 | 0.12 | 0.33] -> Tópicos seleccionados: [2, 4], Umbral: 0.235\n",
      "Documento 198: [0.07 | 0.08 | 0.65 | 0.04 | 0.17] -> Tópicos seleccionados: [2], Umbral: 0.235\n",
      "Documento 199: [0.00 | 0.01 | 0.09 | 0.00 | 0.89] -> Tópicos seleccionados: [4], Umbral: 0.235\n",
      "Documento 200: [0.07 | 0.17 | 0.19 | 0.08 | 0.50] -> Tópicos seleccionados: [4], Umbral: 0.235\n",
      "Documento 201: [0.02 | 0.02 | 0.15 | 0.00 | 0.81] -> Tópicos seleccionados: [4], Umbral: 0.235\n",
      "Documento 202: [0.10 | 0.42 | 0.18 | 0.05 | 0.26] -> Tópicos seleccionados: [1, 4], Umbral: 0.235\n",
      "Documento 203: [0.08 | 0.04 | 0.54 | 0.13 | 0.21] -> Tópicos seleccionados: [2], Umbral: 0.235\n",
      "Documento 204: [0.01 | 0.01 | 0.58 | 0.00 | 0.40] -> Tópicos seleccionados: [2, 4], Umbral: 0.235\n",
      "Documento 205: [0.00 | 0.00 | 0.80 | 0.00 | 0.20] -> Tópicos seleccionados: [2], Umbral: 0.235\n",
      "Documento 206: [0.00 | 0.01 | 0.14 | 0.00 | 0.84] -> Tópicos seleccionados: [4], Umbral: 0.235\n",
      "Documento 207: [0.03 | 0.04 | 0.07 | 0.01 | 0.84] -> Tópicos seleccionados: [4], Umbral: 0.235\n",
      "Documento 208: [0.06 | 0.12 | 0.30 | 0.03 | 0.50] -> Tópicos seleccionados: [4, 2], Umbral: 0.235\n",
      "Documento 209: [0.01 | 0.03 | 0.57 | 0.01 | 0.38] -> Tópicos seleccionados: [2, 4], Umbral: 0.235\n",
      "Documento 210: [0.07 | 0.14 | 0.39 | 0.05 | 0.36] -> Tópicos seleccionados: [2, 4], Umbral: 0.235\n",
      "Documento 211: [0.08 | 0.33 | 0.18 | 0.03 | 0.39] -> Tópicos seleccionados: [4, 1], Umbral: 0.235\n",
      "Documento 212: [0.06 | 0.19 | 0.28 | 0.02 | 0.44] -> Tópicos seleccionados: [4, 2], Umbral: 0.235\n",
      "Documento 213: [0.01 | 0.02 | 0.34 | 0.01 | 0.61] -> Tópicos seleccionados: [4, 2], Umbral: 0.235\n",
      "Documento 214: [0.37 | 0.12 | 0.15 | 0.14 | 0.23] -> Tópicos seleccionados: [0], Umbral: 0.235\n",
      "Documento 215: [0.01 | 0.03 | 0.36 | 0.05 | 0.55] -> Tópicos seleccionados: [4, 2], Umbral: 0.235\n",
      "Documento 216: [0.19 | 0.06 | 0.12 | 0.56 | 0.07] -> Tópicos seleccionados: [3], Umbral: 0.235\n",
      "Documento 217: [0.31 | 0.24 | 0.07 | 0.25 | 0.13] -> Tópicos seleccionados: [0, 3, 1], Umbral: 0.235\n",
      "Documento 218: [0.12 | 0.07 | 0.40 | 0.06 | 0.34] -> Tópicos seleccionados: [2, 4], Umbral: 0.235\n",
      "Documento 219: [0.03 | 0.11 | 0.13 | 0.37 | 0.36] -> Tópicos seleccionados: [3, 4], Umbral: 0.235\n",
      "Documento 220: [0.07 | 0.21 | 0.08 | 0.03 | 0.60] -> Tópicos seleccionados: [4], Umbral: 0.235\n",
      "Documento 221: [0.13 | 0.07 | 0.11 | 0.63 | 0.06] -> Tópicos seleccionados: [3], Umbral: 0.235\n",
      "Documento 222: [0.02 | 0.08 | 0.42 | 0.05 | 0.42] -> Tópicos seleccionados: [2, 4], Umbral: 0.235\n",
      "Documento 223: [0.03 | 0.03 | 0.74 | 0.02 | 0.18] -> Tópicos seleccionados: [2], Umbral: 0.235\n",
      "Documento 224: [0.00 | 0.00 | 0.68 | 0.01 | 0.30] -> Tópicos seleccionados: [2, 4], Umbral: 0.235\n",
      "Documento 225: [0.03 | 0.12 | 0.30 | 0.05 | 0.51] -> Tópicos seleccionados: [4, 2], Umbral: 0.235\n",
      "Documento 226: [0.18 | 0.06 | 0.17 | 0.05 | 0.54] -> Tópicos seleccionados: [4], Umbral: 0.235\n",
      "Documento 227: [0.07 | 0.09 | 0.54 | 0.06 | 0.23] -> Tópicos seleccionados: [2], Umbral: 0.235\n",
      "Documento 228: [0.26 | 0.15 | 0.36 | 0.06 | 0.17] -> Tópicos seleccionados: [2, 0], Umbral: 0.235\n",
      "Documento 229: [0.02 | 0.04 | 0.19 | 0.01 | 0.74] -> Tópicos seleccionados: [4], Umbral: 0.235\n",
      "Documento 230: [0.00 | 0.00 | 0.92 | 0.00 | 0.08] -> Tópicos seleccionados: [2], Umbral: 0.235\n",
      "Documento 231: [0.02 | 0.30 | 0.15 | 0.03 | 0.51] -> Tópicos seleccionados: [4, 1], Umbral: 0.235\n",
      "Documento 232: [0.00 | 0.00 | 0.47 | 0.01 | 0.51] -> Tópicos seleccionados: [4, 2], Umbral: 0.235\n",
      "Documento 233: [0.12 | 0.50 | 0.18 | 0.03 | 0.17] -> Tópicos seleccionados: [1], Umbral: 0.235\n",
      "Documento 234: [0.07 | 0.03 | 0.69 | 0.05 | 0.15] -> Tópicos seleccionados: [2], Umbral: 0.235\n",
      "Documento 235: [0.02 | 0.03 | 0.82 | 0.02 | 0.12] -> Tópicos seleccionados: [2], Umbral: 0.235\n",
      "Documento 236: [0.00 | 0.01 | 0.90 | 0.01 | 0.08] -> Tópicos seleccionados: [2], Umbral: 0.235\n",
      "Documento 237: [0.10 | 0.04 | 0.22 | 0.52 | 0.11] -> Tópicos seleccionados: [3], Umbral: 0.235\n",
      "Documento 238: [0.09 | 0.15 | 0.13 | 0.18 | 0.45] -> Tópicos seleccionados: [4], Umbral: 0.235\n",
      "Documento 239: [0.10 | 0.07 | 0.00 | 0.82 | 0.01] -> Tópicos seleccionados: [3], Umbral: 0.235\n",
      "Documento 240: [0.14 | 0.07 | 0.46 | 0.28 | 0.05] -> Tópicos seleccionados: [2, 3], Umbral: 0.235\n",
      "Documento 241: [0.02 | 0.83 | 0.06 | 0.01 | 0.07] -> Tópicos seleccionados: [1], Umbral: 0.235\n",
      "Documento 242: [0.58 | 0.09 | 0.03 | 0.25 | 0.04] -> Tópicos seleccionados: [0, 3], Umbral: 0.235\n",
      "Documento 243: [0.65 | 0.11 | 0.04 | 0.15 | 0.05] -> Tópicos seleccionados: [0], Umbral: 0.235\n",
      "Documento 244: [0.16 | 0.43 | 0.05 | 0.34 | 0.02] -> Tópicos seleccionados: [1, 3], Umbral: 0.235\n",
      "Documento 245: [0.80 | 0.06 | 0.02 | 0.10 | 0.02] -> Tópicos seleccionados: [0], Umbral: 0.235\n",
      "Documento 246: [0.59 | 0.03 | 0.04 | 0.30 | 0.04] -> Tópicos seleccionados: [0, 3], Umbral: 0.235\n",
      "Documento 247: [0.71 | 0.08 | 0.06 | 0.08 | 0.06] -> Tópicos seleccionados: [0], Umbral: 0.235\n",
      "Documento 248: [0.35 | 0.08 | 0.17 | 0.28 | 0.11] -> Tópicos seleccionados: [0, 3], Umbral: 0.235\n",
      "Documento 249: [0.24 | 0.20 | 0.14 | 0.05 | 0.37] -> Tópicos seleccionados: [4, 0], Umbral: 0.235\n",
      "Documento 250: [0.53 | 0.05 | 0.06 | 0.29 | 0.07] -> Tópicos seleccionados: [0, 3], Umbral: 0.235\n",
      "Documento 251: [0.33 | 0.14 | 0.14 | 0.07 | 0.32] -> Tópicos seleccionados: [0, 4], Umbral: 0.235\n",
      "Documento 252: [0.69 | 0.03 | 0.04 | 0.11 | 0.13] -> Tópicos seleccionados: [0], Umbral: 0.235\n",
      "Documento 253: [0.39 | 0.11 | 0.03 | 0.43 | 0.04] -> Tópicos seleccionados: [3, 0], Umbral: 0.235\n",
      "Documento 254: [0.38 | 0.16 | 0.24 | 0.15 | 0.08] -> Tópicos seleccionados: [0, 2], Umbral: 0.235\n",
      "Documento 255: [0.64 | 0.07 | 0.15 | 0.07 | 0.07] -> Tópicos seleccionados: [0], Umbral: 0.235\n",
      "Documento 256: [0.56 | 0.14 | 0.10 | 0.08 | 0.12] -> Tópicos seleccionados: [0], Umbral: 0.235\n",
      "Documento 257: [0.46 | 0.06 | 0.03 | 0.42 | 0.03] -> Tópicos seleccionados: [0, 3], Umbral: 0.235\n",
      "Documento 258: [0.57 | 0.13 | 0.10 | 0.08 | 0.12] -> Tópicos seleccionados: [0], Umbral: 0.235\n",
      "Documento 259: [0.41 | 0.18 | 0.09 | 0.28 | 0.04] -> Tópicos seleccionados: [0, 3], Umbral: 0.235\n",
      "Documento 260: [0.41 | 0.13 | 0.20 | 0.09 | 0.17] -> Tópicos seleccionados: [0], Umbral: 0.235\n",
      "Documento 261: [0.33 | 0.39 | 0.06 | 0.07 | 0.15] -> Tópicos seleccionados: [1, 0], Umbral: 0.235\n",
      "Documento 262: [0.17 | 0.37 | 0.09 | 0.10 | 0.27] -> Tópicos seleccionados: [1, 4], Umbral: 0.235\n",
      "Documento 263: [0.11 | 0.03 | 0.02 | 0.81 | 0.02] -> Tópicos seleccionados: [3], Umbral: 0.235\n",
      "Documento 264: [0.66 | 0.11 | 0.07 | 0.07 | 0.09] -> Tópicos seleccionados: [0], Umbral: 0.235\n",
      "Documento 265: [0.42 | 0.16 | 0.01 | 0.38 | 0.03] -> Tópicos seleccionados: [0, 3], Umbral: 0.235\n",
      "Documento 266: [0.39 | 0.08 | 0.21 | 0.29 | 0.03] -> Tópicos seleccionados: [0, 3], Umbral: 0.235\n",
      "Documento 267: [0.89 | 0.02 | 0.01 | 0.06 | 0.01] -> Tópicos seleccionados: [0], Umbral: 0.235\n",
      "Documento 268: [0.43 | 0.20 | 0.01 | 0.33 | 0.03] -> Tópicos seleccionados: [0, 3], Umbral: 0.235\n",
      "Documento 269: [0.57 | 0.11 | 0.02 | 0.27 | 0.03] -> Tópicos seleccionados: [0, 3], Umbral: 0.235\n",
      "Documento 270: [0.34 | 0.06 | 0.04 | 0.52 | 0.03] -> Tópicos seleccionados: [3, 0], Umbral: 0.235\n",
      "Documento 271: [0.36 | 0.28 | 0.03 | 0.25 | 0.08] -> Tópicos seleccionados: [0, 1, 3], Umbral: 0.235\n",
      "Documento 272: [0.50 | 0.12 | 0.13 | 0.21 | 0.04] -> Tópicos seleccionados: [0], Umbral: 0.235\n",
      "Documento 273: [0.15 | 0.35 | 0.06 | 0.38 | 0.05] -> Tópicos seleccionados: [3, 1], Umbral: 0.235\n",
      "Documento 274: [0.20 | 0.08 | 0.10 | 0.52 | 0.11] -> Tópicos seleccionados: [3], Umbral: 0.235\n",
      "Documento 275: [0.32 | 0.13 | 0.11 | 0.30 | 0.14] -> Tópicos seleccionados: [0, 3], Umbral: 0.235\n",
      "Documento 276: [0.12 | 0.55 | 0.10 | 0.13 | 0.10] -> Tópicos seleccionados: [1], Umbral: 0.235\n",
      "Documento 277: [0.53 | 0.12 | 0.14 | 0.15 | 0.06] -> Tópicos seleccionados: [0], Umbral: 0.235\n",
      "Documento 278: [0.35 | 0.17 | 0.09 | 0.27 | 0.12] -> Tópicos seleccionados: [0, 3], Umbral: 0.235\n",
      "Documento 279: [0.40 | 0.20 | 0.11 | 0.21 | 0.07] -> Tópicos seleccionados: [0], Umbral: 0.235\n",
      "Documento 280: [0.42 | 0.05 | 0.09 | 0.38 | 0.05] -> Tópicos seleccionados: [0, 3], Umbral: 0.235\n",
      "Documento 281: [0.67 | 0.10 | 0.04 | 0.14 | 0.04] -> Tópicos seleccionados: [0], Umbral: 0.235\n",
      "Documento 282: [0.64 | 0.11 | 0.03 | 0.16 | 0.06] -> Tópicos seleccionados: [0], Umbral: 0.235\n",
      "Documento 283: [0.43 | 0.06 | 0.10 | 0.33 | 0.08] -> Tópicos seleccionados: [0, 3], Umbral: 0.235\n",
      "Documento 284: [0.16 | 0.20 | 0.19 | 0.10 | 0.34] -> Tópicos seleccionados: [4], Umbral: 0.235\n",
      "Documento 285: [0.29 | 0.05 | 0.05 | 0.57 | 0.04] -> Tópicos seleccionados: [3, 0], Umbral: 0.235\n",
      "Documento 286: [0.38 | 0.11 | 0.05 | 0.40 | 0.06] -> Tópicos seleccionados: [3, 0], Umbral: 0.235\n",
      "Documento 287: [0.12 | 0.14 | 0.13 | 0.57 | 0.04] -> Tópicos seleccionados: [3], Umbral: 0.235\n",
      "Documento 288: [0.16 | 0.14 | 0.11 | 0.54 | 0.05] -> Tópicos seleccionados: [3], Umbral: 0.235\n",
      "Documento 289: [0.09 | 0.63 | 0.11 | 0.01 | 0.16] -> Tópicos seleccionados: [1], Umbral: 0.235\n",
      "Documento 290: [0.03 | 0.90 | 0.02 | 0.00 | 0.04] -> Tópicos seleccionados: [1], Umbral: 0.235\n",
      "Documento 291: [0.11 | 0.63 | 0.08 | 0.01 | 0.16] -> Tópicos seleccionados: [1], Umbral: 0.235\n",
      "Documento 292: [0.10 | 0.59 | 0.17 | 0.04 | 0.10] -> Tópicos seleccionados: [1], Umbral: 0.235\n",
      "Documento 293: [0.08 | 0.63 | 0.04 | 0.03 | 0.22] -> Tópicos seleccionados: [1], Umbral: 0.235\n",
      "Documento 294: [0.04 | 0.79 | 0.07 | 0.02 | 0.06] -> Tópicos seleccionados: [1], Umbral: 0.235\n",
      "Documento 295: [0.18 | 0.47 | 0.07 | 0.12 | 0.16] -> Tópicos seleccionados: [1], Umbral: 0.235\n",
      "Documento 296: [0.06 | 0.72 | 0.07 | 0.01 | 0.14] -> Tópicos seleccionados: [1], Umbral: 0.235\n",
      "Documento 297: [0.14 | 0.29 | 0.29 | 0.06 | 0.22] -> Tópicos seleccionados: [1, 2], Umbral: 0.235\n",
      "Documento 298: [0.16 | 0.66 | 0.07 | 0.02 | 0.10] -> Tópicos seleccionados: [1], Umbral: 0.235\n",
      "Documento 299: [0.06 | 0.14 | 0.46 | 0.04 | 0.29] -> Tópicos seleccionados: [2, 4], Umbral: 0.235\n",
      "Documento 300: [0.06 | 0.87 | 0.02 | 0.02 | 0.03] -> Tópicos seleccionados: [1], Umbral: 0.235\n",
      "Documento 301: [0.13 | 0.58 | 0.14 | 0.04 | 0.12] -> Tópicos seleccionados: [1], Umbral: 0.235\n",
      "Documento 302: [0.14 | 0.62 | 0.06 | 0.03 | 0.15] -> Tópicos seleccionados: [1], Umbral: 0.235\n",
      "Documento 303: [0.03 | 0.54 | 0.09 | 0.06 | 0.28] -> Tópicos seleccionados: [1, 4], Umbral: 0.235\n",
      "Documento 304: [0.01 | 0.09 | 0.66 | 0.07 | 0.17] -> Tópicos seleccionados: [2], Umbral: 0.235\n",
      "Documento 305: [0.06 | 0.40 | 0.26 | 0.07 | 0.21] -> Tópicos seleccionados: [1, 2], Umbral: 0.235\n",
      "Documento 306: [0.21 | 0.49 | 0.05 | 0.12 | 0.13] -> Tópicos seleccionados: [1], Umbral: 0.235\n",
      "Documento 307: [0.06 | 0.79 | 0.07 | 0.01 | 0.08] -> Tópicos seleccionados: [1], Umbral: 0.235\n",
      "Documento 308: [0.09 | 0.33 | 0.28 | 0.04 | 0.25] -> Tópicos seleccionados: [1, 2, 4], Umbral: 0.235\n",
      "Documento 309: [0.08 | 0.39 | 0.30 | 0.03 | 0.21] -> Tópicos seleccionados: [1, 2], Umbral: 0.235\n",
      "Documento 310: [0.12 | 0.68 | 0.04 | 0.06 | 0.10] -> Tópicos seleccionados: [1], Umbral: 0.235\n",
      "Documento 311: [0.17 | 0.64 | 0.07 | 0.02 | 0.10] -> Tópicos seleccionados: [1], Umbral: 0.235\n",
      "Documento 312: [0.15 | 0.24 | 0.09 | 0.02 | 0.50] -> Tópicos seleccionados: [4, 1], Umbral: 0.235\n",
      "Documento 313: [0.07 | 0.75 | 0.07 | 0.04 | 0.06] -> Tópicos seleccionados: [1], Umbral: 0.235\n",
      "Documento 314: [0.26 | 0.22 | 0.10 | 0.03 | 0.39] -> Tópicos seleccionados: [4, 0], Umbral: 0.235\n",
      "Documento 315: [0.05 | 0.70 | 0.09 | 0.04 | 0.12] -> Tópicos seleccionados: [1], Umbral: 0.235\n",
      "Documento 316: [0.31 | 0.45 | 0.05 | 0.08 | 0.11] -> Tópicos seleccionados: [1, 0], Umbral: 0.235\n",
      "Documento 317: [0.06 | 0.64 | 0.11 | 0.03 | 0.15] -> Tópicos seleccionados: [1], Umbral: 0.235\n",
      "Documento 318: [0.14 | 0.55 | 0.08 | 0.02 | 0.21] -> Tópicos seleccionados: [1], Umbral: 0.235\n",
      "Documento 319: [0.10 | 0.61 | 0.03 | 0.07 | 0.19] -> Tópicos seleccionados: [1], Umbral: 0.235\n",
      "Documento 320: [0.05 | 0.71 | 0.11 | 0.01 | 0.11] -> Tópicos seleccionados: [1], Umbral: 0.235\n",
      "Documento 321: [0.09 | 0.71 | 0.06 | 0.02 | 0.12] -> Tópicos seleccionados: [1], Umbral: 0.235\n",
      "Documento 322: [0.02 | 0.86 | 0.06 | 0.01 | 0.04] -> Tópicos seleccionados: [1], Umbral: 0.235\n",
      "Documento 323: [0.08 | 0.75 | 0.08 | 0.02 | 0.07] -> Tópicos seleccionados: [1], Umbral: 0.235\n",
      "Documento 324: [0.07 | 0.76 | 0.07 | 0.04 | 0.07] -> Tópicos seleccionados: [1], Umbral: 0.235\n",
      "Documento 325: [0.05 | 0.63 | 0.10 | 0.01 | 0.21] -> Tópicos seleccionados: [1], Umbral: 0.235\n",
      "Documento 326: [0.02 | 0.95 | 0.02 | 0.01 | 0.01] -> Tópicos seleccionados: [1], Umbral: 0.235\n",
      "Documento 327: [0.08 | 0.29 | 0.12 | 0.02 | 0.49] -> Tópicos seleccionados: [4, 1], Umbral: 0.235\n",
      "Documento 328: [0.08 | 0.78 | 0.07 | 0.02 | 0.04] -> Tópicos seleccionados: [1], Umbral: 0.235\n",
      "Documento 329: [0.04 | 0.88 | 0.04 | 0.01 | 0.03] -> Tópicos seleccionados: [1], Umbral: 0.235\n",
      "Documento 330: [0.01 | 0.02 | 0.79 | 0.02 | 0.17] -> Tópicos seleccionados: [2], Umbral: 0.235\n",
      "Documento 331: [0.00 | 0.00 | 0.91 | 0.01 | 0.07] -> Tópicos seleccionados: [2], Umbral: 0.235\n",
      "Documento 332: [0.01 | 0.05 | 0.57 | 0.02 | 0.35] -> Tópicos seleccionados: [2, 4], Umbral: 0.235\n",
      "Documento 333: [0.00 | 0.01 | 0.47 | 0.00 | 0.52] -> Tópicos seleccionados: [4, 2], Umbral: 0.235\n",
      "Documento 334: [0.00 | 0.00 | 0.89 | 0.01 | 0.09] -> Tópicos seleccionados: [2], Umbral: 0.235\n",
      "Documento 335: [0.03 | 0.04 | 0.87 | 0.04 | 0.03] -> Tópicos seleccionados: [2], Umbral: 0.235\n",
      "Documento 336: [0.08 | 0.02 | 0.52 | 0.18 | 0.20] -> Tópicos seleccionados: [2], Umbral: 0.235\n",
      "Documento 337: [0.02 | 0.01 | 0.86 | 0.01 | 0.10] -> Tópicos seleccionados: [2], Umbral: 0.235\n",
      "Documento 338: [0.02 | 0.01 | 0.42 | 0.01 | 0.53] -> Tópicos seleccionados: [4, 2], Umbral: 0.235\n",
      "Documento 339: [0.02 | 0.03 | 0.85 | 0.03 | 0.08] -> Tópicos seleccionados: [2], Umbral: 0.235\n",
      "Documento 340: [0.01 | 0.02 | 0.52 | 0.01 | 0.44] -> Tópicos seleccionados: [2, 4], Umbral: 0.235\n",
      "Documento 341: [0.01 | 0.02 | 0.90 | 0.03 | 0.04] -> Tópicos seleccionados: [2], Umbral: 0.235\n",
      "Documento 342: [0.04 | 0.02 | 0.78 | 0.04 | 0.11] -> Tópicos seleccionados: [2], Umbral: 0.235\n",
      "Documento 343: [0.02 | 0.17 | 0.50 | 0.02 | 0.29] -> Tópicos seleccionados: [2, 4], Umbral: 0.235\n",
      "Documento 344: [0.01 | 0.01 | 0.83 | 0.01 | 0.14] -> Tópicos seleccionados: [2], Umbral: 0.235\n",
      "Documento 345: [0.11 | 0.05 | 0.64 | 0.12 | 0.08] -> Tópicos seleccionados: [2], Umbral: 0.235\n",
      "Documento 346: [0.00 | 0.00 | 0.85 | 0.02 | 0.13] -> Tópicos seleccionados: [2], Umbral: 0.235\n",
      "Documento 347: [0.02 | 0.04 | 0.68 | 0.02 | 0.25] -> Tópicos seleccionados: [2, 4], Umbral: 0.235\n",
      "Documento 348: [0.01 | 0.00 | 0.96 | 0.01 | 0.02] -> Tópicos seleccionados: [2], Umbral: 0.235\n",
      "Documento 349: [0.01 | 0.02 | 0.88 | 0.02 | 0.08] -> Tópicos seleccionados: [2], Umbral: 0.235\n",
      "Documento 350: [0.07 | 0.42 | 0.17 | 0.03 | 0.31] -> Tópicos seleccionados: [1, 4], Umbral: 0.235\n",
      "Documento 351: [0.08 | 0.08 | 0.52 | 0.03 | 0.29] -> Tópicos seleccionados: [2, 4], Umbral: 0.235\n",
      "Documento 352: [0.03 | 0.30 | 0.46 | 0.01 | 0.19] -> Tópicos seleccionados: [2, 1], Umbral: 0.235\n",
      "Documento 353: [0.01 | 0.01 | 0.81 | 0.01 | 0.16] -> Tópicos seleccionados: [2], Umbral: 0.235\n",
      "Documento 354: [0.03 | 0.06 | 0.61 | 0.02 | 0.29] -> Tópicos seleccionados: [2, 4], Umbral: 0.235\n",
      "Documento 355: [0.06 | 0.02 | 0.83 | 0.02 | 0.07] -> Tópicos seleccionados: [2], Umbral: 0.235\n",
      "Documento 356: [0.00 | 0.00 | 0.83 | 0.01 | 0.16] -> Tópicos seleccionados: [2], Umbral: 0.235\n",
      "Documento 357: [0.07 | 0.13 | 0.69 | 0.03 | 0.09] -> Tópicos seleccionados: [2], Umbral: 0.235\n",
      "Documento 358: [0.02 | 0.01 | 0.89 | 0.02 | 0.07] -> Tópicos seleccionados: [2], Umbral: 0.235\n",
      "Documento 359: [0.05 | 0.07 | 0.24 | 0.02 | 0.62] -> Tópicos seleccionados: [4, 2], Umbral: 0.235\n",
      "Documento 360: [0.00 | 0.00 | 0.47 | 0.00 | 0.53] -> Tópicos seleccionados: [4, 2], Umbral: 0.235\n",
      "Documento 361: [0.02 | 0.02 | 0.83 | 0.02 | 0.12] -> Tópicos seleccionados: [2], Umbral: 0.235\n",
      "Documento 362: [0.00 | 0.00 | 0.89 | 0.01 | 0.09] -> Tópicos seleccionados: [2], Umbral: 0.235\n",
      "Documento 363: [0.01 | 0.01 | 0.84 | 0.01 | 0.14] -> Tópicos seleccionados: [2], Umbral: 0.235\n",
      "Documento 364: [0.01 | 0.00 | 0.90 | 0.00 | 0.08] -> Tópicos seleccionados: [2], Umbral: 0.235\n",
      "Documento 365: [0.01 | 0.00 | 0.94 | 0.01 | 0.04] -> Tópicos seleccionados: [2], Umbral: 0.235\n",
      "Documento 366: [0.00 | 0.00 | 0.94 | 0.00 | 0.06] -> Tópicos seleccionados: [2], Umbral: 0.235\n",
      "Documento 367: [0.01 | 0.01 | 0.82 | 0.01 | 0.16] -> Tópicos seleccionados: [2], Umbral: 0.235\n",
      "Documento 368: [0.00 | 0.00 | 0.91 | 0.01 | 0.08] -> Tópicos seleccionados: [2], Umbral: 0.235\n",
      "Documento 369: [0.01 | 0.01 | 0.95 | 0.01 | 0.03] -> Tópicos seleccionados: [2], Umbral: 0.235\n",
      "Documento 370: [0.01 | 0.02 | 0.80 | 0.02 | 0.15] -> Tópicos seleccionados: [2], Umbral: 0.235\n",
      "Documento 371: [0.02 | 0.09 | 0.76 | 0.04 | 0.09] -> Tópicos seleccionados: [2], Umbral: 0.235\n",
      "Documento 372: [0.06 | 0.07 | 0.75 | 0.04 | 0.09] -> Tópicos seleccionados: [2], Umbral: 0.235\n",
      "Documento 373: [0.02 | 0.06 | 0.35 | 0.00 | 0.57] -> Tópicos seleccionados: [4, 2], Umbral: 0.235\n",
      "Documento 374: [0.06 | 0.07 | 0.53 | 0.10 | 0.24] -> Tópicos seleccionados: [2, 4], Umbral: 0.235\n",
      "Documento 375: [0.00 | 0.00 | 0.93 | 0.00 | 0.06] -> Tópicos seleccionados: [2], Umbral: 0.235\n",
      "Documento 376: [0.00 | 0.01 | 0.61 | 0.01 | 0.37] -> Tópicos seleccionados: [2, 4], Umbral: 0.235\n",
      "Documento 377: [0.01 | 0.01 | 0.37 | 0.01 | 0.60] -> Tópicos seleccionados: [4, 2], Umbral: 0.235\n",
      "Documento 378: [0.06 | 0.07 | 0.23 | 0.02 | 0.62] -> Tópicos seleccionados: [4], Umbral: 0.235\n",
      "Documento 379: [0.02 | 0.02 | 0.89 | 0.02 | 0.05] -> Tópicos seleccionados: [2], Umbral: 0.235\n",
      "Documento 380: [0.32 | 0.09 | 0.14 | 0.07 | 0.37] -> Tópicos seleccionados: [4, 0], Umbral: 0.235\n",
      "Documento 381: [0.03 | 0.00 | 0.09 | 0.87 | 0.01] -> Tópicos seleccionados: [3], Umbral: 0.235\n",
      "Documento 382: [0.09 | 0.04 | 0.06 | 0.80 | 0.01] -> Tópicos seleccionados: [3], Umbral: 0.235\n",
      "Documento 383: [0.08 | 0.06 | 0.11 | 0.72 | 0.03] -> Tópicos seleccionados: [3], Umbral: 0.235\n",
      "Documento 384: [0.37 | 0.06 | 0.06 | 0.48 | 0.02] -> Tópicos seleccionados: [3, 0], Umbral: 0.235\n",
      "Documento 385: [0.56 | 0.12 | 0.13 | 0.09 | 0.10] -> Tópicos seleccionados: [0], Umbral: 0.235\n",
      "Documento 386: [0.42 | 0.03 | 0.10 | 0.36 | 0.09] -> Tópicos seleccionados: [0, 3], Umbral: 0.235\n",
      "Documento 387: [0.22 | 0.13 | 0.29 | 0.16 | 0.19] -> Tópicos seleccionados: [2], Umbral: 0.235\n",
      "Documento 388: [0.59 | 0.06 | 0.06 | 0.25 | 0.05] -> Tópicos seleccionados: [0, 3], Umbral: 0.235\n",
      "Documento 389: [0.21 | 0.03 | 0.16 | 0.59 | 0.02] -> Tópicos seleccionados: [3], Umbral: 0.235\n",
      "Documento 390: [0.63 | 0.06 | 0.11 | 0.06 | 0.14] -> Tópicos seleccionados: [0], Umbral: 0.235\n",
      "Documento 391: [0.25 | 0.26 | 0.10 | 0.12 | 0.27] -> Tópicos seleccionados: [4, 1, 0], Umbral: 0.235\n",
      "Documento 392: [0.04 | 0.01 | 0.39 | 0.48 | 0.10] -> Tópicos seleccionados: [3, 2], Umbral: 0.235\n",
      "Documento 393: [0.60 | 0.12 | 0.08 | 0.14 | 0.05] -> Tópicos seleccionados: [0], Umbral: 0.235\n",
      "Documento 394: [0.17 | 0.06 | 0.09 | 0.65 | 0.03] -> Tópicos seleccionados: [3], Umbral: 0.235\n",
      "Documento 395: [0.46 | 0.04 | 0.10 | 0.38 | 0.03] -> Tópicos seleccionados: [0, 3], Umbral: 0.235\n",
      "Documento 396: [0.47 | 0.14 | 0.05 | 0.19 | 0.15] -> Tópicos seleccionados: [0], Umbral: 0.235\n",
      "Documento 397: [0.08 | 0.03 | 0.09 | 0.77 | 0.04] -> Tópicos seleccionados: [3], Umbral: 0.235\n",
      "Documento 398: [0.31 | 0.16 | 0.27 | 0.06 | 0.20] -> Tópicos seleccionados: [0, 2], Umbral: 0.235\n",
      "Documento 399: [0.33 | 0.12 | 0.15 | 0.08 | 0.32] -> Tópicos seleccionados: [0, 4], Umbral: 0.235\n",
      "Documento 400: [0.41 | 0.09 | 0.06 | 0.34 | 0.11] -> Tópicos seleccionados: [0, 3], Umbral: 0.235\n",
      "Documento 401: [0.12 | 0.03 | 0.07 | 0.76 | 0.02] -> Tópicos seleccionados: [3], Umbral: 0.235\n",
      "Documento 402: [0.83 | 0.03 | 0.03 | 0.10 | 0.02] -> Tópicos seleccionados: [0], Umbral: 0.235\n",
      "Documento 403: [0.34 | 0.12 | 0.11 | 0.41 | 0.02] -> Tópicos seleccionados: [3, 0], Umbral: 0.235\n",
      "Documento 404: [0.52 | 0.09 | 0.20 | 0.16 | 0.04] -> Tópicos seleccionados: [0], Umbral: 0.235\n",
      "Documento 405: [0.64 | 0.06 | 0.01 | 0.27 | 0.01] -> Tópicos seleccionados: [0, 3], Umbral: 0.235\n",
      "Documento 406: [0.03 | 0.08 | 0.28 | 0.04 | 0.57] -> Tópicos seleccionados: [4, 2], Umbral: 0.235\n",
      "Documento 407: [0.18 | 0.19 | 0.21 | 0.19 | 0.22] -> Tópicos seleccionados: [], Umbral: 0.235\n",
      "Documento 408: [0.67 | 0.07 | 0.07 | 0.09 | 0.10] -> Tópicos seleccionados: [0], Umbral: 0.235\n",
      "Documento 409: [0.65 | 0.10 | 0.04 | 0.15 | 0.06] -> Tópicos seleccionados: [0], Umbral: 0.235\n",
      "Documento 410: [0.35 | 0.19 | 0.11 | 0.31 | 0.04] -> Tópicos seleccionados: [0, 3], Umbral: 0.235\n",
      "Documento 411: [0.10 | 0.14 | 0.01 | 0.73 | 0.02] -> Tópicos seleccionados: [3], Umbral: 0.235\n",
      "Documento 412: [0.64 | 0.09 | 0.09 | 0.12 | 0.06] -> Tópicos seleccionados: [0], Umbral: 0.235\n",
      "Documento 413: [0.16 | 0.08 | 0.03 | 0.69 | 0.03] -> Tópicos seleccionados: [3], Umbral: 0.235\n",
      "Documento 414: [0.64 | 0.12 | 0.03 | 0.17 | 0.04] -> Tópicos seleccionados: [0], Umbral: 0.235\n",
      "Documento 415: [0.50 | 0.16 | 0.04 | 0.22 | 0.08] -> Tópicos seleccionados: [0], Umbral: 0.235\n",
      "Documento 416: [0.62 | 0.17 | 0.03 | 0.04 | 0.14] -> Tópicos seleccionados: [0], Umbral: 0.235\n",
      "Documento 417: [0.53 | 0.09 | 0.12 | 0.13 | 0.13] -> Tópicos seleccionados: [0], Umbral: 0.235\n",
      "Documento 418: [0.17 | 0.03 | 0.02 | 0.77 | 0.01] -> Tópicos seleccionados: [3], Umbral: 0.235\n",
      "Documento 419: [0.52 | 0.21 | 0.07 | 0.07 | 0.13] -> Tópicos seleccionados: [0], Umbral: 0.235\n",
      "Documento 420: [0.43 | 0.17 | 0.12 | 0.15 | 0.12] -> Tópicos seleccionados: [0], Umbral: 0.235\n",
      "Documento 421: [0.17 | 0.09 | 0.07 | 0.62 | 0.05] -> Tópicos seleccionados: [3], Umbral: 0.235\n",
      "Documento 422: [0.62 | 0.08 | 0.08 | 0.07 | 0.16] -> Tópicos seleccionados: [0], Umbral: 0.235\n",
      "Documento 423: [0.02 | 0.11 | 0.60 | 0.01 | 0.26] -> Tópicos seleccionados: [2, 4], Umbral: 0.235\n",
      "Documento 424: [0.00 | 0.00 | 0.20 | 0.00 | 0.79] -> Tópicos seleccionados: [4], Umbral: 0.235\n",
      "Documento 425: [0.02 | 0.05 | 0.12 | 0.01 | 0.81] -> Tópicos seleccionados: [4], Umbral: 0.235\n",
      "Documento 426: [0.05 | 0.03 | 0.09 | 0.01 | 0.82] -> Tópicos seleccionados: [4], Umbral: 0.235\n",
      "Documento 427: [0.02 | 0.04 | 0.27 | 0.00 | 0.66] -> Tópicos seleccionados: [4, 2], Umbral: 0.235\n",
      "Documento 428: [0.00 | 0.00 | 0.07 | 0.00 | 0.92] -> Tópicos seleccionados: [4], Umbral: 0.235\n",
      "Documento 429: [0.18 | 0.19 | 0.25 | 0.06 | 0.31] -> Tópicos seleccionados: [4, 2], Umbral: 0.235\n",
      "Documento 430: [0.02 | 0.01 | 0.14 | 0.01 | 0.81] -> Tópicos seleccionados: [4], Umbral: 0.235\n",
      "Documento 431: [0.06 | 0.30 | 0.24 | 0.04 | 0.36] -> Tópicos seleccionados: [4, 1, 2], Umbral: 0.235\n",
      "Documento 432: [0.01 | 0.06 | 0.33 | 0.00 | 0.58] -> Tópicos seleccionados: [4, 2], Umbral: 0.235\n",
      "Documento 433: [0.01 | 0.01 | 0.04 | 0.00 | 0.94] -> Tópicos seleccionados: [4], Umbral: 0.235\n",
      "Documento 434: [0.01 | 0.02 | 0.22 | 0.00 | 0.75] -> Tópicos seleccionados: [4], Umbral: 0.235\n",
      "Documento 435: [0.09 | 0.04 | 0.08 | 0.01 | 0.78] -> Tópicos seleccionados: [4], Umbral: 0.235\n",
      "Documento 436: [0.01 | 0.01 | 0.14 | 0.00 | 0.83] -> Tópicos seleccionados: [4], Umbral: 0.235\n",
      "Documento 437: [0.00 | 0.00 | 0.03 | 0.00 | 0.97] -> Tópicos seleccionados: [4], Umbral: 0.235\n",
      "Documento 438: [0.07 | 0.03 | 0.57 | 0.22 | 0.10] -> Tópicos seleccionados: [2], Umbral: 0.235\n",
      "Documento 439: [0.00 | 0.00 | 0.08 | 0.00 | 0.91] -> Tópicos seleccionados: [4], Umbral: 0.235\n",
      "Documento 440: [0.00 | 0.01 | 0.04 | 0.00 | 0.95] -> Tópicos seleccionados: [4], Umbral: 0.235\n",
      "Documento 441: [0.01 | 0.02 | 0.09 | 0.00 | 0.89] -> Tópicos seleccionados: [4], Umbral: 0.235\n",
      "Documento 442: [0.00 | 0.02 | 0.12 | 0.00 | 0.85] -> Tópicos seleccionados: [4], Umbral: 0.235\n",
      "Documento 443: [0.00 | 0.00 | 0.20 | 0.00 | 0.79] -> Tópicos seleccionados: [4], Umbral: 0.235\n",
      "Documento 444: [0.00 | 0.01 | 0.26 | 0.00 | 0.72] -> Tópicos seleccionados: [4, 2], Umbral: 0.235\n",
      "Documento 445: [0.01 | 0.02 | 0.05 | 0.00 | 0.92] -> Tópicos seleccionados: [4], Umbral: 0.235\n",
      "Documento 446: [0.11 | 0.12 | 0.40 | 0.26 | 0.12] -> Tópicos seleccionados: [2, 3], Umbral: 0.235\n",
      "Documento 447: [0.00 | 0.00 | 0.03 | 0.00 | 0.97] -> Tópicos seleccionados: [4], Umbral: 0.235\n",
      "Documento 448: [0.00 | 0.00 | 0.03 | 0.00 | 0.96] -> Tópicos seleccionados: [4], Umbral: 0.235\n",
      "Documento 449: [0.01 | 0.01 | 0.09 | 0.00 | 0.89] -> Tópicos seleccionados: [4], Umbral: 0.235\n",
      "Documento 450: [0.03 | 0.06 | 0.36 | 0.01 | 0.54] -> Tópicos seleccionados: [4, 2], Umbral: 0.235\n",
      "Documento 451: [0.01 | 0.06 | 0.06 | 0.00 | 0.87] -> Tópicos seleccionados: [4], Umbral: 0.235\n",
      "Documento 452: [0.01 | 0.01 | 0.10 | 0.00 | 0.88] -> Tópicos seleccionados: [4], Umbral: 0.235\n",
      "Documento 453: [0.00 | 0.00 | 0.01 | 0.00 | 0.99] -> Tópicos seleccionados: [4], Umbral: 0.235\n",
      "Documento 454: [0.01 | 0.01 | 0.06 | 0.00 | 0.92] -> Tópicos seleccionados: [4], Umbral: 0.235\n",
      "Documento 455: [0.01 | 0.04 | 0.09 | 0.00 | 0.86] -> Tópicos seleccionados: [4], Umbral: 0.235\n",
      "Documento 456: [0.05 | 0.14 | 0.58 | 0.05 | 0.18] -> Tópicos seleccionados: [2], Umbral: 0.235\n",
      "Documento 457: [0.01 | 0.03 | 0.06 | 0.01 | 0.89] -> Tópicos seleccionados: [4], Umbral: 0.235\n",
      "Documento 458: [0.01 | 0.04 | 0.12 | 0.03 | 0.79] -> Tópicos seleccionados: [4], Umbral: 0.235\n",
      "Documento 459: [0.02 | 0.05 | 0.21 | 0.01 | 0.71] -> Tópicos seleccionados: [4], Umbral: 0.235\n",
      "Documento 460: [0.00 | 0.01 | 0.04 | 0.00 | 0.95] -> Tópicos seleccionados: [4], Umbral: 0.235\n",
      "Documento 461: [0.03 | 0.05 | 0.16 | 0.01 | 0.75] -> Tópicos seleccionados: [4], Umbral: 0.235\n",
      "Documento 462: [0.02 | 0.03 | 0.13 | 0.01 | 0.81] -> Tópicos seleccionados: [4], Umbral: 0.235\n",
      "Documento 463: [0.00 | 0.00 | 0.03 | 0.00 | 0.96] -> Tópicos seleccionados: [4], Umbral: 0.235\n",
      "Documento 464: [0.00 | 0.01 | 0.08 | 0.00 | 0.91] -> Tópicos seleccionados: [4], Umbral: 0.235\n",
      "Documento 465: [0.69 | 0.11 | 0.02 | 0.15 | 0.03] -> Tópicos seleccionados: [0], Umbral: 0.235\n",
      "Documento 466: [0.42 | 0.37 | 0.09 | 0.03 | 0.10] -> Tópicos seleccionados: [0, 1], Umbral: 0.235\n",
      "Documento 467: [0.50 | 0.13 | 0.03 | 0.24 | 0.10] -> Tópicos seleccionados: [0, 3], Umbral: 0.235\n",
      "Documento 468: [0.00 | 0.03 | 0.45 | 0.01 | 0.51] -> Tópicos seleccionados: [4, 2], Umbral: 0.235\n",
      "Documento 469: [0.03 | 0.05 | 0.19 | 0.01 | 0.72] -> Tópicos seleccionados: [4], Umbral: 0.235\n",
      "Documento 470: [0.09 | 0.10 | 0.53 | 0.08 | 0.19] -> Tópicos seleccionados: [2], Umbral: 0.235\n",
      "Documento 471: [0.01 | 0.26 | 0.17 | 0.01 | 0.55] -> Tópicos seleccionados: [4, 1], Umbral: 0.235\n",
      "Documento 472: [0.04 | 0.08 | 0.69 | 0.05 | 0.14] -> Tópicos seleccionados: [2], Umbral: 0.235\n",
      "Documento 473: [0.00 | 0.01 | 0.40 | 0.00 | 0.58] -> Tópicos seleccionados: [4, 2], Umbral: 0.235\n",
      "Documento 474: [0.01 | 0.02 | 0.63 | 0.01 | 0.33] -> Tópicos seleccionados: [2, 4], Umbral: 0.235\n",
      "Documento 475: [0.05 | 0.07 | 0.01 | 0.85 | 0.02] -> Tópicos seleccionados: [3], Umbral: 0.235\n",
      "Documento 476: [0.16 | 0.68 | 0.07 | 0.02 | 0.07] -> Tópicos seleccionados: [1], Umbral: 0.235\n",
      "Documento 477: [0.29 | 0.51 | 0.05 | 0.09 | 0.07] -> Tópicos seleccionados: [1, 0], Umbral: 0.235\n",
      "Documento 478: [0.05 | 0.84 | 0.04 | 0.02 | 0.05] -> Tópicos seleccionados: [1], Umbral: 0.235\n",
      "Documento 479: [0.09 | 0.44 | 0.14 | 0.07 | 0.26] -> Tópicos seleccionados: [1, 4], Umbral: 0.235\n",
      "Documento 480: [0.05 | 0.14 | 0.29 | 0.05 | 0.47] -> Tópicos seleccionados: [4, 2], Umbral: 0.235\n",
      "Documento 481: [0.17 | 0.36 | 0.08 | 0.12 | 0.27] -> Tópicos seleccionados: [1, 4], Umbral: 0.235\n",
      "Documento 482: [0.03 | 0.85 | 0.07 | 0.00 | 0.05] -> Tópicos seleccionados: [1], Umbral: 0.235\n",
      "Documento 483: [0.06 | 0.09 | 0.35 | 0.01 | 0.49] -> Tópicos seleccionados: [4, 2], Umbral: 0.235\n",
      "Documento 484: [0.05 | 0.44 | 0.27 | 0.03 | 0.21] -> Tópicos seleccionados: [1, 2], Umbral: 0.235\n",
      "Documento 485: [0.13 | 0.03 | 0.30 | 0.44 | 0.10] -> Tópicos seleccionados: [3, 2], Umbral: 0.235\n",
      "Documento 486: [0.31 | 0.15 | 0.09 | 0.29 | 0.16] -> Tópicos seleccionados: [0, 3], Umbral: 0.235\n",
      "Documento 487: [0.29 | 0.16 | 0.20 | 0.20 | 0.15] -> Tópicos seleccionados: [0], Umbral: 0.235\n",
      "Documento 488: [0.44 | 0.07 | 0.06 | 0.32 | 0.10] -> Tópicos seleccionados: [0, 3], Umbral: 0.235\n",
      "Documento 489: [0.58 | 0.06 | 0.10 | 0.06 | 0.20] -> Tópicos seleccionados: [0], Umbral: 0.235\n",
      "Documento 490: [0.02 | 0.01 | 0.43 | 0.45 | 0.09] -> Tópicos seleccionados: [3, 2], Umbral: 0.235\n",
      "Documento 491: [0.51 | 0.15 | 0.08 | 0.11 | 0.15] -> Tópicos seleccionados: [0], Umbral: 0.235\n",
      "Documento 492: [0.03 | 0.05 | 0.17 | 0.01 | 0.74] -> Tópicos seleccionados: [4], Umbral: 0.235\n",
      "Documento 493: [0.00 | 0.01 | 0.05 | 0.00 | 0.93] -> Tópicos seleccionados: [4], Umbral: 0.235\n",
      "Documento 494: [0.01 | 0.01 | 0.08 | 0.00 | 0.90] -> Tópicos seleccionados: [4], Umbral: 0.235\n",
      "Documento 495: [0.00 | 0.01 | 0.11 | 0.00 | 0.88] -> Tópicos seleccionados: [4], Umbral: 0.235\n",
      "Documento 496: [0.00 | 0.01 | 0.04 | 0.00 | 0.94] -> Tópicos seleccionados: [4], Umbral: 0.235\n",
      "Documento 497: [0.01 | 0.01 | 0.03 | 0.00 | 0.95] -> Tópicos seleccionados: [4], Umbral: 0.235\n",
      "Documento 498: [0.00 | 0.01 | 0.03 | 0.00 | 0.96] -> Tópicos seleccionados: [4], Umbral: 0.235\n",
      "Documento 499: [0.07 | 0.01 | 0.06 | 0.00 | 0.86] -> Tópicos seleccionados: [4], Umbral: 0.235\n"
     ]
    }
   ],
   "source": [
    "import numpy as np\n",
    "\n",
    "def select_topics_stat(doc_vec, threshold, max_topics=3):\n",
    "    \"\"\"\n",
    "    Selecciona tópicos estadísticamente mejores que azar (95% confianza).\n",
    "    - Usa un threshold ya calculado.\n",
    "    - Máximo max_topics tópicos seleccionados.\n",
    "    \"\"\"\n",
    "    doc_vec = np.array(doc_vec)\n",
    "    order = np.argsort(doc_vec)[::-1]\n",
    "\n",
    "    selected = []\n",
    "    for i in order:\n",
    "        if doc_vec[i] > threshold:\n",
    "            selected.append(i)\n",
    "        if len(selected) >= max_topics:\n",
    "            break\n",
    "\n",
    "    return selected\n",
    "\n",
    "# Calcular solo una vez\n",
    "N = len(doc_topic_dist)\n",
    "C = doc_topic_dist.shape[1]\n",
    "p = 1 / C\n",
    "sigma = np.sqrt(p * (1 - p) / N)\n",
    "threshold = p + 1.96 * sigma\n",
    "\n",
    "# Aplicar a todos los documentos\n",
    "for i, doc in enumerate(doc_topic_dist, 1):\n",
    "    selected = select_topics_stat(doc, threshold)\n",
    "    probs_str = \" | \".join(f\"{p:.2f}\" for p in doc)\n",
    "    print(f\"Documento {i}: [{probs_str}] -> Tópicos seleccionados: {selected}, Umbral: {threshold:.3f}\")\n"
   ]
  },
  {
   "cell_type": "code",
   "execution_count": 9,
   "id": "0c7c2465",
   "metadata": {},
   "outputs": [],
   "source": [
    "topic_info = procesar_topicos_fastopic(topic_model, doc_topic_dist, top_words)\n",
    "\n",
    "# Preparar información de todos los tópicos para procesamiento en lote\n",
    "topics_info_text = \"\"\n",
    "for _, row in topic_info.iterrows():\n",
    "    topic_id = row['Topic']\n",
    "    keywords = row['Keywords']\n",
    "    if keywords and keywords not in [\"Sin palabras\", \"Error en procesamiento\"]:\n",
    "        topics_info_text += f\"Tópico {topic_id}: {keywords}\\n\"\n",
    "\n",
    "resultado = clasificador_topicos.invoke({\"topics_info\": topics_info_text})\n",
    "\n",
    "topic_names = {}\n",
    "for topic_label in resultado.topics:\n",
    "    topic_names[topic_label.topic_id] = topic_label.label\n",
    "\n",
    "topic_info['Name'] = topic_info['Topic'].map(topic_names)"
   ]
  },
  {
   "cell_type": "code",
   "execution_count": 10,
   "id": "8f86ee20",
   "metadata": {},
   "outputs": [
    {
     "name": "stdout",
     "output_type": "stream",
     "text": [
      "Tópico 0: isla, acuario, barco, espectaculo, persona, bote, bebida, hora, viaje, almuerzo\n",
      "Tópico 1: cristal, faro, caminata, puente, vistas, subir, mirador, escalón, ejercicio, vista\n",
      "Tópico 2: musico, noche, ambiente, plaza, vendedor, area, banda, iluminacion, iluminado, teatro\n",
      "Tópico 3: playa, ola, nadar, mar, bruja, oleaje, hotel, cerrito, cerca, basura\n",
      "Tópico 4: catedral, arquitectura, historia, edificio, iglesia, viejo, centro, ciudad, antiguo, interior\n",
      "\n"
     ]
    }
   ],
   "source": [
    "print(topics_info_text)"
   ]
  },
  {
   "cell_type": "code",
   "execution_count": 11,
   "id": "66c45ab3",
   "metadata": {},
   "outputs": [
    {
     "name": "stdout",
     "output_type": "stream",
     "text": [
      "topics=[TopicLabel(topic_id=0, label='Excursiones Marítimas'), TopicLabel(topic_id=1, label='Miradores'), TopicLabel(topic_id=2, label='Vida Nocturna'), TopicLabel(topic_id=3, label='Playas'), TopicLabel(topic_id=4, label='Patrimonio Cultural')]\n"
     ]
    }
   ],
   "source": [
    "print(resultado)"
   ]
  },
  {
   "cell_type": "code",
   "execution_count": 12,
   "id": "dfb93d62",
   "metadata": {},
   "outputs": [
    {
     "name": "stdout",
     "output_type": "stream",
     "text": [
      "🆕 PRIMERA VEZ procesando Mazatlan:\n",
      "   📝 Nuevas asignaciones de tópicos: 499\n",
      "\n",
      "✅ Actualización completada para Mazatlan\n",
      "Distribución de tópicos en Mazatlan:\n",
      "Topico_Nombre\n",
      "Playas                   129\n",
      "Patrimonio Cultural      103\n",
      "Vida Nocturna            100\n",
      "Excursiones Marítimas     98\n",
      "Miradores                 69\n",
      "Name: count, dtype: int64\n",
      "\n",
      "Porcentaje de opiniones por tópico en Mazatlan:\n",
      "Playas: 25.85%\n",
      "Patrimonio Cultural: 20.64%\n",
      "Vida Nocturna: 20.04%\n",
      "Excursiones Marítimas: 19.64%\n",
      "Miradores: 13.83%\n",
      "\n",
      "Estado actualización dataset completo:\n",
      "Total opiniones: 2457\n",
      "Opiniones con tópico FASTopic asignado: 1471\n",
      "Opiniones pendientes: 986\n"
     ]
    }
   ],
   "source": [
    "# Obtener asignaciones de tópicos para documentos\n",
    "topic_assignments, topic_names_assigned, topic_probabilities = obtener_asignaciones_topicos_fastopic(\n",
    "    doc_topic_dist, \n",
    "    topic_names, \n",
    "    threshold=0.1\n",
    ")\n",
    "\n",
    "# Procesar solo datos de la ciudad seleccionada\n",
    "df_con_topicos = df_ciudad.dropna(subset=[columna_texto]).copy()\n",
    "df_con_topicos['Topico'] = topic_assignments\n",
    "df_con_topicos['Topico_Nombre'] = topic_names_assigned\n",
    "df_con_topicos['Probabilidad_Topico'] = topic_probabilities\n",
    "\n",
    "# Verificar si la ciudad ya tenía resultados previos\n",
    "indices_ciudad = df_con_topicos.index\n",
    "opiniones_previas = df.loc[indices_ciudad, 'TopicoConFASTopic'].notna().sum()\n",
    "\n",
    "if opiniones_previas > 0:\n",
    "    print(f\"🔄 SOBRESCRIBIENDO resultados previos para {CIUDAD_ANALIZAR}:\")\n",
    "    print(f\"   📝 Opiniones con tópicos previos: {opiniones_previas}\")\n",
    "    print(f\"   🆕 Nuevas asignaciones de tópicos: {len(df_con_topicos)}\")\n",
    "else:\n",
    "    print(f\"🆕 PRIMERA VEZ procesando {CIUDAD_ANALIZAR}:\")\n",
    "    print(f\"   📝 Nuevas asignaciones de tópicos: {len(df_con_topicos)}\")\n",
    "\n",
    "# Actualizar el dataset original con los tópicos de la ciudad analizada\n",
    "df.loc[indices_ciudad, 'TopicoConFASTopic'] = df_con_topicos['Topico_Nombre']\n",
    "\n",
    "print(f\"\\n✅ Actualización completada para {CIUDAD_ANALIZAR}\")\n",
    "print(f\"Distribución de tópicos en {CIUDAD_ANALIZAR}:\")\n",
    "topico_counts = df_con_topicos['Topico_Nombre'].value_counts()\n",
    "print(topico_counts)\n",
    "\n",
    "print(f\"\\nPorcentaje de opiniones por tópico en {CIUDAD_ANALIZAR}:\")\n",
    "topico_pct = (topico_counts / len(df_con_topicos) * 100).round(2)\n",
    "for topico, pct in topico_pct.items():\n",
    "    print(f\"{topico}: {pct}%\")\n",
    "\n",
    "print(f\"\\nEstado actualización dataset completo:\")\n",
    "print(f\"Total opiniones: {len(df)}\")\n",
    "print(f\"Opiniones con tópico FASTopic asignado: {df['TopicoConFASTopic'].notna().sum()}\")\n",
    "print(f\"Opiniones pendientes: {df['TopicoConFASTopic'].isna().sum()}\")"
   ]
  },
  {
   "cell_type": "code",
   "execution_count": 13,
   "id": "84a05bd0",
   "metadata": {},
   "outputs": [],
   "source": [
    "# Obtener asignaciones de tópicos para documentos\n",
    "topic_assignments, topic_names_assigned, topic_probabilities = obtener_asignaciones_topicos_fastopic(\n",
    "    doc_topic_dist, \n",
    "    topic_names, \n",
    "    threshold=0.1\n",
    ")\n",
    "\n",
    "# Procesar solo datos de la ciudad seleccionada\n",
    "df_con_topicos = df_ciudad.dropna(subset=[columna_texto]).copy()\n",
    "df_con_topicos['Topico'] = topic_assignments\n",
    "df_con_topicos['Topico_Nombre'] = topic_names_assigned\n",
    "df_con_topicos['Probabilidad_Topico'] = topic_probabilities\n",
    "\n",
    "# Actualizar el dataset original con los tópicos de la ciudad analizada\n",
    "indices_ciudad = df_con_topicos.index\n",
    "df.loc[indices_ciudad, 'TopicoConFASTopic'] = df_con_topicos['Topico_Nombre']"
   ]
  },
  {
   "cell_type": "code",
   "execution_count": 14,
   "id": "bc786cf1",
   "metadata": {},
   "outputs": [
    {
     "name": "stdout",
     "output_type": "stream",
     "text": [
      "📚 EJEMPLOS DE OPINIONES POR TÓPICO\n",
      "======================================================================\n",
      "\n",
      "🏷️ 1. Playas\n",
      "📊 Total de opiniones: 129\n",
      "📝 Ejemplos:\n",
      "   1. Espectacular. Todo me Encanto. Las comidas el acuario, Las compa en el mercado el ambiente en la pla...\n",
      "   2. Paseo en familia. Un paseo excelente! La playa un poco fuerte el oleaje pero muy limpia, las bandas ...\n",
      "   3. Largo y silencioso. 12 millas de excelentes vistas de la playa y el océano, y algunos bares en la pl...\n",
      "----------------------------------------------------------------------\n",
      "\n",
      "🏷️ 2. Patrimonio Cultural\n",
      "📊 Total de opiniones: 103\n",
      "📝 Ejemplos:\n",
      "   1. Un mes en Mazatlán. Acabamos de pasar un mes en Mazatlán. No estoy de acuerdo con algunas críticas. ...\n",
      "   2. Nunca más, por desgracia. Mazatlán no es seguro. Lamento escribir esto, pero estuvimos allí una sema...\n",
      "   3. Mazatlán es hermoso. Denunciamos un condominio increíble justo en el Malecón. Ventanas de piso a tec...\n",
      "----------------------------------------------------------------------\n",
      "\n",
      "🏷️ 3. Vida Nocturna\n",
      "📊 Total de opiniones: 100\n",
      "📝 Ejemplos:\n",
      "   1. ¡Divertido y seguro!. Estoy muy impresionado con Mazatlán, Mx. . La gente aquí es amable. . nos aloj...\n",
      "   2. Maravilloso. Ubicado en la zona más turística de Mazatlán, su recorrido es inmenso y lleno de alegrí...\n",
      "   3. Tranquilo. Es enorme y con muchas esculturas, es ideal para ver el atardecer, de día me parece bonit...\n",
      "----------------------------------------------------------------------\n",
      "\n",
      "🏷️ 4. Excursiones Marítimas\n",
      "📊 Total de opiniones: 98\n",
      "📝 Ejemplos:\n",
      "   1. muy bonito pero muy caro. muy bonito el malecon. para los que no llevan alimentos incluidos en su es...\n",
      "   2. la comida es decente. El servicio está bajando de otros años. No estoy seguro si no tienen tanta gen...\n",
      "   3. No me gusto. comi un pescado sarandeado y un platillo de camarones  guisados,  los ingredientes si s...\n",
      "----------------------------------------------------------------------\n",
      "\n",
      "🏷️ 5. Miradores\n",
      "📊 Total de opiniones: 69\n",
      "📝 Ejemplos:\n",
      "   1. Caminando por el Malecón. Hermoso El Malecón de Mazatlán he caminado en dos ocasiones, otras varias ...\n",
      "   2. Bonitas vistas, fácil paseo. El Malecón es un agradable paseo junto al océano con hermosas vistas y ...\n",
      "   3. Bien vale la pena el paseo pero se puede disfrutar igualmente pulmonía. Una caminata larga y caluros...\n",
      "----------------------------------------------------------------------\n"
     ]
    }
   ],
   "source": [
    "# Mostrar ejemplos de opiniones por tópico\n",
    "mostrar_ejemplos_por_topico_fastopic(\n",
    "    df_con_topicos, \n",
    "    topico_col='Topico_Nombre',\n",
    "    texto_col='TituloReview',\n",
    "    n_ejemplos=3,\n",
    "    top_n_topicos=5\n",
    ")"
   ]
  },
  {
   "cell_type": "code",
   "execution_count": 15,
   "id": "a639901d",
   "metadata": {},
   "outputs": [
    {
     "name": "stdout",
     "output_type": "stream",
     "text": [
      "🔍 Comparación de ejemplos - Original vs Limpio (Mazatlan):\n",
      "================================================================================\n",
      "\n",
      "📄 EJEMPLO 1 - Tópico: Patrimonio Cultural\n",
      "🔸 Original: espectacular remodelación. El centro histórico de viejo Mazatlán es una de los lugares donde tienes que venir cuando piensas en Mazatlán piezas en playa pero el centro histórico vale la pena.\n",
      "🔹 Limpio:   remodelacion el centro de mazatlan ser uno de el lugar donde tener que venir cuando pensar en mazatlar pieza en playa pero el centro historico valer el pena\n",
      "📊 Probabilidad: 0.448\n",
      "📉 Reducción: 191 → 156 caracteres (18.3%)\n",
      "--------------------------------------------------------------------------------\n",
      "\n",
      "📄 EJEMPLO 2 - Tópico: Playas\n",
      "🔸 Original: Hemosa playa. Una playa que se encuentra alejada del bullicio de la ciudad en donde puedes encontrar paz y puedes realizar caminatas extensas disfrutando su hermoso paisaje.\n",
      "🔹 Limpio:   hemós playa uno playa que él encontrar del bullicio de el ciudad en donde poder encontrar paz y poder realizar caminata disfrutar su paisaje\n",
      "📊 Probabilidad: 0.876\n",
      "📉 Reducción: 173 → 140 caracteres (19.1%)\n",
      "--------------------------------------------------------------------------------\n",
      "\n",
      "📄 EJEMPLO 3 - Tópico: Patrimonio Cultural\n",
      "🔸 Original: Espectacular arquitectura!. Considerándome conocedor de la arquitectura colonial y sacra de este hermoso país, esta basilica presenta una arquitectura muy especial, debido al vestibulo que presenta en su entrada, dandole una estetica unica y muy llamativa. El interior, con columnas y muros de cantera decorada con vivos Sobredorados y tallas unicas en muros y trabes. Para los amantes de la arquitectura sacra es de visita obligada. Es un edificio posterior a la colonia, de mediados del siglo XIX de una belleza excepcional.\n",
      "🔹 Limpio:   arquitectura considerandome conocedor de el arquitectura y de este pais este basilica presentar uno arquitectura mucho al vestibulo que presentar en su entrada dar él uno estetico y mucho el interior con columna y muro de cantera con sobredorado y tal él en muro y trabes para el amante de el arquitectura ser de visita ser uno edificio a el colonia de del siglo xix de uno belleza\n",
      "📊 Probabilidad: 0.948\n",
      "📉 Reducción: 526 → 381 caracteres (27.6%)\n",
      "--------------------------------------------------------------------------------\n",
      "\n",
      "📄 EJEMPLO 4 - Tópico: Miradores\n",
      "🔸 Original: Limpio, seguro, largo paseo marítimo junto al mar. Increíble baño de bicicletas separado, lejos de automóviles y peatones. piso para ciclistas principiantes.Camine, muchos lugares donde hay escalones para ir a la playa.Tome un autobús, autobuses más grandes y altos para que pueda tener una vista de la playa. $ 1 por trayecto. También puede pagar los autobuses turísticos de dos pisos.Muchos restaurantes en la playa.Observe cómo entran los pescadores y cómo observan las diferentes aves. cerca del parque infantil, cancha de baloncesto.\n",
      "🔹 Limpio:   pasear al mar bano de bicicleta lejos de automovil y peatón piso para ciclista mucho lugar donde haber escalón para ir el playa tomar uno autobus autobús mas grande y alto para que poder tener uno vista de el playa por trayecto tambien poder pagar el autobús turistico de dos piso mucho restaurante en el playa observar como entrar el pescador y como observar el diferente ave cerca del parque infantil cancha de baloncesto\n",
      "📊 Probabilidad: 0.339\n",
      "📉 Reducción: 538 → 423 caracteres (21.4%)\n",
      "--------------------------------------------------------------------------------\n",
      "\n",
      "📄 EJEMPLO 5 - Tópico: Miradores\n",
      "🔸 Original: A tus viajes, agrégale siempre un poco de reto y de aventura … en Mazatlán tienen el faro y su puente de cristal. Se nos había dicho que subiera al faro, era todo un reto, son más de 336 escalones, por lo que sí, no es tan accesible, pero una vez llegando allá se convierte en un lugar hermoso la vista de Mazatlán, vale la pena y tiene su puente de cristal, que aunque es cierto que si está lleno y hay que hacer una fila bien, vale la fotografía.Hay que ser pacientes y considerar a las demás personas que también van a tomar sus fotografíasNosotros fuimos y no había mucha gente, y nosotros llevamos sombrilla para el sol, eso nos ayudó bastante. Aparte de ponernos bloqueador Tomamos una mochila y compramos Agua arriba para no cargarla desde abajoSi nos gustan los retos, este es el lugar para ello, y para medir nuestra condición física, no necesitas subir rápido, aunque sea lento, pero llegar arriba tiene su recompensa.\n",
      "🔹 Limpio:   a tu viaje agregale siempre uno poco de reto y de aventura en mazatlar tener el faro y su puente de cristal él yo habiar dicho que subierar al faro ser todo uno reto ser mas de escalón por él que si no ser tanto pero uno vez llegar alla él convertir en uno lugar el vista de mazatlan valer el pena y tener su puente de cristal que aunque ser cierto que si este lleno y haber que hacer uno fila bien valer el fotografia haber que ser paciente y considerar a el demas persona que tambien ir a tomar su fotografiasnosotro ir y no habiar mucho gente y yo llevar sombrilla para el sol ese yo ayudo bastante aparte de poner yo bloqueador tomar uno mochila y comprar agua arriba para no cargar él desde abajosi yo gustar el reto este ser el lugar para él y para medir nuestro condicion fisico no necesita subir rapido aunque ser lento pero llegar arriba tener su recompensa\n",
      "📊 Probabilidad: 0.635\n",
      "📉 Reducción: 928 → 866 caracteres (6.7%)\n",
      "--------------------------------------------------------------------------------\n",
      "\n",
      "📄 EJEMPLO 6 - Tópico: Vida Nocturna\n",
      "🔸 Original: Cerca del aeropuerto, hermosa playa y muchas pequeñas tiendas. Hay mucho que ver. Domingo en el parque con vendedores y comida fantástica. Hay un McDonald's justo al otro lado de la calle y está abierto las 24 horas, los 7 días de la semana, para que tengas café y coca cola al alcance de tu mano. Simplemente una zona hermosa.\n",
      "🔹 Limpio:   cerca del aeropuerto playa y mucho tienda haber mucho que ver domingo en el parque con vendedor y comida haber uno mcdonald s al otro lado de el calle y este el hora el dia de el semana para que tengar cafar y coca al alcance de tu mano simplemente uno zona\n",
      "📊 Probabilidad: 0.515\n",
      "📉 Reducción: 327 → 257 caracteres (21.4%)\n",
      "--------------------------------------------------------------------------------\n",
      "\n",
      "📄 EJEMPLO 7 - Tópico: Vida Nocturna\n",
      "🔸 Original: El Centro Cultural de Mazatlán rodeado de excelentes Restaurantes. Nos estacionamos en la esquina de Carnaval y Constitución y caminamos por la Plaza de noche para conocer el ambiente y la cultura de Mazatlán. Cenamos en Gaia y pasamos por el Teatro Ángel Peralta para escuchar la música y el canto de los alumnos que toman clases, hasta la primera esquina de la calle Heladería; nuestro favorito.\n",
      "🔹 Limpio:   el centro de mazatlar rodeado de excelente restaurante yo estacionamos en el esquina de carnaval y constitucion y caminar por el plaza de noche para conocer el ambiente y el cultura de mazatlar cenamo en gaia y pasar por el teatro angel peralto para escuchar el musico y el canto de el alumno que tomar clase hasta el primero esquina de el calle heladeriar nuestro favorito\n",
      "📊 Probabilidad: 0.819\n",
      "📉 Reducción: 397 → 373 caracteres (6.0%)\n",
      "--------------------------------------------------------------------------------\n",
      "\n",
      "📄 EJEMPLO 8 - Tópico: Vida Nocturna\n",
      "🔸 Original: Grata Experiencia. La visite de noche y la recomiendo ampliamente. cada bar / restaurant con música en vivo, la plaza es hermosa y muy iluminada, al igual que las calles alrededor.\n",
      "🔹 Limpio:   experiencia el visite de noche y el recomeir ampliamente cada bar restaurant con musica en el plaza ser y mucho al que el calle alrededor\n",
      "📊 Probabilidad: 0.939\n",
      "📉 Reducción: 180 → 137 caracteres (23.9%)\n",
      "--------------------------------------------------------------------------------\n",
      "\n",
      "📄 EJEMPLO 9 - Tópico: Miradores\n",
      "🔸 Original: Increíble vista. Mi esposo y yo hicimos la caminata a las 10 a.m. antes de que comenzara el calor y ¡todavía hacía CALOR! ! ! Está muy ocupado con todo tipo de personas subiendo y bajando, desde niños, padres, abuelos y todo lo demás. Pasas por una puerta en la parte inferior y si quieres ir por la pasarela de cristal obtienes un boleto por valor de $1. 50 dólares estadounidenses por persona. Hay un camino que te lleva hasta donde empiezan las escaleras. Hay lugares para comprar agua y Gatorade en múltiples paradas en el camino. Las escaleras tienen varios tamaños de altura y los peldaños son irregulares, así que ten cuidado. Hay 330 pasos y tienen marcas para mostrar su progresión. ¡Vale la pena el sudor y las piernas doloridas! : ).\n",
      "🔹 Limpio:   ver mi esposo y yo hacer el caminata a el a m antes de que comenzar el calor y todavia hacia calor este mucho ocupado con todo tipo de persona subir y bajar desde nino padr abuelo y todo él demas pasa por uno puerta en el parte inferior y si querer ir por el pasarela de cristal obtién uno boleto por valor de dolar estadounidense por persona haber uno camino que tú llevar hasta donde empezar el escalera haber lugar para comprar agua y gatorade en multiples parada en el camino el escalera tener varios tamano de altura y el peldano ser irregular asi que tar cuidado haber paso y tener marca para mostrar su progresion valer el pena el sudor y el pierna dolorida\n",
      "📊 Probabilidad: 0.640\n",
      "📉 Reducción: 744 → 664 caracteres (10.8%)\n",
      "--------------------------------------------------------------------------------\n",
      "\n",
      "📄 EJEMPLO 10 - Tópico: Patrimonio Cultural\n",
      "🔸 Original: Hermosa y mas maravillosa. El catolicismo y el judaísmo coexisten en las 28 vidrieras de las Estrellas de David: todo el mundo trabajaría tan bien.\n",
      "🔹 Limpio:   y mas el catolicismo y el judaismo coexistir en el vidriera de el estrella de david todo el mundo trabajario tanto bien\n",
      "📊 Probabilidad: 0.808\n",
      "📉 Reducción: 147 → 119 caracteres (19.0%)\n",
      "--------------------------------------------------------------------------------\n"
     ]
    }
   ],
   "source": [
    "# ===== COMPARACIÓN TEXTO ORIGINAL VS TEXTO LIMPIO =====\n",
    "if 'TituloReviewLimpio' in df_con_topicos.columns:\n",
    "    print(f\"🔍 Comparación de ejemplos - Original vs Limpio ({CIUDAD_ANALIZAR}):\")\n",
    "    print(\"=\" * 80)\n",
    "    \n",
    "    # Seleccionar algunos ejemplos para mostrar la diferencia\n",
    "    ejemplos_muestra = df_con_topicos.sample(n=min(10, len(df_con_topicos)))\n",
    "    \n",
    "    for i, (_, row) in enumerate(ejemplos_muestra.iterrows(), 1):\n",
    "        print(f\"\\n📄 EJEMPLO {i} - Tópico: {row['Topico_Nombre']}\")\n",
    "        print(f\"🔸 Original: {row['TituloReview']}\")\n",
    "        print(f\"🔹 Limpio:   {row['TituloReviewLimpio']}\")\n",
    "        print(f\"📊 Probabilidad: {row['Probabilidad_Topico']:.3f}\")\n",
    "        \n",
    "        # Calcular estadísticas del ejemplo\n",
    "        len_orig = len(str(row['TituloReview']))\n",
    "        len_limpio = len(str(row['TituloReviewLimpio']))\n",
    "        reduccion = ((len_orig-len_limpio)/len_orig*100) if len_orig > 0 else 0\n",
    "        print(f\"📉 Reducción: {len_orig} → {len_limpio} caracteres ({reduccion:.1f}%)\")\n",
    "        print(\"-\" * 80)"
   ]
  },
  {
   "cell_type": "code",
   "execution_count": 16,
   "id": "a58f52cf",
   "metadata": {},
   "outputs": [
    {
     "data": {
      "application/vnd.plotly.v1+json": {
       "config": {
        "plotlyServerURL": "https://plot.ly"
       },
       "data": [
        {
         "marker": {
          "color": "#D55E00"
         },
         "orientation": "h",
         "type": "bar",
         "x": {
          "bdata": "4MIrPNXpNDzEvGM8vVJrPFgReTw=",
          "dtype": "f4"
         },
         "xaxis": "x",
         "y": [
          "bruja",
          "mar",
          "nadar",
          "ola",
          "playa"
         ],
         "yaxis": "y"
        },
        {
         "marker": {
          "color": "#0072B2"
         },
         "orientation": "h",
         "type": "bar",
         "x": {
          "bdata": "KEkbPIh2HjwPqSA8ZDVrPNp/fjw=",
          "dtype": "f4"
         },
         "xaxis": "x2",
         "y": [
          "persona",
          "espectaculo",
          "barco",
          "acuario",
          "isla"
         ],
         "yaxis": "y2"
        },
        {
         "marker": {
          "color": "#CC79A7"
         },
         "orientation": "h",
         "type": "bar",
         "x": {
          "bdata": "4xwWPF3pODyfVUg8dFVfPO9MYDw=",
          "dtype": "f4"
         },
         "xaxis": "x3",
         "y": [
          "vendedor",
          "plaza",
          "ambiente",
          "noche",
          "musico"
         ],
         "yaxis": "y3"
        },
        {
         "marker": {
          "color": "#E69F00"
         },
         "orientation": "h",
         "type": "bar",
         "x": {
          "bdata": "fp02PCLsOTzDhDw8aNBRPDvkgTw=",
          "dtype": "f4"
         },
         "xaxis": "x4",
         "y": [
          "iglesia",
          "edificio",
          "historia",
          "arquitectura",
          "catedral"
         ],
         "yaxis": "y4"
        },
        {
         "marker": {
          "color": "#56B4E9"
         },
         "orientation": "h",
         "type": "bar",
         "x": {
          "bdata": "2/M4PLJ1TTxOP1c8gYpaPE57ajw=",
          "dtype": "f4"
         },
         "xaxis": "x5",
         "y": [
          "vistas",
          "puente",
          "caminata",
          "faro",
          "cristal"
         ],
         "yaxis": "y5"
        }
       ],
       "layout": {
        "annotations": [
         {
          "font": {
           "size": 16
          },
          "showarrow": false,
          "text": "Topic 3",
          "x": 0.0875,
          "xanchor": "center",
          "xref": "paper",
          "y": 1,
          "yanchor": "bottom",
          "yref": "paper"
         },
         {
          "font": {
           "size": 16
          },
          "showarrow": false,
          "text": "Topic 0",
          "x": 0.36250000000000004,
          "xanchor": "center",
          "xref": "paper",
          "y": 1,
          "yanchor": "bottom",
          "yref": "paper"
         },
         {
          "font": {
           "size": 16
          },
          "showarrow": false,
          "text": "Topic 2",
          "x": 0.6375000000000001,
          "xanchor": "center",
          "xref": "paper",
          "y": 1,
          "yanchor": "bottom",
          "yref": "paper"
         },
         {
          "font": {
           "size": 16
          },
          "showarrow": false,
          "text": "Topic 4",
          "x": 0.9125,
          "xanchor": "center",
          "xref": "paper",
          "y": 1,
          "yanchor": "bottom",
          "yref": "paper"
         },
         {
          "font": {
           "size": 16
          },
          "showarrow": false,
          "text": "Topic 1",
          "x": 0.0875,
          "xanchor": "center",
          "xref": "paper",
          "y": 0.375,
          "yanchor": "bottom",
          "yref": "paper"
         }
        ],
        "height": 500,
        "hoverlabel": {
         "bgcolor": "white",
         "font": {
          "family": "Rockwell",
          "size": 16
         }
        },
        "showlegend": false,
        "template": {
         "data": {
          "bar": [
           {
            "error_x": {
             "color": "#2a3f5f"
            },
            "error_y": {
             "color": "#2a3f5f"
            },
            "marker": {
             "line": {
              "color": "white",
              "width": 0.5
             },
             "pattern": {
              "fillmode": "overlay",
              "size": 10,
              "solidity": 0.2
             }
            },
            "type": "bar"
           }
          ],
          "barpolar": [
           {
            "marker": {
             "line": {
              "color": "white",
              "width": 0.5
             },
             "pattern": {
              "fillmode": "overlay",
              "size": 10,
              "solidity": 0.2
             }
            },
            "type": "barpolar"
           }
          ],
          "carpet": [
           {
            "aaxis": {
             "endlinecolor": "#2a3f5f",
             "gridcolor": "#C8D4E3",
             "linecolor": "#C8D4E3",
             "minorgridcolor": "#C8D4E3",
             "startlinecolor": "#2a3f5f"
            },
            "baxis": {
             "endlinecolor": "#2a3f5f",
             "gridcolor": "#C8D4E3",
             "linecolor": "#C8D4E3",
             "minorgridcolor": "#C8D4E3",
             "startlinecolor": "#2a3f5f"
            },
            "type": "carpet"
           }
          ],
          "choropleth": [
           {
            "colorbar": {
             "outlinewidth": 0,
             "ticks": ""
            },
            "type": "choropleth"
           }
          ],
          "contour": [
           {
            "colorbar": {
             "outlinewidth": 0,
             "ticks": ""
            },
            "colorscale": [
             [
              0,
              "#0d0887"
             ],
             [
              0.1111111111111111,
              "#46039f"
             ],
             [
              0.2222222222222222,
              "#7201a8"
             ],
             [
              0.3333333333333333,
              "#9c179e"
             ],
             [
              0.4444444444444444,
              "#bd3786"
             ],
             [
              0.5555555555555556,
              "#d8576b"
             ],
             [
              0.6666666666666666,
              "#ed7953"
             ],
             [
              0.7777777777777778,
              "#fb9f3a"
             ],
             [
              0.8888888888888888,
              "#fdca26"
             ],
             [
              1,
              "#f0f921"
             ]
            ],
            "type": "contour"
           }
          ],
          "contourcarpet": [
           {
            "colorbar": {
             "outlinewidth": 0,
             "ticks": ""
            },
            "type": "contourcarpet"
           }
          ],
          "heatmap": [
           {
            "colorbar": {
             "outlinewidth": 0,
             "ticks": ""
            },
            "colorscale": [
             [
              0,
              "#0d0887"
             ],
             [
              0.1111111111111111,
              "#46039f"
             ],
             [
              0.2222222222222222,
              "#7201a8"
             ],
             [
              0.3333333333333333,
              "#9c179e"
             ],
             [
              0.4444444444444444,
              "#bd3786"
             ],
             [
              0.5555555555555556,
              "#d8576b"
             ],
             [
              0.6666666666666666,
              "#ed7953"
             ],
             [
              0.7777777777777778,
              "#fb9f3a"
             ],
             [
              0.8888888888888888,
              "#fdca26"
             ],
             [
              1,
              "#f0f921"
             ]
            ],
            "type": "heatmap"
           }
          ],
          "histogram": [
           {
            "marker": {
             "pattern": {
              "fillmode": "overlay",
              "size": 10,
              "solidity": 0.2
             }
            },
            "type": "histogram"
           }
          ],
          "histogram2d": [
           {
            "colorbar": {
             "outlinewidth": 0,
             "ticks": ""
            },
            "colorscale": [
             [
              0,
              "#0d0887"
             ],
             [
              0.1111111111111111,
              "#46039f"
             ],
             [
              0.2222222222222222,
              "#7201a8"
             ],
             [
              0.3333333333333333,
              "#9c179e"
             ],
             [
              0.4444444444444444,
              "#bd3786"
             ],
             [
              0.5555555555555556,
              "#d8576b"
             ],
             [
              0.6666666666666666,
              "#ed7953"
             ],
             [
              0.7777777777777778,
              "#fb9f3a"
             ],
             [
              0.8888888888888888,
              "#fdca26"
             ],
             [
              1,
              "#f0f921"
             ]
            ],
            "type": "histogram2d"
           }
          ],
          "histogram2dcontour": [
           {
            "colorbar": {
             "outlinewidth": 0,
             "ticks": ""
            },
            "colorscale": [
             [
              0,
              "#0d0887"
             ],
             [
              0.1111111111111111,
              "#46039f"
             ],
             [
              0.2222222222222222,
              "#7201a8"
             ],
             [
              0.3333333333333333,
              "#9c179e"
             ],
             [
              0.4444444444444444,
              "#bd3786"
             ],
             [
              0.5555555555555556,
              "#d8576b"
             ],
             [
              0.6666666666666666,
              "#ed7953"
             ],
             [
              0.7777777777777778,
              "#fb9f3a"
             ],
             [
              0.8888888888888888,
              "#fdca26"
             ],
             [
              1,
              "#f0f921"
             ]
            ],
            "type": "histogram2dcontour"
           }
          ],
          "mesh3d": [
           {
            "colorbar": {
             "outlinewidth": 0,
             "ticks": ""
            },
            "type": "mesh3d"
           }
          ],
          "parcoords": [
           {
            "line": {
             "colorbar": {
              "outlinewidth": 0,
              "ticks": ""
             }
            },
            "type": "parcoords"
           }
          ],
          "pie": [
           {
            "automargin": true,
            "type": "pie"
           }
          ],
          "scatter": [
           {
            "fillpattern": {
             "fillmode": "overlay",
             "size": 10,
             "solidity": 0.2
            },
            "type": "scatter"
           }
          ],
          "scatter3d": [
           {
            "line": {
             "colorbar": {
              "outlinewidth": 0,
              "ticks": ""
             }
            },
            "marker": {
             "colorbar": {
              "outlinewidth": 0,
              "ticks": ""
             }
            },
            "type": "scatter3d"
           }
          ],
          "scattercarpet": [
           {
            "marker": {
             "colorbar": {
              "outlinewidth": 0,
              "ticks": ""
             }
            },
            "type": "scattercarpet"
           }
          ],
          "scattergeo": [
           {
            "marker": {
             "colorbar": {
              "outlinewidth": 0,
              "ticks": ""
             }
            },
            "type": "scattergeo"
           }
          ],
          "scattergl": [
           {
            "marker": {
             "colorbar": {
              "outlinewidth": 0,
              "ticks": ""
             }
            },
            "type": "scattergl"
           }
          ],
          "scattermap": [
           {
            "marker": {
             "colorbar": {
              "outlinewidth": 0,
              "ticks": ""
             }
            },
            "type": "scattermap"
           }
          ],
          "scattermapbox": [
           {
            "marker": {
             "colorbar": {
              "outlinewidth": 0,
              "ticks": ""
             }
            },
            "type": "scattermapbox"
           }
          ],
          "scatterpolar": [
           {
            "marker": {
             "colorbar": {
              "outlinewidth": 0,
              "ticks": ""
             }
            },
            "type": "scatterpolar"
           }
          ],
          "scatterpolargl": [
           {
            "marker": {
             "colorbar": {
              "outlinewidth": 0,
              "ticks": ""
             }
            },
            "type": "scatterpolargl"
           }
          ],
          "scatterternary": [
           {
            "marker": {
             "colorbar": {
              "outlinewidth": 0,
              "ticks": ""
             }
            },
            "type": "scatterternary"
           }
          ],
          "surface": [
           {
            "colorbar": {
             "outlinewidth": 0,
             "ticks": ""
            },
            "colorscale": [
             [
              0,
              "#0d0887"
             ],
             [
              0.1111111111111111,
              "#46039f"
             ],
             [
              0.2222222222222222,
              "#7201a8"
             ],
             [
              0.3333333333333333,
              "#9c179e"
             ],
             [
              0.4444444444444444,
              "#bd3786"
             ],
             [
              0.5555555555555556,
              "#d8576b"
             ],
             [
              0.6666666666666666,
              "#ed7953"
             ],
             [
              0.7777777777777778,
              "#fb9f3a"
             ],
             [
              0.8888888888888888,
              "#fdca26"
             ],
             [
              1,
              "#f0f921"
             ]
            ],
            "type": "surface"
           }
          ],
          "table": [
           {
            "cells": {
             "fill": {
              "color": "#EBF0F8"
             },
             "line": {
              "color": "white"
             }
            },
            "header": {
             "fill": {
              "color": "#C8D4E3"
             },
             "line": {
              "color": "white"
             }
            },
            "type": "table"
           }
          ]
         },
         "layout": {
          "annotationdefaults": {
           "arrowcolor": "#2a3f5f",
           "arrowhead": 0,
           "arrowwidth": 1
          },
          "autotypenumbers": "strict",
          "coloraxis": {
           "colorbar": {
            "outlinewidth": 0,
            "ticks": ""
           }
          },
          "colorscale": {
           "diverging": [
            [
             0,
             "#8e0152"
            ],
            [
             0.1,
             "#c51b7d"
            ],
            [
             0.2,
             "#de77ae"
            ],
            [
             0.3,
             "#f1b6da"
            ],
            [
             0.4,
             "#fde0ef"
            ],
            [
             0.5,
             "#f7f7f7"
            ],
            [
             0.6,
             "#e6f5d0"
            ],
            [
             0.7,
             "#b8e186"
            ],
            [
             0.8,
             "#7fbc41"
            ],
            [
             0.9,
             "#4d9221"
            ],
            [
             1,
             "#276419"
            ]
           ],
           "sequential": [
            [
             0,
             "#0d0887"
            ],
            [
             0.1111111111111111,
             "#46039f"
            ],
            [
             0.2222222222222222,
             "#7201a8"
            ],
            [
             0.3333333333333333,
             "#9c179e"
            ],
            [
             0.4444444444444444,
             "#bd3786"
            ],
            [
             0.5555555555555556,
             "#d8576b"
            ],
            [
             0.6666666666666666,
             "#ed7953"
            ],
            [
             0.7777777777777778,
             "#fb9f3a"
            ],
            [
             0.8888888888888888,
             "#fdca26"
            ],
            [
             1,
             "#f0f921"
            ]
           ],
           "sequentialminus": [
            [
             0,
             "#0d0887"
            ],
            [
             0.1111111111111111,
             "#46039f"
            ],
            [
             0.2222222222222222,
             "#7201a8"
            ],
            [
             0.3333333333333333,
             "#9c179e"
            ],
            [
             0.4444444444444444,
             "#bd3786"
            ],
            [
             0.5555555555555556,
             "#d8576b"
            ],
            [
             0.6666666666666666,
             "#ed7953"
            ],
            [
             0.7777777777777778,
             "#fb9f3a"
            ],
            [
             0.8888888888888888,
             "#fdca26"
            ],
            [
             1,
             "#f0f921"
            ]
           ]
          },
          "colorway": [
           "#636efa",
           "#EF553B",
           "#00cc96",
           "#ab63fa",
           "#FFA15A",
           "#19d3f3",
           "#FF6692",
           "#B6E880",
           "#FF97FF",
           "#FECB52"
          ],
          "font": {
           "color": "#2a3f5f"
          },
          "geo": {
           "bgcolor": "white",
           "lakecolor": "white",
           "landcolor": "white",
           "showlakes": true,
           "showland": true,
           "subunitcolor": "#C8D4E3"
          },
          "hoverlabel": {
           "align": "left"
          },
          "hovermode": "closest",
          "mapbox": {
           "style": "light"
          },
          "paper_bgcolor": "white",
          "plot_bgcolor": "white",
          "polar": {
           "angularaxis": {
            "gridcolor": "#EBF0F8",
            "linecolor": "#EBF0F8",
            "ticks": ""
           },
           "bgcolor": "white",
           "radialaxis": {
            "gridcolor": "#EBF0F8",
            "linecolor": "#EBF0F8",
            "ticks": ""
           }
          },
          "scene": {
           "xaxis": {
            "backgroundcolor": "white",
            "gridcolor": "#DFE8F3",
            "gridwidth": 2,
            "linecolor": "#EBF0F8",
            "showbackground": true,
            "ticks": "",
            "zerolinecolor": "#EBF0F8"
           },
           "yaxis": {
            "backgroundcolor": "white",
            "gridcolor": "#DFE8F3",
            "gridwidth": 2,
            "linecolor": "#EBF0F8",
            "showbackground": true,
            "ticks": "",
            "zerolinecolor": "#EBF0F8"
           },
           "zaxis": {
            "backgroundcolor": "white",
            "gridcolor": "#DFE8F3",
            "gridwidth": 2,
            "linecolor": "#EBF0F8",
            "showbackground": true,
            "ticks": "",
            "zerolinecolor": "#EBF0F8"
           }
          },
          "shapedefaults": {
           "line": {
            "color": "#2a3f5f"
           }
          },
          "ternary": {
           "aaxis": {
            "gridcolor": "#DFE8F3",
            "linecolor": "#A2B1C6",
            "ticks": ""
           },
           "baxis": {
            "gridcolor": "#DFE8F3",
            "linecolor": "#A2B1C6",
            "ticks": ""
           },
           "bgcolor": "white",
           "caxis": {
            "gridcolor": "#DFE8F3",
            "linecolor": "#A2B1C6",
            "ticks": ""
           }
          },
          "title": {
           "x": 0.05
          },
          "xaxis": {
           "automargin": true,
           "gridcolor": "#EBF0F8",
           "linecolor": "#EBF0F8",
           "ticks": "",
           "title": {
            "standoff": 15
           },
           "zerolinecolor": "#EBF0F8",
           "zerolinewidth": 2
          },
          "yaxis": {
           "automargin": true,
           "gridcolor": "#EBF0F8",
           "linecolor": "#EBF0F8",
           "ticks": "",
           "title": {
            "standoff": 15
           },
           "zerolinecolor": "#EBF0F8",
           "zerolinewidth": 2
          }
         }
        },
        "title": {
         "text": "Palabras Principales por Tópico - Mazatlan"
        },
        "width": 1000,
        "xaxis": {
         "anchor": "y",
         "domain": [
          0,
          0.175
         ],
         "showgrid": true
        },
        "xaxis2": {
         "anchor": "y2",
         "domain": [
          0.275,
          0.45
         ],
         "showgrid": true
        },
        "xaxis3": {
         "anchor": "y3",
         "domain": [
          0.55,
          0.7250000000000001
         ],
         "showgrid": true
        },
        "xaxis4": {
         "anchor": "y4",
         "domain": [
          0.825,
          1
         ],
         "showgrid": true
        },
        "xaxis5": {
         "anchor": "y5",
         "domain": [
          0,
          0.175
         ],
         "showgrid": true
        },
        "xaxis6": {
         "anchor": "y6",
         "domain": [
          0.275,
          0.45
         ],
         "showgrid": true
        },
        "xaxis7": {
         "anchor": "y7",
         "domain": [
          0.55,
          0.7250000000000001
         ],
         "showgrid": true
        },
        "xaxis8": {
         "anchor": "y8",
         "domain": [
          0.825,
          1
         ],
         "showgrid": true
        },
        "yaxis": {
         "anchor": "x",
         "domain": [
          0.625,
          1
         ],
         "showgrid": true
        },
        "yaxis2": {
         "anchor": "x2",
         "domain": [
          0.625,
          1
         ],
         "showgrid": true
        },
        "yaxis3": {
         "anchor": "x3",
         "domain": [
          0.625,
          1
         ],
         "showgrid": true
        },
        "yaxis4": {
         "anchor": "x4",
         "domain": [
          0.625,
          1
         ],
         "showgrid": true
        },
        "yaxis5": {
         "anchor": "x5",
         "domain": [
          0,
          0.375
         ],
         "showgrid": true
        },
        "yaxis6": {
         "anchor": "x6",
         "domain": [
          0,
          0.375
         ],
         "showgrid": true
        },
        "yaxis7": {
         "anchor": "x7",
         "domain": [
          0,
          0.375
         ],
         "showgrid": true
        },
        "yaxis8": {
         "anchor": "x8",
         "domain": [
          0,
          0.375
         ],
         "showgrid": true
        }
       }
      }
     },
     "metadata": {},
     "output_type": "display_data"
    },
    {
     "data": {
      "application/vnd.plotly.v1+json": {
       "config": {
        "plotlyServerURL": "https://plot.ly"
       },
       "data": [
        {
         "marker": {
          "color": "#C8D2D7",
          "line": {
           "color": "#6E8484",
           "width": 1
          }
         },
         "orientation": "h",
         "type": "bar",
         "x": [
          0.148610457777977,
          0.16503044962882996,
          0.185289204120636,
          0.20378011465072632,
          0.2972896695137024
         ],
         "y": [
          "1_cristal_faro_caminata_puente_vistas",
          "4_catedral_arquitectura_historia_edificio_iglesia",
          "2_musico_noche_ambiente_plaza_vendedor",
          "0_isla_acuario_barco_espectaculo_persona",
          "3_playa_ola_nadar_mar_bruja"
         ]
        }
       ],
       "layout": {
        "height": 1000,
        "hoverlabel": {
         "bgcolor": "white",
         "font": {
          "family": "Rockwell",
          "size": 16
         }
        },
        "template": {
         "data": {
          "bar": [
           {
            "error_x": {
             "color": "rgb(36,36,36)"
            },
            "error_y": {
             "color": "rgb(36,36,36)"
            },
            "marker": {
             "line": {
              "color": "white",
              "width": 0.5
             },
             "pattern": {
              "fillmode": "overlay",
              "size": 10,
              "solidity": 0.2
             }
            },
            "type": "bar"
           }
          ],
          "barpolar": [
           {
            "marker": {
             "line": {
              "color": "white",
              "width": 0.5
             },
             "pattern": {
              "fillmode": "overlay",
              "size": 10,
              "solidity": 0.2
             }
            },
            "type": "barpolar"
           }
          ],
          "carpet": [
           {
            "aaxis": {
             "endlinecolor": "rgb(36,36,36)",
             "gridcolor": "white",
             "linecolor": "white",
             "minorgridcolor": "white",
             "startlinecolor": "rgb(36,36,36)"
            },
            "baxis": {
             "endlinecolor": "rgb(36,36,36)",
             "gridcolor": "white",
             "linecolor": "white",
             "minorgridcolor": "white",
             "startlinecolor": "rgb(36,36,36)"
            },
            "type": "carpet"
           }
          ],
          "choropleth": [
           {
            "colorbar": {
             "outlinewidth": 1,
             "tickcolor": "rgb(36,36,36)",
             "ticks": "outside"
            },
            "type": "choropleth"
           }
          ],
          "contour": [
           {
            "colorbar": {
             "outlinewidth": 1,
             "tickcolor": "rgb(36,36,36)",
             "ticks": "outside"
            },
            "colorscale": [
             [
              0,
              "#440154"
             ],
             [
              0.1111111111111111,
              "#482878"
             ],
             [
              0.2222222222222222,
              "#3e4989"
             ],
             [
              0.3333333333333333,
              "#31688e"
             ],
             [
              0.4444444444444444,
              "#26828e"
             ],
             [
              0.5555555555555556,
              "#1f9e89"
             ],
             [
              0.6666666666666666,
              "#35b779"
             ],
             [
              0.7777777777777778,
              "#6ece58"
             ],
             [
              0.8888888888888888,
              "#b5de2b"
             ],
             [
              1,
              "#fde725"
             ]
            ],
            "type": "contour"
           }
          ],
          "contourcarpet": [
           {
            "colorbar": {
             "outlinewidth": 1,
             "tickcolor": "rgb(36,36,36)",
             "ticks": "outside"
            },
            "type": "contourcarpet"
           }
          ],
          "heatmap": [
           {
            "colorbar": {
             "outlinewidth": 1,
             "tickcolor": "rgb(36,36,36)",
             "ticks": "outside"
            },
            "colorscale": [
             [
              0,
              "#440154"
             ],
             [
              0.1111111111111111,
              "#482878"
             ],
             [
              0.2222222222222222,
              "#3e4989"
             ],
             [
              0.3333333333333333,
              "#31688e"
             ],
             [
              0.4444444444444444,
              "#26828e"
             ],
             [
              0.5555555555555556,
              "#1f9e89"
             ],
             [
              0.6666666666666666,
              "#35b779"
             ],
             [
              0.7777777777777778,
              "#6ece58"
             ],
             [
              0.8888888888888888,
              "#b5de2b"
             ],
             [
              1,
              "#fde725"
             ]
            ],
            "type": "heatmap"
           }
          ],
          "histogram": [
           {
            "marker": {
             "line": {
              "color": "white",
              "width": 0.6
             }
            },
            "type": "histogram"
           }
          ],
          "histogram2d": [
           {
            "colorbar": {
             "outlinewidth": 1,
             "tickcolor": "rgb(36,36,36)",
             "ticks": "outside"
            },
            "colorscale": [
             [
              0,
              "#440154"
             ],
             [
              0.1111111111111111,
              "#482878"
             ],
             [
              0.2222222222222222,
              "#3e4989"
             ],
             [
              0.3333333333333333,
              "#31688e"
             ],
             [
              0.4444444444444444,
              "#26828e"
             ],
             [
              0.5555555555555556,
              "#1f9e89"
             ],
             [
              0.6666666666666666,
              "#35b779"
             ],
             [
              0.7777777777777778,
              "#6ece58"
             ],
             [
              0.8888888888888888,
              "#b5de2b"
             ],
             [
              1,
              "#fde725"
             ]
            ],
            "type": "histogram2d"
           }
          ],
          "histogram2dcontour": [
           {
            "colorbar": {
             "outlinewidth": 1,
             "tickcolor": "rgb(36,36,36)",
             "ticks": "outside"
            },
            "colorscale": [
             [
              0,
              "#440154"
             ],
             [
              0.1111111111111111,
              "#482878"
             ],
             [
              0.2222222222222222,
              "#3e4989"
             ],
             [
              0.3333333333333333,
              "#31688e"
             ],
             [
              0.4444444444444444,
              "#26828e"
             ],
             [
              0.5555555555555556,
              "#1f9e89"
             ],
             [
              0.6666666666666666,
              "#35b779"
             ],
             [
              0.7777777777777778,
              "#6ece58"
             ],
             [
              0.8888888888888888,
              "#b5de2b"
             ],
             [
              1,
              "#fde725"
             ]
            ],
            "type": "histogram2dcontour"
           }
          ],
          "mesh3d": [
           {
            "colorbar": {
             "outlinewidth": 1,
             "tickcolor": "rgb(36,36,36)",
             "ticks": "outside"
            },
            "type": "mesh3d"
           }
          ],
          "parcoords": [
           {
            "line": {
             "colorbar": {
              "outlinewidth": 1,
              "tickcolor": "rgb(36,36,36)",
              "ticks": "outside"
             }
            },
            "type": "parcoords"
           }
          ],
          "pie": [
           {
            "automargin": true,
            "type": "pie"
           }
          ],
          "scatter": [
           {
            "fillpattern": {
             "fillmode": "overlay",
             "size": 10,
             "solidity": 0.2
            },
            "type": "scatter"
           }
          ],
          "scatter3d": [
           {
            "line": {
             "colorbar": {
              "outlinewidth": 1,
              "tickcolor": "rgb(36,36,36)",
              "ticks": "outside"
             }
            },
            "marker": {
             "colorbar": {
              "outlinewidth": 1,
              "tickcolor": "rgb(36,36,36)",
              "ticks": "outside"
             }
            },
            "type": "scatter3d"
           }
          ],
          "scattercarpet": [
           {
            "marker": {
             "colorbar": {
              "outlinewidth": 1,
              "tickcolor": "rgb(36,36,36)",
              "ticks": "outside"
             }
            },
            "type": "scattercarpet"
           }
          ],
          "scattergeo": [
           {
            "marker": {
             "colorbar": {
              "outlinewidth": 1,
              "tickcolor": "rgb(36,36,36)",
              "ticks": "outside"
             }
            },
            "type": "scattergeo"
           }
          ],
          "scattergl": [
           {
            "marker": {
             "colorbar": {
              "outlinewidth": 1,
              "tickcolor": "rgb(36,36,36)",
              "ticks": "outside"
             }
            },
            "type": "scattergl"
           }
          ],
          "scattermap": [
           {
            "marker": {
             "colorbar": {
              "outlinewidth": 1,
              "tickcolor": "rgb(36,36,36)",
              "ticks": "outside"
             }
            },
            "type": "scattermap"
           }
          ],
          "scattermapbox": [
           {
            "marker": {
             "colorbar": {
              "outlinewidth": 1,
              "tickcolor": "rgb(36,36,36)",
              "ticks": "outside"
             }
            },
            "type": "scattermapbox"
           }
          ],
          "scatterpolar": [
           {
            "marker": {
             "colorbar": {
              "outlinewidth": 1,
              "tickcolor": "rgb(36,36,36)",
              "ticks": "outside"
             }
            },
            "type": "scatterpolar"
           }
          ],
          "scatterpolargl": [
           {
            "marker": {
             "colorbar": {
              "outlinewidth": 1,
              "tickcolor": "rgb(36,36,36)",
              "ticks": "outside"
             }
            },
            "type": "scatterpolargl"
           }
          ],
          "scatterternary": [
           {
            "marker": {
             "colorbar": {
              "outlinewidth": 1,
              "tickcolor": "rgb(36,36,36)",
              "ticks": "outside"
             }
            },
            "type": "scatterternary"
           }
          ],
          "surface": [
           {
            "colorbar": {
             "outlinewidth": 1,
             "tickcolor": "rgb(36,36,36)",
             "ticks": "outside"
            },
            "colorscale": [
             [
              0,
              "#440154"
             ],
             [
              0.1111111111111111,
              "#482878"
             ],
             [
              0.2222222222222222,
              "#3e4989"
             ],
             [
              0.3333333333333333,
              "#31688e"
             ],
             [
              0.4444444444444444,
              "#26828e"
             ],
             [
              0.5555555555555556,
              "#1f9e89"
             ],
             [
              0.6666666666666666,
              "#35b779"
             ],
             [
              0.7777777777777778,
              "#6ece58"
             ],
             [
              0.8888888888888888,
              "#b5de2b"
             ],
             [
              1,
              "#fde725"
             ]
            ],
            "type": "surface"
           }
          ],
          "table": [
           {
            "cells": {
             "fill": {
              "color": "rgb(237,237,237)"
             },
             "line": {
              "color": "white"
             }
            },
            "header": {
             "fill": {
              "color": "rgb(217,217,217)"
             },
             "line": {
              "color": "white"
             }
            },
            "type": "table"
           }
          ]
         },
         "layout": {
          "annotationdefaults": {
           "arrowhead": 0,
           "arrowwidth": 1
          },
          "autotypenumbers": "strict",
          "coloraxis": {
           "colorbar": {
            "outlinewidth": 1,
            "tickcolor": "rgb(36,36,36)",
            "ticks": "outside"
           }
          },
          "colorscale": {
           "diverging": [
            [
             0,
             "rgb(103,0,31)"
            ],
            [
             0.1,
             "rgb(178,24,43)"
            ],
            [
             0.2,
             "rgb(214,96,77)"
            ],
            [
             0.3,
             "rgb(244,165,130)"
            ],
            [
             0.4,
             "rgb(253,219,199)"
            ],
            [
             0.5,
             "rgb(247,247,247)"
            ],
            [
             0.6,
             "rgb(209,229,240)"
            ],
            [
             0.7,
             "rgb(146,197,222)"
            ],
            [
             0.8,
             "rgb(67,147,195)"
            ],
            [
             0.9,
             "rgb(33,102,172)"
            ],
            [
             1,
             "rgb(5,48,97)"
            ]
           ],
           "sequential": [
            [
             0,
             "#440154"
            ],
            [
             0.1111111111111111,
             "#482878"
            ],
            [
             0.2222222222222222,
             "#3e4989"
            ],
            [
             0.3333333333333333,
             "#31688e"
            ],
            [
             0.4444444444444444,
             "#26828e"
            ],
            [
             0.5555555555555556,
             "#1f9e89"
            ],
            [
             0.6666666666666666,
             "#35b779"
            ],
            [
             0.7777777777777778,
             "#6ece58"
            ],
            [
             0.8888888888888888,
             "#b5de2b"
            ],
            [
             1,
             "#fde725"
            ]
           ],
           "sequentialminus": [
            [
             0,
             "#440154"
            ],
            [
             0.1111111111111111,
             "#482878"
            ],
            [
             0.2222222222222222,
             "#3e4989"
            ],
            [
             0.3333333333333333,
             "#31688e"
            ],
            [
             0.4444444444444444,
             "#26828e"
            ],
            [
             0.5555555555555556,
             "#1f9e89"
            ],
            [
             0.6666666666666666,
             "#35b779"
            ],
            [
             0.7777777777777778,
             "#6ece58"
            ],
            [
             0.8888888888888888,
             "#b5de2b"
            ],
            [
             1,
             "#fde725"
            ]
           ]
          },
          "colorway": [
           "#1F77B4",
           "#FF7F0E",
           "#2CA02C",
           "#D62728",
           "#9467BD",
           "#8C564B",
           "#E377C2",
           "#7F7F7F",
           "#BCBD22",
           "#17BECF"
          ],
          "font": {
           "color": "rgb(36,36,36)"
          },
          "geo": {
           "bgcolor": "white",
           "lakecolor": "white",
           "landcolor": "white",
           "showlakes": true,
           "showland": true,
           "subunitcolor": "white"
          },
          "hoverlabel": {
           "align": "left"
          },
          "hovermode": "closest",
          "mapbox": {
           "style": "light"
          },
          "paper_bgcolor": "white",
          "plot_bgcolor": "white",
          "polar": {
           "angularaxis": {
            "gridcolor": "rgb(232,232,232)",
            "linecolor": "rgb(36,36,36)",
            "showgrid": false,
            "showline": true,
            "ticks": "outside"
           },
           "bgcolor": "white",
           "radialaxis": {
            "gridcolor": "rgb(232,232,232)",
            "linecolor": "rgb(36,36,36)",
            "showgrid": false,
            "showline": true,
            "ticks": "outside"
           }
          },
          "scene": {
           "xaxis": {
            "backgroundcolor": "white",
            "gridcolor": "rgb(232,232,232)",
            "gridwidth": 2,
            "linecolor": "rgb(36,36,36)",
            "showbackground": true,
            "showgrid": false,
            "showline": true,
            "ticks": "outside",
            "zeroline": false,
            "zerolinecolor": "rgb(36,36,36)"
           },
           "yaxis": {
            "backgroundcolor": "white",
            "gridcolor": "rgb(232,232,232)",
            "gridwidth": 2,
            "linecolor": "rgb(36,36,36)",
            "showbackground": true,
            "showgrid": false,
            "showline": true,
            "ticks": "outside",
            "zeroline": false,
            "zerolinecolor": "rgb(36,36,36)"
           },
           "zaxis": {
            "backgroundcolor": "white",
            "gridcolor": "rgb(232,232,232)",
            "gridwidth": 2,
            "linecolor": "rgb(36,36,36)",
            "showbackground": true,
            "showgrid": false,
            "showline": true,
            "ticks": "outside",
            "zeroline": false,
            "zerolinecolor": "rgb(36,36,36)"
           }
          },
          "shapedefaults": {
           "fillcolor": "black",
           "line": {
            "width": 0
           },
           "opacity": 0.3
          },
          "ternary": {
           "aaxis": {
            "gridcolor": "rgb(232,232,232)",
            "linecolor": "rgb(36,36,36)",
            "showgrid": false,
            "showline": true,
            "ticks": "outside"
           },
           "baxis": {
            "gridcolor": "rgb(232,232,232)",
            "linecolor": "rgb(36,36,36)",
            "showgrid": false,
            "showline": true,
            "ticks": "outside"
           },
           "bgcolor": "white",
           "caxis": {
            "gridcolor": "rgb(232,232,232)",
            "linecolor": "rgb(36,36,36)",
            "showgrid": false,
            "showline": true,
            "ticks": "outside"
           }
          },
          "title": {
           "x": 0.05
          },
          "xaxis": {
           "automargin": true,
           "gridcolor": "rgb(232,232,232)",
           "linecolor": "rgb(36,36,36)",
           "showgrid": false,
           "showline": true,
           "ticks": "outside",
           "title": {
            "standoff": 15
           },
           "zeroline": false,
           "zerolinecolor": "rgb(36,36,36)"
          },
          "yaxis": {
           "automargin": true,
           "gridcolor": "rgb(232,232,232)",
           "linecolor": "rgb(36,36,36)",
           "showgrid": false,
           "showline": true,
           "ticks": "outside",
           "title": {
            "standoff": 15
           },
           "zeroline": false,
           "zerolinecolor": "rgb(36,36,36)"
          }
         }
        },
        "title": {
         "text": "Distribución de Pesos de Tópicos - Mazatlan"
        },
        "width": 1000,
        "xaxis": {
         "title": {
          "text": "Weight"
         }
        }
       }
      }
     },
     "metadata": {},
     "output_type": "display_data"
    },
    {
     "data": {
      "application/vnd.plotly.v1+json": {
       "config": {
        "plotlyServerURL": "https://plot.ly"
       },
       "data": [
        {
         "hoverinfo": "text",
         "marker": {
          "color": "rgb(0,116,217)"
         },
         "mode": "lines",
         "type": "scatter",
         "x": {
          "bdata": "AAAAAAAAAADvut1hoWj/P++63WGhaP8/AAAAAAAAAAA=",
          "dtype": "f8"
         },
         "xaxis": "x",
         "y": {
          "bdata": "AAAAAAAAFMAAAAAAAAAUwAAAAAAAAC7AAAAAAAAALsA=",
          "dtype": "f8"
         },
         "yaxis": "y"
        },
        {
         "hoverinfo": "text",
         "marker": {
          "color": "rgb(0,116,217)"
         },
         "mode": "lines",
         "type": "scatter",
         "x": {
          "bdata": "AAAAAAAAAACdaVm+Rm//P51pWb5Gb/8/AAAAAAAAAAA=",
          "dtype": "f8"
         },
         "xaxis": "x",
         "y": {
          "bdata": "AAAAAACAQcAAAAAAAIBBwAAAAAAAgEbAAAAAAACARsA=",
          "dtype": "f8"
         },
         "yaxis": "y"
        },
        {
         "hoverinfo": "text",
         "marker": {
          "color": "rgb(0,116,217)"
         },
         "mode": "lines",
         "type": "scatter",
         "x": {
          "bdata": "AAAAAAAAAAD0xZ/e5CcBQPTFn97kJwFAnWlZvkZv/z8=",
          "dtype": "f8"
         },
         "xaxis": "x",
         "y": {
          "bdata": "AAAAAAAAOcAAAAAAAAA5wAAAAAAAAETAAAAAAAAARMA=",
          "dtype": "f8"
         },
         "yaxis": "y"
        },
        {
         "hoverinfo": "text",
         "marker": {
          "color": "rgb(0,116,217)"
         },
         "mode": "lines",
         "type": "scatter",
         "x": {
          "bdata": "77rdYaFo/z92iNiAhTAEQHaI2ICFMARA9MWf3uQnAUA=",
          "dtype": "f8"
         },
         "xaxis": "x",
         "y": {
          "bdata": "AAAAAAAAJMAAAAAAAAAkwAAAAAAAQEDAAAAAAABAQMA=",
          "dtype": "f8"
         },
         "yaxis": "y"
        }
       ],
       "layout": {
        "autosize": false,
        "height": 1000,
        "hovermode": "closest",
        "showlegend": false,
        "template": {
         "data": {
          "bar": [
           {
            "error_x": {
             "color": "#2a3f5f"
            },
            "error_y": {
             "color": "#2a3f5f"
            },
            "marker": {
             "line": {
              "color": "#E5ECF6",
              "width": 0.5
             },
             "pattern": {
              "fillmode": "overlay",
              "size": 10,
              "solidity": 0.2
             }
            },
            "type": "bar"
           }
          ],
          "barpolar": [
           {
            "marker": {
             "line": {
              "color": "#E5ECF6",
              "width": 0.5
             },
             "pattern": {
              "fillmode": "overlay",
              "size": 10,
              "solidity": 0.2
             }
            },
            "type": "barpolar"
           }
          ],
          "carpet": [
           {
            "aaxis": {
             "endlinecolor": "#2a3f5f",
             "gridcolor": "white",
             "linecolor": "white",
             "minorgridcolor": "white",
             "startlinecolor": "#2a3f5f"
            },
            "baxis": {
             "endlinecolor": "#2a3f5f",
             "gridcolor": "white",
             "linecolor": "white",
             "minorgridcolor": "white",
             "startlinecolor": "#2a3f5f"
            },
            "type": "carpet"
           }
          ],
          "choropleth": [
           {
            "colorbar": {
             "outlinewidth": 0,
             "ticks": ""
            },
            "type": "choropleth"
           }
          ],
          "contour": [
           {
            "colorbar": {
             "outlinewidth": 0,
             "ticks": ""
            },
            "colorscale": [
             [
              0,
              "#0d0887"
             ],
             [
              0.1111111111111111,
              "#46039f"
             ],
             [
              0.2222222222222222,
              "#7201a8"
             ],
             [
              0.3333333333333333,
              "#9c179e"
             ],
             [
              0.4444444444444444,
              "#bd3786"
             ],
             [
              0.5555555555555556,
              "#d8576b"
             ],
             [
              0.6666666666666666,
              "#ed7953"
             ],
             [
              0.7777777777777778,
              "#fb9f3a"
             ],
             [
              0.8888888888888888,
              "#fdca26"
             ],
             [
              1,
              "#f0f921"
             ]
            ],
            "type": "contour"
           }
          ],
          "contourcarpet": [
           {
            "colorbar": {
             "outlinewidth": 0,
             "ticks": ""
            },
            "type": "contourcarpet"
           }
          ],
          "heatmap": [
           {
            "colorbar": {
             "outlinewidth": 0,
             "ticks": ""
            },
            "colorscale": [
             [
              0,
              "#0d0887"
             ],
             [
              0.1111111111111111,
              "#46039f"
             ],
             [
              0.2222222222222222,
              "#7201a8"
             ],
             [
              0.3333333333333333,
              "#9c179e"
             ],
             [
              0.4444444444444444,
              "#bd3786"
             ],
             [
              0.5555555555555556,
              "#d8576b"
             ],
             [
              0.6666666666666666,
              "#ed7953"
             ],
             [
              0.7777777777777778,
              "#fb9f3a"
             ],
             [
              0.8888888888888888,
              "#fdca26"
             ],
             [
              1,
              "#f0f921"
             ]
            ],
            "type": "heatmap"
           }
          ],
          "histogram": [
           {
            "marker": {
             "pattern": {
              "fillmode": "overlay",
              "size": 10,
              "solidity": 0.2
             }
            },
            "type": "histogram"
           }
          ],
          "histogram2d": [
           {
            "colorbar": {
             "outlinewidth": 0,
             "ticks": ""
            },
            "colorscale": [
             [
              0,
              "#0d0887"
             ],
             [
              0.1111111111111111,
              "#46039f"
             ],
             [
              0.2222222222222222,
              "#7201a8"
             ],
             [
              0.3333333333333333,
              "#9c179e"
             ],
             [
              0.4444444444444444,
              "#bd3786"
             ],
             [
              0.5555555555555556,
              "#d8576b"
             ],
             [
              0.6666666666666666,
              "#ed7953"
             ],
             [
              0.7777777777777778,
              "#fb9f3a"
             ],
             [
              0.8888888888888888,
              "#fdca26"
             ],
             [
              1,
              "#f0f921"
             ]
            ],
            "type": "histogram2d"
           }
          ],
          "histogram2dcontour": [
           {
            "colorbar": {
             "outlinewidth": 0,
             "ticks": ""
            },
            "colorscale": [
             [
              0,
              "#0d0887"
             ],
             [
              0.1111111111111111,
              "#46039f"
             ],
             [
              0.2222222222222222,
              "#7201a8"
             ],
             [
              0.3333333333333333,
              "#9c179e"
             ],
             [
              0.4444444444444444,
              "#bd3786"
             ],
             [
              0.5555555555555556,
              "#d8576b"
             ],
             [
              0.6666666666666666,
              "#ed7953"
             ],
             [
              0.7777777777777778,
              "#fb9f3a"
             ],
             [
              0.8888888888888888,
              "#fdca26"
             ],
             [
              1,
              "#f0f921"
             ]
            ],
            "type": "histogram2dcontour"
           }
          ],
          "mesh3d": [
           {
            "colorbar": {
             "outlinewidth": 0,
             "ticks": ""
            },
            "type": "mesh3d"
           }
          ],
          "parcoords": [
           {
            "line": {
             "colorbar": {
              "outlinewidth": 0,
              "ticks": ""
             }
            },
            "type": "parcoords"
           }
          ],
          "pie": [
           {
            "automargin": true,
            "type": "pie"
           }
          ],
          "scatter": [
           {
            "fillpattern": {
             "fillmode": "overlay",
             "size": 10,
             "solidity": 0.2
            },
            "type": "scatter"
           }
          ],
          "scatter3d": [
           {
            "line": {
             "colorbar": {
              "outlinewidth": 0,
              "ticks": ""
             }
            },
            "marker": {
             "colorbar": {
              "outlinewidth": 0,
              "ticks": ""
             }
            },
            "type": "scatter3d"
           }
          ],
          "scattercarpet": [
           {
            "marker": {
             "colorbar": {
              "outlinewidth": 0,
              "ticks": ""
             }
            },
            "type": "scattercarpet"
           }
          ],
          "scattergeo": [
           {
            "marker": {
             "colorbar": {
              "outlinewidth": 0,
              "ticks": ""
             }
            },
            "type": "scattergeo"
           }
          ],
          "scattergl": [
           {
            "marker": {
             "colorbar": {
              "outlinewidth": 0,
              "ticks": ""
             }
            },
            "type": "scattergl"
           }
          ],
          "scattermap": [
           {
            "marker": {
             "colorbar": {
              "outlinewidth": 0,
              "ticks": ""
             }
            },
            "type": "scattermap"
           }
          ],
          "scattermapbox": [
           {
            "marker": {
             "colorbar": {
              "outlinewidth": 0,
              "ticks": ""
             }
            },
            "type": "scattermapbox"
           }
          ],
          "scatterpolar": [
           {
            "marker": {
             "colorbar": {
              "outlinewidth": 0,
              "ticks": ""
             }
            },
            "type": "scatterpolar"
           }
          ],
          "scatterpolargl": [
           {
            "marker": {
             "colorbar": {
              "outlinewidth": 0,
              "ticks": ""
             }
            },
            "type": "scatterpolargl"
           }
          ],
          "scatterternary": [
           {
            "marker": {
             "colorbar": {
              "outlinewidth": 0,
              "ticks": ""
             }
            },
            "type": "scatterternary"
           }
          ],
          "surface": [
           {
            "colorbar": {
             "outlinewidth": 0,
             "ticks": ""
            },
            "colorscale": [
             [
              0,
              "#0d0887"
             ],
             [
              0.1111111111111111,
              "#46039f"
             ],
             [
              0.2222222222222222,
              "#7201a8"
             ],
             [
              0.3333333333333333,
              "#9c179e"
             ],
             [
              0.4444444444444444,
              "#bd3786"
             ],
             [
              0.5555555555555556,
              "#d8576b"
             ],
             [
              0.6666666666666666,
              "#ed7953"
             ],
             [
              0.7777777777777778,
              "#fb9f3a"
             ],
             [
              0.8888888888888888,
              "#fdca26"
             ],
             [
              1,
              "#f0f921"
             ]
            ],
            "type": "surface"
           }
          ],
          "table": [
           {
            "cells": {
             "fill": {
              "color": "#EBF0F8"
             },
             "line": {
              "color": "white"
             }
            },
            "header": {
             "fill": {
              "color": "#C8D4E3"
             },
             "line": {
              "color": "white"
             }
            },
            "type": "table"
           }
          ]
         },
         "layout": {
          "annotationdefaults": {
           "arrowcolor": "#2a3f5f",
           "arrowhead": 0,
           "arrowwidth": 1
          },
          "autotypenumbers": "strict",
          "coloraxis": {
           "colorbar": {
            "outlinewidth": 0,
            "ticks": ""
           }
          },
          "colorscale": {
           "diverging": [
            [
             0,
             "#8e0152"
            ],
            [
             0.1,
             "#c51b7d"
            ],
            [
             0.2,
             "#de77ae"
            ],
            [
             0.3,
             "#f1b6da"
            ],
            [
             0.4,
             "#fde0ef"
            ],
            [
             0.5,
             "#f7f7f7"
            ],
            [
             0.6,
             "#e6f5d0"
            ],
            [
             0.7,
             "#b8e186"
            ],
            [
             0.8,
             "#7fbc41"
            ],
            [
             0.9,
             "#4d9221"
            ],
            [
             1,
             "#276419"
            ]
           ],
           "sequential": [
            [
             0,
             "#0d0887"
            ],
            [
             0.1111111111111111,
             "#46039f"
            ],
            [
             0.2222222222222222,
             "#7201a8"
            ],
            [
             0.3333333333333333,
             "#9c179e"
            ],
            [
             0.4444444444444444,
             "#bd3786"
            ],
            [
             0.5555555555555556,
             "#d8576b"
            ],
            [
             0.6666666666666666,
             "#ed7953"
            ],
            [
             0.7777777777777778,
             "#fb9f3a"
            ],
            [
             0.8888888888888888,
             "#fdca26"
            ],
            [
             1,
             "#f0f921"
            ]
           ],
           "sequentialminus": [
            [
             0,
             "#0d0887"
            ],
            [
             0.1111111111111111,
             "#46039f"
            ],
            [
             0.2222222222222222,
             "#7201a8"
            ],
            [
             0.3333333333333333,
             "#9c179e"
            ],
            [
             0.4444444444444444,
             "#bd3786"
            ],
            [
             0.5555555555555556,
             "#d8576b"
            ],
            [
             0.6666666666666666,
             "#ed7953"
            ],
            [
             0.7777777777777778,
             "#fb9f3a"
            ],
            [
             0.8888888888888888,
             "#fdca26"
            ],
            [
             1,
             "#f0f921"
            ]
           ]
          },
          "colorway": [
           "#636efa",
           "#EF553B",
           "#00cc96",
           "#ab63fa",
           "#FFA15A",
           "#19d3f3",
           "#FF6692",
           "#B6E880",
           "#FF97FF",
           "#FECB52"
          ],
          "font": {
           "color": "#2a3f5f"
          },
          "geo": {
           "bgcolor": "white",
           "lakecolor": "white",
           "landcolor": "#E5ECF6",
           "showlakes": true,
           "showland": true,
           "subunitcolor": "white"
          },
          "hoverlabel": {
           "align": "left"
          },
          "hovermode": "closest",
          "mapbox": {
           "style": "light"
          },
          "paper_bgcolor": "white",
          "plot_bgcolor": "#E5ECF6",
          "polar": {
           "angularaxis": {
            "gridcolor": "white",
            "linecolor": "white",
            "ticks": ""
           },
           "bgcolor": "#E5ECF6",
           "radialaxis": {
            "gridcolor": "white",
            "linecolor": "white",
            "ticks": ""
           }
          },
          "scene": {
           "xaxis": {
            "backgroundcolor": "#E5ECF6",
            "gridcolor": "white",
            "gridwidth": 2,
            "linecolor": "white",
            "showbackground": true,
            "ticks": "",
            "zerolinecolor": "white"
           },
           "yaxis": {
            "backgroundcolor": "#E5ECF6",
            "gridcolor": "white",
            "gridwidth": 2,
            "linecolor": "white",
            "showbackground": true,
            "ticks": "",
            "zerolinecolor": "white"
           },
           "zaxis": {
            "backgroundcolor": "#E5ECF6",
            "gridcolor": "white",
            "gridwidth": 2,
            "linecolor": "white",
            "showbackground": true,
            "ticks": "",
            "zerolinecolor": "white"
           }
          },
          "shapedefaults": {
           "line": {
            "color": "#2a3f5f"
           }
          },
          "ternary": {
           "aaxis": {
            "gridcolor": "white",
            "linecolor": "white",
            "ticks": ""
           },
           "baxis": {
            "gridcolor": "white",
            "linecolor": "white",
            "ticks": ""
           },
           "bgcolor": "#E5ECF6",
           "caxis": {
            "gridcolor": "white",
            "linecolor": "white",
            "ticks": ""
           }
          },
          "title": {
           "x": 0.05
          },
          "xaxis": {
           "automargin": true,
           "gridcolor": "white",
           "linecolor": "white",
           "ticks": "",
           "title": {
            "standoff": 15
           },
           "zerolinecolor": "white",
           "zerolinewidth": 2
          },
          "yaxis": {
           "automargin": true,
           "gridcolor": "white",
           "linecolor": "white",
           "ticks": "",
           "title": {
            "standoff": 15
           },
           "zerolinecolor": "white",
           "zerolinewidth": 2
          }
         }
        },
        "title": {
         "text": "Jerarquía de Tópicos - Mazatlan"
        },
        "width": 1000,
        "xaxis": {
         "mirror": "allticks",
         "rangemode": "tozero",
         "showgrid": false,
         "showline": true,
         "showticklabels": true,
         "ticks": "outside",
         "type": "linear",
         "zeroline": false
        },
        "yaxis": {
         "mirror": "allticks",
         "rangemode": "tozero",
         "showgrid": false,
         "showline": true,
         "showticklabels": true,
         "tickmode": "array",
         "ticks": "outside",
         "ticktext": [
          "2_musico_noche_ambiente_plaza_vendedor",
          "4_catedral_arquitectura_historia_edificio_iglesia",
          "1_cristal_faro_caminata_puente_vistas",
          "0_isla_acuario_barco_espectaculo_persona",
          "3_playa_ola_nadar_mar_bruja"
         ],
         "tickvals": [
          -5,
          -15,
          -25,
          -35,
          -45
         ],
         "type": "linear",
         "zeroline": false
        }
       }
      }
     },
     "metadata": {},
     "output_type": "display_data"
    },
    {
     "name": "stdout",
     "output_type": "stream",
     "text": [
      "\n",
      "📋 Resumen del modelado FASTopic:\n",
      "✅ Textos analizados: 499\n",
      "🎯 Tópicos encontrados: 5\n",
      "⏱️ Tiempo de entrenamiento: 248.48s\n",
      "📊 Probabilidad promedio: 0.623\n",
      "📈 Distribución:\n",
      "   1. Playas: 129 opiniones (25.9%)\n",
      "   2. Patrimonio Cultural: 103 opiniones (20.6%)\n",
      "   3. Vida Nocturna: 100 opiniones (20.0%)\n",
      "   4. Excursiones Marítimas: 98 opiniones (19.6%)\n",
      "   5. Miradores: 69 opiniones (13.8%)\n"
     ]
    }
   ],
   "source": [
    "# ===== VISUALIZACIONES ESPECÍFICAS DE FASTOPIC =====\n",
    "\n",
    "# Generar visualización de tópicos\n",
    "fig_topics = topic_model.visualize_topic(top_n=min(8, len(topic_info)))\n",
    "fig_topics.update_layout(title=f\"Palabras Principales por Tópico - {CIUDAD_ANALIZAR}\")\n",
    "fig_topics.show()\n",
    "\n",
    "# Generar visualización de pesos de tópicos\n",
    "fig_weights = topic_model.visualize_topic_weights(top_n=min(10, len(topic_info)))\n",
    "fig_weights.update_layout(title=f\"Distribución de Pesos de Tópicos - {CIUDAD_ANALIZAR}\")\n",
    "fig_weights.show()\n",
    "\n",
    "# Generar jerarquía de tópicos si hay suficientes\n",
    "if len(topic_info) >= 3:\n",
    "    fig_hierarchy = topic_model.visualize_topic_hierarchy()\n",
    "    fig_hierarchy.update_layout(title=f\"Jerarquía de Tópicos - {CIUDAD_ANALIZAR}\")\n",
    "    fig_hierarchy.show()\n",
    "\n",
    "print(f\"\\n📋 Resumen del modelado FASTopic:\")\n",
    "print(f\"✅ Textos analizados: {len(texts)}\")\n",
    "print(f\"🎯 Tópicos encontrados: {len(topic_info)}\")\n",
    "print(f\"⏱️ Tiempo de entrenamiento: {tiempo_entrenamiento:.2f}s\")\n",
    "print(f\"📊 Probabilidad promedio: {df_con_topicos['Probabilidad_Topico'].mean():.3f}\")\n",
    "print(f\"📈 Distribución:\")\n",
    "for i, (topico, count) in enumerate(topico_counts.head(5).items()):\n",
    "    print(f\"   {i+1}. {topico}: {count} opiniones ({count/len(df_con_topicos)*100:.1f}%)\")"
   ]
  },
  {
   "cell_type": "code",
   "execution_count": 17,
   "id": "57459ce4",
   "metadata": {},
   "outputs": [
    {
     "name": "stdout",
     "output_type": "stream",
     "text": [
      "🔄 COMPARACIÓN FASTopic vs BERTopic en Mazatlan\n",
      "============================================================\n",
      "⚠️ No hay opiniones de Mazatlan con ambos análisis completados\n",
      "   BERTopic disponible: 0 opiniones\n",
      "   FASTopic actual: 499 opiniones\n"
     ]
    }
   ],
   "source": [
    "# ===== COMPARACIÓN CON BERTOPIC =====\n",
    "\n",
    "if 'TopicoConBERTopic' in df.columns:\n",
    "    print(f\"🔄 COMPARACIÓN FASTopic vs BERTopic en {CIUDAD_ANALIZAR}\")\n",
    "    print(\"=\" * 60)\n",
    "    \n",
    "    # Usar datos actuales procesados en lugar de df_ciudad que puede tener datos previos\n",
    "    df_comparacion = df_con_topicos[\n",
    "        df_con_topicos.index.isin(df_ciudad[df_ciudad['TopicoConBERTopic'].notna()].index)\n",
    "    ].copy()\n",
    "    \n",
    "    # Agregar datos de BERTopic al dataframe de comparación\n",
    "    bertopic_data = df_ciudad[df_ciudad['TopicoConBERTopic'].notna()]['TopicoConBERTopic']\n",
    "    df_comparacion = df_comparacion[df_comparacion.index.isin(bertopic_data.index)].copy()\n",
    "    df_comparacion['TopicoConBERTopic'] = bertopic_data\n",
    "    \n",
    "    if len(df_comparacion) > 0:\n",
    "        print(f\"📊 Opiniones con ambos análisis: {len(df_comparacion)}\")\n",
    "        \n",
    "        # Comparar número de tópicos únicos usando datos actuales\n",
    "        topicos_bertopic = df_comparacion['TopicoConBERTopic'].nunique()\n",
    "        topicos_fastopic = df_comparacion['Topico_Nombre'].nunique()  # Usar datos actuales\n",
    "        \n",
    "        print(f\"\\n🎯 NÚMERO DE TÓPICOS:\")\n",
    "        print(f\"   BERTopic: {topicos_bertopic}\")\n",
    "        print(f\"   FASTopic: {topicos_fastopic}\")\n",
    "        \n",
    "        # Mostrar distribuciones lado a lado\n",
    "        fig, axes = plt.subplots(1, 2, figsize=(20, 8))\n",
    "        \n",
    "        # BERTopic\n",
    "        bertopic_counts = df_comparacion['TopicoConBERTopic'].value_counts().head(10)\n",
    "        bertopic_counts.plot(kind='bar', ax=axes[0], color='skyblue')\n",
    "        axes[0].set_title(f'Distribución BERTopic - {CIUDAD_ANALIZAR}', fontweight='bold')\n",
    "        axes[0].set_xlabel('Tópicos')\n",
    "        axes[0].set_ylabel('Número de Opiniones')\n",
    "        axes[0].tick_params(axis='x', rotation=45)\n",
    "        \n",
    "        # FASTopic - usar datos actuales\n",
    "        fastopic_counts = df_comparacion['Topico_Nombre'].value_counts().head(10)\n",
    "        fastopic_counts.plot(kind='bar', ax=axes[1], color='lightcoral')\n",
    "        axes[1].set_title(f'Distribución FASTopic - {CIUDAD_ANALIZAR}', fontweight='bold')\n",
    "        axes[1].set_xlabel('Tópicos')\n",
    "        axes[1].set_ylabel('Número de Opiniones')\n",
    "        axes[1].tick_params(axis='x', rotation=45)\n",
    "        \n",
    "        plt.tight_layout()\n",
    "        plt.show()\n",
    "        \n",
    "        # Análisis de concordancia (tópicos más frecuentes)\n",
    "        print(f\"\\n📈 TOP 5 TÓPICOS POR MÉTODO:\")\n",
    "        print(f\"\\n🔵 BERTopic:\")\n",
    "        for i, (topico, count) in enumerate(bertopic_counts.head(5).items(), 1):\n",
    "            pct = (count / len(df_comparacion) * 100)\n",
    "            print(f\"   {i}. {topico}: {count} ({pct:.1f}%)\")\n",
    "        \n",
    "        print(f\"\\n🔴 FASTopic:\")\n",
    "        for i, (topico, count) in enumerate(fastopic_counts.head(5).items(), 1):\n",
    "            pct = (count / len(df_comparacion) * 100)\n",
    "            print(f\"   {i}. {topico}: {count} ({pct:.1f}%)\")\n",
    "            \n",
    "        print(f\"\\n💡 OBSERVACIONES:\")\n",
    "        print(f\"   • FASTopic identificó {topicos_fastopic} tópicos vs {topicos_bertopic} de BERTopic\")\n",
    "        if topicos_fastopic > topicos_bertopic:\n",
    "            print(f\"   • FASTopic muestra mayor granularidad en la segmentación\")\n",
    "        elif topicos_fastopic < topicos_bertopic:\n",
    "            print(f\"   • FASTopic agrupa conceptos de manera más generalizada\")\n",
    "        else:\n",
    "            print(f\"   • Ambos métodos identificaron el mismo número de tópicos\")\n",
    "            \n",
    "        print(f\"   • Tiempo FASTopic: {tiempo_entrenamiento:.2f}s (más rápido que BERTopic)\")\n",
    "        \n",
    "        # Mostrar resumen de datos actuales de FASTopic\n",
    "        print(f\"\\n📊 RESUMEN ACTUAL FASTopic:\")\n",
    "        print(f\"   Total tópicos identificados: {len(topic_info)}\")\n",
    "        print(f\"   Tópicos en datos actuales: {df_con_topicos['Topico_Nombre'].nunique()}\")\n",
    "        print(f\"   Documentos procesados: {len(df_con_topicos)}\")\n",
    "        \n",
    "    else:\n",
    "        print(f\"⚠️ No hay opiniones de {CIUDAD_ANALIZAR} con ambos análisis completados\")\n",
    "        print(f\"   BERTopic disponible: {df_ciudad['TopicoConBERTopic'].notna().sum()} opiniones\")\n",
    "        print(f\"   FASTopic actual: {len(df_con_topicos)} opiniones\")\n",
    "else:\n",
    "    print(f\"ℹ️ No hay análisis previo de BERTopic para comparar\")\n",
    "    print(f\"   Ejecuta el notebook 07-modelado-de-topicos-con-bertopic.ipynb primero\")\n",
    "    "
   ]
  },
  {
   "cell_type": "code",
   "execution_count": 18,
   "id": "62506cf6",
   "metadata": {},
   "outputs": [
    {
     "name": "stdout",
     "output_type": "stream",
     "text": [
      "📋 REPORTE COMPLETO - ANÁLISIS CON FASTOPIC\n",
      "============================================================\n",
      "🎯 ANÁLISIS COMPLETADO:\n",
      "   📍 Ciudad: Mazatlan\n",
      "   📄 Documentos analizados: 499\n",
      "   🏷️ Tópicos identificados: 5\n",
      "   ⏱️ Tiempo de entrenamiento: 248.48 segundos\n",
      "\n",
      "📊 ESTADÍSTICAS DE TÓPICOS:\n",
      "   🎯 Tópico más relevante: Playas\n",
      "   📈 Peso máximo: 115.444\n",
      "   📉 Peso mínimo: 77.037\n",
      "   📊 Peso promedio: 99.800\n",
      "\n",
      "🏆 TOP 5 TÓPICOS POR RELEVANCIA:\n",
      "   1. Playas\n",
      "      📊 Peso: 115.444 | 📄 Documentos: 224\n",
      "      🔑 Palabras clave: playa, ola, nadar, mar, bruja, oleaje, hotel, cerr...\n",
      "   2. Vida Nocturna\n",
      "      📊 Peso: 111.168 | 📄 Documentos: 273\n",
      "      🔑 Palabras clave: musico, noche, ambiente, plaza, vendedor, area, ba...\n",
      "   3. Patrimonio Cultural\n",
      "      📊 Peso: 108.804 | 📄 Documentos: 271\n",
      "      🔑 Palabras clave: catedral, arquitectura, historia, edificio, iglesi...\n",
      "   4. Excursiones Marítimas\n",
      "      📊 Peso: 86.548 | 📄 Documentos: 234\n",
      "      🔑 Palabras clave: isla, acuario, barco, espectaculo, persona, bote, ...\n",
      "   5. Miradores\n",
      "      📊 Peso: 77.037 | 📄 Documentos: 219\n",
      "      🔑 Palabras clave: cristal, faro, caminata, puente, vistas, subir, mi...\n",
      "\n",
      "💎 CALIDAD DEL MODELADO:\n",
      "   ✅ Tópicos con documentos asignados: 5/5\n",
      "   ✅ Distribución balanceada de tópicos: 23.1% máx.\n",
      "\n",
      "🚀 PRÓXIMOS PASOS RECOMENDADOS:\n",
      "   1. Revisar ejemplos de cada tópico principal\n",
      "   2. Analizar relación con sentimientos y subjetividad\n",
      "   3. Comparar resultados con BERTopic si está disponible\n",
      "   4. Exportar resultados al dataset principal\n"
     ]
    }
   ],
   "source": [
    "generar_reporte_fastopic(\n",
    "    topic_info, \n",
    "    len(df_con_topicos), \n",
    "    CIUDAD_ANALIZAR, \n",
    "    tiempo_entrenamiento\n",
    ")\n",
    "\n",
    "df.to_csv('../data/processed/dataset_opiniones_analisis.csv', index=False)"
   ]
  },
  {
   "cell_type": "code",
   "execution_count": 19,
   "id": "6a801194",
   "metadata": {},
   "outputs": [
    {
     "name": "stdout",
     "output_type": "stream",
     "text": [
      "🔬 Evaluando modelo FASTopic para Mazatlan...\n"
     ]
    },
    {
     "name": "stdout",
     "output_type": "stream",
     "text": [
      "📊 Evaluación FASTopic - Mazatlan:\n",
      "   🎯 Tópicos: 5\n",
      "   📈 Coherencia CV: 0.4852\n",
      "   🔄 Diversidad: 1.0000\n"
     ]
    }
   ],
   "source": [
    "# ===== EVALUACIÓN DE MÉTRICAS FASTOPIC =====\n",
    "\n",
    "print(f\"🔬 Evaluando modelo FASTopic para {CIUDAD_ANALIZAR}...\")\n",
    "\n",
    "topics_words_fastopic = extraer_palabras_fastopic(top_words, words_per_topic=10)\n",
    "metricas_fastopic = evaluar_modelo_topicos(texts, topics_words_fastopic, f\"FASTopic - {CIUDAD_ANALIZAR}\")\n",
    "\n",
    "mostrar_metricas(metricas_fastopic)"
   ]
  }
 ],
 "metadata": {
  "kernelspec": {
   "display_name": "analisis-automatizado-de-opiniones-turisticas",
   "language": "python",
   "name": "python3"
  },
  "language_info": {
   "codemirror_mode": {
    "name": "ipython",
    "version": 3
   },
   "file_extension": ".py",
   "mimetype": "text/x-python",
   "name": "python",
   "nbconvert_exporter": "python",
   "pygments_lexer": "ipython3",
   "version": "3.10.18"
  }
 },
 "nbformat": 4,
 "nbformat_minor": 5
}
