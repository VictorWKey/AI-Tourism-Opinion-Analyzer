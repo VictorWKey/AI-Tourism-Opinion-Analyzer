{
 "cells": [
  {
   "cell_type": "code",
   "execution_count": 1,
   "id": "0b114faf",
   "metadata": {},
   "outputs": [
    {
     "name": "stdout",
     "output_type": "stream",
     "text": [
      "✓ TOKENIZERS_PARALLELISM configurado a 'false' para evitar warnings\n",
      "✓ Configuración de warnings completada\n"
     ]
    }
   ],
   "source": [
    "import os\n",
    "import warnings\n",
    "\n",
    "os.environ[\"TOKENIZERS_PARALLELISM\"] = \"false\"\n",
    "print(\"✓ TOKENIZERS_PARALLELISM configurado a 'false' para evitar warnings\")\n",
    "\n",
    "warnings.filterwarnings(\"ignore\", category=FutureWarning)\n",
    "warnings.filterwarnings(\"ignore\", category=UserWarning, module=\"transformers\")\n",
    "\n",
    "print(\"✓ Configuración de warnings completada\")"
   ]
  },
  {
   "cell_type": "markdown",
   "id": "8d25143e",
   "metadata": {},
   "source": [
    "# Modelado de Tópicos con FASTopic\n",
    "\n",
    "Este notebook implementa un análisis de tópicos usando FASTopic sobre las opiniones turísticas clasificadas. Utiliza LangChain con GPT-4o-mini para asignar nombres semánticamente coherentes a los tópicos identificados y compara resultados con BERTopic."
   ]
  },
  {
   "cell_type": "code",
   "execution_count": 2,
   "id": "3030ec8f",
   "metadata": {},
   "outputs": [
    {
     "name": "stdout",
     "output_type": "stream",
     "text": [
      "✓ Modelo spaCy español cargado\n",
      "✓ Modelo spaCy inglés cargado\n",
      "✓ Modelo spaCy inglés cargado\n",
      "✓ Modelo spaCy portugués cargado\n",
      "✓ Modelo spaCy portugués cargado\n",
      "✓ Modelo spaCy francés cargado\n",
      "✓ Modelo spaCy francés cargado\n",
      "✓ Modelo spaCy italiano cargado\n",
      "Descargando wordnet...\n",
      "✓ Modelo spaCy italiano cargado\n",
      "Descargando wordnet...\n"
     ]
    },
    {
     "name": "stderr",
     "output_type": "stream",
     "text": [
      "[nltk_data] Downloading package wordnet to\n",
      "[nltk_data]     /home/victorwkey/nltk_data...\n",
      "[nltk_data]   Package wordnet is already up-to-date!\n"
     ]
    }
   ],
   "source": [
    "import pandas as pd\n",
    "import numpy as np\n",
    "import matplotlib.pyplot as plt\n",
    "import seaborn as sns\n",
    "import time\n",
    "import os\n",
    "import sys\n",
    "from dotenv import load_dotenv\n",
    "\n",
    "sys.path.append('../scripts')\n",
    "\n",
    "from topicos import (\n",
    "    configurar_clasificador_topicos, \n",
    "    configurar_fastopic_inteligente,\n",
    "    LimpiadorTextoMejorado, \n",
    "    mostrar_ejemplos_limpieza,\n",
    "    evaluar_modelo_topicos,\n",
    "    extraer_palabras_fastopic,\n",
    "    mostrar_metricas\n",
    ")\n",
    "\n",
    "from topicos.utils_topicos import (\n",
    "    procesar_topicos_fastopic,\n",
    "    obtener_asignaciones_topicos_fastopic,\n",
    "    visualizar_distribucion_topicos_fastopic,\n",
    "    mostrar_ejemplos_por_topico_fastopic,\n",
    "    generar_reporte_fastopic\n",
    ")\n",
    "\n",
    "load_dotenv()\n",
    "\n",
    "plt.style.use('seaborn-v0_8')\n",
    "sns.set_palette(\"husl\")"
   ]
  },
  {
   "cell_type": "code",
   "execution_count": 3,
   "id": "244d4041",
   "metadata": {},
   "outputs": [],
   "source": [
    "clasificador_topicos = configurar_clasificador_topicos()"
   ]
  },
  {
   "cell_type": "code",
   "execution_count": 4,
   "id": "c4025566",
   "metadata": {},
   "outputs": [
    {
     "name": "stdout",
     "output_type": "stream",
     "text": [
      "Dataset cargado: 2464 opiniones\n",
      "Distribución total por ciudad:\n",
      "Ciudad\n",
      "Puebla             500\n",
      "Mazatlan           500\n",
      "Puerto_vallarta    491\n",
      "Cdmx               490\n",
      "Cancun             483\n",
      "Name: count, dtype: int64\n"
     ]
    }
   ],
   "source": [
    "CIUDAD_ANALIZAR = \"Cdmx\"\n",
    "df = pd.read_csv('../data/processed/dataset_opiniones_analisis.csv')\n",
    "\n",
    "if 'TopicoConFASTopic' not in df.columns:\n",
    "    df['TopicoConFASTopic'] = np.nan\n",
    "\n",
    "print(f\"Dataset cargado: {df.shape[0]} opiniones\")\n",
    "print(f\"Distribución total por ciudad:\")\n",
    "print(df['Ciudad'].value_counts())\n",
    "\n",
    "df_ciudad = df[df['Ciudad'] == CIUDAD_ANALIZAR].copy()\n",
    "\n",
    "columna_texto = 'TituloReviewLimpio'\n",
    "\n",
    "texts = df_ciudad[columna_texto].dropna().tolist()"
   ]
  },
  {
   "cell_type": "code",
   "execution_count": 5,
   "id": "9f207354",
   "metadata": {},
   "outputs": [],
   "source": [
    "columna_limpia = \"TituloReviewLimpio\"\n",
    "\n",
    "limpiar_de_nuevo = False\n",
    "\n",
    "if columna_limpia not in df.columns or limpiar_de_nuevo:\n",
    "    limpiador = LimpiadorTextoMejorado(idiomas=['spanish', 'english'])\n",
    "    \n",
    "    df = limpiador.limpiar_dataframe(\n",
    "        df,\n",
    "        columna_texto='TituloReview',\n",
    "        nombre_columna_limpia=columna_limpia,\n",
    "        aplicar_traduccion=True,\n",
    "        filtrar_adjetivos=True,  # Nueva opción para filtrar adjetivos\n",
    "        aplicar_lematizacion=True,\n",
    "        min_longitud_palabra=2,\n",
    "        max_palabras=None\n",
    "    )\n",
    "    \n",
    "    df.to_csv('../data/processed/dataset_opiniones_analisis.csv', index=False)\n",
    "\n",
    "df_ciudad = df[df['Ciudad'] == CIUDAD_ANALIZAR].copy()\n",
    "texts = df_ciudad[columna_texto].dropna().tolist()"
   ]
  },
  {
   "cell_type": "code",
   "execution_count": 6,
   "id": "0d39a4e0",
   "metadata": {},
   "outputs": [
    {
     "name": "stderr",
     "output_type": "stream",
     "text": [
      "2025-09-22 16:13:54,966 - FASTopic - use device: cpu\n"
     ]
    },
    {
     "name": "stdout",
     "output_type": "stream",
     "text": [
      "🤖 Configuración automática de FASTopic completada\n",
      "\n",
      "📊 CONFIGURACIÓN AUTOMÁTICA DE FASTOPIC\n",
      "==================================================\n",
      "\n",
      "📈 Análisis del Corpus:\n",
      "  📄 Documentos: 490\n",
      "  📝 Palabras promedio por doc: 53.1\n",
      "  🔤 Vocabulario único: 2,415\n",
      "\n",
      "🎯 Configuración:\n",
      "  🏷️ Número de tópicos: 7\n",
      "  📚 Tamaño vocabulario: 2,415\n",
      "  🌍 Modelo embeddings: paraphrase-multilingual-MiniLM-L12-v2\n",
      "  🔧 Tokenizer: Multiidioma (ES, EN, PT, FR, IT)\n",
      "\n"
     ]
    }
   ],
   "source": [
    "topic_model, reporte_optimizacion = configurar_fastopic_inteligente(texts)\n",
    "    \n",
    "print(\"🤖 Configuración automática de FASTopic completada\")\n",
    "print(reporte_optimizacion)"
   ]
  },
  {
   "cell_type": "code",
   "execution_count": 7,
   "id": "c866e8a6",
   "metadata": {},
   "outputs": [
    {
     "name": "stderr",
     "output_type": "stream",
     "text": [
      "2025-09-22 16:13:54,983 - FASTopic - First fit the model.\n"
     ]
    },
    {
     "name": "stdout",
     "output_type": "stream",
     "text": [
      "\n",
      "🚀 Entrenando modelo FASTopic...\n"
     ]
    },
    {
     "name": "stderr",
     "output_type": "stream",
     "text": [
      "loading train texts: 100%|██████████| 490/490 [00:08<00:00, 61.13it/s]\n",
      "loading train texts: 100%|██████████| 490/490 [00:08<00:00, 61.13it/s]\n",
      "parsing texts: 100%|██████████| 490/490 [00:07<00:00, 66.59it/s]\n",
      "2025-09-22 16:14:13,651 - TopMost - Real vocab size: 477\n",
      "2025-09-22 16:14:13,652 - TopMost - Real training size: 490 \t avg length: 14.951\n",
      "parsing texts: 100%|██████████| 490/490 [00:07<00:00, 66.59it/s]\n",
      "2025-09-22 16:14:13,651 - TopMost - Real vocab size: 477\n",
      "2025-09-22 16:14:13,652 - TopMost - Real training size: 490 \t avg length: 14.951\n"
     ]
    },
    {
     "data": {
      "application/vnd.jupyter.widget-view+json": {
       "model_id": "48bae12ed7244a7d9b0ba8bda4a3e95e",
       "version_major": 2,
       "version_minor": 0
      },
      "text/plain": [
       "Batches:   0%|          | 0/16 [00:00<?, ?it/s]"
      ]
     },
     "metadata": {},
     "output_type": "display_data"
    },
    {
     "name": "stderr",
     "output_type": "stream",
     "text": [
      "Training FASTopic:   2%|▎         | 5/200 [00:00<00:04, 43.20it/s]2025-09-22 16:14:22,971 - FASTopic - Epoch: 010 loss: 102.696\n",
      "Training FASTopic:   5%|▌         | 10/200 [00:00<00:05, 34.08it/s]2025-09-22 16:14:22,971 - FASTopic - Epoch: 010 loss: 102.696\n",
      "Training FASTopic:   9%|▉         | 18/200 [00:00<00:05, 30.80it/s]2025-09-22 16:14:23,315 - FASTopic - Epoch: 020 loss: 98.806\n",
      "2025-09-22 16:14:23,315 - FASTopic - Epoch: 020 loss: 98.806\n",
      "Training FASTopic:  14%|█▍        | 29/200 [00:00<00:05, 28.76it/s]2025-09-22 16:14:23,674 - FASTopic - Epoch: 030 loss: 96.406\n",
      "2025-09-22 16:14:23,674 - FASTopic - Epoch: 030 loss: 96.406\n",
      "Training FASTopic:  20%|█▉        | 39/200 [00:01<00:05, 28.42it/s]2025-09-22 16:14:24,032 - FASTopic - Epoch: 040 loss: 94.865\n",
      "2025-09-22 16:14:24,032 - FASTopic - Epoch: 040 loss: 94.865\n",
      "Training FASTopic:  24%|██▍       | 49/200 [00:01<00:05, 28.65it/s]2025-09-22 16:14:24,395 - FASTopic - Epoch: 050 loss: 93.725\n",
      "2025-09-22 16:14:24,395 - FASTopic - Epoch: 050 loss: 93.725\n",
      "Training FASTopic:  29%|██▉       | 58/200 [00:02<00:05, 26.66it/s]2025-09-22 16:14:24,774 - FASTopic - Epoch: 060 loss: 92.809\n",
      "2025-09-22 16:14:24,774 - FASTopic - Epoch: 060 loss: 92.809\n",
      "Training FASTopic:  34%|███▎      | 67/200 [00:02<00:05, 26.14it/s]2025-09-22 16:14:25,146 - FASTopic - Epoch: 070 loss: 92.043\n",
      "2025-09-22 16:14:25,146 - FASTopic - Epoch: 070 loss: 92.043\n",
      "Training FASTopic:  38%|███▊      | 77/200 [00:02<00:04, 27.31it/s]2025-09-22 16:14:25,510 - FASTopic - Epoch: 080 loss: 91.396\n",
      "Training FASTopic:  40%|████      | 80/200 [00:02<00:04, 27.74it/s]2025-09-22 16:14:25,510 - FASTopic - Epoch: 080 loss: 91.396\n",
      "Training FASTopic:  44%|████▎     | 87/200 [00:03<00:04, 27.91it/s]2025-09-22 16:14:25,873 - FASTopic - Epoch: 090 loss: 90.837\n",
      "Training FASTopic:  45%|████▌     | 90/200 [00:03<00:04, 27.39it/s]2025-09-22 16:14:25,873 - FASTopic - Epoch: 090 loss: 90.837\n",
      "Training FASTopic:  48%|████▊     | 96/200 [00:03<00:03, 27.13it/s]2025-09-22 16:14:26,230 - FASTopic - Epoch: 100 loss: 90.343\n",
      "Training FASTopic:  50%|█████     | 100/200 [00:03<00:03, 28.21it/s]2025-09-22 16:14:26,230 - FASTopic - Epoch: 100 loss: 90.343\n",
      "Training FASTopic:  55%|█████▍    | 109/200 [00:03<00:03, 25.88it/s]2025-09-22 16:14:26,630 - FASTopic - Epoch: 110 loss: 89.898\n",
      "2025-09-22 16:14:26,630 - FASTopic - Epoch: 110 loss: 89.898\n",
      "Training FASTopic:  59%|█████▉    | 118/200 [00:04<00:03, 24.85it/s]2025-09-22 16:14:27,038 - FASTopic - Epoch: 120 loss: 89.490\n",
      "2025-09-22 16:14:27,038 - FASTopic - Epoch: 120 loss: 89.490\n",
      "Training FASTopic:  64%|██████▍   | 128/200 [00:04<00:02, 25.80it/s]2025-09-22 16:14:27,412 - FASTopic - Epoch: 130 loss: 89.113\n",
      "2025-09-22 16:14:27,412 - FASTopic - Epoch: 130 loss: 89.113\n",
      "Training FASTopic:  68%|██████▊   | 137/200 [00:05<00:02, 25.60it/s]2025-09-22 16:14:27,790 - FASTopic - Epoch: 140 loss: 88.764\n",
      "2025-09-22 16:14:27,790 - FASTopic - Epoch: 140 loss: 88.764\n",
      "Training FASTopic:  74%|███████▍  | 148/200 [00:05<00:01, 27.54it/s]2025-09-22 16:14:28,155 - FASTopic - Epoch: 150 loss: 88.438\n",
      "2025-09-22 16:14:28,155 - FASTopic - Epoch: 150 loss: 88.438\n",
      "Training FASTopic:  79%|███████▉  | 158/200 [00:05<00:01, 26.93it/s]2025-09-22 16:14:28,506 - FASTopic - Epoch: 160 loss: 88.136\n",
      "2025-09-22 16:14:28,506 - FASTopic - Epoch: 160 loss: 88.136\n",
      "Training FASTopic:  84%|████████▍ | 168/200 [00:06<00:01, 26.75it/s]2025-09-22 16:14:28,893 - FASTopic - Epoch: 170 loss: 87.852\n",
      "2025-09-22 16:14:28,893 - FASTopic - Epoch: 170 loss: 87.852\n",
      "Training FASTopic:  88%|████████▊ | 177/200 [00:06<00:00, 26.46it/s]2025-09-22 16:14:29,275 - FASTopic - Epoch: 180 loss: 87.588\n",
      "Training FASTopic:  90%|█████████ | 180/200 [00:06<00:00, 26.39it/s]2025-09-22 16:14:29,275 - FASTopic - Epoch: 180 loss: 87.588\n",
      "Training FASTopic:  94%|█████████▍| 189/200 [00:06<00:00, 24.73it/s]2025-09-22 16:14:29,698 - FASTopic - Epoch: 190 loss: 87.342\n",
      "2025-09-22 16:14:29,698 - FASTopic - Epoch: 190 loss: 87.342\n",
      "Training FASTopic:  99%|█████████▉| 198/200 [00:07<00:00, 25.67it/s]2025-09-22 16:14:30,069 - FASTopic - Epoch: 200 loss: 87.108\n",
      "Training FASTopic: 100%|██████████| 200/200 [00:07<00:00, 27.09it/s]2025-09-22 16:14:30,069 - FASTopic - Epoch: 200 loss: 87.108\n",
      "Training FASTopic: 100%|██████████| 200/200 [00:07<00:00, 27.09it/s]"
     ]
    },
    {
     "name": "stdout",
     "output_type": "stream",
     "text": [
      "Topic 0: fri casa vida cultura lugar tour guia recomeir co contar visitar pintor contratar disfru tiempo\n",
      "Topic 1: castillo templo catedral ruina chap palacio constitucion bandera mirar senal parque excavación plaza dolar ten\n",
      "Topic 2: animal acu grupo cuidado actividad servicio personal promo exper fila horario nino chico edad pareja\n",
      "Topic 3: bas misa guadalupe iglesia virgen imagen capilla fe milagro importancia subir cambio colina altar cima\n",
      "Topic 4: mural rivera interior diego art artista artes obra escultura dec ocasion exterior david epoca exposicion\n",
      "Topic 5: restaurante tienda calle mercado plaza comida octubre comp hotel cola 5 linea oficina semana vendedor\n",
      "Topic 6: museo coleccion pieza entrada piso arte planta espanol antrop hora trav obra encontrar colección deber\n",
      "✅ Entrenamiento completado en 35.10 segundos\n"
     ]
    },
    {
     "name": "stderr",
     "output_type": "stream",
     "text": [
      "\n"
     ]
    }
   ],
   "source": [
    "print(\"\\n🚀 Entrenando modelo FASTopic...\")\n",
    "inicio_entrenamiento = time.time()\n",
    "\n",
    "top_words, doc_topic_dist = topic_model.fit_transform(texts, epochs=200)\n",
    "\n",
    "tiempo_entrenamiento = time.time() - inicio_entrenamiento\n",
    "print(f\"✅ Entrenamiento completado en {tiempo_entrenamiento:.2f} segundos\")"
   ]
  },
  {
   "cell_type": "code",
   "execution_count": 8,
   "id": "48b58ea5",
   "metadata": {},
   "outputs": [
    {
     "name": "stdout",
     "output_type": "stream",
     "text": [
      "Documento 1: [0.09 | 0.19 | 0.43 | 0.14 | 0.01 | 0.10 | 0.04] -> Tópicos seleccionados: [2, 1], Umbral: 0.174\n",
      "Documento 2: [0.15 | 0.32 | 0.03 | 0.24 | 0.13 | 0.05 | 0.07] -> Tópicos seleccionados: [1, 3], Umbral: 0.174\n",
      "Documento 3: [0.10 | 0.18 | 0.22 | 0.37 | 0.06 | 0.05 | 0.02] -> Tópicos seleccionados: [3, 2, 1], Umbral: 0.174\n",
      "Documento 4: [0.10 | 0.48 | 0.03 | 0.10 | 0.22 | 0.02 | 0.04] -> Tópicos seleccionados: [1, 4], Umbral: 0.174\n",
      "Documento 5: [0.11 | 0.74 | 0.01 | 0.04 | 0.03 | 0.04 | 0.02] -> Tópicos seleccionados: [1], Umbral: 0.174\n",
      "Documento 6: [0.15 | 0.51 | 0.02 | 0.10 | 0.13 | 0.05 | 0.04] -> Tópicos seleccionados: [1], Umbral: 0.174\n",
      "Documento 7: [0.12 | 0.35 | 0.06 | 0.29 | 0.11 | 0.03 | 0.03] -> Tópicos seleccionados: [1, 3], Umbral: 0.174\n",
      "Documento 8: [0.23 | 0.36 | 0.04 | 0.04 | 0.06 | 0.21 | 0.06] -> Tópicos seleccionados: [1, 0, 5], Umbral: 0.174\n",
      "Documento 9: [0.01 | 0.00 | 0.92 | 0.03 | 0.00 | 0.03 | 0.01] -> Tópicos seleccionados: [2], Umbral: 0.174\n",
      "Documento 10: [0.02 | 0.16 | 0.02 | 0.32 | 0.44 | 0.02 | 0.02] -> Tópicos seleccionados: [4, 3], Umbral: 0.174\n",
      "Documento 11: [0.04 | 0.60 | 0.00 | 0.01 | 0.18 | 0.03 | 0.14] -> Tópicos seleccionados: [1, 4], Umbral: 0.174\n",
      "Documento 12: [0.14 | 0.07 | 0.31 | 0.31 | 0.07 | 0.07 | 0.03] -> Tópicos seleccionados: [3, 2], Umbral: 0.174\n",
      "Documento 13: [0.13 | 0.04 | 0.36 | 0.07 | 0.05 | 0.07 | 0.28] -> Tópicos seleccionados: [2, 6], Umbral: 0.174\n",
      "Documento 14: [0.08 | 0.23 | 0.02 | 0.05 | 0.50 | 0.05 | 0.08] -> Tópicos seleccionados: [4, 1], Umbral: 0.174\n",
      "Documento 15: [0.11 | 0.21 | 0.24 | 0.13 | 0.11 | 0.10 | 0.11] -> Tópicos seleccionados: [2, 1], Umbral: 0.174\n",
      "Documento 16: [0.22 | 0.52 | 0.04 | 0.08 | 0.06 | 0.05 | 0.03] -> Tópicos seleccionados: [1, 0], Umbral: 0.174\n",
      "Documento 17: [0.05 | 0.47 | 0.02 | 0.12 | 0.16 | 0.04 | 0.15] -> Tópicos seleccionados: [1], Umbral: 0.174\n",
      "Documento 18: [0.16 | 0.37 | 0.02 | 0.12 | 0.16 | 0.11 | 0.06] -> Tópicos seleccionados: [1], Umbral: 0.174\n",
      "Documento 19: [0.39 | 0.11 | 0.15 | 0.16 | 0.04 | 0.14 | 0.01] -> Tópicos seleccionados: [0], Umbral: 0.174\n",
      "Documento 20: [0.13 | 0.39 | 0.08 | 0.13 | 0.17 | 0.07 | 0.03] -> Tópicos seleccionados: [1, 4], Umbral: 0.174\n",
      "Documento 21: [0.08 | 0.35 | 0.13 | 0.21 | 0.11 | 0.09 | 0.03] -> Tópicos seleccionados: [1, 3], Umbral: 0.174\n",
      "Documento 22: [0.38 | 0.07 | 0.31 | 0.11 | 0.01 | 0.09 | 0.03] -> Tópicos seleccionados: [0, 2], Umbral: 0.174\n",
      "Documento 23: [0.10 | 0.67 | 0.02 | 0.06 | 0.03 | 0.09 | 0.02] -> Tópicos seleccionados: [1], Umbral: 0.174\n",
      "Documento 24: [0.09 | 0.18 | 0.09 | 0.44 | 0.11 | 0.06 | 0.03] -> Tópicos seleccionados: [3, 1], Umbral: 0.174\n",
      "Documento 25: [0.52 | 0.23 | 0.05 | 0.12 | 0.02 | 0.03 | 0.03] -> Tópicos seleccionados: [0, 1], Umbral: 0.174\n",
      "Documento 26: [0.08 | 0.12 | 0.02 | 0.14 | 0.56 | 0.04 | 0.04] -> Tópicos seleccionados: [4], Umbral: 0.174\n",
      "Documento 27: [0.40 | 0.06 | 0.09 | 0.16 | 0.10 | 0.08 | 0.09] -> Tópicos seleccionados: [0], Umbral: 0.174\n",
      "Documento 28: [0.01 | 0.47 | 0.00 | 0.02 | 0.39 | 0.06 | 0.05] -> Tópicos seleccionados: [1, 4], Umbral: 0.174\n",
      "Documento 29: [0.04 | 0.58 | 0.00 | 0.02 | 0.24 | 0.02 | 0.09] -> Tópicos seleccionados: [1, 4], Umbral: 0.174\n",
      "Documento 30: [0.21 | 0.10 | 0.25 | 0.18 | 0.02 | 0.15 | 0.08] -> Tópicos seleccionados: [2, 0, 3], Umbral: 0.174\n",
      "Documento 31: [0.05 | 0.48 | 0.00 | 0.07 | 0.28 | 0.07 | 0.05] -> Tópicos seleccionados: [1, 4], Umbral: 0.174\n",
      "Documento 32: [0.07 | 0.49 | 0.04 | 0.11 | 0.13 | 0.03 | 0.12] -> Tópicos seleccionados: [1], Umbral: 0.174\n",
      "Documento 33: [0.05 | 0.67 | 0.00 | 0.02 | 0.11 | 0.03 | 0.12] -> Tópicos seleccionados: [1], Umbral: 0.174\n",
      "Documento 34: [0.05 | 0.43 | 0.04 | 0.11 | 0.13 | 0.08 | 0.16] -> Tópicos seleccionados: [1], Umbral: 0.174\n",
      "Documento 35: [0.07 | 0.42 | 0.02 | 0.28 | 0.12 | 0.05 | 0.04] -> Tópicos seleccionados: [1, 3], Umbral: 0.174\n",
      "Documento 36: [0.06 | 0.32 | 0.09 | 0.26 | 0.11 | 0.07 | 0.10] -> Tópicos seleccionados: [1, 3], Umbral: 0.174\n",
      "Documento 37: [0.04 | 0.54 | 0.05 | 0.13 | 0.14 | 0.07 | 0.03] -> Tópicos seleccionados: [1], Umbral: 0.174\n",
      "Documento 38: [0.05 | 0.15 | 0.12 | 0.10 | 0.08 | 0.39 | 0.10] -> Tópicos seleccionados: [5], Umbral: 0.174\n",
      "Documento 39: [0.07 | 0.54 | 0.01 | 0.07 | 0.07 | 0.07 | 0.18] -> Tópicos seleccionados: [1, 6], Umbral: 0.174\n",
      "Documento 40: [0.02 | 0.46 | 0.01 | 0.04 | 0.15 | 0.08 | 0.24] -> Tópicos seleccionados: [1, 6], Umbral: 0.174\n",
      "Documento 41: [0.05 | 0.48 | 0.03 | 0.21 | 0.07 | 0.12 | 0.03] -> Tópicos seleccionados: [1, 3], Umbral: 0.174\n",
      "Documento 42: [0.26 | 0.07 | 0.10 | 0.13 | 0.05 | 0.25 | 0.15] -> Tópicos seleccionados: [0, 5], Umbral: 0.174\n",
      "Documento 43: [0.30 | 0.09 | 0.07 | 0.07 | 0.09 | 0.19 | 0.19] -> Tópicos seleccionados: [0, 6, 5], Umbral: 0.174\n",
      "Documento 44: [0.08 | 0.52 | 0.01 | 0.04 | 0.07 | 0.06 | 0.23] -> Tópicos seleccionados: [1, 6], Umbral: 0.174\n",
      "Documento 45: [0.01 | 0.66 | 0.01 | 0.12 | 0.10 | 0.08 | 0.02] -> Tópicos seleccionados: [1], Umbral: 0.174\n",
      "Documento 46: [0.24 | 0.08 | 0.32 | 0.14 | 0.11 | 0.08 | 0.02] -> Tópicos seleccionados: [2, 0], Umbral: 0.174\n",
      "Documento 47: [0.15 | 0.14 | 0.32 | 0.20 | 0.08 | 0.09 | 0.03] -> Tópicos seleccionados: [2, 3], Umbral: 0.174\n",
      "Documento 48: [0.09 | 0.10 | 0.10 | 0.07 | 0.04 | 0.11 | 0.49] -> Tópicos seleccionados: [6], Umbral: 0.174\n",
      "Documento 49: [0.05 | 0.55 | 0.05 | 0.13 | 0.05 | 0.15 | 0.02] -> Tópicos seleccionados: [1], Umbral: 0.174\n",
      "Documento 50: [0.03 | 0.78 | 0.00 | 0.02 | 0.05 | 0.05 | 0.06] -> Tópicos seleccionados: [1], Umbral: 0.174\n",
      "Documento 51: [0.19 | 0.21 | 0.03 | 0.05 | 0.03 | 0.20 | 0.29] -> Tópicos seleccionados: [6, 1, 5], Umbral: 0.174\n",
      "Documento 52: [0.09 | 0.41 | 0.02 | 0.06 | 0.11 | 0.06 | 0.25] -> Tópicos seleccionados: [1, 6], Umbral: 0.174\n",
      "Documento 53: [0.14 | 0.51 | 0.01 | 0.07 | 0.06 | 0.03 | 0.18] -> Tópicos seleccionados: [1, 6], Umbral: 0.174\n",
      "Documento 54: [0.23 | 0.05 | 0.26 | 0.02 | 0.02 | 0.11 | 0.31] -> Tópicos seleccionados: [6, 2, 0], Umbral: 0.174\n",
      "Documento 55: [0.17 | 0.26 | 0.00 | 0.03 | 0.06 | 0.03 | 0.46] -> Tópicos seleccionados: [6, 1], Umbral: 0.174\n",
      "Documento 56: [0.06 | 0.04 | 0.04 | 0.03 | 0.16 | 0.09 | 0.59] -> Tópicos seleccionados: [6], Umbral: 0.174\n",
      "Documento 57: [0.13 | 0.30 | 0.03 | 0.09 | 0.10 | 0.04 | 0.31] -> Tópicos seleccionados: [6, 1], Umbral: 0.174\n",
      "Documento 58: [0.12 | 0.07 | 0.08 | 0.10 | 0.17 | 0.06 | 0.40] -> Tópicos seleccionados: [6], Umbral: 0.174\n",
      "Documento 59: [0.16 | 0.24 | 0.02 | 0.04 | 0.10 | 0.06 | 0.39] -> Tópicos seleccionados: [6, 1], Umbral: 0.174\n",
      "Documento 60: [0.10 | 0.13 | 0.04 | 0.05 | 0.06 | 0.09 | 0.52] -> Tópicos seleccionados: [6], Umbral: 0.174\n",
      "Documento 61: [0.02 | 0.88 | 0.00 | 0.02 | 0.03 | 0.04 | 0.01] -> Tópicos seleccionados: [1], Umbral: 0.174\n",
      "Documento 62: [0.24 | 0.15 | 0.04 | 0.06 | 0.12 | 0.08 | 0.31] -> Tópicos seleccionados: [6, 0], Umbral: 0.174\n",
      "Documento 63: [0.08 | 0.26 | 0.03 | 0.19 | 0.06 | 0.12 | 0.26] -> Tópicos seleccionados: [6, 1, 3], Umbral: 0.174\n",
      "Documento 64: [0.09 | 0.42 | 0.00 | 0.04 | 0.13 | 0.04 | 0.29] -> Tópicos seleccionados: [1, 6], Umbral: 0.174\n",
      "Documento 65: [0.03 | 0.36 | 0.03 | 0.06 | 0.14 | 0.17 | 0.22] -> Tópicos seleccionados: [1, 6], Umbral: 0.174\n",
      "Documento 66: [0.44 | 0.13 | 0.13 | 0.15 | 0.06 | 0.06 | 0.03] -> Tópicos seleccionados: [0], Umbral: 0.174\n",
      "Documento 67: [0.09 | 0.05 | 0.03 | 0.03 | 0.12 | 0.07 | 0.62] -> Tópicos seleccionados: [6], Umbral: 0.174\n",
      "Documento 68: [0.08 | 0.23 | 0.03 | 0.16 | 0.16 | 0.05 | 0.29] -> Tópicos seleccionados: [6, 1], Umbral: 0.174\n",
      "Documento 69: [0.10 | 0.05 | 0.03 | 0.03 | 0.10 | 0.05 | 0.63] -> Tópicos seleccionados: [6], Umbral: 0.174\n",
      "Documento 70: [0.07 | 0.17 | 0.04 | 0.09 | 0.08 | 0.13 | 0.42] -> Tópicos seleccionados: [6], Umbral: 0.174\n",
      "Documento 71: [0.17 | 0.06 | 0.38 | 0.21 | 0.05 | 0.08 | 0.04] -> Tópicos seleccionados: [2, 3], Umbral: 0.174\n",
      "Documento 72: [0.07 | 0.37 | 0.01 | 0.11 | 0.10 | 0.04 | 0.31] -> Tópicos seleccionados: [1, 6], Umbral: 0.174\n",
      "Documento 73: [0.19 | 0.50 | 0.01 | 0.21 | 0.04 | 0.02 | 0.03] -> Tópicos seleccionados: [1, 3, 0], Umbral: 0.174\n",
      "Documento 74: [0.11 | 0.23 | 0.04 | 0.15 | 0.09 | 0.06 | 0.32] -> Tópicos seleccionados: [6, 1], Umbral: 0.174\n",
      "Documento 75: [0.14 | 0.07 | 0.08 | 0.05 | 0.06 | 0.03 | 0.55] -> Tópicos seleccionados: [6], Umbral: 0.174\n",
      "Documento 76: [0.20 | 0.07 | 0.46 | 0.11 | 0.06 | 0.04 | 0.06] -> Tópicos seleccionados: [2, 0], Umbral: 0.174\n",
      "Documento 77: [0.03 | 0.76 | 0.00 | 0.04 | 0.07 | 0.04 | 0.06] -> Tópicos seleccionados: [1], Umbral: 0.174\n",
      "Documento 78: [0.13 | 0.12 | 0.08 | 0.12 | 0.05 | 0.09 | 0.40] -> Tópicos seleccionados: [6], Umbral: 0.174\n",
      "Documento 79: [0.29 | 0.13 | 0.02 | 0.05 | 0.17 | 0.06 | 0.27] -> Tópicos seleccionados: [0, 6, 4], Umbral: 0.174\n",
      "Documento 80: [0.02 | 0.05 | 0.01 | 0.02 | 0.30 | 0.03 | 0.57] -> Tópicos seleccionados: [6, 4], Umbral: 0.174\n",
      "Documento 81: [0.30 | 0.28 | 0.02 | 0.03 | 0.13 | 0.08 | 0.16] -> Tópicos seleccionados: [0, 1], Umbral: 0.174\n",
      "Documento 82: [0.20 | 0.57 | 0.02 | 0.10 | 0.02 | 0.05 | 0.04] -> Tópicos seleccionados: [1, 0], Umbral: 0.174\n",
      "Documento 83: [0.10 | 0.64 | 0.01 | 0.05 | 0.06 | 0.09 | 0.05] -> Tópicos seleccionados: [1], Umbral: 0.174\n",
      "Documento 84: [0.15 | 0.21 | 0.03 | 0.02 | 0.16 | 0.12 | 0.32] -> Tópicos seleccionados: [6, 1], Umbral: 0.174\n",
      "Documento 85: [0.03 | 0.19 | 0.02 | 0.08 | 0.24 | 0.11 | 0.31] -> Tópicos seleccionados: [6, 4, 1], Umbral: 0.174\n",
      "Documento 86: [0.10 | 0.17 | 0.01 | 0.08 | 0.32 | 0.06 | 0.25] -> Tópicos seleccionados: [4, 6], Umbral: 0.174\n",
      "Documento 87: [0.07 | 0.68 | 0.01 | 0.06 | 0.05 | 0.05 | 0.09] -> Tópicos seleccionados: [1], Umbral: 0.174\n",
      "Documento 88: [0.14 | 0.18 | 0.10 | 0.15 | 0.07 | 0.08 | 0.27] -> Tópicos seleccionados: [6, 1], Umbral: 0.174\n",
      "Documento 89: [0.08 | 0.52 | 0.01 | 0.05 | 0.12 | 0.05 | 0.18] -> Tópicos seleccionados: [1, 6], Umbral: 0.174\n",
      "Documento 90: [0.04 | 0.55 | 0.01 | 0.07 | 0.07 | 0.04 | 0.21] -> Tópicos seleccionados: [1, 6], Umbral: 0.174\n",
      "Documento 91: [0.02 | 0.00 | 0.90 | 0.06 | 0.00 | 0.01 | 0.00] -> Tópicos seleccionados: [2], Umbral: 0.174\n",
      "Documento 92: [0.02 | 0.01 | 0.86 | 0.02 | 0.01 | 0.08 | 0.01] -> Tópicos seleccionados: [2], Umbral: 0.174\n",
      "Documento 93: [0.02 | 0.01 | 0.90 | 0.05 | 0.01 | 0.01 | 0.00] -> Tópicos seleccionados: [2], Umbral: 0.174\n",
      "Documento 94: [0.17 | 0.02 | 0.55 | 0.14 | 0.04 | 0.06 | 0.01] -> Tópicos seleccionados: [2], Umbral: 0.174\n",
      "Documento 95: [0.02 | 0.00 | 0.91 | 0.06 | 0.01 | 0.00 | 0.00] -> Tópicos seleccionados: [2], Umbral: 0.174\n",
      "Documento 96: [0.08 | 0.01 | 0.74 | 0.09 | 0.03 | 0.04 | 0.01] -> Tópicos seleccionados: [2], Umbral: 0.174\n",
      "Documento 97: [0.01 | 0.01 | 0.88 | 0.09 | 0.01 | 0.00 | 0.00] -> Tópicos seleccionados: [2], Umbral: 0.174\n",
      "Documento 98: [0.05 | 0.04 | 0.58 | 0.18 | 0.07 | 0.07 | 0.01] -> Tópicos seleccionados: [2, 3], Umbral: 0.174\n",
      "Documento 99: [0.02 | 0.01 | 0.83 | 0.03 | 0.02 | 0.10 | 0.01] -> Tópicos seleccionados: [2], Umbral: 0.174\n",
      "Documento 100: [0.02 | 0.01 | 0.89 | 0.06 | 0.00 | 0.01 | 0.00] -> Tópicos seleccionados: [2], Umbral: 0.174\n",
      "Documento 101: [0.04 | 0.00 | 0.90 | 0.02 | 0.00 | 0.03 | 0.00] -> Tópicos seleccionados: [2], Umbral: 0.174\n",
      "Documento 102: [0.03 | 0.01 | 0.83 | 0.06 | 0.01 | 0.05 | 0.01] -> Tópicos seleccionados: [2], Umbral: 0.174\n",
      "Documento 103: [0.04 | 0.01 | 0.81 | 0.07 | 0.01 | 0.04 | 0.02] -> Tópicos seleccionados: [2], Umbral: 0.174\n",
      "Documento 104: [0.04 | 0.01 | 0.90 | 0.03 | 0.00 | 0.01 | 0.01] -> Tópicos seleccionados: [2], Umbral: 0.174\n",
      "Documento 105: [0.10 | 0.02 | 0.65 | 0.15 | 0.01 | 0.07 | 0.01] -> Tópicos seleccionados: [2], Umbral: 0.174\n",
      "Documento 106: [0.02 | 0.01 | 0.93 | 0.03 | 0.00 | 0.01 | 0.00] -> Tópicos seleccionados: [2], Umbral: 0.174\n",
      "Documento 107: [0.01 | 0.01 | 0.94 | 0.03 | 0.01 | 0.00 | 0.00] -> Tópicos seleccionados: [2], Umbral: 0.174\n",
      "Documento 108: [0.06 | 0.01 | 0.50 | 0.06 | 0.01 | 0.35 | 0.01] -> Tópicos seleccionados: [2, 5], Umbral: 0.174\n",
      "Documento 109: [0.02 | 0.01 | 0.90 | 0.03 | 0.01 | 0.01 | 0.02] -> Tópicos seleccionados: [2], Umbral: 0.174\n",
      "Documento 110: [0.04 | 0.02 | 0.70 | 0.21 | 0.01 | 0.03 | 0.00] -> Tópicos seleccionados: [2, 3], Umbral: 0.174\n",
      "Documento 111: [0.02 | 0.00 | 0.88 | 0.02 | 0.01 | 0.06 | 0.00] -> Tópicos seleccionados: [2], Umbral: 0.174\n",
      "Documento 112: [0.01 | 0.00 | 0.94 | 0.01 | 0.00 | 0.03 | 0.00] -> Tópicos seleccionados: [2], Umbral: 0.174\n",
      "Documento 113: [0.04 | 0.01 | 0.79 | 0.11 | 0.01 | 0.03 | 0.01] -> Tópicos seleccionados: [2], Umbral: 0.174\n",
      "Documento 114: [0.01 | 0.01 | 0.91 | 0.05 | 0.00 | 0.02 | 0.00] -> Tópicos seleccionados: [2], Umbral: 0.174\n",
      "Documento 115: [0.03 | 0.01 | 0.88 | 0.04 | 0.00 | 0.04 | 0.00] -> Tópicos seleccionados: [2], Umbral: 0.174\n",
      "Documento 116: [0.01 | 0.01 | 0.91 | 0.05 | 0.01 | 0.01 | 0.00] -> Tópicos seleccionados: [2], Umbral: 0.174\n",
      "Documento 117: [0.01 | 0.00 | 0.93 | 0.02 | 0.00 | 0.03 | 0.01] -> Tópicos seleccionados: [2], Umbral: 0.174\n",
      "Documento 118: [0.02 | 0.01 | 0.87 | 0.06 | 0.01 | 0.02 | 0.01] -> Tópicos seleccionados: [2], Umbral: 0.174\n",
      "Documento 119: [0.03 | 0.01 | 0.86 | 0.04 | 0.01 | 0.03 | 0.02] -> Tópicos seleccionados: [2], Umbral: 0.174\n",
      "Documento 120: [0.02 | 0.02 | 0.83 | 0.07 | 0.02 | 0.04 | 0.01] -> Tópicos seleccionados: [2], Umbral: 0.174\n",
      "Documento 121: [0.03 | 0.01 | 0.82 | 0.03 | 0.03 | 0.07 | 0.02] -> Tópicos seleccionados: [2], Umbral: 0.174\n",
      "Documento 122: [0.02 | 0.00 | 0.93 | 0.01 | 0.00 | 0.03 | 0.00] -> Tópicos seleccionados: [2], Umbral: 0.174\n",
      "Documento 123: [0.05 | 0.01 | 0.83 | 0.07 | 0.01 | 0.03 | 0.01] -> Tópicos seleccionados: [2], Umbral: 0.174\n",
      "Documento 124: [0.04 | 0.01 | 0.85 | 0.05 | 0.01 | 0.04 | 0.00] -> Tópicos seleccionados: [2], Umbral: 0.174\n",
      "Documento 125: [0.04 | 0.01 | 0.82 | 0.08 | 0.01 | 0.03 | 0.01] -> Tópicos seleccionados: [2], Umbral: 0.174\n",
      "Documento 126: [0.09 | 0.02 | 0.64 | 0.18 | 0.03 | 0.03 | 0.01] -> Tópicos seleccionados: [2, 3], Umbral: 0.174\n",
      "Documento 127: [0.02 | 0.00 | 0.95 | 0.01 | 0.00 | 0.01 | 0.00] -> Tópicos seleccionados: [2], Umbral: 0.174\n",
      "Documento 128: [0.04 | 0.01 | 0.78 | 0.05 | 0.02 | 0.07 | 0.02] -> Tópicos seleccionados: [2], Umbral: 0.174\n",
      "Documento 129: [0.05 | 0.02 | 0.76 | 0.04 | 0.02 | 0.11 | 0.01] -> Tópicos seleccionados: [2], Umbral: 0.174\n",
      "Documento 130: [0.02 | 0.00 | 0.94 | 0.02 | 0.00 | 0.02 | 0.00] -> Tópicos seleccionados: [2], Umbral: 0.174\n",
      "Documento 131: [0.03 | 0.01 | 0.85 | 0.07 | 0.00 | 0.04 | 0.00] -> Tópicos seleccionados: [2], Umbral: 0.174\n",
      "Documento 132: [0.03 | 0.00 | 0.90 | 0.03 | 0.01 | 0.02 | 0.00] -> Tópicos seleccionados: [2], Umbral: 0.174\n",
      "Documento 133: [0.02 | 0.00 | 0.90 | 0.02 | 0.01 | 0.04 | 0.01] -> Tópicos seleccionados: [2], Umbral: 0.174\n",
      "Documento 134: [0.02 | 0.02 | 0.81 | 0.08 | 0.00 | 0.06 | 0.01] -> Tópicos seleccionados: [2], Umbral: 0.174\n",
      "Documento 135: [0.01 | 0.01 | 0.92 | 0.04 | 0.01 | 0.01 | 0.00] -> Tópicos seleccionados: [2], Umbral: 0.174\n",
      "Documento 136: [0.04 | 0.01 | 0.82 | 0.05 | 0.02 | 0.03 | 0.01] -> Tópicos seleccionados: [2], Umbral: 0.174\n",
      "Documento 137: [0.02 | 0.01 | 0.86 | 0.05 | 0.02 | 0.03 | 0.01] -> Tópicos seleccionados: [2], Umbral: 0.174\n",
      "Documento 138: [0.01 | 0.02 | 0.79 | 0.04 | 0.01 | 0.12 | 0.01] -> Tópicos seleccionados: [2], Umbral: 0.174\n",
      "Documento 139: [0.04 | 0.01 | 0.77 | 0.05 | 0.02 | 0.10 | 0.01] -> Tópicos seleccionados: [2], Umbral: 0.174\n",
      "Documento 140: [0.11 | 0.01 | 0.75 | 0.06 | 0.01 | 0.06 | 0.01] -> Tópicos seleccionados: [2], Umbral: 0.174\n",
      "Documento 141: [0.23 | 0.14 | 0.12 | 0.31 | 0.07 | 0.07 | 0.06] -> Tópicos seleccionados: [3, 0], Umbral: 0.174\n",
      "Documento 142: [0.15 | 0.11 | 0.11 | 0.39 | 0.14 | 0.08 | 0.02] -> Tópicos seleccionados: [3], Umbral: 0.174\n",
      "Documento 143: [0.26 | 0.04 | 0.11 | 0.15 | 0.20 | 0.04 | 0.19] -> Tópicos seleccionados: [0, 4, 6], Umbral: 0.174\n",
      "Documento 144: [0.07 | 0.03 | 0.14 | 0.67 | 0.03 | 0.03 | 0.02] -> Tópicos seleccionados: [3], Umbral: 0.174\n",
      "Documento 145: [0.03 | 0.02 | 0.02 | 0.89 | 0.03 | 0.01 | 0.01] -> Tópicos seleccionados: [3], Umbral: 0.174\n",
      "Documento 146: [0.10 | 0.06 | 0.19 | 0.23 | 0.03 | 0.37 | 0.02] -> Tópicos seleccionados: [5, 3, 2], Umbral: 0.174\n",
      "Documento 147: [0.08 | 0.09 | 0.02 | 0.06 | 0.14 | 0.07 | 0.53] -> Tópicos seleccionados: [6], Umbral: 0.174\n",
      "Documento 148: [0.06 | 0.08 | 0.33 | 0.40 | 0.04 | 0.07 | 0.02] -> Tópicos seleccionados: [3, 2], Umbral: 0.174\n",
      "Documento 149: [0.05 | 0.13 | 0.05 | 0.38 | 0.20 | 0.11 | 0.08] -> Tópicos seleccionados: [3, 4], Umbral: 0.174\n",
      "Documento 150: [0.05 | 0.13 | 0.02 | 0.37 | 0.10 | 0.30 | 0.04] -> Tópicos seleccionados: [3, 5], Umbral: 0.174\n",
      "Documento 151: [0.01 | 0.03 | 0.04 | 0.86 | 0.04 | 0.01 | 0.00] -> Tópicos seleccionados: [3], Umbral: 0.174\n",
      "Documento 152: [0.02 | 0.08 | 0.11 | 0.44 | 0.02 | 0.31 | 0.01] -> Tópicos seleccionados: [3, 5], Umbral: 0.174\n",
      "Documento 153: [0.02 | 0.06 | 0.03 | 0.76 | 0.06 | 0.06 | 0.01] -> Tópicos seleccionados: [3], Umbral: 0.174\n",
      "Documento 154: [0.18 | 0.15 | 0.09 | 0.47 | 0.03 | 0.05 | 0.03] -> Tópicos seleccionados: [3, 0], Umbral: 0.174\n",
      "Documento 155: [0.20 | 0.09 | 0.06 | 0.19 | 0.07 | 0.34 | 0.05] -> Tópicos seleccionados: [5, 0, 3], Umbral: 0.174\n",
      "Documento 156: [0.11 | 0.06 | 0.18 | 0.12 | 0.12 | 0.32 | 0.09] -> Tópicos seleccionados: [5, 2], Umbral: 0.174\n",
      "Documento 157: [0.16 | 0.27 | 0.01 | 0.46 | 0.02 | 0.07 | 0.01] -> Tópicos seleccionados: [3, 1], Umbral: 0.174\n",
      "Documento 158: [0.02 | 0.13 | 0.03 | 0.49 | 0.13 | 0.16 | 0.04] -> Tópicos seleccionados: [3], Umbral: 0.174\n",
      "Documento 159: [0.12 | 0.09 | 0.08 | 0.58 | 0.05 | 0.07 | 0.02] -> Tópicos seleccionados: [3], Umbral: 0.174\n",
      "Documento 160: [0.21 | 0.05 | 0.13 | 0.15 | 0.05 | 0.36 | 0.05] -> Tópicos seleccionados: [5, 0], Umbral: 0.174\n",
      "Documento 161: [0.11 | 0.07 | 0.05 | 0.67 | 0.02 | 0.06 | 0.01] -> Tópicos seleccionados: [3], Umbral: 0.174\n",
      "Documento 162: [0.02 | 0.06 | 0.03 | 0.74 | 0.01 | 0.13 | 0.01] -> Tópicos seleccionados: [3], Umbral: 0.174\n",
      "Documento 163: [0.14 | 0.23 | 0.06 | 0.39 | 0.01 | 0.14 | 0.02] -> Tópicos seleccionados: [3, 1], Umbral: 0.174\n",
      "Documento 164: [0.06 | 0.18 | 0.01 | 0.35 | 0.31 | 0.06 | 0.04] -> Tópicos seleccionados: [3, 4, 1], Umbral: 0.174\n",
      "Documento 165: [0.06 | 0.02 | 0.10 | 0.77 | 0.01 | 0.02 | 0.01] -> Tópicos seleccionados: [3], Umbral: 0.174\n",
      "Documento 166: [0.03 | 0.03 | 0.11 | 0.74 | 0.03 | 0.05 | 0.00] -> Tópicos seleccionados: [3], Umbral: 0.174\n",
      "Documento 167: [0.01 | 0.02 | 0.03 | 0.89 | 0.02 | 0.02 | 0.00] -> Tópicos seleccionados: [3], Umbral: 0.174\n",
      "Documento 168: [0.02 | 0.35 | 0.01 | 0.34 | 0.13 | 0.12 | 0.03] -> Tópicos seleccionados: [1, 3], Umbral: 0.174\n",
      "Documento 169: [0.06 | 0.19 | 0.01 | 0.43 | 0.02 | 0.28 | 0.01] -> Tópicos seleccionados: [3, 5, 1], Umbral: 0.174\n",
      "Documento 170: [0.06 | 0.32 | 0.01 | 0.33 | 0.17 | 0.05 | 0.07] -> Tópicos seleccionados: [3, 1], Umbral: 0.174\n",
      "Documento 171: [0.09 | 0.07 | 0.37 | 0.27 | 0.05 | 0.10 | 0.04] -> Tópicos seleccionados: [2, 3], Umbral: 0.174\n",
      "Documento 172: [0.03 | 0.06 | 0.06 | 0.79 | 0.03 | 0.03 | 0.01] -> Tópicos seleccionados: [3], Umbral: 0.174\n",
      "Documento 173: [0.01 | 0.03 | 0.10 | 0.81 | 0.01 | 0.04 | 0.00] -> Tópicos seleccionados: [3], Umbral: 0.174\n",
      "Documento 174: [0.06 | 0.04 | 0.31 | 0.36 | 0.07 | 0.13 | 0.04] -> Tópicos seleccionados: [3, 2], Umbral: 0.174\n",
      "Documento 175: [0.05 | 0.03 | 0.11 | 0.72 | 0.02 | 0.07 | 0.01] -> Tópicos seleccionados: [3], Umbral: 0.174\n",
      "Documento 176: [0.07 | 0.10 | 0.03 | 0.65 | 0.05 | 0.07 | 0.03] -> Tópicos seleccionados: [3], Umbral: 0.174\n",
      "Documento 177: [0.31 | 0.13 | 0.06 | 0.38 | 0.04 | 0.04 | 0.03] -> Tópicos seleccionados: [3, 0], Umbral: 0.174\n",
      "Documento 178: [0.05 | 0.19 | 0.03 | 0.59 | 0.04 | 0.09 | 0.02] -> Tópicos seleccionados: [3, 1], Umbral: 0.174\n",
      "Documento 179: [0.07 | 0.13 | 0.01 | 0.71 | 0.05 | 0.02 | 0.01] -> Tópicos seleccionados: [3], Umbral: 0.174\n",
      "Documento 180: [0.19 | 0.02 | 0.54 | 0.11 | 0.08 | 0.05 | 0.01] -> Tópicos seleccionados: [2, 0], Umbral: 0.174\n",
      "Documento 181: [0.22 | 0.06 | 0.30 | 0.21 | 0.07 | 0.10 | 0.02] -> Tópicos seleccionados: [2, 0, 3], Umbral: 0.174\n",
      "Documento 182: [0.02 | 0.04 | 0.07 | 0.81 | 0.03 | 0.02 | 0.01] -> Tópicos seleccionados: [3], Umbral: 0.174\n",
      "Documento 183: [0.11 | 0.24 | 0.04 | 0.48 | 0.06 | 0.04 | 0.03] -> Tópicos seleccionados: [3, 1], Umbral: 0.174\n",
      "Documento 184: [0.05 | 0.01 | 0.79 | 0.11 | 0.03 | 0.01 | 0.00] -> Tópicos seleccionados: [2], Umbral: 0.174\n",
      "Documento 185: [0.08 | 0.14 | 0.04 | 0.50 | 0.08 | 0.07 | 0.10] -> Tópicos seleccionados: [3], Umbral: 0.174\n",
      "Documento 186: [0.14 | 0.03 | 0.34 | 0.34 | 0.07 | 0.07 | 0.01] -> Tópicos seleccionados: [2, 3], Umbral: 0.174\n",
      "Documento 187: [0.04 | 0.12 | 0.08 | 0.51 | 0.05 | 0.16 | 0.03] -> Tópicos seleccionados: [3], Umbral: 0.174\n",
      "Documento 188: [0.02 | 0.06 | 0.05 | 0.79 | 0.02 | 0.05 | 0.01] -> Tópicos seleccionados: [3], Umbral: 0.174\n",
      "Documento 189: [0.04 | 0.17 | 0.07 | 0.21 | 0.08 | 0.39 | 0.04] -> Tópicos seleccionados: [5, 3], Umbral: 0.174\n",
      "Documento 190: [0.09 | 0.03 | 0.32 | 0.51 | 0.03 | 0.01 | 0.01] -> Tópicos seleccionados: [3, 2], Umbral: 0.174\n",
      "Documento 191: [0.29 | 0.04 | 0.38 | 0.12 | 0.06 | 0.08 | 0.03] -> Tópicos seleccionados: [2, 0], Umbral: 0.174\n",
      "Documento 192: [0.27 | 0.17 | 0.05 | 0.05 | 0.01 | 0.43 | 0.01] -> Tópicos seleccionados: [5, 0], Umbral: 0.174\n",
      "Documento 193: [0.26 | 0.15 | 0.15 | 0.17 | 0.05 | 0.20 | 0.02] -> Tópicos seleccionados: [0, 5], Umbral: 0.174\n",
      "Documento 194: [0.05 | 0.11 | 0.03 | 0.11 | 0.03 | 0.66 | 0.01] -> Tópicos seleccionados: [5], Umbral: 0.174\n",
      "Documento 195: [0.24 | 0.03 | 0.25 | 0.13 | 0.01 | 0.33 | 0.02] -> Tópicos seleccionados: [5, 2, 0], Umbral: 0.174\n",
      "Documento 196: [0.13 | 0.07 | 0.31 | 0.15 | 0.03 | 0.26 | 0.03] -> Tópicos seleccionados: [2, 5], Umbral: 0.174\n",
      "Documento 197: [0.08 | 0.09 | 0.14 | 0.54 | 0.03 | 0.11 | 0.01] -> Tópicos seleccionados: [3], Umbral: 0.174\n",
      "Documento 198: [0.27 | 0.03 | 0.25 | 0.07 | 0.01 | 0.35 | 0.01] -> Tópicos seleccionados: [5, 0, 2], Umbral: 0.174\n",
      "Documento 199: [0.15 | 0.06 | 0.35 | 0.20 | 0.04 | 0.11 | 0.09] -> Tópicos seleccionados: [2, 3], Umbral: 0.174\n",
      "Documento 200: [0.08 | 0.11 | 0.11 | 0.10 | 0.02 | 0.57 | 0.01] -> Tópicos seleccionados: [5], Umbral: 0.174\n",
      "Documento 201: [0.04 | 0.03 | 0.63 | 0.14 | 0.07 | 0.09 | 0.01] -> Tópicos seleccionados: [2], Umbral: 0.174\n",
      "Documento 202: [0.21 | 0.19 | 0.12 | 0.13 | 0.18 | 0.17 | 0.01] -> Tópicos seleccionados: [0, 1, 4], Umbral: 0.174\n",
      "Documento 203: [0.03 | 0.20 | 0.03 | 0.15 | 0.03 | 0.56 | 0.01] -> Tópicos seleccionados: [5, 1], Umbral: 0.174\n",
      "Documento 204: [0.33 | 0.10 | 0.06 | 0.08 | 0.01 | 0.40 | 0.02] -> Tópicos seleccionados: [5, 0], Umbral: 0.174\n",
      "Documento 205: [0.12 | 0.06 | 0.18 | 0.07 | 0.02 | 0.54 | 0.01] -> Tópicos seleccionados: [5, 2], Umbral: 0.174\n",
      "Documento 206: [0.05 | 0.22 | 0.02 | 0.10 | 0.12 | 0.47 | 0.02] -> Tópicos seleccionados: [5, 1], Umbral: 0.174\n",
      "Documento 207: [0.23 | 0.31 | 0.04 | 0.21 | 0.02 | 0.16 | 0.02] -> Tópicos seleccionados: [1, 0, 3], Umbral: 0.174\n",
      "Documento 208: [0.13 | 0.01 | 0.48 | 0.18 | 0.01 | 0.19 | 0.00] -> Tópicos seleccionados: [2, 5, 3], Umbral: 0.174\n",
      "Documento 209: [0.17 | 0.06 | 0.32 | 0.06 | 0.03 | 0.27 | 0.10] -> Tópicos seleccionados: [2, 5], Umbral: 0.174\n",
      "Documento 210: [0.50 | 0.07 | 0.10 | 0.03 | 0.04 | 0.24 | 0.02] -> Tópicos seleccionados: [0, 5], Umbral: 0.174\n",
      "Documento 211: [0.53 | 0.08 | 0.17 | 0.10 | 0.03 | 0.08 | 0.02] -> Tópicos seleccionados: [0], Umbral: 0.174\n",
      "Documento 212: [0.22 | 0.08 | 0.24 | 0.19 | 0.04 | 0.21 | 0.02] -> Tópicos seleccionados: [2, 0, 5], Umbral: 0.174\n",
      "Documento 213: [0.06 | 0.01 | 0.79 | 0.06 | 0.00 | 0.08 | 0.00] -> Tópicos seleccionados: [2], Umbral: 0.174\n",
      "Documento 214: [0.20 | 0.04 | 0.16 | 0.09 | 0.03 | 0.46 | 0.02] -> Tópicos seleccionados: [5, 0], Umbral: 0.174\n",
      "Documento 215: [0.18 | 0.03 | 0.31 | 0.09 | 0.01 | 0.37 | 0.01] -> Tópicos seleccionados: [5, 2, 0], Umbral: 0.174\n",
      "Documento 216: [0.01 | 0.03 | 0.01 | 0.02 | 0.01 | 0.92 | 0.00] -> Tópicos seleccionados: [5], Umbral: 0.174\n",
      "Documento 217: [0.14 | 0.04 | 0.32 | 0.23 | 0.07 | 0.19 | 0.01] -> Tópicos seleccionados: [2, 3, 5], Umbral: 0.174\n",
      "Documento 218: [0.16 | 0.04 | 0.21 | 0.12 | 0.02 | 0.44 | 0.01] -> Tópicos seleccionados: [5, 2], Umbral: 0.174\n",
      "Documento 219: [0.19 | 0.09 | 0.42 | 0.14 | 0.03 | 0.12 | 0.01] -> Tópicos seleccionados: [2, 0], Umbral: 0.174\n",
      "Documento 220: [0.40 | 0.23 | 0.03 | 0.09 | 0.02 | 0.22 | 0.01] -> Tópicos seleccionados: [0, 1, 5], Umbral: 0.174\n",
      "Documento 221: [0.02 | 0.08 | 0.01 | 0.10 | 0.05 | 0.73 | 0.01] -> Tópicos seleccionados: [5], Umbral: 0.174\n",
      "Documento 222: [0.22 | 0.07 | 0.12 | 0.12 | 0.03 | 0.43 | 0.01] -> Tópicos seleccionados: [5, 0], Umbral: 0.174\n",
      "Documento 223: [0.12 | 0.05 | 0.21 | 0.56 | 0.03 | 0.03 | 0.01] -> Tópicos seleccionados: [3, 2], Umbral: 0.174\n",
      "Documento 224: [0.11 | 0.01 | 0.55 | 0.08 | 0.01 | 0.23 | 0.00] -> Tópicos seleccionados: [2, 5], Umbral: 0.174\n",
      "Documento 225: [0.24 | 0.04 | 0.30 | 0.17 | 0.01 | 0.24 | 0.01] -> Tópicos seleccionados: [2, 5, 0], Umbral: 0.174\n",
      "Documento 226: [0.42 | 0.07 | 0.18 | 0.14 | 0.02 | 0.16 | 0.01] -> Tópicos seleccionados: [0, 2], Umbral: 0.174\n",
      "Documento 227: [0.04 | 0.06 | 0.03 | 0.13 | 0.01 | 0.72 | 0.00] -> Tópicos seleccionados: [5], Umbral: 0.174\n",
      "Documento 228: [0.14 | 0.07 | 0.42 | 0.05 | 0.02 | 0.29 | 0.01] -> Tópicos seleccionados: [2, 5], Umbral: 0.174\n",
      "Documento 229: [0.23 | 0.09 | 0.09 | 0.08 | 0.28 | 0.10 | 0.14] -> Tópicos seleccionados: [4, 0], Umbral: 0.174\n",
      "Documento 230: [0.05 | 0.00 | 0.76 | 0.05 | 0.01 | 0.13 | 0.00] -> Tópicos seleccionados: [2], Umbral: 0.174\n",
      "Documento 231: [0.18 | 0.04 | 0.23 | 0.17 | 0.02 | 0.37 | 0.01] -> Tópicos seleccionados: [5, 2, 0], Umbral: 0.174\n",
      "Documento 232: [0.24 | 0.03 | 0.20 | 0.05 | 0.08 | 0.38 | 0.01] -> Tópicos seleccionados: [5, 0, 2], Umbral: 0.174\n",
      "Documento 233: [0.05 | 0.01 | 0.69 | 0.08 | 0.01 | 0.16 | 0.00] -> Tópicos seleccionados: [2], Umbral: 0.174\n",
      "Documento 234: [0.24 | 0.05 | 0.11 | 0.05 | 0.15 | 0.39 | 0.02] -> Tópicos seleccionados: [5, 0], Umbral: 0.174\n",
      "Documento 235: [0.19 | 0.04 | 0.10 | 0.08 | 0.07 | 0.53 | 0.01] -> Tópicos seleccionados: [5, 0], Umbral: 0.174\n",
      "Documento 236: [0.09 | 0.02 | 0.55 | 0.13 | 0.01 | 0.20 | 0.00] -> Tópicos seleccionados: [2, 5], Umbral: 0.174\n",
      "Documento 237: [0.10 | 0.02 | 0.05 | 0.05 | 0.01 | 0.75 | 0.01] -> Tópicos seleccionados: [5], Umbral: 0.174\n",
      "Documento 238: [0.11 | 0.01 | 0.76 | 0.07 | 0.01 | 0.04 | 0.01] -> Tópicos seleccionados: [2], Umbral: 0.174\n",
      "Documento 239: [0.43 | 0.06 | 0.12 | 0.10 | 0.16 | 0.10 | 0.03] -> Tópicos seleccionados: [0], Umbral: 0.174\n",
      "Documento 240: [0.10 | 0.02 | 0.03 | 0.02 | 0.09 | 0.74 | 0.00] -> Tópicos seleccionados: [5], Umbral: 0.174\n",
      "Documento 241: [0.06 | 0.02 | 0.67 | 0.07 | 0.01 | 0.16 | 0.01] -> Tópicos seleccionados: [2], Umbral: 0.174\n",
      "Documento 242: [0.06 | 0.70 | 0.01 | 0.02 | 0.05 | 0.16 | 0.01] -> Tópicos seleccionados: [1], Umbral: 0.174\n",
      "Documento 243: [0.08 | 0.03 | 0.34 | 0.13 | 0.03 | 0.36 | 0.03] -> Tópicos seleccionados: [5, 2], Umbral: 0.174\n",
      "Documento 244: [0.45 | 0.08 | 0.16 | 0.04 | 0.14 | 0.09 | 0.04] -> Tópicos seleccionados: [0], Umbral: 0.174\n",
      "Documento 245: [0.02 | 0.12 | 0.08 | 0.36 | 0.03 | 0.37 | 0.02] -> Tópicos seleccionados: [5, 3], Umbral: 0.174\n",
      "Documento 246: [0.05 | 0.03 | 0.31 | 0.10 | 0.01 | 0.48 | 0.02] -> Tópicos seleccionados: [5, 2], Umbral: 0.174\n",
      "Documento 247: [0.14 | 0.05 | 0.19 | 0.47 | 0.11 | 0.03 | 0.02] -> Tópicos seleccionados: [3, 2], Umbral: 0.174\n",
      "Documento 248: [0.08 | 0.67 | 0.02 | 0.07 | 0.05 | 0.10 | 0.02] -> Tópicos seleccionados: [1], Umbral: 0.174\n",
      "Documento 249: [0.04 | 0.00 | 0.84 | 0.05 | 0.01 | 0.06 | 0.00] -> Tópicos seleccionados: [2], Umbral: 0.174\n",
      "Documento 250: [0.26 | 0.53 | 0.05 | 0.06 | 0.02 | 0.07 | 0.02] -> Tópicos seleccionados: [1, 0], Umbral: 0.174\n",
      "Documento 251: [0.06 | 0.19 | 0.05 | 0.27 | 0.20 | 0.20 | 0.03] -> Tópicos seleccionados: [3, 4, 5], Umbral: 0.174\n",
      "Documento 252: [0.17 | 0.22 | 0.10 | 0.27 | 0.18 | 0.02 | 0.03] -> Tópicos seleccionados: [3, 1, 4], Umbral: 0.174\n",
      "Documento 253: [0.30 | 0.11 | 0.04 | 0.06 | 0.04 | 0.42 | 0.02] -> Tópicos seleccionados: [5, 0], Umbral: 0.174\n",
      "Documento 254: [0.05 | 0.37 | 0.03 | 0.15 | 0.05 | 0.34 | 0.01] -> Tópicos seleccionados: [1, 5], Umbral: 0.174\n",
      "Documento 255: [0.06 | 0.79 | 0.00 | 0.02 | 0.03 | 0.09 | 0.01] -> Tópicos seleccionados: [1], Umbral: 0.174\n",
      "Documento 256: [0.03 | 0.54 | 0.03 | 0.11 | 0.11 | 0.18 | 0.02] -> Tópicos seleccionados: [1, 5], Umbral: 0.174\n",
      "Documento 257: [0.01 | 0.04 | 0.02 | 0.02 | 0.01 | 0.91 | 0.00] -> Tópicos seleccionados: [5], Umbral: 0.174\n",
      "Documento 258: [0.04 | 0.07 | 0.21 | 0.27 | 0.03 | 0.38 | 0.01] -> Tópicos seleccionados: [5, 3, 2], Umbral: 0.174\n",
      "Documento 259: [0.32 | 0.24 | 0.05 | 0.05 | 0.03 | 0.29 | 0.01] -> Tópicos seleccionados: [0, 5, 1], Umbral: 0.174\n",
      "Documento 260: [0.01 | 0.89 | 0.00 | 0.02 | 0.02 | 0.05 | 0.01] -> Tópicos seleccionados: [1], Umbral: 0.174\n",
      "Documento 261: [0.20 | 0.19 | 0.02 | 0.02 | 0.03 | 0.51 | 0.03] -> Tópicos seleccionados: [5, 0, 1], Umbral: 0.174\n",
      "Documento 262: [0.03 | 0.03 | 0.70 | 0.09 | 0.02 | 0.09 | 0.03] -> Tópicos seleccionados: [2], Umbral: 0.174\n",
      "Documento 263: [0.02 | 0.56 | 0.01 | 0.10 | 0.12 | 0.13 | 0.06] -> Tópicos seleccionados: [1], Umbral: 0.174\n",
      "Documento 264: [0.08 | 0.20 | 0.07 | 0.06 | 0.02 | 0.54 | 0.03] -> Tópicos seleccionados: [5, 1], Umbral: 0.174\n",
      "Documento 265: [0.04 | 0.48 | 0.03 | 0.20 | 0.10 | 0.11 | 0.04] -> Tópicos seleccionados: [1, 3], Umbral: 0.174\n",
      "Documento 266: [0.29 | 0.08 | 0.15 | 0.30 | 0.05 | 0.11 | 0.02] -> Tópicos seleccionados: [3, 0], Umbral: 0.174\n",
      "Documento 267: [0.09 | 0.22 | 0.02 | 0.14 | 0.21 | 0.27 | 0.05] -> Tópicos seleccionados: [5, 1, 4], Umbral: 0.174\n",
      "Documento 268: [0.03 | 0.70 | 0.01 | 0.06 | 0.05 | 0.10 | 0.06] -> Tópicos seleccionados: [1], Umbral: 0.174\n",
      "Documento 269: [0.07 | 0.22 | 0.02 | 0.04 | 0.18 | 0.43 | 0.05] -> Tópicos seleccionados: [5, 1, 4], Umbral: 0.174\n",
      "Documento 270: [0.07 | 0.16 | 0.09 | 0.06 | 0.07 | 0.52 | 0.03] -> Tópicos seleccionados: [5], Umbral: 0.174\n",
      "Documento 271: [0.51 | 0.11 | 0.13 | 0.08 | 0.01 | 0.14 | 0.01] -> Tópicos seleccionados: [0], Umbral: 0.174\n",
      "Documento 272: [0.21 | 0.24 | 0.09 | 0.04 | 0.06 | 0.32 | 0.04] -> Tópicos seleccionados: [5, 1, 0], Umbral: 0.174\n",
      "Documento 273: [0.29 | 0.24 | 0.05 | 0.17 | 0.11 | 0.10 | 0.04] -> Tópicos seleccionados: [0, 1, 3], Umbral: 0.174\n",
      "Documento 274: [0.03 | 0.21 | 0.02 | 0.11 | 0.18 | 0.42 | 0.02] -> Tópicos seleccionados: [5, 1, 4], Umbral: 0.174\n",
      "Documento 275: [0.15 | 0.08 | 0.16 | 0.11 | 0.06 | 0.42 | 0.01] -> Tópicos seleccionados: [5], Umbral: 0.174\n",
      "Documento 276: [0.15 | 0.32 | 0.11 | 0.08 | 0.05 | 0.24 | 0.05] -> Tópicos seleccionados: [1, 5], Umbral: 0.174\n",
      "Documento 277: [0.06 | 0.28 | 0.04 | 0.26 | 0.08 | 0.24 | 0.04] -> Tópicos seleccionados: [1, 3, 5], Umbral: 0.174\n",
      "Documento 278: [0.13 | 0.05 | 0.54 | 0.11 | 0.01 | 0.15 | 0.00] -> Tópicos seleccionados: [2], Umbral: 0.174\n",
      "Documento 279: [0.28 | 0.31 | 0.04 | 0.09 | 0.04 | 0.20 | 0.03] -> Tópicos seleccionados: [1, 0, 5], Umbral: 0.174\n",
      "Documento 280: [0.07 | 0.27 | 0.03 | 0.10 | 0.18 | 0.28 | 0.06] -> Tópicos seleccionados: [5, 1, 4], Umbral: 0.174\n",
      "Documento 281: [0.13 | 0.23 | 0.05 | 0.14 | 0.13 | 0.18 | 0.13] -> Tópicos seleccionados: [1, 5], Umbral: 0.174\n",
      "Documento 282: [0.09 | 0.22 | 0.07 | 0.25 | 0.11 | 0.12 | 0.13] -> Tópicos seleccionados: [3, 1], Umbral: 0.174\n",
      "Documento 283: [0.04 | 0.39 | 0.03 | 0.21 | 0.14 | 0.16 | 0.03] -> Tópicos seleccionados: [1, 3], Umbral: 0.174\n",
      "Documento 284: [0.20 | 0.04 | 0.43 | 0.15 | 0.03 | 0.13 | 0.01] -> Tópicos seleccionados: [2, 0], Umbral: 0.174\n",
      "Documento 285: [0.06 | 0.74 | 0.01 | 0.03 | 0.04 | 0.09 | 0.02] -> Tópicos seleccionados: [1], Umbral: 0.174\n",
      "Documento 286: [0.04 | 0.19 | 0.02 | 0.12 | 0.10 | 0.51 | 0.03] -> Tópicos seleccionados: [5, 1], Umbral: 0.174\n",
      "Documento 287: [0.22 | 0.06 | 0.33 | 0.14 | 0.06 | 0.17 | 0.02] -> Tópicos seleccionados: [2, 0], Umbral: 0.174\n",
      "Documento 288: [0.24 | 0.07 | 0.19 | 0.09 | 0.11 | 0.12 | 0.16] -> Tópicos seleccionados: [0, 2], Umbral: 0.174\n",
      "Documento 289: [0.02 | 0.06 | 0.01 | 0.01 | 0.01 | 0.90 | 0.00] -> Tópicos seleccionados: [5], Umbral: 0.174\n",
      "Documento 290: [0.08 | 0.32 | 0.02 | 0.06 | 0.33 | 0.15 | 0.03] -> Tópicos seleccionados: [4, 1], Umbral: 0.174\n",
      "Documento 291: [0.16 | 0.11 | 0.05 | 0.18 | 0.39 | 0.08 | 0.04] -> Tópicos seleccionados: [4, 3], Umbral: 0.174\n",
      "Documento 292: [0.04 | 0.01 | 0.02 | 0.03 | 0.65 | 0.02 | 0.23] -> Tópicos seleccionados: [4, 6], Umbral: 0.174\n",
      "Documento 293: [0.21 | 0.04 | 0.23 | 0.10 | 0.31 | 0.04 | 0.08] -> Tópicos seleccionados: [4, 2, 0], Umbral: 0.174\n",
      "Documento 294: [0.08 | 0.06 | 0.02 | 0.03 | 0.57 | 0.03 | 0.22] -> Tópicos seleccionados: [4, 6], Umbral: 0.174\n",
      "Documento 295: [0.11 | 0.08 | 0.02 | 0.04 | 0.21 | 0.11 | 0.44] -> Tópicos seleccionados: [6, 4], Umbral: 0.174\n",
      "Documento 296: [0.23 | 0.03 | 0.23 | 0.10 | 0.26 | 0.07 | 0.08] -> Tópicos seleccionados: [4, 0, 2], Umbral: 0.174\n",
      "Documento 297: [0.13 | 0.10 | 0.04 | 0.02 | 0.04 | 0.05 | 0.61] -> Tópicos seleccionados: [6], Umbral: 0.174\n",
      "Documento 298: [0.04 | 0.08 | 0.01 | 0.03 | 0.57 | 0.03 | 0.24] -> Tópicos seleccionados: [4, 6], Umbral: 0.174\n",
      "Documento 299: [0.14 | 0.15 | 0.02 | 0.04 | 0.17 | 0.11 | 0.36] -> Tópicos seleccionados: [6], Umbral: 0.174\n",
      "Documento 300: [0.18 | 0.04 | 0.11 | 0.05 | 0.28 | 0.14 | 0.20] -> Tópicos seleccionados: [4, 6, 0], Umbral: 0.174\n",
      "Documento 301: [0.13 | 0.04 | 0.17 | 0.08 | 0.08 | 0.05 | 0.46] -> Tópicos seleccionados: [6], Umbral: 0.174\n",
      "Documento 302: [0.29 | 0.09 | 0.09 | 0.05 | 0.09 | 0.07 | 0.32] -> Tópicos seleccionados: [6, 0], Umbral: 0.174\n",
      "Documento 303: [0.05 | 0.07 | 0.06 | 0.10 | 0.07 | 0.58 | 0.08] -> Tópicos seleccionados: [5], Umbral: 0.174\n",
      "Documento 304: [0.07 | 0.10 | 0.02 | 0.08 | 0.46 | 0.13 | 0.14] -> Tópicos seleccionados: [4], Umbral: 0.174\n",
      "Documento 305: [0.07 | 0.12 | 0.01 | 0.03 | 0.35 | 0.05 | 0.36] -> Tópicos seleccionados: [6, 4], Umbral: 0.174\n",
      "Documento 306: [0.21 | 0.03 | 0.08 | 0.08 | 0.09 | 0.14 | 0.37] -> Tópicos seleccionados: [6, 0], Umbral: 0.174\n",
      "Documento 307: [0.12 | 0.02 | 0.20 | 0.08 | 0.11 | 0.12 | 0.35] -> Tópicos seleccionados: [6, 2], Umbral: 0.174\n",
      "Documento 308: [0.09 | 0.04 | 0.03 | 0.02 | 0.20 | 0.03 | 0.59] -> Tópicos seleccionados: [6, 4], Umbral: 0.174\n",
      "Documento 309: [0.04 | 0.08 | 0.01 | 0.05 | 0.54 | 0.06 | 0.23] -> Tópicos seleccionados: [4, 6], Umbral: 0.174\n",
      "Documento 310: [0.25 | 0.05 | 0.16 | 0.07 | 0.18 | 0.08 | 0.21] -> Tópicos seleccionados: [0, 6, 4], Umbral: 0.174\n",
      "Documento 311: [0.07 | 0.07 | 0.05 | 0.06 | 0.26 | 0.07 | 0.43] -> Tópicos seleccionados: [6, 4], Umbral: 0.174\n",
      "Documento 312: [0.10 | 0.05 | 0.18 | 0.08 | 0.12 | 0.12 | 0.35] -> Tópicos seleccionados: [6, 2], Umbral: 0.174\n",
      "Documento 313: [0.05 | 0.07 | 0.03 | 0.08 | 0.54 | 0.07 | 0.17] -> Tópicos seleccionados: [4], Umbral: 0.174\n",
      "Documento 314: [0.07 | 0.02 | 0.01 | 0.01 | 0.47 | 0.02 | 0.40] -> Tópicos seleccionados: [4, 6], Umbral: 0.174\n",
      "Documento 315: [0.02 | 0.12 | 0.02 | 0.18 | 0.43 | 0.14 | 0.09] -> Tópicos seleccionados: [4, 3], Umbral: 0.174\n",
      "Documento 316: [0.19 | 0.16 | 0.04 | 0.04 | 0.14 | 0.12 | 0.32] -> Tópicos seleccionados: [6, 0], Umbral: 0.174\n",
      "Documento 317: [0.09 | 0.04 | 0.06 | 0.05 | 0.18 | 0.11 | 0.47] -> Tópicos seleccionados: [6, 4], Umbral: 0.174\n",
      "Documento 318: [0.13 | 0.12 | 0.04 | 0.09 | 0.12 | 0.20 | 0.30] -> Tópicos seleccionados: [6, 5], Umbral: 0.174\n",
      "Documento 319: [0.10 | 0.18 | 0.01 | 0.03 | 0.17 | 0.32 | 0.18] -> Tópicos seleccionados: [5, 1, 6], Umbral: 0.174\n",
      "Documento 320: [0.11 | 0.05 | 0.03 | 0.03 | 0.24 | 0.08 | 0.46] -> Tópicos seleccionados: [6, 4], Umbral: 0.174\n",
      "Documento 321: [0.02 | 0.00 | 0.93 | 0.02 | 0.00 | 0.02 | 0.01] -> Tópicos seleccionados: [2], Umbral: 0.174\n",
      "Documento 322: [0.21 | 0.11 | 0.03 | 0.03 | 0.07 | 0.07 | 0.48] -> Tópicos seleccionados: [6, 0], Umbral: 0.174\n",
      "Documento 323: [0.09 | 0.04 | 0.05 | 0.03 | 0.23 | 0.11 | 0.45] -> Tópicos seleccionados: [6, 4], Umbral: 0.174\n",
      "Documento 324: [0.12 | 0.04 | 0.07 | 0.02 | 0.32 | 0.11 | 0.33] -> Tópicos seleccionados: [6, 4], Umbral: 0.174\n",
      "Documento 325: [0.08 | 0.07 | 0.03 | 0.04 | 0.15 | 0.08 | 0.55] -> Tópicos seleccionados: [6], Umbral: 0.174\n",
      "Documento 326: [0.26 | 0.21 | 0.04 | 0.08 | 0.25 | 0.10 | 0.06] -> Tópicos seleccionados: [0, 4, 1], Umbral: 0.174\n",
      "Documento 327: [0.09 | 0.13 | 0.05 | 0.05 | 0.11 | 0.29 | 0.28] -> Tópicos seleccionados: [5, 6], Umbral: 0.174\n",
      "Documento 328: [0.03 | 0.01 | 0.11 | 0.03 | 0.03 | 0.79 | 0.01] -> Tópicos seleccionados: [5], Umbral: 0.174\n",
      "Documento 329: [0.36 | 0.21 | 0.05 | 0.03 | 0.04 | 0.07 | 0.25] -> Tópicos seleccionados: [0, 6, 1], Umbral: 0.174\n",
      "Documento 330: [0.18 | 0.05 | 0.06 | 0.04 | 0.31 | 0.11 | 0.24] -> Tópicos seleccionados: [4, 6, 0], Umbral: 0.174\n",
      "Documento 331: [0.05 | 0.04 | 0.01 | 0.02 | 0.56 | 0.02 | 0.30] -> Tópicos seleccionados: [4, 6], Umbral: 0.174\n",
      "Documento 332: [0.14 | 0.05 | 0.05 | 0.08 | 0.25 | 0.08 | 0.35] -> Tópicos seleccionados: [6, 4], Umbral: 0.174\n",
      "Documento 333: [0.19 | 0.10 | 0.19 | 0.05 | 0.36 | 0.08 | 0.03] -> Tópicos seleccionados: [4, 0, 2], Umbral: 0.174\n",
      "Documento 334: [0.11 | 0.11 | 0.02 | 0.02 | 0.40 | 0.06 | 0.28] -> Tópicos seleccionados: [4, 6], Umbral: 0.174\n",
      "Documento 335: [0.05 | 0.02 | 0.63 | 0.07 | 0.06 | 0.07 | 0.10] -> Tópicos seleccionados: [2], Umbral: 0.174\n",
      "Documento 336: [0.09 | 0.04 | 0.04 | 0.04 | 0.24 | 0.05 | 0.52] -> Tópicos seleccionados: [6, 4], Umbral: 0.174\n",
      "Documento 337: [0.10 | 0.10 | 0.06 | 0.10 | 0.10 | 0.13 | 0.41] -> Tópicos seleccionados: [6], Umbral: 0.174\n",
      "Documento 338: [0.11 | 0.09 | 0.02 | 0.03 | 0.28 | 0.04 | 0.43] -> Tópicos seleccionados: [6, 4], Umbral: 0.174\n",
      "Documento 339: [0.07 | 0.04 | 0.18 | 0.07 | 0.18 | 0.19 | 0.29] -> Tópicos seleccionados: [6, 5, 2], Umbral: 0.174\n",
      "Documento 340: [0.09 | 0.05 | 0.14 | 0.15 | 0.06 | 0.48 | 0.04] -> Tópicos seleccionados: [5], Umbral: 0.174\n",
      "Documento 341: [0.06 | 0.04 | 0.69 | 0.09 | 0.07 | 0.03 | 0.02] -> Tópicos seleccionados: [2], Umbral: 0.174\n",
      "Documento 342: [0.08 | 0.05 | 0.06 | 0.06 | 0.64 | 0.06 | 0.06] -> Tópicos seleccionados: [4], Umbral: 0.174\n",
      "Documento 343: [0.08 | 0.06 | 0.50 | 0.11 | 0.07 | 0.15 | 0.02] -> Tópicos seleccionados: [2], Umbral: 0.174\n",
      "Documento 344: [0.06 | 0.25 | 0.01 | 0.06 | 0.36 | 0.08 | 0.19] -> Tópicos seleccionados: [4, 1, 6], Umbral: 0.174\n",
      "Documento 345: [0.31 | 0.21 | 0.01 | 0.04 | 0.24 | 0.09 | 0.10] -> Tópicos seleccionados: [0, 4, 1], Umbral: 0.174\n",
      "Documento 346: [0.12 | 0.03 | 0.44 | 0.29 | 0.05 | 0.06 | 0.01] -> Tópicos seleccionados: [2, 3], Umbral: 0.174\n",
      "Documento 347: [0.04 | 0.16 | 0.03 | 0.13 | 0.38 | 0.22 | 0.05] -> Tópicos seleccionados: [4, 5], Umbral: 0.174\n",
      "Documento 348: [0.05 | 0.05 | 0.05 | 0.13 | 0.54 | 0.04 | 0.14] -> Tópicos seleccionados: [4], Umbral: 0.174\n",
      "Documento 349: [0.15 | 0.22 | 0.12 | 0.14 | 0.26 | 0.07 | 0.04] -> Tópicos seleccionados: [4, 1], Umbral: 0.174\n",
      "Documento 350: [0.04 | 0.12 | 0.13 | 0.04 | 0.29 | 0.37 | 0.02] -> Tópicos seleccionados: [5, 4], Umbral: 0.174\n",
      "Documento 351: [0.02 | 0.35 | 0.00 | 0.06 | 0.34 | 0.19 | 0.03] -> Tópicos seleccionados: [1, 4, 5], Umbral: 0.174\n",
      "Documento 352: [0.05 | 0.05 | 0.01 | 0.04 | 0.79 | 0.03 | 0.04] -> Tópicos seleccionados: [4], Umbral: 0.174\n",
      "Documento 353: [0.05 | 0.19 | 0.02 | 0.13 | 0.29 | 0.27 | 0.05] -> Tópicos seleccionados: [4, 5, 1], Umbral: 0.174\n",
      "Documento 354: [0.08 | 0.17 | 0.02 | 0.21 | 0.25 | 0.17 | 0.11] -> Tópicos seleccionados: [4, 3, 5], Umbral: 0.174\n",
      "Documento 355: [0.14 | 0.03 | 0.40 | 0.23 | 0.13 | 0.06 | 0.02] -> Tópicos seleccionados: [2, 3], Umbral: 0.174\n",
      "Documento 356: [0.07 | 0.43 | 0.00 | 0.01 | 0.03 | 0.43 | 0.03] -> Tópicos seleccionados: [5, 1], Umbral: 0.174\n",
      "Documento 357: [0.41 | 0.10 | 0.03 | 0.03 | 0.24 | 0.12 | 0.06] -> Tópicos seleccionados: [0, 4], Umbral: 0.174\n",
      "Documento 358: [0.18 | 0.04 | 0.12 | 0.14 | 0.46 | 0.03 | 0.03] -> Tópicos seleccionados: [4, 0], Umbral: 0.174\n",
      "Documento 359: [0.08 | 0.07 | 0.40 | 0.10 | 0.05 | 0.30 | 0.01] -> Tópicos seleccionados: [2, 5], Umbral: 0.174\n",
      "Documento 360: [0.14 | 0.25 | 0.04 | 0.08 | 0.30 | 0.14 | 0.04] -> Tópicos seleccionados: [4, 1], Umbral: 0.174\n",
      "Documento 361: [0.08 | 0.20 | 0.04 | 0.09 | 0.37 | 0.15 | 0.06] -> Tópicos seleccionados: [4, 1], Umbral: 0.174\n",
      "Documento 362: [0.44 | 0.25 | 0.04 | 0.10 | 0.06 | 0.08 | 0.03] -> Tópicos seleccionados: [0, 1], Umbral: 0.174\n",
      "Documento 363: [0.18 | 0.04 | 0.32 | 0.18 | 0.07 | 0.05 | 0.16] -> Tópicos seleccionados: [2, 3, 0], Umbral: 0.174\n",
      "Documento 364: [0.11 | 0.04 | 0.05 | 0.08 | 0.61 | 0.08 | 0.04] -> Tópicos seleccionados: [4], Umbral: 0.174\n",
      "Documento 365: [0.07 | 0.04 | 0.04 | 0.04 | 0.46 | 0.08 | 0.26] -> Tópicos seleccionados: [4, 6], Umbral: 0.174\n",
      "Documento 366: [0.10 | 0.07 | 0.12 | 0.08 | 0.31 | 0.25 | 0.08] -> Tópicos seleccionados: [4, 5], Umbral: 0.174\n",
      "Documento 367: [0.04 | 0.11 | 0.02 | 0.05 | 0.49 | 0.12 | 0.17] -> Tópicos seleccionados: [4], Umbral: 0.174\n",
      "Documento 368: [0.05 | 0.04 | 0.02 | 0.04 | 0.68 | 0.04 | 0.12] -> Tópicos seleccionados: [4], Umbral: 0.174\n",
      "Documento 369: [0.05 | 0.03 | 0.54 | 0.12 | 0.05 | 0.19 | 0.02] -> Tópicos seleccionados: [2, 5], Umbral: 0.174\n",
      "Documento 370: [0.12 | 0.52 | 0.01 | 0.07 | 0.15 | 0.10 | 0.04] -> Tópicos seleccionados: [1], Umbral: 0.174\n",
      "Documento 371: [0.12 | 0.11 | 0.11 | 0.12 | 0.20 | 0.27 | 0.07] -> Tópicos seleccionados: [5, 4], Umbral: 0.174\n",
      "Documento 372: [0.12 | 0.18 | 0.05 | 0.18 | 0.25 | 0.20 | 0.03] -> Tópicos seleccionados: [4, 5, 1], Umbral: 0.174\n",
      "Documento 373: [0.09 | 0.29 | 0.00 | 0.00 | 0.55 | 0.02 | 0.04] -> Tópicos seleccionados: [4, 1], Umbral: 0.174\n",
      "Documento 374: [0.06 | 0.04 | 0.01 | 0.03 | 0.73 | 0.07 | 0.06] -> Tópicos seleccionados: [4], Umbral: 0.174\n",
      "Documento 375: [0.08 | 0.08 | 0.00 | 0.01 | 0.66 | 0.01 | 0.16] -> Tópicos seleccionados: [4], Umbral: 0.174\n",
      "Documento 376: [0.37 | 0.16 | 0.04 | 0.10 | 0.13 | 0.12 | 0.06] -> Tópicos seleccionados: [0], Umbral: 0.174\n",
      "Documento 377: [0.02 | 0.08 | 0.00 | 0.02 | 0.77 | 0.03 | 0.08] -> Tópicos seleccionados: [4], Umbral: 0.174\n",
      "Documento 378: [0.07 | 0.04 | 0.08 | 0.13 | 0.09 | 0.57 | 0.03] -> Tópicos seleccionados: [5], Umbral: 0.174\n",
      "Documento 379: [0.06 | 0.15 | 0.25 | 0.22 | 0.15 | 0.11 | 0.06] -> Tópicos seleccionados: [2, 3], Umbral: 0.174\n",
      "Documento 380: [0.29 | 0.08 | 0.04 | 0.05 | 0.43 | 0.03 | 0.08] -> Tópicos seleccionados: [4, 0], Umbral: 0.174\n",
      "Documento 381: [0.03 | 0.33 | 0.01 | 0.03 | 0.48 | 0.06 | 0.06] -> Tópicos seleccionados: [4, 1], Umbral: 0.174\n",
      "Documento 382: [0.17 | 0.28 | 0.10 | 0.14 | 0.17 | 0.09 | 0.06] -> Tópicos seleccionados: [1], Umbral: 0.174\n",
      "Documento 383: [0.34 | 0.04 | 0.40 | 0.10 | 0.05 | 0.04 | 0.04] -> Tópicos seleccionados: [2, 0], Umbral: 0.174\n",
      "Documento 384: [0.16 | 0.09 | 0.09 | 0.16 | 0.33 | 0.09 | 0.09] -> Tópicos seleccionados: [4], Umbral: 0.174\n",
      "Documento 385: [0.05 | 0.14 | 0.02 | 0.08 | 0.61 | 0.04 | 0.08] -> Tópicos seleccionados: [4], Umbral: 0.174\n",
      "Documento 386: [0.22 | 0.11 | 0.08 | 0.07 | 0.32 | 0.14 | 0.06] -> Tópicos seleccionados: [4, 0], Umbral: 0.174\n",
      "Documento 387: [0.17 | 0.05 | 0.51 | 0.13 | 0.04 | 0.09 | 0.01] -> Tópicos seleccionados: [2], Umbral: 0.174\n",
      "Documento 388: [0.20 | 0.43 | 0.04 | 0.10 | 0.08 | 0.10 | 0.06] -> Tópicos seleccionados: [1, 0], Umbral: 0.174\n",
      "Documento 389: [0.08 | 0.03 | 0.32 | 0.22 | 0.11 | 0.20 | 0.05] -> Tópicos seleccionados: [2, 3, 5], Umbral: 0.174\n",
      "Documento 390: [0.29 | 0.04 | 0.05 | 0.10 | 0.43 | 0.03 | 0.06] -> Tópicos seleccionados: [4, 0], Umbral: 0.174\n",
      "Documento 391: [0.10 | 0.06 | 0.06 | 0.03 | 0.19 | 0.14 | 0.41] -> Tópicos seleccionados: [6, 4], Umbral: 0.174\n",
      "Documento 392: [0.38 | 0.14 | 0.02 | 0.02 | 0.04 | 0.06 | 0.34] -> Tópicos seleccionados: [0, 6], Umbral: 0.174\n",
      "Documento 393: [0.09 | 0.04 | 0.06 | 0.05 | 0.12 | 0.14 | 0.50] -> Tópicos seleccionados: [6], Umbral: 0.174\n",
      "Documento 394: [0.10 | 0.09 | 0.04 | 0.07 | 0.35 | 0.03 | 0.33] -> Tópicos seleccionados: [4, 6], Umbral: 0.174\n",
      "Documento 395: [0.16 | 0.14 | 0.06 | 0.04 | 0.10 | 0.11 | 0.39] -> Tópicos seleccionados: [6], Umbral: 0.174\n",
      "Documento 396: [0.14 | 0.14 | 0.05 | 0.07 | 0.19 | 0.13 | 0.28] -> Tópicos seleccionados: [6, 4], Umbral: 0.174\n",
      "Documento 397: [0.10 | 0.03 | 0.08 | 0.04 | 0.13 | 0.08 | 0.55] -> Tópicos seleccionados: [6], Umbral: 0.174\n",
      "Documento 398: [0.27 | 0.08 | 0.10 | 0.15 | 0.08 | 0.13 | 0.20] -> Tópicos seleccionados: [0, 6], Umbral: 0.174\n",
      "Documento 399: [0.06 | 0.05 | 0.26 | 0.04 | 0.05 | 0.15 | 0.38] -> Tópicos seleccionados: [6, 2], Umbral: 0.174\n",
      "Documento 400: [0.38 | 0.09 | 0.23 | 0.08 | 0.12 | 0.04 | 0.07] -> Tópicos seleccionados: [0, 2], Umbral: 0.174\n",
      "Documento 401: [0.18 | 0.34 | 0.01 | 0.01 | 0.11 | 0.06 | 0.29] -> Tópicos seleccionados: [1, 6, 0], Umbral: 0.174\n",
      "Documento 402: [0.42 | 0.14 | 0.08 | 0.03 | 0.04 | 0.05 | 0.24] -> Tópicos seleccionados: [0, 6], Umbral: 0.174\n",
      "Documento 403: [0.33 | 0.19 | 0.09 | 0.19 | 0.13 | 0.04 | 0.03] -> Tópicos seleccionados: [0, 3, 1], Umbral: 0.174\n",
      "Documento 404: [0.13 | 0.17 | 0.13 | 0.06 | 0.16 | 0.12 | 0.23] -> Tópicos seleccionados: [6], Umbral: 0.174\n",
      "Documento 405: [0.14 | 0.08 | 0.06 | 0.05 | 0.15 | 0.03 | 0.49] -> Tópicos seleccionados: [6], Umbral: 0.174\n",
      "Documento 406: [0.17 | 0.17 | 0.02 | 0.07 | 0.19 | 0.05 | 0.33] -> Tópicos seleccionados: [6, 4], Umbral: 0.174\n",
      "Documento 407: [0.10 | 0.22 | 0.01 | 0.03 | 0.33 | 0.02 | 0.30] -> Tópicos seleccionados: [4, 6, 1], Umbral: 0.174\n",
      "Documento 408: [0.16 | 0.12 | 0.13 | 0.05 | 0.18 | 0.09 | 0.27] -> Tópicos seleccionados: [6, 4], Umbral: 0.174\n",
      "Documento 409: [0.19 | 0.07 | 0.07 | 0.06 | 0.25 | 0.05 | 0.31] -> Tópicos seleccionados: [6, 4, 0], Umbral: 0.174\n",
      "Documento 410: [0.33 | 0.24 | 0.03 | 0.04 | 0.10 | 0.05 | 0.20] -> Tópicos seleccionados: [0, 1, 6], Umbral: 0.174\n",
      "Documento 411: [0.23 | 0.05 | 0.10 | 0.04 | 0.08 | 0.36 | 0.15] -> Tópicos seleccionados: [5, 0], Umbral: 0.174\n",
      "Documento 412: [0.12 | 0.27 | 0.01 | 0.03 | 0.10 | 0.06 | 0.40] -> Tópicos seleccionados: [6, 1], Umbral: 0.174\n",
      "Documento 413: [0.28 | 0.12 | 0.21 | 0.15 | 0.08 | 0.12 | 0.05] -> Tópicos seleccionados: [0, 2], Umbral: 0.174\n",
      "Documento 414: [0.08 | 0.09 | 0.25 | 0.11 | 0.22 | 0.09 | 0.17] -> Tópicos seleccionados: [2, 4], Umbral: 0.174\n",
      "Documento 415: [0.29 | 0.07 | 0.02 | 0.05 | 0.17 | 0.04 | 0.36] -> Tópicos seleccionados: [6, 0], Umbral: 0.174\n",
      "Documento 416: [0.28 | 0.06 | 0.07 | 0.07 | 0.17 | 0.10 | 0.24] -> Tópicos seleccionados: [0, 6], Umbral: 0.174\n",
      "Documento 417: [0.28 | 0.19 | 0.02 | 0.03 | 0.19 | 0.07 | 0.22] -> Tópicos seleccionados: [0, 6, 4], Umbral: 0.174\n",
      "Documento 418: [0.14 | 0.07 | 0.07 | 0.02 | 0.05 | 0.04 | 0.60] -> Tópicos seleccionados: [6], Umbral: 0.174\n",
      "Documento 419: [0.34 | 0.14 | 0.02 | 0.02 | 0.08 | 0.05 | 0.34] -> Tópicos seleccionados: [6, 0], Umbral: 0.174\n",
      "Documento 420: [0.09 | 0.02 | 0.10 | 0.03 | 0.09 | 0.13 | 0.55] -> Tópicos seleccionados: [6], Umbral: 0.174\n",
      "Documento 421: [0.11 | 0.02 | 0.59 | 0.07 | 0.04 | 0.14 | 0.02] -> Tópicos seleccionados: [2], Umbral: 0.174\n",
      "Documento 422: [0.12 | 0.01 | 0.64 | 0.11 | 0.01 | 0.10 | 0.01] -> Tópicos seleccionados: [2], Umbral: 0.174\n",
      "Documento 423: [0.09 | 0.13 | 0.06 | 0.09 | 0.19 | 0.08 | 0.37] -> Tópicos seleccionados: [6, 4], Umbral: 0.174\n",
      "Documento 424: [0.15 | 0.09 | 0.19 | 0.08 | 0.09 | 0.13 | 0.27] -> Tópicos seleccionados: [6, 2], Umbral: 0.174\n",
      "Documento 425: [0.07 | 0.04 | 0.53 | 0.06 | 0.06 | 0.06 | 0.19] -> Tópicos seleccionados: [2, 6], Umbral: 0.174\n",
      "Documento 426: [0.31 | 0.20 | 0.01 | 0.02 | 0.04 | 0.03 | 0.40] -> Tópicos seleccionados: [6, 0, 1], Umbral: 0.174\n",
      "Documento 427: [0.12 | 0.08 | 0.04 | 0.04 | 0.08 | 0.16 | 0.48] -> Tópicos seleccionados: [6], Umbral: 0.174\n",
      "Documento 428: [0.27 | 0.06 | 0.05 | 0.07 | 0.24 | 0.04 | 0.26] -> Tópicos seleccionados: [0, 6, 4], Umbral: 0.174\n",
      "Documento 429: [0.06 | 0.20 | 0.02 | 0.09 | 0.31 | 0.06 | 0.26] -> Tópicos seleccionados: [4, 6, 1], Umbral: 0.174\n",
      "Documento 430: [0.10 | 0.05 | 0.03 | 0.02 | 0.04 | 0.11 | 0.64] -> Tópicos seleccionados: [6], Umbral: 0.174\n",
      "Documento 431: [0.43 | 0.20 | 0.05 | 0.04 | 0.05 | 0.09 | 0.13] -> Tópicos seleccionados: [0, 1], Umbral: 0.174\n",
      "Documento 432: [0.23 | 0.21 | 0.04 | 0.03 | 0.05 | 0.04 | 0.39] -> Tópicos seleccionados: [6, 0, 1], Umbral: 0.174\n",
      "Documento 433: [0.22 | 0.38 | 0.01 | 0.01 | 0.12 | 0.09 | 0.16] -> Tópicos seleccionados: [1, 0], Umbral: 0.174\n",
      "Documento 434: [0.18 | 0.12 | 0.01 | 0.04 | 0.13 | 0.04 | 0.49] -> Tópicos seleccionados: [6, 0], Umbral: 0.174\n",
      "Documento 435: [0.21 | 0.17 | 0.03 | 0.05 | 0.08 | 0.07 | 0.40] -> Tópicos seleccionados: [6, 0], Umbral: 0.174\n",
      "Documento 436: [0.12 | 0.27 | 0.06 | 0.14 | 0.11 | 0.18 | 0.13] -> Tópicos seleccionados: [1, 5], Umbral: 0.174\n",
      "Documento 437: [0.07 | 0.12 | 0.01 | 0.02 | 0.15 | 0.07 | 0.57] -> Tópicos seleccionados: [6], Umbral: 0.174\n",
      "Documento 438: [0.13 | 0.30 | 0.01 | 0.02 | 0.26 | 0.02 | 0.27] -> Tópicos seleccionados: [1, 6, 4], Umbral: 0.174\n",
      "Documento 439: [0.29 | 0.31 | 0.00 | 0.04 | 0.24 | 0.02 | 0.10] -> Tópicos seleccionados: [1, 0, 4], Umbral: 0.174\n",
      "Documento 440: [0.13 | 0.07 | 0.04 | 0.02 | 0.06 | 0.04 | 0.63] -> Tópicos seleccionados: [6], Umbral: 0.174\n",
      "Documento 441: [0.13 | 0.10 | 0.17 | 0.08 | 0.06 | 0.32 | 0.15] -> Tópicos seleccionados: [5], Umbral: 0.174\n",
      "Documento 442: [0.22 | 0.02 | 0.42 | 0.15 | 0.10 | 0.07 | 0.02] -> Tópicos seleccionados: [2, 0], Umbral: 0.174\n",
      "Documento 443: [0.14 | 0.01 | 0.38 | 0.11 | 0.25 | 0.07 | 0.04] -> Tópicos seleccionados: [2, 4], Umbral: 0.174\n",
      "Documento 444: [0.15 | 0.16 | 0.00 | 0.01 | 0.02 | 0.01 | 0.64] -> Tópicos seleccionados: [6], Umbral: 0.174\n",
      "Documento 445: [0.43 | 0.30 | 0.07 | 0.07 | 0.02 | 0.09 | 0.03] -> Tópicos seleccionados: [0, 1], Umbral: 0.174\n",
      "Documento 446: [0.14 | 0.02 | 0.22 | 0.06 | 0.05 | 0.50 | 0.01] -> Tópicos seleccionados: [5, 2], Umbral: 0.174\n",
      "Documento 447: [0.09 | 0.07 | 0.16 | 0.07 | 0.11 | 0.36 | 0.13] -> Tópicos seleccionados: [5], Umbral: 0.174\n",
      "Documento 448: [0.29 | 0.06 | 0.05 | 0.12 | 0.28 | 0.11 | 0.09] -> Tópicos seleccionados: [0, 4], Umbral: 0.174\n",
      "Documento 449: [0.23 | 0.08 | 0.03 | 0.06 | 0.39 | 0.05 | 0.15] -> Tópicos seleccionados: [4, 0], Umbral: 0.174\n",
      "Documento 450: [0.08 | 0.09 | 0.14 | 0.07 | 0.20 | 0.28 | 0.14] -> Tópicos seleccionados: [5, 4], Umbral: 0.174\n",
      "Documento 451: [0.14 | 0.02 | 0.28 | 0.10 | 0.40 | 0.05 | 0.02] -> Tópicos seleccionados: [4, 2], Umbral: 0.174\n",
      "Documento 452: [0.39 | 0.04 | 0.04 | 0.07 | 0.27 | 0.13 | 0.07] -> Tópicos seleccionados: [0, 4], Umbral: 0.174\n",
      "Documento 453: [0.28 | 0.03 | 0.40 | 0.10 | 0.02 | 0.16 | 0.01] -> Tópicos seleccionados: [2, 0], Umbral: 0.174\n",
      "Documento 454: [0.15 | 0.06 | 0.14 | 0.10 | 0.27 | 0.24 | 0.05] -> Tópicos seleccionados: [4, 5], Umbral: 0.174\n",
      "Documento 455: [0.38 | 0.03 | 0.21 | 0.26 | 0.05 | 0.06 | 0.02] -> Tópicos seleccionados: [0, 3, 2], Umbral: 0.174\n",
      "Documento 456: [0.07 | 0.02 | 0.47 | 0.04 | 0.09 | 0.30 | 0.02] -> Tópicos seleccionados: [2, 5], Umbral: 0.174\n",
      "Documento 457: [0.20 | 0.05 | 0.27 | 0.30 | 0.07 | 0.08 | 0.04] -> Tópicos seleccionados: [3, 2, 0], Umbral: 0.174\n",
      "Documento 458: [0.34 | 0.08 | 0.04 | 0.10 | 0.31 | 0.08 | 0.04] -> Tópicos seleccionados: [0, 4], Umbral: 0.174\n",
      "Documento 459: [0.43 | 0.03 | 0.21 | 0.12 | 0.09 | 0.10 | 0.02] -> Tópicos seleccionados: [0, 2], Umbral: 0.174\n",
      "Documento 460: [0.16 | 0.06 | 0.08 | 0.04 | 0.20 | 0.36 | 0.09] -> Tópicos seleccionados: [5, 4], Umbral: 0.174\n",
      "Documento 461: [0.23 | 0.03 | 0.15 | 0.04 | 0.03 | 0.51 | 0.01] -> Tópicos seleccionados: [5, 0], Umbral: 0.174\n",
      "Documento 462: [0.31 | 0.09 | 0.01 | 0.02 | 0.36 | 0.04 | 0.18] -> Tópicos seleccionados: [4, 0, 6], Umbral: 0.174\n",
      "Documento 463: [0.25 | 0.04 | 0.23 | 0.13 | 0.19 | 0.07 | 0.10] -> Tópicos seleccionados: [0, 2, 4], Umbral: 0.174\n",
      "Documento 464: [0.09 | 0.02 | 0.61 | 0.12 | 0.03 | 0.12 | 0.02] -> Tópicos seleccionados: [2], Umbral: 0.174\n",
      "Documento 465: [0.23 | 0.17 | 0.01 | 0.04 | 0.31 | 0.08 | 0.15] -> Tópicos seleccionados: [4, 0], Umbral: 0.174\n",
      "Documento 466: [0.46 | 0.05 | 0.15 | 0.10 | 0.06 | 0.16 | 0.02] -> Tópicos seleccionados: [0], Umbral: 0.174\n",
      "Documento 467: [0.12 | 0.12 | 0.03 | 0.04 | 0.04 | 0.52 | 0.13] -> Tópicos seleccionados: [5], Umbral: 0.174\n",
      "Documento 468: [0.28 | 0.05 | 0.08 | 0.06 | 0.20 | 0.13 | 0.19] -> Tópicos seleccionados: [0, 4, 6], Umbral: 0.174\n",
      "Documento 469: [0.31 | 0.05 | 0.07 | 0.06 | 0.24 | 0.07 | 0.20] -> Tópicos seleccionados: [0, 4, 6], Umbral: 0.174\n",
      "Documento 470: [0.34 | 0.19 | 0.03 | 0.06 | 0.05 | 0.20 | 0.13] -> Tópicos seleccionados: [0, 5, 1], Umbral: 0.174\n",
      "Documento 471: [0.40 | 0.06 | 0.03 | 0.04 | 0.35 | 0.04 | 0.07] -> Tópicos seleccionados: [0, 4], Umbral: 0.174\n",
      "Documento 472: [0.17 | 0.04 | 0.08 | 0.08 | 0.34 | 0.03 | 0.25] -> Tópicos seleccionados: [4, 6, 0], Umbral: 0.174\n",
      "Documento 473: [0.09 | 0.06 | 0.01 | 0.01 | 0.48 | 0.03 | 0.32] -> Tópicos seleccionados: [4, 6], Umbral: 0.174\n",
      "Documento 474: [0.11 | 0.06 | 0.03 | 0.04 | 0.24 | 0.05 | 0.47] -> Tópicos seleccionados: [6, 4], Umbral: 0.174\n",
      "Documento 475: [0.09 | 0.05 | 0.11 | 0.04 | 0.23 | 0.05 | 0.43] -> Tópicos seleccionados: [6, 4], Umbral: 0.174\n",
      "Documento 476: [0.19 | 0.13 | 0.05 | 0.07 | 0.33 | 0.05 | 0.19] -> Tópicos seleccionados: [4, 0, 6], Umbral: 0.174\n",
      "Documento 477: [0.25 | 0.04 | 0.03 | 0.04 | 0.42 | 0.04 | 0.19] -> Tópicos seleccionados: [4, 0, 6], Umbral: 0.174\n",
      "Documento 478: [0.20 | 0.02 | 0.53 | 0.15 | 0.02 | 0.07 | 0.02] -> Tópicos seleccionados: [2, 0], Umbral: 0.174\n",
      "Documento 479: [0.31 | 0.15 | 0.05 | 0.05 | 0.09 | 0.05 | 0.30] -> Tópicos seleccionados: [0, 6], Umbral: 0.174\n",
      "Documento 480: [0.19 | 0.06 | 0.09 | 0.10 | 0.48 | 0.02 | 0.06] -> Tópicos seleccionados: [4, 0], Umbral: 0.174\n",
      "Documento 481: [0.06 | 0.04 | 0.04 | 0.04 | 0.52 | 0.09 | 0.20] -> Tópicos seleccionados: [4, 6], Umbral: 0.174\n",
      "Documento 482: [0.18 | 0.04 | 0.38 | 0.26 | 0.04 | 0.09 | 0.01] -> Tópicos seleccionados: [2, 3, 0], Umbral: 0.174\n",
      "Documento 483: [0.12 | 0.04 | 0.19 | 0.04 | 0.06 | 0.34 | 0.20] -> Tópicos seleccionados: [5, 6, 2], Umbral: 0.174\n",
      "Documento 484: [0.23 | 0.06 | 0.09 | 0.15 | 0.36 | 0.09 | 0.03] -> Tópicos seleccionados: [4, 0], Umbral: 0.174\n",
      "Documento 485: [0.26 | 0.10 | 0.03 | 0.02 | 0.49 | 0.05 | 0.05] -> Tópicos seleccionados: [4, 0], Umbral: 0.174\n",
      "Documento 486: [0.22 | 0.02 | 0.18 | 0.08 | 0.43 | 0.04 | 0.02] -> Tópicos seleccionados: [4, 0, 2], Umbral: 0.174\n",
      "Documento 487: [0.21 | 0.04 | 0.03 | 0.07 | 0.52 | 0.03 | 0.11] -> Tópicos seleccionados: [4, 0], Umbral: 0.174\n",
      "Documento 488: [0.23 | 0.03 | 0.24 | 0.09 | 0.05 | 0.33 | 0.04] -> Tópicos seleccionados: [5, 2, 0], Umbral: 0.174\n",
      "Documento 489: [0.02 | 0.01 | 0.59 | 0.07 | 0.01 | 0.27 | 0.03] -> Tópicos seleccionados: [2, 5], Umbral: 0.174\n",
      "Documento 490: [0.53 | 0.11 | 0.04 | 0.07 | 0.04 | 0.19 | 0.03] -> Tópicos seleccionados: [0, 5], Umbral: 0.174\n"
     ]
    }
   ],
   "source": [
    "import numpy as np\n",
    "\n",
    "def select_topics_stat(doc_vec, threshold, max_topics=3):\n",
    "    \"\"\"\n",
    "    Selecciona tópicos estadísticamente mejores que azar (95% confianza).\n",
    "    - Usa un threshold ya calculado.\n",
    "    - Máximo max_topics tópicos seleccionados.\n",
    "    \"\"\"\n",
    "    doc_vec = np.array(doc_vec)\n",
    "    order = np.argsort(doc_vec)[::-1]\n",
    "\n",
    "    selected = []\n",
    "    for i in order:\n",
    "        if doc_vec[i] > threshold:\n",
    "            selected.append(i)\n",
    "        if len(selected) >= max_topics:\n",
    "            break\n",
    "\n",
    "    return selected\n",
    "\n",
    "# Calcular solo una vez\n",
    "N = len(doc_topic_dist)\n",
    "C = doc_topic_dist.shape[1]\n",
    "p = 1 / C\n",
    "sigma = np.sqrt(p * (1 - p) / N)\n",
    "threshold = p + 1.96 * sigma\n",
    "\n",
    "# Aplicar a todos los documentos\n",
    "for i, doc in enumerate(doc_topic_dist, 1):\n",
    "    selected = select_topics_stat(doc, threshold)\n",
    "    probs_str = \" | \".join(f\"{p:.2f}\" for p in doc)\n",
    "    print(f\"Documento {i}: [{probs_str}] -> Tópicos seleccionados: {selected}, Umbral: {threshold:.3f}\")\n"
   ]
  },
  {
   "cell_type": "code",
   "execution_count": 9,
   "id": "0c7c2465",
   "metadata": {},
   "outputs": [],
   "source": [
    "topic_info = procesar_topicos_fastopic(topic_model, doc_topic_dist, top_words)\n",
    "\n",
    "# Preparar información de todos los tópicos para procesamiento en lote\n",
    "topics_info_text = \"\"\n",
    "for _, row in topic_info.iterrows():\n",
    "    topic_id = row['Topic']\n",
    "    keywords = row['Keywords']\n",
    "    if keywords and keywords not in [\"Sin palabras\", \"Error en procesamiento\"]:\n",
    "        topics_info_text += f\"Tópico {topic_id}: {keywords}\\n\"\n",
    "\n",
    "resultado = clasificador_topicos.invoke({\"topics_info\": topics_info_text})\n",
    "\n",
    "topic_names = {}\n",
    "for topic_label in resultado.topics:\n",
    "    topic_names[topic_label.topic_id] = topic_label.label\n",
    "\n",
    "topic_info['Name'] = topic_info['Topic'].map(topic_names)"
   ]
  },
  {
   "cell_type": "code",
   "execution_count": 10,
   "id": "8f86ee20",
   "metadata": {},
   "outputs": [
    {
     "name": "stdout",
     "output_type": "stream",
     "text": [
      "Tópico 0: fri, casa, vida, cultura, lugar, tour, guia, recomeir, co, contar\n",
      "Tópico 1: castillo, templo, catedral, ruina, chap, palacio, constitucion, bandera, mirar, senal\n",
      "Tópico 2: animal, acu, grupo, cuidado, actividad, servicio, personal, promo, exper, fila\n",
      "Tópico 3: bas, misa, guadalupe, iglesia, virgen, imagen, capilla, fe, milagro, importancia\n",
      "Tópico 4: mural, rivera, interior, diego, art, artista, artes, obra, escultura, dec\n",
      "Tópico 5: restaurante, tienda, calle, mercado, plaza, comida, octubre, comp, hotel, cola\n",
      "Tópico 6: museo, coleccion, pieza, entrada, piso, arte, planta, espanol, antrop, hora\n",
      "\n"
     ]
    }
   ],
   "source": [
    "print(topics_info_text)"
   ]
  },
  {
   "cell_type": "code",
   "execution_count": 11,
   "id": "66c45ab3",
   "metadata": {},
   "outputs": [
    {
     "name": "stdout",
     "output_type": "stream",
     "text": [
      "topics=[TopicLabel(topic_id=0, label='Vida Local'), TopicLabel(topic_id=1, label='Patrimonio Cultural'), TopicLabel(topic_id=2, label='Vida Marina'), TopicLabel(topic_id=3, label='Religión y Fe'), TopicLabel(topic_id=4, label='Arte y Museos'), TopicLabel(topic_id=5, label='Gastronomía y Compras'), TopicLabel(topic_id=6, label='Museos y Colecciones')]\n"
     ]
    }
   ],
   "source": [
    "print(resultado)"
   ]
  },
  {
   "cell_type": "code",
   "execution_count": 12,
   "id": "dfb93d62",
   "metadata": {},
   "outputs": [
    {
     "name": "stdout",
     "output_type": "stream",
     "text": [
      "🔄 SOBRESCRIBIENDO resultados previos para Cdmx:\n",
      "   📝 Opiniones con tópicos previos: 490\n",
      "   🆕 Nuevas asignaciones de tópicos: 490\n",
      "\n",
      "✅ Actualización completada para Cdmx\n",
      "Distribución de tópicos en Cdmx:\n",
      "Topico_Nombre\n",
      "Vida Marina              112\n",
      "Museos y Colecciones      76\n",
      "Patrimonio Cultural       69\n",
      "Arte y Museos             67\n",
      "Gastronomía y Compras     64\n",
      "Vida Local                54\n",
      "Religión y Fe             48\n",
      "Name: count, dtype: int64\n",
      "\n",
      "Porcentaje de opiniones por tópico en Cdmx:\n",
      "Vida Marina: 22.86%\n",
      "Museos y Colecciones: 15.51%\n",
      "Patrimonio Cultural: 14.08%\n",
      "Arte y Museos: 13.67%\n",
      "Gastronomía y Compras: 13.06%\n",
      "Vida Local: 11.02%\n",
      "Religión y Fe: 9.8%\n",
      "\n",
      "Estado actualización dataset completo:\n",
      "Total opiniones: 2464\n",
      "Opiniones con tópico FASTopic asignado: 1464\n",
      "Opiniones pendientes: 1000\n"
     ]
    }
   ],
   "source": [
    "# Obtener asignaciones de tópicos para documentos\n",
    "topic_assignments, topic_names_assigned, topic_probabilities = obtener_asignaciones_topicos_fastopic(\n",
    "    doc_topic_dist, \n",
    "    topic_names, \n",
    "    threshold=0.1\n",
    ")\n",
    "\n",
    "# Procesar solo datos de la ciudad seleccionada\n",
    "df_con_topicos = df_ciudad.dropna(subset=[columna_texto]).copy()\n",
    "df_con_topicos['Topico'] = topic_assignments\n",
    "df_con_topicos['Topico_Nombre'] = topic_names_assigned\n",
    "df_con_topicos['Probabilidad_Topico'] = topic_probabilities\n",
    "\n",
    "# Verificar si la ciudad ya tenía resultados previos\n",
    "indices_ciudad = df_con_topicos.index\n",
    "opiniones_previas = df.loc[indices_ciudad, 'TopicoConFASTopic'].notna().sum()\n",
    "\n",
    "if opiniones_previas > 0:\n",
    "    print(f\"🔄 SOBRESCRIBIENDO resultados previos para {CIUDAD_ANALIZAR}:\")\n",
    "    print(f\"   📝 Opiniones con tópicos previos: {opiniones_previas}\")\n",
    "    print(f\"   🆕 Nuevas asignaciones de tópicos: {len(df_con_topicos)}\")\n",
    "else:\n",
    "    print(f\"🆕 PRIMERA VEZ procesando {CIUDAD_ANALIZAR}:\")\n",
    "    print(f\"   📝 Nuevas asignaciones de tópicos: {len(df_con_topicos)}\")\n",
    "\n",
    "# Actualizar el dataset original con los tópicos de la ciudad analizada\n",
    "df.loc[indices_ciudad, 'TopicoConFASTopic'] = df_con_topicos['Topico_Nombre']\n",
    "\n",
    "print(f\"\\n✅ Actualización completada para {CIUDAD_ANALIZAR}\")\n",
    "print(f\"Distribución de tópicos en {CIUDAD_ANALIZAR}:\")\n",
    "topico_counts = df_con_topicos['Topico_Nombre'].value_counts()\n",
    "print(topico_counts)\n",
    "\n",
    "print(f\"\\nPorcentaje de opiniones por tópico en {CIUDAD_ANALIZAR}:\")\n",
    "topico_pct = (topico_counts / len(df_con_topicos) * 100).round(2)\n",
    "for topico, pct in topico_pct.items():\n",
    "    print(f\"{topico}: {pct}%\")\n",
    "\n",
    "print(f\"\\nEstado actualización dataset completo:\")\n",
    "print(f\"Total opiniones: {len(df)}\")\n",
    "print(f\"Opiniones con tópico FASTopic asignado: {df['TopicoConFASTopic'].notna().sum()}\")\n",
    "print(f\"Opiniones pendientes: {df['TopicoConFASTopic'].isna().sum()}\")"
   ]
  },
  {
   "cell_type": "code",
   "execution_count": 13,
   "id": "84a05bd0",
   "metadata": {},
   "outputs": [],
   "source": [
    "# Obtener asignaciones de tópicos para documentos\n",
    "topic_assignments, topic_names_assigned, topic_probabilities = obtener_asignaciones_topicos_fastopic(\n",
    "    doc_topic_dist, \n",
    "    topic_names, \n",
    "    threshold=0.1\n",
    ")\n",
    "\n",
    "# Procesar solo datos de la ciudad seleccionada\n",
    "df_con_topicos = df_ciudad.dropna(subset=[columna_texto]).copy()\n",
    "df_con_topicos['Topico'] = topic_assignments\n",
    "df_con_topicos['Topico_Nombre'] = topic_names_assigned\n",
    "df_con_topicos['Probabilidad_Topico'] = topic_probabilities\n",
    "\n",
    "# Actualizar el dataset original con los tópicos de la ciudad analizada\n",
    "indices_ciudad = df_con_topicos.index\n",
    "df.loc[indices_ciudad, 'TopicoConFASTopic'] = df_con_topicos['Topico_Nombre']"
   ]
  },
  {
   "cell_type": "code",
   "execution_count": 14,
   "id": "bc786cf1",
   "metadata": {},
   "outputs": [
    {
     "name": "stdout",
     "output_type": "stream",
     "text": [
      "📚 EJEMPLOS DE OPINIONES POR TÓPICO\n",
      "======================================================================\n",
      "\n",
      "🏷️ 1. Vida Marina\n",
      "📊 Total de opiniones: 112\n",
      "📝 Ejemplos:\n",
      "   1. . El acceso al parque está bien señal ##izado , en estado y es incluso para personas y niños . Es ba...\n",
      "   2. Emple poco . Los empleados son muy y , el del elevado ##r no deja subir a la gente de la 3 edad , le...\n",
      "   3. Vale la pena . Vale la pena , de historia y de cosas tan vale la pena tomarse el tiempo de analizar ...\n",
      "----------------------------------------------------------------------\n",
      "\n",
      "🏷️ 2. Museos y Colecciones\n",
      "📊 Total de opiniones: 76\n",
      "📝 Ejemplos:\n",
      "   1. . Hay un museo en la entrada , luego se camina a través de algunas ruinas al aire , luego hay un mus...\n",
      "   2. El día que aterri ##zamos en la Ciudad de México , hicimos un recorrido a pie y pasamos por aquí par...\n",
      "   3. Tiene muchos defectos en el servicio y la higiene es muy del museo y de los alrededores . Necesita m...\n",
      "----------------------------------------------------------------------\n",
      "\n",
      "🏷️ 3. Patrimonio Cultural\n",
      "📊 Total de opiniones: 69\n",
      "📝 Ejemplos:\n",
      "   1. MA ##G ##IA EN CH ##AP ##UL ##TE ##C . Al llegar al Castillo su imagen es , su arquitectura , su dis...\n",
      "   2. . Me encanta visitar el Castillo de Chap ##ult ##ep ##ec , porque para mí es como un viaje a otra ép...\n",
      "   3. Lugar . Un lugar de la Ciudad de México . Es el castillo en América , y uno de los puntos más de la ...\n",
      "----------------------------------------------------------------------\n",
      "\n",
      "🏷️ 4. Arte y Museos\n",
      "📊 Total de opiniones: 67\n",
      "📝 Ejemplos:\n",
      "   1. Castillo . Este castillo es tan , me sentí como si estuviera en una película de Disney y yo era la p...\n",
      "   2. Chap ##ult ##ep ##ec es ! . Vis ##ite por vez el Castillo de Chap ##ult ##ep ##ec , me encantó , las...\n",
      "   3. visita , mucho que ver . Sobre ##sal . Maravillos ##amente conservado , un montón de detalles . Vale...\n",
      "----------------------------------------------------------------------\n",
      "\n",
      "🏷️ 5. Gastronomía y Compras\n",
      "📊 Total de opiniones: 64\n",
      "📝 Ejemplos:\n",
      "   1. ¡ No vayas durante el horario de apertura ! . Llegamos a las 9 : 00 AM en punto para evitar las mult...\n",
      "   2. [UNK] . Este es un ejemplo de cómo satisfacer las necesidades , pero preserv ##ando el medio ambient...\n",
      "   3. lugar para visitar ! ! . Este lugar es , la arquitectura es [UNK] experiencia para los creyentes . S...\n",
      "----------------------------------------------------------------------\n"
     ]
    }
   ],
   "source": [
    "# Mostrar ejemplos de opiniones por tópico\n",
    "mostrar_ejemplos_por_topico_fastopic(\n",
    "    df_con_topicos, \n",
    "    topico_col='Topico_Nombre',\n",
    "    texto_col='TituloReview',\n",
    "    n_ejemplos=3,\n",
    "    top_n_topicos=5\n",
    ")"
   ]
  },
  {
   "cell_type": "code",
   "execution_count": 15,
   "id": "a639901d",
   "metadata": {},
   "outputs": [
    {
     "name": "stdout",
     "output_type": "stream",
     "text": [
      "🔍 Comparación de ejemplos - Original vs Limpio (Cdmx):\n",
      "================================================================================\n",
      "\n",
      "📄 EJEMPLO 1 - Tópico: Vida Marina\n",
      "🔸 Original: . es un lugar , la colina , las dos construcciones y la bas ##ílica que esta por y para la virgen , el interior es , uno puede estar en medio de un tour y escuchar misa al mismo tiempo , como consejo ir temprano a mi me fal ##to tiempo para disfrutar ##la .\n",
      "🔹 Limpio:   ser uno lugar el colín el dos construcción y el bas que este por y para el virgen el interior ser uno poder estar en medio de uno tour y escuchar misa al mismo tiempo como consejo ir temprano a mi yo fal tiempo para disfrutar\n",
      "📊 Probabilidad: 0.341\n",
      "📉 Reducción: 257 → 225 caracteres (12.5%)\n",
      "--------------------------------------------------------------------------------\n",
      "\n",
      "📄 EJEMPLO 2 - Tópico: Vida Marina\n",
      "🔸 Original: Demasi gente . Me encanta el [UNK] , pero siempre está y es de entenderse , es un lugar con mucha concentración por el lugar que es , sin embargo eso hace que ir ya no sea tan , a veces no puedes ni caminar de tanta gente que hay .\n",
      "🔹 Limpio:   demasi gente yo encantar el unk pero siempre este y ser de entender él ser uno lugar con mucho concentracion por el lugar que ser sin embargo ese hacer que ir ya no ser tanto a veces no poder ni caminar de tanto gente que haber\n",
      "📊 Probabilidad: 0.428\n",
      "📉 Reducción: 231 → 227 caracteres (1.7%)\n",
      "--------------------------------------------------------------------------------\n",
      "\n",
      "📄 EJEMPLO 3 - Tópico: Vida Marina\n",
      "🔸 Original: Muy . En esta zona encuentras lugares con las tres b : , y . para venir un fin de semana , con tus amigos , familia o pareja .\n",
      "🔹 Limpio:   mucho en este zona encuentra lugar con el tres b y para venir uno fin de semana con tu amigo familia o pareja\n",
      "📊 Probabilidad: 0.547\n",
      "📉 Reducción: 126 → 109 caracteres (13.5%)\n",
      "--------------------------------------------------------------------------------\n",
      "\n",
      "📄 EJEMPLO 4 - Tópico: Gastronomía y Compras\n",
      "🔸 Original: Un paseo por la Ciudad de México . Este es un complemento a un paseo por [UNK] . Hay muchos café ##s y mercados y una plaza . Vale la pena una visita .\n",
      "🔹 Limpio:   uno paseo por el ciudad de mexico este ser uno complemento a uno paseo por unk haber mucho cafe y mercado y uno plaza valer el pena uno visita\n",
      "📊 Probabilidad: 0.430\n",
      "📉 Reducción: 151 → 142 caracteres (6.0%)\n",
      "--------------------------------------------------------------------------------\n",
      "\n",
      "📄 EJEMPLO 5 - Tópico: Vida Marina\n",
      "🔸 Original: No fue el . La verdad es que esperaba mas de este lugar , creo que falta una persona que vaya explican ##do lo que eran cada sector de las ruinas porque uno que no conoce el tema mira y ve ruinas sin historia y así no valora lo que es . Lo digo en base a otras visitas en las que si tuve un gui ##a que contaba la historia . La guardia me hizo bo ##tar una botella de Coca ##col ##a recién compra sino no podía entrar . No veo el daño que podría causar con eso , pero lo respeto . Para mi hubo otros lugares mas .\n",
      "🔹 Limpio:   no ser el el verdad ser que esperar mas de este lugar creer que faltar uno persona que ir explicar él que ser cada sector de el ruina porque uno que no conocer el tema mira y ver ruina sin historia y asi no valorar él que ser él decir en base a otro visita en el que si tener uno gui que contar el historia el guardia yo hacer bo uno botella de coca recien compra sino no podiar entrar no ver el dano que podriar causar con ese pero él respetar para mi haber otro lugar mas\n",
      "📊 Probabilidad: 0.383\n",
      "📉 Reducción: 513 → 473 caracteres (7.8%)\n",
      "--------------------------------------------------------------------------------\n",
      "\n",
      "📄 EJEMPLO 6 - Tópico: Gastronomía y Compras\n",
      "🔸 Original: Sitio de visita . Lugar para visitar , muy , muy bien preserv , dan misa cada hora , tienen tienda para comprar recuerdos , a la salida tienen un sitio para bende ##cir lo que compraste .\n",
      "🔹 Limpio:   sitio de visita lugar para visitar mucho mucho bien preserv dar misa cada hora tener tienda para comprar recuerdo a el salida tener uno sitio para bende él que comprastar\n",
      "📊 Probabilidad: 0.364\n",
      "📉 Reducción: 187 → 170 caracteres (9.1%)\n",
      "--------------------------------------------------------------------------------\n",
      "\n",
      "📄 EJEMPLO 7 - Tópico: Vida Local\n",
      "🔸 Original: Casa Museo . Usted viene a este museo si usted está en aprender acerca de la pintor Fri ##da y el pintor mundial ##mente Diego Rivera su marido . Cuando Fri ##da murió su casa que compartió con Diego durante 25 años se abrió al público . Una visita aquí requiere compra por adelantado y porque las habitaciones de la casa son , ##met . Cuando usted viene se dirige a través de las habitaciones de su casa y luego en los jardines . En una zona hay otra zona de exposición donde se muestra la ropa de Fri ##da . También hay una tienda de aper ##itivo ##s en la propiedad . Como Fri y Diego pasaron tanto tiempo aquí y eran figuras con muchos amigos , la casa tanto de su personalidad . Pasamos 1 , 5 horas aquí . Los boletos que usted compra ( consiguen entrada ) , también le permiten visitar gratis el Museo ##lli . Ana ##chu ##aca ##lli es un museo por Diego y Fri ##da para albergar su colección de Arte . La casa de la ciudad se encuentra en el extremo de la ciudad de la cual se le da cuenta .\n",
      "🔹 Limpio:   casa museo usted venir a este museo si usted este en aprender acerca de el pintor fri y el pintor mundial diego rivera su marido cuando fri murio su casa que compartio con diego durante 25 ano él abrio al publico uno visita aqui requerir compra por adelantado y porque el habitación de el casa ser cuando usted venir él dirigir a trav de el habitación de su casa y luego en el jardín en uno zona haber otro zona de exposicion donde él mostrar el ropa de fri tambien haber uno tienda de aper en el propiedad como fri y diego pasar tanto tiempo aqui y ser figura con mucho amigo el casa tanto de su personalidad pasar 1 5 hora aqui el boleto que usted comprar conseguir entrada tambien él permitir visitar gratis el museo ana ser uno museo por diego y fri para albergar su coleccion de arte el casa de el ciudad él encontrar en el extremo de el ciudad de el cual él él dar cuenta\n",
      "📊 Probabilidad: 0.283\n",
      "📉 Reducción: 997 → 877 caracteres (12.0%)\n",
      "--------------------------------------------------------------------------------\n",
      "\n",
      "📄 EJEMPLO 8 - Tópico: Arte y Museos\n",
      "🔸 Original: . Me encanta el museo y también me encanta la zona en la que se encuentra , de visitar cualquier día del año .\n",
      "🔹 Limpio:   yo encantar el museo y tambien yo encantar el zona en el que él encontrar de visitar cualquiera dia del ano\n",
      "📊 Probabilidad: 0.331\n",
      "📉 Reducción: 110 → 107 caracteres (2.7%)\n",
      "--------------------------------------------------------------------------------\n",
      "\n",
      "📄 EJEMPLO 9 - Tópico: Museos y Colecciones\n",
      "🔸 Original: museo . Me encantó visitar el Museo ##da , la verdad , he de decir , que el precio me pareció algo , pero el museo en sí me gustó bastante .\n",
      "🔹 Limpio:   museo yo encantar visitar el museo el verdad haber de decir que el precio yo parecio algo pero el museo en si yo gustar bastante\n",
      "📊 Probabilidad: 0.433\n",
      "📉 Reducción: 140 → 128 caracteres (8.6%)\n",
      "--------------------------------------------------------------------------------\n",
      "\n",
      "📄 EJEMPLO 10 - Tópico: Gastronomía y Compras\n",
      "🔸 Original: Se trata de un barrio a pie . Tenía restaurantes más y un mercado de pul ##gas en el interior si se encuentra con el clima . La catedral en la plaza también es una parada .\n",
      "🔹 Limpio:   él tratar de uno barrio a pie tenia restaurante mas y uno mercado de pul en el interior si él encontrar con el clima el catedral en el plaza tambien ser uno parada\n",
      "📊 Probabilidad: 0.656\n",
      "📉 Reducción: 172 → 163 caracteres (5.2%)\n",
      "--------------------------------------------------------------------------------\n"
     ]
    }
   ],
   "source": [
    "# ===== COMPARACIÓN TEXTO ORIGINAL VS TEXTO LIMPIO =====\n",
    "if 'TituloReviewLimpio' in df_con_topicos.columns:\n",
    "    print(f\"🔍 Comparación de ejemplos - Original vs Limpio ({CIUDAD_ANALIZAR}):\")\n",
    "    print(\"=\" * 80)\n",
    "    \n",
    "    # Seleccionar algunos ejemplos para mostrar la diferencia\n",
    "    ejemplos_muestra = df_con_topicos.sample(n=min(10, len(df_con_topicos)))\n",
    "    \n",
    "    for i, (_, row) in enumerate(ejemplos_muestra.iterrows(), 1):\n",
    "        print(f\"\\n📄 EJEMPLO {i} - Tópico: {row['Topico_Nombre']}\")\n",
    "        print(f\"🔸 Original: {row['TituloReview']}\")\n",
    "        print(f\"🔹 Limpio:   {row['TituloReviewLimpio']}\")\n",
    "        print(f\"📊 Probabilidad: {row['Probabilidad_Topico']:.3f}\")\n",
    "        \n",
    "        # Calcular estadísticas del ejemplo\n",
    "        len_orig = len(str(row['TituloReview']))\n",
    "        len_limpio = len(str(row['TituloReviewLimpio']))\n",
    "        reduccion = ((len_orig-len_limpio)/len_orig*100) if len_orig > 0 else 0\n",
    "        print(f\"📉 Reducción: {len_orig} → {len_limpio} caracteres ({reduccion:.1f}%)\")\n",
    "        print(\"-\" * 80)"
   ]
  },
  {
   "cell_type": "code",
   "execution_count": 16,
   "id": "a58f52cf",
   "metadata": {},
   "outputs": [
    {
     "data": {
      "application/vnd.plotly.v1+json": {
       "config": {
        "plotlyServerURL": "https://plot.ly"
       },
       "data": [
        {
         "marker": {
          "color": "#D55E00"
         },
         "orientation": "h",
         "type": "bar",
         "x": {
          "bdata": "ll9PPMpfTzxSlnc8UQSvPCdqzjw=",
          "dtype": "f4"
         },
         "xaxis": "x",
         "y": [
          "piso",
          "entrada",
          "pieza",
          "coleccion",
          "museo"
         ],
         "yaxis": "y"
        },
        {
         "marker": {
          "color": "#0072B2"
         },
         "orientation": "h",
         "type": "bar",
         "x": {
          "bdata": "7uhnPGDfhjzTaJ48PbmqPG4NuTw=",
          "dtype": "f4"
         },
         "xaxis": "x2",
         "y": [
          "lugar",
          "cultura",
          "vida",
          "casa",
          "fri"
         ],
         "yaxis": "y2"
        },
        {
         "marker": {
          "color": "#CC79A7"
         },
         "orientation": "h",
         "type": "bar",
         "x": {
          "bdata": "ghRePKvIbzzsfpg85lykPB+zujw=",
          "dtype": "f4"
         },
         "xaxis": "x3",
         "y": [
          "actividad",
          "cuidado",
          "grupo",
          "acu",
          "animal"
         ],
         "yaxis": "y3"
        },
        {
         "marker": {
          "color": "#E69F00"
         },
         "orientation": "h",
         "type": "bar",
         "x": {
          "bdata": "MblePFythTw61og80QCKPDXmpjw=",
          "dtype": "f4"
         },
         "xaxis": "x4",
         "y": [
          "plaza",
          "mercado",
          "calle",
          "tienda",
          "restaurante"
         ],
         "yaxis": "y4"
        },
        {
         "marker": {
          "color": "#56B4E9"
         },
         "orientation": "h",
         "type": "bar",
         "x": {
          "bdata": "Ga1vPA8RgDyFeYo8VEOhPMN8yzw=",
          "dtype": "f4"
         },
         "xaxis": "x5",
         "y": [
          "chap",
          "ruina",
          "catedral",
          "templo",
          "castillo"
         ],
         "yaxis": "y5"
        },
        {
         "marker": {
          "color": "#009E73"
         },
         "orientation": "h",
         "type": "bar",
         "x": {
          "bdata": "Zgd6PBQZfjxxPYw803+pPLDEtDw=",
          "dtype": "f4"
         },
         "xaxis": "x6",
         "y": [
          "art",
          "diego",
          "interior",
          "rivera",
          "mural"
         ],
         "yaxis": "y6"
        },
        {
         "marker": {
          "color": "#F0E442"
         },
         "orientation": "h",
         "type": "bar",
         "x": {
          "bdata": "oQmcPEGAnTzbOMA81wPBPNtI0jw=",
          "dtype": "f4"
         },
         "xaxis": "x7",
         "y": [
          "virgen",
          "iglesia",
          "guadalupe",
          "misa",
          "bas"
         ],
         "yaxis": "y7"
        }
       ],
       "layout": {
        "annotations": [
         {
          "font": {
           "size": 16
          },
          "showarrow": false,
          "text": "Topic 6",
          "x": 0.0875,
          "xanchor": "center",
          "xref": "paper",
          "y": 1,
          "yanchor": "bottom",
          "yref": "paper"
         },
         {
          "font": {
           "size": 16
          },
          "showarrow": false,
          "text": "Topic 0",
          "x": 0.36250000000000004,
          "xanchor": "center",
          "xref": "paper",
          "y": 1,
          "yanchor": "bottom",
          "yref": "paper"
         },
         {
          "font": {
           "size": 16
          },
          "showarrow": false,
          "text": "Topic 2",
          "x": 0.6375000000000001,
          "xanchor": "center",
          "xref": "paper",
          "y": 1,
          "yanchor": "bottom",
          "yref": "paper"
         },
         {
          "font": {
           "size": 16
          },
          "showarrow": false,
          "text": "Topic 5",
          "x": 0.9125,
          "xanchor": "center",
          "xref": "paper",
          "y": 1,
          "yanchor": "bottom",
          "yref": "paper"
         },
         {
          "font": {
           "size": 16
          },
          "showarrow": false,
          "text": "Topic 1",
          "x": 0.0875,
          "xanchor": "center",
          "xref": "paper",
          "y": 0.375,
          "yanchor": "bottom",
          "yref": "paper"
         },
         {
          "font": {
           "size": 16
          },
          "showarrow": false,
          "text": "Topic 4",
          "x": 0.36250000000000004,
          "xanchor": "center",
          "xref": "paper",
          "y": 0.375,
          "yanchor": "bottom",
          "yref": "paper"
         },
         {
          "font": {
           "size": 16
          },
          "showarrow": false,
          "text": "Topic 3",
          "x": 0.6375000000000001,
          "xanchor": "center",
          "xref": "paper",
          "y": 0.375,
          "yanchor": "bottom",
          "yref": "paper"
         }
        ],
        "height": 500,
        "hoverlabel": {
         "bgcolor": "white",
         "font": {
          "family": "Rockwell",
          "size": 16
         }
        },
        "showlegend": false,
        "template": {
         "data": {
          "bar": [
           {
            "error_x": {
             "color": "#2a3f5f"
            },
            "error_y": {
             "color": "#2a3f5f"
            },
            "marker": {
             "line": {
              "color": "white",
              "width": 0.5
             },
             "pattern": {
              "fillmode": "overlay",
              "size": 10,
              "solidity": 0.2
             }
            },
            "type": "bar"
           }
          ],
          "barpolar": [
           {
            "marker": {
             "line": {
              "color": "white",
              "width": 0.5
             },
             "pattern": {
              "fillmode": "overlay",
              "size": 10,
              "solidity": 0.2
             }
            },
            "type": "barpolar"
           }
          ],
          "carpet": [
           {
            "aaxis": {
             "endlinecolor": "#2a3f5f",
             "gridcolor": "#C8D4E3",
             "linecolor": "#C8D4E3",
             "minorgridcolor": "#C8D4E3",
             "startlinecolor": "#2a3f5f"
            },
            "baxis": {
             "endlinecolor": "#2a3f5f",
             "gridcolor": "#C8D4E3",
             "linecolor": "#C8D4E3",
             "minorgridcolor": "#C8D4E3",
             "startlinecolor": "#2a3f5f"
            },
            "type": "carpet"
           }
          ],
          "choropleth": [
           {
            "colorbar": {
             "outlinewidth": 0,
             "ticks": ""
            },
            "type": "choropleth"
           }
          ],
          "contour": [
           {
            "colorbar": {
             "outlinewidth": 0,
             "ticks": ""
            },
            "colorscale": [
             [
              0,
              "#0d0887"
             ],
             [
              0.1111111111111111,
              "#46039f"
             ],
             [
              0.2222222222222222,
              "#7201a8"
             ],
             [
              0.3333333333333333,
              "#9c179e"
             ],
             [
              0.4444444444444444,
              "#bd3786"
             ],
             [
              0.5555555555555556,
              "#d8576b"
             ],
             [
              0.6666666666666666,
              "#ed7953"
             ],
             [
              0.7777777777777778,
              "#fb9f3a"
             ],
             [
              0.8888888888888888,
              "#fdca26"
             ],
             [
              1,
              "#f0f921"
             ]
            ],
            "type": "contour"
           }
          ],
          "contourcarpet": [
           {
            "colorbar": {
             "outlinewidth": 0,
             "ticks": ""
            },
            "type": "contourcarpet"
           }
          ],
          "heatmap": [
           {
            "colorbar": {
             "outlinewidth": 0,
             "ticks": ""
            },
            "colorscale": [
             [
              0,
              "#0d0887"
             ],
             [
              0.1111111111111111,
              "#46039f"
             ],
             [
              0.2222222222222222,
              "#7201a8"
             ],
             [
              0.3333333333333333,
              "#9c179e"
             ],
             [
              0.4444444444444444,
              "#bd3786"
             ],
             [
              0.5555555555555556,
              "#d8576b"
             ],
             [
              0.6666666666666666,
              "#ed7953"
             ],
             [
              0.7777777777777778,
              "#fb9f3a"
             ],
             [
              0.8888888888888888,
              "#fdca26"
             ],
             [
              1,
              "#f0f921"
             ]
            ],
            "type": "heatmap"
           }
          ],
          "histogram": [
           {
            "marker": {
             "pattern": {
              "fillmode": "overlay",
              "size": 10,
              "solidity": 0.2
             }
            },
            "type": "histogram"
           }
          ],
          "histogram2d": [
           {
            "colorbar": {
             "outlinewidth": 0,
             "ticks": ""
            },
            "colorscale": [
             [
              0,
              "#0d0887"
             ],
             [
              0.1111111111111111,
              "#46039f"
             ],
             [
              0.2222222222222222,
              "#7201a8"
             ],
             [
              0.3333333333333333,
              "#9c179e"
             ],
             [
              0.4444444444444444,
              "#bd3786"
             ],
             [
              0.5555555555555556,
              "#d8576b"
             ],
             [
              0.6666666666666666,
              "#ed7953"
             ],
             [
              0.7777777777777778,
              "#fb9f3a"
             ],
             [
              0.8888888888888888,
              "#fdca26"
             ],
             [
              1,
              "#f0f921"
             ]
            ],
            "type": "histogram2d"
           }
          ],
          "histogram2dcontour": [
           {
            "colorbar": {
             "outlinewidth": 0,
             "ticks": ""
            },
            "colorscale": [
             [
              0,
              "#0d0887"
             ],
             [
              0.1111111111111111,
              "#46039f"
             ],
             [
              0.2222222222222222,
              "#7201a8"
             ],
             [
              0.3333333333333333,
              "#9c179e"
             ],
             [
              0.4444444444444444,
              "#bd3786"
             ],
             [
              0.5555555555555556,
              "#d8576b"
             ],
             [
              0.6666666666666666,
              "#ed7953"
             ],
             [
              0.7777777777777778,
              "#fb9f3a"
             ],
             [
              0.8888888888888888,
              "#fdca26"
             ],
             [
              1,
              "#f0f921"
             ]
            ],
            "type": "histogram2dcontour"
           }
          ],
          "mesh3d": [
           {
            "colorbar": {
             "outlinewidth": 0,
             "ticks": ""
            },
            "type": "mesh3d"
           }
          ],
          "parcoords": [
           {
            "line": {
             "colorbar": {
              "outlinewidth": 0,
              "ticks": ""
             }
            },
            "type": "parcoords"
           }
          ],
          "pie": [
           {
            "automargin": true,
            "type": "pie"
           }
          ],
          "scatter": [
           {
            "fillpattern": {
             "fillmode": "overlay",
             "size": 10,
             "solidity": 0.2
            },
            "type": "scatter"
           }
          ],
          "scatter3d": [
           {
            "line": {
             "colorbar": {
              "outlinewidth": 0,
              "ticks": ""
             }
            },
            "marker": {
             "colorbar": {
              "outlinewidth": 0,
              "ticks": ""
             }
            },
            "type": "scatter3d"
           }
          ],
          "scattercarpet": [
           {
            "marker": {
             "colorbar": {
              "outlinewidth": 0,
              "ticks": ""
             }
            },
            "type": "scattercarpet"
           }
          ],
          "scattergeo": [
           {
            "marker": {
             "colorbar": {
              "outlinewidth": 0,
              "ticks": ""
             }
            },
            "type": "scattergeo"
           }
          ],
          "scattergl": [
           {
            "marker": {
             "colorbar": {
              "outlinewidth": 0,
              "ticks": ""
             }
            },
            "type": "scattergl"
           }
          ],
          "scattermap": [
           {
            "marker": {
             "colorbar": {
              "outlinewidth": 0,
              "ticks": ""
             }
            },
            "type": "scattermap"
           }
          ],
          "scattermapbox": [
           {
            "marker": {
             "colorbar": {
              "outlinewidth": 0,
              "ticks": ""
             }
            },
            "type": "scattermapbox"
           }
          ],
          "scatterpolar": [
           {
            "marker": {
             "colorbar": {
              "outlinewidth": 0,
              "ticks": ""
             }
            },
            "type": "scatterpolar"
           }
          ],
          "scatterpolargl": [
           {
            "marker": {
             "colorbar": {
              "outlinewidth": 0,
              "ticks": ""
             }
            },
            "type": "scatterpolargl"
           }
          ],
          "scatterternary": [
           {
            "marker": {
             "colorbar": {
              "outlinewidth": 0,
              "ticks": ""
             }
            },
            "type": "scatterternary"
           }
          ],
          "surface": [
           {
            "colorbar": {
             "outlinewidth": 0,
             "ticks": ""
            },
            "colorscale": [
             [
              0,
              "#0d0887"
             ],
             [
              0.1111111111111111,
              "#46039f"
             ],
             [
              0.2222222222222222,
              "#7201a8"
             ],
             [
              0.3333333333333333,
              "#9c179e"
             ],
             [
              0.4444444444444444,
              "#bd3786"
             ],
             [
              0.5555555555555556,
              "#d8576b"
             ],
             [
              0.6666666666666666,
              "#ed7953"
             ],
             [
              0.7777777777777778,
              "#fb9f3a"
             ],
             [
              0.8888888888888888,
              "#fdca26"
             ],
             [
              1,
              "#f0f921"
             ]
            ],
            "type": "surface"
           }
          ],
          "table": [
           {
            "cells": {
             "fill": {
              "color": "#EBF0F8"
             },
             "line": {
              "color": "white"
             }
            },
            "header": {
             "fill": {
              "color": "#C8D4E3"
             },
             "line": {
              "color": "white"
             }
            },
            "type": "table"
           }
          ]
         },
         "layout": {
          "annotationdefaults": {
           "arrowcolor": "#2a3f5f",
           "arrowhead": 0,
           "arrowwidth": 1
          },
          "autotypenumbers": "strict",
          "coloraxis": {
           "colorbar": {
            "outlinewidth": 0,
            "ticks": ""
           }
          },
          "colorscale": {
           "diverging": [
            [
             0,
             "#8e0152"
            ],
            [
             0.1,
             "#c51b7d"
            ],
            [
             0.2,
             "#de77ae"
            ],
            [
             0.3,
             "#f1b6da"
            ],
            [
             0.4,
             "#fde0ef"
            ],
            [
             0.5,
             "#f7f7f7"
            ],
            [
             0.6,
             "#e6f5d0"
            ],
            [
             0.7,
             "#b8e186"
            ],
            [
             0.8,
             "#7fbc41"
            ],
            [
             0.9,
             "#4d9221"
            ],
            [
             1,
             "#276419"
            ]
           ],
           "sequential": [
            [
             0,
             "#0d0887"
            ],
            [
             0.1111111111111111,
             "#46039f"
            ],
            [
             0.2222222222222222,
             "#7201a8"
            ],
            [
             0.3333333333333333,
             "#9c179e"
            ],
            [
             0.4444444444444444,
             "#bd3786"
            ],
            [
             0.5555555555555556,
             "#d8576b"
            ],
            [
             0.6666666666666666,
             "#ed7953"
            ],
            [
             0.7777777777777778,
             "#fb9f3a"
            ],
            [
             0.8888888888888888,
             "#fdca26"
            ],
            [
             1,
             "#f0f921"
            ]
           ],
           "sequentialminus": [
            [
             0,
             "#0d0887"
            ],
            [
             0.1111111111111111,
             "#46039f"
            ],
            [
             0.2222222222222222,
             "#7201a8"
            ],
            [
             0.3333333333333333,
             "#9c179e"
            ],
            [
             0.4444444444444444,
             "#bd3786"
            ],
            [
             0.5555555555555556,
             "#d8576b"
            ],
            [
             0.6666666666666666,
             "#ed7953"
            ],
            [
             0.7777777777777778,
             "#fb9f3a"
            ],
            [
             0.8888888888888888,
             "#fdca26"
            ],
            [
             1,
             "#f0f921"
            ]
           ]
          },
          "colorway": [
           "#636efa",
           "#EF553B",
           "#00cc96",
           "#ab63fa",
           "#FFA15A",
           "#19d3f3",
           "#FF6692",
           "#B6E880",
           "#FF97FF",
           "#FECB52"
          ],
          "font": {
           "color": "#2a3f5f"
          },
          "geo": {
           "bgcolor": "white",
           "lakecolor": "white",
           "landcolor": "white",
           "showlakes": true,
           "showland": true,
           "subunitcolor": "#C8D4E3"
          },
          "hoverlabel": {
           "align": "left"
          },
          "hovermode": "closest",
          "mapbox": {
           "style": "light"
          },
          "paper_bgcolor": "white",
          "plot_bgcolor": "white",
          "polar": {
           "angularaxis": {
            "gridcolor": "#EBF0F8",
            "linecolor": "#EBF0F8",
            "ticks": ""
           },
           "bgcolor": "white",
           "radialaxis": {
            "gridcolor": "#EBF0F8",
            "linecolor": "#EBF0F8",
            "ticks": ""
           }
          },
          "scene": {
           "xaxis": {
            "backgroundcolor": "white",
            "gridcolor": "#DFE8F3",
            "gridwidth": 2,
            "linecolor": "#EBF0F8",
            "showbackground": true,
            "ticks": "",
            "zerolinecolor": "#EBF0F8"
           },
           "yaxis": {
            "backgroundcolor": "white",
            "gridcolor": "#DFE8F3",
            "gridwidth": 2,
            "linecolor": "#EBF0F8",
            "showbackground": true,
            "ticks": "",
            "zerolinecolor": "#EBF0F8"
           },
           "zaxis": {
            "backgroundcolor": "white",
            "gridcolor": "#DFE8F3",
            "gridwidth": 2,
            "linecolor": "#EBF0F8",
            "showbackground": true,
            "ticks": "",
            "zerolinecolor": "#EBF0F8"
           }
          },
          "shapedefaults": {
           "line": {
            "color": "#2a3f5f"
           }
          },
          "ternary": {
           "aaxis": {
            "gridcolor": "#DFE8F3",
            "linecolor": "#A2B1C6",
            "ticks": ""
           },
           "baxis": {
            "gridcolor": "#DFE8F3",
            "linecolor": "#A2B1C6",
            "ticks": ""
           },
           "bgcolor": "white",
           "caxis": {
            "gridcolor": "#DFE8F3",
            "linecolor": "#A2B1C6",
            "ticks": ""
           }
          },
          "title": {
           "x": 0.05
          },
          "xaxis": {
           "automargin": true,
           "gridcolor": "#EBF0F8",
           "linecolor": "#EBF0F8",
           "ticks": "",
           "title": {
            "standoff": 15
           },
           "zerolinecolor": "#EBF0F8",
           "zerolinewidth": 2
          },
          "yaxis": {
           "automargin": true,
           "gridcolor": "#EBF0F8",
           "linecolor": "#EBF0F8",
           "ticks": "",
           "title": {
            "standoff": 15
           },
           "zerolinecolor": "#EBF0F8",
           "zerolinewidth": 2
          }
         }
        },
        "title": {
         "text": "Palabras Principales por Tópico - Cdmx"
        },
        "width": 1000,
        "xaxis": {
         "anchor": "y",
         "domain": [
          0,
          0.175
         ],
         "showgrid": true
        },
        "xaxis2": {
         "anchor": "y2",
         "domain": [
          0.275,
          0.45
         ],
         "showgrid": true
        },
        "xaxis3": {
         "anchor": "y3",
         "domain": [
          0.55,
          0.7250000000000001
         ],
         "showgrid": true
        },
        "xaxis4": {
         "anchor": "y4",
         "domain": [
          0.825,
          1
         ],
         "showgrid": true
        },
        "xaxis5": {
         "anchor": "y5",
         "domain": [
          0,
          0.175
         ],
         "showgrid": true
        },
        "xaxis6": {
         "anchor": "y6",
         "domain": [
          0.275,
          0.45
         ],
         "showgrid": true
        },
        "xaxis7": {
         "anchor": "y7",
         "domain": [
          0.55,
          0.7250000000000001
         ],
         "showgrid": true
        },
        "xaxis8": {
         "anchor": "y8",
         "domain": [
          0.825,
          1
         ],
         "showgrid": true
        },
        "yaxis": {
         "anchor": "x",
         "domain": [
          0.625,
          1
         ],
         "showgrid": true
        },
        "yaxis2": {
         "anchor": "x2",
         "domain": [
          0.625,
          1
         ],
         "showgrid": true
        },
        "yaxis3": {
         "anchor": "x3",
         "domain": [
          0.625,
          1
         ],
         "showgrid": true
        },
        "yaxis4": {
         "anchor": "x4",
         "domain": [
          0.625,
          1
         ],
         "showgrid": true
        },
        "yaxis5": {
         "anchor": "x5",
         "domain": [
          0,
          0.375
         ],
         "showgrid": true
        },
        "yaxis6": {
         "anchor": "x6",
         "domain": [
          0,
          0.375
         ],
         "showgrid": true
        },
        "yaxis7": {
         "anchor": "x7",
         "domain": [
          0,
          0.375
         ],
         "showgrid": true
        },
        "yaxis8": {
         "anchor": "x8",
         "domain": [
          0,
          0.375
         ],
         "showgrid": true
        }
       }
      }
     },
     "metadata": {},
     "output_type": "display_data"
    },
    {
     "data": {
      "application/vnd.plotly.v1+json": {
       "config": {
        "plotlyServerURL": "https://plot.ly"
       },
       "data": [
        {
         "marker": {
          "color": "#C8D2D7",
          "line": {
           "color": "#6E8484",
           "width": 1
          }
         },
         "orientation": "h",
         "type": "bar",
         "x": [
          0.09668895602226257,
          0.09899543225765228,
          0.11089099943637848,
          0.1151295155286789,
          0.1321316510438919,
          0.21944431960582733,
          0.2267189472913742
         ],
         "y": [
          "3_bas_misa_guadalupe_iglesia_virgen",
          "4_mural_rivera_interior_diego_art",
          "1_castillo_templo_catedral_ruina_chap",
          "5_restaurante_tienda_calle_mercado_plaza",
          "2_animal_acu_grupo_cuidado_actividad",
          "0_fri_casa_vida_cultura_lugar",
          "6_museo_coleccion_pieza_entrada_piso"
         ]
        }
       ],
       "layout": {
        "height": 1000,
        "hoverlabel": {
         "bgcolor": "white",
         "font": {
          "family": "Rockwell",
          "size": 16
         }
        },
        "template": {
         "data": {
          "bar": [
           {
            "error_x": {
             "color": "rgb(36,36,36)"
            },
            "error_y": {
             "color": "rgb(36,36,36)"
            },
            "marker": {
             "line": {
              "color": "white",
              "width": 0.5
             },
             "pattern": {
              "fillmode": "overlay",
              "size": 10,
              "solidity": 0.2
             }
            },
            "type": "bar"
           }
          ],
          "barpolar": [
           {
            "marker": {
             "line": {
              "color": "white",
              "width": 0.5
             },
             "pattern": {
              "fillmode": "overlay",
              "size": 10,
              "solidity": 0.2
             }
            },
            "type": "barpolar"
           }
          ],
          "carpet": [
           {
            "aaxis": {
             "endlinecolor": "rgb(36,36,36)",
             "gridcolor": "white",
             "linecolor": "white",
             "minorgridcolor": "white",
             "startlinecolor": "rgb(36,36,36)"
            },
            "baxis": {
             "endlinecolor": "rgb(36,36,36)",
             "gridcolor": "white",
             "linecolor": "white",
             "minorgridcolor": "white",
             "startlinecolor": "rgb(36,36,36)"
            },
            "type": "carpet"
           }
          ],
          "choropleth": [
           {
            "colorbar": {
             "outlinewidth": 1,
             "tickcolor": "rgb(36,36,36)",
             "ticks": "outside"
            },
            "type": "choropleth"
           }
          ],
          "contour": [
           {
            "colorbar": {
             "outlinewidth": 1,
             "tickcolor": "rgb(36,36,36)",
             "ticks": "outside"
            },
            "colorscale": [
             [
              0,
              "#440154"
             ],
             [
              0.1111111111111111,
              "#482878"
             ],
             [
              0.2222222222222222,
              "#3e4989"
             ],
             [
              0.3333333333333333,
              "#31688e"
             ],
             [
              0.4444444444444444,
              "#26828e"
             ],
             [
              0.5555555555555556,
              "#1f9e89"
             ],
             [
              0.6666666666666666,
              "#35b779"
             ],
             [
              0.7777777777777778,
              "#6ece58"
             ],
             [
              0.8888888888888888,
              "#b5de2b"
             ],
             [
              1,
              "#fde725"
             ]
            ],
            "type": "contour"
           }
          ],
          "contourcarpet": [
           {
            "colorbar": {
             "outlinewidth": 1,
             "tickcolor": "rgb(36,36,36)",
             "ticks": "outside"
            },
            "type": "contourcarpet"
           }
          ],
          "heatmap": [
           {
            "colorbar": {
             "outlinewidth": 1,
             "tickcolor": "rgb(36,36,36)",
             "ticks": "outside"
            },
            "colorscale": [
             [
              0,
              "#440154"
             ],
             [
              0.1111111111111111,
              "#482878"
             ],
             [
              0.2222222222222222,
              "#3e4989"
             ],
             [
              0.3333333333333333,
              "#31688e"
             ],
             [
              0.4444444444444444,
              "#26828e"
             ],
             [
              0.5555555555555556,
              "#1f9e89"
             ],
             [
              0.6666666666666666,
              "#35b779"
             ],
             [
              0.7777777777777778,
              "#6ece58"
             ],
             [
              0.8888888888888888,
              "#b5de2b"
             ],
             [
              1,
              "#fde725"
             ]
            ],
            "type": "heatmap"
           }
          ],
          "histogram": [
           {
            "marker": {
             "line": {
              "color": "white",
              "width": 0.6
             }
            },
            "type": "histogram"
           }
          ],
          "histogram2d": [
           {
            "colorbar": {
             "outlinewidth": 1,
             "tickcolor": "rgb(36,36,36)",
             "ticks": "outside"
            },
            "colorscale": [
             [
              0,
              "#440154"
             ],
             [
              0.1111111111111111,
              "#482878"
             ],
             [
              0.2222222222222222,
              "#3e4989"
             ],
             [
              0.3333333333333333,
              "#31688e"
             ],
             [
              0.4444444444444444,
              "#26828e"
             ],
             [
              0.5555555555555556,
              "#1f9e89"
             ],
             [
              0.6666666666666666,
              "#35b779"
             ],
             [
              0.7777777777777778,
              "#6ece58"
             ],
             [
              0.8888888888888888,
              "#b5de2b"
             ],
             [
              1,
              "#fde725"
             ]
            ],
            "type": "histogram2d"
           }
          ],
          "histogram2dcontour": [
           {
            "colorbar": {
             "outlinewidth": 1,
             "tickcolor": "rgb(36,36,36)",
             "ticks": "outside"
            },
            "colorscale": [
             [
              0,
              "#440154"
             ],
             [
              0.1111111111111111,
              "#482878"
             ],
             [
              0.2222222222222222,
              "#3e4989"
             ],
             [
              0.3333333333333333,
              "#31688e"
             ],
             [
              0.4444444444444444,
              "#26828e"
             ],
             [
              0.5555555555555556,
              "#1f9e89"
             ],
             [
              0.6666666666666666,
              "#35b779"
             ],
             [
              0.7777777777777778,
              "#6ece58"
             ],
             [
              0.8888888888888888,
              "#b5de2b"
             ],
             [
              1,
              "#fde725"
             ]
            ],
            "type": "histogram2dcontour"
           }
          ],
          "mesh3d": [
           {
            "colorbar": {
             "outlinewidth": 1,
             "tickcolor": "rgb(36,36,36)",
             "ticks": "outside"
            },
            "type": "mesh3d"
           }
          ],
          "parcoords": [
           {
            "line": {
             "colorbar": {
              "outlinewidth": 1,
              "tickcolor": "rgb(36,36,36)",
              "ticks": "outside"
             }
            },
            "type": "parcoords"
           }
          ],
          "pie": [
           {
            "automargin": true,
            "type": "pie"
           }
          ],
          "scatter": [
           {
            "fillpattern": {
             "fillmode": "overlay",
             "size": 10,
             "solidity": 0.2
            },
            "type": "scatter"
           }
          ],
          "scatter3d": [
           {
            "line": {
             "colorbar": {
              "outlinewidth": 1,
              "tickcolor": "rgb(36,36,36)",
              "ticks": "outside"
             }
            },
            "marker": {
             "colorbar": {
              "outlinewidth": 1,
              "tickcolor": "rgb(36,36,36)",
              "ticks": "outside"
             }
            },
            "type": "scatter3d"
           }
          ],
          "scattercarpet": [
           {
            "marker": {
             "colorbar": {
              "outlinewidth": 1,
              "tickcolor": "rgb(36,36,36)",
              "ticks": "outside"
             }
            },
            "type": "scattercarpet"
           }
          ],
          "scattergeo": [
           {
            "marker": {
             "colorbar": {
              "outlinewidth": 1,
              "tickcolor": "rgb(36,36,36)",
              "ticks": "outside"
             }
            },
            "type": "scattergeo"
           }
          ],
          "scattergl": [
           {
            "marker": {
             "colorbar": {
              "outlinewidth": 1,
              "tickcolor": "rgb(36,36,36)",
              "ticks": "outside"
             }
            },
            "type": "scattergl"
           }
          ],
          "scattermap": [
           {
            "marker": {
             "colorbar": {
              "outlinewidth": 1,
              "tickcolor": "rgb(36,36,36)",
              "ticks": "outside"
             }
            },
            "type": "scattermap"
           }
          ],
          "scattermapbox": [
           {
            "marker": {
             "colorbar": {
              "outlinewidth": 1,
              "tickcolor": "rgb(36,36,36)",
              "ticks": "outside"
             }
            },
            "type": "scattermapbox"
           }
          ],
          "scatterpolar": [
           {
            "marker": {
             "colorbar": {
              "outlinewidth": 1,
              "tickcolor": "rgb(36,36,36)",
              "ticks": "outside"
             }
            },
            "type": "scatterpolar"
           }
          ],
          "scatterpolargl": [
           {
            "marker": {
             "colorbar": {
              "outlinewidth": 1,
              "tickcolor": "rgb(36,36,36)",
              "ticks": "outside"
             }
            },
            "type": "scatterpolargl"
           }
          ],
          "scatterternary": [
           {
            "marker": {
             "colorbar": {
              "outlinewidth": 1,
              "tickcolor": "rgb(36,36,36)",
              "ticks": "outside"
             }
            },
            "type": "scatterternary"
           }
          ],
          "surface": [
           {
            "colorbar": {
             "outlinewidth": 1,
             "tickcolor": "rgb(36,36,36)",
             "ticks": "outside"
            },
            "colorscale": [
             [
              0,
              "#440154"
             ],
             [
              0.1111111111111111,
              "#482878"
             ],
             [
              0.2222222222222222,
              "#3e4989"
             ],
             [
              0.3333333333333333,
              "#31688e"
             ],
             [
              0.4444444444444444,
              "#26828e"
             ],
             [
              0.5555555555555556,
              "#1f9e89"
             ],
             [
              0.6666666666666666,
              "#35b779"
             ],
             [
              0.7777777777777778,
              "#6ece58"
             ],
             [
              0.8888888888888888,
              "#b5de2b"
             ],
             [
              1,
              "#fde725"
             ]
            ],
            "type": "surface"
           }
          ],
          "table": [
           {
            "cells": {
             "fill": {
              "color": "rgb(237,237,237)"
             },
             "line": {
              "color": "white"
             }
            },
            "header": {
             "fill": {
              "color": "rgb(217,217,217)"
             },
             "line": {
              "color": "white"
             }
            },
            "type": "table"
           }
          ]
         },
         "layout": {
          "annotationdefaults": {
           "arrowhead": 0,
           "arrowwidth": 1
          },
          "autotypenumbers": "strict",
          "coloraxis": {
           "colorbar": {
            "outlinewidth": 1,
            "tickcolor": "rgb(36,36,36)",
            "ticks": "outside"
           }
          },
          "colorscale": {
           "diverging": [
            [
             0,
             "rgb(103,0,31)"
            ],
            [
             0.1,
             "rgb(178,24,43)"
            ],
            [
             0.2,
             "rgb(214,96,77)"
            ],
            [
             0.3,
             "rgb(244,165,130)"
            ],
            [
             0.4,
             "rgb(253,219,199)"
            ],
            [
             0.5,
             "rgb(247,247,247)"
            ],
            [
             0.6,
             "rgb(209,229,240)"
            ],
            [
             0.7,
             "rgb(146,197,222)"
            ],
            [
             0.8,
             "rgb(67,147,195)"
            ],
            [
             0.9,
             "rgb(33,102,172)"
            ],
            [
             1,
             "rgb(5,48,97)"
            ]
           ],
           "sequential": [
            [
             0,
             "#440154"
            ],
            [
             0.1111111111111111,
             "#482878"
            ],
            [
             0.2222222222222222,
             "#3e4989"
            ],
            [
             0.3333333333333333,
             "#31688e"
            ],
            [
             0.4444444444444444,
             "#26828e"
            ],
            [
             0.5555555555555556,
             "#1f9e89"
            ],
            [
             0.6666666666666666,
             "#35b779"
            ],
            [
             0.7777777777777778,
             "#6ece58"
            ],
            [
             0.8888888888888888,
             "#b5de2b"
            ],
            [
             1,
             "#fde725"
            ]
           ],
           "sequentialminus": [
            [
             0,
             "#440154"
            ],
            [
             0.1111111111111111,
             "#482878"
            ],
            [
             0.2222222222222222,
             "#3e4989"
            ],
            [
             0.3333333333333333,
             "#31688e"
            ],
            [
             0.4444444444444444,
             "#26828e"
            ],
            [
             0.5555555555555556,
             "#1f9e89"
            ],
            [
             0.6666666666666666,
             "#35b779"
            ],
            [
             0.7777777777777778,
             "#6ece58"
            ],
            [
             0.8888888888888888,
             "#b5de2b"
            ],
            [
             1,
             "#fde725"
            ]
           ]
          },
          "colorway": [
           "#1F77B4",
           "#FF7F0E",
           "#2CA02C",
           "#D62728",
           "#9467BD",
           "#8C564B",
           "#E377C2",
           "#7F7F7F",
           "#BCBD22",
           "#17BECF"
          ],
          "font": {
           "color": "rgb(36,36,36)"
          },
          "geo": {
           "bgcolor": "white",
           "lakecolor": "white",
           "landcolor": "white",
           "showlakes": true,
           "showland": true,
           "subunitcolor": "white"
          },
          "hoverlabel": {
           "align": "left"
          },
          "hovermode": "closest",
          "mapbox": {
           "style": "light"
          },
          "paper_bgcolor": "white",
          "plot_bgcolor": "white",
          "polar": {
           "angularaxis": {
            "gridcolor": "rgb(232,232,232)",
            "linecolor": "rgb(36,36,36)",
            "showgrid": false,
            "showline": true,
            "ticks": "outside"
           },
           "bgcolor": "white",
           "radialaxis": {
            "gridcolor": "rgb(232,232,232)",
            "linecolor": "rgb(36,36,36)",
            "showgrid": false,
            "showline": true,
            "ticks": "outside"
           }
          },
          "scene": {
           "xaxis": {
            "backgroundcolor": "white",
            "gridcolor": "rgb(232,232,232)",
            "gridwidth": 2,
            "linecolor": "rgb(36,36,36)",
            "showbackground": true,
            "showgrid": false,
            "showline": true,
            "ticks": "outside",
            "zeroline": false,
            "zerolinecolor": "rgb(36,36,36)"
           },
           "yaxis": {
            "backgroundcolor": "white",
            "gridcolor": "rgb(232,232,232)",
            "gridwidth": 2,
            "linecolor": "rgb(36,36,36)",
            "showbackground": true,
            "showgrid": false,
            "showline": true,
            "ticks": "outside",
            "zeroline": false,
            "zerolinecolor": "rgb(36,36,36)"
           },
           "zaxis": {
            "backgroundcolor": "white",
            "gridcolor": "rgb(232,232,232)",
            "gridwidth": 2,
            "linecolor": "rgb(36,36,36)",
            "showbackground": true,
            "showgrid": false,
            "showline": true,
            "ticks": "outside",
            "zeroline": false,
            "zerolinecolor": "rgb(36,36,36)"
           }
          },
          "shapedefaults": {
           "fillcolor": "black",
           "line": {
            "width": 0
           },
           "opacity": 0.3
          },
          "ternary": {
           "aaxis": {
            "gridcolor": "rgb(232,232,232)",
            "linecolor": "rgb(36,36,36)",
            "showgrid": false,
            "showline": true,
            "ticks": "outside"
           },
           "baxis": {
            "gridcolor": "rgb(232,232,232)",
            "linecolor": "rgb(36,36,36)",
            "showgrid": false,
            "showline": true,
            "ticks": "outside"
           },
           "bgcolor": "white",
           "caxis": {
            "gridcolor": "rgb(232,232,232)",
            "linecolor": "rgb(36,36,36)",
            "showgrid": false,
            "showline": true,
            "ticks": "outside"
           }
          },
          "title": {
           "x": 0.05
          },
          "xaxis": {
           "automargin": true,
           "gridcolor": "rgb(232,232,232)",
           "linecolor": "rgb(36,36,36)",
           "showgrid": false,
           "showline": true,
           "ticks": "outside",
           "title": {
            "standoff": 15
           },
           "zeroline": false,
           "zerolinecolor": "rgb(36,36,36)"
          },
          "yaxis": {
           "automargin": true,
           "gridcolor": "rgb(232,232,232)",
           "linecolor": "rgb(36,36,36)",
           "showgrid": false,
           "showline": true,
           "ticks": "outside",
           "title": {
            "standoff": 15
           },
           "zeroline": false,
           "zerolinecolor": "rgb(36,36,36)"
          }
         }
        },
        "title": {
         "text": "Distribución de Pesos de Tópicos - Cdmx"
        },
        "width": 1000,
        "xaxis": {
         "title": {
          "text": "Weight"
         }
        }
       }
      }
     },
     "metadata": {},
     "output_type": "display_data"
    },
    {
     "data": {
      "application/vnd.plotly.v1+json": {
       "config": {
        "plotlyServerURL": "https://plot.ly"
       },
       "data": [
        {
         "hoverinfo": "text",
         "marker": {
          "color": "rgb(61,153,112)"
         },
         "mode": "lines",
         "type": "scatter",
         "x": {
          "bdata": "AAAAAAAAAACPQBR3z9H9P49AFHfP0f0/AAAAAAAAAAA=",
          "dtype": "f8"
         },
         "xaxis": "x",
         "y": {
          "bdata": "AAAAAAAAOcAAAAAAAAA5wAAAAAAAgEHAAAAAAACAQcA=",
          "dtype": "f8"
         },
         "yaxis": "y"
        },
        {
         "hoverinfo": "text",
         "marker": {
          "color": "rgb(0,116,217)"
         },
         "mode": "lines",
         "type": "scatter",
         "x": {
          "bdata": "AAAAAAAAAADFZZqcaHsAQMVlmpxoewBAj0AUd8/R/T8=",
          "dtype": "f8"
         },
         "xaxis": "x",
         "y": {
          "bdata": "AAAAAAAALsAAAAAAAAAuwAAAAAAAAD7AAAAAAAAAPsA=",
          "dtype": "f8"
         },
         "yaxis": "y"
        },
        {
         "hoverinfo": "text",
         "marker": {
          "color": "rgb(0,116,217)"
         },
         "mode": "lines",
         "type": "scatter",
         "x": {
          "bdata": "xWWanGh7AED9Rj9WxWEBQP1GP1bFYQFAAAAAAAAAAAA=",
          "dtype": "f8"
         },
         "xaxis": "x",
         "y": {
          "bdata": "AAAAAACANsAAAAAAAIA2wAAAAAAAgEbAAAAAAACARsA=",
          "dtype": "f8"
         },
         "yaxis": "y"
        },
        {
         "hoverinfo": "text",
         "marker": {
          "color": "rgb(0,116,217)"
         },
         "mode": "lines",
         "type": "scatter",
         "x": {
          "bdata": "AAAAAAAAAAD5T3U41cwBQPlPdTjVzAFA/UY/VsVhAUA=",
          "dtype": "f8"
         },
         "xaxis": "x",
         "y": {
          "bdata": "AAAAAAAAFMAAAAAAAAAUwAAAAAAA4EDAAAAAAADgQMA=",
          "dtype": "f8"
         },
         "yaxis": "y"
        },
        {
         "hoverinfo": "text",
         "marker": {
          "color": "rgb(0,116,217)"
         },
         "mode": "lines",
         "type": "scatter",
         "x": {
          "bdata": "AAAAAAAAAADoou2rRXECQOii7atFcQJAAAAAAAAAAAA=",
          "dtype": "f8"
         },
         "xaxis": "x",
         "y": {
          "bdata": "AAAAAACAS8AAAAAAAIBLwAAAAAAAQFDAAAAAAABAUMA=",
          "dtype": "f8"
         },
         "yaxis": "y"
        },
        {
         "hoverinfo": "text",
         "marker": {
          "color": "rgb(0,116,217)"
         },
         "mode": "lines",
         "type": "scatter",
         "x": {
          "bdata": "+U91ONXMAUCG1bH1LoIFQIbVsfUuggVA6KLtq0VxAkA=",
          "dtype": "f8"
         },
         "xaxis": "x",
         "y": {
          "bdata": "AAAAAABgM8AAAAAAAGAzwAAAAAAAAE7AAAAAAAAATsA=",
          "dtype": "f8"
         },
         "yaxis": "y"
        }
       ],
       "layout": {
        "autosize": false,
        "height": 1000,
        "hovermode": "closest",
        "showlegend": false,
        "template": {
         "data": {
          "bar": [
           {
            "error_x": {
             "color": "#2a3f5f"
            },
            "error_y": {
             "color": "#2a3f5f"
            },
            "marker": {
             "line": {
              "color": "#E5ECF6",
              "width": 0.5
             },
             "pattern": {
              "fillmode": "overlay",
              "size": 10,
              "solidity": 0.2
             }
            },
            "type": "bar"
           }
          ],
          "barpolar": [
           {
            "marker": {
             "line": {
              "color": "#E5ECF6",
              "width": 0.5
             },
             "pattern": {
              "fillmode": "overlay",
              "size": 10,
              "solidity": 0.2
             }
            },
            "type": "barpolar"
           }
          ],
          "carpet": [
           {
            "aaxis": {
             "endlinecolor": "#2a3f5f",
             "gridcolor": "white",
             "linecolor": "white",
             "minorgridcolor": "white",
             "startlinecolor": "#2a3f5f"
            },
            "baxis": {
             "endlinecolor": "#2a3f5f",
             "gridcolor": "white",
             "linecolor": "white",
             "minorgridcolor": "white",
             "startlinecolor": "#2a3f5f"
            },
            "type": "carpet"
           }
          ],
          "choropleth": [
           {
            "colorbar": {
             "outlinewidth": 0,
             "ticks": ""
            },
            "type": "choropleth"
           }
          ],
          "contour": [
           {
            "colorbar": {
             "outlinewidth": 0,
             "ticks": ""
            },
            "colorscale": [
             [
              0,
              "#0d0887"
             ],
             [
              0.1111111111111111,
              "#46039f"
             ],
             [
              0.2222222222222222,
              "#7201a8"
             ],
             [
              0.3333333333333333,
              "#9c179e"
             ],
             [
              0.4444444444444444,
              "#bd3786"
             ],
             [
              0.5555555555555556,
              "#d8576b"
             ],
             [
              0.6666666666666666,
              "#ed7953"
             ],
             [
              0.7777777777777778,
              "#fb9f3a"
             ],
             [
              0.8888888888888888,
              "#fdca26"
             ],
             [
              1,
              "#f0f921"
             ]
            ],
            "type": "contour"
           }
          ],
          "contourcarpet": [
           {
            "colorbar": {
             "outlinewidth": 0,
             "ticks": ""
            },
            "type": "contourcarpet"
           }
          ],
          "heatmap": [
           {
            "colorbar": {
             "outlinewidth": 0,
             "ticks": ""
            },
            "colorscale": [
             [
              0,
              "#0d0887"
             ],
             [
              0.1111111111111111,
              "#46039f"
             ],
             [
              0.2222222222222222,
              "#7201a8"
             ],
             [
              0.3333333333333333,
              "#9c179e"
             ],
             [
              0.4444444444444444,
              "#bd3786"
             ],
             [
              0.5555555555555556,
              "#d8576b"
             ],
             [
              0.6666666666666666,
              "#ed7953"
             ],
             [
              0.7777777777777778,
              "#fb9f3a"
             ],
             [
              0.8888888888888888,
              "#fdca26"
             ],
             [
              1,
              "#f0f921"
             ]
            ],
            "type": "heatmap"
           }
          ],
          "histogram": [
           {
            "marker": {
             "pattern": {
              "fillmode": "overlay",
              "size": 10,
              "solidity": 0.2
             }
            },
            "type": "histogram"
           }
          ],
          "histogram2d": [
           {
            "colorbar": {
             "outlinewidth": 0,
             "ticks": ""
            },
            "colorscale": [
             [
              0,
              "#0d0887"
             ],
             [
              0.1111111111111111,
              "#46039f"
             ],
             [
              0.2222222222222222,
              "#7201a8"
             ],
             [
              0.3333333333333333,
              "#9c179e"
             ],
             [
              0.4444444444444444,
              "#bd3786"
             ],
             [
              0.5555555555555556,
              "#d8576b"
             ],
             [
              0.6666666666666666,
              "#ed7953"
             ],
             [
              0.7777777777777778,
              "#fb9f3a"
             ],
             [
              0.8888888888888888,
              "#fdca26"
             ],
             [
              1,
              "#f0f921"
             ]
            ],
            "type": "histogram2d"
           }
          ],
          "histogram2dcontour": [
           {
            "colorbar": {
             "outlinewidth": 0,
             "ticks": ""
            },
            "colorscale": [
             [
              0,
              "#0d0887"
             ],
             [
              0.1111111111111111,
              "#46039f"
             ],
             [
              0.2222222222222222,
              "#7201a8"
             ],
             [
              0.3333333333333333,
              "#9c179e"
             ],
             [
              0.4444444444444444,
              "#bd3786"
             ],
             [
              0.5555555555555556,
              "#d8576b"
             ],
             [
              0.6666666666666666,
              "#ed7953"
             ],
             [
              0.7777777777777778,
              "#fb9f3a"
             ],
             [
              0.8888888888888888,
              "#fdca26"
             ],
             [
              1,
              "#f0f921"
             ]
            ],
            "type": "histogram2dcontour"
           }
          ],
          "mesh3d": [
           {
            "colorbar": {
             "outlinewidth": 0,
             "ticks": ""
            },
            "type": "mesh3d"
           }
          ],
          "parcoords": [
           {
            "line": {
             "colorbar": {
              "outlinewidth": 0,
              "ticks": ""
             }
            },
            "type": "parcoords"
           }
          ],
          "pie": [
           {
            "automargin": true,
            "type": "pie"
           }
          ],
          "scatter": [
           {
            "fillpattern": {
             "fillmode": "overlay",
             "size": 10,
             "solidity": 0.2
            },
            "type": "scatter"
           }
          ],
          "scatter3d": [
           {
            "line": {
             "colorbar": {
              "outlinewidth": 0,
              "ticks": ""
             }
            },
            "marker": {
             "colorbar": {
              "outlinewidth": 0,
              "ticks": ""
             }
            },
            "type": "scatter3d"
           }
          ],
          "scattercarpet": [
           {
            "marker": {
             "colorbar": {
              "outlinewidth": 0,
              "ticks": ""
             }
            },
            "type": "scattercarpet"
           }
          ],
          "scattergeo": [
           {
            "marker": {
             "colorbar": {
              "outlinewidth": 0,
              "ticks": ""
             }
            },
            "type": "scattergeo"
           }
          ],
          "scattergl": [
           {
            "marker": {
             "colorbar": {
              "outlinewidth": 0,
              "ticks": ""
             }
            },
            "type": "scattergl"
           }
          ],
          "scattermap": [
           {
            "marker": {
             "colorbar": {
              "outlinewidth": 0,
              "ticks": ""
             }
            },
            "type": "scattermap"
           }
          ],
          "scattermapbox": [
           {
            "marker": {
             "colorbar": {
              "outlinewidth": 0,
              "ticks": ""
             }
            },
            "type": "scattermapbox"
           }
          ],
          "scatterpolar": [
           {
            "marker": {
             "colorbar": {
              "outlinewidth": 0,
              "ticks": ""
             }
            },
            "type": "scatterpolar"
           }
          ],
          "scatterpolargl": [
           {
            "marker": {
             "colorbar": {
              "outlinewidth": 0,
              "ticks": ""
             }
            },
            "type": "scatterpolargl"
           }
          ],
          "scatterternary": [
           {
            "marker": {
             "colorbar": {
              "outlinewidth": 0,
              "ticks": ""
             }
            },
            "type": "scatterternary"
           }
          ],
          "surface": [
           {
            "colorbar": {
             "outlinewidth": 0,
             "ticks": ""
            },
            "colorscale": [
             [
              0,
              "#0d0887"
             ],
             [
              0.1111111111111111,
              "#46039f"
             ],
             [
              0.2222222222222222,
              "#7201a8"
             ],
             [
              0.3333333333333333,
              "#9c179e"
             ],
             [
              0.4444444444444444,
              "#bd3786"
             ],
             [
              0.5555555555555556,
              "#d8576b"
             ],
             [
              0.6666666666666666,
              "#ed7953"
             ],
             [
              0.7777777777777778,
              "#fb9f3a"
             ],
             [
              0.8888888888888888,
              "#fdca26"
             ],
             [
              1,
              "#f0f921"
             ]
            ],
            "type": "surface"
           }
          ],
          "table": [
           {
            "cells": {
             "fill": {
              "color": "#EBF0F8"
             },
             "line": {
              "color": "white"
             }
            },
            "header": {
             "fill": {
              "color": "#C8D4E3"
             },
             "line": {
              "color": "white"
             }
            },
            "type": "table"
           }
          ]
         },
         "layout": {
          "annotationdefaults": {
           "arrowcolor": "#2a3f5f",
           "arrowhead": 0,
           "arrowwidth": 1
          },
          "autotypenumbers": "strict",
          "coloraxis": {
           "colorbar": {
            "outlinewidth": 0,
            "ticks": ""
           }
          },
          "colorscale": {
           "diverging": [
            [
             0,
             "#8e0152"
            ],
            [
             0.1,
             "#c51b7d"
            ],
            [
             0.2,
             "#de77ae"
            ],
            [
             0.3,
             "#f1b6da"
            ],
            [
             0.4,
             "#fde0ef"
            ],
            [
             0.5,
             "#f7f7f7"
            ],
            [
             0.6,
             "#e6f5d0"
            ],
            [
             0.7,
             "#b8e186"
            ],
            [
             0.8,
             "#7fbc41"
            ],
            [
             0.9,
             "#4d9221"
            ],
            [
             1,
             "#276419"
            ]
           ],
           "sequential": [
            [
             0,
             "#0d0887"
            ],
            [
             0.1111111111111111,
             "#46039f"
            ],
            [
             0.2222222222222222,
             "#7201a8"
            ],
            [
             0.3333333333333333,
             "#9c179e"
            ],
            [
             0.4444444444444444,
             "#bd3786"
            ],
            [
             0.5555555555555556,
             "#d8576b"
            ],
            [
             0.6666666666666666,
             "#ed7953"
            ],
            [
             0.7777777777777778,
             "#fb9f3a"
            ],
            [
             0.8888888888888888,
             "#fdca26"
            ],
            [
             1,
             "#f0f921"
            ]
           ],
           "sequentialminus": [
            [
             0,
             "#0d0887"
            ],
            [
             0.1111111111111111,
             "#46039f"
            ],
            [
             0.2222222222222222,
             "#7201a8"
            ],
            [
             0.3333333333333333,
             "#9c179e"
            ],
            [
             0.4444444444444444,
             "#bd3786"
            ],
            [
             0.5555555555555556,
             "#d8576b"
            ],
            [
             0.6666666666666666,
             "#ed7953"
            ],
            [
             0.7777777777777778,
             "#fb9f3a"
            ],
            [
             0.8888888888888888,
             "#fdca26"
            ],
            [
             1,
             "#f0f921"
            ]
           ]
          },
          "colorway": [
           "#636efa",
           "#EF553B",
           "#00cc96",
           "#ab63fa",
           "#FFA15A",
           "#19d3f3",
           "#FF6692",
           "#B6E880",
           "#FF97FF",
           "#FECB52"
          ],
          "font": {
           "color": "#2a3f5f"
          },
          "geo": {
           "bgcolor": "white",
           "lakecolor": "white",
           "landcolor": "#E5ECF6",
           "showlakes": true,
           "showland": true,
           "subunitcolor": "white"
          },
          "hoverlabel": {
           "align": "left"
          },
          "hovermode": "closest",
          "mapbox": {
           "style": "light"
          },
          "paper_bgcolor": "white",
          "plot_bgcolor": "#E5ECF6",
          "polar": {
           "angularaxis": {
            "gridcolor": "white",
            "linecolor": "white",
            "ticks": ""
           },
           "bgcolor": "#E5ECF6",
           "radialaxis": {
            "gridcolor": "white",
            "linecolor": "white",
            "ticks": ""
           }
          },
          "scene": {
           "xaxis": {
            "backgroundcolor": "#E5ECF6",
            "gridcolor": "white",
            "gridwidth": 2,
            "linecolor": "white",
            "showbackground": true,
            "ticks": "",
            "zerolinecolor": "white"
           },
           "yaxis": {
            "backgroundcolor": "#E5ECF6",
            "gridcolor": "white",
            "gridwidth": 2,
            "linecolor": "white",
            "showbackground": true,
            "ticks": "",
            "zerolinecolor": "white"
           },
           "zaxis": {
            "backgroundcolor": "#E5ECF6",
            "gridcolor": "white",
            "gridwidth": 2,
            "linecolor": "white",
            "showbackground": true,
            "ticks": "",
            "zerolinecolor": "white"
           }
          },
          "shapedefaults": {
           "line": {
            "color": "#2a3f5f"
           }
          },
          "ternary": {
           "aaxis": {
            "gridcolor": "white",
            "linecolor": "white",
            "ticks": ""
           },
           "baxis": {
            "gridcolor": "white",
            "linecolor": "white",
            "ticks": ""
           },
           "bgcolor": "#E5ECF6",
           "caxis": {
            "gridcolor": "white",
            "linecolor": "white",
            "ticks": ""
           }
          },
          "title": {
           "x": 0.05
          },
          "xaxis": {
           "automargin": true,
           "gridcolor": "white",
           "linecolor": "white",
           "ticks": "",
           "title": {
            "standoff": 15
           },
           "zerolinecolor": "white",
           "zerolinewidth": 2
          },
          "yaxis": {
           "automargin": true,
           "gridcolor": "white",
           "linecolor": "white",
           "ticks": "",
           "title": {
            "standoff": 15
           },
           "zerolinecolor": "white",
           "zerolinewidth": 2
          }
         }
        },
        "title": {
         "text": "Jerarquía de Tópicos - Cdmx"
        },
        "width": 1000,
        "xaxis": {
         "mirror": "allticks",
         "rangemode": "tozero",
         "showgrid": false,
         "showline": true,
         "showticklabels": true,
         "ticks": "outside",
         "type": "linear",
         "zeroline": false
        },
        "yaxis": {
         "mirror": "allticks",
         "rangemode": "tozero",
         "showgrid": false,
         "showline": true,
         "showticklabels": true,
         "tickmode": "array",
         "ticks": "outside",
         "ticktext": [
          "4_mural_rivera_interior_diego_art",
          "1_castillo_templo_catedral_ruina_chap",
          "6_museo_coleccion_pieza_entrada_piso",
          "0_fri_casa_vida_cultura_lugar",
          "5_restaurante_tienda_calle_mercado_plaza",
          "3_bas_misa_guadalupe_iglesia_virgen",
          "2_animal_acu_grupo_cuidado_actividad"
         ],
         "tickvals": [
          -5,
          -15,
          -25,
          -35,
          -45,
          -55,
          -65
         ],
         "type": "linear",
         "zeroline": false
        }
       }
      }
     },
     "metadata": {},
     "output_type": "display_data"
    },
    {
     "name": "stdout",
     "output_type": "stream",
     "text": [
      "\n",
      "📋 Resumen del modelado FASTopic:\n",
      "✅ Textos analizados: 490\n",
      "🎯 Tópicos encontrados: 7\n",
      "⏱️ Tiempo de entrenamiento: 35.10s\n",
      "📊 Probabilidad promedio: 0.493\n",
      "📈 Distribución:\n",
      "   1. Vida Marina: 112 opiniones (22.9%)\n",
      "   2. Museos y Colecciones: 76 opiniones (15.5%)\n",
      "   3. Patrimonio Cultural: 69 opiniones (14.1%)\n",
      "   4. Arte y Museos: 67 opiniones (13.7%)\n",
      "   5. Gastronomía y Compras: 64 opiniones (13.1%)\n"
     ]
    }
   ],
   "source": [
    "# ===== VISUALIZACIONES ESPECÍFICAS DE FASTOPIC =====\n",
    "\n",
    "# Generar visualización de tópicos\n",
    "fig_topics = topic_model.visualize_topic(top_n=min(8, len(topic_info)))\n",
    "fig_topics.update_layout(title=f\"Palabras Principales por Tópico - {CIUDAD_ANALIZAR}\")\n",
    "fig_topics.show()\n",
    "\n",
    "# Generar visualización de pesos de tópicos\n",
    "fig_weights = topic_model.visualize_topic_weights(top_n=min(10, len(topic_info)))\n",
    "fig_weights.update_layout(title=f\"Distribución de Pesos de Tópicos - {CIUDAD_ANALIZAR}\")\n",
    "fig_weights.show()\n",
    "\n",
    "# Generar jerarquía de tópicos si hay suficientes\n",
    "if len(topic_info) >= 3:\n",
    "    fig_hierarchy = topic_model.visualize_topic_hierarchy()\n",
    "    fig_hierarchy.update_layout(title=f\"Jerarquía de Tópicos - {CIUDAD_ANALIZAR}\")\n",
    "    fig_hierarchy.show()\n",
    "\n",
    "print(f\"\\n📋 Resumen del modelado FASTopic:\")\n",
    "print(f\"✅ Textos analizados: {len(texts)}\")\n",
    "print(f\"🎯 Tópicos encontrados: {len(topic_info)}\")\n",
    "print(f\"⏱️ Tiempo de entrenamiento: {tiempo_entrenamiento:.2f}s\")\n",
    "print(f\"📊 Probabilidad promedio: {df_con_topicos['Probabilidad_Topico'].mean():.3f}\")\n",
    "print(f\"📈 Distribución:\")\n",
    "for i, (topico, count) in enumerate(topico_counts.head(5).items()):\n",
    "    print(f\"   {i+1}. {topico}: {count} opiniones ({count/len(df_con_topicos)*100:.1f}%)\")"
   ]
  },
  {
   "cell_type": "code",
   "execution_count": 17,
   "id": "57459ce4",
   "metadata": {},
   "outputs": [
    {
     "name": "stdout",
     "output_type": "stream",
     "text": [
      "🔄 COMPARACIÓN FASTopic vs BERTopic en Cdmx\n",
      "============================================================\n",
      "📊 Opiniones con ambos análisis: 490\n",
      "\n",
      "🎯 NÚMERO DE TÓPICOS:\n",
      "   BERTopic: 5\n",
      "   FASTopic: 7\n"
     ]
    },
    {
     "data": {
      "image/png": "[encoded data removed]",
      "text/plain": [
       "<Figure size 2000x800 with 2 Axes>"
      ]
     },
     "metadata": {},
     "output_type": "display_data"
    },
    {
     "name": "stdout",
     "output_type": "stream",
     "text": [
      "\n",
      "📈 TOP 5 TÓPICOS POR MÉTODO:\n",
      "\n",
      "🔵 BERTopic:\n",
      "   1. Opiniones Diversas: 248 (50.6%)\n",
      "   2. Arte e Historia Cultural: 76 (15.5%)\n",
      "   3. Experiencias en Museos: 65 (13.3%)\n",
      "   4. Experiencias en acuarios: 57 (11.6%)\n",
      "   5. Experiencia religiosa cultural: 44 (9.0%)\n",
      "\n",
      "🔴 FASTopic:\n",
      "   1. Vida Marina: 112 (22.9%)\n",
      "   2. Museos y Colecciones: 76 (15.5%)\n",
      "   3. Patrimonio Cultural: 69 (14.1%)\n",
      "   4. Arte y Museos: 67 (13.7%)\n",
      "   5. Gastronomía y Compras: 64 (13.1%)\n",
      "\n",
      "💡 OBSERVACIONES:\n",
      "   • FASTopic identificó 7 tópicos vs 5 de BERTopic\n",
      "   • FASTopic muestra mayor granularidad en la segmentación\n",
      "   • Tiempo FASTopic: 35.10s (más rápido que BERTopic)\n",
      "\n",
      "📊 RESUMEN ACTUAL FASTopic:\n",
      "   Total tópicos identificados: 7\n",
      "   Tópicos en datos actuales: 7\n",
      "   Documentos procesados: 490\n"
     ]
    }
   ],
   "source": [
    "# ===== COMPARACIÓN CON BERTOPIC =====\n",
    "\n",
    "if 'TopicoConBERTopic' in df.columns:\n",
    "    print(f\"🔄 COMPARACIÓN FASTopic vs BERTopic en {CIUDAD_ANALIZAR}\")\n",
    "    print(\"=\" * 60)\n",
    "    \n",
    "    # Usar datos actuales procesados en lugar de df_ciudad que puede tener datos previos\n",
    "    df_comparacion = df_con_topicos[\n",
    "        df_con_topicos.index.isin(df_ciudad[df_ciudad['TopicoConBERTopic'].notna()].index)\n",
    "    ].copy()\n",
    "    \n",
    "    # Agregar datos de BERTopic al dataframe de comparación\n",
    "    bertopic_data = df_ciudad[df_ciudad['TopicoConBERTopic'].notna()]['TopicoConBERTopic']\n",
    "    df_comparacion = df_comparacion[df_comparacion.index.isin(bertopic_data.index)].copy()\n",
    "    df_comparacion['TopicoConBERTopic'] = bertopic_data\n",
    "    \n",
    "    if len(df_comparacion) > 0:\n",
    "        print(f\"📊 Opiniones con ambos análisis: {len(df_comparacion)}\")\n",
    "        \n",
    "        # Comparar número de tópicos únicos usando datos actuales\n",
    "        topicos_bertopic = df_comparacion['TopicoConBERTopic'].nunique()\n",
    "        topicos_fastopic = df_comparacion['Topico_Nombre'].nunique()  # Usar datos actuales\n",
    "        \n",
    "        print(f\"\\n🎯 NÚMERO DE TÓPICOS:\")\n",
    "        print(f\"   BERTopic: {topicos_bertopic}\")\n",
    "        print(f\"   FASTopic: {topicos_fastopic}\")\n",
    "        \n",
    "        # Mostrar distribuciones lado a lado\n",
    "        fig, axes = plt.subplots(1, 2, figsize=(20, 8))\n",
    "        \n",
    "        # BERTopic\n",
    "        bertopic_counts = df_comparacion['TopicoConBERTopic'].value_counts().head(10)\n",
    "        bertopic_counts.plot(kind='bar', ax=axes[0], color='skyblue')\n",
    "        axes[0].set_title(f'Distribución BERTopic - {CIUDAD_ANALIZAR}', fontweight='bold')\n",
    "        axes[0].set_xlabel('Tópicos')\n",
    "        axes[0].set_ylabel('Número de Opiniones')\n",
    "        axes[0].tick_params(axis='x', rotation=45)\n",
    "        \n",
    "        # FASTopic - usar datos actuales\n",
    "        fastopic_counts = df_comparacion['Topico_Nombre'].value_counts().head(10)\n",
    "        fastopic_counts.plot(kind='bar', ax=axes[1], color='lightcoral')\n",
    "        axes[1].set_title(f'Distribución FASTopic - {CIUDAD_ANALIZAR}', fontweight='bold')\n",
    "        axes[1].set_xlabel('Tópicos')\n",
    "        axes[1].set_ylabel('Número de Opiniones')\n",
    "        axes[1].tick_params(axis='x', rotation=45)\n",
    "        \n",
    "        plt.tight_layout()\n",
    "        plt.show()\n",
    "        \n",
    "        # Análisis de concordancia (tópicos más frecuentes)\n",
    "        print(f\"\\n📈 TOP 5 TÓPICOS POR MÉTODO:\")\n",
    "        print(f\"\\n🔵 BERTopic:\")\n",
    "        for i, (topico, count) in enumerate(bertopic_counts.head(5).items(), 1):\n",
    "            pct = (count / len(df_comparacion) * 100)\n",
    "            print(f\"   {i}. {topico}: {count} ({pct:.1f}%)\")\n",
    "        \n",
    "        print(f\"\\n🔴 FASTopic:\")\n",
    "        for i, (topico, count) in enumerate(fastopic_counts.head(5).items(), 1):\n",
    "            pct = (count / len(df_comparacion) * 100)\n",
    "            print(f\"   {i}. {topico}: {count} ({pct:.1f}%)\")\n",
    "            \n",
    "        print(f\"\\n💡 OBSERVACIONES:\")\n",
    "        print(f\"   • FASTopic identificó {topicos_fastopic} tópicos vs {topicos_bertopic} de BERTopic\")\n",
    "        if topicos_fastopic > topicos_bertopic:\n",
    "            print(f\"   • FASTopic muestra mayor granularidad en la segmentación\")\n",
    "        elif topicos_fastopic < topicos_bertopic:\n",
    "            print(f\"   • FASTopic agrupa conceptos de manera más generalizada\")\n",
    "        else:\n",
    "            print(f\"   • Ambos métodos identificaron el mismo número de tópicos\")\n",
    "            \n",
    "        print(f\"   • Tiempo FASTopic: {tiempo_entrenamiento:.2f}s (más rápido que BERTopic)\")\n",
    "        \n",
    "        # Mostrar resumen de datos actuales de FASTopic\n",
    "        print(f\"\\n📊 RESUMEN ACTUAL FASTopic:\")\n",
    "        print(f\"   Total tópicos identificados: {len(topic_info)}\")\n",
    "        print(f\"   Tópicos en datos actuales: {df_con_topicos['Topico_Nombre'].nunique()}\")\n",
    "        print(f\"   Documentos procesados: {len(df_con_topicos)}\")\n",
    "        \n",
    "    else:\n",
    "        print(f\"⚠️ No hay opiniones de {CIUDAD_ANALIZAR} con ambos análisis completados\")\n",
    "        print(f\"   BERTopic disponible: {df_ciudad['TopicoConBERTopic'].notna().sum()} opiniones\")\n",
    "        print(f\"   FASTopic actual: {len(df_con_topicos)} opiniones\")\n",
    "else:\n",
    "    print(f\"ℹ️ No hay análisis previo de BERTopic para comparar\")\n",
    "    print(f\"   Ejecuta el notebook 07-modelado-de-topicos-con-bertopic.ipynb primero\")\n",
    "    "
   ]
  },
  {
   "cell_type": "code",
   "execution_count": 18,
   "id": "62506cf6",
   "metadata": {},
   "outputs": [
    {
     "name": "stdout",
     "output_type": "stream",
     "text": [
      "📋 REPORTE COMPLETO - ANÁLISIS CON FASTOPIC\n",
      "============================================================\n",
      "🎯 ANÁLISIS COMPLETADO:\n",
      "   📍 Ciudad: Cdmx\n",
      "   📄 Documentos analizados: 490\n",
      "   🏷️ Tópicos identificados: 7\n",
      "   ⏱️ Tiempo de entrenamiento: 35.10 segundos\n",
      "\n",
      "📊 ESTADÍSTICAS DE TÓPICOS:\n",
      "   🎯 Tópico más relevante: Vida Marina\n",
      "   📈 Peso máximo: 98.221\n",
      "   📉 Peso mínimo: 58.893\n",
      "   📊 Peso promedio: 70.000\n",
      "\n",
      "🏆 TOP 5 TÓPICOS POR RELEVANCIA:\n",
      "   1. Vida Marina\n",
      "      📊 Peso: 98.221 | 📄 Documentos: 201\n",
      "      🔑 Palabras clave: animal, acu, grupo, cuidado, actividad, servicio, ...\n",
      "   2. Patrimonio Cultural\n",
      "      📊 Peso: 71.073 | 📄 Documentos: 210\n",
      "      🔑 Palabras clave: castillo, templo, catedral, ruina, chap, palacio, ...\n",
      "   3. Gastronomía y Compras\n",
      "      📊 Peso: 67.223 | 📄 Documentos: 200\n",
      "      🔑 Palabras clave: restaurante, tienda, calle, mercado, plaza, comida...\n",
      "   4. Vida Local\n",
      "      📊 Peso: 65.855 | 📄 Documentos: 248\n",
      "      🔑 Palabras clave: fri, casa, vida, cultura, lugar, tour, guia, recom...\n",
      "   5. Arte y Museos\n",
      "      📊 Peso: 65.040 | 📄 Documentos: 208\n",
      "      🔑 Palabras clave: mural, rivera, interior, diego, art, artista, arte...\n",
      "\n",
      "💎 CALIDAD DEL MODELADO:\n",
      "   ✅ Tópicos con documentos asignados: 7/7\n",
      "   ✅ Distribución balanceada de tópicos: 20.0% máx.\n",
      "\n",
      "🚀 PRÓXIMOS PASOS RECOMENDADOS:\n",
      "   1. Revisar ejemplos de cada tópico principal\n",
      "   2. Analizar relación con sentimientos y subjetividad\n",
      "   3. Comparar resultados con BERTopic si está disponible\n",
      "   4. Exportar resultados al dataset principal\n"
     ]
    }
   ],
   "source": [
    "generar_reporte_fastopic(\n",
    "    topic_info, \n",
    "    len(df_con_topicos), \n",
    "    CIUDAD_ANALIZAR, \n",
    "    tiempo_entrenamiento\n",
    ")\n",
    "\n",
    "df.to_csv('../data/processed/dataset_opiniones_analisis.csv', index=False)"
   ]
  },
  {
   "cell_type": "code",
   "execution_count": 19,
   "id": "6a801194",
   "metadata": {},
   "outputs": [
    {
     "name": "stdout",
     "output_type": "stream",
     "text": [
      "🔬 Evaluando modelo FASTopic para Cdmx...\n",
      "📊 Evaluación FASTopic - Cdmx:\n",
      "   🎯 Tópicos: 7\n",
      "   📈 Coherencia CV: 0.4171\n",
      "   🔄 Diversidad: 1.0000\n",
      "📊 Evaluación FASTopic - Cdmx:\n",
      "   🎯 Tópicos: 7\n",
      "   📈 Coherencia CV: 0.4171\n",
      "   🔄 Diversidad: 1.0000\n"
     ]
    }
   ],
   "source": [
    "# ===== EVALUACIÓN DE MÉTRICAS FASTOPIC =====\n",
    "\n",
    "print(f\"🔬 Evaluando modelo FASTopic para {CIUDAD_ANALIZAR}...\")\n",
    "\n",
    "topics_words_fastopic = extraer_palabras_fastopic(top_words, words_per_topic=10)\n",
    "metricas_fastopic = evaluar_modelo_topicos(texts, topics_words_fastopic, f\"FASTopic - {CIUDAD_ANALIZAR}\")\n",
    "\n",
    "mostrar_metricas(metricas_fastopic)"
   ]
  }
 ],
 "metadata": {
  "kernelspec": {
   "display_name": "ultima",
   "language": "python",
   "name": "python3"
  },
  "language_info": {
   "codemirror_mode": {
    "name": "ipython",
    "version": 3
   },
   "file_extension": ".py",
   "mimetype": "text/x-python",
   "name": "python",
   "nbconvert_exporter": "python",
   "pygments_lexer": "ipython3",
   "version": "3.10.18"
  }
 },
 "nbformat": 4,
 "nbformat_minor": 5
}
