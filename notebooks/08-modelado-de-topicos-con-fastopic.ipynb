{
 "cells": [
  {
   "cell_type": "code",
   "execution_count": 2,
   "id": "7a328700",
   "metadata": {},
   "outputs": [
    {
     "name": "stdout",
     "output_type": "stream",
     "text": [
      "The autoreload extension is already loaded. To reload it, use:\n",
      "  %reload_ext autoreload\n"
     ]
    }
   ],
   "source": [
    "%load_ext autoreload\n",
    "%autoreload 2"
   ]
  },
  {
   "cell_type": "code",
   "execution_count": 3,
   "id": "0b114faf",
   "metadata": {},
   "outputs": [
    {
     "name": "stdout",
     "output_type": "stream",
     "text": [
      "✓ TOKENIZERS_PARALLELISM configurado a 'false' para evitar warnings\n",
      "✓ Configuración de warnings completada - BERT warnings suprimidos\n"
     ]
    }
   ],
   "source": [
    "import os\n",
    "import warnings\n",
    "\n",
    "# Configuraciones para reducir warnings\n",
    "os.environ[\"TOKENIZERS_PARALLELISM\"] = \"false\"\n",
    "print(\"✓ TOKENIZERS_PARALLELISM configurado a 'false' para evitar warnings\")\n",
    "\n",
    "# Filtros específicos para warnings conocidos\n",
    "warnings.filterwarnings(\"ignore\", category=FutureWarning)\n",
    "warnings.filterwarnings(\"ignore\", category=UserWarning, module=\"transformers\")\n",
    "warnings.filterwarnings(\"ignore\", message=\".*bert.pooler.*\")\n",
    "warnings.filterwarnings(\"ignore\", message=\".*Asking to truncate.*\")\n",
    "warnings.filterwarnings(\"ignore\", message=\".*Some weights of the model.*\")\n",
    "\n",
    "print(\"✓ Configuración de warnings completada - BERT warnings suprimidos\")"
   ]
  },
  {
   "cell_type": "markdown",
   "id": "8d25143e",
   "metadata": {},
   "source": [
    "# Modelado de Tópicos con FASTopic\n",
    "\n",
    "Este notebook implementa un análisis de tópicos usando FASTopic sobre las opiniones turísticas clasificadas. Utiliza LangChain con GPT-4o-mini para asignar nombres semánticamente coherentes a los tópicos identificados y compara resultados con BERTopic."
   ]
  },
  {
   "cell_type": "code",
   "execution_count": 4,
   "id": "3030ec8f",
   "metadata": {},
   "outputs": [
    {
     "name": "stderr",
     "output_type": "stream",
     "text": [
      "Device set to use cuda:0\n",
      "[nltk_data] Downloading package wordnet to\n",
      "[nltk_data]     /home/victorwkey/nltk_data...\n",
      "[nltk_data]   Package wordnet is already up-to-date!\n"
     ]
    }
   ],
   "source": [
    "import pandas as pd\n",
    "import numpy as np\n",
    "import matplotlib.pyplot as plt\n",
    "import seaborn as sns\n",
    "import time\n",
    "import os\n",
    "import sys\n",
    "from dotenv import load_dotenv\n",
    "\n",
    "sys.path.append('../scripts')\n",
    "\n",
    "from topicos import (\n",
    "    configurar_clasificador_topicos, \n",
    "    configurar_fastopic_inteligente,\n",
    "    LimpiadorTextoMejorado, \n",
    "    mostrar_ejemplos_limpieza,\n",
    "    evaluar_modelo_topicos,\n",
    "    extraer_palabras_fastopic,\n",
    "    mostrar_metricas\n",
    ")\n",
    "\n",
    "from topicos.utils_topicos import (\n",
    "    procesar_topicos_fastopic,\n",
    "    obtener_asignaciones_topicos_fastopic,\n",
    "    visualizar_distribucion_topicos_fastopic,\n",
    "    mostrar_ejemplos_por_topico_fastopic,\n",
    "    generar_reporte_fastopic\n",
    ")\n",
    "\n",
    "load_dotenv()\n",
    "\n",
    "plt.style.use('seaborn-v0_8')\n",
    "sns.set_palette(\"husl\")"
   ]
  },
  {
   "cell_type": "code",
   "execution_count": 5,
   "id": "244d4041",
   "metadata": {},
   "outputs": [],
   "source": [
    "clasificador_topicos = configurar_clasificador_topicos()"
   ]
  },
  {
   "cell_type": "code",
   "execution_count": 6,
   "id": "c4025566",
   "metadata": {},
   "outputs": [
    {
     "name": "stdout",
     "output_type": "stream",
     "text": [
      "Dataset cargado: 2457 opiniones\n",
      "Distribución total por ciudad:\n",
      "Ciudad\n",
      "Mazatlan           499\n",
      "Puebla             497\n",
      "Puerto_vallarta    489\n",
      "Cdmx               489\n",
      "Cancun             483\n",
      "Name: count, dtype: int64\n"
     ]
    }
   ],
   "source": [
    "CIUDAD_ANALIZAR = \"Mazatlan\"\n",
    "df = pd.read_csv('../data/processed/dataset_opiniones_analisis.csv')\n",
    "\n",
    "if 'TopicoConFASTopic' not in df.columns:\n",
    "    df['TopicoConFASTopic'] = np.nan\n",
    "\n",
    "print(f\"Dataset cargado: {df.shape[0]} opiniones\")\n",
    "print(f\"Distribución total por ciudad:\")\n",
    "print(df['Ciudad'].value_counts())\n",
    "\n",
    "df_ciudad = df[df['Ciudad'] == CIUDAD_ANALIZAR].copy()\n",
    "\n",
    "columna_texto = 'TituloReviewLimpio'\n",
    "\n",
    "texts = df_ciudad[columna_texto].dropna().tolist()"
   ]
  },
  {
   "cell_type": "code",
   "execution_count": null,
   "id": "9f207354",
   "metadata": {},
   "outputs": [
    {
     "name": "stdout",
     "output_type": "stream",
     "text": [
      "\n",
      "🎯 RESUMEN FINAL PARA Mazatlan:\n",
      "   📝 Textos disponibles: 499\n",
      "   📊 Promedio palabras: 56.3\n",
      "   📏 Rango: 12 - 476 palabras\n",
      "   🎲 Muestra: 'divertido y estar mucho con mazatlar mx el gente a...'\n"
     ]
    }
   ],
   "source": [
    "columna_limpia = \"TituloReviewLimpio\"\n",
    "\n",
    "limpiar_de_nuevo = False\n",
    "\n",
    "if columna_limpia not in df.columns or limpiar_de_nuevo:\n",
    "    \n",
    "    limpiador = LimpiadorTextoMejorado(idiomas=['spanish', 'english'])\n",
    "    \n",
    "    print(f\"🔍 Iniciando limpieza para {CIUDAD_ANALIZAR}...\")\n",
    "    \n",
    "    df = limpiador.limpiar_dataframe(\n",
    "        df,\n",
    "        columna_texto='TituloReview',\n",
    "        nombre_columna_limpia=columna_limpia,\n",
    "        aplicar_traduccion=True,\n",
    "        filtrar_adjetivos=True,  # Nueva opción para filtrar adjetivos\n",
    "        filtrar_solo_espanol=True,  # Nueva opción para filtrar solo textos en español\n",
    "        aplicar_lematizacion=True,\n",
    "        min_longitud_palabra=2,\n",
    "        max_palabras=None,\n",
    "        mostrar_estadisticas=True  # Mostrar estadísticas detalladas\n",
    "    )\n",
    "    \n",
    "    print(f\"\\n💾 Guardando dataset procesado...\")\n",
    "    df.to_csv('../data/processed/dataset_opiniones_analisis.csv', index=False)\n",
    "    print(f\"✅ Dataset guardado exitosamente\")\n",
    "\n",
    "df_ciudad = df[df['Ciudad'] == CIUDAD_ANALIZAR].copy()\n",
    "texts = df_ciudad[columna_texto].dropna().tolist()\n",
    "\n",
    "print(f\"\\n🎯 RESUMEN FINAL PARA {CIUDAD_ANALIZAR}:\")\n",
    "print(f\"   📝 Textos disponibles: {len(texts):,}\")\n",
    "if texts:\n",
    "    promedio = sum(len(t.split()) for t in texts) / len(texts)\n",
    "    print(f\"   📊 Promedio palabras: {promedio:.1f}\")\n",
    "    print(f\"   📏 Rango: {min(len(t.split()) for t in texts)} - {max(len(t.split()) for t in texts)} palabras\")\n",
    "    print(f\"   🎲 Muestra: '{texts[0][:50]}...'\" if texts else \"\")"
   ]
  },
  {
   "cell_type": "code",
   "execution_count": 8,
   "id": "0d39a4e0",
   "metadata": {},
   "outputs": [
    {
     "name": "stderr",
     "output_type": "stream",
     "text": [
      "loading train texts: 100%|██████████| 499/499 [00:05<00:00, 91.77it/s] \n",
      "parsing texts: 100%|██████████| 499/499 [00:08<00:00, 60.83it/s]\n",
      "2025-09-24 18:33:33,475 - TopMost - Real vocab size: 549\n",
      "2025-09-24 18:33:33,476 - TopMost - Real training size: 499 \t avg length: 16.126\n",
      "Training FASTopic: 100%|██████████| 200/200 [00:19<00:00, 10.47it/s]\n",
      "loading train texts: 100%|██████████| 499/499 [00:07<00:00, 66.27it/s]\n",
      "parsing texts: 100%|██████████| 499/499 [00:08<00:00, 62.11it/s]\n",
      "2025-09-24 18:34:10,443 - TopMost - Real vocab size: 549\n",
      "2025-09-24 18:34:10,444 - TopMost - Real training size: 499 \t avg length: 16.128\n",
      "Training FASTopic: 100%|██████████| 200/200 [00:21<00:00,  9.29it/s]\n",
      "loading train texts: 100%|██████████| 499/499 [00:07<00:00, 64.98it/s]\n",
      "parsing texts: 100%|██████████| 499/499 [00:08<00:00, 58.25it/s]\n",
      "2025-09-24 18:34:53,545 - TopMost - Real vocab size: 549\n",
      "2025-09-24 18:34:53,547 - TopMost - Real training size: 499 \t avg length: 16.128\n",
      "Training FASTopic: 100%|██████████| 200/200 [00:19<00:00, 10.29it/s]\n",
      "loading train texts: 100%|██████████| 499/499 [00:07<00:00, 67.29it/s]\n",
      "parsing texts: 100%|██████████| 499/499 [00:06<00:00, 80.88it/s] \n",
      "2025-09-24 18:35:29,878 - TopMost - Real vocab size: 549\n",
      "2025-09-24 18:35:29,879 - TopMost - Real training size: 499 \t avg length: 16.130\n",
      "Training FASTopic: 100%|██████████| 200/200 [00:20<00:00,  9.61it/s]\n"
     ]
    },
    {
     "name": "stdout",
     "output_type": "stream",
     "text": [
      "🤖 Configuración automática de FASTopic completada\n",
      "\n",
      "📊 CONFIGURACIÓN Y OPTIMIZACIÓN AUTOMÁTICA DE FASTOPIC\n",
      "============================================================\n",
      "\n",
      "📈 Análisis del Corpus:\n",
      "  📄 Documentos: 499\n",
      "  📝 Palabras promedio: 56.3\n",
      "  🔤 Vocabulario único: 3,154\n",
      "\n",
      "🎯 Optimización de Tópicos:\n",
      "  🔍 Modelos evaluados: 4\n",
      "  🏷️ K óptimo encontrado: 9\n",
      "  📈 Coherencia CV: 0.4487\n",
      "  🔄 Diversidad: 0.9889\n",
      "  ✅ Criterio diversidad (≥0.98): Cumplido\n",
      "\n",
      "🔧 Configuración Final:\n",
      "  🌍 Modelo embeddings: paraphrase-multilingual-MiniLM-L12-v2\n",
      "  🔧 Tokenizer: Multiidioma (ES, EN, PT, FR, IT)\n",
      "  🚀 Épocas entrenamiento: 200 (para todos los candidatos)\n",
      "  ⏱️ Tiempo total optimización: 159.35s\n",
      "\n"
     ]
    }
   ],
   "source": [
    "model, top_words, doc_topic_dist, reporte_optimizacion, tiempo_entrenamiento = configurar_fastopic_inteligente(texts)\n",
    "    \n",
    "print(\"🤖 Configuración automática de FASTopic completada\")\n",
    "print(reporte_optimizacion)"
   ]
  },
  {
   "cell_type": "code",
   "execution_count": 9,
   "id": "c866e8a6",
   "metadata": {},
   "outputs": [
    {
     "name": "stdout",
     "output_type": "stream",
     "text": [
      "✅ Modelo FASTopic optimizado y entrenado automáticamente\n"
     ]
    }
   ],
   "source": [
    "# La optimización y entrenamiento ya se realizó en la celda anterior\n",
    "topic_model = model\n",
    "print(\"✅ Modelo FASTopic optimizado y entrenado automáticamente\")"
   ]
  },
  {
   "cell_type": "code",
   "execution_count": 10,
   "id": "48b58ea5",
   "metadata": {},
   "outputs": [
    {
     "name": "stdout",
     "output_type": "stream",
     "text": [
      "Documento 1: [0.05 | 0.09 | 0.05 | 0.07 | 0.09 | 0.05 | 0.08 | 0.48 | 0.04] -> Tópicos seleccionados: [7], Umbral: 0.139\n",
      "Documento 2: [0.07 | 0.09 | 0.06 | 0.27 | 0.05 | 0.06 | 0.30 | 0.05 | 0.05] -> Tópicos seleccionados: [6, 3], Umbral: 0.139\n",
      "Documento 3: [0.05 | 0.07 | 0.06 | 0.02 | 0.14 | 0.06 | 0.46 | 0.11 | 0.03] -> Tópicos seleccionados: [6, 4], Umbral: 0.139\n",
      "Documento 4: [0.03 | 0.61 | 0.14 | 0.05 | 0.00 | 0.07 | 0.07 | 0.03 | 0.01] -> Tópicos seleccionados: [1], Umbral: 0.139\n",
      "Documento 5: [0.06 | 0.09 | 0.04 | 0.38 | 0.05 | 0.03 | 0.25 | 0.03 | 0.06] -> Tópicos seleccionados: [3, 6], Umbral: 0.139\n",
      "Documento 6: [0.02 | 0.11 | 0.06 | 0.05 | 0.01 | 0.70 | 0.02 | 0.03 | 0.01] -> Tópicos seleccionados: [5], Umbral: 0.139\n",
      "Documento 7: [0.25 | 0.08 | 0.00 | 0.01 | 0.07 | 0.01 | 0.03 | 0.50 | 0.05] -> Tópicos seleccionados: [7, 0], Umbral: 0.139\n",
      "Documento 8: [0.01 | 0.06 | 0.02 | 0.01 | 0.08 | 0.12 | 0.28 | 0.39 | 0.03] -> Tópicos seleccionados: [7, 6], Umbral: 0.139\n",
      "Documento 9: [0.04 | 0.19 | 0.16 | 0.04 | 0.02 | 0.27 | 0.11 | 0.15 | 0.02] -> Tópicos seleccionados: [5, 1, 2], Umbral: 0.139\n",
      "Documento 10: [0.23 | 0.16 | 0.03 | 0.03 | 0.02 | 0.01 | 0.02 | 0.43 | 0.07] -> Tópicos seleccionados: [7, 0, 1], Umbral: 0.139\n",
      "Documento 11: [0.07 | 0.08 | 0.04 | 0.04 | 0.02 | 0.06 | 0.32 | 0.32 | 0.05] -> Tópicos seleccionados: [7, 6], Umbral: 0.139\n",
      "Documento 12: [0.20 | 0.16 | 0.16 | 0.10 | 0.05 | 0.09 | 0.10 | 0.08 | 0.06] -> Tópicos seleccionados: [0, 2, 1], Umbral: 0.139\n",
      "Documento 13: [0.01 | 0.02 | 0.01 | 0.03 | 0.01 | 0.31 | 0.38 | 0.23 | 0.00] -> Tópicos seleccionados: [6, 5, 7], Umbral: 0.139\n",
      "Documento 14: [0.48 | 0.04 | 0.02 | 0.06 | 0.02 | 0.02 | 0.11 | 0.18 | 0.07] -> Tópicos seleccionados: [0, 7], Umbral: 0.139\n",
      "Documento 15: [0.02 | 0.26 | 0.07 | 0.05 | 0.03 | 0.11 | 0.10 | 0.33 | 0.03] -> Tópicos seleccionados: [7, 1], Umbral: 0.139\n",
      "Documento 16: [0.07 | 0.25 | 0.09 | 0.21 | 0.09 | 0.01 | 0.04 | 0.04 | 0.20] -> Tópicos seleccionados: [1, 3, 8], Umbral: 0.139\n",
      "Documento 17: [0.24 | 0.23 | 0.12 | 0.04 | 0.04 | 0.02 | 0.06 | 0.19 | 0.05] -> Tópicos seleccionados: [0, 1, 7], Umbral: 0.139\n",
      "Documento 18: [0.03 | 0.15 | 0.06 | 0.40 | 0.12 | 0.10 | 0.05 | 0.03 | 0.06] -> Tópicos seleccionados: [3, 1], Umbral: 0.139\n",
      "Documento 19: [0.03 | 0.05 | 0.15 | 0.02 | 0.02 | 0.34 | 0.23 | 0.14 | 0.01] -> Tópicos seleccionados: [5, 6, 2], Umbral: 0.139\n",
      "Documento 20: [0.04 | 0.40 | 0.05 | 0.16 | 0.04 | 0.03 | 0.13 | 0.10 | 0.06] -> Tópicos seleccionados: [1, 3], Umbral: 0.139\n",
      "Documento 21: [0.15 | 0.10 | 0.02 | 0.06 | 0.03 | 0.03 | 0.08 | 0.42 | 0.11] -> Tópicos seleccionados: [7, 0], Umbral: 0.139\n",
      "Documento 22: [0.01 | 0.03 | 0.16 | 0.74 | 0.02 | 0.01 | 0.02 | 0.01 | 0.01] -> Tópicos seleccionados: [3, 2], Umbral: 0.139\n",
      "Documento 23: [0.07 | 0.14 | 0.10 | 0.39 | 0.05 | 0.10 | 0.08 | 0.04 | 0.03] -> Tópicos seleccionados: [3], Umbral: 0.139\n",
      "Documento 24: [0.02 | 0.05 | 0.05 | 0.39 | 0.12 | 0.03 | 0.26 | 0.02 | 0.06] -> Tópicos seleccionados: [3, 6], Umbral: 0.139\n",
      "Documento 25: [0.15 | 0.12 | 0.06 | 0.03 | 0.23 | 0.11 | 0.12 | 0.12 | 0.07] -> Tópicos seleccionados: [4, 0], Umbral: 0.139\n",
      "Documento 26: [0.01 | 0.02 | 0.04 | 0.46 | 0.16 | 0.02 | 0.04 | 0.03 | 0.22] -> Tópicos seleccionados: [3, 8, 4], Umbral: 0.139\n",
      "Documento 27: [0.09 | 0.28 | 0.01 | 0.03 | 0.02 | 0.01 | 0.02 | 0.50 | 0.04] -> Tópicos seleccionados: [7, 1], Umbral: 0.139\n",
      "Documento 28: [0.01 | 0.06 | 0.03 | 0.24 | 0.05 | 0.16 | 0.36 | 0.07 | 0.01] -> Tópicos seleccionados: [6, 3, 5], Umbral: 0.139\n",
      "Documento 29: [0.32 | 0.33 | 0.03 | 0.05 | 0.02 | 0.00 | 0.01 | 0.07 | 0.16] -> Tópicos seleccionados: [1, 0, 8], Umbral: 0.139\n",
      "Documento 30: [0.03 | 0.21 | 0.05 | 0.06 | 0.01 | 0.39 | 0.05 | 0.19 | 0.01] -> Tópicos seleccionados: [5, 1, 7], Umbral: 0.139\n",
      "Documento 31: [0.03 | 0.14 | 0.02 | 0.06 | 0.02 | 0.06 | 0.53 | 0.12 | 0.03] -> Tópicos seleccionados: [6], Umbral: 0.139\n",
      "Documento 32: [0.25 | 0.24 | 0.11 | 0.03 | 0.06 | 0.02 | 0.07 | 0.10 | 0.14] -> Tópicos seleccionados: [0, 1], Umbral: 0.139\n",
      "Documento 33: [0.06 | 0.41 | 0.15 | 0.12 | 0.01 | 0.12 | 0.06 | 0.05 | 0.03] -> Tópicos seleccionados: [1, 2], Umbral: 0.139\n",
      "Documento 34: [0.02 | 0.15 | 0.02 | 0.02 | 0.04 | 0.29 | 0.24 | 0.22 | 0.01] -> Tópicos seleccionados: [5, 6, 7], Umbral: 0.139\n",
      "Documento 35: [0.02 | 0.09 | 0.14 | 0.47 | 0.09 | 0.05 | 0.09 | 0.03 | 0.03] -> Tópicos seleccionados: [3], Umbral: 0.139\n",
      "Documento 36: [0.45 | 0.24 | 0.04 | 0.09 | 0.03 | 0.01 | 0.02 | 0.03 | 0.09] -> Tópicos seleccionados: [0, 1], Umbral: 0.139\n",
      "Documento 37: [0.02 | 0.19 | 0.05 | 0.04 | 0.07 | 0.08 | 0.28 | 0.16 | 0.11] -> Tópicos seleccionados: [6, 1, 7], Umbral: 0.139\n",
      "Documento 38: [0.03 | 0.13 | 0.07 | 0.26 | 0.06 | 0.16 | 0.18 | 0.07 | 0.03] -> Tópicos seleccionados: [3, 6, 5], Umbral: 0.139\n",
      "Documento 39: [0.20 | 0.34 | 0.08 | 0.20 | 0.02 | 0.01 | 0.01 | 0.05 | 0.10] -> Tópicos seleccionados: [1, 0, 3], Umbral: 0.139\n",
      "Documento 40: [0.03 | 0.30 | 0.12 | 0.23 | 0.07 | 0.05 | 0.11 | 0.05 | 0.05] -> Tópicos seleccionados: [1, 3], Umbral: 0.139\n",
      "Documento 41: [0.39 | 0.07 | 0.00 | 0.01 | 0.01 | 0.02 | 0.02 | 0.40 | 0.08] -> Tópicos seleccionados: [7, 0], Umbral: 0.139\n",
      "Documento 42: [0.15 | 0.04 | 0.01 | 0.02 | 0.03 | 0.29 | 0.26 | 0.18 | 0.03] -> Tópicos seleccionados: [5, 6, 7], Umbral: 0.139\n",
      "Documento 43: [0.17 | 0.14 | 0.15 | 0.06 | 0.04 | 0.02 | 0.05 | 0.26 | 0.10] -> Tópicos seleccionados: [7, 0, 2], Umbral: 0.139\n",
      "Documento 44: [0.03 | 0.14 | 0.14 | 0.25 | 0.08 | 0.09 | 0.22 | 0.02 | 0.02] -> Tópicos seleccionados: [3, 6, 2], Umbral: 0.139\n",
      "Documento 45: [0.01 | 0.10 | 0.01 | 0.13 | 0.02 | 0.10 | 0.09 | 0.51 | 0.02] -> Tópicos seleccionados: [7], Umbral: 0.139\n",
      "Documento 46: [0.02 | 0.04 | 0.04 | 0.59 | 0.04 | 0.09 | 0.11 | 0.03 | 0.04] -> Tópicos seleccionados: [3], Umbral: 0.139\n",
      "Documento 47: [0.05 | 0.08 | 0.10 | 0.20 | 0.17 | 0.11 | 0.07 | 0.15 | 0.05] -> Tópicos seleccionados: [3, 4, 7], Umbral: 0.139\n",
      "Documento 48: [0.07 | 0.05 | 0.09 | 0.23 | 0.24 | 0.17 | 0.07 | 0.05 | 0.03] -> Tópicos seleccionados: [4, 3, 5], Umbral: 0.139\n",
      "Documento 49: [0.06 | 0.63 | 0.06 | 0.02 | 0.01 | 0.08 | 0.02 | 0.09 | 0.02] -> Tópicos seleccionados: [1], Umbral: 0.139\n",
      "Documento 50: [0.45 | 0.10 | 0.03 | 0.09 | 0.23 | 0.01 | 0.02 | 0.02 | 0.05] -> Tópicos seleccionados: [0, 4], Umbral: 0.139\n",
      "Documento 51: [0.13 | 0.06 | 0.03 | 0.13 | 0.05 | 0.06 | 0.13 | 0.33 | 0.09] -> Tópicos seleccionados: [7], Umbral: 0.139\n",
      "Documento 52: [0.35 | 0.06 | 0.02 | 0.34 | 0.02 | 0.01 | 0.02 | 0.10 | 0.09] -> Tópicos seleccionados: [0, 3], Umbral: 0.139\n",
      "Documento 53: [0.76 | 0.11 | 0.01 | 0.02 | 0.01 | 0.00 | 0.01 | 0.03 | 0.05] -> Tópicos seleccionados: [0], Umbral: 0.139\n",
      "Documento 54: [0.54 | 0.02 | 0.01 | 0.02 | 0.05 | 0.00 | 0.02 | 0.06 | 0.28] -> Tópicos seleccionados: [0, 8], Umbral: 0.139\n",
      "Documento 55: [0.70 | 0.06 | 0.01 | 0.01 | 0.01 | 0.00 | 0.02 | 0.10 | 0.08] -> Tópicos seleccionados: [0], Umbral: 0.139\n",
      "Documento 56: [0.26 | 0.03 | 0.02 | 0.10 | 0.16 | 0.00 | 0.01 | 0.08 | 0.34] -> Tópicos seleccionados: [8, 0, 4], Umbral: 0.139\n",
      "Documento 57: [0.68 | 0.06 | 0.01 | 0.03 | 0.02 | 0.00 | 0.01 | 0.03 | 0.16] -> Tópicos seleccionados: [0, 8], Umbral: 0.139\n",
      "Documento 58: [0.13 | 0.06 | 0.04 | 0.38 | 0.10 | 0.03 | 0.04 | 0.16 | 0.06] -> Tópicos seleccionados: [3, 7], Umbral: 0.139\n",
      "Documento 59: [0.19 | 0.25 | 0.05 | 0.05 | 0.03 | 0.06 | 0.06 | 0.20 | 0.11] -> Tópicos seleccionados: [1, 7, 0], Umbral: 0.139\n",
      "Documento 60: [0.61 | 0.17 | 0.06 | 0.02 | 0.03 | 0.00 | 0.01 | 0.03 | 0.08] -> Tópicos seleccionados: [0, 1], Umbral: 0.139\n",
      "Documento 61: [0.52 | 0.09 | 0.01 | 0.04 | 0.14 | 0.01 | 0.01 | 0.07 | 0.11] -> Tópicos seleccionados: [0], Umbral: 0.139\n",
      "Documento 62: [0.85 | 0.01 | 0.00 | 0.00 | 0.00 | 0.00 | 0.00 | 0.04 | 0.07] -> Tópicos seleccionados: [0], Umbral: 0.139\n",
      "Documento 63: [0.65 | 0.14 | 0.02 | 0.04 | 0.03 | 0.01 | 0.02 | 0.02 | 0.06] -> Tópicos seleccionados: [0], Umbral: 0.139\n",
      "Documento 64: [0.21 | 0.06 | 0.03 | 0.10 | 0.03 | 0.04 | 0.10 | 0.34 | 0.09] -> Tópicos seleccionados: [7, 0], Umbral: 0.139\n",
      "Documento 65: [0.67 | 0.05 | 0.01 | 0.04 | 0.03 | 0.00 | 0.02 | 0.05 | 0.14] -> Tópicos seleccionados: [0], Umbral: 0.139\n",
      "Documento 66: [0.21 | 0.04 | 0.01 | 0.04 | 0.10 | 0.02 | 0.06 | 0.12 | 0.41] -> Tópicos seleccionados: [8, 0], Umbral: 0.139\n",
      "Documento 67: [0.66 | 0.06 | 0.00 | 0.02 | 0.10 | 0.00 | 0.01 | 0.03 | 0.13] -> Tópicos seleccionados: [0], Umbral: 0.139\n",
      "Documento 68: [0.24 | 0.11 | 0.03 | 0.25 | 0.22 | 0.01 | 0.01 | 0.06 | 0.07] -> Tópicos seleccionados: [3, 0, 4], Umbral: 0.139\n",
      "Documento 69: [0.04 | 0.03 | 0.04 | 0.09 | 0.13 | 0.08 | 0.36 | 0.13 | 0.10] -> Tópicos seleccionados: [6], Umbral: 0.139\n",
      "Documento 70: [0.64 | 0.04 | 0.02 | 0.07 | 0.09 | 0.00 | 0.01 | 0.03 | 0.10] -> Tópicos seleccionados: [0], Umbral: 0.139\n",
      "Documento 71: [0.01 | 0.25 | 0.02 | 0.12 | 0.03 | 0.18 | 0.09 | 0.28 | 0.02] -> Tópicos seleccionados: [7, 1, 5], Umbral: 0.139\n",
      "Documento 72: [0.60 | 0.19 | 0.02 | 0.01 | 0.01 | 0.01 | 0.02 | 0.06 | 0.10] -> Tópicos seleccionados: [0, 1], Umbral: 0.139\n",
      "Documento 73: [0.46 | 0.14 | 0.03 | 0.07 | 0.02 | 0.04 | 0.06 | 0.05 | 0.14] -> Tópicos seleccionados: [0, 1], Umbral: 0.139\n",
      "Documento 74: [0.45 | 0.08 | 0.01 | 0.01 | 0.01 | 0.00 | 0.01 | 0.36 | 0.08] -> Tópicos seleccionados: [0, 7], Umbral: 0.139\n",
      "Documento 75: [0.80 | 0.00 | 0.00 | 0.03 | 0.05 | 0.00 | 0.00 | 0.01 | 0.11] -> Tópicos seleccionados: [0], Umbral: 0.139\n",
      "Documento 76: [0.66 | 0.04 | 0.08 | 0.03 | 0.02 | 0.02 | 0.03 | 0.02 | 0.10] -> Tópicos seleccionados: [0], Umbral: 0.139\n",
      "Documento 77: [0.03 | 0.03 | 0.03 | 0.20 | 0.05 | 0.07 | 0.25 | 0.29 | 0.05] -> Tópicos seleccionados: [7, 6, 3], Umbral: 0.139\n",
      "Documento 78: [0.41 | 0.07 | 0.08 | 0.05 | 0.10 | 0.01 | 0.02 | 0.03 | 0.23] -> Tópicos seleccionados: [0, 8], Umbral: 0.139\n",
      "Documento 79: [0.47 | 0.05 | 0.01 | 0.13 | 0.09 | 0.02 | 0.04 | 0.11 | 0.09] -> Tópicos seleccionados: [0], Umbral: 0.139\n",
      "Documento 80: [0.25 | 0.12 | 0.03 | 0.28 | 0.13 | 0.01 | 0.02 | 0.04 | 0.12] -> Tópicos seleccionados: [3, 0], Umbral: 0.139\n",
      "Documento 81: [0.53 | 0.11 | 0.02 | 0.05 | 0.03 | 0.01 | 0.05 | 0.07 | 0.13] -> Tópicos seleccionados: [0], Umbral: 0.139\n",
      "Documento 82: [0.50 | 0.13 | 0.02 | 0.03 | 0.03 | 0.01 | 0.02 | 0.16 | 0.10] -> Tópicos seleccionados: [0, 7], Umbral: 0.139\n",
      "Documento 83: [0.88 | 0.02 | 0.01 | 0.01 | 0.02 | 0.00 | 0.00 | 0.00 | 0.06] -> Tópicos seleccionados: [0], Umbral: 0.139\n",
      "Documento 84: [0.39 | 0.04 | 0.01 | 0.04 | 0.02 | 0.01 | 0.02 | 0.17 | 0.30] -> Tópicos seleccionados: [0, 8, 7], Umbral: 0.139\n",
      "Documento 85: [0.34 | 0.12 | 0.07 | 0.30 | 0.04 | 0.03 | 0.02 | 0.04 | 0.05] -> Tópicos seleccionados: [0, 3], Umbral: 0.139\n",
      "Documento 86: [0.72 | 0.13 | 0.02 | 0.02 | 0.01 | 0.00 | 0.00 | 0.02 | 0.08] -> Tópicos seleccionados: [0], Umbral: 0.139\n",
      "Documento 87: [0.44 | 0.03 | 0.01 | 0.04 | 0.06 | 0.00 | 0.03 | 0.15 | 0.24] -> Tópicos seleccionados: [0, 8, 7], Umbral: 0.139\n",
      "Documento 88: [0.32 | 0.15 | 0.05 | 0.01 | 0.01 | 0.02 | 0.04 | 0.31 | 0.09] -> Tópicos seleccionados: [0, 7, 1], Umbral: 0.139\n",
      "Documento 89: [0.23 | 0.14 | 0.02 | 0.08 | 0.06 | 0.01 | 0.08 | 0.19 | 0.20] -> Tópicos seleccionados: [0, 8, 7], Umbral: 0.139\n",
      "Documento 90: [0.46 | 0.07 | 0.04 | 0.02 | 0.06 | 0.02 | 0.09 | 0.13 | 0.12] -> Tópicos seleccionados: [0], Umbral: 0.139\n",
      "Documento 91: [0.25 | 0.24 | 0.06 | 0.03 | 0.31 | 0.01 | 0.01 | 0.05 | 0.05] -> Tópicos seleccionados: [4, 0, 1], Umbral: 0.139\n",
      "Documento 92: [0.11 | 0.13 | 0.16 | 0.16 | 0.10 | 0.02 | 0.04 | 0.16 | 0.11] -> Tópicos seleccionados: [7, 2, 3], Umbral: 0.139\n",
      "Documento 93: [0.12 | 0.03 | 0.00 | 0.00 | 0.00 | 0.00 | 0.03 | 0.75 | 0.05] -> Tópicos seleccionados: [7], Umbral: 0.139\n",
      "Documento 94: [0.29 | 0.05 | 0.07 | 0.07 | 0.19 | 0.02 | 0.08 | 0.07 | 0.17] -> Tópicos seleccionados: [0, 4, 8], Umbral: 0.139\n",
      "Documento 95: [0.11 | 0.10 | 0.03 | 0.06 | 0.16 | 0.02 | 0.04 | 0.11 | 0.38] -> Tópicos seleccionados: [8, 4], Umbral: 0.139\n",
      "Documento 96: [0.44 | 0.03 | 0.01 | 0.01 | 0.02 | 0.01 | 0.05 | 0.31 | 0.12] -> Tópicos seleccionados: [0, 7], Umbral: 0.139\n",
      "Documento 97: [0.37 | 0.08 | 0.01 | 0.01 | 0.01 | 0.02 | 0.01 | 0.26 | 0.24] -> Tópicos seleccionados: [0, 7, 8], Umbral: 0.139\n",
      "Documento 98: [0.16 | 0.05 | 0.00 | 0.02 | 0.00 | 0.03 | 0.03 | 0.68 | 0.02] -> Tópicos seleccionados: [7, 0], Umbral: 0.139\n",
      "Documento 99: [0.60 | 0.04 | 0.01 | 0.03 | 0.05 | 0.00 | 0.04 | 0.08 | 0.14] -> Tópicos seleccionados: [0, 8], Umbral: 0.139\n",
      "Documento 100: [0.04 | 0.16 | 0.01 | 0.05 | 0.03 | 0.05 | 0.06 | 0.55 | 0.05] -> Tópicos seleccionados: [7, 1], Umbral: 0.139\n",
      "Documento 101: [0.66 | 0.12 | 0.01 | 0.02 | 0.01 | 0.01 | 0.03 | 0.09 | 0.06] -> Tópicos seleccionados: [0], Umbral: 0.139\n",
      "Documento 102: [0.50 | 0.10 | 0.07 | 0.09 | 0.04 | 0.02 | 0.02 | 0.08 | 0.09] -> Tópicos seleccionados: [0], Umbral: 0.139\n",
      "Documento 103: [0.85 | 0.03 | 0.00 | 0.00 | 0.01 | 0.00 | 0.01 | 0.05 | 0.04] -> Tópicos seleccionados: [0], Umbral: 0.139\n",
      "Documento 104: [0.48 | 0.04 | 0.03 | 0.09 | 0.07 | 0.02 | 0.14 | 0.07 | 0.07] -> Tópicos seleccionados: [0], Umbral: 0.139\n",
      "Documento 105: [0.74 | 0.13 | 0.02 | 0.03 | 0.01 | 0.00 | 0.00 | 0.04 | 0.03] -> Tópicos seleccionados: [0], Umbral: 0.139\n",
      "Documento 106: [0.75 | 0.02 | 0.02 | 0.03 | 0.04 | 0.00 | 0.01 | 0.03 | 0.11] -> Tópicos seleccionados: [0], Umbral: 0.139\n",
      "Documento 107: [0.86 | 0.01 | 0.02 | 0.01 | 0.01 | 0.00 | 0.00 | 0.01 | 0.08] -> Tópicos seleccionados: [0], Umbral: 0.139\n",
      "Documento 108: [0.28 | 0.14 | 0.02 | 0.10 | 0.06 | 0.02 | 0.06 | 0.22 | 0.10] -> Tópicos seleccionados: [0, 7, 1], Umbral: 0.139\n",
      "Documento 109: [0.54 | 0.06 | 0.01 | 0.01 | 0.00 | 0.00 | 0.01 | 0.17 | 0.20] -> Tópicos seleccionados: [0, 8, 7], Umbral: 0.139\n",
      "Documento 110: [0.02 | 0.02 | 0.01 | 0.55 | 0.13 | 0.04 | 0.05 | 0.05 | 0.13] -> Tópicos seleccionados: [3], Umbral: 0.139\n",
      "Documento 111: [0.72 | 0.06 | 0.01 | 0.01 | 0.07 | 0.00 | 0.00 | 0.03 | 0.09] -> Tópicos seleccionados: [0], Umbral: 0.139\n",
      "Documento 112: [0.31 | 0.04 | 0.02 | 0.10 | 0.04 | 0.01 | 0.04 | 0.19 | 0.24] -> Tópicos seleccionados: [0, 8, 7], Umbral: 0.139\n",
      "Documento 113: [0.57 | 0.08 | 0.02 | 0.08 | 0.05 | 0.00 | 0.01 | 0.06 | 0.12] -> Tópicos seleccionados: [0], Umbral: 0.139\n",
      "Documento 114: [0.02 | 0.04 | 0.03 | 0.40 | 0.23 | 0.06 | 0.03 | 0.07 | 0.12] -> Tópicos seleccionados: [3, 4], Umbral: 0.139\n",
      "Documento 115: [0.26 | 0.10 | 0.01 | 0.01 | 0.02 | 0.01 | 0.02 | 0.50 | 0.06] -> Tópicos seleccionados: [7, 0], Umbral: 0.139\n",
      "Documento 116: [0.48 | 0.08 | 0.01 | 0.01 | 0.01 | 0.01 | 0.02 | 0.27 | 0.13] -> Tópicos seleccionados: [0, 7], Umbral: 0.139\n",
      "Documento 117: [0.04 | 0.03 | 0.01 | 0.07 | 0.01 | 0.07 | 0.15 | 0.60 | 0.02] -> Tópicos seleccionados: [7, 6], Umbral: 0.139\n",
      "Documento 118: [0.78 | 0.03 | 0.01 | 0.01 | 0.02 | 0.00 | 0.02 | 0.08 | 0.05] -> Tópicos seleccionados: [0], Umbral: 0.139\n",
      "Documento 119: [0.56 | 0.11 | 0.02 | 0.16 | 0.06 | 0.01 | 0.01 | 0.03 | 0.04] -> Tópicos seleccionados: [0, 3], Umbral: 0.139\n",
      "Documento 120: [0.60 | 0.07 | 0.03 | 0.05 | 0.01 | 0.01 | 0.01 | 0.04 | 0.17] -> Tópicos seleccionados: [0, 8], Umbral: 0.139\n",
      "Documento 121: [0.02 | 0.04 | 0.00 | 0.02 | 0.03 | 0.16 | 0.09 | 0.61 | 0.03] -> Tópicos seleccionados: [7, 5], Umbral: 0.139\n",
      "Documento 122: [0.84 | 0.01 | 0.00 | 0.00 | 0.00 | 0.00 | 0.00 | 0.10 | 0.05] -> Tópicos seleccionados: [0], Umbral: 0.139\n",
      "Documento 123: [0.86 | 0.02 | 0.00 | 0.00 | 0.00 | 0.00 | 0.00 | 0.07 | 0.04] -> Tópicos seleccionados: [0], Umbral: 0.139\n",
      "Documento 124: [0.11 | 0.03 | 0.04 | 0.37 | 0.18 | 0.04 | 0.03 | 0.03 | 0.17] -> Tópicos seleccionados: [3, 4, 8], Umbral: 0.139\n",
      "Documento 125: [0.15 | 0.04 | 0.01 | 0.08 | 0.02 | 0.08 | 0.11 | 0.42 | 0.08] -> Tópicos seleccionados: [7, 0], Umbral: 0.139\n",
      "Documento 126: [0.08 | 0.03 | 0.00 | 0.00 | 0.01 | 0.00 | 0.01 | 0.82 | 0.04] -> Tópicos seleccionados: [7], Umbral: 0.139\n",
      "Documento 127: [0.49 | 0.20 | 0.03 | 0.03 | 0.02 | 0.01 | 0.01 | 0.13 | 0.07] -> Tópicos seleccionados: [0, 1], Umbral: 0.139\n",
      "Documento 128: [0.04 | 0.12 | 0.01 | 0.02 | 0.01 | 0.24 | 0.03 | 0.48 | 0.05] -> Tópicos seleccionados: [7, 5], Umbral: 0.139\n",
      "Documento 129: [0.45 | 0.03 | 0.01 | 0.02 | 0.27 | 0.00 | 0.01 | 0.04 | 0.17] -> Tópicos seleccionados: [0, 4, 8], Umbral: 0.139\n",
      "Documento 130: [0.21 | 0.28 | 0.04 | 0.12 | 0.15 | 0.06 | 0.02 | 0.02 | 0.10] -> Tópicos seleccionados: [1, 0, 4], Umbral: 0.139\n",
      "Documento 131: [0.71 | 0.07 | 0.02 | 0.05 | 0.03 | 0.00 | 0.01 | 0.05 | 0.05] -> Tópicos seleccionados: [0], Umbral: 0.139\n",
      "Documento 132: [0.30 | 0.04 | 0.02 | 0.24 | 0.04 | 0.03 | 0.05 | 0.13 | 0.14] -> Tópicos seleccionados: [0, 3, 8], Umbral: 0.139\n",
      "Documento 133: [0.93 | 0.04 | 0.00 | 0.01 | 0.00 | 0.00 | 0.00 | 0.01 | 0.01] -> Tópicos seleccionados: [0], Umbral: 0.139\n",
      "Documento 134: [0.54 | 0.04 | 0.01 | 0.02 | 0.04 | 0.03 | 0.08 | 0.12 | 0.12] -> Tópicos seleccionados: [0], Umbral: 0.139\n",
      "Documento 135: [0.84 | 0.06 | 0.01 | 0.00 | 0.01 | 0.00 | 0.01 | 0.03 | 0.05] -> Tópicos seleccionados: [0], Umbral: 0.139\n",
      "Documento 136: [0.42 | 0.29 | 0.01 | 0.01 | 0.01 | 0.01 | 0.01 | 0.17 | 0.08] -> Tópicos seleccionados: [0, 1, 7], Umbral: 0.139\n",
      "Documento 137: [0.32 | 0.05 | 0.02 | 0.11 | 0.10 | 0.01 | 0.01 | 0.14 | 0.25] -> Tópicos seleccionados: [0, 8], Umbral: 0.139\n",
      "Documento 138: [0.58 | 0.10 | 0.01 | 0.05 | 0.08 | 0.00 | 0.03 | 0.11 | 0.03] -> Tópicos seleccionados: [0], Umbral: 0.139\n",
      "Documento 139: [0.34 | 0.02 | 0.01 | 0.05 | 0.06 | 0.00 | 0.01 | 0.08 | 0.42] -> Tópicos seleccionados: [8, 0], Umbral: 0.139\n",
      "Documento 140: [0.06 | 0.05 | 0.01 | 0.07 | 0.56 | 0.03 | 0.03 | 0.08 | 0.12] -> Tópicos seleccionados: [4], Umbral: 0.139\n",
      "Documento 141: [0.50 | 0.11 | 0.05 | 0.06 | 0.03 | 0.01 | 0.02 | 0.14 | 0.09] -> Tópicos seleccionados: [0, 7], Umbral: 0.139\n",
      "Documento 142: [0.57 | 0.02 | 0.01 | 0.01 | 0.03 | 0.00 | 0.01 | 0.07 | 0.28] -> Tópicos seleccionados: [0, 8], Umbral: 0.139\n",
      "Documento 143: [0.21 | 0.08 | 0.02 | 0.43 | 0.06 | 0.01 | 0.01 | 0.10 | 0.08] -> Tópicos seleccionados: [3, 0], Umbral: 0.139\n",
      "Documento 144: [0.49 | 0.07 | 0.02 | 0.09 | 0.11 | 0.01 | 0.03 | 0.09 | 0.08] -> Tópicos seleccionados: [0], Umbral: 0.139\n",
      "Documento 145: [0.29 | 0.06 | 0.01 | 0.09 | 0.02 | 0.00 | 0.02 | 0.42 | 0.09] -> Tópicos seleccionados: [7, 0], Umbral: 0.139\n",
      "Documento 146: [0.54 | 0.12 | 0.02 | 0.04 | 0.10 | 0.01 | 0.02 | 0.09 | 0.06] -> Tópicos seleccionados: [0], Umbral: 0.139\n",
      "Documento 147: [0.64 | 0.01 | 0.00 | 0.04 | 0.04 | 0.00 | 0.01 | 0.05 | 0.20] -> Tópicos seleccionados: [0, 8], Umbral: 0.139\n",
      "Documento 148: [0.14 | 0.07 | 0.01 | 0.04 | 0.05 | 0.08 | 0.11 | 0.42 | 0.07] -> Tópicos seleccionados: [7, 0], Umbral: 0.139\n",
      "Documento 149: [0.65 | 0.09 | 0.01 | 0.02 | 0.03 | 0.00 | 0.00 | 0.07 | 0.13] -> Tópicos seleccionados: [0], Umbral: 0.139\n",
      "Documento 150: [0.02 | 0.02 | 0.08 | 0.60 | 0.12 | 0.06 | 0.04 | 0.02 | 0.03] -> Tópicos seleccionados: [3], Umbral: 0.139\n",
      "Documento 151: [0.04 | 0.10 | 0.04 | 0.14 | 0.51 | 0.04 | 0.03 | 0.04 | 0.05] -> Tópicos seleccionados: [4, 3], Umbral: 0.139\n",
      "Documento 152: [0.03 | 0.03 | 0.07 | 0.10 | 0.43 | 0.03 | 0.18 | 0.06 | 0.08] -> Tópicos seleccionados: [4, 6], Umbral: 0.139\n",
      "Documento 153: [0.01 | 0.01 | 0.09 | 0.40 | 0.43 | 0.03 | 0.02 | 0.00 | 0.02] -> Tópicos seleccionados: [4, 3], Umbral: 0.139\n",
      "Documento 154: [0.03 | 0.07 | 0.03 | 0.05 | 0.65 | 0.04 | 0.08 | 0.03 | 0.03] -> Tópicos seleccionados: [4], Umbral: 0.139\n",
      "Documento 155: [0.02 | 0.04 | 0.04 | 0.05 | 0.76 | 0.02 | 0.02 | 0.02 | 0.04] -> Tópicos seleccionados: [4], Umbral: 0.139\n",
      "Documento 156: [0.04 | 0.07 | 0.11 | 0.05 | 0.56 | 0.08 | 0.05 | 0.03 | 0.01] -> Tópicos seleccionados: [4], Umbral: 0.139\n",
      "Documento 157: [0.01 | 0.06 | 0.13 | 0.28 | 0.20 | 0.13 | 0.06 | 0.05 | 0.08] -> Tópicos seleccionados: [3, 4], Umbral: 0.139\n",
      "Documento 158: [0.01 | 0.01 | 0.02 | 0.02 | 0.91 | 0.00 | 0.01 | 0.00 | 0.03] -> Tópicos seleccionados: [4], Umbral: 0.139\n",
      "Documento 159: [0.06 | 0.08 | 0.13 | 0.45 | 0.17 | 0.02 | 0.02 | 0.02 | 0.06] -> Tópicos seleccionados: [3, 4], Umbral: 0.139\n",
      "Documento 160: [0.03 | 0.16 | 0.03 | 0.05 | 0.41 | 0.03 | 0.08 | 0.11 | 0.10] -> Tópicos seleccionados: [4, 1], Umbral: 0.139\n",
      "Documento 161: [0.06 | 0.07 | 0.09 | 0.03 | 0.33 | 0.21 | 0.14 | 0.05 | 0.03] -> Tópicos seleccionados: [4, 5], Umbral: 0.139\n",
      "Documento 162: [0.05 | 0.21 | 0.06 | 0.06 | 0.41 | 0.05 | 0.04 | 0.09 | 0.03] -> Tópicos seleccionados: [4, 1], Umbral: 0.139\n",
      "Documento 163: [0.00 | 0.01 | 0.01 | 0.02 | 0.94 | 0.00 | 0.00 | 0.00 | 0.01] -> Tópicos seleccionados: [4], Umbral: 0.139\n",
      "Documento 164: [0.03 | 0.07 | 0.03 | 0.05 | 0.70 | 0.04 | 0.03 | 0.03 | 0.02] -> Tópicos seleccionados: [4], Umbral: 0.139\n",
      "Documento 165: [0.08 | 0.10 | 0.03 | 0.06 | 0.50 | 0.01 | 0.12 | 0.07 | 0.04] -> Tópicos seleccionados: [4], Umbral: 0.139\n",
      "Documento 166: [0.01 | 0.05 | 0.06 | 0.58 | 0.20 | 0.03 | 0.04 | 0.01 | 0.01] -> Tópicos seleccionados: [3, 4], Umbral: 0.139\n",
      "Documento 167: [0.00 | 0.02 | 0.02 | 0.32 | 0.58 | 0.02 | 0.01 | 0.01 | 0.02] -> Tópicos seleccionados: [4, 3], Umbral: 0.139\n",
      "Documento 168: [0.01 | 0.01 | 0.01 | 0.07 | 0.84 | 0.01 | 0.01 | 0.00 | 0.04] -> Tópicos seleccionados: [4], Umbral: 0.139\n",
      "Documento 169: [0.03 | 0.02 | 0.02 | 0.02 | 0.42 | 0.21 | 0.24 | 0.04 | 0.01] -> Tópicos seleccionados: [4, 6, 5], Umbral: 0.139\n",
      "Documento 170: [0.01 | 0.03 | 0.08 | 0.34 | 0.30 | 0.10 | 0.08 | 0.02 | 0.04] -> Tópicos seleccionados: [3, 4], Umbral: 0.139\n",
      "Documento 171: [0.09 | 0.03 | 0.02 | 0.03 | 0.60 | 0.03 | 0.14 | 0.02 | 0.03] -> Tópicos seleccionados: [4, 6], Umbral: 0.139\n",
      "Documento 172: [0.05 | 0.16 | 0.11 | 0.09 | 0.45 | 0.03 | 0.02 | 0.04 | 0.05] -> Tópicos seleccionados: [4, 1], Umbral: 0.139\n",
      "Documento 173: [0.02 | 0.03 | 0.01 | 0.05 | 0.80 | 0.02 | 0.01 | 0.01 | 0.03] -> Tópicos seleccionados: [4], Umbral: 0.139\n",
      "Documento 174: [0.05 | 0.08 | 0.05 | 0.16 | 0.37 | 0.04 | 0.07 | 0.05 | 0.13] -> Tópicos seleccionados: [4, 3], Umbral: 0.139\n",
      "Documento 175: [0.03 | 0.10 | 0.08 | 0.25 | 0.35 | 0.06 | 0.03 | 0.07 | 0.02] -> Tópicos seleccionados: [4, 3], Umbral: 0.139\n",
      "Documento 176: [0.03 | 0.01 | 0.08 | 0.07 | 0.72 | 0.05 | 0.01 | 0.01 | 0.02] -> Tópicos seleccionados: [4], Umbral: 0.139\n",
      "Documento 177: [0.00 | 0.02 | 0.01 | 0.87 | 0.03 | 0.02 | 0.01 | 0.02 | 0.01] -> Tópicos seleccionados: [3], Umbral: 0.139\n",
      "Documento 178: [0.04 | 0.02 | 0.01 | 0.07 | 0.81 | 0.01 | 0.01 | 0.00 | 0.03] -> Tópicos seleccionados: [4], Umbral: 0.139\n",
      "Documento 179: [0.03 | 0.02 | 0.03 | 0.64 | 0.06 | 0.04 | 0.15 | 0.02 | 0.02] -> Tópicos seleccionados: [3, 6], Umbral: 0.139\n",
      "Documento 180: [0.01 | 0.10 | 0.02 | 0.03 | 0.55 | 0.08 | 0.04 | 0.15 | 0.01] -> Tópicos seleccionados: [4, 7], Umbral: 0.139\n",
      "Documento 181: [0.02 | 0.02 | 0.04 | 0.14 | 0.71 | 0.01 | 0.01 | 0.01 | 0.02] -> Tópicos seleccionados: [4, 3], Umbral: 0.139\n",
      "Documento 182: [0.01 | 0.04 | 0.03 | 0.50 | 0.36 | 0.03 | 0.01 | 0.01 | 0.01] -> Tópicos seleccionados: [3, 4], Umbral: 0.139\n",
      "Documento 183: [0.00 | 0.05 | 0.03 | 0.75 | 0.06 | 0.05 | 0.02 | 0.05 | 0.00] -> Tópicos seleccionados: [3], Umbral: 0.139\n",
      "Documento 184: [0.02 | 0.03 | 0.05 | 0.51 | 0.30 | 0.01 | 0.01 | 0.01 | 0.06] -> Tópicos seleccionados: [3, 4], Umbral: 0.139\n",
      "Documento 185: [0.06 | 0.03 | 0.02 | 0.05 | 0.76 | 0.01 | 0.02 | 0.02 | 0.02] -> Tópicos seleccionados: [4], Umbral: 0.139\n",
      "Documento 186: [0.00 | 0.07 | 0.07 | 0.74 | 0.04 | 0.02 | 0.02 | 0.03 | 0.02] -> Tópicos seleccionados: [3], Umbral: 0.139\n",
      "Documento 187: [0.01 | 0.01 | 0.01 | 0.15 | 0.80 | 0.00 | 0.01 | 0.00 | 0.02] -> Tópicos seleccionados: [4, 3], Umbral: 0.139\n",
      "Documento 188: [0.10 | 0.10 | 0.07 | 0.28 | 0.34 | 0.02 | 0.01 | 0.03 | 0.06] -> Tópicos seleccionados: [4, 3], Umbral: 0.139\n",
      "Documento 189: [0.07 | 0.05 | 0.02 | 0.10 | 0.67 | 0.02 | 0.02 | 0.01 | 0.04] -> Tópicos seleccionados: [4], Umbral: 0.139\n",
      "Documento 190: [0.01 | 0.06 | 0.02 | 0.56 | 0.07 | 0.09 | 0.12 | 0.07 | 0.01] -> Tópicos seleccionados: [3], Umbral: 0.139\n",
      "Documento 191: [0.02 | 0.04 | 0.02 | 0.15 | 0.71 | 0.02 | 0.01 | 0.01 | 0.02] -> Tópicos seleccionados: [4, 3], Umbral: 0.139\n",
      "Documento 192: [0.02 | 0.12 | 0.01 | 0.06 | 0.65 | 0.04 | 0.03 | 0.05 | 0.01] -> Tópicos seleccionados: [4], Umbral: 0.139\n",
      "Documento 193: [0.01 | 0.07 | 0.04 | 0.64 | 0.10 | 0.03 | 0.04 | 0.04 | 0.02] -> Tópicos seleccionados: [3], Umbral: 0.139\n",
      "Documento 194: [0.01 | 0.03 | 0.05 | 0.45 | 0.10 | 0.12 | 0.10 | 0.13 | 0.01] -> Tópicos seleccionados: [3], Umbral: 0.139\n",
      "Documento 195: [0.00 | 0.05 | 0.02 | 0.09 | 0.06 | 0.24 | 0.04 | 0.48 | 0.01] -> Tópicos seleccionados: [7, 5], Umbral: 0.139\n",
      "Documento 196: [0.02 | 0.02 | 0.11 | 0.41 | 0.34 | 0.03 | 0.05 | 0.01 | 0.02] -> Tópicos seleccionados: [3, 4], Umbral: 0.139\n",
      "Documento 197: [0.06 | 0.05 | 0.02 | 0.04 | 0.02 | 0.32 | 0.17 | 0.30 | 0.02] -> Tópicos seleccionados: [5, 7, 6], Umbral: 0.139\n",
      "Documento 198: [0.03 | 0.06 | 0.02 | 0.10 | 0.06 | 0.06 | 0.31 | 0.33 | 0.02] -> Tópicos seleccionados: [7, 6], Umbral: 0.139\n",
      "Documento 199: [0.00 | 0.01 | 0.01 | 0.06 | 0.00 | 0.60 | 0.30 | 0.02 | 0.00] -> Tópicos seleccionados: [5, 6], Umbral: 0.139\n",
      "Documento 200: [0.06 | 0.09 | 0.04 | 0.18 | 0.06 | 0.06 | 0.45 | 0.03 | 0.03] -> Tópicos seleccionados: [6, 3], Umbral: 0.139\n",
      "Documento 201: [0.00 | 0.04 | 0.01 | 0.06 | 0.01 | 0.49 | 0.34 | 0.04 | 0.00] -> Tópicos seleccionados: [5, 6], Umbral: 0.139\n",
      "Documento 202: [0.05 | 0.13 | 0.13 | 0.33 | 0.03 | 0.05 | 0.16 | 0.07 | 0.06] -> Tópicos seleccionados: [3, 6], Umbral: 0.139\n",
      "Documento 203: [0.01 | 0.34 | 0.01 | 0.02 | 0.01 | 0.05 | 0.07 | 0.44 | 0.04] -> Tópicos seleccionados: [7, 1], Umbral: 0.139\n",
      "Documento 204: [0.00 | 0.00 | 0.01 | 0.02 | 0.00 | 0.53 | 0.40 | 0.03 | 0.00] -> Tópicos seleccionados: [5, 6], Umbral: 0.139\n",
      "Documento 205: [0.00 | 0.00 | 0.00 | 0.00 | 0.00 | 0.93 | 0.05 | 0.02 | 0.00] -> Tópicos seleccionados: [5], Umbral: 0.139\n",
      "Documento 206: [0.00 | 0.00 | 0.00 | 0.01 | 0.00 | 0.82 | 0.13 | 0.04 | 0.00] -> Tópicos seleccionados: [5], Umbral: 0.139\n",
      "Documento 207: [0.01 | 0.01 | 0.02 | 0.16 | 0.03 | 0.55 | 0.19 | 0.01 | 0.01] -> Tópicos seleccionados: [5, 6, 3], Umbral: 0.139\n",
      "Documento 208: [0.02 | 0.15 | 0.04 | 0.03 | 0.02 | 0.23 | 0.44 | 0.06 | 0.02] -> Tópicos seleccionados: [6, 5, 1], Umbral: 0.139\n",
      "Documento 209: [0.01 | 0.02 | 0.02 | 0.02 | 0.01 | 0.31 | 0.31 | 0.30 | 0.00] -> Tópicos seleccionados: [5, 6, 7], Umbral: 0.139\n",
      "Documento 210: [0.03 | 0.05 | 0.05 | 0.08 | 0.06 | 0.09 | 0.48 | 0.15 | 0.02] -> Tópicos seleccionados: [6, 7], Umbral: 0.139\n",
      "Documento 211: [0.01 | 0.25 | 0.15 | 0.14 | 0.04 | 0.08 | 0.20 | 0.10 | 0.03] -> Tópicos seleccionados: [1, 6, 2], Umbral: 0.139\n",
      "Documento 212: [0.01 | 0.12 | 0.06 | 0.53 | 0.01 | 0.08 | 0.05 | 0.13 | 0.02] -> Tópicos seleccionados: [3], Umbral: 0.139\n",
      "Documento 213: [0.00 | 0.02 | 0.01 | 0.02 | 0.01 | 0.37 | 0.42 | 0.14 | 0.00] -> Tópicos seleccionados: [6, 5, 7], Umbral: 0.139\n",
      "Documento 214: [0.05 | 0.28 | 0.06 | 0.10 | 0.07 | 0.04 | 0.10 | 0.12 | 0.17] -> Tópicos seleccionados: [1, 8], Umbral: 0.139\n",
      "Documento 215: [0.03 | 0.03 | 0.01 | 0.06 | 0.01 | 0.11 | 0.63 | 0.12 | 0.01] -> Tópicos seleccionados: [6], Umbral: 0.139\n",
      "Documento 216: [0.11 | 0.17 | 0.01 | 0.07 | 0.06 | 0.01 | 0.02 | 0.43 | 0.13] -> Tópicos seleccionados: [7, 1], Umbral: 0.139\n",
      "Documento 217: [0.09 | 0.04 | 0.08 | 0.13 | 0.47 | 0.03 | 0.06 | 0.02 | 0.10] -> Tópicos seleccionados: [4], Umbral: 0.139\n",
      "Documento 218: [0.03 | 0.09 | 0.04 | 0.11 | 0.03 | 0.02 | 0.52 | 0.12 | 0.04] -> Tópicos seleccionados: [6], Umbral: 0.139\n",
      "Documento 219: [0.19 | 0.39 | 0.05 | 0.02 | 0.00 | 0.08 | 0.05 | 0.19 | 0.04] -> Tópicos seleccionados: [1, 0, 7], Umbral: 0.139\n",
      "Documento 220: [0.04 | 0.20 | 0.10 | 0.11 | 0.07 | 0.08 | 0.36 | 0.03 | 0.01] -> Tópicos seleccionados: [6, 1], Umbral: 0.139\n",
      "Documento 221: [0.12 | 0.10 | 0.01 | 0.16 | 0.08 | 0.02 | 0.03 | 0.36 | 0.12] -> Tópicos seleccionados: [7, 3], Umbral: 0.139\n",
      "Documento 222: [0.02 | 0.10 | 0.02 | 0.01 | 0.01 | 0.03 | 0.60 | 0.20 | 0.01] -> Tópicos seleccionados: [6, 7], Umbral: 0.139\n",
      "Documento 223: [0.01 | 0.01 | 0.01 | 0.02 | 0.04 | 0.31 | 0.26 | 0.32 | 0.01] -> Tópicos seleccionados: [7, 5, 6], Umbral: 0.139\n",
      "Documento 224: [0.00 | 0.00 | 0.00 | 0.00 | 0.00 | 0.28 | 0.55 | 0.15 | 0.00] -> Tópicos seleccionados: [6, 5, 7], Umbral: 0.139\n",
      "Documento 225: [0.04 | 0.04 | 0.06 | 0.02 | 0.03 | 0.30 | 0.42 | 0.08 | 0.01] -> Tópicos seleccionados: [6, 5], Umbral: 0.139\n",
      "Documento 226: [0.02 | 0.21 | 0.04 | 0.11 | 0.05 | 0.26 | 0.16 | 0.12 | 0.05] -> Tópicos seleccionados: [5, 1, 6], Umbral: 0.139\n",
      "Documento 227: [0.03 | 0.04 | 0.04 | 0.33 | 0.06 | 0.15 | 0.13 | 0.20 | 0.02] -> Tópicos seleccionados: [3, 7, 5], Umbral: 0.139\n",
      "Documento 228: [0.02 | 0.06 | 0.06 | 0.11 | 0.09 | 0.04 | 0.24 | 0.26 | 0.12] -> Tópicos seleccionados: [7, 6], Umbral: 0.139\n",
      "Documento 229: [0.00 | 0.04 | 0.02 | 0.01 | 0.01 | 0.30 | 0.56 | 0.04 | 0.01] -> Tópicos seleccionados: [6, 5], Umbral: 0.139\n",
      "Documento 230: [0.00 | 0.00 | 0.00 | 0.00 | 0.00 | 0.91 | 0.06 | 0.03 | 0.00] -> Tópicos seleccionados: [5], Umbral: 0.139\n",
      "Documento 231: [0.01 | 0.58 | 0.05 | 0.02 | 0.00 | 0.13 | 0.12 | 0.06 | 0.01] -> Tópicos seleccionados: [1], Umbral: 0.139\n",
      "Documento 232: [0.00 | 0.00 | 0.00 | 0.00 | 0.00 | 0.22 | 0.74 | 0.04 | 0.00] -> Tópicos seleccionados: [6, 5], Umbral: 0.139\n",
      "Documento 233: [0.01 | 0.23 | 0.20 | 0.09 | 0.04 | 0.03 | 0.22 | 0.09 | 0.08] -> Tópicos seleccionados: [1, 6, 2], Umbral: 0.139\n",
      "Documento 234: [0.03 | 0.03 | 0.01 | 0.01 | 0.06 | 0.05 | 0.59 | 0.20 | 0.02] -> Tópicos seleccionados: [6, 7], Umbral: 0.139\n",
      "Documento 235: [0.01 | 0.02 | 0.01 | 0.02 | 0.01 | 0.57 | 0.11 | 0.24 | 0.01] -> Tópicos seleccionados: [5, 7], Umbral: 0.139\n",
      "Documento 236: [0.01 | 0.03 | 0.01 | 0.01 | 0.00 | 0.48 | 0.10 | 0.36 | 0.00] -> Tópicos seleccionados: [5, 7], Umbral: 0.139\n",
      "Documento 237: [0.17 | 0.25 | 0.01 | 0.02 | 0.02 | 0.02 | 0.06 | 0.36 | 0.09] -> Tópicos seleccionados: [7, 1, 0], Umbral: 0.139\n",
      "Documento 238: [0.15 | 0.04 | 0.05 | 0.07 | 0.05 | 0.08 | 0.45 | 0.04 | 0.04] -> Tópicos seleccionados: [6, 0], Umbral: 0.139\n",
      "Documento 239: [0.45 | 0.14 | 0.03 | 0.03 | 0.02 | 0.00 | 0.00 | 0.01 | 0.32] -> Tópicos seleccionados: [0, 8], Umbral: 0.139\n",
      "Documento 240: [0.03 | 0.05 | 0.01 | 0.01 | 0.04 | 0.03 | 0.02 | 0.76 | 0.05] -> Tópicos seleccionados: [7], Umbral: 0.139\n",
      "Documento 241: [0.01 | 0.13 | 0.52 | 0.18 | 0.02 | 0.04 | 0.03 | 0.05 | 0.02] -> Tópicos seleccionados: [2, 3], Umbral: 0.139\n",
      "Documento 242: [0.10 | 0.09 | 0.06 | 0.05 | 0.06 | 0.01 | 0.02 | 0.03 | 0.58] -> Tópicos seleccionados: [8], Umbral: 0.139\n",
      "Documento 243: [0.05 | 0.09 | 0.05 | 0.06 | 0.06 | 0.02 | 0.02 | 0.03 | 0.63] -> Tópicos seleccionados: [8], Umbral: 0.139\n",
      "Documento 244: [0.19 | 0.17 | 0.12 | 0.01 | 0.34 | 0.01 | 0.01 | 0.07 | 0.08] -> Tópicos seleccionados: [4, 0, 1], Umbral: 0.139\n",
      "Documento 245: [0.03 | 0.02 | 0.02 | 0.06 | 0.25 | 0.01 | 0.02 | 0.01 | 0.57] -> Tópicos seleccionados: [8, 4], Umbral: 0.139\n",
      "Documento 246: [0.08 | 0.41 | 0.01 | 0.02 | 0.16 | 0.01 | 0.02 | 0.10 | 0.19] -> Tópicos seleccionados: [1, 8, 4], Umbral: 0.139\n",
      "Documento 247: [0.03 | 0.48 | 0.04 | 0.03 | 0.03 | 0.01 | 0.02 | 0.05 | 0.30] -> Tópicos seleccionados: [1, 8], Umbral: 0.139\n",
      "Documento 248: [0.15 | 0.23 | 0.04 | 0.06 | 0.12 | 0.03 | 0.08 | 0.18 | 0.11] -> Tópicos seleccionados: [1, 7, 0], Umbral: 0.139\n",
      "Documento 249: [0.01 | 0.62 | 0.07 | 0.06 | 0.04 | 0.03 | 0.04 | 0.09 | 0.03] -> Tópicos seleccionados: [1], Umbral: 0.139\n",
      "Documento 250: [0.06 | 0.42 | 0.02 | 0.04 | 0.05 | 0.01 | 0.03 | 0.09 | 0.28] -> Tópicos seleccionados: [1, 8], Umbral: 0.139\n",
      "Documento 251: [0.04 | 0.30 | 0.07 | 0.09 | 0.06 | 0.08 | 0.13 | 0.10 | 0.14] -> Tópicos seleccionados: [1], Umbral: 0.139\n",
      "Documento 252: [0.05 | 0.02 | 0.02 | 0.09 | 0.05 | 0.03 | 0.05 | 0.03 | 0.67] -> Tópicos seleccionados: [8], Umbral: 0.139\n",
      "Documento 253: [0.21 | 0.16 | 0.05 | 0.02 | 0.04 | 0.01 | 0.02 | 0.06 | 0.44] -> Tópicos seleccionados: [8, 0, 1], Umbral: 0.139\n",
      "Documento 254: [0.04 | 0.36 | 0.06 | 0.17 | 0.09 | 0.04 | 0.02 | 0.11 | 0.10] -> Tópicos seleccionados: [1, 3], Umbral: 0.139\n",
      "Documento 255: [0.02 | 0.12 | 0.05 | 0.08 | 0.06 | 0.03 | 0.05 | 0.08 | 0.53] -> Tópicos seleccionados: [8], Umbral: 0.139\n",
      "Documento 256: [0.04 | 0.23 | 0.07 | 0.12 | 0.16 | 0.03 | 0.12 | 0.03 | 0.21] -> Tópicos seleccionados: [1, 8, 4], Umbral: 0.139\n",
      "Documento 257: [0.14 | 0.02 | 0.02 | 0.07 | 0.13 | 0.00 | 0.03 | 0.04 | 0.54] -> Tópicos seleccionados: [8, 0], Umbral: 0.139\n",
      "Documento 258: [0.03 | 0.10 | 0.07 | 0.17 | 0.05 | 0.03 | 0.05 | 0.10 | 0.41] -> Tópicos seleccionados: [8, 3], Umbral: 0.139\n",
      "Documento 259: [0.09 | 0.40 | 0.06 | 0.03 | 0.03 | 0.02 | 0.01 | 0.10 | 0.27] -> Tópicos seleccionados: [1, 8], Umbral: 0.139\n",
      "Documento 260: [0.04 | 0.16 | 0.06 | 0.14 | 0.04 | 0.06 | 0.07 | 0.16 | 0.26] -> Tópicos seleccionados: [8, 1, 7], Umbral: 0.139\n",
      "Documento 261: [0.05 | 0.17 | 0.25 | 0.07 | 0.04 | 0.05 | 0.10 | 0.03 | 0.24] -> Tópicos seleccionados: [2, 8, 1], Umbral: 0.139\n",
      "Documento 262: [0.04 | 0.11 | 0.06 | 0.53 | 0.05 | 0.11 | 0.04 | 0.03 | 0.02] -> Tópicos seleccionados: [3], Umbral: 0.139\n",
      "Documento 263: [0.38 | 0.05 | 0.01 | 0.03 | 0.13 | 0.01 | 0.02 | 0.14 | 0.23] -> Tópicos seleccionados: [0, 8], Umbral: 0.139\n",
      "Documento 264: [0.05 | 0.28 | 0.08 | 0.10 | 0.12 | 0.03 | 0.03 | 0.06 | 0.24] -> Tópicos seleccionados: [1, 8], Umbral: 0.139\n",
      "Documento 265: [0.35 | 0.03 | 0.07 | 0.05 | 0.19 | 0.01 | 0.01 | 0.01 | 0.29] -> Tópicos seleccionados: [0, 8, 4], Umbral: 0.139\n",
      "Documento 266: [0.06 | 0.09 | 0.02 | 0.09 | 0.04 | 0.01 | 0.02 | 0.19 | 0.48] -> Tópicos seleccionados: [8, 7], Umbral: 0.139\n",
      "Documento 267: [0.02 | 0.05 | 0.02 | 0.03 | 0.15 | 0.01 | 0.01 | 0.01 | 0.71] -> Tópicos seleccionados: [8, 4], Umbral: 0.139\n",
      "Documento 268: [0.20 | 0.15 | 0.13 | 0.06 | 0.25 | 0.01 | 0.01 | 0.01 | 0.17] -> Tópicos seleccionados: [4, 0, 8], Umbral: 0.139\n",
      "Documento 269: [0.06 | 0.15 | 0.04 | 0.05 | 0.12 | 0.01 | 0.01 | 0.02 | 0.53] -> Tópicos seleccionados: [8, 1], Umbral: 0.139\n",
      "Documento 270: [0.24 | 0.11 | 0.02 | 0.02 | 0.09 | 0.01 | 0.02 | 0.15 | 0.35] -> Tópicos seleccionados: [8, 0, 7], Umbral: 0.139\n",
      "Documento 271: [0.16 | 0.20 | 0.11 | 0.13 | 0.07 | 0.04 | 0.01 | 0.02 | 0.25] -> Tópicos seleccionados: [8, 1, 0], Umbral: 0.139\n",
      "Documento 272: [0.05 | 0.15 | 0.07 | 0.03 | 0.05 | 0.02 | 0.02 | 0.14 | 0.46] -> Tópicos seleccionados: [8, 1], Umbral: 0.139\n",
      "Documento 273: [0.22 | 0.18 | 0.16 | 0.04 | 0.14 | 0.02 | 0.02 | 0.11 | 0.10] -> Tópicos seleccionados: [0, 1, 2], Umbral: 0.139\n",
      "Documento 274: [0.23 | 0.08 | 0.03 | 0.10 | 0.10 | 0.02 | 0.07 | 0.17 | 0.22] -> Tópicos seleccionados: [0, 8, 7], Umbral: 0.139\n",
      "Documento 275: [0.11 | 0.60 | 0.03 | 0.01 | 0.03 | 0.02 | 0.02 | 0.15 | 0.03] -> Tópicos seleccionados: [1, 7], Umbral: 0.139\n",
      "Documento 276: [0.08 | 0.12 | 0.17 | 0.19 | 0.09 | 0.02 | 0.08 | 0.18 | 0.06] -> Tópicos seleccionados: [3, 7, 2], Umbral: 0.139\n",
      "Documento 277: [0.05 | 0.30 | 0.06 | 0.13 | 0.12 | 0.03 | 0.02 | 0.08 | 0.21] -> Tópicos seleccionados: [1, 8], Umbral: 0.139\n",
      "Documento 278: [0.06 | 0.09 | 0.05 | 0.14 | 0.04 | 0.02 | 0.04 | 0.26 | 0.30] -> Tópicos seleccionados: [8, 7, 3], Umbral: 0.139\n",
      "Documento 279: [0.06 | 0.03 | 0.10 | 0.13 | 0.24 | 0.04 | 0.05 | 0.07 | 0.30] -> Tópicos seleccionados: [8, 4], Umbral: 0.139\n",
      "Documento 280: [0.14 | 0.08 | 0.03 | 0.04 | 0.06 | 0.02 | 0.04 | 0.11 | 0.49] -> Tópicos seleccionados: [8], Umbral: 0.139\n",
      "Documento 281: [0.04 | 0.55 | 0.03 | 0.08 | 0.17 | 0.01 | 0.01 | 0.03 | 0.08] -> Tópicos seleccionados: [1, 4], Umbral: 0.139\n",
      "Documento 282: [0.09 | 0.20 | 0.04 | 0.05 | 0.08 | 0.01 | 0.04 | 0.02 | 0.47] -> Tópicos seleccionados: [8, 1], Umbral: 0.139\n",
      "Documento 283: [0.15 | 0.09 | 0.03 | 0.02 | 0.05 | 0.04 | 0.04 | 0.12 | 0.46] -> Tópicos seleccionados: [8, 0], Umbral: 0.139\n",
      "Documento 284: [0.07 | 0.16 | 0.06 | 0.10 | 0.05 | 0.13 | 0.25 | 0.10 | 0.08] -> Tópicos seleccionados: [6, 1], Umbral: 0.139\n",
      "Documento 285: [0.19 | 0.43 | 0.02 | 0.02 | 0.06 | 0.01 | 0.01 | 0.09 | 0.16] -> Tópicos seleccionados: [1, 0, 8], Umbral: 0.139\n",
      "Documento 286: [0.24 | 0.10 | 0.03 | 0.08 | 0.20 | 0.02 | 0.02 | 0.08 | 0.22] -> Tópicos seleccionados: [0, 8, 4], Umbral: 0.139\n",
      "Documento 287: [0.11 | 0.07 | 0.03 | 0.02 | 0.27 | 0.02 | 0.01 | 0.46 | 0.03] -> Tópicos seleccionados: [7, 4], Umbral: 0.139\n",
      "Documento 288: [0.22 | 0.23 | 0.05 | 0.02 | 0.03 | 0.02 | 0.02 | 0.33 | 0.09] -> Tópicos seleccionados: [7, 1, 0], Umbral: 0.139\n",
      "Documento 289: [0.01 | 0.07 | 0.60 | 0.02 | 0.03 | 0.11 | 0.10 | 0.03 | 0.03] -> Tópicos seleccionados: [2], Umbral: 0.139\n",
      "Documento 290: [0.00 | 0.05 | 0.76 | 0.11 | 0.03 | 0.03 | 0.01 | 0.00 | 0.01] -> Tópicos seleccionados: [2], Umbral: 0.139\n",
      "Documento 291: [0.01 | 0.07 | 0.44 | 0.28 | 0.05 | 0.06 | 0.04 | 0.02 | 0.03] -> Tópicos seleccionados: [2, 3], Umbral: 0.139\n",
      "Documento 292: [0.03 | 0.04 | 0.35 | 0.24 | 0.11 | 0.10 | 0.05 | 0.04 | 0.04] -> Tópicos seleccionados: [2, 3], Umbral: 0.139\n",
      "Documento 293: [0.02 | 0.08 | 0.27 | 0.38 | 0.04 | 0.06 | 0.07 | 0.01 | 0.06] -> Tópicos seleccionados: [3, 2], Umbral: 0.139\n",
      "Documento 294: [0.02 | 0.05 | 0.55 | 0.17 | 0.06 | 0.04 | 0.04 | 0.05 | 0.02] -> Tópicos seleccionados: [2, 3], Umbral: 0.139\n",
      "Documento 295: [0.09 | 0.10 | 0.28 | 0.22 | 0.10 | 0.06 | 0.05 | 0.02 | 0.07] -> Tópicos seleccionados: [2, 3], Umbral: 0.139\n",
      "Documento 296: [0.00 | 0.02 | 0.74 | 0.04 | 0.04 | 0.12 | 0.02 | 0.01 | 0.01] -> Tópicos seleccionados: [2], Umbral: 0.139\n",
      "Documento 297: [0.04 | 0.07 | 0.22 | 0.06 | 0.10 | 0.13 | 0.21 | 0.09 | 0.07] -> Tópicos seleccionados: [2, 6], Umbral: 0.139\n",
      "Documento 298: [0.01 | 0.10 | 0.52 | 0.06 | 0.11 | 0.07 | 0.06 | 0.03 | 0.04] -> Tópicos seleccionados: [2], Umbral: 0.139\n",
      "Documento 299: [0.02 | 0.15 | 0.04 | 0.13 | 0.06 | 0.13 | 0.21 | 0.24 | 0.02] -> Tópicos seleccionados: [7, 6, 1], Umbral: 0.139\n",
      "Documento 300: [0.01 | 0.08 | 0.72 | 0.05 | 0.09 | 0.01 | 0.01 | 0.01 | 0.02] -> Tópicos seleccionados: [2], Umbral: 0.139\n",
      "Documento 301: [0.01 | 0.05 | 0.36 | 0.20 | 0.10 | 0.08 | 0.05 | 0.10 | 0.05] -> Tópicos seleccionados: [2, 3], Umbral: 0.139\n",
      "Documento 302: [0.03 | 0.12 | 0.44 | 0.13 | 0.10 | 0.07 | 0.04 | 0.02 | 0.04] -> Tópicos seleccionados: [2], Umbral: 0.139\n",
      "Documento 303: [0.06 | 0.03 | 0.37 | 0.10 | 0.02 | 0.17 | 0.16 | 0.04 | 0.04] -> Tópicos seleccionados: [2, 5, 6], Umbral: 0.139\n",
      "Documento 304: [0.02 | 0.13 | 0.02 | 0.01 | 0.00 | 0.08 | 0.05 | 0.68 | 0.00] -> Tópicos seleccionados: [7], Umbral: 0.139\n",
      "Documento 305: [0.06 | 0.11 | 0.20 | 0.04 | 0.03 | 0.25 | 0.15 | 0.13 | 0.04] -> Tópicos seleccionados: [5, 2, 6], Umbral: 0.139\n",
      "Documento 306: [0.05 | 0.32 | 0.25 | 0.05 | 0.07 | 0.03 | 0.06 | 0.03 | 0.14] -> Tópicos seleccionados: [1, 2, 8], Umbral: 0.139\n",
      "Documento 307: [0.01 | 0.07 | 0.67 | 0.11 | 0.02 | 0.04 | 0.03 | 0.02 | 0.03] -> Tópicos seleccionados: [2], Umbral: 0.139\n",
      "Documento 308: [0.02 | 0.22 | 0.23 | 0.04 | 0.03 | 0.08 | 0.13 | 0.19 | 0.05] -> Tópicos seleccionados: [2, 1, 7], Umbral: 0.139\n",
      "Documento 309: [0.02 | 0.13 | 0.17 | 0.35 | 0.04 | 0.11 | 0.06 | 0.10 | 0.02] -> Tópicos seleccionados: [3, 2], Umbral: 0.139\n",
      "Documento 310: [0.03 | 0.12 | 0.49 | 0.05 | 0.11 | 0.06 | 0.05 | 0.03 | 0.05] -> Tópicos seleccionados: [2], Umbral: 0.139\n",
      "Documento 311: [0.01 | 0.04 | 0.66 | 0.07 | 0.08 | 0.04 | 0.02 | 0.02 | 0.05] -> Tópicos seleccionados: [2], Umbral: 0.139\n",
      "Documento 312: [0.01 | 0.38 | 0.07 | 0.20 | 0.05 | 0.08 | 0.14 | 0.04 | 0.03] -> Tópicos seleccionados: [1, 3], Umbral: 0.139\n",
      "Documento 313: [0.04 | 0.18 | 0.50 | 0.07 | 0.07 | 0.07 | 0.03 | 0.03 | 0.03] -> Tópicos seleccionados: [2, 1], Umbral: 0.139\n",
      "Documento 314: [0.02 | 0.29 | 0.13 | 0.16 | 0.15 | 0.14 | 0.05 | 0.03 | 0.03] -> Tópicos seleccionados: [1, 3, 4], Umbral: 0.139\n",
      "Documento 315: [0.02 | 0.47 | 0.31 | 0.06 | 0.01 | 0.03 | 0.02 | 0.06 | 0.02] -> Tópicos seleccionados: [1, 2], Umbral: 0.139\n",
      "Documento 316: [0.04 | 0.31 | 0.28 | 0.10 | 0.07 | 0.02 | 0.02 | 0.04 | 0.11] -> Tópicos seleccionados: [1, 2], Umbral: 0.139\n",
      "Documento 317: [0.02 | 0.04 | 0.44 | 0.16 | 0.08 | 0.10 | 0.07 | 0.04 | 0.04] -> Tópicos seleccionados: [2, 3], Umbral: 0.139\n",
      "Documento 318: [0.02 | 0.04 | 0.51 | 0.08 | 0.08 | 0.08 | 0.10 | 0.01 | 0.07] -> Tópicos seleccionados: [2], Umbral: 0.139\n",
      "Documento 319: [0.05 | 0.09 | 0.42 | 0.19 | 0.05 | 0.02 | 0.07 | 0.03 | 0.08] -> Tópicos seleccionados: [2, 3], Umbral: 0.139\n",
      "Documento 320: [0.01 | 0.08 | 0.52 | 0.14 | 0.06 | 0.11 | 0.03 | 0.03 | 0.02] -> Tópicos seleccionados: [2, 3], Umbral: 0.139\n",
      "Documento 321: [0.01 | 0.06 | 0.54 | 0.15 | 0.09 | 0.06 | 0.04 | 0.02 | 0.03] -> Tópicos seleccionados: [2, 3], Umbral: 0.139\n",
      "Documento 322: [0.01 | 0.18 | 0.65 | 0.06 | 0.01 | 0.03 | 0.02 | 0.02 | 0.01] -> Tópicos seleccionados: [2, 1], Umbral: 0.139\n",
      "Documento 323: [0.01 | 0.04 | 0.63 | 0.10 | 0.06 | 0.03 | 0.06 | 0.03 | 0.04] -> Tópicos seleccionados: [2], Umbral: 0.139\n",
      "Documento 324: [0.03 | 0.05 | 0.58 | 0.09 | 0.09 | 0.04 | 0.05 | 0.05 | 0.03] -> Tópicos seleccionados: [2], Umbral: 0.139\n",
      "Documento 325: [0.01 | 0.09 | 0.62 | 0.03 | 0.03 | 0.10 | 0.08 | 0.04 | 0.01] -> Tópicos seleccionados: [2], Umbral: 0.139\n",
      "Documento 326: [0.00 | 0.01 | 0.94 | 0.01 | 0.01 | 0.01 | 0.00 | 0.00 | 0.01] -> Tópicos seleccionados: [2], Umbral: 0.139\n",
      "Documento 327: [0.02 | 0.20 | 0.20 | 0.07 | 0.08 | 0.21 | 0.17 | 0.04 | 0.01] -> Tópicos seleccionados: [5, 1, 2], Umbral: 0.139\n",
      "Documento 328: [0.01 | 0.33 | 0.48 | 0.04 | 0.03 | 0.02 | 0.02 | 0.03 | 0.03] -> Tópicos seleccionados: [2, 1], Umbral: 0.139\n",
      "Documento 329: [0.01 | 0.03 | 0.85 | 0.02 | 0.02 | 0.03 | 0.01 | 0.02 | 0.02] -> Tópicos seleccionados: [2], Umbral: 0.139\n",
      "Documento 330: [0.01 | 0.01 | 0.01 | 0.01 | 0.01 | 0.26 | 0.29 | 0.40 | 0.00] -> Tópicos seleccionados: [7, 6, 5], Umbral: 0.139\n",
      "Documento 331: [0.01 | 0.00 | 0.00 | 0.00 | 0.00 | 0.44 | 0.17 | 0.37 | 0.00] -> Tópicos seleccionados: [5, 7, 6], Umbral: 0.139\n",
      "Documento 332: [0.01 | 0.02 | 0.02 | 0.10 | 0.02 | 0.47 | 0.13 | 0.23 | 0.00] -> Tópicos seleccionados: [5, 7], Umbral: 0.139\n",
      "Documento 333: [0.00 | 0.00 | 0.00 | 0.00 | 0.00 | 0.86 | 0.10 | 0.03 | 0.00] -> Tópicos seleccionados: [5], Umbral: 0.139\n",
      "Documento 334: [0.01 | 0.01 | 0.00 | 0.00 | 0.00 | 0.29 | 0.18 | 0.51 | 0.00] -> Tópicos seleccionados: [7, 5, 6], Umbral: 0.139\n",
      "Documento 335: [0.02 | 0.04 | 0.02 | 0.02 | 0.03 | 0.17 | 0.11 | 0.56 | 0.03] -> Tópicos seleccionados: [7, 5], Umbral: 0.139\n",
      "Documento 336: [0.06 | 0.14 | 0.01 | 0.08 | 0.03 | 0.12 | 0.08 | 0.43 | 0.06] -> Tópicos seleccionados: [7], Umbral: 0.139\n",
      "Documento 337: [0.01 | 0.01 | 0.01 | 0.04 | 0.02 | 0.53 | 0.15 | 0.22 | 0.01] -> Tópicos seleccionados: [5, 7, 6], Umbral: 0.139\n",
      "Documento 338: [0.01 | 0.01 | 0.01 | 0.02 | 0.01 | 0.46 | 0.42 | 0.07 | 0.00] -> Tópicos seleccionados: [5, 6], Umbral: 0.139\n",
      "Documento 339: [0.02 | 0.02 | 0.01 | 0.03 | 0.05 | 0.18 | 0.27 | 0.40 | 0.01] -> Tópicos seleccionados: [7, 6, 5], Umbral: 0.139\n",
      "Documento 340: [0.01 | 0.01 | 0.01 | 0.01 | 0.00 | 0.54 | 0.20 | 0.22 | 0.00] -> Tópicos seleccionados: [5, 7, 6], Umbral: 0.139\n",
      "Documento 341: [0.01 | 0.04 | 0.01 | 0.03 | 0.00 | 0.07 | 0.03 | 0.80 | 0.01] -> Tópicos seleccionados: [7], Umbral: 0.139\n",
      "Documento 342: [0.02 | 0.05 | 0.02 | 0.03 | 0.03 | 0.32 | 0.18 | 0.32 | 0.03] -> Tópicos seleccionados: [5, 7, 6], Umbral: 0.139\n",
      "Documento 343: [0.01 | 0.03 | 0.04 | 0.03 | 0.01 | 0.17 | 0.40 | 0.30 | 0.01] -> Tópicos seleccionados: [6, 7, 5], Umbral: 0.139\n",
      "Documento 344: [0.01 | 0.03 | 0.01 | 0.01 | 0.01 | 0.27 | 0.29 | 0.36 | 0.01] -> Tópicos seleccionados: [7, 6, 5], Umbral: 0.139\n",
      "Documento 345: [0.04 | 0.03 | 0.02 | 0.04 | 0.05 | 0.08 | 0.25 | 0.36 | 0.14] -> Tópicos seleccionados: [7, 6], Umbral: 0.139\n",
      "Documento 346: [0.00 | 0.01 | 0.00 | 0.00 | 0.00 | 0.31 | 0.09 | 0.58 | 0.01] -> Tópicos seleccionados: [7, 5], Umbral: 0.139\n",
      "Documento 347: [0.03 | 0.02 | 0.02 | 0.05 | 0.01 | 0.23 | 0.50 | 0.12 | 0.01] -> Tópicos seleccionados: [6, 5], Umbral: 0.139\n",
      "Documento 348: [0.01 | 0.02 | 0.00 | 0.00 | 0.01 | 0.19 | 0.08 | 0.68 | 0.01] -> Tópicos seleccionados: [7, 5], Umbral: 0.139\n",
      "Documento 349: [0.02 | 0.01 | 0.01 | 0.01 | 0.01 | 0.12 | 0.28 | 0.55 | 0.00] -> Tópicos seleccionados: [7, 6], Umbral: 0.139\n",
      "Documento 350: [0.02 | 0.19 | 0.16 | 0.22 | 0.03 | 0.16 | 0.11 | 0.08 | 0.03] -> Tópicos seleccionados: [3, 1, 5], Umbral: 0.139\n",
      "Documento 351: [0.01 | 0.08 | 0.04 | 0.09 | 0.04 | 0.05 | 0.13 | 0.55 | 0.02] -> Tópicos seleccionados: [7], Umbral: 0.139\n",
      "Documento 352: [0.01 | 0.04 | 0.14 | 0.03 | 0.04 | 0.63 | 0.07 | 0.04 | 0.01] -> Tópicos seleccionados: [5], Umbral: 0.139\n",
      "Documento 353: [0.01 | 0.01 | 0.01 | 0.01 | 0.01 | 0.41 | 0.33 | 0.20 | 0.00] -> Tópicos seleccionados: [5, 6, 7], Umbral: 0.139\n",
      "Documento 354: [0.01 | 0.03 | 0.02 | 0.14 | 0.01 | 0.67 | 0.09 | 0.03 | 0.01] -> Tópicos seleccionados: [5], Umbral: 0.139\n",
      "Documento 355: [0.02 | 0.03 | 0.02 | 0.20 | 0.06 | 0.40 | 0.06 | 0.18 | 0.02] -> Tópicos seleccionados: [5, 3, 7], Umbral: 0.139\n",
      "Documento 356: [0.00 | 0.00 | 0.00 | 0.00 | 0.00 | 0.39 | 0.26 | 0.33 | 0.00] -> Tópicos seleccionados: [5, 7, 6], Umbral: 0.139\n",
      "Documento 357: [0.02 | 0.07 | 0.06 | 0.20 | 0.09 | 0.15 | 0.22 | 0.14 | 0.04] -> Tópicos seleccionados: [6, 3, 5], Umbral: 0.139\n",
      "Documento 358: [0.02 | 0.03 | 0.00 | 0.01 | 0.01 | 0.37 | 0.15 | 0.40 | 0.01] -> Tópicos seleccionados: [7, 5, 6], Umbral: 0.139\n",
      "Documento 359: [0.01 | 0.05 | 0.03 | 0.05 | 0.01 | 0.20 | 0.57 | 0.05 | 0.02] -> Tópicos seleccionados: [6, 5], Umbral: 0.139\n",
      "Documento 360: [0.00 | 0.00 | 0.00 | 0.00 | 0.00 | 0.98 | 0.02 | 0.00 | 0.00] -> Tópicos seleccionados: [5], Umbral: 0.139\n",
      "Documento 361: [0.01 | 0.03 | 0.01 | 0.01 | 0.01 | 0.09 | 0.14 | 0.71 | 0.00] -> Tópicos seleccionados: [7, 6], Umbral: 0.139\n",
      "Documento 362: [0.01 | 0.00 | 0.00 | 0.00 | 0.00 | 0.38 | 0.36 | 0.23 | 0.00] -> Tópicos seleccionados: [5, 6, 7], Umbral: 0.139\n",
      "Documento 363: [0.01 | 0.02 | 0.01 | 0.00 | 0.00 | 0.45 | 0.19 | 0.32 | 0.00] -> Tópicos seleccionados: [5, 7, 6], Umbral: 0.139\n",
      "Documento 364: [0.00 | 0.01 | 0.00 | 0.01 | 0.01 | 0.16 | 0.19 | 0.62 | 0.00] -> Tópicos seleccionados: [7, 6, 5], Umbral: 0.139\n",
      "Documento 365: [0.01 | 0.02 | 0.00 | 0.01 | 0.01 | 0.72 | 0.08 | 0.14 | 0.01] -> Tópicos seleccionados: [5, 7], Umbral: 0.139\n",
      "Documento 366: [0.00 | 0.01 | 0.00 | 0.00 | 0.00 | 0.68 | 0.06 | 0.24 | 0.00] -> Tópicos seleccionados: [5, 7], Umbral: 0.139\n",
      "Documento 367: [0.01 | 0.02 | 0.01 | 0.01 | 0.00 | 0.57 | 0.23 | 0.15 | 0.01] -> Tópicos seleccionados: [5, 6, 7], Umbral: 0.139\n",
      "Documento 368: [0.00 | 0.01 | 0.00 | 0.00 | 0.00 | 0.41 | 0.11 | 0.46 | 0.00] -> Tópicos seleccionados: [7, 5], Umbral: 0.139\n",
      "Documento 369: [0.00 | 0.01 | 0.00 | 0.01 | 0.00 | 0.69 | 0.02 | 0.25 | 0.01] -> Tópicos seleccionados: [5, 7], Umbral: 0.139\n",
      "Documento 370: [0.01 | 0.02 | 0.02 | 0.36 | 0.01 | 0.30 | 0.11 | 0.16 | 0.01] -> Tópicos seleccionados: [3, 5, 7], Umbral: 0.139\n",
      "Documento 371: [0.02 | 0.05 | 0.02 | 0.16 | 0.01 | 0.39 | 0.04 | 0.29 | 0.01] -> Tópicos seleccionados: [5, 7, 3], Umbral: 0.139\n",
      "Documento 372: [0.04 | 0.11 | 0.03 | 0.06 | 0.03 | 0.19 | 0.11 | 0.40 | 0.02] -> Tópicos seleccionados: [7, 5], Umbral: 0.139\n",
      "Documento 373: [0.00 | 0.02 | 0.02 | 0.02 | 0.01 | 0.28 | 0.61 | 0.03 | 0.00] -> Tópicos seleccionados: [6, 5], Umbral: 0.139\n",
      "Documento 374: [0.04 | 0.03 | 0.03 | 0.04 | 0.03 | 0.64 | 0.08 | 0.09 | 0.03] -> Tópicos seleccionados: [5], Umbral: 0.139\n",
      "Documento 375: [0.00 | 0.00 | 0.00 | 0.00 | 0.00 | 0.64 | 0.06 | 0.29 | 0.00] -> Tópicos seleccionados: [5, 7], Umbral: 0.139\n",
      "Documento 376: [0.01 | 0.02 | 0.00 | 0.01 | 0.00 | 0.38 | 0.41 | 0.17 | 0.00] -> Tópicos seleccionados: [6, 5, 7], Umbral: 0.139\n",
      "Documento 377: [0.01 | 0.01 | 0.00 | 0.02 | 0.01 | 0.34 | 0.55 | 0.05 | 0.01] -> Tópicos seleccionados: [6, 5], Umbral: 0.139\n",
      "Documento 378: [0.02 | 0.02 | 0.03 | 0.15 | 0.04 | 0.21 | 0.48 | 0.03 | 0.02] -> Tópicos seleccionados: [6, 5, 3], Umbral: 0.139\n",
      "Documento 379: [0.01 | 0.01 | 0.01 | 0.00 | 0.01 | 0.08 | 0.15 | 0.71 | 0.01] -> Tópicos seleccionados: [7, 6], Umbral: 0.139\n",
      "Documento 380: [0.01 | 0.47 | 0.04 | 0.09 | 0.09 | 0.05 | 0.05 | 0.13 | 0.08] -> Tópicos seleccionados: [1], Umbral: 0.139\n",
      "Documento 381: [0.30 | 0.04 | 0.00 | 0.00 | 0.01 | 0.02 | 0.01 | 0.34 | 0.27] -> Tópicos seleccionados: [7, 0, 8], Umbral: 0.139\n",
      "Documento 382: [0.31 | 0.07 | 0.01 | 0.07 | 0.03 | 0.01 | 0.02 | 0.26 | 0.24] -> Tópicos seleccionados: [0, 7, 8], Umbral: 0.139\n",
      "Documento 383: [0.30 | 0.08 | 0.02 | 0.20 | 0.02 | 0.01 | 0.02 | 0.26 | 0.10] -> Tópicos seleccionados: [0, 7, 3], Umbral: 0.139\n",
      "Documento 384: [0.32 | 0.20 | 0.02 | 0.01 | 0.04 | 0.00 | 0.01 | 0.16 | 0.22] -> Tópicos seleccionados: [0, 8, 1], Umbral: 0.139\n",
      "Documento 385: [0.04 | 0.08 | 0.07 | 0.14 | 0.09 | 0.05 | 0.06 | 0.09 | 0.39] -> Tópicos seleccionados: [8], Umbral: 0.139\n",
      "Documento 386: [0.13 | 0.10 | 0.02 | 0.05 | 0.11 | 0.03 | 0.03 | 0.26 | 0.27] -> Tópicos seleccionados: [8, 7], Umbral: 0.139\n",
      "Documento 387: [0.05 | 0.17 | 0.05 | 0.02 | 0.04 | 0.04 | 0.29 | 0.19 | 0.15] -> Tópicos seleccionados: [6, 7, 1], Umbral: 0.139\n",
      "Documento 388: [0.16 | 0.08 | 0.02 | 0.07 | 0.19 | 0.01 | 0.04 | 0.04 | 0.38] -> Tópicos seleccionados: [8, 4, 0], Umbral: 0.139\n",
      "Documento 389: [0.21 | 0.07 | 0.01 | 0.05 | 0.03 | 0.01 | 0.02 | 0.24 | 0.34] -> Tópicos seleccionados: [8, 7, 0], Umbral: 0.139\n",
      "Documento 390: [0.04 | 0.07 | 0.04 | 0.17 | 0.15 | 0.05 | 0.08 | 0.04 | 0.35] -> Tópicos seleccionados: [8, 3, 4], Umbral: 0.139\n",
      "Documento 391: [0.05 | 0.19 | 0.08 | 0.16 | 0.12 | 0.08 | 0.10 | 0.07 | 0.15] -> Tópicos seleccionados: [1, 3, 8], Umbral: 0.139\n",
      "Documento 392: [0.09 | 0.05 | 0.00 | 0.07 | 0.01 | 0.05 | 0.02 | 0.68 | 0.03] -> Tópicos seleccionados: [7], Umbral: 0.139\n",
      "Documento 393: [0.03 | 0.08 | 0.06 | 0.04 | 0.04 | 0.03 | 0.02 | 0.02 | 0.68] -> Tópicos seleccionados: [8], Umbral: 0.139\n",
      "Documento 394: [0.28 | 0.11 | 0.03 | 0.06 | 0.09 | 0.02 | 0.03 | 0.16 | 0.24] -> Tópicos seleccionados: [0, 8, 7], Umbral: 0.139\n",
      "Documento 395: [0.15 | 0.09 | 0.02 | 0.06 | 0.10 | 0.02 | 0.02 | 0.16 | 0.38] -> Tópicos seleccionados: [8, 7, 0], Umbral: 0.139\n",
      "Documento 396: [0.09 | 0.07 | 0.08 | 0.10 | 0.07 | 0.04 | 0.04 | 0.03 | 0.49] -> Tópicos seleccionados: [8], Umbral: 0.139\n",
      "Documento 397: [0.34 | 0.08 | 0.01 | 0.02 | 0.01 | 0.01 | 0.02 | 0.42 | 0.09] -> Tópicos seleccionados: [7, 0], Umbral: 0.139\n",
      "Documento 398: [0.01 | 0.04 | 0.05 | 0.56 | 0.08 | 0.05 | 0.06 | 0.08 | 0.07] -> Tópicos seleccionados: [3], Umbral: 0.139\n",
      "Documento 399: [0.04 | 0.29 | 0.08 | 0.05 | 0.05 | 0.07 | 0.19 | 0.09 | 0.14] -> Tópicos seleccionados: [1, 6, 8], Umbral: 0.139\n",
      "Documento 400: [0.23 | 0.09 | 0.03 | 0.03 | 0.02 | 0.04 | 0.03 | 0.04 | 0.49] -> Tópicos seleccionados: [8, 0], Umbral: 0.139\n",
      "Documento 401: [0.14 | 0.29 | 0.01 | 0.01 | 0.01 | 0.00 | 0.03 | 0.30 | 0.22] -> Tópicos seleccionados: [7, 1, 8], Umbral: 0.139\n",
      "Documento 402: [0.03 | 0.04 | 0.01 | 0.02 | 0.07 | 0.01 | 0.02 | 0.03 | 0.77] -> Tópicos seleccionados: [8], Umbral: 0.139\n",
      "Documento 403: [0.14 | 0.21 | 0.05 | 0.01 | 0.09 | 0.01 | 0.01 | 0.27 | 0.20] -> Tópicos seleccionados: [7, 1, 8], Umbral: 0.139\n",
      "Documento 404: [0.04 | 0.14 | 0.05 | 0.03 | 0.05 | 0.02 | 0.03 | 0.29 | 0.35] -> Tópicos seleccionados: [8, 7, 1], Umbral: 0.139\n",
      "Documento 405: [0.06 | 0.15 | 0.02 | 0.04 | 0.06 | 0.00 | 0.01 | 0.01 | 0.66] -> Tópicos seleccionados: [8, 1], Umbral: 0.139\n",
      "Documento 406: [0.02 | 0.18 | 0.03 | 0.05 | 0.02 | 0.19 | 0.31 | 0.18 | 0.01] -> Tópicos seleccionados: [6, 5, 7], Umbral: 0.139\n",
      "Documento 407: [0.13 | 0.07 | 0.08 | 0.22 | 0.05 | 0.10 | 0.11 | 0.08 | 0.15] -> Tópicos seleccionados: [3, 8], Umbral: 0.139\n",
      "Documento 408: [0.05 | 0.11 | 0.04 | 0.03 | 0.02 | 0.03 | 0.03 | 0.09 | 0.60] -> Tópicos seleccionados: [8], Umbral: 0.139\n",
      "Documento 409: [0.06 | 0.06 | 0.04 | 0.08 | 0.49 | 0.01 | 0.02 | 0.02 | 0.22] -> Tópicos seleccionados: [4, 8], Umbral: 0.139\n",
      "Documento 410: [0.07 | 0.07 | 0.08 | 0.12 | 0.11 | 0.02 | 0.03 | 0.11 | 0.40] -> Tópicos seleccionados: [8], Umbral: 0.139\n",
      "Documento 411: [0.37 | 0.12 | 0.05 | 0.18 | 0.09 | 0.00 | 0.01 | 0.04 | 0.14] -> Tópicos seleccionados: [0, 3], Umbral: 0.139\n",
      "Documento 412: [0.05 | 0.35 | 0.04 | 0.01 | 0.04 | 0.02 | 0.03 | 0.17 | 0.30] -> Tópicos seleccionados: [1, 8, 7], Umbral: 0.139\n",
      "Documento 413: [0.31 | 0.06 | 0.03 | 0.20 | 0.09 | 0.01 | 0.02 | 0.06 | 0.23] -> Tópicos seleccionados: [0, 8, 3], Umbral: 0.139\n",
      "Documento 414: [0.09 | 0.15 | 0.07 | 0.05 | 0.26 | 0.01 | 0.03 | 0.04 | 0.28] -> Tópicos seleccionados: [8, 4, 1], Umbral: 0.139\n",
      "Documento 415: [0.12 | 0.12 | 0.06 | 0.20 | 0.06 | 0.01 | 0.03 | 0.02 | 0.37] -> Tópicos seleccionados: [8, 3], Umbral: 0.139\n",
      "Documento 416: [0.02 | 0.25 | 0.13 | 0.11 | 0.07 | 0.04 | 0.04 | 0.02 | 0.32] -> Tópicos seleccionados: [8, 1], Umbral: 0.139\n",
      "Documento 417: [0.04 | 0.02 | 0.04 | 0.17 | 0.45 | 0.05 | 0.07 | 0.02 | 0.14] -> Tópicos seleccionados: [4, 3, 8], Umbral: 0.139\n",
      "Documento 418: [0.30 | 0.18 | 0.01 | 0.01 | 0.00 | 0.00 | 0.01 | 0.07 | 0.42] -> Tópicos seleccionados: [8, 0, 1], Umbral: 0.139\n",
      "Documento 419: [0.05 | 0.24 | 0.11 | 0.08 | 0.15 | 0.02 | 0.07 | 0.04 | 0.25] -> Tópicos seleccionados: [8, 1, 4], Umbral: 0.139\n",
      "Documento 420: [0.06 | 0.07 | 0.09 | 0.06 | 0.04 | 0.06 | 0.05 | 0.05 | 0.52] -> Tópicos seleccionados: [8], Umbral: 0.139\n",
      "Documento 421: [0.35 | 0.42 | 0.02 | 0.03 | 0.03 | 0.02 | 0.01 | 0.04 | 0.09] -> Tópicos seleccionados: [1, 0], Umbral: 0.139\n",
      "Documento 422: [0.04 | 0.22 | 0.05 | 0.12 | 0.08 | 0.04 | 0.07 | 0.04 | 0.34] -> Tópicos seleccionados: [8, 1], Umbral: 0.139\n",
      "Documento 423: [0.00 | 0.03 | 0.02 | 0.40 | 0.01 | 0.49 | 0.02 | 0.02 | 0.00] -> Tópicos seleccionados: [5, 3], Umbral: 0.139\n",
      "Documento 424: [0.00 | 0.00 | 0.00 | 0.00 | 0.00 | 0.98 | 0.01 | 0.00 | 0.00] -> Tópicos seleccionados: [5], Umbral: 0.139\n",
      "Documento 425: [0.00 | 0.02 | 0.01 | 0.33 | 0.01 | 0.49 | 0.10 | 0.02 | 0.01] -> Tópicos seleccionados: [5, 3], Umbral: 0.139\n",
      "Documento 426: [0.00 | 0.02 | 0.01 | 0.48 | 0.01 | 0.40 | 0.06 | 0.01 | 0.01] -> Tópicos seleccionados: [3, 5], Umbral: 0.139\n",
      "Documento 427: [0.00 | 0.01 | 0.01 | 0.32 | 0.02 | 0.58 | 0.03 | 0.03 | 0.00] -> Tópicos seleccionados: [5, 3], Umbral: 0.139\n",
      "Documento 428: [0.00 | 0.00 | 0.00 | 0.01 | 0.00 | 0.94 | 0.04 | 0.01 | 0.00] -> Tópicos seleccionados: [5], Umbral: 0.139\n",
      "Documento 429: [0.03 | 0.34 | 0.08 | 0.03 | 0.04 | 0.07 | 0.21 | 0.14 | 0.06] -> Tópicos seleccionados: [1, 6, 7], Umbral: 0.139\n",
      "Documento 430: [0.01 | 0.01 | 0.01 | 0.02 | 0.02 | 0.44 | 0.46 | 0.02 | 0.01] -> Tópicos seleccionados: [6, 5], Umbral: 0.139\n",
      "Documento 431: [0.03 | 0.07 | 0.06 | 0.14 | 0.07 | 0.10 | 0.41 | 0.11 | 0.02] -> Tópicos seleccionados: [6], Umbral: 0.139\n",
      "Documento 432: [0.00 | 0.01 | 0.02 | 0.03 | 0.00 | 0.79 | 0.13 | 0.02 | 0.00] -> Tópicos seleccionados: [5], Umbral: 0.139\n",
      "Documento 433: [0.00 | 0.00 | 0.00 | 0.13 | 0.01 | 0.82 | 0.04 | 0.00 | 0.00] -> Tópicos seleccionados: [5], Umbral: 0.139\n",
      "Documento 434: [0.00 | 0.00 | 0.00 | 0.02 | 0.00 | 0.90 | 0.06 | 0.01 | 0.00] -> Tópicos seleccionados: [5], Umbral: 0.139\n",
      "Documento 435: [0.00 | 0.01 | 0.02 | 0.30 | 0.04 | 0.56 | 0.04 | 0.01 | 0.01] -> Tópicos seleccionados: [5, 3], Umbral: 0.139\n",
      "Documento 436: [0.00 | 0.01 | 0.00 | 0.02 | 0.01 | 0.88 | 0.05 | 0.04 | 0.00] -> Tópicos seleccionados: [5], Umbral: 0.139\n",
      "Documento 437: [0.00 | 0.00 | 0.00 | 0.00 | 0.00 | 0.97 | 0.02 | 0.00 | 0.00] -> Tópicos seleccionados: [5], Umbral: 0.139\n",
      "Documento 438: [0.07 | 0.05 | 0.01 | 0.01 | 0.03 | 0.07 | 0.32 | 0.40 | 0.05] -> Tópicos seleccionados: [7, 6], Umbral: 0.139\n",
      "Documento 439: [0.00 | 0.00 | 0.00 | 0.04 | 0.00 | 0.91 | 0.03 | 0.02 | 0.00] -> Tópicos seleccionados: [5], Umbral: 0.139\n",
      "Documento 440: [0.00 | 0.00 | 0.01 | 0.03 | 0.00 | 0.90 | 0.05 | 0.00 | 0.00] -> Tópicos seleccionados: [5], Umbral: 0.139\n",
      "Documento 441: [0.00 | 0.01 | 0.01 | 0.05 | 0.01 | 0.61 | 0.30 | 0.01 | 0.00] -> Tópicos seleccionados: [5, 6], Umbral: 0.139\n",
      "Documento 442: [0.00 | 0.00 | 0.00 | 0.01 | 0.00 | 0.97 | 0.01 | 0.00 | 0.00] -> Tópicos seleccionados: [5], Umbral: 0.139\n",
      "Documento 443: [0.00 | 0.00 | 0.00 | 0.01 | 0.00 | 0.77 | 0.21 | 0.01 | 0.00] -> Tópicos seleccionados: [5, 6], Umbral: 0.139\n",
      "Documento 444: [0.00 | 0.01 | 0.00 | 0.01 | 0.00 | 0.57 | 0.38 | 0.02 | 0.00] -> Tópicos seleccionados: [5, 6], Umbral: 0.139\n",
      "Documento 445: [0.00 | 0.00 | 0.00 | 0.05 | 0.00 | 0.91 | 0.03 | 0.00 | 0.00] -> Tópicos seleccionados: [5], Umbral: 0.139\n",
      "Documento 446: [0.12 | 0.12 | 0.04 | 0.07 | 0.04 | 0.08 | 0.08 | 0.38 | 0.08] -> Tópicos seleccionados: [7], Umbral: 0.139\n",
      "Documento 447: [0.00 | 0.00 | 0.00 | 0.00 | 0.00 | 0.97 | 0.03 | 0.00 | 0.00] -> Tópicos seleccionados: [5], Umbral: 0.139\n",
      "Documento 448: [0.00 | 0.00 | 0.00 | 0.04 | 0.00 | 0.90 | 0.05 | 0.00 | 0.00] -> Tópicos seleccionados: [5], Umbral: 0.139\n",
      "Documento 449: [0.00 | 0.00 | 0.00 | 0.02 | 0.00 | 0.91 | 0.05 | 0.01 | 0.00] -> Tópicos seleccionados: [5], Umbral: 0.139\n",
      "Documento 450: [0.00 | 0.06 | 0.02 | 0.09 | 0.02 | 0.72 | 0.03 | 0.06 | 0.00] -> Tópicos seleccionados: [5], Umbral: 0.139\n",
      "Documento 451: [0.00 | 0.00 | 0.03 | 0.01 | 0.02 | 0.85 | 0.07 | 0.01 | 0.00] -> Tópicos seleccionados: [5], Umbral: 0.139\n",
      "Documento 452: [0.00 | 0.00 | 0.00 | 0.02 | 0.00 | 0.79 | 0.17 | 0.01 | 0.00] -> Tópicos seleccionados: [5, 6], Umbral: 0.139\n",
      "Documento 453: [0.00 | 0.00 | 0.00 | 0.00 | 0.00 | 0.96 | 0.04 | 0.00 | 0.00] -> Tópicos seleccionados: [5], Umbral: 0.139\n",
      "Documento 454: [0.00 | 0.00 | 0.00 | 0.02 | 0.00 | 0.92 | 0.05 | 0.00 | 0.00] -> Tópicos seleccionados: [5], Umbral: 0.139\n",
      "Documento 455: [0.00 | 0.00 | 0.01 | 0.38 | 0.00 | 0.57 | 0.03 | 0.01 | 0.00] -> Tópicos seleccionados: [5, 3], Umbral: 0.139\n",
      "Documento 456: [0.01 | 0.05 | 0.05 | 0.37 | 0.04 | 0.17 | 0.04 | 0.25 | 0.01] -> Tópicos seleccionados: [3, 7, 5], Umbral: 0.139\n",
      "Documento 457: [0.01 | 0.01 | 0.01 | 0.04 | 0.01 | 0.80 | 0.12 | 0.01 | 0.00] -> Tópicos seleccionados: [5], Umbral: 0.139\n",
      "Documento 458: [0.02 | 0.01 | 0.01 | 0.06 | 0.01 | 0.10 | 0.69 | 0.09 | 0.01] -> Tópicos seleccionados: [6], Umbral: 0.139\n",
      "Documento 459: [0.00 | 0.04 | 0.01 | 0.35 | 0.02 | 0.48 | 0.05 | 0.05 | 0.00] -> Tópicos seleccionados: [5, 3], Umbral: 0.139\n",
      "Documento 460: [0.00 | 0.00 | 0.00 | 0.00 | 0.00 | 0.98 | 0.02 | 0.00 | 0.00] -> Tópicos seleccionados: [5], Umbral: 0.139\n",
      "Documento 461: [0.01 | 0.01 | 0.02 | 0.05 | 0.05 | 0.38 | 0.45 | 0.02 | 0.00] -> Tópicos seleccionados: [6, 5], Umbral: 0.139\n",
      "Documento 462: [0.01 | 0.01 | 0.01 | 0.32 | 0.02 | 0.55 | 0.06 | 0.01 | 0.01] -> Tópicos seleccionados: [5, 3], Umbral: 0.139\n",
      "Documento 463: [0.00 | 0.00 | 0.00 | 0.00 | 0.00 | 0.98 | 0.02 | 0.00 | 0.00] -> Tópicos seleccionados: [5], Umbral: 0.139\n",
      "Documento 464: [0.00 | 0.00 | 0.00 | 0.04 | 0.00 | 0.89 | 0.05 | 0.01 | 0.00] -> Tópicos seleccionados: [5], Umbral: 0.139\n",
      "Documento 465: [0.05 | 0.10 | 0.05 | 0.04 | 0.52 | 0.01 | 0.01 | 0.02 | 0.20] -> Tópicos seleccionados: [4, 8], Umbral: 0.139\n",
      "Documento 466: [0.01 | 0.04 | 0.05 | 0.48 | 0.34 | 0.05 | 0.01 | 0.00 | 0.02] -> Tópicos seleccionados: [3, 4], Umbral: 0.139\n",
      "Documento 467: [0.05 | 0.03 | 0.03 | 0.04 | 0.76 | 0.01 | 0.02 | 0.01 | 0.04] -> Tópicos seleccionados: [4], Umbral: 0.139\n",
      "Documento 468: [0.01 | 0.01 | 0.01 | 0.02 | 0.00 | 0.69 | 0.21 | 0.05 | 0.00] -> Tópicos seleccionados: [5, 6], Umbral: 0.139\n",
      "Documento 469: [0.01 | 0.06 | 0.04 | 0.10 | 0.03 | 0.41 | 0.30 | 0.04 | 0.01] -> Tópicos seleccionados: [5, 6], Umbral: 0.139\n",
      "Documento 470: [0.03 | 0.02 | 0.02 | 0.52 | 0.08 | 0.06 | 0.15 | 0.09 | 0.02] -> Tópicos seleccionados: [3, 6], Umbral: 0.139\n",
      "Documento 471: [0.02 | 0.04 | 0.15 | 0.10 | 0.01 | 0.35 | 0.29 | 0.03 | 0.01] -> Tópicos seleccionados: [5, 6, 2], Umbral: 0.139\n",
      "Documento 472: [0.02 | 0.10 | 0.04 | 0.06 | 0.03 | 0.53 | 0.05 | 0.15 | 0.02] -> Tópicos seleccionados: [5, 7], Umbral: 0.139\n",
      "Documento 473: [0.00 | 0.01 | 0.00 | 0.00 | 0.00 | 0.70 | 0.25 | 0.03 | 0.00] -> Tópicos seleccionados: [5, 6], Umbral: 0.139\n",
      "Documento 474: [0.00 | 0.02 | 0.01 | 0.02 | 0.00 | 0.59 | 0.15 | 0.19 | 0.00] -> Tópicos seleccionados: [5, 7, 6], Umbral: 0.139\n",
      "Documento 475: [0.78 | 0.06 | 0.02 | 0.02 | 0.01 | 0.00 | 0.01 | 0.02 | 0.08] -> Tópicos seleccionados: [0], Umbral: 0.139\n",
      "Documento 476: [0.02 | 0.14 | 0.38 | 0.25 | 0.06 | 0.03 | 0.04 | 0.02 | 0.06] -> Tópicos seleccionados: [2, 3, 1], Umbral: 0.139\n",
      "Documento 477: [0.04 | 0.25 | 0.27 | 0.08 | 0.21 | 0.02 | 0.03 | 0.03 | 0.07] -> Tópicos seleccionados: [2, 1, 4], Umbral: 0.139\n",
      "Documento 478: [0.01 | 0.01 | 0.83 | 0.03 | 0.04 | 0.02 | 0.03 | 0.01 | 0.01] -> Tópicos seleccionados: [2], Umbral: 0.139\n",
      "Documento 479: [0.03 | 0.24 | 0.25 | 0.15 | 0.03 | 0.18 | 0.04 | 0.06 | 0.03] -> Tópicos seleccionados: [2, 1, 5], Umbral: 0.139\n",
      "Documento 480: [0.03 | 0.23 | 0.07 | 0.06 | 0.02 | 0.16 | 0.29 | 0.12 | 0.03] -> Tópicos seleccionados: [6, 1, 5], Umbral: 0.139\n",
      "Documento 481: [0.07 | 0.22 | 0.18 | 0.16 | 0.04 | 0.07 | 0.10 | 0.03 | 0.12] -> Tópicos seleccionados: [1, 2, 3], Umbral: 0.139\n",
      "Documento 482: [0.00 | 0.02 | 0.74 | 0.09 | 0.03 | 0.09 | 0.02 | 0.01 | 0.01] -> Tópicos seleccionados: [2], Umbral: 0.139\n",
      "Documento 483: [0.01 | 0.20 | 0.04 | 0.04 | 0.04 | 0.26 | 0.26 | 0.13 | 0.01] -> Tópicos seleccionados: [6, 5, 1], Umbral: 0.139\n",
      "Documento 484: [0.02 | 0.03 | 0.32 | 0.02 | 0.08 | 0.25 | 0.15 | 0.10 | 0.01] -> Tópicos seleccionados: [2, 5, 6], Umbral: 0.139\n",
      "Documento 485: [0.10 | 0.11 | 0.01 | 0.04 | 0.04 | 0.03 | 0.22 | 0.27 | 0.18] -> Tópicos seleccionados: [7, 6, 8], Umbral: 0.139\n",
      "Documento 486: [0.15 | 0.08 | 0.05 | 0.19 | 0.06 | 0.04 | 0.05 | 0.07 | 0.30] -> Tópicos seleccionados: [8, 3, 0], Umbral: 0.139\n",
      "Documento 487: [0.09 | 0.13 | 0.08 | 0.10 | 0.07 | 0.04 | 0.12 | 0.13 | 0.24] -> Tópicos seleccionados: [8], Umbral: 0.139\n",
      "Documento 488: [0.13 | 0.07 | 0.04 | 0.02 | 0.04 | 0.04 | 0.04 | 0.03 | 0.59] -> Tópicos seleccionados: [8], Umbral: 0.139\n",
      "Documento 489: [0.03 | 0.08 | 0.02 | 0.13 | 0.30 | 0.04 | 0.18 | 0.07 | 0.15] -> Tópicos seleccionados: [4, 6, 8], Umbral: 0.139\n",
      "Documento 490: [0.22 | 0.03 | 0.00 | 0.01 | 0.01 | 0.02 | 0.48 | 0.20 | 0.03] -> Tópicos seleccionados: [6, 0, 7], Umbral: 0.139\n",
      "Documento 491: [0.04 | 0.20 | 0.05 | 0.43 | 0.11 | 0.03 | 0.03 | 0.02 | 0.10] -> Tópicos seleccionados: [3, 1], Umbral: 0.139\n",
      "Documento 492: [0.01 | 0.02 | 0.02 | 0.08 | 0.03 | 0.31 | 0.49 | 0.05 | 0.01] -> Tópicos seleccionados: [6, 5], Umbral: 0.139\n",
      "Documento 493: [0.00 | 0.00 | 0.00 | 0.01 | 0.00 | 0.96 | 0.02 | 0.00 | 0.00] -> Tópicos seleccionados: [5], Umbral: 0.139\n",
      "Documento 494: [0.00 | 0.00 | 0.00 | 0.05 | 0.00 | 0.93 | 0.02 | 0.00 | 0.00] -> Tópicos seleccionados: [5], Umbral: 0.139\n",
      "Documento 495: [0.00 | 0.00 | 0.00 | 0.02 | 0.00 | 0.86 | 0.11 | 0.00 | 0.00] -> Tópicos seleccionados: [5], Umbral: 0.139\n",
      "Documento 496: [0.00 | 0.00 | 0.00 | 0.01 | 0.00 | 0.96 | 0.03 | 0.00 | 0.00] -> Tópicos seleccionados: [5], Umbral: 0.139\n",
      "Documento 497: [0.00 | 0.00 | 0.00 | 0.02 | 0.01 | 0.93 | 0.04 | 0.00 | 0.00] -> Tópicos seleccionados: [5], Umbral: 0.139\n",
      "Documento 498: [0.00 | 0.00 | 0.00 | 0.03 | 0.00 | 0.91 | 0.05 | 0.00 | 0.00] -> Tópicos seleccionados: [5], Umbral: 0.139\n",
      "Documento 499: [0.00 | 0.01 | 0.01 | 0.42 | 0.03 | 0.49 | 0.03 | 0.01 | 0.01] -> Tópicos seleccionados: [5, 3], Umbral: 0.139\n"
     ]
    }
   ],
   "source": [
    "import numpy as np\n",
    "\n",
    "def select_topics_stat(doc_vec, threshold, max_topics=3):\n",
    "    \"\"\"\n",
    "    Selecciona tópicos estadísticamente mejores que azar (95% confianza).\n",
    "    - Usa un threshold ya calculado.\n",
    "    - Máximo max_topics tópicos seleccionados.\n",
    "    \"\"\"\n",
    "    doc_vec = np.array(doc_vec)\n",
    "    order = np.argsort(doc_vec)[::-1]\n",
    "\n",
    "    selected = []\n",
    "    for i in order:\n",
    "        if doc_vec[i] > threshold:\n",
    "            selected.append(i)\n",
    "        if len(selected) >= max_topics:\n",
    "            break\n",
    "\n",
    "    return selected\n",
    "\n",
    "# Calcular solo una vez\n",
    "N = len(doc_topic_dist)\n",
    "C = doc_topic_dist.shape[1]\n",
    "p = 1 / C\n",
    "sigma = np.sqrt(p * (1 - p) / N)\n",
    "threshold = p + 1.96 * sigma\n",
    "\n",
    "# Aplicar a todos los documentos\n",
    "for i, doc in enumerate(doc_topic_dist, 1):\n",
    "    selected = select_topics_stat(doc, threshold)\n",
    "    probs_str = \" | \".join(f\"{p:.2f}\" for p in doc)\n",
    "    print(f\"Documento {i}: [{probs_str}] -> Tópicos seleccionados: {selected}, Umbral: {threshold:.3f}\")\n"
   ]
  },
  {
   "cell_type": "code",
   "execution_count": 11,
   "id": "0c7c2465",
   "metadata": {},
   "outputs": [],
   "source": [
    "topic_info = procesar_topicos_fastopic(topic_model, doc_topic_dist, top_words)\n",
    "\n",
    "# Preparar información de todos los tópicos para procesamiento en lote\n",
    "topics_info_text = \"\"\n",
    "for _, row in topic_info.iterrows():\n",
    "    topic_id = row['Topic']\n",
    "    keywords = row['Keywords']\n",
    "    if keywords and keywords not in [\"Sin palabras\", \"Error en procesamiento\"]:\n",
    "        topics_info_text += f\"Tópico {topic_id}: {keywords}\\n\"\n",
    "\n",
    "resultado = clasificador_topicos.invoke({\"topics_info\": topics_info_text})\n",
    "\n",
    "topic_names = {}\n",
    "for topic_label in resultado.topics:\n",
    "    topic_names[topic_label.topic_id] = topic_label.label\n",
    "\n",
    "topic_info['Name'] = topic_info['Topic'].map(topic_names)"
   ]
  },
  {
   "cell_type": "code",
   "execution_count": 12,
   "id": "8f86ee20",
   "metadata": {},
   "outputs": [
    {
     "name": "stdout",
     "output_type": "stream",
     "text": [
      "Tópico 0: ola, playa, bruja, nadar, cerrito, basura, oleaje, riu, bay, surfista\n",
      "Tópico 1: excursion, crucero, pulmonia, kayak, deer, malecon, almuerzo, banana, catamarar, guia\n",
      "Tópico 2: cristal, faro, caminata, subir, puente, vistas, ejercicio, escalón, vista, cima\n",
      "Tópico 3: padre, manejar, cerrar, veiar, llenar, espacio, foca, totalmente, terminar, pajaro\n",
      "Tópico 4: acuario, espectaculo, pinguino, animal, precio, exhibición, show, pecera, exhibicion, tanque\n",
      "Tópico 5: catedral, iglesia, arquitectura, interior, musico, corazon, luz, david, vidriera, plazuela\n",
      "Tópico 6: mercado, centro, viejo, edificio, historico, ciudad, carnaval, mexico, arte, negocio\n",
      "Tópico 7: ambiente, encantar, vendedor, pasar, banda, copa, noche, comida, plaza, lugar\n",
      "Tópico 8: isla, bebida, persona, bote, lancha, piedra, comida, stone, llegar, horrible\n",
      "\n"
     ]
    }
   ],
   "source": [
    "print(topics_info_text)"
   ]
  },
  {
   "cell_type": "code",
   "execution_count": 13,
   "id": "66c45ab3",
   "metadata": {},
   "outputs": [
    {
     "name": "stdout",
     "output_type": "stream",
     "text": [
      "topics=[TopicLabel(topic_id=0, label='Playas'), TopicLabel(topic_id=1, label='Excursiones'), TopicLabel(topic_id=2, label='Miradores'), TopicLabel(topic_id=3, label='Actividades'), TopicLabel(topic_id=4, label='Vida Marina'), TopicLabel(topic_id=5, label='Patrimonio'), TopicLabel(topic_id=6, label='Cultura'), TopicLabel(topic_id=7, label='Gastronomía'), TopicLabel(topic_id=8, label='Transporte Marítimo')]\n"
     ]
    }
   ],
   "source": [
    "print(resultado)"
   ]
  },
  {
   "cell_type": "code",
   "execution_count": 14,
   "id": "dfb93d62",
   "metadata": {},
   "outputs": [
    {
     "name": "stdout",
     "output_type": "stream",
     "text": [
      "🔄 SOBRESCRIBIENDO resultados previos para Mazatlan:\n",
      "   📝 Opiniones con tópicos previos: 499\n",
      "   🆕 Nuevas asignaciones de tópicos: 499\n",
      "\n",
      "✅ Actualización completada para Mazatlan\n",
      "Distribución de tópicos en Mazatlan:\n",
      "Topico_Nombre\n",
      "Patrimonio             88\n",
      "Playas                 86\n",
      "Gastronomía            66\n",
      "Actividades            49\n",
      "Transporte Marítimo    48\n",
      "Vida Marina            43\n",
      "Excursiones            41\n",
      "Cultura                40\n",
      "Miradores              38\n",
      "Name: count, dtype: int64\n",
      "\n",
      "Porcentaje de opiniones por tópico en Mazatlan:\n",
      "Patrimonio: 17.64%\n",
      "Playas: 17.23%\n",
      "Gastronomía: 13.23%\n",
      "Actividades: 9.82%\n",
      "Transporte Marítimo: 9.62%\n",
      "Vida Marina: 8.62%\n",
      "Excursiones: 8.22%\n",
      "Cultura: 8.02%\n",
      "Miradores: 7.62%\n",
      "\n",
      "Estado actualización dataset completo:\n",
      "Total opiniones: 2457\n",
      "Opiniones con tópico FASTopic asignado: 1471\n",
      "Opiniones pendientes: 986\n"
     ]
    }
   ],
   "source": [
    "# Obtener asignaciones de tópicos para documentos\n",
    "topic_assignments, topic_names_assigned, topic_probabilities = obtener_asignaciones_topicos_fastopic(\n",
    "    doc_topic_dist, \n",
    "    topic_names, \n",
    "    threshold=0.1\n",
    ")\n",
    "\n",
    "# Procesar solo datos de la ciudad seleccionada\n",
    "df_con_topicos = df_ciudad.dropna(subset=[columna_texto]).copy()\n",
    "df_con_topicos['Topico'] = topic_assignments\n",
    "df_con_topicos['Topico_Nombre'] = topic_names_assigned\n",
    "df_con_topicos['Probabilidad_Topico'] = topic_probabilities\n",
    "\n",
    "# Verificar si la ciudad ya tenía resultados previos\n",
    "indices_ciudad = df_con_topicos.index\n",
    "opiniones_previas = df.loc[indices_ciudad, 'TopicoConFASTopic'].notna().sum()\n",
    "\n",
    "if opiniones_previas > 0:\n",
    "    print(f\"🔄 SOBRESCRIBIENDO resultados previos para {CIUDAD_ANALIZAR}:\")\n",
    "    print(f\"   📝 Opiniones con tópicos previos: {opiniones_previas}\")\n",
    "    print(f\"   🆕 Nuevas asignaciones de tópicos: {len(df_con_topicos)}\")\n",
    "else:\n",
    "    print(f\"🆕 PRIMERA VEZ procesando {CIUDAD_ANALIZAR}:\")\n",
    "    print(f\"   📝 Nuevas asignaciones de tópicos: {len(df_con_topicos)}\")\n",
    "\n",
    "# Actualizar el dataset original con los tópicos de la ciudad analizada\n",
    "df.loc[indices_ciudad, 'TopicoConFASTopic'] = df_con_topicos['Topico_Nombre']\n",
    "\n",
    "print(f\"\\n✅ Actualización completada para {CIUDAD_ANALIZAR}\")\n",
    "print(f\"Distribución de tópicos en {CIUDAD_ANALIZAR}:\")\n",
    "topico_counts = df_con_topicos['Topico_Nombre'].value_counts()\n",
    "print(topico_counts)\n",
    "\n",
    "print(f\"\\nPorcentaje de opiniones por tópico en {CIUDAD_ANALIZAR}:\")\n",
    "topico_pct = (topico_counts / len(df_con_topicos) * 100).round(2)\n",
    "for topico, pct in topico_pct.items():\n",
    "    print(f\"{topico}: {pct}%\")\n",
    "\n",
    "print(f\"\\nEstado actualización dataset completo:\")\n",
    "print(f\"Total opiniones: {len(df)}\")\n",
    "print(f\"Opiniones con tópico FASTopic asignado: {df['TopicoConFASTopic'].notna().sum()}\")\n",
    "print(f\"Opiniones pendientes: {df['TopicoConFASTopic'].isna().sum()}\")"
   ]
  },
  {
   "cell_type": "code",
   "execution_count": 15,
   "id": "84a05bd0",
   "metadata": {},
   "outputs": [],
   "source": [
    "# Obtener asignaciones de tópicos para documentos\n",
    "topic_assignments, topic_names_assigned, topic_probabilities = obtener_asignaciones_topicos_fastopic(\n",
    "    doc_topic_dist, \n",
    "    topic_names, \n",
    "    threshold=0.1\n",
    ")\n",
    "\n",
    "# Procesar solo datos de la ciudad seleccionada\n",
    "df_con_topicos = df_ciudad.dropna(subset=[columna_texto]).copy()\n",
    "df_con_topicos['Topico'] = topic_assignments\n",
    "df_con_topicos['Topico_Nombre'] = topic_names_assigned\n",
    "df_con_topicos['Probabilidad_Topico'] = topic_probabilities\n",
    "\n",
    "# Actualizar el dataset original con los tópicos de la ciudad analizada\n",
    "indices_ciudad = df_con_topicos.index\n",
    "df.loc[indices_ciudad, 'TopicoConFASTopic'] = df_con_topicos['Topico_Nombre']"
   ]
  },
  {
   "cell_type": "code",
   "execution_count": 16,
   "id": "bc786cf1",
   "metadata": {},
   "outputs": [
    {
     "name": "stdout",
     "output_type": "stream",
     "text": [
      "📚 EJEMPLOS DE OPINIONES POR TÓPICO\n",
      "======================================================================\n",
      "\n",
      "🏷️ 1. Patrimonio\n",
      "📊 Total de opiniones: 88\n",
      "📝 Ejemplos:\n",
      "   1. Tranquilo. Es enorme y con muchas esculturas, es ideal para ver el atardecer, de día me parece bonito de noche siento que le hace falta iluminación.\n",
      "   2. Caminando por el malecón. Caminamos desde el área de Cliff Divers hasta el malecón y fue un agradable paseo. El área de buceo desde acantilados es grande y cuenta con vendedores ambulantes donde comprar fruta fresca y bebidas (nos perdimos el espectáculo y simplemente pasamos un rato). Las estatuas a lo largo del paseo eran bonitas y ofrecían excelentes oportunidades para tomar fotografías. Caminar por la calle Beatles Cavern Club fue genial para ver más oportunidades para tomar fotografías. Una buena manera de ver los sitios a pie y pasar un par de horas.\n",
      "   3. Muy agradable. Bonita zona pavimentada, con algunas buenas esculturas repartidas a lo largo del camino. Incluso puedes pasar junto a los saltadores de acantilados si quieres verlos, pero avanza rápidamente antes de que te pidan una propina. También está, por supuesto, el cartel de MAZATLÁN para que te hagas un selfie si consigues un lugar. Bastante fácil de atravesar tierra adentro para tiendas y comida.\n",
      "----------------------------------------------------------------------\n",
      "\n",
      "🏷️ 2. Playas\n",
      "📊 Total de opiniones: 86\n",
      "📝 Ejemplos:\n",
      "   1. Bonitas vistas, fácil paseo. El Malecón es un agradable paseo junto al océano con hermosas vistas y fácil acceso a las playas. El paseo marítimo es limpio y amplio, pero puede hacer calor durante el día y no hay mucha sombra. Hay varias estatuas y monumentos a lo largo del camino, aunque es decepcionante que aquellos con elementos de agua y fuentes no tuvieran agua. La caminata lo llevará más allá de los clavadistas; sí, es turístico, aunque increíble de ver. Las tiendas y restaurantes/bares están al otro lado de una calle muy transitada que requiere paciencia y tomar decisiones rápidas para cruzar. Cuando has caminado todo lo que quieres es fácil que una pulmonía te lleve de regreso o a tu siguiente parada.\n",
      "   2. Largo y silencioso. 12 millas de excelentes vistas de la playa y el océano, y algunos bares en la playa de abajo. Principalmente hoteles y condominios al otro lado. Frente al PV Malecón, que cuenta con muchas tiendas y bares. No es lo que esperaba.\n",
      "   3. Paseando por el Malecón. El Malecón es un paseo bien construido que recorre la playa. Es bastante largo y si te gusta caminar… es una estupenda forma de hacerlo. Era un ambiente seguro y genial si también te gusta observar a la gente.\n",
      "----------------------------------------------------------------------\n",
      "\n",
      "🏷️ 3. Gastronomía\n",
      "📊 Total de opiniones: 66\n",
      "📝 Ejemplos:\n",
      "   1. ¡Divertido y seguro!. Estoy muy impresionado con Mazatlán, Mx. . La gente aquí es amable. . nos alojamos en El Cid resort el Moro. . Me encantó el complejo, las piscinas eran divertidas y el personal de los restaurantes nos cuidó mucho. . . Mis hijos también se alojaron en el club infantil, Leti y Susan cuidaron mucho de mis dos hijos mientras disfrutaba de mi tiempo en la piscina. También dimos un paseo hasta el Malecón, NO hay problemas durante mi paseo, la vibra era divertida y segura . . . todos conduciendo y caminando nos lo estamos pasando genial . . . Gracias Mazatlán este es ahora mi nuevo lugar de vacaciones. . . Volveré en mis próximas vacaciones!.\n",
      "   2. Espectacular. Todo me Encanto. Las comidas el acuario, Las compa en el mercado el ambiente en la playa incredible si quieres divertirte este es el lugar. Lo mejor de todo el faro y el malecon fabulosas vistas para fotos.\n",
      "   3. Hermosa zona y gente maravillosa!. Bajamos durante el carnaval y sí, estaba ocupado, pero uno de los mejores espectáculos que he visto! Mucho que ver y hacer. Un montón de grandes opciones de comida para cualquier presupuesto y grandes Compras.\n",
      "----------------------------------------------------------------------\n",
      "\n",
      "🏷️ 4. Actividades\n",
      "📊 Total de opiniones: 49\n",
      "📝 Ejemplos:\n",
      "   1. Nunca más, por desgracia. Mazatlán no es seguro. Lamento escribir esto, pero estuvimos allí una semana y el Malecón estaba prácticamente vacío, al igual que la playa. La violencia del cártel tiene a todos fuera de la vista y para nosotros y otros no mexicanos que conocimos durante nuestra estancia, había una clara sensación incómoda entre todos nosotros que definitivamente no éramos bienvenidos. No salimos de nuestro hotel en Centro en el malecón durante los últimos 2 días de nuestra estancia como resultado de las docenas de personal militar y otros policías por todas partes. 3 pick ups de cañonera cargados con un . Cañón touret de 50 cal y 4 más con C-7 en la parte trasera conduciendo arriba y abajo de la calle en un bucle. No vimos una sola familia no mexicana caminando por el malecón en 7 días. El cártel claramente es dueño y opera Mazatlán y todo el mundo parece saberlo. Decenas de edificios vacíos y proyectos de construcción de edificios a medio terminar.\n",
      "   2. Podría ser mejor. Mazatlán es hermoso, comida deliciosa, atardeceres únicos.Pero la razón por la que le di 3 estrellas.Es porque tienen muy mala educación Peatonal, incluso los conductores de Uber y los taxis aceleraban como locos.Literalmente tienes que correr cuandocruzar las calles.Hermoso puerto gente incivilida al manejar.\n",
      "   3. Muy bonito muy entretenido y muy cuidado. Muy bonito muy entretenido y muy cuidado, esperemos que siga en las mismas condiciones, toda la parte que se puede caminar está iluminada.\n",
      "----------------------------------------------------------------------\n",
      "\n",
      "🏷️ 5. Transporte Marítimo\n",
      "📊 Total de opiniones: 48\n",
      "📝 Ejemplos:\n",
      "   1. Excelente opción para disfrutar sin tanta saturación de personas. Lugar tranquilo, seguro, la playa es apta para toda la familia aunque el oleaje puede ponerse algo picado, los niños deben estar supervisados (como en cualquier playa) tiene buenísimos lugares para comer, se encuentra distante del malecón y zona dorada. Pero tiene acceso a medios de transporte.\n",
      "   2. Tranquila!. Es una playa pequeña, de oleaje medio, es de las más tranquilas de Mazatlán. Hay varios restaurantes, pero también puede uno traer sus propias cosas.\n",
      "   3. Excelente. Si desean una opción rica para comer productos recién pescados esta es una magnífica opción. Pueden comer en los pequeños lugares cerca de la playa. Especialidad langosta con unas buenas cervezas. De verdad a 30 minutos del centro. Hay bus que los llevan. No dejen de ir.\n",
      "----------------------------------------------------------------------\n"
     ]
    }
   ],
   "source": [
    "# Mostrar ejemplos de opiniones por tópico\n",
    "mostrar_ejemplos_por_topico_fastopic(\n",
    "    df_con_topicos, \n",
    "    topico_col='Topico_Nombre',\n",
    "    texto_col='TituloReview',\n",
    "    n_ejemplos=3,\n",
    "    top_n_topicos=5\n",
    ")"
   ]
  },
  {
   "cell_type": "code",
   "execution_count": 22,
   "id": "a639901d",
   "metadata": {},
   "outputs": [
    {
     "name": "stdout",
     "output_type": "stream",
     "text": [
      "🔍 Comparación de ejemplos - Original vs Limpio (Mazatlan):\n",
      "================================================================================\n",
      "\n",
      "📄 EJEMPLO 1 - Tópico: Gastronomía\n",
      "🔸 Original: Me gusto mucho como es que está y que puedes tomar y comer lo que gustes aunque sería bueno que haya restaurante y baños. Es muy relajante y con mucha buen entretenido y es un buen lugar de descansar ,además que puedes nadar y estar mucho tiempo o el tiempo que desees.\n",
      "🔹 Limpio:   yo gustar mucho como ser que este y que poder tomar y comer él que gust aunque seriar que haber restaurante y bano ser mucho y con mucho y ser uno lugar de descansar adema que poder nadar y estar mucho tiempo o el tiempo que desees\n",
      "📊 Probabilidad: 0.765\n",
      "📉 Reducción: 269 → 231 caracteres (14.1%)\n",
      "--------------------------------------------------------------------------------\n",
      "\n",
      "📄 EJEMPLO 2 - Tópico: Excursiones\n",
      "🔸 Original: Sensation Catamarán nos la pasamos increíble. Nosotros tomamos un tour en Marina MazatlánTodo incluído, anclamos en isla VenadosNos ofrecieron actividades acuáticas Barra libre nuestras cervezas bien heladasY dj en vivoFue una mega experiencia Recomiendo Sensation Catamarán Nos la pasamos increíble.\n",
      "🔹 Limpio:   sensation yo él pasar yo tomar uno tour en marina incluido anclar en isla venadosno ofrecer actividad acuatica barra libre nuestro cerveza bien heladasy dj en vivofue uno mego experiencia recomeir sensation catamar yo él pasar increible\n",
      "📊 Probabilidad: 0.363\n",
      "📉 Reducción: 300 → 236 caracteres (21.3%)\n",
      "--------------------------------------------------------------------------------\n",
      "\n",
      "📄 EJEMPLO 3 - Tópico: Actividades\n",
      "🔸 Original: Ya no es lo mismo de Antes. Hace dos años fui a esta misma playa , volvi hace dos semanas y estaba sucia, las lanchas de la pesca sobre la playa y la gente poco espacio tenia para ponerser al sol. Realmente me dio tristeza verla tan sucia , al final nos fuimos ya no nos gusto.\n",
      "🔹 Limpio:   ya no ser él mismo de antes hacer dos ano ir a este mismo playa volvi hacer dos semana y estar el lancha de el pesca sobre el playa y el gente poco espacio tenio para ponerser al sol realmente yo dar tristeza ver él tanto al final yo ir ya no yo gusto\n",
      "📊 Probabilidad: 0.280\n",
      "📉 Reducción: 277 → 251 caracteres (9.4%)\n",
      "--------------------------------------------------------------------------------\n",
      "\n",
      "📄 EJEMPLO 4 - Tópico: Gastronomía\n",
      "🔸 Original: visita familiar que nos encanto lo visitamos en la mañana tarde y noche gente bien , cordial calor soportable y se puede. visita familiar que nos encanto lo visitamos en la mañana tarde y noche gente bien , cordial calor soportable y se puede degustar comida en cualquier lugar , para todos los bolsillos.\n",
      "🔹 Limpio:   visita que yo encantar él visitar en el manana y noche gente bien calor y él poder visita que yo encantar él visitar en el manana y noche gente bien calor y él poder degustar comida en cualquiera lugar para todo el bolsillo\n",
      "📊 Probabilidad: 0.514\n",
      "📉 Reducción: 305 → 223 caracteres (26.9%)\n",
      "--------------------------------------------------------------------------------\n",
      "\n",
      "📄 EJEMPLO 5 - Tópico: Vida Marina\n",
      "🔸 Original: ACUARIO COMÚN Y CORRIENTE 3/5. Me resulta un acuario común y corriente de los  que he tenido oportunidad de visitar en México. Nada espectacular o diferente a Michin o Inbursa.El precio no corresponde a lo entregado en el sitio. Son totalmente overrated.\n",
      "🔹 Limpio:   acuario comun y corriente yo resultar uno acuario comun y corriente de el que haber tener oportunidad de visitar en mexico nada espectacular o diferente a michin o inbursar el precio no corresponder a él entregado en el sitio ser totalmente overrated\n",
      "📊 Probabilidad: 0.500\n",
      "📉 Reducción: 254 → 250 caracteres (1.6%)\n",
      "--------------------------------------------------------------------------------\n",
      "\n",
      "📄 EJEMPLO 6 - Tópico: Gastronomía\n",
      "🔸 Original: Hermoso limpio y bien cuidado. Es un lugar con construcciones antiguas  muy bonitas y biencuudadas con muchas galerias me encanto Nidart y enfrente hay una heladeria, cafeteria muy buena Helartesano probe el de mamey con vainilla delicioso.\n",
      "🔹 Limpio:   y bien ser uno lugar con construcción mucho y biencuudada con mucho galeria yo encantar nidart y enfrente haber uno heladeria cafeterio mucho buen helartesano probe el de mamey con vainilla delicioso\n",
      "📊 Probabilidad: 0.324\n",
      "📉 Reducción: 240 → 199 caracteres (17.1%)\n",
      "--------------------------------------------------------------------------------\n",
      "\n",
      "📄 EJEMPLO 7 - Tópico: Playas\n",
      "🔸 Original: ¡Hermoso!. La playa no es la más hermosa, las playas del continente son mejores. La caminata hacia la vista fue hermosa y muy divertida, un poco en la última sección, asegúrese de tener un buen calzado. Después de practicar el esnórquel, vi muchos peces de diferentes tamaños, una raya y una posible anguila. La visibilidad no fue la mejor, pero aún así fue muy agradable. Tomamos un catamarán por 200 pesos cada uno que salía de las villas reales.\n",
      "🔹 Limpio:   hermoso el playa no ser el mas hermoso el playa del continente ser mejor el caminata hacia el vista ser hermoso y mucho divertido uno poco en el ultimo seccion asegurese de tener uno buen calzado despues de practicar el esnorquel vi mucho pez de diferente tamano uno raya y uno posible anguilar el visibilidad no ser el mejor pero aun asi ser mucho agradable tomar uno catamar por peso cada uno que saliar de el villa real\n",
      "📊 Probabilidad: 0.219\n",
      "📉 Reducción: 448 → 422 caracteres (5.8%)\n",
      "--------------------------------------------------------------------------------\n",
      "\n",
      "📄 EJEMPLO 8 - Tópico: Transporte Marítimo\n",
      "🔸 Original: Excelente lugar para nadar. La estadía  en la isla para apreciar su playa y disfrutar Del Mar es una experiencia bastante buena. Pero lo que no me gusto es que en el restaurante Puesta Del Sol te piden consumos mínimos dependiendo la zona donde se ubique la mesa.Contrate un tour que incluía transporte, recorrido en la bahía, comida y bebidas pero al llegar te condicionan al uso de las mesas, el guía te dice una cosa y los meseros te ponen tarifas.  Aunado a esto la comida muy racionada y las bebidas con alcohol deMuy mala calidad.\n",
      "🔹 Limpio:   lugar para nadar el estadia en el isla para apreciar su playa y disfrutar del mar ser uno experiencia bastante pero él que no yo gustar ser que en el restaurante del sol tú pedir consumo depender el zona donde él ubicar el mesa contratar uno tour que incluiar transporte recorrido en el bahia comida y bebida pero al llegar tú condicionar al uso de el mesa el guia tú decir uno cosa y el mesero tú poner tarifa aunado a este el comida mucho racionado y el bebida con alcohol demuy malo calidad\n",
      "📊 Probabilidad: 0.382\n",
      "📉 Reducción: 536 → 493 caracteres (8.0%)\n",
      "--------------------------------------------------------------------------------\n",
      "\n",
      "📄 EJEMPLO 9 - Tópico: Cultura\n",
      "🔸 Original: Malecón de Mazatlán. Muy bonita vista pero llena de vendedores ambulantes y turistas. Estuvimos allí a las 8:30 am y se estaba llenando. No es nuestro malecón favorito, ¡pero vale la pena visitarlo por la vista!.\n",
      "🔹 Limpio:   malecon de mazatlan mucho bonito visto pero lleno de vendedor ambulante y turista estuvimo alli a el am y él estar llenar no ser nuestro malecon favorito pero valer el pena visitar él por el vista\n",
      "📊 Probabilidad: 0.361\n",
      "📉 Reducción: 212 → 196 caracteres (7.5%)\n",
      "--------------------------------------------------------------------------------\n",
      "\n",
      "📄 EJEMPLO 10 - Tópico: Cultura\n",
      "🔸 Original: Día en el paraíso con Tito nuestro guía turístico mexicano. Mi esposa y yo tuvimos un maravilloso recorrido de un día completo con guías increíbles, su nombre era Tito. por favor, búscalo cuando visites allí, no te arrepentirás. Recorremos muchos de los lugares hermosos de Mazatlán y escondemos gemas en nuestros ojos, amamos la ciudad, la gente solo todo el día de turismo.\n",
      "🔹 Limpio:   diar en el paraiso con tito nuestro guia mexicano mi esposa y yo tener uno recorrido de uno dia con guia su nombre ser tito por favor buscalo cuando visit alli no tú arrepentirar recorrer mucho de el lugar de mazatlan y esconder gema en nuestro ojo amamos el ciudad el gente solo todo el dia de turismo\n",
      "📊 Probabilidad: 0.529\n",
      "📉 Reducción: 375 → 302 caracteres (19.5%)\n",
      "--------------------------------------------------------------------------------\n",
      "\n",
      "📄 EJEMPLO 11 - Tópico: Excursiones\n",
      "🔸 Original: Increíble experiencia visitar isla venados en el Sensation Catamaran. No te lo puedes perder, catamarán nuevo, impecable , baños limpios, tuvimos una atención desmedida, DJ en vivo, cervezas de lata, piñas coladas nuestro barman particular y ceviche, nos proporcionaron kajak y snorkel, un maravilloso tour, lo tomamos en marina Mazatlán por solamente 600 pesos vale la pena.\n",
      "🔹 Limpio:   experiencia visitar isla en el sensation no tú él poder perder catamarar nuevo impecable bano limpio tener uno atencion desmedido dj en vivo cerveza de lata pina colada nuestro barmar particular y ceviche yo proporcionar kajak y snorkel uno maravilloso tour él tomar en marina mazatlar por solamente peso valer el pena\n",
      "📊 Probabilidad: 0.296\n",
      "📉 Reducción: 375 → 318 caracteres (15.2%)\n",
      "--------------------------------------------------------------------------------\n",
      "\n",
      "📄 EJEMPLO 12 - Tópico: Excursiones\n",
      "🔸 Original: Deer Island - un buen viaje. Decidimos, después de ir a Mazatlán durante años y años, hacer un recorrido por Deer Island.Mi impresión del viaje puede no ser algo sobre lo que escribir. Salimos alrededor de las 10:00 y entendí que regresaríamos - saliendo de la isla - alrededor de las 2:00 pm.Estaba equivocado.Comenzamos con un breve recorrido por la bahía y luego nos dirigimos a Deer Island. El viaje fue agradable y se sirvieron bebidas. Llegamos a la isla y procedí a mirar alrededor. Había varias personas en la playa. Comencé una conversación con una señora de Estonia. Ella y sus hijos tomaron un bote desde Mazatlán, le costó $ 12. 00 US y sus hijos viajaron gratis. Pensé que era una oferta bastante buena ya que nuestro recorrido se facturó a $ 65 dólares, que incluía el almuerzo.El almuerzo no era nada del otro mundo. La fruta era excelente, y esa fue la mejor parte del almuerzo. No valía la pena escribir sobre el resto.Entonces, después del almuerzo, pensé en visitar la playa, etc. Pensé que tenía mucho tiempo para explorar, así que bajé hasta el final de la playa. Bueno, casi me perdí el bote. Alrededor de la 1:30, las personas en el recorrido fueron detenidas y regresaron al bote. Como estaba en la playa, alguien tuvo que ir detrás de mí para traerme de regreso.En mi opinión, guarde sus $ 65, omita el recorrido, y solo haga que uno de los barcos lo lleve a la isla con su propio almuerzo.\n",
      "🔹 Limpio:   deer uno viaje decidir despu de ir a mazatlan durante ano y ano hacer uno recorrido por deer island mi impresion del viaje poder no ser algo sobre él que escribir salir alrededor de el y entendi que regresariamos salir de el isla alrededor de el pm estar equivocado comenzar con uno breve recorrido por el bahia y luego yo dirigir a deer island el viaje ser agradable y él servir bebida llegar a el isla y procedi a mirar alrededor habia varios persona en el playa comencir uno conversacion con uno senora de estonia él y su hijo tomar uno bote desde mazatlar él costo us y su hijo viajar gratis pense que ser uno oferta bastante buen ya que nuestro recorrido él facturo a dolar que incluiar el almuerzo el almuerzo no ser nada del otro mundo el fruta ser excelente y ese ser el mejor parte del almuerzo no valer el pena escribir sobre el resto entonces despues del almuerzo pensar en visitar el playa etc pensar que tener mucho tiempo para explorar asi que bajar hasta el final de el playa bueno casi yo perdar el bote alrededor de el el persona en el recorrido ser detener y regresar al bote como estar en el playa alguien tener que ir detra de mi para traer yo de regreso en mi opinion guardar su omita el recorrido y solo hacer que uno de el barco él llevar a el isla con su propio almuerzo\n",
      "📊 Probabilidad: 0.284\n",
      "📉 Reducción: 1415 → 1294 caracteres (8.6%)\n",
      "--------------------------------------------------------------------------------\n",
      "\n",
      "📄 EJEMPLO 13 - Tópico: Excursiones\n",
      "🔸 Original: Día de crucero. Visitamos aquí en un crucero y habíamos considerado hacer una excursión organizada, pero decidimos caminar hasta el centro, dirigidos por los guías locales en azul. Estas personas son absolutamente increíbles y te dan una idea real del lugar, nada es demasiado problema y sus consejos sobre comidas y bebidas son acertados. Absolutamente volveríamos a visitar y estamos destrozados, no teníamos más tiempo.\n",
      "🔹 Limpio:   dia de crucero visitar aqui en uno crucero y hab considerar hacer uno excursion pero decidir caminar hasta el centro dirigido por el guia en azul este persona ser absolutamente y tú dar uno idea del lugar nada ser demasiado problema y su consejo sobre comida y bebida ser absolutamente volveriamos a visitar y estar no teniamos mas tiempo\n",
      "📊 Probabilidad: 0.285\n",
      "📉 Reducción: 422 → 338 caracteres (19.9%)\n",
      "--------------------------------------------------------------------------------\n",
      "\n",
      "📄 EJEMPLO 14 - Tópico: Gastronomía\n",
      "🔸 Original: Me encanta esta Plaza!. Tantas cosas pasando. Muy divertido y festivo. ¡Me encantan todos los vendedores y el gran entretenimiento! ¡Muy divertido! ¡Qué plaza tan hermosa y la gente es tan maravillosa!.\n",
      "🔹 Limpio:   yo encantar este plaza cosa pasar mucho y yo encantar todo el vendedor y el entretenimiento mucho que plazar tanto y el gente ser tanto\n",
      "📊 Probabilidad: 0.618\n",
      "📉 Reducción: 202 → 135 caracteres (33.2%)\n",
      "--------------------------------------------------------------------------------\n",
      "\n",
      "📄 EJEMPLO 15 - Tópico: Gastronomía\n",
      "🔸 Original: Espectacular. Todo me Encanto. Las comidas el acuario, Las compa en el mercado el ambiente en la playa incredible si quieres divertirte este es el lugar. Lo mejor de todo el faro y el malecon fabulosas vistas para fotos.\n",
      "🔹 Limpio:   todo yo encantar el comida el acuario el compa en el mercado el ambiente en el playa incredible si querer divertirte este ser el lugar él mejor de todo el faro y el malecon fabulosas vistas para foto\n",
      "📊 Probabilidad: 0.504\n",
      "📉 Reducción: 220 → 199 caracteres (9.5%)\n",
      "--------------------------------------------------------------------------------\n",
      "\n",
      "📄 EJEMPLO 16 - Tópico: Transporte Marítimo\n",
      "🔸 Original: Isla de piedra. Bonito paseo y estancia, se debe de ir preparado por ropa cómoda y bebidas. y buen clima pues el barco se mueve mucho.\n",
      "🔹 Limpio:   isla de piedra paseo y estancia él deber de ir por ropa y bebida y climar pues el barco él mover mucho\n",
      "📊 Probabilidad: 0.677\n",
      "📉 Reducción: 134 → 102 caracteres (23.9%)\n",
      "--------------------------------------------------------------------------------\n",
      "\n",
      "📄 EJEMPLO 17 - Tópico: Playas\n",
      "🔸 Original: Buena playa. Playa realmente fresca, grandes olas y mucho espacio para relajarse. Gran restaurante en el lado norte.\n",
      "🔹 Limpio:   playa playa realmente ola y mucho espacio para relajar él restaurante en el lado\n",
      "📊 Probabilidad: 0.838\n",
      "📉 Reducción: 116 → 80 caracteres (31.0%)\n",
      "--------------------------------------------------------------------------------\n",
      "\n",
      "📄 EJEMPLO 18 - Tópico: Patrimonio\n",
      "🔸 Original: Una experiencia hermosa y santa. Me siento muy agradecido de haber podido visitar esta hermosa iglesia y ofrecer una donación de diezmos. No he dejado de pensar en mi experiencia. Había puesto todo el dinero en efectivo que llevaba en la caja de donaciones en el frente de la iglesia. A una cuadra de distancia, pasé junto a una señora, que estaba apoyada en un rincón sentada en la calle sosteniendo una taza. Ella me miró a los ojos y mi corazón se hundió. No tenía nada que poner en su taza. Estoy tan enojado conmigo mismo por no volver, o encontrar un cajero automático o algo que hacer para ayudarla. Si te diriges en esa dirección, tenla en mente y en tu corazón y guarda algo para ella. Te prometo que alegrará tu día. No te la puedes perder, probablemente tenga más de 90 años y pese alrededor de 60 libras. Sus ojos están nublados, pero puede mirar fijamente a tu corazón y alma. No hagas lo que hice yo, te arrepentirás profundamente. Gracias.\n",
      "🔹 Limpio:   uno experiencia y yo sentir mucho de haber poder visitar este iglesia y ofrecer uno donacion de diezmos no haber dejar de pensar en mi experiencia habio puesto todo el dinero en efectivo que llevar en el caja de donación en el frente de el iglesia a uno cuadra de distancia pasar a uno senora que estar en uno rincon en el calle sostener uno taza él yo mirar a el ojo y mi corazon él hundir no teniar nada que poner en su taza estar tanto conmigo mismo por no volver o encontrar uno cajero o algo que hacer para ayudar él si tú diriges en ese direccion tenla en mente y en tu corazon y guardar algo para él tú prometer que alegrar tu dia no tú él poder perder probablemente tener mas de ano y pese alrededor de libra su ojo estar pero poder mirar fijamente a tu corazon y alma no hagar él que hacer yo tú arrepentirar profundamente gracia\n",
      "📊 Probabilidad: 0.557\n",
      "📉 Reducción: 954 → 838 caracteres (12.2%)\n",
      "--------------------------------------------------------------------------------\n",
      "\n",
      "📄 EJEMPLO 19 - Tópico: Playas\n",
      "🔸 Original: Impresionante .. Amplia, hermosa playa. Tan refrescante para simplemente detenerse, hacer una pausa y apreciar esta maravillosa experiencia. Increíble puesta de sol .. pero hay un montón de desarrollos de condominios / hoteles en proceso, así que esta hermosa playa no será tranquila por mucho más tiempo.\n",
      "🔹 Limpio:   amplio playa tanto para simplemente detener él hacer uno pausa y apreciar este experiencia puesto de sol pero haber uno monton de desarrollo de condominio hotel en proceso asi que este playa no serar por mucho mas tiempo\n",
      "📊 Probabilidad: 0.348\n",
      "📉 Reducción: 305 → 220 caracteres (27.9%)\n",
      "--------------------------------------------------------------------------------\n",
      "\n",
      "📄 EJEMPLO 20 - Tópico: Actividades\n",
      "🔸 Original: ACUARIO DE MAZATLAN. Si van en familia...Les Recomiendo que lleven a sus hijos,chicos o grandes es familiar,van a tener una gran experiencia.\n",
      "🔹 Limpio:   acuario de mazatlan si ir en familia él recomeir que llevar a su hijo chico o grande ser familiar ir a tener uno gran experiencia\n",
      "📊 Probabilidad: 0.643\n",
      "📉 Reducción: 141 → 129 caracteres (8.5%)\n",
      "--------------------------------------------------------------------------------\n"
     ]
    }
   ],
   "source": [
    "# ===== COMPARACIÓN TEXTO ORIGINAL VS TEXTO LIMPIO =====\n",
    "if 'TituloReviewLimpio' in df_con_topicos.columns:\n",
    "    print(f\"🔍 Comparación de ejemplos - Original vs Limpio ({CIUDAD_ANALIZAR}):\")\n",
    "    print(\"=\" * 80)\n",
    "    \n",
    "    # Seleccionar algunos ejemplos para mostrar la diferencia\n",
    "    ejemplos_muestra = df_con_topicos.sample(n=min(20, len(df_con_topicos)))\n",
    "    \n",
    "    for i, (_, row) in enumerate(ejemplos_muestra.iterrows(), 1):\n",
    "        print(f\"\\n📄 EJEMPLO {i} - Tópico: {row['Topico_Nombre']}\")\n",
    "        print(f\"🔸 Original: {row['TituloReview']}\")\n",
    "        print(f\"🔹 Limpio:   {row['TituloReviewLimpio']}\")\n",
    "        print(f\"📊 Probabilidad: {row['Probabilidad_Topico']:.3f}\")\n",
    "        \n",
    "        # Calcular estadísticas del ejemplo\n",
    "        len_orig = len(str(row['TituloReview']))\n",
    "        len_limpio = len(str(row['TituloReviewLimpio']))\n",
    "        reduccion = ((len_orig-len_limpio)/len_orig*100) if len_orig > 0 else 0\n",
    "        print(f\"📉 Reducción: {len_orig} → {len_limpio} caracteres ({reduccion:.1f}%)\")\n",
    "        print(\"-\" * 80)"
   ]
  },
  {
   "cell_type": "code",
   "execution_count": 18,
   "id": "a58f52cf",
   "metadata": {},
   "outputs": [
    {
     "data": {
      "application/vnd.plotly.v1+json": {
       "config": {
        "plotlyServerURL": "https://plot.ly"
       },
       "data": [
        {
         "marker": {
          "color": "#D55E00"
         },
         "orientation": "h",
         "type": "bar",
         "x": {
          "bdata": "YfNYPFZ2YTwZz5g8vFagPLlcrjw=",
          "dtype": "f4"
         },
         "xaxis": "x",
         "y": [
          "banda",
          "pasar",
          "vendedor",
          "encantar",
          "ambiente"
         ],
         "yaxis": "y"
        },
        {
         "marker": {
          "color": "#0072B2"
         },
         "orientation": "h",
         "type": "bar",
         "x": {
          "bdata": "zRWFPKRQmzwAqaA8SG6oPB97xTw=",
          "dtype": "f4"
         },
         "xaxis": "x2",
         "y": [
          "cerrito",
          "nadar",
          "bruja",
          "playa",
          "ola"
         ],
         "yaxis": "y2"
        },
        {
         "marker": {
          "color": "#CC79A7"
         },
         "orientation": "h",
         "type": "bar",
         "x": {
          "bdata": "b6JUPJHpXjxKDns8xhCiPByl4Tw=",
          "dtype": "f4"
         },
         "xaxis": "x3",
         "y": [
          "lancha",
          "bote",
          "persona",
          "bebida",
          "isla"
         ],
         "yaxis": "y3"
        },
        {
         "marker": {
          "color": "#E69F00"
         },
         "orientation": "h",
         "type": "bar",
         "x": {
          "bdata": "Rq2HPI2rlzy4Fak88iy+PMVN6zw=",
          "dtype": "f4"
         },
         "xaxis": "x4",
         "y": [
          "musico",
          "interior",
          "arquitectura",
          "iglesia",
          "catedral"
         ],
         "yaxis": "y4"
        },
        {
         "marker": {
          "color": "#56B4E9"
         },
         "orientation": "h",
         "type": "bar",
         "x": {
          "bdata": "5mNnPFuNbDx8GJU84SGZPNVgvjw=",
          "dtype": "f4"
         },
         "xaxis": "x5",
         "y": [
          "deer",
          "kayak",
          "pulmonia",
          "crucero",
          "excursion"
         ],
         "yaxis": "y5"
        },
        {
         "marker": {
          "color": "#009E73"
         },
         "orientation": "h",
         "type": "bar",
         "x": {
          "bdata": "sg+VPFkqozzNd6Q8qUSvPHxcszw=",
          "dtype": "f4"
         },
         "xaxis": "x6",
         "y": [
          "puente",
          "subir",
          "caminata",
          "faro",
          "cristal"
         ],
         "yaxis": "y6"
        },
        {
         "marker": {
          "color": "#F0E442"
         },
         "orientation": "h",
         "type": "bar",
         "x": {
          "bdata": "vux2PCJ3fTwxOYs8+xmePLw3qjw=",
          "dtype": "f4"
         },
         "xaxis": "x7",
         "y": [
          "historico",
          "edificio",
          "viejo",
          "centro",
          "mercado"
         ],
         "yaxis": "y7"
        },
        {
         "marker": {
          "color": "#D55E00"
         },
         "orientation": "h",
         "type": "bar",
         "x": {
          "bdata": "nlh+PJQwgTxpUYc8tKjEPJux3Tw=",
          "dtype": "f4"
         },
         "xaxis": "x8",
         "y": [
          "precio",
          "animal",
          "pinguino",
          "espectaculo",
          "acuario"
         ],
         "yaxis": "y8"
        }
       ],
       "layout": {
        "annotations": [
         {
          "font": {
           "size": 16
          },
          "showarrow": false,
          "text": "Topic 7",
          "x": 0.0875,
          "xanchor": "center",
          "xref": "paper",
          "y": 1,
          "yanchor": "bottom",
          "yref": "paper"
         },
         {
          "font": {
           "size": 16
          },
          "showarrow": false,
          "text": "Topic 0",
          "x": 0.36250000000000004,
          "xanchor": "center",
          "xref": "paper",
          "y": 1,
          "yanchor": "bottom",
          "yref": "paper"
         },
         {
          "font": {
           "size": 16
          },
          "showarrow": false,
          "text": "Topic 8",
          "x": 0.6375000000000001,
          "xanchor": "center",
          "xref": "paper",
          "y": 1,
          "yanchor": "bottom",
          "yref": "paper"
         },
         {
          "font": {
           "size": 16
          },
          "showarrow": false,
          "text": "Topic 5",
          "x": 0.9125,
          "xanchor": "center",
          "xref": "paper",
          "y": 1,
          "yanchor": "bottom",
          "yref": "paper"
         },
         {
          "font": {
           "size": 16
          },
          "showarrow": false,
          "text": "Topic 1",
          "x": 0.0875,
          "xanchor": "center",
          "xref": "paper",
          "y": 0.375,
          "yanchor": "bottom",
          "yref": "paper"
         },
         {
          "font": {
           "size": 16
          },
          "showarrow": false,
          "text": "Topic 2",
          "x": 0.36250000000000004,
          "xanchor": "center",
          "xref": "paper",
          "y": 0.375,
          "yanchor": "bottom",
          "yref": "paper"
         },
         {
          "font": {
           "size": 16
          },
          "showarrow": false,
          "text": "Topic 6",
          "x": 0.6375000000000001,
          "xanchor": "center",
          "xref": "paper",
          "y": 0.375,
          "yanchor": "bottom",
          "yref": "paper"
         },
         {
          "font": {
           "size": 16
          },
          "showarrow": false,
          "text": "Topic 4",
          "x": 0.9125,
          "xanchor": "center",
          "xref": "paper",
          "y": 0.375,
          "yanchor": "bottom",
          "yref": "paper"
         }
        ],
        "height": 500,
        "hoverlabel": {
         "bgcolor": "white",
         "font": {
          "family": "Rockwell",
          "size": 16
         }
        },
        "showlegend": false,
        "template": {
         "data": {
          "bar": [
           {
            "error_x": {
             "color": "#2a3f5f"
            },
            "error_y": {
             "color": "#2a3f5f"
            },
            "marker": {
             "line": {
              "color": "white",
              "width": 0.5
             },
             "pattern": {
              "fillmode": "overlay",
              "size": 10,
              "solidity": 0.2
             }
            },
            "type": "bar"
           }
          ],
          "barpolar": [
           {
            "marker": {
             "line": {
              "color": "white",
              "width": 0.5
             },
             "pattern": {
              "fillmode": "overlay",
              "size": 10,
              "solidity": 0.2
             }
            },
            "type": "barpolar"
           }
          ],
          "carpet": [
           {
            "aaxis": {
             "endlinecolor": "#2a3f5f",
             "gridcolor": "#C8D4E3",
             "linecolor": "#C8D4E3",
             "minorgridcolor": "#C8D4E3",
             "startlinecolor": "#2a3f5f"
            },
            "baxis": {
             "endlinecolor": "#2a3f5f",
             "gridcolor": "#C8D4E3",
             "linecolor": "#C8D4E3",
             "minorgridcolor": "#C8D4E3",
             "startlinecolor": "#2a3f5f"
            },
            "type": "carpet"
           }
          ],
          "choropleth": [
           {
            "colorbar": {
             "outlinewidth": 0,
             "ticks": ""
            },
            "type": "choropleth"
           }
          ],
          "contour": [
           {
            "colorbar": {
             "outlinewidth": 0,
             "ticks": ""
            },
            "colorscale": [
             [
              0,
              "#0d0887"
             ],
             [
              0.1111111111111111,
              "#46039f"
             ],
             [
              0.2222222222222222,
              "#7201a8"
             ],
             [
              0.3333333333333333,
              "#9c179e"
             ],
             [
              0.4444444444444444,
              "#bd3786"
             ],
             [
              0.5555555555555556,
              "#d8576b"
             ],
             [
              0.6666666666666666,
              "#ed7953"
             ],
             [
              0.7777777777777778,
              "#fb9f3a"
             ],
             [
              0.8888888888888888,
              "#fdca26"
             ],
             [
              1,
              "#f0f921"
             ]
            ],
            "type": "contour"
           }
          ],
          "contourcarpet": [
           {
            "colorbar": {
             "outlinewidth": 0,
             "ticks": ""
            },
            "type": "contourcarpet"
           }
          ],
          "heatmap": [
           {
            "colorbar": {
             "outlinewidth": 0,
             "ticks": ""
            },
            "colorscale": [
             [
              0,
              "#0d0887"
             ],
             [
              0.1111111111111111,
              "#46039f"
             ],
             [
              0.2222222222222222,
              "#7201a8"
             ],
             [
              0.3333333333333333,
              "#9c179e"
             ],
             [
              0.4444444444444444,
              "#bd3786"
             ],
             [
              0.5555555555555556,
              "#d8576b"
             ],
             [
              0.6666666666666666,
              "#ed7953"
             ],
             [
              0.7777777777777778,
              "#fb9f3a"
             ],
             [
              0.8888888888888888,
              "#fdca26"
             ],
             [
              1,
              "#f0f921"
             ]
            ],
            "type": "heatmap"
           }
          ],
          "histogram": [
           {
            "marker": {
             "pattern": {
              "fillmode": "overlay",
              "size": 10,
              "solidity": 0.2
             }
            },
            "type": "histogram"
           }
          ],
          "histogram2d": [
           {
            "colorbar": {
             "outlinewidth": 0,
             "ticks": ""
            },
            "colorscale": [
             [
              0,
              "#0d0887"
             ],
             [
              0.1111111111111111,
              "#46039f"
             ],
             [
              0.2222222222222222,
              "#7201a8"
             ],
             [
              0.3333333333333333,
              "#9c179e"
             ],
             [
              0.4444444444444444,
              "#bd3786"
             ],
             [
              0.5555555555555556,
              "#d8576b"
             ],
             [
              0.6666666666666666,
              "#ed7953"
             ],
             [
              0.7777777777777778,
              "#fb9f3a"
             ],
             [
              0.8888888888888888,
              "#fdca26"
             ],
             [
              1,
              "#f0f921"
             ]
            ],
            "type": "histogram2d"
           }
          ],
          "histogram2dcontour": [
           {
            "colorbar": {
             "outlinewidth": 0,
             "ticks": ""
            },
            "colorscale": [
             [
              0,
              "#0d0887"
             ],
             [
              0.1111111111111111,
              "#46039f"
             ],
             [
              0.2222222222222222,
              "#7201a8"
             ],
             [
              0.3333333333333333,
              "#9c179e"
             ],
             [
              0.4444444444444444,
              "#bd3786"
             ],
             [
              0.5555555555555556,
              "#d8576b"
             ],
             [
              0.6666666666666666,
              "#ed7953"
             ],
             [
              0.7777777777777778,
              "#fb9f3a"
             ],
             [
              0.8888888888888888,
              "#fdca26"
             ],
             [
              1,
              "#f0f921"
             ]
            ],
            "type": "histogram2dcontour"
           }
          ],
          "mesh3d": [
           {
            "colorbar": {
             "outlinewidth": 0,
             "ticks": ""
            },
            "type": "mesh3d"
           }
          ],
          "parcoords": [
           {
            "line": {
             "colorbar": {
              "outlinewidth": 0,
              "ticks": ""
             }
            },
            "type": "parcoords"
           }
          ],
          "pie": [
           {
            "automargin": true,
            "type": "pie"
           }
          ],
          "scatter": [
           {
            "fillpattern": {
             "fillmode": "overlay",
             "size": 10,
             "solidity": 0.2
            },
            "type": "scatter"
           }
          ],
          "scatter3d": [
           {
            "line": {
             "colorbar": {
              "outlinewidth": 0,
              "ticks": ""
             }
            },
            "marker": {
             "colorbar": {
              "outlinewidth": 0,
              "ticks": ""
             }
            },
            "type": "scatter3d"
           }
          ],
          "scattercarpet": [
           {
            "marker": {
             "colorbar": {
              "outlinewidth": 0,
              "ticks": ""
             }
            },
            "type": "scattercarpet"
           }
          ],
          "scattergeo": [
           {
            "marker": {
             "colorbar": {
              "outlinewidth": 0,
              "ticks": ""
             }
            },
            "type": "scattergeo"
           }
          ],
          "scattergl": [
           {
            "marker": {
             "colorbar": {
              "outlinewidth": 0,
              "ticks": ""
             }
            },
            "type": "scattergl"
           }
          ],
          "scattermap": [
           {
            "marker": {
             "colorbar": {
              "outlinewidth": 0,
              "ticks": ""
             }
            },
            "type": "scattermap"
           }
          ],
          "scattermapbox": [
           {
            "marker": {
             "colorbar": {
              "outlinewidth": 0,
              "ticks": ""
             }
            },
            "type": "scattermapbox"
           }
          ],
          "scatterpolar": [
           {
            "marker": {
             "colorbar": {
              "outlinewidth": 0,
              "ticks": ""
             }
            },
            "type": "scatterpolar"
           }
          ],
          "scatterpolargl": [
           {
            "marker": {
             "colorbar": {
              "outlinewidth": 0,
              "ticks": ""
             }
            },
            "type": "scatterpolargl"
           }
          ],
          "scatterternary": [
           {
            "marker": {
             "colorbar": {
              "outlinewidth": 0,
              "ticks": ""
             }
            },
            "type": "scatterternary"
           }
          ],
          "surface": [
           {
            "colorbar": {
             "outlinewidth": 0,
             "ticks": ""
            },
            "colorscale": [
             [
              0,
              "#0d0887"
             ],
             [
              0.1111111111111111,
              "#46039f"
             ],
             [
              0.2222222222222222,
              "#7201a8"
             ],
             [
              0.3333333333333333,
              "#9c179e"
             ],
             [
              0.4444444444444444,
              "#bd3786"
             ],
             [
              0.5555555555555556,
              "#d8576b"
             ],
             [
              0.6666666666666666,
              "#ed7953"
             ],
             [
              0.7777777777777778,
              "#fb9f3a"
             ],
             [
              0.8888888888888888,
              "#fdca26"
             ],
             [
              1,
              "#f0f921"
             ]
            ],
            "type": "surface"
           }
          ],
          "table": [
           {
            "cells": {
             "fill": {
              "color": "#EBF0F8"
             },
             "line": {
              "color": "white"
             }
            },
            "header": {
             "fill": {
              "color": "#C8D4E3"
             },
             "line": {
              "color": "white"
             }
            },
            "type": "table"
           }
          ]
         },
         "layout": {
          "annotationdefaults": {
           "arrowcolor": "#2a3f5f",
           "arrowhead": 0,
           "arrowwidth": 1
          },
          "autotypenumbers": "strict",
          "coloraxis": {
           "colorbar": {
            "outlinewidth": 0,
            "ticks": ""
           }
          },
          "colorscale": {
           "diverging": [
            [
             0,
             "#8e0152"
            ],
            [
             0.1,
             "#c51b7d"
            ],
            [
             0.2,
             "#de77ae"
            ],
            [
             0.3,
             "#f1b6da"
            ],
            [
             0.4,
             "#fde0ef"
            ],
            [
             0.5,
             "#f7f7f7"
            ],
            [
             0.6,
             "#e6f5d0"
            ],
            [
             0.7,
             "#b8e186"
            ],
            [
             0.8,
             "#7fbc41"
            ],
            [
             0.9,
             "#4d9221"
            ],
            [
             1,
             "#276419"
            ]
           ],
           "sequential": [
            [
             0,
             "#0d0887"
            ],
            [
             0.1111111111111111,
             "#46039f"
            ],
            [
             0.2222222222222222,
             "#7201a8"
            ],
            [
             0.3333333333333333,
             "#9c179e"
            ],
            [
             0.4444444444444444,
             "#bd3786"
            ],
            [
             0.5555555555555556,
             "#d8576b"
            ],
            [
             0.6666666666666666,
             "#ed7953"
            ],
            [
             0.7777777777777778,
             "#fb9f3a"
            ],
            [
             0.8888888888888888,
             "#fdca26"
            ],
            [
             1,
             "#f0f921"
            ]
           ],
           "sequentialminus": [
            [
             0,
             "#0d0887"
            ],
            [
             0.1111111111111111,
             "#46039f"
            ],
            [
             0.2222222222222222,
             "#7201a8"
            ],
            [
             0.3333333333333333,
             "#9c179e"
            ],
            [
             0.4444444444444444,
             "#bd3786"
            ],
            [
             0.5555555555555556,
             "#d8576b"
            ],
            [
             0.6666666666666666,
             "#ed7953"
            ],
            [
             0.7777777777777778,
             "#fb9f3a"
            ],
            [
             0.8888888888888888,
             "#fdca26"
            ],
            [
             1,
             "#f0f921"
            ]
           ]
          },
          "colorway": [
           "#636efa",
           "#EF553B",
           "#00cc96",
           "#ab63fa",
           "#FFA15A",
           "#19d3f3",
           "#FF6692",
           "#B6E880",
           "#FF97FF",
           "#FECB52"
          ],
          "font": {
           "color": "#2a3f5f"
          },
          "geo": {
           "bgcolor": "white",
           "lakecolor": "white",
           "landcolor": "white",
           "showlakes": true,
           "showland": true,
           "subunitcolor": "#C8D4E3"
          },
          "hoverlabel": {
           "align": "left"
          },
          "hovermode": "closest",
          "mapbox": {
           "style": "light"
          },
          "paper_bgcolor": "white",
          "plot_bgcolor": "white",
          "polar": {
           "angularaxis": {
            "gridcolor": "#EBF0F8",
            "linecolor": "#EBF0F8",
            "ticks": ""
           },
           "bgcolor": "white",
           "radialaxis": {
            "gridcolor": "#EBF0F8",
            "linecolor": "#EBF0F8",
            "ticks": ""
           }
          },
          "scene": {
           "xaxis": {
            "backgroundcolor": "white",
            "gridcolor": "#DFE8F3",
            "gridwidth": 2,
            "linecolor": "#EBF0F8",
            "showbackground": true,
            "ticks": "",
            "zerolinecolor": "#EBF0F8"
           },
           "yaxis": {
            "backgroundcolor": "white",
            "gridcolor": "#DFE8F3",
            "gridwidth": 2,
            "linecolor": "#EBF0F8",
            "showbackground": true,
            "ticks": "",
            "zerolinecolor": "#EBF0F8"
           },
           "zaxis": {
            "backgroundcolor": "white",
            "gridcolor": "#DFE8F3",
            "gridwidth": 2,
            "linecolor": "#EBF0F8",
            "showbackground": true,
            "ticks": "",
            "zerolinecolor": "#EBF0F8"
           }
          },
          "shapedefaults": {
           "line": {
            "color": "#2a3f5f"
           }
          },
          "ternary": {
           "aaxis": {
            "gridcolor": "#DFE8F3",
            "linecolor": "#A2B1C6",
            "ticks": ""
           },
           "baxis": {
            "gridcolor": "#DFE8F3",
            "linecolor": "#A2B1C6",
            "ticks": ""
           },
           "bgcolor": "white",
           "caxis": {
            "gridcolor": "#DFE8F3",
            "linecolor": "#A2B1C6",
            "ticks": ""
           }
          },
          "title": {
           "x": 0.05
          },
          "xaxis": {
           "automargin": true,
           "gridcolor": "#EBF0F8",
           "linecolor": "#EBF0F8",
           "ticks": "",
           "title": {
            "standoff": 15
           },
           "zerolinecolor": "#EBF0F8",
           "zerolinewidth": 2
          },
          "yaxis": {
           "automargin": true,
           "gridcolor": "#EBF0F8",
           "linecolor": "#EBF0F8",
           "ticks": "",
           "title": {
            "standoff": 15
           },
           "zerolinecolor": "#EBF0F8",
           "zerolinewidth": 2
          }
         }
        },
        "title": {
         "text": "Palabras Principales por Tópico - Mazatlan"
        },
        "width": 1000,
        "xaxis": {
         "anchor": "y",
         "domain": [
          0,
          0.175
         ],
         "showgrid": true
        },
        "xaxis2": {
         "anchor": "y2",
         "domain": [
          0.275,
          0.45
         ],
         "showgrid": true
        },
        "xaxis3": {
         "anchor": "y3",
         "domain": [
          0.55,
          0.7250000000000001
         ],
         "showgrid": true
        },
        "xaxis4": {
         "anchor": "y4",
         "domain": [
          0.825,
          1
         ],
         "showgrid": true
        },
        "xaxis5": {
         "anchor": "y5",
         "domain": [
          0,
          0.175
         ],
         "showgrid": true
        },
        "xaxis6": {
         "anchor": "y6",
         "domain": [
          0.275,
          0.45
         ],
         "showgrid": true
        },
        "xaxis7": {
         "anchor": "y7",
         "domain": [
          0.55,
          0.7250000000000001
         ],
         "showgrid": true
        },
        "xaxis8": {
         "anchor": "y8",
         "domain": [
          0.825,
          1
         ],
         "showgrid": true
        },
        "yaxis": {
         "anchor": "x",
         "domain": [
          0.625,
          1
         ],
         "showgrid": true
        },
        "yaxis2": {
         "anchor": "x2",
         "domain": [
          0.625,
          1
         ],
         "showgrid": true
        },
        "yaxis3": {
         "anchor": "x3",
         "domain": [
          0.625,
          1
         ],
         "showgrid": true
        },
        "yaxis4": {
         "anchor": "x4",
         "domain": [
          0.625,
          1
         ],
         "showgrid": true
        },
        "yaxis5": {
         "anchor": "x5",
         "domain": [
          0,
          0.375
         ],
         "showgrid": true
        },
        "yaxis6": {
         "anchor": "x6",
         "domain": [
          0,
          0.375
         ],
         "showgrid": true
        },
        "yaxis7": {
         "anchor": "x7",
         "domain": [
          0,
          0.375
         ],
         "showgrid": true
        },
        "yaxis8": {
         "anchor": "x8",
         "domain": [
          0,
          0.375
         ],
         "showgrid": true
        }
       }
      }
     },
     "metadata": {},
     "output_type": "display_data"
    },
    {
     "data": {
      "application/vnd.plotly.v1+json": {
       "config": {
        "plotlyServerURL": "https://plot.ly"
       },
       "data": [
        {
         "marker": {
          "color": "#C8D2D7",
          "line": {
           "color": "#6E8484",
           "width": 1
          }
         },
         "orientation": "h",
         "type": "bar",
         "x": [
          0.07379119098186493,
          0.08011916279792786,
          0.08982427418231964,
          0.09035226702690125,
          0.09037408977746964,
          0.10515528172254562,
          0.14993558824062347,
          0.15490970015525818,
          0.16553843021392822
         ],
         "y": [
          "3_padre_manejar_cerrar_veiar_llenar",
          "4_acuario_espectaculo_pinguino_animal_precio",
          "6_mercado_centro_viejo_edificio_historico",
          "2_cristal_faro_caminata_subir_puente",
          "1_excursion_crucero_pulmonia_kayak_deer",
          "5_catedral_iglesia_arquitectura_interior_musico",
          "8_isla_bebida_persona_bote_lancha",
          "0_ola_playa_bruja_nadar_cerrito",
          "7_ambiente_encantar_vendedor_pasar_banda"
         ]
        }
       ],
       "layout": {
        "height": 1000,
        "hoverlabel": {
         "bgcolor": "white",
         "font": {
          "family": "Rockwell",
          "size": 16
         }
        },
        "template": {
         "data": {
          "bar": [
           {
            "error_x": {
             "color": "rgb(36,36,36)"
            },
            "error_y": {
             "color": "rgb(36,36,36)"
            },
            "marker": {
             "line": {
              "color": "white",
              "width": 0.5
             },
             "pattern": {
              "fillmode": "overlay",
              "size": 10,
              "solidity": 0.2
             }
            },
            "type": "bar"
           }
          ],
          "barpolar": [
           {
            "marker": {
             "line": {
              "color": "white",
              "width": 0.5
             },
             "pattern": {
              "fillmode": "overlay",
              "size": 10,
              "solidity": 0.2
             }
            },
            "type": "barpolar"
           }
          ],
          "carpet": [
           {
            "aaxis": {
             "endlinecolor": "rgb(36,36,36)",
             "gridcolor": "white",
             "linecolor": "white",
             "minorgridcolor": "white",
             "startlinecolor": "rgb(36,36,36)"
            },
            "baxis": {
             "endlinecolor": "rgb(36,36,36)",
             "gridcolor": "white",
             "linecolor": "white",
             "minorgridcolor": "white",
             "startlinecolor": "rgb(36,36,36)"
            },
            "type": "carpet"
           }
          ],
          "choropleth": [
           {
            "colorbar": {
             "outlinewidth": 1,
             "tickcolor": "rgb(36,36,36)",
             "ticks": "outside"
            },
            "type": "choropleth"
           }
          ],
          "contour": [
           {
            "colorbar": {
             "outlinewidth": 1,
             "tickcolor": "rgb(36,36,36)",
             "ticks": "outside"
            },
            "colorscale": [
             [
              0,
              "#440154"
             ],
             [
              0.1111111111111111,
              "#482878"
             ],
             [
              0.2222222222222222,
              "#3e4989"
             ],
             [
              0.3333333333333333,
              "#31688e"
             ],
             [
              0.4444444444444444,
              "#26828e"
             ],
             [
              0.5555555555555556,
              "#1f9e89"
             ],
             [
              0.6666666666666666,
              "#35b779"
             ],
             [
              0.7777777777777778,
              "#6ece58"
             ],
             [
              0.8888888888888888,
              "#b5de2b"
             ],
             [
              1,
              "#fde725"
             ]
            ],
            "type": "contour"
           }
          ],
          "contourcarpet": [
           {
            "colorbar": {
             "outlinewidth": 1,
             "tickcolor": "rgb(36,36,36)",
             "ticks": "outside"
            },
            "type": "contourcarpet"
           }
          ],
          "heatmap": [
           {
            "colorbar": {
             "outlinewidth": 1,
             "tickcolor": "rgb(36,36,36)",
             "ticks": "outside"
            },
            "colorscale": [
             [
              0,
              "#440154"
             ],
             [
              0.1111111111111111,
              "#482878"
             ],
             [
              0.2222222222222222,
              "#3e4989"
             ],
             [
              0.3333333333333333,
              "#31688e"
             ],
             [
              0.4444444444444444,
              "#26828e"
             ],
             [
              0.5555555555555556,
              "#1f9e89"
             ],
             [
              0.6666666666666666,
              "#35b779"
             ],
             [
              0.7777777777777778,
              "#6ece58"
             ],
             [
              0.8888888888888888,
              "#b5de2b"
             ],
             [
              1,
              "#fde725"
             ]
            ],
            "type": "heatmap"
           }
          ],
          "histogram": [
           {
            "marker": {
             "line": {
              "color": "white",
              "width": 0.6
             }
            },
            "type": "histogram"
           }
          ],
          "histogram2d": [
           {
            "colorbar": {
             "outlinewidth": 1,
             "tickcolor": "rgb(36,36,36)",
             "ticks": "outside"
            },
            "colorscale": [
             [
              0,
              "#440154"
             ],
             [
              0.1111111111111111,
              "#482878"
             ],
             [
              0.2222222222222222,
              "#3e4989"
             ],
             [
              0.3333333333333333,
              "#31688e"
             ],
             [
              0.4444444444444444,
              "#26828e"
             ],
             [
              0.5555555555555556,
              "#1f9e89"
             ],
             [
              0.6666666666666666,
              "#35b779"
             ],
             [
              0.7777777777777778,
              "#6ece58"
             ],
             [
              0.8888888888888888,
              "#b5de2b"
             ],
             [
              1,
              "#fde725"
             ]
            ],
            "type": "histogram2d"
           }
          ],
          "histogram2dcontour": [
           {
            "colorbar": {
             "outlinewidth": 1,
             "tickcolor": "rgb(36,36,36)",
             "ticks": "outside"
            },
            "colorscale": [
             [
              0,
              "#440154"
             ],
             [
              0.1111111111111111,
              "#482878"
             ],
             [
              0.2222222222222222,
              "#3e4989"
             ],
             [
              0.3333333333333333,
              "#31688e"
             ],
             [
              0.4444444444444444,
              "#26828e"
             ],
             [
              0.5555555555555556,
              "#1f9e89"
             ],
             [
              0.6666666666666666,
              "#35b779"
             ],
             [
              0.7777777777777778,
              "#6ece58"
             ],
             [
              0.8888888888888888,
              "#b5de2b"
             ],
             [
              1,
              "#fde725"
             ]
            ],
            "type": "histogram2dcontour"
           }
          ],
          "mesh3d": [
           {
            "colorbar": {
             "outlinewidth": 1,
             "tickcolor": "rgb(36,36,36)",
             "ticks": "outside"
            },
            "type": "mesh3d"
           }
          ],
          "parcoords": [
           {
            "line": {
             "colorbar": {
              "outlinewidth": 1,
              "tickcolor": "rgb(36,36,36)",
              "ticks": "outside"
             }
            },
            "type": "parcoords"
           }
          ],
          "pie": [
           {
            "automargin": true,
            "type": "pie"
           }
          ],
          "scatter": [
           {
            "fillpattern": {
             "fillmode": "overlay",
             "size": 10,
             "solidity": 0.2
            },
            "type": "scatter"
           }
          ],
          "scatter3d": [
           {
            "line": {
             "colorbar": {
              "outlinewidth": 1,
              "tickcolor": "rgb(36,36,36)",
              "ticks": "outside"
             }
            },
            "marker": {
             "colorbar": {
              "outlinewidth": 1,
              "tickcolor": "rgb(36,36,36)",
              "ticks": "outside"
             }
            },
            "type": "scatter3d"
           }
          ],
          "scattercarpet": [
           {
            "marker": {
             "colorbar": {
              "outlinewidth": 1,
              "tickcolor": "rgb(36,36,36)",
              "ticks": "outside"
             }
            },
            "type": "scattercarpet"
           }
          ],
          "scattergeo": [
           {
            "marker": {
             "colorbar": {
              "outlinewidth": 1,
              "tickcolor": "rgb(36,36,36)",
              "ticks": "outside"
             }
            },
            "type": "scattergeo"
           }
          ],
          "scattergl": [
           {
            "marker": {
             "colorbar": {
              "outlinewidth": 1,
              "tickcolor": "rgb(36,36,36)",
              "ticks": "outside"
             }
            },
            "type": "scattergl"
           }
          ],
          "scattermap": [
           {
            "marker": {
             "colorbar": {
              "outlinewidth": 1,
              "tickcolor": "rgb(36,36,36)",
              "ticks": "outside"
             }
            },
            "type": "scattermap"
           }
          ],
          "scattermapbox": [
           {
            "marker": {
             "colorbar": {
              "outlinewidth": 1,
              "tickcolor": "rgb(36,36,36)",
              "ticks": "outside"
             }
            },
            "type": "scattermapbox"
           }
          ],
          "scatterpolar": [
           {
            "marker": {
             "colorbar": {
              "outlinewidth": 1,
              "tickcolor": "rgb(36,36,36)",
              "ticks": "outside"
             }
            },
            "type": "scatterpolar"
           }
          ],
          "scatterpolargl": [
           {
            "marker": {
             "colorbar": {
              "outlinewidth": 1,
              "tickcolor": "rgb(36,36,36)",
              "ticks": "outside"
             }
            },
            "type": "scatterpolargl"
           }
          ],
          "scatterternary": [
           {
            "marker": {
             "colorbar": {
              "outlinewidth": 1,
              "tickcolor": "rgb(36,36,36)",
              "ticks": "outside"
             }
            },
            "type": "scatterternary"
           }
          ],
          "surface": [
           {
            "colorbar": {
             "outlinewidth": 1,
             "tickcolor": "rgb(36,36,36)",
             "ticks": "outside"
            },
            "colorscale": [
             [
              0,
              "#440154"
             ],
             [
              0.1111111111111111,
              "#482878"
             ],
             [
              0.2222222222222222,
              "#3e4989"
             ],
             [
              0.3333333333333333,
              "#31688e"
             ],
             [
              0.4444444444444444,
              "#26828e"
             ],
             [
              0.5555555555555556,
              "#1f9e89"
             ],
             [
              0.6666666666666666,
              "#35b779"
             ],
             [
              0.7777777777777778,
              "#6ece58"
             ],
             [
              0.8888888888888888,
              "#b5de2b"
             ],
             [
              1,
              "#fde725"
             ]
            ],
            "type": "surface"
           }
          ],
          "table": [
           {
            "cells": {
             "fill": {
              "color": "rgb(237,237,237)"
             },
             "line": {
              "color": "white"
             }
            },
            "header": {
             "fill": {
              "color": "rgb(217,217,217)"
             },
             "line": {
              "color": "white"
             }
            },
            "type": "table"
           }
          ]
         },
         "layout": {
          "annotationdefaults": {
           "arrowhead": 0,
           "arrowwidth": 1
          },
          "autotypenumbers": "strict",
          "coloraxis": {
           "colorbar": {
            "outlinewidth": 1,
            "tickcolor": "rgb(36,36,36)",
            "ticks": "outside"
           }
          },
          "colorscale": {
           "diverging": [
            [
             0,
             "rgb(103,0,31)"
            ],
            [
             0.1,
             "rgb(178,24,43)"
            ],
            [
             0.2,
             "rgb(214,96,77)"
            ],
            [
             0.3,
             "rgb(244,165,130)"
            ],
            [
             0.4,
             "rgb(253,219,199)"
            ],
            [
             0.5,
             "rgb(247,247,247)"
            ],
            [
             0.6,
             "rgb(209,229,240)"
            ],
            [
             0.7,
             "rgb(146,197,222)"
            ],
            [
             0.8,
             "rgb(67,147,195)"
            ],
            [
             0.9,
             "rgb(33,102,172)"
            ],
            [
             1,
             "rgb(5,48,97)"
            ]
           ],
           "sequential": [
            [
             0,
             "#440154"
            ],
            [
             0.1111111111111111,
             "#482878"
            ],
            [
             0.2222222222222222,
             "#3e4989"
            ],
            [
             0.3333333333333333,
             "#31688e"
            ],
            [
             0.4444444444444444,
             "#26828e"
            ],
            [
             0.5555555555555556,
             "#1f9e89"
            ],
            [
             0.6666666666666666,
             "#35b779"
            ],
            [
             0.7777777777777778,
             "#6ece58"
            ],
            [
             0.8888888888888888,
             "#b5de2b"
            ],
            [
             1,
             "#fde725"
            ]
           ],
           "sequentialminus": [
            [
             0,
             "#440154"
            ],
            [
             0.1111111111111111,
             "#482878"
            ],
            [
             0.2222222222222222,
             "#3e4989"
            ],
            [
             0.3333333333333333,
             "#31688e"
            ],
            [
             0.4444444444444444,
             "#26828e"
            ],
            [
             0.5555555555555556,
             "#1f9e89"
            ],
            [
             0.6666666666666666,
             "#35b779"
            ],
            [
             0.7777777777777778,
             "#6ece58"
            ],
            [
             0.8888888888888888,
             "#b5de2b"
            ],
            [
             1,
             "#fde725"
            ]
           ]
          },
          "colorway": [
           "#1F77B4",
           "#FF7F0E",
           "#2CA02C",
           "#D62728",
           "#9467BD",
           "#8C564B",
           "#E377C2",
           "#7F7F7F",
           "#BCBD22",
           "#17BECF"
          ],
          "font": {
           "color": "rgb(36,36,36)"
          },
          "geo": {
           "bgcolor": "white",
           "lakecolor": "white",
           "landcolor": "white",
           "showlakes": true,
           "showland": true,
           "subunitcolor": "white"
          },
          "hoverlabel": {
           "align": "left"
          },
          "hovermode": "closest",
          "mapbox": {
           "style": "light"
          },
          "paper_bgcolor": "white",
          "plot_bgcolor": "white",
          "polar": {
           "angularaxis": {
            "gridcolor": "rgb(232,232,232)",
            "linecolor": "rgb(36,36,36)",
            "showgrid": false,
            "showline": true,
            "ticks": "outside"
           },
           "bgcolor": "white",
           "radialaxis": {
            "gridcolor": "rgb(232,232,232)",
            "linecolor": "rgb(36,36,36)",
            "showgrid": false,
            "showline": true,
            "ticks": "outside"
           }
          },
          "scene": {
           "xaxis": {
            "backgroundcolor": "white",
            "gridcolor": "rgb(232,232,232)",
            "gridwidth": 2,
            "linecolor": "rgb(36,36,36)",
            "showbackground": true,
            "showgrid": false,
            "showline": true,
            "ticks": "outside",
            "zeroline": false,
            "zerolinecolor": "rgb(36,36,36)"
           },
           "yaxis": {
            "backgroundcolor": "white",
            "gridcolor": "rgb(232,232,232)",
            "gridwidth": 2,
            "linecolor": "rgb(36,36,36)",
            "showbackground": true,
            "showgrid": false,
            "showline": true,
            "ticks": "outside",
            "zeroline": false,
            "zerolinecolor": "rgb(36,36,36)"
           },
           "zaxis": {
            "backgroundcolor": "white",
            "gridcolor": "rgb(232,232,232)",
            "gridwidth": 2,
            "linecolor": "rgb(36,36,36)",
            "showbackground": true,
            "showgrid": false,
            "showline": true,
            "ticks": "outside",
            "zeroline": false,
            "zerolinecolor": "rgb(36,36,36)"
           }
          },
          "shapedefaults": {
           "fillcolor": "black",
           "line": {
            "width": 0
           },
           "opacity": 0.3
          },
          "ternary": {
           "aaxis": {
            "gridcolor": "rgb(232,232,232)",
            "linecolor": "rgb(36,36,36)",
            "showgrid": false,
            "showline": true,
            "ticks": "outside"
           },
           "baxis": {
            "gridcolor": "rgb(232,232,232)",
            "linecolor": "rgb(36,36,36)",
            "showgrid": false,
            "showline": true,
            "ticks": "outside"
           },
           "bgcolor": "white",
           "caxis": {
            "gridcolor": "rgb(232,232,232)",
            "linecolor": "rgb(36,36,36)",
            "showgrid": false,
            "showline": true,
            "ticks": "outside"
           }
          },
          "title": {
           "x": 0.05
          },
          "xaxis": {
           "automargin": true,
           "gridcolor": "rgb(232,232,232)",
           "linecolor": "rgb(36,36,36)",
           "showgrid": false,
           "showline": true,
           "ticks": "outside",
           "title": {
            "standoff": 15
           },
           "zeroline": false,
           "zerolinecolor": "rgb(36,36,36)"
          },
          "yaxis": {
           "automargin": true,
           "gridcolor": "rgb(232,232,232)",
           "linecolor": "rgb(36,36,36)",
           "showgrid": false,
           "showline": true,
           "ticks": "outside",
           "title": {
            "standoff": 15
           },
           "zeroline": false,
           "zerolinecolor": "rgb(36,36,36)"
          }
         }
        },
        "title": {
         "text": "Distribución de Pesos de Tópicos - Mazatlan"
        },
        "width": 1000,
        "xaxis": {
         "title": {
          "text": "Weight"
         }
        }
       }
      }
     },
     "metadata": {},
     "output_type": "display_data"
    },
    {
     "data": {
      "application/vnd.plotly.v1+json": {
       "config": {
        "plotlyServerURL": "https://plot.ly"
       },
       "data": [
        {
         "hoverinfo": "text",
         "marker": {
          "color": "rgb(0,116,217)"
         },
         "mode": "lines",
         "type": "scatter",
         "x": {
          "bdata": "AAAAAAAAAADZRfbybkIBQNlF9vJuQgFAAAAAAAAAAAA=",
          "dtype": "f8"
         },
         "xaxis": "x",
         "y": {
          "bdata": "AAAAAAAAFMAAAAAAAAAUwAAAAAAAAC7AAAAAAAAALsA=",
          "dtype": "f8"
         },
         "yaxis": "y"
        },
        {
         "hoverinfo": "text",
         "marker": {
          "color": "rgb(61,153,112)"
         },
         "mode": "lines",
         "type": "scatter",
         "x": {
          "bdata": "AAAAAAAAAAAN+XlwRrMAQA35eXBGswBAAAAAAAAAAAA=",
          "dtype": "f8"
         },
         "xaxis": "x",
         "y": {
          "bdata": "AAAAAACAQcAAAAAAAIBBwAAAAAAAgEbAAAAAAACARsA=",
          "dtype": "f8"
         },
         "yaxis": "y"
        },
        {
         "hoverinfo": "text",
         "marker": {
          "color": "rgb(0,116,217)"
         },
         "mode": "lines",
         "type": "scatter",
         "x": {
          "bdata": "AAAAAAAAAADal7Z/F8ABQNqXtn8XwAFADfl5cEazAEA=",
          "dtype": "f8"
         },
         "xaxis": "x",
         "y": {
          "bdata": "AAAAAAAAOcAAAAAAAAA5wAAAAAAAAETAAAAAAAAARMA=",
          "dtype": "f8"
         },
         "yaxis": "y"
        },
        {
         "hoverinfo": "text",
         "marker": {
          "color": "rgb(0,116,217)"
         },
         "mode": "lines",
         "type": "scatter",
         "x": {
          "bdata": "2pe2fxfAAUDNagbR4GoCQM1qBtHgagJAAAAAAAAAAAA=",
          "dtype": "f8"
         },
         "xaxis": "x",
         "y": {
          "bdata": "AAAAAABAQMAAAAAAAEBAwAAAAAAAgEvAAAAAAACAS8A=",
          "dtype": "f8"
         },
         "yaxis": "y"
        },
        {
         "hoverinfo": "text",
         "marker": {
          "color": "rgb(0,116,217)"
         },
         "mode": "lines",
         "type": "scatter",
         "x": {
          "bdata": "AAAAAAAAAADkzSmFg5cCQOTNKYWDlwJAAAAAAAAAAAA=",
          "dtype": "f8"
         },
         "xaxis": "x",
         "y": {
          "bdata": "AAAAAADAUsAAAAAAAMBSwAAAAAAAQFXAAAAAAABAVcA=",
          "dtype": "f8"
         },
         "yaxis": "y"
        },
        {
         "hoverinfo": "text",
         "marker": {
          "color": "rgb(0,116,217)"
         },
         "mode": "lines",
         "type": "scatter",
         "x": {
          "bdata": "AAAAAAAAAABATRYQQewDQEBNFhBB7ANA5M0phYOXAkA=",
          "dtype": "f8"
         },
         "xaxis": "x",
         "y": {
          "bdata": "AAAAAABAUMAAAAAAAEBQwAAAAAAAAFTAAAAAAAAAVMA=",
          "dtype": "f8"
         },
         "yaxis": "y"
        },
        {
         "hoverinfo": "text",
         "marker": {
          "color": "rgb(0,116,217)"
         },
         "mode": "lines",
         "type": "scatter",
         "x": {
          "bdata": "zWoG0eBqAkC3iMAwKrgGQLeIwDAquAZAQE0WEEHsA0A=",
          "dtype": "f8"
         },
         "xaxis": "x",
         "y": {
          "bdata": "AAAAAADgRcAAAAAAAOBFwAAAAAAAIFLAAAAAAAAgUsA=",
          "dtype": "f8"
         },
         "yaxis": "y"
        },
        {
         "hoverinfo": "text",
         "marker": {
          "color": "rgb(0,116,217)"
         },
         "mode": "lines",
         "type": "scatter",
         "x": {
          "bdata": "2UX28m5CAUCuRqmM1YoIQK5GqYzVighAt4jAMCq4BkA=",
          "dtype": "f8"
         },
         "xaxis": "x",
         "y": {
          "bdata": "AAAAAAAAJMAAAAAAAAAkwAAAAAAAEE3AAAAAAAAQTcA=",
          "dtype": "f8"
         },
         "yaxis": "y"
        }
       ],
       "layout": {
        "autosize": false,
        "height": 1000,
        "hovermode": "closest",
        "showlegend": false,
        "template": {
         "data": {
          "bar": [
           {
            "error_x": {
             "color": "#2a3f5f"
            },
            "error_y": {
             "color": "#2a3f5f"
            },
            "marker": {
             "line": {
              "color": "#E5ECF6",
              "width": 0.5
             },
             "pattern": {
              "fillmode": "overlay",
              "size": 10,
              "solidity": 0.2
             }
            },
            "type": "bar"
           }
          ],
          "barpolar": [
           {
            "marker": {
             "line": {
              "color": "#E5ECF6",
              "width": 0.5
             },
             "pattern": {
              "fillmode": "overlay",
              "size": 10,
              "solidity": 0.2
             }
            },
            "type": "barpolar"
           }
          ],
          "carpet": [
           {
            "aaxis": {
             "endlinecolor": "#2a3f5f",
             "gridcolor": "white",
             "linecolor": "white",
             "minorgridcolor": "white",
             "startlinecolor": "#2a3f5f"
            },
            "baxis": {
             "endlinecolor": "#2a3f5f",
             "gridcolor": "white",
             "linecolor": "white",
             "minorgridcolor": "white",
             "startlinecolor": "#2a3f5f"
            },
            "type": "carpet"
           }
          ],
          "choropleth": [
           {
            "colorbar": {
             "outlinewidth": 0,
             "ticks": ""
            },
            "type": "choropleth"
           }
          ],
          "contour": [
           {
            "colorbar": {
             "outlinewidth": 0,
             "ticks": ""
            },
            "colorscale": [
             [
              0,
              "#0d0887"
             ],
             [
              0.1111111111111111,
              "#46039f"
             ],
             [
              0.2222222222222222,
              "#7201a8"
             ],
             [
              0.3333333333333333,
              "#9c179e"
             ],
             [
              0.4444444444444444,
              "#bd3786"
             ],
             [
              0.5555555555555556,
              "#d8576b"
             ],
             [
              0.6666666666666666,
              "#ed7953"
             ],
             [
              0.7777777777777778,
              "#fb9f3a"
             ],
             [
              0.8888888888888888,
              "#fdca26"
             ],
             [
              1,
              "#f0f921"
             ]
            ],
            "type": "contour"
           }
          ],
          "contourcarpet": [
           {
            "colorbar": {
             "outlinewidth": 0,
             "ticks": ""
            },
            "type": "contourcarpet"
           }
          ],
          "heatmap": [
           {
            "colorbar": {
             "outlinewidth": 0,
             "ticks": ""
            },
            "colorscale": [
             [
              0,
              "#0d0887"
             ],
             [
              0.1111111111111111,
              "#46039f"
             ],
             [
              0.2222222222222222,
              "#7201a8"
             ],
             [
              0.3333333333333333,
              "#9c179e"
             ],
             [
              0.4444444444444444,
              "#bd3786"
             ],
             [
              0.5555555555555556,
              "#d8576b"
             ],
             [
              0.6666666666666666,
              "#ed7953"
             ],
             [
              0.7777777777777778,
              "#fb9f3a"
             ],
             [
              0.8888888888888888,
              "#fdca26"
             ],
             [
              1,
              "#f0f921"
             ]
            ],
            "type": "heatmap"
           }
          ],
          "histogram": [
           {
            "marker": {
             "pattern": {
              "fillmode": "overlay",
              "size": 10,
              "solidity": 0.2
             }
            },
            "type": "histogram"
           }
          ],
          "histogram2d": [
           {
            "colorbar": {
             "outlinewidth": 0,
             "ticks": ""
            },
            "colorscale": [
             [
              0,
              "#0d0887"
             ],
             [
              0.1111111111111111,
              "#46039f"
             ],
             [
              0.2222222222222222,
              "#7201a8"
             ],
             [
              0.3333333333333333,
              "#9c179e"
             ],
             [
              0.4444444444444444,
              "#bd3786"
             ],
             [
              0.5555555555555556,
              "#d8576b"
             ],
             [
              0.6666666666666666,
              "#ed7953"
             ],
             [
              0.7777777777777778,
              "#fb9f3a"
             ],
             [
              0.8888888888888888,
              "#fdca26"
             ],
             [
              1,
              "#f0f921"
             ]
            ],
            "type": "histogram2d"
           }
          ],
          "histogram2dcontour": [
           {
            "colorbar": {
             "outlinewidth": 0,
             "ticks": ""
            },
            "colorscale": [
             [
              0,
              "#0d0887"
             ],
             [
              0.1111111111111111,
              "#46039f"
             ],
             [
              0.2222222222222222,
              "#7201a8"
             ],
             [
              0.3333333333333333,
              "#9c179e"
             ],
             [
              0.4444444444444444,
              "#bd3786"
             ],
             [
              0.5555555555555556,
              "#d8576b"
             ],
             [
              0.6666666666666666,
              "#ed7953"
             ],
             [
              0.7777777777777778,
              "#fb9f3a"
             ],
             [
              0.8888888888888888,
              "#fdca26"
             ],
             [
              1,
              "#f0f921"
             ]
            ],
            "type": "histogram2dcontour"
           }
          ],
          "mesh3d": [
           {
            "colorbar": {
             "outlinewidth": 0,
             "ticks": ""
            },
            "type": "mesh3d"
           }
          ],
          "parcoords": [
           {
            "line": {
             "colorbar": {
              "outlinewidth": 0,
              "ticks": ""
             }
            },
            "type": "parcoords"
           }
          ],
          "pie": [
           {
            "automargin": true,
            "type": "pie"
           }
          ],
          "scatter": [
           {
            "fillpattern": {
             "fillmode": "overlay",
             "size": 10,
             "solidity": 0.2
            },
            "type": "scatter"
           }
          ],
          "scatter3d": [
           {
            "line": {
             "colorbar": {
              "outlinewidth": 0,
              "ticks": ""
             }
            },
            "marker": {
             "colorbar": {
              "outlinewidth": 0,
              "ticks": ""
             }
            },
            "type": "scatter3d"
           }
          ],
          "scattercarpet": [
           {
            "marker": {
             "colorbar": {
              "outlinewidth": 0,
              "ticks": ""
             }
            },
            "type": "scattercarpet"
           }
          ],
          "scattergeo": [
           {
            "marker": {
             "colorbar": {
              "outlinewidth": 0,
              "ticks": ""
             }
            },
            "type": "scattergeo"
           }
          ],
          "scattergl": [
           {
            "marker": {
             "colorbar": {
              "outlinewidth": 0,
              "ticks": ""
             }
            },
            "type": "scattergl"
           }
          ],
          "scattermap": [
           {
            "marker": {
             "colorbar": {
              "outlinewidth": 0,
              "ticks": ""
             }
            },
            "type": "scattermap"
           }
          ],
          "scattermapbox": [
           {
            "marker": {
             "colorbar": {
              "outlinewidth": 0,
              "ticks": ""
             }
            },
            "type": "scattermapbox"
           }
          ],
          "scatterpolar": [
           {
            "marker": {
             "colorbar": {
              "outlinewidth": 0,
              "ticks": ""
             }
            },
            "type": "scatterpolar"
           }
          ],
          "scatterpolargl": [
           {
            "marker": {
             "colorbar": {
              "outlinewidth": 0,
              "ticks": ""
             }
            },
            "type": "scatterpolargl"
           }
          ],
          "scatterternary": [
           {
            "marker": {
             "colorbar": {
              "outlinewidth": 0,
              "ticks": ""
             }
            },
            "type": "scatterternary"
           }
          ],
          "surface": [
           {
            "colorbar": {
             "outlinewidth": 0,
             "ticks": ""
            },
            "colorscale": [
             [
              0,
              "#0d0887"
             ],
             [
              0.1111111111111111,
              "#46039f"
             ],
             [
              0.2222222222222222,
              "#7201a8"
             ],
             [
              0.3333333333333333,
              "#9c179e"
             ],
             [
              0.4444444444444444,
              "#bd3786"
             ],
             [
              0.5555555555555556,
              "#d8576b"
             ],
             [
              0.6666666666666666,
              "#ed7953"
             ],
             [
              0.7777777777777778,
              "#fb9f3a"
             ],
             [
              0.8888888888888888,
              "#fdca26"
             ],
             [
              1,
              "#f0f921"
             ]
            ],
            "type": "surface"
           }
          ],
          "table": [
           {
            "cells": {
             "fill": {
              "color": "#EBF0F8"
             },
             "line": {
              "color": "white"
             }
            },
            "header": {
             "fill": {
              "color": "#C8D4E3"
             },
             "line": {
              "color": "white"
             }
            },
            "type": "table"
           }
          ]
         },
         "layout": {
          "annotationdefaults": {
           "arrowcolor": "#2a3f5f",
           "arrowhead": 0,
           "arrowwidth": 1
          },
          "autotypenumbers": "strict",
          "coloraxis": {
           "colorbar": {
            "outlinewidth": 0,
            "ticks": ""
           }
          },
          "colorscale": {
           "diverging": [
            [
             0,
             "#8e0152"
            ],
            [
             0.1,
             "#c51b7d"
            ],
            [
             0.2,
             "#de77ae"
            ],
            [
             0.3,
             "#f1b6da"
            ],
            [
             0.4,
             "#fde0ef"
            ],
            [
             0.5,
             "#f7f7f7"
            ],
            [
             0.6,
             "#e6f5d0"
            ],
            [
             0.7,
             "#b8e186"
            ],
            [
             0.8,
             "#7fbc41"
            ],
            [
             0.9,
             "#4d9221"
            ],
            [
             1,
             "#276419"
            ]
           ],
           "sequential": [
            [
             0,
             "#0d0887"
            ],
            [
             0.1111111111111111,
             "#46039f"
            ],
            [
             0.2222222222222222,
             "#7201a8"
            ],
            [
             0.3333333333333333,
             "#9c179e"
            ],
            [
             0.4444444444444444,
             "#bd3786"
            ],
            [
             0.5555555555555556,
             "#d8576b"
            ],
            [
             0.6666666666666666,
             "#ed7953"
            ],
            [
             0.7777777777777778,
             "#fb9f3a"
            ],
            [
             0.8888888888888888,
             "#fdca26"
            ],
            [
             1,
             "#f0f921"
            ]
           ],
           "sequentialminus": [
            [
             0,
             "#0d0887"
            ],
            [
             0.1111111111111111,
             "#46039f"
            ],
            [
             0.2222222222222222,
             "#7201a8"
            ],
            [
             0.3333333333333333,
             "#9c179e"
            ],
            [
             0.4444444444444444,
             "#bd3786"
            ],
            [
             0.5555555555555556,
             "#d8576b"
            ],
            [
             0.6666666666666666,
             "#ed7953"
            ],
            [
             0.7777777777777778,
             "#fb9f3a"
            ],
            [
             0.8888888888888888,
             "#fdca26"
            ],
            [
             1,
             "#f0f921"
            ]
           ]
          },
          "colorway": [
           "#636efa",
           "#EF553B",
           "#00cc96",
           "#ab63fa",
           "#FFA15A",
           "#19d3f3",
           "#FF6692",
           "#B6E880",
           "#FF97FF",
           "#FECB52"
          ],
          "font": {
           "color": "#2a3f5f"
          },
          "geo": {
           "bgcolor": "white",
           "lakecolor": "white",
           "landcolor": "#E5ECF6",
           "showlakes": true,
           "showland": true,
           "subunitcolor": "white"
          },
          "hoverlabel": {
           "align": "left"
          },
          "hovermode": "closest",
          "mapbox": {
           "style": "light"
          },
          "paper_bgcolor": "white",
          "plot_bgcolor": "#E5ECF6",
          "polar": {
           "angularaxis": {
            "gridcolor": "white",
            "linecolor": "white",
            "ticks": ""
           },
           "bgcolor": "#E5ECF6",
           "radialaxis": {
            "gridcolor": "white",
            "linecolor": "white",
            "ticks": ""
           }
          },
          "scene": {
           "xaxis": {
            "backgroundcolor": "#E5ECF6",
            "gridcolor": "white",
            "gridwidth": 2,
            "linecolor": "white",
            "showbackground": true,
            "ticks": "",
            "zerolinecolor": "white"
           },
           "yaxis": {
            "backgroundcolor": "#E5ECF6",
            "gridcolor": "white",
            "gridwidth": 2,
            "linecolor": "white",
            "showbackground": true,
            "ticks": "",
            "zerolinecolor": "white"
           },
           "zaxis": {
            "backgroundcolor": "#E5ECF6",
            "gridcolor": "white",
            "gridwidth": 2,
            "linecolor": "white",
            "showbackground": true,
            "ticks": "",
            "zerolinecolor": "white"
           }
          },
          "shapedefaults": {
           "line": {
            "color": "#2a3f5f"
           }
          },
          "ternary": {
           "aaxis": {
            "gridcolor": "white",
            "linecolor": "white",
            "ticks": ""
           },
           "baxis": {
            "gridcolor": "white",
            "linecolor": "white",
            "ticks": ""
           },
           "bgcolor": "#E5ECF6",
           "caxis": {
            "gridcolor": "white",
            "linecolor": "white",
            "ticks": ""
           }
          },
          "title": {
           "x": 0.05
          },
          "xaxis": {
           "automargin": true,
           "gridcolor": "white",
           "linecolor": "white",
           "ticks": "",
           "title": {
            "standoff": 15
           },
           "zerolinecolor": "white",
           "zerolinewidth": 2
          },
          "yaxis": {
           "automargin": true,
           "gridcolor": "white",
           "linecolor": "white",
           "ticks": "",
           "title": {
            "standoff": 15
           },
           "zerolinecolor": "white",
           "zerolinewidth": 2
          }
         }
        },
        "title": {
         "text": "Jerarquía de Tópicos - Mazatlan"
        },
        "width": 1000,
        "xaxis": {
         "mirror": "allticks",
         "rangemode": "tozero",
         "showgrid": false,
         "showline": true,
         "showticklabels": true,
         "ticks": "outside",
         "type": "linear",
         "zeroline": false
        },
        "yaxis": {
         "mirror": "allticks",
         "rangemode": "tozero",
         "showgrid": false,
         "showline": true,
         "showticklabels": true,
         "tickmode": "array",
         "ticks": "outside",
         "ticktext": [
          "5_catedral_iglesia_arquitectura_interior_musico",
          "6_mercado_centro_viejo_edificio_historico",
          "7_ambiente_encantar_vendedor_pasar_banda",
          "0_ola_playa_bruja_nadar_cerrito",
          "8_isla_bebida_persona_bote_lancha",
          "1_excursion_crucero_pulmonia_kayak_deer",
          "2_cristal_faro_caminata_subir_puente",
          "3_padre_manejar_cerrar_veiar_llenar",
          "4_acuario_espectaculo_pinguino_animal_precio"
         ],
         "tickvals": [
          -5,
          -15,
          -25,
          -35,
          -45,
          -55,
          -65,
          -75,
          -85
         ],
         "type": "linear",
         "zeroline": false
        }
       }
      }
     },
     "metadata": {},
     "output_type": "display_data"
    },
    {
     "name": "stdout",
     "output_type": "stream",
     "text": [
      "\n",
      "📋 Resumen del modelado FASTopic:\n",
      "✅ Textos analizados: 499\n",
      "🎯 Tópicos encontrados: 9\n",
      "⏱️ Tiempo de entrenamiento: 159.35s\n",
      "📊 Probabilidad promedio: 0.505\n",
      "📈 Distribución:\n",
      "   1. Patrimonio: 88 opiniones (17.6%)\n",
      "   2. Playas: 86 opiniones (17.2%)\n",
      "   3. Gastronomía: 66 opiniones (13.2%)\n",
      "   4. Actividades: 49 opiniones (9.8%)\n",
      "   5. Transporte Marítimo: 48 opiniones (9.6%)\n"
     ]
    }
   ],
   "source": [
    "# ===== VISUALIZACIONES ESPECÍFICAS DE FASTOPIC =====\n",
    "\n",
    "# Generar visualización de tópicos\n",
    "fig_topics = topic_model.visualize_topic(top_n=min(8, len(topic_info)))\n",
    "fig_topics.update_layout(title=f\"Palabras Principales por Tópico - {CIUDAD_ANALIZAR}\")\n",
    "fig_topics.show()\n",
    "\n",
    "# Generar visualización de pesos de tópicos\n",
    "fig_weights = topic_model.visualize_topic_weights(top_n=min(10, len(topic_info)))\n",
    "fig_weights.update_layout(title=f\"Distribución de Pesos de Tópicos - {CIUDAD_ANALIZAR}\")\n",
    "fig_weights.show()\n",
    "\n",
    "# Generar jerarquía de tópicos si hay suficientes\n",
    "if len(topic_info) >= 3:\n",
    "    fig_hierarchy = topic_model.visualize_topic_hierarchy()\n",
    "    fig_hierarchy.update_layout(title=f\"Jerarquía de Tópicos - {CIUDAD_ANALIZAR}\")\n",
    "    fig_hierarchy.show()\n",
    "\n",
    "print(f\"\\n📋 Resumen del modelado FASTopic:\")\n",
    "print(f\"✅ Textos analizados: {len(texts)}\")\n",
    "print(f\"🎯 Tópicos encontrados: {len(topic_info)}\")\n",
    "print(f\"⏱️ Tiempo de entrenamiento: {tiempo_entrenamiento:.2f}s\")\n",
    "print(f\"📊 Probabilidad promedio: {df_con_topicos['Probabilidad_Topico'].mean():.3f}\")\n",
    "print(f\"📈 Distribución:\")\n",
    "for i, (topico, count) in enumerate(topico_counts.head(5).items()):\n",
    "    print(f\"   {i+1}. {topico}: {count} opiniones ({count/len(df_con_topicos)*100:.1f}%)\")"
   ]
  },
  {
   "cell_type": "code",
   "execution_count": 19,
   "id": "57459ce4",
   "metadata": {},
   "outputs": [
    {
     "name": "stdout",
     "output_type": "stream",
     "text": [
      "🔄 COMPARACIÓN FASTopic vs BERTopic en Mazatlan\n",
      "============================================================\n",
      "⚠️ No hay opiniones de Mazatlan con ambos análisis completados\n",
      "   BERTopic disponible: 0 opiniones\n",
      "   FASTopic actual: 499 opiniones\n"
     ]
    }
   ],
   "source": [
    "# ===== COMPARACIÓN CON BERTOPIC =====\n",
    "\n",
    "if 'TopicoConBERTopic' in df.columns:\n",
    "    print(f\"🔄 COMPARACIÓN FASTopic vs BERTopic en {CIUDAD_ANALIZAR}\")\n",
    "    print(\"=\" * 60)\n",
    "    \n",
    "    # Usar datos actuales procesados en lugar de df_ciudad que puede tener datos previos\n",
    "    df_comparacion = df_con_topicos[\n",
    "        df_con_topicos.index.isin(df_ciudad[df_ciudad['TopicoConBERTopic'].notna()].index)\n",
    "    ].copy()\n",
    "    \n",
    "    # Agregar datos de BERTopic al dataframe de comparación\n",
    "    bertopic_data = df_ciudad[df_ciudad['TopicoConBERTopic'].notna()]['TopicoConBERTopic']\n",
    "    df_comparacion = df_comparacion[df_comparacion.index.isin(bertopic_data.index)].copy()\n",
    "    df_comparacion['TopicoConBERTopic'] = bertopic_data\n",
    "    \n",
    "    if len(df_comparacion) > 0:\n",
    "        print(f\"📊 Opiniones con ambos análisis: {len(df_comparacion)}\")\n",
    "        \n",
    "        # Comparar número de tópicos únicos usando datos actuales\n",
    "        topicos_bertopic = df_comparacion['TopicoConBERTopic'].nunique()\n",
    "        topicos_fastopic = df_comparacion['Topico_Nombre'].nunique()  # Usar datos actuales\n",
    "        \n",
    "        print(f\"\\n🎯 NÚMERO DE TÓPICOS:\")\n",
    "        print(f\"   BERTopic: {topicos_bertopic}\")\n",
    "        print(f\"   FASTopic: {topicos_fastopic}\")\n",
    "        \n",
    "        # Mostrar distribuciones lado a lado\n",
    "        fig, axes = plt.subplots(1, 2, figsize=(20, 8))\n",
    "        \n",
    "        # BERTopic\n",
    "        bertopic_counts = df_comparacion['TopicoConBERTopic'].value_counts().head(10)\n",
    "        bertopic_counts.plot(kind='bar', ax=axes[0], color='skyblue')\n",
    "        axes[0].set_title(f'Distribución BERTopic - {CIUDAD_ANALIZAR}', fontweight='bold')\n",
    "        axes[0].set_xlabel('Tópicos')\n",
    "        axes[0].set_ylabel('Número de Opiniones')\n",
    "        axes[0].tick_params(axis='x', rotation=45)\n",
    "        \n",
    "        # FASTopic - usar datos actuales\n",
    "        fastopic_counts = df_comparacion['Topico_Nombre'].value_counts().head(10)\n",
    "        fastopic_counts.plot(kind='bar', ax=axes[1], color='lightcoral')\n",
    "        axes[1].set_title(f'Distribución FASTopic - {CIUDAD_ANALIZAR}', fontweight='bold')\n",
    "        axes[1].set_xlabel('Tópicos')\n",
    "        axes[1].set_ylabel('Número de Opiniones')\n",
    "        axes[1].tick_params(axis='x', rotation=45)\n",
    "        \n",
    "        plt.tight_layout()\n",
    "        plt.show()\n",
    "        \n",
    "        # Análisis de concordancia (tópicos más frecuentes)\n",
    "        print(f\"\\n📈 TOP 5 TÓPICOS POR MÉTODO:\")\n",
    "        print(f\"\\n🔵 BERTopic:\")\n",
    "        for i, (topico, count) in enumerate(bertopic_counts.head(5).items(), 1):\n",
    "            pct = (count / len(df_comparacion) * 100)\n",
    "            print(f\"   {i}. {topico}: {count} ({pct:.1f}%)\")\n",
    "        \n",
    "        print(f\"\\n🔴 FASTopic:\")\n",
    "        for i, (topico, count) in enumerate(fastopic_counts.head(5).items(), 1):\n",
    "            pct = (count / len(df_comparacion) * 100)\n",
    "            print(f\"   {i}. {topico}: {count} ({pct:.1f}%)\")\n",
    "            \n",
    "        print(f\"\\n💡 OBSERVACIONES:\")\n",
    "        print(f\"   • FASTopic identificó {topicos_fastopic} tópicos vs {topicos_bertopic} de BERTopic\")\n",
    "        if topicos_fastopic > topicos_bertopic:\n",
    "            print(f\"   • FASTopic muestra mayor granularidad en la segmentación\")\n",
    "        elif topicos_fastopic < topicos_bertopic:\n",
    "            print(f\"   • FASTopic agrupa conceptos de manera más generalizada\")\n",
    "        else:\n",
    "            print(f\"   • Ambos métodos identificaron el mismo número de tópicos\")\n",
    "            \n",
    "        print(f\"   • Tiempo FASTopic: {tiempo_entrenamiento:.2f}s (más rápido que BERTopic)\")\n",
    "        \n",
    "        # Mostrar resumen de datos actuales de FASTopic\n",
    "        print(f\"\\n📊 RESUMEN ACTUAL FASTopic:\")\n",
    "        print(f\"   Total tópicos identificados: {len(topic_info)}\")\n",
    "        print(f\"   Tópicos en datos actuales: {df_con_topicos['Topico_Nombre'].nunique()}\")\n",
    "        print(f\"   Documentos procesados: {len(df_con_topicos)}\")\n",
    "        \n",
    "    else:\n",
    "        print(f\"⚠️ No hay opiniones de {CIUDAD_ANALIZAR} con ambos análisis completados\")\n",
    "        print(f\"   BERTopic disponible: {df_ciudad['TopicoConBERTopic'].notna().sum()} opiniones\")\n",
    "        print(f\"   FASTopic actual: {len(df_con_topicos)} opiniones\")\n",
    "else:\n",
    "    print(f\"ℹ️ No hay análisis previo de BERTopic para comparar\")\n",
    "    print(f\"   Ejecuta el notebook 07-modelado-de-topicos-con-bertopic.ipynb primero\")\n",
    "    "
   ]
  },
  {
   "cell_type": "code",
   "execution_count": 20,
   "id": "62506cf6",
   "metadata": {},
   "outputs": [
    {
     "name": "stdout",
     "output_type": "stream",
     "text": [
      "📋 REPORTE COMPLETO - ANÁLISIS CON FASTOPIC\n",
      "============================================================\n",
      "🎯 ANÁLISIS COMPLETADO:\n",
      "   📍 Ciudad: Mazatlan\n",
      "   📄 Documentos analizados: 499\n",
      "   🏷️ Tópicos identificados: 9\n",
      "   ⏱️ Tiempo de entrenamiento: 159.35 segundos\n",
      "\n",
      "📊 ESTADÍSTICAS DE TÓPICOS:\n",
      "   🎯 Tópico más relevante: Patrimonio\n",
      "   📈 Peso máximo: 82.715\n",
      "   📉 Peso mínimo: 37.734\n",
      "   📊 Peso promedio: 55.444\n",
      "\n",
      "🏆 TOP 5 TÓPICOS POR RELEVANCIA:\n",
      "   1. Patrimonio\n",
      "      📊 Peso: 82.715 | 📄 Documentos: 166\n",
      "      🔑 Palabras clave: catedral, iglesia, arquitectura, interior, musico,...\n",
      "   2. Playas\n",
      "      📊 Peso: 66.134 | 📄 Documentos: 153\n",
      "      🔑 Palabras clave: ola, playa, bruja, nadar, cerrito, basura, oleaje,...\n",
      "   3. Gastronomía\n",
      "      📊 Peso: 64.029 | 📄 Documentos: 188\n",
      "      🔑 Palabras clave: ambiente, encantar, vendedor, pasar, banda, copa, ...\n",
      "   4. Actividades\n",
      "      📊 Peso: 53.257 | 📄 Documentos: 152\n",
      "      🔑 Palabras clave: padre, manejar, cerrar, veiar, llenar, espacio, fo...\n",
      "   5. Cultura\n",
      "      📊 Peso: 50.624 | 📄 Documentos: 147\n",
      "      🔑 Palabras clave: mercado, centro, viejo, edificio, historico, ciuda...\n",
      "\n",
      "💎 CALIDAD DEL MODELADO:\n",
      "   ✅ Tópicos con documentos asignados: 9/9\n",
      "   ✅ Distribución balanceada de tópicos: 16.6% máx.\n",
      "\n",
      "🚀 PRÓXIMOS PASOS RECOMENDADOS:\n",
      "   1. Revisar ejemplos de cada tópico principal\n",
      "   2. Analizar relación con sentimientos y subjetividad\n",
      "   3. Comparar resultados con BERTopic si está disponible\n",
      "   4. Exportar resultados al dataset principal\n"
     ]
    }
   ],
   "source": [
    "generar_reporte_fastopic(\n",
    "    topic_info, \n",
    "    len(df_con_topicos), \n",
    "    CIUDAD_ANALIZAR, \n",
    "    tiempo_entrenamiento\n",
    ")\n",
    "\n",
    "df.to_csv('../data/processed/dataset_opiniones_analisis.csv', index=False)"
   ]
  },
  {
   "cell_type": "code",
   "execution_count": 21,
   "id": "6a801194",
   "metadata": {},
   "outputs": [
    {
     "name": "stdout",
     "output_type": "stream",
     "text": [
      "🔬 Evaluando modelo FASTopic para Mazatlan...\n",
      "📊 Evaluación FASTopic - Mazatlan:\n",
      "   🎯 Tópicos: 9\n",
      "   📈 Coherencia CV: 0.4487\n",
      "   🔄 Diversidad: 0.9889\n"
     ]
    }
   ],
   "source": [
    "# ===== EVALUACIÓN DE MÉTRICAS FASTOPIC =====\n",
    "\n",
    "print(f\"🔬 Evaluando modelo FASTopic para {CIUDAD_ANALIZAR}...\")\n",
    "\n",
    "topics_words_fastopic = extraer_palabras_fastopic(top_words, words_per_topic=10)\n",
    "metricas_fastopic = evaluar_modelo_topicos(texts, topics_words_fastopic, f\"FASTopic - {CIUDAD_ANALIZAR}\")\n",
    "\n",
    "mostrar_metricas(metricas_fastopic)"
   ]
  }
 ],
 "metadata": {
  "kernelspec": {
   "display_name": "analisis-automatizado-de-opiniones-turisticas",
   "language": "python",
   "name": "python3"
  },
  "language_info": {
   "codemirror_mode": {
    "name": "ipython",
    "version": 3
   },
   "file_extension": ".py",
   "mimetype": "text/x-python",
   "name": "python",
   "nbconvert_exporter": "python",
   "pygments_lexer": "ipython3",
   "version": "3.10.18"
  }
 },
 "nbformat": 4,
 "nbformat_minor": 5
}
