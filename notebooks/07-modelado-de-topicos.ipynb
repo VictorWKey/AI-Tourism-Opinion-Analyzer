{
 "cells": [
  {
   "cell_type": "markdown",
   "id": "920405d9",
   "metadata": {},
   "source": [
    "# Modelado de Tópicos con BERTopic\n",
    "\n",
    "Este notebook implementa un análisis de tópicos usando BERTopic sobre las opiniones turísticas clasificadas. Utiliza LangChain con GPT-4o-mini para asignar nombres semánticamente coherentes a los tópicos identificados."
   ]
  },
  {
   "cell_type": "code",
   "execution_count": 17,
   "id": "009def10",
   "metadata": {},
   "outputs": [],
   "source": [
    "import pandas as pd\n",
    "import numpy as np\n",
    "import matplotlib.pyplot as plt\n",
    "import seaborn as sns\n",
    "from bertopic import BERTopic\n",
    "from sentence_transformers import SentenceTransformer\n",
    "from umap import UMAP\n",
    "from hdbscan import HDBSCAN\n",
    "from sklearn.feature_extraction.text import CountVectorizer\n",
    "import os\n",
    "import sys\n",
    "from dotenv import load_dotenv\n",
    "from langchain_openai import ChatOpenAI\n",
    "from langchain_core.output_parsers import PydanticOutputParser\n",
    "from langchain_core.prompts import PromptTemplate\n",
    "from pydantic import BaseModel, Field\n",
    "from typing import Literal\n",
    "\n",
    "# Agregar la carpeta scripts al path para importar módulos\n",
    "sys.path.append('../scripts')\n",
    "\n",
    "# Importar módulo de limpieza de texto\n",
    "from topicos import LimpiadorTextoMejorado, generar_reporte_limpieza, mostrar_ejemplos_limpieza\n",
    "\n",
    "load_dotenv()\n",
    "plt.style.use('seaborn-v0_8')\n",
    "sns.set_palette(\"husl\")"
   ]
  },
  {
   "cell_type": "code",
   "execution_count": 18,
   "id": "0ce87305",
   "metadata": {},
   "outputs": [],
   "source": [
    "class TopicNaming(BaseModel):\n",
    "    nombre_topico: str = Field(description=\"Nombre descriptivo del tópico en español\")\n",
    "\n",
    "def configurar_clasificador_topicos():\n",
    "    llm = ChatOpenAI(\n",
    "        model=\"gpt-4o-mini\",\n",
    "        temperature=0,\n",
    "        max_tokens=50\n",
    "    )\n",
    "    \n",
    "    parser = PydanticOutputParser(pydantic_object=TopicNaming)\n",
    "    \n",
    "    prompt_template = \"\"\"Eres un experto en análisis de opiniones turísticas y modelado de tópicos.\n",
    "\n",
    "Analiza las siguientes palabras clave que representan un tópico identificado automáticamente en reseñas de atracciones turísticas en México (Cancún, CDMX, Mazatlán, Puebla, Puerto Vallarta).\n",
    "\n",
    "Palabras clave del tópico: {keywords}\n",
    "\n",
    "Basándote en estas palabras, asigna un nombre descriptivo y coherente al tópico que capture la esencia de las opiniones turísticas que representa. El nombre debe ser:\n",
    "- Específico y relacionado con turismo\n",
    "- En español\n",
    "- Máximo 4 palabras\n",
    "- Descriptivo de la experiencia o aspecto turístico\n",
    "- Evitar mencionar entidades específicas (nombres de lugares, marcas, personas)\n",
    "\n",
    "{format_instructions}\n",
    "\"\"\"\n",
    "    \n",
    "    prompt = PromptTemplate(\n",
    "        template=prompt_template,\n",
    "        input_variables=[\"keywords\"],\n",
    "        partial_variables={\"format_instructions\": parser.get_format_instructions()}\n",
    "    )\n",
    "    \n",
    "    return prompt | llm | parser\n",
    "\n",
    "clasificador_topicos = configurar_clasificador_topicos()"
   ]
  },
  {
   "cell_type": "code",
   "execution_count": 19,
   "id": "53169277",
   "metadata": {},
   "outputs": [
    {
     "name": "stdout",
     "output_type": "stream",
     "text": [
      "Dataset cargado: 2464 opiniones\n",
      "Columnas disponibles: ['Titulo', 'Review', 'Calificacion', 'FechaEstadia', 'Ciudad', 'Atraccion', 'TituloReview', 'TituloReviewLimpio', 'SentimientoPorCalificacion', 'SentimientoPorHF', 'SentimientoPorCardiff', 'SubjetividadConHF', 'SubjetividadConFrases', 'SubjetividadConLLM', 'TopicoConBERTopic']\n",
      "\n",
      "Distribución total por ciudad:\n",
      "Ciudad\n",
      "Puebla             500\n",
      "Mazatlan           500\n",
      "Puerto_vallarta    491\n",
      "Cdmx               490\n",
      "Cancun             483\n",
      "Name: count, dtype: int64\n",
      "\n",
      "🎯 Analizando ciudad: Cdmx\n",
      "Opiniones de Cdmx: 490\n",
      "📝 Usando texto limpio para análisis de tópicos\n",
      "📝 Columna de texto utilizada: TituloReviewLimpio\n",
      "🧹 Textos para análisis: 490 opiniones\n",
      "📊 Promedio de palabras por texto: 31.4\n",
      "📏 Longitud promedio: 235.7 caracteres\n"
     ]
    }
   ],
   "source": [
    "# Configurar ciudad a analizar\n",
    "CIUDAD_ANALIZAR = \"Cdmx\"  # Cambiar por la ciudad deseada: Cancun, Cdmx, Mazatlan, Puebla, Puerto_Vallarta\n",
    "\n",
    "df = pd.read_csv('../data/processed/dataset_opiniones_analisis.csv')\n",
    "\n",
    "# Inicializar columna TopicoConBERTopic si no existe\n",
    "if 'TopicoConBERTopic' not in df.columns:\n",
    "    df['TopicoConBERTopic'] = np.nan\n",
    "\n",
    "print(f\"Dataset cargado: {df.shape[0]} opiniones\")\n",
    "print(f\"Columnas disponibles: {list(df.columns)}\")\n",
    "print(f\"\\nDistribución total por ciudad:\")\n",
    "print(df['Ciudad'].value_counts())\n",
    "\n",
    "# Filtrar por ciudad específica\n",
    "df_ciudad = df[df['Ciudad'] == CIUDAD_ANALIZAR].copy()\n",
    "print(f\"\\n🎯 Analizando ciudad: {CIUDAD_ANALIZAR}\")\n",
    "print(f\"Opiniones de {CIUDAD_ANALIZAR}: {len(df_ciudad)}\")\n",
    "\n",
    "# Siempre usar texto limpio para BERTopic si está disponible\n",
    "if 'TituloReviewLimpio' in df_ciudad.columns:\n",
    "    columna_texto = 'TituloReviewLimpio'\n",
    "    print(f\"📝 Usando texto limpio para análisis de tópicos\")\n",
    "else:\n",
    "    columna_texto = 'TituloReview'\n",
    "    print(f\"⚠️ Usando texto original (sin limpiar)\")\n",
    "\n",
    "texts = df_ciudad[columna_texto].dropna().tolist()\n",
    "\n",
    "print(f\"📝 Columna de texto utilizada: {columna_texto}\")\n",
    "print(f\"🧹 Textos para análisis: {len(texts)} opiniones\")\n",
    "\n",
    "# Mostrar estadísticas de texto\n",
    "if len(texts) > 0:\n",
    "    palabras_promedio = sum(len(text.split()) for text in texts) / len(texts)\n",
    "    print(f\"📊 Promedio de palabras por texto: {palabras_promedio:.1f}\")\n",
    "    print(f\"📏 Longitud promedio: {sum(len(text) for text in texts) / len(texts):.1f} caracteres\")"
   ]
  },
  {
   "cell_type": "code",
   "execution_count": 20,
   "id": "4500d4d9",
   "metadata": {},
   "outputs": [
    {
     "name": "stdout",
     "output_type": "stream",
     "text": [
      "🧹 Iniciando proceso de limpieza de texto...\n",
      "Limpiando columna 'TituloReview'...\n",
      "Procesando 2464 textos...\n",
      "Procesado: 0/2464 textos\n",
      "Procesado: 1000/2464 textos\n",
      "Procesado: 1000/2464 textos\n",
      "Procesado: 2000/2464 textos\n",
      "Procesado: 2000/2464 textos\n",
      "✓ Columna 'TituloReviewLimpio' actualizada\n",
      "\n",
      "📊 Estadísticas de limpieza:\n",
      "   • Textos procesados: 2464\n",
      "   • Textos válidos: 2464\n",
      "   • Textos vacíos: 0\n",
      "   • Promedio palabras original: 57.2\n",
      "   • Promedio palabras limpio: 30.4\n",
      "   • Reducción promedio: 46.9%\n",
      "\n",
      "🔍 Ejemplos de limpieza aplicada:\n",
      "\n",
      "🔍 EJEMPLOS DE LIMPIEZA DE TEXTO (mostrando 3)\n",
      "================================================================================\n",
      "\n",
      "📄 EJEMPLO 1:\n",
      "🔸 Original: Muy buena atención. Excelente trato!!! Me llevé una grata sorpresa, yo tenía boletos para otra compañía y nos dieron mal el horario y perdimos  el último ferry de esa compañía y el trabajador de nombre Emmanuel Alejandro aunque no tenía boletos de su compañía me orientó de la mejor forma y me explico cómo llegar a mi destino y terminé comprando boletos con ultramar muy buen servicio y excelente trato del chico 👍🏻👍🏻.\n",
      "🔹 Limpio:   buen atencion excelente trato llevar grato sorpresa tenio boleto compania dar mal horario perdimos ultimo ferry compania trabajador nombre emmanuel alejandro aunque tenia boleto compania oriento mejor forma explico llegar destino terminar comprar boleto ultramar buen servicio excelente trato chico\n",
      "📊 Reducción: 419 → 298 caracteres (28.9%)\n",
      "--------------------------------------------------------------------------------\n",
      "\n",
      "📄 EJEMPLO 2:\n",
      "🔸 Original: Clasistas y discriminadores. Caminando por la isla: hay una chica en un carrito que regala aguas a los visitantes, nos acercamos (mi esposo y yo) a pedirle una y sin dudarlo nos miró de arriba abajo y dudo en darnos el agua, nos dijo: ¿ustedes están visitando la ISLA?: Llevábamos bolsas de compras. era evidente que si. Habíamos observado que se sentía más cómoda ofreciendo aguas gratis a los blancos extranjeros, y evidentemente nosotros no somos así. Disfrute mucho tomando mi agua gratis que la señorita con mucho asco me regalo, porque me da gusto que nuestra presencia le haya recordado que el trato debe ser igual para todos: morenos y blancos.\n",
      "🔹 Limpio:   clasista discriminador caminar isla chico carrito regalar agua visitante acercar esposo pedir él dudar él mirar arriba abajo dudo darno agua decir tú estar visitar isla llevabir bolsa compra evidente si haber observar sentia mas comoda ofrecer agua gratis blanco extranjero evidentemente asi disfrute tomar agua gratis senoritar asco regalo dar gusto presencia recordado trato deber ser igual moreno blanco\n",
      "📊 Reducción: 652 → 406 caracteres (37.7%)\n",
      "--------------------------------------------------------------------------------\n",
      "\n",
      "📄 EJEMPLO 3:\n",
      "🔸 Original: maravilloso. Me encanta el museo y también me encanta la zona en la que se encuentra, super recomendable de visitar cualquier día del año.\n",
      "🔹 Limpio:   maravilloso encantar museo tambien encantar zona encontrar super recomendable visitar cualquiera dia ano\n",
      "📊 Reducción: 138 → 104 caracteres (24.6%)\n",
      "--------------------------------------------------------------------------------\n",
      "📋 REPORTE COMPLETO DE LIMPIEZA DE TEXTO\n",
      "============================================================\n",
      "📊 ESTADÍSTICAS GENERALES:\n",
      "   Registros procesados: 2464\n",
      "   Nueva columna creada: TituloReviewLimpio\n",
      "   Posición en dataset: columna 8\n",
      "📊 ESTADÍSTICAS DE LIMPIEZA DE TEXTO\n",
      "==================================================\n",
      "📈 Total de textos analizados: 2464\n",
      "\n",
      "📝 TEXTO ORIGINAL:\n",
      "   Longitud promedio: 334.8 caracteres\n",
      "   Palabras promedio: 57.2\n",
      "   Textos vacíos: 0\n",
      "\n",
      "🧹 TEXTO LIMPIO:\n",
      "   Longitud promedio: 221.4 caracteres\n",
      "   Palabras promedio: 30.4\n",
      "   Textos vacíos: 0\n",
      "\n",
      "📉 REDUCCIÓN TRAS LIMPIEZA:\n",
      "   Reducción en longitud: 33.9%\n",
      "   Reducción en palabras: 46.9%\n",
      "   Textos perdidos: 0\n",
      "\n",
      "============================================================\n",
      "✅ VALIDACIÓN DE TEXTOS PARA ANÁLISIS DE TÓPICOS\n",
      "=======================================================\n",
      "📊 Total textos originales: 2464\n",
      "✅ Textos válidos: 2464\n",
      "❌ Textos eliminados: 0\n",
      "📈 Porcentaje válidos: 100.0%\n",
      "📝 Promedio palabras por texto: 30.4\n",
      "\n",
      "💡 RECOMENDACIONES:\n",
      "   ✅ Buen porcentaje de textos válidos para análisis de tópicos.\n",
      "   ✅ Promedio de palabras adecuado para análisis de tópicos.\n",
      "\n",
      "🎯 PRÓXIMOS PASOS:\n",
      "   1. Usar columna 'TituloReviewLimpio' para análisis de tópicos\n",
      "   2. Dataset guardado con nueva columna\n",
      "   3. Ejecutar BERTopic con textos limpios\n",
      "✓ Columna 'TituloReviewLimpio' actualizada\n",
      "\n",
      "📊 Estadísticas de limpieza:\n",
      "   • Textos procesados: 2464\n",
      "   • Textos válidos: 2464\n",
      "   • Textos vacíos: 0\n",
      "   • Promedio palabras original: 57.2\n",
      "   • Promedio palabras limpio: 30.4\n",
      "   • Reducción promedio: 46.9%\n",
      "\n",
      "🔍 Ejemplos de limpieza aplicada:\n",
      "\n",
      "🔍 EJEMPLOS DE LIMPIEZA DE TEXTO (mostrando 3)\n",
      "================================================================================\n",
      "\n",
      "📄 EJEMPLO 1:\n",
      "🔸 Original: Muy buena atención. Excelente trato!!! Me llevé una grata sorpresa, yo tenía boletos para otra compañía y nos dieron mal el horario y perdimos  el último ferry de esa compañía y el trabajador de nombre Emmanuel Alejandro aunque no tenía boletos de su compañía me orientó de la mejor forma y me explico cómo llegar a mi destino y terminé comprando boletos con ultramar muy buen servicio y excelente trato del chico 👍🏻👍🏻.\n",
      "🔹 Limpio:   buen atencion excelente trato llevar grato sorpresa tenio boleto compania dar mal horario perdimos ultimo ferry compania trabajador nombre emmanuel alejandro aunque tenia boleto compania oriento mejor forma explico llegar destino terminar comprar boleto ultramar buen servicio excelente trato chico\n",
      "📊 Reducción: 419 → 298 caracteres (28.9%)\n",
      "--------------------------------------------------------------------------------\n",
      "\n",
      "📄 EJEMPLO 2:\n",
      "🔸 Original: Clasistas y discriminadores. Caminando por la isla: hay una chica en un carrito que regala aguas a los visitantes, nos acercamos (mi esposo y yo) a pedirle una y sin dudarlo nos miró de arriba abajo y dudo en darnos el agua, nos dijo: ¿ustedes están visitando la ISLA?: Llevábamos bolsas de compras. era evidente que si. Habíamos observado que se sentía más cómoda ofreciendo aguas gratis a los blancos extranjeros, y evidentemente nosotros no somos así. Disfrute mucho tomando mi agua gratis que la señorita con mucho asco me regalo, porque me da gusto que nuestra presencia le haya recordado que el trato debe ser igual para todos: morenos y blancos.\n",
      "🔹 Limpio:   clasista discriminador caminar isla chico carrito regalar agua visitante acercar esposo pedir él dudar él mirar arriba abajo dudo darno agua decir tú estar visitar isla llevabir bolsa compra evidente si haber observar sentia mas comoda ofrecer agua gratis blanco extranjero evidentemente asi disfrute tomar agua gratis senoritar asco regalo dar gusto presencia recordado trato deber ser igual moreno blanco\n",
      "📊 Reducción: 652 → 406 caracteres (37.7%)\n",
      "--------------------------------------------------------------------------------\n",
      "\n",
      "📄 EJEMPLO 3:\n",
      "🔸 Original: maravilloso. Me encanta el museo y también me encanta la zona en la que se encuentra, super recomendable de visitar cualquier día del año.\n",
      "🔹 Limpio:   maravilloso encantar museo tambien encantar zona encontrar super recomendable visitar cualquiera dia ano\n",
      "📊 Reducción: 138 → 104 caracteres (24.6%)\n",
      "--------------------------------------------------------------------------------\n",
      "📋 REPORTE COMPLETO DE LIMPIEZA DE TEXTO\n",
      "============================================================\n",
      "📊 ESTADÍSTICAS GENERALES:\n",
      "   Registros procesados: 2464\n",
      "   Nueva columna creada: TituloReviewLimpio\n",
      "   Posición en dataset: columna 8\n",
      "📊 ESTADÍSTICAS DE LIMPIEZA DE TEXTO\n",
      "==================================================\n",
      "📈 Total de textos analizados: 2464\n",
      "\n",
      "📝 TEXTO ORIGINAL:\n",
      "   Longitud promedio: 334.8 caracteres\n",
      "   Palabras promedio: 57.2\n",
      "   Textos vacíos: 0\n",
      "\n",
      "🧹 TEXTO LIMPIO:\n",
      "   Longitud promedio: 221.4 caracteres\n",
      "   Palabras promedio: 30.4\n",
      "   Textos vacíos: 0\n",
      "\n",
      "📉 REDUCCIÓN TRAS LIMPIEZA:\n",
      "   Reducción en longitud: 33.9%\n",
      "   Reducción en palabras: 46.9%\n",
      "   Textos perdidos: 0\n",
      "\n",
      "============================================================\n",
      "✅ VALIDACIÓN DE TEXTOS PARA ANÁLISIS DE TÓPICOS\n",
      "=======================================================\n",
      "📊 Total textos originales: 2464\n",
      "✅ Textos válidos: 2464\n",
      "❌ Textos eliminados: 0\n",
      "📈 Porcentaje válidos: 100.0%\n",
      "📝 Promedio palabras por texto: 30.4\n",
      "\n",
      "💡 RECOMENDACIONES:\n",
      "   ✅ Buen porcentaje de textos válidos para análisis de tópicos.\n",
      "   ✅ Promedio de palabras adecuado para análisis de tópicos.\n",
      "\n",
      "🎯 PRÓXIMOS PASOS:\n",
      "   1. Usar columna 'TituloReviewLimpio' para análisis de tópicos\n",
      "   2. Dataset guardado con nueva columna\n",
      "   3. Ejecutar BERTopic con textos limpios\n",
      "\n",
      "💾 Dataset actualizado y guardado con columna 'TituloReviewLimpio'\n",
      "\n",
      "📋 Estructura actual del dataset:\n",
      "Dimensiones: (2464, 15)\n",
      "Columnas: ['Titulo', 'Review', 'Calificacion', 'FechaEstadia', 'Ciudad', 'Atraccion', 'TituloReview', 'TituloReviewLimpio', 'SentimientoPorCalificacion', 'SentimientoPorHF', 'SentimientoPorCardiff', 'SubjetividadConHF', 'SubjetividadConFrases', 'SubjetividadConLLM', 'TopicoConBERTopic']\n",
      "📍 TituloReview: columna 7\n",
      "📍 TituloReviewLimpio: columna 8\n",
      "\n",
      "💾 Dataset actualizado y guardado con columna 'TituloReviewLimpio'\n",
      "\n",
      "📋 Estructura actual del dataset:\n",
      "Dimensiones: (2464, 15)\n",
      "Columnas: ['Titulo', 'Review', 'Calificacion', 'FechaEstadia', 'Ciudad', 'Atraccion', 'TituloReview', 'TituloReviewLimpio', 'SentimientoPorCalificacion', 'SentimientoPorHF', 'SentimientoPorCardiff', 'SubjetividadConHF', 'SubjetividadConFrases', 'SubjetividadConLLM', 'TopicoConBERTopic']\n",
      "📍 TituloReview: columna 7\n",
      "📍 TituloReviewLimpio: columna 8\n"
     ]
    }
   ],
   "source": [
    "# ===== LIMPIEZA DE TEXTO PARA ANÁLISIS DE TÓPICOS =====\n",
    "\n",
    "\n",
    "print(\"🧹 Iniciando proceso de limpieza de texto...\")\n",
    "\n",
    "# Crear instancia del limpiador\n",
    "limpiador = LimpiadorTextoMejorado(idiomas=['spanish', 'english'])\n",
    "\n",
    "# Guardar DataFrame antes de la limpieza para comparación\n",
    "df_antes = df.copy()\n",
    "\n",
    "# Aplicar limpieza al dataset completo\n",
    "df = limpiador.limpiar_dataframe(\n",
    "    df, \n",
    "    columna_texto='TituloReview',\n",
    "    nombre_columna_limpia='TituloReviewLimpio',\n",
    "    aplicar_lematizacion=True,\n",
    "    min_longitud_palabra=2,\n",
    "    max_palabras=None\n",
    ")\n",
    "\n",
    "# Mostrar ejemplos de limpieza\n",
    "print(f\"\\n🔍 Ejemplos de limpieza aplicada:\")\n",
    "mostrar_ejemplos_limpieza(df, n_ejemplos=3)\n",
    "\n",
    "# Generar reporte completo\n",
    "generar_reporte_limpieza(df_antes, df, 'TituloReview', 'TituloReviewLimpio')\n",
    "\n",
    "# Guardar dataset actualizado\n",
    "df.to_csv('../data/processed/dataset_opiniones_analisis.csv', index=False)\n",
    "print(f\"\\n💾 Dataset actualizado y guardado con columna 'TituloReviewLimpio'\")\n",
    "\n",
    "\n",
    "print(f\"\\n📋 Estructura actual del dataset:\")\n",
    "print(f\"Dimensiones: {df.shape}\")\n",
    "print(f\"Columnas: {list(df.columns)}\")\n",
    "\n",
    "# Mostrar posición de las columnas de texto\n",
    "pos_original = df.columns.get_loc('TituloReview') + 1\n",
    "pos_limpia = df.columns.get_loc('TituloReviewLimpio') + 1\n",
    "print(f\"📍 TituloReview: columna {pos_original}\")\n",
    "print(f\"📍 TituloReviewLimpio: columna {pos_limpia}\")"
   ]
  },
  {
   "cell_type": "code",
   "execution_count": 21,
   "id": "27acded3",
   "metadata": {},
   "outputs": [
    {
     "name": "stderr",
     "output_type": "stream",
     "text": [
      "2025-09-11 17:43:58,418 - BERTopic - Embedding - Transforming documents to embeddings.\n"
     ]
    },
    {
     "name": "stdout",
     "output_type": "stream",
     "text": [
      "Entrenando modelo BERTopic...\n"
     ]
    },
    {
     "data": {
      "application/vnd.jupyter.widget-view+json": {
       "model_id": "64d6f8edbe5249ada17735ec30cbe7dd",
       "version_major": 2,
       "version_minor": 0
      },
      "text/plain": [
       "Batches:   0%|          | 0/16 [00:00<?, ?it/s]"
      ]
     },
     "metadata": {},
     "output_type": "display_data"
    },
    {
     "name": "stderr",
     "output_type": "stream",
     "text": [
      "2025-09-11 17:44:19,202 - BERTopic - Embedding - Completed ✓\n",
      "2025-09-11 17:44:19,208 - BERTopic - Dimensionality - Fitting the dimensionality reduction algorithm\n",
      "2025-09-11 17:44:19,208 - BERTopic - Dimensionality - Fitting the dimensionality reduction algorithm\n",
      "2025-09-11 17:44:20,750 - BERTopic - Dimensionality - Completed ✓\n",
      "2025-09-11 17:44:20,750 - BERTopic - Dimensionality - Completed ✓\n",
      "2025-09-11 17:44:20,753 - BERTopic - Cluster - Start clustering the reduced embeddings\n",
      "2025-09-11 17:44:20,753 - BERTopic - Cluster - Start clustering the reduced embeddings\n",
      "2025-09-11 17:44:20,824 - BERTopic - Cluster - Completed ✓\n",
      "2025-09-11 17:44:20,832 - BERTopic - Representation - Fine-tuning topics using representation models.\n",
      "2025-09-11 17:44:20,824 - BERTopic - Cluster - Completed ✓\n",
      "2025-09-11 17:44:20,832 - BERTopic - Representation - Fine-tuning topics using representation models.\n",
      "2025-09-11 17:44:20,993 - BERTopic - Representation - Completed ✓\n",
      "2025-09-11 17:44:20,993 - BERTopic - Representation - Completed ✓\n"
     ]
    }
   ],
   "source": [
    "embedding_model = SentenceTransformer('paraphrase-multilingual-MiniLM-L12-v2')\n",
    "\n",
    "umap_model = UMAP(n_neighbors=15, n_components=5, min_dist=0.0, metric='cosine', random_state=42)\n",
    "hdbscan_model = HDBSCAN(min_cluster_size=10, metric='euclidean', cluster_selection_method='eom', prediction_data=True)\n",
    "\n",
    "vectorizer_model = CountVectorizer(\n",
    "    ngram_range=(1, 3), \n",
    "    stop_words=None,\n",
    "    min_df=2,\n",
    "    max_features=1000\n",
    ")\n",
    "\n",
    "topic_model = BERTopic(\n",
    "    embedding_model=embedding_model,\n",
    "    umap_model=umap_model,\n",
    "    hdbscan_model=hdbscan_model,\n",
    "    vectorizer_model=vectorizer_model,\n",
    "    language=\"multilingual\",\n",
    "    calculate_probabilities=True,\n",
    "    verbose=True\n",
    ")\n",
    "\n",
    "print(\"Entrenando modelo BERTopic...\")\n",
    "topics, probs = topic_model.fit_transform(texts)"
   ]
  },
  {
   "cell_type": "code",
   "execution_count": 22,
   "id": "e491ee6a",
   "metadata": {},
   "outputs": [
    {
     "name": "stdout",
     "output_type": "stream",
     "text": [
      "Tópicos identificados: 11 (incluyendo outliers)\n",
      "Tópico 0: Experiencias en museos\n",
      "  Palabras clave: museo, arte, museum, visitar, historia, mas, frida, art\n",
      "\n",
      "Tópico 0: Experiencias en museos\n",
      "  Palabras clave: museo, arte, museum, visitar, historia, mas, frida, art\n",
      "\n",
      "Tópico 1: Cultura y Arte Mexicano\n",
      "  Palabras clave: museum, mexico, museo, arte, city, history, mexican, mexico city\n",
      "\n",
      "Tópico 1: Cultura y Arte Mexicano\n",
      "  Palabras clave: museum, mexico, museo, arte, city, history, mexican, mexico city\n",
      "\n",
      "Tópico 2: Experiencia religiosa y cultural\n",
      "  Palabras clave: basilica, guadalupe, time, virgen, lugar, visit, tour, beautiful\n",
      "\n",
      "Tópico 2: Experiencia religiosa y cultural\n",
      "  Palabras clave: basilica, guadalupe, time, virgen, lugar, visit, tour, beautiful\n",
      "\n",
      "Tópico 3: Visitas a Zócalos Urbanos\n",
      "  Palabras clave: ciudad, plaza, ciudad mexico, mexico, zocalo, visita, visita obligada, obligada\n",
      "\n",
      "Tópico 3: Visitas a Zócalos Urbanos\n",
      "  Palabras clave: ciudad, plaza, ciudad mexico, mexico, zocalo, visita, visita obligada, obligada\n",
      "\n",
      "Tópico 4: Experiencias en Mercados Locales\n",
      "  Palabras clave: lugar, cdmx, plaza, restaurantes, gente, barrio, mercado, opciones\n",
      "\n",
      "Tópico 4: Experiencias en Mercados Locales\n",
      "  Palabras clave: lugar, cdmx, plaza, restaurantes, gente, barrio, mercado, opciones\n",
      "\n",
      "Tópico 5: Cultura y Artes Urbanas\n",
      "  Palabras clave: mexico, ciudad, historia, ciudad mexico, ballet, artes, llegar, bellas artes\n",
      "\n",
      "Tópico 5: Cultura y Artes Urbanas\n",
      "  Palabras clave: mexico, ciudad, historia, ciudad mexico, ballet, artes, llegar, bellas artes\n",
      "\n",
      "Tópico 6: Experiencia en Acuarios Limpios\n",
      "  Palabras clave: animales, experiencia, gusto, limpio, especies, acuario, bien, lugar\n",
      "\n",
      "Tópico 6: Experiencia en Acuarios Limpios\n",
      "  Palabras clave: animales, experiencia, gusto, limpio, especies, acuario, bien, lugar\n",
      "\n",
      "Tópico 7: Experiencia en parques históricos\n",
      "  Palabras clave: castillo, chapultepec, pena, lugar, vale, vale pena, ahi, parque\n",
      "\n",
      "Tópico 7: Experiencia en parques históricos\n",
      "  Palabras clave: castillo, chapultepec, pena, lugar, vale, vale pena, ahi, parque\n",
      "\n",
      "Tópico 8: Experiencia en Atracciones Grupales\n",
      "  Palabras clave: grupos, gente, personal, atracciones, acuario, actividades, servicio, experiencia\n",
      "\n",
      "Tópico 8: Experiencia en Atracciones Grupales\n",
      "  Palabras clave: grupos, gente, personal, atracciones, acuario, actividades, servicio, experiencia\n",
      "\n",
      "Tópico 9: Visitas a museos\n",
      "  Palabras clave: house, museum, time, go, tickets, see, read, line\n",
      "\n",
      "Tópico 9: Visitas a museos\n",
      "  Palabras clave: house, museum, time, go, tickets, see, read, line\n",
      "\n"
     ]
    }
   ],
   "source": [
    "topic_info = topic_model.get_topic_info()\n",
    "print(f\"Tópicos identificados: {len(topic_info)} (incluyendo outliers)\")\n",
    "\n",
    "topic_names = {}\n",
    "for topic_id in topic_info['Topic']:\n",
    "    if topic_id == -1:\n",
    "        topic_names[topic_id] = \"Opiniones Diversas\"\n",
    "        continue\n",
    "    \n",
    "    topic_words = topic_model.get_topic(topic_id)\n",
    "    keywords = \", \".join([word for word, _ in topic_words[:8]])\n",
    "    \n",
    "    resultado = clasificador_topicos.invoke({\"keywords\": keywords})\n",
    "    topic_names[topic_id] = resultado.nombre_topico\n",
    "    \n",
    "    print(f\"Tópico {topic_id}: {topic_names[topic_id]}\")\n",
    "    print(f\"  Palabras clave: {keywords}\")\n",
    "    print()\n",
    "\n",
    "topic_model.set_topic_labels(topic_names)"
   ]
  },
  {
   "cell_type": "code",
   "execution_count": null,
   "id": "b7a533b4",
   "metadata": {},
   "outputs": [
    {
     "name": "stdout",
     "output_type": "stream",
     "text": [
      "Distribución de tópicos en Cdmx:\n",
      "Topico_Nombre\n",
      "Experiencias en museos                 102\n",
      "Cultura y Arte Mexicano                 80\n",
      "Opiniones Diversas                      79\n",
      "Experiencia religiosa y cultural        42\n",
      "Visitas a Zócalos Urbanos               37\n",
      "Experiencias en Mercados Locales        36\n",
      "Cultura y Artes Urbanas                 33\n",
      "Experiencia en Acuarios Limpios         27\n",
      "Experiencia en parques históricos       24\n",
      "Experiencia en Atracciones Grupales     19\n",
      "Visitas a museos                        11\n",
      "Name: count, dtype: int64\n",
      "\n",
      "Porcentaje de opiniones por tópico en Cdmx:\n",
      "Experiencias en museos: 20.82%\n",
      "Cultura y Arte Mexicano: 16.33%\n",
      "Opiniones Diversas: 16.12%\n",
      "Experiencia religiosa y cultural: 8.57%\n",
      "Visitas a Zócalos Urbanos: 7.55%\n",
      "Experiencias en Mercados Locales: 7.35%\n",
      "Cultura y Artes Urbanas: 6.73%\n",
      "Experiencia en Acuarios Limpios: 5.51%\n",
      "Experiencia en parques históricos: 4.9%\n",
      "Experiencia en Atracciones Grupales: 3.88%\n",
      "Visitas a museos: 2.24%\n",
      "\n",
      "Estado actualización dataset completo:\n",
      "Total opiniones: 2464\n",
      "Opiniones con tópico asignado: 973\n",
      "Opiniones pendientes: 1491\n",
      "\n",
      "🧹 Calidad de limpieza en Cdmx:\n",
      "Textos vacíos tras limpieza: 0\n",
      "Textos válidos para análisis: 490\n",
      "Reducción promedio de texto: 32.4%\n"
     ]
    }
   ],
   "source": [
    "# Procesar solo datos de la ciudad seleccionada\n",
    "df_con_topicos = df_ciudad.dropna(subset=[columna_texto]).copy()\n",
    "df_con_topicos['Topico'] = topics\n",
    "df_con_topicos['Topico_Nombre'] = df_con_topicos['Topico'].map(topic_names)\n",
    "df_con_topicos['Probabilidad_Topico'] = probs.max(axis=1)\n",
    "\n",
    "# Verificar si la ciudad ya tenía resultados previos\n",
    "indices_ciudad = df_con_topicos.index\n",
    "opiniones_previas = df.loc[indices_ciudad, 'TopicoConBERTopic'].notna().sum()\n",
    "\n",
    "if opiniones_previas > 0:\n",
    "    print(f\"🔄 SOBRESCRIBIENDO resultados previos para {CIUDAD_ANALIZAR}:\")\n",
    "    print(f\"   📝 Opiniones con tópicos previos: {opiniones_previas}\")\n",
    "    print(f\"   🆕 Nuevas asignaciones de tópicos: {len(df_con_topicos)}\")\n",
    "else:\n",
    "    print(f\"🆕 PRIMERA VEZ procesando {CIUDAD_ANALIZAR}:\")\n",
    "    print(f\"   📝 Nuevas asignaciones de tópicos: {len(df_con_topicos)}\")\n",
    "\n",
    "# Actualizar el dataset original con los tópicos de la ciudad analizada\n",
    "df.loc[indices_ciudad, 'TopicoConBERTopic'] = df_con_topicos['Topico_Nombre']\n",
    "\n",
    "print(f\"\\n✅ Actualización completada para {CIUDAD_ANALIZAR}\")\n",
    "print(f\"Distribución de tópicos en {CIUDAD_ANALIZAR}:\")\n",
    "topico_counts = df_con_topicos['Topico_Nombre'].value_counts()\n",
    "print(topico_counts)\n",
    "\n",
    "print(f\"\\nPorcentaje de opiniones por tópico en {CIUDAD_ANALIZAR}:\")\n",
    "topico_pct = (topico_counts / len(df_con_topicos) * 100).round(2)\n",
    "for topico, pct in topico_pct.items():\n",
    "    print(f\"{topico}: {pct}%\")\n",
    "\n",
    "print(f\"\\nEstado actualización dataset completo:\")\n",
    "print(f\"Total opiniones: {len(df)}\")\n",
    "print(f\"Opiniones con tópico asignado: {df['TopicoConBERTopic'].notna().sum()}\")\n",
    "print(f\"Opiniones pendientes: {df['TopicoConBERTopic'].isna().sum()}\")\n",
    "\n",
    "# Mostrar calidad de la limpieza aplicada\n",
    "if columna_texto == 'TituloReviewLimpio':\n",
    "    textos_vacios = df_con_topicos[columna_texto].str.strip().eq('').sum()\n",
    "    print(f\"\\n🧹 Calidad de limpieza en {CIUDAD_ANALIZAR}:\")\n",
    "    print(f\"Textos vacíos tras limpieza: {textos_vacios}\")\n",
    "    print(f\"Textos válidos para análisis: {len(df_con_topicos) - textos_vacios}\")\n",
    "    \n",
    "    # Comparar longitud promedio original vs limpia\n",
    "    if 'TituloReview' in df_con_topicos.columns:\n",
    "        len_original = df_con_topicos['TituloReview'].str.len().mean()\n",
    "        len_limpia = df_con_topicos['TituloReviewLimpio'].str.len().mean()\n",
    "        reduccion = ((len_original - len_limpia) / len_original * 100)\n",
    "        print(f\"Reducción promedio de texto: {reduccion:.1f}%\")"
   ]
  },
  {
   "cell_type": "code",
   "execution_count": 24,
   "id": "60168a36",
   "metadata": {},
   "outputs": [
    {
     "data": {
      "image/png": "[encoded data removed]",
      "text/plain": [
       "<Figure size 1600x1200 with 7 Axes>"
      ]
     },
     "metadata": {},
     "output_type": "display_data"
    }
   ],
   "source": [
    "fig, axes = plt.subplots(2, 2, figsize=(16, 12))\n",
    "\n",
    "# Gráfico 1: Distribución de tópicos en la ciudad\n",
    "topico_counts.plot(kind='bar', ax=axes[0,0], color='skyblue')\n",
    "axes[0,0].set_title(f'Distribución de Tópicos - {CIUDAD_ANALIZAR}', fontsize=14, fontweight='bold')\n",
    "axes[0,0].set_xlabel('Tópicos')\n",
    "axes[0,0].set_ylabel('Número de Opiniones')\n",
    "axes[0,0].tick_params(axis='x', rotation=45)\n",
    "\n",
    "# Gráfico 2: Distribución por atracción en la ciudad\n",
    "if len(df_con_topicos['Atraccion'].unique()) > 1:\n",
    "    atraccion_topico = pd.crosstab(df_con_topicos['Atraccion'], df_con_topicos['Topico_Nombre'])\n",
    "    atraccion_topico_norm = atraccion_topico.div(atraccion_topico.sum(axis=1), axis=0)\n",
    "    sns.heatmap(atraccion_topico_norm, annot=True, fmt='.2f', ax=axes[0,1], cmap='YlOrRd')\n",
    "    axes[0,1].set_title(f'Proporción de Tópicos por Atracción - {CIUDAD_ANALIZAR}', fontsize=14, fontweight='bold')\n",
    "else:\n",
    "    axes[0,1].text(0.5, 0.5, f'Solo una atracción en {CIUDAD_ANALIZAR}', ha='center', va='center', transform=axes[0,1].transAxes)\n",
    "    axes[0,1].set_title(f'Distribución por Atracción - {CIUDAD_ANALIZAR}', fontsize=14, fontweight='bold')\n",
    "\n",
    "# Gráfico 3: Tópicos por sentimiento\n",
    "sentimiento_topico = pd.crosstab(df_con_topicos['SentimientoPorHF'], df_con_topicos['Topico_Nombre'])\n",
    "sentimiento_topico_norm = sentimiento_topico.div(sentimiento_topico.sum(axis=1), axis=0)\n",
    "sns.heatmap(sentimiento_topico_norm, annot=True, fmt='.2f', ax=axes[1,0], cmap='RdYlBu')\n",
    "axes[1,0].set_title(f'Proporción de Tópicos por Sentimiento - {CIUDAD_ANALIZAR}', fontsize=14, fontweight='bold')\n",
    "\n",
    "# Gráfico 4: Tópicos por subjetividad\n",
    "subjetividad_topico = pd.crosstab(df_con_topicos['SubjetividadConLLM'], df_con_topicos['Topico_Nombre'])\n",
    "subjetividad_topico_norm = subjetividad_topico.div(subjetividad_topico.sum(axis=1), axis=0)\n",
    "sns.heatmap(subjetividad_topico_norm, annot=True, fmt='.2f', ax=axes[1,1], cmap='viridis')\n",
    "axes[1,1].set_title(f'Proporción de Tópicos por Subjetividad - {CIUDAD_ANALIZAR}', fontsize=14, fontweight='bold')\n",
    "\n",
    "plt.tight_layout()\n",
    "plt.show()"
   ]
  },
  {
   "cell_type": "code",
   "execution_count": 25,
   "id": "16574827",
   "metadata": {},
   "outputs": [
    {
     "name": "stdout",
     "output_type": "stream",
     "text": [
      "Ejemplos de opiniones por tópico en Cdmx:\n",
      "============================================================\n",
      "\n",
      "🏷️ Tópico: Experiencias en museos\n",
      "📊 Total de opiniones: 102\n",
      "📝 Ejemplos:\n",
      "  1. Vale la pena. Vale la pena, lleno de historia y de cosas tan bellas vale la pena tomarse el tiempo d...\n",
      "  2. Views and Murals. From the archeological museum we walked around the lake and up to the castle. At t...\n",
      "  3. Un lugar que se debe visitar. La visita es muy interesante, en la mañana la entrada súper tranquila ...\n",
      "--------------------------------------------------\n",
      "\n",
      "🏷️ Tópico: Cultura y Arte Mexicano\n",
      "📊 Total de opiniones: 80\n",
      "📝 Ejemplos:\n",
      "  1. A journey to the centre of the Aztec People. Wonderful experience to understand the culture and soci...\n",
      "  2. Remarkable viewable open air ruins. Remarkable open air ruins viewable from the street. Museum attac...\n",
      "  3. Can view some of it from outside. On the first day we landed in Mexico City, we did a walking tour a...\n",
      "--------------------------------------------------\n",
      "\n",
      "🏷️ Tópico: Opiniones Diversas\n",
      "📊 Total de opiniones: 79\n",
      "📝 Ejemplos:\n",
      "  1. Castillo increíble. Este castillo es tan increíble, me sentí como si estuviera en una película de Di...\n",
      "  2. Fantastic History of Mexico. After a leisurely stroll up Chapultepec (Grasshopper) Hill, the Nationa...\n",
      "  3. Castillo de CHAPULTEPEC. Un lugar con una historia,arquitectura y vista increíble que siempre te va ...\n",
      "--------------------------------------------------\n",
      "\n",
      "🏷️ Tópico: Experiencia religiosa y cultural\n",
      "📊 Total de opiniones: 42\n",
      "📝 Ejemplos:\n",
      "  1. Hito cultural. Es un lugar religioso muy apreciado. Consta tanto de la basílica antigua histórica co...\n",
      "  2. Misas cada 1 hora !!. Si eres católico, es un imperdible.Si no lo eres y tienes curiosidad por el ma...\n",
      "  3. ¡Unos de los lugares más sagrados del mundo!. Sin duda alguna este es uno de los lugares más sagrado...\n",
      "--------------------------------------------------\n",
      "\n",
      "🏷️ Tópico: Visitas a Zócalos Urbanos\n",
      "📊 Total de opiniones: 37\n",
      "📝 Ejemplos:\n",
      "  1. Imperdible. El acceso al parque está bien señalizado, en buen estado y es fácil incluso para persona...\n",
      "  2. Mejor Atracción en Ciudad de México. Esta fue mi actividad favorita en la Ciudad de México. Hermoso ...\n",
      "  3. Magnífica vista de la Ciudad de México. Este es un castillo increíble con vistas a la Ciudad de Méxi...\n",
      "--------------------------------------------------\n"
     ]
    }
   ],
   "source": [
    "print(f\"Ejemplos de opiniones por tópico en {CIUDAD_ANALIZAR}:\")\n",
    "print(\"=\" * 60)\n",
    "\n",
    "for topico_nombre in topico_counts.index[:5]:\n",
    "    ejemplos = df_con_topicos[df_con_topicos['Topico_Nombre'] == topico_nombre]['TituloReview'].head(3)\n",
    "    print(f\"\\n🏷️ Tópico: {topico_nombre}\")\n",
    "    print(f\"📊 Total de opiniones: {topico_counts[topico_nombre]}\")\n",
    "    print(\"📝 Ejemplos:\")\n",
    "    for i, ejemplo in enumerate(ejemplos, 1):\n",
    "        print(f\"  {i}. {ejemplo[:100]}{'...' if len(ejemplo) > 100 else ''}\")\n",
    "    print(\"-\" * 50)"
   ]
  },
  {
   "cell_type": "code",
   "execution_count": 26,
   "id": "33c88fe3",
   "metadata": {},
   "outputs": [
    {
     "name": "stdout",
     "output_type": "stream",
     "text": [
      "🔍 Comparación de ejemplos - Original vs Limpio (Cdmx):\n",
      "================================================================================\n",
      "\n",
      "📄 EJEMPLO 1 - Tópico: Opiniones Diversas\n",
      "🔸 Original: En un día brillante, fui al Castillo de Chapultepec y me quedé asombrado por su esplendor y magnificencia. El castillo está situado en el centro del Parque Chapultepec en una colina. El Museo Nacional de Historia, que ahora se encuentra en el castillo, cuenta con notables murales, pinturas, esculturas, muebles y artefactos que representan la historia de México y su pueblo.\n",
      "🔹 Limpio:   dia brillante castillo chapultepec quede asombrado esplendor magnificencia castillo situado centro parque chapultepec colina museo nacional historia ahora encuentra castillo cuenta notables murales pinturas esculturas muebles artefactos representan historia mexico pueblo\n",
      "📊 Caracteres: 375 → 271 (27.7% reducción)\n",
      "📝 Palabras: 61 → 31 (49.2% reducción)\n",
      "--------------------------------------------------------------------------------\n",
      "\n",
      "📄 EJEMPLO 2 - Tópico: Experiencias en Mercados Locales\n",
      "🔸 Original: Soumaya. Entrada gratuita, cada piso tiene diferentes exposiciones , antes de la 1 de la tarde no hay tanta gente , cuentan con una cafetería.\n",
      "🔹 Limpio:   soumaya entrada gratuita cada piso diferentes exposiciones tarde tanta gente cuentan cafeteria\n",
      "📊 Caracteres: 142 → 94 (33.8% reducción)\n",
      "📝 Palabras: 25 → 12 (52.0% reducción)\n",
      "--------------------------------------------------------------------------------\n",
      "\n",
      "📄 EJEMPLO 3 - Tópico: Experiencias en museos\n",
      "🔸 Original: Super cool experience. This was very cool. My favorite part was the special exhibit of Frida’s dresses, which I’m not sure are there all the time! A great experience overall, especially if you are a fan. I was only sad that they don’t let you take photos in the house, which was disappointing since they have a few of her works.\n",
      "🔹 Limpio:   super cool experience cool favorite part special exhibit frida dresses sure time great experience overall especially fan sad let take photos house disappointing since works\n",
      "📊 Caracteres: 328 → 172 (47.6% reducción)\n",
      "📝 Palabras: 61 → 25 (59.0% reducción)\n",
      "--------------------------------------------------------------------------------\n",
      "\n",
      "📄 EJEMPLO 4 - Tópico: Experiencias en museos\n",
      "🔸 Original: Sitio obligado de visita. Lugar obligado para visitar, muy organizada, muy bien preservada, dan misa cada hora, tienen tienda propia para comprar recuerdos, a la salida tienen un sitio para bendecir lo que compraste.\n",
      "🔹 Limpio:   sitio obligado visita lugar obligado visitar organizada bien preservada dan misa cada hora tienda propia comprar recuerdos salida sitio bendecir compraste\n",
      "📊 Caracteres: 216 → 154 (28.7% reducción)\n",
      "📝 Palabras: 34 → 21 (38.2% reducción)\n",
      "--------------------------------------------------------------------------------\n",
      "\n",
      "📄 EJEMPLO 5 - Tópico: Opiniones Diversas\n",
      "🔸 Original: No vayan a los restaurantes que están en la terraza!!!! FRAUDE TOTAL!!!. Fuimos de visita a pasar un fin de semana en CDMX y pensamos en tomar un descanso en los restaurantes que están en las terrazas del zocalo para disfrutar la vista.Al principio todo bien. Atentos. Jarra de agua de cortesía. Sin embargo,  terminó siendo una pésima decisión.De una cuenta de $3350 (ya incluyendo la jarra de agua más cara de nuestras vidas), nos terminaron cobrando $5061:  jarra de agua en $499, un consumo (cover) de $533 y un importe que no supimos ni de qué fue.Pides explicaciones y no te entregan ticket, te presionan para que pagues.Íbamos con niños, así que no quisimos entrar en discusión,  pero por favor, tengan cuidado!(Adjunto ticket).\n",
      "🔹 Limpio:   vayan restaurantes estan terraza fraude total visita pasar fin semana cdmx pensamos tomar descanso restaurantes estan terrazas zocalo disfrutar vista principio bien atentos jarra agua cortesia embargo termino siendo pesima decision cuenta incluyendo jarra agua mas cara vidas terminaron cobrando jarra agua consumo cover importe supimos pides explicaciones entregan ticket presionan pagues ibamos ninos asi quisimos entrar discusion favor cuidado adjunto ticket\n",
      "📊 Caracteres: 735 → 461 (37.3% reducción)\n",
      "📝 Palabras: 124 → 62 (50.0% reducción)\n",
      "--------------------------------------------------------------------------------\n",
      "\n",
      "📄 EJEMPLO 6 - Tópico: Cultura y Arte Mexicano\n",
      "🔸 Original: The best museum in Mexico. Go even if you don't like museums. Incredible place. Do not miss it even if you aren't a museum person. This is a spectacular building designed with the observer in mind. The Stone of the Sun is here (used to be known as the Aztec calendar) and so many more amazing things. They have recreated scenes from many of the sites where the objects were found, which I think makes the artifacts more meaningful.\n",
      "🔹 Limpio:   best museum mexico go even like museums incredible place miss even museum person spectacular building designed observer mind stone sun used known aztec calendar many amazing things recreated scenes many sites objects found think makes artifacts meaningful\n",
      "📊 Caracteres: 431 → 255 (40.8% reducción)\n",
      "📝 Palabras: 79 → 37 (53.2% reducción)\n",
      "--------------------------------------------------------------------------------\n",
      "\n",
      "📄 EJEMPLO 7 - Tópico: Opiniones Diversas\n",
      "🔸 Original: Zócalo es centro de mucho para disfrutar. Si sólo miras el Zócalo, la historia está ahí, pero también los vendedores y las molestias. Si cuentas todo el barrio, con el Templo, la Catedral, los museos, algunas tiendas bonitas y la historia que está en todas partes, la calificación aparece al instante.Es imprescindible para los sentidos.\n",
      "🔹 Limpio:   zocalo centro disfrutar si solo miras zocalo historia ahi tambien vendedores molestias si cuentas barrio templo catedral museos tiendas bonitas historia todas partes calificacion aparece instante imprescindible\n",
      "📊 Caracteres: 337 → 210 (37.7% reducción)\n",
      "📝 Palabras: 55 → 27 (50.9% reducción)\n",
      "--------------------------------------------------------------------------------\n",
      "\n",
      "📄 EJEMPLO 8 - Tópico: Opiniones Diversas\n",
      "🔸 Original: Castillo en el bosque. Es un castillo muy bien preservado,  ubicado en el bosque de Chapultepec (deben reservar un día para visitarlo ya que también pueden visitar, el zoológico y el museo de Antropología, muy buenas vistas, sitio perfecto para ver fotos.\n",
      "🔹 Limpio:   castillo bosque castillo bien preservado ubicado bosque chapultepec deben reservar dia visitarlo tambien pueden visitar zoologico museo antropologia buenas vistas sitio perfecto ver fotos\n",
      "📊 Caracteres: 255 → 187 (26.7% reducción)\n",
      "📝 Palabras: 42 → 24 (42.9% reducción)\n",
      "--------------------------------------------------------------------------------\n",
      "\n",
      "📄 EJEMPLO 9 - Tópico: Cultura y Artes Urbanas\n",
      "🔸 Original: Palacio de Bellas Artes, Ciudad de México en octubre. Vea la cortina de mosaico de Tiffany haciendo el recorrido libre dentro del teatro. No sabíamos nada al respecto, solo entramos a echar un vistazo y vimos larga cola y preguntamos para qué servía. Afortunadamente esa era la cola de habla hispana y la servicial señora aconsejó que la inglesa empezaba pronto y era solo un puñado de personas. Creo que está dirigido por estudiantes, su inglés era bueno e hicieron un buen trabajo explicando la historia. Al final dieron una demostración de la enorme cortina que se levanta. Hay una cafetería y una tienda de regalos aquí.\n",
      "🔹 Limpio:   palacio bellas artes ciudad mexico octubre vea cortina mosaico tiffany haciendo recorrido libre dentro teatro sabiamos respecto solo entramos echar vistazo vimos larga cola preguntamos servia afortunadamente cola habla hispana servicial senora aconsejo inglesa empezaba pronto solo punado personas creo dirigido estudiantes ingles bueno hicieron buen trabajo explicando historia final dieron demostracion enorme cortina levanta cafeteria tienda regalos aqui\n",
      "📊 Caracteres: 624 → 457 (26.8% reducción)\n",
      "📝 Palabras: 107 → 59 (44.9% reducción)\n",
      "--------------------------------------------------------------------------------\n",
      "\n",
      "📄 EJEMPLO 10 - Tópico: Experiencia en Acuarios Limpios\n",
      "🔸 Original: Acuario Michin. Deberías haber paquetes que incluyan todas las actividades. Nos gustó los peces, las actividades del nivel 2 y los capilares.\n",
      "🔹 Limpio:   acuario michin deberias haber paquetes incluyan todas actividades gusto peces actividades nivel capilares\n",
      "📊 Caracteres: 141 → 105 (25.5% reducción)\n",
      "📝 Palabras: 22 → 13 (40.9% reducción)\n",
      "--------------------------------------------------------------------------------\n",
      "\n",
      "📄 EJEMPLO 11 - Tópico: Experiencias en museos\n",
      "🔸 Original: Vale la pena. Todo muy bonito, el museo es precioso por dentro y se nota mucho el cuidado que tiene, no tiene costo de entrada por lo que está lleno todo el día, pero vale totalmente la pena.\n",
      "🔹 Limpio:   vale pena bonito museo precioso dentro nota cuidado costo entrada lleno dia vale totalmente pena\n",
      "📊 Caracteres: 191 → 96 (49.7% reducción)\n",
      "📝 Palabras: 38 → 15 (60.5% reducción)\n",
      "--------------------------------------------------------------------------------\n",
      "\n",
      "📄 EJEMPLO 12 - Tópico: Cultura y Arte Mexicano\n",
      "🔸 Original: A trip back in time. History, history, and more history.Mexico is packed with fascinating places and amazing historical sites. This temple was found while some telecommunication workers were excavating the ground.Suddenly, they found a huge stone that archeologists knew was situated in a major temple. Today, we can still see many of the objects found and some of the walls and paintings of the Temple.The Azteca built on top of existing temples, and you can see several layers of those constructions.There are still uncovered structures, buried in the heart of Mexico city and excavations are still being conducted under the city.One can only imagine what's still to be found!.\n",
      "🔹 Limpio:   trip back time history history history mexico packed fascinating places amazing historical sites temple found telecommunication workers excavating ground suddenly found huge stone archeologists knew situated major temple today still see many objects found walls paintings temple azteca built top existing temples see several layers constructions still uncovered structures buried heart mexico city excavations still conducted city one imagine still found\n",
      "📊 Caracteres: 679 → 454 (33.1% reducción)\n",
      "📝 Palabras: 109 → 61 (44.0% reducción)\n",
      "--------------------------------------------------------------------------------\n",
      "\n",
      "📄 EJEMPLO 13 - Tópico: Experiencias en museos\n",
      "🔸 Original: Palacio de Bellas Artes. El Palacio de Bellas Artes es un recinto arquitectónico de estilo Art Deco realizado por Adamo Boari en la primera mitad del  Siglo XX, en su interior hallarás una serie de Murales de los mejores artistas tales como David Alfaro Sequeiros, Jose Clemente Orozco y Diego Rivera (entre otros).\n",
      "🔹 Limpio:   palacio bellas artes palacio bellas artes recinto arquitectonico estilo art deco realizado adamo boari primera mitad siglo xx interior hallaras serie murales mejores artistas tales david alfaro sequeiros jose clemente orozco diego rivera\n",
      "📊 Caracteres: 315 → 237 (24.8% reducción)\n",
      "📝 Palabras: 53 → 33 (37.7% reducción)\n",
      "--------------------------------------------------------------------------------\n",
      "\n",
      "📄 EJEMPLO 14 - Tópico: Experiencias en museos\n",
      "🔸 Original: Un lugar que es necesario visitar. Hermoso museo, con un número muy grande depiezas bien organizadas por épocas que le ayudan a comprender la historia de Mesoamérica.La arquitectura del museo es espectacular y la calidad de los guías que dan las explicaciones en el recorrido es muy alta.Un sitio que recomiendo visitar.\n",
      "🔹 Limpio:   lugar necesario visitar hermoso museo numero grande depiezas bien organizadas epocas ayudan comprender historia mesoamerica arquitectura museo espectacular calidad guias dan explicaciones recorrido alta sitio recomiendo visitar\n",
      "📊 Caracteres: 320 → 227 (29.1% reducción)\n",
      "📝 Palabras: 52 → 27 (48.1% reducción)\n",
      "--------------------------------------------------------------------------------\n",
      "\n",
      "📄 EJEMPLO 15 - Tópico: Opiniones Diversas\n",
      "🔸 Original: Must visit when visiting CDMX. This was such a wonderful place to visit, it was great to walk through the house & see all of her artwork. The house itself is a piece of art. Definitely book in advance as it sells out. Also really enjoyed the exhibition featuring some of Frida’s dresses and clothing. Quick easy uber ride from CDMX.\n",
      "🔹 Limpio:   must visit visiting cdmx wonderful place visit great walk house see artwork house piece art definitely book advance sells also really enjoyed exhibition featuring frida dresses clothing quick easy uber ride cdmx\n",
      "📊 Caracteres: 332 → 211 (36.4% reducción)\n",
      "📝 Palabras: 61 → 32 (47.5% reducción)\n",
      "--------------------------------------------------------------------------------\n",
      "\n",
      "📈 ESTADÍSTICAS GENERALES DE LIMPIEZA - Cdmx\n",
      "📊 ESTADÍSTICAS DE LIMPIEZA DE TEXTO\n",
      "==================================================\n",
      "📈 Total de textos analizados: 490\n",
      "\n",
      "📝 TEXTO ORIGINAL:\n",
      "   Longitud promedio: 348.8 caracteres\n",
      "   Palabras promedio: 59.9\n",
      "   Textos vacíos: 0\n",
      "\n",
      "🧹 TEXTO LIMPIO:\n",
      "   Longitud promedio: 235.7 caracteres\n",
      "   Palabras promedio: 31.4\n",
      "   Textos vacíos: 0\n",
      "\n",
      "📉 REDUCCIÓN TRAS LIMPIEZA:\n",
      "   Reducción en longitud: 32.4%\n",
      "   Reducción en palabras: 47.5%\n",
      "   Textos perdidos: 0\n"
     ]
    },
    {
     "data": {
      "image/png": "[encoded data removed]",
      "text/plain": [
       "<Figure size 1500x600 with 2 Axes>"
      ]
     },
     "metadata": {},
     "output_type": "display_data"
    },
    {
     "name": "stdout",
     "output_type": "stream",
     "text": [
      "📊 ESTADÍSTICAS DE DISTRIBUCIÓN DE PALABRAS:\n",
      "Original - Media: 59.9, Mediana: 43.0\n",
      "Limpio   - Media: 31.4, Mediana: 23.0\n"
     ]
    }
   ],
   "source": [
    "# ===== COMPARACIÓN TEXTO ORIGINAL VS TEXTO LIMPIO =====\n",
    "\n",
    "if 'TituloReviewLimpio' in df_con_topicos.columns:\n",
    "    print(f\"🔍 Comparación de ejemplos - Original vs Limpio ({CIUDAD_ANALIZAR}):\")\n",
    "    print(\"=\" * 80)\n",
    "    \n",
    "    # Seleccionar algunos ejemplos para mostrar la diferencia\n",
    "    ejemplos_muestra = df_con_topicos.sample(n=min(15, len(df_con_topicos)))\n",
    "    \n",
    "    for i, (_, row) in enumerate(ejemplos_muestra.iterrows(), 1):\n",
    "        print(f\"\\n📄 EJEMPLO {i} - Tópico: {row['Topico_Nombre']}\")\n",
    "        print(f\"🔸 Original: {row['TituloReview']}\")\n",
    "        print(f\"🔹 Limpio:   {row['TituloReviewLimpio']}\")\n",
    "        \n",
    "        # Calcular estadísticas del ejemplo\n",
    "        len_orig = len(str(row['TituloReview']))\n",
    "        len_limpio = len(str(row['TituloReviewLimpio']))\n",
    "        palabras_orig = len(str(row['TituloReview']).split())\n",
    "        palabras_limpio = len(str(row['TituloReviewLimpio']).split())\n",
    "        \n",
    "        print(f\"📊 Caracteres: {len_orig} → {len_limpio} ({((len_orig-len_limpio)/len_orig*100):.1f}% reducción)\")\n",
    "        print(f\"📝 Palabras: {palabras_orig} → {palabras_limpio} ({((palabras_orig-palabras_limpio)/palabras_orig*100):.1f}% reducción)\")\n",
    "        print(\"-\" * 80)\n",
    "    \n",
    "    # Estadísticas generales de limpieza\n",
    "    from topicos.utils_topicos import visualizar_distribucion_palabras, mostrar_estadisticas_limpieza\n",
    "    \n",
    "    print(f\"\\n📈 ESTADÍSTICAS GENERALES DE LIMPIEZA - {CIUDAD_ANALIZAR}\")\n",
    "    mostrar_estadisticas_limpieza(df_con_topicos, 'TituloReview', 'TituloReviewLimpio')\n",
    "    \n",
    "    # Visualización de distribución de palabras\n",
    "    visualizar_distribucion_palabras(df_con_topicos, 'TituloReview', 'TituloReviewLimpio')"
   ]
  },
  {
   "cell_type": "code",
   "execution_count": 27,
   "id": "28861b62",
   "metadata": {},
   "outputs": [
    {
     "name": "stdout",
     "output_type": "stream",
     "text": [
      "Visualizaciones interactivas de BERTopic para Cdmx:\n",
      "Tópicos identificados: 11 (incluyendo outliers si los hay)\n",
      "Tópicos válidos (sin outliers): 10\n",
      "\n",
      "🗺️ Generando mapa de tópicos...\n"
     ]
    },
    {
     "data": {
      "application/vnd.plotly.v1+json": {
       "config": {
        "plotlyServerURL": "https://plot.ly"
       },
       "data": [
        {
         "customdata": [
          [
           0,
           "museo | arte | museum | visitar | historia",
           102
          ],
          [
           1,
           "museum | mexico | museo | arte | city",
           80
          ],
          [
           2,
           "basilica | guadalupe | time | virgen | lugar",
           42
          ],
          [
           3,
           "ciudad | plaza | ciudad mexico | mexico | zocalo",
           37
          ],
          [
           4,
           "lugar | cdmx | plaza | restaurantes | gente",
           36
          ],
          [
           5,
           "mexico | ciudad | historia | ciudad mexico | ballet",
           33
          ],
          [
           6,
           "animales | experiencia | gusto | limpio | especies",
           27
          ],
          [
           7,
           "castillo | chapultepec | pena | lugar | vale",
           24
          ],
          [
           8,
           "grupos | gente | personal | atracciones | acuario",
           19
          ],
          [
           9,
           "house | museum | time | go | tickets",
           11
          ]
         ],
         "hovertemplate": "<b>Topic %{customdata[0]}</b><br>%{customdata[1]}<br>Size: %{customdata[2]}",
         "legendgroup": "",
         "marker": {
          "color": "#B0BEC5",
          "line": {
           "color": "DarkSlateGrey",
           "width": 2
          },
          "size": {
           "bdata": "ZlAqJSQhGxgTCw==",
           "dtype": "i1"
          },
          "sizemode": "area",
          "sizeref": 0.06375,
          "symbol": "circle"
         },
         "mode": "markers",
         "name": "",
         "orientation": "v",
         "showlegend": false,
         "type": "scatter",
         "x": {
          "bdata": "ayuTQOeYlUCdIZ5AbhGWQIZbk0CfSphAhV8JwU1nj0CTDg7B1k6lQA==",
          "dtype": "f4"
         },
         "xaxis": "x",
         "y": {
          "bdata": "T7HlPyxiJED52jQ/LApuQJ4jhUDXi0dA3RSTQV99hT9jbJVBpBbZPw==",
          "dtype": "f4"
         },
         "yaxis": "y"
        }
       ],
       "layout": {
        "annotations": [
         {
          "showarrow": false,
          "text": "D1",
          "x": -10.210342407226562,
          "y": 11.040054321289062,
          "yshift": 10
         },
         {
          "showarrow": false,
          "text": "D2",
          "x": -2.134793996810913,
          "xshift": 10,
          "y": 21.479612350463867
         }
        ],
        "height": 650,
        "hoverlabel": {
         "bgcolor": "white",
         "font": {
          "family": "Rockwell",
          "size": 16
         }
        },
        "legend": {
         "itemsizing": "constant",
         "tracegroupgap": 0
        },
        "margin": {
         "t": 60
        },
        "shapes": [
         {
          "line": {
           "color": "#CFD8DC",
           "width": 2
          },
          "type": "line",
          "x0": -2.134793996810913,
          "x1": -2.134793996810913,
          "y0": 0.6004962921142578,
          "y1": 21.479612350463867
         },
         {
          "line": {
           "color": "#9E9E9E",
           "width": 2
          },
          "type": "line",
          "x0": -10.210342407226562,
          "x1": 5.940754413604736,
          "y0": 11.040054321289062,
          "y1": 11.040054321289062
         }
        ],
        "sliders": [
         {
          "active": 0,
          "pad": {
           "t": 50
          },
          "steps": [
           {
            "args": [
             {
              "marker.color": [
               [
                "red",
                "#B0BEC5",
                "#B0BEC5",
                "#B0BEC5",
                "#B0BEC5",
                "#B0BEC5",
                "#B0BEC5",
                "#B0BEC5",
                "#B0BEC5",
                "#B0BEC5"
               ]
              ]
             }
            ],
            "label": "Topic 0",
            "method": "update"
           },
           {
            "args": [
             {
              "marker.color": [
               [
                "#B0BEC5",
                "red",
                "#B0BEC5",
                "#B0BEC5",
                "#B0BEC5",
                "#B0BEC5",
                "#B0BEC5",
                "#B0BEC5",
                "#B0BEC5",
                "#B0BEC5"
               ]
              ]
             }
            ],
            "label": "Topic 1",
            "method": "update"
           },
           {
            "args": [
             {
              "marker.color": [
               [
                "#B0BEC5",
                "#B0BEC5",
                "red",
                "#B0BEC5",
                "#B0BEC5",
                "#B0BEC5",
                "#B0BEC5",
                "#B0BEC5",
                "#B0BEC5",
                "#B0BEC5"
               ]
              ]
             }
            ],
            "label": "Topic 2",
            "method": "update"
           },
           {
            "args": [
             {
              "marker.color": [
               [
                "#B0BEC5",
                "#B0BEC5",
                "#B0BEC5",
                "red",
                "#B0BEC5",
                "#B0BEC5",
                "#B0BEC5",
                "#B0BEC5",
                "#B0BEC5",
                "#B0BEC5"
               ]
              ]
             }
            ],
            "label": "Topic 3",
            "method": "update"
           },
           {
            "args": [
             {
              "marker.color": [
               [
                "#B0BEC5",
                "#B0BEC5",
                "#B0BEC5",
                "#B0BEC5",
                "red",
                "#B0BEC5",
                "#B0BEC5",
                "#B0BEC5",
                "#B0BEC5",
                "#B0BEC5"
               ]
              ]
             }
            ],
            "label": "Topic 4",
            "method": "update"
           },
           {
            "args": [
             {
              "marker.color": [
               [
                "#B0BEC5",
                "#B0BEC5",
                "#B0BEC5",
                "#B0BEC5",
                "#B0BEC5",
                "red",
                "#B0BEC5",
                "#B0BEC5",
                "#B0BEC5",
                "#B0BEC5"
               ]
              ]
             }
            ],
            "label": "Topic 5",
            "method": "update"
           },
           {
            "args": [
             {
              "marker.color": [
               [
                "#B0BEC5",
                "#B0BEC5",
                "#B0BEC5",
                "#B0BEC5",
                "#B0BEC5",
                "#B0BEC5",
                "red",
                "#B0BEC5",
                "#B0BEC5",
                "#B0BEC5"
               ]
              ]
             }
            ],
            "label": "Topic 6",
            "method": "update"
           },
           {
            "args": [
             {
              "marker.color": [
               [
                "#B0BEC5",
                "#B0BEC5",
                "#B0BEC5",
                "#B0BEC5",
                "#B0BEC5",
                "#B0BEC5",
                "#B0BEC5",
                "red",
                "#B0BEC5",
                "#B0BEC5"
               ]
              ]
             }
            ],
            "label": "Topic 7",
            "method": "update"
           },
           {
            "args": [
             {
              "marker.color": [
               [
                "#B0BEC5",
                "#B0BEC5",
                "#B0BEC5",
                "#B0BEC5",
                "#B0BEC5",
                "#B0BEC5",
                "#B0BEC5",
                "#B0BEC5",
                "red",
                "#B0BEC5"
               ]
              ]
             }
            ],
            "label": "Topic 8",
            "method": "update"
           },
           {
            "args": [
             {
              "marker.color": [
               [
                "#B0BEC5",
                "#B0BEC5",
                "#B0BEC5",
                "#B0BEC5",
                "#B0BEC5",
                "#B0BEC5",
                "#B0BEC5",
                "#B0BEC5",
                "#B0BEC5",
                "red"
               ]
              ]
             }
            ],
            "label": "Topic 9",
            "method": "update"
           }
          ]
         }
        ],
        "template": {
         "data": {
          "bar": [
           {
            "error_x": {
             "color": "rgb(36,36,36)"
            },
            "error_y": {
             "color": "rgb(36,36,36)"
            },
            "marker": {
             "line": {
              "color": "white",
              "width": 0.5
             },
             "pattern": {
              "fillmode": "overlay",
              "size": 10,
              "solidity": 0.2
             }
            },
            "type": "bar"
           }
          ],
          "barpolar": [
           {
            "marker": {
             "line": {
              "color": "white",
              "width": 0.5
             },
             "pattern": {
              "fillmode": "overlay",
              "size": 10,
              "solidity": 0.2
             }
            },
            "type": "barpolar"
           }
          ],
          "carpet": [
           {
            "aaxis": {
             "endlinecolor": "rgb(36,36,36)",
             "gridcolor": "white",
             "linecolor": "white",
             "minorgridcolor": "white",
             "startlinecolor": "rgb(36,36,36)"
            },
            "baxis": {
             "endlinecolor": "rgb(36,36,36)",
             "gridcolor": "white",
             "linecolor": "white",
             "minorgridcolor": "white",
             "startlinecolor": "rgb(36,36,36)"
            },
            "type": "carpet"
           }
          ],
          "choropleth": [
           {
            "colorbar": {
             "outlinewidth": 1,
             "tickcolor": "rgb(36,36,36)",
             "ticks": "outside"
            },
            "type": "choropleth"
           }
          ],
          "contour": [
           {
            "colorbar": {
             "outlinewidth": 1,
             "tickcolor": "rgb(36,36,36)",
             "ticks": "outside"
            },
            "colorscale": [
             [
              0,
              "#440154"
             ],
             [
              0.1111111111111111,
              "#482878"
             ],
             [
              0.2222222222222222,
              "#3e4989"
             ],
             [
              0.3333333333333333,
              "#31688e"
             ],
             [
              0.4444444444444444,
              "#26828e"
             ],
             [
              0.5555555555555556,
              "#1f9e89"
             ],
             [
              0.6666666666666666,
              "#35b779"
             ],
             [
              0.7777777777777778,
              "#6ece58"
             ],
             [
              0.8888888888888888,
              "#b5de2b"
             ],
             [
              1,
              "#fde725"
             ]
            ],
            "type": "contour"
           }
          ],
          "contourcarpet": [
           {
            "colorbar": {
             "outlinewidth": 1,
             "tickcolor": "rgb(36,36,36)",
             "ticks": "outside"
            },
            "type": "contourcarpet"
           }
          ],
          "heatmap": [
           {
            "colorbar": {
             "outlinewidth": 1,
             "tickcolor": "rgb(36,36,36)",
             "ticks": "outside"
            },
            "colorscale": [
             [
              0,
              "#440154"
             ],
             [
              0.1111111111111111,
              "#482878"
             ],
             [
              0.2222222222222222,
              "#3e4989"
             ],
             [
              0.3333333333333333,
              "#31688e"
             ],
             [
              0.4444444444444444,
              "#26828e"
             ],
             [
              0.5555555555555556,
              "#1f9e89"
             ],
             [
              0.6666666666666666,
              "#35b779"
             ],
             [
              0.7777777777777778,
              "#6ece58"
             ],
             [
              0.8888888888888888,
              "#b5de2b"
             ],
             [
              1,
              "#fde725"
             ]
            ],
            "type": "heatmap"
           }
          ],
          "histogram": [
           {
            "marker": {
             "line": {
              "color": "white",
              "width": 0.6
             }
            },
            "type": "histogram"
           }
          ],
          "histogram2d": [
           {
            "colorbar": {
             "outlinewidth": 1,
             "tickcolor": "rgb(36,36,36)",
             "ticks": "outside"
            },
            "colorscale": [
             [
              0,
              "#440154"
             ],
             [
              0.1111111111111111,
              "#482878"
             ],
             [
              0.2222222222222222,
              "#3e4989"
             ],
             [
              0.3333333333333333,
              "#31688e"
             ],
             [
              0.4444444444444444,
              "#26828e"
             ],
             [
              0.5555555555555556,
              "#1f9e89"
             ],
             [
              0.6666666666666666,
              "#35b779"
             ],
             [
              0.7777777777777778,
              "#6ece58"
             ],
             [
              0.8888888888888888,
              "#b5de2b"
             ],
             [
              1,
              "#fde725"
             ]
            ],
            "type": "histogram2d"
           }
          ],
          "histogram2dcontour": [
           {
            "colorbar": {
             "outlinewidth": 1,
             "tickcolor": "rgb(36,36,36)",
             "ticks": "outside"
            },
            "colorscale": [
             [
              0,
              "#440154"
             ],
             [
              0.1111111111111111,
              "#482878"
             ],
             [
              0.2222222222222222,
              "#3e4989"
             ],
             [
              0.3333333333333333,
              "#31688e"
             ],
             [
              0.4444444444444444,
              "#26828e"
             ],
             [
              0.5555555555555556,
              "#1f9e89"
             ],
             [
              0.6666666666666666,
              "#35b779"
             ],
             [
              0.7777777777777778,
              "#6ece58"
             ],
             [
              0.8888888888888888,
              "#b5de2b"
             ],
             [
              1,
              "#fde725"
             ]
            ],
            "type": "histogram2dcontour"
           }
          ],
          "mesh3d": [
           {
            "colorbar": {
             "outlinewidth": 1,
             "tickcolor": "rgb(36,36,36)",
             "ticks": "outside"
            },
            "type": "mesh3d"
           }
          ],
          "parcoords": [
           {
            "line": {
             "colorbar": {
              "outlinewidth": 1,
              "tickcolor": "rgb(36,36,36)",
              "ticks": "outside"
             }
            },
            "type": "parcoords"
           }
          ],
          "pie": [
           {
            "automargin": true,
            "type": "pie"
           }
          ],
          "scatter": [
           {
            "fillpattern": {
             "fillmode": "overlay",
             "size": 10,
             "solidity": 0.2
            },
            "type": "scatter"
           }
          ],
          "scatter3d": [
           {
            "line": {
             "colorbar": {
              "outlinewidth": 1,
              "tickcolor": "rgb(36,36,36)",
              "ticks": "outside"
             }
            },
            "marker": {
             "colorbar": {
              "outlinewidth": 1,
              "tickcolor": "rgb(36,36,36)",
              "ticks": "outside"
             }
            },
            "type": "scatter3d"
           }
          ],
          "scattercarpet": [
           {
            "marker": {
             "colorbar": {
              "outlinewidth": 1,
              "tickcolor": "rgb(36,36,36)",
              "ticks": "outside"
             }
            },
            "type": "scattercarpet"
           }
          ],
          "scattergeo": [
           {
            "marker": {
             "colorbar": {
              "outlinewidth": 1,
              "tickcolor": "rgb(36,36,36)",
              "ticks": "outside"
             }
            },
            "type": "scattergeo"
           }
          ],
          "scattergl": [
           {
            "marker": {
             "colorbar": {
              "outlinewidth": 1,
              "tickcolor": "rgb(36,36,36)",
              "ticks": "outside"
             }
            },
            "type": "scattergl"
           }
          ],
          "scattermap": [
           {
            "marker": {
             "colorbar": {
              "outlinewidth": 1,
              "tickcolor": "rgb(36,36,36)",
              "ticks": "outside"
             }
            },
            "type": "scattermap"
           }
          ],
          "scattermapbox": [
           {
            "marker": {
             "colorbar": {
              "outlinewidth": 1,
              "tickcolor": "rgb(36,36,36)",
              "ticks": "outside"
             }
            },
            "type": "scattermapbox"
           }
          ],
          "scatterpolar": [
           {
            "marker": {
             "colorbar": {
              "outlinewidth": 1,
              "tickcolor": "rgb(36,36,36)",
              "ticks": "outside"
             }
            },
            "type": "scatterpolar"
           }
          ],
          "scatterpolargl": [
           {
            "marker": {
             "colorbar": {
              "outlinewidth": 1,
              "tickcolor": "rgb(36,36,36)",
              "ticks": "outside"
             }
            },
            "type": "scatterpolargl"
           }
          ],
          "scatterternary": [
           {
            "marker": {
             "colorbar": {
              "outlinewidth": 1,
              "tickcolor": "rgb(36,36,36)",
              "ticks": "outside"
             }
            },
            "type": "scatterternary"
           }
          ],
          "surface": [
           {
            "colorbar": {
             "outlinewidth": 1,
             "tickcolor": "rgb(36,36,36)",
             "ticks": "outside"
            },
            "colorscale": [
             [
              0,
              "#440154"
             ],
             [
              0.1111111111111111,
              "#482878"
             ],
             [
              0.2222222222222222,
              "#3e4989"
             ],
             [
              0.3333333333333333,
              "#31688e"
             ],
             [
              0.4444444444444444,
              "#26828e"
             ],
             [
              0.5555555555555556,
              "#1f9e89"
             ],
             [
              0.6666666666666666,
              "#35b779"
             ],
             [
              0.7777777777777778,
              "#6ece58"
             ],
             [
              0.8888888888888888,
              "#b5de2b"
             ],
             [
              1,
              "#fde725"
             ]
            ],
            "type": "surface"
           }
          ],
          "table": [
           {
            "cells": {
             "fill": {
              "color": "rgb(237,237,237)"
             },
             "line": {
              "color": "white"
             }
            },
            "header": {
             "fill": {
              "color": "rgb(217,217,217)"
             },
             "line": {
              "color": "white"
             }
            },
            "type": "table"
           }
          ]
         },
         "layout": {
          "annotationdefaults": {
           "arrowhead": 0,
           "arrowwidth": 1
          },
          "autotypenumbers": "strict",
          "coloraxis": {
           "colorbar": {
            "outlinewidth": 1,
            "tickcolor": "rgb(36,36,36)",
            "ticks": "outside"
           }
          },
          "colorscale": {
           "diverging": [
            [
             0,
             "rgb(103,0,31)"
            ],
            [
             0.1,
             "rgb(178,24,43)"
            ],
            [
             0.2,
             "rgb(214,96,77)"
            ],
            [
             0.3,
             "rgb(244,165,130)"
            ],
            [
             0.4,
             "rgb(253,219,199)"
            ],
            [
             0.5,
             "rgb(247,247,247)"
            ],
            [
             0.6,
             "rgb(209,229,240)"
            ],
            [
             0.7,
             "rgb(146,197,222)"
            ],
            [
             0.8,
             "rgb(67,147,195)"
            ],
            [
             0.9,
             "rgb(33,102,172)"
            ],
            [
             1,
             "rgb(5,48,97)"
            ]
           ],
           "sequential": [
            [
             0,
             "#440154"
            ],
            [
             0.1111111111111111,
             "#482878"
            ],
            [
             0.2222222222222222,
             "#3e4989"
            ],
            [
             0.3333333333333333,
             "#31688e"
            ],
            [
             0.4444444444444444,
             "#26828e"
            ],
            [
             0.5555555555555556,
             "#1f9e89"
            ],
            [
             0.6666666666666666,
             "#35b779"
            ],
            [
             0.7777777777777778,
             "#6ece58"
            ],
            [
             0.8888888888888888,
             "#b5de2b"
            ],
            [
             1,
             "#fde725"
            ]
           ],
           "sequentialminus": [
            [
             0,
             "#440154"
            ],
            [
             0.1111111111111111,
             "#482878"
            ],
            [
             0.2222222222222222,
             "#3e4989"
            ],
            [
             0.3333333333333333,
             "#31688e"
            ],
            [
             0.4444444444444444,
             "#26828e"
            ],
            [
             0.5555555555555556,
             "#1f9e89"
            ],
            [
             0.6666666666666666,
             "#35b779"
            ],
            [
             0.7777777777777778,
             "#6ece58"
            ],
            [
             0.8888888888888888,
             "#b5de2b"
            ],
            [
             1,
             "#fde725"
            ]
           ]
          },
          "colorway": [
           "#1F77B4",
           "#FF7F0E",
           "#2CA02C",
           "#D62728",
           "#9467BD",
           "#8C564B",
           "#E377C2",
           "#7F7F7F",
           "#BCBD22",
           "#17BECF"
          ],
          "font": {
           "color": "rgb(36,36,36)"
          },
          "geo": {
           "bgcolor": "white",
           "lakecolor": "white",
           "landcolor": "white",
           "showlakes": true,
           "showland": true,
           "subunitcolor": "white"
          },
          "hoverlabel": {
           "align": "left"
          },
          "hovermode": "closest",
          "mapbox": {
           "style": "light"
          },
          "paper_bgcolor": "white",
          "plot_bgcolor": "white",
          "polar": {
           "angularaxis": {
            "gridcolor": "rgb(232,232,232)",
            "linecolor": "rgb(36,36,36)",
            "showgrid": false,
            "showline": true,
            "ticks": "outside"
           },
           "bgcolor": "white",
           "radialaxis": {
            "gridcolor": "rgb(232,232,232)",
            "linecolor": "rgb(36,36,36)",
            "showgrid": false,
            "showline": true,
            "ticks": "outside"
           }
          },
          "scene": {
           "xaxis": {
            "backgroundcolor": "white",
            "gridcolor": "rgb(232,232,232)",
            "gridwidth": 2,
            "linecolor": "rgb(36,36,36)",
            "showbackground": true,
            "showgrid": false,
            "showline": true,
            "ticks": "outside",
            "zeroline": false,
            "zerolinecolor": "rgb(36,36,36)"
           },
           "yaxis": {
            "backgroundcolor": "white",
            "gridcolor": "rgb(232,232,232)",
            "gridwidth": 2,
            "linecolor": "rgb(36,36,36)",
            "showbackground": true,
            "showgrid": false,
            "showline": true,
            "ticks": "outside",
            "zeroline": false,
            "zerolinecolor": "rgb(36,36,36)"
           },
           "zaxis": {
            "backgroundcolor": "white",
            "gridcolor": "rgb(232,232,232)",
            "gridwidth": 2,
            "linecolor": "rgb(36,36,36)",
            "showbackground": true,
            "showgrid": false,
            "showline": true,
            "ticks": "outside",
            "zeroline": false,
            "zerolinecolor": "rgb(36,36,36)"
           }
          },
          "shapedefaults": {
           "fillcolor": "black",
           "line": {
            "width": 0
           },
           "opacity": 0.3
          },
          "ternary": {
           "aaxis": {
            "gridcolor": "rgb(232,232,232)",
            "linecolor": "rgb(36,36,36)",
            "showgrid": false,
            "showline": true,
            "ticks": "outside"
           },
           "baxis": {
            "gridcolor": "rgb(232,232,232)",
            "linecolor": "rgb(36,36,36)",
            "showgrid": false,
            "showline": true,
            "ticks": "outside"
           },
           "bgcolor": "white",
           "caxis": {
            "gridcolor": "rgb(232,232,232)",
            "linecolor": "rgb(36,36,36)",
            "showgrid": false,
            "showline": true,
            "ticks": "outside"
           }
          },
          "title": {
           "x": 0.05
          },
          "xaxis": {
           "automargin": true,
           "gridcolor": "rgb(232,232,232)",
           "linecolor": "rgb(36,36,36)",
           "showgrid": false,
           "showline": true,
           "ticks": "outside",
           "title": {
            "standoff": 15
           },
           "zeroline": false,
           "zerolinecolor": "rgb(36,36,36)"
          },
          "yaxis": {
           "automargin": true,
           "gridcolor": "rgb(232,232,232)",
           "linecolor": "rgb(36,36,36)",
           "showgrid": false,
           "showline": true,
           "ticks": "outside",
           "title": {
            "standoff": 15
           },
           "zeroline": false,
           "zerolinecolor": "rgb(36,36,36)"
          }
         }
        },
        "title": {
         "text": "Mapa de Tópicos - Cdmx"
        },
        "width": 650,
        "xaxis": {
         "anchor": "y",
         "domain": [
          0,
          1
         ],
         "range": [
          -10.210342407226562,
          5.940754413604736
         ],
         "title": {
          "text": ""
         },
         "visible": false
        },
        "yaxis": {
         "anchor": "x",
         "domain": [
          0,
          1
         ],
         "range": [
          0.6004962921142578,
          21.479612350463867
         ],
         "title": {
          "text": ""
         },
         "visible": false
        }
       }
      }
     },
     "metadata": {},
     "output_type": "display_data"
    },
    {
     "name": "stdout",
     "output_type": "stream",
     "text": [
      "\n",
      "📊 Generando gráfico de barras...\n"
     ]
    },
    {
     "data": {
      "application/vnd.plotly.v1+json": {
       "config": {
        "plotlyServerURL": "https://plot.ly"
       },
       "data": [
        {
         "marker": {
          "color": "#D55E00"
         },
         "orientation": "h",
         "type": "bar",
         "x": [
          0.026149235977721147,
          0.030518972279623288,
          0.03308029569252305,
          0.034366506158217715,
          0.08353323381326104
         ],
         "xaxis": "x",
         "y": [
          "historia  ",
          "visitar  ",
          "museum  ",
          "arte  ",
          "museo  "
         ],
         "yaxis": "y"
        },
        {
         "marker": {
          "color": "#0072B2"
         },
         "orientation": "h",
         "type": "bar",
         "x": [
          0.03274242692606412,
          0.03737414796771078,
          0.052151060825812015,
          0.06246330314150509,
          0.06382727407233062
         ],
         "xaxis": "x2",
         "y": [
          "city  ",
          "arte  ",
          "museo  ",
          "mexico  ",
          "museum  "
         ],
         "yaxis": "y2"
        },
        {
         "marker": {
          "color": "#CC79A7"
         },
         "orientation": "h",
         "type": "bar",
         "x": [
          0.04246057783397884,
          0.04447603296467252,
          0.04584672819871257,
          0.05844665736006249,
          0.14205010299669044
         ],
         "xaxis": "x3",
         "y": [
          "lugar  ",
          "virgen  ",
          "time  ",
          "guadalupe  ",
          "basilica  "
         ],
         "yaxis": "y3"
        },
        {
         "marker": {
          "color": "#E69F00"
         },
         "orientation": "h",
         "type": "bar",
         "x": [
          0.05036713902146034,
          0.06661729978407234,
          0.0735586806248211,
          0.09368573404025907,
          0.09567916741218953
         ],
         "xaxis": "x4",
         "y": [
          "zocalo  ",
          "mexico  ",
          "ciudad mexico  ",
          "plaza  ",
          "ciudad  "
         ],
         "yaxis": "y4"
        },
        {
         "marker": {
          "color": "#56B4E9"
         },
         "orientation": "h",
         "type": "bar",
         "x": [
          0.052057620664106526,
          0.05461780953033052,
          0.06349440220095785,
          0.06628317227106305,
          0.07257287004798324
         ],
         "xaxis": "x5",
         "y": [
          "gente  ",
          "restaurantes  ",
          "plaza  ",
          "cdmx  ",
          "lugar  "
         ],
         "yaxis": "y5"
        },
        {
         "marker": {
          "color": "#009E73"
         },
         "orientation": "h",
         "type": "bar",
         "x": [
          0.03835571922089801,
          0.039601792203210195,
          0.045306982669059914,
          0.05048876058535193,
          0.05180465405325008
         ],
         "xaxis": "x6",
         "y": [
          "ballet  ",
          "ciudad mexico  ",
          "historia  ",
          "ciudad  ",
          "mexico  "
         ],
         "yaxis": "y6"
        },
        {
         "marker": {
          "color": "#F0E442"
         },
         "orientation": "h",
         "type": "bar",
         "x": [
          0.08249992434549192,
          0.08275497218909621,
          0.08862766004794466,
          0.11408925211542646,
          0.14493359652764512
         ],
         "xaxis": "x7",
         "y": [
          "especies  ",
          "limpio  ",
          "gusto  ",
          "experiencia  ",
          "animales  "
         ],
         "yaxis": "y7"
        },
        {
         "marker": {
          "color": "#D55E00"
         },
         "orientation": "h",
         "type": "bar",
         "x": [
          0.05141434654566116,
          0.05610036417992122,
          0.05690859179811335,
          0.06459583733966576,
          0.07113573974764169
         ],
         "xaxis": "x8",
         "y": [
          "vale  ",
          "lugar  ",
          "pena  ",
          "chapultepec  ",
          "castillo  "
         ],
         "yaxis": "y8"
        }
       ],
       "layout": {
        "annotations": [
         {
          "font": {
           "size": 16
          },
          "showarrow": false,
          "text": "Topic 0",
          "x": 0.0875,
          "xanchor": "center",
          "xref": "paper",
          "y": 1,
          "yanchor": "bottom",
          "yref": "paper"
         },
         {
          "font": {
           "size": 16
          },
          "showarrow": false,
          "text": "Topic 1",
          "x": 0.36250000000000004,
          "xanchor": "center",
          "xref": "paper",
          "y": 1,
          "yanchor": "bottom",
          "yref": "paper"
         },
         {
          "font": {
           "size": 16
          },
          "showarrow": false,
          "text": "Topic 2",
          "x": 0.6375000000000001,
          "xanchor": "center",
          "xref": "paper",
          "y": 1,
          "yanchor": "bottom",
          "yref": "paper"
         },
         {
          "font": {
           "size": 16
          },
          "showarrow": false,
          "text": "Topic 3",
          "x": 0.9125,
          "xanchor": "center",
          "xref": "paper",
          "y": 1,
          "yanchor": "bottom",
          "yref": "paper"
         },
         {
          "font": {
           "size": 16
          },
          "showarrow": false,
          "text": "Topic 4",
          "x": 0.0875,
          "xanchor": "center",
          "xref": "paper",
          "y": 0.4,
          "yanchor": "bottom",
          "yref": "paper"
         },
         {
          "font": {
           "size": 16
          },
          "showarrow": false,
          "text": "Topic 5",
          "x": 0.36250000000000004,
          "xanchor": "center",
          "xref": "paper",
          "y": 0.4,
          "yanchor": "bottom",
          "yref": "paper"
         },
         {
          "font": {
           "size": 16
          },
          "showarrow": false,
          "text": "Topic 6",
          "x": 0.6375000000000001,
          "xanchor": "center",
          "xref": "paper",
          "y": 0.4,
          "yanchor": "bottom",
          "yref": "paper"
         },
         {
          "font": {
           "size": 16
          },
          "showarrow": false,
          "text": "Topic 7",
          "x": 0.9125,
          "xanchor": "center",
          "xref": "paper",
          "y": 0.4,
          "yanchor": "bottom",
          "yref": "paper"
         }
        ],
        "height": 500,
        "hoverlabel": {
         "bgcolor": "white",
         "font": {
          "family": "Rockwell",
          "size": 16
         }
        },
        "showlegend": false,
        "template": {
         "data": {
          "bar": [
           {
            "error_x": {
             "color": "#2a3f5f"
            },
            "error_y": {
             "color": "#2a3f5f"
            },
            "marker": {
             "line": {
              "color": "white",
              "width": 0.5
             },
             "pattern": {
              "fillmode": "overlay",
              "size": 10,
              "solidity": 0.2
             }
            },
            "type": "bar"
           }
          ],
          "barpolar": [
           {
            "marker": {
             "line": {
              "color": "white",
              "width": 0.5
             },
             "pattern": {
              "fillmode": "overlay",
              "size": 10,
              "solidity": 0.2
             }
            },
            "type": "barpolar"
           }
          ],
          "carpet": [
           {
            "aaxis": {
             "endlinecolor": "#2a3f5f",
             "gridcolor": "#C8D4E3",
             "linecolor": "#C8D4E3",
             "minorgridcolor": "#C8D4E3",
             "startlinecolor": "#2a3f5f"
            },
            "baxis": {
             "endlinecolor": "#2a3f5f",
             "gridcolor": "#C8D4E3",
             "linecolor": "#C8D4E3",
             "minorgridcolor": "#C8D4E3",
             "startlinecolor": "#2a3f5f"
            },
            "type": "carpet"
           }
          ],
          "choropleth": [
           {
            "colorbar": {
             "outlinewidth": 0,
             "ticks": ""
            },
            "type": "choropleth"
           }
          ],
          "contour": [
           {
            "colorbar": {
             "outlinewidth": 0,
             "ticks": ""
            },
            "colorscale": [
             [
              0,
              "#0d0887"
             ],
             [
              0.1111111111111111,
              "#46039f"
             ],
             [
              0.2222222222222222,
              "#7201a8"
             ],
             [
              0.3333333333333333,
              "#9c179e"
             ],
             [
              0.4444444444444444,
              "#bd3786"
             ],
             [
              0.5555555555555556,
              "#d8576b"
             ],
             [
              0.6666666666666666,
              "#ed7953"
             ],
             [
              0.7777777777777778,
              "#fb9f3a"
             ],
             [
              0.8888888888888888,
              "#fdca26"
             ],
             [
              1,
              "#f0f921"
             ]
            ],
            "type": "contour"
           }
          ],
          "contourcarpet": [
           {
            "colorbar": {
             "outlinewidth": 0,
             "ticks": ""
            },
            "type": "contourcarpet"
           }
          ],
          "heatmap": [
           {
            "colorbar": {
             "outlinewidth": 0,
             "ticks": ""
            },
            "colorscale": [
             [
              0,
              "#0d0887"
             ],
             [
              0.1111111111111111,
              "#46039f"
             ],
             [
              0.2222222222222222,
              "#7201a8"
             ],
             [
              0.3333333333333333,
              "#9c179e"
             ],
             [
              0.4444444444444444,
              "#bd3786"
             ],
             [
              0.5555555555555556,
              "#d8576b"
             ],
             [
              0.6666666666666666,
              "#ed7953"
             ],
             [
              0.7777777777777778,
              "#fb9f3a"
             ],
             [
              0.8888888888888888,
              "#fdca26"
             ],
             [
              1,
              "#f0f921"
             ]
            ],
            "type": "heatmap"
           }
          ],
          "histogram": [
           {
            "marker": {
             "pattern": {
              "fillmode": "overlay",
              "size": 10,
              "solidity": 0.2
             }
            },
            "type": "histogram"
           }
          ],
          "histogram2d": [
           {
            "colorbar": {
             "outlinewidth": 0,
             "ticks": ""
            },
            "colorscale": [
             [
              0,
              "#0d0887"
             ],
             [
              0.1111111111111111,
              "#46039f"
             ],
             [
              0.2222222222222222,
              "#7201a8"
             ],
             [
              0.3333333333333333,
              "#9c179e"
             ],
             [
              0.4444444444444444,
              "#bd3786"
             ],
             [
              0.5555555555555556,
              "#d8576b"
             ],
             [
              0.6666666666666666,
              "#ed7953"
             ],
             [
              0.7777777777777778,
              "#fb9f3a"
             ],
             [
              0.8888888888888888,
              "#fdca26"
             ],
             [
              1,
              "#f0f921"
             ]
            ],
            "type": "histogram2d"
           }
          ],
          "histogram2dcontour": [
           {
            "colorbar": {
             "outlinewidth": 0,
             "ticks": ""
            },
            "colorscale": [
             [
              0,
              "#0d0887"
             ],
             [
              0.1111111111111111,
              "#46039f"
             ],
             [
              0.2222222222222222,
              "#7201a8"
             ],
             [
              0.3333333333333333,
              "#9c179e"
             ],
             [
              0.4444444444444444,
              "#bd3786"
             ],
             [
              0.5555555555555556,
              "#d8576b"
             ],
             [
              0.6666666666666666,
              "#ed7953"
             ],
             [
              0.7777777777777778,
              "#fb9f3a"
             ],
             [
              0.8888888888888888,
              "#fdca26"
             ],
             [
              1,
              "#f0f921"
             ]
            ],
            "type": "histogram2dcontour"
           }
          ],
          "mesh3d": [
           {
            "colorbar": {
             "outlinewidth": 0,
             "ticks": ""
            },
            "type": "mesh3d"
           }
          ],
          "parcoords": [
           {
            "line": {
             "colorbar": {
              "outlinewidth": 0,
              "ticks": ""
             }
            },
            "type": "parcoords"
           }
          ],
          "pie": [
           {
            "automargin": true,
            "type": "pie"
           }
          ],
          "scatter": [
           {
            "fillpattern": {
             "fillmode": "overlay",
             "size": 10,
             "solidity": 0.2
            },
            "type": "scatter"
           }
          ],
          "scatter3d": [
           {
            "line": {
             "colorbar": {
              "outlinewidth": 0,
              "ticks": ""
             }
            },
            "marker": {
             "colorbar": {
              "outlinewidth": 0,
              "ticks": ""
             }
            },
            "type": "scatter3d"
           }
          ],
          "scattercarpet": [
           {
            "marker": {
             "colorbar": {
              "outlinewidth": 0,
              "ticks": ""
             }
            },
            "type": "scattercarpet"
           }
          ],
          "scattergeo": [
           {
            "marker": {
             "colorbar": {
              "outlinewidth": 0,
              "ticks": ""
             }
            },
            "type": "scattergeo"
           }
          ],
          "scattergl": [
           {
            "marker": {
             "colorbar": {
              "outlinewidth": 0,
              "ticks": ""
             }
            },
            "type": "scattergl"
           }
          ],
          "scattermap": [
           {
            "marker": {
             "colorbar": {
              "outlinewidth": 0,
              "ticks": ""
             }
            },
            "type": "scattermap"
           }
          ],
          "scattermapbox": [
           {
            "marker": {
             "colorbar": {
              "outlinewidth": 0,
              "ticks": ""
             }
            },
            "type": "scattermapbox"
           }
          ],
          "scatterpolar": [
           {
            "marker": {
             "colorbar": {
              "outlinewidth": 0,
              "ticks": ""
             }
            },
            "type": "scatterpolar"
           }
          ],
          "scatterpolargl": [
           {
            "marker": {
             "colorbar": {
              "outlinewidth": 0,
              "ticks": ""
             }
            },
            "type": "scatterpolargl"
           }
          ],
          "scatterternary": [
           {
            "marker": {
             "colorbar": {
              "outlinewidth": 0,
              "ticks": ""
             }
            },
            "type": "scatterternary"
           }
          ],
          "surface": [
           {
            "colorbar": {
             "outlinewidth": 0,
             "ticks": ""
            },
            "colorscale": [
             [
              0,
              "#0d0887"
             ],
             [
              0.1111111111111111,
              "#46039f"
             ],
             [
              0.2222222222222222,
              "#7201a8"
             ],
             [
              0.3333333333333333,
              "#9c179e"
             ],
             [
              0.4444444444444444,
              "#bd3786"
             ],
             [
              0.5555555555555556,
              "#d8576b"
             ],
             [
              0.6666666666666666,
              "#ed7953"
             ],
             [
              0.7777777777777778,
              "#fb9f3a"
             ],
             [
              0.8888888888888888,
              "#fdca26"
             ],
             [
              1,
              "#f0f921"
             ]
            ],
            "type": "surface"
           }
          ],
          "table": [
           {
            "cells": {
             "fill": {
              "color": "#EBF0F8"
             },
             "line": {
              "color": "white"
             }
            },
            "header": {
             "fill": {
              "color": "#C8D4E3"
             },
             "line": {
              "color": "white"
             }
            },
            "type": "table"
           }
          ]
         },
         "layout": {
          "annotationdefaults": {
           "arrowcolor": "#2a3f5f",
           "arrowhead": 0,
           "arrowwidth": 1
          },
          "autotypenumbers": "strict",
          "coloraxis": {
           "colorbar": {
            "outlinewidth": 0,
            "ticks": ""
           }
          },
          "colorscale": {
           "diverging": [
            [
             0,
             "#8e0152"
            ],
            [
             0.1,
             "#c51b7d"
            ],
            [
             0.2,
             "#de77ae"
            ],
            [
             0.3,
             "#f1b6da"
            ],
            [
             0.4,
             "#fde0ef"
            ],
            [
             0.5,
             "#f7f7f7"
            ],
            [
             0.6,
             "#e6f5d0"
            ],
            [
             0.7,
             "#b8e186"
            ],
            [
             0.8,
             "#7fbc41"
            ],
            [
             0.9,
             "#4d9221"
            ],
            [
             1,
             "#276419"
            ]
           ],
           "sequential": [
            [
             0,
             "#0d0887"
            ],
            [
             0.1111111111111111,
             "#46039f"
            ],
            [
             0.2222222222222222,
             "#7201a8"
            ],
            [
             0.3333333333333333,
             "#9c179e"
            ],
            [
             0.4444444444444444,
             "#bd3786"
            ],
            [
             0.5555555555555556,
             "#d8576b"
            ],
            [
             0.6666666666666666,
             "#ed7953"
            ],
            [
             0.7777777777777778,
             "#fb9f3a"
            ],
            [
             0.8888888888888888,
             "#fdca26"
            ],
            [
             1,
             "#f0f921"
            ]
           ],
           "sequentialminus": [
            [
             0,
             "#0d0887"
            ],
            [
             0.1111111111111111,
             "#46039f"
            ],
            [
             0.2222222222222222,
             "#7201a8"
            ],
            [
             0.3333333333333333,
             "#9c179e"
            ],
            [
             0.4444444444444444,
             "#bd3786"
            ],
            [
             0.5555555555555556,
             "#d8576b"
            ],
            [
             0.6666666666666666,
             "#ed7953"
            ],
            [
             0.7777777777777778,
             "#fb9f3a"
            ],
            [
             0.8888888888888888,
             "#fdca26"
            ],
            [
             1,
             "#f0f921"
            ]
           ]
          },
          "colorway": [
           "#636efa",
           "#EF553B",
           "#00cc96",
           "#ab63fa",
           "#FFA15A",
           "#19d3f3",
           "#FF6692",
           "#B6E880",
           "#FF97FF",
           "#FECB52"
          ],
          "font": {
           "color": "#2a3f5f"
          },
          "geo": {
           "bgcolor": "white",
           "lakecolor": "white",
           "landcolor": "white",
           "showlakes": true,
           "showland": true,
           "subunitcolor": "#C8D4E3"
          },
          "hoverlabel": {
           "align": "left"
          },
          "hovermode": "closest",
          "mapbox": {
           "style": "light"
          },
          "paper_bgcolor": "white",
          "plot_bgcolor": "white",
          "polar": {
           "angularaxis": {
            "gridcolor": "#EBF0F8",
            "linecolor": "#EBF0F8",
            "ticks": ""
           },
           "bgcolor": "white",
           "radialaxis": {
            "gridcolor": "#EBF0F8",
            "linecolor": "#EBF0F8",
            "ticks": ""
           }
          },
          "scene": {
           "xaxis": {
            "backgroundcolor": "white",
            "gridcolor": "#DFE8F3",
            "gridwidth": 2,
            "linecolor": "#EBF0F8",
            "showbackground": true,
            "ticks": "",
            "zerolinecolor": "#EBF0F8"
           },
           "yaxis": {
            "backgroundcolor": "white",
            "gridcolor": "#DFE8F3",
            "gridwidth": 2,
            "linecolor": "#EBF0F8",
            "showbackground": true,
            "ticks": "",
            "zerolinecolor": "#EBF0F8"
           },
           "zaxis": {
            "backgroundcolor": "white",
            "gridcolor": "#DFE8F3",
            "gridwidth": 2,
            "linecolor": "#EBF0F8",
            "showbackground": true,
            "ticks": "",
            "zerolinecolor": "#EBF0F8"
           }
          },
          "shapedefaults": {
           "line": {
            "color": "#2a3f5f"
           }
          },
          "ternary": {
           "aaxis": {
            "gridcolor": "#DFE8F3",
            "linecolor": "#A2B1C6",
            "ticks": ""
           },
           "baxis": {
            "gridcolor": "#DFE8F3",
            "linecolor": "#A2B1C6",
            "ticks": ""
           },
           "bgcolor": "white",
           "caxis": {
            "gridcolor": "#DFE8F3",
            "linecolor": "#A2B1C6",
            "ticks": ""
           }
          },
          "title": {
           "x": 0.05
          },
          "xaxis": {
           "automargin": true,
           "gridcolor": "#EBF0F8",
           "linecolor": "#EBF0F8",
           "ticks": "",
           "title": {
            "standoff": 15
           },
           "zerolinecolor": "#EBF0F8",
           "zerolinewidth": 2
          },
          "yaxis": {
           "automargin": true,
           "gridcolor": "#EBF0F8",
           "linecolor": "#EBF0F8",
           "ticks": "",
           "title": {
            "standoff": 15
           },
           "zerolinecolor": "#EBF0F8",
           "zerolinewidth": 2
          }
         }
        },
        "title": {
         "text": "Palabras Clave por Tópico - Cdmx"
        },
        "width": 1000,
        "xaxis": {
         "anchor": "y",
         "domain": [
          0,
          0.175
         ],
         "showgrid": true
        },
        "xaxis2": {
         "anchor": "y2",
         "domain": [
          0.275,
          0.45
         ],
         "showgrid": true
        },
        "xaxis3": {
         "anchor": "y3",
         "domain": [
          0.55,
          0.7250000000000001
         ],
         "showgrid": true
        },
        "xaxis4": {
         "anchor": "y4",
         "domain": [
          0.825,
          1
         ],
         "showgrid": true
        },
        "xaxis5": {
         "anchor": "y5",
         "domain": [
          0,
          0.175
         ],
         "showgrid": true
        },
        "xaxis6": {
         "anchor": "y6",
         "domain": [
          0.275,
          0.45
         ],
         "showgrid": true
        },
        "xaxis7": {
         "anchor": "y7",
         "domain": [
          0.55,
          0.7250000000000001
         ],
         "showgrid": true
        },
        "xaxis8": {
         "anchor": "y8",
         "domain": [
          0.825,
          1
         ],
         "showgrid": true
        },
        "yaxis": {
         "anchor": "x",
         "domain": [
          0.6000000000000001,
          1
         ],
         "showgrid": true
        },
        "yaxis2": {
         "anchor": "x2",
         "domain": [
          0.6000000000000001,
          1
         ],
         "showgrid": true
        },
        "yaxis3": {
         "anchor": "x3",
         "domain": [
          0.6000000000000001,
          1
         ],
         "showgrid": true
        },
        "yaxis4": {
         "anchor": "x4",
         "domain": [
          0.6000000000000001,
          1
         ],
         "showgrid": true
        },
        "yaxis5": {
         "anchor": "x5",
         "domain": [
          0,
          0.4
         ],
         "showgrid": true
        },
        "yaxis6": {
         "anchor": "x6",
         "domain": [
          0,
          0.4
         ],
         "showgrid": true
        },
        "yaxis7": {
         "anchor": "x7",
         "domain": [
          0,
          0.4
         ],
         "showgrid": true
        },
        "yaxis8": {
         "anchor": "x8",
         "domain": [
          0,
          0.4
         ],
         "showgrid": true
        }
       }
      }
     },
     "metadata": {},
     "output_type": "display_data"
    },
    {
     "name": "stdout",
     "output_type": "stream",
     "text": [
      "\n",
      "🌳 Generando jerarquía de tópicos...\n"
     ]
    },
    {
     "data": {
      "application/vnd.plotly.v1+json": {
       "config": {
        "plotlyServerURL": "https://plot.ly"
       },
       "data": [
        {
         "hoverinfo": "text",
         "marker": {
          "color": "rgb(61,153,112)"
         },
         "mode": "lines",
         "type": "scatter",
         "x": {
          "bdata": "AAAAAAAAAAB8IIRMGcPXP3wghEwZw9c/AAAAAAAAAAA=",
          "dtype": "f8"
         },
         "xaxis": "x",
         "y": {
          "bdata": "AAAAAAAALsAAAAAAAAAuwAAAAAAAADnAAAAAAAAAOcA=",
          "dtype": "f8"
         },
         "yaxis": "y"
        },
        {
         "hoverinfo": "text",
         "marker": {
          "color": "rgb(61,153,112)"
         },
         "mode": "lines",
         "type": "scatter",
         "x": {
          "bdata": "fCCETBnD1z8CPtlekbrmPwI+2V6RuuY/AAAAAAAAAAA=",
          "dtype": "f8"
         },
         "xaxis": "x",
         "y": {
          "bdata": "AAAAAAAANMAAAAAAAAA0wAAAAAAAgEHAAAAAAACAQcA=",
          "dtype": "f8"
         },
         "yaxis": "y"
        },
        {
         "hoverinfo": "text",
         "marker": {
          "color": "rgb(61,153,112)"
         },
         "mode": "lines",
         "type": "scatter",
         "x": {
          "bdata": "AAAAAAAAAAA/WgPf1aznPz9aA9/VrOc/Aj7ZXpG65j8=",
          "dtype": "f8"
         },
         "xaxis": "x",
         "y": {
          "bdata": "AAAAAAAAFMAAAAAAAAAUwAAAAAAAgDvAAAAAAACAO8A=",
          "dtype": "f8"
         },
         "yaxis": "y"
        },
        {
         "hoverinfo": "text",
         "marker": {
          "color": "rgb(255,65,54)"
         },
         "mode": "lines",
         "type": "scatter",
         "x": {
          "bdata": "AAAAAAAAAACOq7zS8GTgP46rvNLwZOA/AAAAAAAAAAA=",
          "dtype": "f8"
         },
         "xaxis": "x",
         "y": {
          "bdata": "AAAAAACAS8AAAAAAAIBLwAAAAAAAQFDAAAAAAABAUMA=",
          "dtype": "f8"
         },
         "yaxis": "y"
        },
        {
         "hoverinfo": "text",
         "marker": {
          "color": "rgb(255,65,54)"
         },
         "mode": "lines",
         "type": "scatter",
         "x": {
          "bdata": "jqu80vBk4D/1IoFrTLnjP/UigWtMueM/AAAAAAAAAAA=",
          "dtype": "f8"
         },
         "xaxis": "x",
         "y": {
          "bdata": "AAAAAAAATsAAAAAAAABOwAAAAAAAwFLAAAAAAADAUsA=",
          "dtype": "f8"
         },
         "yaxis": "y"
        },
        {
         "hoverinfo": "text",
         "marker": {
          "color": "rgb(255,65,54)"
         },
         "mode": "lines",
         "type": "scatter",
         "x": {
          "bdata": "AAAAAAAAAADb4t0UIePmP9vi3RQh4+Y/9SKBa0y54z8=",
          "dtype": "f8"
         },
         "xaxis": "x",
         "y": {
          "bdata": "AAAAAACARsAAAAAAAIBGwAAAAAAA4FDAAAAAAADgUMA=",
          "dtype": "f8"
         },
         "yaxis": "y"
        },
        {
         "hoverinfo": "text",
         "marker": {
          "color": "rgb(255,65,54)"
         },
         "mode": "lines",
         "type": "scatter",
         "x": {
          "bdata": "AAAAAAAAAABSX4e6fmbhP1Jfh7p+ZuE/AAAAAAAAAAA=",
          "dtype": "f8"
         },
         "xaxis": "x",
         "y": {
          "bdata": "AAAAAABAVcAAAAAAAEBVwAAAAAAAwFfAAAAAAADAV8A=",
          "dtype": "f8"
         },
         "yaxis": "y"
        },
        {
         "hoverinfo": "text",
         "marker": {
          "color": "rgb(255,65,54)"
         },
         "mode": "lines",
         "type": "scatter",
         "x": {
          "bdata": "2+LdFCHj5j9GyT1LG/3vP0bJPUsb/e8/Ul+Hun5m4T8=",
          "dtype": "f8"
         },
         "xaxis": "x",
         "y": {
          "bdata": "AAAAAAAgTMAAAAAAACBMwAAAAAAAgFbAAAAAAACAVsA=",
          "dtype": "f8"
         },
         "yaxis": "y"
        },
        {
         "hoverinfo": "text",
         "marker": {
          "color": "rgb(0,116,217)"
         },
         "mode": "lines",
         "type": "scatter",
         "x": {
          "bdata": "P1oD39Ws5z/eYdgIrg7yP95h2AiuDvI/Rsk9Sxv97z8=",
          "dtype": "f8"
         },
         "xaxis": "x",
         "y": {
          "bdata": "AAAAAABAMMAAAAAAAEAwwAAAAAAASFLAAAAAAABIUsA=",
          "dtype": "f8"
         },
         "yaxis": "y"
        }
       ],
       "layout": {
        "autosize": false,
        "height": 350,
        "hoverlabel": {
         "bgcolor": "white",
         "font": {
          "family": "Rockwell",
          "size": 16
         }
        },
        "hovermode": "closest",
        "plot_bgcolor": "#ECEFF1",
        "showlegend": false,
        "template": {
         "data": {
          "bar": [
           {
            "error_x": {
             "color": "#2a3f5f"
            },
            "error_y": {
             "color": "#2a3f5f"
            },
            "marker": {
             "line": {
              "color": "white",
              "width": 0.5
             },
             "pattern": {
              "fillmode": "overlay",
              "size": 10,
              "solidity": 0.2
             }
            },
            "type": "bar"
           }
          ],
          "barpolar": [
           {
            "marker": {
             "line": {
              "color": "white",
              "width": 0.5
             },
             "pattern": {
              "fillmode": "overlay",
              "size": 10,
              "solidity": 0.2
             }
            },
            "type": "barpolar"
           }
          ],
          "carpet": [
           {
            "aaxis": {
             "endlinecolor": "#2a3f5f",
             "gridcolor": "#C8D4E3",
             "linecolor": "#C8D4E3",
             "minorgridcolor": "#C8D4E3",
             "startlinecolor": "#2a3f5f"
            },
            "baxis": {
             "endlinecolor": "#2a3f5f",
             "gridcolor": "#C8D4E3",
             "linecolor": "#C8D4E3",
             "minorgridcolor": "#C8D4E3",
             "startlinecolor": "#2a3f5f"
            },
            "type": "carpet"
           }
          ],
          "choropleth": [
           {
            "colorbar": {
             "outlinewidth": 0,
             "ticks": ""
            },
            "type": "choropleth"
           }
          ],
          "contour": [
           {
            "colorbar": {
             "outlinewidth": 0,
             "ticks": ""
            },
            "colorscale": [
             [
              0,
              "#0d0887"
             ],
             [
              0.1111111111111111,
              "#46039f"
             ],
             [
              0.2222222222222222,
              "#7201a8"
             ],
             [
              0.3333333333333333,
              "#9c179e"
             ],
             [
              0.4444444444444444,
              "#bd3786"
             ],
             [
              0.5555555555555556,
              "#d8576b"
             ],
             [
              0.6666666666666666,
              "#ed7953"
             ],
             [
              0.7777777777777778,
              "#fb9f3a"
             ],
             [
              0.8888888888888888,
              "#fdca26"
             ],
             [
              1,
              "#f0f921"
             ]
            ],
            "type": "contour"
           }
          ],
          "contourcarpet": [
           {
            "colorbar": {
             "outlinewidth": 0,
             "ticks": ""
            },
            "type": "contourcarpet"
           }
          ],
          "heatmap": [
           {
            "colorbar": {
             "outlinewidth": 0,
             "ticks": ""
            },
            "colorscale": [
             [
              0,
              "#0d0887"
             ],
             [
              0.1111111111111111,
              "#46039f"
             ],
             [
              0.2222222222222222,
              "#7201a8"
             ],
             [
              0.3333333333333333,
              "#9c179e"
             ],
             [
              0.4444444444444444,
              "#bd3786"
             ],
             [
              0.5555555555555556,
              "#d8576b"
             ],
             [
              0.6666666666666666,
              "#ed7953"
             ],
             [
              0.7777777777777778,
              "#fb9f3a"
             ],
             [
              0.8888888888888888,
              "#fdca26"
             ],
             [
              1,
              "#f0f921"
             ]
            ],
            "type": "heatmap"
           }
          ],
          "histogram": [
           {
            "marker": {
             "pattern": {
              "fillmode": "overlay",
              "size": 10,
              "solidity": 0.2
             }
            },
            "type": "histogram"
           }
          ],
          "histogram2d": [
           {
            "colorbar": {
             "outlinewidth": 0,
             "ticks": ""
            },
            "colorscale": [
             [
              0,
              "#0d0887"
             ],
             [
              0.1111111111111111,
              "#46039f"
             ],
             [
              0.2222222222222222,
              "#7201a8"
             ],
             [
              0.3333333333333333,
              "#9c179e"
             ],
             [
              0.4444444444444444,
              "#bd3786"
             ],
             [
              0.5555555555555556,
              "#d8576b"
             ],
             [
              0.6666666666666666,
              "#ed7953"
             ],
             [
              0.7777777777777778,
              "#fb9f3a"
             ],
             [
              0.8888888888888888,
              "#fdca26"
             ],
             [
              1,
              "#f0f921"
             ]
            ],
            "type": "histogram2d"
           }
          ],
          "histogram2dcontour": [
           {
            "colorbar": {
             "outlinewidth": 0,
             "ticks": ""
            },
            "colorscale": [
             [
              0,
              "#0d0887"
             ],
             [
              0.1111111111111111,
              "#46039f"
             ],
             [
              0.2222222222222222,
              "#7201a8"
             ],
             [
              0.3333333333333333,
              "#9c179e"
             ],
             [
              0.4444444444444444,
              "#bd3786"
             ],
             [
              0.5555555555555556,
              "#d8576b"
             ],
             [
              0.6666666666666666,
              "#ed7953"
             ],
             [
              0.7777777777777778,
              "#fb9f3a"
             ],
             [
              0.8888888888888888,
              "#fdca26"
             ],
             [
              1,
              "#f0f921"
             ]
            ],
            "type": "histogram2dcontour"
           }
          ],
          "mesh3d": [
           {
            "colorbar": {
             "outlinewidth": 0,
             "ticks": ""
            },
            "type": "mesh3d"
           }
          ],
          "parcoords": [
           {
            "line": {
             "colorbar": {
              "outlinewidth": 0,
              "ticks": ""
             }
            },
            "type": "parcoords"
           }
          ],
          "pie": [
           {
            "automargin": true,
            "type": "pie"
           }
          ],
          "scatter": [
           {
            "fillpattern": {
             "fillmode": "overlay",
             "size": 10,
             "solidity": 0.2
            },
            "type": "scatter"
           }
          ],
          "scatter3d": [
           {
            "line": {
             "colorbar": {
              "outlinewidth": 0,
              "ticks": ""
             }
            },
            "marker": {
             "colorbar": {
              "outlinewidth": 0,
              "ticks": ""
             }
            },
            "type": "scatter3d"
           }
          ],
          "scattercarpet": [
           {
            "marker": {
             "colorbar": {
              "outlinewidth": 0,
              "ticks": ""
             }
            },
            "type": "scattercarpet"
           }
          ],
          "scattergeo": [
           {
            "marker": {
             "colorbar": {
              "outlinewidth": 0,
              "ticks": ""
             }
            },
            "type": "scattergeo"
           }
          ],
          "scattergl": [
           {
            "marker": {
             "colorbar": {
              "outlinewidth": 0,
              "ticks": ""
             }
            },
            "type": "scattergl"
           }
          ],
          "scattermap": [
           {
            "marker": {
             "colorbar": {
              "outlinewidth": 0,
              "ticks": ""
             }
            },
            "type": "scattermap"
           }
          ],
          "scattermapbox": [
           {
            "marker": {
             "colorbar": {
              "outlinewidth": 0,
              "ticks": ""
             }
            },
            "type": "scattermapbox"
           }
          ],
          "scatterpolar": [
           {
            "marker": {
             "colorbar": {
              "outlinewidth": 0,
              "ticks": ""
             }
            },
            "type": "scatterpolar"
           }
          ],
          "scatterpolargl": [
           {
            "marker": {
             "colorbar": {
              "outlinewidth": 0,
              "ticks": ""
             }
            },
            "type": "scatterpolargl"
           }
          ],
          "scatterternary": [
           {
            "marker": {
             "colorbar": {
              "outlinewidth": 0,
              "ticks": ""
             }
            },
            "type": "scatterternary"
           }
          ],
          "surface": [
           {
            "colorbar": {
             "outlinewidth": 0,
             "ticks": ""
            },
            "colorscale": [
             [
              0,
              "#0d0887"
             ],
             [
              0.1111111111111111,
              "#46039f"
             ],
             [
              0.2222222222222222,
              "#7201a8"
             ],
             [
              0.3333333333333333,
              "#9c179e"
             ],
             [
              0.4444444444444444,
              "#bd3786"
             ],
             [
              0.5555555555555556,
              "#d8576b"
             ],
             [
              0.6666666666666666,
              "#ed7953"
             ],
             [
              0.7777777777777778,
              "#fb9f3a"
             ],
             [
              0.8888888888888888,
              "#fdca26"
             ],
             [
              1,
              "#f0f921"
             ]
            ],
            "type": "surface"
           }
          ],
          "table": [
           {
            "cells": {
             "fill": {
              "color": "#EBF0F8"
             },
             "line": {
              "color": "white"
             }
            },
            "header": {
             "fill": {
              "color": "#C8D4E3"
             },
             "line": {
              "color": "white"
             }
            },
            "type": "table"
           }
          ]
         },
         "layout": {
          "annotationdefaults": {
           "arrowcolor": "#2a3f5f",
           "arrowhead": 0,
           "arrowwidth": 1
          },
          "autotypenumbers": "strict",
          "coloraxis": {
           "colorbar": {
            "outlinewidth": 0,
            "ticks": ""
           }
          },
          "colorscale": {
           "diverging": [
            [
             0,
             "#8e0152"
            ],
            [
             0.1,
             "#c51b7d"
            ],
            [
             0.2,
             "#de77ae"
            ],
            [
             0.3,
             "#f1b6da"
            ],
            [
             0.4,
             "#fde0ef"
            ],
            [
             0.5,
             "#f7f7f7"
            ],
            [
             0.6,
             "#e6f5d0"
            ],
            [
             0.7,
             "#b8e186"
            ],
            [
             0.8,
             "#7fbc41"
            ],
            [
             0.9,
             "#4d9221"
            ],
            [
             1,
             "#276419"
            ]
           ],
           "sequential": [
            [
             0,
             "#0d0887"
            ],
            [
             0.1111111111111111,
             "#46039f"
            ],
            [
             0.2222222222222222,
             "#7201a8"
            ],
            [
             0.3333333333333333,
             "#9c179e"
            ],
            [
             0.4444444444444444,
             "#bd3786"
            ],
            [
             0.5555555555555556,
             "#d8576b"
            ],
            [
             0.6666666666666666,
             "#ed7953"
            ],
            [
             0.7777777777777778,
             "#fb9f3a"
            ],
            [
             0.8888888888888888,
             "#fdca26"
            ],
            [
             1,
             "#f0f921"
            ]
           ],
           "sequentialminus": [
            [
             0,
             "#0d0887"
            ],
            [
             0.1111111111111111,
             "#46039f"
            ],
            [
             0.2222222222222222,
             "#7201a8"
            ],
            [
             0.3333333333333333,
             "#9c179e"
            ],
            [
             0.4444444444444444,
             "#bd3786"
            ],
            [
             0.5555555555555556,
             "#d8576b"
            ],
            [
             0.6666666666666666,
             "#ed7953"
            ],
            [
             0.7777777777777778,
             "#fb9f3a"
            ],
            [
             0.8888888888888888,
             "#fdca26"
            ],
            [
             1,
             "#f0f921"
            ]
           ]
          },
          "colorway": [
           "#636efa",
           "#EF553B",
           "#00cc96",
           "#ab63fa",
           "#FFA15A",
           "#19d3f3",
           "#FF6692",
           "#B6E880",
           "#FF97FF",
           "#FECB52"
          ],
          "font": {
           "color": "#2a3f5f"
          },
          "geo": {
           "bgcolor": "white",
           "lakecolor": "white",
           "landcolor": "white",
           "showlakes": true,
           "showland": true,
           "subunitcolor": "#C8D4E3"
          },
          "hoverlabel": {
           "align": "left"
          },
          "hovermode": "closest",
          "mapbox": {
           "style": "light"
          },
          "paper_bgcolor": "white",
          "plot_bgcolor": "white",
          "polar": {
           "angularaxis": {
            "gridcolor": "#EBF0F8",
            "linecolor": "#EBF0F8",
            "ticks": ""
           },
           "bgcolor": "white",
           "radialaxis": {
            "gridcolor": "#EBF0F8",
            "linecolor": "#EBF0F8",
            "ticks": ""
           }
          },
          "scene": {
           "xaxis": {
            "backgroundcolor": "white",
            "gridcolor": "#DFE8F3",
            "gridwidth": 2,
            "linecolor": "#EBF0F8",
            "showbackground": true,
            "ticks": "",
            "zerolinecolor": "#EBF0F8"
           },
           "yaxis": {
            "backgroundcolor": "white",
            "gridcolor": "#DFE8F3",
            "gridwidth": 2,
            "linecolor": "#EBF0F8",
            "showbackground": true,
            "ticks": "",
            "zerolinecolor": "#EBF0F8"
           },
           "zaxis": {
            "backgroundcolor": "white",
            "gridcolor": "#DFE8F3",
            "gridwidth": 2,
            "linecolor": "#EBF0F8",
            "showbackground": true,
            "ticks": "",
            "zerolinecolor": "#EBF0F8"
           }
          },
          "shapedefaults": {
           "line": {
            "color": "#2a3f5f"
           }
          },
          "ternary": {
           "aaxis": {
            "gridcolor": "#DFE8F3",
            "linecolor": "#A2B1C6",
            "ticks": ""
           },
           "baxis": {
            "gridcolor": "#DFE8F3",
            "linecolor": "#A2B1C6",
            "ticks": ""
           },
           "bgcolor": "white",
           "caxis": {
            "gridcolor": "#DFE8F3",
            "linecolor": "#A2B1C6",
            "ticks": ""
           }
          },
          "title": {
           "x": 0.05
          },
          "xaxis": {
           "automargin": true,
           "gridcolor": "#EBF0F8",
           "linecolor": "#EBF0F8",
           "ticks": "",
           "title": {
            "standoff": 15
           },
           "zerolinecolor": "#EBF0F8",
           "zerolinewidth": 2
          },
          "yaxis": {
           "automargin": true,
           "gridcolor": "#EBF0F8",
           "linecolor": "#EBF0F8",
           "ticks": "",
           "title": {
            "standoff": 15
           },
           "zerolinecolor": "#EBF0F8",
           "zerolinewidth": 2
          }
         }
        },
        "title": {
         "text": "Jerarquía de Tópicos - Cdmx"
        },
        "width": 1000,
        "xaxis": {
         "mirror": "allticks",
         "rangemode": "tozero",
         "showgrid": false,
         "showline": true,
         "showticklabels": true,
         "ticks": "outside",
         "type": "linear",
         "zeroline": false
        },
        "yaxis": {
         "mirror": "allticks",
         "range": [
          -100,
          0
         ],
         "rangemode": "tozero",
         "showgrid": false,
         "showline": true,
         "showticklabels": true,
         "tickmode": "array",
         "ticks": "outside",
         "ticktext": [
          "2_basilica_guadalupe_time",
          "0_museo_arte_museum",
          "1_museum_mexico_museo",
          "9_house_museum_time",
          "7_castillo_chapultepec_pena",
          "5_mexico_ciudad_historia",
          "3_ciudad_plaza_ciudad mexico",
          "4_lugar_cdmx_plaza",
          "6_animales_experiencia_gusto",
          "8_grupos_gente_personal"
         ],
         "tickvals": [
          -5,
          -15,
          -25,
          -35,
          -45,
          -55,
          -65,
          -75,
          -85,
          -95
         ],
         "type": "linear",
         "zeroline": false
        }
       }
      }
     },
     "metadata": {},
     "output_type": "display_data"
    },
    {
     "name": "stdout",
     "output_type": "stream",
     "text": [
      "\n",
      "📋 Resumen del modelado:\n",
      "✅ Textos analizados: 490\n",
      "🎯 Tópicos encontrados: 10\n",
      "📊 Distribución:\n",
      "   1. Experiencias en museos: 102 opiniones (20.8%)\n",
      "   2. Cultura y Arte Mexicano: 80 opiniones (16.3%)\n",
      "   3. Opiniones Diversas: 79 opiniones (16.1%)\n",
      "   4. Experiencia religiosa y cultural: 42 opiniones (8.6%)\n",
      "   5. Visitas a Zócalos Urbanos: 37 opiniones (7.6%)\n"
     ]
    }
   ],
   "source": [
    "# ===== VISUALIZACIONES INTERACTIVAS DE BERTOPIC =====\n",
    "\n",
    "print(f\"Visualizaciones interactivas de BERTopic para {CIUDAD_ANALIZAR}:\")\n",
    "print(f\"Tópicos identificados: {len(topic_info)} (incluyendo outliers si los hay)\")\n",
    "\n",
    "# Validar si tenemos suficientes tópicos para visualizaciones\n",
    "num_topicos_validos = len([t for t in topic_info['Topic'] if t != -1])\n",
    "print(f\"Tópicos válidos (sin outliers): {num_topicos_validos}\")\n",
    "\n",
    "if num_topicos_validos < 2:\n",
    "    print(\"⚠️ ADVERTENCIA: Muy pocos tópicos identificados para generar visualizaciones interactivas.\")\n",
    "    print(\"💡 Esto puede deberse a:\")\n",
    "    print(\"   - Textos muy similares después de la limpieza\")\n",
    "    print(\"   - Dataset pequeño para la ciudad seleccionada\")\n",
    "    print(\"   - Parámetros de clustering muy restrictivos\")\n",
    "    print(\"\\n📊 Mostrando información básica de tópicos:\")\n",
    "    for topic_id in topic_info['Topic']:\n",
    "        if topic_id != -1:\n",
    "            topic_words = topic_model.get_topic(topic_id)\n",
    "            print(f\"\\nTópico {topic_id}: {topic_names.get(topic_id, 'Sin nombre')}\")\n",
    "            print(f\"Palabras clave: {', '.join([word for word, _ in topic_words[:8]])}\")\n",
    "            print(f\"Documentos: {topic_info[topic_info['Topic'] == topic_id]['Count'].iloc[0]}\")\n",
    "else:\n",
    "    # Intentar generar visualizaciones con manejo de errores\n",
    "    try:\n",
    "        print(\"\\n🗺️ Generando mapa de tópicos...\")\n",
    "        fig_intertopic = topic_model.visualize_topics()\n",
    "        fig_intertopic.update_layout(title=f\"Mapa de Tópicos - {CIUDAD_ANALIZAR}\")\n",
    "        fig_intertopic.show()\n",
    "    except Exception as e:\n",
    "        print(f\"❌ Error al generar mapa de tópicos: {str(e)}\")\n",
    "        print(\"💡 Esto es normal con pocos tópicos o datos limitados\")\n",
    "\n",
    "    try:\n",
    "        print(\"\\n📊 Generando gráfico de barras...\")\n",
    "        fig_barchart = topic_model.visualize_barchart(top_n_topics=min(8, num_topicos_validos))\n",
    "        fig_barchart.update_layout(title=f\"Palabras Clave por Tópico - {CIUDAD_ANALIZAR}\")\n",
    "        fig_barchart.show()\n",
    "    except Exception as e:\n",
    "        print(f\"❌ Error al generar gráfico de barras: {str(e)}\")\n",
    "        print(\"🔧 Mostrando información alternativa de palabras clave:\")\n",
    "        for topic_id in topic_info['Topic'][:5]:  # Mostrar máximo 5 tópicos\n",
    "            if topic_id != -1:\n",
    "                topic_words = topic_model.get_topic(topic_id)\n",
    "                print(f\"\\n📈 {topic_names.get(topic_id, f'Tópico {topic_id}')}:\")\n",
    "                print(f\"   {', '.join([f'{word}({score:.3f})' for word, score in topic_words[:5]])}\")\n",
    "\n",
    "    try:\n",
    "        print(\"\\n🌳 Generando jerarquía de tópicos...\")\n",
    "        if num_topicos_validos >= 3:  # Necesitamos al menos 3 tópicos para jerarquía\n",
    "            fig_hierarchy = topic_model.visualize_hierarchy()\n",
    "            fig_hierarchy.update_layout(title=f\"Jerarquía de Tópicos - {CIUDAD_ANALIZAR}\")\n",
    "            fig_hierarchy.show()\n",
    "        else:\n",
    "            print(\"⚠️ Se necesitan al menos 3 tópicos para mostrar jerarquía\")\n",
    "    except Exception as e:\n",
    "        print(f\"❌ Error al generar jerarquía: {str(e)}\")\n",
    "\n",
    "# Información adicional sobre la calidad del modelado\n",
    "print(f\"\\n📋 Resumen del modelado:\")\n",
    "print(f\"✅ Textos analizados: {len(texts)}\")\n",
    "print(f\"🎯 Tópicos encontrados: {num_topicos_validos}\")\n",
    "print(f\"📊 Distribución:\")\n",
    "for i, (topico, count) in enumerate(topico_counts.head(5).items()):\n",
    "    print(f\"   {i+1}. {topico}: {count} opiniones ({count/len(df_con_topicos)*100:.1f}%)\")\n",
    "\n",
    "if num_topicos_validos <= 3:\n",
    "    print(f\"\\n💡 Sugerencias para mejorar el modelado:\")\n",
    "    print(f\"   - Reducir min_cluster_size en HDBSCAN (actualmente: {hdbscan_model.min_cluster_size})\")\n",
    "    print(f\"   - Incluir más ciudades en el análisis\")\n",
    "    print(f\"   - Ajustar parámetros de limpieza de texto\")\n",
    "    print(f\"   - Verificar diversidad en los textos de entrada\")"
   ]
  },
  {
   "cell_type": "code",
   "execution_count": null,
   "id": "78cc3d64",
   "metadata": {},
   "outputs": [
    {
     "name": "stdout",
     "output_type": "stream",
     "text": [
      "✅ Dataset actualizado:\n",
      "📁 Archivo: ../data/processed/dataset_opiniones_analisis.csv\n",
      "📊 Total opiniones: 2464\n",
      "🎯 Ciudad analizada: Cdmx\n",
      "✅ Opiniones con tópico: 973\n",
      "⏳ Opiniones pendientes: 1491\n",
      "\n",
      "📈 Estadísticas de Cdmx:\n",
      "Tópicos identificados: 11\n",
      "Opiniones analizadas: 490\n",
      "Probabilidad promedio: 0.511\n",
      "\n",
      "🧹 Información de limpieza de texto:\n",
      "📝 Columna de texto limpio: TituloReviewLimpio\n",
      "🔧 Método utilizado: TituloReviewLimpio\n",
      "✅ Textos limpios disponibles: 2464\n",
      "📊 Promedio palabras (texto limpio): 30.4\n",
      "\n",
      "🔄 Para analizar otra ciudad:\n",
      "1. Cambia la variable CIUDAD_ANALIZAR en la celda correspondiente\n",
      "2. Ejecuta nuevamente las celdas de análisis\n",
      "📍 Ciudades disponibles: ['Cancun', 'Cdmx', 'Puebla', 'Mazatlan', 'Puerto_vallarta']\n",
      "\n",
      "💡 Mejoras implementadas:\n",
      "✅ Limpieza profunda de texto con NLTK\n",
      "✅ Eliminación de stopwords en español e inglés\n",
      "✅ Lematización y normalización\n",
      "✅ Eliminación de emojis, URLs y caracteres especiales\n",
      "✅ Nueva columna TituloReviewLimpio agregada al dataset\n",
      "📊 Promedio palabras (texto limpio): 30.4\n",
      "\n",
      "🔄 Para analizar otra ciudad:\n",
      "1. Cambia la variable CIUDAD_ANALIZAR en la celda correspondiente\n",
      "2. Ejecuta nuevamente las celdas de análisis\n",
      "📍 Ciudades disponibles: ['Cancun', 'Cdmx', 'Puebla', 'Mazatlan', 'Puerto_vallarta']\n",
      "\n",
      "💡 Mejoras implementadas:\n",
      "✅ Limpieza profunda de texto con NLTK\n",
      "✅ Eliminación de stopwords en español e inglés\n",
      "✅ Lematización y normalización\n",
      "✅ Eliminación de emojis, URLs y caracteres especiales\n",
      "✅ Nueva columna TituloReviewLimpio agregada al dataset\n"
     ]
    }
   ],
   "source": [
    "# Guardar dataset original con la nueva columna TopicoConBERTopic\n",
    "print(\"💾 Guardando dataset actualizado...\")\n",
    "df.to_csv('../data/processed/dataset_opiniones_analisis.csv', index=False)\n",
    "\n",
    "print(\"✅ Dataset actualizado y guardado:\")\n",
    "print(f\"📁 Archivo: ../data/processed/dataset_opiniones_analisis.csv\")\n",
    "print(f\"📊 Total opiniones: {len(df)}\")\n",
    "print(f\"🎯 Ciudad analizada: {CIUDAD_ANALIZAR}\")\n",
    "print(f\"✅ Opiniones con tópico: {df['TopicoConBERTopic'].notna().sum()}\")\n",
    "print(f\"⏳ Opiniones pendientes: {df['TopicoConBERTopic'].isna().sum()}\")\n",
    "\n",
    "print(f\"\\n📈 Estadísticas de {CIUDAD_ANALIZAR}:\")\n",
    "print(f\"Tópicos identificados: {len(topico_counts)}\")\n",
    "print(f\"Opiniones analizadas: {len(df_con_topicos)}\")\n",
    "print(f\"Probabilidad promedio: {df_con_topicos['Probabilidad_Topico'].mean():.3f}\")\n",
    "\n",
    "# Información sobre limpieza de texto\n",
    "if 'TituloReviewLimpio' in df.columns:\n",
    "    print(f\"\\n🧹 Información de limpieza de texto:\")\n",
    "    print(f\"📝 Columna de texto limpio: TituloReviewLimpio\")\n",
    "    print(f\"🔧 Método utilizado: {columna_texto}\")\n",
    "    textos_limpios_total = df['TituloReviewLimpio'].notna().sum()\n",
    "    print(f\"✅ Textos limpios disponibles: {textos_limpios_total}\")\n",
    "    \n",
    "    if textos_limpios_total > 0:\n",
    "        # Calcular estadísticas de mejora\n",
    "        palabras_promedio_limpio = df['TituloReviewLimpio'].dropna().str.split().str.len().mean()\n",
    "        print(f\"📊 Promedio palabras (texto limpio): {palabras_promedio_limpio:.1f}\")\n",
    "\n",
    "print(f\"\\n🔄 Para analizar otra ciudad:\")\n",
    "print(f\"1. Cambia la variable CIUDAD_ANALIZAR en la celda correspondiente\")\n",
    "print(f\"2. Ejecuta nuevamente las celdas de análisis\")\n",
    "print(f\"📍 Ciudades disponibles: {list(df['Ciudad'].unique())}\")\n",
    "print(f\"⚠️ IMPORTANTE: Los resultados previos se SOBRESCRIBEN automáticamente\")\n",
    "\n",
    "print(f\"\\n💡 Mejoras implementadas:\")\n",
    "print(f\"✅ Limpieza profunda de texto con spaCy\")\n",
    "print(f\"✅ Lematización adecuada para español\")\n",
    "print(f\"✅ Eliminación de stopwords en español e inglés\")\n",
    "print(f\"✅ Eliminación de emojis, URLs y caracteres especiales\")\n",
    "print(f\"✅ Nueva columna TituloReviewLimpio agregada al dataset\")\n",
    "print(f\"✅ Sobrescritura automática de resultados para ciudades repetidas\")"
   ]
  }
 ],
 "metadata": {
  "kernelspec": {
   "display_name": "AI-Tourism-Opinion-Analyzer",
   "language": "python",
   "name": "python3"
  },
  "language_info": {
   "codemirror_mode": {
    "name": "ipython",
    "version": 3
   },
   "file_extension": ".py",
   "mimetype": "text/x-python",
   "name": "python",
   "nbconvert_exporter": "python",
   "pygments_lexer": "ipython3",
   "version": "3.10.18"
  }
 },
 "nbformat": 4,
 "nbformat_minor": 5
}
