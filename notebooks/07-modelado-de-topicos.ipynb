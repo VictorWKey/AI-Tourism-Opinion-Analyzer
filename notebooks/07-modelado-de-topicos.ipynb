{
 "cells": [
  {
   "cell_type": "markdown",
   "id": "920405d9",
   "metadata": {},
   "source": [
    "# Modelado de Tópicos con BERTopic\n",
    "\n",
    "Este notebook implementa un análisis de tópicos usando BERTopic sobre las opiniones turísticas clasificadas. Utiliza LangChain con GPT-4o-mini para asignar nombres semánticamente coherentes a los tópicos identificados."
   ]
  },
  {
   "cell_type": "code",
   "execution_count": 1,
   "id": "009def10",
   "metadata": {},
   "outputs": [
    {
     "name": "stdout",
     "output_type": "stream",
     "text": [
      "✓ Modelo spaCy español cargado\n",
      "✓ Modelo spaCy inglés cargado\n",
      "✓ Modelo spaCy inglés cargado\n",
      "✓ Modelo spaCy portugués cargado\n",
      "✓ Modelo spaCy portugués cargado\n",
      "✓ Modelo spaCy francés cargado\n",
      "✓ Modelo spaCy francés cargado\n",
      "✓ Modelo spaCy italiano cargado\n",
      "Descargando wordnet...\n",
      "✓ Modelo spaCy italiano cargado\n",
      "Descargando wordnet...\n"
     ]
    },
    {
     "name": "stderr",
     "output_type": "stream",
     "text": [
      "[nltk_data] Downloading package wordnet to\n",
      "[nltk_data]     /home/victorwkey/nltk_data...\n",
      "[nltk_data]   Package wordnet is already up-to-date!\n"
     ]
    }
   ],
   "source": [
    "import pandas as pd\n",
    "import numpy as np\n",
    "import matplotlib.pyplot as plt\n",
    "import seaborn as sns\n",
    "from bertopic import BERTopic\n",
    "from sentence_transformers import SentenceTransformer\n",
    "from umap import UMAP\n",
    "from hdbscan import HDBSCAN\n",
    "from sklearn.feature_extraction.text import CountVectorizer\n",
    "import os\n",
    "import sys\n",
    "from dotenv import load_dotenv\n",
    "from langchain_openai import ChatOpenAI\n",
    "from langchain_core.output_parsers import PydanticOutputParser\n",
    "from langchain_core.prompts import PromptTemplate\n",
    "from pydantic import BaseModel, Field\n",
    "from typing import Literal\n",
    "\n",
    "# Agregar la carpeta scripts al path para importar módulos\n",
    "sys.path.append('../scripts')\n",
    "\n",
    "# Importar módulo de limpieza de texto\n",
    "from topicos import LimpiadorTextoMejorado, generar_reporte_limpieza, mostrar_ejemplos_limpieza\n",
    "\n",
    "load_dotenv()\n",
    "plt.style.use('seaborn-v0_8')\n",
    "sns.set_palette(\"husl\")"
   ]
  },
  {
   "cell_type": "code",
   "execution_count": 2,
   "id": "0ce87305",
   "metadata": {},
   "outputs": [],
   "source": [
    "class TopicNaming(BaseModel):\n",
    "    nombre_topico: str = Field(description=\"Nombre descriptivo del tópico en español\")\n",
    "\n",
    "def configurar_clasificador_topicos():\n",
    "    llm = ChatOpenAI(\n",
    "        model=\"gpt-4o-mini\",\n",
    "        temperature=0,\n",
    "        max_tokens=50\n",
    "    )\n",
    "    \n",
    "    parser = PydanticOutputParser(pydantic_object=TopicNaming)\n",
    "    \n",
    "    prompt_template = \"\"\"Eres un experto en análisis de opiniones turísticas y modelado de tópicos.\n",
    "\n",
    "Analiza las siguientes palabras clave que representan un tópico identificado automáticamente en reseñas de atracciones turísticas en México (Cancún, CDMX, Mazatlán, Puebla, Puerto Vallarta).\n",
    "\n",
    "Palabras clave del tópico: {keywords}\n",
    "\n",
    "Basándote en estas palabras, asigna un nombre descriptivo y coherente al tópico que capture la esencia de las opiniones turísticas que representa. El nombre debe ser:\n",
    "- Específico y relacionado con turismo\n",
    "- En español\n",
    "- Máximo 4 palabras\n",
    "- Descriptivo de la experiencia o aspecto turístico\n",
    "- Evitar mencionar entidades específicas (nombres de lugares, marcas, personas)\n",
    "\n",
    "{format_instructions}\n",
    "\"\"\"\n",
    "    \n",
    "    prompt = PromptTemplate(\n",
    "        template=prompt_template,\n",
    "        input_variables=[\"keywords\"],\n",
    "        partial_variables={\"format_instructions\": parser.get_format_instructions()}\n",
    "    )\n",
    "    \n",
    "    return prompt | llm | parser\n",
    "\n",
    "clasificador_topicos = configurar_clasificador_topicos()"
   ]
  },
  {
   "cell_type": "code",
   "execution_count": 3,
   "id": "53169277",
   "metadata": {},
   "outputs": [
    {
     "name": "stdout",
     "output_type": "stream",
     "text": [
      "Dataset cargado: 2464 opiniones\n",
      "Columnas disponibles: ['Titulo', 'Review', 'Calificacion', 'FechaEstadia', 'Ciudad', 'Atraccion', 'TituloReview', 'TituloReviewLimpio', 'SentimientoPorCalificacion', 'SentimientoPorHF', 'SentimientoPorCardiff', 'SubjetividadConHF', 'SubjetividadConFrases', 'SubjetividadConLLM', 'TopicoConBERTopic']\n",
      "\n",
      "Distribución total por ciudad:\n",
      "Ciudad\n",
      "Puebla             500\n",
      "Mazatlan           500\n",
      "Puerto_vallarta    491\n",
      "Cdmx               490\n",
      "Cancun             483\n",
      "Name: count, dtype: int64\n",
      "\n",
      "🎯 Ciudades configuradas para optimización: ['Cancun', 'Cdmx', 'Mazatlan', 'Puebla', 'Puerto_vallarta']\n",
      "✅ Ciudades disponibles en el dataset: ['Cancun', 'Cdmx', 'Mazatlan', 'Puebla', 'Puerto_vallarta']\n",
      "\n",
      "🎯 Analizando ciudad individual: Cdmx\n",
      "Opiniones de Cdmx: 490\n",
      "📝 Usando texto limpio para análisis de tópicos\n",
      "📝 Columna de texto utilizada: TituloReviewLimpio\n",
      "🧹 Textos para análisis: 490 opiniones\n",
      "📊 Promedio de palabras por texto: 31.6\n",
      "📏 Longitud promedio: 227.9 caracteres\n",
      "\n",
      "📈 ESTADÍSTICAS PARA OPTIMIZACIÓN MULTI-CIUDAD:\n",
      "============================================================\n",
      "🏙️ Cancun: 483 opiniones válidas\n",
      "   📝 Promedio palabras: 33.0\n",
      "🏙️ Cdmx: 490 opiniones válidas\n",
      "   📝 Promedio palabras: 31.6\n",
      "🏙️ Mazatlan: 500 opiniones válidas\n",
      "   📝 Promedio palabras: 31.8\n",
      "🏙️ Puebla: 500 opiniones válidas\n",
      "   📝 Promedio palabras: 23.9\n",
      "🏙️ Puerto_vallarta: 491 opiniones válidas\n",
      "   📝 Promedio palabras: 31.8\n",
      "============================================================\n"
     ]
    }
   ],
   "source": [
    "# Configurar ciudad a analizar\n",
    "CIUDAD_ANALIZAR = \"Cdmx\"  # Cambiar por la ciudad deseada: Cancun, Cdmx, Mazatlan, Puebla, Puerto_Vallarta\n",
    "\n",
    "# 🆕 NUEVA VARIABLE: Ciudades para optimización de hiperparámetros (cross-validation entre datasets)\n",
    "CIUDADES_OPTIMIZACION = [\"Cancun\", \"Cdmx\", \"Mazatlan\", \"Puebla\", \"Puerto_vallarta\"]\n",
    "\n",
    "df = pd.read_csv('../data/processed/dataset_opiniones_analisis.csv')\n",
    "\n",
    "# Inicializar columna TopicoConBERTopic si no existe\n",
    "if 'TopicoConBERTopic' not in df.columns:\n",
    "    df['TopicoConBERTopic'] = np.nan\n",
    "\n",
    "print(f\"Dataset cargado: {df.shape[0]} opiniones\")\n",
    "print(f\"Columnas disponibles: {list(df.columns)}\")\n",
    "print(f\"\\nDistribución total por ciudad:\")\n",
    "print(df['Ciudad'].value_counts())\n",
    "\n",
    "# Validar ciudades disponibles para optimización\n",
    "ciudades_disponibles = df['Ciudad'].unique()\n",
    "ciudades_optimizacion_validas = [c for c in CIUDADES_OPTIMIZACION if c in ciudades_disponibles]\n",
    "print(f\"\\n🎯 Ciudades configuradas para optimización: {CIUDADES_OPTIMIZACION}\")\n",
    "print(f\"✅ Ciudades disponibles en el dataset: {ciudades_optimizacion_validas}\")\n",
    "\n",
    "if len(ciudades_optimizacion_validas) != len(CIUDADES_OPTIMIZACION):\n",
    "    ciudades_faltantes = set(CIUDADES_OPTIMIZACION) - set(ciudades_optimizacion_validas)\n",
    "    print(f\"⚠️ Ciudades no encontradas en el dataset: {list(ciudades_faltantes)}\")\n",
    "\n",
    "# Filtrar por ciudad específica para análisis individual\n",
    "df_ciudad = df[df['Ciudad'] == CIUDAD_ANALIZAR].copy()\n",
    "print(f\"\\n🎯 Analizando ciudad individual: {CIUDAD_ANALIZAR}\")\n",
    "print(f\"Opiniones de {CIUDAD_ANALIZAR}: {len(df_ciudad)}\")\n",
    "\n",
    "# Siempre usar texto limpio para BERTopic si está disponible\n",
    "if 'TituloReviewLimpio' in df_ciudad.columns:\n",
    "    columna_texto = 'TituloReviewLimpio'\n",
    "    print(f\"📝 Usando texto limpio para análisis de tópicos\")\n",
    "else:\n",
    "    columna_texto = 'TituloReview'\n",
    "    print(f\"⚠️ Usando texto original (sin limpiar)\")\n",
    "\n",
    "texts = df_ciudad[columna_texto].dropna().tolist()\n",
    "\n",
    "print(f\"📝 Columna de texto utilizada: {columna_texto}\")\n",
    "print(f\"🧹 Textos para análisis: {len(texts)} opiniones\")\n",
    "\n",
    "# Mostrar estadísticas de texto\n",
    "if len(texts) > 0:\n",
    "    palabras_promedio = sum(len(text.split()) for text in texts) / len(texts)\n",
    "    print(f\"📊 Promedio de palabras por texto: {palabras_promedio:.1f}\")\n",
    "    print(f\"📏 Longitud promedio: {sum(len(text) for text in texts) / len(texts):.1f} caracteres\")\n",
    "\n",
    "# 📊 Estadísticas para optimización multi-ciudad\n",
    "print(f\"\\n📈 ESTADÍSTICAS PARA OPTIMIZACIÓN MULTI-CIUDAD:\")\n",
    "print(f\"=\" * 60)\n",
    "for ciudad in ciudades_optimizacion_validas:\n",
    "    df_temp = df[df['Ciudad'] == ciudad]\n",
    "    textos_temp = df_temp[columna_texto].dropna()\n",
    "    print(f\"🏙️ {ciudad}: {len(textos_temp)} opiniones válidas\")\n",
    "    if len(textos_temp) > 0:\n",
    "        palabras_prom = textos_temp.str.split().str.len().mean()\n",
    "        print(f\"   📝 Promedio palabras: {palabras_prom:.1f}\")\n",
    "print(f\"=\" * 60)"
   ]
  },
  {
   "cell_type": "code",
   "execution_count": 4,
   "id": "4500d4d9",
   "metadata": {},
   "outputs": [
    {
     "name": "stdout",
     "output_type": "stream",
     "text": [
      "🧹 Iniciando proceso de limpieza de texto...\n",
      "Limpiando columna 'TituloReview'...\n",
      "Procesando 2464 textos...\n",
      "Procesado: 0/2464 textos\n",
      "Procesado: 100/2464 textos\n",
      "Procesado: 100/2464 textos\n",
      "Procesado: 200/2464 textos\n",
      "Procesado: 200/2464 textos\n",
      "Procesado: 300/2464 textos\n",
      "Procesado: 300/2464 textos\n",
      "Procesado: 400/2464 textos\n",
      "Procesado: 400/2464 textos\n",
      "Procesado: 500/2464 textos\n",
      "Procesado: 500/2464 textos\n",
      "Procesado: 600/2464 textos\n",
      "Procesado: 600/2464 textos\n",
      "Procesado: 700/2464 textos\n",
      "Procesado: 700/2464 textos\n",
      "Procesado: 800/2464 textos\n",
      "Procesado: 800/2464 textos\n",
      "Procesado: 900/2464 textos\n",
      "Procesado: 900/2464 textos\n",
      "Procesado: 1000/2464 textos\n",
      "Procesado: 1000/2464 textos\n",
      "Procesado: 1100/2464 textos\n",
      "Procesado: 1100/2464 textos\n",
      "Procesado: 1200/2464 textos\n",
      "Procesado: 1200/2464 textos\n",
      "Procesado: 1300/2464 textos\n",
      "Procesado: 1300/2464 textos\n",
      "Procesado: 1400/2464 textos\n",
      "Procesado: 1400/2464 textos\n",
      "Procesado: 1500/2464 textos\n",
      "Procesado: 1500/2464 textos\n",
      "Procesado: 1600/2464 textos\n",
      "Procesado: 1600/2464 textos\n",
      "Procesado: 1700/2464 textos\n",
      "Procesado: 1700/2464 textos\n",
      "Procesado: 1800/2464 textos\n",
      "Procesado: 1800/2464 textos\n",
      "Procesado: 1900/2464 textos\n",
      "Procesado: 1900/2464 textos\n",
      "Procesado: 2000/2464 textos\n",
      "Procesado: 2000/2464 textos\n",
      "Procesado: 2100/2464 textos\n",
      "Procesado: 2100/2464 textos\n",
      "Procesado: 2200/2464 textos\n",
      "Procesado: 2200/2464 textos\n",
      "Procesado: 2300/2464 textos\n",
      "Procesado: 2300/2464 textos\n",
      "Procesado: 2400/2464 textos\n",
      "Procesado: 2400/2464 textos\n",
      "✓ Columna 'TituloReviewLimpio' actualizada\n",
      "\n",
      "📊 Estadísticas de limpieza:\n",
      "   • Textos procesados: 2464\n",
      "   • Textos válidos: 2464\n",
      "   • Textos vacíos: 0\n",
      "   • Promedio palabras original: 57.2\n",
      "   • Promedio palabras limpio: 30.4\n",
      "   • Reducción promedio: 46.9%\n",
      "\n",
      "🔍 Ejemplos de limpieza aplicada:\n",
      "\n",
      "🔍 EJEMPLOS DE LIMPIEZA DE TEXTO (mostrando 3)\n",
      "================================================================================\n",
      "\n",
      "📄 EJEMPLO 1:\n",
      "🔸 Original: Imperdible. Si visitas la ciudad de Puebla no puedes faltar a esta zona histórica, en ella podrás revivir parte del pasado histórico de nuestra ciudad, en la zona encuentras variedad de museos.\n",
      "🔹 Limpio:   imperdible si visitar ciudad poblar poder faltar zona historico podra revivir parte pasado historico ciudad zona encuentra variedad museo\n",
      "📊 Reducción: 193 → 137 caracteres (29.0%)\n",
      "--------------------------------------------------------------------------------\n",
      "\n",
      "📄 EJEMPLO 2:\n",
      "🔸 Original: Bellas Artes es un lugar hermoso. Siempre quise conocer Bellas Artes por su trasfondo y que belleza. Espero poder conocer más del país y de lugares como estes. Espero poder conocer más lugares como estos.\n",
      "🔹 Limpio:   bello art lugar hermoso siempre querer conocer bello art trasfondo belleza esperar poder conocer mas pais lugar este esperar poder conocer mas lugar\n",
      "📊 Reducción: 204 → 148 caracteres (27.5%)\n",
      "--------------------------------------------------------------------------------\n",
      "\n",
      "📄 EJEMPLO 3:\n",
      "🔸 Original: Queda como imborrable recuerdo. El caminar por su parque y admirar sus edificios coloniales es un deleite visual . Su catedral es por mucho una de las más bellas de la República mexicana. Su belleza exterior es apenas opacado por lo que uno encuentra en su interior.\n",
      "🔹 Limpio:   quedar imborrable recordar caminar parque admirar edificio colonial deleite visual catedral mas bello republica mexicano belleza exterior apenas opacado encontrar interior\n",
      "📊 Reducción: 266 → 171 caracteres (35.7%)\n",
      "--------------------------------------------------------------------------------\n",
      "📋 REPORTE COMPLETO DE LIMPIEZA DE TEXTO\n",
      "============================================================\n",
      "📊 ESTADÍSTICAS GENERALES:\n",
      "   Registros procesados: 2464\n",
      "   Nueva columna creada: TituloReviewLimpio\n",
      "   Posición en dataset: columna 8\n",
      "📊 ESTADÍSTICAS DE LIMPIEZA DE TEXTO\n",
      "==================================================\n",
      "📈 Total de textos analizados: 2464\n",
      "\n",
      "📝 TEXTO ORIGINAL:\n",
      "   Longitud promedio: 334.8 caracteres\n",
      "   Palabras promedio: 57.2\n",
      "   Textos vacíos: 0\n",
      "\n",
      "🧹 TEXTO LIMPIO:\n",
      "   Longitud promedio: 220.1 caracteres\n",
      "   Palabras promedio: 30.4\n",
      "   Textos vacíos: 0\n",
      "\n",
      "📉 REDUCCIÓN TRAS LIMPIEZA:\n",
      "   Reducción en longitud: 34.3%\n",
      "   Reducción en palabras: 46.9%\n",
      "   Textos perdidos: 0\n",
      "\n",
      "============================================================\n",
      "✅ VALIDACIÓN DE TEXTOS PARA ANÁLISIS DE TÓPICOS\n",
      "=======================================================\n",
      "📊 Total textos originales: 2464\n",
      "✅ Textos válidos: 2464\n",
      "❌ Textos eliminados: 0\n",
      "📈 Porcentaje válidos: 100.0%\n",
      "📝 Promedio palabras por texto: 30.4\n",
      "\n",
      "💡 RECOMENDACIONES:\n",
      "   ✅ Buen porcentaje de textos válidos para análisis de tópicos.\n",
      "   ✅ Promedio de palabras adecuado para análisis de tópicos.\n",
      "\n",
      "🎯 PRÓXIMOS PASOS:\n",
      "   1. Usar columna 'TituloReviewLimpio' para análisis de tópicos\n",
      "   2. Dataset guardado con nueva columna\n",
      "   3. Ejecutar BERTopic con textos limpios\n",
      "\n",
      "💾 Dataset actualizado y guardado con columna 'TituloReviewLimpio'\n",
      "\n",
      "📋 Estructura actual del dataset:\n",
      "Dimensiones: (2464, 15)\n",
      "Columnas: ['Titulo', 'Review', 'Calificacion', 'FechaEstadia', 'Ciudad', 'Atraccion', 'TituloReview', 'TituloReviewLimpio', 'SentimientoPorCalificacion', 'SentimientoPorHF', 'SentimientoPorCardiff', 'SubjetividadConHF', 'SubjetividadConFrases', 'SubjetividadConLLM', 'TopicoConBERTopic']\n",
      "📍 TituloReview: columna 7\n",
      "📍 TituloReviewLimpio: columna 8\n",
      "✓ Columna 'TituloReviewLimpio' actualizada\n",
      "\n",
      "📊 Estadísticas de limpieza:\n",
      "   • Textos procesados: 2464\n",
      "   • Textos válidos: 2464\n",
      "   • Textos vacíos: 0\n",
      "   • Promedio palabras original: 57.2\n",
      "   • Promedio palabras limpio: 30.4\n",
      "   • Reducción promedio: 46.9%\n",
      "\n",
      "🔍 Ejemplos de limpieza aplicada:\n",
      "\n",
      "🔍 EJEMPLOS DE LIMPIEZA DE TEXTO (mostrando 3)\n",
      "================================================================================\n",
      "\n",
      "📄 EJEMPLO 1:\n",
      "🔸 Original: Imperdible. Si visitas la ciudad de Puebla no puedes faltar a esta zona histórica, en ella podrás revivir parte del pasado histórico de nuestra ciudad, en la zona encuentras variedad de museos.\n",
      "🔹 Limpio:   imperdible si visitar ciudad poblar poder faltar zona historico podra revivir parte pasado historico ciudad zona encuentra variedad museo\n",
      "📊 Reducción: 193 → 137 caracteres (29.0%)\n",
      "--------------------------------------------------------------------------------\n",
      "\n",
      "📄 EJEMPLO 2:\n",
      "🔸 Original: Bellas Artes es un lugar hermoso. Siempre quise conocer Bellas Artes por su trasfondo y que belleza. Espero poder conocer más del país y de lugares como estes. Espero poder conocer más lugares como estos.\n",
      "🔹 Limpio:   bello art lugar hermoso siempre querer conocer bello art trasfondo belleza esperar poder conocer mas pais lugar este esperar poder conocer mas lugar\n",
      "📊 Reducción: 204 → 148 caracteres (27.5%)\n",
      "--------------------------------------------------------------------------------\n",
      "\n",
      "📄 EJEMPLO 3:\n",
      "🔸 Original: Queda como imborrable recuerdo. El caminar por su parque y admirar sus edificios coloniales es un deleite visual . Su catedral es por mucho una de las más bellas de la República mexicana. Su belleza exterior es apenas opacado por lo que uno encuentra en su interior.\n",
      "🔹 Limpio:   quedar imborrable recordar caminar parque admirar edificio colonial deleite visual catedral mas bello republica mexicano belleza exterior apenas opacado encontrar interior\n",
      "📊 Reducción: 266 → 171 caracteres (35.7%)\n",
      "--------------------------------------------------------------------------------\n",
      "📋 REPORTE COMPLETO DE LIMPIEZA DE TEXTO\n",
      "============================================================\n",
      "📊 ESTADÍSTICAS GENERALES:\n",
      "   Registros procesados: 2464\n",
      "   Nueva columna creada: TituloReviewLimpio\n",
      "   Posición en dataset: columna 8\n",
      "📊 ESTADÍSTICAS DE LIMPIEZA DE TEXTO\n",
      "==================================================\n",
      "📈 Total de textos analizados: 2464\n",
      "\n",
      "📝 TEXTO ORIGINAL:\n",
      "   Longitud promedio: 334.8 caracteres\n",
      "   Palabras promedio: 57.2\n",
      "   Textos vacíos: 0\n",
      "\n",
      "🧹 TEXTO LIMPIO:\n",
      "   Longitud promedio: 220.1 caracteres\n",
      "   Palabras promedio: 30.4\n",
      "   Textos vacíos: 0\n",
      "\n",
      "📉 REDUCCIÓN TRAS LIMPIEZA:\n",
      "   Reducción en longitud: 34.3%\n",
      "   Reducción en palabras: 46.9%\n",
      "   Textos perdidos: 0\n",
      "\n",
      "============================================================\n",
      "✅ VALIDACIÓN DE TEXTOS PARA ANÁLISIS DE TÓPICOS\n",
      "=======================================================\n",
      "📊 Total textos originales: 2464\n",
      "✅ Textos válidos: 2464\n",
      "❌ Textos eliminados: 0\n",
      "📈 Porcentaje válidos: 100.0%\n",
      "📝 Promedio palabras por texto: 30.4\n",
      "\n",
      "💡 RECOMENDACIONES:\n",
      "   ✅ Buen porcentaje de textos válidos para análisis de tópicos.\n",
      "   ✅ Promedio de palabras adecuado para análisis de tópicos.\n",
      "\n",
      "🎯 PRÓXIMOS PASOS:\n",
      "   1. Usar columna 'TituloReviewLimpio' para análisis de tópicos\n",
      "   2. Dataset guardado con nueva columna\n",
      "   3. Ejecutar BERTopic con textos limpios\n",
      "\n",
      "💾 Dataset actualizado y guardado con columna 'TituloReviewLimpio'\n",
      "\n",
      "📋 Estructura actual del dataset:\n",
      "Dimensiones: (2464, 15)\n",
      "Columnas: ['Titulo', 'Review', 'Calificacion', 'FechaEstadia', 'Ciudad', 'Atraccion', 'TituloReview', 'TituloReviewLimpio', 'SentimientoPorCalificacion', 'SentimientoPorHF', 'SentimientoPorCardiff', 'SubjetividadConHF', 'SubjetividadConFrases', 'SubjetividadConLLM', 'TopicoConBERTopic']\n",
      "📍 TituloReview: columna 7\n",
      "📍 TituloReviewLimpio: columna 8\n"
     ]
    }
   ],
   "source": [
    "# ===== LIMPIEZA DE TEXTO PARA ANÁLISIS DE TÓPICOS =====\n",
    "\n",
    "\n",
    "print(\"🧹 Iniciando proceso de limpieza de texto...\")\n",
    "\n",
    "# Crear instancia del limpiador\n",
    "limpiador = LimpiadorTextoMejorado(idiomas=['spanish', 'english'])\n",
    "\n",
    "# Guardar DataFrame antes de la limpieza para comparación\n",
    "df_antes = df.copy()\n",
    "\n",
    "# Aplicar limpieza al dataset completo\n",
    "df = limpiador.limpiar_dataframe(\n",
    "    df, \n",
    "    columna_texto='TituloReview',\n",
    "    nombre_columna_limpia='TituloReviewLimpio',\n",
    "    aplicar_lematizacion=True,\n",
    "    min_longitud_palabra=2,\n",
    "    max_palabras=None\n",
    ")\n",
    "\n",
    "# Mostrar ejemplos de limpieza\n",
    "print(f\"\\n🔍 Ejemplos de limpieza aplicada:\")\n",
    "mostrar_ejemplos_limpieza(df, n_ejemplos=3)\n",
    "\n",
    "# Generar reporte completo\n",
    "generar_reporte_limpieza(df_antes, df, 'TituloReview', 'TituloReviewLimpio')\n",
    "\n",
    "# Guardar dataset actualizado\n",
    "df.to_csv('../data/processed/dataset_opiniones_analisis.csv', index=False)\n",
    "print(f\"\\n💾 Dataset actualizado y guardado con columna 'TituloReviewLimpio'\")\n",
    "\n",
    "\n",
    "print(f\"\\n📋 Estructura actual del dataset:\")\n",
    "print(f\"Dimensiones: {df.shape}\")\n",
    "print(f\"Columnas: {list(df.columns)}\")\n",
    "\n",
    "# Mostrar posición de las columnas de texto\n",
    "pos_original = df.columns.get_loc('TituloReview') + 1\n",
    "pos_limpia = df.columns.get_loc('TituloReviewLimpio') + 1\n",
    "print(f\"📍 TituloReview: columna {pos_original}\")\n",
    "print(f\"📍 TituloReviewLimpio: columna {pos_limpia}\")"
   ]
  },
  {
   "cell_type": "code",
   "execution_count": 5,
   "id": "27acded3",
   "metadata": {},
   "outputs": [
    {
     "name": "stdout",
     "output_type": "stream",
     "text": [
      "🔧 Configuración básica de BERTopic cargada\n",
      "💡 RECOMENDACIÓN: Ejecuta las celdas de optimización con Optuna para mejores resultados\n",
      "⚠️ Esta configuración será reemplazada si ejecutas la optimización\n",
      "⏭️ Entrenamiento básico omitido - ejecuta optimización o cambia SKIP_BASIC_TRAINING=False\n"
     ]
    }
   ],
   "source": [
    "# ===== CONFIGURACIÓN BÁSICA DE BERTOPIC =====\n",
    "# Esta configuración se usa si no ejecutas la optimización con Optuna\n",
    "\n",
    "embedding_model = SentenceTransformer('paraphrase-multilingual-MiniLM-L12-v2')\n",
    "\n",
    "umap_model = UMAP(n_neighbors=15, n_components=20, min_dist=0.0, metric='cosine', random_state=42)\n",
    "hdbscan_model = HDBSCAN(min_cluster_size=20, metric='euclidean', cluster_selection_method='eom', prediction_data=True, cluster_selection_epsilon=0.1)\n",
    "\n",
    "vectorizer_model = CountVectorizer(\n",
    "    ngram_range=(1, 2), \n",
    "    stop_words=None,\n",
    "    min_df=3,\n",
    "    max_df=0.80,\n",
    "    max_features=500\n",
    ")\n",
    "\n",
    "topic_model = BERTopic(\n",
    "    embedding_model=embedding_model,\n",
    "    umap_model=umap_model,\n",
    "    hdbscan_model=hdbscan_model,\n",
    "    vectorizer_model=vectorizer_model,\n",
    "    language=\"multilingual\",\n",
    "    calculate_probabilities=True,\n",
    "    verbose=True\n",
    ")\n",
    "\n",
    "print(\"🔧 Configuración básica de BERTopic cargada\")\n",
    "print(\"💡 RECOMENDACIÓN: Ejecuta las celdas de optimización con Optuna para mejores resultados\")\n",
    "print(\"⚠️ Esta configuración será reemplazada si ejecutas la optimización\")\n",
    "\n",
    "# Solo entrenar si no hay optimización\n",
    "SKIP_BASIC_TRAINING = True  # Cambiar a False si quieres entrenar sin optimización\n",
    "\n",
    "if not SKIP_BASIC_TRAINING:\n",
    "    print(\"Entrenando modelo BERTopic con configuración básica...\")\n",
    "    topics, probs = topic_model.fit_transform(texts)\n",
    "else:\n",
    "    print(\"⏭️ Entrenamiento básico omitido - ejecuta optimización o cambia SKIP_BASIC_TRAINING=False\")"
   ]
  },
  {
   "cell_type": "markdown",
   "id": "c6485bce",
   "metadata": {},
   "source": [
    "# Optimización de Hiperparámetros con Optuna\n",
    "\n",
    "Esta sección implementa una búsqueda automática de los mejores hiperparámetros para BERTopic usando Optuna. El objetivo es encontrar la configuración óptima que produzca tópicos más coherentes y distintivos para nuestro conjunto de datos específico."
   ]
  },
  {
   "cell_type": "code",
   "execution_count": null,
   "id": "b65f5194",
   "metadata": {},
   "outputs": [
    {
     "name": "stdout",
     "output_type": "stream",
     "text": [
      "✅ Optuna ya está instalado\n"
     ]
    }
   ],
   "source": [
    "import optuna\n",
    "from sklearn.metrics import silhouette_score\n",
    "from sklearn.feature_extraction.text import TfidfVectorizer\n",
    "import warnings\n",
    "optuna.logging.set_verbosity(optuna.logging.WARNING)  # Reducir logs verbosos\n",
    "\n",
    "import nltk\n",
    "from nltk.tokenize import word_tokenize\n",
    "from gensim.models.coherencemodel import CoherenceModel\n",
    "from gensim.corpora import Dictionary"
   ]
  },
  {
   "cell_type": "code",
   "execution_count": null,
   "id": "fc62e06c",
   "metadata": {},
   "outputs": [
    {
     "name": "stdout",
     "output_type": "stream",
     "text": [
      "🔍 Analizando características del dataset...\n",
      "📊 Características del dataset:\n",
      "   • Número de documentos: 490\n",
      "   • Longitud promedio: 31.6 ± 23.9 palabras\n",
      "   • Rango de longitud: 8 - 176 palabras\n",
      "   • Vocabulario único: 4,013 palabras\n",
      "   • Textos únicos: 490 (100.0%)\n",
      "   • Diversidad léxica: 0.2591\n",
      "\n",
      "================================================================================\n",
      "🌍 Analizando características multi-ciudad para optimización...\n",
      "\n",
      "🏙️ Analizando Cancun:\n",
      "🔍 Analizando características del dataset...\n",
      "📊 Características del dataset:\n",
      "   • Número de documentos: 483\n",
      "   • Longitud promedio: 33.0 ± 27.2 palabras\n",
      "   • Rango de longitud: 11 - 203 palabras\n",
      "   • Vocabulario único: 4,097 palabras\n",
      "   • Textos únicos: 483 (100.0%)\n",
      "   • Diversidad léxica: 0.2573\n",
      "\n",
      "🏙️ Analizando Cdmx:\n",
      "🔍 Analizando características del dataset...\n",
      "📊 Características del dataset:\n",
      "   • Número de documentos: 490\n",
      "   • Longitud promedio: 31.6 ± 23.9 palabras\n",
      "   • Rango de longitud: 8 - 176 palabras\n",
      "   • Vocabulario único: 4,004 palabras\n",
      "   • Textos únicos: 490 (100.0%)\n",
      "   • Diversidad léxica: 0.2585\n",
      "\n",
      "🏙️ Analizando Mazatlan:\n",
      "🔍 Analizando características del dataset...\n",
      "📊 Características del dataset:\n",
      "   • Número de documentos: 500\n",
      "   • Longitud promedio: 31.8 ± 25.4 palabras\n",
      "   • Rango de longitud: 8 - 253 palabras\n",
      "   • Vocabulario único: 3,884 palabras\n",
      "   • Textos únicos: 500 (100.0%)\n",
      "   • Diversidad léxica: 0.2445\n",
      "\n",
      "🏙️ Analizando Puebla:\n",
      "🔍 Analizando características del dataset...\n",
      "📊 Características del dataset:\n",
      "   • Número de documentos: 500\n",
      "   • Longitud promedio: 23.9 ± 21.7 palabras\n",
      "   • Rango de longitud: 9 - 313 palabras\n",
      "   • Vocabulario único: 2,911 palabras\n",
      "   • Textos únicos: 500 (100.0%)\n",
      "   • Diversidad léxica: 0.2441\n",
      "\n",
      "🏙️ Analizando Puerto_vallarta:\n",
      "🔍 Analizando características del dataset...\n",
      "📊 Características del dataset:\n",
      "   • Número de documentos: 491\n",
      "   • Longitud promedio: 31.8 ± 32.3 palabras\n",
      "   • Rango de longitud: 9 - 474 palabras\n",
      "   • Vocabulario único: 4,032 palabras\n",
      "   • Textos únicos: 491 (100.0%)\n",
      "   • Diversidad léxica: 0.2579\n",
      "\n",
      "📈 RESUMEN MULTI-CIUDAD:\n",
      "   • Total documentos: 2,464\n",
      "   • Ciudades válidas: 5\n",
      "   • Promedio docs/ciudad: 492.8\n",
      "   • Rango docs/ciudad: 483 - 500\n",
      "   • Diversidad léxica promedio: 0.2525\n",
      "================================================================================\n"
     ]
    }
   ],
   "source": [
    "# ===== ANÁLISIS DEL DATASET PARA OPTIMIZACIÓN =====\n",
    "\n",
    "def analizar_caracteristicas_dataset(texts):\n",
    "    \"\"\"Analiza las características del dataset para guiar la optimización\"\"\"\n",
    "    \n",
    "    print(\"🔍 Analizando características del dataset...\")\n",
    "    \n",
    "    # Estadísticas básicas\n",
    "    num_docs = len(texts)\n",
    "    avg_length = np.mean([len(text.split()) for text in texts])\n",
    "    std_length = np.std([len(text.split()) for text in texts])\n",
    "    min_length = min([len(text.split()) for text in texts])\n",
    "    max_length = max([len(text.split()) for text in texts])\n",
    "    \n",
    "    # Diversidad léxica\n",
    "    all_words = set()\n",
    "    for text in texts:\n",
    "        all_words.update(text.split())\n",
    "    vocab_size = len(all_words)\n",
    "    \n",
    "    # Análisis de duplicados\n",
    "    unique_texts = len(set(texts))\n",
    "    duplicate_ratio = 1 - (unique_texts / num_docs)\n",
    "    \n",
    "    characteristics = {\n",
    "        'num_docs': num_docs,\n",
    "        'avg_length': avg_length,\n",
    "        'std_length': std_length,\n",
    "        'min_length': min_length,\n",
    "        'max_length': max_length,\n",
    "        'vocab_size': vocab_size,\n",
    "        'unique_texts': unique_texts,\n",
    "        'duplicate_ratio': duplicate_ratio,\n",
    "        'lexical_diversity': vocab_size / sum(len(text.split()) for text in texts)\n",
    "    }\n",
    "    \n",
    "    print(f\"📊 Características del dataset:\")\n",
    "    print(f\"   • Número de documentos: {num_docs}\")\n",
    "    print(f\"   • Longitud promedio: {avg_length:.1f} ± {std_length:.1f} palabras\")\n",
    "    print(f\"   • Rango de longitud: {min_length} - {max_length} palabras\")\n",
    "    print(f\"   • Vocabulario único: {vocab_size:,} palabras\")\n",
    "    print(f\"   • Textos únicos: {unique_texts} ({(1-duplicate_ratio)*100:.1f}%)\")\n",
    "    print(f\"   • Diversidad léxica: {characteristics['lexical_diversity']:.4f}\")\n",
    "    \n",
    "    return characteristics\n",
    "\n",
    "def analizar_caracteristicas_multiciudad(df, ciudades, columna_texto):\n",
    "    \"\"\"\n",
    "    🆕 Analiza las características de múltiples ciudades para optimización cross-validation\n",
    "    \"\"\"\n",
    "    print(\"🌍 Analizando características multi-ciudad para optimización...\")\n",
    "    \n",
    "    caracteristicas_por_ciudad = {}\n",
    "    \n",
    "    for ciudad in ciudades:\n",
    "        print(f\"\\n🏙️ Analizando {ciudad}:\")\n",
    "        df_ciudad = df[df['Ciudad'] == ciudad]\n",
    "        texts_ciudad = df_ciudad[columna_texto].dropna().tolist()\n",
    "    \n",
    "        caracteristicas_por_ciudad[ciudad] = analizar_caracteristicas_dataset(texts_ciudad)\n",
    "    \n",
    "    # Calcular estadísticas combinadas\n",
    "    total_docs = sum(char['num_docs'] for char in caracteristicas_por_ciudad.values() if char is not None)\n",
    "    ciudades_validas = [ciudad for ciudad, char in caracteristicas_por_ciudad.items() if char is not None]\n",
    "    \n",
    "    if ciudades_validas:\n",
    "        avg_docs_per_city = total_docs / len(ciudades_validas)\n",
    "        min_docs = min(char['num_docs'] for char in caracteristicas_por_ciudad.values() if char is not None)\n",
    "        max_docs = max(char['num_docs'] for char in caracteristicas_por_ciudad.values() if char is not None)\n",
    "        \n",
    "        # Diversidad léxica promedio\n",
    "        avg_lexical_diversity = np.mean([char['lexical_diversity'] for char in caracteristicas_por_ciudad.values() if char is not None])\n",
    "        \n",
    "        caracteristicas_combinadas = {\n",
    "            'total_docs': total_docs,\n",
    "            'num_ciudades': len(ciudades_validas),\n",
    "            'avg_docs_per_city': avg_docs_per_city,\n",
    "            'min_docs_city': min_docs,\n",
    "            'max_docs_city': max_docs,\n",
    "            'avg_lexical_diversity': avg_lexical_diversity,\n",
    "            'ciudades_validas': ciudades_validas,\n",
    "            'por_ciudad': caracteristicas_por_ciudad\n",
    "        }\n",
    "        \n",
    "        print(f\"\\n📈 RESUMEN MULTI-CIUDAD:\")\n",
    "        print(f\"   • Total documentos: {total_docs:,}\")\n",
    "        print(f\"   • Ciudades válidas: {len(ciudades_validas)}\")\n",
    "        print(f\"   • Promedio docs/ciudad: {avg_docs_per_city:.1f}\")\n",
    "        print(f\"   • Rango docs/ciudad: {min_docs} - {max_docs}\")\n",
    "        print(f\"   • Diversidad léxica promedio: {avg_lexical_diversity:.4f}\")\n",
    "        \n",
    "        return caracteristicas_combinadas\n",
    "    else:\n",
    "        print(\"❌ No se encontraron ciudades válidas\")\n",
    "        return None\n",
    "\n",
    "# 🆕 Analizar características multi-ciudad para optimización\n",
    "if len(ciudades_optimizacion_validas) > 1:\n",
    "    print(f\"\\n\" + \"=\"*80)\n",
    "    dataset_chars_multiciudad = analizar_caracteristicas_multiciudad(\n",
    "        df, ciudades_optimizacion_validas, columna_texto\n",
    "    )\n",
    "    print(f\"=\"*80)\n",
    "else:\n",
    "    print(f\"\\n⚠️ Solo hay una ciudad válida para optimización multi-ciudad\")\n",
    "    dataset_chars_multiciudad = None"
   ]
  },
  {
   "cell_type": "code",
   "execution_count": null,
   "id": "e055aaf6",
   "metadata": {},
   "outputs": [],
   "source": [
    "# ===== MÉTRICAS AVANZADAS DE EVALUACIÓN PARA COHERENCIA DE TÓPICOS =====\n",
    "\n",
    "def calcular_coherencia_topicos(topic_model, texts, topics):\n",
    "    \"\"\"\n",
    "    Calcula múltiples métricas de coherencia avanzadas para evaluar la calidad de los tópicos\n",
    "    Incluye métricas estándar de la literatura: NPMI, UMass, CV, UCI\n",
    "    \"\"\"\n",
    "    try:\n",
    "        # Obtener información de tópicos\n",
    "        topic_info = topic_model.get_topic_info()\n",
    "        num_topics = len([t for t in topic_info['Topic'] if t != -1])\n",
    "        \n",
    "        if num_topics < 2:\n",
    "            return {\n",
    "                'num_topics': num_topics,\n",
    "                'silhouette_score': -1,\n",
    "                'topic_diversity': 0,\n",
    "                'coverage': 0,\n",
    "                'avg_topic_size': 0,\n",
    "                'coherence_cv': -1,\n",
    "                'coherence_umass': -1,\n",
    "                'coherence_npmi': -1,\n",
    "                'coherence_uci': -1,\n",
    "                'semantic_diversity': 0\n",
    "            }\n",
    "        \n",
    "        # 1. Silhouette Score usando embeddings\n",
    "        embeddings = topic_model._extract_embeddings(texts)\n",
    "        valid_topics = [t for t in topics if t != -1]\n",
    "        valid_embeddings = [embeddings[i] for i, t in enumerate(topics) if t != -1]\n",
    "        \n",
    "        silhouette = -1\n",
    "        if len(set(valid_topics)) > 1 and len(valid_embeddings) > 1:\n",
    "            silhouette = silhouette_score(valid_embeddings, valid_topics)\n",
    "\n",
    "        \n",
    "        # 2. Preparar datos para métricas de coherencia con Gensim\n",
    "        topic_words_lists = []\n",
    "        topic_embeddings = []\n",
    "        \n",
    "        for topic_id in topic_info['Topic']:\n",
    "            if topic_id != -1:\n",
    "                # Obtener palabras del tópico\n",
    "                topic_words = [word for word, _ in topic_model.get_topic(topic_id)[:10]]\n",
    "                topic_words_lists.append(topic_words)\n",
    "\n",
    "                word_embeddings = []\n",
    "                for word in topic_words[:5]:  # Top 5 palabras\n",
    "                        word_emb = topic_model.embedding_model.encode([word])[0]\n",
    "                        word_embeddings.append(word_emb)\n",
    "                \n",
    "                if word_embeddings:\n",
    "                    topic_emb = np.mean(word_embeddings, axis=0)\n",
    "                    topic_embeddings.append(topic_emb)\n",
    "                else:\n",
    "                    topic_embeddings.append(np.zeros(384))  # Dimensión por defecto\n",
    "\n",
    "        \n",
    "        # 3. Calcular métricas de coherencia estándar con Gensim\n",
    "        coherence_cv = -1\n",
    "        coherence_umass = -1\n",
    "        coherence_npmi = -1\n",
    "        coherence_uci = -1     \n",
    "\n",
    "            \n",
    "        try:\n",
    "            nltk.data.find('tokenizers/punkt')\n",
    "        except LookupError:\n",
    "            nltk.download('punkt', quiet=True)\n",
    "        \n",
    "        # Tokenizar textos y crear diccionario\n",
    "        tokenized_texts = []\n",
    "        for text in texts:\n",
    "            try:\n",
    "                tokens = word_tokenize(text.lower())\n",
    "                # Filtrar tokens de al menos 2 caracteres y que no sean puntuación\n",
    "                tokens = [token for token in tokens if len(token) > 1 and token.isalnum()]\n",
    "                tokenized_texts.append(tokens)\n",
    "            except:\n",
    "                tokenized_texts.append([])\n",
    "        \n",
    "        # Crear diccionario Gensim\n",
    "        dictionary = Dictionary(tokenized_texts)\n",
    "        dictionary.filter_extremes(no_below=2, no_above=0.8)\n",
    "        \n",
    "        # Calcular métricas de coherencia si tenemos suficientes datos\n",
    "        if len(topic_words_lists) > 0 and len(tokenized_texts) > 0:\n",
    "            \n",
    "\n",
    "            cm_cv = CoherenceModel(\n",
    "                topics=topic_words_lists, \n",
    "                texts=tokenized_texts, \n",
    "                dictionary=dictionary, \n",
    "                coherence='c_v'\n",
    "            )\n",
    "            coherence_cv = cm_cv.get_coherence()\n",
    "¿\n",
    "            \n",
    "            # Coherence UMass (Basada en co-ocurrencia)\n",
    "            try:\n",
    "                cm_umass = CoherenceModel(\n",
    "                    topics=topic_words_lists, \n",
    "                    texts=tokenized_texts, \n",
    "                    dictionary=dictionary, \n",
    "                    coherence='u_mass'\n",
    "                )\n",
    "                coherence_umass = cm_umass.get_coherence()\n",
    "            except:\n",
    "                coherence_umass = -1\n",
    "            \n",
    "            # Coherence NPMI (Normalized Pointwise Mutual Information)\n",
    "            try:\n",
    "                cm_npmi = CoherenceModel(\n",
    "                    topics=topic_words_lists, \n",
    "                    texts=tokenized_texts, \n",
    "                    dictionary=dictionary, \n",
    "                    coherence='c_npmi'\n",
    "                )\n",
    "                coherence_npmi = cm_npmi.get_coherence()\n",
    "            except:\n",
    "                coherence_npmi = -1\n",
    "            \n",
    "            # Coherence UCI (Basada en log conditional probability)\n",
    "            try:\n",
    "                cm_uci = CoherenceModel(\n",
    "                    topics=topic_words_lists, \n",
    "                    texts=tokenized_texts, \n",
    "                    dictionary=dictionary, \n",
    "                    coherence='c_uci'\n",
    "                )\n",
    "                coherence_uci = cm_uci.get_coherence()\n",
    "            except:\n",
    "                coherence_uci = -1\n",
    "                \n",
    "\n",
    "        \n",
    "        # 4. Diversidad semántica entre tópicos (usando embeddings)\n",
    "        semantic_diversity = 0\n",
    "        if len(topic_embeddings) > 1:\n",
    "            try:\n",
    "                # Calcular similitud coseno promedio entre todos los pares de tópicos\n",
    "                from sklearn.metrics.pairwise import cosine_similarity\n",
    "                similarities = []\n",
    "                \n",
    "                for i in range(len(topic_embeddings)):\n",
    "                    for j in range(i+1, len(topic_embeddings)):\n",
    "                        sim = cosine_similarity([topic_embeddings[i]], [topic_embeddings[j]])[0][0]\n",
    "                        similarities.append(sim)\n",
    "                \n",
    "                # Diversidad = 1 - similitud promedio (mayor diversidad = menor similitud)\n",
    "                avg_similarity = np.mean(similarities) if similarities else 0\n",
    "                semantic_diversity = 1 - max(0, avg_similarity)\n",
    "                \n",
    "            except Exception as e:\n",
    "                print(f\"Error calculando diversidad semántica: {e}\")\n",
    "                semantic_diversity = 0\n",
    "        \n",
    "        # 5. Diversidad léxica (método original mejorado)\n",
    "        topic_diversity = 0\n",
    "        if len(topic_words_lists) > 1:\n",
    "            # Calcular intersección promedio entre tópicos (menor es mejor)\n",
    "            intersections = []\n",
    "            for i in range(len(topic_words_lists)):\n",
    "                for j in range(i+1, len(topic_words_lists)):\n",
    "                    intersection = len(set(topic_words_lists[i]).intersection(set(topic_words_lists[j])))\n",
    "                    intersections.append(intersection)\n",
    "            \n",
    "            avg_intersection = np.mean(intersections) if intersections else 0\n",
    "            topic_diversity = 1 - (avg_intersection / 10)  # Normalizar por top 10 palabras\n",
    "        \n",
    "        # 6. Cobertura (porcentaje de documentos no outliers)\n",
    "        coverage = sum(1 for t in topics if t != -1) / len(topics)\n",
    "        \n",
    "        # 7. Tamaño promedio de tópicos (normalizado)\n",
    "        topic_sizes = [sum(1 for t in topics if t == topic_id) \n",
    "                      for topic_id in topic_info['Topic'] if topic_id != -1]\n",
    "        avg_topic_size = np.mean(topic_sizes) if topic_sizes else 0\n",
    "        \n",
    "        return {\n",
    "            'num_topics': num_topics,\n",
    "            'silhouette_score': silhouette,\n",
    "            'topic_diversity': topic_diversity,\n",
    "            'coverage': coverage,\n",
    "            'avg_topic_size': avg_topic_size,\n",
    "            'coherence_cv': coherence_cv,\n",
    "            'coherence_umass': coherence_umass,\n",
    "            'coherence_npmi': coherence_npmi,\n",
    "            'coherence_uci': coherence_uci,\n",
    "            'semantic_diversity': semantic_diversity\n",
    "        }\n",
    "        \n",
    "    except Exception as e:\n",
    "        print(f\"Error calculando coherencia: {e}\")\n",
    "        return {\n",
    "            'num_topics': 0,\n",
    "            'silhouette_score': -1,\n",
    "            'topic_diversity': 0,\n",
    "            'coverage': 0,\n",
    "            'avg_topic_size': 0,\n",
    "            'coherence_cv': -1,\n",
    "            'coherence_umass': -1,\n",
    "            'coherence_npmi': -1,\n",
    "            'coherence_uci': -1,\n",
    "            'semantic_diversity': 0\n",
    "        }\n",
    "\n",
    "def normalizar_metricas(metrics, dataset_chars):\n",
    "    \"\"\"\n",
    "    Normaliza las métricas a un rango [0,1] para comparación justa\n",
    "    \"\"\"\n",
    "    from sklearn.preprocessing import MinMaxScaler\n",
    "    \n",
    "    normalized_metrics = metrics.copy()\n",
    "    num_docs = dataset_chars['num_docs']\n",
    "    \n",
    "    # 1. Silhouette ya está en [-1, 1], normalizar a [0, 1]\n",
    "    if metrics['silhouette_score'] != -1:\n",
    "        normalized_metrics['silhouette_score'] = (metrics['silhouette_score'] + 1) / 2\n",
    "    else:\n",
    "        normalized_metrics['silhouette_score'] = 0\n",
    "    \n",
    "    # 2. Topic diversity ya está en [0, 1]\n",
    "    # 3. Coverage ya está en [0, 1]\n",
    "    \n",
    "    # 4. Avg topic size - normalizar por tamaño esperado del tópico\n",
    "    expected_topic_size = num_docs / max(1, metrics['num_topics'])\n",
    "    if expected_topic_size > 0:\n",
    "        normalized_metrics['avg_topic_size'] = min(1, metrics['avg_topic_size'] / expected_topic_size)\n",
    "    else:\n",
    "        normalized_metrics['avg_topic_size'] = 0\n",
    "    \n",
    "    # 5. Coherencia CV: ya está normalizada aproximadamente en [0, 1]\n",
    "    if metrics['coherence_cv'] == -1:\n",
    "        normalized_metrics['coherence_cv'] = 0\n",
    "    else:\n",
    "        normalized_metrics['coherence_cv'] = max(0, min(1, metrics['coherence_cv']))\n",
    "    \n",
    "    # 6. Coherencia UMass: está en (-inf, 0], normalizar con sigmoid\n",
    "    if metrics['coherence_umass'] == -1:\n",
    "        normalized_metrics['coherence_umass'] = 0\n",
    "    else:\n",
    "        # UMass típicamente va de -5 a 0, usar función sigmoid modificada\n",
    "        normalized_metrics['coherence_umass'] = 1 / (1 + np.exp(-2 * (metrics['coherence_umass'] + 2.5)))\n",
    "    \n",
    "    # 7. Coherencia NPMI: ya está en [-1, 1], normalizar a [0, 1]\n",
    "    if metrics['coherence_npmi'] == -1:\n",
    "        normalized_metrics['coherence_npmi'] = 0\n",
    "    else:\n",
    "        normalized_metrics['coherence_npmi'] = (metrics['coherence_npmi'] + 1) / 2\n",
    "    \n",
    "    # 8. Coherencia UCI: está en (-inf, 0], similar a UMass\n",
    "    if metrics['coherence_uci'] == -1:\n",
    "        normalized_metrics['coherence_uci'] = 0\n",
    "    else:\n",
    "        normalized_metrics['coherence_uci'] = 1 / (1 + np.exp(-2 * (metrics['coherence_uci'] + 2.5)))\n",
    "    \n",
    "    # 9. Semantic diversity ya está en [0, 1]\n",
    "    \n",
    "    return normalized_metrics\n",
    "\n",
    "def calcular_pesos_dinamicos(dataset_chars):\n",
    "    \"\"\"\n",
    "    Calcula pesos dinámicos basados en las características del dataset\n",
    "    \"\"\"\n",
    "    num_docs = dataset_chars['num_docs']\n",
    "    vocab_size = dataset_chars['vocab_size']\n",
    "    diversity_ratio = dataset_chars['lexical_diversity']\n",
    "    duplicate_ratio = dataset_chars['duplicate_ratio']\n",
    "    \n",
    "    # Categorías de métricas\n",
    "    # 1. Separación de clusters (silhouette, coverage)\n",
    "    # 2. Diversidad (topic_diversity, semantic_diversity)  \n",
    "    # 3. Coherencia interna (coherence_cv, coherence_umass, coherence_npmi, coherence_uci)\n",
    "    \n",
    "    # Pesos base\n",
    "    base_weights = {\n",
    "        'separation': 0.3,    # silhouette + coverage\n",
    "        'diversity': 0.35,    # topic_diversity + semantic_diversity\n",
    "        'coherence': 0.35     # coherencias Gensim\n",
    "    }\n",
    "    \n",
    "    # Ajustes dinámicos basados en características del dataset\n",
    "    \n",
    "    # Si hay pocos documentos, priorizar coherencia y diversidad\n",
    "    if num_docs < 100:\n",
    "        base_weights['coherence'] += 0.1\n",
    "        base_weights['diversity'] += 0.05\n",
    "        base_weights['separation'] -= 0.15\n",
    "    \n",
    "    # Si hay muchos documentos, priorizar separación\n",
    "    elif num_docs > 1000:\n",
    "        base_weights['separation'] += 0.1\n",
    "        base_weights['coherence'] -= 0.05\n",
    "        base_weights['diversity'] -= 0.05\n",
    "    \n",
    "    # Si hay mucha diversidad léxica, dar más peso a coherencia\n",
    "    if diversity_ratio > 0.1:\n",
    "        base_weights['coherence'] += 0.05\n",
    "        base_weights['diversity'] -= 0.05\n",
    "    \n",
    "    # Si hay muchos duplicados, priorizar diversidad\n",
    "    if duplicate_ratio > 0.3:\n",
    "        base_weights['diversity'] += 0.1\n",
    "        base_weights['separation'] -= 0.05\n",
    "        base_weights['coherence'] -= 0.05\n",
    "    \n",
    "    # Normalizar para que sumen 1\n",
    "    total = sum(base_weights.values())\n",
    "    for key in base_weights:\n",
    "        base_weights[key] /= total\n",
    "    \n",
    "    return base_weights\n",
    "\n",
    "def calcular_puntuacion_objetivo(metrics, dataset_chars):\n",
    "    \"\"\"\n",
    "    Combina múltiples métricas normalizadas en una puntuación objetivo para optimización\n",
    "    Usa pesos dinámicos y métricas estándar de coherencia\n",
    "    \"\"\"\n",
    "    # Normalizar métricas\n",
    "    normalized_metrics = normalizar_metricas(metrics, dataset_chars)\n",
    "    \n",
    "    # Obtener pesos dinámicos\n",
    "    weights = calcular_pesos_dinamicos(dataset_chars)\n",
    "    \n",
    "    # Número objetivo de tópicos basado en el tamaño del dataset\n",
    "    num_docs = dataset_chars['num_docs']\n",
    "    if num_docs < 100:\n",
    "        target_topics = max(3, num_docs // 20)\n",
    "    elif num_docs < 500:\n",
    "        target_topics = max(5, num_docs // 30)\n",
    "    else:\n",
    "        target_topics = max(8, min(15, num_docs // 40))\n",
    "    \n",
    "    # Penalización por desviación del número objetivo de tópicos\n",
    "    if metrics['num_topics'] > 0:\n",
    "        topic_penalty = abs(metrics['num_topics'] - target_topics) / target_topics\n",
    "    else:\n",
    "        topic_penalty = 1.0\n",
    "    \n",
    "    # 1. SEPARACIÓN DE CLUSTERS\n",
    "    separation_score = (\n",
    "        0.6 * normalized_metrics['silhouette_score'] +\n",
    "        0.4 * normalized_metrics['coverage']\n",
    "    )\n",
    "    \n",
    "    # 2. DIVERSIDAD (Combinar diversidad léxica y semántica)\n",
    "    diversity_score = (\n",
    "        0.5 * normalized_metrics['topic_diversity'] +\n",
    "        0.5 * normalized_metrics['semantic_diversity']\n",
    "    )\n",
    "    \n",
    "    # 3. COHERENCIA INTERNA (Combinar múltiples métricas de coherencia)\n",
    "    coherence_scores = [\n",
    "        normalized_metrics['coherence_cv'],\n",
    "        normalized_metrics['coherence_umass'], \n",
    "        normalized_metrics['coherence_npmi'],\n",
    "        normalized_metrics['coherence_uci']\n",
    "    ]\n",
    "    \n",
    "    # Usar solo las coherencias válidas (no -1)\n",
    "    valid_coherences = [score for score in coherence_scores if score > 0]\n",
    "    \n",
    "    if valid_coherences:\n",
    "        # Dar más peso a CV y NPMI que son más interpretables\n",
    "        if len(valid_coherences) >= 4:\n",
    "            coherence_score = (\n",
    "                0.4 * normalized_metrics['coherence_cv'] +\n",
    "                0.2 * normalized_metrics['coherence_umass'] +\n",
    "                0.3 * normalized_metrics['coherence_npmi'] +\n",
    "                0.1 * normalized_metrics['coherence_uci']\n",
    "            )\n",
    "        else:\n",
    "            coherence_score = np.mean(valid_coherences)\n",
    "    else:\n",
    "        # Fallback: usar tamaño de tópicos normalizado\n",
    "        coherence_score = normalized_metrics['avg_topic_size']\n",
    "    \n",
    "    # PUNTUACIÓN FINAL\n",
    "    final_score = (\n",
    "        weights['separation'] * separation_score +\n",
    "        weights['diversity'] * diversity_score +\n",
    "        weights['coherence'] * coherence_score -\n",
    "        0.15 * topic_penalty  # Penalización por número de tópicos\n",
    "    )\n",
    "    \n",
    "    return max(0, final_score)"
   ]
  },
  {
   "cell_type": "code",
   "execution_count": 9,
   "id": "fb31b54f",
   "metadata": {},
   "outputs": [
    {
     "name": "stdout",
     "output_type": "stream",
     "text": [
      "🔧 Funciones objetivo cargadas:\n",
      "✅ objetivo_bertopic: Optimización tradicional (una ciudad)\n",
      "✅ objetivo_bertopic_multiciudad: 🆕 Optimización cross-validation entre ciudades\n",
      "💡 La función multi-ciudad garantiza hiperparámetros que funcionen en general\n",
      "🎯 Cada trial entrena en todas las ciudades y promedia los resultados\n",
      "🔧 CORREGIDO: Eliminados prints duplicados y mejorado flujo de output\n"
     ]
    }
   ],
   "source": [
    "# ===== FUNCIÓN OBJETIVO MEJORADA PARA OPTUNA =====\n",
    "\n",
    "def objetivo_bertopic(trial, texts_sample, dataset_chars):\n",
    "    \"\"\"\n",
    "    Función objetivo mejorada para la optimización con Optuna\n",
    "    Incluye métricas estándar de coherencia y normalización\n",
    "    \"\"\"\n",
    "    try:\n",
    "        # 1. EMBEDDING MODEL - Sugerir diferentes modelos\n",
    "        embedding_options = [\n",
    "            'paraphrase-multilingual-MiniLM-L12-v2',\n",
    "            'paraphrase-multilingual-mpnet-base-v2',\n",
    "            'distiluse-base-multilingual-cased'\n",
    "        ]\n",
    "        embedding_name = trial.suggest_categorical('embedding_model', embedding_options)\n",
    "        \n",
    "        # 2. UMAP HYPERPARAMETERS - Adaptativos al dataset\n",
    "        min_neighbors = max(2, dataset_chars['num_docs'] // 50)\n",
    "        max_neighbors = min(50, dataset_chars['num_docs'] // 10)\n",
    "        \n",
    "        umap_neighbors = trial.suggest_int('umap_n_neighbors', min_neighbors, max_neighbors)\n",
    "        umap_components = trial.suggest_int('umap_n_components', 2, 50)\n",
    "        umap_min_dist = trial.suggest_float('umap_min_dist', 0.0, 0.5)\n",
    "        umap_metric = trial.suggest_categorical('umap_metric', ['cosine', 'euclidean'])\n",
    "        \n",
    "        # 3. HDBSCAN HYPERPARAMETERS - Adaptativos al dataset\n",
    "        min_cluster_size_min = max(5, dataset_chars['num_docs'] // 100)\n",
    "        min_cluster_size_max = min(100, dataset_chars['num_docs'] // 5)\n",
    "        \n",
    "        hdbscan_min_cluster_size = trial.suggest_int('hdbscan_min_cluster_size', \n",
    "                                                   min_cluster_size_min, min_cluster_size_max)\n",
    "        hdbscan_min_samples = trial.suggest_int('hdbscan_min_samples', 1, \n",
    "                                              max(1, hdbscan_min_cluster_size // 2))\n",
    "        hdbscan_metric = trial.suggest_categorical('hdbscan_metric', ['euclidean', 'manhattan'])\n",
    "        hdbscan_method = trial.suggest_categorical('hdbscan_cluster_selection', ['eom', 'leaf'])\n",
    "        hdbscan_epsilon = trial.suggest_float('hdbscan_epsilon', 0.0, 0.5)\n",
    "        \n",
    "        # 4. VECTORIZER HYPERPARAMETERS\n",
    "        from nltk.corpus import stopwords\n",
    "        stop_words_es = set(stopwords.words('spanish'))\n",
    "        stop_words_en = set(stopwords.words('english'))\n",
    "        combined_stopwords = list(stop_words_es.union(stop_words_en))\n",
    "        \n",
    "        use_stopwords = trial.suggest_categorical('use_stopwords', [True, False])\n",
    "        stopwords_to_use = combined_stopwords if use_stopwords else None\n",
    "        \n",
    "        vectorizer_ngram_max = trial.suggest_int('vectorizer_ngram_max', 1, 3)\n",
    "        \n",
    "        # Estrategia segura para min_df y max_df\n",
    "        num_docs = dataset_chars['num_docs']\n",
    "        \n",
    "        min_df_fraction = trial.suggest_float('min_df_fraction', 0.001, 0.1)\n",
    "        max_df_fraction = trial.suggest_float('max_df_fraction', 0.6, 0.95)\n",
    "        \n",
    "        # Asegurar orden correcto\n",
    "        if min_df_fraction >= max_df_fraction:\n",
    "            min_df_fraction = max_df_fraction - 0.1\n",
    "            min_df_fraction = max(0.001, min_df_fraction)\n",
    "        \n",
    "        vectorizer_min_df = min_df_fraction\n",
    "        vectorizer_max_df = max_df_fraction\n",
    "        vectorizer_max_features = trial.suggest_int('vectorizer_max_features', 100, 2000)\n",
    "        \n",
    "        # Crear modelos con hiperparámetros sugeridos\n",
    "        embedding_model = SentenceTransformer(embedding_name)\n",
    "        \n",
    "        umap_model = UMAP(\n",
    "            n_neighbors=umap_neighbors,\n",
    "            n_components=umap_components,\n",
    "            min_dist=umap_min_dist,\n",
    "            metric=umap_metric,\n",
    "            random_state=42\n",
    "        )\n",
    "        \n",
    "        hdbscan_model = HDBSCAN(\n",
    "            min_cluster_size=hdbscan_min_cluster_size,\n",
    "            min_samples=hdbscan_min_samples,\n",
    "            metric=hdbscan_metric,\n",
    "            cluster_selection_method=hdbscan_method,\n",
    "            cluster_selection_epsilon=hdbscan_epsilon,\n",
    "            prediction_data=True\n",
    "        )\n",
    "        \n",
    "        vectorizer_model = CountVectorizer(\n",
    "            ngram_range=(1, vectorizer_ngram_max),\n",
    "            stop_words=stopwords_to_use,\n",
    "            min_df=vectorizer_min_df,\n",
    "            max_df=vectorizer_max_df,\n",
    "            max_features=vectorizer_max_features\n",
    "        )\n",
    "        \n",
    "        # Crear y entrenar BERTopic\n",
    "        topic_model = BERTopic(\n",
    "            embedding_model=embedding_model,\n",
    "            umap_model=umap_model,\n",
    "            hdbscan_model=hdbscan_model,\n",
    "            vectorizer_model=vectorizer_model,\n",
    "            language=\"multilingual\",\n",
    "            calculate_probabilities=False,  # Más rápido para optimización\n",
    "            verbose=False\n",
    "        )\n",
    "        \n",
    "        # Entrenar en muestra del dataset\n",
    "        topics, _ = topic_model.fit_transform(texts_sample)\n",
    "        \n",
    "        # Calcular métricas mejoradas\n",
    "        metrics = calcular_coherencia_topicos(topic_model, texts_sample, topics)\n",
    "        \n",
    "        # Calcular puntuación objetivo con métricas normalizadas y pesos dinámicos\n",
    "        score = calcular_puntuacion_objetivo(metrics, dataset_chars)\n",
    "        \n",
    "        # Guardar métricas importantes en el trial (AMPLIADO)\n",
    "        trial.set_user_attr('num_topics', metrics['num_topics'])\n",
    "        trial.set_user_attr('silhouette_score', metrics['silhouette_score'])\n",
    "        trial.set_user_attr('topic_diversity', metrics['topic_diversity'])\n",
    "        trial.set_user_attr('coverage', metrics['coverage'])\n",
    "        trial.set_user_attr('avg_topic_size', metrics['avg_topic_size'])\n",
    "        \n",
    "        # Nuevas métricas de coherencia estándar\n",
    "        trial.set_user_attr('coherence_cv', metrics['coherence_cv'])\n",
    "        trial.set_user_attr('coherence_umass', metrics['coherence_umass'])\n",
    "        trial.set_user_attr('coherence_npmi', metrics['coherence_npmi'])\n",
    "        trial.set_user_attr('coherence_uci', metrics['coherence_uci'])\n",
    "        trial.set_user_attr('semantic_diversity', metrics['semantic_diversity'])\n",
    "        \n",
    "        # Información adicional sobre parámetros\n",
    "        trial.set_user_attr('min_df', vectorizer_min_df)\n",
    "        trial.set_user_attr('max_df', vectorizer_max_df)\n",
    "        trial.set_user_attr('min_df_docs', int(vectorizer_min_df * num_docs))\n",
    "        trial.set_user_attr('max_df_docs', int(vectorizer_max_df * num_docs))\n",
    "        trial.set_user_attr('embedding_model', embedding_name)\n",
    "        \n",
    "        # Calcular pesos utilizados para referencia\n",
    "        weights = calcular_pesos_dinamicos(dataset_chars)\n",
    "        trial.set_user_attr('weight_separation', weights['separation'])\n",
    "        trial.set_user_attr('weight_diversity', weights['diversity'])\n",
    "        trial.set_user_attr('weight_coherence', weights['coherence'])\n",
    "        \n",
    "        return score\n",
    "        \n",
    "    except Exception as e:\n",
    "        print(f\"Error en trial {trial.number}: {e}\")\n",
    "        return 0.0\n",
    "\n",
    "# ===== 🆕 FUNCIÓN OBJETIVO MULTI-CIUDAD PARA CROSS-VALIDATION =====\n",
    "\n",
    "def objetivo_bertopic_multiciudad(trial, df, ciudades, columna_texto, dataset_chars_multiciudad):\n",
    "    \"\"\"\n",
    "    🆕 Función objetivo multi-ciudad que implementa cross-validation entre datasets de ciudades\n",
    "    \n",
    "    Para cada trial de Optuna:\n",
    "    1. Entrena y evalúa en cada ciudad por separado\n",
    "    2. Calcula el promedio de scores\n",
    "    3. Garantiza que los hiperparámetros funcionen bien en general\n",
    "    \"\"\"\n",
    "    try:\n",
    "        # Usar los mismos hiperparámetros que la función original pero adaptados para multi-ciudad\n",
    "        embedding_options = [\n",
    "            'paraphrase-multilingual-MiniLM-L12-v2',\n",
    "            'paraphrase-multilingual-mpnet-base-v2',\n",
    "            'distiluse-base-multilingual-cased'\n",
    "        ]\n",
    "        embedding_name = trial.suggest_categorical('embedding_model', embedding_options)\n",
    "        \n",
    "        # UMAP adaptativo - usar estadísticas multi-ciudad\n",
    "        min_neighbors = max(2, dataset_chars_multiciudad['min_docs_city'] // 30)\n",
    "        max_neighbors = min(30, dataset_chars_multiciudad['avg_docs_per_city'] // 8)\n",
    "        \n",
    "        umap_neighbors = trial.suggest_int('umap_n_neighbors', min_neighbors, max_neighbors)\n",
    "        umap_components = trial.suggest_int('umap_n_components', 2, 30)\n",
    "        umap_min_dist = trial.suggest_float('umap_min_dist', 0.0, 0.4)\n",
    "        umap_metric = trial.suggest_categorical('umap_metric', ['cosine', 'euclidean'])\n",
    "        \n",
    "        # HDBSCAN adaptativo - considerar la ciudad más pequeña\n",
    "        min_cluster_size_min = max(3, dataset_chars_multiciudad['min_docs_city'] // 50)\n",
    "        min_cluster_size_max = min(50, dataset_chars_multiciudad['min_docs_city'] // 3)\n",
    "        \n",
    "        hdbscan_min_cluster_size = trial.suggest_int('hdbscan_min_cluster_size', \n",
    "                                                   min_cluster_size_min, min_cluster_size_max)\n",
    "        hdbscan_min_samples = trial.suggest_int('hdbscan_min_samples', 1, \n",
    "                                              max(1, hdbscan_min_cluster_size // 2))\n",
    "        hdbscan_metric = trial.suggest_categorical('hdbscan_metric', ['euclidean', 'manhattan'])\n",
    "        hdbscan_method = trial.suggest_categorical('hdbscan_cluster_selection', ['eom', 'leaf'])\n",
    "        hdbscan_epsilon = trial.suggest_float('hdbscan_epsilon', 0.0, 0.3)\n",
    "        \n",
    "        # Vectorizer\n",
    "        from nltk.corpus import stopwords\n",
    "        stop_words_es = set(stopwords.words('spanish'))\n",
    "        stop_words_en = set(stopwords.words('english'))\n",
    "        combined_stopwords = list(stop_words_es.union(stop_words_en))\n",
    "        \n",
    "        use_stopwords = trial.suggest_categorical('use_stopwords', [True, False])\n",
    "        stopwords_to_use = combined_stopwords if use_stopwords else None\n",
    "        \n",
    "        vectorizer_ngram_max = trial.suggest_int('vectorizer_ngram_max', 1, 2)\n",
    "        min_df_fraction = trial.suggest_float('min_df_fraction', 0.005, 0.08)\n",
    "        max_df_fraction = trial.suggest_float('max_df_fraction', 0.7, 0.92)\n",
    "        \n",
    "        if min_df_fraction >= max_df_fraction:\n",
    "            min_df_fraction = max_df_fraction - 0.05\n",
    "            min_df_fraction = max(0.005, min_df_fraction)\n",
    "        \n",
    "        vectorizer_max_features = trial.suggest_int('vectorizer_max_features', 200, 1000)\n",
    "        \n",
    "        # ===== EVALUACIÓN EN CADA CIUDAD =====\n",
    "        scores_por_ciudad = {}\n",
    "        metricas_por_ciudad = {}\n",
    "        resultados_evaluacion = []  # Para el reporte final\n",
    "        \n",
    "        for i, ciudad in enumerate(ciudades):\n",
    "            try:\n",
    "                # Preparar datos de la ciudad\n",
    "                df_ciudad = df[df['Ciudad'] == ciudad]\n",
    "                texts_ciudad = df_ciudad[columna_texto].dropna().tolist()\n",
    "                \n",
    "                if len(texts_ciudad) < 10:  # Mínimo de textos necesarios\n",
    "                    resultados_evaluacion.append(f\"    ⚠️ {ciudad}: Muy pocos textos ({len(texts_ciudad)}), omitiendo...\")\n",
    "                    continue\n",
    "                \n",
    "                # Crear características específicas de la ciudad\n",
    "                dataset_chars_ciudad = dataset_chars_multiciudad['por_ciudad'][ciudad]\n",
    "                \n",
    "                if dataset_chars_ciudad is None:\n",
    "                    resultados_evaluacion.append(f\"    ❌ {ciudad}: No hay características válidas\")\n",
    "                    continue\n",
    "                \n",
    "                # Crear modelos con los hiperparámetros sugeridos\n",
    "                embedding_model = SentenceTransformer(embedding_name)\n",
    "                \n",
    "                umap_model = UMAP(\n",
    "                    n_neighbors=min(umap_neighbors, len(texts_ciudad)-1),\n",
    "                    n_components=min(umap_components, len(texts_ciudad)-1),\n",
    "                    min_dist=umap_min_dist,\n",
    "                    metric=umap_metric,\n",
    "                    random_state=42\n",
    "                )\n",
    "                \n",
    "                hdbscan_model = HDBSCAN(\n",
    "                    min_cluster_size=min(hdbscan_min_cluster_size, len(texts_ciudad)//3),\n",
    "                    min_samples=hdbscan_min_samples,\n",
    "                    metric=hdbscan_metric,\n",
    "                    cluster_selection_method=hdbscan_method,\n",
    "                    cluster_selection_epsilon=hdbscan_epsilon,\n",
    "                    prediction_data=True\n",
    "                )\n",
    "                \n",
    "                vectorizer_model = CountVectorizer(\n",
    "                    ngram_range=(1, vectorizer_ngram_max),\n",
    "                    stop_words=stopwords_to_use,\n",
    "                    min_df=min_df_fraction,\n",
    "                    max_df=max_df_fraction,\n",
    "                    max_features=vectorizer_max_features\n",
    "                )\n",
    "                \n",
    "                # Crear y entrenar BERTopic para esta ciudad\n",
    "                topic_model_ciudad = BERTopic(\n",
    "                    embedding_model=embedding_model,\n",
    "                    umap_model=umap_model,\n",
    "                    hdbscan_model=hdbscan_model,\n",
    "                    vectorizer_model=vectorizer_model,\n",
    "                    language=\"multilingual\",\n",
    "                    calculate_probabilities=False,\n",
    "                    verbose=False\n",
    "                )\n",
    "                \n",
    "                # Entrenar en la ciudad\n",
    "                topics_ciudad, _ = topic_model_ciudad.fit_transform(texts_ciudad)\n",
    "                \n",
    "                # Calcular métricas para esta ciudad\n",
    "                metrics_ciudad = calcular_coherencia_topicos(topic_model_ciudad, texts_ciudad, topics_ciudad)\n",
    "                score_ciudad = calcular_puntuacion_objetivo(metrics_ciudad, dataset_chars_ciudad)\n",
    "                \n",
    "                scores_por_ciudad[ciudad] = score_ciudad\n",
    "                metricas_por_ciudad[ciudad] = metrics_ciudad\n",
    "                \n",
    "                resultados_evaluacion.append(f\"    ✅ {ciudad}: Score = {score_ciudad:.4f}, Tópicos = {metrics_ciudad['num_topics']}\")\n",
    "                \n",
    "            except Exception as e:\n",
    "                resultados_evaluacion.append(f\"    ❌ Error en {ciudad}: {str(e)[:50]}...\")\n",
    "                continue\n",
    "        \n",
    "        # Imprimir todos los resultados de una vez al final\n",
    "        print(f\"🌍 Trial {trial.number}: Evaluando en {len(ciudades)} ciudades...\")\n",
    "        for resultado in resultados_evaluacion:\n",
    "            print(resultado)\n",
    "        \n",
    "        # ===== CALCULAR SCORE PROMEDIO =====\n",
    "        if len(scores_por_ciudad) == 0:\n",
    "            print(f\"  ❌ Trial {trial.number}: No se pudo evaluar en ninguna ciudad\")\n",
    "            return 0.0\n",
    "        \n",
    "        # Score promedio ponderado por tamaño de dataset\n",
    "        score_promedio = np.mean(list(scores_por_ciudad.values()))\n",
    "        \n",
    "        # Score ponderado por número de documentos (ciudades más grandes tienen más peso)\n",
    "        total_docs = sum(dataset_chars_multiciudad['por_ciudad'][ciudad]['num_docs'] \n",
    "                        for ciudad in scores_por_ciudad.keys())\n",
    "        \n",
    "        score_ponderado = sum(\n",
    "            scores_por_ciudad[ciudad] * (dataset_chars_multiciudad['por_ciudad'][ciudad]['num_docs'] / total_docs)\n",
    "            for ciudad in scores_por_ciudad.keys()\n",
    "        )\n",
    "        \n",
    "        # Usar promedio de ambos enfoques\n",
    "        score_final = (score_promedio + score_ponderado) / 2\n",
    "        \n",
    "        # ===== GUARDAR MÉTRICAS AGREGADAS =====\n",
    "        # Promedio de métricas individuales\n",
    "        metricas_agregadas = {}\n",
    "        for metric_name in ['num_topics', 'silhouette_score', 'topic_diversity', 'coverage', \n",
    "                           'coherence_cv', 'coherence_npmi', 'semantic_diversity']:\n",
    "            valores = [metricas_por_ciudad[ciudad].get(metric_name, 0) \n",
    "                      for ciudad in scores_por_ciudad.keys()\n",
    "                      if metricas_por_ciudad[ciudad].get(metric_name, -999) != -1]\n",
    "            \n",
    "            if valores:\n",
    "                metricas_agregadas[metric_name] = np.mean(valores)\n",
    "            else:\n",
    "                metricas_agregadas[metric_name] = 0\n",
    "        \n",
    "        # Guardar en trial\n",
    "        trial.set_user_attr('score_promedio', score_promedio)\n",
    "        trial.set_user_attr('score_ponderado', score_ponderado)\n",
    "        trial.set_user_attr('ciudades_evaluadas', list(scores_por_ciudad.keys()))\n",
    "        trial.set_user_attr('num_ciudades_exitosas', len(scores_por_ciudad))\n",
    "        \n",
    "        # Métricas agregadas\n",
    "        for metric_name, value in metricas_agregadas.items():\n",
    "            trial.set_user_attr(f'avg_{metric_name}', value)\n",
    "        \n",
    "        # Scores individuales por ciudad\n",
    "        for ciudad, score in scores_por_ciudad.items():\n",
    "            trial.set_user_attr(f'score_{ciudad}', score)\n",
    "        \n",
    "        # Parámetros del modelo\n",
    "        trial.set_user_attr('embedding_model', embedding_name)\n",
    "        trial.set_user_attr('min_df', min_df_fraction)\n",
    "        trial.set_user_attr('max_df', max_df_fraction)\n",
    "        \n",
    "        print(f\"  ✅ Trial {trial.number}: Score final = {score_final:.4f} (promedio de {len(scores_por_ciudad)} ciudades)\")\n",
    "        \n",
    "        return score_final\n",
    "        \n",
    "    except Exception as e:\n",
    "        print(f\"❌ Error general en trial {trial.number}: {e}\")\n",
    "        return 0.0\n",
    "\n",
    "print(\"🔧 Funciones objetivo cargadas:\")\n",
    "print(\"✅ objetivo_bertopic: Optimización tradicional (una ciudad)\")\n",
    "print(\"✅ objetivo_bertopic_multiciudad: 🆕 Optimización cross-validation entre ciudades\")\n",
    "print(\"💡 La función multi-ciudad garantiza hiperparámetros que funcionen en general\")\n",
    "print(\"🎯 Cada trial entrena en todas las ciudades y promedia los resultados\")\n",
    "print(\"🔧 CORREGIDO: Eliminados prints duplicados y mejorado flujo de output\")"
   ]
  },
  {
   "cell_type": "code",
   "execution_count": 10,
   "id": "e3810e60",
   "metadata": {},
   "outputs": [
    {
     "name": "stdout",
     "output_type": "stream",
     "text": [
      "✅ Funciones de visualización y análisis cargadas\n",
      "💡 Nuevas funciones disponibles:\n",
      "   • visualizar_evolucion_metricas(study)\n",
      "   • analizar_pareto_front(study)\n",
      "   • mostrar_metricas_detalladas(metrics, dataset_chars)\n"
     ]
    }
   ],
   "source": [
    "# ===== VISUALIZACIÓN Y ANÁLISIS DE MÉTRICAS =====\n",
    "\n",
    "def visualizar_evolucion_metricas(study):\n",
    "    \"\"\"\n",
    "    Visualiza la evolución de las métricas durante la optimización\n",
    "    \"\"\"\n",
    "    # Extraer datos de trials completados\n",
    "    completed_trials = [t for t in study.trials if t.state == optuna.trial.TrialState.COMPLETE]\n",
    "    \n",
    "    if len(completed_trials) < 5:\n",
    "        print(\"⚠️ Muy pocos trials completados para generar visualizaciones\")\n",
    "        return\n",
    "    \n",
    "    # Crear DataFrame con métricas\n",
    "    metrics_data = []\n",
    "    for trial in completed_trials:\n",
    "        data = {\n",
    "            'trial_number': trial.number,\n",
    "            'objective_score': trial.value,\n",
    "            'num_topics': trial.user_attrs.get('num_topics', 0),\n",
    "            'silhouette_score': trial.user_attrs.get('silhouette_score', -1),\n",
    "            'topic_diversity': trial.user_attrs.get('topic_diversity', 0),\n",
    "            'coverage': trial.user_attrs.get('coverage', 0),\n",
    "            'coherence_cv': trial.user_attrs.get('coherence_cv', -1),\n",
    "            'coherence_npmi': trial.user_attrs.get('coherence_npmi', -1),\n",
    "            'semantic_diversity': trial.user_attrs.get('semantic_diversity', 0)\n",
    "        }\n",
    "        metrics_data.append(data)\n",
    "    \n",
    "    df_metrics = pd.DataFrame(metrics_data)\n",
    "    \n",
    "    # Crear visualizaciones\n",
    "    fig, axes = plt.subplots(2, 3, figsize=(18, 12))\n",
    "    \n",
    "    # 1. Evolución del score objetivo\n",
    "    axes[0,0].plot(df_metrics['trial_number'], df_metrics['objective_score'], 'b-', alpha=0.7)\n",
    "    axes[0,0].scatter(df_metrics['trial_number'], df_metrics['objective_score'], c='blue', alpha=0.5)\n",
    "    axes[0,0].set_title('Evolución Score Objetivo')\n",
    "    axes[0,0].set_xlabel('Trial')\n",
    "    axes[0,0].set_ylabel('Score')\n",
    "    axes[0,0].grid(True, alpha=0.3)\n",
    "    \n",
    "    # 2. Trade-off: Coverage vs Diversity\n",
    "    valid_mask = (df_metrics['coverage'] > 0) & (df_metrics['topic_diversity'] > 0)\n",
    "    if valid_mask.sum() > 0:\n",
    "        scatter = axes[0,1].scatter(df_metrics.loc[valid_mask, 'coverage'], \n",
    "                                  df_metrics.loc[valid_mask, 'topic_diversity'],\n",
    "                                  c=df_metrics.loc[valid_mask, 'objective_score'],\n",
    "                                  cmap='viridis', alpha=0.7)\n",
    "        axes[0,1].set_title('Trade-off: Coverage vs Diversity')\n",
    "        axes[0,1].set_xlabel('Coverage')\n",
    "        axes[0,1].set_ylabel('Topic Diversity')\n",
    "        plt.colorbar(scatter, ax=axes[0,1], label='Score')\n",
    "    \n",
    "    # 3. Relación: Número de tópicos vs Score\n",
    "    axes[0,2].scatter(df_metrics['num_topics'], df_metrics['objective_score'], alpha=0.7)\n",
    "    axes[0,2].set_title('Número de Tópicos vs Score')\n",
    "    axes[0,2].set_xlabel('Número de Tópicos')\n",
    "    axes[0,2].set_ylabel('Score Objetivo')\n",
    "    axes[0,2].grid(True, alpha=0.3)\n",
    "    \n",
    "    # 4. Distribución de coherencias\n",
    "    coherence_cols = ['coherence_cv', 'coherence_npmi']\n",
    "    for i, col in enumerate(coherence_cols):\n",
    "        valid_coherence = df_metrics[df_metrics[col] > -0.5][col]\n",
    "        if len(valid_coherence) > 0:\n",
    "            axes[1,i].hist(valid_coherence, bins=20, alpha=0.7, edgecolor='black')\n",
    "            axes[1,i].set_title(f'Distribución {col.replace(\"_\", \" \").title()}')\n",
    "            axes[1,i].set_xlabel('Coherencia')\n",
    "            axes[1,i].set_ylabel('Frecuencia')\n",
    "            axes[1,i].axvline(valid_coherence.mean(), color='red', linestyle='--', \n",
    "                            label=f'Media: {valid_coherence.mean():.3f}')\n",
    "            axes[1,i].legend()\n",
    "    \n",
    "    # 5. Trade-off: Silhouette vs Coherence CV\n",
    "    valid_silhouette = df_metrics['silhouette_score'] > -0.5\n",
    "    valid_coherence_cv = df_metrics['coherence_cv'] > -0.5\n",
    "    valid_both = valid_silhouette & valid_coherence_cv\n",
    "    \n",
    "    if valid_both.sum() > 0:\n",
    "        scatter = axes[1,2].scatter(df_metrics.loc[valid_both, 'silhouette_score'],\n",
    "                                  df_metrics.loc[valid_both, 'coherence_cv'],\n",
    "                                  c=df_metrics.loc[valid_both, 'objective_score'],\n",
    "                                  cmap='plasma', alpha=0.7)\n",
    "        axes[1,2].set_title('Trade-off: Silhouette vs Coherence CV')\n",
    "        axes[1,2].set_xlabel('Silhouette Score')\n",
    "        axes[1,2].set_ylabel('Coherence CV')\n",
    "        plt.colorbar(scatter, ax=axes[1,2], label='Score')\n",
    "    \n",
    "    plt.tight_layout()\n",
    "    plt.show()\n",
    "    \n",
    "    # Estadísticas resumidas\n",
    "    print(f\"\\n📊 ESTADÍSTICAS DE OPTIMIZACIÓN:\")\n",
    "    print(f\"=\" * 50)\n",
    "    print(f\"Trials completados: {len(completed_trials)}\")\n",
    "    print(f\"Score máximo: {df_metrics['objective_score'].max():.4f}\")\n",
    "    print(f\"Score promedio: {df_metrics['objective_score'].mean():.4f} ± {df_metrics['objective_score'].std():.4f}\")\n",
    "    \n",
    "    # Correlaciones entre métricas\n",
    "    print(f\"\\n🔗 CORRELACIONES CON SCORE OBJETIVO:\")\n",
    "    print(f\"-\" * 40)\n",
    "    numeric_cols = ['num_topics', 'silhouette_score', 'topic_diversity', 'coverage', 'coherence_cv', 'coherence_npmi']\n",
    "    for col in numeric_cols:\n",
    "        if col in df_metrics.columns:\n",
    "            valid_data = df_metrics[(df_metrics[col] > -0.5) & (df_metrics['objective_score'] > 0)]\n",
    "            if len(valid_data) > 5:\n",
    "                correlation = valid_data[col].corr(valid_data['objective_score'])\n",
    "                print(f\"{col.replace('_', ' ').title()}: {correlation:.3f}\")\n",
    "\n",
    "def analizar_pareto_front(study):\n",
    "    \"\"\"\n",
    "    Analiza el frente de Pareto entre diferentes objetivos\n",
    "    \"\"\"\n",
    "    completed_trials = [t for t in study.trials if t.state == optuna.trial.TrialState.COMPLETE]\n",
    "    \n",
    "    if len(completed_trials) < 10:\n",
    "        print(\"⚠️ Muy pocos trials para análisis de Pareto\")\n",
    "        return\n",
    "    \n",
    "    # Extraer métricas principales\n",
    "    data = []\n",
    "    for trial in completed_trials:\n",
    "        metrics = {\n",
    "            'coherence': trial.user_attrs.get('coherence_cv', 0),\n",
    "            'diversity': trial.user_attrs.get('semantic_diversity', 0),\n",
    "            'coverage': trial.user_attrs.get('coverage', 0),\n",
    "            'silhouette': trial.user_attrs.get('silhouette_score', 0),\n",
    "            'score': trial.value\n",
    "        }\n",
    "        if metrics['coherence'] > 0 and metrics['diversity'] > 0:\n",
    "            data.append(metrics)\n",
    "    \n",
    "    if len(data) < 5:\n",
    "        print(\"⚠️ Datos insuficientes para análisis de Pareto\")\n",
    "        return\n",
    "    \n",
    "    df_pareto = pd.DataFrame(data)\n",
    "    \n",
    "    # Visualizar trade-offs principales\n",
    "    fig, axes = plt.subplots(1, 3, figsize=(18, 6))\n",
    "    \n",
    "    # Coherencia vs Diversidad\n",
    "    scatter1 = axes[0].scatter(df_pareto['coherence'], df_pareto['diversity'], \n",
    "                              c=df_pareto['score'], cmap='viridis', alpha=0.7, s=50)\n",
    "    axes[0].set_xlabel('Coherencia CV')\n",
    "    axes[0].set_ylabel('Diversidad Semántica')\n",
    "    axes[0].set_title('Trade-off: Coherencia vs Diversidad')\n",
    "    plt.colorbar(scatter1, ax=axes[0], label='Score')\n",
    "    \n",
    "    # Coherencia vs Cobertura\n",
    "    scatter2 = axes[1].scatter(df_pareto['coherence'], df_pareto['coverage'],\n",
    "                              c=df_pareto['score'], cmap='plasma', alpha=0.7, s=50)\n",
    "    axes[1].set_xlabel('Coherencia CV')\n",
    "    axes[1].set_ylabel('Cobertura')\n",
    "    axes[1].set_title('Trade-off: Coherencia vs Cobertura')\n",
    "    plt.colorbar(scatter2, ax=axes[1], label='Score')\n",
    "    \n",
    "    # Diversidad vs Cobertura\n",
    "    scatter3 = axes[2].scatter(df_pareto['diversity'], df_pareto['coverage'],\n",
    "                              c=df_pareto['score'], cmap='coolwarm', alpha=0.7, s=50)\n",
    "    axes[2].set_xlabel('Diversidad Semántica')\n",
    "    axes[2].set_ylabel('Cobertura')\n",
    "    axes[2].set_title('Trade-off: Diversidad vs Cobertura')\n",
    "    plt.colorbar(scatter3, ax=axes[2], label='Score')\n",
    "    \n",
    "    plt.tight_layout()\n",
    "    plt.show()\n",
    "    \n",
    "    # Identificar soluciones del frente de Pareto (simplificado)\n",
    "    top_10_percent = df_pareto.nlargest(max(1, len(df_pareto) // 10), 'score')\n",
    "    \n",
    "    print(f\"\\n🏆 TOP SOLUCIONES (10% superior):\")\n",
    "    print(f\"=\" * 60)\n",
    "    for idx, row in top_10_percent.iterrows():\n",
    "        print(f\"Score: {row['score']:.4f} | \"\n",
    "              f\"Coherencia: {row['coherence']:.3f} | \"\n",
    "              f\"Diversidad: {row['diversity']:.3f} | \"\n",
    "              f\"Cobertura: {row['coverage']:.3f}\")\n",
    "\n",
    "def mostrar_metricas_detalladas(metrics, dataset_chars):\n",
    "    \"\"\"\n",
    "    Muestra un resumen detallado de todas las métricas calculadas\n",
    "    \"\"\"\n",
    "    print(f\"📊 MÉTRICAS DETALLADAS DE COHERENCIA DE TÓPICOS\")\n",
    "    print(f\"=\" * 60)\n",
    "    \n",
    "    # Información del dataset\n",
    "    print(f\"\\n📁 INFORMACIÓN DEL DATASET:\")\n",
    "    print(f\"   • Documentos: {dataset_chars['num_docs']:,}\")\n",
    "    print(f\"   • Vocabulario: {dataset_chars['vocab_size']:,} palabras únicas\")\n",
    "    print(f\"   • Diversidad léxica: {dataset_chars['lexical_diversity']:.4f}\")\n",
    "    print(f\"   • Ratio de duplicados: {dataset_chars['duplicate_ratio']:.2%}\")\n",
    "    \n",
    "    # Métricas de separación\n",
    "    print(f\"\\n🎯 SEPARACIÓN DE CLUSTERS:\")\n",
    "    print(f\"   • Silhouette Score: {metrics['silhouette_score']:.4f}\")\n",
    "    print(f\"   • Cobertura: {metrics['coverage']:.2%}\")\n",
    "    \n",
    "    # Métricas de diversidad\n",
    "    print(f\"\\n🌈 DIVERSIDAD:\")\n",
    "    print(f\"   • Diversidad léxica: {metrics['topic_diversity']:.4f}\")\n",
    "    print(f\"   • Diversidad semántica: {metrics['semantic_diversity']:.4f}\")\n",
    "    \n",
    "    # Métricas de coherencia estándar\n",
    "    print(f\"\\n🧠 COHERENCIA ESTÁNDAR (Gensim):\")\n",
    "    coherence_metrics = [\n",
    "        ('CV (Ventana deslizante)', metrics['coherence_cv']),\n",
    "        ('UMass (Co-ocurrencia)', metrics['coherence_umass']),\n",
    "        ('NPMI (Mutual Information)', metrics['coherence_npmi']),\n",
    "        ('UCI (Log conditional)', metrics['coherence_uci'])\n",
    "    ]\n",
    "    \n",
    "    for name, value in coherence_metrics:\n",
    "        if value != -1:\n",
    "            status = \"✅\" if value > 0.3 else \"⚠️\" if value > 0.1 else \"❌\"\n",
    "            print(f\"   • {name}: {value:.4f} {status}\")\n",
    "        else:\n",
    "            print(f\"   • {name}: No calculada ❌\")\n",
    "    \n",
    "    # Información de tópicos\n",
    "    print(f\"\\n📈 INFORMACIÓN DE TÓPICOS:\")\n",
    "    print(f\"   • Número de tópicos: {metrics['num_topics']}\")\n",
    "    print(f\"   • Tamaño promedio: {metrics['avg_topic_size']:.1f} documentos\")\n",
    "    \n",
    "    # Interpretación de resultados\n",
    "    print(f\"\\n💡 INTERPRETACIÓN:\")\n",
    "    \n",
    "    # Evaluar calidad general\n",
    "    valid_coherences = [v for v in [metrics['coherence_cv'], metrics['coherence_npmi']] if v > 0]\n",
    "    \n",
    "    if valid_coherences:\n",
    "        avg_coherence = np.mean(valid_coherences)\n",
    "        if avg_coherence > 0.4:\n",
    "            quality = \"Excelente ⭐⭐⭐\"\n",
    "        elif avg_coherence > 0.25:\n",
    "            quality = \"Buena ⭐⭐\"\n",
    "        elif avg_coherence > 0.1:\n",
    "            quality = \"Aceptable ⭐\"\n",
    "        else:\n",
    "            quality = \"Necesita mejoras ⚠️\"\n",
    "        \n",
    "        print(f\"   • Calidad general: {quality}\")\n",
    "        print(f\"   • Coherencia promedio: {avg_coherence:.3f}\")\n",
    "    else:\n",
    "        print(f\"   • Calidad general: No evaluable (falta coherencia)\")\n",
    "    \n",
    "    # Recomendaciones\n",
    "    print(f\"\\n🔧 RECOMENDACIONES:\")\n",
    "    \n",
    "    if metrics['coverage'] < 0.7:\n",
    "        print(f\"   • Reducir min_cluster_size para mayor cobertura\")\n",
    "    \n",
    "    if metrics['topic_diversity'] < 0.5:\n",
    "        print(f\"   • Ajustar parámetros para mayor diversidad entre tópicos\")\n",
    "    \n",
    "    if metrics['silhouette_score'] < 0.2:\n",
    "        print(f\"   • Mejorar separación con diferentes embeddings o UMAP\")\n",
    "    \n",
    "    if all(v == -1 for v in [metrics['coherence_cv'], metrics['coherence_npmi']]):\n",
    "        print(f\"   • Verificar tokenización y diccionario para coherencia Gensim\")\n",
    "\n",
    "print(\"✅ Funciones de visualización y análisis cargadas\")\n",
    "print(\"💡 Nuevas funciones disponibles:\")\n",
    "print(\"   • visualizar_evolucion_metricas(study)\")\n",
    "print(\"   • analizar_pareto_front(study)\")  \n",
    "print(\"   • mostrar_metricas_detalladas(metrics, dataset_chars)\")"
   ]
  },
  {
   "cell_type": "code",
   "execution_count": 11,
   "id": "7643044e",
   "metadata": {},
   "outputs": [
    {
     "name": "stdout",
     "output_type": "stream",
     "text": [
      "🔍 Verificando función de validación de parámetros...\n",
      "✅ min_df=0.01, max_df=0.8, docs=100 → Válido: min_df=1 docs, max_df=80 docs\n",
      "✅ min_df=0.05, max_df=0.9, docs=100 → Válido: min_df=5 docs, max_df=90 docs\n",
      "❌ min_df=0.1, max_df=0.05, docs=100 → min_df (0.100) >= max_df (0.050)\n",
      "✅ min_df=0.02, max_df=0.95, docs=50 → Válido: min_df=1 docs, max_df=47 docs\n",
      "✅ min_df=0.001, max_df=0.8, docs=1000 → Válido: min_df=1 docs, max_df=800 docs\n",
      "\n",
      "📊 Para tu dataset de 490 documentos:\n",
      "   • Nueva estrategia: usar siempre fracciones (float)\n",
      "   • min_df rango: 0.001 - 0.1 (1 - 49 docs)\n",
      "   • max_df rango: 0.6 - 0.95 (294 - 465 docs)\n",
      "   • ✅ Esto garantiza min_df < max_df siempre\n"
     ]
    }
   ],
   "source": [
    "# ===== VERIFICACIÓN DE PARÁMETROS PARA EVITAR ERRORES =====\n",
    "\n",
    "def verificar_parametros_vectorizer(min_df, max_df, num_docs):\n",
    "    \"\"\"\n",
    "    Verifica que los parámetros min_df y max_df sean compatibles\n",
    "    \"\"\"\n",
    "    # Si ambos son float, comparar directamente\n",
    "    if isinstance(min_df, float) and isinstance(max_df, float):\n",
    "        if min_df >= max_df:\n",
    "            return False, f\"min_df ({min_df:.3f}) >= max_df ({max_df:.3f})\"\n",
    "        \n",
    "        # Verificar que los valores convertidos a documentos sean válidos\n",
    "        min_df_docs = int(min_df * num_docs)\n",
    "        max_df_docs = int(max_df * num_docs)\n",
    "        \n",
    "        if min_df_docs >= max_df_docs:\n",
    "            return False, f\"min_df ({min_df_docs} docs) >= max_df ({max_df_docs} docs)\"\n",
    "        \n",
    "        return True, f\"Válido: min_df={min_df_docs} docs, max_df={max_df_docs} docs\"\n",
    "    \n",
    "    # Convertir max_df a número de documentos si es float\n",
    "    if isinstance(max_df, float):\n",
    "        max_df_docs = int(max_df * num_docs)\n",
    "    else:\n",
    "        max_df_docs = max_df\n",
    "    \n",
    "    # Verificar compatibilidad\n",
    "    if max_df_docs < min_df:\n",
    "        return False, f\"max_df ({max_df_docs} docs) < min_df ({min_df} docs)\"\n",
    "    \n",
    "    return True, \"Parámetros válidos\"\n",
    "\n",
    "# Probar con algunos valores para verificar la función\n",
    "print(\"🔍 Verificando función de validación de parámetros...\")\n",
    "\n",
    "test_cases = [\n",
    "    (0.01, 0.8, 100),   # Válido: min_df=1 doc, max_df=80 docs\n",
    "    (0.05, 0.9, 100),   # Válido: min_df=5 docs, max_df=90 docs  \n",
    "    (0.1, 0.05, 100),   # Inválido: min_df=10 docs, max_df=5 docs\n",
    "    (0.02, 0.95, 50),   # Válido: min_df=1 doc, max_df=47 docs\n",
    "    (0.001, 0.8, 1000), # Válido: min_df=1 doc, max_df=800 docs\n",
    "]\n",
    "\n",
    "for min_df, max_df, num_docs in test_cases:\n",
    "    valid, msg = verificar_parametros_vectorizer(min_df, max_df, num_docs)\n",
    "    status = \"✅\" if valid else \"❌\"\n",
    "    print(f\"{status} min_df={min_df}, max_df={max_df}, docs={num_docs} → {msg}\")\n",
    "\n",
    "print(f\"\\n📊 Para tu dataset de {dataset_chars['num_docs']} documentos:\")\n",
    "print(f\"   • Nueva estrategia: usar siempre fracciones (float)\")\n",
    "print(f\"   • min_df rango: 0.001 - 0.1 ({1} - {int(0.1 * dataset_chars['num_docs'])} docs)\")\n",
    "print(f\"   • max_df rango: 0.6 - 0.95 ({int(0.6 * dataset_chars['num_docs'])} - {int(0.95 * dataset_chars['num_docs'])} docs)\")\n",
    "print(f\"   • ✅ Esto garantiza min_df < max_df siempre\")"
   ]
  },
  {
   "cell_type": "code",
   "execution_count": null,
   "id": "b0a31a46",
   "metadata": {},
   "outputs": [
    {
     "name": "stdout",
     "output_type": "stream",
     "text": [
      "🌍 OPTIMIZACIÓN MULTI-CIUDAD ACTIVADA\n",
      "🎯 Cross-validation entre 5 ciudades\n",
      "✅ Ciudades: ['Cancun', 'Cdmx', 'Mazatlan', 'Puebla', 'Puerto_vallarta']\n",
      "📊 Total documentos: 2,464\n",
      "📈 Promedio docs/ciudad: 492.8\n",
      "\n",
      "💡 VENTAJAS DE LA OPTIMIZACIÓN MULTI-CIUDAD:\n",
      "   ✅ Hiperparámetros que funcionan en todas las ciudades\n",
      "   ✅ Evita sobreajuste a una ciudad específica\n",
      "   ✅ Mayor robustez y generalización\n",
      "   ✅ Cross-validation automático entre datasets\n",
      "\n",
      "📊 Configuración de optimización:\n",
      "   • Muestra para optimización: 2,464 textos\n",
      "   • Número de pruebas: 10\n",
      "   • Timeout: 6000 minutos\n",
      "   • Modo: Multi-ciudad\n",
      "\n",
      "🔧 Iniciando optimización (bertopic_multiciudad)...\n",
      "⏱️ Esto puede tomar 6000 minutos...\n",
      "🌍 Cada trial evaluará en 5 ciudades\n",
      "⏳ Tiempo estimado por trial: 600.0 minutos\n"
     ]
    },
    {
     "data": {
      "application/vnd.jupyter.widget-view+json": {
       "model_id": "1de469b395ef40b694921e097ed3edc5",
       "version_major": 2,
       "version_minor": 0
      },
      "text/plain": [
       "  0%|          | 0/10 [00:00<?, ?it/s]"
      ]
     },
     "metadata": {},
     "output_type": "display_data"
    },
    {
     "name": "stdout",
     "output_type": "stream",
     "text": [
      "🌍 Trial 0: Evaluando en 5 ciudades...\n",
      "    ✅ Cancun: Score = 0.7835, Tópicos = 2\n",
      "    ✅ Cdmx: Score = 0.7567, Tópicos = 2\n",
      "    ✅ Mazatlan: Score = 0.6533, Tópicos = 4\n",
      "    ✅ Puebla: Score = 0.7599, Tópicos = 3\n",
      "    ✅ Puerto_vallarta: Score = 0.7924, Tópicos = 2\n",
      "  ✅ Trial 0: Score final = 0.7490 (promedio de 5 ciudades)\n",
      "🌍 Trial 1: Evaluando en 5 ciudades...\n",
      "    ✅ Cancun: Score = 0.7020, Tópicos = 13\n",
      "    ✅ Cdmx: Score = 0.6511, Tópicos = 13\n",
      "    ✅ Mazatlan: Score = 0.6603, Tópicos = 14\n",
      "    ✅ Puebla: Score = 0.6609, Tópicos = 16\n",
      "    ✅ Puerto_vallarta: Score = 0.6496, Tópicos = 11\n",
      "  ✅ Trial 1: Score final = 0.6647 (promedio de 5 ciudades)\n",
      "🌍 Trial 1: Evaluando en 5 ciudades...\n",
      "    ✅ Cancun: Score = 0.7020, Tópicos = 13\n",
      "    ✅ Cdmx: Score = 0.6511, Tópicos = 13\n",
      "    ✅ Mazatlan: Score = 0.6603, Tópicos = 14\n",
      "    ✅ Puebla: Score = 0.6609, Tópicos = 16\n",
      "    ✅ Puerto_vallarta: Score = 0.6496, Tópicos = 11\n",
      "  ✅ Trial 1: Score final = 0.6647 (promedio de 5 ciudades)\n",
      "🌍 Trial 2: Evaluando en 5 ciudades...\n",
      "    ✅ Cancun: Score = 0.6416, Tópicos = 3\n",
      "    ✅ Cdmx: Score = 0.5062, Tópicos = 2\n",
      "    ✅ Mazatlan: Score = 0.4850, Tópicos = 2\n",
      "    ✅ Puebla: Score = 0.6953, Tópicos = 4\n",
      "    ✅ Puerto_vallarta: Score = 0.4905, Tópicos = 3\n",
      "  ✅ Trial 2: Score final = 0.5637 (promedio de 5 ciudades)\n",
      "🌍 Trial 2: Evaluando en 5 ciudades...\n",
      "    ✅ Cancun: Score = 0.6416, Tópicos = 3\n",
      "    ✅ Cdmx: Score = 0.5062, Tópicos = 2\n",
      "    ✅ Mazatlan: Score = 0.4850, Tópicos = 2\n",
      "    ✅ Puebla: Score = 0.6953, Tópicos = 4\n",
      "    ✅ Puerto_vallarta: Score = 0.4905, Tópicos = 3\n",
      "  ✅ Trial 2: Score final = 0.5637 (promedio de 5 ciudades)\n",
      "🌍 Trial 3: Evaluando en 5 ciudades...\n",
      "    ✅ Cancun: Score = 0.7733, Tópicos = 11\n",
      "    ✅ Cdmx: Score = 0.7611, Tópicos = 12\n",
      "    ✅ Mazatlan: Score = 0.7984, Tópicos = 10\n",
      "    ✅ Puebla: Score = 0.7531, Tópicos = 10\n",
      "    ✅ Puerto_vallarta: Score = 0.7203, Tópicos = 9\n",
      "  ✅ Trial 3: Score final = 0.7613 (promedio de 5 ciudades)\n",
      "🌍 Trial 3: Evaluando en 5 ciudades...\n",
      "    ✅ Cancun: Score = 0.7733, Tópicos = 11\n",
      "    ✅ Cdmx: Score = 0.7611, Tópicos = 12\n",
      "    ✅ Mazatlan: Score = 0.7984, Tópicos = 10\n",
      "    ✅ Puebla: Score = 0.7531, Tópicos = 10\n",
      "    ✅ Puerto_vallarta: Score = 0.7203, Tópicos = 9\n",
      "  ✅ Trial 3: Score final = 0.7613 (promedio de 5 ciudades)\n",
      "🌍 Trial 4: Evaluando en 5 ciudades...\n",
      "    ✅ Cancun: Score = 0.7847, Tópicos = 2\n",
      "    ✅ Cdmx: Score = 0.6699, Tópicos = 2\n",
      "    ✅ Mazatlan: Score = 0.6573, Tópicos = 2\n",
      "    ✅ Puebla: Score = 0.7471, Tópicos = 3\n",
      "    ✅ Puerto_vallarta: Score = 0.7701, Tópicos = 2\n",
      "  ✅ Trial 4: Score final = 0.7256 (promedio de 5 ciudades)\n",
      "🌍 Trial 4: Evaluando en 5 ciudades...\n",
      "    ✅ Cancun: Score = 0.7847, Tópicos = 2\n",
      "    ✅ Cdmx: Score = 0.6699, Tópicos = 2\n",
      "    ✅ Mazatlan: Score = 0.6573, Tópicos = 2\n",
      "    ✅ Puebla: Score = 0.7471, Tópicos = 3\n",
      "    ✅ Puerto_vallarta: Score = 0.7701, Tópicos = 2\n",
      "  ✅ Trial 4: Score final = 0.7256 (promedio de 5 ciudades)\n"
     ]
    }
   ],
   "source": [
    "# ===== EJECUTAR OPTIMIZACIÓN CON OPTUNA =====\n",
    "\n",
    "# 🆕 CONFIGURACIÓN DE OPTIMIZACIÓN MULTI-CIUDAD\n",
    "USAR_OPTIMIZACION_MULTICIUDAD = True  # ✅ Cambiar a False para optimización tradicional (solo una ciudad)\n",
    "\n",
    "# Configuración de la optimización\n",
    "OPTIMIZATION_CONFIG = {\n",
    "    'n_trials': 10,  # Número de pruebas (ajustar según tiempo disponible)\n",
    "    'timeout': 360000,  # Timeout en segundos (1 hora)\n",
    "    'n_jobs': 1  # Paralelización (cuidado con memoria)\n",
    "}\n",
    "\n",
    "if USAR_OPTIMIZACION_MULTICIUDAD and dataset_chars_multiciudad is not None:\n",
    "    print(f\"🌍 OPTIMIZACIÓN MULTI-CIUDAD ACTIVADA\")\n",
    "    print(f\"🎯 Cross-validation entre {len(ciudades_optimizacion_validas)} ciudades\")\n",
    "    print(f\"✅ Ciudades: {ciudades_optimizacion_validas}\")\n",
    "    print(f\"📊 Total documentos: {dataset_chars_multiciudad['total_docs']:,}\")\n",
    "    print(f\"📈 Promedio docs/ciudad: {dataset_chars_multiciudad['avg_docs_per_city']:.1f}\")\n",
    "    \n",
    "    OPTIMIZATION_CONFIG['sample_size'] = dataset_chars_multiciudad['total_docs']\n",
    "    optimization_function = lambda trial: objetivo_bertopic_multiciudad(\n",
    "        trial, df, ciudades_optimizacion_validas, columna_texto, dataset_chars_multiciudad\n",
    "    )\n",
    "    \n",
    "    print(f\"\\n💡 VENTAJAS DE LA OPTIMIZACIÓN MULTI-CIUDAD:\")\n",
    "    print(f\"   ✅ Hiperparámetros que funcionan en todas las ciudades\")\n",
    "    print(f\"   ✅ Evita sobreajuste a una ciudad específica\")\n",
    "    print(f\"   ✅ Mayor robustez y generalización\")\n",
    "    print(f\"   ✅ Cross-validation automático entre datasets\")\n",
    "    \n",
    "else:\n",
    "    print(f\"🏙️ OPTIMIZACIÓN TRADICIONAL (CIUDAD INDIVIDUAL)\")\n",
    "    print(f\"🎯 Optimizando solo para: {CIUDAD_ANALIZAR}\")\n",
    "    print(f\"📊 Dataset: {len(texts)} textos\")\n",
    "    \n",
    "    # Crear muestra representativa para optimización\n",
    "    np.random.seed(42)\n",
    "    sample_size = min(len(texts), 1000)  # Limitar muestra para optimización rápida\n",
    "    \n",
    "    if len(texts) > sample_size:\n",
    "        sample_indices = np.random.choice(len(texts), sample_size, replace=False)\n",
    "        texts_sample = [texts[i] for i in sample_indices]\n",
    "    else:\n",
    "        texts_sample = texts.copy()\n",
    "    \n",
    "    OPTIMIZATION_CONFIG['sample_size'] = len(texts_sample)\n",
    "    optimization_function = lambda trial: objetivo_bertopic(\n",
    "        trial, texts_sample, dataset_chars\n",
    "    )\n",
    "    \n",
    "    print(f\"⚠️ LIMITACIONES DE LA OPTIMIZACIÓN TRADICIONAL:\")\n",
    "    print(f\"   ⚠️ Hiperparámetros específicos solo para {CIUDAD_ANALIZAR}\")\n",
    "    print(f\"   ⚠️ Puede no funcionar bien en otras ciudades\")\n",
    "    print(f\"   ⚠️ Riesgo de sobreajuste al dataset específico\")\n",
    "\n",
    "print(f\"\\n📊 Configuración de optimización:\")\n",
    "print(f\"   • Muestra para optimización: {OPTIMIZATION_CONFIG['sample_size']:,} textos\")\n",
    "print(f\"   • Número de pruebas: {OPTIMIZATION_CONFIG['n_trials']}\")\n",
    "print(f\"   • Timeout: {OPTIMIZATION_CONFIG['timeout']/60:.0f} minutos\")\n",
    "print(f\"   • Modo: {'Multi-ciudad' if USAR_OPTIMIZACION_MULTICIUDAD and dataset_chars_multiciudad else 'Ciudad individual'}\")\n",
    "\n",
    "# Crear estudio de Optuna\n",
    "study_name = f\"bertopic_{'multiciudad' if USAR_OPTIMIZACION_MULTICIUDAD and dataset_chars_multiciudad else CIUDAD_ANALIZAR}\"\n",
    "study = optuna.create_study(\n",
    "    direction='maximize',  # Maximizar la puntuación objetivo\n",
    "    sampler=optuna.samplers.TPESampler(seed=42),\n",
    "    pruner=optuna.pruners.MedianPruner(n_startup_trials=5, n_warmup_steps=5),\n",
    "    study_name=study_name\n",
    ")\n",
    "\n",
    "print(f\"\\n🔧 Iniciando optimización ({study_name})...\")\n",
    "print(f\"⏱️ Esto puede tomar {OPTIMIZATION_CONFIG['timeout']/60:.0f} minutos...\")\n",
    "\n",
    "if USAR_OPTIMIZACION_MULTICIUDAD and dataset_chars_multiciudad is not None:\n",
    "    print(f\"🌍 Cada trial evaluará en {len(ciudades_optimizacion_validas)} ciudades\")\n",
    "    print(f\"⏳ Tiempo estimado por trial: {OPTIMIZATION_CONFIG['timeout']/(60*OPTIMIZATION_CONFIG['n_trials']):.1f} minutos\")\n",
    "\n",
    "# Ejecutar optimización\n",
    "start_time = pd.Timestamp.now()\n",
    "\n",
    "try:\n",
    "    study.optimize(\n",
    "        optimization_function,\n",
    "        n_trials=OPTIMIZATION_CONFIG['n_trials'],\n",
    "        timeout=OPTIMIZATION_CONFIG['timeout'],\n",
    "        n_jobs=OPTIMIZATION_CONFIG['n_jobs'],\n",
    "        show_progress_bar=True\n",
    "    )\n",
    "    \n",
    "    optimization_time = pd.Timestamp.now() - start_time\n",
    "    print(f\"\\n✅ Optimización completada en {optimization_time}\")\n",
    "    \n",
    "    if USAR_OPTIMIZACION_MULTICIUDAD and dataset_chars_multiciudad is not None:\n",
    "        print(f\"🌍 Se evaluaron hiperparámetros en múltiples ciudades\")\n",
    "        print(f\"🎯 Los resultados son válidos para todas las ciudades\")\n",
    "    \n",
    "except Exception as e:\n",
    "    print(f\"\\n❌ Error durante optimización: {e}\")\n",
    "    print(\"🔧 Mostrando resultados parciales...\")\n",
    "\n",
    "# Información adicional sobre el tipo de optimización ejecutado\n",
    "if USAR_OPTIMIZACION_MULTICIUDAD and dataset_chars_multiciudad is not None:\n",
    "    print(f\"\\n📈 RESULTADO DE LA OPTIMIZACIÓN MULTI-CIUDAD:\")\n",
    "    print(f\"✅ Los hiperparámetros encontrados funcionan bien en:\")\n",
    "    for ciudad in ciudades_optimizacion_validas:\n",
    "        docs_ciudad = dataset_chars_multiciudad['por_ciudad'][ciudad]['num_docs']\n",
    "        print(f\"   🏙️ {ciudad}: {docs_ciudad} documentos\")\n",
    "else:\n",
    "    print(f\"\\n📈 RESULTADO DE LA OPTIMIZACIÓN INDIVIDUAL:\")\n",
    "    print(f\"✅ Los hiperparámetros encontrados están optimizados para {CIUDAD_ANALIZAR}\")\n",
    "    print(f\"⚠️ Para aplicar a otras ciudades, considera usar optimización multi-ciudad\")"
   ]
  },
  {
   "cell_type": "code",
   "execution_count": null,
   "id": "6362f2cb",
   "metadata": {},
   "outputs": [
    {
     "name": "stdout",
     "output_type": "stream",
     "text": [
      "📊 RESULTADOS AVANZADOS DE LA OPTIMIZACIÓN\n",
      "============================================================\n",
      "🏆 Mejor puntuación: 0.6958\n",
      "🔧 Trial número: 3\n",
      "\n",
      "🎯 HIPERPARÁMETROS ÓPTIMOS:\n",
      "----------------------------------------\n",
      "embedding_model: distiluse-base-multilingual-cased\n",
      "umap_n_neighbors: 14\n",
      "umap_n_components: 41\n",
      "umap_min_dist: 0.03727532183988541\n",
      "umap_metric: cosine\n",
      "hdbscan_min_cluster_size: 23\n",
      "hdbscan_min_samples: 1\n",
      "hdbscan_metric: euclidean\n",
      "hdbscan_cluster_selection: leaf\n",
      "hdbscan_epsilon: 0.03702232586704518\n",
      "use_stopwords: True\n",
      "vectorizer_ngram_max: 3\n",
      "min_df_fraction: 0.06270651455592824\n",
      "max_df_fraction: 0.7158143086984272\n",
      "vectorizer_max_features: 220\n",
      "\n",
      "📈 MÉTRICAS DETALLADAS DEL MEJOR MODELO:\n",
      "--------------------------------------------------\n",
      "🎯 INFORMACIÓN BÁSICA:\n",
      "   • Número de tópicos: 9\n",
      "   • Tamaño promedio de tópico: 39.2\n",
      "\n",
      "🎯 SEPARACIÓN DE CLUSTERS:\n",
      "   • Silhouette Score: 0.0477\n",
      "   • Cobertura: 72.04%\n",
      "\n",
      "🌈 DIVERSIDAD:\n",
      "   • Diversidad léxica: 0.9500\n",
      "   • Diversidad semántica: 1.0000\n",
      "\n",
      "🧠 COHERENCIA ESTÁNDAR (Literatura):\n",
      "   • CV (Ventana deslizante): No calculada ❌\n",
      "   • UMass (Co-ocurrencia): No calculada ❌\n",
      "   • NPMI (Mutual Information): No calculada ❌\n",
      "   • UCI (Log conditional): No calculada ❌\n",
      "\n",
      "⚖️ PESOS DINÁMICOS UTILIZADOS:\n",
      "   • Separación: 30.00%\n",
      "   • Diversidad: 30.00%\n",
      "   • Coherencia: 40.00%\n",
      "\n",
      "🔍 IMPORTANCIA DE PARÁMETROS:\n",
      "----------------------------------------\n",
      "umap_min_dist: 0.187\n",
      "vectorizer_ngram_max: 0.168\n",
      "umap_n_neighbors: 0.109\n",
      "hdbscan_min_cluster_size: 0.109\n",
      "hdbscan_cluster_selection: 0.079\n",
      "embedding_model: 0.079\n",
      "umap_metric: 0.063\n",
      "hdbscan_epsilon: 0.062\n",
      "min_df_fraction: 0.048\n",
      "umap_n_components: 0.032\n",
      "vectorizer_max_features: 0.017\n",
      "use_stopwords: 0.016\n",
      "\n",
      "📋 ESTADÍSTICAS DE TRIALS:\n",
      "----------------------------------------\n",
      "Trials completados: 5\n",
      "Trials fallidos: 0\n",
      "Puntuación promedio: 0.5054 ± 0.2581\n",
      "Rango de puntuaciones: 0.0000 - 0.6958\n",
      "\n",
      "🏅 TOP 5 TRIALS CON MÉTRICAS DETALLADAS:\n",
      "------------------------------------------------------------\n",
      "\n",
      "1. 🏆 Trial 3 - Score: 0.6958\n",
      "   📊 Tópicos: 9\n",
      "   🎯 Silhouette: 0.048\n",
      "   📈 Cobertura: 72.0%\n",
      "   🌈 Diversidad semántica: 1.000\n",
      "   🔧 Embedding: distiluse-base-multilingual-cased\n",
      "\n",
      "2. 🏆 Trial 1 - Score: 0.6836\n",
      "   📊 Tópicos: 7\n",
      "   🎯 Silhouette: 0.038\n",
      "   📈 Cobertura: 73.3%\n",
      "   🌈 Diversidad semántica: 1.000\n",
      "   🔧 Embedding: distiluse-base-multilingual-cased\n",
      "\n",
      "3. 🏆 Trial 4 - Score: 0.5852\n",
      "   📊 Tópicos: 2\n",
      "   🎯 Silhouette: 0.114\n",
      "   📈 Cobertura: 60.8%\n",
      "   🌈 Diversidad semántica: 1.000\n",
      "   🔧 Embedding: distiluse-base-multilingual-cased\n",
      "\n",
      "4. 🏆 Trial 0 - Score: 0.5621\n",
      "   📊 Tópicos: 2\n",
      "   🎯 Silhouette: 0.093\n",
      "   📈 Cobertura: 56.7%\n",
      "   🌈 Diversidad semántica: 1.000\n",
      "   🔧 Embedding: paraphrase-multilingual-mpnet-base-v2\n",
      "\n",
      "5. 🏆 Trial 2 - Score: 0.0000\n",
      "   📊 Tópicos: N/A\n",
      "   🎯 Silhouette: -1.000\n",
      "   📈 Cobertura: 0.0%\n",
      "   🌈 Diversidad semántica: 0.000\n",
      "   🔧 Embedding: N/A\n",
      "\n",
      "📊 Generando visualizaciones avanzadas de optimización...\n",
      "\n",
      "🔍 IMPORTANCIA DE PARÁMETROS:\n",
      "----------------------------------------\n",
      "umap_min_dist: 0.187\n",
      "vectorizer_ngram_max: 0.168\n",
      "umap_n_neighbors: 0.109\n",
      "hdbscan_min_cluster_size: 0.109\n",
      "hdbscan_cluster_selection: 0.079\n",
      "embedding_model: 0.079\n",
      "umap_metric: 0.063\n",
      "hdbscan_epsilon: 0.062\n",
      "min_df_fraction: 0.048\n",
      "umap_n_components: 0.032\n",
      "vectorizer_max_features: 0.017\n",
      "use_stopwords: 0.016\n",
      "\n",
      "📋 ESTADÍSTICAS DE TRIALS:\n",
      "----------------------------------------\n",
      "Trials completados: 5\n",
      "Trials fallidos: 0\n",
      "Puntuación promedio: 0.5054 ± 0.2581\n",
      "Rango de puntuaciones: 0.0000 - 0.6958\n",
      "\n",
      "🏅 TOP 5 TRIALS CON MÉTRICAS DETALLADAS:\n",
      "------------------------------------------------------------\n",
      "\n",
      "1. 🏆 Trial 3 - Score: 0.6958\n",
      "   📊 Tópicos: 9\n",
      "   🎯 Silhouette: 0.048\n",
      "   📈 Cobertura: 72.0%\n",
      "   🌈 Diversidad semántica: 1.000\n",
      "   🔧 Embedding: distiluse-base-multilingual-cased\n",
      "\n",
      "2. 🏆 Trial 1 - Score: 0.6836\n",
      "   📊 Tópicos: 7\n",
      "   🎯 Silhouette: 0.038\n",
      "   📈 Cobertura: 73.3%\n",
      "   🌈 Diversidad semántica: 1.000\n",
      "   🔧 Embedding: distiluse-base-multilingual-cased\n",
      "\n",
      "3. 🏆 Trial 4 - Score: 0.5852\n",
      "   📊 Tópicos: 2\n",
      "   🎯 Silhouette: 0.114\n",
      "   📈 Cobertura: 60.8%\n",
      "   🌈 Diversidad semántica: 1.000\n",
      "   🔧 Embedding: distiluse-base-multilingual-cased\n",
      "\n",
      "4. 🏆 Trial 0 - Score: 0.5621\n",
      "   📊 Tópicos: 2\n",
      "   🎯 Silhouette: 0.093\n",
      "   📈 Cobertura: 56.7%\n",
      "   🌈 Diversidad semántica: 1.000\n",
      "   🔧 Embedding: paraphrase-multilingual-mpnet-base-v2\n",
      "\n",
      "5. 🏆 Trial 2 - Score: 0.0000\n",
      "   📊 Tópicos: N/A\n",
      "   🎯 Silhouette: -1.000\n",
      "   📈 Cobertura: 0.0%\n",
      "   🌈 Diversidad semántica: 0.000\n",
      "   🔧 Embedding: N/A\n",
      "\n",
      "📊 Generando visualizaciones avanzadas de optimización...\n"
     ]
    },
    {
     "data": {
      "image/png": "[encoded data removed]",
      "text/plain": [
       "<Figure size 1800x1200 with 7 Axes>"
      ]
     },
     "metadata": {},
     "output_type": "display_data"
    },
    {
     "name": "stdout",
     "output_type": "stream",
     "text": [
      "\n",
      "📊 ESTADÍSTICAS DE OPTIMIZACIÓN:\n",
      "==================================================\n",
      "Trials completados: 5\n",
      "Score máximo: 0.6958\n",
      "Score promedio: 0.5054 ± 0.2885\n",
      "\n",
      "🔗 CORRELACIONES CON SCORE OBJETIVO:\n",
      "----------------------------------------\n",
      "\n",
      "🔍 Analizando trade-offs (Frente de Pareto)...\n",
      "⚠️ Muy pocos trials para análisis de Pareto\n"
     ]
    },
    {
     "data": {
      "application/vnd.plotly.v1+json": {
       "config": {
        "plotlyServerURL": "https://plot.ly"
       },
       "data": [
        {
         "mode": "markers",
         "name": "Objective Value",
         "type": "scatter",
         "x": [
          0,
          1,
          2,
          3,
          4
         ],
         "y": [
          0.5621146376975338,
          0.6836382620726921,
          0,
          0.6957841021655773,
          0.5852276970123759
         ]
        },
        {
         "mode": "lines",
         "name": "Best Value",
         "type": "scatter",
         "x": [
          0,
          1,
          2,
          3,
          4
         ],
         "y": [
          0.5621146376975338,
          0.6836382620726921,
          0.6836382620726921,
          0.6957841021655773,
          0.6957841021655773
         ]
        },
        {
         "marker": {
          "color": "#cccccc"
         },
         "mode": "markers",
         "name": "Infeasible Trial",
         "showlegend": false,
         "type": "scatter",
         "x": [],
         "y": []
        }
       ],
       "layout": {
        "template": {
         "data": {
          "bar": [
           {
            "error_x": {
             "color": "#2a3f5f"
            },
            "error_y": {
             "color": "#2a3f5f"
            },
            "marker": {
             "line": {
              "color": "#E5ECF6",
              "width": 0.5
             },
             "pattern": {
              "fillmode": "overlay",
              "size": 10,
              "solidity": 0.2
             }
            },
            "type": "bar"
           }
          ],
          "barpolar": [
           {
            "marker": {
             "line": {
              "color": "#E5ECF6",
              "width": 0.5
             },
             "pattern": {
              "fillmode": "overlay",
              "size": 10,
              "solidity": 0.2
             }
            },
            "type": "barpolar"
           }
          ],
          "carpet": [
           {
            "aaxis": {
             "endlinecolor": "#2a3f5f",
             "gridcolor": "white",
             "linecolor": "white",
             "minorgridcolor": "white",
             "startlinecolor": "#2a3f5f"
            },
            "baxis": {
             "endlinecolor": "#2a3f5f",
             "gridcolor": "white",
             "linecolor": "white",
             "minorgridcolor": "white",
             "startlinecolor": "#2a3f5f"
            },
            "type": "carpet"
           }
          ],
          "choropleth": [
           {
            "colorbar": {
             "outlinewidth": 0,
             "ticks": ""
            },
            "type": "choropleth"
           }
          ],
          "contour": [
           {
            "colorbar": {
             "outlinewidth": 0,
             "ticks": ""
            },
            "colorscale": [
             [
              0,
              "#0d0887"
             ],
             [
              0.1111111111111111,
              "#46039f"
             ],
             [
              0.2222222222222222,
              "#7201a8"
             ],
             [
              0.3333333333333333,
              "#9c179e"
             ],
             [
              0.4444444444444444,
              "#bd3786"
             ],
             [
              0.5555555555555556,
              "#d8576b"
             ],
             [
              0.6666666666666666,
              "#ed7953"
             ],
             [
              0.7777777777777778,
              "#fb9f3a"
             ],
             [
              0.8888888888888888,
              "#fdca26"
             ],
             [
              1,
              "#f0f921"
             ]
            ],
            "type": "contour"
           }
          ],
          "contourcarpet": [
           {
            "colorbar": {
             "outlinewidth": 0,
             "ticks": ""
            },
            "type": "contourcarpet"
           }
          ],
          "heatmap": [
           {
            "colorbar": {
             "outlinewidth": 0,
             "ticks": ""
            },
            "colorscale": [
             [
              0,
              "#0d0887"
             ],
             [
              0.1111111111111111,
              "#46039f"
             ],
             [
              0.2222222222222222,
              "#7201a8"
             ],
             [
              0.3333333333333333,
              "#9c179e"
             ],
             [
              0.4444444444444444,
              "#bd3786"
             ],
             [
              0.5555555555555556,
              "#d8576b"
             ],
             [
              0.6666666666666666,
              "#ed7953"
             ],
             [
              0.7777777777777778,
              "#fb9f3a"
             ],
             [
              0.8888888888888888,
              "#fdca26"
             ],
             [
              1,
              "#f0f921"
             ]
            ],
            "type": "heatmap"
           }
          ],
          "histogram": [
           {
            "marker": {
             "pattern": {
              "fillmode": "overlay",
              "size": 10,
              "solidity": 0.2
             }
            },
            "type": "histogram"
           }
          ],
          "histogram2d": [
           {
            "colorbar": {
             "outlinewidth": 0,
             "ticks": ""
            },
            "colorscale": [
             [
              0,
              "#0d0887"
             ],
             [
              0.1111111111111111,
              "#46039f"
             ],
             [
              0.2222222222222222,
              "#7201a8"
             ],
             [
              0.3333333333333333,
              "#9c179e"
             ],
             [
              0.4444444444444444,
              "#bd3786"
             ],
             [
              0.5555555555555556,
              "#d8576b"
             ],
             [
              0.6666666666666666,
              "#ed7953"
             ],
             [
              0.7777777777777778,
              "#fb9f3a"
             ],
             [
              0.8888888888888888,
              "#fdca26"
             ],
             [
              1,
              "#f0f921"
             ]
            ],
            "type": "histogram2d"
           }
          ],
          "histogram2dcontour": [
           {
            "colorbar": {
             "outlinewidth": 0,
             "ticks": ""
            },
            "colorscale": [
             [
              0,
              "#0d0887"
             ],
             [
              0.1111111111111111,
              "#46039f"
             ],
             [
              0.2222222222222222,
              "#7201a8"
             ],
             [
              0.3333333333333333,
              "#9c179e"
             ],
             [
              0.4444444444444444,
              "#bd3786"
             ],
             [
              0.5555555555555556,
              "#d8576b"
             ],
             [
              0.6666666666666666,
              "#ed7953"
             ],
             [
              0.7777777777777778,
              "#fb9f3a"
             ],
             [
              0.8888888888888888,
              "#fdca26"
             ],
             [
              1,
              "#f0f921"
             ]
            ],
            "type": "histogram2dcontour"
           }
          ],
          "mesh3d": [
           {
            "colorbar": {
             "outlinewidth": 0,
             "ticks": ""
            },
            "type": "mesh3d"
           }
          ],
          "parcoords": [
           {
            "line": {
             "colorbar": {
              "outlinewidth": 0,
              "ticks": ""
             }
            },
            "type": "parcoords"
           }
          ],
          "pie": [
           {
            "automargin": true,
            "type": "pie"
           }
          ],
          "scatter": [
           {
            "fillpattern": {
             "fillmode": "overlay",
             "size": 10,
             "solidity": 0.2
            },
            "type": "scatter"
           }
          ],
          "scatter3d": [
           {
            "line": {
             "colorbar": {
              "outlinewidth": 0,
              "ticks": ""
             }
            },
            "marker": {
             "colorbar": {
              "outlinewidth": 0,
              "ticks": ""
             }
            },
            "type": "scatter3d"
           }
          ],
          "scattercarpet": [
           {
            "marker": {
             "colorbar": {
              "outlinewidth": 0,
              "ticks": ""
             }
            },
            "type": "scattercarpet"
           }
          ],
          "scattergeo": [
           {
            "marker": {
             "colorbar": {
              "outlinewidth": 0,
              "ticks": ""
             }
            },
            "type": "scattergeo"
           }
          ],
          "scattergl": [
           {
            "marker": {
             "colorbar": {
              "outlinewidth": 0,
              "ticks": ""
             }
            },
            "type": "scattergl"
           }
          ],
          "scattermap": [
           {
            "marker": {
             "colorbar": {
              "outlinewidth": 0,
              "ticks": ""
             }
            },
            "type": "scattermap"
           }
          ],
          "scattermapbox": [
           {
            "marker": {
             "colorbar": {
              "outlinewidth": 0,
              "ticks": ""
             }
            },
            "type": "scattermapbox"
           }
          ],
          "scatterpolar": [
           {
            "marker": {
             "colorbar": {
              "outlinewidth": 0,
              "ticks": ""
             }
            },
            "type": "scatterpolar"
           }
          ],
          "scatterpolargl": [
           {
            "marker": {
             "colorbar": {
              "outlinewidth": 0,
              "ticks": ""
             }
            },
            "type": "scatterpolargl"
           }
          ],
          "scatterternary": [
           {
            "marker": {
             "colorbar": {
              "outlinewidth": 0,
              "ticks": ""
             }
            },
            "type": "scatterternary"
           }
          ],
          "surface": [
           {
            "colorbar": {
             "outlinewidth": 0,
             "ticks": ""
            },
            "colorscale": [
             [
              0,
              "#0d0887"
             ],
             [
              0.1111111111111111,
              "#46039f"
             ],
             [
              0.2222222222222222,
              "#7201a8"
             ],
             [
              0.3333333333333333,
              "#9c179e"
             ],
             [
              0.4444444444444444,
              "#bd3786"
             ],
             [
              0.5555555555555556,
              "#d8576b"
             ],
             [
              0.6666666666666666,
              "#ed7953"
             ],
             [
              0.7777777777777778,
              "#fb9f3a"
             ],
             [
              0.8888888888888888,
              "#fdca26"
             ],
             [
              1,
              "#f0f921"
             ]
            ],
            "type": "surface"
           }
          ],
          "table": [
           {
            "cells": {
             "fill": {
              "color": "#EBF0F8"
             },
             "line": {
              "color": "white"
             }
            },
            "header": {
             "fill": {
              "color": "#C8D4E3"
             },
             "line": {
              "color": "white"
             }
            },
            "type": "table"
           }
          ]
         },
         "layout": {
          "annotationdefaults": {
           "arrowcolor": "#2a3f5f",
           "arrowhead": 0,
           "arrowwidth": 1
          },
          "autotypenumbers": "strict",
          "coloraxis": {
           "colorbar": {
            "outlinewidth": 0,
            "ticks": ""
           }
          },
          "colorscale": {
           "diverging": [
            [
             0,
             "#8e0152"
            ],
            [
             0.1,
             "#c51b7d"
            ],
            [
             0.2,
             "#de77ae"
            ],
            [
             0.3,
             "#f1b6da"
            ],
            [
             0.4,
             "#fde0ef"
            ],
            [
             0.5,
             "#f7f7f7"
            ],
            [
             0.6,
             "#e6f5d0"
            ],
            [
             0.7,
             "#b8e186"
            ],
            [
             0.8,
             "#7fbc41"
            ],
            [
             0.9,
             "#4d9221"
            ],
            [
             1,
             "#276419"
            ]
           ],
           "sequential": [
            [
             0,
             "#0d0887"
            ],
            [
             0.1111111111111111,
             "#46039f"
            ],
            [
             0.2222222222222222,
             "#7201a8"
            ],
            [
             0.3333333333333333,
             "#9c179e"
            ],
            [
             0.4444444444444444,
             "#bd3786"
            ],
            [
             0.5555555555555556,
             "#d8576b"
            ],
            [
             0.6666666666666666,
             "#ed7953"
            ],
            [
             0.7777777777777778,
             "#fb9f3a"
            ],
            [
             0.8888888888888888,
             "#fdca26"
            ],
            [
             1,
             "#f0f921"
            ]
           ],
           "sequentialminus": [
            [
             0,
             "#0d0887"
            ],
            [
             0.1111111111111111,
             "#46039f"
            ],
            [
             0.2222222222222222,
             "#7201a8"
            ],
            [
             0.3333333333333333,
             "#9c179e"
            ],
            [
             0.4444444444444444,
             "#bd3786"
            ],
            [
             0.5555555555555556,
             "#d8576b"
            ],
            [
             0.6666666666666666,
             "#ed7953"
            ],
            [
             0.7777777777777778,
             "#fb9f3a"
            ],
            [
             0.8888888888888888,
             "#fdca26"
            ],
            [
             1,
             "#f0f921"
            ]
           ]
          },
          "colorway": [
           "#636efa",
           "#EF553B",
           "#00cc96",
           "#ab63fa",
           "#FFA15A",
           "#19d3f3",
           "#FF6692",
           "#B6E880",
           "#FF97FF",
           "#FECB52"
          ],
          "font": {
           "color": "#2a3f5f"
          },
          "geo": {
           "bgcolor": "white",
           "lakecolor": "white",
           "landcolor": "#E5ECF6",
           "showlakes": true,
           "showland": true,
           "subunitcolor": "white"
          },
          "hoverlabel": {
           "align": "left"
          },
          "hovermode": "closest",
          "mapbox": {
           "style": "light"
          },
          "paper_bgcolor": "white",
          "plot_bgcolor": "#E5ECF6",
          "polar": {
           "angularaxis": {
            "gridcolor": "white",
            "linecolor": "white",
            "ticks": ""
           },
           "bgcolor": "#E5ECF6",
           "radialaxis": {
            "gridcolor": "white",
            "linecolor": "white",
            "ticks": ""
           }
          },
          "scene": {
           "xaxis": {
            "backgroundcolor": "#E5ECF6",
            "gridcolor": "white",
            "gridwidth": 2,
            "linecolor": "white",
            "showbackground": true,
            "ticks": "",
            "zerolinecolor": "white"
           },
           "yaxis": {
            "backgroundcolor": "#E5ECF6",
            "gridcolor": "white",
            "gridwidth": 2,
            "linecolor": "white",
            "showbackground": true,
            "ticks": "",
            "zerolinecolor": "white"
           },
           "zaxis": {
            "backgroundcolor": "#E5ECF6",
            "gridcolor": "white",
            "gridwidth": 2,
            "linecolor": "white",
            "showbackground": true,
            "ticks": "",
            "zerolinecolor": "white"
           }
          },
          "shapedefaults": {
           "line": {
            "color": "#2a3f5f"
           }
          },
          "ternary": {
           "aaxis": {
            "gridcolor": "white",
            "linecolor": "white",
            "ticks": ""
           },
           "baxis": {
            "gridcolor": "white",
            "linecolor": "white",
            "ticks": ""
           },
           "bgcolor": "#E5ECF6",
           "caxis": {
            "gridcolor": "white",
            "linecolor": "white",
            "ticks": ""
           }
          },
          "title": {
           "x": 0.05
          },
          "xaxis": {
           "automargin": true,
           "gridcolor": "white",
           "linecolor": "white",
           "ticks": "",
           "title": {
            "standoff": 15
           },
           "zerolinecolor": "white",
           "zerolinewidth": 2
          },
          "yaxis": {
           "automargin": true,
           "gridcolor": "white",
           "linecolor": "white",
           "ticks": "",
           "title": {
            "standoff": 15
           },
           "zerolinecolor": "white",
           "zerolinewidth": 2
          }
         }
        },
        "title": {
         "text": "Historia de Optimización BERTopic (Métricas Avanzadas)"
        },
        "xaxis": {
         "title": {
          "text": "Trial"
         }
        },
        "yaxis": {
         "title": {
          "text": "Objective Value"
         }
        }
       }
      }
     },
     "metadata": {},
     "output_type": "display_data"
    },
    {
     "name": "stdout",
     "output_type": "stream",
     "text": [
      "\n",
      "💡 RECOMENDACIONES BASADAS EN LOS RESULTADOS:\n",
      "--------------------------------------------------\n",
      "   ❌ Coherencia baja, revisar preprocesamiento de texto\n",
      "   ⚠️ Cobertura moderada, considerar reducir min_cluster_size\n",
      "   ✅ Alta diversidad entre tópicos\n",
      "\n",
      "🎯 CONFIGURACIÓN RECOMENDADA PARA PRODUCCIÓN:\n",
      "   • Embedding: distiluse-base-multilingual-cased\n",
      "   • UMAP neighbors: 14\n",
      "   • HDBSCAN min_cluster_size: 23\n",
      "   • Stopwords: Activadas\n",
      "\n",
      "📝 PRÓXIMOS PASOS:\n",
      "   1. Aplicar configuración óptima al dataset completo\n",
      "   2. Validar resultados con métricas de coherencia\n",
      "   3. Analizar tópicos identificados cualitativamente\n",
      "   4. Considerar post-procesamiento si es necesario\n"
     ]
    }
   ],
   "source": [
    "# ===== ANÁLISIS AVANZADO DE RESULTADOS DE LA OPTIMIZACIÓN =====\n",
    "\n",
    "print(f\"📊 RESULTADOS AVANZADOS DE LA OPTIMIZACIÓN\")\n",
    "print(f\"=\" * 60)\n",
    "\n",
    "# Mejor trial\n",
    "best_trial = study.best_trial\n",
    "print(f\"🏆 Mejor puntuación: {best_trial.value:.4f}\")\n",
    "print(f\"🔧 Trial número: {best_trial.number}\")\n",
    "\n",
    "# Determinar tipo de optimización\n",
    "es_multiciudad = 'ciudades_evaluadas' in best_trial.user_attrs\n",
    "print(f\"🌍 Tipo de optimización: {'Multi-ciudad' if es_multiciudad else 'Ciudad individual'}\")\n",
    "\n",
    "if es_multiciudad:\n",
    "    ciudades_evaluadas = best_trial.user_attrs.get('ciudades_evaluadas', [])\n",
    "    print(f\"🏙️ Ciudades evaluadas: {ciudades_evaluadas}\")\n",
    "    print(f\"✅ Ciudades exitosas: {best_trial.user_attrs.get('num_ciudades_exitosas', 0)}\")\n",
    "    print(f\"📊 Score promedio: {best_trial.user_attrs.get('score_promedio', 0):.4f}\")\n",
    "    print(f\"⚖️ Score ponderado: {best_trial.user_attrs.get('score_ponderado', 0):.4f}\")\n",
    "\n",
    "# Hiperparámetros óptimos\n",
    "print(f\"\\n🎯 HIPERPARÁMETROS ÓPTIMOS:\")\n",
    "print(f\"-\" * 40)\n",
    "\n",
    "best_params = best_trial.params\n",
    "for param_name, param_value in best_params.items():\n",
    "    print(f\"{param_name}: {param_value}\")\n",
    "\n",
    "# Métricas detalladas del mejor modelo\n",
    "print(f\"\\n📈 MÉTRICAS DETALLADAS DEL MEJOR MODELO:\")\n",
    "print(f\"-\" * 50)\n",
    "\n",
    "if es_multiciudad:\n",
    "    # Métricas multi-ciudad (promedios)\n",
    "    print(f\"\udf0d MÉTRICAS PROMEDIO ENTRE CIUDADES:\")\n",
    "    print(f\"   • Número de tópicos (promedio): {best_trial.user_attrs.get('avg_num_topics', 'N/A'):.1f}\")\n",
    "    print(f\"   • Silhouette Score (promedio): {best_trial.user_attrs.get('avg_silhouette_score', 'N/A'):.4f}\")\n",
    "    print(f\"   • Cobertura (promedio): {best_trial.user_attrs.get('avg_coverage', 'N/A'):.2%}\")\n",
    "    print(f\"   • Diversidad léxica (promedio): {best_trial.user_attrs.get('avg_topic_diversity', 'N/A'):.4f}\")\n",
    "    print(f\"   • Diversidad semántica (promedio): {best_trial.user_attrs.get('avg_semantic_diversity', 'N/A'):.4f}\")\n",
    "    print(f\"   • Coherencia CV (promedio): {best_trial.user_attrs.get('avg_coherence_cv', 'N/A'):.4f}\")\n",
    "    print(f\"   • Coherencia NPMI (promedio): {best_trial.user_attrs.get('avg_coherence_npmi', 'N/A'):.4f}\")\n",
    "    \n",
    "    # Scores individuales por ciudad\n",
    "    print(f\"\\n🏙️ SCORES INDIVIDUALES POR CIUDAD:\")\n",
    "    for ciudad in ciudades_evaluadas:\n",
    "        score_ciudad = best_trial.user_attrs.get(f'score_{ciudad}', 'N/A')\n",
    "        print(f\"   • {ciudad}: {score_ciudad:.4f}\")\n",
    "        \n",
    "else:\n",
    "    # Métricas tradicionales (ciudad individual)\n",
    "    print(f\"🏙️ MÉTRICAS PARA {CIUDAD_ANALIZAR}:\")\n",
    "    print(f\"   • Número de tópicos: {best_trial.user_attrs.get('num_topics', 'N/A')}\")\n",
    "    print(f\"   • Tamaño promedio de tópico: {best_trial.user_attrs.get('avg_topic_size', 'N/A'):.1f}\")\n",
    "    print(f\"   • Silhouette Score: {best_trial.user_attrs.get('silhouette_score', 'N/A'):.4f}\")\n",
    "    print(f\"   • Cobertura: {best_trial.user_attrs.get('coverage', 'N/A'):.2%}\")\n",
    "    print(f\"   • Diversidad léxica: {best_trial.user_attrs.get('topic_diversity', 'N/A'):.4f}\")\n",
    "    print(f\"   • Diversidad semántica: {best_trial.user_attrs.get('semantic_diversity', 'N/A'):.4f}\")\n",
    "    print(f\"   • Coherencia CV: {best_trial.user_attrs.get('coherence_cv', 'N/A'):.4f}\")\n",
    "    print(f\"   • Coherencia NPMI: {best_trial.user_attrs.get('coherence_npmi', 'N/A'):.4f}\")\n",
    "\n",
    "# Análisis de importancia de parámetros\n",
    "try:\n",
    "    param_importance = optuna.importance.get_param_importances(study)\n",
    "    print(f\"\\n🔍 IMPORTANCIA DE PARÁMETROS:\")\n",
    "    print(f\"-\" * 40)\n",
    "    for param, importance in sorted(param_importance.items(), key=lambda x: x[1], reverse=True)[:12]:\n",
    "        print(f\"{param}: {importance:.3f}\")\n",
    "except:\n",
    "    print(f\"\\n⚠️ No se pudo calcular importancia de parámetros\")\n",
    "\n",
    "# Estadísticas de trials\n",
    "completed_trials = [t for t in study.trials if t.state == optuna.trial.TrialState.COMPLETE]\n",
    "print(f\"\\n📋 ESTADÍSTICAS DE TRIALS:\")\n",
    "print(f\"-\" * 40)\n",
    "print(f\"Trials completados: {len(completed_trials)}\")\n",
    "print(f\"Trials fallidos: {len(study.trials) - len(completed_trials)}\")\n",
    "\n",
    "if completed_trials:\n",
    "    scores = [t.value for t in completed_trials]\n",
    "    print(f\"Puntuación promedio: {np.mean(scores):.4f} ± {np.std(scores):.4f}\")\n",
    "    print(f\"Rango de puntuaciones: {min(scores):.4f} - {max(scores):.4f}\")\n",
    "\n",
    "# ===== 🆕 ANÁLISIS ESPECÍFICO MULTI-CIUDAD =====\n",
    "if es_multiciudad and len(completed_trials) > 3:\n",
    "    print(f\"\\n🌍 ANÁLISIS ESPECÍFICO MULTI-CIUDAD:\")\n",
    "    print(f\"=\" * 60)\n",
    "    \n",
    "    # Consistencia entre ciudades\n",
    "    consistencia_por_trial = []\n",
    "    for trial in completed_trials[:5]:  # Top 5 trials\n",
    "        if 'ciudades_evaluadas' in trial.user_attrs:\n",
    "            ciudades_trial = trial.user_attrs['ciudades_evaluadas']\n",
    "            scores_trial = [trial.user_attrs.get(f'score_{ciudad}', 0) for ciudad in ciudades_trial]\n",
    "            \n",
    "            if len(scores_trial) > 1:\n",
    "                consistencia = 1 - (np.std(scores_trial) / np.mean(scores_trial)) if np.mean(scores_trial) > 0 else 0\n",
    "                consistencia_por_trial.append(consistencia)\n",
    "    \n",
    "    if consistencia_por_trial:\n",
    "        consistencia_promedio = np.mean(consistencia_por_trial)\n",
    "        print(f\"📊 Consistencia entre ciudades (top 5 trials): {consistencia_promedio:.3f}\")\n",
    "        \n",
    "        if consistencia_promedio > 0.8:\n",
    "            print(f\"✅ Excelente: Los hiperparámetros funcionan consistentemente en todas las ciudades\")\n",
    "        elif consistencia_promedio > 0.6:\n",
    "            print(f\"⚠️ Bueno: Los hiperparámetros funcionan bien pero con algunas variaciones\")\n",
    "        else:\n",
    "            print(f\"❌ Regular: Los hiperparámetros tienen rendimiento muy variable entre ciudades\")\n",
    "    \n",
    "    # Análisis por ciudad\n",
    "    print(f\"\\n🏙️ RENDIMIENTO PROMEDIO POR CIUDAD (todos los trials):\")\n",
    "    rendimiento_por_ciudad = {}\n",
    "    \n",
    "    for ciudad in ciudades_optimizacion_validas:\n",
    "        scores_ciudad = []\n",
    "        for trial in completed_trials:\n",
    "            if 'ciudades_evaluadas' in trial.user_attrs:\n",
    "                if ciudad in trial.user_attrs['ciudades_evaluadas']:\n",
    "                    score = trial.user_attrs.get(f'score_{ciudad}', 0)\n",
    "                    if score > 0:\n",
    "                        scores_ciudad.append(score)\n",
    "        \n",
    "        if scores_ciudad:\n",
    "            rendimiento_por_ciudad[ciudad] = {\n",
    "                'promedio': np.mean(scores_ciudad),\n",
    "                'std': np.std(scores_ciudad),\n",
    "                'min': min(scores_ciudad),\n",
    "                'max': max(scores_ciudad),\n",
    "                'trials': len(scores_ciudad)\n",
    "            }\n",
    "    \n",
    "    for ciudad, stats in rendimiento_por_ciudad.items():\n",
    "        print(f\"   🏙️ {ciudad}: {stats['promedio']:.4f} ± {stats['std']:.4f} \"\n",
    "              f\"(rango: {stats['min']:.3f}-{stats['max']:.3f}, {stats['trials']} trials)\")\n",
    "\n",
    "# Top 5 trials con métricas detalladas\n",
    "print(f\"\\n🏅 TOP 5 TRIALS CON MÉTRICAS DETALLADAS:\")\n",
    "print(f\"-\" * 60)\n",
    "sorted_trials = sorted(completed_trials, key=lambda x: x.value, reverse=True)[:5]\n",
    "\n",
    "for i, trial in enumerate(sorted_trials, 1):\n",
    "    print(f\"\\n{i}. 🏆 Trial {trial.number} - Score: {trial.value:.4f}\")\n",
    "    \n",
    "    if 'ciudades_evaluadas' in trial.user_attrs:\n",
    "        # Trial multi-ciudad\n",
    "        ciudades = trial.user_attrs['ciudades_evaluadas']\n",
    "        print(f\"   🌍 Ciudades evaluadas: {len(ciudades)}\")\n",
    "        print(f\"   📊 Score promedio: {trial.user_attrs.get('score_promedio', 0):.4f}\")\n",
    "        print(f\"   ⚖️ Score ponderado: {trial.user_attrs.get('score_ponderado', 0):.4f}\")\n",
    "        \n",
    "        # Mostrar scores por ciudad\n",
    "        scores_individuales = [trial.user_attrs.get(f'score_{ciudad}', 0) for ciudad in ciudades]\n",
    "        if scores_individuales:\n",
    "            print(f\"   🏙️ Variabilidad entre ciudades: ±{np.std(scores_individuales):.3f}\")\n",
    "    else:\n",
    "        # Trial tradicional\n",
    "        print(f\"   🏙️ Ciudad: {CIUDAD_ANALIZAR}\")\n",
    "        print(f\"   📊 Tópicos: {trial.user_attrs.get('num_topics', 'N/A')}\")\n",
    "        print(f\"   \udfaf Silhouette: {trial.user_attrs.get('silhouette_score', -1):.3f}\")\n",
    "    \n",
    "    print(f\"   🔧 Embedding: {trial.user_attrs.get('embedding_model', 'N/A')}\")\n",
    "\n",
    "# Visualización de la optimización con métricas mejoradas\n",
    "try:\n",
    "    print(f\"\\n📊 Generando visualizaciones avanzadas de optimización...\")\n",
    "    \n",
    "    # Usar las funciones de visualización existentes (adaptadas automáticamente)\n",
    "    visualizar_evolucion_metricas(study)\n",
    "    \n",
    "    # Análisis de frente de Pareto\n",
    "    print(f\"\\n🔍 Analizando trade-offs (Frente de Pareto)...\")\n",
    "    analizar_pareto_front(study)\n",
    "    \n",
    "    # Gráfico de optimización estándar\n",
    "    titulo_optimizacion = f\"Historia de Optimización BERTopic ({'Multi-ciudad' if es_multiciudad else 'Individual'})\"\n",
    "    fig_optimization = optuna.visualization.plot_optimization_history(study)\n",
    "    fig_optimization.update_layout(title=titulo_optimizacion)\n",
    "    fig_optimization.show()\n",
    "    \n",
    "    # ===== 🆕 VISUALIZACIÓN ESPECÍFICA MULTI-CIUDAD =====\n",
    "    if es_multiciudad and len(completed_trials) > 5:\n",
    "        print(f\"\\n🌍 Generando visualizaciones específicas multi-ciudad...\")\n",
    "        \n",
    "        # Gráfico de consistencia entre ciudades\n",
    "        fig_consistencia, ax_cons = plt.subplots(1, 1, figsize=(12, 8))\n",
    "        \n",
    "        if rendimiento_por_ciudad:\n",
    "            ciudades_vis = list(rendimiento_por_ciudad.keys())\n",
    "            promedios_vis = [rendimiento_por_ciudad[c]['promedio'] for c in ciudades_vis]\n",
    "            stds_vis = [rendimiento_por_ciudad[c]['std'] for c in ciudades_vis]\n",
    "            \n",
    "            bars = ax_cons.bar(ciudades_vis, promedios_vis, yerr=stds_vis, \n",
    "                              capsize=5, alpha=0.7, color='skyblue')\n",
    "            ax_cons.set_title('Rendimiento Promedio por Ciudad (Multi-ciudad)', fontsize=14, fontweight='bold')\n",
    "            ax_cons.set_ylabel('Score Promedio')\n",
    "            ax_cons.set_xlabel('Ciudad')\n",
    "            ax_cons.tick_params(axis='x', rotation=45)\n",
    "            \n",
    "            # Añadir valores en las barras\n",
    "            for bar, promedio in zip(bars, promedios_vis):\n",
    "                height = bar.get_height()\n",
    "                ax_cons.text(bar.get_x() + bar.get_width()/2., height + 0.01,\n",
    "                           f'{promedio:.3f}', ha='center', va='bottom')\n",
    "            \n",
    "            plt.tight_layout()\n",
    "            plt.show()\n",
    "        \n",
    "        # Heatmap de scores por trial y ciudad\n",
    "        if len(completed_trials) > 3:\n",
    "            print(f\"🔥 Generando heatmap de rendimiento por trial y ciudad...\")\n",
    "            \n",
    "            # Preparar datos para heatmap\n",
    "            trials_multiciudad = [t for t in completed_trials if 'ciudades_evaluadas' in t.user_attrs][:10]\n",
    "            \n",
    "            if len(trials_multiciudad) > 2:\n",
    "                ciudades_heatmap = ciudades_optimizacion_validas\n",
    "                scores_matrix = []\n",
    "                trial_labels = []\n",
    "                \n",
    "                for trial in trials_multiciudad:\n",
    "                    scores_fila = []\n",
    "                    for ciudad in ciudades_heatmap:\n",
    "                        score = trial.user_attrs.get(f'score_{ciudad}', 0)\n",
    "                        scores_fila.append(score if score > 0 else np.nan)\n",
    "                    scores_matrix.append(scores_fila)\n",
    "                    trial_labels.append(f\"Trial {trial.number}\")\n",
    "                \n",
    "                scores_df = pd.DataFrame(scores_matrix, columns=ciudades_heatmap, index=trial_labels)\n",
    "                \n",
    "                plt.figure(figsize=(10, 8))\n",
    "                sns.heatmap(scores_df, annot=True, fmt='.3f', cmap='viridis', \n",
    "                          cbar_kws={'label': 'Score'})\n",
    "                plt.title('Heatmap de Scores: Trials vs Ciudades')\n",
    "                plt.xlabel('Ciudad')\n",
    "                plt.ylabel('Trial')\n",
    "                plt.tight_layout()\n",
    "                plt.show()\n",
    "    \n",
    "    # Gráfico de importancia de parámetros\n",
    "    if len(completed_trials) > 10:\n",
    "        fig_importance = optuna.visualization.plot_param_importances(study)\n",
    "        fig_importance.update_layout(title=\"Importancia de Hiperparámetros (Top 10)\")\n",
    "        fig_importance.show()\n",
    "        \n",
    "except Exception as e:\n",
    "    print(f\"⚠️ Error generando visualizaciones: {e}\")\n",
    "\n",
    "# Recomendaciones basadas en los resultados\n",
    "print(f\"\\n💡 RECOMENDACIONES BASADAS EN LOS RESULTADOS:\")\n",
    "print(f\"-\" * 50)\n",
    "\n",
    "if es_multiciudad:\n",
    "    print(f\"🌍 OPTIMIZACIÓN MULTI-CIUDAD:\")\n",
    "    print(f\"✅ Los hiperparámetros encontrados son robustos y generalizables\")\n",
    "    print(f\"✅ Funcionan bien en múltiples ciudades simultáneamente\")\n",
    "    print(f\"✅ Menor riesgo de sobreajuste a un dataset específico\")\n",
    "    \n",
    "    if best_trial.user_attrs.get('num_ciudades_exitosas', 0) == len(ciudades_optimizacion_validas):\n",
    "        print(f\"✅ Evaluación exitosa en TODAS las ciudades configuradas\")\n",
    "    else:\n",
    "        print(f\"⚠️ Algunas ciudades tuvieron problemas durante la evaluación\")\n",
    "else:\n",
    "    print(f\"🏙️ OPTIMIZACIÓN INDIVIDUAL ({CIUDAD_ANALIZAR}):\")\n",
    "    print(f\"✅ Hiperparámetros optimizados específicamente para {CIUDAD_ANALIZAR}\")\n",
    "    print(f\"⚠️ Considera usar optimización multi-ciudad para mejor generalización\")\n",
    "    print(f\"⚠️ Valida resultados en otras ciudades antes de aplicar en producción\")\n",
    "\n",
    "print(f\"\\n🎯 CONFIGURACIÓN RECOMENDADA PARA PRODUCCIÓN:\")\n",
    "print(f\"   • Embedding: {best_trial.user_attrs.get('embedding_model', 'N/A')}\")\n",
    "print(f\"   • UMAP neighbors: {best_params.get('umap_n_neighbors', 'N/A')}\")\n",
    "print(f\"   • HDBSCAN min_cluster_size: {best_params.get('hdbscan_min_cluster_size', 'N/A')}\")\n",
    "print(f\"   • Stopwords: {'Activadas' if best_params.get('use_stopwords', False) else 'Desactivadas'}\")\n",
    "\n",
    "print(f\"\\n📝 PRÓXIMOS PASOS:\")\n",
    "if es_multiciudad:\n",
    "    print(f\"   1. ✅ Aplicar configuración óptima a cualquier ciudad\")\n",
    "    print(f\"   2. ✅ Los hiperparámetros son válidos para producción general\")\n",
    "    print(f\"   3. 🔄 Analizar tópicos identificados cualitativamente\")\n",
    "    print(f\"   4. 📊 Validar coherencia en datos de prueba\")\n",
    "else:\n",
    "    print(f\"   1. ⚠️ Validar configuración en otras ciudades\")\n",
    "    print(f\"   2. 🔄 Considerar re-ejecutar con optimización multi-ciudad\")\n",
    "    print(f\"   3. 📊 Aplicar al dataset completo de {CIUDAD_ANALIZAR}\")\n",
    "    print(f\"   4. 🧪 Probar en datos de prueba\")"
   ]
  },
  {
   "cell_type": "code",
   "execution_count": null,
   "id": "601d0709",
   "metadata": {},
   "outputs": [],
   "source": [
    "# ===== APLICAR MEJORES HIPERPARÁMETROS AL DATASET COMPLETO =====\n",
    "\n",
    "print(f\"🚀 Aplicando mejores hiperparámetros al dataset completo...\")\n",
    "print(f\"📊 Entrenando en {len(texts)} textos...\")\n",
    "\n",
    "# Extraer mejores hiperparámetros\n",
    "best_params = best_trial.params\n",
    "\n",
    "# Crear modelos con mejores hiperparámetros\n",
    "print(f\"\\n🔧 Configurando modelos optimizados...\")\n",
    "\n",
    "# Embedding model\n",
    "embedding_model_optimized = SentenceTransformer(best_params['embedding_model'])\n",
    "print(f\"✅ Embedding model: {best_params['embedding_model']}\")\n",
    "\n",
    "# UMAP optimizado\n",
    "umap_model_optimized = UMAP(\n",
    "    n_neighbors=best_params['umap_n_neighbors'],\n",
    "    n_components=best_params['umap_n_components'], \n",
    "    min_dist=best_params['umap_min_dist'],\n",
    "    metric=best_params['umap_metric'],\n",
    "    random_state=42\n",
    ")\n",
    "print(f\"✅ UMAP configurado: neighbors={best_params['umap_n_neighbors']}, \"\n",
    "      f\"components={best_params['umap_n_components']}\")\n",
    "\n",
    "# HDBSCAN optimizado\n",
    "hdbscan_model_optimized = HDBSCAN(\n",
    "    min_cluster_size=best_params['hdbscan_min_cluster_size'],\n",
    "    min_samples=best_params['hdbscan_min_samples'],\n",
    "    metric=best_params['hdbscan_metric'],\n",
    "    cluster_selection_method=best_params['hdbscan_cluster_selection'],\n",
    "    cluster_selection_epsilon=best_params['hdbscan_epsilon'],\n",
    "    prediction_data=True\n",
    ")\n",
    "print(f\"✅ HDBSCAN configurado: min_cluster_size={best_params['hdbscan_min_cluster_size']}, \"\n",
    "      f\"method={best_params['hdbscan_cluster_selection']}\")\n",
    "\n",
    "# Vectorizer optimizado\n",
    "from nltk.corpus import stopwords\n",
    "if best_params['use_stopwords']:\n",
    "    stop_words_es = set(stopwords.words('spanish'))\n",
    "    stop_words_en = set(stopwords.words('english'))\n",
    "    stopwords_optimized = list(stop_words_es.union(stop_words_en))\n",
    "else:\n",
    "    stopwords_optimized = None\n",
    "\n",
    "vectorizer_model_optimized = CountVectorizer(\n",
    "    ngram_range=(1, best_params['vectorizer_ngram_max']),\n",
    "    stop_words=stopwords_optimized,\n",
    "    min_df=best_params['vectorizer_min_df'],\n",
    "    max_df=best_params['vectorizer_max_df'],\n",
    "    max_features=best_params['vectorizer_max_features']\n",
    ")\n",
    "print(f\"✅ Vectorizer configurado: ngram_max={best_params['vectorizer_ngram_max']}, \"\n",
    "      f\"stopwords={'Sí' if best_params['use_stopwords'] else 'No'}\")\n",
    "\n",
    "# Crear BERTopic optimizado\n",
    "topic_model_optimized = BERTopic(\n",
    "    embedding_model=embedding_model_optimized,\n",
    "    umap_model=umap_model_optimized,\n",
    "    hdbscan_model=hdbscan_model_optimized,\n",
    "    vectorizer_model=vectorizer_model_optimized,\n",
    "    language=\"multilingual\",\n",
    "    calculate_probabilities=True,\n",
    "    verbose=True\n",
    ")\n",
    "\n",
    "print(f\"\\n🎯 Entrenando modelo optimizado...\")\n",
    "start_training = pd.Timestamp.now()\n",
    "\n",
    "# Entrenar modelo optimizado\n",
    "topics_optimized, probs_optimized = topic_model_optimized.fit_transform(texts)\n",
    "\n",
    "training_time = pd.Timestamp.now() - start_training\n",
    "print(f\"⏱️ Entrenamiento completado en {training_time}\")\n",
    "\n",
    "# Evaluar modelo optimizado con métricas avanzadas\n",
    "print(f\"\\n📈 Evaluando modelo optimizado con métricas avanzadas...\")\n",
    "metrics_optimized = calcular_coherencia_topicos(topic_model_optimized, texts, topics_optimized)\n",
    "\n",
    "print(f\"\\n🎯 RESULTADOS DEL MODELO OPTIMIZADO (Dataset Completo):\")\n",
    "print(f\"=\" * 60)\n",
    "\n",
    "# Usar la función de visualización detallada\n",
    "mostrar_metricas_detalladas(metrics_optimized, dataset_chars)\n",
    "\n",
    "# Comparar con configuración anterior si existe\n",
    "if 'topics' in locals() and 'topic_model' in locals():\n",
    "    print(f\"\\n📊 COMPARACIÓN CON CONFIGURACIÓN ANTERIOR:\")\n",
    "    print(f\"=\" * 60)\n",
    "    metrics_anterior = calcular_coherencia_topicos(topic_model, texts, topics)\n",
    "    \n",
    "    # Comparación detallada\n",
    "    comparisons = {\n",
    "        'Número de tópicos': (metrics_anterior['num_topics'], metrics_optimized['num_topics']),\n",
    "        'Silhouette Score': (metrics_anterior['silhouette_score'], metrics_optimized['silhouette_score']),\n",
    "        'Diversidad léxica': (metrics_anterior['topic_diversity'], metrics_optimized['topic_diversity']),\n",
    "        'Diversidad semántica': (metrics_anterior['semantic_diversity'], metrics_optimized['semantic_diversity']),\n",
    "        'Cobertura': (metrics_anterior['coverage'], metrics_optimized['coverage']),\n",
    "        'Coherencia CV': (metrics_anterior['coherence_cv'], metrics_optimized['coherence_cv']),\n",
    "        'Coherencia NPMI': (metrics_anterior['coherence_npmi'], metrics_optimized['coherence_npmi'])\n",
    "    }\n",
    "    \n",
    "    for metrica, (anterior, optimizado) in comparisons.items():\n",
    "        if anterior != -1 and optimizado != -1:\n",
    "            if optimizado > anterior:\n",
    "                mejora = \"⬆️ Mejora\"\n",
    "                cambio = f\"(+{optimizado - anterior:.3f})\"\n",
    "            elif optimizado < anterior:\n",
    "                mejora = \"⬇️ Empeora\"\n",
    "                cambio = f\"({optimizado - anterior:.3f})\"\n",
    "            else:\n",
    "                mejora = \"➡️ Igual\"\n",
    "                cambio = \"\"\n",
    "            \n",
    "            print(f\"   • {metrica}: {anterior:.3f} → {optimizado:.3f} {mejora} {cambio}\")\n",
    "        elif optimizado != -1:\n",
    "            print(f\"   • {metrica}: No disponible → {optimizado:.3f} ✅ Nueva métrica\")\n",
    "\n",
    "# Análisis de calidad de los tópicos identificados\n",
    "print(f\"\\n\udd0d ANÁLISIS DE CALIDAD DE TÓPICOS:\")\n",
    "print(f\"-\" * 50)\n",
    "\n",
    "topic_info_optimized = topic_model_optimized.get_topic_info()\n",
    "num_topics_optimized = len([t for t in topic_info_optimized['Topic'] if t != -1])\n",
    "\n",
    "if num_topics_optimized > 0:\n",
    "    # Estadísticas de tamaños de tópicos\n",
    "    topic_sizes = []\n",
    "    for topic_id in topic_info_optimized['Topic']:\n",
    "        if topic_id != -1:\n",
    "            size = sum(1 for t in topics_optimized if t == topic_id)\n",
    "            topic_sizes.append(size)\n",
    "    \n",
    "    print(f\"📊 Estadísticas de tamaños de tópicos:\")\n",
    "    print(f\"   • Promedio: {np.mean(topic_sizes):.1f} documentos\")\n",
    "    print(f\"   • Mediana: {np.median(topic_sizes):.1f} documentos\")\n",
    "    print(f\"   • Desviación estándar: {np.std(topic_sizes):.1f}\")\n",
    "    print(f\"   • Rango: {min(topic_sizes)} - {max(topic_sizes)} documentos\")\n",
    "    \n",
    "    # Balance de tópicos\n",
    "    balance_score = 1 - (np.std(topic_sizes) / np.mean(topic_sizes)) if np.mean(topic_sizes) > 0 else 0\n",
    "    balance_interpretation = \"Excelente\" if balance_score > 0.8 else \"Bueno\" if balance_score > 0.6 else \"Regular\" if balance_score > 0.4 else \"Desbalanceado\"\n",
    "    print(f\"   • Balance de tópicos: {balance_score:.3f} ({balance_interpretation})\")\n",
    "\n",
    "    # Top palabras de cada tópico\n",
    "    print(f\"\\n🏷️ PALABRAS CLAVE POR TÓPICO:\")\n",
    "    print(f\"-\" * 40)\n",
    "    for topic_id in topic_info_optimized['Topic'][:5]:  # Mostrar top 5\n",
    "        if topic_id != -1:\n",
    "            topic_words = topic_model_optimized.get_topic(topic_id)[:5]\n",
    "            words_str = \", \".join([f\"{word}({score:.2f})\" for word, score in topic_words])\n",
    "            size = sum(1 for t in topics_optimized if t == topic_id)\n",
    "            print(f\"   Tópico {topic_id} ({size} docs): {words_str}\")\n",
    "\n",
    "# Guardar métricas para análisis posterior\n",
    "optimization_results = {\n",
    "    'best_trial_number': best_trial.number,\n",
    "    'best_score': best_trial.value,\n",
    "    'best_params': best_params,\n",
    "    'final_metrics': metrics_optimized,\n",
    "    'dataset_characteristics': dataset_chars,\n",
    "    'training_time': training_time.total_seconds(),\n",
    "    'num_trials_completed': len(completed_trials),\n",
    "    'optimization_timestamp': pd.Timestamp.now().isoformat()\n",
    "}\n",
    "\n",
    "print(f\"\\n💾 GUARDANDO RESULTADOS DE OPTIMIZACIÓN:\")\n",
    "print(f\"   • Métricas finales calculadas y guardadas\")\n",
    "print(f\"   • Tiempo de entrenamiento: {training_time}\")\n",
    "print(f\"   • Trials completados: {len(completed_trials)}\")\n",
    "\n",
    "# Reemplazar variables para usar el modelo optimizado en el resto del notebook\n",
    "topic_model = topic_model_optimized\n",
    "topics = topics_optimized  \n",
    "probs = probs_optimized\n",
    "\n",
    "print(f\"\\n✅ MODELO OPTIMIZADO CONFIGURADO COMO MODELO PRINCIPAL\")\n",
    "print(f\"🔄 Puedes continuar con el resto del análisis usando:\")\n",
    "print(f\"   • Hiperparámetros optimizados encontrados por Optuna\")\n",
    "print(f\"   • Métricas estándar de coherencia de la literatura\")\n",
    "print(f\"   • Normalización y pesos dinámicos\")\n",
    "print(f\"   • Diversidad semántica basada en embeddings\")\n",
    "\n",
    "print(f\"\\n🎯 SIGUIENTE PASO: Ejecutar las celdas de análisis cualitativo de tópicos\")\n",
    "print(f\"📝 Los tópicos identificados ahora tienen mayor coherencia y diversidad\")"
   ]
  },
  {
   "cell_type": "markdown",
   "id": "a255f2ec",
   "metadata": {},
   "source": [
    "# Continuación del Análisis con Modelo Optimizado\n",
    "\n",
    "A partir de este punto, el análisis continúa usando los hiperparámetros optimizados encontrados por Optuna. El modelo `topic_model` ahora contiene la configuración óptima para tu dataset específico."
   ]
  },
  {
   "cell_type": "code",
   "execution_count": null,
   "id": "8561f262",
   "metadata": {},
   "outputs": [],
   "source": [
    "# ===== RESUMEN DE MEJORAS IMPLEMENTADAS =====\n",
    "\n",
    "print(\"🎉 MEJORAS IMPLEMENTADAS EN EL SISTEMA DE OPTIMIZACIÓN DE BERTOPIC\")\n",
    "print(\"=\" * 80)\n",
    "\n",
    "print(\"\\n📊 1. MÉTRICAS ESTÁNDAR DE COHERENCIA DE TÓPICOS:\")\n",
    "print(\"   ✅ Coherencia CV (Ventana deslizante) - Métrica más interpretable\")\n",
    "print(\"   ✅ Coherencia UMass (Co-ocurrencia) - Basada en corpus\")\n",
    "print(\"   ✅ Coherencia NPMI (Mutual Information) - Normalizada y robusta\")\n",
    "print(\"   ✅ Coherencia UCI (Log conditional) - Probabilística\")\n",
    "print(\"   📚 Implementadas con Gensim CoherenceModel\")\n",
    "\n",
    "print(\"\\n🔧 2. NORMALIZACIÓN AVANZADA DE MÉTRICAS:\")\n",
    "print(\"   ✅ Todas las métricas normalizadas al rango [0,1]\")\n",
    "print(\"   ✅ Silhouette Score: [-1,1] → [0,1]\")\n",
    "print(\"   ✅ UMass/UCI: (-∞,0] → [0,1] con función sigmoid\")\n",
    "print(\"   ✅ Tamaño de tópicos normalizado por tamaño esperado\")\n",
    "print(\"   ✅ Eliminación de escalas arbitrarias (como /10)\")\n",
    "\n",
    "print(\"\\n⚖️ 3. PESOS DINÁMICOS EN FUNCIÓN OBJETIVO:\")\n",
    "print(\"   ✅ Categorización en 3 grupos: Separación, Diversidad, Coherencia\")\n",
    "print(\"   ✅ Pesos adaptativos según características del dataset:\")\n",
    "print(\"       • Dataset pequeño (<100 docs): +Coherencia +Diversidad\")\n",
    "print(\"       • Dataset grande (>1000 docs): +Separación\") \n",
    "print(\"       • Alta diversidad léxica: +Coherencia\")\n",
    "print(\"       • Muchos duplicados: +Diversidad\")\n",
    "\n",
    "print(\"\\n🌈 4. DIVERSIDAD SEMÁNTICA CON EMBEDDINGS:\")\n",
    "print(\"   ✅ Cálculo de similitud coseno entre embeddings de tópicos\")\n",
    "print(\"   ✅ Detección de redundancia semántica (no solo léxica)\")\n",
    "print(\"   ✅ Identificación de sinónimos y conceptos similares\")\n",
    "print(\"   ✅ Complementa la diversidad léxica tradicional\")\n",
    "\n",
    "print(\"\\n📈 5. VISUALIZACIÓN Y ANÁLISIS AVANZADO:\")\n",
    "print(\"   ✅ visualizar_evolucion_metricas(): Evolución temporal de métricas\")\n",
    "print(\"   ✅ analizar_pareto_front(): Trade-offs entre objetivos\")\n",
    "print(\"   ✅ mostrar_metricas_detalladas(): Interpretación completa\")\n",
    "print(\"   ✅ Gráficos de correlación y distribuciones\")\n",
    "print(\"   ✅ Análisis de frente de Pareto para multi-objetivo\")\n",
    "\n",
    "print(\"\\n🔬 6. GUARDADO COMPLETO DE MÉTRICAS:\")\n",
    "print(\"   ✅ Todas las métricas guardadas en trials de Optuna\")\n",
    "print(\"   ✅ Información de embeddings utilizados\")\n",
    "print(\"   ✅ Pesos dinámicos aplicados\")\n",
    "print(\"   ✅ Parámetros de vectorización detallados\")\n",
    "print(\"   ✅ Trazabilidad completa de experimentos\")\n",
    "\n",
    "print(\"\\n🎯 7. FUNCIÓN OBJETIVO MEJORADA:\")\n",
    "print(\"   ✅ Estructura modular: Separación + Diversidad + Coherencia\")\n",
    "print(\"   ✅ Combinación ponderada de múltiples coherencias\")\n",
    "print(\"   ✅ Priorización de CV y NPMI (más interpretables)\")\n",
    "print(\"   ✅ Fallback robusto cuando fallan las coherencias Gensim\")\n",
    "\n",
    "print(\"\\n📚 8. COMPATIBILIDAD CON LITERATURA:\")\n",
    "print(\"   ✅ Métricas estándar usadas en papers de topic modeling\")\n",
    "print(\"   ✅ Rangos de interpretación según benchmarks\")\n",
    "print(\"   ✅ Coherencia CV > 0.4: Excelente\")\n",
    "print(\"   ✅ Coherencia CV > 0.25: Buena\")\n",
    "print(\"   ✅ Coherencia NPMI > 0.1: Aceptable\")\n",
    "\n",
    "print(\"\\n🛠️ 9. ROBUSTEZ Y MANEJO DE ERRORES:\")\n",
    "print(\"   ✅ Manejo graceful de fallas en cálculo de coherencias\")\n",
    "print(\"   ✅ Validación de parámetros min_df/max_df\")\n",
    "print(\"   ✅ Fallbacks para datasets pequeños\")\n",
    "print(\"   ✅ Verificación de disponibilidad de NLTK\")\n",
    "\n",
    "print(\"\\n🔄 10. RETROCOMPATIBILIDAD:\")\n",
    "print(\"   ✅ Funciones anteriores siguen funcionando\")\n",
    "print(\"   ✅ Variables del notebook mantienen compatibilidad\")\n",
    "print(\"   ✅ Estructura de datos existente preservada\")\n",
    "print(\"   ✅ Fácil migración de código anterior\")\n",
    "\n",
    "print(\"\\n\" + \"=\" * 80)\n",
    "print(\"🎉 RESULTADO: Sistema de optimización de BERTopic de nivel académico\")\n",
    "print(\"📊 ANTES: Evaluador 'hecho en casa' con métricas básicas\")\n",
    "print(\"🚀 AHORA: Framework completo con métricas estándar de la literatura\")\n",
    "print(\"=\" * 80)\n",
    "\n",
    "print(\"\\n📝 PRÓXIMOS PASOS RECOMENDADOS:\")\n",
    "print(\"1. 📦 Instalar las librerías adicionales especificadas\")\n",
    "print(\"2. 🔧 Ejecutar la optimización con las nuevas métricas\")\n",
    "print(\"3. 📊 Analizar los resultados con las visualizaciones avanzadas\")\n",
    "print(\"4. 📈 Comparar con resultados de papers similares\")\n",
    "print(\"5. 🎯 Ajustar pesos si es necesario según tu dominio específico\")\n",
    "\n",
    "print(\"\\n💡 CONSIDERACIONES ADICIONALES:\")\n",
    "print(\"• Las métricas de coherencia pueden tomar más tiempo de cálculo\")\n",
    "print(\"• NLTK puede requerir descargas adicionales la primera vez\")\n",
    "print(\"• Los pesos dinámicos se adaptan automáticamente a tus datos\")\n",
    "print(\"• Las visualizaciones requieren trials > 10 para ser informativas\")\n",
    "print(\"• Los resultados ahora son comparables con literatura académica\")"
   ]
  },
  {
   "cell_type": "code",
   "execution_count": null,
   "id": "e491ee6a",
   "metadata": {},
   "outputs": [
    {
     "name": "stdout",
     "output_type": "stream",
     "text": [
      "Tópicos identificados: 6 (incluyendo outliers)\n",
      "Tópico 0: Historia y Arte Cultural\n",
      "  Palabras clave: museum, museo, ciudad mexico, city, mexico city, history, arte, see\n",
      "\n",
      "Tópico 1: Experiencias en Museos\n",
      "  Palabras clave: museo, museum, arte, castillo, coleccion, obra, guia, exposicion\n",
      "\n",
      "Tópico 2: Calidad del servicio turístico\n",
      "  Palabras clave: personal, servicio, limpio, grupo, parecer, actividad, costo, demasiado\n",
      "\n",
      "Tópico 3: Experiencia religiosa y cultural\n",
      "  Palabras clave: basilica, guadalupe, virgen, time, religioso, see, iglesia, beautiful\n",
      "\n",
      "Tópico 4: Experiencia Cultural Local\n",
      "  Palabras clave: barrio, restaurante, calle, local, cdmx, parque, turista, artesania\n",
      "\n"
     ]
    }
   ],
   "source": [
    "topic_info = topic_model.get_topic_info()\n",
    "print(f\"Tópicos identificados: {len(topic_info)} (incluyendo outliers)\")\n",
    "\n",
    "topic_names = {}\n",
    "for topic_id in topic_info['Topic']:\n",
    "    if topic_id == -1:\n",
    "        topic_names[topic_id] = \"Opiniones Diversas\"\n",
    "        continue\n",
    "    \n",
    "    topic_words = topic_model.get_topic(topic_id)\n",
    "    keywords = \", \".join([word for word, _ in topic_words[:8]])\n",
    "    \n",
    "    resultado = clasificador_topicos.invoke({\"keywords\": keywords})\n",
    "    topic_names[topic_id] = resultado.nombre_topico\n",
    "    \n",
    "    print(f\"Tópico {topic_id}: {topic_names[topic_id]}\")\n",
    "    print(f\"  Palabras clave: {keywords}\")\n",
    "    print()\n",
    "\n",
    "topic_model.set_topic_labels(topic_names)"
   ]
  },
  {
   "cell_type": "code",
   "execution_count": null,
   "id": "b7a533b4",
   "metadata": {},
   "outputs": [
    {
     "name": "stdout",
     "output_type": "stream",
     "text": [
      "🔄 SOBRESCRIBIENDO resultados previos para Cdmx:\n",
      "   📝 Opiniones con tópicos previos: 490\n",
      "   🆕 Nuevas asignaciones de tópicos: 490\n",
      "\n",
      "✅ Actualización completada para Cdmx\n",
      "Distribución de tópicos en Cdmx:\n",
      "Topico_Nombre\n",
      "Opiniones Diversas                  163\n",
      "Historia y Arte Cultural            121\n",
      "Experiencias en Museos               93\n",
      "Calidad del servicio turístico       45\n",
      "Experiencia religiosa y cultural     41\n",
      "Experiencia Cultural Local           27\n",
      "Name: count, dtype: int64\n",
      "\n",
      "Porcentaje de opiniones por tópico en Cdmx:\n",
      "Opiniones Diversas: 33.27%\n",
      "Historia y Arte Cultural: 24.69%\n",
      "Experiencias en Museos: 18.98%\n",
      "Calidad del servicio turístico: 9.18%\n",
      "Experiencia religiosa y cultural: 8.37%\n",
      "Experiencia Cultural Local: 5.51%\n",
      "\n",
      "Estado actualización dataset completo:\n",
      "Total opiniones: 2464\n",
      "Opiniones con tópico asignado: 973\n",
      "Opiniones pendientes: 1491\n",
      "\n",
      "🧹 Calidad de limpieza en Cdmx:\n",
      "Textos vacíos tras limpieza: 0\n",
      "Textos válidos para análisis: 490\n",
      "Reducción promedio de texto: 35.3%\n"
     ]
    }
   ],
   "source": [
    "# Procesar solo datos de la ciudad seleccionada\n",
    "df_con_topicos = df_ciudad.dropna(subset=[columna_texto]).copy()\n",
    "df_con_topicos['Topico'] = topics\n",
    "df_con_topicos['Topico_Nombre'] = df_con_topicos['Topico'].map(topic_names)\n",
    "df_con_topicos['Probabilidad_Topico'] = probs.max(axis=1)\n",
    "\n",
    "# Verificar si la ciudad ya tenía resultados previos\n",
    "indices_ciudad = df_con_topicos.index\n",
    "opiniones_previas = df.loc[indices_ciudad, 'TopicoConBERTopic'].notna().sum()\n",
    "\n",
    "if opiniones_previas > 0:\n",
    "    print(f\"🔄 SOBRESCRIBIENDO resultados previos para {CIUDAD_ANALIZAR}:\")\n",
    "    print(f\"   📝 Opiniones con tópicos previos: {opiniones_previas}\")\n",
    "    print(f\"   🆕 Nuevas asignaciones de tópicos: {len(df_con_topicos)}\")\n",
    "else:\n",
    "    print(f\"🆕 PRIMERA VEZ procesando {CIUDAD_ANALIZAR}:\")\n",
    "    print(f\"   📝 Nuevas asignaciones de tópicos: {len(df_con_topicos)}\")\n",
    "\n",
    "# Actualizar el dataset original con los tópicos de la ciudad analizada\n",
    "df.loc[indices_ciudad, 'TopicoConBERTopic'] = df_con_topicos['Topico_Nombre']\n",
    "\n",
    "print(f\"\\n✅ Actualización completada para {CIUDAD_ANALIZAR}\")\n",
    "print(f\"Distribución de tópicos en {CIUDAD_ANALIZAR}:\")\n",
    "topico_counts = df_con_topicos['Topico_Nombre'].value_counts()\n",
    "print(topico_counts)\n",
    "\n",
    "print(f\"\\nPorcentaje de opiniones por tópico en {CIUDAD_ANALIZAR}:\")\n",
    "topico_pct = (topico_counts / len(df_con_topicos) * 100).round(2)\n",
    "for topico, pct in topico_pct.items():\n",
    "    print(f\"{topico}: {pct}%\")\n",
    "\n",
    "print(f\"\\nEstado actualización dataset completo:\")\n",
    "print(f\"Total opiniones: {len(df)}\")\n",
    "print(f\"Opiniones con tópico asignado: {df['TopicoConBERTopic'].notna().sum()}\")\n",
    "print(f\"Opiniones pendientes: {df['TopicoConBERTopic'].isna().sum()}\")\n",
    "\n",
    "# Mostrar calidad de la limpieza aplicada\n",
    "if columna_texto == 'TituloReviewLimpio':\n",
    "    textos_vacios = df_con_topicos[columna_texto].str.strip().eq('').sum()\n",
    "    print(f\"\\n🧹 Calidad de limpieza en {CIUDAD_ANALIZAR}:\")\n",
    "    print(f\"Textos vacíos tras limpieza: {textos_vacios}\")\n",
    "    print(f\"Textos válidos para análisis: {len(df_con_topicos) - textos_vacios}\")\n",
    "    \n",
    "    # Comparar longitud promedio original vs limpia\n",
    "    if 'TituloReview' in df_con_topicos.columns:\n",
    "        len_original = df_con_topicos['TituloReview'].str.len().mean()\n",
    "        len_limpia = df_con_topicos['TituloReviewLimpio'].str.len().mean()\n",
    "        reduccion = ((len_original - len_limpia) / len_original * 100)\n",
    "        print(f\"Reducción promedio de texto: {reduccion:.1f}%\")"
   ]
  },
  {
   "cell_type": "code",
   "execution_count": null,
   "id": "60168a36",
   "metadata": {},
   "outputs": [
    {
     "data": {
      "image/png": "[encoded data removed]",
      "text/plain": [
       "<Figure size 1600x1200 with 7 Axes>"
      ]
     },
     "metadata": {},
     "output_type": "display_data"
    }
   ],
   "source": [
    "fig, axes = plt.subplots(2, 2, figsize=(16, 12))\n",
    "\n",
    "# Gráfico 1: Distribución de tópicos en la ciudad\n",
    "topico_counts.plot(kind='bar', ax=axes[0,0], color='skyblue')\n",
    "axes[0,0].set_title(f'Distribución de Tópicos - {CIUDAD_ANALIZAR}', fontsize=14, fontweight='bold')\n",
    "axes[0,0].set_xlabel('Tópicos')\n",
    "axes[0,0].set_ylabel('Número de Opiniones')\n",
    "axes[0,0].tick_params(axis='x', rotation=45)\n",
    "\n",
    "# Gráfico 2: Distribución por atracción en la ciudad\n",
    "if len(df_con_topicos['Atraccion'].unique()) > 1:\n",
    "    atraccion_topico = pd.crosstab(df_con_topicos['Atraccion'], df_con_topicos['Topico_Nombre'])\n",
    "    atraccion_topico_norm = atraccion_topico.div(atraccion_topico.sum(axis=1), axis=0)\n",
    "    sns.heatmap(atraccion_topico_norm, annot=True, fmt='.2f', ax=axes[0,1], cmap='YlOrRd')\n",
    "    axes[0,1].set_title(f'Proporción de Tópicos por Atracción - {CIUDAD_ANALIZAR}', fontsize=14, fontweight='bold')\n",
    "else:\n",
    "    axes[0,1].text(0.5, 0.5, f'Solo una atracción en {CIUDAD_ANALIZAR}', ha='center', va='center', transform=axes[0,1].transAxes)\n",
    "    axes[0,1].set_title(f'Distribución por Atracción - {CIUDAD_ANALIZAR}', fontsize=14, fontweight='bold')\n",
    "\n",
    "# Gráfico 3: Tópicos por sentimiento\n",
    "sentimiento_topico = pd.crosstab(df_con_topicos['SentimientoPorHF'], df_con_topicos['Topico_Nombre'])\n",
    "sentimiento_topico_norm = sentimiento_topico.div(sentimiento_topico.sum(axis=1), axis=0)\n",
    "sns.heatmap(sentimiento_topico_norm, annot=True, fmt='.2f', ax=axes[1,0], cmap='RdYlBu')\n",
    "axes[1,0].set_title(f'Proporción de Tópicos por Sentimiento - {CIUDAD_ANALIZAR}', fontsize=14, fontweight='bold')\n",
    "\n",
    "# Gráfico 4: Tópicos por subjetividad\n",
    "subjetividad_topico = pd.crosstab(df_con_topicos['SubjetividadConLLM'], df_con_topicos['Topico_Nombre'])\n",
    "subjetividad_topico_norm = subjetividad_topico.div(subjetividad_topico.sum(axis=1), axis=0)\n",
    "sns.heatmap(subjetividad_topico_norm, annot=True, fmt='.2f', ax=axes[1,1], cmap='viridis')\n",
    "axes[1,1].set_title(f'Proporción de Tópicos por Subjetividad - {CIUDAD_ANALIZAR}', fontsize=14, fontweight='bold')\n",
    "\n",
    "plt.tight_layout()\n",
    "plt.show()"
   ]
  },
  {
   "cell_type": "code",
   "execution_count": null,
   "id": "16574827",
   "metadata": {},
   "outputs": [
    {
     "name": "stdout",
     "output_type": "stream",
     "text": [
      "Ejemplos de opiniones por tópico en Cdmx:\n",
      "============================================================\n",
      "\n",
      "🏷️ Tópico: Opiniones Diversas\n",
      "📊 Total de opiniones: 163\n",
      "📝 Ejemplos:\n",
      "  1. Imperdible. El acceso al parque está bien señalizado, en buen estado y es fácil incluso para persona...\n",
      "  2. MAGIA EN CHAPULTEPEC. Al llegar al Castillo su imagen es imponente, su arquitectura, su disposición....\n",
      "  3. Comodidad. El mejor lugar sin duda. Es bueno saber que hay castillos de verdad en nuestro continente...\n",
      "--------------------------------------------------\n",
      "\n",
      "🏷️ Tópico: Historia y Arte Cultural\n",
      "📊 Total de opiniones: 121\n",
      "📝 Ejemplos:\n",
      "  1. Lugar emblemático. Un lugar emblemático de la Ciudad de México. Es el único castillo en América, y u...\n",
      "  2. Algo para todos. Algunas personas lo llaman un castillo, otros lo llaman la antigua residencia presi...\n",
      "  3. Historia mexicana. Historia de Mexico, interesante . Instslaciones bien cuidadas. No esta   señaliza...\n",
      "--------------------------------------------------\n",
      "\n",
      "🏷️ Tópico: Experiencias en Museos\n",
      "📊 Total de opiniones: 93\n",
      "📝 Ejemplos:\n",
      "  1. ruta. Uno de mis lugares favoritos para ir corriendo, creo que si eres runner te va bien salir a tro...\n",
      "  2. Genial. Me encanta visitar el Castillo de Chapultepec, porque para mí es como un viaje a otra época,...\n",
      "  3. es uno de mis lugares favoritos y hay muchas formas de llegar ahi. excelente lugar  con mucha histor...\n",
      "--------------------------------------------------\n",
      "\n",
      "🏷️ Tópico: Calidad del servicio turístico\n",
      "📊 Total de opiniones: 45\n",
      "📝 Ejemplos:\n",
      "  1. No fue el mejor. La verdad es que esperaba mas de este lugar, creo que falta una persona que vaya ex...\n",
      "  2. Una gran experiencia con familia. Es muy buena la experiencia, el acuario es limpio, nos tocó un día...\n",
      "  3. Un día diferente!. Todo muy bien Un poco caro las actividades con costo extraEn Arcade deben dar tic...\n",
      "--------------------------------------------------\n",
      "\n",
      "🏷️ Tópico: Experiencia religiosa y cultural\n",
      "📊 Total de opiniones: 41\n",
      "📝 Ejemplos:\n",
      "  1. Hito cultural. Es un lugar religioso muy apreciado. Consta tanto de la basílica antigua histórica co...\n",
      "  2. Misas cada 1 hora !!. Si eres católico, es un imperdible.Si no lo eres y tienes curiosidad por el ma...\n",
      "  3. ¡Unos de los lugares más sagrados del mundo!. Sin duda alguna este es uno de los lugares más sagrado...\n",
      "--------------------------------------------------\n"
     ]
    }
   ],
   "source": [
    "print(f\"Ejemplos de opiniones por tópico en {CIUDAD_ANALIZAR}:\")\n",
    "print(\"=\" * 60)\n",
    "\n",
    "for topico_nombre in topico_counts.index[:5]:\n",
    "    ejemplos = df_con_topicos[df_con_topicos['Topico_Nombre'] == topico_nombre]['TituloReview'].head(3)\n",
    "    print(f\"\\n🏷️ Tópico: {topico_nombre}\")\n",
    "    print(f\"📊 Total de opiniones: {topico_counts[topico_nombre]}\")\n",
    "    print(\"📝 Ejemplos:\")\n",
    "    for i, ejemplo in enumerate(ejemplos, 1):\n",
    "        print(f\"  {i}. {ejemplo[:100]}{'...' if len(ejemplo) > 100 else ''}\")\n",
    "    print(\"-\" * 50)"
   ]
  },
  {
   "cell_type": "code",
   "execution_count": null,
   "id": "33c88fe3",
   "metadata": {},
   "outputs": [
    {
     "name": "stdout",
     "output_type": "stream",
     "text": [
      "🔍 Comparación de ejemplos - Original vs Limpio (Cdmx):\n",
      "================================================================================\n",
      "\n",
      "📄 EJEMPLO 1 - Tópico: Experiencia Cultural Local\n",
      "🔸 Original: CDMX. Esta plaza me ha impresionado, por lo grande que es, está muy bonita, se encuentra todo tipo de cosas bares restaurantes y hasta comida callejera, es muy segura hay muchos turistas y todo el mundo está turistendo, a mi me encantó!!.\n",
      "🔹 Limpio:   cdmx plaza impresionado grande bonito encontrar tipo cosa bar restaurante comida callejero seguro turista mundo turistendo encanto\n",
      "📊 Caracteres: 238 → 130 (45.4% reducción)\n",
      "📝 Palabras: 42 → 17 (59.5% reducción)\n",
      "--------------------------------------------------------------------------------\n",
      "\n",
      "📄 EJEMPLO 2 - Tópico: Opiniones Diversas\n",
      "🔸 Original: Muy bueno. En esta zona encuentras lugares con las tres b: buenos, bonitos y baratos. Recomendado para venir un fin de semana, con tus amigos, familia o pareja.\n",
      "🔹 Limpio:   bueno zona encuentra lugar tres buen bonito barato recomendado venir fin semana amigo familiar parejo\n",
      "📊 Caracteres: 160 → 101 (36.9% reducción)\n",
      "📝 Palabras: 28 → 15 (46.4% reducción)\n",
      "--------------------------------------------------------------------------------\n",
      "\n",
      "📄 EJEMPLO 3 - Tópico: Experiencia Cultural Local\n",
      "🔸 Original: viaje MDL. Sitios de diversión para turistas y buena comida. Comimos muy buen chocolate y compramos recuerdos en las tiendas locales. Muchos restaurantes cercanos.\n",
      "🔹 Limpio:   viaje mdl sitios diversion turista buen comida comimos buen chocolate comprar recuerdo tienda local restaurante cercano\n",
      "📊 Caracteres: 163 → 119 (27.0% reducción)\n",
      "📝 Palabras: 24 → 16 (33.3% reducción)\n",
      "--------------------------------------------------------------------------------\n",
      "\n",
      "📄 EJEMPLO 4 - Tópico: Experiencia Cultural Local\n",
      "🔸 Original: un paseo. Coyoacán es uno de los Barrios Mágicos de la CDMX, y quizá, uno de los más agradables y hay mucho que ver y comprar en los alrededores.\n",
      "🔹 Limpio:   paseo coyoacar barrio magico cdmx quizar agradable ver comprar alrededor\n",
      "📊 Caracteres: 145 → 72 (50.3% reducción)\n",
      "📝 Palabras: 29 → 10 (65.5% reducción)\n",
      "--------------------------------------------------------------------------------\n",
      "\n",
      "📄 EJEMPLO 5 - Tópico: Experiencia religiosa y cultural\n",
      "🔸 Original: Inolvidable visita en el corazón de la fe de Méjico. Independientemente de la inclinación religiosa que se tenga, la visita en este sitio será una de las experiencias más agradables que se pueda tener en Méjico. Este es un país muy religioso, por tanto visitar el lugar más importante para ellos es un momento importante. Si además se es creyente, este lugar te transportará a una dimensión de superación y fe. Es decir, independiente de la condición que cada uno tenga, es obligatoria est visita.\n",
      "🔹 Limpio:   inolvidable visita corazon fe mejico independientemente inclinacion religioso visitar sitio experiencia agradable poder tener mejico pais religioso visitar lugar importante momento importante adema creyente lugar transportar dimension superacion fe decir independiente condicion cada obligatorio visita\n",
      "📊 Caracteres: 497 → 302 (39.2% reducción)\n",
      "📝 Palabras: 85 → 35 (58.8% reducción)\n",
      "--------------------------------------------------------------------------------\n",
      "\n",
      "📄 EJEMPLO 6 - Tópico: Experiencia religiosa y cultural\n",
      "🔸 Original: Beautiful. One of the most beautiful churches to visit.very impresive,beautiful to see.when you are in mexico city this is a must.\n",
      "🔹 Limpio:   beautiful one beautiful church visit impresive beautiful see mexico city must\n",
      "📊 Caracteres: 130 → 77 (40.8% reducción)\n",
      "📝 Palabras: 21 → 11 (47.6% reducción)\n",
      "--------------------------------------------------------------------------------\n",
      "\n",
      "📄 EJEMPLO 7 - Tópico: Experiencia religiosa y cultural\n",
      "🔸 Original: ¡Unos de los lugares más sagrados del mundo!. Sin duda alguna este es uno de los lugares más sagrados del mundo, dónde nuestra Virgen de Guadalupe apareció a San Juan Diego. Poder ver la imagen original de nuestra amada madre es una experiencia inolvidable, única y que nos hace sentir paz, amor y recargar nuestras vidas de cosas buenas y del amor divino de nuestro Padre y nuestra Madre celestial! Que hermoso es estar aquí y sentir todo este amor! Lugar increíble, sagrado y lleno de amor! Que Dios y nuestra Madre nos bendiga siempre!.\n",
      "🔹 Limpio:   lugar sagrado mundo dudar alguno lugar sagrado mundo virgen guadalupe aparecio san juan diego poder ver imagen original amado madre experiencia inolvidable unico hacer sentir paz amor recargar vida cosa buena amor divino padre madre celestial hermoso aqui sentir amor lugar increible sagrado lleno amor dios madre bendigar siempre\n",
      "📊 Caracteres: 539 → 330 (38.8% reducción)\n",
      "📝 Palabras: 95 → 49 (48.4% reducción)\n",
      "--------------------------------------------------------------------------------\n",
      "\n",
      "📄 EJEMPLO 8 - Tópico: Experiencias en Museos\n",
      "🔸 Original: An eccentric Icon. The museum demands pre.online ticket booking. On the spot tickets are impossible to get. Even with prior appointment, 15-30 minutes of wait is possible. It has lots of items: family photos, school progress reports, newspaper articles, beds, clothes and dresses, crutches and vessels. Amidst all these are just a few surreal paintings of real beauty. They speak for the talent of the artist, condone the stories of hysterics, malingerings and peculiarities.\n",
      "🔹 Limpio:   eccentric icon museum demand pre online ticket book spot ticket impossible get even prior appointment minute wait possible lot item family photo school progress report newspaper article bed clothe dress crutche vessel amidst surreal painting real beauty speak talent artist condone story hysteric malingering peculiarity\n",
      "📊 Caracteres: 475 → 320 (32.6% reducción)\n",
      "📝 Palabras: 74 → 45 (39.2% reducción)\n",
      "--------------------------------------------------------------------------------\n",
      "\n",
      "📄 EJEMPLO 9 - Tópico: Experiencias en Museos\n",
      "🔸 Original: What a Treasure. What a jewel this museum is. I was limited on time so was only able to spend 2 1/2 hours here when I could’ve spent five. This museum is kind of hidden in the middle ofChapultepec.\n",
      "🔹 Limpio:   treasure jewel museum limited time able spend hour could spend five museum kind hide middle ofchapultepec\n",
      "📊 Caracteres: 197 → 105 (46.7% reducción)\n",
      "📝 Palabras: 39 → 16 (59.0% reducción)\n",
      "--------------------------------------------------------------------------------\n",
      "\n",
      "📄 EJEMPLO 10 - Tópico: Historia y Arte Cultural\n",
      "🔸 Original: Visita interesante. Una visita interesante para diversificar tu viaje a México. La iglesia de San Juan Bautista se ubica en el centro de Coyoacán, es muy bella y está finamente decorada. Este pueblo es parte de los principales tour que parten de la ciudad de México. Se recomienda.\n",
      "🔹 Limpio:   visita interesante visita interesante diversificar viaje mexico iglesia san juan bautista ubica centro coyoacar bella finamente decorado pueblo parte principal tour partir ciudad mexico recomendar\n",
      "📊 Caracteres: 281 → 196 (30.2% reducción)\n",
      "📝 Palabras: 48 → 25 (47.9% reducción)\n",
      "--------------------------------------------------------------------------------\n",
      "\n",
      "📄 EJEMPLO 11 - Tópico: Opiniones Diversas\n",
      "🔸 Original: CASTILLO MONÁRQUICO. Es el único castillo monárquico en América es decir que ahí vivieron reyes que lo utilizaban como palacio veraniego queda en el bosque de Chapultepec y su construcción comenzó a finales de los 1700 también le decían el alcázar de Chapultepec.Ya en los 1800 fue utilizado como colegio militar y luego residencia presidencial. La entrada cuesta como $5 y vale muchísimo la pena ir dentro hay varias salas tipo museo y definitivamente es como todos los castillos que hemos visitado en Europa con colecciones museo gráficas súper extensas este tiene más de 100,000 piezas desde que entras es bellísimo y logras ver la ciudad es un paseo de toda una mañana al menos.\n",
      "🔹 Limpio:   castillo monarquico unico castillo monarquico americo decir ahi vivir reyes utilizar palacio veraniego quedar bosque chapultepec construccion comenzo final tambien deciar alcazar chapultepec utilizado colegio militar luego residencia presidencial entrada costar valer muchisimo pena ir dentro varios sala tipo museo definitivamente castillo visitado europa colección museo grafica super extenso pieza entra bellisimo logra ver ciudad pasear todo manán menos\n",
      "📊 Caracteres: 682 → 457 (33.0% reducción)\n",
      "📝 Palabras: 115 → 59 (48.7% reducción)\n",
      "--------------------------------------------------------------------------------\n",
      "\n",
      "📄 EJEMPLO 12 - Tópico: Historia y Arte Cultural\n",
      "🔸 Original: Hermoso art déco. Claramente uno de los hitos de la Ciudad de México, destacada arquitectura del Art Déco con clara influencia del arte indígena.\n",
      "🔹 Limpio:   hermoso art deco claramente hito ciudad mexico destacado arquitectura art deco claro influencia arte indigenar\n",
      "📊 Caracteres: 145 → 110 (24.1% reducción)\n",
      "📝 Palabras: 24 → 15 (37.5% reducción)\n",
      "--------------------------------------------------------------------------------\n",
      "\n",
      "📄 EJEMPLO 13 - Tópico: Opiniones Diversas\n",
      "🔸 Original: It was unquestionably one of the greatest districts we visited during our few visits to Mexico City. It seems comfortable, welcoming, and has a terrific feeling. Vendors are often courteous. With all the wonderful food options, flowers, fruits, veggies, and other items, the long-standing permanent market is fantastic and truly made me wish I lived nearby.\n",
      "🔹 Limpio:   unquestionably one great district visit visit mexico city seem comfortable welcome terrific feeling vendor often courteous wonderful food option flower fruit veggie item long stand permanent market fantastic truly make wish live nearby\n",
      "📊 Caracteres: 357 → 235 (34.2% reducción)\n",
      "📝 Palabras: 56 → 33 (41.1% reducción)\n",
      "--------------------------------------------------------------------------------\n",
      "\n",
      "📄 EJEMPLO 14 - Tópico: Experiencia religiosa y cultural\n",
      "🔸 Original: es todo un complejo religioso... un balsamo espiritual. no es solo una Basilica, debes hacer el recorrido por todas las iglesias y capillas del complejo, primero eso si, admirar la imagen de Nuestra Señora, visita la tienda de la basilica, hay mucho arte religioso.\n",
      "🔹 Limpio:   complejo religioso balsamo espiritual solo basilica deber hacer recorrer todo iglesia capilla complejo primero admirar imagen senoro visita tiendo basilico arte religioso\n",
      "📊 Caracteres: 265 → 170 (35.8% reducción)\n",
      "📝 Palabras: 44 → 22 (50.0% reducción)\n",
      "--------------------------------------------------------------------------------\n",
      "\n",
      "📄 EJEMPLO 15 - Tópico: Opiniones Diversas\n",
      "🔸 Original: Don't miss it. The museum is awesome! So many things to see in it, it took us a few hours.A lot of people don't visit Templo Mayor because they think they saw everything just by walking around it, but they are so wrong.Don't miss the museum!.\n",
      "🔹 Limpio:   miss museum awesome many thing see take we hour lot people visit templo mayor think see everything walk around wrong miss museum\n",
      "📊 Caracteres: 242 → 128 (47.1% reducción)\n",
      "📝 Palabras: 46 → 22 (52.2% reducción)\n",
      "--------------------------------------------------------------------------------\n",
      "\n",
      "📈 ESTADÍSTICAS GENERALES DE LIMPIEZA - Cdmx\n",
      "📊 ESTADÍSTICAS DE LIMPIEZA DE TEXTO\n",
      "==================================================\n",
      "📈 Total de textos analizados: 490\n",
      "\n",
      "📝 TEXTO ORIGINAL:\n",
      "   Longitud promedio: 348.8 caracteres\n",
      "   Palabras promedio: 59.9\n",
      "   Textos vacíos: 0\n",
      "\n",
      "🧹 TEXTO LIMPIO:\n",
      "   Longitud promedio: 225.7 caracteres\n",
      "   Palabras promedio: 31.0\n",
      "   Textos vacíos: 0\n",
      "\n",
      "📉 REDUCCIÓN TRAS LIMPIEZA:\n",
      "   Reducción en longitud: 35.3%\n",
      "   Reducción en palabras: 48.2%\n",
      "   Textos perdidos: 0\n"
     ]
    },
    {
     "data": {
      "image/png": "[encoded data removed]",
      "text/plain": [
       "<Figure size 1500x600 with 2 Axes>"
      ]
     },
     "metadata": {},
     "output_type": "display_data"
    },
    {
     "name": "stdout",
     "output_type": "stream",
     "text": [
      "📊 ESTADÍSTICAS DE DISTRIBUCIÓN DE PALABRAS:\n",
      "Original - Media: 59.9, Mediana: 43.0\n",
      "Limpio   - Media: 31.0, Mediana: 23.0\n"
     ]
    }
   ],
   "source": [
    "# ===== COMPARACIÓN TEXTO ORIGINAL VS TEXTO LIMPIO =====\n",
    "\n",
    "if 'TituloReviewLimpio' in df_con_topicos.columns:\n",
    "    print(f\"🔍 Comparación de ejemplos - Original vs Limpio ({CIUDAD_ANALIZAR}):\")\n",
    "    print(\"=\" * 80)\n",
    "    \n",
    "    # Seleccionar algunos ejemplos para mostrar la diferencia\n",
    "    ejemplos_muestra = df_con_topicos.sample(n=min(15, len(df_con_topicos)))\n",
    "    \n",
    "    for i, (_, row) in enumerate(ejemplos_muestra.iterrows(), 1):\n",
    "        print(f\"\\n📄 EJEMPLO {i} - Tópico: {row['Topico_Nombre']}\")\n",
    "        print(f\"🔸 Original: {row['TituloReview']}\")\n",
    "        print(f\"🔹 Limpio:   {row['TituloReviewLimpio']}\")\n",
    "        \n",
    "        # Calcular estadísticas del ejemplo\n",
    "        len_orig = len(str(row['TituloReview']))\n",
    "        len_limpio = len(str(row['TituloReviewLimpio']))\n",
    "        palabras_orig = len(str(row['TituloReview']).split())\n",
    "        palabras_limpio = len(str(row['TituloReviewLimpio']).split())\n",
    "        \n",
    "        print(f\"📊 Caracteres: {len_orig} → {len_limpio} ({((len_orig-len_limpio)/len_orig*100):.1f}% reducción)\")\n",
    "        print(f\"📝 Palabras: {palabras_orig} → {palabras_limpio} ({((palabras_orig-palabras_limpio)/palabras_orig*100):.1f}% reducción)\")\n",
    "        print(\"-\" * 80)\n",
    "    \n",
    "    # Estadísticas generales de limpieza\n",
    "    from topicos.utils_topicos import visualizar_distribucion_palabras, mostrar_estadisticas_limpieza\n",
    "    \n",
    "    print(f\"\\n📈 ESTADÍSTICAS GENERALES DE LIMPIEZA - {CIUDAD_ANALIZAR}\")\n",
    "    mostrar_estadisticas_limpieza(df_con_topicos, 'TituloReview', 'TituloReviewLimpio')\n",
    "    \n",
    "    # Visualización de distribución de palabras\n",
    "    visualizar_distribucion_palabras(df_con_topicos, 'TituloReview', 'TituloReviewLimpio')"
   ]
  },
  {
   "cell_type": "code",
   "execution_count": null,
   "id": "28861b62",
   "metadata": {},
   "outputs": [
    {
     "name": "stdout",
     "output_type": "stream",
     "text": [
      "Visualizaciones interactivas de BERTopic para Cdmx:\n",
      "Tópicos identificados: 6 (incluyendo outliers si los hay)\n",
      "Tópicos válidos (sin outliers): 5\n",
      "\n",
      "🗺️ Generando mapa de tópicos...\n"
     ]
    },
    {
     "data": {
      "application/vnd.plotly.v1+json": {
       "config": {
        "plotlyServerURL": "https://plot.ly"
       },
       "data": [
        {
         "customdata": [
          [
           0,
           "museum | museo | ciudad mexico | city | mexico city",
           121
          ],
          [
           1,
           "museo | museum | arte | castillo | coleccion",
           93
          ],
          [
           2,
           "personal | servicio | limpio | grupo | parecer",
           45
          ],
          [
           3,
           "basilica | guadalupe | virgen | time | religioso",
           41
          ],
          [
           4,
           "barrio | restaurante | calle | local | cdmx",
           27
          ]
         ],
         "hovertemplate": "<b>Topic %{customdata[0]}</b><br>%{customdata[1]}<br>Size: %{customdata[2]}",
         "legendgroup": "",
         "marker": {
          "color": "#B0BEC5",
          "line": {
           "color": "DarkSlateGrey",
           "width": 2
          },
          "size": {
           "bdata": "eV0tKRs=",
           "dtype": "i1"
          },
          "sizemode": "area",
          "sizeref": 0.075625,
          "symbol": "circle"
         },
         "mode": "markers",
         "name": "",
         "orientation": "v",
         "showlegend": false,
         "type": "scatter",
         "x": {
          "bdata": "JFLxwD3IA8Gvt8PAJ24Ewcy8xcA=",
          "dtype": "f4"
         },
         "xaxis": "x",
         "y": {
          "bdata": "yVmOQYxskEHd75FBMv+IQfEFjUE=",
          "dtype": "f4"
         },
         "yaxis": "y"
        }
       ],
       "layout": {
        "annotations": [
         {
          "showarrow": false,
          "text": "D1",
          "x": -9.518426895141602,
          "y": 17.76717758178711,
          "yshift": 10
         },
         {
          "showarrow": false,
          "text": "D2",
          "x": -7.35858678817749,
          "xshift": 10,
          "y": 20.978439331054688
         }
        ],
        "height": 650,
        "hoverlabel": {
         "bgcolor": "white",
         "font": {
          "family": "Rockwell",
          "size": 16
         }
        },
        "legend": {
         "itemsizing": "constant",
         "tracegroupgap": 0
        },
        "margin": {
         "t": 60
        },
        "shapes": [
         {
          "line": {
           "color": "#CFD8DC",
           "width": 2
          },
          "type": "line",
          "x0": -7.35858678817749,
          "x1": -7.35858678817749,
          "y0": 14.555915832519531,
          "y1": 20.978439331054688
         },
         {
          "line": {
           "color": "#9E9E9E",
           "width": 2
          },
          "type": "line",
          "x0": -9.518426895141602,
          "x1": -5.198746681213379,
          "y0": 17.76717758178711,
          "y1": 17.76717758178711
         }
        ],
        "sliders": [
         {
          "active": 0,
          "pad": {
           "t": 50
          },
          "steps": [
           {
            "args": [
             {
              "marker.color": [
               [
                "red",
                "#B0BEC5",
                "#B0BEC5",
                "#B0BEC5",
                "#B0BEC5"
               ]
              ]
             }
            ],
            "label": "Topic 0",
            "method": "update"
           },
           {
            "args": [
             {
              "marker.color": [
               [
                "#B0BEC5",
                "red",
                "#B0BEC5",
                "#B0BEC5",
                "#B0BEC5"
               ]
              ]
             }
            ],
            "label": "Topic 1",
            "method": "update"
           },
           {
            "args": [
             {
              "marker.color": [
               [
                "#B0BEC5",
                "#B0BEC5",
                "red",
                "#B0BEC5",
                "#B0BEC5"
               ]
              ]
             }
            ],
            "label": "Topic 2",
            "method": "update"
           },
           {
            "args": [
             {
              "marker.color": [
               [
                "#B0BEC5",
                "#B0BEC5",
                "#B0BEC5",
                "red",
                "#B0BEC5"
               ]
              ]
             }
            ],
            "label": "Topic 3",
            "method": "update"
           },
           {
            "args": [
             {
              "marker.color": [
               [
                "#B0BEC5",
                "#B0BEC5",
                "#B0BEC5",
                "#B0BEC5",
                "red"
               ]
              ]
             }
            ],
            "label": "Topic 4",
            "method": "update"
           }
          ]
         }
        ],
        "template": {
         "data": {
          "bar": [
           {
            "error_x": {
             "color": "rgb(36,36,36)"
            },
            "error_y": {
             "color": "rgb(36,36,36)"
            },
            "marker": {
             "line": {
              "color": "white",
              "width": 0.5
             },
             "pattern": {
              "fillmode": "overlay",
              "size": 10,
              "solidity": 0.2
             }
            },
            "type": "bar"
           }
          ],
          "barpolar": [
           {
            "marker": {
             "line": {
              "color": "white",
              "width": 0.5
             },
             "pattern": {
              "fillmode": "overlay",
              "size": 10,
              "solidity": 0.2
             }
            },
            "type": "barpolar"
           }
          ],
          "carpet": [
           {
            "aaxis": {
             "endlinecolor": "rgb(36,36,36)",
             "gridcolor": "white",
             "linecolor": "white",
             "minorgridcolor": "white",
             "startlinecolor": "rgb(36,36,36)"
            },
            "baxis": {
             "endlinecolor": "rgb(36,36,36)",
             "gridcolor": "white",
             "linecolor": "white",
             "minorgridcolor": "white",
             "startlinecolor": "rgb(36,36,36)"
            },
            "type": "carpet"
           }
          ],
          "choropleth": [
           {
            "colorbar": {
             "outlinewidth": 1,
             "tickcolor": "rgb(36,36,36)",
             "ticks": "outside"
            },
            "type": "choropleth"
           }
          ],
          "contour": [
           {
            "colorbar": {
             "outlinewidth": 1,
             "tickcolor": "rgb(36,36,36)",
             "ticks": "outside"
            },
            "colorscale": [
             [
              0,
              "#440154"
             ],
             [
              0.1111111111111111,
              "#482878"
             ],
             [
              0.2222222222222222,
              "#3e4989"
             ],
             [
              0.3333333333333333,
              "#31688e"
             ],
             [
              0.4444444444444444,
              "#26828e"
             ],
             [
              0.5555555555555556,
              "#1f9e89"
             ],
             [
              0.6666666666666666,
              "#35b779"
             ],
             [
              0.7777777777777778,
              "#6ece58"
             ],
             [
              0.8888888888888888,
              "#b5de2b"
             ],
             [
              1,
              "#fde725"
             ]
            ],
            "type": "contour"
           }
          ],
          "contourcarpet": [
           {
            "colorbar": {
             "outlinewidth": 1,
             "tickcolor": "rgb(36,36,36)",
             "ticks": "outside"
            },
            "type": "contourcarpet"
           }
          ],
          "heatmap": [
           {
            "colorbar": {
             "outlinewidth": 1,
             "tickcolor": "rgb(36,36,36)",
             "ticks": "outside"
            },
            "colorscale": [
             [
              0,
              "#440154"
             ],
             [
              0.1111111111111111,
              "#482878"
             ],
             [
              0.2222222222222222,
              "#3e4989"
             ],
             [
              0.3333333333333333,
              "#31688e"
             ],
             [
              0.4444444444444444,
              "#26828e"
             ],
             [
              0.5555555555555556,
              "#1f9e89"
             ],
             [
              0.6666666666666666,
              "#35b779"
             ],
             [
              0.7777777777777778,
              "#6ece58"
             ],
             [
              0.8888888888888888,
              "#b5de2b"
             ],
             [
              1,
              "#fde725"
             ]
            ],
            "type": "heatmap"
           }
          ],
          "histogram": [
           {
            "marker": {
             "line": {
              "color": "white",
              "width": 0.6
             }
            },
            "type": "histogram"
           }
          ],
          "histogram2d": [
           {
            "colorbar": {
             "outlinewidth": 1,
             "tickcolor": "rgb(36,36,36)",
             "ticks": "outside"
            },
            "colorscale": [
             [
              0,
              "#440154"
             ],
             [
              0.1111111111111111,
              "#482878"
             ],
             [
              0.2222222222222222,
              "#3e4989"
             ],
             [
              0.3333333333333333,
              "#31688e"
             ],
             [
              0.4444444444444444,
              "#26828e"
             ],
             [
              0.5555555555555556,
              "#1f9e89"
             ],
             [
              0.6666666666666666,
              "#35b779"
             ],
             [
              0.7777777777777778,
              "#6ece58"
             ],
             [
              0.8888888888888888,
              "#b5de2b"
             ],
             [
              1,
              "#fde725"
             ]
            ],
            "type": "histogram2d"
           }
          ],
          "histogram2dcontour": [
           {
            "colorbar": {
             "outlinewidth": 1,
             "tickcolor": "rgb(36,36,36)",
             "ticks": "outside"
            },
            "colorscale": [
             [
              0,
              "#440154"
             ],
             [
              0.1111111111111111,
              "#482878"
             ],
             [
              0.2222222222222222,
              "#3e4989"
             ],
             [
              0.3333333333333333,
              "#31688e"
             ],
             [
              0.4444444444444444,
              "#26828e"
             ],
             [
              0.5555555555555556,
              "#1f9e89"
             ],
             [
              0.6666666666666666,
              "#35b779"
             ],
             [
              0.7777777777777778,
              "#6ece58"
             ],
             [
              0.8888888888888888,
              "#b5de2b"
             ],
             [
              1,
              "#fde725"
             ]
            ],
            "type": "histogram2dcontour"
           }
          ],
          "mesh3d": [
           {
            "colorbar": {
             "outlinewidth": 1,
             "tickcolor": "rgb(36,36,36)",
             "ticks": "outside"
            },
            "type": "mesh3d"
           }
          ],
          "parcoords": [
           {
            "line": {
             "colorbar": {
              "outlinewidth": 1,
              "tickcolor": "rgb(36,36,36)",
              "ticks": "outside"
             }
            },
            "type": "parcoords"
           }
          ],
          "pie": [
           {
            "automargin": true,
            "type": "pie"
           }
          ],
          "scatter": [
           {
            "fillpattern": {
             "fillmode": "overlay",
             "size": 10,
             "solidity": 0.2
            },
            "type": "scatter"
           }
          ],
          "scatter3d": [
           {
            "line": {
             "colorbar": {
              "outlinewidth": 1,
              "tickcolor": "rgb(36,36,36)",
              "ticks": "outside"
             }
            },
            "marker": {
             "colorbar": {
              "outlinewidth": 1,
              "tickcolor": "rgb(36,36,36)",
              "ticks": "outside"
             }
            },
            "type": "scatter3d"
           }
          ],
          "scattercarpet": [
           {
            "marker": {
             "colorbar": {
              "outlinewidth": 1,
              "tickcolor": "rgb(36,36,36)",
              "ticks": "outside"
             }
            },
            "type": "scattercarpet"
           }
          ],
          "scattergeo": [
           {
            "marker": {
             "colorbar": {
              "outlinewidth": 1,
              "tickcolor": "rgb(36,36,36)",
              "ticks": "outside"
             }
            },
            "type": "scattergeo"
           }
          ],
          "scattergl": [
           {
            "marker": {
             "colorbar": {
              "outlinewidth": 1,
              "tickcolor": "rgb(36,36,36)",
              "ticks": "outside"
             }
            },
            "type": "scattergl"
           }
          ],
          "scattermap": [
           {
            "marker": {
             "colorbar": {
              "outlinewidth": 1,
              "tickcolor": "rgb(36,36,36)",
              "ticks": "outside"
             }
            },
            "type": "scattermap"
           }
          ],
          "scattermapbox": [
           {
            "marker": {
             "colorbar": {
              "outlinewidth": 1,
              "tickcolor": "rgb(36,36,36)",
              "ticks": "outside"
             }
            },
            "type": "scattermapbox"
           }
          ],
          "scatterpolar": [
           {
            "marker": {
             "colorbar": {
              "outlinewidth": 1,
              "tickcolor": "rgb(36,36,36)",
              "ticks": "outside"
             }
            },
            "type": "scatterpolar"
           }
          ],
          "scatterpolargl": [
           {
            "marker": {
             "colorbar": {
              "outlinewidth": 1,
              "tickcolor": "rgb(36,36,36)",
              "ticks": "outside"
             }
            },
            "type": "scatterpolargl"
           }
          ],
          "scatterternary": [
           {
            "marker": {
             "colorbar": {
              "outlinewidth": 1,
              "tickcolor": "rgb(36,36,36)",
              "ticks": "outside"
             }
            },
            "type": "scatterternary"
           }
          ],
          "surface": [
           {
            "colorbar": {
             "outlinewidth": 1,
             "tickcolor": "rgb(36,36,36)",
             "ticks": "outside"
            },
            "colorscale": [
             [
              0,
              "#440154"
             ],
             [
              0.1111111111111111,
              "#482878"
             ],
             [
              0.2222222222222222,
              "#3e4989"
             ],
             [
              0.3333333333333333,
              "#31688e"
             ],
             [
              0.4444444444444444,
              "#26828e"
             ],
             [
              0.5555555555555556,
              "#1f9e89"
             ],
             [
              0.6666666666666666,
              "#35b779"
             ],
             [
              0.7777777777777778,
              "#6ece58"
             ],
             [
              0.8888888888888888,
              "#b5de2b"
             ],
             [
              1,
              "#fde725"
             ]
            ],
            "type": "surface"
           }
          ],
          "table": [
           {
            "cells": {
             "fill": {
              "color": "rgb(237,237,237)"
             },
             "line": {
              "color": "white"
             }
            },
            "header": {
             "fill": {
              "color": "rgb(217,217,217)"
             },
             "line": {
              "color": "white"
             }
            },
            "type": "table"
           }
          ]
         },
         "layout": {
          "annotationdefaults": {
           "arrowhead": 0,
           "arrowwidth": 1
          },
          "autotypenumbers": "strict",
          "coloraxis": {
           "colorbar": {
            "outlinewidth": 1,
            "tickcolor": "rgb(36,36,36)",
            "ticks": "outside"
           }
          },
          "colorscale": {
           "diverging": [
            [
             0,
             "rgb(103,0,31)"
            ],
            [
             0.1,
             "rgb(178,24,43)"
            ],
            [
             0.2,
             "rgb(214,96,77)"
            ],
            [
             0.3,
             "rgb(244,165,130)"
            ],
            [
             0.4,
             "rgb(253,219,199)"
            ],
            [
             0.5,
             "rgb(247,247,247)"
            ],
            [
             0.6,
             "rgb(209,229,240)"
            ],
            [
             0.7,
             "rgb(146,197,222)"
            ],
            [
             0.8,
             "rgb(67,147,195)"
            ],
            [
             0.9,
             "rgb(33,102,172)"
            ],
            [
             1,
             "rgb(5,48,97)"
            ]
           ],
           "sequential": [
            [
             0,
             "#440154"
            ],
            [
             0.1111111111111111,
             "#482878"
            ],
            [
             0.2222222222222222,
             "#3e4989"
            ],
            [
             0.3333333333333333,
             "#31688e"
            ],
            [
             0.4444444444444444,
             "#26828e"
            ],
            [
             0.5555555555555556,
             "#1f9e89"
            ],
            [
             0.6666666666666666,
             "#35b779"
            ],
            [
             0.7777777777777778,
             "#6ece58"
            ],
            [
             0.8888888888888888,
             "#b5de2b"
            ],
            [
             1,
             "#fde725"
            ]
           ],
           "sequentialminus": [
            [
             0,
             "#440154"
            ],
            [
             0.1111111111111111,
             "#482878"
            ],
            [
             0.2222222222222222,
             "#3e4989"
            ],
            [
             0.3333333333333333,
             "#31688e"
            ],
            [
             0.4444444444444444,
             "#26828e"
            ],
            [
             0.5555555555555556,
             "#1f9e89"
            ],
            [
             0.6666666666666666,
             "#35b779"
            ],
            [
             0.7777777777777778,
             "#6ece58"
            ],
            [
             0.8888888888888888,
             "#b5de2b"
            ],
            [
             1,
             "#fde725"
            ]
           ]
          },
          "colorway": [
           "#1F77B4",
           "#FF7F0E",
           "#2CA02C",
           "#D62728",
           "#9467BD",
           "#8C564B",
           "#E377C2",
           "#7F7F7F",
           "#BCBD22",
           "#17BECF"
          ],
          "font": {
           "color": "rgb(36,36,36)"
          },
          "geo": {
           "bgcolor": "white",
           "lakecolor": "white",
           "landcolor": "white",
           "showlakes": true,
           "showland": true,
           "subunitcolor": "white"
          },
          "hoverlabel": {
           "align": "left"
          },
          "hovermode": "closest",
          "mapbox": {
           "style": "light"
          },
          "paper_bgcolor": "white",
          "plot_bgcolor": "white",
          "polar": {
           "angularaxis": {
            "gridcolor": "rgb(232,232,232)",
            "linecolor": "rgb(36,36,36)",
            "showgrid": false,
            "showline": true,
            "ticks": "outside"
           },
           "bgcolor": "white",
           "radialaxis": {
            "gridcolor": "rgb(232,232,232)",
            "linecolor": "rgb(36,36,36)",
            "showgrid": false,
            "showline": true,
            "ticks": "outside"
           }
          },
          "scene": {
           "xaxis": {
            "backgroundcolor": "white",
            "gridcolor": "rgb(232,232,232)",
            "gridwidth": 2,
            "linecolor": "rgb(36,36,36)",
            "showbackground": true,
            "showgrid": false,
            "showline": true,
            "ticks": "outside",
            "zeroline": false,
            "zerolinecolor": "rgb(36,36,36)"
           },
           "yaxis": {
            "backgroundcolor": "white",
            "gridcolor": "rgb(232,232,232)",
            "gridwidth": 2,
            "linecolor": "rgb(36,36,36)",
            "showbackground": true,
            "showgrid": false,
            "showline": true,
            "ticks": "outside",
            "zeroline": false,
            "zerolinecolor": "rgb(36,36,36)"
           },
           "zaxis": {
            "backgroundcolor": "white",
            "gridcolor": "rgb(232,232,232)",
            "gridwidth": 2,
            "linecolor": "rgb(36,36,36)",
            "showbackground": true,
            "showgrid": false,
            "showline": true,
            "ticks": "outside",
            "zeroline": false,
            "zerolinecolor": "rgb(36,36,36)"
           }
          },
          "shapedefaults": {
           "fillcolor": "black",
           "line": {
            "width": 0
           },
           "opacity": 0.3
          },
          "ternary": {
           "aaxis": {
            "gridcolor": "rgb(232,232,232)",
            "linecolor": "rgb(36,36,36)",
            "showgrid": false,
            "showline": true,
            "ticks": "outside"
           },
           "baxis": {
            "gridcolor": "rgb(232,232,232)",
            "linecolor": "rgb(36,36,36)",
            "showgrid": false,
            "showline": true,
            "ticks": "outside"
           },
           "bgcolor": "white",
           "caxis": {
            "gridcolor": "rgb(232,232,232)",
            "linecolor": "rgb(36,36,36)",
            "showgrid": false,
            "showline": true,
            "ticks": "outside"
           }
          },
          "title": {
           "x": 0.05
          },
          "xaxis": {
           "automargin": true,
           "gridcolor": "rgb(232,232,232)",
           "linecolor": "rgb(36,36,36)",
           "showgrid": false,
           "showline": true,
           "ticks": "outside",
           "title": {
            "standoff": 15
           },
           "zeroline": false,
           "zerolinecolor": "rgb(36,36,36)"
          },
          "yaxis": {
           "automargin": true,
           "gridcolor": "rgb(232,232,232)",
           "linecolor": "rgb(36,36,36)",
           "showgrid": false,
           "showline": true,
           "ticks": "outside",
           "title": {
            "standoff": 15
           },
           "zeroline": false,
           "zerolinecolor": "rgb(36,36,36)"
          }
         }
        },
        "title": {
         "text": "Mapa de Tópicos - Cdmx"
        },
        "width": 650,
        "xaxis": {
         "anchor": "y",
         "domain": [
          0,
          1
         ],
         "range": [
          -9.518426895141602,
          -5.198746681213379
         ],
         "title": {
          "text": ""
         },
         "visible": false
        },
        "yaxis": {
         "anchor": "x",
         "domain": [
          0,
          1
         ],
         "range": [
          14.555915832519531,
          20.978439331054688
         ],
         "title": {
          "text": ""
         },
         "visible": false
        }
       }
      }
     },
     "metadata": {},
     "output_type": "display_data"
    },
    {
     "name": "stdout",
     "output_type": "stream",
     "text": [
      "\n",
      "📊 Generando gráfico de barras...\n"
     ]
    },
    {
     "data": {
      "application/vnd.plotly.v1+json": {
       "config": {
        "plotlyServerURL": "https://plot.ly"
       },
       "data": [
        {
         "marker": {
          "color": "#D55E00"
         },
         "orientation": "h",
         "type": "bar",
         "x": [
          0.04187161131094728,
          0.045702504716599,
          0.046309610035403584,
          0.0628781700697235,
          0.08064371133296633
         ],
         "xaxis": "x",
         "y": [
          "mexico city  ",
          "city  ",
          "ciudad mexico  ",
          "museo  ",
          "museum  "
         ],
         "yaxis": "y"
        },
        {
         "marker": {
          "color": "#0072B2"
         },
         "orientation": "h",
         "type": "bar",
         "x": [
          0.03996272549174491,
          0.040707648215887196,
          0.04943063749590056,
          0.049576960744238015,
          0.14963153071708005
         ],
         "xaxis": "x2",
         "y": [
          "coleccion  ",
          "castillo  ",
          "arte  ",
          "museum  ",
          "museo  "
         ],
         "yaxis": "y2"
        },
        {
         "marker": {
          "color": "#CC79A7"
         },
         "orientation": "h",
         "type": "bar",
         "x": [
          0.13070295232589785,
          0.14619349951617194,
          0.1470408213666351,
          0.15591990540426928,
          0.18256387208742275
         ],
         "xaxis": "x3",
         "y": [
          "parecer  ",
          "grupo  ",
          "limpio  ",
          "servicio  ",
          "personal  "
         ],
         "yaxis": "y3"
        },
        {
         "marker": {
          "color": "#E69F00"
         },
         "orientation": "h",
         "type": "bar",
         "x": [
          0.07471534222312254,
          0.0757058608836054,
          0.07733221937888675,
          0.10569085384600631,
          0.20701547759861336
         ],
         "xaxis": "x4",
         "y": [
          "religioso  ",
          "time  ",
          "virgen  ",
          "guadalupe  ",
          "basilica  "
         ],
         "yaxis": "y4"
        },
        {
         "marker": {
          "color": "#56B4E9"
         },
         "orientation": "h",
         "type": "bar",
         "x": [
          0.10190719272308758,
          0.116726027035156,
          0.12941764635076583,
          0.1464573260437516,
          0.22930515969093113
         ],
         "xaxis": "x5",
         "y": [
          "cdmx  ",
          "local  ",
          "calle  ",
          "restaurante  ",
          "barrio  "
         ],
         "yaxis": "y5"
        }
       ],
       "layout": {
        "annotations": [
         {
          "font": {
           "size": 16
          },
          "showarrow": false,
          "text": "Topic 0",
          "x": 0.0875,
          "xanchor": "center",
          "xref": "paper",
          "y": 1,
          "yanchor": "bottom",
          "yref": "paper"
         },
         {
          "font": {
           "size": 16
          },
          "showarrow": false,
          "text": "Topic 1",
          "x": 0.36250000000000004,
          "xanchor": "center",
          "xref": "paper",
          "y": 1,
          "yanchor": "bottom",
          "yref": "paper"
         },
         {
          "font": {
           "size": 16
          },
          "showarrow": false,
          "text": "Topic 2",
          "x": 0.6375000000000001,
          "xanchor": "center",
          "xref": "paper",
          "y": 1,
          "yanchor": "bottom",
          "yref": "paper"
         },
         {
          "font": {
           "size": 16
          },
          "showarrow": false,
          "text": "Topic 3",
          "x": 0.9125,
          "xanchor": "center",
          "xref": "paper",
          "y": 1,
          "yanchor": "bottom",
          "yref": "paper"
         },
         {
          "font": {
           "size": 16
          },
          "showarrow": false,
          "text": "Topic 4",
          "x": 0.0875,
          "xanchor": "center",
          "xref": "paper",
          "y": 0.4,
          "yanchor": "bottom",
          "yref": "paper"
         }
        ],
        "height": 500,
        "hoverlabel": {
         "bgcolor": "white",
         "font": {
          "family": "Rockwell",
          "size": 16
         }
        },
        "showlegend": false,
        "template": {
         "data": {
          "bar": [
           {
            "error_x": {
             "color": "#2a3f5f"
            },
            "error_y": {
             "color": "#2a3f5f"
            },
            "marker": {
             "line": {
              "color": "white",
              "width": 0.5
             },
             "pattern": {
              "fillmode": "overlay",
              "size": 10,
              "solidity": 0.2
             }
            },
            "type": "bar"
           }
          ],
          "barpolar": [
           {
            "marker": {
             "line": {
              "color": "white",
              "width": 0.5
             },
             "pattern": {
              "fillmode": "overlay",
              "size": 10,
              "solidity": 0.2
             }
            },
            "type": "barpolar"
           }
          ],
          "carpet": [
           {
            "aaxis": {
             "endlinecolor": "#2a3f5f",
             "gridcolor": "#C8D4E3",
             "linecolor": "#C8D4E3",
             "minorgridcolor": "#C8D4E3",
             "startlinecolor": "#2a3f5f"
            },
            "baxis": {
             "endlinecolor": "#2a3f5f",
             "gridcolor": "#C8D4E3",
             "linecolor": "#C8D4E3",
             "minorgridcolor": "#C8D4E3",
             "startlinecolor": "#2a3f5f"
            },
            "type": "carpet"
           }
          ],
          "choropleth": [
           {
            "colorbar": {
             "outlinewidth": 0,
             "ticks": ""
            },
            "type": "choropleth"
           }
          ],
          "contour": [
           {
            "colorbar": {
             "outlinewidth": 0,
             "ticks": ""
            },
            "colorscale": [
             [
              0,
              "#0d0887"
             ],
             [
              0.1111111111111111,
              "#46039f"
             ],
             [
              0.2222222222222222,
              "#7201a8"
             ],
             [
              0.3333333333333333,
              "#9c179e"
             ],
             [
              0.4444444444444444,
              "#bd3786"
             ],
             [
              0.5555555555555556,
              "#d8576b"
             ],
             [
              0.6666666666666666,
              "#ed7953"
             ],
             [
              0.7777777777777778,
              "#fb9f3a"
             ],
             [
              0.8888888888888888,
              "#fdca26"
             ],
             [
              1,
              "#f0f921"
             ]
            ],
            "type": "contour"
           }
          ],
          "contourcarpet": [
           {
            "colorbar": {
             "outlinewidth": 0,
             "ticks": ""
            },
            "type": "contourcarpet"
           }
          ],
          "heatmap": [
           {
            "colorbar": {
             "outlinewidth": 0,
             "ticks": ""
            },
            "colorscale": [
             [
              0,
              "#0d0887"
             ],
             [
              0.1111111111111111,
              "#46039f"
             ],
             [
              0.2222222222222222,
              "#7201a8"
             ],
             [
              0.3333333333333333,
              "#9c179e"
             ],
             [
              0.4444444444444444,
              "#bd3786"
             ],
             [
              0.5555555555555556,
              "#d8576b"
             ],
             [
              0.6666666666666666,
              "#ed7953"
             ],
             [
              0.7777777777777778,
              "#fb9f3a"
             ],
             [
              0.8888888888888888,
              "#fdca26"
             ],
             [
              1,
              "#f0f921"
             ]
            ],
            "type": "heatmap"
           }
          ],
          "histogram": [
           {
            "marker": {
             "pattern": {
              "fillmode": "overlay",
              "size": 10,
              "solidity": 0.2
             }
            },
            "type": "histogram"
           }
          ],
          "histogram2d": [
           {
            "colorbar": {
             "outlinewidth": 0,
             "ticks": ""
            },
            "colorscale": [
             [
              0,
              "#0d0887"
             ],
             [
              0.1111111111111111,
              "#46039f"
             ],
             [
              0.2222222222222222,
              "#7201a8"
             ],
             [
              0.3333333333333333,
              "#9c179e"
             ],
             [
              0.4444444444444444,
              "#bd3786"
             ],
             [
              0.5555555555555556,
              "#d8576b"
             ],
             [
              0.6666666666666666,
              "#ed7953"
             ],
             [
              0.7777777777777778,
              "#fb9f3a"
             ],
             [
              0.8888888888888888,
              "#fdca26"
             ],
             [
              1,
              "#f0f921"
             ]
            ],
            "type": "histogram2d"
           }
          ],
          "histogram2dcontour": [
           {
            "colorbar": {
             "outlinewidth": 0,
             "ticks": ""
            },
            "colorscale": [
             [
              0,
              "#0d0887"
             ],
             [
              0.1111111111111111,
              "#46039f"
             ],
             [
              0.2222222222222222,
              "#7201a8"
             ],
             [
              0.3333333333333333,
              "#9c179e"
             ],
             [
              0.4444444444444444,
              "#bd3786"
             ],
             [
              0.5555555555555556,
              "#d8576b"
             ],
             [
              0.6666666666666666,
              "#ed7953"
             ],
             [
              0.7777777777777778,
              "#fb9f3a"
             ],
             [
              0.8888888888888888,
              "#fdca26"
             ],
             [
              1,
              "#f0f921"
             ]
            ],
            "type": "histogram2dcontour"
           }
          ],
          "mesh3d": [
           {
            "colorbar": {
             "outlinewidth": 0,
             "ticks": ""
            },
            "type": "mesh3d"
           }
          ],
          "parcoords": [
           {
            "line": {
             "colorbar": {
              "outlinewidth": 0,
              "ticks": ""
             }
            },
            "type": "parcoords"
           }
          ],
          "pie": [
           {
            "automargin": true,
            "type": "pie"
           }
          ],
          "scatter": [
           {
            "fillpattern": {
             "fillmode": "overlay",
             "size": 10,
             "solidity": 0.2
            },
            "type": "scatter"
           }
          ],
          "scatter3d": [
           {
            "line": {
             "colorbar": {
              "outlinewidth": 0,
              "ticks": ""
             }
            },
            "marker": {
             "colorbar": {
              "outlinewidth": 0,
              "ticks": ""
             }
            },
            "type": "scatter3d"
           }
          ],
          "scattercarpet": [
           {
            "marker": {
             "colorbar": {
              "outlinewidth": 0,
              "ticks": ""
             }
            },
            "type": "scattercarpet"
           }
          ],
          "scattergeo": [
           {
            "marker": {
             "colorbar": {
              "outlinewidth": 0,
              "ticks": ""
             }
            },
            "type": "scattergeo"
           }
          ],
          "scattergl": [
           {
            "marker": {
             "colorbar": {
              "outlinewidth": 0,
              "ticks": ""
             }
            },
            "type": "scattergl"
           }
          ],
          "scattermap": [
           {
            "marker": {
             "colorbar": {
              "outlinewidth": 0,
              "ticks": ""
             }
            },
            "type": "scattermap"
           }
          ],
          "scattermapbox": [
           {
            "marker": {
             "colorbar": {
              "outlinewidth": 0,
              "ticks": ""
             }
            },
            "type": "scattermapbox"
           }
          ],
          "scatterpolar": [
           {
            "marker": {
             "colorbar": {
              "outlinewidth": 0,
              "ticks": ""
             }
            },
            "type": "scatterpolar"
           }
          ],
          "scatterpolargl": [
           {
            "marker": {
             "colorbar": {
              "outlinewidth": 0,
              "ticks": ""
             }
            },
            "type": "scatterpolargl"
           }
          ],
          "scatterternary": [
           {
            "marker": {
             "colorbar": {
              "outlinewidth": 0,
              "ticks": ""
             }
            },
            "type": "scatterternary"
           }
          ],
          "surface": [
           {
            "colorbar": {
             "outlinewidth": 0,
             "ticks": ""
            },
            "colorscale": [
             [
              0,
              "#0d0887"
             ],
             [
              0.1111111111111111,
              "#46039f"
             ],
             [
              0.2222222222222222,
              "#7201a8"
             ],
             [
              0.3333333333333333,
              "#9c179e"
             ],
             [
              0.4444444444444444,
              "#bd3786"
             ],
             [
              0.5555555555555556,
              "#d8576b"
             ],
             [
              0.6666666666666666,
              "#ed7953"
             ],
             [
              0.7777777777777778,
              "#fb9f3a"
             ],
             [
              0.8888888888888888,
              "#fdca26"
             ],
             [
              1,
              "#f0f921"
             ]
            ],
            "type": "surface"
           }
          ],
          "table": [
           {
            "cells": {
             "fill": {
              "color": "#EBF0F8"
             },
             "line": {
              "color": "white"
             }
            },
            "header": {
             "fill": {
              "color": "#C8D4E3"
             },
             "line": {
              "color": "white"
             }
            },
            "type": "table"
           }
          ]
         },
         "layout": {
          "annotationdefaults": {
           "arrowcolor": "#2a3f5f",
           "arrowhead": 0,
           "arrowwidth": 1
          },
          "autotypenumbers": "strict",
          "coloraxis": {
           "colorbar": {
            "outlinewidth": 0,
            "ticks": ""
           }
          },
          "colorscale": {
           "diverging": [
            [
             0,
             "#8e0152"
            ],
            [
             0.1,
             "#c51b7d"
            ],
            [
             0.2,
             "#de77ae"
            ],
            [
             0.3,
             "#f1b6da"
            ],
            [
             0.4,
             "#fde0ef"
            ],
            [
             0.5,
             "#f7f7f7"
            ],
            [
             0.6,
             "#e6f5d0"
            ],
            [
             0.7,
             "#b8e186"
            ],
            [
             0.8,
             "#7fbc41"
            ],
            [
             0.9,
             "#4d9221"
            ],
            [
             1,
             "#276419"
            ]
           ],
           "sequential": [
            [
             0,
             "#0d0887"
            ],
            [
             0.1111111111111111,
             "#46039f"
            ],
            [
             0.2222222222222222,
             "#7201a8"
            ],
            [
             0.3333333333333333,
             "#9c179e"
            ],
            [
             0.4444444444444444,
             "#bd3786"
            ],
            [
             0.5555555555555556,
             "#d8576b"
            ],
            [
             0.6666666666666666,
             "#ed7953"
            ],
            [
             0.7777777777777778,
             "#fb9f3a"
            ],
            [
             0.8888888888888888,
             "#fdca26"
            ],
            [
             1,
             "#f0f921"
            ]
           ],
           "sequentialminus": [
            [
             0,
             "#0d0887"
            ],
            [
             0.1111111111111111,
             "#46039f"
            ],
            [
             0.2222222222222222,
             "#7201a8"
            ],
            [
             0.3333333333333333,
             "#9c179e"
            ],
            [
             0.4444444444444444,
             "#bd3786"
            ],
            [
             0.5555555555555556,
             "#d8576b"
            ],
            [
             0.6666666666666666,
             "#ed7953"
            ],
            [
             0.7777777777777778,
             "#fb9f3a"
            ],
            [
             0.8888888888888888,
             "#fdca26"
            ],
            [
             1,
             "#f0f921"
            ]
           ]
          },
          "colorway": [
           "#636efa",
           "#EF553B",
           "#00cc96",
           "#ab63fa",
           "#FFA15A",
           "#19d3f3",
           "#FF6692",
           "#B6E880",
           "#FF97FF",
           "#FECB52"
          ],
          "font": {
           "color": "#2a3f5f"
          },
          "geo": {
           "bgcolor": "white",
           "lakecolor": "white",
           "landcolor": "white",
           "showlakes": true,
           "showland": true,
           "subunitcolor": "#C8D4E3"
          },
          "hoverlabel": {
           "align": "left"
          },
          "hovermode": "closest",
          "mapbox": {
           "style": "light"
          },
          "paper_bgcolor": "white",
          "plot_bgcolor": "white",
          "polar": {
           "angularaxis": {
            "gridcolor": "#EBF0F8",
            "linecolor": "#EBF0F8",
            "ticks": ""
           },
           "bgcolor": "white",
           "radialaxis": {
            "gridcolor": "#EBF0F8",
            "linecolor": "#EBF0F8",
            "ticks": ""
           }
          },
          "scene": {
           "xaxis": {
            "backgroundcolor": "white",
            "gridcolor": "#DFE8F3",
            "gridwidth": 2,
            "linecolor": "#EBF0F8",
            "showbackground": true,
            "ticks": "",
            "zerolinecolor": "#EBF0F8"
           },
           "yaxis": {
            "backgroundcolor": "white",
            "gridcolor": "#DFE8F3",
            "gridwidth": 2,
            "linecolor": "#EBF0F8",
            "showbackground": true,
            "ticks": "",
            "zerolinecolor": "#EBF0F8"
           },
           "zaxis": {
            "backgroundcolor": "white",
            "gridcolor": "#DFE8F3",
            "gridwidth": 2,
            "linecolor": "#EBF0F8",
            "showbackground": true,
            "ticks": "",
            "zerolinecolor": "#EBF0F8"
           }
          },
          "shapedefaults": {
           "line": {
            "color": "#2a3f5f"
           }
          },
          "ternary": {
           "aaxis": {
            "gridcolor": "#DFE8F3",
            "linecolor": "#A2B1C6",
            "ticks": ""
           },
           "baxis": {
            "gridcolor": "#DFE8F3",
            "linecolor": "#A2B1C6",
            "ticks": ""
           },
           "bgcolor": "white",
           "caxis": {
            "gridcolor": "#DFE8F3",
            "linecolor": "#A2B1C6",
            "ticks": ""
           }
          },
          "title": {
           "x": 0.05
          },
          "xaxis": {
           "automargin": true,
           "gridcolor": "#EBF0F8",
           "linecolor": "#EBF0F8",
           "ticks": "",
           "title": {
            "standoff": 15
           },
           "zerolinecolor": "#EBF0F8",
           "zerolinewidth": 2
          },
          "yaxis": {
           "automargin": true,
           "gridcolor": "#EBF0F8",
           "linecolor": "#EBF0F8",
           "ticks": "",
           "title": {
            "standoff": 15
           },
           "zerolinecolor": "#EBF0F8",
           "zerolinewidth": 2
          }
         }
        },
        "title": {
         "text": "Palabras Clave por Tópico - Cdmx"
        },
        "width": 1000,
        "xaxis": {
         "anchor": "y",
         "domain": [
          0,
          0.175
         ],
         "showgrid": true
        },
        "xaxis2": {
         "anchor": "y2",
         "domain": [
          0.275,
          0.45
         ],
         "showgrid": true
        },
        "xaxis3": {
         "anchor": "y3",
         "domain": [
          0.55,
          0.7250000000000001
         ],
         "showgrid": true
        },
        "xaxis4": {
         "anchor": "y4",
         "domain": [
          0.825,
          1
         ],
         "showgrid": true
        },
        "xaxis5": {
         "anchor": "y5",
         "domain": [
          0,
          0.175
         ],
         "showgrid": true
        },
        "xaxis6": {
         "anchor": "y6",
         "domain": [
          0.275,
          0.45
         ],
         "showgrid": true
        },
        "xaxis7": {
         "anchor": "y7",
         "domain": [
          0.55,
          0.7250000000000001
         ],
         "showgrid": true
        },
        "xaxis8": {
         "anchor": "y8",
         "domain": [
          0.825,
          1
         ],
         "showgrid": true
        },
        "yaxis": {
         "anchor": "x",
         "domain": [
          0.6000000000000001,
          1
         ],
         "showgrid": true
        },
        "yaxis2": {
         "anchor": "x2",
         "domain": [
          0.6000000000000001,
          1
         ],
         "showgrid": true
        },
        "yaxis3": {
         "anchor": "x3",
         "domain": [
          0.6000000000000001,
          1
         ],
         "showgrid": true
        },
        "yaxis4": {
         "anchor": "x4",
         "domain": [
          0.6000000000000001,
          1
         ],
         "showgrid": true
        },
        "yaxis5": {
         "anchor": "x5",
         "domain": [
          0,
          0.4
         ],
         "showgrid": true
        },
        "yaxis6": {
         "anchor": "x6",
         "domain": [
          0,
          0.4
         ],
         "showgrid": true
        },
        "yaxis7": {
         "anchor": "x7",
         "domain": [
          0,
          0.4
         ],
         "showgrid": true
        },
        "yaxis8": {
         "anchor": "x8",
         "domain": [
          0,
          0.4
         ],
         "showgrid": true
        }
       }
      }
     },
     "metadata": {},
     "output_type": "display_data"
    },
    {
     "name": "stdout",
     "output_type": "stream",
     "text": [
      "\n",
      "🌳 Generando jerarquía de tópicos...\n"
     ]
    },
    {
     "data": {
      "application/vnd.plotly.v1+json": {
       "config": {
        "plotlyServerURL": "https://plot.ly"
       },
       "data": [
        {
         "hoverinfo": "text",
         "marker": {
          "color": "rgb(61,153,112)"
         },
         "mode": "lines",
         "type": "scatter",
         "x": {
          "bdata": "AAAAAAAAAAC+M9xsr8bUP74z3GyvxtQ/AAAAAAAAAAA=",
          "dtype": "f8"
         },
         "xaxis": "x",
         "y": {
          "bdata": "AAAAAAAALsAAAAAAAAAuwAAAAAAAADnAAAAAAAAAOcA=",
          "dtype": "f8"
         },
         "yaxis": "y"
        },
        {
         "hoverinfo": "text",
         "marker": {
          "color": "rgb(61,153,112)"
         },
         "mode": "lines",
         "type": "scatter",
         "x": {
          "bdata": "AAAAAAAAAACa6BwkifHoP5roHCSJ8eg/vjPcbK/G1D8=",
          "dtype": "f8"
         },
         "xaxis": "x",
         "y": {
          "bdata": "AAAAAAAAFMAAAAAAAAAUwAAAAAAAADTAAAAAAAAANMA=",
          "dtype": "f8"
         },
         "yaxis": "y"
        },
        {
         "hoverinfo": "text",
         "marker": {
          "color": "rgb(255,65,54)"
         },
         "mode": "lines",
         "type": "scatter",
         "x": {
          "bdata": "AAAAAAAAAABsAa4ZwgnuP2wBrhnCCe4/AAAAAAAAAAA=",
          "dtype": "f8"
         },
         "xaxis": "x",
         "y": {
          "bdata": "AAAAAACAQcAAAAAAAIBBwAAAAAAAgEbAAAAAAACARsA=",
          "dtype": "f8"
         },
         "yaxis": "y"
        },
        {
         "hoverinfo": "text",
         "marker": {
          "color": "rgb(0,116,217)"
         },
         "mode": "lines",
         "type": "scatter",
         "x": {
          "bdata": "mugcJInx6D+A2D3B36LwP4DYPcHfovA/bAGuGcIJ7j8=",
          "dtype": "f8"
         },
         "xaxis": "x",
         "y": {
          "bdata": "AAAAAAAAKcAAAAAAAAApwAAAAAAAAETAAAAAAAAARMA=",
          "dtype": "f8"
         },
         "yaxis": "y"
        }
       ],
       "layout": {
        "autosize": false,
        "height": 275,
        "hoverlabel": {
         "bgcolor": "white",
         "font": {
          "family": "Rockwell",
          "size": 16
         }
        },
        "hovermode": "closest",
        "plot_bgcolor": "#ECEFF1",
        "showlegend": false,
        "template": {
         "data": {
          "bar": [
           {
            "error_x": {
             "color": "#2a3f5f"
            },
            "error_y": {
             "color": "#2a3f5f"
            },
            "marker": {
             "line": {
              "color": "white",
              "width": 0.5
             },
             "pattern": {
              "fillmode": "overlay",
              "size": 10,
              "solidity": 0.2
             }
            },
            "type": "bar"
           }
          ],
          "barpolar": [
           {
            "marker": {
             "line": {
              "color": "white",
              "width": 0.5
             },
             "pattern": {
              "fillmode": "overlay",
              "size": 10,
              "solidity": 0.2
             }
            },
            "type": "barpolar"
           }
          ],
          "carpet": [
           {
            "aaxis": {
             "endlinecolor": "#2a3f5f",
             "gridcolor": "#C8D4E3",
             "linecolor": "#C8D4E3",
             "minorgridcolor": "#C8D4E3",
             "startlinecolor": "#2a3f5f"
            },
            "baxis": {
             "endlinecolor": "#2a3f5f",
             "gridcolor": "#C8D4E3",
             "linecolor": "#C8D4E3",
             "minorgridcolor": "#C8D4E3",
             "startlinecolor": "#2a3f5f"
            },
            "type": "carpet"
           }
          ],
          "choropleth": [
           {
            "colorbar": {
             "outlinewidth": 0,
             "ticks": ""
            },
            "type": "choropleth"
           }
          ],
          "contour": [
           {
            "colorbar": {
             "outlinewidth": 0,
             "ticks": ""
            },
            "colorscale": [
             [
              0,
              "#0d0887"
             ],
             [
              0.1111111111111111,
              "#46039f"
             ],
             [
              0.2222222222222222,
              "#7201a8"
             ],
             [
              0.3333333333333333,
              "#9c179e"
             ],
             [
              0.4444444444444444,
              "#bd3786"
             ],
             [
              0.5555555555555556,
              "#d8576b"
             ],
             [
              0.6666666666666666,
              "#ed7953"
             ],
             [
              0.7777777777777778,
              "#fb9f3a"
             ],
             [
              0.8888888888888888,
              "#fdca26"
             ],
             [
              1,
              "#f0f921"
             ]
            ],
            "type": "contour"
           }
          ],
          "contourcarpet": [
           {
            "colorbar": {
             "outlinewidth": 0,
             "ticks": ""
            },
            "type": "contourcarpet"
           }
          ],
          "heatmap": [
           {
            "colorbar": {
             "outlinewidth": 0,
             "ticks": ""
            },
            "colorscale": [
             [
              0,
              "#0d0887"
             ],
             [
              0.1111111111111111,
              "#46039f"
             ],
             [
              0.2222222222222222,
              "#7201a8"
             ],
             [
              0.3333333333333333,
              "#9c179e"
             ],
             [
              0.4444444444444444,
              "#bd3786"
             ],
             [
              0.5555555555555556,
              "#d8576b"
             ],
             [
              0.6666666666666666,
              "#ed7953"
             ],
             [
              0.7777777777777778,
              "#fb9f3a"
             ],
             [
              0.8888888888888888,
              "#fdca26"
             ],
             [
              1,
              "#f0f921"
             ]
            ],
            "type": "heatmap"
           }
          ],
          "histogram": [
           {
            "marker": {
             "pattern": {
              "fillmode": "overlay",
              "size": 10,
              "solidity": 0.2
             }
            },
            "type": "histogram"
           }
          ],
          "histogram2d": [
           {
            "colorbar": {
             "outlinewidth": 0,
             "ticks": ""
            },
            "colorscale": [
             [
              0,
              "#0d0887"
             ],
             [
              0.1111111111111111,
              "#46039f"
             ],
             [
              0.2222222222222222,
              "#7201a8"
             ],
             [
              0.3333333333333333,
              "#9c179e"
             ],
             [
              0.4444444444444444,
              "#bd3786"
             ],
             [
              0.5555555555555556,
              "#d8576b"
             ],
             [
              0.6666666666666666,
              "#ed7953"
             ],
             [
              0.7777777777777778,
              "#fb9f3a"
             ],
             [
              0.8888888888888888,
              "#fdca26"
             ],
             [
              1,
              "#f0f921"
             ]
            ],
            "type": "histogram2d"
           }
          ],
          "histogram2dcontour": [
           {
            "colorbar": {
             "outlinewidth": 0,
             "ticks": ""
            },
            "colorscale": [
             [
              0,
              "#0d0887"
             ],
             [
              0.1111111111111111,
              "#46039f"
             ],
             [
              0.2222222222222222,
              "#7201a8"
             ],
             [
              0.3333333333333333,
              "#9c179e"
             ],
             [
              0.4444444444444444,
              "#bd3786"
             ],
             [
              0.5555555555555556,
              "#d8576b"
             ],
             [
              0.6666666666666666,
              "#ed7953"
             ],
             [
              0.7777777777777778,
              "#fb9f3a"
             ],
             [
              0.8888888888888888,
              "#fdca26"
             ],
             [
              1,
              "#f0f921"
             ]
            ],
            "type": "histogram2dcontour"
           }
          ],
          "mesh3d": [
           {
            "colorbar": {
             "outlinewidth": 0,
             "ticks": ""
            },
            "type": "mesh3d"
           }
          ],
          "parcoords": [
           {
            "line": {
             "colorbar": {
              "outlinewidth": 0,
              "ticks": ""
             }
            },
            "type": "parcoords"
           }
          ],
          "pie": [
           {
            "automargin": true,
            "type": "pie"
           }
          ],
          "scatter": [
           {
            "fillpattern": {
             "fillmode": "overlay",
             "size": 10,
             "solidity": 0.2
            },
            "type": "scatter"
           }
          ],
          "scatter3d": [
           {
            "line": {
             "colorbar": {
              "outlinewidth": 0,
              "ticks": ""
             }
            },
            "marker": {
             "colorbar": {
              "outlinewidth": 0,
              "ticks": ""
             }
            },
            "type": "scatter3d"
           }
          ],
          "scattercarpet": [
           {
            "marker": {
             "colorbar": {
              "outlinewidth": 0,
              "ticks": ""
             }
            },
            "type": "scattercarpet"
           }
          ],
          "scattergeo": [
           {
            "marker": {
             "colorbar": {
              "outlinewidth": 0,
              "ticks": ""
             }
            },
            "type": "scattergeo"
           }
          ],
          "scattergl": [
           {
            "marker": {
             "colorbar": {
              "outlinewidth": 0,
              "ticks": ""
             }
            },
            "type": "scattergl"
           }
          ],
          "scattermap": [
           {
            "marker": {
             "colorbar": {
              "outlinewidth": 0,
              "ticks": ""
             }
            },
            "type": "scattermap"
           }
          ],
          "scattermapbox": [
           {
            "marker": {
             "colorbar": {
              "outlinewidth": 0,
              "ticks": ""
             }
            },
            "type": "scattermapbox"
           }
          ],
          "scatterpolar": [
           {
            "marker": {
             "colorbar": {
              "outlinewidth": 0,
              "ticks": ""
             }
            },
            "type": "scatterpolar"
           }
          ],
          "scatterpolargl": [
           {
            "marker": {
             "colorbar": {
              "outlinewidth": 0,
              "ticks": ""
             }
            },
            "type": "scatterpolargl"
           }
          ],
          "scatterternary": [
           {
            "marker": {
             "colorbar": {
              "outlinewidth": 0,
              "ticks": ""
             }
            },
            "type": "scatterternary"
           }
          ],
          "surface": [
           {
            "colorbar": {
             "outlinewidth": 0,
             "ticks": ""
            },
            "colorscale": [
             [
              0,
              "#0d0887"
             ],
             [
              0.1111111111111111,
              "#46039f"
             ],
             [
              0.2222222222222222,
              "#7201a8"
             ],
             [
              0.3333333333333333,
              "#9c179e"
             ],
             [
              0.4444444444444444,
              "#bd3786"
             ],
             [
              0.5555555555555556,
              "#d8576b"
             ],
             [
              0.6666666666666666,
              "#ed7953"
             ],
             [
              0.7777777777777778,
              "#fb9f3a"
             ],
             [
              0.8888888888888888,
              "#fdca26"
             ],
             [
              1,
              "#f0f921"
             ]
            ],
            "type": "surface"
           }
          ],
          "table": [
           {
            "cells": {
             "fill": {
              "color": "#EBF0F8"
             },
             "line": {
              "color": "white"
             }
            },
            "header": {
             "fill": {
              "color": "#C8D4E3"
             },
             "line": {
              "color": "white"
             }
            },
            "type": "table"
           }
          ]
         },
         "layout": {
          "annotationdefaults": {
           "arrowcolor": "#2a3f5f",
           "arrowhead": 0,
           "arrowwidth": 1
          },
          "autotypenumbers": "strict",
          "coloraxis": {
           "colorbar": {
            "outlinewidth": 0,
            "ticks": ""
           }
          },
          "colorscale": {
           "diverging": [
            [
             0,
             "#8e0152"
            ],
            [
             0.1,
             "#c51b7d"
            ],
            [
             0.2,
             "#de77ae"
            ],
            [
             0.3,
             "#f1b6da"
            ],
            [
             0.4,
             "#fde0ef"
            ],
            [
             0.5,
             "#f7f7f7"
            ],
            [
             0.6,
             "#e6f5d0"
            ],
            [
             0.7,
             "#b8e186"
            ],
            [
             0.8,
             "#7fbc41"
            ],
            [
             0.9,
             "#4d9221"
            ],
            [
             1,
             "#276419"
            ]
           ],
           "sequential": [
            [
             0,
             "#0d0887"
            ],
            [
             0.1111111111111111,
             "#46039f"
            ],
            [
             0.2222222222222222,
             "#7201a8"
            ],
            [
             0.3333333333333333,
             "#9c179e"
            ],
            [
             0.4444444444444444,
             "#bd3786"
            ],
            [
             0.5555555555555556,
             "#d8576b"
            ],
            [
             0.6666666666666666,
             "#ed7953"
            ],
            [
             0.7777777777777778,
             "#fb9f3a"
            ],
            [
             0.8888888888888888,
             "#fdca26"
            ],
            [
             1,
             "#f0f921"
            ]
           ],
           "sequentialminus": [
            [
             0,
             "#0d0887"
            ],
            [
             0.1111111111111111,
             "#46039f"
            ],
            [
             0.2222222222222222,
             "#7201a8"
            ],
            [
             0.3333333333333333,
             "#9c179e"
            ],
            [
             0.4444444444444444,
             "#bd3786"
            ],
            [
             0.5555555555555556,
             "#d8576b"
            ],
            [
             0.6666666666666666,
             "#ed7953"
            ],
            [
             0.7777777777777778,
             "#fb9f3a"
            ],
            [
             0.8888888888888888,
             "#fdca26"
            ],
            [
             1,
             "#f0f921"
            ]
           ]
          },
          "colorway": [
           "#636efa",
           "#EF553B",
           "#00cc96",
           "#ab63fa",
           "#FFA15A",
           "#19d3f3",
           "#FF6692",
           "#B6E880",
           "#FF97FF",
           "#FECB52"
          ],
          "font": {
           "color": "#2a3f5f"
          },
          "geo": {
           "bgcolor": "white",
           "lakecolor": "white",
           "landcolor": "white",
           "showlakes": true,
           "showland": true,
           "subunitcolor": "#C8D4E3"
          },
          "hoverlabel": {
           "align": "left"
          },
          "hovermode": "closest",
          "mapbox": {
           "style": "light"
          },
          "paper_bgcolor": "white",
          "plot_bgcolor": "white",
          "polar": {
           "angularaxis": {
            "gridcolor": "#EBF0F8",
            "linecolor": "#EBF0F8",
            "ticks": ""
           },
           "bgcolor": "white",
           "radialaxis": {
            "gridcolor": "#EBF0F8",
            "linecolor": "#EBF0F8",
            "ticks": ""
           }
          },
          "scene": {
           "xaxis": {
            "backgroundcolor": "white",
            "gridcolor": "#DFE8F3",
            "gridwidth": 2,
            "linecolor": "#EBF0F8",
            "showbackground": true,
            "ticks": "",
            "zerolinecolor": "#EBF0F8"
           },
           "yaxis": {
            "backgroundcolor": "white",
            "gridcolor": "#DFE8F3",
            "gridwidth": 2,
            "linecolor": "#EBF0F8",
            "showbackground": true,
            "ticks": "",
            "zerolinecolor": "#EBF0F8"
           },
           "zaxis": {
            "backgroundcolor": "white",
            "gridcolor": "#DFE8F3",
            "gridwidth": 2,
            "linecolor": "#EBF0F8",
            "showbackground": true,
            "ticks": "",
            "zerolinecolor": "#EBF0F8"
           }
          },
          "shapedefaults": {
           "line": {
            "color": "#2a3f5f"
           }
          },
          "ternary": {
           "aaxis": {
            "gridcolor": "#DFE8F3",
            "linecolor": "#A2B1C6",
            "ticks": ""
           },
           "baxis": {
            "gridcolor": "#DFE8F3",
            "linecolor": "#A2B1C6",
            "ticks": ""
           },
           "bgcolor": "white",
           "caxis": {
            "gridcolor": "#DFE8F3",
            "linecolor": "#A2B1C6",
            "ticks": ""
           }
          },
          "title": {
           "x": 0.05
          },
          "xaxis": {
           "automargin": true,
           "gridcolor": "#EBF0F8",
           "linecolor": "#EBF0F8",
           "ticks": "",
           "title": {
            "standoff": 15
           },
           "zerolinecolor": "#EBF0F8",
           "zerolinewidth": 2
          },
          "yaxis": {
           "automargin": true,
           "gridcolor": "#EBF0F8",
           "linecolor": "#EBF0F8",
           "ticks": "",
           "title": {
            "standoff": 15
           },
           "zerolinecolor": "#EBF0F8",
           "zerolinewidth": 2
          }
         }
        },
        "title": {
         "text": "Jerarquía de Tópicos - Cdmx"
        },
        "width": 1000,
        "xaxis": {
         "mirror": "allticks",
         "rangemode": "tozero",
         "showgrid": false,
         "showline": true,
         "showticklabels": true,
         "ticks": "outside",
         "type": "linear",
         "zeroline": false
        },
        "yaxis": {
         "mirror": "allticks",
         "range": [
          -50,
          0
         ],
         "rangemode": "tozero",
         "showgrid": false,
         "showline": true,
         "showticklabels": true,
         "tickmode": "array",
         "ticks": "outside",
         "ticktext": [
          "3_basilica_guadalupe_virgen",
          "0_museum_museo_ciudad mexico",
          "1_museo_museum_arte",
          "2_personal_servicio_limpio",
          "4_barrio_restaurante_calle"
         ],
         "tickvals": [
          -5,
          -15,
          -25,
          -35,
          -45
         ],
         "type": "linear",
         "zeroline": false
        }
       }
      }
     },
     "metadata": {},
     "output_type": "display_data"
    },
    {
     "name": "stdout",
     "output_type": "stream",
     "text": [
      "\n",
      "📋 Resumen del modelado:\n",
      "✅ Textos analizados: 490\n",
      "🎯 Tópicos encontrados: 5\n",
      "📊 Distribución:\n",
      "   1. Opiniones Diversas: 163 opiniones (33.3%)\n",
      "   2. Historia y Arte Cultural: 121 opiniones (24.7%)\n",
      "   3. Experiencias en Museos: 93 opiniones (19.0%)\n",
      "   4. Calidad del servicio turístico: 45 opiniones (9.2%)\n",
      "   5. Experiencia religiosa y cultural: 41 opiniones (8.4%)\n"
     ]
    }
   ],
   "source": [
    "# ===== VISUALIZACIONES INTERACTIVAS DE BERTOPIC =====\n",
    "\n",
    "print(f\"Visualizaciones interactivas de BERTopic para {CIUDAD_ANALIZAR}:\")\n",
    "print(f\"Tópicos identificados: {len(topic_info)} (incluyendo outliers si los hay)\")\n",
    "\n",
    "# Validar si tenemos suficientes tópicos para visualizaciones\n",
    "num_topicos_validos = len([t for t in topic_info['Topic'] if t != -1])\n",
    "print(f\"Tópicos válidos (sin outliers): {num_topicos_validos}\")\n",
    "\n",
    "if num_topicos_validos < 2:\n",
    "    print(\"⚠️ ADVERTENCIA: Muy pocos tópicos identificados para generar visualizaciones interactivas.\")\n",
    "    print(\"💡 Esto puede deberse a:\")\n",
    "    print(\"   - Textos muy similares después de la limpieza\")\n",
    "    print(\"   - Dataset pequeño para la ciudad seleccionada\")\n",
    "    print(\"   - Parámetros de clustering muy restrictivos\")\n",
    "    print(\"\\n📊 Mostrando información básica de tópicos:\")\n",
    "    for topic_id in topic_info['Topic']:\n",
    "        if topic_id != -1:\n",
    "            topic_words = topic_model.get_topic(topic_id)\n",
    "            print(f\"\\nTópico {topic_id}: {topic_names.get(topic_id, 'Sin nombre')}\")\n",
    "            print(f\"Palabras clave: {', '.join([word for word, _ in topic_words[:8]])}\")\n",
    "            print(f\"Documentos: {topic_info[topic_info['Topic'] == topic_id]['Count'].iloc[0]}\")\n",
    "else:\n",
    "    # Intentar generar visualizaciones con manejo de errores\n",
    "    try:\n",
    "        print(\"\\n🗺️ Generando mapa de tópicos...\")\n",
    "        fig_intertopic = topic_model.visualize_topics()\n",
    "        fig_intertopic.update_layout(title=f\"Mapa de Tópicos - {CIUDAD_ANALIZAR}\")\n",
    "        fig_intertopic.show()\n",
    "    except Exception as e:\n",
    "        print(f\"❌ Error al generar mapa de tópicos: {str(e)}\")\n",
    "        print(\"💡 Esto es normal con pocos tópicos o datos limitados\")\n",
    "\n",
    "    try:\n",
    "        print(\"\\n📊 Generando gráfico de barras...\")\n",
    "        fig_barchart = topic_model.visualize_barchart(top_n_topics=min(8, num_topicos_validos))\n",
    "        fig_barchart.update_layout(title=f\"Palabras Clave por Tópico - {CIUDAD_ANALIZAR}\")\n",
    "        fig_barchart.show()\n",
    "    except Exception as e:\n",
    "        print(f\"❌ Error al generar gráfico de barras: {str(e)}\")\n",
    "        print(\"🔧 Mostrando información alternativa de palabras clave:\")\n",
    "        for topic_id in topic_info['Topic'][:5]:  # Mostrar máximo 5 tópicos\n",
    "            if topic_id != -1:\n",
    "                topic_words = topic_model.get_topic(topic_id)\n",
    "                print(f\"\\n📈 {topic_names.get(topic_id, f'Tópico {topic_id}')}:\")\n",
    "                print(f\"   {', '.join([f'{word}({score:.3f})' for word, score in topic_words[:5]])}\")\n",
    "\n",
    "    try:\n",
    "        print(\"\\n🌳 Generando jerarquía de tópicos...\")\n",
    "        if num_topicos_validos >= 3:  # Necesitamos al menos 3 tópicos para jerarquía\n",
    "            fig_hierarchy = topic_model.visualize_hierarchy()\n",
    "            fig_hierarchy.update_layout(title=f\"Jerarquía de Tópicos - {CIUDAD_ANALIZAR}\")\n",
    "            fig_hierarchy.show()\n",
    "        else:\n",
    "            print(\"⚠️ Se necesitan al menos 3 tópicos para mostrar jerarquía\")\n",
    "    except Exception as e:\n",
    "        print(f\"❌ Error al generar jerarquía: {str(e)}\")\n",
    "\n",
    "# Información adicional sobre la calidad del modelado\n",
    "print(f\"\\n📋 Resumen del modelado:\")\n",
    "print(f\"✅ Textos analizados: {len(texts)}\")\n",
    "print(f\"🎯 Tópicos encontrados: {num_topicos_validos}\")\n",
    "print(f\"📊 Distribución:\")\n",
    "for i, (topico, count) in enumerate(topico_counts.head(5).items()):\n",
    "    print(f\"   {i+1}. {topico}: {count} opiniones ({count/len(df_con_topicos)*100:.1f}%)\")\n",
    "\n",
    "if num_topicos_validos <= 3:\n",
    "    print(f\"\\n💡 Sugerencias para mejorar el modelado:\")\n",
    "    print(f\"   - Reducir min_cluster_size en HDBSCAN (actualmente: {hdbscan_model.min_cluster_size})\")\n",
    "    print(f\"   - Incluir más ciudades en el análisis\")\n",
    "    print(f\"   - Ajustar parámetros de limpieza de texto\")\n",
    "    print(f\"   - Verificar diversidad en los textos de entrada\")"
   ]
  },
  {
   "cell_type": "code",
   "execution_count": null,
   "id": "78cc3d64",
   "metadata": {},
   "outputs": [
    {
     "name": "stdout",
     "output_type": "stream",
     "text": [
      "💾 Guardando dataset actualizado...\n",
      "✅ Dataset actualizado y guardado:\n",
      "📁 Archivo: ../data/processed/dataset_opiniones_analisis.csv\n",
      "📊 Total opiniones: 2464\n",
      "🎯 Ciudad analizada: Cdmx\n",
      "✅ Opiniones con tópico: 973\n",
      "⏳ Opiniones pendientes: 1491\n",
      "\n",
      "📈 Estadísticas de Cdmx:\n",
      "Tópicos identificados: 6\n",
      "Opiniones analizadas: 490\n",
      "Probabilidad promedio: 0.564\n",
      "\n",
      "🧹 Información de limpieza de texto:\n",
      "📝 Columna de texto limpio: TituloReviewLimpio\n",
      "🔧 Método utilizado: TituloReviewLimpio\n",
      "✅ Textos limpios disponibles: 2464\n",
      "📊 Promedio palabras (texto limpio): 30.4\n",
      "\n",
      "🔄 Para analizar otra ciudad:\n",
      "1. Cambia la variable CIUDAD_ANALIZAR en la celda correspondiente\n",
      "2. Ejecuta nuevamente las celdas de análisis\n",
      "📍 Ciudades disponibles: ['Cancun', 'Cdmx', 'Puebla', 'Mazatlan', 'Puerto_vallarta']\n",
      "⚠️ IMPORTANTE: Los resultados previos se SOBRESCRIBEN automáticamente\n",
      "\n",
      "💡 Mejoras implementadas:\n",
      "✅ Limpieza profunda de texto con spaCy\n",
      "✅ Lematización adecuada para español\n",
      "✅ Eliminación de stopwords en español e inglés\n",
      "✅ Eliminación de emojis, URLs y caracteres especiales\n",
      "✅ Nueva columna TituloReviewLimpio agregada al dataset\n",
      "✅ Sobrescritura automática de resultados para ciudades repetidas\n"
     ]
    }
   ],
   "source": [
    "# Guardar dataset original con la nueva columna TopicoConBERTopic\n",
    "print(\"💾 Guardando dataset actualizado...\")\n",
    "df.to_csv('../data/processed/dataset_opiniones_analisis.csv', index=False)\n",
    "\n",
    "print(\"✅ Dataset actualizado y guardado:\")\n",
    "print(f\"📁 Archivo: ../data/processed/dataset_opiniones_analisis.csv\")\n",
    "print(f\"📊 Total opiniones: {len(df)}\")\n",
    "print(f\"🎯 Ciudad analizada: {CIUDAD_ANALIZAR}\")\n",
    "print(f\"✅ Opiniones con tópico: {df['TopicoConBERTopic'].notna().sum()}\")\n",
    "print(f\"⏳ Opiniones pendientes: {df['TopicoConBERTopic'].isna().sum()}\")\n",
    "\n",
    "print(f\"\\n📈 Estadísticas de {CIUDAD_ANALIZAR}:\")\n",
    "print(f\"Tópicos identificados: {len(topico_counts)}\")\n",
    "print(f\"Opiniones analizadas: {len(df_con_topicos)}\")\n",
    "print(f\"Probabilidad promedio: {df_con_topicos['Probabilidad_Topico'].mean():.3f}\")\n",
    "\n",
    "# Información sobre limpieza de texto\n",
    "if 'TituloReviewLimpio' in df.columns:\n",
    "    print(f\"\\n🧹 Información de limpieza de texto:\")\n",
    "    print(f\"📝 Columna de texto limpio: TituloReviewLimpio\")\n",
    "    print(f\"🔧 Método utilizado: {columna_texto}\")\n",
    "    textos_limpios_total = df['TituloReviewLimpio'].notna().sum()\n",
    "    print(f\"✅ Textos limpios disponibles: {textos_limpios_total}\")\n",
    "    \n",
    "    if textos_limpios_total > 0:\n",
    "        # Calcular estadísticas de mejora\n",
    "        palabras_promedio_limpio = df['TituloReviewLimpio'].dropna().str.split().str.len().mean()\n",
    "        print(f\"📊 Promedio palabras (texto limpio): {palabras_promedio_limpio:.1f}\")\n",
    "\n",
    "print(f\"\\n🔄 Para analizar otra ciudad:\")\n",
    "print(f\"1. Cambia la variable CIUDAD_ANALIZAR en la celda correspondiente\")\n",
    "print(f\"2. Ejecuta nuevamente las celdas de análisis\")\n",
    "print(f\"📍 Ciudades disponibles: {list(df['Ciudad'].unique())}\")\n",
    "print(f\"⚠️ IMPORTANTE: Los resultados previos se SOBRESCRIBEN automáticamente\")\n",
    "\n",
    "print(f\"\\n💡 Mejoras implementadas:\")\n",
    "print(f\"✅ Limpieza profunda de texto con spaCy\")\n",
    "print(f\"✅ Lematización adecuada para español\")\n",
    "print(f\"✅ Eliminación de stopwords en español e inglés\")\n",
    "print(f\"✅ Eliminación de emojis, URLs y caracteres especiales\")\n",
    "print(f\"✅ Nueva columna TituloReviewLimpio agregada al dataset\")\n",
    "print(f\"✅ Sobrescritura automática de resultados para ciudades repetidas\")"
   ]
  }
 ],
 "metadata": {
  "kernelspec": {
   "display_name": "analisis-automatizado-de-opiniones-turisticas",
   "language": "python",
   "name": "python3"
  },
  "language_info": {
   "codemirror_mode": {
    "name": "ipython",
    "version": 3
   },
   "file_extension": ".py",
   "mimetype": "text/x-python",
   "name": "python",
   "nbconvert_exporter": "python",
   "pygments_lexer": "ipython3",
   "version": "3.10.18"
  }
 },
 "nbformat": 4,
 "nbformat_minor": 5
}
