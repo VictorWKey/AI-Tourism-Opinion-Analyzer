{
 "cells": [
  {
   "cell_type": "markdown",
   "id": "15c6435b",
   "metadata": {},
   "source": [
    "# Análisis Exploratorio de Datos - Opiniones Turísticas\n",
    "\n",
    "Este notebook realiza un análisis exploratorio de los datos de opiniones turísticas recopilados de diferentes ciudades y atracciones en México.\n",
    "\n",
    "## Objetivo\n",
    "- Cargar y consolidar datos de todas las ciudades\n",
    "- Realizar análisis básico de calidad de datos\n",
    "- Explorar características generales del dataset"
   ]
  },
  {
   "cell_type": "code",
   "execution_count": null,
   "id": "399c4e74",
   "metadata": {},
   "outputs": [],
   "source": [
    "# Importar librerías necesarias\n",
    "import pandas as pd\n",
    "import numpy as np\n",
    "import os\n",
    "import glob\n",
    "import matplotlib.pyplot as plt\n",
    "import seaborn as sns\n",
    "from pathlib import Path\n",
    "\n",
    "# Configuración para gráficos\n",
    "plt.style.use('default')\n",
    "sns.set_palette(\"husl\")\n",
    "%matplotlib inline"
   ]
  },
  {
   "cell_type": "markdown",
   "id": "94f2c4b2",
   "metadata": {},
   "source": [
    "## 1. Carga y Procesamiento de Datos\n",
    "\n",
    "Vamos a cargar todos los archivos CSV de las diferentes ciudades y crear un dataset consolidado."
   ]
  },
  {
   "cell_type": "code",
   "execution_count": null,
   "id": "8d04b1b5",
   "metadata": {},
   "outputs": [],
   "source": [
    "# Función para extraer el nombre de la atracción del nombre del archivo\n",
    "def extraer_nombre_atraccion(nombre_archivo):\n",
    "    \"\"\"\n",
    "    Extrae el nombre de la atracción del nombre del archivo CSV.\n",
    "    Por ejemplo: 'cancun-la-isla.csv' -> 'la isla'\n",
    "    \"\"\"\n",
    "    # Remover la extensión .csv\n",
    "    nombre_sin_extension = nombre_archivo.replace('.csv', '')\n",
    "    \n",
    "    # Dividir por guiones\n",
    "    partes = nombre_sin_extension.split('-')\n",
    "    \n",
    "    # Omitir la primera parte (que es el nombre de la ciudad)\n",
    "    # y unir el resto con espacios\n",
    "    if len(partes) > 1:\n",
    "        atraccion = ' '.join(partes[1:])\n",
    "    else:\n",
    "        atraccion = nombre_sin_extension\n",
    "    \n",
    "    return atraccion"
   ]
  },
  {
   "cell_type": "code",
   "execution_count": null,
   "id": "ec753849",
   "metadata": {},
   "outputs": [],
   "source": [
    "# Función para cargar todos los datos\n",
    "def cargar_datos_turisticos(ruta_data='../data'):\n",
    "    \"\"\"\n",
    "    Carga todos los archivos CSV de las carpetas de ciudades y\n",
    "    los consolida en un solo DataFrame.\n",
    "    \"\"\"\n",
    "    dataframes = []\n",
    "    \n",
    "    # Obtener todas las carpetas (ciudades) en el directorio data\n",
    "    carpetas_ciudades = [d for d in os.listdir(ruta_data) \n",
    "                        if os.path.isdir(os.path.join(ruta_data, d))]\n",
    "    \n",
    "    print(f\"Ciudades encontradas: {carpetas_ciudades}\")\n",
    "    \n",
    "    for ciudad in carpetas_ciudades:\n",
    "        ruta_ciudad = os.path.join(ruta_data, ciudad)\n",
    "        \n",
    "        # Encontrar todos los archivos CSV en la carpeta de la ciudad\n",
    "        archivos_csv = glob.glob(os.path.join(ruta_ciudad, '*.csv'))\n",
    "        \n",
    "        print(f\"\\nProcesando ciudad: {ciudad}\")\n",
    "        print(f\"Archivos encontrados: {len(archivos_csv)}\")\n",
    "        \n",
    "        for archivo_csv in archivos_csv:\n",
    "            try:\n",
    "                # Leer el archivo CSV\n",
    "                df = pd.read_csv(archivo_csv)\n",
    "                \n",
    "                # Extraer nombre del archivo sin la ruta\n",
    "                nombre_archivo = os.path.basename(archivo_csv)\n",
    "                \n",
    "                # Agregar columnas de ciudad y atracción\n",
    "                df['ciudad'] = ciudad\n",
    "                df['atraccion'] = extraer_nombre_atraccion(nombre_archivo)\n",
    "                \n",
    "                dataframes.append(df)\n",
    "                \n",
    "                print(f\"  - {nombre_archivo}: {len(df)} filas\")\n",
    "                \n",
    "            except Exception as e:\n",
    "                print(f\"  - Error al cargar {archivo_csv}: {e}\")\n",
    "    \n",
    "    # Concatenar todos los DataFrames\n",
    "    if dataframes:\n",
    "        df_consolidado = pd.concat(dataframes, ignore_index=True)\n",
    "        print(f\"\\n=== RESUMEN ===\")\n",
    "        print(f\"Total de filas: {len(df_consolidado)}\")\n",
    "        print(f\"Ciudades procesadas: {df_consolidado['ciudad'].nunique()}\")\n",
    "        print(f\"Atracciones procesadas: {df_consolidado['atraccion'].nunique()}\")\n",
    "        \n",
    "        return df_consolidado\n",
    "    else:\n",
    "        print(\"No se encontraron archivos CSV para procesar.\")\n",
    "        return pd.DataFrame()"
   ]
  },
  {
   "cell_type": "code",
   "execution_count": null,
   "id": "70324acd",
   "metadata": {},
   "outputs": [],
   "source": [
    "# Cargar todos los datos\n",
    "df_opiniones = cargar_datos_turisticos()"
   ]
  },
  {
   "cell_type": "code",
   "execution_count": null,
   "id": "85cb4d60",
   "metadata": {},
   "outputs": [],
   "source": [
    "# Mostrar las primeras filas del dataset consolidado\n",
    "print(\"Primeras 5 filas del dataset:\")\n",
    "df_opiniones.head()"
   ]
  },
  {
   "cell_type": "markdown",
   "id": "1f61dc14",
   "metadata": {},
   "source": [
    "## 2. Análisis Básico de Calidad de Datos"
   ]
  },
  {
   "cell_type": "code",
   "execution_count": null,
   "id": "41e9f62a",
   "metadata": {},
   "outputs": [],
   "source": [
    "# Información general del dataset\n",
    "print(\"=== INFORMACIÓN GENERAL DEL DATASET ===\")\n",
    "print(f\"Dimensiones: {df_opiniones.shape}\")\n",
    "print(f\"Número de filas: {df_opiniones.shape[0]:,}\")\n",
    "print(f\"Número de columnas: {df_opiniones.shape[1]}\")\n",
    "print(\"\\nColumnas del dataset:\")\n",
    "for i, col in enumerate(df_opiniones.columns, 1):\n",
    "    print(f\"{i}. {col}\")"
   ]
  },
  {
   "cell_type": "code",
   "execution_count": null,
   "id": "8c041741",
   "metadata": {},
   "outputs": [],
   "source": [
    "# Información detallada de tipos de datos\n",
    "print(\"=== TIPOS DE DATOS ===\")\n",
    "df_opiniones.info()"
   ]
  },
  {
   "cell_type": "code",
   "execution_count": null,
   "id": "6c4c8478",
   "metadata": {},
   "outputs": [],
   "source": [
    "# Análisis de valores nulos\n",
    "print(\"=== ANÁLISIS DE VALORES NULOS ===\")\n",
    "valores_nulos = df_opiniones.isnull().sum()\n",
    "porcentaje_nulos = (valores_nulos / len(df_opiniones)) * 100\n",
    "\n",
    "resumen_nulos = pd.DataFrame({\n",
    "    'Valores_Nulos': valores_nulos,\n",
    "    'Porcentaje': porcentaje_nulos\n",
    "})\n",
    "\n",
    "resumen_nulos = resumen_nulos.sort_values('Porcentaje', ascending=False)\n",
    "print(resumen_nulos)"
   ]
  },
  {
   "cell_type": "code",
   "execution_count": null,
   "id": "c7e8a289",
   "metadata": {},
   "outputs": [],
   "source": [
    "# Análisis de duplicados\n",
    "print(\"=== ANÁLISIS DE DUPLICADOS ===\")\n",
    "\n",
    "# Duplicados completos\n",
    "duplicados_completos = df_opiniones.duplicated().sum()\n",
    "print(f\"Filas completamente duplicadas: {duplicados_completos}\")\n",
    "\n",
    "# Duplicados por combinación de columnas importantes\n",
    "if 'Titulo' in df_opiniones.columns and 'Review' in df_opiniones.columns:\n",
    "    duplicados_contenido = df_opiniones.duplicated(subset=['Titulo', 'Review', 'ciudad', 'atraccion']).sum()\n",
    "    print(f\"Duplicados por título + review + ciudad + atracción: {duplicados_contenido}\")\n",
    "\n",
    "# Porcentaje de duplicados\n",
    "if duplicados_completos > 0:\n",
    "    porcentaje_duplicados = (duplicados_completos / len(df_opiniones)) * 100\n",
    "    print(f\"Porcentaje de duplicados completos: {porcentaje_duplicados:.2f}%\")"
   ]
  },
  {
   "cell_type": "markdown",
   "id": "7d3f4c51",
   "metadata": {},
   "source": [
    "## 3. Análisis Descriptivo por Categorías"
   ]
  },
  {
   "cell_type": "code",
   "execution_count": null,
   "id": "19948d58",
   "metadata": {},
   "outputs": [],
   "source": [
    "# Distribución por ciudades\n",
    "print(\"=== DISTRIBUCIÓN POR CIUDADES ===\")\n",
    "distribucion_ciudades = df_opiniones['ciudad'].value_counts()\n",
    "print(distribucion_ciudades)\n",
    "print(f\"\\nPorcentaje por ciudad:\")\n",
    "print((distribucion_ciudades / distribucion_ciudades.sum() * 100).round(2))"
   ]
  },
  {
   "cell_type": "code",
   "execution_count": null,
   "id": "3e3523a6",
   "metadata": {},
   "outputs": [],
   "source": [
    "# Distribución por atracciones (top 10)\n",
    "print(\"=== TOP 10 ATRACCIONES CON MÁS OPINIONES ===\")\n",
    "distribucion_atracciones = df_opiniones['atraccion'].value_counts().head(10)\n",
    "print(distribucion_atracciones)"
   ]
  },
  {
   "cell_type": "code",
   "execution_count": null,
   "id": "a4153c94",
   "metadata": {},
   "outputs": [],
   "source": [
    "# Análisis de calificaciones\n",
    "if 'Calificacion' in df_opiniones.columns:\n",
    "    print(\"=== ANÁLISIS DE CALIFICACIONES ===\")\n",
    "    \n",
    "    # Convertir calificaciones a numérico si no lo están\n",
    "    df_opiniones['Calificacion'] = pd.to_numeric(df_opiniones['Calificacion'], errors='coerce')\n",
    "    \n",
    "    print(\"Estadísticas descriptivas de calificaciones:\")\n",
    "    print(df_opiniones['Calificacion'].describe())\n",
    "    \n",
    "    print(\"\\nDistribución de calificaciones:\")\n",
    "    print(df_opiniones['Calificacion'].value_counts().sort_index())\n",
    "    \n",
    "    print(f\"\\nCalificación promedio general: {df_opiniones['Calificacion'].mean():.2f}\")"
   ]
  },
  {
   "cell_type": "code",
   "execution_count": null,
   "id": "3cbf75b5",
   "metadata": {},
   "outputs": [],
   "source": [
    "# Análisis de tipos de viaje\n",
    "if 'TipoViaje' in df_opiniones.columns:\n",
    "    print(\"=== ANÁLISIS DE TIPOS DE VIAJE ===\")\n",
    "    distribucion_tipos = df_opiniones['TipoViaje'].value_counts()\n",
    "    print(distribucion_tipos)\n",
    "    print(f\"\\nPorcentaje por tipo de viaje:\")\n",
    "    print((distribucion_tipos / distribucion_tipos.sum() * 100).round(2))"
   ]
  },
  {
   "cell_type": "markdown",
   "id": "3d37e78e",
   "metadata": {},
   "source": [
    "## 4. Análisis de Longitud de Textos"
   ]
  },
  {
   "cell_type": "code",
   "execution_count": null,
   "id": "fbe48d5c",
   "metadata": {},
   "outputs": [],
   "source": [
    "# Análisis de longitud de títulos y reviews\n",
    "if 'Titulo' in df_opiniones.columns:\n",
    "    df_opiniones['longitud_titulo'] = df_opiniones['Titulo'].astype(str).str.len()\n",
    "    print(\"=== ANÁLISIS DE LONGITUD DE TÍTULOS ===\")\n",
    "    print(df_opiniones['longitud_titulo'].describe())\n",
    "\n",
    "if 'Review' in df_opiniones.columns:\n",
    "    df_opiniones['longitud_review'] = df_opiniones['Review'].astype(str).str.len()\n",
    "    print(\"\\n=== ANÁLISIS DE LONGITUD DE REVIEWS ===\")\n",
    "    print(df_opiniones['longitud_review'].describe())\n",
    "    \n",
    "    # Contar palabras en reviews\n",
    "    df_opiniones['palabras_review'] = df_opiniones['Review'].astype(str).str.split().str.len()\n",
    "    print(\"\\n=== NÚMERO DE PALABRAS EN REVIEWS ===\")\n",
    "    print(df_opiniones['palabras_review'].describe())"
   ]
  },
  {
   "cell_type": "markdown",
   "id": "4bcaa2c5",
   "metadata": {},
   "source": [
    "## 5. Análisis Temporal"
   ]
  },
  {
   "cell_type": "code",
   "execution_count": null,
   "id": "1e41510f",
   "metadata": {},
   "outputs": [],
   "source": [
    "# Análisis temporal de opiniones\n",
    "if 'FechaOpinion' in df_opiniones.columns:\n",
    "    print(\"=== ANÁLISIS TEMPORAL DE OPINIONES ===\")\n",
    "    \n",
    "    # Mostrar algunas fechas de ejemplo para entender el formato\n",
    "    print(\"Ejemplos de fechas en el dataset:\")\n",
    "    print(df_opiniones['FechaOpinion'].head(10).tolist())\n",
    "    \n",
    "    # Contar valores únicos en fechas\n",
    "    print(f\"\\nFechas únicas de opinión: {df_opiniones['FechaOpinion'].nunique()}\")\n",
    "    \n",
    "    # Mostrar las fechas más comunes\n",
    "    print(\"\\nTop 10 fechas con más opiniones:\")\n",
    "    print(df_opiniones['FechaOpinion'].value_counts().head(10))"
   ]
  },
  {
   "cell_type": "markdown",
   "id": "0d3663a6",
   "metadata": {},
   "source": [
    "## 6. Resumen Ejecutivo"
   ]
  },
  {
   "cell_type": "code",
   "execution_count": null,
   "id": "213b86f3",
   "metadata": {},
   "outputs": [],
   "source": [
    "# Resumen ejecutivo del análisis\n",
    "print(\"\\n\" + \"=\"*60)\n",
    "print(\"                    RESUMEN EJECUTIVO\")\n",
    "print(\"=\"*60)\n",
    "\n",
    "print(f\"📊 VOLUMEN DE DATOS:\")\n",
    "print(f\"   • Total de opiniones: {len(df_opiniones):,}\")\n",
    "print(f\"   • Ciudades analizadas: {df_opiniones['ciudad'].nunique()}\")\n",
    "print(f\"   • Atracciones totales: {df_opiniones['atraccion'].nunique()}\")\n",
    "\n",
    "print(f\"\\n🏙️ DISTRIBUCIÓN POR CIUDADES:\")\n",
    "for ciudad, cantidad in df_opiniones['ciudad'].value_counts().items():\n",
    "    porcentaje = (cantidad / len(df_opiniones)) * 100\n",
    "    print(f\"   • {ciudad.upper()}: {cantidad:,} opiniones ({porcentaje:.1f}%)\")\n",
    "\n",
    "if 'Calificacion' in df_opiniones.columns:\n",
    "    print(f\"\\n⭐ CALIFICACIONES:\")\n",
    "    print(f\"   • Promedio general: {df_opiniones['Calificacion'].mean():.2f}/5\")\n",
    "    print(f\"   • Mediana: {df_opiniones['Calificacion'].median():.1f}/5\")\n",
    "\n",
    "if 'TipoViaje' in df_opiniones.columns:\n",
    "    tipo_mas_comun = df_opiniones['TipoViaje'].mode()[0]\n",
    "    print(f\"\\n👥 TIPO DE VIAJE:\")\n",
    "    print(f\"   • Más común: {tipo_mas_comun}\")\n",
    "\n",
    "print(f\"\\n🔍 CALIDAD DE DATOS:\")\n",
    "print(f\"   • Duplicados completos: {df_opiniones.duplicated().sum()}\")\n",
    "if valores_nulos.sum() > 0:\n",
    "    print(f\"   • Campos con valores nulos: {(valores_nulos > 0).sum()}\")\n",
    "else:\n",
    "    print(f\"   • Sin valores nulos detectados\")\n",
    "\n",
    "print(\"\\n✅ Dataset listo para análisis más profundos!\")\n",
    "print(\"=\"*60)"
   ]
  },
  {
   "cell_type": "code",
   "execution_count": null,
   "id": "570061ef",
   "metadata": {},
   "outputs": [],
   "source": [
    "# Guardar el dataset consolidado (opcional)\n",
    "# df_opiniones.to_csv('../data/dataset_consolidado_opiniones.csv', index=False)\n",
    "# print(\"Dataset consolidado guardado como 'dataset_consolidado_opiniones.csv'\")"
   ]
  }
 ],
 "metadata": {
  "language_info": {
   "name": "python"
  }
 },
 "nbformat": 4,
 "nbformat_minor": 5
}
