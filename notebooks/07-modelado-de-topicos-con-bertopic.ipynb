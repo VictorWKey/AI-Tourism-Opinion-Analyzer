{
 "cells": [
  {
   "cell_type": "code",
   "execution_count": 1,
   "id": "56650b8d",
   "metadata": {},
   "outputs": [
    {
     "name": "stdout",
     "output_type": "stream",
     "text": [
      "✓ TOKENIZERS_PARALLELISM configurado a 'false' para evitar warnings\n",
      "✓ Configuración de warnings completada\n"
     ]
    }
   ],
   "source": [
    "import os\n",
    "import warnings\n",
    "\n",
    "os.environ[\"TOKENIZERS_PARALLELISM\"] = \"false\"\n",
    "print(\"✓ TOKENIZERS_PARALLELISM configurado a 'false' para evitar warnings\")\n",
    "\n",
    "warnings.filterwarnings(\"ignore\", category=FutureWarning)\n",
    "warnings.filterwarnings(\"ignore\", category=UserWarning, module=\"transformers\")\n",
    "\n",
    "print(\"✓ Configuración de warnings completada\")"
   ]
  },
  {
   "cell_type": "markdown",
   "id": "920405d9",
   "metadata": {},
   "source": [
    "# Modelado de Tópicos con BERTopic\n",
    "\n",
    "Este notebook implementa un análisis de tópicos usando BERTopic sobre las opiniones turísticas clasificadas. Utiliza LangChain con GPT-4o-mini para asignar nombres semánticamente coherentes a los tópicos identificados."
   ]
  },
  {
   "cell_type": "code",
   "execution_count": 2,
   "id": "009def10",
   "metadata": {},
   "outputs": [
    {
     "name": "stderr",
     "output_type": "stream",
     "text": [
      "Device set to use cuda:0\n",
      "[nltk_data] Downloading package wordnet to\n",
      "[nltk_data]     /home/victorwkey/nltk_data...\n",
      "[nltk_data]   Package wordnet is already up-to-date!\n",
      "[nltk_data] Downloading package punkt_tab to\n",
      "[nltk_data]     /home/victorwkey/nltk_data...\n",
      "[nltk_data]   Package punkt_tab is already up-to-date!\n",
      "[nltk_data] Downloading package stopwords to\n",
      "[nltk_data]     /home/victorwkey/nltk_data...\n",
      "[nltk_data]   Package stopwords is already up-to-date!\n"
     ]
    }
   ],
   "source": [
    "import pandas as pd\n",
    "import numpy as np\n",
    "import matplotlib.pyplot as plt\n",
    "import seaborn as sns\n",
    "from bertopic import BERTopic\n",
    "from sentence_transformers import SentenceTransformer\n",
    "from umap import UMAP\n",
    "from hdbscan import HDBSCAN\n",
    "from sklearn.feature_extraction.text import CountVectorizer\n",
    "import os\n",
    "import sys\n",
    "from dotenv import load_dotenv\n",
    "from langchain_openai import ChatOpenAI\n",
    "from langchain_core.output_parsers import PydanticOutputParser\n",
    "from langchain_core.prompts import PromptTemplate\n",
    "from pydantic import BaseModel, Field\n",
    "from typing import Literal\n",
    "import nltk\n",
    "\n",
    "sys.path.append('../scripts')\n",
    "\n",
    "from topicos import (\n",
    "    LimpiadorTextoMejorado, \n",
    "    generar_reporte_limpieza, \n",
    "    mostrar_ejemplos_limpieza,\n",
    "    evaluar_modelo_topicos,\n",
    "    extraer_palabras_bertopic,\n",
    "    mostrar_metricas\n",
    ")\n",
    "\n",
    "load_dotenv()\n",
    "\n",
    "nltk.download('punkt_tab')\n",
    "nltk.download(\"stopwords\")\n",
    "\n",
    "plt.style.use('seaborn-v0_8')\n",
    "sns.set_palette(\"husl\")"
   ]
  },
  {
   "cell_type": "code",
   "execution_count": 3,
   "id": "0ce87305",
   "metadata": {},
   "outputs": [],
   "source": [
    "from topicos import configurar_clasificador_topicos, configurar_bertopic_inteligente\n",
    "\n",
    "clasificador_topicos = configurar_clasificador_topicos()"
   ]
  },
  {
   "cell_type": "code",
   "execution_count": 4,
   "id": "53169277",
   "metadata": {},
   "outputs": [
    {
     "name": "stdout",
     "output_type": "stream",
     "text": [
      "Dataset cargado: 2457 opiniones\n",
      "Columnas disponibles: ['Titulo', 'Review', 'Calificacion', 'FechaEstadia', 'Ciudad', 'Atraccion', 'TituloReview', 'TituloReviewLimpio', 'SentimientoPorCalificacion', 'SentimientoPorHF', 'SentimientoPorCardiff', 'SubjetividadConHF', 'SubjetividadConFrases', 'SubjetividadConLLM', 'TopicoConBERTopic', 'TopicoConFASTopic']\n",
      "\n",
      "Distribución total por ciudad:\n",
      "Ciudad\n",
      "Mazatlan           499\n",
      "Puebla             497\n",
      "Puerto_vallarta    489\n",
      "Cdmx               489\n",
      "Cancun             483\n",
      "Name: count, dtype: int64\n",
      "📊 Promedio de palabras por texto: 60.1\n",
      "📏 Longitud promedio: 339.4 caracteres\n"
     ]
    }
   ],
   "source": [
    "CIUDAD_ANALIZAR = \"Cdmx\"\n",
    "df = pd.read_csv('../data/processed/dataset_opiniones_analisis.csv')\n",
    "\n",
    "if 'TopicoConBERTopic' not in df.columns:\n",
    "    df['TopicoConBERTopic'] = np.nan\n",
    "\n",
    "print(f\"Dataset cargado: {df.shape[0]} opiniones\")\n",
    "print(f\"Columnas disponibles: {list(df.columns)}\")\n",
    "print(f\"\\nDistribución total por ciudad:\")\n",
    "print(df['Ciudad'].value_counts())\n",
    "\n",
    "df_ciudad = df[df['Ciudad'] == CIUDAD_ANALIZAR].copy()\n",
    "\n",
    "columna_texto = 'TituloReviewLimpio'\n",
    "\n",
    "texts = df_ciudad[columna_texto].dropna().tolist()\n",
    "\n",
    "palabras_promedio = sum(len(text.split()) for text in texts) / len(texts)\n",
    "print(f\"📊 Promedio de palabras por texto: {palabras_promedio:.1f}\")\n",
    "print(f\"📏 Longitud promedio: {sum(len(text) for text in texts) / len(texts):.1f} caracteres\")"
   ]
  },
  {
   "cell_type": "code",
   "execution_count": null,
   "id": "4500d4d9",
   "metadata": {},
   "outputs": [],
   "source": [
    "\n",
    "limpiar_de_nuevo = True\n",
    "\n",
    "columna_limpia = \"TituloReviewLimpio\"\n",
    "\n",
    "if columna_texto not in df_ciudad.columns or df_ciudad[columna_texto].isna().all() or limpiar_de_nuevo:\n",
    "\n",
    "    limpiador = LimpiadorTextoMejorado(idiomas=['spanish', 'english'])\n",
    "\n",
    "    df_antes = df.copy()\n",
    "\n",
    "    df = limpiador.limpiar_dataframe(\n",
    "        df,\n",
    "        columna_texto='TituloReview',\n",
    "        nombre_columna_limpia=columna_limpia,\n",
    "        aplicar_traduccion=True,\n",
    "        filtrar_adjetivos=True,  # Nueva opción para filtrar adjetivos\n",
    "        filtrar_solo_espanol=True,  # Nueva opción para filtrar solo textos en español\n",
    "        aplicar_lematizacion=True,\n",
    "        min_longitud_palabra=2,\n",
    "        max_palabras=None,\n",
    "        mostrar_estadisticas=True  # Mostrar estadísticas detalladas\n",
    "    )\n",
    "\n",
    "    mostrar_ejemplos_limpieza(df, n_ejemplos=3)\n",
    "\n",
    "    generar_reporte_limpieza(df_antes, df, 'TituloReview', columna_limpia)\n",
    "\n",
    "    df.to_csv('../data/processed/dataset_opiniones_analisis.csv', index=False)"
   ]
  },
  {
   "cell_type": "code",
   "execution_count": 6,
   "id": "27acded3",
   "metadata": {},
   "outputs": [
    {
     "name": "stdout",
     "output_type": "stream",
     "text": [
      "🤖 Configuración automática de BERTopic completada\n",
      "🤖 OPTIMIZACIÓN AUTOMÁTICA DE BERTOPIC\n",
      "==================================================\n",
      "\n",
      "📊 CARACTERÍSTICAS DEL DATASET:\n",
      "   Número de textos: 489\n",
      "   Palabras promedio: 60.1\n",
      "   Diversidad léxica: 0.170\n",
      "   Homogeneidad: 0.565\n",
      "   Densidad semántica: 0.426\n",
      "\n",
      "⚙️ HIPERPARÁMETROS OPTIMIZADOS:\n",
      "   Embedding: paraphrase-multilingual-MiniLM-L12-v2\n",
      "   UMAP n_neighbors: 25\n",
      "   UMAP n_components: 25\n",
      "   HDBSCAN min_cluster_size: 29\n",
      "   Vectorizer max_features: 350\n",
      "   Vectorizer ngram_range: (1, 3)\n",
      "\n",
      "💡 JUSTIFICACIONES:\n",
      "   - Baja diversidad: dimensiones reducidas y filtrado más restrictivo\n",
      "\n",
      "🚀 Entrenando modelo con hiperparámetros optimizados...\n"
     ]
    }
   ],
   "source": [
    "# ===== CONFIGURACIÓN INTELIGENTE DE BERTOPIC =====\n",
    "topic_model, reporte_optimizacion = configurar_bertopic_inteligente(texts)\n",
    "    \n",
    "print(\"🤖 Configuración automática de BERTopic completada\")\n",
    "print(reporte_optimizacion)\n",
    "\n",
    "print(\"\\n🚀 Entrenando modelo con hiperparámetros optimizados...\")\n",
    "topics, probs = topic_model.fit_transform(texts)\n"
   ]
  },
  {
   "cell_type": "code",
   "execution_count": 7,
   "id": "e491ee6a",
   "metadata": {},
   "outputs": [
    {
     "name": "stdout",
     "output_type": "stream",
     "text": [
      "Tópicos identificados: 5 (incluyendo outliers)\n",
      "\n",
      "Palabras clave por tópico:\n",
      "Tópico 0: mexico, museum, arte, ciudad mexico, ciudad, historia, history, coleccion (documentos: 82)\n",
      "Tópico 1: museum, arte, coleccion, museos, historia, obras, tan, bonito (documentos: 70)\n",
      "Tópico 2: animales, acuario, personal, grupos, actividades, ninos, gusto, parece (documentos: 60)\n",
      "Tópico 3: basilica, guadalupe, virgen, mass, tour, beautiful, hill, misa (documentos: 44)\n",
      "\n",
      "Tópico 0: Patrimonio Cultural\n",
      "Tópico 1: Museos\n",
      "Tópico 2: Vida Marina\n",
      "Tópico 3: Sitios Religiosos\n"
     ]
    }
   ],
   "source": [
    "topic_info = topic_model.get_topic_info()\n",
    "print(f\"Tópicos identificados: {len(topic_info)} (incluyendo outliers)\")\n",
    "\n",
    "# Preparar información de tópicos para el clasificador LLM\n",
    "topics_info_str = \"\"\n",
    "topic_data = []\n",
    "\n",
    "for topic_id in topic_info['Topic']:\n",
    "    if topic_id == -1:\n",
    "        continue\n",
    "    \n",
    "    topic_words = topic_model.get_topic(topic_id)\n",
    "    keywords = \", \".join([word for word, _ in topic_words[:8]])\n",
    "    count = topic_info[topic_info['Topic'] == topic_id]['Count'].iloc[0]\n",
    "    \n",
    "    topic_data.append({\n",
    "        'id': topic_id,\n",
    "        'keywords': keywords,\n",
    "        'count': count\n",
    "    })\n",
    "    \n",
    "    topics_info_str += f\"Tópico {topic_id}: {keywords} (documentos: {count})\\n\"\n",
    "\n",
    "print(f\"\\nPalabras clave por tópico:\")\n",
    "print(topics_info_str)\n",
    "\n",
    "# Usar el clasificador LLM para asignar etiquetas\n",
    "if topic_data:  # Solo si hay tópicos válidos\n",
    "    resultado = clasificador_topicos.invoke({\"topics_info\": topics_info_str})\n",
    "    \n",
    "    # Crear mapeo de nombres de tópicos\n",
    "    topic_names = {}\n",
    "    topic_names[-1] = \"Opiniones Diversas\"  # Para outliers\n",
    "    \n",
    "    # Mapear resultados del LLM\n",
    "    for topic_label in resultado.topics:\n",
    "        topic_names[topic_label.topic_id] = topic_label.label\n",
    "        print(f\"Tópico {topic_label.topic_id}: {topic_label.label}\")\n",
    "    \n",
    "    # Asignar las etiquetas al modelo BERTopic\n",
    "    topic_model.set_topic_labels(topic_names)\n",
    "    \n",
    "else:\n",
    "    # Fallback si no hay tópicos válidos\n",
    "    topic_names = {-1: \"Opiniones Diversas\"}\n",
    "    print(\"⚠️ No se encontraron tópicos válidos para etiquetar\")"
   ]
  },
  {
   "cell_type": "code",
   "execution_count": 8,
   "id": "b7a533b4",
   "metadata": {},
   "outputs": [
    {
     "name": "stdout",
     "output_type": "stream",
     "text": [
      "🔄 SOBRESCRIBIENDO resultados previos para Cdmx:\n",
      "   📝 Opiniones con tópicos previos: 489\n",
      "   🆕 Nuevas asignaciones de tópicos: 489\n",
      "\n",
      "✅ Actualización completada para Cdmx\n",
      "Distribución de tópicos en Cdmx:\n",
      "Topico_Nombre\n",
      "Opiniones Diversas     233\n",
      "Patrimonio Cultural     82\n",
      "Museos                  70\n",
      "Vida Marina             60\n",
      "Sitios Religiosos       44\n",
      "Name: count, dtype: int64\n",
      "\n",
      "Porcentaje de opiniones por tópico en Cdmx:\n",
      "Opiniones Diversas: 47.65%\n",
      "Patrimonio Cultural: 16.77%\n",
      "Museos: 14.31%\n",
      "Vida Marina: 12.27%\n",
      "Sitios Religiosos: 9.0%\n",
      "\n",
      "Estado actualización dataset completo:\n",
      "Total opiniones: 2457\n",
      "Opiniones con tópico asignado: 489\n",
      "Opiniones pendientes: 1968\n",
      "\n",
      "🧹 Calidad de limpieza en Cdmx:\n",
      "Textos vacíos tras limpieza: 0\n",
      "Textos válidos para análisis: 489\n",
      "Reducción promedio de texto: 2.8%\n"
     ]
    }
   ],
   "source": [
    "# Procesar solo datos de la ciudad seleccionada\n",
    "df_con_topicos = df_ciudad.dropna(subset=[columna_texto]).copy()\n",
    "df_con_topicos['Topico'] = topics\n",
    "df_con_topicos['Topico_Nombre'] = df_con_topicos['Topico'].map(topic_names)\n",
    "df_con_topicos['Probabilidad_Topico'] = probs.max(axis=1)\n",
    "\n",
    "# Verificar si la ciudad ya tenía resultados previos\n",
    "indices_ciudad = df_con_topicos.index\n",
    "opiniones_previas = df.loc[indices_ciudad, 'TopicoConBERTopic'].notna().sum()\n",
    "\n",
    "if opiniones_previas > 0:\n",
    "    print(f\"🔄 SOBRESCRIBIENDO resultados previos para {CIUDAD_ANALIZAR}:\")\n",
    "    print(f\"   📝 Opiniones con tópicos previos: {opiniones_previas}\")\n",
    "    print(f\"   🆕 Nuevas asignaciones de tópicos: {len(df_con_topicos)}\")\n",
    "else:\n",
    "    print(f\"🆕 PRIMERA VEZ procesando {CIUDAD_ANALIZAR}:\")\n",
    "    print(f\"   📝 Nuevas asignaciones de tópicos: {len(df_con_topicos)}\")\n",
    "\n",
    "# Actualizar el dataset original con los tópicos de la ciudad analizada\n",
    "df.loc[indices_ciudad, 'TopicoConBERTopic'] = df_con_topicos['Topico_Nombre']\n",
    "\n",
    "print(f\"\\n✅ Actualización completada para {CIUDAD_ANALIZAR}\")\n",
    "print(f\"Distribución de tópicos en {CIUDAD_ANALIZAR}:\")\n",
    "topico_counts = df_con_topicos['Topico_Nombre'].value_counts()\n",
    "print(topico_counts)\n",
    "\n",
    "print(f\"\\nPorcentaje de opiniones por tópico en {CIUDAD_ANALIZAR}:\")\n",
    "topico_pct = (topico_counts / len(df_con_topicos) * 100).round(2)\n",
    "for topico, pct in topico_pct.items():\n",
    "    print(f\"{topico}: {pct}%\")\n",
    "\n",
    "print(f\"\\nEstado actualización dataset completo:\")\n",
    "print(f\"Total opiniones: {len(df)}\")\n",
    "print(f\"Opiniones con tópico asignado: {df['TopicoConBERTopic'].notna().sum()}\")\n",
    "print(f\"Opiniones pendientes: {df['TopicoConBERTopic'].isna().sum()}\")\n",
    "\n",
    "# Mostrar calidad de la limpieza aplicada\n",
    "if columna_texto == 'TituloReviewLimpio':\n",
    "    textos_vacios = df_con_topicos[columna_texto].str.strip().eq('').sum()\n",
    "    print(f\"\\n🧹 Calidad de limpieza en {CIUDAD_ANALIZAR}:\")\n",
    "    print(f\"Textos vacíos tras limpieza: {textos_vacios}\")\n",
    "    print(f\"Textos válidos para análisis: {len(df_con_topicos) - textos_vacios}\")\n",
    "    \n",
    "    # Comparar longitud promedio original vs limpia\n",
    "    if 'TituloReview' in df_con_topicos.columns:\n",
    "        len_original = df_con_topicos['TituloReview'].str.len().mean()\n",
    "        len_limpia = df_con_topicos['TituloReviewLimpio'].str.len().mean()\n",
    "        reduccion = ((len_original - len_limpia) / len_original * 100)\n",
    "        print(f\"Reducción promedio de texto: {reduccion:.1f}%\")"
   ]
  },
  {
   "cell_type": "code",
   "execution_count": 9,
   "id": "60168a36",
   "metadata": {},
   "outputs": [
    {
     "data": {
      "image/png": "[encoded data removed]",
      "text/plain": [
       "<Figure size 1600x1200 with 7 Axes>"
      ]
     },
     "metadata": {},
     "output_type": "display_data"
    }
   ],
   "source": [
    "fig, axes = plt.subplots(2, 2, figsize=(16, 12))\n",
    "\n",
    "# Gráfico 1: Distribución de tópicos en la ciudad\n",
    "topico_counts.plot(kind='bar', ax=axes[0,0], color='skyblue')\n",
    "axes[0,0].set_title(f'Distribución de Tópicos - {CIUDAD_ANALIZAR}', fontsize=14, fontweight='bold')\n",
    "axes[0,0].set_xlabel('Tópicos')\n",
    "axes[0,0].set_ylabel('Número de Opiniones')\n",
    "axes[0,0].tick_params(axis='x', rotation=45)\n",
    "\n",
    "# Gráfico 2: Distribución por atracción en la ciudad\n",
    "if len(df_con_topicos['Atraccion'].unique()) > 1:\n",
    "    atraccion_topico = pd.crosstab(df_con_topicos['Atraccion'], df_con_topicos['Topico_Nombre'])\n",
    "    atraccion_topico_norm = atraccion_topico.div(atraccion_topico.sum(axis=1), axis=0)\n",
    "    sns.heatmap(atraccion_topico_norm, annot=True, fmt='.2f', ax=axes[0,1], cmap='YlOrRd')\n",
    "    axes[0,1].set_title(f'Proporción de Tópicos por Atracción - {CIUDAD_ANALIZAR}', fontsize=14, fontweight='bold')\n",
    "else:\n",
    "    axes[0,1].text(0.5, 0.5, f'Solo una atracción en {CIUDAD_ANALIZAR}', ha='center', va='center', transform=axes[0,1].transAxes)\n",
    "    axes[0,1].set_title(f'Distribución por Atracción - {CIUDAD_ANALIZAR}', fontsize=14, fontweight='bold')\n",
    "\n",
    "# Gráfico 3: Tópicos por sentimiento\n",
    "sentimiento_topico = pd.crosstab(df_con_topicos['SentimientoPorHF'], df_con_topicos['Topico_Nombre'])\n",
    "sentimiento_topico_norm = sentimiento_topico.div(sentimiento_topico.sum(axis=1), axis=0)\n",
    "sns.heatmap(sentimiento_topico_norm, annot=True, fmt='.2f', ax=axes[1,0], cmap='RdYlBu')\n",
    "axes[1,0].set_title(f'Proporción de Tópicos por Sentimiento - {CIUDAD_ANALIZAR}', fontsize=14, fontweight='bold')\n",
    "\n",
    "# Gráfico 4: Tópicos por subjetividad\n",
    "subjetividad_topico = pd.crosstab(df_con_topicos['SubjetividadConLLM'], df_con_topicos['Topico_Nombre'])\n",
    "subjetividad_topico_norm = subjetividad_topico.div(subjetividad_topico.sum(axis=1), axis=0)\n",
    "sns.heatmap(subjetividad_topico_norm, annot=True, fmt='.2f', ax=axes[1,1], cmap='viridis')\n",
    "axes[1,1].set_title(f'Proporción de Tópicos por Subjetividad - {CIUDAD_ANALIZAR}', fontsize=14, fontweight='bold')\n",
    "\n",
    "plt.tight_layout()\n",
    "plt.show()"
   ]
  },
  {
   "cell_type": "code",
   "execution_count": 10,
   "id": "16574827",
   "metadata": {},
   "outputs": [
    {
     "name": "stdout",
     "output_type": "stream",
     "text": [
      "Ejemplos de opiniones por tópico en Cdmx:\n",
      "============================================================\n",
      "\n",
      "🏷️ Tópico: Opiniones Diversas\n",
      "📊 Total de opiniones: 233\n",
      "📝 Ejemplos:\n",
      "  1. 10 de 10. Simplemente espectacular! No se lo pierdan el ballet folklórico. Tienen mucho talento esos...\n",
      "  2. Ballet Folklórico de México de Amalia Hernández. excelente producción, que te llena los sentidos y t...\n",
      "  3. Siempre agradable. En esta ocasión fui al museo, que albergaba la exposición “La Revolución Impresio...\n",
      "--------------------------------------------------\n",
      "\n",
      "🏷️ Tópico: Patrimonio Cultural\n",
      "📊 Total de opiniones: 82\n",
      "📝 Ejemplos:\n",
      "  1. Sitio histórico. Es un lugar lleno de historia, tanto en las afueras como en su interior. Los doming...\n",
      "  2. Muy bonito. “Es una visita obligatoria si estás en la Ciudad de México, ya que destaca por su bellez...\n",
      "  3. Me encantó. Recomiendo encarecidamente el palacio de bellas artes. es un hermoso museo con mucha obr...\n",
      "--------------------------------------------------\n",
      "\n",
      "🏷️ Tópico: Museos\n",
      "📊 Total de opiniones: 70\n",
      "📝 Ejemplos:\n",
      "  1. Lo mejor en compañía de mi hija menor. Sin duda alguna la sala de exposiciones y museo es una gran o...\n",
      "  2. Sensacional. El hecho de que haya guías y te expliquen los murales, lo hace sorpréndete te ya que no...\n",
      "  3. Muy asequible. Lo recomiendo. Aunque no he viajado por Europa, África y Asia, sí he estado en alguno...\n",
      "--------------------------------------------------\n",
      "\n",
      "🏷️ Tópico: Vida Marina\n",
      "📊 Total de opiniones: 60\n",
      "📝 Ejemplos:\n",
      "  1. Increíble y majestuoso. Todo increíble, todo cómodo con instalaciones, me gusta todo lo que se vive ...\n",
      "  2. Cuidado con los taxistas que están en el sitio de taxis. cuidado con los taxis todos son piratas, ya...\n",
      "  3. Una gran experiencia con familia. Es muy buena la experiencia, el acuario es limpio, nos tocó un día...\n",
      "--------------------------------------------------\n",
      "\n",
      "🏷️ Tópico: Sitios Religiosos\n",
      "📊 Total de opiniones: 44\n",
      "📝 Ejemplos:\n",
      "  1. Hito cultural. Es un lugar religioso muy apreciado. Consta tanto de la basílica antigua histórica co...\n",
      "  2. Misas cada 1 hora !!. Si eres católico, es un imperdible.Si no lo eres y tienes curiosidad por el ma...\n",
      "  3. ¡Unos de los lugares más sagrados del mundo!. Sin duda alguna este es uno de los lugares más sagrado...\n",
      "--------------------------------------------------\n"
     ]
    }
   ],
   "source": [
    "print(f\"Ejemplos de opiniones por tópico en {CIUDAD_ANALIZAR}:\")\n",
    "print(\"=\" * 60)\n",
    "\n",
    "for topico_nombre in topico_counts.index[:5]:\n",
    "    ejemplos = df_con_topicos[df_con_topicos['Topico_Nombre'] == topico_nombre]['TituloReview'].head(3)\n",
    "    print(f\"\\n🏷️ Tópico: {topico_nombre}\")\n",
    "    print(f\"📊 Total de opiniones: {topico_counts[topico_nombre]}\")\n",
    "    print(\"📝 Ejemplos:\")\n",
    "    for i, ejemplo in enumerate(ejemplos, 1):\n",
    "        print(f\"  {i}. {ejemplo[:100]}{'...' if len(ejemplo) > 100 else ''}\")\n",
    "    print(\"-\" * 50)"
   ]
  },
  {
   "cell_type": "code",
   "execution_count": 11,
   "id": "33c88fe3",
   "metadata": {},
   "outputs": [
    {
     "name": "stdout",
     "output_type": "stream",
     "text": [
      "🔍 Comparación de ejemplos - Original vs Limpio (Cdmx):\n",
      "================================================================================\n",
      "\n",
      "📄 EJEMPLO 1 - Tópico: Vida Marina\n",
      "🔸 Original: Pésimo manejo de grupos y su seguridad. Cómo lugar es excelente. Pero la gestión y administración de los grupos que ingresan es muy mala. Cuando fui, desafortunadamente acudieron dos grupos de curso de verano y acapararon todo el dia. Para que los niños pudieran subir a una atracción tenían que hacer fila de 30 niños o más, pesimo. Señores, por favor si ya tiene programados grupos tan grandes cierren el lugar y eviten tan malas experiencias a usuarios de a pie. Programen horarios específicos para estos grupos. En verdad, no solo es el espacio, también la seguridad está de por medio con grupos tan grandes. Por favor pongan atención a esta cuestión.\n",
      "🔹 Limpio:   pesimo manejo de grupos y su seguridad como lugar es excelente pero la gestion y administracion de los grupos que ingresan es muy mala cuando fui desafortunadamente acudieron dos grupos de curso de verano y acapararon todo el dia para que los ninos pudieran subir a una atraccion tenian que hacer fila de ninos o mas pesimo senores por favor si ya tiene programados grupos tan grandes cierren el lugar y eviten tan malas experiencias a usuarios de a pie programen horarios especificos para estos grupos en verdad no solo es el espacio tambien la seguridad esta de por medio con grupos tan grandes por favor pongan atencion a esta cuestion\n",
      "📊 Caracteres: 655 → 638 (2.6% reducción)\n",
      "📝 Palabras: 112 → 111 (0.9% reducción)\n",
      "--------------------------------------------------------------------------------\n",
      "\n",
      "📄 EJEMPLO 2 - Tópico: Museos\n",
      "🔸 Original: Gran museo. Me encantó visitar el Museo Frida Kahlo, la verdad, he de decir, que el precio me pareció algo elevado, pero el museo en sí me gustó bastante.\n",
      "🔹 Limpio:   gran museo me encanto visitar el museo frida kahlo la verdad he de decir que el precio me parecio algo elevado pero el museo en si me gusto bastante\n",
      "📊 Caracteres: 154 → 148 (3.9% reducción)\n",
      "📝 Palabras: 29 → 29 (0.0% reducción)\n",
      "--------------------------------------------------------------------------------\n",
      "\n",
      "📄 EJEMPLO 3 - Tópico: Museos\n",
      "🔸 Original: Vale la pena visitarlo!. Esto fue una sorpresa para mí. El sitio es mucho más grande de lo que pensaba. Gran parte de las ruinas estaban cubiertas cuando las visitamos porque estaban en obras, pero el museo en sí era enorme y muy interesante. Visitamos otros, pero este fue, con diferencia, el más interesante y mejor diseñado. Al ser uno de los museos del INAH el costo fue de 95 pesos.\n",
      "🔹 Limpio:   vale la pena visitarlo esto fue una sorpresa para mi el sitio es mucho mas grande de lo que pensaba gran parte de las ruinas estaban cubiertas cuando las visitamos porque estaban en obras pero el museo en si era enorme y muy interesante visitamos otros pero este fue con diferencia el mas interesante y mejor disenado al ser uno de los museos del inah el costo fue de pesos\n",
      "📊 Caracteres: 387 → 373 (3.6% reducción)\n",
      "📝 Palabras: 71 → 70 (1.4% reducción)\n",
      "--------------------------------------------------------------------------------\n",
      "\n",
      "📄 EJEMPLO 4 - Tópico: Opiniones Diversas\n",
      "🔸 Original: Gran lugar. De los mejores lugares que hay al sur de CDMX; tiene muchas opciones de comida, además de que es un lugar sumamente tranquilo.\n",
      "🔹 Limpio:   gran lugar de los mejores lugares que hay al sur de cdmx tiene muchas opciones de comida ademas de que es un lugar sumamente tranquilo\n",
      "📊 Caracteres: 138 → 134 (2.9% reducción)\n",
      "📝 Palabras: 25 → 25 (0.0% reducción)\n",
      "--------------------------------------------------------------------------------\n",
      "\n",
      "📄 EJEMPLO 5 - Tópico: Opiniones Diversas\n",
      "🔸 Original: Muy interesante. “Es un lugar bonito y significativo que refleja la vida y obra de Frida Kahlo, además de mostrar aspectos importantes de su historia personal y artística. Sin embargo, no cuenta con algunas de sus pinturas más famosas, lo que podría decepcionar a ciertos visitantes.”.\n",
      "🔹 Limpio:   muy interesante es un lugar bonito y significativo que refleja la vida y obra de frida kahlo ademas de mostrar aspectos importantes de su historia personal y artistica sin embargo no cuenta con algunas de sus pinturas mas famosas lo que podria decepcionar a ciertos visitantes\n",
      "📊 Caracteres: 285 → 276 (3.2% reducción)\n",
      "📝 Palabras: 46 → 46 (0.0% reducción)\n",
      "--------------------------------------------------------------------------------\n",
      "\n",
      "📄 EJEMPLO 6 - Tópico: Museos\n",
      "🔸 Original: Genial incluso si no te gustan los museos. Este es el mejor museo de arqueología en el que he estado. Nuestra familia no está súper en la arqueología, pero nos pareció extremadamente interesante. Tenía zonas interiores y exteriores, lo que era un buen contraste. Lo recomendaría a cualquiera que quiera aprender sobre la historia de las áreas. Es muy limpio y moderno.\n",
      "🔹 Limpio:   genial incluso si no te gustan los museos este es el mejor museo de arqueologia en el que he estado nuestra familia no esta super en la arqueologia pero nos parecio extremadamente interesante tenia zonas interiores y exteriores lo que era un buen contraste lo recomendaria a cualquiera que quiera aprender sobre la historia de las areas es muy limpio y moderno\n",
      "📊 Caracteres: 368 → 360 (2.2% reducción)\n",
      "📝 Palabras: 62 → 62 (0.0% reducción)\n",
      "--------------------------------------------------------------------------------\n",
      "\n",
      "📄 EJEMPLO 7 - Tópico: Opiniones Diversas\n",
      "🔸 Original: Uno de los museos imprescindibles del mundo. Increíbles exposiciones muy bien diseñadas para cubrir la evolución de las civilizaciones en el México precolonial. Grite al departamento de seguridad. Mi esposa olvidó su riñonera (con objetos de valor) en el baño. Descubrimos esto unas horas después. La seguridad era accesible y manejaba la situación de forma rápida y profesional y pudimos recuperarlo al día siguiente (intacto). -Muchas gracias.\n",
      "🔹 Limpio:   uno de los museos imprescindibles del mundo increibles exposiciones muy bien disenadas para cubrir la evolucion de las civilizaciones en el mexico precolonial grite al departamento de seguridad mi esposa olvido su rinonera con objetos de valor en el bano descubrimos esto unas horas despues la seguridad era accesible y manejaba la situacion de forma rapida y profesional y pudimos recuperarlo al dia siguiente intacto muchas gracias\n",
      "📊 Caracteres: 445 → 433 (2.7% reducción)\n",
      "📝 Palabras: 67 → 67 (0.0% reducción)\n",
      "--------------------------------------------------------------------------------\n",
      "\n",
      "📄 EJEMPLO 8 - Tópico: Opiniones Diversas\n",
      "🔸 Original: Personas por todos lados, tráfico sin fin. Igual, lugar obligado en CDMX. Monumento emblema de ciudad de México.Hermoso, su arquitectura, su construcción, su estila, sus materiales.Caminar es lo mejor por esos lugares, aunque se recomienda cuidado.\n",
      "🔹 Limpio:   personas por todos lados trafico sin fin igual lugar obligado en cdmx monumento emblema de ciudad de mexico hermoso su arquitectura su construccion su estila sus materiales caminar es lo mejor por esos lugares aunque se recomienda cuidado\n",
      "📊 Caracteres: 248 → 238 (4.0% reducción)\n",
      "📝 Palabras: 36 → 38 (-5.6% reducción)\n",
      "--------------------------------------------------------------------------------\n",
      "\n",
      "📄 EJEMPLO 9 - Tópico: Museos\n",
      "🔸 Original: An eccentric Icon. The museum demands pre.online ticket booking. On the spot tickets are impossible to get. Even with prior appointment, 15-30 minutes of wait is possible. It has lots of items: family photos, school progress reports, newspaper articles, beds, clothes and dresses, crutches and vessels. Amidst all these are just a few surreal paintings of real beauty. They speak for the talent of the artist, condone the stories of hysterics, malingerings and peculiarities.\n",
      "🔹 Limpio:   an eccentric icon the museum demands pre online ticket booking on the spot tickets are impossible to get even with prior appointment minutes of wait is possible it has lots of items family photos school progress reports newspaper articles beds clothes and dresses crutches and vessels amidst all these are just a few surreal paintings of real beauty they speak for the talent of the artist condone the stories of hysterics malingerings and peculiarities\n",
      "📊 Caracteres: 475 → 453 (4.6% reducción)\n",
      "📝 Palabras: 74 → 74 (0.0% reducción)\n",
      "--------------------------------------------------------------------------------\n",
      "\n",
      "📄 EJEMPLO 10 - Tópico: Opiniones Diversas\n",
      "🔸 Original: Fridas life? Sort of. Artwork? Less so. So if you’re a mega fan or a member of the Cult of Frida (which is a thing as far as I can tell) then this is a cool experience. You get to walk through the house where she lived most of her life with and without Diego.  But, if you’re just a mid range fan (which I admittedly am) you may feel a little short changed. There are a handful (a small handful at that) of Frida’s paintings. Like 4 or 5? So not much “art” when you think of a museum dedicated to a famous artist. But the other stuff - living quarters, her various medical recovery implements, even some of her clothes - are interesting enough. Just lot sure why this is the toughest museum ticket in CDMX. Take a pre tour - without it, the small museum would have been lest interesting.\n",
      "🔹 Limpio:   fridas life sort of artwork less so so if you re a mega fan or a member of the cult of frida which is a thing as far as i can tell then this is a cool experience you get to walk through the house where she lived most of her life with and without diego but if you re just a mid range fan which i admittedly am you may feel a little short changed there are a handful a small handful at that of frida s paintings like or so not much art when you think of a museum dedicated to a famous artist but the other stuff living quarters her various medical recovery implements even some of her clothes are interesting enough just lot sure why this is the toughest museum ticket in cdmx take a pre tour without it the small museum would have been lest interesting\n",
      "📊 Caracteres: 787 → 751 (4.6% reducción)\n",
      "📝 Palabras: 153 → 151 (1.3% reducción)\n",
      "--------------------------------------------------------------------------------\n",
      "\n",
      "📄 EJEMPLO 11 - Tópico: Patrimonio Cultural\n",
      "🔸 Original: Visita imperdible. Me encantó, tiene tanta historia de la cultura mexicana, además de spots para fotos increíbles, algunos de ellos con la ciudad de fondo (terrazas). Lo que no me gustó es lo mucho que hay que caminar para llegar al castillo, es prácticamente una colina y en el mes que fui hacía mucho calor.\n",
      "🔹 Limpio:   visita imperdible me encanto tiene tanta historia de la cultura mexicana ademas de spots para fotos increibles algunos de ellos con la ciudad de fondo terrazas lo que no me gusto es lo mucho que hay que caminar para llegar al castillo es practicamente una colina y en el mes que fui hacia mucho calor\n",
      "📊 Caracteres: 309 → 300 (2.9% reducción)\n",
      "📝 Palabras: 55 → 55 (0.0% reducción)\n",
      "--------------------------------------------------------------------------------\n",
      "\n",
      "📄 EJEMPLO 12 - Tópico: Opiniones Diversas\n",
      "🔸 Original: \"Museo Nacional de Historia\". El  castillo es un Monumento  Histórico,un hermoso edificio con estilo barroco.Allí se encuentra el Museo Nacional de Historia.Está abierto de martes a domingo de 9:00 a 17:00 horas,valor de la entrada 85 pesos; casi 5 dólares.¡¡Muy recomendable,se merece una visita!!.\n",
      "🔹 Limpio:   museo nacional de historia el castillo es un monumento historico un hermoso edificio con estilo barroco alli se encuentra el museo nacional de historia esta abierto de martes a domingo de a horas valor de la entrada pesos casi dolares muy recomendable se merece una visita\n",
      "📊 Caracteres: 299 → 272 (9.0% reducción)\n",
      "📝 Palabras: 44 → 46 (-4.5% reducción)\n",
      "--------------------------------------------------------------------------------\n",
      "\n",
      "📄 EJEMPLO 13 - Tópico: Museos\n",
      "🔸 Original: Línea va rápido. Espera a estar al sol. La línea va muy rápido. Hermoso museo. 5o piso no abierto y tan decepcionante. ¡Abre el lunes! ¡Libre!.\n",
      "🔹 Limpio:   linea va rapido espera a estar al sol la linea va muy rapido hermoso museo 5o piso no abierto y tan decepcionante abre el lunes libre\n",
      "📊 Caracteres: 143 → 133 (7.0% reducción)\n",
      "📝 Palabras: 26 → 26 (0.0% reducción)\n",
      "--------------------------------------------------------------------------------\n",
      "\n",
      "📄 EJEMPLO 14 - Tópico: Vida Marina\n",
      "🔸 Original: Fue una gran experiencia en todas sus atracciones en el michi. Fue una bonita experiencia solo q salimos sin querer y no nos volvieron a dejar entrar y fue x error q salimos pero al final volvimos a entrar y pagar una entrada más pero si debería dar ala entrada folletos de información sobre la salida😋.\n",
      "🔹 Limpio:   fue una gran experiencia en todas sus atracciones en el michi fue una bonita experiencia solo q salimos sin querer y no nos volvieron a dejar entrar y fue x error q salimos pero al final volvimos a entrar y pagar una entrada mas pero si deberia dar ala entrada folletos de informacion sobre la salida\n",
      "📊 Caracteres: 303 → 300 (1.0% reducción)\n",
      "📝 Palabras: 56 → 56 (0.0% reducción)\n",
      "--------------------------------------------------------------------------------\n",
      "\n",
      "📄 EJEMPLO 15 - Tópico: Opiniones Diversas\n",
      "🔸 Original: HAY QUE IR. Es una mini ciudad muy cerca del DF nosotros llegamos en el turibus muy pintoresca, famosa por Frida Kalo al llegar fuimos a una panadería enorme muy cerca de la parada del bus muy rica, la catedral linda en el parque hay una heladería deliciosa también y la fuente muchos vendedores en el parque pero no te acosan.\n",
      "🔹 Limpio:   hay que ir es una mini ciudad muy cerca del df nosotros llegamos en el turibus muy pintoresca famosa por frida kalo al llegar fuimos a una panaderia enorme muy cerca de la parada del bus muy rica la catedral linda en el parque hay una heladeria deliciosa tambien y la fuente muchos vendedores en el parque pero no te acosan\n",
      "📊 Caracteres: 327 → 323 (1.2% reducción)\n",
      "📝 Palabras: 61 → 61 (0.0% reducción)\n",
      "--------------------------------------------------------------------------------\n",
      "\n",
      "📈 ESTADÍSTICAS GENERALES DE LIMPIEZA - Cdmx\n",
      "📊 ESTADÍSTICAS DE LIMPIEZA DE TEXTO\n",
      "==================================================\n",
      "📈 Total de textos analizados: 489\n",
      "\n",
      "📝 TEXTO ORIGINAL:\n",
      "   Longitud promedio: 349.3 caracteres\n",
      "   Palabras promedio: 60.0\n",
      "   Textos vacíos: 0\n",
      "\n",
      "🧹 TEXTO LIMPIO:\n",
      "   Longitud promedio: 339.4 caracteres\n",
      "   Palabras promedio: 60.1\n",
      "   Textos vacíos: 0\n",
      "\n",
      "📉 REDUCCIÓN TRAS LIMPIEZA:\n",
      "   Reducción en longitud: 2.8%\n",
      "   Reducción en palabras: -0.2%\n",
      "   Textos perdidos: 0\n"
     ]
    },
    {
     "data": {
      "image/png": "[encoded data removed]",
      "text/plain": [
       "<Figure size 1500x600 with 2 Axes>"
      ]
     },
     "metadata": {},
     "output_type": "display_data"
    },
    {
     "name": "stdout",
     "output_type": "stream",
     "text": [
      "📊 ESTADÍSTICAS DE DISTRIBUCIÓN DE PALABRAS:\n",
      "Original - Media: 60.0, Mediana: 43.0\n",
      "Limpio   - Media: 60.1, Mediana: 43.0\n"
     ]
    }
   ],
   "source": [
    "# ===== COMPARACIÓN TEXTO ORIGINAL VS TEXTO LIMPIO =====\n",
    "\n",
    "if 'TituloReviewLimpio' in df_con_topicos.columns:\n",
    "    print(f\"🔍 Comparación de ejemplos - Original vs Limpio ({CIUDAD_ANALIZAR}):\")\n",
    "    print(\"=\" * 80)\n",
    "    \n",
    "    # Seleccionar algunos ejemplos para mostrar la diferencia\n",
    "    ejemplos_muestra = df_con_topicos.sample(n=min(15, len(df_con_topicos)))\n",
    "    \n",
    "    for i, (_, row) in enumerate(ejemplos_muestra.iterrows(), 1):\n",
    "        print(f\"\\n📄 EJEMPLO {i} - Tópico: {row['Topico_Nombre']}\")\n",
    "        print(f\"🔸 Original: {row['TituloReview']}\")\n",
    "        print(f\"🔹 Limpio:   {row['TituloReviewLimpio']}\")\n",
    "        \n",
    "        # Calcular estadísticas del ejemplo\n",
    "        len_orig = len(str(row['TituloReview']))\n",
    "        len_limpio = len(str(row['TituloReviewLimpio']))\n",
    "        palabras_orig = len(str(row['TituloReview']).split())\n",
    "        palabras_limpio = len(str(row['TituloReviewLimpio']).split())\n",
    "        \n",
    "        print(f\"📊 Caracteres: {len_orig} → {len_limpio} ({((len_orig-len_limpio)/len_orig*100):.1f}% reducción)\")\n",
    "        print(f\"📝 Palabras: {palabras_orig} → {palabras_limpio} ({((palabras_orig-palabras_limpio)/palabras_orig*100):.1f}% reducción)\")\n",
    "        print(\"-\" * 80)\n",
    "    \n",
    "    # Estadísticas generales de limpieza\n",
    "    from topicos.utils_topicos import visualizar_distribucion_palabras, mostrar_estadisticas_limpieza\n",
    "    \n",
    "    print(f\"\\n📈 ESTADÍSTICAS GENERALES DE LIMPIEZA - {CIUDAD_ANALIZAR}\")\n",
    "    mostrar_estadisticas_limpieza(df_con_topicos, 'TituloReview', 'TituloReviewLimpio')\n",
    "    \n",
    "    # Visualización de distribución de palabras\n",
    "    visualizar_distribucion_palabras(df_con_topicos, 'TituloReview', 'TituloReviewLimpio')"
   ]
  },
  {
   "cell_type": "code",
   "execution_count": 12,
   "id": "28861b62",
   "metadata": {},
   "outputs": [
    {
     "name": "stdout",
     "output_type": "stream",
     "text": [
      "Visualizaciones interactivas de BERTopic para Cdmx:\n",
      "Tópicos identificados: 5 (incluyendo outliers si los hay)\n",
      "Tópicos válidos (sin outliers): 4\n",
      "\n",
      "🗺️ Generando mapa de tópicos...\n"
     ]
    },
    {
     "data": {
      "application/vnd.plotly.v1+json": {
       "config": {
        "plotlyServerURL": "https://plot.ly"
       },
       "data": [
        {
         "customdata": [
          [
           0,
           "mexico | museum | arte | ciudad mexico | ciudad",
           82
          ],
          [
           1,
           "museum | arte | coleccion | museos | historia",
           70
          ],
          [
           2,
           "animales | acuario | personal | grupos | actividades",
           60
          ],
          [
           3,
           "basilica | guadalupe | virgen | mass | tour",
           44
          ]
         ],
         "hovertemplate": "<b>Topic %{customdata[0]}</b><br>%{customdata[1]}<br>Size: %{customdata[2]}",
         "legendgroup": "",
         "marker": {
          "color": "#B0BEC5",
          "line": {
           "color": "DarkSlateGrey",
           "width": 2
          },
          "size": {
           "bdata": "UkY8LA==",
           "dtype": "i1"
          },
          "sizemode": "area",
          "sizeref": 0.05125,
          "symbol": "circle"
         },
         "mode": "markers",
         "name": "",
         "orientation": "v",
         "showlegend": false,
         "type": "scatter",
         "x": {
          "bdata": "cZaDQP+dK0A0NGJAwsIrQA==",
          "dtype": "f4"
         },
         "xaxis": "x",
         "y": {
          "bdata": "0SAwQYqES0EUqUtBXtM8QQ==",
          "dtype": "f4"
         },
         "yaxis": "y"
        }
       ],
       "layout": {
        "annotations": [
         {
          "showarrow": false,
          "text": "D1",
          "x": 2.279290568828583,
          "y": 11.997452855110168,
          "yshift": 10
         },
         {
          "showarrow": false,
          "text": "D2",
          "x": 3.5041110813617706,
          "xshift": 10,
          "y": 14.638095664978028
         }
        ],
        "height": 650,
        "hoverlabel": {
         "bgcolor": "white",
         "font": {
          "family": "Rockwell",
          "size": 16
         }
        },
        "legend": {
         "itemsizing": "constant",
         "tracegroupgap": 0
        },
        "margin": {
         "t": 60
        },
        "shapes": [
         {
          "line": {
           "color": "#CFD8DC",
           "width": 2
          },
          "type": "line",
          "x0": 3.5041110813617706,
          "x1": 3.5041110813617706,
          "y0": 9.356810045242309,
          "y1": 14.638095664978028
         },
         {
          "line": {
           "color": "#9E9E9E",
           "width": 2
          },
          "type": "line",
          "x0": 2.279290568828583,
          "x1": 4.728931593894958,
          "y0": 11.997452855110168,
          "y1": 11.997452855110168
         }
        ],
        "sliders": [
         {
          "active": 0,
          "pad": {
           "t": 50
          },
          "steps": [
           {
            "args": [
             {
              "marker.color": [
               [
                "red",
                "#B0BEC5",
                "#B0BEC5",
                "#B0BEC5"
               ]
              ]
             }
            ],
            "label": "Topic 0",
            "method": "update"
           },
           {
            "args": [
             {
              "marker.color": [
               [
                "#B0BEC5",
                "red",
                "#B0BEC5",
                "#B0BEC5"
               ]
              ]
             }
            ],
            "label": "Topic 1",
            "method": "update"
           },
           {
            "args": [
             {
              "marker.color": [
               [
                "#B0BEC5",
                "#B0BEC5",
                "red",
                "#B0BEC5"
               ]
              ]
             }
            ],
            "label": "Topic 2",
            "method": "update"
           },
           {
            "args": [
             {
              "marker.color": [
               [
                "#B0BEC5",
                "#B0BEC5",
                "#B0BEC5",
                "red"
               ]
              ]
             }
            ],
            "label": "Topic 3",
            "method": "update"
           }
          ]
         }
        ],
        "template": {
         "data": {
          "bar": [
           {
            "error_x": {
             "color": "rgb(36,36,36)"
            },
            "error_y": {
             "color": "rgb(36,36,36)"
            },
            "marker": {
             "line": {
              "color": "white",
              "width": 0.5
             },
             "pattern": {
              "fillmode": "overlay",
              "size": 10,
              "solidity": 0.2
             }
            },
            "type": "bar"
           }
          ],
          "barpolar": [
           {
            "marker": {
             "line": {
              "color": "white",
              "width": 0.5
             },
             "pattern": {
              "fillmode": "overlay",
              "size": 10,
              "solidity": 0.2
             }
            },
            "type": "barpolar"
           }
          ],
          "carpet": [
           {
            "aaxis": {
             "endlinecolor": "rgb(36,36,36)",
             "gridcolor": "white",
             "linecolor": "white",
             "minorgridcolor": "white",
             "startlinecolor": "rgb(36,36,36)"
            },
            "baxis": {
             "endlinecolor": "rgb(36,36,36)",
             "gridcolor": "white",
             "linecolor": "white",
             "minorgridcolor": "white",
             "startlinecolor": "rgb(36,36,36)"
            },
            "type": "carpet"
           }
          ],
          "choropleth": [
           {
            "colorbar": {
             "outlinewidth": 1,
             "tickcolor": "rgb(36,36,36)",
             "ticks": "outside"
            },
            "type": "choropleth"
           }
          ],
          "contour": [
           {
            "colorbar": {
             "outlinewidth": 1,
             "tickcolor": "rgb(36,36,36)",
             "ticks": "outside"
            },
            "colorscale": [
             [
              0,
              "#440154"
             ],
             [
              0.1111111111111111,
              "#482878"
             ],
             [
              0.2222222222222222,
              "#3e4989"
             ],
             [
              0.3333333333333333,
              "#31688e"
             ],
             [
              0.4444444444444444,
              "#26828e"
             ],
             [
              0.5555555555555556,
              "#1f9e89"
             ],
             [
              0.6666666666666666,
              "#35b779"
             ],
             [
              0.7777777777777778,
              "#6ece58"
             ],
             [
              0.8888888888888888,
              "#b5de2b"
             ],
             [
              1,
              "#fde725"
             ]
            ],
            "type": "contour"
           }
          ],
          "contourcarpet": [
           {
            "colorbar": {
             "outlinewidth": 1,
             "tickcolor": "rgb(36,36,36)",
             "ticks": "outside"
            },
            "type": "contourcarpet"
           }
          ],
          "heatmap": [
           {
            "colorbar": {
             "outlinewidth": 1,
             "tickcolor": "rgb(36,36,36)",
             "ticks": "outside"
            },
            "colorscale": [
             [
              0,
              "#440154"
             ],
             [
              0.1111111111111111,
              "#482878"
             ],
             [
              0.2222222222222222,
              "#3e4989"
             ],
             [
              0.3333333333333333,
              "#31688e"
             ],
             [
              0.4444444444444444,
              "#26828e"
             ],
             [
              0.5555555555555556,
              "#1f9e89"
             ],
             [
              0.6666666666666666,
              "#35b779"
             ],
             [
              0.7777777777777778,
              "#6ece58"
             ],
             [
              0.8888888888888888,
              "#b5de2b"
             ],
             [
              1,
              "#fde725"
             ]
            ],
            "type": "heatmap"
           }
          ],
          "histogram": [
           {
            "marker": {
             "line": {
              "color": "white",
              "width": 0.6
             }
            },
            "type": "histogram"
           }
          ],
          "histogram2d": [
           {
            "colorbar": {
             "outlinewidth": 1,
             "tickcolor": "rgb(36,36,36)",
             "ticks": "outside"
            },
            "colorscale": [
             [
              0,
              "#440154"
             ],
             [
              0.1111111111111111,
              "#482878"
             ],
             [
              0.2222222222222222,
              "#3e4989"
             ],
             [
              0.3333333333333333,
              "#31688e"
             ],
             [
              0.4444444444444444,
              "#26828e"
             ],
             [
              0.5555555555555556,
              "#1f9e89"
             ],
             [
              0.6666666666666666,
              "#35b779"
             ],
             [
              0.7777777777777778,
              "#6ece58"
             ],
             [
              0.8888888888888888,
              "#b5de2b"
             ],
             [
              1,
              "#fde725"
             ]
            ],
            "type": "histogram2d"
           }
          ],
          "histogram2dcontour": [
           {
            "colorbar": {
             "outlinewidth": 1,
             "tickcolor": "rgb(36,36,36)",
             "ticks": "outside"
            },
            "colorscale": [
             [
              0,
              "#440154"
             ],
             [
              0.1111111111111111,
              "#482878"
             ],
             [
              0.2222222222222222,
              "#3e4989"
             ],
             [
              0.3333333333333333,
              "#31688e"
             ],
             [
              0.4444444444444444,
              "#26828e"
             ],
             [
              0.5555555555555556,
              "#1f9e89"
             ],
             [
              0.6666666666666666,
              "#35b779"
             ],
             [
              0.7777777777777778,
              "#6ece58"
             ],
             [
              0.8888888888888888,
              "#b5de2b"
             ],
             [
              1,
              "#fde725"
             ]
            ],
            "type": "histogram2dcontour"
           }
          ],
          "mesh3d": [
           {
            "colorbar": {
             "outlinewidth": 1,
             "tickcolor": "rgb(36,36,36)",
             "ticks": "outside"
            },
            "type": "mesh3d"
           }
          ],
          "parcoords": [
           {
            "line": {
             "colorbar": {
              "outlinewidth": 1,
              "tickcolor": "rgb(36,36,36)",
              "ticks": "outside"
             }
            },
            "type": "parcoords"
           }
          ],
          "pie": [
           {
            "automargin": true,
            "type": "pie"
           }
          ],
          "scatter": [
           {
            "fillpattern": {
             "fillmode": "overlay",
             "size": 10,
             "solidity": 0.2
            },
            "type": "scatter"
           }
          ],
          "scatter3d": [
           {
            "line": {
             "colorbar": {
              "outlinewidth": 1,
              "tickcolor": "rgb(36,36,36)",
              "ticks": "outside"
             }
            },
            "marker": {
             "colorbar": {
              "outlinewidth": 1,
              "tickcolor": "rgb(36,36,36)",
              "ticks": "outside"
             }
            },
            "type": "scatter3d"
           }
          ],
          "scattercarpet": [
           {
            "marker": {
             "colorbar": {
              "outlinewidth": 1,
              "tickcolor": "rgb(36,36,36)",
              "ticks": "outside"
             }
            },
            "type": "scattercarpet"
           }
          ],
          "scattergeo": [
           {
            "marker": {
             "colorbar": {
              "outlinewidth": 1,
              "tickcolor": "rgb(36,36,36)",
              "ticks": "outside"
             }
            },
            "type": "scattergeo"
           }
          ],
          "scattergl": [
           {
            "marker": {
             "colorbar": {
              "outlinewidth": 1,
              "tickcolor": "rgb(36,36,36)",
              "ticks": "outside"
             }
            },
            "type": "scattergl"
           }
          ],
          "scattermap": [
           {
            "marker": {
             "colorbar": {
              "outlinewidth": 1,
              "tickcolor": "rgb(36,36,36)",
              "ticks": "outside"
             }
            },
            "type": "scattermap"
           }
          ],
          "scattermapbox": [
           {
            "marker": {
             "colorbar": {
              "outlinewidth": 1,
              "tickcolor": "rgb(36,36,36)",
              "ticks": "outside"
             }
            },
            "type": "scattermapbox"
           }
          ],
          "scatterpolar": [
           {
            "marker": {
             "colorbar": {
              "outlinewidth": 1,
              "tickcolor": "rgb(36,36,36)",
              "ticks": "outside"
             }
            },
            "type": "scatterpolar"
           }
          ],
          "scatterpolargl": [
           {
            "marker": {
             "colorbar": {
              "outlinewidth": 1,
              "tickcolor": "rgb(36,36,36)",
              "ticks": "outside"
             }
            },
            "type": "scatterpolargl"
           }
          ],
          "scatterternary": [
           {
            "marker": {
             "colorbar": {
              "outlinewidth": 1,
              "tickcolor": "rgb(36,36,36)",
              "ticks": "outside"
             }
            },
            "type": "scatterternary"
           }
          ],
          "surface": [
           {
            "colorbar": {
             "outlinewidth": 1,
             "tickcolor": "rgb(36,36,36)",
             "ticks": "outside"
            },
            "colorscale": [
             [
              0,
              "#440154"
             ],
             [
              0.1111111111111111,
              "#482878"
             ],
             [
              0.2222222222222222,
              "#3e4989"
             ],
             [
              0.3333333333333333,
              "#31688e"
             ],
             [
              0.4444444444444444,
              "#26828e"
             ],
             [
              0.5555555555555556,
              "#1f9e89"
             ],
             [
              0.6666666666666666,
              "#35b779"
             ],
             [
              0.7777777777777778,
              "#6ece58"
             ],
             [
              0.8888888888888888,
              "#b5de2b"
             ],
             [
              1,
              "#fde725"
             ]
            ],
            "type": "surface"
           }
          ],
          "table": [
           {
            "cells": {
             "fill": {
              "color": "rgb(237,237,237)"
             },
             "line": {
              "color": "white"
             }
            },
            "header": {
             "fill": {
              "color": "rgb(217,217,217)"
             },
             "line": {
              "color": "white"
             }
            },
            "type": "table"
           }
          ]
         },
         "layout": {
          "annotationdefaults": {
           "arrowhead": 0,
           "arrowwidth": 1
          },
          "autotypenumbers": "strict",
          "coloraxis": {
           "colorbar": {
            "outlinewidth": 1,
            "tickcolor": "rgb(36,36,36)",
            "ticks": "outside"
           }
          },
          "colorscale": {
           "diverging": [
            [
             0,
             "rgb(103,0,31)"
            ],
            [
             0.1,
             "rgb(178,24,43)"
            ],
            [
             0.2,
             "rgb(214,96,77)"
            ],
            [
             0.3,
             "rgb(244,165,130)"
            ],
            [
             0.4,
             "rgb(253,219,199)"
            ],
            [
             0.5,
             "rgb(247,247,247)"
            ],
            [
             0.6,
             "rgb(209,229,240)"
            ],
            [
             0.7,
             "rgb(146,197,222)"
            ],
            [
             0.8,
             "rgb(67,147,195)"
            ],
            [
             0.9,
             "rgb(33,102,172)"
            ],
            [
             1,
             "rgb(5,48,97)"
            ]
           ],
           "sequential": [
            [
             0,
             "#440154"
            ],
            [
             0.1111111111111111,
             "#482878"
            ],
            [
             0.2222222222222222,
             "#3e4989"
            ],
            [
             0.3333333333333333,
             "#31688e"
            ],
            [
             0.4444444444444444,
             "#26828e"
            ],
            [
             0.5555555555555556,
             "#1f9e89"
            ],
            [
             0.6666666666666666,
             "#35b779"
            ],
            [
             0.7777777777777778,
             "#6ece58"
            ],
            [
             0.8888888888888888,
             "#b5de2b"
            ],
            [
             1,
             "#fde725"
            ]
           ],
           "sequentialminus": [
            [
             0,
             "#440154"
            ],
            [
             0.1111111111111111,
             "#482878"
            ],
            [
             0.2222222222222222,
             "#3e4989"
            ],
            [
             0.3333333333333333,
             "#31688e"
            ],
            [
             0.4444444444444444,
             "#26828e"
            ],
            [
             0.5555555555555556,
             "#1f9e89"
            ],
            [
             0.6666666666666666,
             "#35b779"
            ],
            [
             0.7777777777777778,
             "#6ece58"
            ],
            [
             0.8888888888888888,
             "#b5de2b"
            ],
            [
             1,
             "#fde725"
            ]
           ]
          },
          "colorway": [
           "#1F77B4",
           "#FF7F0E",
           "#2CA02C",
           "#D62728",
           "#9467BD",
           "#8C564B",
           "#E377C2",
           "#7F7F7F",
           "#BCBD22",
           "#17BECF"
          ],
          "font": {
           "color": "rgb(36,36,36)"
          },
          "geo": {
           "bgcolor": "white",
           "lakecolor": "white",
           "landcolor": "white",
           "showlakes": true,
           "showland": true,
           "subunitcolor": "white"
          },
          "hoverlabel": {
           "align": "left"
          },
          "hovermode": "closest",
          "mapbox": {
           "style": "light"
          },
          "paper_bgcolor": "white",
          "plot_bgcolor": "white",
          "polar": {
           "angularaxis": {
            "gridcolor": "rgb(232,232,232)",
            "linecolor": "rgb(36,36,36)",
            "showgrid": false,
            "showline": true,
            "ticks": "outside"
           },
           "bgcolor": "white",
           "radialaxis": {
            "gridcolor": "rgb(232,232,232)",
            "linecolor": "rgb(36,36,36)",
            "showgrid": false,
            "showline": true,
            "ticks": "outside"
           }
          },
          "scene": {
           "xaxis": {
            "backgroundcolor": "white",
            "gridcolor": "rgb(232,232,232)",
            "gridwidth": 2,
            "linecolor": "rgb(36,36,36)",
            "showbackground": true,
            "showgrid": false,
            "showline": true,
            "ticks": "outside",
            "zeroline": false,
            "zerolinecolor": "rgb(36,36,36)"
           },
           "yaxis": {
            "backgroundcolor": "white",
            "gridcolor": "rgb(232,232,232)",
            "gridwidth": 2,
            "linecolor": "rgb(36,36,36)",
            "showbackground": true,
            "showgrid": false,
            "showline": true,
            "ticks": "outside",
            "zeroline": false,
            "zerolinecolor": "rgb(36,36,36)"
           },
           "zaxis": {
            "backgroundcolor": "white",
            "gridcolor": "rgb(232,232,232)",
            "gridwidth": 2,
            "linecolor": "rgb(36,36,36)",
            "showbackground": true,
            "showgrid": false,
            "showline": true,
            "ticks": "outside",
            "zeroline": false,
            "zerolinecolor": "rgb(36,36,36)"
           }
          },
          "shapedefaults": {
           "fillcolor": "black",
           "line": {
            "width": 0
           },
           "opacity": 0.3
          },
          "ternary": {
           "aaxis": {
            "gridcolor": "rgb(232,232,232)",
            "linecolor": "rgb(36,36,36)",
            "showgrid": false,
            "showline": true,
            "ticks": "outside"
           },
           "baxis": {
            "gridcolor": "rgb(232,232,232)",
            "linecolor": "rgb(36,36,36)",
            "showgrid": false,
            "showline": true,
            "ticks": "outside"
           },
           "bgcolor": "white",
           "caxis": {
            "gridcolor": "rgb(232,232,232)",
            "linecolor": "rgb(36,36,36)",
            "showgrid": false,
            "showline": true,
            "ticks": "outside"
           }
          },
          "title": {
           "x": 0.05
          },
          "xaxis": {
           "automargin": true,
           "gridcolor": "rgb(232,232,232)",
           "linecolor": "rgb(36,36,36)",
           "showgrid": false,
           "showline": true,
           "ticks": "outside",
           "title": {
            "standoff": 15
           },
           "zeroline": false,
           "zerolinecolor": "rgb(36,36,36)"
          },
          "yaxis": {
           "automargin": true,
           "gridcolor": "rgb(232,232,232)",
           "linecolor": "rgb(36,36,36)",
           "showgrid": false,
           "showline": true,
           "ticks": "outside",
           "title": {
            "standoff": 15
           },
           "zeroline": false,
           "zerolinecolor": "rgb(36,36,36)"
          }
         }
        },
        "title": {
         "text": "Mapa de Tópicos - Cdmx"
        },
        "width": 650,
        "xaxis": {
         "anchor": "y",
         "domain": [
          0,
          1
         ],
         "range": [
          2.279290568828583,
          4.728931593894958
         ],
         "title": {
          "text": ""
         },
         "visible": false
        },
        "yaxis": {
         "anchor": "x",
         "domain": [
          0,
          1
         ],
         "range": [
          9.356810045242309,
          14.638095664978028
         ],
         "title": {
          "text": ""
         },
         "visible": false
        }
       }
      }
     },
     "metadata": {},
     "output_type": "display_data"
    },
    {
     "name": "stdout",
     "output_type": "stream",
     "text": [
      "\n",
      "📊 Generando gráfico de barras...\n"
     ]
    },
    {
     "data": {
      "application/vnd.plotly.v1+json": {
       "config": {
        "plotlyServerURL": "https://plot.ly"
       },
       "data": [
        {
         "marker": {
          "color": "#D55E00"
         },
         "orientation": "h",
         "type": "bar",
         "x": [
          0.06168189539068534,
          0.063701026337466,
          0.0669319055322819,
          0.09615979106340337,
          0.13134317046464558
         ],
         "xaxis": "x",
         "y": [
          "ciudad  ",
          "ciudad mexico  ",
          "arte  ",
          "museum  ",
          "mexico  "
         ],
         "yaxis": "y"
        },
        {
         "marker": {
          "color": "#0072B2"
         },
         "orientation": "h",
         "type": "bar",
         "x": [
          0.06035761774766781,
          0.06682763882815569,
          0.06950030889417012,
          0.10241455136986204,
          0.11954883771646042
         ],
         "xaxis": "x2",
         "y": [
          "historia  ",
          "museos  ",
          "coleccion  ",
          "arte  ",
          "museum  "
         ],
         "yaxis": "y2"
        },
        {
         "marker": {
          "color": "#CC79A7"
         },
         "orientation": "h",
         "type": "bar",
         "x": [
          0.12525106925887491,
          0.13324526683209287,
          0.14590996558753266,
          0.22325296073150325,
          0.24566842086254673
         ],
         "xaxis": "x3",
         "y": [
          "actividades  ",
          "grupos  ",
          "personal  ",
          "acuario  ",
          "animales  "
         ],
         "yaxis": "y3"
        },
        {
         "marker": {
          "color": "#E69F00"
         },
         "orientation": "h",
         "type": "bar",
         "x": [
          0.09649917575782017,
          0.09751741115066852,
          0.1341975742059374,
          0.16290152929237905,
          0.3384366268162301
         ],
         "xaxis": "x4",
         "y": [
          "tour  ",
          "mass  ",
          "virgen  ",
          "guadalupe  ",
          "basilica  "
         ],
         "yaxis": "y4"
        }
       ],
       "layout": {
        "annotations": [
         {
          "font": {
           "size": 16
          },
          "showarrow": false,
          "text": "Topic 0",
          "x": 0.0875,
          "xanchor": "center",
          "xref": "paper",
          "y": 1,
          "yanchor": "bottom",
          "yref": "paper"
         },
         {
          "font": {
           "size": 16
          },
          "showarrow": false,
          "text": "Topic 1",
          "x": 0.36250000000000004,
          "xanchor": "center",
          "xref": "paper",
          "y": 1,
          "yanchor": "bottom",
          "yref": "paper"
         },
         {
          "font": {
           "size": 16
          },
          "showarrow": false,
          "text": "Topic 2",
          "x": 0.6375000000000001,
          "xanchor": "center",
          "xref": "paper",
          "y": 1,
          "yanchor": "bottom",
          "yref": "paper"
         },
         {
          "font": {
           "size": 16
          },
          "showarrow": false,
          "text": "Topic 3",
          "x": 0.9125,
          "xanchor": "center",
          "xref": "paper",
          "y": 1,
          "yanchor": "bottom",
          "yref": "paper"
         }
        ],
        "height": 325,
        "hoverlabel": {
         "bgcolor": "white",
         "font": {
          "family": "Rockwell",
          "size": 16
         }
        },
        "showlegend": false,
        "template": {
         "data": {
          "bar": [
           {
            "error_x": {
             "color": "#2a3f5f"
            },
            "error_y": {
             "color": "#2a3f5f"
            },
            "marker": {
             "line": {
              "color": "white",
              "width": 0.5
             },
             "pattern": {
              "fillmode": "overlay",
              "size": 10,
              "solidity": 0.2
             }
            },
            "type": "bar"
           }
          ],
          "barpolar": [
           {
            "marker": {
             "line": {
              "color": "white",
              "width": 0.5
             },
             "pattern": {
              "fillmode": "overlay",
              "size": 10,
              "solidity": 0.2
             }
            },
            "type": "barpolar"
           }
          ],
          "carpet": [
           {
            "aaxis": {
             "endlinecolor": "#2a3f5f",
             "gridcolor": "#C8D4E3",
             "linecolor": "#C8D4E3",
             "minorgridcolor": "#C8D4E3",
             "startlinecolor": "#2a3f5f"
            },
            "baxis": {
             "endlinecolor": "#2a3f5f",
             "gridcolor": "#C8D4E3",
             "linecolor": "#C8D4E3",
             "minorgridcolor": "#C8D4E3",
             "startlinecolor": "#2a3f5f"
            },
            "type": "carpet"
           }
          ],
          "choropleth": [
           {
            "colorbar": {
             "outlinewidth": 0,
             "ticks": ""
            },
            "type": "choropleth"
           }
          ],
          "contour": [
           {
            "colorbar": {
             "outlinewidth": 0,
             "ticks": ""
            },
            "colorscale": [
             [
              0,
              "#0d0887"
             ],
             [
              0.1111111111111111,
              "#46039f"
             ],
             [
              0.2222222222222222,
              "#7201a8"
             ],
             [
              0.3333333333333333,
              "#9c179e"
             ],
             [
              0.4444444444444444,
              "#bd3786"
             ],
             [
              0.5555555555555556,
              "#d8576b"
             ],
             [
              0.6666666666666666,
              "#ed7953"
             ],
             [
              0.7777777777777778,
              "#fb9f3a"
             ],
             [
              0.8888888888888888,
              "#fdca26"
             ],
             [
              1,
              "#f0f921"
             ]
            ],
            "type": "contour"
           }
          ],
          "contourcarpet": [
           {
            "colorbar": {
             "outlinewidth": 0,
             "ticks": ""
            },
            "type": "contourcarpet"
           }
          ],
          "heatmap": [
           {
            "colorbar": {
             "outlinewidth": 0,
             "ticks": ""
            },
            "colorscale": [
             [
              0,
              "#0d0887"
             ],
             [
              0.1111111111111111,
              "#46039f"
             ],
             [
              0.2222222222222222,
              "#7201a8"
             ],
             [
              0.3333333333333333,
              "#9c179e"
             ],
             [
              0.4444444444444444,
              "#bd3786"
             ],
             [
              0.5555555555555556,
              "#d8576b"
             ],
             [
              0.6666666666666666,
              "#ed7953"
             ],
             [
              0.7777777777777778,
              "#fb9f3a"
             ],
             [
              0.8888888888888888,
              "#fdca26"
             ],
             [
              1,
              "#f0f921"
             ]
            ],
            "type": "heatmap"
           }
          ],
          "histogram": [
           {
            "marker": {
             "pattern": {
              "fillmode": "overlay",
              "size": 10,
              "solidity": 0.2
             }
            },
            "type": "histogram"
           }
          ],
          "histogram2d": [
           {
            "colorbar": {
             "outlinewidth": 0,
             "ticks": ""
            },
            "colorscale": [
             [
              0,
              "#0d0887"
             ],
             [
              0.1111111111111111,
              "#46039f"
             ],
             [
              0.2222222222222222,
              "#7201a8"
             ],
             [
              0.3333333333333333,
              "#9c179e"
             ],
             [
              0.4444444444444444,
              "#bd3786"
             ],
             [
              0.5555555555555556,
              "#d8576b"
             ],
             [
              0.6666666666666666,
              "#ed7953"
             ],
             [
              0.7777777777777778,
              "#fb9f3a"
             ],
             [
              0.8888888888888888,
              "#fdca26"
             ],
             [
              1,
              "#f0f921"
             ]
            ],
            "type": "histogram2d"
           }
          ],
          "histogram2dcontour": [
           {
            "colorbar": {
             "outlinewidth": 0,
             "ticks": ""
            },
            "colorscale": [
             [
              0,
              "#0d0887"
             ],
             [
              0.1111111111111111,
              "#46039f"
             ],
             [
              0.2222222222222222,
              "#7201a8"
             ],
             [
              0.3333333333333333,
              "#9c179e"
             ],
             [
              0.4444444444444444,
              "#bd3786"
             ],
             [
              0.5555555555555556,
              "#d8576b"
             ],
             [
              0.6666666666666666,
              "#ed7953"
             ],
             [
              0.7777777777777778,
              "#fb9f3a"
             ],
             [
              0.8888888888888888,
              "#fdca26"
             ],
             [
              1,
              "#f0f921"
             ]
            ],
            "type": "histogram2dcontour"
           }
          ],
          "mesh3d": [
           {
            "colorbar": {
             "outlinewidth": 0,
             "ticks": ""
            },
            "type": "mesh3d"
           }
          ],
          "parcoords": [
           {
            "line": {
             "colorbar": {
              "outlinewidth": 0,
              "ticks": ""
             }
            },
            "type": "parcoords"
           }
          ],
          "pie": [
           {
            "automargin": true,
            "type": "pie"
           }
          ],
          "scatter": [
           {
            "fillpattern": {
             "fillmode": "overlay",
             "size": 10,
             "solidity": 0.2
            },
            "type": "scatter"
           }
          ],
          "scatter3d": [
           {
            "line": {
             "colorbar": {
              "outlinewidth": 0,
              "ticks": ""
             }
            },
            "marker": {
             "colorbar": {
              "outlinewidth": 0,
              "ticks": ""
             }
            },
            "type": "scatter3d"
           }
          ],
          "scattercarpet": [
           {
            "marker": {
             "colorbar": {
              "outlinewidth": 0,
              "ticks": ""
             }
            },
            "type": "scattercarpet"
           }
          ],
          "scattergeo": [
           {
            "marker": {
             "colorbar": {
              "outlinewidth": 0,
              "ticks": ""
             }
            },
            "type": "scattergeo"
           }
          ],
          "scattergl": [
           {
            "marker": {
             "colorbar": {
              "outlinewidth": 0,
              "ticks": ""
             }
            },
            "type": "scattergl"
           }
          ],
          "scattermap": [
           {
            "marker": {
             "colorbar": {
              "outlinewidth": 0,
              "ticks": ""
             }
            },
            "type": "scattermap"
           }
          ],
          "scattermapbox": [
           {
            "marker": {
             "colorbar": {
              "outlinewidth": 0,
              "ticks": ""
             }
            },
            "type": "scattermapbox"
           }
          ],
          "scatterpolar": [
           {
            "marker": {
             "colorbar": {
              "outlinewidth": 0,
              "ticks": ""
             }
            },
            "type": "scatterpolar"
           }
          ],
          "scatterpolargl": [
           {
            "marker": {
             "colorbar": {
              "outlinewidth": 0,
              "ticks": ""
             }
            },
            "type": "scatterpolargl"
           }
          ],
          "scatterternary": [
           {
            "marker": {
             "colorbar": {
              "outlinewidth": 0,
              "ticks": ""
             }
            },
            "type": "scatterternary"
           }
          ],
          "surface": [
           {
            "colorbar": {
             "outlinewidth": 0,
             "ticks": ""
            },
            "colorscale": [
             [
              0,
              "#0d0887"
             ],
             [
              0.1111111111111111,
              "#46039f"
             ],
             [
              0.2222222222222222,
              "#7201a8"
             ],
             [
              0.3333333333333333,
              "#9c179e"
             ],
             [
              0.4444444444444444,
              "#bd3786"
             ],
             [
              0.5555555555555556,
              "#d8576b"
             ],
             [
              0.6666666666666666,
              "#ed7953"
             ],
             [
              0.7777777777777778,
              "#fb9f3a"
             ],
             [
              0.8888888888888888,
              "#fdca26"
             ],
             [
              1,
              "#f0f921"
             ]
            ],
            "type": "surface"
           }
          ],
          "table": [
           {
            "cells": {
             "fill": {
              "color": "#EBF0F8"
             },
             "line": {
              "color": "white"
             }
            },
            "header": {
             "fill": {
              "color": "#C8D4E3"
             },
             "line": {
              "color": "white"
             }
            },
            "type": "table"
           }
          ]
         },
         "layout": {
          "annotationdefaults": {
           "arrowcolor": "#2a3f5f",
           "arrowhead": 0,
           "arrowwidth": 1
          },
          "autotypenumbers": "strict",
          "coloraxis": {
           "colorbar": {
            "outlinewidth": 0,
            "ticks": ""
           }
          },
          "colorscale": {
           "diverging": [
            [
             0,
             "#8e0152"
            ],
            [
             0.1,
             "#c51b7d"
            ],
            [
             0.2,
             "#de77ae"
            ],
            [
             0.3,
             "#f1b6da"
            ],
            [
             0.4,
             "#fde0ef"
            ],
            [
             0.5,
             "#f7f7f7"
            ],
            [
             0.6,
             "#e6f5d0"
            ],
            [
             0.7,
             "#b8e186"
            ],
            [
             0.8,
             "#7fbc41"
            ],
            [
             0.9,
             "#4d9221"
            ],
            [
             1,
             "#276419"
            ]
           ],
           "sequential": [
            [
             0,
             "#0d0887"
            ],
            [
             0.1111111111111111,
             "#46039f"
            ],
            [
             0.2222222222222222,
             "#7201a8"
            ],
            [
             0.3333333333333333,
             "#9c179e"
            ],
            [
             0.4444444444444444,
             "#bd3786"
            ],
            [
             0.5555555555555556,
             "#d8576b"
            ],
            [
             0.6666666666666666,
             "#ed7953"
            ],
            [
             0.7777777777777778,
             "#fb9f3a"
            ],
            [
             0.8888888888888888,
             "#fdca26"
            ],
            [
             1,
             "#f0f921"
            ]
           ],
           "sequentialminus": [
            [
             0,
             "#0d0887"
            ],
            [
             0.1111111111111111,
             "#46039f"
            ],
            [
             0.2222222222222222,
             "#7201a8"
            ],
            [
             0.3333333333333333,
             "#9c179e"
            ],
            [
             0.4444444444444444,
             "#bd3786"
            ],
            [
             0.5555555555555556,
             "#d8576b"
            ],
            [
             0.6666666666666666,
             "#ed7953"
            ],
            [
             0.7777777777777778,
             "#fb9f3a"
            ],
            [
             0.8888888888888888,
             "#fdca26"
            ],
            [
             1,
             "#f0f921"
            ]
           ]
          },
          "colorway": [
           "#636efa",
           "#EF553B",
           "#00cc96",
           "#ab63fa",
           "#FFA15A",
           "#19d3f3",
           "#FF6692",
           "#B6E880",
           "#FF97FF",
           "#FECB52"
          ],
          "font": {
           "color": "#2a3f5f"
          },
          "geo": {
           "bgcolor": "white",
           "lakecolor": "white",
           "landcolor": "white",
           "showlakes": true,
           "showland": true,
           "subunitcolor": "#C8D4E3"
          },
          "hoverlabel": {
           "align": "left"
          },
          "hovermode": "closest",
          "mapbox": {
           "style": "light"
          },
          "paper_bgcolor": "white",
          "plot_bgcolor": "white",
          "polar": {
           "angularaxis": {
            "gridcolor": "#EBF0F8",
            "linecolor": "#EBF0F8",
            "ticks": ""
           },
           "bgcolor": "white",
           "radialaxis": {
            "gridcolor": "#EBF0F8",
            "linecolor": "#EBF0F8",
            "ticks": ""
           }
          },
          "scene": {
           "xaxis": {
            "backgroundcolor": "white",
            "gridcolor": "#DFE8F3",
            "gridwidth": 2,
            "linecolor": "#EBF0F8",
            "showbackground": true,
            "ticks": "",
            "zerolinecolor": "#EBF0F8"
           },
           "yaxis": {
            "backgroundcolor": "white",
            "gridcolor": "#DFE8F3",
            "gridwidth": 2,
            "linecolor": "#EBF0F8",
            "showbackground": true,
            "ticks": "",
            "zerolinecolor": "#EBF0F8"
           },
           "zaxis": {
            "backgroundcolor": "white",
            "gridcolor": "#DFE8F3",
            "gridwidth": 2,
            "linecolor": "#EBF0F8",
            "showbackground": true,
            "ticks": "",
            "zerolinecolor": "#EBF0F8"
           }
          },
          "shapedefaults": {
           "line": {
            "color": "#2a3f5f"
           }
          },
          "ternary": {
           "aaxis": {
            "gridcolor": "#DFE8F3",
            "linecolor": "#A2B1C6",
            "ticks": ""
           },
           "baxis": {
            "gridcolor": "#DFE8F3",
            "linecolor": "#A2B1C6",
            "ticks": ""
           },
           "bgcolor": "white",
           "caxis": {
            "gridcolor": "#DFE8F3",
            "linecolor": "#A2B1C6",
            "ticks": ""
           }
          },
          "title": {
           "x": 0.05
          },
          "xaxis": {
           "automargin": true,
           "gridcolor": "#EBF0F8",
           "linecolor": "#EBF0F8",
           "ticks": "",
           "title": {
            "standoff": 15
           },
           "zerolinecolor": "#EBF0F8",
           "zerolinewidth": 2
          },
          "yaxis": {
           "automargin": true,
           "gridcolor": "#EBF0F8",
           "linecolor": "#EBF0F8",
           "ticks": "",
           "title": {
            "standoff": 15
           },
           "zerolinecolor": "#EBF0F8",
           "zerolinewidth": 2
          }
         }
        },
        "title": {
         "text": "Palabras Clave por Tópico - Cdmx"
        },
        "width": 1000,
        "xaxis": {
         "anchor": "y",
         "domain": [
          0,
          0.175
         ],
         "showgrid": true
        },
        "xaxis2": {
         "anchor": "y2",
         "domain": [
          0.275,
          0.45
         ],
         "showgrid": true
        },
        "xaxis3": {
         "anchor": "y3",
         "domain": [
          0.55,
          0.7250000000000001
         ],
         "showgrid": true
        },
        "xaxis4": {
         "anchor": "y4",
         "domain": [
          0.825,
          1
         ],
         "showgrid": true
        },
        "yaxis": {
         "anchor": "x",
         "domain": [
          0,
          1
         ],
         "showgrid": true
        },
        "yaxis2": {
         "anchor": "x2",
         "domain": [
          0,
          1
         ],
         "showgrid": true
        },
        "yaxis3": {
         "anchor": "x3",
         "domain": [
          0,
          1
         ],
         "showgrid": true
        },
        "yaxis4": {
         "anchor": "x4",
         "domain": [
          0,
          1
         ],
         "showgrid": true
        }
       }
      }
     },
     "metadata": {},
     "output_type": "display_data"
    },
    {
     "name": "stdout",
     "output_type": "stream",
     "text": [
      "\n",
      "🌳 Generando jerarquía de tópicos...\n"
     ]
    },
    {
     "data": {
      "application/vnd.plotly.v1+json": {
       "config": {
        "plotlyServerURL": "https://plot.ly"
       },
       "data": [
        {
         "hoverinfo": "text",
         "marker": {
          "color": "rgb(61,153,112)"
         },
         "mode": "lines",
         "type": "scatter",
         "x": {
          "bdata": "AAAAAAAAAAAqd8I9DlPaPyp3wj0OU9o/AAAAAAAAAAA=",
          "dtype": "f8"
         },
         "xaxis": "x",
         "y": {
          "bdata": "AAAAAAAALsAAAAAAAAAuwAAAAAAAADnAAAAAAAAAOcA=",
          "dtype": "f8"
         },
         "yaxis": "y"
        },
        {
         "hoverinfo": "text",
         "marker": {
          "color": "rgb(61,153,112)"
         },
         "mode": "lines",
         "type": "scatter",
         "x": {
          "bdata": "KnfCPQ5T2j9CA2f8YrLrP0IDZ/xisus/AAAAAAAAAAA=",
          "dtype": "f8"
         },
         "xaxis": "x",
         "y": {
          "bdata": "AAAAAAAANMAAAAAAAAA0wAAAAAAAgEHAAAAAAACAQcA=",
          "dtype": "f8"
         },
         "yaxis": "y"
        },
        {
         "hoverinfo": "text",
         "marker": {
          "color": "rgb(61,153,112)"
         },
         "mode": "lines",
         "type": "scatter",
         "x": {
          "bdata": "AAAAAAAAAAD0123d+nPvP/TXbd36c+8/QgNn/GKy6z8=",
          "dtype": "f8"
         },
         "xaxis": "x",
         "y": {
          "bdata": "AAAAAAAAFMAAAAAAAAAUwAAAAAAAgDvAAAAAAACAO8A=",
          "dtype": "f8"
         },
         "yaxis": "y"
        }
       ],
       "layout": {
        "autosize": false,
        "height": 260,
        "hoverlabel": {
         "bgcolor": "white",
         "font": {
          "family": "Rockwell",
          "size": 16
         }
        },
        "hovermode": "closest",
        "plot_bgcolor": "#ECEFF1",
        "showlegend": false,
        "template": {
         "data": {
          "bar": [
           {
            "error_x": {
             "color": "#2a3f5f"
            },
            "error_y": {
             "color": "#2a3f5f"
            },
            "marker": {
             "line": {
              "color": "white",
              "width": 0.5
             },
             "pattern": {
              "fillmode": "overlay",
              "size": 10,
              "solidity": 0.2
             }
            },
            "type": "bar"
           }
          ],
          "barpolar": [
           {
            "marker": {
             "line": {
              "color": "white",
              "width": 0.5
             },
             "pattern": {
              "fillmode": "overlay",
              "size": 10,
              "solidity": 0.2
             }
            },
            "type": "barpolar"
           }
          ],
          "carpet": [
           {
            "aaxis": {
             "endlinecolor": "#2a3f5f",
             "gridcolor": "#C8D4E3",
             "linecolor": "#C8D4E3",
             "minorgridcolor": "#C8D4E3",
             "startlinecolor": "#2a3f5f"
            },
            "baxis": {
             "endlinecolor": "#2a3f5f",
             "gridcolor": "#C8D4E3",
             "linecolor": "#C8D4E3",
             "minorgridcolor": "#C8D4E3",
             "startlinecolor": "#2a3f5f"
            },
            "type": "carpet"
           }
          ],
          "choropleth": [
           {
            "colorbar": {
             "outlinewidth": 0,
             "ticks": ""
            },
            "type": "choropleth"
           }
          ],
          "contour": [
           {
            "colorbar": {
             "outlinewidth": 0,
             "ticks": ""
            },
            "colorscale": [
             [
              0,
              "#0d0887"
             ],
             [
              0.1111111111111111,
              "#46039f"
             ],
             [
              0.2222222222222222,
              "#7201a8"
             ],
             [
              0.3333333333333333,
              "#9c179e"
             ],
             [
              0.4444444444444444,
              "#bd3786"
             ],
             [
              0.5555555555555556,
              "#d8576b"
             ],
             [
              0.6666666666666666,
              "#ed7953"
             ],
             [
              0.7777777777777778,
              "#fb9f3a"
             ],
             [
              0.8888888888888888,
              "#fdca26"
             ],
             [
              1,
              "#f0f921"
             ]
            ],
            "type": "contour"
           }
          ],
          "contourcarpet": [
           {
            "colorbar": {
             "outlinewidth": 0,
             "ticks": ""
            },
            "type": "contourcarpet"
           }
          ],
          "heatmap": [
           {
            "colorbar": {
             "outlinewidth": 0,
             "ticks": ""
            },
            "colorscale": [
             [
              0,
              "#0d0887"
             ],
             [
              0.1111111111111111,
              "#46039f"
             ],
             [
              0.2222222222222222,
              "#7201a8"
             ],
             [
              0.3333333333333333,
              "#9c179e"
             ],
             [
              0.4444444444444444,
              "#bd3786"
             ],
             [
              0.5555555555555556,
              "#d8576b"
             ],
             [
              0.6666666666666666,
              "#ed7953"
             ],
             [
              0.7777777777777778,
              "#fb9f3a"
             ],
             [
              0.8888888888888888,
              "#fdca26"
             ],
             [
              1,
              "#f0f921"
             ]
            ],
            "type": "heatmap"
           }
          ],
          "histogram": [
           {
            "marker": {
             "pattern": {
              "fillmode": "overlay",
              "size": 10,
              "solidity": 0.2
             }
            },
            "type": "histogram"
           }
          ],
          "histogram2d": [
           {
            "colorbar": {
             "outlinewidth": 0,
             "ticks": ""
            },
            "colorscale": [
             [
              0,
              "#0d0887"
             ],
             [
              0.1111111111111111,
              "#46039f"
             ],
             [
              0.2222222222222222,
              "#7201a8"
             ],
             [
              0.3333333333333333,
              "#9c179e"
             ],
             [
              0.4444444444444444,
              "#bd3786"
             ],
             [
              0.5555555555555556,
              "#d8576b"
             ],
             [
              0.6666666666666666,
              "#ed7953"
             ],
             [
              0.7777777777777778,
              "#fb9f3a"
             ],
             [
              0.8888888888888888,
              "#fdca26"
             ],
             [
              1,
              "#f0f921"
             ]
            ],
            "type": "histogram2d"
           }
          ],
          "histogram2dcontour": [
           {
            "colorbar": {
             "outlinewidth": 0,
             "ticks": ""
            },
            "colorscale": [
             [
              0,
              "#0d0887"
             ],
             [
              0.1111111111111111,
              "#46039f"
             ],
             [
              0.2222222222222222,
              "#7201a8"
             ],
             [
              0.3333333333333333,
              "#9c179e"
             ],
             [
              0.4444444444444444,
              "#bd3786"
             ],
             [
              0.5555555555555556,
              "#d8576b"
             ],
             [
              0.6666666666666666,
              "#ed7953"
             ],
             [
              0.7777777777777778,
              "#fb9f3a"
             ],
             [
              0.8888888888888888,
              "#fdca26"
             ],
             [
              1,
              "#f0f921"
             ]
            ],
            "type": "histogram2dcontour"
           }
          ],
          "mesh3d": [
           {
            "colorbar": {
             "outlinewidth": 0,
             "ticks": ""
            },
            "type": "mesh3d"
           }
          ],
          "parcoords": [
           {
            "line": {
             "colorbar": {
              "outlinewidth": 0,
              "ticks": ""
             }
            },
            "type": "parcoords"
           }
          ],
          "pie": [
           {
            "automargin": true,
            "type": "pie"
           }
          ],
          "scatter": [
           {
            "fillpattern": {
             "fillmode": "overlay",
             "size": 10,
             "solidity": 0.2
            },
            "type": "scatter"
           }
          ],
          "scatter3d": [
           {
            "line": {
             "colorbar": {
              "outlinewidth": 0,
              "ticks": ""
             }
            },
            "marker": {
             "colorbar": {
              "outlinewidth": 0,
              "ticks": ""
             }
            },
            "type": "scatter3d"
           }
          ],
          "scattercarpet": [
           {
            "marker": {
             "colorbar": {
              "outlinewidth": 0,
              "ticks": ""
             }
            },
            "type": "scattercarpet"
           }
          ],
          "scattergeo": [
           {
            "marker": {
             "colorbar": {
              "outlinewidth": 0,
              "ticks": ""
             }
            },
            "type": "scattergeo"
           }
          ],
          "scattergl": [
           {
            "marker": {
             "colorbar": {
              "outlinewidth": 0,
              "ticks": ""
             }
            },
            "type": "scattergl"
           }
          ],
          "scattermap": [
           {
            "marker": {
             "colorbar": {
              "outlinewidth": 0,
              "ticks": ""
             }
            },
            "type": "scattermap"
           }
          ],
          "scattermapbox": [
           {
            "marker": {
             "colorbar": {
              "outlinewidth": 0,
              "ticks": ""
             }
            },
            "type": "scattermapbox"
           }
          ],
          "scatterpolar": [
           {
            "marker": {
             "colorbar": {
              "outlinewidth": 0,
              "ticks": ""
             }
            },
            "type": "scatterpolar"
           }
          ],
          "scatterpolargl": [
           {
            "marker": {
             "colorbar": {
              "outlinewidth": 0,
              "ticks": ""
             }
            },
            "type": "scatterpolargl"
           }
          ],
          "scatterternary": [
           {
            "marker": {
             "colorbar": {
              "outlinewidth": 0,
              "ticks": ""
             }
            },
            "type": "scatterternary"
           }
          ],
          "surface": [
           {
            "colorbar": {
             "outlinewidth": 0,
             "ticks": ""
            },
            "colorscale": [
             [
              0,
              "#0d0887"
             ],
             [
              0.1111111111111111,
              "#46039f"
             ],
             [
              0.2222222222222222,
              "#7201a8"
             ],
             [
              0.3333333333333333,
              "#9c179e"
             ],
             [
              0.4444444444444444,
              "#bd3786"
             ],
             [
              0.5555555555555556,
              "#d8576b"
             ],
             [
              0.6666666666666666,
              "#ed7953"
             ],
             [
              0.7777777777777778,
              "#fb9f3a"
             ],
             [
              0.8888888888888888,
              "#fdca26"
             ],
             [
              1,
              "#f0f921"
             ]
            ],
            "type": "surface"
           }
          ],
          "table": [
           {
            "cells": {
             "fill": {
              "color": "#EBF0F8"
             },
             "line": {
              "color": "white"
             }
            },
            "header": {
             "fill": {
              "color": "#C8D4E3"
             },
             "line": {
              "color": "white"
             }
            },
            "type": "table"
           }
          ]
         },
         "layout": {
          "annotationdefaults": {
           "arrowcolor": "#2a3f5f",
           "arrowhead": 0,
           "arrowwidth": 1
          },
          "autotypenumbers": "strict",
          "coloraxis": {
           "colorbar": {
            "outlinewidth": 0,
            "ticks": ""
           }
          },
          "colorscale": {
           "diverging": [
            [
             0,
             "#8e0152"
            ],
            [
             0.1,
             "#c51b7d"
            ],
            [
             0.2,
             "#de77ae"
            ],
            [
             0.3,
             "#f1b6da"
            ],
            [
             0.4,
             "#fde0ef"
            ],
            [
             0.5,
             "#f7f7f7"
            ],
            [
             0.6,
             "#e6f5d0"
            ],
            [
             0.7,
             "#b8e186"
            ],
            [
             0.8,
             "#7fbc41"
            ],
            [
             0.9,
             "#4d9221"
            ],
            [
             1,
             "#276419"
            ]
           ],
           "sequential": [
            [
             0,
             "#0d0887"
            ],
            [
             0.1111111111111111,
             "#46039f"
            ],
            [
             0.2222222222222222,
             "#7201a8"
            ],
            [
             0.3333333333333333,
             "#9c179e"
            ],
            [
             0.4444444444444444,
             "#bd3786"
            ],
            [
             0.5555555555555556,
             "#d8576b"
            ],
            [
             0.6666666666666666,
             "#ed7953"
            ],
            [
             0.7777777777777778,
             "#fb9f3a"
            ],
            [
             0.8888888888888888,
             "#fdca26"
            ],
            [
             1,
             "#f0f921"
            ]
           ],
           "sequentialminus": [
            [
             0,
             "#0d0887"
            ],
            [
             0.1111111111111111,
             "#46039f"
            ],
            [
             0.2222222222222222,
             "#7201a8"
            ],
            [
             0.3333333333333333,
             "#9c179e"
            ],
            [
             0.4444444444444444,
             "#bd3786"
            ],
            [
             0.5555555555555556,
             "#d8576b"
            ],
            [
             0.6666666666666666,
             "#ed7953"
            ],
            [
             0.7777777777777778,
             "#fb9f3a"
            ],
            [
             0.8888888888888888,
             "#fdca26"
            ],
            [
             1,
             "#f0f921"
            ]
           ]
          },
          "colorway": [
           "#636efa",
           "#EF553B",
           "#00cc96",
           "#ab63fa",
           "#FFA15A",
           "#19d3f3",
           "#FF6692",
           "#B6E880",
           "#FF97FF",
           "#FECB52"
          ],
          "font": {
           "color": "#2a3f5f"
          },
          "geo": {
           "bgcolor": "white",
           "lakecolor": "white",
           "landcolor": "white",
           "showlakes": true,
           "showland": true,
           "subunitcolor": "#C8D4E3"
          },
          "hoverlabel": {
           "align": "left"
          },
          "hovermode": "closest",
          "mapbox": {
           "style": "light"
          },
          "paper_bgcolor": "white",
          "plot_bgcolor": "white",
          "polar": {
           "angularaxis": {
            "gridcolor": "#EBF0F8",
            "linecolor": "#EBF0F8",
            "ticks": ""
           },
           "bgcolor": "white",
           "radialaxis": {
            "gridcolor": "#EBF0F8",
            "linecolor": "#EBF0F8",
            "ticks": ""
           }
          },
          "scene": {
           "xaxis": {
            "backgroundcolor": "white",
            "gridcolor": "#DFE8F3",
            "gridwidth": 2,
            "linecolor": "#EBF0F8",
            "showbackground": true,
            "ticks": "",
            "zerolinecolor": "#EBF0F8"
           },
           "yaxis": {
            "backgroundcolor": "white",
            "gridcolor": "#DFE8F3",
            "gridwidth": 2,
            "linecolor": "#EBF0F8",
            "showbackground": true,
            "ticks": "",
            "zerolinecolor": "#EBF0F8"
           },
           "zaxis": {
            "backgroundcolor": "white",
            "gridcolor": "#DFE8F3",
            "gridwidth": 2,
            "linecolor": "#EBF0F8",
            "showbackground": true,
            "ticks": "",
            "zerolinecolor": "#EBF0F8"
           }
          },
          "shapedefaults": {
           "line": {
            "color": "#2a3f5f"
           }
          },
          "ternary": {
           "aaxis": {
            "gridcolor": "#DFE8F3",
            "linecolor": "#A2B1C6",
            "ticks": ""
           },
           "baxis": {
            "gridcolor": "#DFE8F3",
            "linecolor": "#A2B1C6",
            "ticks": ""
           },
           "bgcolor": "white",
           "caxis": {
            "gridcolor": "#DFE8F3",
            "linecolor": "#A2B1C6",
            "ticks": ""
           }
          },
          "title": {
           "x": 0.05
          },
          "xaxis": {
           "automargin": true,
           "gridcolor": "#EBF0F8",
           "linecolor": "#EBF0F8",
           "ticks": "",
           "title": {
            "standoff": 15
           },
           "zerolinecolor": "#EBF0F8",
           "zerolinewidth": 2
          },
          "yaxis": {
           "automargin": true,
           "gridcolor": "#EBF0F8",
           "linecolor": "#EBF0F8",
           "ticks": "",
           "title": {
            "standoff": 15
           },
           "zerolinecolor": "#EBF0F8",
           "zerolinewidth": 2
          }
         }
        },
        "title": {
         "text": "Jerarquía de Tópicos - Cdmx"
        },
        "width": 1000,
        "xaxis": {
         "mirror": "allticks",
         "rangemode": "tozero",
         "showgrid": false,
         "showline": true,
         "showticklabels": true,
         "ticks": "outside",
         "type": "linear",
         "zeroline": false
        },
        "yaxis": {
         "mirror": "allticks",
         "range": [
          -40,
          0
         ],
         "rangemode": "tozero",
         "showgrid": false,
         "showline": true,
         "showticklabels": true,
         "tickmode": "array",
         "ticks": "outside",
         "ticktext": [
          "2_animales_acuario_personal",
          "1_museum_arte_coleccion",
          "0_mexico_museum_arte",
          "3_basilica_guadalupe_virgen"
         ],
         "tickvals": [
          -5,
          -15,
          -25,
          -35
         ],
         "type": "linear",
         "zeroline": false
        }
       }
      }
     },
     "metadata": {},
     "output_type": "display_data"
    },
    {
     "name": "stdout",
     "output_type": "stream",
     "text": [
      "\n",
      "📋 Resumen del modelado:\n",
      "✅ Textos analizados: 489\n",
      "🎯 Tópicos encontrados: 4\n",
      "📊 Distribución:\n",
      "   1. Opiniones Diversas: 233 opiniones (47.6%)\n",
      "   2. Patrimonio Cultural: 82 opiniones (16.8%)\n",
      "   3. Museos: 70 opiniones (14.3%)\n",
      "   4. Vida Marina: 60 opiniones (12.3%)\n",
      "   5. Sitios Religiosos: 44 opiniones (9.0%)\n"
     ]
    }
   ],
   "source": [
    "# ===== VISUALIZACIONES INTERACTIVAS DE BERTOPIC =====\n",
    "\n",
    "print(f\"Visualizaciones interactivas de BERTopic para {CIUDAD_ANALIZAR}:\")\n",
    "print(f\"Tópicos identificados: {len(topic_info)} (incluyendo outliers si los hay)\")\n",
    "\n",
    "# Validar si tenemos suficientes tópicos para visualizaciones\n",
    "num_topicos_validos = len([t for t in topic_info['Topic'] if t != -1])\n",
    "print(f\"Tópicos válidos (sin outliers): {num_topicos_validos}\")\n",
    "\n",
    "if num_topicos_validos < 2:\n",
    "    print(\"⚠️ ADVERTENCIA: Muy pocos tópicos identificados para generar visualizaciones interactivas.\")\n",
    "    print(\"💡 Esto puede deberse a:\")\n",
    "    print(\"   - Textos muy similares después de la limpieza\")\n",
    "    print(\"   - Dataset pequeño para la ciudad seleccionada\")\n",
    "    print(\"   - Parámetros de clustering muy restrictivos\")\n",
    "    print(\"\\n📊 Mostrando información básica de tópicos:\")\n",
    "    for topic_id in topic_info['Topic']:\n",
    "        if topic_id != -1:\n",
    "            topic_words = topic_model.get_topic(topic_id)\n",
    "            print(f\"\\nTópico {topic_id}: {topic_names.get(topic_id, 'Sin nombre')}\")\n",
    "            print(f\"Palabras clave: {', '.join([word for word, _ in topic_words[:8]])}\")\n",
    "            print(f\"Documentos: {topic_info[topic_info['Topic'] == topic_id]['Count'].iloc[0]}\")\n",
    "else:\n",
    "    # Intentar generar visualizaciones con manejo de errores\n",
    "    try:\n",
    "        print(\"\\n🗺️ Generando mapa de tópicos...\")\n",
    "        fig_intertopic = topic_model.visualize_topics()\n",
    "        fig_intertopic.update_layout(title=f\"Mapa de Tópicos - {CIUDAD_ANALIZAR}\")\n",
    "        fig_intertopic.show()\n",
    "    except Exception as e:\n",
    "        print(f\"❌ Error al generar mapa de tópicos: {str(e)}\")\n",
    "        print(\"💡 Esto es normal con pocos tópicos o datos limitados\")\n",
    "\n",
    "    try:\n",
    "        print(\"\\n📊 Generando gráfico de barras...\")\n",
    "        fig_barchart = topic_model.visualize_barchart(top_n_topics=min(8, num_topicos_validos))\n",
    "        fig_barchart.update_layout(title=f\"Palabras Clave por Tópico - {CIUDAD_ANALIZAR}\")\n",
    "        fig_barchart.show()\n",
    "    except Exception as e:\n",
    "        print(f\"❌ Error al generar gráfico de barras: {str(e)}\")\n",
    "        print(\"🔧 Mostrando información alternativa de palabras clave:\")\n",
    "        for topic_id in topic_info['Topic'][:5]:  # Mostrar máximo 5 tópicos\n",
    "            if topic_id != -1:\n",
    "                topic_words = topic_model.get_topic(topic_id)\n",
    "                print(f\"\\n📈 {topic_names.get(topic_id, f'Tópico {topic_id}')}:\")\n",
    "                print(f\"   {', '.join([f'{word}({score:.3f})' for word, score in topic_words[:5]])}\")\n",
    "\n",
    "    try:\n",
    "        print(\"\\n🌳 Generando jerarquía de tópicos...\")\n",
    "        if num_topicos_validos >= 3:  # Necesitamos al menos 3 tópicos para jerarquía\n",
    "            fig_hierarchy = topic_model.visualize_hierarchy()\n",
    "            fig_hierarchy.update_layout(title=f\"Jerarquía de Tópicos - {CIUDAD_ANALIZAR}\")\n",
    "            fig_hierarchy.show()\n",
    "        else:\n",
    "            print(\"⚠️ Se necesitan al menos 3 tópicos para mostrar jerarquía\")\n",
    "    except Exception as e:\n",
    "        print(f\"❌ Error al generar jerarquía: {str(e)}\")\n",
    "\n",
    "# Información adicional sobre la calidad del modelado\n",
    "print(f\"\\n📋 Resumen del modelado:\")\n",
    "print(f\"✅ Textos analizados: {len(texts)}\")\n",
    "print(f\"🎯 Tópicos encontrados: {num_topicos_validos}\")\n",
    "print(f\"📊 Distribución:\")\n",
    "for i, (topico, count) in enumerate(topico_counts.head(5).items()):\n",
    "    print(f\"   {i+1}. {topico}: {count} opiniones ({count/len(df_con_topicos)*100:.1f}%)\")\n",
    "\n",
    "if num_topicos_validos <= 3:\n",
    "    print(f\"\\n💡 Sugerencias para mejorar el modelado:\")\n",
    "    print(f\"   - Reducir min_cluster_size en HDBSCAN (actualmente: {hdbscan_model.min_cluster_size})\")\n",
    "    print(f\"   - Incluir más ciudades en el análisis\")\n",
    "    print(f\"   - Ajustar parámetros de limpieza de texto\")\n",
    "    print(f\"   - Verificar diversidad en los textos de entrada\")"
   ]
  },
  {
   "cell_type": "code",
   "execution_count": 13,
   "id": "78cc3d64",
   "metadata": {},
   "outputs": [
    {
     "name": "stdout",
     "output_type": "stream",
     "text": [
      "💾 Guardando dataset actualizado...\n",
      "✅ Dataset actualizado y guardado:\n",
      "📁 Archivo: ../data/processed/dataset_opiniones_analisis.csv\n",
      "📊 Total opiniones: 2457\n",
      "🎯 Ciudad analizada: Cdmx\n",
      "✅ Opiniones con tópico: 489\n",
      "⏳ Opiniones pendientes: 1968\n",
      "\n",
      "📈 Estadísticas de Cdmx:\n",
      "Tópicos identificados: 5\n",
      "Opiniones analizadas: 489\n",
      "Probabilidad promedio: 0.548\n",
      "\n",
      "🧹 Información de limpieza de texto:\n",
      "📝 Columna de texto limpio: TituloReviewLimpio\n",
      "🔧 Método utilizado: TituloReviewLimpio\n",
      "✅ Textos limpios disponibles: 2457\n",
      "📊 Promedio palabras (texto limpio): 57.0\n",
      "\n",
      "🔄 Para analizar otra ciudad:\n",
      "1. Cambia la variable CIUDAD_ANALIZAR en la celda correspondiente\n",
      "2. Ejecuta nuevamente las celdas de análisis\n",
      "📍 Ciudades disponibles: ['Mazatlan', 'Cancun', 'Puebla', 'Puerto_vallarta', 'Cdmx']\n",
      "⚠️ IMPORTANTE: Los resultados previos se SOBRESCRIBEN automáticamente\n",
      "\n",
      "💡 Mejoras implementadas:\n",
      "✅ Limpieza profunda de texto con spaCy\n",
      "✅ Lematización adecuada para español\n",
      "✅ Eliminación de stopwords en español e inglés\n",
      "✅ Eliminación de emojis, URLs y caracteres especiales\n",
      "✅ Nueva columna TituloReviewLimpio agregada al dataset\n",
      "✅ Sobrescritura automática de resultados para ciudades repetidas\n"
     ]
    }
   ],
   "source": [
    "# Guardar dataset original con la nueva columna TopicoConBERTopic\n",
    "print(\"💾 Guardando dataset actualizado...\")\n",
    "df.to_csv('../data/processed/dataset_opiniones_analisis.csv', index=False)\n",
    "\n",
    "print(\"✅ Dataset actualizado y guardado:\")\n",
    "print(f\"📁 Archivo: ../data/processed/dataset_opiniones_analisis.csv\")\n",
    "print(f\"📊 Total opiniones: {len(df)}\")\n",
    "print(f\"🎯 Ciudad analizada: {CIUDAD_ANALIZAR}\")\n",
    "print(f\"✅ Opiniones con tópico: {df['TopicoConBERTopic'].notna().sum()}\")\n",
    "print(f\"⏳ Opiniones pendientes: {df['TopicoConBERTopic'].isna().sum()}\")\n",
    "\n",
    "print(f\"\\n📈 Estadísticas de {CIUDAD_ANALIZAR}:\")\n",
    "print(f\"Tópicos identificados: {len(topico_counts)}\")\n",
    "print(f\"Opiniones analizadas: {len(df_con_topicos)}\")\n",
    "print(f\"Probabilidad promedio: {df_con_topicos['Probabilidad_Topico'].mean():.3f}\")\n",
    "\n",
    "# Información sobre limpieza de texto\n",
    "if 'TituloReviewLimpio' in df.columns:\n",
    "    print(f\"\\n🧹 Información de limpieza de texto:\")\n",
    "    print(f\"📝 Columna de texto limpio: TituloReviewLimpio\")\n",
    "    print(f\"🔧 Método utilizado: {columna_texto}\")\n",
    "    textos_limpios_total = df['TituloReviewLimpio'].notna().sum()\n",
    "    print(f\"✅ Textos limpios disponibles: {textos_limpios_total}\")\n",
    "    \n",
    "    if textos_limpios_total > 0:\n",
    "        # Calcular estadísticas de mejora\n",
    "        palabras_promedio_limpio = df['TituloReviewLimpio'].dropna().str.split().str.len().mean()\n",
    "        print(f\"📊 Promedio palabras (texto limpio): {palabras_promedio_limpio:.1f}\")\n",
    "\n",
    "print(f\"\\n🔄 Para analizar otra ciudad:\")\n",
    "print(f\"1. Cambia la variable CIUDAD_ANALIZAR en la celda correspondiente\")\n",
    "print(f\"2. Ejecuta nuevamente las celdas de análisis\")\n",
    "print(f\"📍 Ciudades disponibles: {list(df['Ciudad'].unique())}\")\n",
    "print(f\"⚠️ IMPORTANTE: Los resultados previos se SOBRESCRIBEN automáticamente\")\n",
    "\n",
    "print(f\"\\n💡 Mejoras implementadas:\")\n",
    "print(f\"✅ Limpieza profunda de texto con spaCy\")\n",
    "print(f\"✅ Lematización adecuada para español\")\n",
    "print(f\"✅ Eliminación de stopwords en español e inglés\")\n",
    "print(f\"✅ Eliminación de emojis, URLs y caracteres especiales\")\n",
    "print(f\"✅ Nueva columna TituloReviewLimpio agregada al dataset\")\n",
    "print(f\"✅ Sobrescritura automática de resultados para ciudades repetidas\")"
   ]
  },
  {
   "cell_type": "code",
   "execution_count": 14,
   "id": "6af83d70",
   "metadata": {},
   "outputs": [
    {
     "name": "stdout",
     "output_type": "stream",
     "text": [
      "🔬 Evaluando modelo BERTopic para Cdmx...\n"
     ]
    },
    {
     "name": "stdout",
     "output_type": "stream",
     "text": [
      "📊 Evaluación BERTopic - Cdmx:\n",
      "   🎯 Tópicos: 4\n",
      "   📈 Coherencia CV: 0.3349\n",
      "   🔄 Diversidad: 0.9000\n"
     ]
    }
   ],
   "source": [
    "# ===== EVALUACIÓN DE MÉTRICAS BERTOPIC =====\n",
    "\n",
    "print(f\"🔬 Evaluando modelo BERTopic para {CIUDAD_ANALIZAR}...\")\n",
    "\n",
    "topics_words_bertopic = extraer_palabras_bertopic(topic_model, words_per_topic=10)\n",
    "metricas_bertopic = evaluar_modelo_topicos(texts, topics_words_bertopic, f\"BERTopic - {CIUDAD_ANALIZAR}\")\n",
    "\n",
    "mostrar_metricas(metricas_bertopic)"
   ]
  }
 ],
 "metadata": {
  "kernelspec": {
   "display_name": "analisis-automatizado-de-opiniones-turisticas",
   "language": "python",
   "name": "python3"
  },
  "language_info": {
   "codemirror_mode": {
    "name": "ipython",
    "version": 3
   },
   "file_extension": ".py",
   "mimetype": "text/x-python",
   "name": "python",
   "nbconvert_exporter": "python",
   "pygments_lexer": "ipython3",
   "version": "3.10.18"
  }
 },
 "nbformat": 4,
 "nbformat_minor": 5
}
