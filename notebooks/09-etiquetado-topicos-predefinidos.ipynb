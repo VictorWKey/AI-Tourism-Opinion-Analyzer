{
 "cells": [
  {
   "cell_type": "markdown",
   "id": "5ff56301",
   "metadata": {},
   "source": [
    "# Etiquetado de Tópicos Predefinidos con LLM Multi-Etiqueta\n",
    "\n",
    "Este notebook implementa un sistema de clasificación multi-etiqueta para reseñas turísticas utilizando un LLM con salida estructurada. El objetivo es etiquetar cada reseña con categorías predefinidas para posteriormente entrenar modelos BERT o similares."
   ]
  },
  {
   "cell_type": "markdown",
   "id": "ca1d22ee",
   "metadata": {},
   "source": [
    "## Import Required Libraries"
   ]
  },
  {
   "cell_type": "code",
   "execution_count": null,
   "id": "0e54573f",
   "metadata": {},
   "outputs": [],
   "source": [
    "import pandas as pd\n",
    "from typing import List\n",
    "from pydantic import BaseModel, Field, validator\n",
    "from langchain_openai import ChatOpenAI\n",
    "from langchain_core.output_parsers import PydanticOutputParser\n",
    "from langchain_core.prompts import PromptTemplate\n",
    "import time\n",
    "import os"
   ]
  },
  {
   "cell_type": "markdown",
   "id": "6d2db13e",
   "metadata": {},
   "source": [
    "## Setup LLM and Pydantic Models"
   ]
  },
  {
   "cell_type": "code",
   "execution_count": null,
   "id": "2a7f7920",
   "metadata": {},
   "outputs": [],
   "source": [
    "class MultiLabelOutput(BaseModel):\n",
    "    labels: List[int] = Field(..., description=\"Lista de números de categorías aplicables (0-14)\")\n",
    "    \n",
    "    @validator('labels')\n",
    "    def validate_labels(cls, v):\n",
    "        valid_labels = set(range(15))\n",
    "        \n",
    "        if not all(label in valid_labels for label in v):\n",
    "            raise ValueError(\"Todas las etiquetas deben estar entre 0 y 14\")\n",
    "        \n",
    "        if 14 in v and len(v) > 1:\n",
    "            raise ValueError(\"La categoría 14 (Otros) solo puede aparecer sola\")\n",
    "        \n",
    "        return sorted(list(set(v)))\n",
    "\n",
    "llm = ChatOpenAI(\n",
    "    model=\"gpt-4o-mini\",\n",
    "    temperature=0\n",
    ")\n",
    "\n",
    "parser = PydanticOutputParser(pydantic_object=MultiLabelOutput)"
   ]
  },
  {
   "cell_type": "markdown",
   "id": "7c8483d7",
   "metadata": {},
   "source": [
    "## Load and Prepare Dataset"
   ]
  },
  {
   "cell_type": "code",
   "execution_count": null,
   "id": "9328f475",
   "metadata": {},
   "outputs": [],
   "source": [
    "df = pd.read_csv('../data/processed/dataset_opiniones_analisis.csv')\n",
    "\n",
    "print(f\"Dataset cargado: {len(df)} reseñas\")\n",
    "print(f\"Primeras columnas: {list(df.columns[:5])}\")\n",
    "print(f\"Ejemplo de TituloReview: {df['TituloReview'].iloc[0][:100]}...\")\n",
    "\n",
    "df_sample = df.copy()"
   ]
  },
  {
   "cell_type": "markdown",
   "id": "9e26289c",
   "metadata": {},
   "source": [
    "## Create Classification Prompt"
   ]
  },
  {
   "cell_type": "code",
   "execution_count": null,
   "id": "e410cbac",
   "metadata": {},
   "outputs": [],
   "source": [
    "prompt_template = \"\"\"\n",
    "Eres un experto en el sector turístico y en etiquetado de datos. Tu tarea es clasificar reseñas turísticas en categorías predefinidas usando etiquetado multi-etiqueta.\n",
    "\n",
    "CATEGORÍAS DISPONIBLES:\n",
    "0. Alojamiento - Hoteles, resorts, hospedaje, habitaciones, servicios de hotel\n",
    "1. Gastronomía - Comida, restaurantes, bebidas, experiencias culinarias\n",
    "2. Transporte - Medios de transporte, taxis, autobuses, pulmonías, accesibilidad\n",
    "3. Eventos y festivales - Carnaval, festivales, eventos especiales, espectáculos\n",
    "4. Historia y cultura - Patrimonio histórico, museos, cultura local, tradiciones\n",
    "5. Compras - Tiendas, mercados, artesanías, vendedores ambulantes\n",
    "6. Deportes y aventura - Actividades deportivas, aventura, clavadistas\n",
    "7. Vida nocturna - Bares, entretenimiento nocturno, ambiente festivo\n",
    "8. Naturaleza y actividades al aire libre - Paseos, caminatas, actividades en exteriores\n",
    "9. Playas y actividades acuáticas - Playas, océano, actividades marítimas, natación\n",
    "10. Personal y servicio - Atención al cliente, amabilidad del personal, servicios\n",
    "11. Seguridad - Aspectos de seguridad, criminalidad, protección\n",
    "12. Costo/Precio - Precios, valor por dinero, costos, presupuesto\n",
    "13. Ambiente/entorno - Ambiente general, atmósfera, limpieza, ruido\n",
    "14. Otros - Solo usar cuando NINGUNA de las categorías anteriores aplique\n",
    "\n",
    "INSTRUCCIONES:\n",
    "- Cada reseña puede tener MÚLTIPLES etiquetas donde sea apropiado\n",
    "- La categoría 14 (Otros) SOLO puede ser elegida si NINGUNA otra categoría es aplicable\n",
    "- Si eliges la categoría 14, NO puedes elegir ninguna otra\n",
    "- Devuelve SOLO los números de las categorías como lista: [0, 1, 5]\n",
    "- Si realmente no encuentras ninguna categoría aplicable, puedes usar [14]\n",
    "\n",
    "RESEÑA A CLASIFICAR:\n",
    "{review_text}\n",
    "\n",
    "{format_instructions}\n",
    "\"\"\"\n",
    "\n",
    "prompt = PromptTemplate(\n",
    "    template=prompt_template,\n",
    "    input_variables=[\"review_text\"],\n",
    "    partial_variables={\"format_instructions\": parser.get_format_instructions()}\n",
    ")\n",
    "\n",
    "chain = prompt | llm | parser"
   ]
  },
  {
   "cell_type": "markdown",
   "id": "da503170",
   "metadata": {},
   "source": [
    "## Implement Batch Processing Function"
   ]
  },
  {
   "cell_type": "code",
   "execution_count": null,
   "id": "80d5a35d",
   "metadata": {},
   "outputs": [],
   "source": [
    "def classify_review(review_text):\n",
    "    try:\n",
    "        result = chain.invoke({\"review_text\": review_text})\n",
    "        return result.labels\n",
    "    except Exception as e:\n",
    "        print(f\"Error procesando reseña: {str(e)[:100]}\")\n",
    "        return [14]\n",
    "\n",
    "def process_reviews_batch(df, start_idx=0, batch_size=50):\n",
    "    results = []\n",
    "    total = len(df)\n",
    "    \n",
    "    for i in range(start_idx, total):\n",
    "        if i % batch_size == 0:\n",
    "            print(f\"Procesando {i}/{total} reseñas...\")\n",
    "        \n",
    "        review = df.iloc[i]['TituloReview']\n",
    "        labels = classify_review(review)\n",
    "        results.append(labels)\n",
    "        \n",
    "        time.sleep(0.5)\n",
    "    \n",
    "    return results"
   ]
  },
  {
   "cell_type": "markdown",
   "id": "fcaf8016",
   "metadata": {},
   "source": [
    "## Process Dataset Reviews"
   ]
  },
  {
   "cell_type": "code",
   "execution_count": null,
   "id": "5942d59c",
   "metadata": {},
   "outputs": [],
   "source": [
    "print(\"Clasificando primeras 5 reseñas como prueba...\")\n",
    "test_labels = []\n",
    "for i in range(5):\n",
    "    review = df_sample.iloc[i]['TituloReview']\n",
    "    labels = classify_review(review)\n",
    "    test_labels.append(labels)\n",
    "    print(f\"Reseña {i+1}: {review[:50]}... -> {labels}\")\n",
    "    time.sleep(1)\n",
    "\n",
    "print(\"\\nProcesando todo el dataset...\")\n",
    "all_labels = process_reviews_batch(df_sample)\n",
    "\n",
    "df_sample['EtiquetasMultiples'] = all_labels\n",
    "\n",
    "category_names = [\n",
    "    'Alojamiento', 'Gastronomía', 'Transporte', 'Eventos y festivales', \n",
    "    'Historia y cultura', 'Compras', 'Deportes y aventura', 'Vida nocturna',\n",
    "    'Naturaleza y actividades al aire libre', 'Playas y actividades acuáticas',\n",
    "    'Personal y servicio', 'Seguridad', 'Costo/Precio', 'Ambiente/entorno', 'Otros'\n",
    "]\n",
    "\n",
    "for i, category in enumerate(category_names):\n",
    "    df_sample[f'Categoria_{i}_{category.replace(\" \", \"_\").replace(\"/\", \"_\")}'] = df_sample['EtiquetasMultiples'].apply(lambda x: 1 if i in x else 0)"
   ]
  },
  {
   "cell_type": "markdown",
   "id": "f5aea5ac",
   "metadata": {},
   "source": [
    "## Save Results"
   ]
  },
  {
   "cell_type": "code",
   "execution_count": null,
   "id": "b1ddf194",
   "metadata": {},
   "outputs": [],
   "source": [
    "output_path = '../data/processed/dataset_opiniones_etiquetado_multietiqueta.csv'\n",
    "df_sample.to_csv(output_path, index=False)\n",
    "\n",
    "print(f\"Dataset etiquetado guardado en: {output_path}\")\n",
    "print(f\"Total de reseñas procesadas: {len(df_sample)}\")\n",
    "\n",
    "label_counts = {}\n",
    "for labels_list in df_sample['EtiquetasMultiples']:\n",
    "    for label in labels_list:\n",
    "        label_counts[label] = label_counts.get(label, 0) + 1\n",
    "\n",
    "print(\"\\nDistribución de etiquetas:\")\n",
    "for i, count in sorted(label_counts.items()):\n",
    "    category_name = category_names[i]\n",
    "    print(f\"{i}: {category_name} -> {count} reseñas\")\n",
    "\n",
    "multi_label_count = sum(1 for labels in df_sample['EtiquetasMultiples'] if len(labels) > 1)\n",
    "print(f\"\\nReseñas con múltiples etiquetas: {multi_label_count}/{len(df_sample)} ({multi_label_count/len(df_sample)*100:.1f}%)\")\n",
    "\n",
    "sample_multi = df_sample[df_sample['EtiquetasMultiples'].apply(len) > 1].head(3)\n",
    "print(\"\\nEjemplos de reseñas multi-etiqueta:\")\n",
    "for idx, row in sample_multi.iterrows():\n",
    "    print(f\"'{row['TituloReview'][:60]}...' -> {row['EtiquetasMultiples']}\")"
   ]
  }
 ],
 "metadata": {
  "language_info": {
   "name": "python"
  }
 },
 "nbformat": 4,
 "nbformat_minor": 5
}
